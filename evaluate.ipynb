{
 "cells": [
  {
   "cell_type": "code",
   "execution_count": 1,
   "metadata": {},
   "outputs": [
    {
     "name": "stdout",
     "output_type": "stream",
     "text": [
      "Loaded 2368 samples from 2570 songs\n"
     ]
    }
   ],
   "source": [
    "%load_ext autoreload\n",
    "%autoreload 2\n",
    "import torch\n",
    "\n",
    "from pianogen.dataset.pianorolldataset import PianoRollDataset\n",
    "from pianogen.dataset.tokenized import TokenizedPianoRollDataset\n",
    "from pianogen.tokenizer import PianoRollTokenizer\n",
    "from torch.utils.data import DataLoader\n",
    "from pianogen.model.model import SelectiveAttnTransformer\n",
    "\n",
    "pr_ds = PianoRollDataset(r'W:\\music\\music-data-analysis\\data', max_duration=32*150) # 150 bars\n",
    "tokenizer = PianoRollTokenizer(n_pitch=88, n_velocity=32, token_seq_len=10240+1)\n",
    "ds = TokenizedPianoRollDataset(pr_ds, tokenizer)\n",
    "dl = DataLoader(ds,batch_size=8, shuffle=True, num_workers=8)\n",
    "\n",
    "\n",
    "model = SelectiveAttnTransformer(len(tokenizer.vocab),128,256)\n",
    "model.set_downsampled_path_enabled(True)\n",
    "from_epoch = 10\n",
    "checkpoint = torch.load(f'checkpoint/{from_epoch}.pt')\n",
    "model.load_state_dict(checkpoint['model'])\n",
    "model = model.cuda()"
   ]
  },
  {
   "cell_type": "code",
   "execution_count": 2,
   "metadata": {},
   "outputs": [
    {
     "data": {
      "text/plain": [
       "SelectiveAttnTransformer(\n",
       "  (token_embedding): Embedding(124, 256)\n",
       "  (binary_pos_encoding): BinaryPositionalEncoding()\n",
       "  (sinusoidal_pos_encoding): SinusoidalPositionalEncoding()\n",
       "  (in_local_attention): Sequential(\n",
       "    (0): LMHATransformerBlock(\n",
       "      (attn): LocalMultiHeadAttention(\n",
       "        (to_qkv): Linear(in_features=256, out_features=768, bias=False)\n",
       "        (local_attn): LocalAttention(\n",
       "          (dropout): Dropout(p=0.1, inplace=False)\n",
       "          (rel_pos): SinusoidalEmbeddings()\n",
       "        )\n",
       "      )\n",
       "      (ff): Sequential(\n",
       "        (0): Linear(in_features=256, out_features=1024, bias=True)\n",
       "        (1): LeakyReLU(negative_slope=0.01)\n",
       "        (2): Linear(in_features=1024, out_features=256, bias=True)\n",
       "      )\n",
       "      (norm1): LayerNorm((256,), eps=1e-05, elementwise_affine=True)\n",
       "      (norm2): LayerNorm((256,), eps=1e-05, elementwise_affine=True)\n",
       "      (dropout): Dropout(p=0.1, inplace=False)\n",
       "    )\n",
       "    (1): LMHATransformerBlock(\n",
       "      (attn): LocalMultiHeadAttention(\n",
       "        (to_qkv): Linear(in_features=256, out_features=768, bias=False)\n",
       "        (local_attn): LocalAttention(\n",
       "          (dropout): Dropout(p=0.1, inplace=False)\n",
       "          (rel_pos): SinusoidalEmbeddings()\n",
       "        )\n",
       "      )\n",
       "      (ff): Sequential(\n",
       "        (0): Linear(in_features=256, out_features=1024, bias=True)\n",
       "        (1): LeakyReLU(negative_slope=0.01)\n",
       "        (2): Linear(in_features=1024, out_features=256, bias=True)\n",
       "      )\n",
       "      (norm1): LayerNorm((256,), eps=1e-05, elementwise_affine=True)\n",
       "      (norm2): LayerNorm((256,), eps=1e-05, elementwise_affine=True)\n",
       "      (dropout): Dropout(p=0.1, inplace=False)\n",
       "    )\n",
       "  )\n",
       "  (downsample): AvgPool1d(kernel_size=(128,), stride=(128,), padding=(0,))\n",
       "  (transformer): TransformerEncoder(\n",
       "    (layers): ModuleList(\n",
       "      (0-3): 4 x TransformerEncoderLayer(\n",
       "        (self_attn): MultiheadAttention(\n",
       "          (out_proj): NonDynamicallyQuantizableLinear(in_features=256, out_features=256, bias=True)\n",
       "        )\n",
       "        (linear1): Linear(in_features=256, out_features=1024, bias=True)\n",
       "        (dropout): Dropout(p=0.1, inplace=False)\n",
       "        (linear2): Linear(in_features=1024, out_features=256, bias=True)\n",
       "        (norm1): LayerNorm((256,), eps=1e-05, elementwise_affine=True)\n",
       "        (norm2): LayerNorm((256,), eps=1e-05, elementwise_affine=True)\n",
       "        (dropout1): Dropout(p=0.1, inplace=False)\n",
       "        (dropout2): Dropout(p=0.1, inplace=False)\n",
       "      )\n",
       "    )\n",
       "  )\n",
       "  (upsample): Upsample(scale_factor=128.0, mode='nearest')\n",
       "  (out_local_attention): Sequential(\n",
       "    (0): LMHATransformerBlock(\n",
       "      (attn): LocalMultiHeadAttention(\n",
       "        (to_qkv): Linear(in_features=256, out_features=768, bias=False)\n",
       "        (local_attn): LocalAttention(\n",
       "          (dropout): Dropout(p=0.1, inplace=False)\n",
       "          (rel_pos): SinusoidalEmbeddings()\n",
       "        )\n",
       "      )\n",
       "      (ff): Sequential(\n",
       "        (0): Linear(in_features=256, out_features=1024, bias=True)\n",
       "        (1): LeakyReLU(negative_slope=0.01)\n",
       "        (2): Linear(in_features=1024, out_features=256, bias=True)\n",
       "      )\n",
       "      (norm1): LayerNorm((256,), eps=1e-05, elementwise_affine=True)\n",
       "      (norm2): LayerNorm((256,), eps=1e-05, elementwise_affine=True)\n",
       "      (dropout): Dropout(p=0.1, inplace=False)\n",
       "    )\n",
       "    (1): LMHATransformerBlock(\n",
       "      (attn): LocalMultiHeadAttention(\n",
       "        (to_qkv): Linear(in_features=256, out_features=768, bias=False)\n",
       "        (local_attn): LocalAttention(\n",
       "          (dropout): Dropout(p=0.1, inplace=False)\n",
       "          (rel_pos): SinusoidalEmbeddings()\n",
       "        )\n",
       "      )\n",
       "      (ff): Sequential(\n",
       "        (0): Linear(in_features=256, out_features=1024, bias=True)\n",
       "        (1): LeakyReLU(negative_slope=0.01)\n",
       "        (2): Linear(in_features=1024, out_features=256, bias=True)\n",
       "      )\n",
       "      (norm1): LayerNorm((256,), eps=1e-05, elementwise_affine=True)\n",
       "      (norm2): LayerNorm((256,), eps=1e-05, elementwise_affine=True)\n",
       "      (dropout): Dropout(p=0.1, inplace=False)\n",
       "    )\n",
       "  )\n",
       "  (out_linear): Linear(in_features=256, out_features=124, bias=True)\n",
       ")"
      ]
     },
     "execution_count": 2,
     "metadata": {},
     "output_type": "execute_result"
    }
   ],
   "source": [
    "model"
   ]
  },
  {
   "cell_type": "code",
   "execution_count": 16,
   "metadata": {},
   "outputs": [
    {
     "name": "stdout",
     "output_type": "stream",
     "text": [
      "None\n",
      "None\n"
     ]
    }
   ],
   "source": [
    "import matplotlib.pyplot as plt\n",
    "song_id = 46\n",
    "model.eval()\n",
    "out = model(ds[song_id]['indices'][:-1].unsqueeze(0).cuda(),ds[song_id]['pos'].unsqueeze(0).cuda())"
   ]
  },
  {
   "cell_type": "code",
   "execution_count": 3,
   "metadata": {},
   "outputs": [
    {
     "name": "stdout",
     "output_type": "stream",
     "text": [
      "None\n"
     ]
    }
   ],
   "source": [
    "tokens = tokenizer.tokenize(pr_ds.get_piano_roll(song_id))\n",
    "bar_to_pos = [0]\n",
    "frame_in_bar = 0\n",
    "for i in range(1,len(tokens)):\n",
    "    if tokens[i]['type'] == 'next_frame':\n",
    "        frame_in_bar += 1\n",
    "        if frame_in_bar == 32:\n",
    "            bar_to_pos.append(i+1)\n",
    "            frame_in_bar = 0"
   ]
  },
  {
   "cell_type": "code",
   "execution_count": 15,
   "metadata": {},
   "outputs": [
    {
     "name": "stdout",
     "output_type": "stream",
     "text": [
      "None\n"
     ]
    },
    {
     "name": "stderr",
     "output_type": "stream",
     "text": [
      "C:\\Users\\User\\AppData\\Local\\Temp\\ipykernel_792\\2658727771.py:2: UserWarning: Implicit dimension choice for softmax has been deprecated. Change the call to include dim=X as an argument.\n",
      "  plt.imshow((F.softmax(out.squeeze()+(ds[song_id]['output_mask'].cuda())))[bar_to_pos[25]:bar_to_pos[26]].cpu().detach().t().numpy(),aspect='auto',interpolation='none')\n"
     ]
    },
    {
     "data": {
      "text/plain": [
       "<matplotlib.image.AxesImage at 0x214cb63c110>"
      ]
     },
     "execution_count": 15,
     "metadata": {},
     "output_type": "execute_result"
    },
    {
     "data": {
      "image/png": "[encoded data removed]",
      "text/plain": [
       "<Figure size 640x480 with 1 Axes>"
      ]
     },
     "metadata": {},
     "output_type": "display_data"
    }
   ],
   "source": [
    "import torch.nn.functional as F\n",
    "plt.imshow((F.softmax(out.squeeze()+(ds[song_id]['output_mask'].cuda())))[bar_to_pos[25]:bar_to_pos[26]].cpu().detach().t().numpy(),aspect='auto',interpolation='none')"
   ]
  },
  {
   "cell_type": "code",
   "execution_count": 17,
   "metadata": {},
   "outputs": [
    {
     "name": "stdout",
     "output_type": "stream",
     "text": [
      "None\n"
     ]
    },
    {
     "name": "stderr",
     "output_type": "stream",
     "text": [
      "C:\\Users\\User\\AppData\\Local\\Temp\\ipykernel_792\\2658727771.py:2: UserWarning: Implicit dimension choice for softmax has been deprecated. Change the call to include dim=X as an argument.\n",
      "  plt.imshow((F.softmax(out.squeeze()+(ds[song_id]['output_mask'].cuda())))[bar_to_pos[25]:bar_to_pos[26]].cpu().detach().t().numpy(),aspect='auto',interpolation='none')\n"
     ]
    },
    {
     "data": {
      "text/plain": [
       "<matplotlib.image.AxesImage at 0x2152ff41d10>"
      ]
     },
     "execution_count": 17,
     "metadata": {},
     "output_type": "execute_result"
    },
    {
     "data": {
      "image/png": "[encoded data removed]",
      "text/plain": [
       "<Figure size 640x480 with 1 Axes>"
      ]
     },
     "metadata": {},
     "output_type": "display_data"
    }
   ],
   "source": [
    "import torch.nn.functional as F\n",
    "plt.imshow((F.softmax(out.squeeze()+(ds[song_id]['output_mask'].cuda())))[bar_to_pos[25]:bar_to_pos[26]].cpu().detach().t().numpy(),aspect='auto',interpolation='none')"
   ]
  },
  {
   "cell_type": "code",
   "execution_count": 39,
   "metadata": {},
   "outputs": [
    {
     "name": "stdout",
     "output_type": "stream",
     "text": [
      "None\n",
      "None\n"
     ]
    }
   ],
   "source": [
    "model.set_downsampled_path_enabled(True)\n",
    "model.eval()\n",
    "jacobian = model.get_jacobian(ds[song_id]['indices'][:400].unsqueeze(0).cuda(),ds[song_id]['pos'][:400+1].unsqueeze(0).cuda(),range(0,300))\n",
    "plt.imshow(jacobian.norm(dim=2).log().cpu().detach().numpy(),aspect='auto',interpolation='none')\n",
    "plt.colorbar()"
   ]
  },
  {
   "cell_type": "code",
   "execution_count": 5,
   "metadata": {},
   "outputs": [
    {
     "data": {
      "text/plain": [
       "[0, 2, 5, 7, 10]"
      ]
     },
     "execution_count": 5,
     "metadata": {},
     "output_type": "execute_result"
    }
   ],
   "source": [
    "from math import floor\n",
    "\n",
    "\n",
    "[floor(13/5*n) for n in range(5)]\n"
   ]
  },
  {
   "cell_type": "code",
   "execution_count": 99,
   "metadata": {},
   "outputs": [
    {
     "name": "stdout",
     "output_type": "stream",
     "text": [
      "segment_len 128\n",
      "x before downsample torch.Size([1, 512, 256])\n",
      "x after downsample torch.Size([1, 4, 256])\n",
      "x after upsample torch.Size([1, 512, 256])\n",
      "x after pad torch.Size([1, 639, 256])\n",
      "test_causal passed\n"
     ]
    }
   ],
   "source": [
    "\n",
    "model.test_causal()"
   ]
  },
  {
   "cell_type": "code",
   "execution_count": 100,
   "metadata": {},
   "outputs": [
    {
     "data": {
      "text/plain": [
       "tensor([[0., 1., 1., 1., 1., 1., 1., 1., 1., 1.],\n",
       "        [0., 0., 1., 1., 1., 1., 1., 1., 1., 1.],\n",
       "        [0., 0., 0., 1., 1., 1., 1., 1., 1., 1.],\n",
       "        [0., 0., 0., 0., 1., 1., 1., 1., 1., 1.],\n",
       "        [0., 0., 0., 0., 0., 1., 1., 1., 1., 1.],\n",
       "        [0., 0., 0., 0., 0., 0., 1., 1., 1., 1.],\n",
       "        [0., 0., 0., 0., 0., 0., 0., 1., 1., 1.],\n",
       "        [0., 0., 0., 0., 0., 0., 0., 0., 1., 1.],\n",
       "        [0., 0., 0., 0., 0., 0., 0., 0., 0., 1.],\n",
       "        [0., 0., 0., 0., 0., 0., 0., 0., 0., 0.]])"
      ]
     },
     "execution_count": 100,
     "metadata": {},
     "output_type": "execute_result"
    }
   ],
   "source": [
    "size=10\n",
    "torch.triu(torch.ones(size, size), diagonal=1)"
   ]
  },
  {
   "cell_type": "code",
   "execution_count": null,
   "metadata": {},
   "outputs": [
    {
     "name": "stdout",
     "output_type": "stream",
     "text": [
      "None\n"
     ]
    }
   ],
   "source": [
    "tokens = tokenizer.tokenize(pr_ds.get_piano_roll(song_id))\n",
    "bar_to_pos = [0]\n",
    "frame_in_bar = 0\n",
    "for i in range(1,len(tokens)):\n",
    "    if tokens[i]['type'] == 'next_frame':\n",
    "        frame_in_bar += 1\n",
    "        if frame_in_bar == 32:\n",
    "            bar_to_pos.append(i+1)\n",
    "            frame_in_bar = 0\n",
    "\n",
    "\n",
    " \n"
   ]
  },
  {
   "cell_type": "code",
   "execution_count": 25,
   "metadata": {},
   "outputs": [
    {
     "data": {
      "text/plain": [
       "ticks per beat: 480\n",
       "max tick: 0\n",
       "tempo changes: 1\n",
       "time sig: 0\n",
       "key sig: 0\n",
       "markers: 0\n",
       "lyrics: False\n",
       "instruments: 1"
      ]
     },
     "execution_count": 25,
     "metadata": {},
     "output_type": "execute_result"
    }
   ],
   "source": [
    "tokenizer.detokenize(tokens[bar_to_pos[25]:bar_to_pos[26]]).to_midi('a.mid')"
   ]
  },
  {
   "cell_type": "code",
   "execution_count": 36,
   "metadata": {},
   "outputs": [
    {
     "data": {
      "text/plain": [
       "2003"
      ]
     },
     "execution_count": 36,
     "metadata": {},
     "output_type": "execute_result"
    }
   ],
   "source": [
    "bar_to_pos[26]"
   ]
  },
  {
   "cell_type": "code",
   "execution_count": 73,
   "metadata": {},
   "outputs": [
    {
     "data": {
      "text/plain": [
       "tensor([[1, 2, 3],\n",
       "        [0, 0, 0]])"
      ]
     },
     "execution_count": 73,
     "metadata": {},
     "output_type": "execute_result"
    }
   ],
   "source": [
    "F.pad(torch.tensor([[1,2,3]]), (0,0,0,1), 'constant', 0)"
   ]
  },
  {
   "cell_type": "code",
   "execution_count": null,
   "metadata": {},
   "outputs": [],
   "source": []
  }
 ],
 "metadata": {
  "kernelspec": {
   "display_name": "gr",
   "language": "python",
   "name": "python3"
  },
  "language_info": {
   "codemirror_mode": {
    "name": "ipython",
    "version": 3
   },
   "file_extension": ".py",
   "mimetype": "text/x-python",
   "name": "python",
   "nbconvert_exporter": "python",
   "pygments_lexer": "ipython3",
   "version": "3.11.9"
  }
 },
 "nbformat": 4,
 "nbformat_minor": 2
}
