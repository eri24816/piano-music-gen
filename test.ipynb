{
 "cells": [
  {
   "cell_type": "code",
   "execution_count": 1,
   "metadata": {},
   "outputs": [],
   "source": []
  },
  {
   "cell_type": "code",
   "execution_count": 4,
   "metadata": {},
   "outputs": [
    {
     "data": {
      "text/plain": [
       "(array([  4.,   1.,   3.,   2.,   6.,   8.,  12.,   5.,  14.,   8.,  23.,\n",
       "         14.,  33.,  23.,  34.,  14.,  44.,  20.,  18.,  49.,  34.,  48.,\n",
       "         29.,  53.,  33.,  67.,  42.,  78.,  49.,  81.,  56., 115.,  63.,\n",
       "        102.,  68.,  63., 132.,  75.,  87.,  74.,  75.,  49.,  77.,  47.,\n",
       "         51.,  41.,  62.,  37.,  54.,  36.,  56.,  22.,  20.,  18.,  18.,\n",
       "         22.,  14.,  16.,  13.,  12.,   8.,   8.,  10.,   9.,   6.,   7.,\n",
       "          4.,   4.,   5.,  85.]),\n",
       " array([ 224.        ,  303.08571429,  382.17142857,  461.25714286,\n",
       "         540.34285714,  619.42857143,  698.51428571,  777.6       ,\n",
       "         856.68571429,  935.77142857, 1014.85714286, 1093.94285714,\n",
       "        1173.02857143, 1252.11428571, 1331.2       , 1410.28571429,\n",
       "        1489.37142857, 1568.45714286, 1647.54285714, 1726.62857143,\n",
       "        1805.71428571, 1884.8       , 1963.88571429, 2042.97142857,\n",
       "        2122.05714286, 2201.14285714, 2280.22857143, 2359.31428571,\n",
       "        2438.4       , 2517.48571429, 2596.57142857, 2675.65714286,\n",
       "        2754.74285714, 2833.82857143, 2912.91428571, 2992.        ,\n",
       "        3071.08571429, 3150.17142857, 3229.25714286, 3308.34285714,\n",
       "        3387.42857143, 3466.51428571, 3545.6       , 3624.68571429,\n",
       "        3703.77142857, 3782.85714286, 3861.94285714, 3941.02857143,\n",
       "        4020.11428571, 4099.2       , 4178.28571429, 4257.37142857,\n",
       "        4336.45714286, 4415.54285714, 4494.62857143, 4573.71428571,\n",
       "        4652.8       , 4731.88571429, 4810.97142857, 4890.05714286,\n",
       "        4969.14285714, 5048.22857143, 5127.31428571, 5206.4       ,\n",
       "        5285.48571429, 5364.57142857, 5443.65714286, 5522.74285714,\n",
       "        5601.82857143, 5680.91428571, 5760.        ]),\n",
       " <BarContainer object of 70 artists>)"
      ]
     },
     "execution_count": 4,
     "metadata": {},
     "output_type": "execute_result"
    },
    {
     "data": {
      "image/png": "[encoded data removed]",
      "text/plain": [
       "<Figure size 640x480 with 1 Axes>"
      ]
     },
     "metadata": {},
     "output_type": "display_data"
    }
   ],
   "source": [
    "from matplotlib import pyplot as plt\n",
    "plt.hist(duration, bins=70)"
   ]
  },
  {
   "cell_type": "code",
   "execution_count": 8,
   "metadata": {},
   "outputs": [
    {
     "data": {
      "text/plain": [
       "3904.0"
      ]
     },
     "execution_count": 8,
     "metadata": {},
     "output_type": "execute_result"
    }
   ],
   "source": [
    "import numpy as np\n",
    "\n",
    "\n",
    "np.percentile(duration, 80)"
   ]
  },
  {
   "cell_type": "code",
   "execution_count": 1,
   "metadata": {},
   "outputs": [
    {
     "ename": "NameError",
     "evalue": "name 'ds' is not defined",
     "output_type": "error",
     "traceback": [
      "\u001b[1;31m---------------------------------------------------------------------------\u001b[0m",
      "\u001b[1;31mNameError\u001b[0m                                 Traceback (most recent call last)",
      "Cell \u001b[1;32mIn[1], line 1\u001b[0m\n\u001b[1;32m----> 1\u001b[0m \u001b[43mds\u001b[49m\n",
      "\u001b[1;31mNameError\u001b[0m: name 'ds' is not defined"
     ]
    }
   ],
   "source": [
    "ds"
   ]
  },
  {
   "cell_type": "code",
   "execution_count": 6,
   "metadata": {},
   "outputs": [
    {
     "data": {
      "text/plain": [
       "tensor([ 0.,  2.,  4.,  5.,  6.,  7.,  7.,  8.,  8.,  9.,  9.,  9., 10., 10.,\n",
       "        10., 11., 11., 11., 11., 11., 12., 12., 12., 12., 12., 13., 13., 13.,\n",
       "        13., 13., 13., 13.])"
      ]
     },
     "execution_count": 6,
     "metadata": {},
     "output_type": "execute_result"
    }
   ],
   "source": [
    "import torch\n",
    "\n",
    "\n",
    "((torch.tensor(list(range(32)))+1).log()*4).floor()"
   ]
  },
  {
   "cell_type": "code",
   "execution_count": null,
   "metadata": {},
   "outputs": [],
   "source": []
  }
 ],
 "metadata": {
  "kernelspec": {
   "display_name": "gr",
   "language": "python",
   "name": "python3"
  },
  "language_info": {
   "codemirror_mode": {
    "name": "ipython",
    "version": 3
   },
   "file_extension": ".py",
   "mimetype": "text/x-python",
   "name": "python",
   "nbconvert_exporter": "python",
   "pygments_lexer": "ipython3",
   "version": "3.11.9"
  }
 },
 "nbformat": 4,
 "nbformat_minor": 2
}
