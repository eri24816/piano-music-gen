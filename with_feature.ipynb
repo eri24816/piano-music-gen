{
 "cells": [
  {
   "cell_type": "code",
   "execution_count": 4,
   "metadata": {},
   "outputs": [
    {
     "name": "stdout",
     "output_type": "stream",
     "text": [
      "The autoreload extension is already loaded. To reload it, use:\n",
      "  %reload_ext autoreload\n"
     ]
    }
   ],
   "source": [
    "%load_ext autoreload\n",
    "%autoreload 2\n",
    "\n",
    "import torch\n",
    "\n",
    "from pianogen.model.model import SelectiveAttnTransformer\n",
    "from torch.optim import Adam\n",
    "from torch import nn\n",
    "from pianogen.dataset.with_feature import FeatureDataset\n",
    "from pianogen.tokenizer import PianoRollTokenizer\n",
    "from torch.utils.data import DataLoader\n",
    "from pianogen.model.with_feature import Cake\n",
    "\n",
    "device = 'cuda'\n",
    "\n",
    "def move_to_device(b):\n",
    "    if isinstance(b, torch.Tensor):\n",
    "        return b.to(device)\n",
    "    elif isinstance(b, dict):\n",
    "        return {k:move_to_device(v) for k,v in b.items()}"
   ]
  },
  {
   "cell_type": "code",
   "execution_count": 5,
   "metadata": {},
   "outputs": [
    {
     "name": "stdout",
     "output_type": "stream",
     "text": [
      "Loaded 251634 samples from 2570 songs\n"
     ]
    },
    {
     "name": "stderr",
     "output_type": "stream",
     "text": [
      "100%|██████████| 1/1 [00:00<00:00, 164.56it/s]\n",
      "100%|██████████| 1/1 [00:00<00:00, 500.16it/s]\n",
      "100%|██████████| 1/1 [00:00<00:00, 247.95it/s]\n",
      "100%|██████████| 1/1 [00:00<?, ?it/s]\n",
      "100%|██████████| 1/1 [00:00<00:00, 1000.07it/s]\n",
      "100%|██████████| 1/1 [00:00<00:00, 398.24it/s]\n",
      "100%|██████████| 1/1 [00:00<00:00, 82.45it/s]"
     ]
    },
    {
     "name": "stdout",
     "output_type": "stream",
     "text": [
      "Loaded 1 samples from 1 songs\n"
     ]
    },
    {
     "name": "stderr",
     "output_type": "stream",
     "text": [
      "\n"
     ]
    }
   ],
   "source": [
    "model = Cake(a0_size=512, max_len=150, dim_model=256, num_layers=6, num_heads=8, dim_feedforward=1024)\n",
    "model = model.to(device).train()\n",
    "\n",
    "# ds = FeatureDataset(r'W:\\music\\music-data-analysis\\data', loaders=model.get_loaders(), max_duration=32*150)\n",
    "# dl = DataLoader(ds,batch_size=3, shuffle=True, num_workers=8)\n",
    "# gradient_accumulation_steps = 3\n",
    "\n",
    "ds = FeatureDataset(r'W:\\music\\music-data-analysis\\data', loaders=model.get_loaders(), segment_len=32*16, hop_len=32)\n",
    "dl = DataLoader(ds,batch_size=32, shuffle=True, num_workers=8)\n",
    "gradient_accumulation_steps = 1\n",
    "\n",
    "test_data = FeatureDataset.from_midi(r'W:\\music\\ai_cowork_trim.mid', loaders=model.get_loaders())"
   ]
  },
  {
   "cell_type": "code",
   "execution_count": 6,
   "metadata": {},
   "outputs": [
    {
     "data": {
      "text/plain": [
       "torch.Size([16, 150])"
      ]
     },
     "execution_count": 6,
     "metadata": {},
     "output_type": "execute_result"
    }
   ],
   "source": [
    "ds[0]['piano_roll']['indices'].shape"
   ]
  },
  {
   "cell_type": "code",
   "execution_count": 7,
   "metadata": {},
   "outputs": [
    {
     "name": "stdout",
     "output_type": "stream",
     "text": [
      "number of parameters: 19.572441 M\n"
     ]
    }
   ],
   "source": [
    "from pathlib import Path\n",
    "from torch.utils.tensorboard.writer import SummaryWriter\n",
    "\n",
    "exp_name = 'feature/16bar'\n",
    "\n",
    "output_dir = Path(f'./output/{exp_name}')\n",
    "output_dir.mkdir(parents=True, exist_ok=True)\n",
    "checkpoint_dir = Path(f'./checkpoint/{exp_name}')\n",
    "checkpoint_dir.mkdir(parents=True, exist_ok=True)\n",
    "tensorboard_dir = Path(f'./tensorboard/{exp_name}')\n",
    "\n",
    "writer = SummaryWriter(tensorboard_dir)\n",
    "opt = Adam(model.parameters(), lr=2e-4)\n",
    "print('number of parameters:', sum(p.numel() for p in model.parameters())/1e6, 'M')"
   ]
  },
  {
   "cell_type": "code",
   "execution_count": 9,
   "metadata": {},
   "outputs": [],
   "source": [
    "from_epoch = 125823\n",
    "epoch = from_epoch\n",
    "# load from checkpoint\n",
    "if from_epoch > 0:\n",
    "    checkpoint = torch.load(checkpoint_dir/f'{from_epoch}.pt')\n",
    "    model.load_state_dict(checkpoint['model'])\n",
    "    opt.load_state_dict(checkpoint['opt'])\n",
    "model = model.to(device)"
   ]
  },
  {
   "cell_type": "code",
   "execution_count": 8,
   "metadata": {},
   "outputs": [
    {
     "name": "stderr",
     "output_type": "stream",
     "text": [
      "100%|██████████| 16/16 [00:12<00:00,  1.24it/s]/s, batch=490, gpu_temp=58, loss={'chord': tensor(1.6553, device='cuda:0', grad_fn=<NllLossBackward0>), 'velocity': tensor(1.5305, device='cuda:0', grad_fn=<NllLossBackward0>), 'polyphony': tensor(1.1991, device='cuda:0', grad_fn=<NllLossBackward0>), 'density': tensor(1.5505, device='cuda:0', grad_fn=<NllLossBackward0>), 'piano_roll': tensor(1.4335, device='cuda:0', grad_fn=<NllLoss2DBackward0>), 'total': tensor(7.3689, device='cuda:0', grad_fn=<AddBackward0>)}]  \n"
     ]
    },
    {
     "name": "stdout",
     "output_type": "stream",
     "text": [
      "Generated:  [{'type': 'pitch', 'value': 14}, {'type': 'velocity', 'value': 14}, {'type': 'pitch', 'value': 26}, {'type': 'velocity', 'value': 15}, {'type': 'pitch', 'value': 45}, {'type': 'velocity', 'value': 18}, 'next_frame', 'next_frame', 'next_frame', 'next_frame']\n",
      "Chords:  ['A_m7', 'A_m7', 'C_M', 'A_m7', 'F_M7', 'F_M7', 'F_M7', 'F_M7', 'C_M7', 'C_M7', 'C_M7', 'C_M7', 'F_M7', 'F_M7', 'F_M7', 'F_M7', 'F_M7', 'F_M7', 'A_m7', 'A_m7', 'A_m7', 'A_m7', 'A_m7', 'A_m7', 'A_m', 'A_m', 'A_m', 'A_m', 'D_m', 'D_m', 'D_m', 'D_m']\n"
     ]
    },
    {
     "name": "stderr",
     "output_type": "stream",
     "text": [
      "100%|██████████| 10/10 [00:05<00:00,  1.79it/s]\n",
      "  6%|▋         | 492/7864 [03:57<12:18:05,  6.01s/it, batch=490, gpu_temp=58, loss={'chord': tensor(1.6553, device='cuda:0', grad_fn=<NllLossBackward0>), 'velocity': tensor(1.5305, device='cuda:0', grad_fn=<NllLossBackward0>), 'polyphony': tensor(1.1991, device='cuda:0', grad_fn=<NllLossBackward0>), 'density': tensor(1.5505, device='cuda:0', grad_fn=<NllLossBackward0>), 'piano_roll': tensor(1.4335, device='cuda:0', grad_fn=<NllLoss2DBackward0>), 'total': tensor(7.3689, device='cuda:0', grad_fn=<AddBackward0>)}]"
     ]
    },
    {
     "name": "stdout",
     "output_type": "stream",
     "text": [
      "Generated:  [{'type': 'pitch', 'value': 39}, {'type': 'velocity', 'value': 17}, {'type': 'pitch', 'value': 51}, {'type': 'velocity', 'value': 15}, {'type': 'pitch', 'value': 55}, {'type': 'velocity', 'value': 20}, 'next_frame', 'next_frame', 'next_frame', 'next_frame']\n",
      "Chords:  ['C_M7', 'C_M7', 'C_M7', 'C_M7', 'A_m7', 'A_m7', 'A_m7', 'A_m7', 'F_M', 'F_M', 'F_M', 'F_M', 'G_M', 'G_M', 'G_M', 'G_M', 'C_M7', 'C_M7', 'C_M7', 'C_M7', 'A_m7', 'A_m7', 'A_m7', 'A_m7', 'A_m', 'A_m', 'A_m', 'A_m', 'A_m', 'A_m', 'A_m', 'A_m']\n"
     ]
    },
    {
     "name": "stderr",
     "output_type": "stream",
     "text": [
      "100%|██████████| 16/16 [00:12<00:00,  1.31it/s]/s, batch=980, gpu_temp=59, loss={'chord': tensor(1.5138, device='cuda:0', grad_fn=<NllLossBackward0>), 'velocity': tensor(1.5870, device='cuda:0', grad_fn=<NllLossBackward0>), 'polyphony': tensor(1.2315, device='cuda:0', grad_fn=<NllLossBackward0>), 'density': tensor(1.5942, device='cuda:0', grad_fn=<NllLossBackward0>), 'piano_roll': tensor(1.3468, device='cuda:0', grad_fn=<NllLoss2DBackward0>), 'total': tensor(7.2733, device='cuda:0', grad_fn=<AddBackward0>)}]   \n"
     ]
    },
    {
     "name": "stdout",
     "output_type": "stream",
     "text": [
      "Generated:  [{'type': 'pitch', 'value': 19}, {'type': 'velocity', 'value': 19}, {'type': 'pitch', 'value': 46}, {'type': 'velocity', 'value': 18}, {'type': 'pitch', 'value': 50}, {'type': 'velocity', 'value': 21}, {'type': 'pitch', 'value': 55}, {'type': 'velocity', 'value': 22}, 'next_frame', 'next_frame']\n",
      "Chords:  ['A_m7', 'A_m7', 'A_m7', 'A_m7', 'C_M', 'C_M', 'C_M', 'C_M', 'F_M', 'F_M', 'F_M', 'F_M', 'G_M', 'G_M', 'G_M', 'G_M', 'A_m7', 'A_m7', 'A_m7', 'A_m7', 'F_sus2', 'F_sus2', 'F_M', 'F_M', 'C_M', 'C_M', 'C_M', 'C_M', 'G_M', 'G_M', 'G_M', 'G_M']\n"
     ]
    },
    {
     "name": "stderr",
     "output_type": "stream",
     "text": [
      "100%|██████████| 10/10 [00:04<00:00,  2.06it/s]\n",
      " 12%|█▎        | 983/7864 [07:17<10:33:52,  5.53s/it, batch=980, gpu_temp=59, loss={'chord': tensor(1.5138, device='cuda:0', grad_fn=<NllLossBackward0>), 'velocity': tensor(1.5870, device='cuda:0', grad_fn=<NllLossBackward0>), 'polyphony': tensor(1.2315, device='cuda:0', grad_fn=<NllLossBackward0>), 'density': tensor(1.5942, device='cuda:0', grad_fn=<NllLossBackward0>), 'piano_roll': tensor(1.3468, device='cuda:0', grad_fn=<NllLoss2DBackward0>), 'total': tensor(7.2733, device='cuda:0', grad_fn=<AddBackward0>)}]"
     ]
    },
    {
     "name": "stdout",
     "output_type": "stream",
     "text": [
      "Generated:  [{'type': 'pitch', 'value': 39}, {'type': 'velocity', 'value': 17}, {'type': 'pitch', 'value': 51}, {'type': 'velocity', 'value': 15}, {'type': 'pitch', 'value': 55}, {'type': 'velocity', 'value': 20}, 'next_frame', 'next_frame', 'next_frame', 'next_frame']\n",
      "Chords:  ['C_M7', 'C_M7', 'C_M7', 'C_M7', 'A_m7', 'A_m7', 'A_m7', 'A_m7', 'F_M', 'F_M', 'F_M', 'F_M', 'G_M', 'G_M', 'G_M', 'G_M', 'C_M7', 'C_M7', 'C_M7', 'C_M7', 'A_m7', 'A_m7', 'A_m7', 'A_m7', 'F_M7', 'F_M7', 'F_M', 'F_M', 'G_M', 'G_M', 'E_m7', 'E_m7']\n"
     ]
    },
    {
     "name": "stderr",
     "output_type": "stream",
     "text": [
      "100%|██████████| 16/16 [00:13<00:00,  1.19it/s]t/s, batch=1470, gpu_temp=56, loss={'chord': tensor(1.4749, device='cuda:0', grad_fn=<NllLossBackward0>), 'velocity': tensor(1.3877, device='cuda:0', grad_fn=<NllLossBackward0>), 'polyphony': tensor(1.1093, device='cuda:0', grad_fn=<NllLossBackward0>), 'density': tensor(1.3001, device='cuda:0', grad_fn=<NllLossBackward0>), 'piano_roll': tensor(1.2302, device='cuda:0', grad_fn=<NllLoss2DBackward0>), 'total': tensor(6.5022, device='cuda:0', grad_fn=<AddBackward0>)}]  \n"
     ]
    },
    {
     "name": "stdout",
     "output_type": "stream",
     "text": [
      "Generated:  ['next_frame', {'type': 'pitch', 'value': 20}, {'type': 'velocity', 'value': 19}, 'next_frame', 'next_frame', 'next_frame', 'next_frame', 'next_frame', {'type': 'pitch', 'value': 27}, {'type': 'velocity', 'value': 19}]\n",
      "Chords:  ['F_M7', 'F_M7', 'A_m', 'A_m', 'A_m7', 'A_m7', 'F_M', 'F_M', 'C_M', 'C_M', 'G_M', 'G_M', 'A_m', 'A_m', 'A_m7', 'A_m7', 'F_M', 'F_M', 'E_m7', 'E_m7', 'A_m7', 'A_m7', 'C_M7', 'C_M7', 'F_M7', 'F_M7', 'F_M7', 'G_M', 'A_m7', 'A_m7', 'A_m7', 'A_m7']\n"
     ]
    },
    {
     "name": "stderr",
     "output_type": "stream",
     "text": [
      "100%|██████████| 10/10 [00:05<00:00,  1.96it/s]\n",
      " 19%|█▊        | 1474/7864 [10:50<10:41:45,  6.03s/it, batch=1470, gpu_temp=56, loss={'chord': tensor(1.4749, device='cuda:0', grad_fn=<NllLossBackward0>), 'velocity': tensor(1.3877, device='cuda:0', grad_fn=<NllLossBackward0>), 'polyphony': tensor(1.1093, device='cuda:0', grad_fn=<NllLossBackward0>), 'density': tensor(1.3001, device='cuda:0', grad_fn=<NllLossBackward0>), 'piano_roll': tensor(1.2302, device='cuda:0', grad_fn=<NllLoss2DBackward0>), 'total': tensor(6.5022, device='cuda:0', grad_fn=<AddBackward0>)}]"
     ]
    },
    {
     "name": "stdout",
     "output_type": "stream",
     "text": [
      "Generated:  [{'type': 'pitch', 'value': 39}, {'type': 'velocity', 'value': 17}, {'type': 'pitch', 'value': 51}, {'type': 'velocity', 'value': 15}, {'type': 'pitch', 'value': 55}, {'type': 'velocity', 'value': 20}, 'next_frame', 'next_frame', 'next_frame', 'next_frame']\n",
      "Chords:  ['C_M7', 'C_M7', 'C_M7', 'C_M7', 'A_m7', 'A_m7', 'A_m7', 'A_m7', 'F_M', 'F_M', 'F_M', 'F_M', 'G_M', 'G_M', 'G_M', 'G_M', 'C_M7', 'C_M7', 'C_M7', 'C_M7', 'A_m7', 'A_m7', 'A_m7', 'A_m7', 'F_M', 'F_M', 'F_M', 'F_M', 'F_sus2', 'F_sus2', 'F_M', 'F_M']\n"
     ]
    },
    {
     "name": "stderr",
     "output_type": "stream",
     "text": [
      "100%|██████████| 16/16 [00:12<00:00,  1.32it/s]t/s, batch=1960, gpu_temp=61, loss={'chord': tensor(1.6131, device='cuda:0', grad_fn=<NllLossBackward0>), 'velocity': tensor(1.5218, device='cuda:0', grad_fn=<NllLossBackward0>), 'polyphony': tensor(1.2544, device='cuda:0', grad_fn=<NllLossBackward0>), 'density': tensor(1.4065, device='cuda:0', grad_fn=<NllLossBackward0>), 'piano_roll': tensor(1.3204, device='cuda:0', grad_fn=<NllLoss2DBackward0>), 'total': tensor(7.1161, device='cuda:0', grad_fn=<AddBackward0>)}]   \n"
     ]
    },
    {
     "name": "stdout",
     "output_type": "stream",
     "text": [
      "Generated:  [{'type': 'pitch', 'value': 22}, {'type': 'velocity', 'value': 17}, {'type': 'pitch', 'value': 29}, {'type': 'velocity', 'value': 15}, {'type': 'pitch', 'value': 34}, {'type': 'velocity', 'value': 14}, {'type': 'pitch', 'value': 50}, {'type': 'velocity', 'value': 17}, {'type': 'pitch', 'value': 53}, {'type': 'velocity', 'value': 20}]\n",
      "Chords:  ['C_M', 'C_M', 'C_M', 'C_M', 'G_7', 'G_7', 'G_7', 'G_7', 'A_m7', 'A_m7', 'A_m7', 'A_m7', 'F_M7', 'F_M7', 'F_M', 'F_M', 'C_M', 'C_M', 'C_M', 'C_M', 'G_M', 'G_M', 'G_M', 'G_M', 'A_m7', 'A_m7', 'A_m7', 'A_m7', 'E_m', 'E_m', 'E_m', 'E_m']\n"
     ]
    },
    {
     "name": "stderr",
     "output_type": "stream",
     "text": [
      "100%|██████████| 10/10 [00:05<00:00,  1.89it/s]\n",
      " 25%|██▍       | 1965/7864 [14:15<9:15:59,  5.66s/it, batch=1960, gpu_temp=61, loss={'chord': tensor(1.6131, device='cuda:0', grad_fn=<NllLossBackward0>), 'velocity': tensor(1.5218, device='cuda:0', grad_fn=<NllLossBackward0>), 'polyphony': tensor(1.2544, device='cuda:0', grad_fn=<NllLossBackward0>), 'density': tensor(1.4065, device='cuda:0', grad_fn=<NllLossBackward0>), 'piano_roll': tensor(1.3204, device='cuda:0', grad_fn=<NllLoss2DBackward0>), 'total': tensor(7.1161, device='cuda:0', grad_fn=<AddBackward0>)}]"
     ]
    },
    {
     "name": "stdout",
     "output_type": "stream",
     "text": [
      "Generated:  [{'type': 'pitch', 'value': 39}, {'type': 'velocity', 'value': 17}, {'type': 'pitch', 'value': 51}, {'type': 'velocity', 'value': 15}, {'type': 'pitch', 'value': 55}, {'type': 'velocity', 'value': 20}, 'next_frame', 'next_frame', 'next_frame', 'next_frame']\n",
      "Chords:  ['C_M7', 'C_M7', 'C_M7', 'C_M7', 'A_m7', 'A_m7', 'A_m7', 'A_m7', 'F_M', 'F_M', 'F_M', 'F_M', 'G_M', 'G_M', 'G_M', 'G_M', 'C_M7', 'C_M7', 'C_M7', 'C_M7', 'A_m7', 'A_m7', 'A_m7', 'A_m7', 'D_m7', 'D_m7', 'F_M', 'F_M', 'C_M7', 'C_M7', 'C_M7', 'C_M7']\n"
     ]
    },
    {
     "name": "stderr",
     "output_type": "stream",
     "text": [
      "100%|██████████| 16/16 [00:10<00:00,  1.46it/s]t/s, batch=2450, gpu_temp=55, loss={'chord': tensor(1.3273, device='cuda:0', grad_fn=<NllLossBackward0>), 'velocity': tensor(1.4479, device='cuda:0', grad_fn=<NllLossBackward0>), 'polyphony': tensor(1.1645, device='cuda:0', grad_fn=<NllLossBackward0>), 'density': tensor(1.3878, device='cuda:0', grad_fn=<NllLossBackward0>), 'piano_roll': tensor(1.2595, device='cuda:0', grad_fn=<NllLoss2DBackward0>), 'total': tensor(6.5870, device='cuda:0', grad_fn=<AddBackward0>)}]  \n"
     ]
    },
    {
     "name": "stdout",
     "output_type": "stream",
     "text": [
      "Generated:  [{'type': 'pitch', 'value': 8}, {'type': 'velocity', 'value': 18}, {'type': 'pitch', 'value': 20}, {'type': 'velocity', 'value': 20}, 'next_frame', 'next_frame', 'next_frame', 'next_frame', {'type': 'pitch', 'value': 32}, {'type': 'velocity', 'value': 16}]\n",
      "Chords:  ['A#_M', 'A#_M', 'A#_M', 'A#_M', 'A#_M', 'A#_M', 'A#_M', 'A#_M', 'C_m7', 'C_m7', 'C_m7', 'C_m7', 'D#_M7', 'D#_M7', 'C_m7', 'C_m7', 'A#_7', 'A#_7', 'C_m7', 'C_m7', 'C_m7', 'C_m7', 'C_m7', 'C_m7', 'A#_M', 'D#_M7', 'A#_M', 'A#_M', 'G#_M7', 'G#_M7', 'A#_M', 'A#_M']\n"
     ]
    },
    {
     "name": "stderr",
     "output_type": "stream",
     "text": [
      "100%|██████████| 10/10 [00:04<00:00,  2.38it/s]\n",
      " 31%|███       | 2456/7864 [17:41<7:22:27,  4.91s/it, batch=2450, gpu_temp=55, loss={'chord': tensor(1.3273, device='cuda:0', grad_fn=<NllLossBackward0>), 'velocity': tensor(1.4479, device='cuda:0', grad_fn=<NllLossBackward0>), 'polyphony': tensor(1.1645, device='cuda:0', grad_fn=<NllLossBackward0>), 'density': tensor(1.3878, device='cuda:0', grad_fn=<NllLossBackward0>), 'piano_roll': tensor(1.2595, device='cuda:0', grad_fn=<NllLoss2DBackward0>), 'total': tensor(6.5870, device='cuda:0', grad_fn=<AddBackward0>)}]"
     ]
    },
    {
     "name": "stdout",
     "output_type": "stream",
     "text": [
      "Generated:  [{'type': 'pitch', 'value': 39}, {'type': 'velocity', 'value': 17}, {'type': 'pitch', 'value': 51}, {'type': 'velocity', 'value': 15}, {'type': 'pitch', 'value': 55}, {'type': 'velocity', 'value': 20}, 'next_frame', 'next_frame', 'next_frame', 'next_frame']\n",
      "Chords:  ['C_M7', 'C_M7', 'C_M7', 'C_M7', 'A_m7', 'A_m7', 'A_m7', 'A_m7', 'F_M', 'F_M', 'F_M', 'F_M', 'G_M', 'G_M', 'G_M', 'G_M', 'C_M7', 'C_M7', 'C_M7', 'C_M7', 'A_m7', 'A_m7', 'A_m7', 'A_m7', 'C_M7', 'C_M7', 'C_M7', 'C_M7', 'F_M', 'F_M', 'F_M7', 'F_M7']\n"
     ]
    },
    {
     "name": "stderr",
     "output_type": "stream",
     "text": [
      "100%|██████████| 16/16 [00:15<00:00,  1.02it/s]t/s, batch=2940, gpu_temp=59, loss={'chord': tensor(1.4567, device='cuda:0', grad_fn=<NllLossBackward0>), 'velocity': tensor(1.3825, device='cuda:0', grad_fn=<NllLossBackward0>), 'polyphony': tensor(1.0581, device='cuda:0', grad_fn=<NllLossBackward0>), 'density': tensor(1.2670, device='cuda:0', grad_fn=<NllLossBackward0>), 'piano_roll': tensor(1.2358, device='cuda:0', grad_fn=<NllLoss2DBackward0>), 'total': tensor(6.4001, device='cuda:0', grad_fn=<AddBackward0>)}]  \n"
     ]
    },
    {
     "name": "stdout",
     "output_type": "stream",
     "text": [
      "Generated:  [{'type': 'pitch', 'value': 24}, {'type': 'velocity', 'value': 17}, {'type': 'pitch', 'value': 55}, {'type': 'velocity', 'value': 22}, {'type': 'pitch', 'value': 60}, {'type': 'velocity', 'value': 22}, {'type': 'pitch', 'value': 63}, {'type': 'velocity', 'value': 22}, 'next_frame', 'next_frame']\n",
      "Chords:  ['F_m', 'F_m', 'F_m', 'F_m', 'D_m', 'D_m', 'D_o', 'D_o', 'G_7', 'G_7', 'G_7', 'G_7', 'G_7', 'G_7', 'G_7', 'G_7', 'G_7', 'G_7', 'G_M', 'G_M', 'C_M7', 'C_M7', 'A_m7', 'A_m7', 'F_M', 'F_M', 'F_M', 'F_M', 'G_M', 'G_M', 'C_M7', 'C_M7']\n"
     ]
    },
    {
     "name": "stderr",
     "output_type": "stream",
     "text": [
      "100%|██████████| 10/10 [00:05<00:00,  1.93it/s]\n",
      " 37%|███▋      | 2947/7864 [21:02<9:06:55,  6.67s/it, batch=2940, gpu_temp=59, loss={'chord': tensor(1.4567, device='cuda:0', grad_fn=<NllLossBackward0>), 'velocity': tensor(1.3825, device='cuda:0', grad_fn=<NllLossBackward0>), 'polyphony': tensor(1.0581, device='cuda:0', grad_fn=<NllLossBackward0>), 'density': tensor(1.2670, device='cuda:0', grad_fn=<NllLossBackward0>), 'piano_roll': tensor(1.2358, device='cuda:0', grad_fn=<NllLoss2DBackward0>), 'total': tensor(6.4001, device='cuda:0', grad_fn=<AddBackward0>)}]"
     ]
    },
    {
     "name": "stdout",
     "output_type": "stream",
     "text": [
      "Generated:  [{'type': 'pitch', 'value': 39}, {'type': 'velocity', 'value': 17}, {'type': 'pitch', 'value': 51}, {'type': 'velocity', 'value': 15}, {'type': 'pitch', 'value': 55}, {'type': 'velocity', 'value': 20}, 'next_frame', 'next_frame', 'next_frame', 'next_frame']\n",
      "Chords:  ['C_M7', 'C_M7', 'C_M7', 'C_M7', 'A_m7', 'A_m7', 'A_m7', 'A_m7', 'F_M', 'F_M', 'F_M', 'F_M', 'G_M', 'G_M', 'G_M', 'G_M', 'C_M7', 'C_M7', 'C_M7', 'C_M7', 'A_m7', 'A_m7', 'A_m7', 'A_m7', 'A_m7', 'A_m7', 'C_M7', 'C_M7', 'F_M', 'F_M', 'F_M', 'F_M']\n"
     ]
    },
    {
     "name": "stderr",
     "output_type": "stream",
     "text": [
      "100%|██████████| 16/16 [00:09<00:00,  1.64it/s]t/s, batch=3430, gpu_temp=61, loss={'chord': tensor(1.5032, device='cuda:0', grad_fn=<NllLossBackward0>), 'velocity': tensor(1.5152, device='cuda:0', grad_fn=<NllLossBackward0>), 'polyphony': tensor(1.0683, device='cuda:0', grad_fn=<NllLossBackward0>), 'density': tensor(1.4141, device='cuda:0', grad_fn=<NllLossBackward0>), 'piano_roll': tensor(1.2433, device='cuda:0', grad_fn=<NllLoss2DBackward0>), 'total': tensor(6.7442, device='cuda:0', grad_fn=<AddBackward0>)}]  \n"
     ]
    },
    {
     "name": "stdout",
     "output_type": "stream",
     "text": [
      "Generated:  [{'type': 'pitch', 'value': 27}, {'type': 'velocity', 'value': 15}, {'type': 'pitch', 'value': 39}, {'type': 'velocity', 'value': 14}, 'next_frame', 'next_frame', 'next_frame', 'next_frame', {'type': 'pitch', 'value': 43}, {'type': 'velocity', 'value': 14}]\n",
      "Chords:  ['E_M', 'E_M', 'E_M', 'E_M', 'A_M7', 'A_M7', 'A_M7', 'A_M7', 'E_M', 'E_M', 'E_M', 'E_M', 'A_M', 'A_M', 'A_M', 'A_M', 'A_M7', 'A_M7', 'A_M7', 'A_M7', 'C#_m', 'A_M', 'C#_m', 'C#_m', 'C#_m7', 'C#_m7', 'F#_m7', 'F#_m7', 'D#_o', 'D#_o', 'D#_o', 'D#_o']\n"
     ]
    },
    {
     "name": "stderr",
     "output_type": "stream",
     "text": [
      "100%|██████████| 10/10 [00:03<00:00,  2.83it/s]\n",
      " 44%|████▎     | 3438/7864 [23:53<5:19:21,  4.33s/it, batch=3430, gpu_temp=61, loss={'chord': tensor(1.5032, device='cuda:0', grad_fn=<NllLossBackward0>), 'velocity': tensor(1.5152, device='cuda:0', grad_fn=<NllLossBackward0>), 'polyphony': tensor(1.0683, device='cuda:0', grad_fn=<NllLossBackward0>), 'density': tensor(1.4141, device='cuda:0', grad_fn=<NllLossBackward0>), 'piano_roll': tensor(1.2433, device='cuda:0', grad_fn=<NllLoss2DBackward0>), 'total': tensor(6.7442, device='cuda:0', grad_fn=<AddBackward0>)}]"
     ]
    },
    {
     "name": "stdout",
     "output_type": "stream",
     "text": [
      "Generated:  [{'type': 'pitch', 'value': 39}, {'type': 'velocity', 'value': 17}, {'type': 'pitch', 'value': 51}, {'type': 'velocity', 'value': 15}, {'type': 'pitch', 'value': 55}, {'type': 'velocity', 'value': 20}, 'next_frame', 'next_frame', 'next_frame', 'next_frame']\n",
      "Chords:  ['C_M7', 'C_M7', 'C_M7', 'C_M7', 'A_m7', 'A_m7', 'A_m7', 'A_m7', 'F_M', 'F_M', 'F_M', 'F_M', 'G_M', 'G_M', 'G_M', 'G_M', 'C_M7', 'C_M7', 'C_M7', 'C_M7', 'A_m7', 'A_m7', 'A_m7', 'A_m7', 'F_M7', 'F_M7', 'C_M', 'C_M', 'F_M', 'C_M', 'C_M7', 'C_M7']\n"
     ]
    },
    {
     "name": "stderr",
     "output_type": "stream",
     "text": [
      "100%|██████████| 16/16 [00:13<00:00,  1.19it/s]t/s, batch=3920, gpu_temp=61, loss={'chord': tensor(1.3549, device='cuda:0', grad_fn=<NllLossBackward0>), 'velocity': tensor(1.4847, device='cuda:0', grad_fn=<NllLossBackward0>), 'polyphony': tensor(1.1501, device='cuda:0', grad_fn=<NllLossBackward0>), 'density': tensor(1.3308, device='cuda:0', grad_fn=<NllLossBackward0>), 'piano_roll': tensor(1.2049, device='cuda:0', grad_fn=<NllLoss2DBackward0>), 'total': tensor(6.5253, device='cuda:0', grad_fn=<AddBackward0>)}]  \n"
     ]
    },
    {
     "name": "stdout",
     "output_type": "stream",
     "text": [
      "Generated:  [{'type': 'pitch', 'value': 24}, {'type': 'velocity', 'value': 19}, {'type': 'pitch', 'value': 36}, {'type': 'velocity', 'value': 20}, {'type': 'pitch', 'value': 40}, {'type': 'velocity', 'value': 21}, {'type': 'pitch', 'value': 43}, {'type': 'velocity', 'value': 20}, {'type': 'pitch', 'value': 52}, {'type': 'velocity', 'value': 21}]\n",
      "Chords:  ['F_M7', 'F_M7', 'F_M7', 'F_M7', 'G_M', 'G_M', 'G_M', 'G_M', 'A_m7', 'A_m7', 'A_m7', 'A_m7', 'A_m7', 'A_m7', 'A_m7', 'A_m7', 'D_m', 'D_m', 'D_m7', 'D_m7', 'G_7', 'G_7', 'G_M', 'G_M', 'A_m7', 'A_m7', 'A_m7', 'A_m7', 'F_M', 'F_M', 'F_M', 'F_M']\n"
     ]
    },
    {
     "name": "stderr",
     "output_type": "stream",
     "text": [
      "100%|██████████| 10/10 [00:06<00:00,  1.61it/s]\n",
      " 50%|████▉     | 3929/7864 [26:53<6:55:03,  6.33s/it, batch=3920, gpu_temp=61, loss={'chord': tensor(1.3549, device='cuda:0', grad_fn=<NllLossBackward0>), 'velocity': tensor(1.4847, device='cuda:0', grad_fn=<NllLossBackward0>), 'polyphony': tensor(1.1501, device='cuda:0', grad_fn=<NllLossBackward0>), 'density': tensor(1.3308, device='cuda:0', grad_fn=<NllLossBackward0>), 'piano_roll': tensor(1.2049, device='cuda:0', grad_fn=<NllLoss2DBackward0>), 'total': tensor(6.5253, device='cuda:0', grad_fn=<AddBackward0>)}]"
     ]
    },
    {
     "name": "stdout",
     "output_type": "stream",
     "text": [
      "Generated:  [{'type': 'pitch', 'value': 39}, {'type': 'velocity', 'value': 17}, {'type': 'pitch', 'value': 51}, {'type': 'velocity', 'value': 15}, {'type': 'pitch', 'value': 55}, {'type': 'velocity', 'value': 20}, 'next_frame', 'next_frame', 'next_frame', 'next_frame']\n",
      "Chords:  ['C_M7', 'C_M7', 'C_M7', 'C_M7', 'A_m7', 'A_m7', 'A_m7', 'A_m7', 'F_M', 'F_M', 'F_M', 'F_M', 'G_M', 'G_M', 'G_M', 'G_M', 'C_M7', 'C_M7', 'C_M7', 'C_M7', 'A_m7', 'A_m7', 'A_m7', 'A_m7', 'F_M', 'F_M', 'F_M', 'F_M', 'G_sus4', 'G_sus4', 'C_M', 'C_M']\n"
     ]
    },
    {
     "name": "stderr",
     "output_type": "stream",
     "text": [
      "100%|██████████| 16/16 [00:11<00:00,  1.44it/s]t/s, batch=4410, gpu_temp=60, loss={'chord': tensor(1.2713, device='cuda:0', grad_fn=<NllLossBackward0>), 'velocity': tensor(1.2680, device='cuda:0', grad_fn=<NllLossBackward0>), 'polyphony': tensor(1.1030, device='cuda:0', grad_fn=<NllLossBackward0>), 'density': tensor(1.2722, device='cuda:0', grad_fn=<NllLossBackward0>), 'piano_roll': tensor(1.1738, device='cuda:0', grad_fn=<NllLoss2DBackward0>), 'total': tensor(6.0883, device='cuda:0', grad_fn=<AddBackward0>)}]  \n"
     ]
    },
    {
     "name": "stdout",
     "output_type": "stream",
     "text": [
      "Generated:  [{'type': 'pitch', 'value': 12}, {'type': 'velocity', 'value': 16}, {'type': 'pitch', 'value': 39}, {'type': 'velocity', 'value': 20}, {'type': 'pitch', 'value': 43}, {'type': 'velocity', 'value': 19}, {'type': 'pitch', 'value': 48}, {'type': 'velocity', 'value': 20}, 'next_frame', 'next_frame']\n",
      "Chords:  ['A_m7', 'A_m7', 'A_m7', 'A_m7', 'C_M', 'C_M', 'C_M', 'C_M', 'F_M7', 'F_M7', 'F_M7', 'F_M7', 'G_M', 'G_M', 'G_M', 'G_M', 'C_M', 'C_M', 'C_M', 'C_M', 'D_m7', 'D_m7', 'D_m7', 'D_m7', 'G_M', 'G_M', 'G_M', 'G_M', 'C_M', 'C_M', 'C_M', 'C_M']\n"
     ]
    },
    {
     "name": "stderr",
     "output_type": "stream",
     "text": [
      "100%|██████████| 10/10 [00:05<00:00,  1.68it/s]\n",
      " 56%|█████▌    | 4420/7864 [30:20<5:17:54,  5.54s/it, batch=4410, gpu_temp=60, loss={'chord': tensor(1.2713, device='cuda:0', grad_fn=<NllLossBackward0>), 'velocity': tensor(1.2680, device='cuda:0', grad_fn=<NllLossBackward0>), 'polyphony': tensor(1.1030, device='cuda:0', grad_fn=<NllLossBackward0>), 'density': tensor(1.2722, device='cuda:0', grad_fn=<NllLossBackward0>), 'piano_roll': tensor(1.1738, device='cuda:0', grad_fn=<NllLoss2DBackward0>), 'total': tensor(6.0883, device='cuda:0', grad_fn=<AddBackward0>)}]"
     ]
    },
    {
     "name": "stdout",
     "output_type": "stream",
     "text": [
      "Generated:  [{'type': 'pitch', 'value': 39}, {'type': 'velocity', 'value': 17}, {'type': 'pitch', 'value': 51}, {'type': 'velocity', 'value': 15}, {'type': 'pitch', 'value': 55}, {'type': 'velocity', 'value': 20}, 'next_frame', 'next_frame', 'next_frame', 'next_frame']\n",
      "Chords:  ['C_M7', 'C_M7', 'C_M7', 'C_M7', 'A_m7', 'A_m7', 'A_m7', 'A_m7', 'F_M', 'F_M', 'F_M', 'F_M', 'G_M', 'G_M', 'G_M', 'G_M', 'C_M7', 'C_M7', 'C_M7', 'C_M7', 'A_m7', 'A_m7', 'A_m7', 'A_m7', 'F_M', 'F_M', 'F_M', 'F_M', 'G_7', 'G_7', 'G_M', 'G_M']\n"
     ]
    },
    {
     "name": "stderr",
     "output_type": "stream",
     "text": [
      "100%|██████████| 16/16 [00:13<00:00,  1.16it/s]t/s, batch=4910, gpu_temp=60, loss={'chord': tensor(1.3396, device='cuda:0', grad_fn=<NllLossBackward0>), 'velocity': tensor(1.3659, device='cuda:0', grad_fn=<NllLossBackward0>), 'polyphony': tensor(0.9905, device='cuda:0', grad_fn=<NllLossBackward0>), 'density': tensor(1.3101, device='cuda:0', grad_fn=<NllLossBackward0>), 'piano_roll': tensor(1.2340, device='cuda:0', grad_fn=<NllLoss2DBackward0>), 'total': tensor(6.2400, device='cuda:0', grad_fn=<AddBackward0>)}]  \n"
     ]
    },
    {
     "name": "stdout",
     "output_type": "stream",
     "text": [
      "Generated:  [{'type': 'pitch', 'value': 22}, {'type': 'velocity', 'value': 18}, {'type': 'pitch', 'value': 34}, {'type': 'velocity', 'value': 19}, {'type': 'pitch', 'value': 53}, {'type': 'velocity', 'value': 21}, 'next_frame', 'next_frame', 'next_frame', 'next_frame']\n",
      "Chords:  ['C_M7', 'C_M7', 'G_M', 'G_M', 'C_M7', 'C_M7', 'G_7', 'G_7', 'C_M7', 'C_M7', 'G_M', 'G_M', 'A_m7', 'A_m7', 'C_M7', 'C_M7', 'D_m7', 'D_m7', 'G_sus4', 'G_sus4', 'C_M', 'C_M', 'C_M7', 'C_M7', 'C_M7', 'C_M7', 'G_M', 'G_M', 'C_M7', 'C_M7', 'G_M', 'G_M']\n"
     ]
    },
    {
     "name": "stderr",
     "output_type": "stream",
     "text": [
      "100%|██████████| 10/10 [00:04<00:00,  2.13it/s]\n",
      " 62%|██████▏   | 4911/7864 [33:50<4:53:47,  5.97s/it, batch=4910, gpu_temp=60, loss={'chord': tensor(1.3396, device='cuda:0', grad_fn=<NllLossBackward0>), 'velocity': tensor(1.3659, device='cuda:0', grad_fn=<NllLossBackward0>), 'polyphony': tensor(0.9905, device='cuda:0', grad_fn=<NllLossBackward0>), 'density': tensor(1.3101, device='cuda:0', grad_fn=<NllLossBackward0>), 'piano_roll': tensor(1.2340, device='cuda:0', grad_fn=<NllLoss2DBackward0>), 'total': tensor(6.2400, device='cuda:0', grad_fn=<AddBackward0>)}]"
     ]
    },
    {
     "name": "stdout",
     "output_type": "stream",
     "text": [
      "Generated:  [{'type': 'pitch', 'value': 39}, {'type': 'velocity', 'value': 17}, {'type': 'pitch', 'value': 51}, {'type': 'velocity', 'value': 15}, {'type': 'pitch', 'value': 55}, {'type': 'velocity', 'value': 20}, 'next_frame', 'next_frame', 'next_frame', 'next_frame']\n",
      "Chords:  ['C_M7', 'C_M7', 'C_M7', 'C_M7', 'A_m7', 'A_m7', 'A_m7', 'A_m7', 'F_M', 'F_M', 'F_M', 'F_M', 'G_M', 'G_M', 'G_M', 'G_M', 'C_M7', 'C_M7', 'C_M7', 'C_M7', 'A_m7', 'A_m7', 'A_m7', 'A_m7', 'A_m7', 'A_m7', 'A_m7', 'A_m7', 'A_m7', 'A_m7', 'F_M7', 'F_M7']\n"
     ]
    },
    {
     "name": "stderr",
     "output_type": "stream",
     "text": [
      "100%|██████████| 16/16 [00:18<00:00,  1.15s/it]t/s, batch=5400, gpu_temp=61, loss={'chord': tensor(1.3382, device='cuda:0', grad_fn=<NllLossBackward0>), 'velocity': tensor(1.2127, device='cuda:0', grad_fn=<NllLossBackward0>), 'polyphony': tensor(1.0509, device='cuda:0', grad_fn=<NllLossBackward0>), 'density': tensor(1.2333, device='cuda:0', grad_fn=<NllLossBackward0>), 'piano_roll': tensor(1.2159, device='cuda:0', grad_fn=<NllLoss2DBackward0>), 'total': tensor(6.0510, device='cuda:0', grad_fn=<AddBackward0>)}]  \n"
     ]
    },
    {
     "name": "stdout",
     "output_type": "stream",
     "text": [
      "Generated:  [{'type': 'pitch', 'value': 20}, {'type': 'velocity', 'value': 19}, {'type': 'pitch', 'value': 44}, {'type': 'velocity', 'value': 22}, {'type': 'pitch', 'value': 48}, {'type': 'velocity', 'value': 21}, {'type': 'pitch', 'value': 56}, {'type': 'velocity', 'value': 23}, 'next_frame', 'next_frame']\n",
      "Chords:  ['D_M', 'D_M', 'E_m7', 'E_m7', 'E_m', 'E_m', 'E_m7', 'E_m7', 'F_M7', 'F_M7', 'F_M7', 'F_M7', 'E_m7', 'E_m7', 'E_m7', 'E_m7', 'A_m7', 'A_m7', 'A_m', 'A_m', 'C_M7', 'C_M7', 'C_M7', 'C_M7', 'F_M', 'F_M', 'F_M7', 'F_M7', 'E_7', 'E_7', 'E_7', 'E_7']\n"
     ]
    },
    {
     "name": "stderr",
     "output_type": "stream",
     "text": [
      "100%|██████████| 10/10 [00:05<00:00,  1.91it/s]\n",
      " 69%|██████▊   | 5402/7864 [36:56<5:19:06,  7.78s/it, batch=5400, gpu_temp=61, loss={'chord': tensor(1.3382, device='cuda:0', grad_fn=<NllLossBackward0>), 'velocity': tensor(1.2127, device='cuda:0', grad_fn=<NllLossBackward0>), 'polyphony': tensor(1.0509, device='cuda:0', grad_fn=<NllLossBackward0>), 'density': tensor(1.2333, device='cuda:0', grad_fn=<NllLossBackward0>), 'piano_roll': tensor(1.2159, device='cuda:0', grad_fn=<NllLoss2DBackward0>), 'total': tensor(6.0510, device='cuda:0', grad_fn=<AddBackward0>)}]"
     ]
    },
    {
     "name": "stdout",
     "output_type": "stream",
     "text": [
      "Generated:  [{'type': 'pitch', 'value': 39}, {'type': 'velocity', 'value': 17}, {'type': 'pitch', 'value': 51}, {'type': 'velocity', 'value': 15}, {'type': 'pitch', 'value': 55}, {'type': 'velocity', 'value': 20}, 'next_frame', 'next_frame', 'next_frame', 'next_frame']\n",
      "Chords:  ['C_M7', 'C_M7', 'C_M7', 'C_M7', 'A_m7', 'A_m7', 'A_m7', 'A_m7', 'F_M', 'F_M', 'F_M', 'F_M', 'G_M', 'G_M', 'G_M', 'G_M', 'C_M7', 'C_M7', 'C_M7', 'C_M7', 'A_m7', 'A_m7', 'A_m7', 'A_m7', 'A_m7', 'A_m7', 'A_m7', 'A_m7', 'A_m7', 'A_m7', 'A_m7', 'A_m7']\n"
     ]
    },
    {
     "name": "stderr",
     "output_type": "stream",
     "text": [
      "100%|██████████| 16/16 [00:09<00:00,  1.74it/s]t/s, batch=5890, gpu_temp=56, loss={'chord': tensor(1.3023, device='cuda:0', grad_fn=<NllLossBackward0>), 'velocity': tensor(1.3320, device='cuda:0', grad_fn=<NllLossBackward0>), 'polyphony': tensor(1.0129, device='cuda:0', grad_fn=<NllLossBackward0>), 'density': tensor(1.2360, device='cuda:0', grad_fn=<NllLossBackward0>), 'piano_roll': tensor(1.1521, device='cuda:0', grad_fn=<NllLoss2DBackward0>), 'total': tensor(6.0354, device='cuda:0', grad_fn=<AddBackward0>)}]  \n"
     ]
    },
    {
     "name": "stdout",
     "output_type": "stream",
     "text": [
      "Generated:  [{'type': 'pitch', 'value': 12}, {'type': 'velocity', 'value': 20}, {'type': 'pitch', 'value': 24}, {'type': 'velocity', 'value': 20}, {'type': 'pitch', 'value': 60}, {'type': 'velocity', 'value': 22}, 'next_frame', 'next_frame', 'next_frame', 'next_frame']\n",
      "Chords:  ['G_M', 'G_M', 'G_M', 'G_M', 'E_m', 'E_m', 'E_m7', 'E_m7', 'A_M', 'A_M', 'A_M', 'A_M', 'D_M', 'D_M', 'D_M', 'D_M', 'D_M', 'D_M', 'D_M', 'D_M', 'D_m', 'D_m', 'D_m', 'D_m', 'G_M', 'G_M', 'G_M', 'G_M', 'E_m', 'E_m', 'E_m7', 'E_m7']\n"
     ]
    },
    {
     "name": "stderr",
     "output_type": "stream",
     "text": [
      "100%|██████████| 10/10 [00:04<00:00,  2.31it/s]\n",
      " 75%|███████▍  | 5893/7864 [40:07<2:24:39,  4.40s/it, batch=5890, gpu_temp=56, loss={'chord': tensor(1.3023, device='cuda:0', grad_fn=<NllLossBackward0>), 'velocity': tensor(1.3320, device='cuda:0', grad_fn=<NllLossBackward0>), 'polyphony': tensor(1.0129, device='cuda:0', grad_fn=<NllLossBackward0>), 'density': tensor(1.2360, device='cuda:0', grad_fn=<NllLossBackward0>), 'piano_roll': tensor(1.1521, device='cuda:0', grad_fn=<NllLoss2DBackward0>), 'total': tensor(6.0354, device='cuda:0', grad_fn=<AddBackward0>)}]"
     ]
    },
    {
     "name": "stdout",
     "output_type": "stream",
     "text": [
      "Generated:  [{'type': 'pitch', 'value': 39}, {'type': 'velocity', 'value': 17}, {'type': 'pitch', 'value': 51}, {'type': 'velocity', 'value': 15}, {'type': 'pitch', 'value': 55}, {'type': 'velocity', 'value': 20}, 'next_frame', 'next_frame', 'next_frame', 'next_frame']\n",
      "Chords:  ['C_M7', 'C_M7', 'C_M7', 'C_M7', 'A_m7', 'A_m7', 'A_m7', 'A_m7', 'F_M', 'F_M', 'F_M', 'F_M', 'G_M', 'G_M', 'G_M', 'G_M', 'C_M7', 'C_M7', 'C_M7', 'C_M7', 'A_m7', 'A_m7', 'A_m7', 'A_m7', 'F_M', 'F_M', 'F_M', 'F_M', 'F_M', 'F_M', 'C_M7', 'C_M7']\n"
     ]
    },
    {
     "name": "stderr",
     "output_type": "stream",
     "text": [
      "100%|██████████| 16/16 [00:09<00:00,  1.67it/s]t/s, batch=6380, gpu_temp=62, loss={'chord': tensor(1.3134, device='cuda:0', grad_fn=<NllLossBackward0>), 'velocity': tensor(1.3469, device='cuda:0', grad_fn=<NllLossBackward0>), 'polyphony': tensor(1.0952, device='cuda:0', grad_fn=<NllLossBackward0>), 'density': tensor(1.2648, device='cuda:0', grad_fn=<NllLossBackward0>), 'piano_roll': tensor(1.2081, device='cuda:0', grad_fn=<NllLoss2DBackward0>), 'total': tensor(6.2284, device='cuda:0', grad_fn=<AddBackward0>)}]  \n"
     ]
    },
    {
     "name": "stdout",
     "output_type": "stream",
     "text": [
      "Generated:  [{'type': 'pitch', 'value': 51}, {'type': 'velocity', 'value': 22}, {'type': 'pitch', 'value': 60}, {'type': 'velocity', 'value': 24}, 'next_frame', 'next_frame', 'next_frame', 'next_frame', {'type': 'pitch', 'value': 39}, {'type': 'velocity', 'value': 17}]\n",
      "Chords:  ['E_m7', 'E_m7', 'E_m', 'E_m', 'C_M7', 'C_M7', 'G_M', 'G_M', 'G_M', 'G_M', 'G_M', 'G_M', 'C_M', 'C_M', 'C_M', 'C_M', 'C_M7', 'C_M7', 'E_m7', 'E_m7', 'F_M', 'F_M', 'F_M', 'F_M', 'G_M', 'G_M', 'G_M', 'G_M', 'G_M', 'G_M', 'G_M', 'G_M']\n"
     ]
    },
    {
     "name": "stderr",
     "output_type": "stream",
     "text": [
      "100%|██████████| 10/10 [00:03<00:00,  2.61it/s]\n",
      " 81%|████████  | 6384/7864 [42:52<1:48:08,  4.38s/it, batch=6380, gpu_temp=62, loss={'chord': tensor(1.3134, device='cuda:0', grad_fn=<NllLossBackward0>), 'velocity': tensor(1.3469, device='cuda:0', grad_fn=<NllLossBackward0>), 'polyphony': tensor(1.0952, device='cuda:0', grad_fn=<NllLossBackward0>), 'density': tensor(1.2648, device='cuda:0', grad_fn=<NllLossBackward0>), 'piano_roll': tensor(1.2081, device='cuda:0', grad_fn=<NllLoss2DBackward0>), 'total': tensor(6.2284, device='cuda:0', grad_fn=<AddBackward0>)}]"
     ]
    },
    {
     "name": "stdout",
     "output_type": "stream",
     "text": [
      "Generated:  [{'type': 'pitch', 'value': 39}, {'type': 'velocity', 'value': 17}, {'type': 'pitch', 'value': 51}, {'type': 'velocity', 'value': 15}, {'type': 'pitch', 'value': 55}, {'type': 'velocity', 'value': 20}, 'next_frame', 'next_frame', 'next_frame', 'next_frame']\n",
      "Chords:  ['C_M7', 'C_M7', 'C_M7', 'C_M7', 'A_m7', 'A_m7', 'A_m7', 'A_m7', 'F_M', 'F_M', 'F_M', 'F_M', 'G_M', 'G_M', 'G_M', 'G_M', 'C_M7', 'C_M7', 'C_M7', 'C_M7', 'A_m7', 'A_m7', 'A_m7', 'A_m7', 'C_M7', 'C_M7', 'C_M', 'C_M', 'C_M7', 'C_M7', 'C_M7', 'C_M7']\n"
     ]
    },
    {
     "name": "stderr",
     "output_type": "stream",
     "text": [
      "100%|██████████| 16/16 [00:09<00:00,  1.62it/s]t/s, batch=6870, gpu_temp=62, loss={'chord': tensor(1.2879, device='cuda:0', grad_fn=<NllLossBackward0>), 'velocity': tensor(1.2520, device='cuda:0', grad_fn=<NllLossBackward0>), 'polyphony': tensor(0.8914, device='cuda:0', grad_fn=<NllLossBackward0>), 'density': tensor(1.1009, device='cuda:0', grad_fn=<NllLossBackward0>), 'piano_roll': tensor(1.1800, device='cuda:0', grad_fn=<NllLoss2DBackward0>), 'total': tensor(5.7122, device='cuda:0', grad_fn=<AddBackward0>)}]  \n"
     ]
    },
    {
     "name": "stdout",
     "output_type": "stream",
     "text": [
      "Generated:  [{'type': 'pitch', 'value': 39}, {'type': 'velocity', 'value': 16}, {'type': 'pitch', 'value': 55}, {'type': 'velocity', 'value': 20}, 'next_frame', 'next_frame', 'next_frame', 'next_frame', 'next_frame', 'next_frame']\n",
      "Chords:  ['A_m', 'A_m', 'A_m', 'A_m', 'D_7', 'D_7', 'B_m7', 'B_m7', 'F_M', 'F_M', 'F_M', 'F_M', 'G_M', 'G_M', 'G_M', 'G_M', 'A_sus2', 'A_sus2', 'A_sus2', 'A_sus2', 'F_M', 'F_M', 'F_M7', 'F_M7', 'G_M', 'G_M', 'G_M', 'G_M', 'A_sus2', 'A_sus2', 'A_sus2', 'A_sus2']\n"
     ]
    },
    {
     "name": "stderr",
     "output_type": "stream",
     "text": [
      "100%|██████████| 10/10 [00:05<00:00,  2.00it/s]\n",
      " 87%|████████▋ | 6875/7864 [45:38<1:18:53,  4.79s/it, batch=6870, gpu_temp=62, loss={'chord': tensor(1.2879, device='cuda:0', grad_fn=<NllLossBackward0>), 'velocity': tensor(1.2520, device='cuda:0', grad_fn=<NllLossBackward0>), 'polyphony': tensor(0.8914, device='cuda:0', grad_fn=<NllLossBackward0>), 'density': tensor(1.1009, device='cuda:0', grad_fn=<NllLossBackward0>), 'piano_roll': tensor(1.1800, device='cuda:0', grad_fn=<NllLoss2DBackward0>), 'total': tensor(5.7122, device='cuda:0', grad_fn=<AddBackward0>)}]"
     ]
    },
    {
     "name": "stdout",
     "output_type": "stream",
     "text": [
      "Generated:  [{'type': 'pitch', 'value': 39}, {'type': 'velocity', 'value': 17}, {'type': 'pitch', 'value': 51}, {'type': 'velocity', 'value': 15}, {'type': 'pitch', 'value': 55}, {'type': 'velocity', 'value': 20}, 'next_frame', 'next_frame', 'next_frame', 'next_frame']\n",
      "Chords:  ['C_M7', 'C_M7', 'C_M7', 'C_M7', 'A_m7', 'A_m7', 'A_m7', 'A_m7', 'F_M', 'F_M', 'F_M', 'F_M', 'G_M', 'G_M', 'G_M', 'G_M', 'C_M7', 'C_M7', 'C_M7', 'C_M7', 'A_m7', 'A_m7', 'A_m7', 'A_m7', 'C_M', 'C_M', 'C_M', 'C_M', 'D_m7', 'D_m7', 'D_m7', 'D_m7']\n"
     ]
    },
    {
     "name": "stderr",
     "output_type": "stream",
     "text": [
      "100%|██████████| 16/16 [00:14<00:00,  1.07it/s]t/s, batch=7360, gpu_temp=57, loss={'chord': tensor(1.2582, device='cuda:0', grad_fn=<NllLossBackward0>), 'velocity': tensor(1.2577, device='cuda:0', grad_fn=<NllLossBackward0>), 'polyphony': tensor(0.9593, device='cuda:0', grad_fn=<NllLossBackward0>), 'density': tensor(1.3626, device='cuda:0', grad_fn=<NllLossBackward0>), 'piano_roll': tensor(1.1660, device='cuda:0', grad_fn=<NllLoss2DBackward0>), 'total': tensor(6.0038, device='cuda:0', grad_fn=<AddBackward0>)}]  \n"
     ]
    },
    {
     "name": "stdout",
     "output_type": "stream",
     "text": [
      "Generated:  [{'type': 'pitch', 'value': 10}, {'type': 'velocity', 'value': 21}, {'type': 'pitch', 'value': 22}, {'type': 'velocity', 'value': 22}, {'type': 'pitch', 'value': 53}, {'type': 'velocity', 'value': 25}, {'type': 'pitch', 'value': 65}, {'type': 'velocity', 'value': 26}, 'next_frame', 'next_frame']\n",
      "Chords:  ['C_M', 'C_M', 'F_M7', 'F_M7', 'C_M', 'C_M', 'C_M7', 'C_M7', 'A_m7', 'A_m7', 'F_M7', 'F_M7', 'C_M', 'C_M', 'G_M', 'G_M', 'A_m7', 'A_m7', 'F_M7', 'F_M7', 'C_M', 'C_M', 'G_M', 'G_M', 'A_m', 'A_m', 'F_M7', 'F_M7', 'C_M', 'C_M', 'G_M', 'G_M']\n"
     ]
    },
    {
     "name": "stderr",
     "output_type": "stream",
     "text": [
      "100%|██████████| 10/10 [00:05<00:00,  1.78it/s]\n",
      " 94%|█████████▎| 7366/7864 [48:44<56:21,  6.79s/it, batch=7360, gpu_temp=57, loss={'chord': tensor(1.2582, device='cuda:0', grad_fn=<NllLossBackward0>), 'velocity': tensor(1.2577, device='cuda:0', grad_fn=<NllLossBackward0>), 'polyphony': tensor(0.9593, device='cuda:0', grad_fn=<NllLossBackward0>), 'density': tensor(1.3626, device='cuda:0', grad_fn=<NllLossBackward0>), 'piano_roll': tensor(1.1660, device='cuda:0', grad_fn=<NllLoss2DBackward0>), 'total': tensor(6.0038, device='cuda:0', grad_fn=<AddBackward0>)}]"
     ]
    },
    {
     "name": "stdout",
     "output_type": "stream",
     "text": [
      "Generated:  [{'type': 'pitch', 'value': 39}, {'type': 'velocity', 'value': 17}, {'type': 'pitch', 'value': 51}, {'type': 'velocity', 'value': 15}, {'type': 'pitch', 'value': 55}, {'type': 'velocity', 'value': 20}, 'next_frame', 'next_frame', 'next_frame', 'next_frame']\n",
      "Chords:  ['C_M7', 'C_M7', 'C_M7', 'C_M7', 'A_m7', 'A_m7', 'A_m7', 'A_m7', 'F_M', 'F_M', 'F_M', 'F_M', 'G_M', 'G_M', 'G_M', 'G_M', 'C_M7', 'C_M7', 'C_M7', 'C_M7', 'A_m7', 'A_m7', 'A_m7', 'A_m7', 'F_M7', 'F_M7', 'F_M7', 'F_M7', 'G_M', 'G_M', 'G_M', 'G_M']\n"
     ]
    },
    {
     "name": "stderr",
     "output_type": "stream",
     "text": [
      "100%|██████████| 16/16 [00:15<00:00,  1.02it/s]t/s, batch=7850, gpu_temp=61, loss={'chord': tensor(1.4183, device='cuda:0', grad_fn=<NllLossBackward0>), 'velocity': tensor(1.2701, device='cuda:0', grad_fn=<NllLossBackward0>), 'polyphony': tensor(0.9240, device='cuda:0', grad_fn=<NllLossBackward0>), 'density': tensor(1.1999, device='cuda:0', grad_fn=<NllLossBackward0>), 'piano_roll': tensor(1.2101, device='cuda:0', grad_fn=<NllLoss2DBackward0>), 'total': tensor(6.0224, device='cuda:0', grad_fn=<AddBackward0>)}]\n"
     ]
    },
    {
     "name": "stdout",
     "output_type": "stream",
     "text": [
      "Generated:  [{'type': 'pitch', 'value': 8}, {'type': 'velocity', 'value': 20}, {'type': 'pitch', 'value': 20}, {'type': 'velocity', 'value': 21}, {'type': 'pitch', 'value': 32}, {'type': 'velocity', 'value': 19}, {'type': 'pitch', 'value': 36}, {'type': 'velocity', 'value': 18}, {'type': 'pitch', 'value': 39}, {'type': 'velocity', 'value': 19}]\n",
      "Chords:  ['A_m', 'A_m', 'A_m', 'A_m', 'F_M7', 'F_M7', 'D_m7', 'D_m7', 'E_m7', 'E_m7', 'E_m7', 'E_m7', 'A_m', 'A_m', 'A_m7', 'A_m7', 'C_M', 'C_M', 'C_M', 'C_M', 'F_M7', 'F_M7', 'F_M', 'F_M', 'E_7', 'E_7', 'E_7', 'E_7', 'A_m', 'A_m', 'A_m', 'A_m']\n"
     ]
    },
    {
     "name": "stderr",
     "output_type": "stream",
     "text": [
      "100%|██████████| 10/10 [00:05<00:00,  1.90it/s]\n",
      "100%|█████████▉| 7857/7864 [52:01<00:46,  6.62s/it, batch=7850, gpu_temp=61, loss={'chord': tensor(1.4183, device='cuda:0', grad_fn=<NllLossBackward0>), 'velocity': tensor(1.2701, device='cuda:0', grad_fn=<NllLossBackward0>), 'polyphony': tensor(0.9240, device='cuda:0', grad_fn=<NllLossBackward0>), 'density': tensor(1.1999, device='cuda:0', grad_fn=<NllLossBackward0>), 'piano_roll': tensor(1.2101, device='cuda:0', grad_fn=<NllLoss2DBackward0>), 'total': tensor(6.0224, device='cuda:0', grad_fn=<AddBackward0>)}]"
     ]
    },
    {
     "name": "stdout",
     "output_type": "stream",
     "text": [
      "Generated:  [{'type': 'pitch', 'value': 39}, {'type': 'velocity', 'value': 17}, {'type': 'pitch', 'value': 51}, {'type': 'velocity', 'value': 15}, {'type': 'pitch', 'value': 55}, {'type': 'velocity', 'value': 20}, 'next_frame', 'next_frame', 'next_frame', 'next_frame']\n",
      "Chords:  ['C_M7', 'C_M7', 'C_M7', 'C_M7', 'A_m7', 'A_m7', 'A_m7', 'A_m7', 'F_M', 'F_M', 'F_M', 'F_M', 'G_M', 'G_M', 'G_M', 'G_M', 'C_M7', 'C_M7', 'C_M7', 'C_M7', 'A_m7', 'A_m7', 'A_m7', 'A_m7', 'C_M7', 'C_M7', 'C_M', 'C_M', 'F_M', 'F_M', 'F_M', 'F_M']\n"
     ]
    },
    {
     "name": "stderr",
     "output_type": "stream",
     "text": [
      "100%|██████████| 7864/7864 [52:05<00:00,  2.52it/s, batch=7860, gpu_temp=56, loss={'chord': tensor(1.2912, device='cuda:0', grad_fn=<NllLossBackward0>), 'velocity': tensor(1.2703, device='cuda:0', grad_fn=<NllLossBackward0>), 'polyphony': tensor(1.0573, device='cuda:0', grad_fn=<NllLossBackward0>), 'density': tensor(1.1439, device='cuda:0', grad_fn=<NllLossBackward0>), 'piano_roll': tensor(1.1457, device='cuda:0', grad_fn=<NllLoss2DBackward0>), 'total': tensor(5.9084, device='cuda:0', grad_fn=<AddBackward0>)}]\n",
      "100%|██████████| 16/16 [00:10<00:00,  1.51it/s]/s, batch=490, gpu_temp=64, loss={'chord': tensor(1.4512, device='cuda:0', grad_fn=<NllLossBackward0>), 'velocity': tensor(1.4025, device='cuda:0', grad_fn=<NllLossBackward0>), 'polyphony': tensor(0.9232, device='cuda:0', grad_fn=<NllLossBackward0>), 'density': tensor(1.2077, device='cuda:0', grad_fn=<NllLossBackward0>), 'piano_roll': tensor(1.2395, device='cuda:0', grad_fn=<NllLoss2DBackward0>), 'total': tensor(6.2241, device='cuda:0', grad_fn=<AddBackward0>)}]\n"
     ]
    },
    {
     "name": "stdout",
     "output_type": "stream",
     "text": [
      "Generated:  ['next_frame', 'next_frame', 'next_frame', 'next_frame', 'next_frame', 'next_frame', 'next_frame', 'next_frame', 'next_frame', 'next_frame']\n",
      "Chords:  ['A_m7', 'A_m7', 'A_m7', 'A_m7', 'F_M', 'F_M', 'F_M', 'F_M', 'F_M', 'F_M', 'F_M', 'F_M', 'G_7', 'G_7', 'G_7', 'G_7', 'F_M', 'F_M', 'F_M7', 'F_M7', 'C_M7', 'C_M7', 'C_M7', 'C_M7', 'F_M', 'F_M', 'F_M', 'F_M', 'C_M', 'C_M', 'C_M7', 'C_M7']\n"
     ]
    },
    {
     "name": "stderr",
     "output_type": "stream",
     "text": [
      "100%|██████████| 10/10 [00:06<00:00,  1.65it/s]\n",
      "  6%|▋         | 492/7864 [03:07<11:03:58,  5.40s/it, batch=490, gpu_temp=64, loss={'chord': tensor(1.4512, device='cuda:0', grad_fn=<NllLossBackward0>), 'velocity': tensor(1.4025, device='cuda:0', grad_fn=<NllLossBackward0>), 'polyphony': tensor(0.9232, device='cuda:0', grad_fn=<NllLossBackward0>), 'density': tensor(1.2077, device='cuda:0', grad_fn=<NllLossBackward0>), 'piano_roll': tensor(1.2395, device='cuda:0', grad_fn=<NllLoss2DBackward0>), 'total': tensor(6.2241, device='cuda:0', grad_fn=<AddBackward0>)}]"
     ]
    },
    {
     "name": "stdout",
     "output_type": "stream",
     "text": [
      "Generated:  [{'type': 'pitch', 'value': 39}, {'type': 'velocity', 'value': 17}, {'type': 'pitch', 'value': 51}, {'type': 'velocity', 'value': 15}, {'type': 'pitch', 'value': 55}, {'type': 'velocity', 'value': 20}, 'next_frame', 'next_frame', 'next_frame', 'next_frame']\n",
      "Chords:  ['C_M7', 'C_M7', 'C_M7', 'C_M7', 'A_m7', 'A_m7', 'A_m7', 'A_m7', 'F_M', 'F_M', 'F_M', 'F_M', 'G_M', 'G_M', 'G_M', 'G_M', 'C_M7', 'C_M7', 'C_M7', 'C_M7', 'A_m7', 'A_m7', 'A_m7', 'A_m7', 'F_M', 'F_M', 'F_M', 'F_M', 'G_7', 'G_7', 'G_M', 'G_M']\n"
     ]
    },
    {
     "name": "stderr",
     "output_type": "stream",
     "text": [
      "100%|██████████| 16/16 [00:10<00:00,  1.50it/s]/s, batch=980, gpu_temp=63, loss={'chord': tensor(1.1676, device='cuda:0', grad_fn=<NllLossBackward0>), 'velocity': tensor(1.1044, device='cuda:0', grad_fn=<NllLossBackward0>), 'polyphony': tensor(0.8442, device='cuda:0', grad_fn=<NllLossBackward0>), 'density': tensor(0.9942, device='cuda:0', grad_fn=<NllLossBackward0>), 'piano_roll': tensor(1.1295, device='cuda:0', grad_fn=<NllLoss2DBackward0>), 'total': tensor(5.2399, device='cuda:0', grad_fn=<AddBackward0>)}]   \n"
     ]
    },
    {
     "name": "stdout",
     "output_type": "stream",
     "text": [
      "Generated:  [{'type': 'pitch', 'value': 27}, {'type': 'velocity', 'value': 14}, {'type': 'pitch', 'value': 34}, {'type': 'velocity', 'value': 14}, {'type': 'pitch', 'value': 39}, {'type': 'velocity', 'value': 16}, {'type': 'pitch', 'value': 43}, {'type': 'velocity', 'value': 18}, 'next_frame', 'next_frame']\n",
      "Chords:  ['F_M7', 'F_M7', 'A_m', 'A_m', 'C_M', 'C_M', 'C_M', 'C_M', 'F_M7', 'F_M7', 'G_M', 'G_M', 'A_m7', 'A_m7', 'C_M', 'C_M', 'F_M7', 'F_M7', 'G_M', 'G_M', 'A_m', 'A_m', 'C_M', 'C_M', 'F_M', 'F_M', 'G_M', 'G_M', 'A_m7', 'A_m7', 'C_M', 'C_M']\n"
     ]
    },
    {
     "name": "stderr",
     "output_type": "stream",
     "text": [
      "100%|██████████| 10/10 [00:04<00:00,  2.04it/s]\n",
      " 12%|█▎        | 983/7864 [05:55<9:38:35,  5.05s/it, batch=980, gpu_temp=63, loss={'chord': tensor(1.1676, device='cuda:0', grad_fn=<NllLossBackward0>), 'velocity': tensor(1.1044, device='cuda:0', grad_fn=<NllLossBackward0>), 'polyphony': tensor(0.8442, device='cuda:0', grad_fn=<NllLossBackward0>), 'density': tensor(0.9942, device='cuda:0', grad_fn=<NllLossBackward0>), 'piano_roll': tensor(1.1295, device='cuda:0', grad_fn=<NllLoss2DBackward0>), 'total': tensor(5.2399, device='cuda:0', grad_fn=<AddBackward0>)}]"
     ]
    },
    {
     "name": "stdout",
     "output_type": "stream",
     "text": [
      "Generated:  [{'type': 'pitch', 'value': 39}, {'type': 'velocity', 'value': 17}, {'type': 'pitch', 'value': 51}, {'type': 'velocity', 'value': 15}, {'type': 'pitch', 'value': 55}, {'type': 'velocity', 'value': 20}, 'next_frame', 'next_frame', 'next_frame', 'next_frame']\n",
      "Chords:  ['C_M7', 'C_M7', 'C_M7', 'C_M7', 'A_m7', 'A_m7', 'A_m7', 'A_m7', 'F_M', 'F_M', 'F_M', 'F_M', 'G_M', 'G_M', 'G_M', 'G_M', 'C_M7', 'C_M7', 'C_M7', 'C_M7', 'A_m7', 'A_m7', 'A_m7', 'A_m7', 'F_M7', 'F_M7', 'F_M7', 'F_M7', 'G_M', 'G_M', 'G_M', 'G_M']\n"
     ]
    },
    {
     "name": "stderr",
     "output_type": "stream",
     "text": [
      "100%|██████████| 16/16 [00:13<00:00,  1.17it/s]t/s, batch=1470, gpu_temp=61, loss={'chord': tensor(1.3182, device='cuda:0', grad_fn=<NllLossBackward0>), 'velocity': tensor(1.1946, device='cuda:0', grad_fn=<NllLossBackward0>), 'polyphony': tensor(0.9196, device='cuda:0', grad_fn=<NllLossBackward0>), 'density': tensor(0.9743, device='cuda:0', grad_fn=<NllLossBackward0>), 'piano_roll': tensor(1.1047, device='cuda:0', grad_fn=<NllLoss2DBackward0>), 'total': tensor(5.5113, device='cuda:0', grad_fn=<AddBackward0>)}]  \n"
     ]
    },
    {
     "name": "stdout",
     "output_type": "stream",
     "text": [
      "Generated:  [{'type': 'pitch', 'value': 15}, {'type': 'velocity', 'value': 21}, {'type': 'pitch', 'value': 27}, {'type': 'velocity', 'value': 23}, {'type': 'pitch', 'value': 51}, {'type': 'velocity', 'value': 24}, {'type': 'pitch', 'value': 63}, {'type': 'velocity', 'value': 24}, 'next_frame', 'next_frame']\n",
      "Chords:  ['F_M', 'F_M', 'F_M', 'F_M', 'C_M', 'C_M', 'C_M', 'C_M', 'A_m7', 'A_m7', 'A_m7', 'A_m7', 'F_M7', 'F_M7', 'F_M', 'F_M', 'C_M', 'C_M', 'C_M', 'C_M', 'G_M', 'G_M', 'G_M', 'G_M', 'A_m', 'A_m', 'A_m', 'A_m', 'F_M', 'F_M', 'F_M', 'F_M']\n"
     ]
    },
    {
     "name": "stderr",
     "output_type": "stream",
     "text": [
      "100%|██████████| 10/10 [00:05<00:00,  1.98it/s]\n",
      " 19%|█▊        | 1474/7864 [09:00<10:35:30,  5.97s/it, batch=1470, gpu_temp=61, loss={'chord': tensor(1.3182, device='cuda:0', grad_fn=<NllLossBackward0>), 'velocity': tensor(1.1946, device='cuda:0', grad_fn=<NllLossBackward0>), 'polyphony': tensor(0.9196, device='cuda:0', grad_fn=<NllLossBackward0>), 'density': tensor(0.9743, device='cuda:0', grad_fn=<NllLossBackward0>), 'piano_roll': tensor(1.1047, device='cuda:0', grad_fn=<NllLoss2DBackward0>), 'total': tensor(5.5113, device='cuda:0', grad_fn=<AddBackward0>)}]"
     ]
    },
    {
     "name": "stdout",
     "output_type": "stream",
     "text": [
      "Generated:  [{'type': 'pitch', 'value': 39}, {'type': 'velocity', 'value': 17}, {'type': 'pitch', 'value': 51}, {'type': 'velocity', 'value': 15}, {'type': 'pitch', 'value': 55}, {'type': 'velocity', 'value': 20}, 'next_frame', 'next_frame', 'next_frame', 'next_frame']\n",
      "Chords:  ['C_M7', 'C_M7', 'C_M7', 'C_M7', 'A_m7', 'A_m7', 'A_m7', 'A_m7', 'F_M', 'F_M', 'F_M', 'F_M', 'G_M', 'G_M', 'G_M', 'G_M', 'C_M7', 'C_M7', 'C_M7', 'C_M7', 'A_m7', 'A_m7', 'A_m7', 'A_m7', 'F_M', 'F_M', 'F_M', 'F_M', 'G_7', 'G_7', 'G_M', 'G_M']\n"
     ]
    },
    {
     "name": "stderr",
     "output_type": "stream",
     "text": [
      "100%|██████████| 16/16 [00:13<00:00,  1.17it/s]t/s, batch=1960, gpu_temp=60, loss={'chord': tensor(1.3868, device='cuda:0', grad_fn=<NllLossBackward0>), 'velocity': tensor(1.1433, device='cuda:0', grad_fn=<NllLossBackward0>), 'polyphony': tensor(0.9146, device='cuda:0', grad_fn=<NllLossBackward0>), 'density': tensor(1.0255, device='cuda:0', grad_fn=<NllLossBackward0>), 'piano_roll': tensor(1.0998, device='cuda:0', grad_fn=<NllLoss2DBackward0>), 'total': tensor(5.5699, device='cuda:0', grad_fn=<AddBackward0>)}]   \n"
     ]
    },
    {
     "name": "stdout",
     "output_type": "stream",
     "text": [
      "Generated:  [{'type': 'pitch', 'value': 20}, {'type': 'velocity', 'value': 18}, {'type': 'pitch', 'value': 27}, {'type': 'velocity', 'value': 17}, {'type': 'pitch', 'value': 32}, {'type': 'velocity', 'value': 18}, 'next_frame', 'next_frame', 'next_frame', 'next_frame']\n",
      "Chords:  ['D_m7', 'D_m7', 'D_m7', 'D_m7', 'A_m', 'A_m', 'A_m', 'A_m', 'D_m7', 'D_m7', 'F_M7', 'F_M7', 'D_m7', 'D_m7', 'D_m7', 'D_m7', 'D_m', 'D_m', 'D_m', 'D_m', 'A_m', 'A_m', 'A_m', 'A_m', 'A_m', 'A_m', 'A_m', 'A_m', 'D_m', 'D_m', 'A_m', 'A_m']\n"
     ]
    },
    {
     "name": "stderr",
     "output_type": "stream",
     "text": [
      "100%|██████████| 10/10 [00:04<00:00,  2.03it/s]\n",
      " 25%|██▍       | 1965/7864 [12:00<9:45:11,  5.95s/it, batch=1960, gpu_temp=60, loss={'chord': tensor(1.3868, device='cuda:0', grad_fn=<NllLossBackward0>), 'velocity': tensor(1.1433, device='cuda:0', grad_fn=<NllLossBackward0>), 'polyphony': tensor(0.9146, device='cuda:0', grad_fn=<NllLossBackward0>), 'density': tensor(1.0255, device='cuda:0', grad_fn=<NllLossBackward0>), 'piano_roll': tensor(1.0998, device='cuda:0', grad_fn=<NllLoss2DBackward0>), 'total': tensor(5.5699, device='cuda:0', grad_fn=<AddBackward0>)}]"
     ]
    },
    {
     "name": "stdout",
     "output_type": "stream",
     "text": [
      "Generated:  [{'type': 'pitch', 'value': 39}, {'type': 'velocity', 'value': 17}, {'type': 'pitch', 'value': 51}, {'type': 'velocity', 'value': 15}, {'type': 'pitch', 'value': 55}, {'type': 'velocity', 'value': 20}, 'next_frame', 'next_frame', 'next_frame', 'next_frame']\n",
      "Chords:  ['C_M7', 'C_M7', 'C_M7', 'C_M7', 'A_m7', 'A_m7', 'A_m7', 'A_m7', 'F_M', 'F_M', 'F_M', 'F_M', 'G_M', 'G_M', 'G_M', 'G_M', 'C_M7', 'C_M7', 'C_M7', 'C_M7', 'A_m7', 'A_m7', 'A_m7', 'A_m7', 'F_M', 'F_M', 'F_M', 'F_M', 'G_7', 'G_7', 'G_M', 'G_M']\n"
     ]
    },
    {
     "name": "stderr",
     "output_type": "stream",
     "text": [
      "100%|██████████| 16/16 [00:09<00:00,  1.62it/s]t/s, batch=2450, gpu_temp=61, loss={'chord': tensor(1.2957, device='cuda:0', grad_fn=<NllLossBackward0>), 'velocity': tensor(1.3000, device='cuda:0', grad_fn=<NllLossBackward0>), 'polyphony': tensor(0.9227, device='cuda:0', grad_fn=<NllLossBackward0>), 'density': tensor(0.9338, device='cuda:0', grad_fn=<NllLossBackward0>), 'piano_roll': tensor(1.2314, device='cuda:0', grad_fn=<NllLoss2DBackward0>), 'total': tensor(5.6836, device='cuda:0', grad_fn=<AddBackward0>)}]  \n"
     ]
    },
    {
     "name": "stdout",
     "output_type": "stream",
     "text": [
      "Generated:  [{'type': 'pitch', 'value': 42}, {'type': 'velocity', 'value': 18}, 'next_frame', 'next_frame', 'next_frame', 'next_frame', {'type': 'pitch', 'value': 42}, {'type': 'velocity', 'value': 14}, {'type': 'pitch', 'value': 46}, {'type': 'velocity', 'value': 15}]\n",
      "Chords:  ['C_M', 'C_M', 'C_M', 'C_M', 'A_m7', 'A_m7', 'A_m7', 'A_m7', 'F_M7', 'F_M7', 'F_M7', 'F_M7', 'C_M', 'C_M', 'C_M', 'C_M', 'E_m', 'E_m', 'E_m', 'E_m', 'A_m7', 'A_m7', 'A_m7', 'A_m7', 'A_m7', 'A_m7', 'F_M7', 'F_M7', 'F_M7', 'F_M7', 'F_M7', 'F_M7']\n"
     ]
    },
    {
     "name": "stderr",
     "output_type": "stream",
     "text": [
      "100%|██████████| 10/10 [00:05<00:00,  1.93it/s]\n",
      " 31%|███       | 2456/7864 [14:55<7:16:32,  4.84s/it, batch=2450, gpu_temp=61, loss={'chord': tensor(1.2957, device='cuda:0', grad_fn=<NllLossBackward0>), 'velocity': tensor(1.3000, device='cuda:0', grad_fn=<NllLossBackward0>), 'polyphony': tensor(0.9227, device='cuda:0', grad_fn=<NllLossBackward0>), 'density': tensor(0.9338, device='cuda:0', grad_fn=<NllLossBackward0>), 'piano_roll': tensor(1.2314, device='cuda:0', grad_fn=<NllLoss2DBackward0>), 'total': tensor(5.6836, device='cuda:0', grad_fn=<AddBackward0>)}]"
     ]
    },
    {
     "name": "stdout",
     "output_type": "stream",
     "text": [
      "Generated:  [{'type': 'pitch', 'value': 39}, {'type': 'velocity', 'value': 17}, {'type': 'pitch', 'value': 51}, {'type': 'velocity', 'value': 15}, {'type': 'pitch', 'value': 55}, {'type': 'velocity', 'value': 20}, 'next_frame', 'next_frame', 'next_frame', 'next_frame']\n",
      "Chords:  ['C_M7', 'C_M7', 'C_M7', 'C_M7', 'A_m7', 'A_m7', 'A_m7', 'A_m7', 'F_M', 'F_M', 'F_M', 'F_M', 'G_M', 'G_M', 'G_M', 'G_M', 'C_M7', 'C_M7', 'C_M7', 'C_M7', 'A_m7', 'A_m7', 'A_m7', 'A_m7', 'A_m7', 'A_m7', 'A_m7', 'A_m7', 'F_sus2', 'F_sus2', 'F_M', 'F_M']\n"
     ]
    },
    {
     "name": "stderr",
     "output_type": "stream",
     "text": [
      "100%|██████████| 16/16 [00:10<00:00,  1.49it/s]t/s, batch=2940, gpu_temp=61, loss={'chord': tensor(1.2286, device='cuda:0', grad_fn=<NllLossBackward0>), 'velocity': tensor(1.1974, device='cuda:0', grad_fn=<NllLossBackward0>), 'polyphony': tensor(0.8886, device='cuda:0', grad_fn=<NllLossBackward0>), 'density': tensor(1.0570, device='cuda:0', grad_fn=<NllLossBackward0>), 'piano_roll': tensor(1.1201, device='cuda:0', grad_fn=<NllLoss2DBackward0>), 'total': tensor(5.4916, device='cuda:0', grad_fn=<AddBackward0>)}]  \n"
     ]
    },
    {
     "name": "stdout",
     "output_type": "stream",
     "text": [
      "Generated:  [{'type': 'pitch', 'value': 12}, {'type': 'velocity', 'value': 20}, {'type': 'pitch', 'value': 24}, {'type': 'velocity', 'value': 21}, {'type': 'pitch', 'value': 48}, {'type': 'velocity', 'value': 23}, 'next_frame', 'next_frame', 'next_frame', 'next_frame']\n",
      "Chords:  ['F_M7', 'F_M7', 'F_M7', 'F_M7', 'G_M', 'G_M', 'G_M', 'G_M', 'A_M', 'A_M', 'A_m', 'A_m', 'A_m', 'A_m', 'A_M', 'A_M', 'A_M', 'A_M', 'A_m', 'A_m', 'F_M7', 'F_M7', 'F_M7', 'F_M7', 'G_M', 'G_M', 'G_M', 'G_M', 'A_M', 'A_M', 'A_M', 'A_M']\n"
     ]
    },
    {
     "name": "stderr",
     "output_type": "stream",
     "text": [
      "100%|██████████| 10/10 [00:04<00:00,  2.32it/s]\n",
      " 37%|███▋      | 2947/7864 [17:38<6:36:41,  4.84s/it, batch=2940, gpu_temp=61, loss={'chord': tensor(1.2286, device='cuda:0', grad_fn=<NllLossBackward0>), 'velocity': tensor(1.1974, device='cuda:0', grad_fn=<NllLossBackward0>), 'polyphony': tensor(0.8886, device='cuda:0', grad_fn=<NllLossBackward0>), 'density': tensor(1.0570, device='cuda:0', grad_fn=<NllLossBackward0>), 'piano_roll': tensor(1.1201, device='cuda:0', grad_fn=<NllLoss2DBackward0>), 'total': tensor(5.4916, device='cuda:0', grad_fn=<AddBackward0>)}]"
     ]
    },
    {
     "name": "stdout",
     "output_type": "stream",
     "text": [
      "Generated:  [{'type': 'pitch', 'value': 39}, {'type': 'velocity', 'value': 17}, {'type': 'pitch', 'value': 51}, {'type': 'velocity', 'value': 15}, {'type': 'pitch', 'value': 55}, {'type': 'velocity', 'value': 20}, 'next_frame', 'next_frame', 'next_frame', 'next_frame']\n",
      "Chords:  ['C_M7', 'C_M7', 'C_M7', 'C_M7', 'A_m7', 'A_m7', 'A_m7', 'A_m7', 'F_M', 'F_M', 'F_M', 'F_M', 'G_M', 'G_M', 'G_M', 'G_M', 'C_M7', 'C_M7', 'C_M7', 'C_M7', 'A_m7', 'A_m7', 'A_m7', 'A_m7', 'F_M', 'F_M', 'F_M', 'F_M', 'G_M', 'G_M', 'G_M', 'G_M']\n"
     ]
    },
    {
     "name": "stderr",
     "output_type": "stream",
     "text": [
      "100%|██████████| 16/16 [00:10<00:00,  1.49it/s]t/s, batch=3430, gpu_temp=61, loss={'chord': tensor(1.2709, device='cuda:0', grad_fn=<NllLossBackward0>), 'velocity': tensor(1.1730, device='cuda:0', grad_fn=<NllLossBackward0>), 'polyphony': tensor(0.7443, device='cuda:0', grad_fn=<NllLossBackward0>), 'density': tensor(1.0330, device='cuda:0', grad_fn=<NllLossBackward0>), 'piano_roll': tensor(1.1487, device='cuda:0', grad_fn=<NllLoss2DBackward0>), 'total': tensor(5.3698, device='cuda:0', grad_fn=<AddBackward0>)}]  \n"
     ]
    },
    {
     "name": "stdout",
     "output_type": "stream",
     "text": [
      "Generated:  [{'type': 'pitch', 'value': 12}, {'type': 'velocity', 'value': 22}, {'type': 'pitch', 'value': 24}, {'type': 'velocity', 'value': 23}, {'type': 'pitch', 'value': 36}, {'type': 'velocity', 'value': 21}, 'next_frame', 'next_frame', 'next_frame', 'next_frame']\n",
      "Chords:  ['G_7', 'G_7', 'G_7', 'G_7', 'A_7', 'A_7', 'A_m', 'A_m', 'A_sus4', 'A_sus4', 'A_m', 'A_m', 'D_m7', 'D_m7', 'D_m7', 'D_m7', 'G_7', 'G_7', 'G_7', 'G_7', 'F_M7', 'F_M7', 'A_m7', 'A_m7', 'C_M', 'C_M', 'E_m7', 'E_m7', 'D_m7', 'D_m7', 'D_m7', 'D_m7']\n"
     ]
    },
    {
     "name": "stderr",
     "output_type": "stream",
     "text": [
      "100%|██████████| 10/10 [00:05<00:00,  1.92it/s]\n",
      " 44%|████▎     | 3438/7864 [20:26<6:17:28,  5.12s/it, batch=3430, gpu_temp=61, loss={'chord': tensor(1.2709, device='cuda:0', grad_fn=<NllLossBackward0>), 'velocity': tensor(1.1730, device='cuda:0', grad_fn=<NllLossBackward0>), 'polyphony': tensor(0.7443, device='cuda:0', grad_fn=<NllLossBackward0>), 'density': tensor(1.0330, device='cuda:0', grad_fn=<NllLossBackward0>), 'piano_roll': tensor(1.1487, device='cuda:0', grad_fn=<NllLoss2DBackward0>), 'total': tensor(5.3698, device='cuda:0', grad_fn=<AddBackward0>)}]"
     ]
    },
    {
     "name": "stdout",
     "output_type": "stream",
     "text": [
      "Generated:  [{'type': 'pitch', 'value': 39}, {'type': 'velocity', 'value': 17}, {'type': 'pitch', 'value': 51}, {'type': 'velocity', 'value': 15}, {'type': 'pitch', 'value': 55}, {'type': 'velocity', 'value': 20}, 'next_frame', 'next_frame', 'next_frame', 'next_frame']\n",
      "Chords:  ['C_M7', 'C_M7', 'C_M7', 'C_M7', 'A_m7', 'A_m7', 'A_m7', 'A_m7', 'F_M', 'F_M', 'F_M', 'F_M', 'G_M', 'G_M', 'G_M', 'G_M', 'C_M7', 'C_M7', 'C_M7', 'C_M7', 'A_m7', 'A_m7', 'A_m7', 'A_m7', 'F_M', 'F_M', 'F_M', 'F_M', 'G_m7', 'G_m7', 'G_m7', 'G_m7']\n"
     ]
    },
    {
     "name": "stderr",
     "output_type": "stream",
     "text": [
      "100%|██████████| 16/16 [00:12<00:00,  1.27it/s]t/s, batch=3920, gpu_temp=61, loss={'chord': tensor(1.2581, device='cuda:0', grad_fn=<NllLossBackward0>), 'velocity': tensor(1.1839, device='cuda:0', grad_fn=<NllLossBackward0>), 'polyphony': tensor(0.7733, device='cuda:0', grad_fn=<NllLossBackward0>), 'density': tensor(0.9605, device='cuda:0', grad_fn=<NllLossBackward0>), 'piano_roll': tensor(1.1739, device='cuda:0', grad_fn=<NllLoss2DBackward0>), 'total': tensor(5.3497, device='cuda:0', grad_fn=<AddBackward0>)}]  \n"
     ]
    },
    {
     "name": "stdout",
     "output_type": "stream",
     "text": [
      "Generated:  [{'type': 'pitch', 'value': 24}, {'type': 'velocity', 'value': 16}, 'next_frame', 'next_frame', 'next_frame', 'next_frame', {'type': 'pitch', 'value': 31}, {'type': 'velocity', 'value': 17}, {'type': 'pitch', 'value': 51}, {'type': 'velocity', 'value': 21}]\n",
      "Chords:  ['E_M', 'E_M', 'E_M', 'E_M', 'E_M', 'E_M', 'E_M', 'E_M', 'E_M', 'E_M', 'A_M7', 'A_M7', 'E_M', 'E_M', 'E_M', 'E_M', 'E_M', 'E_M', 'E_M', 'E_M', 'E_M', 'E_M', 'E_M', 'E_M', 'E_M', 'E_M', 'E_M', 'E_M', 'E_M', 'E_M', 'E_M', 'E_M']\n"
     ]
    },
    {
     "name": "stderr",
     "output_type": "stream",
     "text": [
      "100%|██████████| 10/10 [00:04<00:00,  2.34it/s]\n",
      " 50%|████▉     | 3929/7864 [23:15<5:53:44,  5.39s/it, batch=3920, gpu_temp=61, loss={'chord': tensor(1.2581, device='cuda:0', grad_fn=<NllLossBackward0>), 'velocity': tensor(1.1839, device='cuda:0', grad_fn=<NllLossBackward0>), 'polyphony': tensor(0.7733, device='cuda:0', grad_fn=<NllLossBackward0>), 'density': tensor(0.9605, device='cuda:0', grad_fn=<NllLossBackward0>), 'piano_roll': tensor(1.1739, device='cuda:0', grad_fn=<NllLoss2DBackward0>), 'total': tensor(5.3497, device='cuda:0', grad_fn=<AddBackward0>)}]"
     ]
    },
    {
     "name": "stdout",
     "output_type": "stream",
     "text": [
      "Generated:  [{'type': 'pitch', 'value': 39}, {'type': 'velocity', 'value': 17}, {'type': 'pitch', 'value': 51}, {'type': 'velocity', 'value': 15}, {'type': 'pitch', 'value': 55}, {'type': 'velocity', 'value': 20}, 'next_frame', 'next_frame', 'next_frame', 'next_frame']\n",
      "Chords:  ['C_M7', 'C_M7', 'C_M7', 'C_M7', 'A_m7', 'A_m7', 'A_m7', 'A_m7', 'F_M', 'F_M', 'F_M', 'F_M', 'G_M', 'G_M', 'G_M', 'G_M', 'C_M7', 'C_M7', 'C_M7', 'C_M7', 'A_m7', 'A_m7', 'A_m7', 'A_m7', 'F_sus2', 'F_sus2', 'F_M7', 'F_M7', 'G_M', 'G_M', 'G_M', 'G_M']\n"
     ]
    },
    {
     "name": "stderr",
     "output_type": "stream",
     "text": [
      "100%|██████████| 16/16 [00:07<00:00,  2.02it/s]t/s, batch=4410, gpu_temp=63, loss={'chord': tensor(1.3660, device='cuda:0', grad_fn=<NllLossBackward0>), 'velocity': tensor(1.1664, device='cuda:0', grad_fn=<NllLossBackward0>), 'polyphony': tensor(0.7900, device='cuda:0', grad_fn=<NllLossBackward0>), 'density': tensor(1.0303, device='cuda:0', grad_fn=<NllLossBackward0>), 'piano_roll': tensor(1.1409, device='cuda:0', grad_fn=<NllLoss2DBackward0>), 'total': tensor(5.4938, device='cuda:0', grad_fn=<AddBackward0>)}]  \n"
     ]
    },
    {
     "name": "stdout",
     "output_type": "stream",
     "text": [
      "Generated:  ['next_frame', 'next_frame', 'next_frame', 'next_frame', {'type': 'pitch', 'value': 24}, {'type': 'velocity', 'value': 17}, 'next_frame', 'next_frame', 'next_frame', 'next_frame']\n",
      "Chords:  ['A_m7', 'A_m7', 'A_m7', 'A_m7', 'E_M', 'E_M', 'E_M', 'E_M', 'E_M', 'E_M', 'E_M', 'E_M', 'F_M', 'F_M', 'F_M', 'F_M', 'C_M', 'C_M', 'C_M', 'C_M', 'C_M', 'C_M', 'C_M', 'C_M', 'C_M', 'C_M', 'C_M7', 'C_M7', 'G_M', 'G_M', 'G_M', 'G_M']\n"
     ]
    },
    {
     "name": "stderr",
     "output_type": "stream",
     "text": [
      "100%|██████████| 10/10 [00:04<00:00,  2.26it/s]\n",
      " 56%|█████▌    | 4420/7864 [25:56<3:50:44,  4.02s/it, batch=4410, gpu_temp=63, loss={'chord': tensor(1.3660, device='cuda:0', grad_fn=<NllLossBackward0>), 'velocity': tensor(1.1664, device='cuda:0', grad_fn=<NllLossBackward0>), 'polyphony': tensor(0.7900, device='cuda:0', grad_fn=<NllLossBackward0>), 'density': tensor(1.0303, device='cuda:0', grad_fn=<NllLossBackward0>), 'piano_roll': tensor(1.1409, device='cuda:0', grad_fn=<NllLoss2DBackward0>), 'total': tensor(5.4938, device='cuda:0', grad_fn=<AddBackward0>)}]"
     ]
    },
    {
     "name": "stdout",
     "output_type": "stream",
     "text": [
      "Generated:  [{'type': 'pitch', 'value': 39}, {'type': 'velocity', 'value': 17}, {'type': 'pitch', 'value': 51}, {'type': 'velocity', 'value': 15}, {'type': 'pitch', 'value': 55}, {'type': 'velocity', 'value': 20}, 'next_frame', 'next_frame', 'next_frame', 'next_frame']\n",
      "Chords:  ['C_M7', 'C_M7', 'C_M7', 'C_M7', 'A_m7', 'A_m7', 'A_m7', 'A_m7', 'F_M', 'F_M', 'F_M', 'F_M', 'G_M', 'G_M', 'G_M', 'G_M', 'C_M7', 'C_M7', 'C_M7', 'C_M7', 'A_m7', 'A_m7', 'A_m7', 'A_m7', 'F_M7', 'F_M7', 'F_M7', 'F_M7', 'F_M7', 'F_M7', 'F_M7', 'F_M7']\n"
     ]
    },
    {
     "name": "stderr",
     "output_type": "stream",
     "text": [
      "100%|██████████| 16/16 [00:08<00:00,  1.80it/s]t/s, batch=4910, gpu_temp=63, loss={'chord': tensor(1.2042, device='cuda:0', grad_fn=<NllLossBackward0>), 'velocity': tensor(1.0653, device='cuda:0', grad_fn=<NllLossBackward0>), 'polyphony': tensor(0.7571, device='cuda:0', grad_fn=<NllLossBackward0>), 'density': tensor(0.9856, device='cuda:0', grad_fn=<NllLossBackward0>), 'piano_roll': tensor(1.2097, device='cuda:0', grad_fn=<NllLoss2DBackward0>), 'total': tensor(5.2219, device='cuda:0', grad_fn=<AddBackward0>)}]  \n"
     ]
    },
    {
     "name": "stdout",
     "output_type": "stream",
     "text": [
      "Generated:  [{'type': 'pitch', 'value': 12}, {'type': 'velocity', 'value': 19}, {'type': 'pitch', 'value': 24}, {'type': 'velocity', 'value': 21}, 'next_frame', 'next_frame', 'next_frame', 'next_frame', 'next_frame', 'next_frame']\n",
      "Chords:  ['A_m', 'A_m', 'A_m', 'A_m', 'E_7', 'E_7', 'E_7', 'E_7', 'A_m', 'A_m', 'A_m', 'A_m', 'G_m7', 'G_m7', 'G_m', 'G_m', 'A_m7', 'A_m7', 'None', 'None', 'G_m7', 'G_m7', 'C_7', 'C_7', 'F_M7', 'F_M7', 'F_M7', 'F_M7', 'D_o', 'D_o', 'D_o', 'D_o']\n"
     ]
    },
    {
     "name": "stderr",
     "output_type": "stream",
     "text": [
      "100%|██████████| 10/10 [00:04<00:00,  2.44it/s]\n",
      " 62%|██████▏   | 4911/7864 [28:39<3:26:34,  4.20s/it, batch=4910, gpu_temp=63, loss={'chord': tensor(1.2042, device='cuda:0', grad_fn=<NllLossBackward0>), 'velocity': tensor(1.0653, device='cuda:0', grad_fn=<NllLossBackward0>), 'polyphony': tensor(0.7571, device='cuda:0', grad_fn=<NllLossBackward0>), 'density': tensor(0.9856, device='cuda:0', grad_fn=<NllLossBackward0>), 'piano_roll': tensor(1.2097, device='cuda:0', grad_fn=<NllLoss2DBackward0>), 'total': tensor(5.2219, device='cuda:0', grad_fn=<AddBackward0>)}]"
     ]
    },
    {
     "name": "stdout",
     "output_type": "stream",
     "text": [
      "Generated:  [{'type': 'pitch', 'value': 39}, {'type': 'velocity', 'value': 17}, {'type': 'pitch', 'value': 51}, {'type': 'velocity', 'value': 15}, {'type': 'pitch', 'value': 55}, {'type': 'velocity', 'value': 20}, 'next_frame', 'next_frame', 'next_frame', 'next_frame']\n",
      "Chords:  ['C_M7', 'C_M7', 'C_M7', 'C_M7', 'A_m7', 'A_m7', 'A_m7', 'A_m7', 'F_M', 'F_M', 'F_M', 'F_M', 'G_M', 'G_M', 'G_M', 'G_M', 'C_M7', 'C_M7', 'C_M7', 'C_M7', 'A_m7', 'A_m7', 'A_m7', 'A_m7', 'A_m7', 'A_m7', 'A_m7', 'A_m7', 'C_M7', 'C_M7', 'C_M7', 'C_M7']\n"
     ]
    },
    {
     "name": "stderr",
     "output_type": "stream",
     "text": [
      "100%|██████████| 16/16 [00:08<00:00,  1.79it/s]t/s, batch=5400, gpu_temp=56, loss={'chord': tensor(1.2993, device='cuda:0', grad_fn=<NllLossBackward0>), 'velocity': tensor(1.0391, device='cuda:0', grad_fn=<NllLossBackward0>), 'polyphony': tensor(0.7262, device='cuda:0', grad_fn=<NllLossBackward0>), 'density': tensor(0.8292, device='cuda:0', grad_fn=<NllLossBackward0>), 'piano_roll': tensor(1.0727, device='cuda:0', grad_fn=<NllLoss2DBackward0>), 'total': tensor(4.9664, device='cuda:0', grad_fn=<AddBackward0>)}]  \n"
     ]
    },
    {
     "name": "stdout",
     "output_type": "stream",
     "text": [
      "Generated:  [{'type': 'pitch', 'value': 22}, {'type': 'velocity', 'value': 19}, {'type': 'pitch', 'value': 34}, {'type': 'velocity', 'value': 20}, {'type': 'pitch', 'value': 53}, {'type': 'velocity', 'value': 23}, {'type': 'pitch', 'value': 65}, {'type': 'velocity', 'value': 22}, 'next_frame', 'next_frame']\n",
      "Chords:  ['C_+', 'C_+', 'A_m7', 'A_m7', 'F_M7', 'F_M7', 'F_M7', 'F_M7', 'D_m', 'D_m', 'G_7', 'G_7', 'G_M', 'G_M', 'G_7', 'G_7', 'A_m', 'A_m', 'A_m7', 'A_m7', 'E_m7', 'E_m7', 'E_m7', 'E_m7', 'F_M7', 'F_M7', 'F_M7', 'F_M7', 'G_7', 'G_7', 'G_7', 'G_7']\n"
     ]
    },
    {
     "name": "stderr",
     "output_type": "stream",
     "text": [
      "100%|██████████| 10/10 [00:04<00:00,  2.28it/s]\n",
      " 69%|██████▊   | 5402/7864 [31:23<3:00:28,  4.40s/it, batch=5400, gpu_temp=56, loss={'chord': tensor(1.2993, device='cuda:0', grad_fn=<NllLossBackward0>), 'velocity': tensor(1.0391, device='cuda:0', grad_fn=<NllLossBackward0>), 'polyphony': tensor(0.7262, device='cuda:0', grad_fn=<NllLossBackward0>), 'density': tensor(0.8292, device='cuda:0', grad_fn=<NllLossBackward0>), 'piano_roll': tensor(1.0727, device='cuda:0', grad_fn=<NllLoss2DBackward0>), 'total': tensor(4.9664, device='cuda:0', grad_fn=<AddBackward0>)}]"
     ]
    },
    {
     "name": "stdout",
     "output_type": "stream",
     "text": [
      "Generated:  [{'type': 'pitch', 'value': 39}, {'type': 'velocity', 'value': 17}, {'type': 'pitch', 'value': 51}, {'type': 'velocity', 'value': 15}, {'type': 'pitch', 'value': 55}, {'type': 'velocity', 'value': 20}, 'next_frame', 'next_frame', 'next_frame', 'next_frame']\n",
      "Chords:  ['C_M7', 'C_M7', 'C_M7', 'C_M7', 'A_m7', 'A_m7', 'A_m7', 'A_m7', 'F_M', 'F_M', 'F_M', 'F_M', 'G_M', 'G_M', 'G_M', 'G_M', 'C_M7', 'C_M7', 'C_M7', 'C_M7', 'A_m7', 'A_m7', 'A_m7', 'A_m7', 'F_M', 'F_M', 'F_M', 'F_M', 'G_7', 'G_7', 'G_7', 'G_7']\n"
     ]
    },
    {
     "name": "stderr",
     "output_type": "stream",
     "text": [
      "100%|██████████| 16/16 [00:08<00:00,  1.85it/s]t/s, batch=5890, gpu_temp=56, loss={'chord': tensor(1.1665, device='cuda:0', grad_fn=<NllLossBackward0>), 'velocity': tensor(0.9969, device='cuda:0', grad_fn=<NllLossBackward0>), 'polyphony': tensor(0.6495, device='cuda:0', grad_fn=<NllLossBackward0>), 'density': tensor(0.8023, device='cuda:0', grad_fn=<NllLossBackward0>), 'piano_roll': tensor(1.1167, device='cuda:0', grad_fn=<NllLoss2DBackward0>), 'total': tensor(4.7320, device='cuda:0', grad_fn=<AddBackward0>)}]  \n"
     ]
    },
    {
     "name": "stdout",
     "output_type": "stream",
     "text": [
      "Generated:  [{'type': 'pitch', 'value': 20}, {'type': 'velocity', 'value': 22}, {'type': 'pitch', 'value': 32}, {'type': 'velocity', 'value': 24}, {'type': 'pitch', 'value': 51}, {'type': 'velocity', 'value': 24}, {'type': 'pitch', 'value': 60}, {'type': 'velocity', 'value': 23}, {'type': 'pitch', 'value': 63}, {'type': 'velocity', 'value': 24}]\n",
      "Chords:  ['D_m7', 'D_m7', 'D_m7', 'D_m7', 'C_M7', 'C_M7', 'C_M7', 'C_M7', 'A_m7', 'A_m7', 'A_m7', 'A_m7', 'D_m7', 'D_m7', 'D_m7', 'D_m7', 'G_M', 'G_M', 'G_M', 'G_M', 'C_sus2', 'C_sus2', 'C_M7', 'C_M7', 'A_m7', 'A_m7', 'A_m7', 'A_m7', 'E_m7', 'E_m7', 'A_m7', 'A_m7']\n"
     ]
    },
    {
     "name": "stderr",
     "output_type": "stream",
     "text": [
      "100%|██████████| 10/10 [00:07<00:00,  1.33it/s]\n",
      " 75%|███████▍  | 5893/7864 [34:10<2:51:37,  5.22s/it, batch=5890, gpu_temp=56, loss={'chord': tensor(1.1665, device='cuda:0', grad_fn=<NllLossBackward0>), 'velocity': tensor(0.9969, device='cuda:0', grad_fn=<NllLossBackward0>), 'polyphony': tensor(0.6495, device='cuda:0', grad_fn=<NllLossBackward0>), 'density': tensor(0.8023, device='cuda:0', grad_fn=<NllLossBackward0>), 'piano_roll': tensor(1.1167, device='cuda:0', grad_fn=<NllLoss2DBackward0>), 'total': tensor(4.7320, device='cuda:0', grad_fn=<AddBackward0>)}]"
     ]
    },
    {
     "name": "stdout",
     "output_type": "stream",
     "text": [
      "Generated:  [{'type': 'pitch', 'value': 39}, {'type': 'velocity', 'value': 17}, {'type': 'pitch', 'value': 51}, {'type': 'velocity', 'value': 15}, {'type': 'pitch', 'value': 55}, {'type': 'velocity', 'value': 20}, 'next_frame', 'next_frame', 'next_frame', 'next_frame']\n",
      "Chords:  ['C_M7', 'C_M7', 'C_M7', 'C_M7', 'A_m7', 'A_m7', 'A_m7', 'A_m7', 'F_M', 'F_M', 'F_M', 'F_M', 'G_M', 'G_M', 'G_M', 'G_M', 'C_M7', 'C_M7', 'C_M7', 'C_M7', 'A_m7', 'A_m7', 'A_m7', 'A_m7', 'C_M7', 'C_M7', 'C_M7', 'C_M7', 'C_M7', 'C_M7', 'C_M7', 'C_M7']\n"
     ]
    },
    {
     "name": "stderr",
     "output_type": "stream",
     "text": [
      "100%|██████████| 16/16 [00:12<00:00,  1.24it/s]t/s, batch=6380, gpu_temp=61, loss={'chord': tensor(1.2545, device='cuda:0', grad_fn=<NllLossBackward0>), 'velocity': tensor(1.0446, device='cuda:0', grad_fn=<NllLossBackward0>), 'polyphony': tensor(0.7678, device='cuda:0', grad_fn=<NllLossBackward0>), 'density': tensor(0.8295, device='cuda:0', grad_fn=<NllLossBackward0>), 'piano_roll': tensor(1.1070, device='cuda:0', grad_fn=<NllLoss2DBackward0>), 'total': tensor(5.0034, device='cuda:0', grad_fn=<AddBackward0>)}]  \n"
     ]
    },
    {
     "name": "stdout",
     "output_type": "stream",
     "text": [
      "Generated:  [{'type': 'pitch', 'value': 10}, {'type': 'velocity', 'value': 20}, 'next_frame', 'next_frame', 'next_frame', 'next_frame', {'type': 'pitch', 'value': 17}, {'type': 'velocity', 'value': 19}, 'next_frame', 'next_frame']\n",
      "Chords:  ['A_m', 'A_m', 'F_M7', 'F_M7', 'C_M', 'C_M', 'C_sus2', 'C_sus2', 'A_o', 'A_o', 'D_m7', 'D_m7', 'D_m7', 'D_m7', 'D_m7', 'D_m7', 'G_sus4', 'G_sus4', 'C_M', 'C_M', 'A_m7', 'A_m7', 'C_M', 'C_M', 'A_o', 'A_o', 'D_m7', 'D_m7', 'G_M', 'G_M', 'G_sus4', 'G_sus4']\n"
     ]
    },
    {
     "name": "stderr",
     "output_type": "stream",
     "text": [
      "100%|██████████| 10/10 [00:05<00:00,  1.70it/s]\n",
      " 81%|████████  | 6384/7864 [37:13<2:30:55,  6.12s/it, batch=6380, gpu_temp=61, loss={'chord': tensor(1.2545, device='cuda:0', grad_fn=<NllLossBackward0>), 'velocity': tensor(1.0446, device='cuda:0', grad_fn=<NllLossBackward0>), 'polyphony': tensor(0.7678, device='cuda:0', grad_fn=<NllLossBackward0>), 'density': tensor(0.8295, device='cuda:0', grad_fn=<NllLossBackward0>), 'piano_roll': tensor(1.1070, device='cuda:0', grad_fn=<NllLoss2DBackward0>), 'total': tensor(5.0034, device='cuda:0', grad_fn=<AddBackward0>)}]"
     ]
    },
    {
     "name": "stdout",
     "output_type": "stream",
     "text": [
      "Generated:  [{'type': 'pitch', 'value': 39}, {'type': 'velocity', 'value': 17}, {'type': 'pitch', 'value': 51}, {'type': 'velocity', 'value': 15}, {'type': 'pitch', 'value': 55}, {'type': 'velocity', 'value': 20}, 'next_frame', 'next_frame', 'next_frame', 'next_frame']\n",
      "Chords:  ['C_M7', 'C_M7', 'C_M7', 'C_M7', 'A_m7', 'A_m7', 'A_m7', 'A_m7', 'F_M', 'F_M', 'F_M', 'F_M', 'G_M', 'G_M', 'G_M', 'G_M', 'C_M7', 'C_M7', 'C_M7', 'C_M7', 'A_m7', 'A_m7', 'A_m7', 'A_m7', 'F_M', 'F_M', 'F_M', 'F_M', 'G_M', 'G_M', 'G_M', 'G_M']\n"
     ]
    },
    {
     "name": "stderr",
     "output_type": "stream",
     "text": [
      "100%|██████████| 16/16 [00:08<00:00,  1.87it/s]t/s, batch=6870, gpu_temp=57, loss={'chord': tensor(1.1927, device='cuda:0', grad_fn=<NllLossBackward0>), 'velocity': tensor(0.9643, device='cuda:0', grad_fn=<NllLossBackward0>), 'polyphony': tensor(0.6781, device='cuda:0', grad_fn=<NllLossBackward0>), 'density': tensor(0.8315, device='cuda:0', grad_fn=<NllLossBackward0>), 'piano_roll': tensor(1.1648, device='cuda:0', grad_fn=<NllLoss2DBackward0>), 'total': tensor(4.8313, device='cuda:0', grad_fn=<AddBackward0>)}]  \n"
     ]
    },
    {
     "name": "stdout",
     "output_type": "stream",
     "text": [
      "Generated:  [{'type': 'pitch', 'value': 31}, {'type': 'velocity', 'value': 17}, 'next_frame', 'next_frame', 'next_frame', 'next_frame', 'next_frame', 'next_frame', 'next_frame', 'next_frame']\n",
      "Chords:  ['E_7', 'E_7', 'E_7', 'E_7', 'A_m', 'A_m', 'A_m', 'A_m', 'D_M', 'D_M', 'D_M', 'D_M', 'G_M', 'G_M', 'G_M', 'G_M', 'G_M', 'C_M', 'C_M', 'C_M', 'E_7', 'E_7', 'E_M', 'E_M', 'C_+', 'C_+', 'C_M', 'C_M', 'F#_o', 'F#_o', 'F#_o', 'F#_o']\n"
     ]
    },
    {
     "name": "stderr",
     "output_type": "stream",
     "text": [
      "100%|██████████| 10/10 [00:04<00:00,  2.28it/s]\n",
      " 87%|████████▋ | 6875/7864 [40:07<1:09:47,  4.23s/it, batch=6870, gpu_temp=57, loss={'chord': tensor(1.1927, device='cuda:0', grad_fn=<NllLossBackward0>), 'velocity': tensor(0.9643, device='cuda:0', grad_fn=<NllLossBackward0>), 'polyphony': tensor(0.6781, device='cuda:0', grad_fn=<NllLossBackward0>), 'density': tensor(0.8315, device='cuda:0', grad_fn=<NllLossBackward0>), 'piano_roll': tensor(1.1648, device='cuda:0', grad_fn=<NllLoss2DBackward0>), 'total': tensor(4.8313, device='cuda:0', grad_fn=<AddBackward0>)}]"
     ]
    },
    {
     "name": "stdout",
     "output_type": "stream",
     "text": [
      "Generated:  [{'type': 'pitch', 'value': 39}, {'type': 'velocity', 'value': 17}, {'type': 'pitch', 'value': 51}, {'type': 'velocity', 'value': 15}, {'type': 'pitch', 'value': 55}, {'type': 'velocity', 'value': 20}, 'next_frame', 'next_frame', 'next_frame', 'next_frame']\n",
      "Chords:  ['C_M7', 'C_M7', 'C_M7', 'C_M7', 'A_m7', 'A_m7', 'A_m7', 'A_m7', 'F_M', 'F_M', 'F_M', 'F_M', 'G_M', 'G_M', 'G_M', 'G_M', 'C_M7', 'C_M7', 'C_M7', 'C_M7', 'A_m7', 'A_m7', 'A_m7', 'A_m7', 'A_m7', 'A_m7', 'A_m7', 'A_m7', 'F_M7', 'F_M7', 'F_M', 'F_M']\n"
     ]
    },
    {
     "name": "stderr",
     "output_type": "stream",
     "text": [
      "100%|██████████| 16/16 [00:09<00:00,  1.68it/s]t/s, batch=7360, gpu_temp=63, loss={'chord': tensor(1.0029, device='cuda:0', grad_fn=<NllLossBackward0>), 'velocity': tensor(0.9479, device='cuda:0', grad_fn=<NllLossBackward0>), 'polyphony': tensor(0.6126, device='cuda:0', grad_fn=<NllLossBackward0>), 'density': tensor(0.6732, device='cuda:0', grad_fn=<NllLossBackward0>), 'piano_roll': tensor(1.1580, device='cuda:0', grad_fn=<NllLoss2DBackward0>), 'total': tensor(4.3947, device='cuda:0', grad_fn=<AddBackward0>)}]  \n"
     ]
    },
    {
     "name": "stdout",
     "output_type": "stream",
     "text": [
      "Generated:  [{'type': 'pitch', 'value': 22}, {'type': 'velocity', 'value': 18}, {'type': 'pitch', 'value': 34}, {'type': 'velocity', 'value': 18}, {'type': 'pitch', 'value': 46}, {'type': 'velocity', 'value': 21}, {'type': 'pitch', 'value': 50}, {'type': 'velocity', 'value': 20}, {'type': 'pitch', 'value': 53}, {'type': 'velocity', 'value': 20}]\n",
      "Chords:  ['F_M7', 'F_M7', 'C_M7', 'C_M7', 'A_m', 'A_m', 'F_M7', 'F_M7', 'C_M7', 'C_M7', 'C_M7', 'C_M7', 'A_m7', 'A_m7', 'F_M7', 'F_M7', 'C_M7', 'C_M7', 'C_M7', 'C_M7', 'A_m7', 'A_m7', 'F_M7', 'F_M7', 'C_M7', 'C_M7', 'C_M7', 'C_M7', 'A_m7', 'A_m7', 'F_M7', 'F_M7']\n"
     ]
    },
    {
     "name": "stderr",
     "output_type": "stream",
     "text": [
      "100%|██████████| 10/10 [00:03<00:00,  2.82it/s]\n",
      " 94%|█████████▎| 7366/7864 [42:52<35:08,  4.23s/it, batch=7360, gpu_temp=63, loss={'chord': tensor(1.0029, device='cuda:0', grad_fn=<NllLossBackward0>), 'velocity': tensor(0.9479, device='cuda:0', grad_fn=<NllLossBackward0>), 'polyphony': tensor(0.6126, device='cuda:0', grad_fn=<NllLossBackward0>), 'density': tensor(0.6732, device='cuda:0', grad_fn=<NllLossBackward0>), 'piano_roll': tensor(1.1580, device='cuda:0', grad_fn=<NllLoss2DBackward0>), 'total': tensor(4.3947, device='cuda:0', grad_fn=<AddBackward0>)}]"
     ]
    },
    {
     "name": "stdout",
     "output_type": "stream",
     "text": [
      "Generated:  [{'type': 'pitch', 'value': 39}, {'type': 'velocity', 'value': 17}, {'type': 'pitch', 'value': 51}, {'type': 'velocity', 'value': 15}, {'type': 'pitch', 'value': 55}, {'type': 'velocity', 'value': 20}, 'next_frame', 'next_frame', 'next_frame', 'next_frame']\n",
      "Chords:  ['C_M7', 'C_M7', 'C_M7', 'C_M7', 'A_m7', 'A_m7', 'A_m7', 'A_m7', 'F_M', 'F_M', 'F_M', 'F_M', 'G_M', 'G_M', 'G_M', 'G_M', 'C_M7', 'C_M7', 'C_M7', 'C_M7', 'A_m7', 'A_m7', 'A_m7', 'A_m7', 'F_M', 'F_M', 'F_M', 'F_M', 'G_7', 'G_7', 'G_7', 'G_7']\n"
     ]
    },
    {
     "name": "stderr",
     "output_type": "stream",
     "text": [
      "100%|██████████| 16/16 [00:08<00:00,  1.82it/s]t/s, batch=7850, gpu_temp=62, loss={'chord': tensor(1.1774, device='cuda:0', grad_fn=<NllLossBackward0>), 'velocity': tensor(1.0279, device='cuda:0', grad_fn=<NllLossBackward0>), 'polyphony': tensor(0.6902, device='cuda:0', grad_fn=<NllLossBackward0>), 'density': tensor(0.9119, device='cuda:0', grad_fn=<NllLossBackward0>), 'piano_roll': tensor(1.0876, device='cuda:0', grad_fn=<NllLoss2DBackward0>), 'total': tensor(4.8949, device='cuda:0', grad_fn=<AddBackward0>)}]\n"
     ]
    },
    {
     "name": "stdout",
     "output_type": "stream",
     "text": [
      "Generated:  [{'type': 'pitch', 'value': 15}, {'type': 'velocity', 'value': 20}, {'type': 'pitch', 'value': 27}, {'type': 'velocity', 'value': 21}, {'type': 'pitch', 'value': 43}, {'type': 'velocity', 'value': 21}, {'type': 'pitch', 'value': 46}, {'type': 'velocity', 'value': 19}, {'type': 'pitch', 'value': 51}, {'type': 'velocity', 'value': 23}]\n",
      "Chords:  ['A_m7', 'A_m7', 'A_m7', 'A_m7', 'D_m7', 'D_m7', 'D_m7', 'D_m7', 'G_M', 'G_M', 'G_M', 'G_M', 'A_m7', 'A_m7', 'A_m', 'A_m', 'A_m', 'A_m', 'A_m7', 'A_m7', 'C_M', 'C_M', 'F_M7', 'F_M7', 'C_M', 'C_M', 'C_M', 'C_M', 'F_M', 'F_M', 'F_M', 'F_M']\n"
     ]
    },
    {
     "name": "stderr",
     "output_type": "stream",
     "text": [
      "100%|██████████| 10/10 [00:04<00:00,  2.39it/s]\n",
      "100%|█████████▉| 7857/7864 [45:37<00:30,  4.33s/it, batch=7850, gpu_temp=62, loss={'chord': tensor(1.1774, device='cuda:0', grad_fn=<NllLossBackward0>), 'velocity': tensor(1.0279, device='cuda:0', grad_fn=<NllLossBackward0>), 'polyphony': tensor(0.6902, device='cuda:0', grad_fn=<NllLossBackward0>), 'density': tensor(0.9119, device='cuda:0', grad_fn=<NllLossBackward0>), 'piano_roll': tensor(1.0876, device='cuda:0', grad_fn=<NllLoss2DBackward0>), 'total': tensor(4.8949, device='cuda:0', grad_fn=<AddBackward0>)}]"
     ]
    },
    {
     "name": "stdout",
     "output_type": "stream",
     "text": [
      "Generated:  [{'type': 'pitch', 'value': 39}, {'type': 'velocity', 'value': 17}, {'type': 'pitch', 'value': 51}, {'type': 'velocity', 'value': 15}, {'type': 'pitch', 'value': 55}, {'type': 'velocity', 'value': 20}, 'next_frame', 'next_frame', 'next_frame', 'next_frame']\n",
      "Chords:  ['C_M7', 'C_M7', 'C_M7', 'C_M7', 'A_m7', 'A_m7', 'A_m7', 'A_m7', 'F_M', 'F_M', 'F_M', 'F_M', 'G_M', 'G_M', 'G_M', 'G_M', 'C_M7', 'C_M7', 'C_M7', 'C_M7', 'A_m7', 'A_m7', 'A_m7', 'A_m7', 'F_M', 'F_M', 'F_M', 'F_M', 'G_M', 'G_M', 'G_7', 'G_7']\n"
     ]
    },
    {
     "name": "stderr",
     "output_type": "stream",
     "text": [
      "100%|██████████| 7864/7864 [45:40<00:00,  2.87it/s, batch=7860, gpu_temp=59, loss={'chord': tensor(1.2914, device='cuda:0', grad_fn=<NllLossBackward0>), 'velocity': tensor(1.0437, device='cuda:0', grad_fn=<NllLossBackward0>), 'polyphony': tensor(0.6804, device='cuda:0', grad_fn=<NllLossBackward0>), 'density': tensor(0.8634, device='cuda:0', grad_fn=<NllLossBackward0>), 'piano_roll': tensor(1.0834, device='cuda:0', grad_fn=<NllLoss2DBackward0>), 'total': tensor(4.9624, device='cuda:0', grad_fn=<AddBackward0>)}]\n",
      "100%|██████████| 16/16 [00:08<00:00,  1.80it/s]/s, batch=490, gpu_temp=62, loss={'chord': tensor(1.1558, device='cuda:0', grad_fn=<NllLossBackward0>), 'velocity': tensor(0.9772, device='cuda:0', grad_fn=<NllLossBackward0>), 'polyphony': tensor(0.6110, device='cuda:0', grad_fn=<NllLossBackward0>), 'density': tensor(0.8134, device='cuda:0', grad_fn=<NllLossBackward0>), 'piano_roll': tensor(1.2152, device='cuda:0', grad_fn=<NllLoss2DBackward0>), 'total': tensor(4.7726, device='cuda:0', grad_fn=<AddBackward0>)}]\n"
     ]
    },
    {
     "name": "stdout",
     "output_type": "stream",
     "text": [
      "Generated:  [{'type': 'pitch', 'value': 12}, {'type': 'velocity', 'value': 21}, {'type': 'pitch', 'value': 24}, {'type': 'velocity', 'value': 21}, {'type': 'pitch', 'value': 51}, {'type': 'velocity', 'value': 24}, {'type': 'pitch', 'value': 63}, {'type': 'velocity', 'value': 24}, 'next_frame', 'next_frame']\n",
      "Chords:  ['D_m', 'D_m', 'D_m', 'D_m', 'D_m7', 'D_m7', 'F_M', 'F_M', 'G_sus4', 'G_sus4', 'G_M', 'G_M', 'A_m', 'A_m', 'A_m7', 'A_m7', 'A_m7', 'A_m7', 'C_M7', 'C_M7', 'D_m7', 'D_m7', 'D_m7', 'D_m7', 'G_M', 'G_M', 'G_M', 'G_M', 'C_M', 'C_M', 'C_M', 'C_M']\n"
     ]
    },
    {
     "name": "stderr",
     "output_type": "stream",
     "text": [
      "100%|██████████| 10/10 [00:04<00:00,  2.05it/s]\n",
      "  6%|▋         | 492/7864 [02:56<9:14:47,  4.52s/it, batch=490, gpu_temp=62, loss={'chord': tensor(1.1558, device='cuda:0', grad_fn=<NllLossBackward0>), 'velocity': tensor(0.9772, device='cuda:0', grad_fn=<NllLossBackward0>), 'polyphony': tensor(0.6110, device='cuda:0', grad_fn=<NllLossBackward0>), 'density': tensor(0.8134, device='cuda:0', grad_fn=<NllLossBackward0>), 'piano_roll': tensor(1.2152, device='cuda:0', grad_fn=<NllLoss2DBackward0>), 'total': tensor(4.7726, device='cuda:0', grad_fn=<AddBackward0>)}]"
     ]
    },
    {
     "name": "stdout",
     "output_type": "stream",
     "text": [
      "Generated:  [{'type': 'pitch', 'value': 39}, {'type': 'velocity', 'value': 17}, {'type': 'pitch', 'value': 51}, {'type': 'velocity', 'value': 15}, {'type': 'pitch', 'value': 55}, {'type': 'velocity', 'value': 20}, 'next_frame', 'next_frame', 'next_frame', 'next_frame']\n",
      "Chords:  ['C_M7', 'C_M7', 'C_M7', 'C_M7', 'A_m7', 'A_m7', 'A_m7', 'A_m7', 'F_M', 'F_M', 'F_M', 'F_M', 'G_M', 'G_M', 'G_M', 'G_M', 'C_M7', 'C_M7', 'C_M7', 'C_M7', 'A_m7', 'A_m7', 'A_m7', 'A_m7', 'F_M', 'F_M', 'F_M', 'F_M', 'G_M', 'G_M', 'G_M', 'G_M']\n"
     ]
    },
    {
     "name": "stderr",
     "output_type": "stream",
     "text": [
      "100%|██████████| 16/16 [00:13<00:00,  1.21it/s]/s, batch=980, gpu_temp=61, loss={'chord': tensor(1.2569, device='cuda:0', grad_fn=<NllLossBackward0>), 'velocity': tensor(0.8964, device='cuda:0', grad_fn=<NllLossBackward0>), 'polyphony': tensor(0.6617, device='cuda:0', grad_fn=<NllLossBackward0>), 'density': tensor(0.8237, device='cuda:0', grad_fn=<NllLossBackward0>), 'piano_roll': tensor(1.2125, device='cuda:0', grad_fn=<NllLoss2DBackward0>), 'total': tensor(4.8512, device='cuda:0', grad_fn=<AddBackward0>)}]  \n"
     ]
    },
    {
     "name": "stdout",
     "output_type": "stream",
     "text": [
      "Generated:  [{'type': 'pitch', 'value': 31}, {'type': 'velocity', 'value': 21}, 'next_frame', 'next_frame', 'next_frame', 'next_frame', {'type': 'pitch', 'value': 26}, {'type': 'velocity', 'value': 19}, 'next_frame', 'next_frame']\n",
      "Chords:  ['F_M7', 'F_M7', 'G_7', 'G_7', 'F_M', 'F_M', 'G_7', 'G_7', 'A_m', 'A_m', 'C_+', 'C_+', 'C_M7', 'C_M7', 'C_M7', 'C_M7', 'F_M', 'F_M', 'F_M', 'F_M', 'D_m7', 'D_m7', 'E_7', 'E_7', 'A_m', 'A_m', 'A_m', 'A_m', 'G_M', 'G_M', 'G_M', 'G_M']\n"
     ]
    },
    {
     "name": "stderr",
     "output_type": "stream",
     "text": [
      "100%|██████████| 10/10 [00:05<00:00,  1.89it/s]\n",
      " 12%|█▎        | 983/7864 [05:45<11:15:43,  5.89s/it, batch=980, gpu_temp=61, loss={'chord': tensor(1.2569, device='cuda:0', grad_fn=<NllLossBackward0>), 'velocity': tensor(0.8964, device='cuda:0', grad_fn=<NllLossBackward0>), 'polyphony': tensor(0.6617, device='cuda:0', grad_fn=<NllLossBackward0>), 'density': tensor(0.8237, device='cuda:0', grad_fn=<NllLossBackward0>), 'piano_roll': tensor(1.2125, device='cuda:0', grad_fn=<NllLoss2DBackward0>), 'total': tensor(4.8512, device='cuda:0', grad_fn=<AddBackward0>)}]"
     ]
    },
    {
     "name": "stdout",
     "output_type": "stream",
     "text": [
      "Generated:  [{'type': 'pitch', 'value': 39}, {'type': 'velocity', 'value': 17}, {'type': 'pitch', 'value': 51}, {'type': 'velocity', 'value': 15}, {'type': 'pitch', 'value': 55}, {'type': 'velocity', 'value': 20}, 'next_frame', 'next_frame', 'next_frame', 'next_frame']\n",
      "Chords:  ['C_M7', 'C_M7', 'C_M7', 'C_M7', 'A_m7', 'A_m7', 'A_m7', 'A_m7', 'F_M', 'F_M', 'F_M', 'F_M', 'G_M', 'G_M', 'G_M', 'G_M', 'C_M7', 'C_M7', 'C_M7', 'C_M7', 'A_m7', 'A_m7', 'A_m7', 'A_m7', 'A_m7', 'A_m7', 'A_m7', 'A_m7', 'F_M7', 'F_M7', 'F_M', 'F_M']\n"
     ]
    },
    {
     "name": "stderr",
     "output_type": "stream",
     "text": [
      "100%|██████████| 16/16 [00:09<00:00,  1.67it/s]t/s, batch=1470, gpu_temp=62, loss={'chord': tensor(1.0774, device='cuda:0', grad_fn=<NllLossBackward0>), 'velocity': tensor(0.8718, device='cuda:0', grad_fn=<NllLossBackward0>), 'polyphony': tensor(0.5852, device='cuda:0', grad_fn=<NllLossBackward0>), 'density': tensor(0.7408, device='cuda:0', grad_fn=<NllLossBackward0>), 'piano_roll': tensor(1.0506, device='cuda:0', grad_fn=<NllLoss2DBackward0>), 'total': tensor(4.3259, device='cuda:0', grad_fn=<AddBackward0>)}]  \n"
     ]
    },
    {
     "name": "stdout",
     "output_type": "stream",
     "text": [
      "Generated:  [{'type': 'pitch', 'value': 20}, {'type': 'velocity', 'value': 20}, 'next_frame', 'next_frame', 'next_frame', 'next_frame', {'type': 'pitch', 'value': 29}, {'type': 'velocity', 'value': 19}, {'type': 'pitch', 'value': 46}, {'type': 'velocity', 'value': 22}]\n",
      "Chords:  ['A_M', 'A_M', 'A_M', 'A_M', 'A_m7', 'A_m7', 'A_m7', 'A_m7', 'A_m7', 'A_m7', 'A_M', 'A_M', 'A_M', 'A_M', 'A_m', 'A_m', 'A_M', 'A_M', 'A_M', 'A_M', 'A_M', 'A_M', 'None', 'None', 'None', 'None', 'None', 'None', 'None', 'None', 'None', 'None']\n"
     ]
    },
    {
     "name": "stderr",
     "output_type": "stream",
     "text": [
      "100%|██████████| 10/10 [00:04<00:00,  2.36it/s]\n",
      " 19%|█▊        | 1474/7864 [08:33<7:59:27,  4.50s/it, batch=1470, gpu_temp=62, loss={'chord': tensor(1.0774, device='cuda:0', grad_fn=<NllLossBackward0>), 'velocity': tensor(0.8718, device='cuda:0', grad_fn=<NllLossBackward0>), 'polyphony': tensor(0.5852, device='cuda:0', grad_fn=<NllLossBackward0>), 'density': tensor(0.7408, device='cuda:0', grad_fn=<NllLossBackward0>), 'piano_roll': tensor(1.0506, device='cuda:0', grad_fn=<NllLoss2DBackward0>), 'total': tensor(4.3259, device='cuda:0', grad_fn=<AddBackward0>)}]"
     ]
    },
    {
     "name": "stdout",
     "output_type": "stream",
     "text": [
      "Generated:  [{'type': 'pitch', 'value': 39}, {'type': 'velocity', 'value': 17}, {'type': 'pitch', 'value': 51}, {'type': 'velocity', 'value': 15}, {'type': 'pitch', 'value': 55}, {'type': 'velocity', 'value': 20}, 'next_frame', 'next_frame', 'next_frame', 'next_frame']\n",
      "Chords:  ['C_M7', 'C_M7', 'C_M7', 'C_M7', 'A_m7', 'A_m7', 'A_m7', 'A_m7', 'F_M', 'F_M', 'F_M', 'F_M', 'G_M', 'G_M', 'G_M', 'G_M', 'C_M7', 'C_M7', 'C_M7', 'C_M7', 'A_m7', 'A_m7', 'A_m7', 'A_m7', 'A_m7', 'A_m7', 'A_m7', 'A_m7', 'F_M', 'F_M', 'F_M', 'F_M']\n"
     ]
    },
    {
     "name": "stderr",
     "output_type": "stream",
     "text": [
      "100%|██████████| 16/16 [00:09<00:00,  1.76it/s]t/s, batch=1960, gpu_temp=56, loss={'chord': tensor(1.1963, device='cuda:0', grad_fn=<NllLossBackward0>), 'velocity': tensor(0.9766, device='cuda:0', grad_fn=<NllLossBackward0>), 'polyphony': tensor(0.6562, device='cuda:0', grad_fn=<NllLossBackward0>), 'density': tensor(0.7369, device='cuda:0', grad_fn=<NllLossBackward0>), 'piano_roll': tensor(1.1539, device='cuda:0', grad_fn=<NllLoss2DBackward0>), 'total': tensor(4.7200, device='cuda:0', grad_fn=<AddBackward0>)}]  \n"
     ]
    },
    {
     "name": "stdout",
     "output_type": "stream",
     "text": [
      "Generated:  ['next_frame', 'next_frame', 'next_frame', 'next_frame', 'next_frame', 'next_frame', 'next_frame', 'next_frame', 'next_frame', 'next_frame']\n",
      "Chords:  ['C_M', 'C_M', 'C_M', 'C_M', 'E_m7', 'E_m7', 'E_m7', 'E_m7', 'A_m', 'A_m', 'A_m', 'A_m', 'A_m', 'A_m', 'A_m', 'A_m', 'A_m', 'A_m', 'A_m', 'A_m', 'F_M', 'F_M', 'F_M7', 'F_M7', 'E_m7', 'E_m7', 'E_m7', 'E_m7', 'C_M', 'C_M', 'C_M', 'C_M']\n"
     ]
    },
    {
     "name": "stderr",
     "output_type": "stream",
     "text": [
      "100%|██████████| 10/10 [00:03<00:00,  2.52it/s]\n",
      " 25%|██▍       | 1965/7864 [11:16<6:57:43,  4.25s/it, batch=1960, gpu_temp=56, loss={'chord': tensor(1.1963, device='cuda:0', grad_fn=<NllLossBackward0>), 'velocity': tensor(0.9766, device='cuda:0', grad_fn=<NllLossBackward0>), 'polyphony': tensor(0.6562, device='cuda:0', grad_fn=<NllLossBackward0>), 'density': tensor(0.7369, device='cuda:0', grad_fn=<NllLossBackward0>), 'piano_roll': tensor(1.1539, device='cuda:0', grad_fn=<NllLoss2DBackward0>), 'total': tensor(4.7200, device='cuda:0', grad_fn=<AddBackward0>)}]"
     ]
    },
    {
     "name": "stdout",
     "output_type": "stream",
     "text": [
      "Generated:  [{'type': 'pitch', 'value': 39}, {'type': 'velocity', 'value': 17}, {'type': 'pitch', 'value': 51}, {'type': 'velocity', 'value': 15}, {'type': 'pitch', 'value': 55}, {'type': 'velocity', 'value': 20}, 'next_frame', 'next_frame', 'next_frame', 'next_frame']\n",
      "Chords:  ['C_M7', 'C_M7', 'C_M7', 'C_M7', 'A_m7', 'A_m7', 'A_m7', 'A_m7', 'F_M', 'F_M', 'F_M', 'F_M', 'G_M', 'G_M', 'G_M', 'G_M', 'C_M7', 'C_M7', 'C_M7', 'C_M7', 'A_m7', 'A_m7', 'A_m7', 'A_m7', 'F_M', 'F_M', 'F_M', 'F_M', 'G_M', 'G_M', 'G_M', 'G_M']\n"
     ]
    },
    {
     "name": "stderr",
     "output_type": "stream",
     "text": [
      "100%|██████████| 16/16 [00:10<00:00,  1.46it/s]t/s, batch=2450, gpu_temp=56, loss={'chord': tensor(1.1305, device='cuda:0', grad_fn=<NllLossBackward0>), 'velocity': tensor(0.9449, device='cuda:0', grad_fn=<NllLossBackward0>), 'polyphony': tensor(0.6789, device='cuda:0', grad_fn=<NllLossBackward0>), 'density': tensor(0.7392, device='cuda:0', grad_fn=<NllLossBackward0>), 'piano_roll': tensor(1.0908, device='cuda:0', grad_fn=<NllLoss2DBackward0>), 'total': tensor(4.5843, device='cuda:0', grad_fn=<AddBackward0>)}]  \n"
     ]
    },
    {
     "name": "stdout",
     "output_type": "stream",
     "text": [
      "Generated:  ['next_frame', 'next_frame', 'next_frame', 'next_frame', {'type': 'pitch', 'value': 51}, {'type': 'velocity', 'value': 20}, 'next_frame', 'next_frame', 'next_frame', 'next_frame']\n",
      "Chords:  ['A_M7', 'A_M7', 'B_m7', 'B_m7', 'D_M', 'D_M', 'D_M7', 'D_M7', 'A_M', 'A_M', 'A_M', 'A_M', 'F_M', 'F_M', 'F_M', 'F_M', 'C_M', 'C_M', 'C_M', 'C_M', 'B_m7', 'B_m7', 'D_M', 'D_M', 'E_m', 'E_m', 'G_M', 'G_M', 'A_M', 'A_M', 'A_M', 'A_M']\n"
     ]
    },
    {
     "name": "stderr",
     "output_type": "stream",
     "text": [
      "100%|██████████| 10/10 [00:04<00:00,  2.36it/s]\n",
      " 31%|███       | 2456/7864 [14:01<7:31:03,  5.00s/it, batch=2450, gpu_temp=56, loss={'chord': tensor(1.1305, device='cuda:0', grad_fn=<NllLossBackward0>), 'velocity': tensor(0.9449, device='cuda:0', grad_fn=<NllLossBackward0>), 'polyphony': tensor(0.6789, device='cuda:0', grad_fn=<NllLossBackward0>), 'density': tensor(0.7392, device='cuda:0', grad_fn=<NllLossBackward0>), 'piano_roll': tensor(1.0908, device='cuda:0', grad_fn=<NllLoss2DBackward0>), 'total': tensor(4.5843, device='cuda:0', grad_fn=<AddBackward0>)}]"
     ]
    },
    {
     "name": "stdout",
     "output_type": "stream",
     "text": [
      "Generated:  [{'type': 'pitch', 'value': 39}, {'type': 'velocity', 'value': 17}, {'type': 'pitch', 'value': 51}, {'type': 'velocity', 'value': 15}, {'type': 'pitch', 'value': 55}, {'type': 'velocity', 'value': 20}, 'next_frame', 'next_frame', 'next_frame', 'next_frame']\n",
      "Chords:  ['C_M7', 'C_M7', 'C_M7', 'C_M7', 'A_m7', 'A_m7', 'A_m7', 'A_m7', 'F_M', 'F_M', 'F_M', 'F_M', 'G_M', 'G_M', 'G_M', 'G_M', 'C_M7', 'C_M7', 'C_M7', 'C_M7', 'A_m7', 'A_m7', 'A_m7', 'A_m7', 'F_M', 'F_M', 'F_M', 'F_M', 'G_M', 'G_M', 'G_M', 'G_M']\n"
     ]
    },
    {
     "name": "stderr",
     "output_type": "stream",
     "text": [
      "100%|██████████| 16/16 [00:10<00:00,  1.53it/s]t/s, batch=2940, gpu_temp=63, loss={'chord': tensor(1.2357, device='cuda:0', grad_fn=<NllLossBackward0>), 'velocity': tensor(0.9087, device='cuda:0', grad_fn=<NllLossBackward0>), 'polyphony': tensor(0.6620, device='cuda:0', grad_fn=<NllLossBackward0>), 'density': tensor(0.7841, device='cuda:0', grad_fn=<NllLossBackward0>), 'piano_roll': tensor(1.0988, device='cuda:0', grad_fn=<NllLoss2DBackward0>), 'total': tensor(4.6893, device='cuda:0', grad_fn=<AddBackward0>)}]  \n"
     ]
    },
    {
     "name": "stdout",
     "output_type": "stream",
     "text": [
      "Generated:  [{'type': 'pitch', 'value': 17}, {'type': 'velocity', 'value': 16}, {'type': 'pitch', 'value': 44}, {'type': 'velocity', 'value': 21}, 'next_frame', 'next_frame', 'next_frame', 'next_frame', {'type': 'pitch', 'value': 24}, {'type': 'velocity', 'value': 17}]\n",
      "Chords:  ['A_M', 'A_M', 'A_m', 'A_m', 'E_7', 'E_7', 'E_7', 'E_7', 'E_7', 'E_7', 'E_7', 'E_7', 'E_7', 'E_7', 'E_7', 'E_7', 'A_M', 'A_M', 'A_m', 'A_m', 'A_m', 'A_m', 'A_m', 'A_m', 'A_m', 'A_m', 'A_m7', 'A_m7', 'D_m7', 'D_m7', 'F_M', 'F_M']\n"
     ]
    },
    {
     "name": "stderr",
     "output_type": "stream",
     "text": [
      "100%|██████████| 10/10 [00:05<00:00,  1.83it/s]\n",
      " 37%|███▋      | 2947/7864 [16:43<6:56:53,  5.09s/it, batch=2940, gpu_temp=63, loss={'chord': tensor(1.2357, device='cuda:0', grad_fn=<NllLossBackward0>), 'velocity': tensor(0.9087, device='cuda:0', grad_fn=<NllLossBackward0>), 'polyphony': tensor(0.6620, device='cuda:0', grad_fn=<NllLossBackward0>), 'density': tensor(0.7841, device='cuda:0', grad_fn=<NllLossBackward0>), 'piano_roll': tensor(1.0988, device='cuda:0', grad_fn=<NllLoss2DBackward0>), 'total': tensor(4.6893, device='cuda:0', grad_fn=<AddBackward0>)}]"
     ]
    },
    {
     "name": "stdout",
     "output_type": "stream",
     "text": [
      "Generated:  [{'type': 'pitch', 'value': 39}, {'type': 'velocity', 'value': 17}, {'type': 'pitch', 'value': 51}, {'type': 'velocity', 'value': 15}, {'type': 'pitch', 'value': 55}, {'type': 'velocity', 'value': 20}, 'next_frame', 'next_frame', 'next_frame', 'next_frame']\n",
      "Chords:  ['C_M7', 'C_M7', 'C_M7', 'C_M7', 'A_m7', 'A_m7', 'A_m7', 'A_m7', 'F_M', 'F_M', 'F_M', 'F_M', 'G_M', 'G_M', 'G_M', 'G_M', 'C_M7', 'C_M7', 'C_M7', 'C_M7', 'A_m7', 'A_m7', 'A_m7', 'A_m7', 'F_M', 'F_M', 'F_M', 'F_M', 'G_M', 'G_M', 'G_M', 'G_M']\n"
     ]
    },
    {
     "name": "stderr",
     "output_type": "stream",
     "text": [
      "100%|██████████| 16/16 [00:09<00:00,  1.69it/s]t/s, batch=3430, gpu_temp=61, loss={'chord': tensor(1.0819, device='cuda:0', grad_fn=<NllLossBackward0>), 'velocity': tensor(0.8247, device='cuda:0', grad_fn=<NllLossBackward0>), 'polyphony': tensor(0.4701, device='cuda:0', grad_fn=<NllLossBackward0>), 'density': tensor(0.6180, device='cuda:0', grad_fn=<NllLossBackward0>), 'piano_roll': tensor(1.0570, device='cuda:0', grad_fn=<NllLoss2DBackward0>), 'total': tensor(4.0516, device='cuda:0', grad_fn=<AddBackward0>)}]  \n"
     ]
    },
    {
     "name": "stdout",
     "output_type": "stream",
     "text": [
      "Generated:  [{'type': 'pitch', 'value': 24}, {'type': 'velocity', 'value': 20}, {'type': 'pitch', 'value': 43}, {'type': 'velocity', 'value': 20}, {'type': 'pitch', 'value': 51}, {'type': 'velocity', 'value': 21}, 'next_frame', 'next_frame', 'next_frame', 'next_frame']\n",
      "Chords:  ['F_m', 'F_m', 'D_m', 'D_m', 'D_m7', 'D_m7', 'D_m7', 'D_m7', 'D_o', 'D_o', 'F_m', 'F_m', 'C_M', 'C_M', 'C_M', 'C_M', 'C_M', 'C_M', 'C_M', 'C_M', 'C_M', 'C_M', 'C_M', 'C_M', 'E_m', 'E_m', 'E_m', 'E_m', 'E_m', 'E_m', 'E_m', 'E_m']\n"
     ]
    },
    {
     "name": "stderr",
     "output_type": "stream",
     "text": [
      "100%|██████████| 10/10 [00:04<00:00,  2.43it/s]\n",
      " 44%|████▎     | 3438/7864 [19:24<5:24:10,  4.39s/it, batch=3430, gpu_temp=61, loss={'chord': tensor(1.0819, device='cuda:0', grad_fn=<NllLossBackward0>), 'velocity': tensor(0.8247, device='cuda:0', grad_fn=<NllLossBackward0>), 'polyphony': tensor(0.4701, device='cuda:0', grad_fn=<NllLossBackward0>), 'density': tensor(0.6180, device='cuda:0', grad_fn=<NllLossBackward0>), 'piano_roll': tensor(1.0570, device='cuda:0', grad_fn=<NllLoss2DBackward0>), 'total': tensor(4.0516, device='cuda:0', grad_fn=<AddBackward0>)}]"
     ]
    },
    {
     "name": "stdout",
     "output_type": "stream",
     "text": [
      "Generated:  [{'type': 'pitch', 'value': 39}, {'type': 'velocity', 'value': 17}, {'type': 'pitch', 'value': 51}, {'type': 'velocity', 'value': 15}, {'type': 'pitch', 'value': 55}, {'type': 'velocity', 'value': 20}, 'next_frame', 'next_frame', 'next_frame', 'next_frame']\n",
      "Chords:  ['C_M7', 'C_M7', 'C_M7', 'C_M7', 'A_m7', 'A_m7', 'A_m7', 'A_m7', 'F_M', 'F_M', 'F_M', 'F_M', 'G_M', 'G_M', 'G_M', 'G_M', 'C_M7', 'C_M7', 'C_M7', 'C_M7', 'A_m7', 'A_m7', 'A_m7', 'A_m7', 'A_m7', 'A_m7', 'C_M7', 'C_M7', 'F_M', 'F_M', 'F_M', 'F_M']\n"
     ]
    },
    {
     "name": "stderr",
     "output_type": "stream",
     "text": [
      "100%|██████████| 16/16 [00:10<00:00,  1.56it/s]t/s, batch=3920, gpu_temp=56, loss={'chord': tensor(1.3064, device='cuda:0', grad_fn=<NllLossBackward0>), 'velocity': tensor(0.8484, device='cuda:0', grad_fn=<NllLossBackward0>), 'polyphony': tensor(0.6751, device='cuda:0', grad_fn=<NllLossBackward0>), 'density': tensor(0.7524, device='cuda:0', grad_fn=<NllLossBackward0>), 'piano_roll': tensor(1.1498, device='cuda:0', grad_fn=<NllLoss2DBackward0>), 'total': tensor(4.7323, device='cuda:0', grad_fn=<AddBackward0>)}]  \n"
     ]
    },
    {
     "name": "stdout",
     "output_type": "stream",
     "text": [
      "Generated:  [{'type': 'pitch', 'value': 39}, {'type': 'velocity', 'value': 17}, {'type': 'pitch', 'value': 58}, {'type': 'velocity', 'value': 21}, 'next_frame', 'next_frame', 'next_frame', 'next_frame', {'type': 'pitch', 'value': 46}, {'type': 'velocity', 'value': 17}]\n",
      "Chords:  ['None', 'None', 'None', 'None', 'None', 'None', 'None', 'None', 'D_m7', 'D_m7', 'G_m7', 'G_m7', 'C_M', 'C_M', 'C_M7', 'C_M7', 'A_m', 'A_m', 'A_m', 'A_m7', 'F_M', 'F_M', 'F_M7', 'F_M7', 'C_M', 'C_M', 'C_M7', 'C_M7', 'C_M', 'C_M', 'C_M7', 'C_M7']\n"
     ]
    },
    {
     "name": "stderr",
     "output_type": "stream",
     "text": [
      "100%|██████████| 10/10 [00:04<00:00,  2.29it/s]\n",
      " 50%|████▉     | 3929/7864 [22:10<5:09:59,  4.73s/it, batch=3920, gpu_temp=56, loss={'chord': tensor(1.3064, device='cuda:0', grad_fn=<NllLossBackward0>), 'velocity': tensor(0.8484, device='cuda:0', grad_fn=<NllLossBackward0>), 'polyphony': tensor(0.6751, device='cuda:0', grad_fn=<NllLossBackward0>), 'density': tensor(0.7524, device='cuda:0', grad_fn=<NllLossBackward0>), 'piano_roll': tensor(1.1498, device='cuda:0', grad_fn=<NllLoss2DBackward0>), 'total': tensor(4.7323, device='cuda:0', grad_fn=<AddBackward0>)}]"
     ]
    },
    {
     "name": "stdout",
     "output_type": "stream",
     "text": [
      "Generated:  [{'type': 'pitch', 'value': 39}, {'type': 'velocity', 'value': 17}, {'type': 'pitch', 'value': 51}, {'type': 'velocity', 'value': 15}, {'type': 'pitch', 'value': 55}, {'type': 'velocity', 'value': 20}, 'next_frame', 'next_frame', 'next_frame', 'next_frame']\n",
      "Chords:  ['C_M7', 'C_M7', 'C_M7', 'C_M7', 'A_m7', 'A_m7', 'A_m7', 'A_m7', 'F_M', 'F_M', 'F_M', 'F_M', 'G_M', 'G_M', 'G_M', 'G_M', 'C_M7', 'C_M7', 'C_M7', 'C_M7', 'A_m7', 'A_m7', 'A_m7', 'A_m7', 'C_M7', 'C_M7', 'C_M', 'C_M', 'G_M', 'G_M', 'G_M', 'G_M']\n"
     ]
    },
    {
     "name": "stderr",
     "output_type": "stream",
     "text": [
      "100%|██████████| 16/16 [00:13<00:00,  1.23it/s]t/s, batch=4410, gpu_temp=56, loss={'chord': tensor(1.1415, device='cuda:0', grad_fn=<NllLossBackward0>), 'velocity': tensor(0.8100, device='cuda:0', grad_fn=<NllLossBackward0>), 'polyphony': tensor(0.5552, device='cuda:0', grad_fn=<NllLossBackward0>), 'density': tensor(0.7129, device='cuda:0', grad_fn=<NllLossBackward0>), 'piano_roll': tensor(1.1840, device='cuda:0', grad_fn=<NllLoss2DBackward0>), 'total': tensor(4.4036, device='cuda:0', grad_fn=<AddBackward0>)}]  \n"
     ]
    },
    {
     "name": "stdout",
     "output_type": "stream",
     "text": [
      "Generated:  [{'type': 'pitch', 'value': 12}, {'type': 'velocity', 'value': 21}, {'type': 'pitch', 'value': 24}, {'type': 'velocity', 'value': 22}, 'next_frame', 'next_frame', 'next_frame', 'next_frame', {'type': 'pitch', 'value': 12}, {'type': 'velocity', 'value': 16}]\n",
      "Chords:  ['G_M', 'G_M', 'G_M', 'G_M', 'F_M', 'F_M', 'F_M', 'F_M', 'C_M', 'C_M', 'C_M', 'C_M', 'G_M', 'G_M', 'G_M', 'G_M', 'G_M', 'G_M', 'G_M', 'G_M', 'F_M', 'F_M', 'F_M', 'F_M', 'F_M', 'F_M', 'F_M', 'F_M', 'F_M7', 'F_M7', 'F_M', 'F_M']\n"
     ]
    },
    {
     "name": "stderr",
     "output_type": "stream",
     "text": [
      "100%|██████████| 10/10 [00:04<00:00,  2.11it/s]\n",
      " 56%|█████▌    | 4420/7864 [25:02<5:26:11,  5.68s/it, batch=4410, gpu_temp=56, loss={'chord': tensor(1.1415, device='cuda:0', grad_fn=<NllLossBackward0>), 'velocity': tensor(0.8100, device='cuda:0', grad_fn=<NllLossBackward0>), 'polyphony': tensor(0.5552, device='cuda:0', grad_fn=<NllLossBackward0>), 'density': tensor(0.7129, device='cuda:0', grad_fn=<NllLossBackward0>), 'piano_roll': tensor(1.1840, device='cuda:0', grad_fn=<NllLoss2DBackward0>), 'total': tensor(4.4036, device='cuda:0', grad_fn=<AddBackward0>)}]"
     ]
    },
    {
     "name": "stdout",
     "output_type": "stream",
     "text": [
      "Generated:  [{'type': 'pitch', 'value': 39}, {'type': 'velocity', 'value': 17}, {'type': 'pitch', 'value': 51}, {'type': 'velocity', 'value': 15}, {'type': 'pitch', 'value': 55}, {'type': 'velocity', 'value': 20}, 'next_frame', 'next_frame', 'next_frame', 'next_frame']\n",
      "Chords:  ['C_M7', 'C_M7', 'C_M7', 'C_M7', 'A_m7', 'A_m7', 'A_m7', 'A_m7', 'F_M', 'F_M', 'F_M', 'F_M', 'G_M', 'G_M', 'G_M', 'G_M', 'C_M7', 'C_M7', 'C_M7', 'C_M7', 'A_m7', 'A_m7', 'A_m7', 'A_m7', 'A_m7', 'A_m7', 'A_m7', 'A_m7', 'F_M', 'F_M', 'F_M', 'F_M']\n"
     ]
    },
    {
     "name": "stderr",
     "output_type": "stream",
     "text": [
      "100%|██████████| 16/16 [00:09<00:00,  1.63it/s]t/s, batch=4910, gpu_temp=56, loss={'chord': tensor(1.2616, device='cuda:0', grad_fn=<NllLossBackward0>), 'velocity': tensor(0.7557, device='cuda:0', grad_fn=<NllLossBackward0>), 'polyphony': tensor(0.6134, device='cuda:0', grad_fn=<NllLossBackward0>), 'density': tensor(0.6613, device='cuda:0', grad_fn=<NllLossBackward0>), 'piano_roll': tensor(1.1508, device='cuda:0', grad_fn=<NllLoss2DBackward0>), 'total': tensor(4.4427, device='cuda:0', grad_fn=<AddBackward0>)}]  \n"
     ]
    },
    {
     "name": "stdout",
     "output_type": "stream",
     "text": [
      "Generated:  [{'type': 'pitch', 'value': 15}, {'type': 'velocity', 'value': 18}, {'type': 'pitch', 'value': 39}, {'type': 'velocity', 'value': 20}, {'type': 'pitch', 'value': 43}, {'type': 'velocity', 'value': 19}, {'type': 'pitch', 'value': 46}, {'type': 'velocity', 'value': 20}, 'next_frame', 'next_frame']\n",
      "Chords:  ['A_m', 'A_m', 'A_m', 'A_m', 'A_M', 'A_M', 'A_m', 'A_m', 'D_m7', 'D_m7', 'D_m', 'D_m', 'D_m7', 'D_m7', 'D_m', 'D_m', 'D_m', 'D_m', 'D_m', 'D_m', 'A_m', 'A_m', 'A_m', 'A_m', 'A_m', 'A_m', 'A_m', 'A_m', 'A_m', 'A_m', 'A_m', 'A_m']\n"
     ]
    },
    {
     "name": "stderr",
     "output_type": "stream",
     "text": [
      "100%|██████████| 10/10 [00:03<00:00,  2.61it/s]\n",
      " 62%|██████▏   | 4911/7864 [27:47<3:40:56,  4.49s/it, batch=4910, gpu_temp=56, loss={'chord': tensor(1.2616, device='cuda:0', grad_fn=<NllLossBackward0>), 'velocity': tensor(0.7557, device='cuda:0', grad_fn=<NllLossBackward0>), 'polyphony': tensor(0.6134, device='cuda:0', grad_fn=<NllLossBackward0>), 'density': tensor(0.6613, device='cuda:0', grad_fn=<NllLossBackward0>), 'piano_roll': tensor(1.1508, device='cuda:0', grad_fn=<NllLoss2DBackward0>), 'total': tensor(4.4427, device='cuda:0', grad_fn=<AddBackward0>)}]"
     ]
    },
    {
     "name": "stdout",
     "output_type": "stream",
     "text": [
      "Generated:  [{'type': 'pitch', 'value': 39}, {'type': 'velocity', 'value': 17}, {'type': 'pitch', 'value': 51}, {'type': 'velocity', 'value': 15}, {'type': 'pitch', 'value': 55}, {'type': 'velocity', 'value': 20}, 'next_frame', 'next_frame', 'next_frame', 'next_frame']\n",
      "Chords:  ['C_M7', 'C_M7', 'C_M7', 'C_M7', 'A_m7', 'A_m7', 'A_m7', 'A_m7', 'F_M', 'F_M', 'F_M', 'F_M', 'G_M', 'G_M', 'G_M', 'G_M', 'C_M7', 'C_M7', 'C_M7', 'C_M7', 'A_m7', 'A_m7', 'A_m7', 'A_m7', 'A_m7', 'A_m7', 'A_m7', 'A_m7', 'A_m7', 'A_m7', 'A_m7', 'A_m7']\n"
     ]
    },
    {
     "name": "stderr",
     "output_type": "stream",
     "text": [
      "100%|██████████| 16/16 [00:09<00:00,  1.62it/s]t/s, batch=5400, gpu_temp=62, loss={'chord': tensor(1.2187, device='cuda:0', grad_fn=<NllLossBackward0>), 'velocity': tensor(0.7898, device='cuda:0', grad_fn=<NllLossBackward0>), 'polyphony': tensor(0.4912, device='cuda:0', grad_fn=<NllLossBackward0>), 'density': tensor(0.6501, device='cuda:0', grad_fn=<NllLossBackward0>), 'piano_roll': tensor(1.0518, device='cuda:0', grad_fn=<NllLoss2DBackward0>), 'total': tensor(4.2016, device='cuda:0', grad_fn=<AddBackward0>)}]  \n"
     ]
    },
    {
     "name": "stdout",
     "output_type": "stream",
     "text": [
      "Generated:  [{'type': 'pitch', 'value': 24}, {'type': 'velocity', 'value': 18}, {'type': 'pitch', 'value': 48}, {'type': 'velocity', 'value': 18}, {'type': 'pitch', 'value': 51}, {'type': 'velocity', 'value': 18}, {'type': 'pitch', 'value': 55}, {'type': 'velocity', 'value': 20}, 'next_frame', 'next_frame']\n",
      "Chords:  ['D_m', 'D_m', 'G_7', 'G_7', 'F_M', 'F_M', 'C_M7', 'C_M7', 'G_M', 'G_M', 'G_M', 'G_M', 'D_m', 'D_m', 'D_m', 'C_M', 'C_M', 'C_M', 'C_M', 'C_M', 'F_M7', 'F_M7', 'F_M7', 'F_M7', 'G_M', 'G_M', 'G_M', 'G_M', 'G_M', 'G_M', 'G_M', 'G_M']\n"
     ]
    },
    {
     "name": "stderr",
     "output_type": "stream",
     "text": [
      "100%|██████████| 10/10 [00:04<00:00,  2.42it/s]\n",
      " 69%|██████▊   | 5402/7864 [30:40<3:08:12,  4.59s/it, batch=5400, gpu_temp=62, loss={'chord': tensor(1.2187, device='cuda:0', grad_fn=<NllLossBackward0>), 'velocity': tensor(0.7898, device='cuda:0', grad_fn=<NllLossBackward0>), 'polyphony': tensor(0.4912, device='cuda:0', grad_fn=<NllLossBackward0>), 'density': tensor(0.6501, device='cuda:0', grad_fn=<NllLossBackward0>), 'piano_roll': tensor(1.0518, device='cuda:0', grad_fn=<NllLoss2DBackward0>), 'total': tensor(4.2016, device='cuda:0', grad_fn=<AddBackward0>)}]"
     ]
    },
    {
     "name": "stdout",
     "output_type": "stream",
     "text": [
      "Generated:  [{'type': 'pitch', 'value': 39}, {'type': 'velocity', 'value': 17}, {'type': 'pitch', 'value': 51}, {'type': 'velocity', 'value': 15}, {'type': 'pitch', 'value': 55}, {'type': 'velocity', 'value': 20}, 'next_frame', 'next_frame', 'next_frame', 'next_frame']\n",
      "Chords:  ['C_M7', 'C_M7', 'C_M7', 'C_M7', 'A_m7', 'A_m7', 'A_m7', 'A_m7', 'F_M', 'F_M', 'F_M', 'F_M', 'G_M', 'G_M', 'G_M', 'G_M', 'C_M7', 'C_M7', 'C_M7', 'C_M7', 'A_m7', 'A_m7', 'A_m7', 'A_m7', 'A_m7', 'A_m7', 'A_m7', 'A_m7', 'D_m7', 'D_m7', 'D_m', 'D_m']\n"
     ]
    },
    {
     "name": "stderr",
     "output_type": "stream",
     "text": [
      "100%|██████████| 16/16 [00:09<00:00,  1.67it/s]t/s, batch=5890, gpu_temp=61, loss={'chord': tensor(1.2360, device='cuda:0', grad_fn=<NllLossBackward0>), 'velocity': tensor(0.8154, device='cuda:0', grad_fn=<NllLossBackward0>), 'polyphony': tensor(0.5803, device='cuda:0', grad_fn=<NllLossBackward0>), 'density': tensor(0.6764, device='cuda:0', grad_fn=<NllLossBackward0>), 'piano_roll': tensor(1.1388, device='cuda:0', grad_fn=<NllLoss2DBackward0>), 'total': tensor(4.4469, device='cuda:0', grad_fn=<AddBackward0>)}]  \n"
     ]
    },
    {
     "name": "stdout",
     "output_type": "stream",
     "text": [
      "Generated:  [{'type': 'pitch', 'value': 27}, {'type': 'velocity', 'value': 19}, {'type': 'pitch', 'value': 58}, {'type': 'velocity', 'value': 22}, {'type': 'pitch', 'value': 67}, {'type': 'velocity', 'value': 24}, 'next_frame', 'next_frame', 'next_frame', 'next_frame']\n",
      "Chords:  ['A_m', 'A_m', 'A_m7', 'A_m7', 'F_M', 'F_M', 'F_M7', 'F_M7', 'C_M', 'C_M', 'C_M7', 'C_M7', 'G_M', 'G_M', 'G_M', 'G_M', 'F_M', 'F_M', 'F_M', 'F_M', 'G_M', 'G_M', 'G_M', 'G_M', 'G_M', 'G_M', 'G_M', 'G_M', 'C_M', 'C_M', 'C_M', 'C_M']\n"
     ]
    },
    {
     "name": "stderr",
     "output_type": "stream",
     "text": [
      "100%|██████████| 10/10 [00:04<00:00,  2.32it/s]\n",
      " 75%|███████▍  | 5893/7864 [33:23<2:26:52,  4.47s/it, batch=5890, gpu_temp=61, loss={'chord': tensor(1.2360, device='cuda:0', grad_fn=<NllLossBackward0>), 'velocity': tensor(0.8154, device='cuda:0', grad_fn=<NllLossBackward0>), 'polyphony': tensor(0.5803, device='cuda:0', grad_fn=<NllLossBackward0>), 'density': tensor(0.6764, device='cuda:0', grad_fn=<NllLossBackward0>), 'piano_roll': tensor(1.1388, device='cuda:0', grad_fn=<NllLoss2DBackward0>), 'total': tensor(4.4469, device='cuda:0', grad_fn=<AddBackward0>)}]"
     ]
    },
    {
     "name": "stdout",
     "output_type": "stream",
     "text": [
      "Generated:  [{'type': 'pitch', 'value': 39}, {'type': 'velocity', 'value': 17}, {'type': 'pitch', 'value': 51}, {'type': 'velocity', 'value': 15}, {'type': 'pitch', 'value': 55}, {'type': 'velocity', 'value': 20}, 'next_frame', 'next_frame', 'next_frame', 'next_frame']\n",
      "Chords:  ['C_M7', 'C_M7', 'C_M7', 'C_M7', 'A_m7', 'A_m7', 'A_m7', 'A_m7', 'F_M', 'F_M', 'F_M', 'F_M', 'G_M', 'G_M', 'G_M', 'G_M', 'C_M7', 'C_M7', 'C_M7', 'C_M7', 'A_m7', 'A_m7', 'A_m7', 'A_m7', 'A_m7', 'A_m7', 'A_m7', 'A_m7', 'A_m7', 'A_m7', 'A_m7', 'A_m7']\n"
     ]
    },
    {
     "name": "stderr",
     "output_type": "stream",
     "text": [
      "100%|██████████| 16/16 [00:13<00:00,  1.21it/s]t/s, batch=6380, gpu_temp=61, loss={'chord': tensor(1.1629, device='cuda:0', grad_fn=<NllLossBackward0>), 'velocity': tensor(0.7116, device='cuda:0', grad_fn=<NllLossBackward0>), 'polyphony': tensor(0.4984, device='cuda:0', grad_fn=<NllLossBackward0>), 'density': tensor(0.6131, device='cuda:0', grad_fn=<NllLossBackward0>), 'piano_roll': tensor(1.0644, device='cuda:0', grad_fn=<NllLoss2DBackward0>), 'total': tensor(4.0504, device='cuda:0', grad_fn=<AddBackward0>)}]  \n"
     ]
    },
    {
     "name": "stdout",
     "output_type": "stream",
     "text": [
      "Generated:  [{'type': 'pitch', 'value': 17}, {'type': 'velocity', 'value': 18}, {'type': 'pitch', 'value': 29}, {'type': 'velocity', 'value': 18}, 'next_frame', 'next_frame', 'next_frame', 'next_frame', {'type': 'pitch', 'value': 17}, {'type': 'velocity', 'value': 18}]\n",
      "Chords:  ['B_o', 'D_m7', 'D_m7', 'D_m7', 'D_m7', 'D_m7', 'D_m7', 'D_m7', 'A_m', 'A_m', 'A_m', 'A_m', 'None', 'None', 'A_m', 'A_m', 'D_m7', 'D_m7', 'C_M', 'C_M', 'C_M', 'G_M', 'G_M', 'G_M', 'F_M', 'F_M', 'G_7', 'G_7', 'E_M', 'E_M', 'A_m', 'A_m']\n"
     ]
    },
    {
     "name": "stderr",
     "output_type": "stream",
     "text": [
      "100%|██████████| 10/10 [00:08<00:00,  1.24it/s]\n",
      " 81%|████████  | 6384/7864 [36:12<2:51:31,  6.95s/it, batch=6380, gpu_temp=61, loss={'chord': tensor(1.1629, device='cuda:0', grad_fn=<NllLossBackward0>), 'velocity': tensor(0.7116, device='cuda:0', grad_fn=<NllLossBackward0>), 'polyphony': tensor(0.4984, device='cuda:0', grad_fn=<NllLossBackward0>), 'density': tensor(0.6131, device='cuda:0', grad_fn=<NllLossBackward0>), 'piano_roll': tensor(1.0644, device='cuda:0', grad_fn=<NllLoss2DBackward0>), 'total': tensor(4.0504, device='cuda:0', grad_fn=<AddBackward0>)}]"
     ]
    },
    {
     "name": "stdout",
     "output_type": "stream",
     "text": [
      "Generated:  [{'type': 'pitch', 'value': 39}, {'type': 'velocity', 'value': 17}, {'type': 'pitch', 'value': 51}, {'type': 'velocity', 'value': 15}, {'type': 'pitch', 'value': 55}, {'type': 'velocity', 'value': 20}, 'next_frame', 'next_frame', 'next_frame', 'next_frame']\n",
      "Chords:  ['C_M7', 'C_M7', 'C_M7', 'C_M7', 'A_m7', 'A_m7', 'A_m7', 'A_m7', 'F_M', 'F_M', 'F_M', 'F_M', 'G_M', 'G_M', 'G_M', 'G_M', 'C_M7', 'C_M7', 'C_M7', 'C_M7', 'A_m7', 'A_m7', 'A_m7', 'A_m7', 'A_m7', 'A_m7', 'A_m7', 'A_m7', 'A_m7', 'A_m7', 'A_m7', 'A_m7']\n"
     ]
    },
    {
     "name": "stderr",
     "output_type": "stream",
     "text": [
      "100%|██████████| 16/16 [00:12<00:00,  1.27it/s]t/s, batch=6870, gpu_temp=62, loss={'chord': tensor(1.0251, device='cuda:0', grad_fn=<NllLossBackward0>), 'velocity': tensor(0.8664, device='cuda:0', grad_fn=<NllLossBackward0>), 'polyphony': tensor(0.4815, device='cuda:0', grad_fn=<NllLossBackward0>), 'density': tensor(0.6293, device='cuda:0', grad_fn=<NllLossBackward0>), 'piano_roll': tensor(1.0722, device='cuda:0', grad_fn=<NllLoss2DBackward0>), 'total': tensor(4.0745, device='cuda:0', grad_fn=<AddBackward0>)}]  \n"
     ]
    },
    {
     "name": "stdout",
     "output_type": "stream",
     "text": [
      "Generated:  [{'type': 'pitch', 'value': 12}, {'type': 'velocity', 'value': 16}, {'type': 'pitch', 'value': 43}, {'type': 'velocity', 'value': 17}, {'type': 'pitch', 'value': 51}, {'type': 'velocity', 'value': 21}, 'next_frame', 'next_frame', 'next_frame', 'next_frame']\n",
      "Chords:  ['A_M', 'A_M', 'E_M', 'E_M', 'E_M', 'E_M', 'E_M', 'E_M', 'E_M', 'E_M', 'E_M', 'E_M', 'E_M', 'E_M', 'E_M', 'E_M', 'E_M', 'E_M', 'E_M', 'E_M', 'A_m', 'A_m', 'A_m', 'A_m', 'E_M', 'E_M', 'E_M', 'E_M', 'E_M', 'E_M', 'E_M', 'E_M']\n"
     ]
    },
    {
     "name": "stderr",
     "output_type": "stream",
     "text": [
      "100%|██████████| 10/10 [00:04<00:00,  2.04it/s]\n",
      " 87%|████████▋ | 6875/7864 [38:55<1:32:13,  5.60s/it, batch=6870, gpu_temp=62, loss={'chord': tensor(1.0251, device='cuda:0', grad_fn=<NllLossBackward0>), 'velocity': tensor(0.8664, device='cuda:0', grad_fn=<NllLossBackward0>), 'polyphony': tensor(0.4815, device='cuda:0', grad_fn=<NllLossBackward0>), 'density': tensor(0.6293, device='cuda:0', grad_fn=<NllLossBackward0>), 'piano_roll': tensor(1.0722, device='cuda:0', grad_fn=<NllLoss2DBackward0>), 'total': tensor(4.0745, device='cuda:0', grad_fn=<AddBackward0>)}]"
     ]
    },
    {
     "name": "stdout",
     "output_type": "stream",
     "text": [
      "Generated:  [{'type': 'pitch', 'value': 39}, {'type': 'velocity', 'value': 17}, {'type': 'pitch', 'value': 51}, {'type': 'velocity', 'value': 15}, {'type': 'pitch', 'value': 55}, {'type': 'velocity', 'value': 20}, 'next_frame', 'next_frame', 'next_frame', 'next_frame']\n",
      "Chords:  ['C_M7', 'C_M7', 'C_M7', 'C_M7', 'A_m7', 'A_m7', 'A_m7', 'A_m7', 'F_M', 'F_M', 'F_M', 'F_M', 'G_M', 'G_M', 'G_M', 'G_M', 'C_M7', 'C_M7', 'C_M7', 'C_M7', 'A_m7', 'A_m7', 'A_m7', 'A_m7', 'C_M7', 'C_M7', 'C_M7', 'C_M7', 'F_M', 'F_M', 'F_M', 'F_M']\n"
     ]
    },
    {
     "name": "stderr",
     "output_type": "stream",
     "text": [
      "100%|██████████| 16/16 [00:14<00:00,  1.12it/s]t/s, batch=7360, gpu_temp=61, loss={'chord': tensor(1.0493, device='cuda:0', grad_fn=<NllLossBackward0>), 'velocity': tensor(0.7735, device='cuda:0', grad_fn=<NllLossBackward0>), 'polyphony': tensor(0.5280, device='cuda:0', grad_fn=<NllLossBackward0>), 'density': tensor(0.5748, device='cuda:0', grad_fn=<NllLossBackward0>), 'piano_roll': tensor(1.0292, device='cuda:0', grad_fn=<NllLoss2DBackward0>), 'total': tensor(3.9549, device='cuda:0', grad_fn=<AddBackward0>)}]  \n"
     ]
    },
    {
     "name": "stdout",
     "output_type": "stream",
     "text": [
      "Generated:  ['next_frame', {'type': 'pitch', 'value': 12}, {'type': 'velocity', 'value': 16}, {'type': 'pitch', 'value': 24}, {'type': 'velocity', 'value': 19}, {'type': 'pitch', 'value': 31}, {'type': 'velocity', 'value': 20}, {'type': 'pitch', 'value': 36}, {'type': 'velocity', 'value': 20}, {'type': 'pitch', 'value': 39}]\n",
      "Chords:  ['F_M7', 'F_M7', 'F_M', 'F_M', 'E_m', 'E_m', 'E_m', 'E_m', 'A_m7', 'A_m7', 'A_m', 'A_m', 'A_m', 'A_m', 'A_m', 'A_m', 'F_M', 'F_M', 'F_M', 'F_M', 'G_M', 'G_M', 'G_M', 'G_M', 'D_M', 'A_m', 'A_m', 'A_m', 'A_m', 'A_m', 'A_m', 'A_m']\n"
     ]
    },
    {
     "name": "stderr",
     "output_type": "stream",
     "text": [
      "100%|██████████| 10/10 [00:06<00:00,  1.57it/s]\n",
      " 94%|█████████▎| 7366/7864 [41:56<54:20,  6.55s/it, batch=7360, gpu_temp=61, loss={'chord': tensor(1.0493, device='cuda:0', grad_fn=<NllLossBackward0>), 'velocity': tensor(0.7735, device='cuda:0', grad_fn=<NllLossBackward0>), 'polyphony': tensor(0.5280, device='cuda:0', grad_fn=<NllLossBackward0>), 'density': tensor(0.5748, device='cuda:0', grad_fn=<NllLossBackward0>), 'piano_roll': tensor(1.0292, device='cuda:0', grad_fn=<NllLoss2DBackward0>), 'total': tensor(3.9549, device='cuda:0', grad_fn=<AddBackward0>)}]"
     ]
    },
    {
     "name": "stdout",
     "output_type": "stream",
     "text": [
      "Generated:  [{'type': 'pitch', 'value': 39}, {'type': 'velocity', 'value': 17}, {'type': 'pitch', 'value': 51}, {'type': 'velocity', 'value': 15}, {'type': 'pitch', 'value': 55}, {'type': 'velocity', 'value': 20}, 'next_frame', 'next_frame', 'next_frame', 'next_frame']\n",
      "Chords:  ['C_M7', 'C_M7', 'C_M7', 'C_M7', 'A_m7', 'A_m7', 'A_m7', 'A_m7', 'F_M', 'F_M', 'F_M', 'F_M', 'G_M', 'G_M', 'G_M', 'G_M', 'C_M7', 'C_M7', 'C_M7', 'C_M7', 'A_m7', 'A_m7', 'A_m7', 'A_m7', 'C_M7', 'C_M7', 'C_M7', 'C_M7', 'C_M7', 'C_M7', 'C_M7', 'C_M7']\n"
     ]
    },
    {
     "name": "stderr",
     "output_type": "stream",
     "text": [
      "100%|██████████| 16/16 [00:17<00:00,  1.11s/it]t/s, batch=7850, gpu_temp=61, loss={'chord': tensor(1.0535, device='cuda:0', grad_fn=<NllLossBackward0>), 'velocity': tensor(0.7472, device='cuda:0', grad_fn=<NllLossBackward0>), 'polyphony': tensor(0.5484, device='cuda:0', grad_fn=<NllLossBackward0>), 'density': tensor(0.6124, device='cuda:0', grad_fn=<NllLossBackward0>), 'piano_roll': tensor(1.0730, device='cuda:0', grad_fn=<NllLoss2DBackward0>), 'total': tensor(4.0346, device='cuda:0', grad_fn=<AddBackward0>)}]\n"
     ]
    },
    {
     "name": "stdout",
     "output_type": "stream",
     "text": [
      "Generated:  [{'type': 'pitch', 'value': 17}, {'type': 'velocity', 'value': 20}, {'type': 'pitch', 'value': 48}, {'type': 'velocity', 'value': 24}, {'type': 'pitch', 'value': 60}, {'type': 'velocity', 'value': 24}, 'next_frame', 'next_frame', 'next_frame', 'next_frame']\n",
      "Chords:  ['G_M', 'G_M', 'G_M', 'G_M', 'D_m7', 'D_m7', 'D_m7', 'D_m7', 'A_M', 'A_M', 'A_sus4', 'A_sus4', 'None', 'None', 'None', 'None', 'None', 'None', 'None', 'None', 'None', 'None', 'None', 'None', 'None', 'None', 'None', 'None', 'None', 'None', 'None', 'None']\n"
     ]
    },
    {
     "name": "stderr",
     "output_type": "stream",
     "text": [
      "100%|██████████| 10/10 [00:05<00:00,  1.72it/s]\n",
      "100%|█████████▉| 7857/7864 [45:09<00:52,  7.53s/it, batch=7850, gpu_temp=61, loss={'chord': tensor(1.0535, device='cuda:0', grad_fn=<NllLossBackward0>), 'velocity': tensor(0.7472, device='cuda:0', grad_fn=<NllLossBackward0>), 'polyphony': tensor(0.5484, device='cuda:0', grad_fn=<NllLossBackward0>), 'density': tensor(0.6124, device='cuda:0', grad_fn=<NllLossBackward0>), 'piano_roll': tensor(1.0730, device='cuda:0', grad_fn=<NllLoss2DBackward0>), 'total': tensor(4.0346, device='cuda:0', grad_fn=<AddBackward0>)}]"
     ]
    },
    {
     "name": "stdout",
     "output_type": "stream",
     "text": [
      "Generated:  [{'type': 'pitch', 'value': 39}, {'type': 'velocity', 'value': 17}, {'type': 'pitch', 'value': 51}, {'type': 'velocity', 'value': 15}, {'type': 'pitch', 'value': 55}, {'type': 'velocity', 'value': 20}, 'next_frame', 'next_frame', 'next_frame', 'next_frame']\n",
      "Chords:  ['C_M7', 'C_M7', 'C_M7', 'C_M7', 'A_m7', 'A_m7', 'A_m7', 'A_m7', 'F_M', 'F_M', 'F_M', 'F_M', 'G_M', 'G_M', 'G_M', 'G_M', 'C_M7', 'C_M7', 'C_M7', 'C_M7', 'A_m7', 'A_m7', 'A_m7', 'A_m7', 'F_M', 'F_M', 'F_M', 'F_M', 'G_7', 'G_7', 'G_M', 'G_M']\n"
     ]
    },
    {
     "name": "stderr",
     "output_type": "stream",
     "text": [
      "100%|██████████| 7864/7864 [45:12<00:00,  2.90it/s, batch=7860, gpu_temp=58, loss={'chord': tensor(1.0786, device='cuda:0', grad_fn=<NllLossBackward0>), 'velocity': tensor(0.7054, device='cuda:0', grad_fn=<NllLossBackward0>), 'polyphony': tensor(0.4889, device='cuda:0', grad_fn=<NllLossBackward0>), 'density': tensor(0.6050, device='cuda:0', grad_fn=<NllLossBackward0>), 'piano_roll': tensor(1.1017, device='cuda:0', grad_fn=<NllLoss2DBackward0>), 'total': tensor(3.9796, device='cuda:0', grad_fn=<AddBackward0>)}]\n",
      "100%|██████████| 16/16 [00:11<00:00,  1.37it/s]/s, batch=490, gpu_temp=61, loss={'chord': tensor(1.1141, device='cuda:0', grad_fn=<NllLossBackward0>), 'velocity': tensor(0.7495, device='cuda:0', grad_fn=<NllLossBackward0>), 'polyphony': tensor(0.5033, device='cuda:0', grad_fn=<NllLossBackward0>), 'density': tensor(0.6342, device='cuda:0', grad_fn=<NllLossBackward0>), 'piano_roll': tensor(1.0660, device='cuda:0', grad_fn=<NllLoss2DBackward0>), 'total': tensor(4.0670, device='cuda:0', grad_fn=<AddBackward0>)}]  \n"
     ]
    },
    {
     "name": "stdout",
     "output_type": "stream",
     "text": [
      "Generated:  [{'type': 'pitch', 'value': 26}, {'type': 'velocity', 'value': 19}, {'type': 'pitch', 'value': 38}, {'type': 'velocity', 'value': 21}, {'type': 'pitch', 'value': 46}, {'type': 'velocity', 'value': 19}, {'type': 'pitch', 'value': 50}, {'type': 'velocity', 'value': 20}, {'type': 'pitch', 'value': 53}, {'type': 'velocity', 'value': 21}]\n",
      "Chords:  ['D_m7', 'D_m7', 'D_m7', 'D_m7', 'G_sus4', 'G_sus4', 'G_M', 'G_M', 'A_m7', 'A_m7', 'A_m7', 'A_m7', 'C_M', 'C_M', 'C_M', 'C_M', 'F_M7', 'F_M7', 'F_M7', 'F_M7', 'G_M', 'G_M', 'G_7', 'G_7', 'C_M', 'C_M', 'C_M', 'C_M', 'G_M', 'G_M', 'G_M', 'G_M']\n"
     ]
    },
    {
     "name": "stderr",
     "output_type": "stream",
     "text": [
      "100%|██████████| 10/10 [00:05<00:00,  1.97it/s]\n",
      "  6%|▋         | 492/7864 [03:06<11:00:56,  5.38s/it, batch=490, gpu_temp=61, loss={'chord': tensor(1.1141, device='cuda:0', grad_fn=<NllLossBackward0>), 'velocity': tensor(0.7495, device='cuda:0', grad_fn=<NllLossBackward0>), 'polyphony': tensor(0.5033, device='cuda:0', grad_fn=<NllLossBackward0>), 'density': tensor(0.6342, device='cuda:0', grad_fn=<NllLossBackward0>), 'piano_roll': tensor(1.0660, device='cuda:0', grad_fn=<NllLoss2DBackward0>), 'total': tensor(4.0670, device='cuda:0', grad_fn=<AddBackward0>)}]"
     ]
    },
    {
     "name": "stdout",
     "output_type": "stream",
     "text": [
      "Generated:  [{'type': 'pitch', 'value': 39}, {'type': 'velocity', 'value': 17}, {'type': 'pitch', 'value': 51}, {'type': 'velocity', 'value': 15}, {'type': 'pitch', 'value': 55}, {'type': 'velocity', 'value': 20}, 'next_frame', 'next_frame', 'next_frame', 'next_frame']\n",
      "Chords:  ['C_M7', 'C_M7', 'C_M7', 'C_M7', 'A_m7', 'A_m7', 'A_m7', 'A_m7', 'F_M', 'F_M', 'F_M', 'F_M', 'G_M', 'G_M', 'G_M', 'G_M', 'C_M7', 'C_M7', 'C_M7', 'C_M7', 'A_m7', 'A_m7', 'A_m7', 'A_m7', 'A_m7', 'A_m7', 'A_m7', 'A_m7', 'D_m7', 'D_m7', 'D_m7', 'D_m7']\n"
     ]
    },
    {
     "name": "stderr",
     "output_type": "stream",
     "text": [
      "100%|██████████| 16/16 [00:10<00:00,  1.50it/s]/s, batch=980, gpu_temp=56, loss={'chord': tensor(1.1147, device='cuda:0', grad_fn=<NllLossBackward0>), 'velocity': tensor(0.7298, device='cuda:0', grad_fn=<NllLossBackward0>), 'polyphony': tensor(0.4797, device='cuda:0', grad_fn=<NllLossBackward0>), 'density': tensor(0.6999, device='cuda:0', grad_fn=<NllLossBackward0>), 'piano_roll': tensor(1.0331, device='cuda:0', grad_fn=<NllLoss2DBackward0>), 'total': tensor(4.0571, device='cuda:0', grad_fn=<AddBackward0>)}]   \n"
     ]
    },
    {
     "name": "stdout",
     "output_type": "stream",
     "text": [
      "Generated:  ['next_frame', 'next_frame', 'next_frame', 'next_frame', 'next_frame', 'next_frame', 'next_frame', 'next_frame', 'next_frame', 'next_frame']\n",
      "Chords:  ['A_m', 'A_m', 'A_m7', 'A_m7', 'F_M', 'F_M', 'C_M', 'C_M', 'E_m7', 'E_m7', 'A_m7', 'A_m7', 'D_m7', 'D_m7', 'C_M', 'C_M', 'A_m7', 'A_m7', 'C_M7', 'C_M7', 'F_M7', 'F_M7', 'C_M', 'C_M', 'D_m7', 'D_m7', 'C_M7', 'C_M7', 'F_M7', 'F_M7', 'C_M', 'C_M']\n"
     ]
    },
    {
     "name": "stderr",
     "output_type": "stream",
     "text": [
      "100%|██████████| 10/10 [00:04<00:00,  2.14it/s]\n",
      " 12%|█▎        | 983/7864 [05:59<9:29:50,  4.97s/it, batch=980, gpu_temp=56, loss={'chord': tensor(1.1147, device='cuda:0', grad_fn=<NllLossBackward0>), 'velocity': tensor(0.7298, device='cuda:0', grad_fn=<NllLossBackward0>), 'polyphony': tensor(0.4797, device='cuda:0', grad_fn=<NllLossBackward0>), 'density': tensor(0.6999, device='cuda:0', grad_fn=<NllLossBackward0>), 'piano_roll': tensor(1.0331, device='cuda:0', grad_fn=<NllLoss2DBackward0>), 'total': tensor(4.0571, device='cuda:0', grad_fn=<AddBackward0>)}]"
     ]
    },
    {
     "name": "stdout",
     "output_type": "stream",
     "text": [
      "Generated:  [{'type': 'pitch', 'value': 39}, {'type': 'velocity', 'value': 17}, {'type': 'pitch', 'value': 51}, {'type': 'velocity', 'value': 15}, {'type': 'pitch', 'value': 55}, {'type': 'velocity', 'value': 20}, 'next_frame', 'next_frame', 'next_frame', 'next_frame']\n",
      "Chords:  ['C_M7', 'C_M7', 'C_M7', 'C_M7', 'A_m7', 'A_m7', 'A_m7', 'A_m7', 'F_M', 'F_M', 'F_M', 'F_M', 'G_M', 'G_M', 'G_M', 'G_M', 'C_M7', 'C_M7', 'C_M7', 'C_M7', 'A_m7', 'A_m7', 'A_m7', 'A_m7', 'A_o', 'A_o', 'A_o', 'A_o', 'A_o', 'A_o', 'A_o', 'A_o']\n"
     ]
    },
    {
     "name": "stderr",
     "output_type": "stream",
     "text": [
      "100%|██████████| 16/16 [00:09<00:00,  1.64it/s]t/s, batch=1470, gpu_temp=63, loss={'chord': tensor(1.2660, device='cuda:0', grad_fn=<NllLossBackward0>), 'velocity': tensor(0.7302, device='cuda:0', grad_fn=<NllLossBackward0>), 'polyphony': tensor(0.4599, device='cuda:0', grad_fn=<NllLossBackward0>), 'density': tensor(0.5967, device='cuda:0', grad_fn=<NllLossBackward0>), 'piano_roll': tensor(1.1040, device='cuda:0', grad_fn=<NllLoss2DBackward0>), 'total': tensor(4.1569, device='cuda:0', grad_fn=<AddBackward0>)}]  \n"
     ]
    },
    {
     "name": "stdout",
     "output_type": "stream",
     "text": [
      "Generated:  [{'type': 'pitch', 'value': 12}, {'type': 'velocity', 'value': 19}, {'type': 'pitch', 'value': 24}, {'type': 'velocity', 'value': 20}, {'type': 'pitch', 'value': 44}, {'type': 'velocity', 'value': 21}, {'type': 'pitch', 'value': 48}, {'type': 'velocity', 'value': 20}, {'type': 'pitch', 'value': 51}, {'type': 'velocity', 'value': 22}]\n",
      "Chords:  ['C_M', 'C_M', 'A_m7', 'A_m7', 'A_M', 'A_M', 'A_M', 'A_M', 'F_M7', 'F_M7', 'F_M7', 'F_M7', 'G_M', 'G_M', 'G_M', 'G_M', 'A_M', 'A_M', 'A_7', 'A_7', 'A_m', 'A_m', 'A_m', 'A_m', 'G_M', 'G_M', 'G_M', 'G_M', 'A_m7', 'A_m7', 'D_m7', 'D_m7']\n"
     ]
    },
    {
     "name": "stderr",
     "output_type": "stream",
     "text": [
      "100%|██████████| 10/10 [00:04<00:00,  2.38it/s]\n",
      " 19%|█▊        | 1474/7864 [08:57<8:02:14,  4.53s/it, batch=1470, gpu_temp=63, loss={'chord': tensor(1.2660, device='cuda:0', grad_fn=<NllLossBackward0>), 'velocity': tensor(0.7302, device='cuda:0', grad_fn=<NllLossBackward0>), 'polyphony': tensor(0.4599, device='cuda:0', grad_fn=<NllLossBackward0>), 'density': tensor(0.5967, device='cuda:0', grad_fn=<NllLossBackward0>), 'piano_roll': tensor(1.1040, device='cuda:0', grad_fn=<NllLoss2DBackward0>), 'total': tensor(4.1569, device='cuda:0', grad_fn=<AddBackward0>)}]"
     ]
    },
    {
     "name": "stdout",
     "output_type": "stream",
     "text": [
      "Generated:  [{'type': 'pitch', 'value': 39}, {'type': 'velocity', 'value': 17}, {'type': 'pitch', 'value': 51}, {'type': 'velocity', 'value': 15}, {'type': 'pitch', 'value': 55}, {'type': 'velocity', 'value': 20}, 'next_frame', 'next_frame', 'next_frame', 'next_frame']\n",
      "Chords:  ['C_M7', 'C_M7', 'C_M7', 'C_M7', 'A_m7', 'A_m7', 'A_m7', 'A_m7', 'F_M', 'F_M', 'F_M', 'F_M', 'G_M', 'G_M', 'G_M', 'G_M', 'C_M7', 'C_M7', 'C_M7', 'C_M7', 'A_m7', 'A_m7', 'A_m7', 'A_m7', 'A_m7', 'A_m7', 'A_m7', 'A_m7', 'F_M7', 'F_M7', 'F_M', 'F_M']\n"
     ]
    },
    {
     "name": "stderr",
     "output_type": "stream",
     "text": [
      "100%|██████████| 16/16 [00:10<00:00,  1.57it/s]t/s, batch=1960, gpu_temp=56, loss={'chord': tensor(0.9906, device='cuda:0', grad_fn=<NllLossBackward0>), 'velocity': tensor(0.6948, device='cuda:0', grad_fn=<NllLossBackward0>), 'polyphony': tensor(0.5262, device='cuda:0', grad_fn=<NllLossBackward0>), 'density': tensor(0.5651, device='cuda:0', grad_fn=<NllLossBackward0>), 'piano_roll': tensor(1.0439, device='cuda:0', grad_fn=<NllLoss2DBackward0>), 'total': tensor(3.8208, device='cuda:0', grad_fn=<AddBackward0>)}]  \n"
     ]
    },
    {
     "name": "stdout",
     "output_type": "stream",
     "text": [
      "Generated:  [{'type': 'pitch', 'value': 5}, {'type': 'velocity', 'value': 21}, {'type': 'pitch', 'value': 17}, {'type': 'velocity', 'value': 22}, 'next_frame', 'next_frame', 'next_frame', 'next_frame', {'type': 'pitch', 'value': 5}, {'type': 'velocity', 'value': 18}]\n",
      "Chords:  ['D_m7', 'D_m7', 'E_m', 'E_m', 'A_m7', 'A_m7', 'A_sus2', 'A_sus2', 'F_M7', 'F_M7', 'E_m', 'E_m', 'A_sus2', 'A_sus2', 'A_sus2', 'A_sus2', 'F_M', 'F_M', 'E_m', 'E_m', 'A_m7', 'A_m7', 'A_M', 'A_M', 'F_sus2', 'F_sus2', 'C_M', 'C_M', 'F_M7', 'F_M7', 'E_m7', 'E_m7']\n"
     ]
    },
    {
     "name": "stderr",
     "output_type": "stream",
     "text": [
      "100%|██████████| 10/10 [00:04<00:00,  2.48it/s]\n",
      " 25%|██▍       | 1965/7864 [11:40<7:32:50,  4.61s/it, batch=1960, gpu_temp=56, loss={'chord': tensor(0.9906, device='cuda:0', grad_fn=<NllLossBackward0>), 'velocity': tensor(0.6948, device='cuda:0', grad_fn=<NllLossBackward0>), 'polyphony': tensor(0.5262, device='cuda:0', grad_fn=<NllLossBackward0>), 'density': tensor(0.5651, device='cuda:0', grad_fn=<NllLossBackward0>), 'piano_roll': tensor(1.0439, device='cuda:0', grad_fn=<NllLoss2DBackward0>), 'total': tensor(3.8208, device='cuda:0', grad_fn=<AddBackward0>)}]"
     ]
    },
    {
     "name": "stdout",
     "output_type": "stream",
     "text": [
      "Generated:  [{'type': 'pitch', 'value': 39}, {'type': 'velocity', 'value': 17}, {'type': 'pitch', 'value': 51}, {'type': 'velocity', 'value': 15}, {'type': 'pitch', 'value': 55}, {'type': 'velocity', 'value': 20}, 'next_frame', 'next_frame', 'next_frame', 'next_frame']\n",
      "Chords:  ['C_M7', 'C_M7', 'C_M7', 'C_M7', 'A_m7', 'A_m7', 'A_m7', 'A_m7', 'F_M', 'F_M', 'F_M', 'F_M', 'G_M', 'G_M', 'G_M', 'G_M', 'C_M7', 'C_M7', 'C_M7', 'C_M7', 'A_m7', 'A_m7', 'A_m7', 'A_m7', 'F_M', 'F_M', 'F_M', 'F_M', 'G_M', 'G_M', 'G_M', 'G_M']\n"
     ]
    },
    {
     "name": "stderr",
     "output_type": "stream",
     "text": [
      "100%|██████████| 16/16 [00:12<00:00,  1.30it/s]t/s, batch=2450, gpu_temp=60, loss={'chord': tensor(1.1717, device='cuda:0', grad_fn=<NllLossBackward0>), 'velocity': tensor(0.6363, device='cuda:0', grad_fn=<NllLossBackward0>), 'polyphony': tensor(0.4059, device='cuda:0', grad_fn=<NllLossBackward0>), 'density': tensor(0.4805, device='cuda:0', grad_fn=<NllLossBackward0>), 'piano_roll': tensor(1.1049, device='cuda:0', grad_fn=<NllLoss2DBackward0>), 'total': tensor(3.7992, device='cuda:0', grad_fn=<AddBackward0>)}]  \n"
     ]
    },
    {
     "name": "stdout",
     "output_type": "stream",
     "text": [
      "Generated:  [{'type': 'pitch', 'value': 8}, {'type': 'velocity', 'value': 18}, {'type': 'pitch', 'value': 20}, {'type': 'velocity', 'value': 19}, {'type': 'pitch', 'value': 39}, {'type': 'velocity', 'value': 21}, {'type': 'pitch', 'value': 48}, {'type': 'velocity', 'value': 22}, 'next_frame', 'next_frame']\n",
      "Chords:  ['C_M', 'C_M', 'C_M', 'C_M', 'A_m', 'A_m', 'A_m7', 'A_m7', 'D_m7', 'D_m7', 'D_m7', 'D_m7', 'E_7', 'E_7', 'E_7', 'E_7', 'A_m', 'A_m', 'A_m', 'A_m', 'G_M', 'G_M', 'G_M', 'G_M', 'F_M7', 'F_M7', 'E_m', 'E_m', 'D_m7', 'D_m7', 'D_m7', 'D_m7']\n"
     ]
    },
    {
     "name": "stderr",
     "output_type": "stream",
     "text": [
      "100%|██████████| 10/10 [00:05<00:00,  1.88it/s]\n",
      " 31%|███       | 2456/7864 [14:37<8:28:57,  5.65s/it, batch=2450, gpu_temp=60, loss={'chord': tensor(1.1717, device='cuda:0', grad_fn=<NllLossBackward0>), 'velocity': tensor(0.6363, device='cuda:0', grad_fn=<NllLossBackward0>), 'polyphony': tensor(0.4059, device='cuda:0', grad_fn=<NllLossBackward0>), 'density': tensor(0.4805, device='cuda:0', grad_fn=<NllLossBackward0>), 'piano_roll': tensor(1.1049, device='cuda:0', grad_fn=<NllLoss2DBackward0>), 'total': tensor(3.7992, device='cuda:0', grad_fn=<AddBackward0>)}]"
     ]
    },
    {
     "name": "stdout",
     "output_type": "stream",
     "text": [
      "Generated:  [{'type': 'pitch', 'value': 39}, {'type': 'velocity', 'value': 17}, {'type': 'pitch', 'value': 51}, {'type': 'velocity', 'value': 15}, {'type': 'pitch', 'value': 55}, {'type': 'velocity', 'value': 20}, 'next_frame', 'next_frame', 'next_frame', 'next_frame']\n",
      "Chords:  ['C_M7', 'C_M7', 'C_M7', 'C_M7', 'A_m7', 'A_m7', 'A_m7', 'A_m7', 'F_M', 'F_M', 'F_M', 'F_M', 'G_M', 'G_M', 'G_M', 'G_M', 'C_M7', 'C_M7', 'C_M7', 'C_M7', 'A_m7', 'A_m7', 'A_m7', 'A_m7', 'A_m7', 'A_m7', 'A_m7', 'A_m7', 'F_M', 'F_M', 'F_M', 'F_M']\n"
     ]
    },
    {
     "name": "stderr",
     "output_type": "stream",
     "text": [
      "100%|██████████| 16/16 [00:10<00:00,  1.51it/s]t/s, batch=2940, gpu_temp=61, loss={'chord': tensor(1.1511, device='cuda:0', grad_fn=<NllLossBackward0>), 'velocity': tensor(0.6431, device='cuda:0', grad_fn=<NllLossBackward0>), 'polyphony': tensor(0.4246, device='cuda:0', grad_fn=<NllLossBackward0>), 'density': tensor(0.5603, device='cuda:0', grad_fn=<NllLossBackward0>), 'piano_roll': tensor(1.1233, device='cuda:0', grad_fn=<NllLoss2DBackward0>), 'total': tensor(3.9025, device='cuda:0', grad_fn=<AddBackward0>)}]  \n"
     ]
    },
    {
     "name": "stdout",
     "output_type": "stream",
     "text": [
      "Generated:  [{'type': 'pitch', 'value': 12}, {'type': 'velocity', 'value': 20}, {'type': 'pitch', 'value': 24}, {'type': 'velocity', 'value': 21}, {'type': 'pitch', 'value': 50}, {'type': 'velocity', 'value': 24}, {'type': 'pitch', 'value': 62}, {'type': 'velocity', 'value': 25}, 'next_frame', 'next_frame']\n",
      "Chords:  ['C_+', 'C_+', 'C_M7', 'C_M7', 'F_M7', 'F_M7', 'C_M', 'C_M', 'C_M', 'C_M', 'C_M', 'C_M', 'F_M', 'F_M', 'F_M', 'F_M', 'G_M', 'G_M', 'G_7', 'G_7', 'F_M', 'F_M', 'F_M7', 'F_M7', 'G_M', 'G_M', 'G_M', 'G_M', 'F_M', 'F_M', 'F_M7', 'F_M7']\n"
     ]
    },
    {
     "name": "stderr",
     "output_type": "stream",
     "text": [
      "100%|██████████| 10/10 [00:06<00:00,  1.63it/s]\n",
      " 37%|███▋      | 2947/7864 [17:51<7:39:46,  5.61s/it, batch=2940, gpu_temp=61, loss={'chord': tensor(1.1511, device='cuda:0', grad_fn=<NllLossBackward0>), 'velocity': tensor(0.6431, device='cuda:0', grad_fn=<NllLossBackward0>), 'polyphony': tensor(0.4246, device='cuda:0', grad_fn=<NllLossBackward0>), 'density': tensor(0.5603, device='cuda:0', grad_fn=<NllLossBackward0>), 'piano_roll': tensor(1.1233, device='cuda:0', grad_fn=<NllLoss2DBackward0>), 'total': tensor(3.9025, device='cuda:0', grad_fn=<AddBackward0>)}]"
     ]
    },
    {
     "name": "stdout",
     "output_type": "stream",
     "text": [
      "Generated:  [{'type': 'pitch', 'value': 39}, {'type': 'velocity', 'value': 17}, {'type': 'pitch', 'value': 51}, {'type': 'velocity', 'value': 15}, {'type': 'pitch', 'value': 55}, {'type': 'velocity', 'value': 20}, 'next_frame', 'next_frame', 'next_frame', 'next_frame']\n",
      "Chords:  ['C_M7', 'C_M7', 'C_M7', 'C_M7', 'A_m7', 'A_m7', 'A_m7', 'A_m7', 'F_M', 'F_M', 'F_M', 'F_M', 'G_M', 'G_M', 'G_M', 'G_M', 'C_M7', 'C_M7', 'C_M7', 'C_M7', 'A_m7', 'A_m7', 'A_m7', 'A_m7', 'C_M7', 'C_M7', 'G_M', 'G_M', 'G_M', 'G_M', 'G_M', 'G_M']\n"
     ]
    },
    {
     "name": "stderr",
     "output_type": "stream",
     "text": [
      "100%|██████████| 16/16 [00:13<00:00,  1.20it/s]t/s, batch=3430, gpu_temp=60, loss={'chord': tensor(1.2429, device='cuda:0', grad_fn=<NllLossBackward0>), 'velocity': tensor(0.7343, device='cuda:0', grad_fn=<NllLossBackward0>), 'polyphony': tensor(0.4138, device='cuda:0', grad_fn=<NllLossBackward0>), 'density': tensor(0.6063, device='cuda:0', grad_fn=<NllLossBackward0>), 'piano_roll': tensor(1.2476, device='cuda:0', grad_fn=<NllLoss2DBackward0>), 'total': tensor(4.2449, device='cuda:0', grad_fn=<AddBackward0>)}]  \n"
     ]
    },
    {
     "name": "stdout",
     "output_type": "stream",
     "text": [
      "Generated:  [{'type': 'pitch', 'value': 15}, {'type': 'velocity', 'value': 20}, {'type': 'pitch', 'value': 27}, {'type': 'velocity', 'value': 21}, 'next_frame', 'next_frame', 'next_frame', 'next_frame', {'type': 'pitch', 'value': 46}, {'type': 'velocity', 'value': 21}]\n",
      "Chords:  ['D_m7', 'D_m7', 'D_m7', 'D_m7', 'D_m7', 'D_m7', 'D_m7', 'D_m7', 'C_M', 'C_M', 'C_M7', 'C_M7', 'F_M', 'F_M', 'F_M7', 'F_M7', 'G_M', 'G_M', 'G_M', 'G_M', 'C_M', 'C_M', 'C_M', 'C_M', 'F_M7', 'F_M7', 'F_M7', 'F_M7', 'G_M', 'G_M', 'G_M', 'G_M']\n"
     ]
    },
    {
     "name": "stderr",
     "output_type": "stream",
     "text": [
      "100%|██████████| 10/10 [00:05<00:00,  1.82it/s]\n",
      " 44%|████▎     | 3438/7864 [21:06<7:24:24,  6.02s/it, batch=3430, gpu_temp=60, loss={'chord': tensor(1.2429, device='cuda:0', grad_fn=<NllLossBackward0>), 'velocity': tensor(0.7343, device='cuda:0', grad_fn=<NllLossBackward0>), 'polyphony': tensor(0.4138, device='cuda:0', grad_fn=<NllLossBackward0>), 'density': tensor(0.6063, device='cuda:0', grad_fn=<NllLossBackward0>), 'piano_roll': tensor(1.2476, device='cuda:0', grad_fn=<NllLoss2DBackward0>), 'total': tensor(4.2449, device='cuda:0', grad_fn=<AddBackward0>)}]"
     ]
    },
    {
     "name": "stdout",
     "output_type": "stream",
     "text": [
      "Generated:  [{'type': 'pitch', 'value': 39}, {'type': 'velocity', 'value': 17}, {'type': 'pitch', 'value': 51}, {'type': 'velocity', 'value': 15}, {'type': 'pitch', 'value': 55}, {'type': 'velocity', 'value': 20}, 'next_frame', 'next_frame', 'next_frame', 'next_frame']\n",
      "Chords:  ['C_M7', 'C_M7', 'C_M7', 'C_M7', 'A_m7', 'A_m7', 'A_m7', 'A_m7', 'F_M', 'F_M', 'F_M', 'F_M', 'G_M', 'G_M', 'G_M', 'G_M', 'C_M7', 'C_M7', 'C_M7', 'C_M7', 'A_m7', 'A_m7', 'A_m7', 'A_m7', 'A_m7', 'A_m7', 'A_m7', 'A_m7', 'F_M7', 'F_M7', 'F_M7', 'F_M7']\n"
     ]
    },
    {
     "name": "stderr",
     "output_type": "stream",
     "text": [
      "100%|██████████| 16/16 [00:15<00:00,  1.04it/s]t/s, batch=3920, gpu_temp=61, loss={'chord': tensor(0.9624, device='cuda:0', grad_fn=<NllLossBackward0>), 'velocity': tensor(0.7136, device='cuda:0', grad_fn=<NllLossBackward0>), 'polyphony': tensor(0.3929, device='cuda:0', grad_fn=<NllLossBackward0>), 'density': tensor(0.5821, device='cuda:0', grad_fn=<NllLossBackward0>), 'piano_roll': tensor(0.9999, device='cuda:0', grad_fn=<NllLoss2DBackward0>), 'total': tensor(3.6509, device='cuda:0', grad_fn=<AddBackward0>)}]  \n"
     ]
    },
    {
     "name": "stdout",
     "output_type": "stream",
     "text": [
      "Generated:  [{'type': 'pitch', 'value': 29}, {'type': 'velocity', 'value': 22}, {'type': 'pitch', 'value': 41}, {'type': 'velocity', 'value': 20}, 'next_frame', 'next_frame', 'next_frame', 'next_frame', {'type': 'pitch', 'value': 36}, {'type': 'velocity', 'value': 18}]\n",
      "Chords:  ['D_m', 'D_m', 'D_m7', 'D_m7', 'G_M', 'G_M', 'G_M', 'G_M', 'C_M7', 'C_M7', 'G_M', 'G_M', 'A_m', 'A_m', 'A_m', 'A_m', 'C_M7', 'C_M7', 'E_m', 'E_m', 'D_m7', 'D_m7', 'D_m7', 'D_m7', 'C_M7', 'C_M7', 'C_M7', 'C_M7', 'F_M', 'F_M', 'F_sus2', 'F_sus2']\n"
     ]
    },
    {
     "name": "stderr",
     "output_type": "stream",
     "text": [
      "100%|██████████| 10/10 [00:04<00:00,  2.15it/s]\n",
      " 50%|████▉     | 3929/7864 [23:58<6:55:48,  6.34s/it, batch=3920, gpu_temp=61, loss={'chord': tensor(0.9624, device='cuda:0', grad_fn=<NllLossBackward0>), 'velocity': tensor(0.7136, device='cuda:0', grad_fn=<NllLossBackward0>), 'polyphony': tensor(0.3929, device='cuda:0', grad_fn=<NllLossBackward0>), 'density': tensor(0.5821, device='cuda:0', grad_fn=<NllLossBackward0>), 'piano_roll': tensor(0.9999, device='cuda:0', grad_fn=<NllLoss2DBackward0>), 'total': tensor(3.6509, device='cuda:0', grad_fn=<AddBackward0>)}]"
     ]
    },
    {
     "name": "stdout",
     "output_type": "stream",
     "text": [
      "Generated:  [{'type': 'pitch', 'value': 39}, {'type': 'velocity', 'value': 17}, {'type': 'pitch', 'value': 51}, {'type': 'velocity', 'value': 15}, {'type': 'pitch', 'value': 55}, {'type': 'velocity', 'value': 20}, 'next_frame', 'next_frame', 'next_frame', 'next_frame']\n",
      "Chords:  ['C_M7', 'C_M7', 'C_M7', 'C_M7', 'A_m7', 'A_m7', 'A_m7', 'A_m7', 'F_M', 'F_M', 'F_M', 'F_M', 'G_M', 'G_M', 'G_M', 'G_M', 'C_M7', 'C_M7', 'C_M7', 'C_M7', 'A_m7', 'A_m7', 'A_m7', 'A_m7', 'C_M7', 'C_M7', 'C_M7', 'C_M7', 'C_M7', 'C_M7', 'C_M7', 'C_M7']\n"
     ]
    },
    {
     "name": "stderr",
     "output_type": "stream",
     "text": [
      "100%|██████████| 16/16 [00:14<00:00,  1.11it/s]t/s, batch=4410, gpu_temp=61, loss={'chord': tensor(1.1628, device='cuda:0', grad_fn=<NllLossBackward0>), 'velocity': tensor(0.6812, device='cuda:0', grad_fn=<NllLossBackward0>), 'polyphony': tensor(0.4573, device='cuda:0', grad_fn=<NllLossBackward0>), 'density': tensor(0.5502, device='cuda:0', grad_fn=<NllLossBackward0>), 'piano_roll': tensor(1.1273, device='cuda:0', grad_fn=<NllLoss2DBackward0>), 'total': tensor(3.9788, device='cuda:0', grad_fn=<AddBackward0>)}]  \n"
     ]
    },
    {
     "name": "stdout",
     "output_type": "stream",
     "text": [
      "Generated:  [{'type': 'pitch', 'value': 20}, {'type': 'velocity', 'value': 20}, {'type': 'pitch', 'value': 32}, {'type': 'velocity', 'value': 22}, {'type': 'pitch', 'value': 56}, {'type': 'velocity', 'value': 23}, {'type': 'pitch', 'value': 63}, {'type': 'velocity', 'value': 22}, 'next_frame', 'next_frame']\n",
      "Chords:  ['A_m', 'A_m', 'F_M', 'F_M', 'G_7', 'G_7', 'C_M7', 'C_M7', 'F_M7', 'F_M7', 'F_M7', 'F_M7', 'G_7', 'G_7', 'B_o', 'B_o', 'E_m7', 'E_m7', 'E_m7', 'E_m7', 'A_m7', 'A_m7', 'A_m7', 'A_m7', 'D_m7', 'D_m7', 'D_m7', 'D_m7', 'None', 'None', 'None', 'None']\n"
     ]
    },
    {
     "name": "stderr",
     "output_type": "stream",
     "text": [
      "100%|██████████| 10/10 [00:05<00:00,  1.76it/s]\n",
      " 56%|█████▌    | 4420/7864 [26:55<6:04:24,  6.35s/it, batch=4410, gpu_temp=61, loss={'chord': tensor(1.1628, device='cuda:0', grad_fn=<NllLossBackward0>), 'velocity': tensor(0.6812, device='cuda:0', grad_fn=<NllLossBackward0>), 'polyphony': tensor(0.4573, device='cuda:0', grad_fn=<NllLossBackward0>), 'density': tensor(0.5502, device='cuda:0', grad_fn=<NllLossBackward0>), 'piano_roll': tensor(1.1273, device='cuda:0', grad_fn=<NllLoss2DBackward0>), 'total': tensor(3.9788, device='cuda:0', grad_fn=<AddBackward0>)}]"
     ]
    },
    {
     "name": "stdout",
     "output_type": "stream",
     "text": [
      "Generated:  [{'type': 'pitch', 'value': 39}, {'type': 'velocity', 'value': 17}, {'type': 'pitch', 'value': 51}, {'type': 'velocity', 'value': 15}, {'type': 'pitch', 'value': 55}, {'type': 'velocity', 'value': 20}, 'next_frame', 'next_frame', 'next_frame', 'next_frame']\n",
      "Chords:  ['C_M7', 'C_M7', 'C_M7', 'C_M7', 'A_m7', 'A_m7', 'A_m7', 'A_m7', 'F_M', 'F_M', 'F_M', 'F_M', 'G_M', 'G_M', 'G_M', 'G_M', 'C_M7', 'C_M7', 'C_M7', 'C_M7', 'A_m7', 'A_m7', 'A_m7', 'A_m7', 'A_m7', 'A_m7', 'A_m7', 'A_m7', 'A_m7', 'A_m7', 'C_M7', 'C_M7']\n"
     ]
    },
    {
     "name": "stderr",
     "output_type": "stream",
     "text": [
      "100%|██████████| 16/16 [00:08<00:00,  1.79it/s]t/s, batch=4910, gpu_temp=61, loss={'chord': tensor(0.9294, device='cuda:0', grad_fn=<NllLossBackward0>), 'velocity': tensor(0.6818, device='cuda:0', grad_fn=<NllLossBackward0>), 'polyphony': tensor(0.4761, device='cuda:0', grad_fn=<NllLossBackward0>), 'density': tensor(0.5560, device='cuda:0', grad_fn=<NllLossBackward0>), 'piano_roll': tensor(1.0526, device='cuda:0', grad_fn=<NllLoss2DBackward0>), 'total': tensor(3.6960, device='cuda:0', grad_fn=<AddBackward0>)}]  \n"
     ]
    },
    {
     "name": "stdout",
     "output_type": "stream",
     "text": [
      "Generated:  [{'type': 'pitch', 'value': 12}, {'type': 'velocity', 'value': 21}, {'type': 'pitch', 'value': 24}, {'type': 'velocity', 'value': 22}, {'type': 'pitch', 'value': 36}, {'type': 'velocity', 'value': 19}, 'next_frame', 'next_frame', 'next_frame', 'next_frame']\n",
      "Chords:  ['A_m', 'A_m', 'A_m7', 'A_m7', 'F_M', 'F_M', 'G_M', 'G_M', 'C_M', 'C_M', 'C_M', 'C_M', 'F_M', 'F_M', 'G_M', 'G_M', 'C_M', 'C_M', 'A_m7', 'A_m7', 'D_m', 'D_m', 'D_m7', 'D_m7', 'E_m7', 'E_m7', 'G_M', 'G_M', 'C_M', 'C_M', 'C_M', 'C_M']\n"
     ]
    },
    {
     "name": "stderr",
     "output_type": "stream",
     "text": [
      "100%|██████████| 10/10 [00:04<00:00,  2.05it/s]\n",
      " 62%|██████▏   | 4911/7864 [29:49<3:39:41,  4.46s/it, batch=4910, gpu_temp=61, loss={'chord': tensor(0.9294, device='cuda:0', grad_fn=<NllLossBackward0>), 'velocity': tensor(0.6818, device='cuda:0', grad_fn=<NllLossBackward0>), 'polyphony': tensor(0.4761, device='cuda:0', grad_fn=<NllLossBackward0>), 'density': tensor(0.5560, device='cuda:0', grad_fn=<NllLossBackward0>), 'piano_roll': tensor(1.0526, device='cuda:0', grad_fn=<NllLoss2DBackward0>), 'total': tensor(3.6960, device='cuda:0', grad_fn=<AddBackward0>)}]"
     ]
    },
    {
     "name": "stdout",
     "output_type": "stream",
     "text": [
      "Generated:  [{'type': 'pitch', 'value': 39}, {'type': 'velocity', 'value': 17}, {'type': 'pitch', 'value': 51}, {'type': 'velocity', 'value': 15}, {'type': 'pitch', 'value': 55}, {'type': 'velocity', 'value': 20}, 'next_frame', 'next_frame', 'next_frame', 'next_frame']\n",
      "Chords:  ['C_M7', 'C_M7', 'C_M7', 'C_M7', 'A_m7', 'A_m7', 'A_m7', 'A_m7', 'F_M', 'F_M', 'F_M', 'F_M', 'G_M', 'G_M', 'G_M', 'G_M', 'C_M7', 'C_M7', 'C_M7', 'C_M7', 'A_m7', 'A_m7', 'A_m7', 'A_m7', 'A_m', 'A_m', 'A_m7', 'A_m7', 'C_M7', 'C_M7', 'C_M7', 'C_M7']\n"
     ]
    },
    {
     "name": "stderr",
     "output_type": "stream",
     "text": [
      "100%|██████████| 16/16 [00:10<00:00,  1.47it/s]t/s, batch=5400, gpu_temp=62, loss={'chord': tensor(1.1601, device='cuda:0', grad_fn=<NllLossBackward0>), 'velocity': tensor(0.6758, device='cuda:0', grad_fn=<NllLossBackward0>), 'polyphony': tensor(0.4356, device='cuda:0', grad_fn=<NllLossBackward0>), 'density': tensor(0.5346, device='cuda:0', grad_fn=<NllLossBackward0>), 'piano_roll': tensor(1.0573, device='cuda:0', grad_fn=<NllLoss2DBackward0>), 'total': tensor(3.8634, device='cuda:0', grad_fn=<AddBackward0>)}]  \n"
     ]
    },
    {
     "name": "stdout",
     "output_type": "stream",
     "text": [
      "Generated:  [{'type': 'pitch', 'value': 12}, {'type': 'velocity', 'value': 21}, {'type': 'pitch', 'value': 24}, {'type': 'velocity', 'value': 23}, {'type': 'pitch', 'value': 36}, {'type': 'velocity', 'value': 24}, {'type': 'pitch', 'value': 43}, {'type': 'velocity', 'value': 22}, {'type': 'pitch', 'value': 48}, {'type': 'velocity', 'value': 22}]\n",
      "Chords:  ['G_M', 'G_M', 'C_M', 'C_M', 'D_7', 'D_7', 'G_7', 'G_7', 'A_m', 'A_m', 'C_M', 'C_M', 'D_7', 'D_7', 'D_M', 'D_M', 'G_M', 'G_M', 'G_M', 'G_M', 'G_M', 'G_M', 'C_M7', 'C_M7', 'C_M7', 'C_M7', 'C_M', 'D_M', 'A_m', 'A_m', 'A_m', 'A_m']\n"
     ]
    },
    {
     "name": "stderr",
     "output_type": "stream",
     "text": [
      "100%|██████████| 10/10 [00:03<00:00,  2.64it/s]\n",
      " 69%|██████▊   | 5402/7864 [32:35<3:16:24,  4.79s/it, batch=5400, gpu_temp=62, loss={'chord': tensor(1.1601, device='cuda:0', grad_fn=<NllLossBackward0>), 'velocity': tensor(0.6758, device='cuda:0', grad_fn=<NllLossBackward0>), 'polyphony': tensor(0.4356, device='cuda:0', grad_fn=<NllLossBackward0>), 'density': tensor(0.5346, device='cuda:0', grad_fn=<NllLossBackward0>), 'piano_roll': tensor(1.0573, device='cuda:0', grad_fn=<NllLoss2DBackward0>), 'total': tensor(3.8634, device='cuda:0', grad_fn=<AddBackward0>)}]"
     ]
    },
    {
     "name": "stdout",
     "output_type": "stream",
     "text": [
      "Generated:  [{'type': 'pitch', 'value': 39}, {'type': 'velocity', 'value': 17}, {'type': 'pitch', 'value': 51}, {'type': 'velocity', 'value': 15}, {'type': 'pitch', 'value': 55}, {'type': 'velocity', 'value': 20}, 'next_frame', 'next_frame', 'next_frame', 'next_frame']\n",
      "Chords:  ['C_M7', 'C_M7', 'C_M7', 'C_M7', 'A_m7', 'A_m7', 'A_m7', 'A_m7', 'F_M', 'F_M', 'F_M', 'F_M', 'G_M', 'G_M', 'G_M', 'G_M', 'C_M7', 'C_M7', 'C_M7', 'C_M7', 'A_m7', 'A_m7', 'A_m7', 'A_m7', 'F_M', 'F_M', 'F_M', 'F_M', 'G_M', 'G_M', 'G_M', 'G_M']\n"
     ]
    },
    {
     "name": "stderr",
     "output_type": "stream",
     "text": [
      "100%|██████████| 16/16 [00:08<00:00,  1.84it/s]t/s, batch=5890, gpu_temp=61, loss={'chord': tensor(1.1452, device='cuda:0', grad_fn=<NllLossBackward0>), 'velocity': tensor(0.7274, device='cuda:0', grad_fn=<NllLossBackward0>), 'polyphony': tensor(0.4500, device='cuda:0', grad_fn=<NllLossBackward0>), 'density': tensor(0.6277, device='cuda:0', grad_fn=<NllLossBackward0>), 'piano_roll': tensor(1.0606, device='cuda:0', grad_fn=<NllLoss2DBackward0>), 'total': tensor(4.0108, device='cuda:0', grad_fn=<AddBackward0>)}]  \n"
     ]
    },
    {
     "name": "stdout",
     "output_type": "stream",
     "text": [
      "Generated:  [{'type': 'pitch', 'value': 31}, {'type': 'velocity', 'value': 19}, {'type': 'pitch', 'value': 53}, {'type': 'velocity', 'value': 22}, 'next_frame', 'next_frame', 'next_frame', 'next_frame', {'type': 'pitch', 'value': 38}, {'type': 'velocity', 'value': 19}]\n",
      "Chords:  ['F_M', 'F_M', 'F_M', 'F_M', 'G_M', 'G_M', 'G_M', 'G_M', 'A_M', 'A_M', 'A_M', 'A_M', 'A_M', 'A_M', 'A_M', 'A_M', 'A_m', 'A_m', 'A_m7', 'A_m7', 'F_M7', 'F_M7', 'F_M7', 'F_M7', 'G_7', 'G_7', 'G_7', 'G_7', 'A_m', 'A_m', 'A_m', 'A_m']\n"
     ]
    },
    {
     "name": "stderr",
     "output_type": "stream",
     "text": [
      "100%|██████████| 10/10 [00:04<00:00,  2.28it/s]\n",
      " 75%|███████▍  | 5893/7864 [35:20<2:21:25,  4.31s/it, batch=5890, gpu_temp=61, loss={'chord': tensor(1.1452, device='cuda:0', grad_fn=<NllLossBackward0>), 'velocity': tensor(0.7274, device='cuda:0', grad_fn=<NllLossBackward0>), 'polyphony': tensor(0.4500, device='cuda:0', grad_fn=<NllLossBackward0>), 'density': tensor(0.6277, device='cuda:0', grad_fn=<NllLossBackward0>), 'piano_roll': tensor(1.0606, device='cuda:0', grad_fn=<NllLoss2DBackward0>), 'total': tensor(4.0108, device='cuda:0', grad_fn=<AddBackward0>)}]"
     ]
    },
    {
     "name": "stdout",
     "output_type": "stream",
     "text": [
      "Generated:  [{'type': 'pitch', 'value': 39}, {'type': 'velocity', 'value': 17}, {'type': 'pitch', 'value': 51}, {'type': 'velocity', 'value': 15}, {'type': 'pitch', 'value': 55}, {'type': 'velocity', 'value': 20}, 'next_frame', 'next_frame', 'next_frame', 'next_frame']\n",
      "Chords:  ['C_M7', 'C_M7', 'C_M7', 'C_M7', 'A_m7', 'A_m7', 'A_m7', 'A_m7', 'F_M', 'F_M', 'F_M', 'F_M', 'G_M', 'G_M', 'G_M', 'G_M', 'C_M7', 'C_M7', 'C_M7', 'C_M7', 'A_m7', 'A_m7', 'A_m7', 'A_m7', 'C_M7', 'C_M7', 'C_M7', 'C_M7', 'F_M7', 'F_M7', 'F_M7', 'F_M7']\n"
     ]
    },
    {
     "name": "stderr",
     "output_type": "stream",
     "text": [
      "100%|██████████| 16/16 [00:09<00:00,  1.72it/s]t/s, batch=6380, gpu_temp=61, loss={'chord': tensor(1.1549, device='cuda:0', grad_fn=<NllLossBackward0>), 'velocity': tensor(0.6447, device='cuda:0', grad_fn=<NllLossBackward0>), 'polyphony': tensor(0.4461, device='cuda:0', grad_fn=<NllLossBackward0>), 'density': tensor(0.4296, device='cuda:0', grad_fn=<NllLossBackward0>), 'piano_roll': tensor(1.0900, device='cuda:0', grad_fn=<NllLoss2DBackward0>), 'total': tensor(3.7653, device='cuda:0', grad_fn=<AddBackward0>)}]  \n"
     ]
    },
    {
     "name": "stdout",
     "output_type": "stream",
     "text": [
      "Generated:  [{'type': 'pitch', 'value': 24}, {'type': 'velocity', 'value': 22}, {'type': 'pitch', 'value': 48}, {'type': 'velocity', 'value': 20}, {'type': 'pitch', 'value': 51}, {'type': 'velocity', 'value': 22}, {'type': 'pitch', 'value': 55}, {'type': 'velocity', 'value': 21}, 'next_frame', 'next_frame']\n",
      "Chords:  ['F_M7', 'F_M7', 'C_M', 'C_M', 'A_m', 'A_m', 'A_m', 'A_m', 'F_M7', 'F_M7', 'E_m7', 'E_m7', 'F_M7', 'F_M7', 'A_m', 'C_M', 'E_m7', 'E_m7', 'E_m7', 'E_m7', 'D_m', 'D_m', 'C_M', 'C_M', 'F_M7', 'F_M7', 'E_m7', 'E_m7', 'C_M', 'C_M', 'C_M', 'C_M']\n"
     ]
    },
    {
     "name": "stderr",
     "output_type": "stream",
     "text": [
      "100%|██████████| 10/10 [00:04<00:00,  2.03it/s]\n",
      " 81%|████████  | 6384/7864 [38:08<1:54:59,  4.66s/it, batch=6380, gpu_temp=61, loss={'chord': tensor(1.1549, device='cuda:0', grad_fn=<NllLossBackward0>), 'velocity': tensor(0.6447, device='cuda:0', grad_fn=<NllLossBackward0>), 'polyphony': tensor(0.4461, device='cuda:0', grad_fn=<NllLossBackward0>), 'density': tensor(0.4296, device='cuda:0', grad_fn=<NllLossBackward0>), 'piano_roll': tensor(1.0900, device='cuda:0', grad_fn=<NllLoss2DBackward0>), 'total': tensor(3.7653, device='cuda:0', grad_fn=<AddBackward0>)}]"
     ]
    },
    {
     "name": "stdout",
     "output_type": "stream",
     "text": [
      "Generated:  [{'type': 'pitch', 'value': 39}, {'type': 'velocity', 'value': 17}, {'type': 'pitch', 'value': 51}, {'type': 'velocity', 'value': 15}, {'type': 'pitch', 'value': 55}, {'type': 'velocity', 'value': 20}, 'next_frame', 'next_frame', 'next_frame', 'next_frame']\n",
      "Chords:  ['C_M7', 'C_M7', 'C_M7', 'C_M7', 'A_m7', 'A_m7', 'A_m7', 'A_m7', 'F_M', 'F_M', 'F_M', 'F_M', 'G_M', 'G_M', 'G_M', 'G_M', 'C_M7', 'C_M7', 'C_M7', 'C_M7', 'A_m7', 'A_m7', 'A_m7', 'A_m7', 'C_M7', 'C_M7', 'C_M7', 'C_M7', 'F_M', 'F_M', 'F_M', 'F_M']\n"
     ]
    },
    {
     "name": "stderr",
     "output_type": "stream",
     "text": [
      "100%|██████████| 16/16 [00:07<00:00,  2.12it/s]t/s, batch=6870, gpu_temp=57, loss={'chord': tensor(1.1044, device='cuda:0', grad_fn=<NllLossBackward0>), 'velocity': tensor(0.5990, device='cuda:0', grad_fn=<NllLossBackward0>), 'polyphony': tensor(0.4301, device='cuda:0', grad_fn=<NllLossBackward0>), 'density': tensor(0.5766, device='cuda:0', grad_fn=<NllLossBackward0>), 'piano_roll': tensor(1.1226, device='cuda:0', grad_fn=<NllLoss2DBackward0>), 'total': tensor(3.8327, device='cuda:0', grad_fn=<AddBackward0>)}]  \n"
     ]
    },
    {
     "name": "stdout",
     "output_type": "stream",
     "text": [
      "Generated:  [{'type': 'pitch', 'value': 7}, {'type': 'velocity', 'value': 19}, {'type': 'pitch', 'value': 19}, {'type': 'velocity', 'value': 20}, {'type': 'pitch', 'value': 38}, {'type': 'velocity', 'value': 19}, {'type': 'pitch', 'value': 41}, {'type': 'velocity', 'value': 17}, {'type': 'pitch', 'value': 46}, {'type': 'velocity', 'value': 22}]\n",
      "Chords:  ['G_M', 'G_M', 'E_m7', 'E_m7', 'C_M7', 'C_M7', 'C_M7', 'C_M7', 'F_M', 'F_M', 'F_M', 'F_M', 'C_M7', 'C_M7', 'C_M7', 'C_M7', 'E_m', 'E_m', 'E_m', 'E_m', 'E_m7', 'E_m7', 'E_m7', 'E_m7', 'F_M', 'F_M', 'F_M', 'F_M', 'C_M7', 'C_M7', 'C_M7', 'C_M7']\n"
     ]
    },
    {
     "name": "stderr",
     "output_type": "stream",
     "text": [
      "100%|██████████| 10/10 [00:05<00:00,  1.96it/s]\n",
      " 87%|████████▋ | 6875/7864 [40:54<1:08:20,  4.15s/it, batch=6870, gpu_temp=57, loss={'chord': tensor(1.1044, device='cuda:0', grad_fn=<NllLossBackward0>), 'velocity': tensor(0.5990, device='cuda:0', grad_fn=<NllLossBackward0>), 'polyphony': tensor(0.4301, device='cuda:0', grad_fn=<NllLossBackward0>), 'density': tensor(0.5766, device='cuda:0', grad_fn=<NllLossBackward0>), 'piano_roll': tensor(1.1226, device='cuda:0', grad_fn=<NllLoss2DBackward0>), 'total': tensor(3.8327, device='cuda:0', grad_fn=<AddBackward0>)}]"
     ]
    },
    {
     "name": "stdout",
     "output_type": "stream",
     "text": [
      "Generated:  [{'type': 'pitch', 'value': 39}, {'type': 'velocity', 'value': 17}, {'type': 'pitch', 'value': 51}, {'type': 'velocity', 'value': 15}, {'type': 'pitch', 'value': 55}, {'type': 'velocity', 'value': 20}, 'next_frame', 'next_frame', 'next_frame', 'next_frame']\n",
      "Chords:  ['C_M7', 'C_M7', 'C_M7', 'C_M7', 'A_m7', 'A_m7', 'A_m7', 'A_m7', 'F_M', 'F_M', 'F_M', 'F_M', 'G_M', 'G_M', 'G_M', 'G_M', 'C_M7', 'C_M7', 'C_M7', 'C_M7', 'A_m7', 'A_m7', 'A_m7', 'A_m7', 'A_m7', 'A_m7', 'A_m7', 'A_m7', 'A_m7', 'A_m7', 'A_m7', 'A_m7']\n"
     ]
    },
    {
     "name": "stderr",
     "output_type": "stream",
     "text": [
      "100%|██████████| 16/16 [00:09<00:00,  1.61it/s]t/s, batch=7360, gpu_temp=61, loss={'chord': tensor(1.2427, device='cuda:0', grad_fn=<NllLossBackward0>), 'velocity': tensor(0.6189, device='cuda:0', grad_fn=<NllLossBackward0>), 'polyphony': tensor(0.5124, device='cuda:0', grad_fn=<NllLossBackward0>), 'density': tensor(0.5738, device='cuda:0', grad_fn=<NllLossBackward0>), 'piano_roll': tensor(1.1147, device='cuda:0', grad_fn=<NllLoss2DBackward0>), 'total': tensor(4.0624, device='cuda:0', grad_fn=<AddBackward0>)}]  \n"
     ]
    },
    {
     "name": "stdout",
     "output_type": "stream",
     "text": [
      "Generated:  [{'type': 'pitch', 'value': 19}, {'type': 'velocity', 'value': 17}, {'type': 'pitch', 'value': 46}, {'type': 'velocity', 'value': 19}, {'type': 'pitch', 'value': 50}, {'type': 'velocity', 'value': 18}, {'type': 'pitch', 'value': 55}, {'type': 'velocity', 'value': 21}, 'next_frame', 'next_frame']\n",
      "Chords:  ['G_sus2', 'G_sus2', 'None', 'None', 'G_M', 'G_M', 'G_7', 'G_7', 'C_M7', 'C_M7', 'C_M', 'C_M', 'C_M', 'C_M', 'C_M', 'C_M', 'F_M7', 'F_M7', 'F_M7', 'F_M7', 'E_m7', 'E_m7', 'G_M', 'G_M', 'G_M', 'G_M', 'G_M', 'G_M', 'C_M', 'C_M', 'C_M', 'C_M']\n"
     ]
    },
    {
     "name": "stderr",
     "output_type": "stream",
     "text": [
      "100%|██████████| 10/10 [00:04<00:00,  2.27it/s]\n",
      " 94%|█████████▎| 7366/7864 [43:43<38:56,  4.69s/it, batch=7360, gpu_temp=61, loss={'chord': tensor(1.2427, device='cuda:0', grad_fn=<NllLossBackward0>), 'velocity': tensor(0.6189, device='cuda:0', grad_fn=<NllLossBackward0>), 'polyphony': tensor(0.5124, device='cuda:0', grad_fn=<NllLossBackward0>), 'density': tensor(0.5738, device='cuda:0', grad_fn=<NllLossBackward0>), 'piano_roll': tensor(1.1147, device='cuda:0', grad_fn=<NllLoss2DBackward0>), 'total': tensor(4.0624, device='cuda:0', grad_fn=<AddBackward0>)}]"
     ]
    },
    {
     "name": "stdout",
     "output_type": "stream",
     "text": [
      "Generated:  [{'type': 'pitch', 'value': 39}, {'type': 'velocity', 'value': 17}, {'type': 'pitch', 'value': 51}, {'type': 'velocity', 'value': 15}, {'type': 'pitch', 'value': 55}, {'type': 'velocity', 'value': 20}, 'next_frame', 'next_frame', 'next_frame', 'next_frame']\n",
      "Chords:  ['C_M7', 'C_M7', 'C_M7', 'C_M7', 'A_m7', 'A_m7', 'A_m7', 'A_m7', 'F_M', 'F_M', 'F_M', 'F_M', 'G_M', 'G_M', 'G_M', 'G_M', 'C_M7', 'C_M7', 'C_M7', 'C_M7', 'A_m7', 'A_m7', 'A_m7', 'A_m7', 'A_m7', 'A_m7', 'A_m7', 'A_m7', 'F_M', 'F_M', 'F_M', 'F_M']\n"
     ]
    },
    {
     "name": "stderr",
     "output_type": "stream",
     "text": [
      "100%|██████████| 16/16 [00:13<00:00,  1.16it/s]t/s, batch=7850, gpu_temp=56, loss={'chord': tensor(1.0388, device='cuda:0', grad_fn=<NllLossBackward0>), 'velocity': tensor(0.5377, device='cuda:0', grad_fn=<NllLossBackward0>), 'polyphony': tensor(0.3881, device='cuda:0', grad_fn=<NllLossBackward0>), 'density': tensor(0.4547, device='cuda:0', grad_fn=<NllLossBackward0>), 'piano_roll': tensor(0.9682, device='cuda:0', grad_fn=<NllLoss2DBackward0>), 'total': tensor(3.3875, device='cuda:0', grad_fn=<AddBackward0>)}]\n"
     ]
    },
    {
     "name": "stdout",
     "output_type": "stream",
     "text": [
      "Generated:  [{'type': 'pitch', 'value': 24}, {'type': 'velocity', 'value': 19}, {'type': 'pitch', 'value': 36}, {'type': 'velocity', 'value': 21}, {'type': 'pitch', 'value': 48}, {'type': 'velocity', 'value': 20}, {'type': 'pitch', 'value': 52}, {'type': 'velocity', 'value': 21}, {'type': 'pitch', 'value': 55}, {'type': 'velocity', 'value': 23}]\n",
      "Chords:  ['G_M', 'G_M', 'C_M7', 'C_M7', 'F_M', 'F_M', 'D_m7', 'D_m7', 'G_7', 'G_7', 'C_M', 'C_M', 'F_M', 'F_M', 'F_M', 'F_M', 'C_M', 'C_M', 'C_M7', 'C_M7', 'G_M', 'G_M', 'C_M', 'C_M', 'D_m7', 'D_m7', 'F_M7', 'F_M7', 'C_M', 'C_M', 'C_M', 'C_M']\n"
     ]
    },
    {
     "name": "stderr",
     "output_type": "stream",
     "text": [
      "100%|██████████| 10/10 [00:04<00:00,  2.41it/s]\n",
      "100%|█████████▉| 7857/7864 [46:34<00:41,  5.86s/it, batch=7850, gpu_temp=56, loss={'chord': tensor(1.0388, device='cuda:0', grad_fn=<NllLossBackward0>), 'velocity': tensor(0.5377, device='cuda:0', grad_fn=<NllLossBackward0>), 'polyphony': tensor(0.3881, device='cuda:0', grad_fn=<NllLossBackward0>), 'density': tensor(0.4547, device='cuda:0', grad_fn=<NllLossBackward0>), 'piano_roll': tensor(0.9682, device='cuda:0', grad_fn=<NllLoss2DBackward0>), 'total': tensor(3.3875, device='cuda:0', grad_fn=<AddBackward0>)}]"
     ]
    },
    {
     "name": "stdout",
     "output_type": "stream",
     "text": [
      "Generated:  [{'type': 'pitch', 'value': 39}, {'type': 'velocity', 'value': 17}, {'type': 'pitch', 'value': 51}, {'type': 'velocity', 'value': 15}, {'type': 'pitch', 'value': 55}, {'type': 'velocity', 'value': 20}, 'next_frame', 'next_frame', 'next_frame', 'next_frame']\n",
      "Chords:  ['C_M7', 'C_M7', 'C_M7', 'C_M7', 'A_m7', 'A_m7', 'A_m7', 'A_m7', 'F_M', 'F_M', 'F_M', 'F_M', 'G_M', 'G_M', 'G_M', 'G_M', 'C_M7', 'C_M7', 'C_M7', 'C_M7', 'A_m7', 'A_m7', 'A_m7', 'A_m7', 'A_m7', 'A_m7', 'A_m7', 'A_m7', 'F_M', 'F_M', 'F_M', 'F_M']\n"
     ]
    },
    {
     "name": "stderr",
     "output_type": "stream",
     "text": [
      "100%|██████████| 7864/7864 [46:37<00:00,  2.81it/s, batch=7860, gpu_temp=58, loss={'chord': tensor(1.1663, device='cuda:0', grad_fn=<NllLossBackward0>), 'velocity': tensor(0.6759, device='cuda:0', grad_fn=<NllLossBackward0>), 'polyphony': tensor(0.3965, device='cuda:0', grad_fn=<NllLossBackward0>), 'density': tensor(0.5654, device='cuda:0', grad_fn=<NllLossBackward0>), 'piano_roll': tensor(1.1632, device='cuda:0', grad_fn=<NllLoss2DBackward0>), 'total': tensor(3.9673, device='cuda:0', grad_fn=<AddBackward0>)}]\n",
      "100%|██████████| 16/16 [00:14<00:00,  1.09it/s]/s, batch=490, gpu_temp=61, loss={'chord': tensor(1.2517, device='cuda:0', grad_fn=<NllLossBackward0>), 'velocity': tensor(0.6398, device='cuda:0', grad_fn=<NllLossBackward0>), 'polyphony': tensor(0.3894, device='cuda:0', grad_fn=<NllLossBackward0>), 'density': tensor(0.4235, device='cuda:0', grad_fn=<NllLossBackward0>), 'piano_roll': tensor(1.0705, device='cuda:0', grad_fn=<NllLoss2DBackward0>), 'total': tensor(3.7749, device='cuda:0', grad_fn=<AddBackward0>)}]  \n"
     ]
    },
    {
     "name": "stdout",
     "output_type": "stream",
     "text": [
      "Generated:  ['next_frame', {'type': 'pitch', 'value': 20}, {'type': 'velocity', 'value': 18}, {'type': 'pitch', 'value': 32}, {'type': 'velocity', 'value': 18}, {'type': 'pitch', 'value': 46}, {'type': 'velocity', 'value': 20}, {'type': 'pitch', 'value': 58}, {'type': 'velocity', 'value': 23}, 'next_frame']\n",
      "Chords:  ['D_M', 'D_M', 'D_M', 'D_M', 'D_M', 'D_M', 'G_M', 'G_M', 'G_M', 'G_M', 'G_M', 'G_M', 'C_M', 'C_M', 'C_M', 'C_M', 'G_M', 'G_M', 'G_M', 'G_M', 'A_m', 'A_m', 'A_m', 'A_m', 'A_m', 'A_m', 'A_m', 'A_m', 'F_M', 'F_M', 'F_M', 'F_M']\n"
     ]
    },
    {
     "name": "stderr",
     "output_type": "stream",
     "text": [
      "100%|██████████| 10/10 [00:05<00:00,  1.75it/s]\n",
      "  6%|▋         | 492/7864 [03:21<13:28:19,  6.58s/it, batch=490, gpu_temp=61, loss={'chord': tensor(1.2517, device='cuda:0', grad_fn=<NllLossBackward0>), 'velocity': tensor(0.6398, device='cuda:0', grad_fn=<NllLossBackward0>), 'polyphony': tensor(0.3894, device='cuda:0', grad_fn=<NllLossBackward0>), 'density': tensor(0.4235, device='cuda:0', grad_fn=<NllLossBackward0>), 'piano_roll': tensor(1.0705, device='cuda:0', grad_fn=<NllLoss2DBackward0>), 'total': tensor(3.7749, device='cuda:0', grad_fn=<AddBackward0>)}]"
     ]
    },
    {
     "name": "stdout",
     "output_type": "stream",
     "text": [
      "Generated:  [{'type': 'pitch', 'value': 39}, {'type': 'velocity', 'value': 17}, {'type': 'pitch', 'value': 51}, {'type': 'velocity', 'value': 15}, {'type': 'pitch', 'value': 55}, {'type': 'velocity', 'value': 20}, 'next_frame', 'next_frame', 'next_frame', 'next_frame']\n",
      "Chords:  ['C_M7', 'C_M7', 'C_M7', 'C_M7', 'A_m7', 'A_m7', 'A_m7', 'A_m7', 'F_M', 'F_M', 'F_M', 'F_M', 'G_M', 'G_M', 'G_M', 'G_M', 'C_M7', 'C_M7', 'C_M7', 'C_M7', 'A_m7', 'A_m7', 'A_m7', 'A_m7', 'F_M', 'F_M', 'F_M', 'F_M', 'F_M', 'F_M', 'F_M', 'F_M']\n"
     ]
    },
    {
     "name": "stderr",
     "output_type": "stream",
     "text": [
      "100%|██████████| 16/16 [00:15<00:00,  1.04it/s]/s, batch=980, gpu_temp=56, loss={'chord': tensor(1.0622, device='cuda:0', grad_fn=<NllLossBackward0>), 'velocity': tensor(0.5552, device='cuda:0', grad_fn=<NllLossBackward0>), 'polyphony': tensor(0.3730, device='cuda:0', grad_fn=<NllLossBackward0>), 'density': tensor(0.4653, device='cuda:0', grad_fn=<NllLossBackward0>), 'piano_roll': tensor(1.1607, device='cuda:0', grad_fn=<NllLoss2DBackward0>), 'total': tensor(3.6165, device='cuda:0', grad_fn=<AddBackward0>)}]   \n"
     ]
    },
    {
     "name": "stdout",
     "output_type": "stream",
     "text": [
      "Generated:  [{'type': 'pitch', 'value': 10}, {'type': 'velocity', 'value': 17}, {'type': 'pitch', 'value': 22}, {'type': 'velocity', 'value': 17}, {'type': 'pitch', 'value': 41}, {'type': 'velocity', 'value': 18}, {'type': 'pitch', 'value': 46}, {'type': 'velocity', 'value': 20}, {'type': 'pitch', 'value': 50}, {'type': 'velocity', 'value': 22}]\n",
      "Chords:  ['A_sus4', 'A_sus4', 'A_m7', 'A_m7', 'A_m7', 'A_m7', 'A_M', 'A_M', 'A_m', 'A_m', 'A_m', 'A_m', 'A_m', 'A_m', 'A_m', 'A_m', 'A_m', 'A_m', 'A_m', 'A_m', 'A_m', 'A_m', 'A_m', 'A_m', 'A_m', 'A_m', 'A_m', 'A_m', 'A_m', 'A_m', 'A_m', 'A_m']\n"
     ]
    },
    {
     "name": "stderr",
     "output_type": "stream",
     "text": [
      "100%|██████████| 10/10 [00:07<00:00,  1.34it/s]\n",
      " 12%|█▎        | 983/7864 [06:42<13:55:28,  7.29s/it, batch=980, gpu_temp=56, loss={'chord': tensor(1.0622, device='cuda:0', grad_fn=<NllLossBackward0>), 'velocity': tensor(0.5552, device='cuda:0', grad_fn=<NllLossBackward0>), 'polyphony': tensor(0.3730, device='cuda:0', grad_fn=<NllLossBackward0>), 'density': tensor(0.4653, device='cuda:0', grad_fn=<NllLossBackward0>), 'piano_roll': tensor(1.1607, device='cuda:0', grad_fn=<NllLoss2DBackward0>), 'total': tensor(3.6165, device='cuda:0', grad_fn=<AddBackward0>)}]"
     ]
    },
    {
     "name": "stdout",
     "output_type": "stream",
     "text": [
      "Generated:  [{'type': 'pitch', 'value': 39}, {'type': 'velocity', 'value': 17}, {'type': 'pitch', 'value': 51}, {'type': 'velocity', 'value': 15}, {'type': 'pitch', 'value': 55}, {'type': 'velocity', 'value': 20}, 'next_frame', 'next_frame', 'next_frame', 'next_frame']\n",
      "Chords:  ['C_M7', 'C_M7', 'C_M7', 'C_M7', 'A_m7', 'A_m7', 'A_m7', 'A_m7', 'F_M', 'F_M', 'F_M', 'F_M', 'G_M', 'G_M', 'G_M', 'G_M', 'C_M7', 'C_M7', 'C_M7', 'C_M7', 'A_m7', 'A_m7', 'A_m7', 'A_m7', 'A_m7', 'A_m7', 'C_M7', 'C_M7', 'C_M7', 'C_M7', 'C_M7', 'C_M7']\n"
     ]
    },
    {
     "name": "stderr",
     "output_type": "stream",
     "text": [
      "100%|██████████| 16/16 [00:17<00:00,  1.08s/it]t/s, batch=1470, gpu_temp=61, loss={'chord': tensor(1.0529, device='cuda:0', grad_fn=<NllLossBackward0>), 'velocity': tensor(0.5424, device='cuda:0', grad_fn=<NllLossBackward0>), 'polyphony': tensor(0.3824, device='cuda:0', grad_fn=<NllLossBackward0>), 'density': tensor(0.3802, device='cuda:0', grad_fn=<NllLossBackward0>), 'piano_roll': tensor(1.0598, device='cuda:0', grad_fn=<NllLoss2DBackward0>), 'total': tensor(3.4177, device='cuda:0', grad_fn=<AddBackward0>)}]  \n"
     ]
    },
    {
     "name": "stdout",
     "output_type": "stream",
     "text": [
      "Generated:  [{'type': 'pitch', 'value': 20}, {'type': 'velocity', 'value': 20}, {'type': 'pitch', 'value': 44}, {'type': 'velocity', 'value': 21}, {'type': 'pitch', 'value': 48}, {'type': 'velocity', 'value': 23}, 'next_frame', 'next_frame', 'next_frame', 'next_frame']\n",
      "Chords:  ['C_M', 'C_M', 'C_M', 'C_M', 'G_M', 'G_M', 'G_M', 'G_M', 'F_M', 'F_M', 'F_M', 'F_M', 'F_M', 'F_M', 'F_M', 'F_M', 'E_m', 'E_m', 'C_M', 'C_M', 'D_m', 'D_m', 'D_m', 'D_m', 'D_m', 'D_m', 'D_m', 'D_m', 'G_M', 'G_M', 'G_M', 'G_M']\n"
     ]
    },
    {
     "name": "stderr",
     "output_type": "stream",
     "text": [
      "100%|██████████| 10/10 [00:06<00:00,  1.62it/s]\n",
      " 19%|█▊        | 1474/7864 [10:02<13:21:48,  7.53s/it, batch=1470, gpu_temp=61, loss={'chord': tensor(1.0529, device='cuda:0', grad_fn=<NllLossBackward0>), 'velocity': tensor(0.5424, device='cuda:0', grad_fn=<NllLossBackward0>), 'polyphony': tensor(0.3824, device='cuda:0', grad_fn=<NllLossBackward0>), 'density': tensor(0.3802, device='cuda:0', grad_fn=<NllLossBackward0>), 'piano_roll': tensor(1.0598, device='cuda:0', grad_fn=<NllLoss2DBackward0>), 'total': tensor(3.4177, device='cuda:0', grad_fn=<AddBackward0>)}]"
     ]
    },
    {
     "name": "stdout",
     "output_type": "stream",
     "text": [
      "Generated:  [{'type': 'pitch', 'value': 39}, {'type': 'velocity', 'value': 17}, {'type': 'pitch', 'value': 51}, {'type': 'velocity', 'value': 15}, {'type': 'pitch', 'value': 55}, {'type': 'velocity', 'value': 20}, 'next_frame', 'next_frame', 'next_frame', 'next_frame']\n",
      "Chords:  ['C_M7', 'C_M7', 'C_M7', 'C_M7', 'A_m7', 'A_m7', 'A_m7', 'A_m7', 'F_M', 'F_M', 'F_M', 'F_M', 'G_M', 'G_M', 'G_M', 'G_M', 'C_M7', 'C_M7', 'C_M7', 'C_M7', 'A_m7', 'A_m7', 'A_m7', 'A_m7', 'F_M', 'F_M', 'F_M7', 'F_M7', 'G_M', 'G_M', 'G_7', 'G_7']\n"
     ]
    },
    {
     "name": "stderr",
     "output_type": "stream",
     "text": [
      "100%|██████████| 16/16 [00:14<00:00,  1.14it/s]t/s, batch=1960, gpu_temp=61, loss={'chord': tensor(0.9824, device='cuda:0', grad_fn=<NllLossBackward0>), 'velocity': tensor(0.6042, device='cuda:0', grad_fn=<NllLossBackward0>), 'polyphony': tensor(0.4289, device='cuda:0', grad_fn=<NllLossBackward0>), 'density': tensor(0.5371, device='cuda:0', grad_fn=<NllLossBackward0>), 'piano_roll': tensor(1.0732, device='cuda:0', grad_fn=<NllLoss2DBackward0>), 'total': tensor(3.6258, device='cuda:0', grad_fn=<AddBackward0>)}]   \n"
     ]
    },
    {
     "name": "stdout",
     "output_type": "stream",
     "text": [
      "Generated:  [{'type': 'pitch', 'value': 26}, {'type': 'velocity', 'value': 20}, {'type': 'pitch', 'value': 38}, {'type': 'velocity', 'value': 21}, {'type': 'pitch', 'value': 46}, {'type': 'velocity', 'value': 22}, 'next_frame', 'next_frame', 'next_frame', 'next_frame']\n",
      "Chords:  ['G_M', 'G_M', 'E_m7', 'E_m7', 'A_m7', 'A_m7', 'C_M7', 'C_M7', 'F_M7', 'F_M7', 'F_M7', 'F_M7', 'E_m7', 'E_m7', 'A_m', 'A_m', 'A_o', 'A_o', 'D_m7', 'D_m7', 'C_M', 'C_M', 'C_M', 'C_M', 'C_M', 'C_M', 'C_M7', 'C_M7', 'F_M7', 'F_M7', 'F_M', 'F_M']\n"
     ]
    },
    {
     "name": "stderr",
     "output_type": "stream",
     "text": [
      "100%|██████████| 10/10 [00:05<00:00,  1.85it/s]\n",
      " 25%|██▍       | 1965/7864 [13:16<10:15:56,  6.26s/it, batch=1960, gpu_temp=61, loss={'chord': tensor(0.9824, device='cuda:0', grad_fn=<NllLossBackward0>), 'velocity': tensor(0.6042, device='cuda:0', grad_fn=<NllLossBackward0>), 'polyphony': tensor(0.4289, device='cuda:0', grad_fn=<NllLossBackward0>), 'density': tensor(0.5371, device='cuda:0', grad_fn=<NllLossBackward0>), 'piano_roll': tensor(1.0732, device='cuda:0', grad_fn=<NllLoss2DBackward0>), 'total': tensor(3.6258, device='cuda:0', grad_fn=<AddBackward0>)}]"
     ]
    },
    {
     "name": "stdout",
     "output_type": "stream",
     "text": [
      "Generated:  [{'type': 'pitch', 'value': 39}, {'type': 'velocity', 'value': 17}, {'type': 'pitch', 'value': 51}, {'type': 'velocity', 'value': 15}, {'type': 'pitch', 'value': 55}, {'type': 'velocity', 'value': 20}, 'next_frame', 'next_frame', 'next_frame', 'next_frame']\n",
      "Chords:  ['C_M7', 'C_M7', 'C_M7', 'C_M7', 'A_m7', 'A_m7', 'A_m7', 'A_m7', 'F_M', 'F_M', 'F_M', 'F_M', 'G_M', 'G_M', 'G_M', 'G_M', 'C_M7', 'C_M7', 'C_M7', 'C_M7', 'A_m7', 'A_m7', 'A_m7', 'A_m7', 'A_m7', 'A_m7', 'A_m7', 'A_m7', 'F_M7', 'F_M7', 'F_M', 'F_M']\n"
     ]
    },
    {
     "name": "stderr",
     "output_type": "stream",
     "text": [
      "100%|██████████| 16/16 [00:14<00:00,  1.10it/s]t/s, batch=2450, gpu_temp=55, loss={'chord': tensor(1.0630, device='cuda:0', grad_fn=<NllLossBackward0>), 'velocity': tensor(0.5655, device='cuda:0', grad_fn=<NllLossBackward0>), 'polyphony': tensor(0.4118, device='cuda:0', grad_fn=<NllLossBackward0>), 'density': tensor(0.5093, device='cuda:0', grad_fn=<NllLossBackward0>), 'piano_roll': tensor(1.1540, device='cuda:0', grad_fn=<NllLoss2DBackward0>), 'total': tensor(3.7035, device='cuda:0', grad_fn=<AddBackward0>)}]   \n"
     ]
    },
    {
     "name": "stdout",
     "output_type": "stream",
     "text": [
      "Generated:  [{'type': 'pitch', 'value': 20}, {'type': 'velocity', 'value': 20}, {'type': 'pitch', 'value': 32}, {'type': 'velocity', 'value': 23}, {'type': 'pitch', 'value': 55}, {'type': 'velocity', 'value': 22}, 'next_frame', 'next_frame', 'next_frame', 'next_frame']\n",
      "Chords:  ['A_m7', 'A_m7', 'A_M', 'A_M', 'D_m7', 'D_m7', 'F_M', 'F_M', 'G_M', 'G_M', 'G_M', 'G_M', 'A_m7', 'A_m7', 'A_m7', 'A_m7', 'E_M', 'E_M', 'E_M', 'E_M', 'A_m7', 'A_m7', 'A_m7', 'A_m7', 'F_M', 'F_M', 'F_M', 'F_M', 'G_M', 'G_M', 'G_M', 'G_M']\n"
     ]
    },
    {
     "name": "stderr",
     "output_type": "stream",
     "text": [
      "100%|██████████| 10/10 [00:06<00:00,  1.55it/s]\n",
      " 31%|███       | 2456/7864 [16:37<10:08:54,  6.76s/it, batch=2450, gpu_temp=55, loss={'chord': tensor(1.0630, device='cuda:0', grad_fn=<NllLossBackward0>), 'velocity': tensor(0.5655, device='cuda:0', grad_fn=<NllLossBackward0>), 'polyphony': tensor(0.4118, device='cuda:0', grad_fn=<NllLossBackward0>), 'density': tensor(0.5093, device='cuda:0', grad_fn=<NllLossBackward0>), 'piano_roll': tensor(1.1540, device='cuda:0', grad_fn=<NllLoss2DBackward0>), 'total': tensor(3.7035, device='cuda:0', grad_fn=<AddBackward0>)}]"
     ]
    },
    {
     "name": "stdout",
     "output_type": "stream",
     "text": [
      "Generated:  [{'type': 'pitch', 'value': 39}, {'type': 'velocity', 'value': 17}, {'type': 'pitch', 'value': 51}, {'type': 'velocity', 'value': 15}, {'type': 'pitch', 'value': 55}, {'type': 'velocity', 'value': 20}, 'next_frame', 'next_frame', 'next_frame', 'next_frame']\n",
      "Chords:  ['C_M7', 'C_M7', 'C_M7', 'C_M7', 'A_m7', 'A_m7', 'A_m7', 'A_m7', 'F_M', 'F_M', 'F_M', 'F_M', 'G_M', 'G_M', 'G_M', 'G_M', 'C_M7', 'C_M7', 'C_M7', 'C_M7', 'A_m7', 'A_m7', 'A_m7', 'A_m7', 'A_m7', 'A_m7', 'A_m7', 'A_m7', 'F_M', 'F_M', 'F_M', 'F_M']\n"
     ]
    },
    {
     "name": "stderr",
     "output_type": "stream",
     "text": [
      "100%|██████████| 16/16 [00:16<00:00,  1.02s/it]t/s, batch=2940, gpu_temp=60, loss={'chord': tensor(1.0887, device='cuda:0', grad_fn=<NllLossBackward0>), 'velocity': tensor(0.6511, device='cuda:0', grad_fn=<NllLossBackward0>), 'polyphony': tensor(0.4247, device='cuda:0', grad_fn=<NllLossBackward0>), 'density': tensor(0.4797, device='cuda:0', grad_fn=<NllLossBackward0>), 'piano_roll': tensor(1.1034, device='cuda:0', grad_fn=<NllLoss2DBackward0>), 'total': tensor(3.7477, device='cuda:0', grad_fn=<AddBackward0>)}]   \n"
     ]
    },
    {
     "name": "stdout",
     "output_type": "stream",
     "text": [
      "Generated:  [{'type': 'pitch', 'value': 15}, {'type': 'velocity', 'value': 18}, {'type': 'pitch', 'value': 27}, {'type': 'velocity', 'value': 19}, {'type': 'pitch', 'value': 58}, {'type': 'velocity', 'value': 24}, 'next_frame', 'next_frame', 'next_frame', 'next_frame']\n",
      "Chords:  ['D_M', 'D_M', 'D_m', 'D_m', 'A_m', 'A_m', 'A_m', 'A_m', 'G_M', 'G_M', 'G_M', 'G_M', 'G_M', 'G_M', 'E_m', 'E_m', 'D_m7', 'D_m7', 'D_m7', 'D_m7', 'D_m7', 'D_m7', 'D_m7', 'D_m7', 'D_m7', 'D_m7', 'C_M', 'C_M', 'A_m', 'A_m', 'A_m7', 'A_m7']\n"
     ]
    },
    {
     "name": "stderr",
     "output_type": "stream",
     "text": [
      "100%|██████████| 10/10 [00:04<00:00,  2.05it/s]\n",
      " 37%|███▋      | 2947/7864 [19:57<9:13:53,  6.76s/it, batch=2940, gpu_temp=60, loss={'chord': tensor(1.0887, device='cuda:0', grad_fn=<NllLossBackward0>), 'velocity': tensor(0.6511, device='cuda:0', grad_fn=<NllLossBackward0>), 'polyphony': tensor(0.4247, device='cuda:0', grad_fn=<NllLossBackward0>), 'density': tensor(0.4797, device='cuda:0', grad_fn=<NllLossBackward0>), 'piano_roll': tensor(1.1034, device='cuda:0', grad_fn=<NllLoss2DBackward0>), 'total': tensor(3.7477, device='cuda:0', grad_fn=<AddBackward0>)}]"
     ]
    },
    {
     "name": "stdout",
     "output_type": "stream",
     "text": [
      "Generated:  [{'type': 'pitch', 'value': 39}, {'type': 'velocity', 'value': 17}, {'type': 'pitch', 'value': 51}, {'type': 'velocity', 'value': 15}, {'type': 'pitch', 'value': 55}, {'type': 'velocity', 'value': 20}, 'next_frame', 'next_frame', 'next_frame', 'next_frame']\n",
      "Chords:  ['C_M7', 'C_M7', 'C_M7', 'C_M7', 'A_m7', 'A_m7', 'A_m7', 'A_m7', 'F_M', 'F_M', 'F_M', 'F_M', 'G_M', 'G_M', 'G_M', 'G_M', 'C_M7', 'C_M7', 'C_M7', 'C_M7', 'A_m7', 'A_m7', 'A_m7', 'A_m7', 'G_M', 'G_M', 'G_M', 'G_M', 'C_M7', 'C_M7', 'C_M', 'C_M']\n"
     ]
    },
    {
     "name": "stderr",
     "output_type": "stream",
     "text": [
      "100%|██████████| 16/16 [00:12<00:00,  1.32it/s]t/s, batch=3430, gpu_temp=55, loss={'chord': tensor(0.9734, device='cuda:0', grad_fn=<NllLossBackward0>), 'velocity': tensor(0.5944, device='cuda:0', grad_fn=<NllLossBackward0>), 'polyphony': tensor(0.4312, device='cuda:0', grad_fn=<NllLossBackward0>), 'density': tensor(0.4520, device='cuda:0', grad_fn=<NllLossBackward0>), 'piano_roll': tensor(1.0553, device='cuda:0', grad_fn=<NllLoss2DBackward0>), 'total': tensor(3.5062, device='cuda:0', grad_fn=<AddBackward0>)}]  \n"
     ]
    },
    {
     "name": "stdout",
     "output_type": "stream",
     "text": [
      "Generated:  [{'type': 'pitch', 'value': 14}, {'type': 'velocity', 'value': 18}, {'type': 'pitch', 'value': 26}, {'type': 'velocity', 'value': 20}, {'type': 'pitch', 'value': 44}, {'type': 'velocity', 'value': 22}, {'type': 'pitch', 'value': 48}, {'type': 'velocity', 'value': 21}, {'type': 'pitch', 'value': 56}, {'type': 'velocity', 'value': 23}]\n",
      "Chords:  ['F_M', 'F_M', 'F_M', 'F_M', 'E_M', 'E_M', 'E_M', 'E_M', 'E_M', 'E_M', 'E_M', 'E_M', 'A_M', 'A_M', 'A_M', 'A_M', 'E_M', 'E_M', 'E_M', 'E_M', 'E_M', 'E_M', 'E_M', 'E_M', 'E_M', 'E_M', 'E_M', 'E_M', 'E_M', 'E_M', 'E_M', 'E_M']\n"
     ]
    },
    {
     "name": "stderr",
     "output_type": "stream",
     "text": [
      "100%|██████████| 10/10 [00:06<00:00,  1.52it/s]\n",
      " 44%|████▎     | 3438/7864 [23:10<7:20:50,  5.98s/it, batch=3430, gpu_temp=55, loss={'chord': tensor(0.9734, device='cuda:0', grad_fn=<NllLossBackward0>), 'velocity': tensor(0.5944, device='cuda:0', grad_fn=<NllLossBackward0>), 'polyphony': tensor(0.4312, device='cuda:0', grad_fn=<NllLossBackward0>), 'density': tensor(0.4520, device='cuda:0', grad_fn=<NllLossBackward0>), 'piano_roll': tensor(1.0553, device='cuda:0', grad_fn=<NllLoss2DBackward0>), 'total': tensor(3.5062, device='cuda:0', grad_fn=<AddBackward0>)}]"
     ]
    },
    {
     "name": "stdout",
     "output_type": "stream",
     "text": [
      "Generated:  [{'type': 'pitch', 'value': 39}, {'type': 'velocity', 'value': 17}, {'type': 'pitch', 'value': 51}, {'type': 'velocity', 'value': 15}, {'type': 'pitch', 'value': 55}, {'type': 'velocity', 'value': 20}, 'next_frame', 'next_frame', 'next_frame', 'next_frame']\n",
      "Chords:  ['C_M7', 'C_M7', 'C_M7', 'C_M7', 'A_m7', 'A_m7', 'A_m7', 'A_m7', 'F_M', 'F_M', 'F_M', 'F_M', 'G_M', 'G_M', 'G_M', 'G_M', 'C_M7', 'C_M7', 'C_M7', 'C_M7', 'A_m7', 'A_m7', 'A_m7', 'A_m7', 'F_M', 'F_M', 'F_M', 'F_M', 'C_M', 'C_M', 'C_M', 'C_M']\n"
     ]
    },
    {
     "name": "stderr",
     "output_type": "stream",
     "text": [
      "100%|██████████| 16/16 [00:08<00:00,  1.94it/s]t/s, batch=3920, gpu_temp=57, loss={'chord': tensor(1.0504, device='cuda:0', grad_fn=<NllLossBackward0>), 'velocity': tensor(0.6607, device='cuda:0', grad_fn=<NllLossBackward0>), 'polyphony': tensor(0.3531, device='cuda:0', grad_fn=<NllLossBackward0>), 'density': tensor(0.4488, device='cuda:0', grad_fn=<NllLossBackward0>), 'piano_roll': tensor(1.0746, device='cuda:0', grad_fn=<NllLoss2DBackward0>), 'total': tensor(3.5876, device='cuda:0', grad_fn=<AddBackward0>)}]  \n"
     ]
    },
    {
     "name": "stdout",
     "output_type": "stream",
     "text": [
      "Generated:  [{'type': 'pitch', 'value': 31}, {'type': 'velocity', 'value': 19}, {'type': 'pitch', 'value': 43}, {'type': 'velocity', 'value': 22}, 'next_frame', 'next_frame', 'next_frame', 'next_frame', {'type': 'pitch', 'value': 22}, {'type': 'velocity', 'value': 18}]\n",
      "Chords:  ['A_m7', 'A_m7', 'A_m7', 'A_m7', 'A_m7', 'A_m7', 'A_m7', 'A_m7', 'E_m', 'E_m', 'E_m7', 'E_m7', 'A_m7', 'A_m7', 'A_m7', 'A_m7', 'A_m7', 'A_m7', 'A_m7', 'A_m7', 'None', 'None', 'None', 'None', 'None', 'None', 'None', 'None', 'E_m', 'E_m', 'E_m', 'E_m']\n"
     ]
    },
    {
     "name": "stderr",
     "output_type": "stream",
     "text": [
      "100%|██████████| 10/10 [00:03<00:00,  2.54it/s]\n",
      " 50%|████▉     | 3929/7864 [26:16<4:22:43,  4.01s/it, batch=3920, gpu_temp=57, loss={'chord': tensor(1.0504, device='cuda:0', grad_fn=<NllLossBackward0>), 'velocity': tensor(0.6607, device='cuda:0', grad_fn=<NllLossBackward0>), 'polyphony': tensor(0.3531, device='cuda:0', grad_fn=<NllLossBackward0>), 'density': tensor(0.4488, device='cuda:0', grad_fn=<NllLossBackward0>), 'piano_roll': tensor(1.0746, device='cuda:0', grad_fn=<NllLoss2DBackward0>), 'total': tensor(3.5876, device='cuda:0', grad_fn=<AddBackward0>)}]"
     ]
    },
    {
     "name": "stdout",
     "output_type": "stream",
     "text": [
      "Generated:  [{'type': 'pitch', 'value': 39}, {'type': 'velocity', 'value': 17}, {'type': 'pitch', 'value': 51}, {'type': 'velocity', 'value': 15}, {'type': 'pitch', 'value': 55}, {'type': 'velocity', 'value': 20}, 'next_frame', 'next_frame', 'next_frame', 'next_frame']\n",
      "Chords:  ['C_M7', 'C_M7', 'C_M7', 'C_M7', 'A_m7', 'A_m7', 'A_m7', 'A_m7', 'F_M', 'F_M', 'F_M', 'F_M', 'G_M', 'G_M', 'G_M', 'G_M', 'C_M7', 'C_M7', 'C_M7', 'C_M7', 'A_m7', 'A_m7', 'A_m7', 'A_m7', 'C_M7', 'C_M7', 'C_M7', 'C_M7', 'A_m7', 'A_m7', 'C_M7', 'C_M7']\n"
     ]
    },
    {
     "name": "stderr",
     "output_type": "stream",
     "text": [
      "100%|██████████| 16/16 [00:10<00:00,  1.50it/s]t/s, batch=4410, gpu_temp=61, loss={'chord': tensor(1.1650, device='cuda:0', grad_fn=<NllLossBackward0>), 'velocity': tensor(0.5481, device='cuda:0', grad_fn=<NllLossBackward0>), 'polyphony': tensor(0.3998, device='cuda:0', grad_fn=<NllLossBackward0>), 'density': tensor(0.5283, device='cuda:0', grad_fn=<NllLossBackward0>), 'piano_roll': tensor(1.1213, device='cuda:0', grad_fn=<NllLoss2DBackward0>), 'total': tensor(3.7625, device='cuda:0', grad_fn=<AddBackward0>)}]  \n"
     ]
    },
    {
     "name": "stdout",
     "output_type": "stream",
     "text": [
      "Generated:  [{'type': 'pitch', 'value': 15}, {'type': 'velocity', 'value': 18}, {'type': 'pitch', 'value': 27}, {'type': 'velocity', 'value': 20}, {'type': 'pitch', 'value': 46}, {'type': 'velocity', 'value': 20}, {'type': 'pitch', 'value': 53}, {'type': 'velocity', 'value': 22}, 'next_frame', 'next_frame']\n",
      "Chords:  ['A_m7', 'A_m7', 'A_m', 'A_m', 'E_m', 'E_m', 'E_m', 'E_m', 'F_M7', 'F_M7', 'F_M', 'F_M', 'G_M', 'G_M', 'G_M', 'G_M', 'A_m7', 'A_m7', 'A_m', 'A_m', 'E_M', 'E_M', 'E_m', 'E_m', 'F_M', 'F_M', 'F_M', 'F_M', 'G_M', 'G_M', 'G_M', 'G_M']\n"
     ]
    },
    {
     "name": "stderr",
     "output_type": "stream",
     "text": [
      "100%|██████████| 10/10 [00:05<00:00,  1.93it/s]\n",
      " 56%|█████▌    | 4420/7864 [29:12<4:55:17,  5.14s/it, batch=4410, gpu_temp=61, loss={'chord': tensor(1.1650, device='cuda:0', grad_fn=<NllLossBackward0>), 'velocity': tensor(0.5481, device='cuda:0', grad_fn=<NllLossBackward0>), 'polyphony': tensor(0.3998, device='cuda:0', grad_fn=<NllLossBackward0>), 'density': tensor(0.5283, device='cuda:0', grad_fn=<NllLossBackward0>), 'piano_roll': tensor(1.1213, device='cuda:0', grad_fn=<NllLoss2DBackward0>), 'total': tensor(3.7625, device='cuda:0', grad_fn=<AddBackward0>)}]"
     ]
    },
    {
     "name": "stdout",
     "output_type": "stream",
     "text": [
      "Generated:  [{'type': 'pitch', 'value': 39}, {'type': 'velocity', 'value': 17}, {'type': 'pitch', 'value': 51}, {'type': 'velocity', 'value': 15}, {'type': 'pitch', 'value': 55}, {'type': 'velocity', 'value': 20}, 'next_frame', 'next_frame', 'next_frame', 'next_frame']\n",
      "Chords:  ['C_M7', 'C_M7', 'C_M7', 'C_M7', 'A_m7', 'A_m7', 'A_m7', 'A_m7', 'F_M', 'F_M', 'F_M', 'F_M', 'G_M', 'G_M', 'G_M', 'G_M', 'C_M7', 'C_M7', 'C_M7', 'C_M7', 'A_m7', 'A_m7', 'A_m7', 'A_m7', 'F_M', 'F_M', 'F_M', 'F_M', 'G_7', 'G_7', 'G_M', 'G_M']\n"
     ]
    },
    {
     "name": "stderr",
     "output_type": "stream",
     "text": [
      "100%|██████████| 16/16 [00:09<00:00,  1.63it/s]t/s, batch=4910, gpu_temp=61, loss={'chord': tensor(1.0230, device='cuda:0', grad_fn=<NllLossBackward0>), 'velocity': tensor(0.5615, device='cuda:0', grad_fn=<NllLossBackward0>), 'polyphony': tensor(0.4053, device='cuda:0', grad_fn=<NllLossBackward0>), 'density': tensor(0.4858, device='cuda:0', grad_fn=<NllLossBackward0>), 'piano_roll': tensor(1.1009, device='cuda:0', grad_fn=<NllLoss2DBackward0>), 'total': tensor(3.5766, device='cuda:0', grad_fn=<AddBackward0>)}]  \n"
     ]
    },
    {
     "name": "stdout",
     "output_type": "stream",
     "text": [
      "Generated:  [{'type': 'pitch', 'value': 13}, {'type': 'velocity', 'value': 20}, {'type': 'pitch', 'value': 25}, {'type': 'velocity', 'value': 22}, {'type': 'pitch', 'value': 53}, {'type': 'velocity', 'value': 23}, {'type': 'pitch', 'value': 56}, {'type': 'velocity', 'value': 22}, {'type': 'pitch', 'value': 61}, {'type': 'velocity', 'value': 23}]\n",
      "Chords:  ['G_M', 'G_M', 'D_M', 'D_M', 'E_m7', 'E_m7', 'B_m7', 'B_m7', 'F_M7', 'F_M7', 'C_+', 'C_+', 'E_m7', 'E_m7', 'E_m7', 'E_m7', 'A_m', 'A_m', 'A_m', 'A_m', 'D_M', 'D_M', 'D_M', 'D_M', 'D_M', 'D_M', 'D_M', 'D_M', 'G_7', 'G_7', 'G_7', 'G_7']\n"
     ]
    },
    {
     "name": "stderr",
     "output_type": "stream",
     "text": [
      "100%|██████████| 10/10 [00:04<00:00,  2.08it/s]\n",
      " 62%|██████▏   | 4911/7864 [32:11<3:54:20,  4.76s/it, batch=4910, gpu_temp=61, loss={'chord': tensor(1.0230, device='cuda:0', grad_fn=<NllLossBackward0>), 'velocity': tensor(0.5615, device='cuda:0', grad_fn=<NllLossBackward0>), 'polyphony': tensor(0.4053, device='cuda:0', grad_fn=<NllLossBackward0>), 'density': tensor(0.4858, device='cuda:0', grad_fn=<NllLossBackward0>), 'piano_roll': tensor(1.1009, device='cuda:0', grad_fn=<NllLoss2DBackward0>), 'total': tensor(3.5766, device='cuda:0', grad_fn=<AddBackward0>)}]"
     ]
    },
    {
     "name": "stdout",
     "output_type": "stream",
     "text": [
      "Generated:  [{'type': 'pitch', 'value': 39}, {'type': 'velocity', 'value': 17}, {'type': 'pitch', 'value': 51}, {'type': 'velocity', 'value': 15}, {'type': 'pitch', 'value': 55}, {'type': 'velocity', 'value': 20}, 'next_frame', 'next_frame', 'next_frame', 'next_frame']\n",
      "Chords:  ['C_M7', 'C_M7', 'C_M7', 'C_M7', 'A_m7', 'A_m7', 'A_m7', 'A_m7', 'F_M', 'F_M', 'F_M', 'F_M', 'G_M', 'G_M', 'G_M', 'G_M', 'C_M7', 'C_M7', 'C_M7', 'C_M7', 'A_m7', 'A_m7', 'A_m7', 'A_m7', 'F_M7', 'F_M7', 'F_M', 'F_M', 'G_7', 'G_7', 'G_M', 'G_M']\n"
     ]
    },
    {
     "name": "stderr",
     "output_type": "stream",
     "text": [
      "100%|██████████| 16/16 [00:13<00:00,  1.16it/s]t/s, batch=5400, gpu_temp=61, loss={'chord': tensor(1.0198, device='cuda:0', grad_fn=<NllLossBackward0>), 'velocity': tensor(0.5360, device='cuda:0', grad_fn=<NllLossBackward0>), 'polyphony': tensor(0.3588, device='cuda:0', grad_fn=<NllLossBackward0>), 'density': tensor(0.4532, device='cuda:0', grad_fn=<NllLossBackward0>), 'piano_roll': tensor(1.1340, device='cuda:0', grad_fn=<NllLoss2DBackward0>), 'total': tensor(3.5018, device='cuda:0', grad_fn=<AddBackward0>)}]  \n"
     ]
    },
    {
     "name": "stdout",
     "output_type": "stream",
     "text": [
      "Generated:  [{'type': 'pitch', 'value': 27}, {'type': 'velocity', 'value': 17}, 'next_frame', 'next_frame', 'next_frame', 'next_frame', {'type': 'pitch', 'value': 34}, {'type': 'velocity', 'value': 15}, 'next_frame', 'next_frame']\n",
      "Chords:  ['A_m', 'A_m', 'A_m', 'A_m', 'A_m7', 'A_m7', 'A_m', 'A_m', 'C_M', 'C_M', 'C_sus2', 'C_sus2', 'D_m7', 'D_m7', 'F_M', 'F_M', 'D_m7', 'D_m7', 'D_m7', 'D_m7', 'D_m', 'D_m', 'D_m7', 'D_m7', 'D_m', 'D_m', 'D_m7', 'D_m7', 'E_M', 'E_M', 'E_M', 'E_M']\n"
     ]
    },
    {
     "name": "stderr",
     "output_type": "stream",
     "text": [
      "100%|██████████| 10/10 [00:06<00:00,  1.62it/s]\n",
      " 69%|██████▊   | 5402/7864 [35:10<4:19:17,  6.32s/it, batch=5400, gpu_temp=61, loss={'chord': tensor(1.0198, device='cuda:0', grad_fn=<NllLossBackward0>), 'velocity': tensor(0.5360, device='cuda:0', grad_fn=<NllLossBackward0>), 'polyphony': tensor(0.3588, device='cuda:0', grad_fn=<NllLossBackward0>), 'density': tensor(0.4532, device='cuda:0', grad_fn=<NllLossBackward0>), 'piano_roll': tensor(1.1340, device='cuda:0', grad_fn=<NllLoss2DBackward0>), 'total': tensor(3.5018, device='cuda:0', grad_fn=<AddBackward0>)}]"
     ]
    },
    {
     "name": "stdout",
     "output_type": "stream",
     "text": [
      "Generated:  [{'type': 'pitch', 'value': 39}, {'type': 'velocity', 'value': 17}, {'type': 'pitch', 'value': 51}, {'type': 'velocity', 'value': 15}, {'type': 'pitch', 'value': 55}, {'type': 'velocity', 'value': 20}, 'next_frame', 'next_frame', 'next_frame', 'next_frame']\n",
      "Chords:  ['C_M7', 'C_M7', 'C_M7', 'C_M7', 'A_m7', 'A_m7', 'A_m7', 'A_m7', 'F_M', 'F_M', 'F_M', 'F_M', 'G_M', 'G_M', 'G_M', 'G_M', 'C_M7', 'C_M7', 'C_M7', 'C_M7', 'A_m7', 'A_m7', 'A_m7', 'A_m7', 'A_m7', 'A_m7', 'A_m7', 'A_m7', 'F_M', 'F_M', 'F_M', 'F_M']\n"
     ]
    },
    {
     "name": "stderr",
     "output_type": "stream",
     "text": [
      "100%|██████████| 16/16 [00:11<00:00,  1.39it/s]t/s, batch=5890, gpu_temp=61, loss={'chord': tensor(1.0339, device='cuda:0', grad_fn=<NllLossBackward0>), 'velocity': tensor(0.5779, device='cuda:0', grad_fn=<NllLossBackward0>), 'polyphony': tensor(0.3990, device='cuda:0', grad_fn=<NllLossBackward0>), 'density': tensor(0.5486, device='cuda:0', grad_fn=<NllLossBackward0>), 'piano_roll': tensor(1.0555, device='cuda:0', grad_fn=<NllLoss2DBackward0>), 'total': tensor(3.6148, device='cuda:0', grad_fn=<AddBackward0>)}]  \n"
     ]
    },
    {
     "name": "stdout",
     "output_type": "stream",
     "text": [
      "Generated:  [{'type': 'pitch', 'value': 12}, {'type': 'velocity', 'value': 22}, {'type': 'pitch', 'value': 24}, {'type': 'velocity', 'value': 24}, 'next_frame', 'next_frame', 'next_frame', 'next_frame', {'type': 'pitch', 'value': 24}, {'type': 'velocity', 'value': 19}]\n",
      "Chords:  ['F_M7', 'F_M7', 'E_m7', 'E_m7', 'C_M7', 'C_M7', 'A_m7', 'A_m7', 'C_M', 'C_M', 'E_m', 'E_m', 'G_M', 'G_M', 'G_M', 'G_M', 'C_M', 'C_M', 'C_M', 'C_M', 'C_M', 'C_M', 'C_M', 'E_m', 'A_m', 'A_m', 'A_m7', 'A_m7', 'E_m', 'E_m', 'F_M', 'F_M']\n"
     ]
    },
    {
     "name": "stderr",
     "output_type": "stream",
     "text": [
      "100%|██████████| 10/10 [00:05<00:00,  1.88it/s]\n",
      " 75%|███████▍  | 5893/7864 [38:04<2:56:20,  5.37s/it, batch=5890, gpu_temp=61, loss={'chord': tensor(1.0339, device='cuda:0', grad_fn=<NllLossBackward0>), 'velocity': tensor(0.5779, device='cuda:0', grad_fn=<NllLossBackward0>), 'polyphony': tensor(0.3990, device='cuda:0', grad_fn=<NllLossBackward0>), 'density': tensor(0.5486, device='cuda:0', grad_fn=<NllLossBackward0>), 'piano_roll': tensor(1.0555, device='cuda:0', grad_fn=<NllLoss2DBackward0>), 'total': tensor(3.6148, device='cuda:0', grad_fn=<AddBackward0>)}]"
     ]
    },
    {
     "name": "stdout",
     "output_type": "stream",
     "text": [
      "Generated:  [{'type': 'pitch', 'value': 39}, {'type': 'velocity', 'value': 17}, {'type': 'pitch', 'value': 51}, {'type': 'velocity', 'value': 15}, {'type': 'pitch', 'value': 55}, {'type': 'velocity', 'value': 20}, 'next_frame', 'next_frame', 'next_frame', 'next_frame']\n",
      "Chords:  ['C_M7', 'C_M7', 'C_M7', 'C_M7', 'A_m7', 'A_m7', 'A_m7', 'A_m7', 'F_M', 'F_M', 'F_M', 'F_M', 'G_M', 'G_M', 'G_M', 'G_M', 'C_M7', 'C_M7', 'C_M7', 'C_M7', 'A_m7', 'A_m7', 'A_m7', 'A_m7', 'A_m7', 'A_m7', 'C_M7', 'C_M7', 'F_M', 'F_M', 'F_M', 'F_M']\n"
     ]
    },
    {
     "name": "stderr",
     "output_type": "stream",
     "text": [
      "100%|██████████| 16/16 [00:09<00:00,  1.75it/s]t/s, batch=6380, gpu_temp=56, loss={'chord': tensor(1.0642, device='cuda:0', grad_fn=<NllLossBackward0>), 'velocity': tensor(0.5818, device='cuda:0', grad_fn=<NllLossBackward0>), 'polyphony': tensor(0.3419, device='cuda:0', grad_fn=<NllLossBackward0>), 'density': tensor(0.4433, device='cuda:0', grad_fn=<NllLossBackward0>), 'piano_roll': tensor(1.1559, device='cuda:0', grad_fn=<NllLoss2DBackward0>), 'total': tensor(3.5871, device='cuda:0', grad_fn=<AddBackward0>)}]  \n"
     ]
    },
    {
     "name": "stdout",
     "output_type": "stream",
     "text": [
      "Generated:  [{'type': 'pitch', 'value': 15}, {'type': 'velocity', 'value': 18}, {'type': 'pitch', 'value': 43}, {'type': 'velocity', 'value': 23}, {'type': 'pitch', 'value': 51}, {'type': 'velocity', 'value': 23}, 'next_frame', 'next_frame', 'next_frame', 'next_frame']\n",
      "Chords:  ['A_m', 'A_m', 'A_m', 'A_m', 'F_M', 'F_M', 'F_M7', 'F_M7', 'A_m', 'A_m', 'A_m7', 'A_m7', 'F_M', 'F_M', 'F_M7', 'F_M7', 'G_M', 'G_M', 'G_M', 'G_M', 'A_m', 'A_m', 'A_m7', 'A_m7', 'F_M', 'F_M', 'F_M7', 'F_M7', 'G_M', 'G_M', 'G_M', 'G_M']\n"
     ]
    },
    {
     "name": "stderr",
     "output_type": "stream",
     "text": [
      "100%|██████████| 10/10 [00:04<00:00,  2.03it/s]\n",
      " 81%|████████  | 6384/7864 [40:45<1:52:05,  4.54s/it, batch=6380, gpu_temp=56, loss={'chord': tensor(1.0642, device='cuda:0', grad_fn=<NllLossBackward0>), 'velocity': tensor(0.5818, device='cuda:0', grad_fn=<NllLossBackward0>), 'polyphony': tensor(0.3419, device='cuda:0', grad_fn=<NllLossBackward0>), 'density': tensor(0.4433, device='cuda:0', grad_fn=<NllLossBackward0>), 'piano_roll': tensor(1.1559, device='cuda:0', grad_fn=<NllLoss2DBackward0>), 'total': tensor(3.5871, device='cuda:0', grad_fn=<AddBackward0>)}]"
     ]
    },
    {
     "name": "stdout",
     "output_type": "stream",
     "text": [
      "Generated:  [{'type': 'pitch', 'value': 39}, {'type': 'velocity', 'value': 17}, {'type': 'pitch', 'value': 51}, {'type': 'velocity', 'value': 15}, {'type': 'pitch', 'value': 55}, {'type': 'velocity', 'value': 20}, 'next_frame', 'next_frame', 'next_frame', 'next_frame']\n",
      "Chords:  ['C_M7', 'C_M7', 'C_M7', 'C_M7', 'A_m7', 'A_m7', 'A_m7', 'A_m7', 'F_M', 'F_M', 'F_M', 'F_M', 'G_M', 'G_M', 'G_M', 'G_M', 'C_M7', 'C_M7', 'C_M7', 'C_M7', 'A_m7', 'A_m7', 'A_m7', 'A_m7', 'C_M7', 'C_M7', 'C_M7', 'C_M7', 'C_M7', 'C_M7', 'C_M7', 'C_M7']\n"
     ]
    },
    {
     "name": "stderr",
     "output_type": "stream",
     "text": [
      "100%|██████████| 16/16 [00:11<00:00,  1.42it/s]t/s, batch=6870, gpu_temp=61, loss={'chord': tensor(1.0825, device='cuda:0', grad_fn=<NllLossBackward0>), 'velocity': tensor(0.5455, device='cuda:0', grad_fn=<NllLossBackward0>), 'polyphony': tensor(0.3229, device='cuda:0', grad_fn=<NllLossBackward0>), 'density': tensor(0.4533, device='cuda:0', grad_fn=<NllLossBackward0>), 'piano_roll': tensor(1.1361, device='cuda:0', grad_fn=<NllLoss2DBackward0>), 'total': tensor(3.5404, device='cuda:0', grad_fn=<AddBackward0>)}]  \n"
     ]
    },
    {
     "name": "stdout",
     "output_type": "stream",
     "text": [
      "Generated:  [{'type': 'pitch', 'value': 19}, {'type': 'velocity', 'value': 20}, {'type': 'pitch', 'value': 31}, {'type': 'velocity', 'value': 23}, {'type': 'pitch', 'value': 53}, {'type': 'velocity', 'value': 21}, {'type': 'pitch', 'value': 55}, {'type': 'velocity', 'value': 23}, 'next_frame', 'next_frame']\n",
      "Chords:  ['G_M', 'G_M', 'G_M', 'G_M', 'C_M', 'C_M', 'C_M', 'C_M', 'F_M7', 'F_M7', 'F_M7', 'F_M7', 'E_m7', 'E_m7', 'G_M', 'G_M', 'C_M', 'C_M', 'C_M', 'C_M', 'F_M7', 'F_M7', 'F_M7', 'F_M7', 'G_M', 'G_M', 'G_7', 'G_7', 'A_m', 'A_m', 'G_M', 'G_M']\n"
     ]
    },
    {
     "name": "stderr",
     "output_type": "stream",
     "text": [
      "100%|██████████| 10/10 [00:04<00:00,  2.14it/s]\n",
      " 87%|████████▋ | 6875/7864 [43:36<1:24:55,  5.15s/it, batch=6870, gpu_temp=61, loss={'chord': tensor(1.0825, device='cuda:0', grad_fn=<NllLossBackward0>), 'velocity': tensor(0.5455, device='cuda:0', grad_fn=<NllLossBackward0>), 'polyphony': tensor(0.3229, device='cuda:0', grad_fn=<NllLossBackward0>), 'density': tensor(0.4533, device='cuda:0', grad_fn=<NllLossBackward0>), 'piano_roll': tensor(1.1361, device='cuda:0', grad_fn=<NllLoss2DBackward0>), 'total': tensor(3.5404, device='cuda:0', grad_fn=<AddBackward0>)}]"
     ]
    },
    {
     "name": "stdout",
     "output_type": "stream",
     "text": [
      "Generated:  [{'type': 'pitch', 'value': 39}, {'type': 'velocity', 'value': 17}, {'type': 'pitch', 'value': 51}, {'type': 'velocity', 'value': 15}, {'type': 'pitch', 'value': 55}, {'type': 'velocity', 'value': 20}, 'next_frame', 'next_frame', 'next_frame', 'next_frame']\n",
      "Chords:  ['C_M7', 'C_M7', 'C_M7', 'C_M7', 'A_m7', 'A_m7', 'A_m7', 'A_m7', 'F_M', 'F_M', 'F_M', 'F_M', 'G_M', 'G_M', 'G_M', 'G_M', 'C_M7', 'C_M7', 'C_M7', 'C_M7', 'A_m7', 'A_m7', 'A_m7', 'A_m7', 'F_M7', 'F_M7', 'F_M', 'F_M', 'G_7', 'G_7', 'G_M', 'G_M']\n"
     ]
    },
    {
     "name": "stderr",
     "output_type": "stream",
     "text": [
      "100%|██████████| 16/16 [00:12<00:00,  1.33it/s]t/s, batch=7360, gpu_temp=63, loss={'chord': tensor(1.0435, device='cuda:0', grad_fn=<NllLossBackward0>), 'velocity': tensor(0.6071, device='cuda:0', grad_fn=<NllLossBackward0>), 'polyphony': tensor(0.4362, device='cuda:0', grad_fn=<NllLossBackward0>), 'density': tensor(0.4658, device='cuda:0', grad_fn=<NllLossBackward0>), 'piano_roll': tensor(1.0443, device='cuda:0', grad_fn=<NllLoss2DBackward0>), 'total': tensor(3.5968, device='cuda:0', grad_fn=<AddBackward0>)}]  \n"
     ]
    },
    {
     "name": "stdout",
     "output_type": "stream",
     "text": [
      "Generated:  [{'type': 'pitch', 'value': 20}, {'type': 'velocity', 'value': 19}, {'type': 'pitch', 'value': 32}, {'type': 'velocity', 'value': 20}, {'type': 'pitch', 'value': 56}, {'type': 'velocity', 'value': 20}, {'type': 'pitch', 'value': 60}, {'type': 'velocity', 'value': 22}, {'type': 'pitch', 'value': 65}, {'type': 'velocity', 'value': 23}]\n",
      "Chords:  ['F_M7', 'F_M7', 'F_M7', 'F_M7', 'C_M', 'C_M', 'C_M7', 'C_M7', 'G_M', 'G_M', 'G_M', 'G_M', 'A_m7', 'A_m7', 'A_m7', 'A_m7', 'F_sus2', 'F_sus2', 'F_sus2', 'F_sus2', 'C_M', 'C_M', 'C_M', 'C_M', 'G_M', 'G_M', 'G#_+', 'G#_+', 'A_m', 'A_m', 'A_m7', 'A_m7']\n"
     ]
    },
    {
     "name": "stderr",
     "output_type": "stream",
     "text": [
      "100%|██████████| 10/10 [00:05<00:00,  1.91it/s]\n",
      " 94%|█████████▎| 7366/7864 [46:30<46:22,  5.59s/it, batch=7360, gpu_temp=63, loss={'chord': tensor(1.0435, device='cuda:0', grad_fn=<NllLossBackward0>), 'velocity': tensor(0.6071, device='cuda:0', grad_fn=<NllLossBackward0>), 'polyphony': tensor(0.4362, device='cuda:0', grad_fn=<NllLossBackward0>), 'density': tensor(0.4658, device='cuda:0', grad_fn=<NllLossBackward0>), 'piano_roll': tensor(1.0443, device='cuda:0', grad_fn=<NllLoss2DBackward0>), 'total': tensor(3.5968, device='cuda:0', grad_fn=<AddBackward0>)}]"
     ]
    },
    {
     "name": "stdout",
     "output_type": "stream",
     "text": [
      "Generated:  [{'type': 'pitch', 'value': 39}, {'type': 'velocity', 'value': 17}, {'type': 'pitch', 'value': 51}, {'type': 'velocity', 'value': 15}, {'type': 'pitch', 'value': 55}, {'type': 'velocity', 'value': 20}, 'next_frame', 'next_frame', 'next_frame', 'next_frame']\n",
      "Chords:  ['C_M7', 'C_M7', 'C_M7', 'C_M7', 'A_m7', 'A_m7', 'A_m7', 'A_m7', 'F_M', 'F_M', 'F_M', 'F_M', 'G_M', 'G_M', 'G_M', 'G_M', 'C_M7', 'C_M7', 'C_M7', 'C_M7', 'A_m7', 'A_m7', 'A_m7', 'A_m7', 'F_M', 'F_M', 'F_M', 'F_M', 'C_M7', 'C_M7', 'G_M', 'G_M']\n"
     ]
    },
    {
     "name": "stderr",
     "output_type": "stream",
     "text": [
      "100%|██████████| 16/16 [00:10<00:00,  1.55it/s]t/s, batch=7850, gpu_temp=63, loss={'chord': tensor(1.2609, device='cuda:0', grad_fn=<NllLossBackward0>), 'velocity': tensor(0.5525, device='cuda:0', grad_fn=<NllLossBackward0>), 'polyphony': tensor(0.3434, device='cuda:0', grad_fn=<NllLossBackward0>), 'density': tensor(0.4974, device='cuda:0', grad_fn=<NllLossBackward0>), 'piano_roll': tensor(1.1697, device='cuda:0', grad_fn=<NllLoss2DBackward0>), 'total': tensor(3.8239, device='cuda:0', grad_fn=<AddBackward0>)}]\n"
     ]
    },
    {
     "name": "stdout",
     "output_type": "stream",
     "text": [
      "Generated:  [{'type': 'pitch', 'value': 20}, {'type': 'velocity', 'value': 19}, {'type': 'pitch', 'value': 32}, {'type': 'velocity', 'value': 21}, {'type': 'pitch', 'value': 48}, {'type': 'velocity', 'value': 19}, {'type': 'pitch', 'value': 51}, {'type': 'velocity', 'value': 18}, {'type': 'pitch', 'value': 55}, {'type': 'velocity', 'value': 22}]\n",
      "Chords:  ['A_m7', 'A_m7', 'A_m7', 'A_m7', 'F_M7', 'F_M7', 'F_M7', 'F_M7', 'G_7', 'G_7', 'G_7', 'G_7', 'A_m7', 'A_m7', 'A_m7', 'A_m7', 'E_m', 'E_m', 'C_M7', 'C_M7', 'F_M7', 'F_M7', 'F_M7', 'F_M7', 'E_m7', 'E_m7', 'E_m7', 'E_m7', 'D_m7', 'D_m7', 'D_m7', 'D_m7']\n"
     ]
    },
    {
     "name": "stderr",
     "output_type": "stream",
     "text": [
      "100%|██████████| 10/10 [00:05<00:00,  1.94it/s]\n",
      "100%|█████████▉| 7857/7864 [49:25<00:35,  5.02s/it, batch=7850, gpu_temp=63, loss={'chord': tensor(1.2609, device='cuda:0', grad_fn=<NllLossBackward0>), 'velocity': tensor(0.5525, device='cuda:0', grad_fn=<NllLossBackward0>), 'polyphony': tensor(0.3434, device='cuda:0', grad_fn=<NllLossBackward0>), 'density': tensor(0.4974, device='cuda:0', grad_fn=<NllLossBackward0>), 'piano_roll': tensor(1.1697, device='cuda:0', grad_fn=<NllLoss2DBackward0>), 'total': tensor(3.8239, device='cuda:0', grad_fn=<AddBackward0>)}]"
     ]
    },
    {
     "name": "stdout",
     "output_type": "stream",
     "text": [
      "Generated:  [{'type': 'pitch', 'value': 39}, {'type': 'velocity', 'value': 17}, {'type': 'pitch', 'value': 51}, {'type': 'velocity', 'value': 15}, {'type': 'pitch', 'value': 55}, {'type': 'velocity', 'value': 20}, 'next_frame', 'next_frame', 'next_frame', 'next_frame']\n",
      "Chords:  ['C_M7', 'C_M7', 'C_M7', 'C_M7', 'A_m7', 'A_m7', 'A_m7', 'A_m7', 'F_M', 'F_M', 'F_M', 'F_M', 'G_M', 'G_M', 'G_M', 'G_M', 'C_M7', 'C_M7', 'C_M7', 'C_M7', 'A_m7', 'A_m7', 'A_m7', 'A_m7', 'C_M7', 'C_M7', 'C_M7', 'C_M7', 'C_M7', 'C_M7', 'C_M7', 'C_M7']\n"
     ]
    },
    {
     "name": "stderr",
     "output_type": "stream",
     "text": [
      "100%|██████████| 7864/7864 [49:27<00:00,  2.65it/s, batch=7860, gpu_temp=59, loss={'chord': tensor(0.9372, device='cuda:0', grad_fn=<NllLossBackward0>), 'velocity': tensor(0.5070, device='cuda:0', grad_fn=<NllLossBackward0>), 'polyphony': tensor(0.3138, device='cuda:0', grad_fn=<NllLossBackward0>), 'density': tensor(0.4273, device='cuda:0', grad_fn=<NllLossBackward0>), 'piano_roll': tensor(1.0561, device='cuda:0', grad_fn=<NllLoss2DBackward0>), 'total': tensor(3.2414, device='cuda:0', grad_fn=<AddBackward0>)}]\n",
      "100%|██████████| 16/16 [00:09<00:00,  1.74it/s]/s, batch=490, gpu_temp=57, loss={'chord': tensor(1.0891, device='cuda:0', grad_fn=<NllLossBackward0>), 'velocity': tensor(0.5573, device='cuda:0', grad_fn=<NllLossBackward0>), 'polyphony': tensor(0.4015, device='cuda:0', grad_fn=<NllLossBackward0>), 'density': tensor(0.4431, device='cuda:0', grad_fn=<NllLossBackward0>), 'piano_roll': tensor(1.1231, device='cuda:0', grad_fn=<NllLoss2DBackward0>), 'total': tensor(3.6140, device='cuda:0', grad_fn=<AddBackward0>)}]\n"
     ]
    },
    {
     "name": "stdout",
     "output_type": "stream",
     "text": [
      "Generated:  [{'type': 'pitch', 'value': 12}, {'type': 'velocity', 'value': 20}, {'type': 'pitch', 'value': 24}, {'type': 'velocity', 'value': 21}, {'type': 'pitch', 'value': 51}, {'type': 'velocity', 'value': 23}, 'next_frame', 'next_frame', 'next_frame', 'next_frame']\n",
      "Chords:  ['F_M7', 'F_M7', 'F_M7', 'F_M7', 'C_M7', 'C_M7', 'A_m7', 'A_m7', 'E_m7', 'E_m7', 'E_m7', 'E_m7', 'A_m7', 'A_m7', 'A_m7', 'A_m7', 'C_M7', 'C_M7', 'C_M7', 'C_M7', 'D_m7', 'D_m7', 'F_M7', 'F_M7', 'C_M7', 'C_M7', 'C_M', 'C_M', 'E_m7', 'E_m7', 'G_M', 'G_M']\n"
     ]
    },
    {
     "name": "stderr",
     "output_type": "stream",
     "text": [
      "100%|██████████| 10/10 [00:04<00:00,  2.49it/s]\n",
      "  6%|▋         | 492/7864 [03:04<8:50:21,  4.32s/it, batch=490, gpu_temp=57, loss={'chord': tensor(1.0891, device='cuda:0', grad_fn=<NllLossBackward0>), 'velocity': tensor(0.5573, device='cuda:0', grad_fn=<NllLossBackward0>), 'polyphony': tensor(0.4015, device='cuda:0', grad_fn=<NllLossBackward0>), 'density': tensor(0.4431, device='cuda:0', grad_fn=<NllLossBackward0>), 'piano_roll': tensor(1.1231, device='cuda:0', grad_fn=<NllLoss2DBackward0>), 'total': tensor(3.6140, device='cuda:0', grad_fn=<AddBackward0>)}]"
     ]
    },
    {
     "name": "stdout",
     "output_type": "stream",
     "text": [
      "Generated:  [{'type': 'pitch', 'value': 39}, {'type': 'velocity', 'value': 17}, {'type': 'pitch', 'value': 51}, {'type': 'velocity', 'value': 15}, {'type': 'pitch', 'value': 55}, {'type': 'velocity', 'value': 20}, 'next_frame', 'next_frame', 'next_frame', 'next_frame']\n",
      "Chords:  ['C_M7', 'C_M7', 'C_M7', 'C_M7', 'A_m7', 'A_m7', 'A_m7', 'A_m7', 'F_M', 'F_M', 'F_M', 'F_M', 'G_M', 'G_M', 'G_M', 'G_M', 'C_M7', 'C_M7', 'C_M7', 'C_M7', 'A_m7', 'A_m7', 'A_m7', 'A_m7', 'A_m7', 'A_m7', 'A_m7', 'A_m7', 'F_M', 'F_M', 'F_M7', 'F_M7']\n"
     ]
    },
    {
     "name": "stderr",
     "output_type": "stream",
     "text": [
      "100%|██████████| 16/16 [00:08<00:00,  1.97it/s]/s, batch=980, gpu_temp=61, loss={'chord': tensor(0.9268, device='cuda:0', grad_fn=<NllLossBackward0>), 'velocity': tensor(0.4980, device='cuda:0', grad_fn=<NllLossBackward0>), 'polyphony': tensor(0.3477, device='cuda:0', grad_fn=<NllLossBackward0>), 'density': tensor(0.4252, device='cuda:0', grad_fn=<NllLossBackward0>), 'piano_roll': tensor(1.0139, device='cuda:0', grad_fn=<NllLoss2DBackward0>), 'total': tensor(3.2116, device='cuda:0', grad_fn=<AddBackward0>)}]  \n"
     ]
    },
    {
     "name": "stdout",
     "output_type": "stream",
     "text": [
      "Generated:  [{'type': 'pitch', 'value': 3}, {'type': 'velocity', 'value': 23}, {'type': 'pitch', 'value': 15}, {'type': 'velocity', 'value': 22}, 'next_frame', 'next_frame', 'next_frame', 'next_frame', {'type': 'pitch', 'value': 49}, {'type': 'velocity', 'value': 19}]\n",
      "Chords:  ['C_M', 'C_M', 'C_M', 'C_M', 'G_M', 'G_M', 'G_M', 'G_M', 'A_m', 'A_m', 'A_m', 'A_m', 'E_m', 'E_m', 'E_m', 'E_m', 'F_M', 'F_M', 'F_M', 'F_M', 'C_M', 'C_M', 'C_M', 'C_M', 'D_m7', 'D_m7', 'D_m7', 'D_m7', 'G_M', 'G_M', 'G_M', 'G_M']\n"
     ]
    },
    {
     "name": "stderr",
     "output_type": "stream",
     "text": [
      "100%|██████████| 10/10 [00:03<00:00,  2.50it/s]\n",
      " 12%|█▎        | 983/7864 [05:55<7:37:18,  3.99s/it, batch=980, gpu_temp=61, loss={'chord': tensor(0.9268, device='cuda:0', grad_fn=<NllLossBackward0>), 'velocity': tensor(0.4980, device='cuda:0', grad_fn=<NllLossBackward0>), 'polyphony': tensor(0.3477, device='cuda:0', grad_fn=<NllLossBackward0>), 'density': tensor(0.4252, device='cuda:0', grad_fn=<NllLossBackward0>), 'piano_roll': tensor(1.0139, device='cuda:0', grad_fn=<NllLoss2DBackward0>), 'total': tensor(3.2116, device='cuda:0', grad_fn=<AddBackward0>)}]"
     ]
    },
    {
     "name": "stdout",
     "output_type": "stream",
     "text": [
      "Generated:  [{'type': 'pitch', 'value': 39}, {'type': 'velocity', 'value': 17}, {'type': 'pitch', 'value': 51}, {'type': 'velocity', 'value': 15}, {'type': 'pitch', 'value': 55}, {'type': 'velocity', 'value': 20}, 'next_frame', 'next_frame', 'next_frame', 'next_frame']\n",
      "Chords:  ['C_M7', 'C_M7', 'C_M7', 'C_M7', 'A_m7', 'A_m7', 'A_m7', 'A_m7', 'F_M', 'F_M', 'F_M', 'F_M', 'G_M', 'G_M', 'G_M', 'G_M', 'C_M7', 'C_M7', 'C_M7', 'C_M7', 'A_m7', 'A_m7', 'A_m7', 'A_m7', 'A_m7', 'A_m7', 'A_m7', 'A_m7', 'F_M', 'F_M', 'F_M', 'F_M']\n"
     ]
    },
    {
     "name": "stderr",
     "output_type": "stream",
     "text": [
      "100%|██████████| 16/16 [00:07<00:00,  2.02it/s]t/s, batch=1470, gpu_temp=63, loss={'chord': tensor(1.0891, device='cuda:0', grad_fn=<NllLossBackward0>), 'velocity': tensor(0.4531, device='cuda:0', grad_fn=<NllLossBackward0>), 'polyphony': tensor(0.2514, device='cuda:0', grad_fn=<NllLossBackward0>), 'density': tensor(0.3725, device='cuda:0', grad_fn=<NllLossBackward0>), 'piano_roll': tensor(1.0678, device='cuda:0', grad_fn=<NllLoss2DBackward0>), 'total': tensor(3.2339, device='cuda:0', grad_fn=<AddBackward0>)}]\n"
     ]
    },
    {
     "name": "stdout",
     "output_type": "stream",
     "text": [
      "Generated:  [{'type': 'pitch', 'value': 8}, {'type': 'velocity', 'value': 22}, {'type': 'pitch', 'value': 20}, {'type': 'velocity', 'value': 23}, {'type': 'pitch', 'value': 48}, {'type': 'velocity', 'value': 21}, 'next_frame', 'next_frame', 'next_frame', 'next_frame']\n",
      "Chords:  ['F_M', 'F_M', 'F_M', 'F_M', 'D_M', 'D_M', 'D_m7', 'D_m7', 'D_sus4', 'D_sus4', 'D_m7', 'D_m7', 'G_M', 'G_M', 'G_M', 'G_M', 'G_M', 'G_M', 'G_M', 'G_M', 'E_m7', 'E_m7', 'C_M7', 'C_M7', 'A_m', 'A_m', 'A_m7', 'A_m7', 'A_m', 'A_m', 'A_m', 'A_m']\n"
     ]
    },
    {
     "name": "stderr",
     "output_type": "stream",
     "text": [
      "100%|██████████| 10/10 [00:04<00:00,  2.33it/s]\n",
      " 19%|█▊        | 1474/7864 [08:40<7:05:07,  3.99s/it, batch=1470, gpu_temp=63, loss={'chord': tensor(1.0891, device='cuda:0', grad_fn=<NllLossBackward0>), 'velocity': tensor(0.4531, device='cuda:0', grad_fn=<NllLossBackward0>), 'polyphony': tensor(0.2514, device='cuda:0', grad_fn=<NllLossBackward0>), 'density': tensor(0.3725, device='cuda:0', grad_fn=<NllLossBackward0>), 'piano_roll': tensor(1.0678, device='cuda:0', grad_fn=<NllLoss2DBackward0>), 'total': tensor(3.2339, device='cuda:0', grad_fn=<AddBackward0>)}]"
     ]
    },
    {
     "name": "stdout",
     "output_type": "stream",
     "text": [
      "Generated:  [{'type': 'pitch', 'value': 39}, {'type': 'velocity', 'value': 17}, {'type': 'pitch', 'value': 51}, {'type': 'velocity', 'value': 15}, {'type': 'pitch', 'value': 55}, {'type': 'velocity', 'value': 20}, 'next_frame', 'next_frame', 'next_frame', 'next_frame']\n",
      "Chords:  ['C_M7', 'C_M7', 'C_M7', 'C_M7', 'A_m7', 'A_m7', 'A_m7', 'A_m7', 'F_M', 'F_M', 'F_M', 'F_M', 'G_M', 'G_M', 'G_M', 'G_M', 'C_M7', 'C_M7', 'C_M7', 'C_M7', 'A_m7', 'A_m7', 'A_m7', 'A_m7', 'C_M7', 'C_M7', 'C_M7', 'C_M7', 'C_M7', 'C_M7', 'C_M7', 'C_M7']\n"
     ]
    },
    {
     "name": "stderr",
     "output_type": "stream",
     "text": [
      "100%|██████████| 16/16 [00:09<00:00,  1.62it/s]t/s, batch=1960, gpu_temp=62, loss={'chord': tensor(0.9922, device='cuda:0', grad_fn=<NllLossBackward0>), 'velocity': tensor(0.5718, device='cuda:0', grad_fn=<NllLossBackward0>), 'polyphony': tensor(0.3289, device='cuda:0', grad_fn=<NllLossBackward0>), 'density': tensor(0.4691, device='cuda:0', grad_fn=<NllLossBackward0>), 'piano_roll': tensor(1.1724, device='cuda:0', grad_fn=<NllLoss2DBackward0>), 'total': tensor(3.5344, device='cuda:0', grad_fn=<AddBackward0>)}]  \n"
     ]
    },
    {
     "name": "stdout",
     "output_type": "stream",
     "text": [
      "Generated:  [{'type': 'pitch', 'value': 17}, {'type': 'velocity', 'value': 17}, {'type': 'pitch', 'value': 29}, {'type': 'velocity', 'value': 19}, 'next_frame', 'next_frame', 'next_frame', 'next_frame', {'type': 'pitch', 'value': 36}, {'type': 'velocity', 'value': 17}]\n",
      "Chords:  ['C_M', 'C_M', 'C_M7', 'C_M7', 'D_m', 'D_m', 'D_m', 'D_m', 'E_m7', 'E_m7', 'E_m7', 'E_m7', 'A_m7', 'A_m7', 'A_m7', 'A_m7', 'A_m7', 'A_m7', 'A_m7', 'A_m7', 'G_m7', 'G_m7', 'G_M', 'G_M', 'F_M', 'F_M', 'F_M', 'F_M', 'E_o', 'E_o', 'E_o', 'E_o']\n"
     ]
    },
    {
     "name": "stderr",
     "output_type": "stream",
     "text": [
      "100%|██████████| 10/10 [00:03<00:00,  2.51it/s]\n",
      " 25%|██▍       | 1965/7864 [11:27<7:31:47,  4.60s/it, batch=1960, gpu_temp=62, loss={'chord': tensor(0.9922, device='cuda:0', grad_fn=<NllLossBackward0>), 'velocity': tensor(0.5718, device='cuda:0', grad_fn=<NllLossBackward0>), 'polyphony': tensor(0.3289, device='cuda:0', grad_fn=<NllLossBackward0>), 'density': tensor(0.4691, device='cuda:0', grad_fn=<NllLossBackward0>), 'piano_roll': tensor(1.1724, device='cuda:0', grad_fn=<NllLoss2DBackward0>), 'total': tensor(3.5344, device='cuda:0', grad_fn=<AddBackward0>)}]"
     ]
    },
    {
     "name": "stdout",
     "output_type": "stream",
     "text": [
      "Generated:  [{'type': 'pitch', 'value': 39}, {'type': 'velocity', 'value': 17}, {'type': 'pitch', 'value': 51}, {'type': 'velocity', 'value': 15}, {'type': 'pitch', 'value': 55}, {'type': 'velocity', 'value': 20}, 'next_frame', 'next_frame', 'next_frame', 'next_frame']\n",
      "Chords:  ['C_M7', 'C_M7', 'C_M7', 'C_M7', 'A_m7', 'A_m7', 'A_m7', 'A_m7', 'F_M', 'F_M', 'F_M', 'F_M', 'G_M', 'G_M', 'G_M', 'G_M', 'C_M7', 'C_M7', 'C_M7', 'C_M7', 'A_m7', 'A_m7', 'A_m7', 'A_m7', 'C_M7', 'C_M7', 'C_M7', 'C_M7', 'F_M7', 'F_M7', 'F_M7', 'F_M7']\n"
     ]
    },
    {
     "name": "stderr",
     "output_type": "stream",
     "text": [
      "100%|██████████| 16/16 [00:08<00:00,  1.85it/s]t/s, batch=2450, gpu_temp=63, loss={'chord': tensor(1.0139, device='cuda:0', grad_fn=<NllLossBackward0>), 'velocity': tensor(0.5835, device='cuda:0', grad_fn=<NllLossBackward0>), 'polyphony': tensor(0.3690, device='cuda:0', grad_fn=<NllLossBackward0>), 'density': tensor(0.4559, device='cuda:0', grad_fn=<NllLossBackward0>), 'piano_roll': tensor(1.0635, device='cuda:0', grad_fn=<NllLoss2DBackward0>), 'total': tensor(3.4857, device='cuda:0', grad_fn=<AddBackward0>)}]  \n"
     ]
    },
    {
     "name": "stdout",
     "output_type": "stream",
     "text": [
      "Generated:  [{'type': 'pitch', 'value': 17}, {'type': 'velocity', 'value': 21}, 'next_frame', 'next_frame', 'next_frame', 'next_frame', {'type': 'pitch', 'value': 24}, {'type': 'velocity', 'value': 18}, 'next_frame', 'next_frame']\n",
      "Chords:  ['C_M', 'C_M', 'C_M', 'C_M', 'C_M', 'C_M', 'C_M', 'C_M', 'C_M', 'C_M', 'C_M', 'C_M', 'E_m7', 'E_m7', 'E_m7', 'E_m7', 'E_m7', 'E_m7', 'E_m7', 'E_m7', 'A_m', 'A_m', 'A_m', 'A_m', 'F_M', 'F_M', 'F_M7', 'F_M7', 'E_m7', 'E_m7', 'G_M', 'G_M']\n"
     ]
    },
    {
     "name": "stderr",
     "output_type": "stream",
     "text": [
      "100%|██████████| 10/10 [00:04<00:00,  2.10it/s]\n",
      " 31%|███       | 2456/7864 [14:09<6:31:34,  4.34s/it, batch=2450, gpu_temp=63, loss={'chord': tensor(1.0139, device='cuda:0', grad_fn=<NllLossBackward0>), 'velocity': tensor(0.5835, device='cuda:0', grad_fn=<NllLossBackward0>), 'polyphony': tensor(0.3690, device='cuda:0', grad_fn=<NllLossBackward0>), 'density': tensor(0.4559, device='cuda:0', grad_fn=<NllLossBackward0>), 'piano_roll': tensor(1.0635, device='cuda:0', grad_fn=<NllLoss2DBackward0>), 'total': tensor(3.4857, device='cuda:0', grad_fn=<AddBackward0>)}]"
     ]
    },
    {
     "name": "stdout",
     "output_type": "stream",
     "text": [
      "Generated:  [{'type': 'pitch', 'value': 39}, {'type': 'velocity', 'value': 17}, {'type': 'pitch', 'value': 51}, {'type': 'velocity', 'value': 15}, {'type': 'pitch', 'value': 55}, {'type': 'velocity', 'value': 20}, 'next_frame', 'next_frame', 'next_frame', 'next_frame']\n",
      "Chords:  ['C_M7', 'C_M7', 'C_M7', 'C_M7', 'A_m7', 'A_m7', 'A_m7', 'A_m7', 'F_M', 'F_M', 'F_M', 'F_M', 'G_M', 'G_M', 'G_M', 'G_M', 'C_M7', 'C_M7', 'C_M7', 'C_M7', 'A_m7', 'A_m7', 'A_m7', 'A_m7', 'A_m7', 'A_m7', 'A_m7', 'A_m7', 'C_M7', 'C_M7', 'C_M7', 'C_M7']\n"
     ]
    },
    {
     "name": "stderr",
     "output_type": "stream",
     "text": [
      "100%|██████████| 16/16 [00:09<00:00,  1.68it/s]t/s, batch=2940, gpu_temp=62, loss={'chord': tensor(0.9928, device='cuda:0', grad_fn=<NllLossBackward0>), 'velocity': tensor(0.5180, device='cuda:0', grad_fn=<NllLossBackward0>), 'polyphony': tensor(0.2988, device='cuda:0', grad_fn=<NllLossBackward0>), 'density': tensor(0.4027, device='cuda:0', grad_fn=<NllLossBackward0>), 'piano_roll': tensor(1.1169, device='cuda:0', grad_fn=<NllLoss2DBackward0>), 'total': tensor(3.3292, device='cuda:0', grad_fn=<AddBackward0>)}]  \n"
     ]
    },
    {
     "name": "stdout",
     "output_type": "stream",
     "text": [
      "Generated:  [{'type': 'pitch', 'value': 10}, {'type': 'velocity', 'value': 17}, {'type': 'pitch', 'value': 22}, {'type': 'velocity', 'value': 19}, 'next_frame', 'next_frame', 'next_frame', 'next_frame', {'type': 'pitch', 'value': 17}, {'type': 'velocity', 'value': 16}]\n",
      "Chords:  ['F_M7', 'F_M7', 'B_o', 'B_o', 'E_m', 'E_m', 'F#_m', 'F#_m', 'E_m7', 'E_m7', 'A_M', 'A_M', 'E_m7', 'A_M', 'A_M', 'A_M', 'A_M', 'A_M', 'D_sus2', 'D_sus2', 'G_M', 'G_M', 'C#_o', 'C#_o', 'C_M7', 'C_M7', 'A_M', 'A_M', 'D_m7', 'D_m7', 'E_m', 'E_m']\n"
     ]
    },
    {
     "name": "stderr",
     "output_type": "stream",
     "text": [
      "100%|██████████| 10/10 [00:04<00:00,  2.44it/s]\n",
      " 37%|███▋      | 2947/7864 [16:54<6:09:54,  4.51s/it, batch=2940, gpu_temp=62, loss={'chord': tensor(0.9928, device='cuda:0', grad_fn=<NllLossBackward0>), 'velocity': tensor(0.5180, device='cuda:0', grad_fn=<NllLossBackward0>), 'polyphony': tensor(0.2988, device='cuda:0', grad_fn=<NllLossBackward0>), 'density': tensor(0.4027, device='cuda:0', grad_fn=<NllLossBackward0>), 'piano_roll': tensor(1.1169, device='cuda:0', grad_fn=<NllLoss2DBackward0>), 'total': tensor(3.3292, device='cuda:0', grad_fn=<AddBackward0>)}]"
     ]
    },
    {
     "name": "stdout",
     "output_type": "stream",
     "text": [
      "Generated:  [{'type': 'pitch', 'value': 39}, {'type': 'velocity', 'value': 17}, {'type': 'pitch', 'value': 51}, {'type': 'velocity', 'value': 15}, {'type': 'pitch', 'value': 55}, {'type': 'velocity', 'value': 20}, 'next_frame', 'next_frame', 'next_frame', 'next_frame']\n",
      "Chords:  ['C_M7', 'C_M7', 'C_M7', 'C_M7', 'A_m7', 'A_m7', 'A_m7', 'A_m7', 'F_M', 'F_M', 'F_M', 'F_M', 'G_M', 'G_M', 'G_M', 'G_M', 'C_M7', 'C_M7', 'C_M7', 'C_M7', 'A_m7', 'A_m7', 'A_m7', 'A_m7', 'F_M', 'F_M', 'F_M7', 'F_M7', 'G_M', 'G_M', 'G_M', 'G_M']\n"
     ]
    },
    {
     "name": "stderr",
     "output_type": "stream",
     "text": [
      "100%|██████████| 16/16 [00:08<00:00,  1.80it/s]t/s, batch=3430, gpu_temp=63, loss={'chord': tensor(1.0419, device='cuda:0', grad_fn=<NllLossBackward0>), 'velocity': tensor(0.5347, device='cuda:0', grad_fn=<NllLossBackward0>), 'polyphony': tensor(0.3602, device='cuda:0', grad_fn=<NllLossBackward0>), 'density': tensor(0.4340, device='cuda:0', grad_fn=<NllLossBackward0>), 'piano_roll': tensor(1.0510, device='cuda:0', grad_fn=<NllLoss2DBackward0>), 'total': tensor(3.4217, device='cuda:0', grad_fn=<AddBackward0>)}]  \n"
     ]
    },
    {
     "name": "stdout",
     "output_type": "stream",
     "text": [
      "Generated:  [{'type': 'pitch', 'value': 17}, {'type': 'velocity', 'value': 17}, {'type': 'pitch', 'value': 29}, {'type': 'velocity', 'value': 19}, {'type': 'pitch', 'value': 48}, {'type': 'velocity', 'value': 20}, {'type': 'pitch', 'value': 53}, {'type': 'velocity', 'value': 21}, 'next_frame', 'next_frame']\n",
      "Chords:  ['D_m', 'D_m', 'D_m7', 'D_m7', 'C_M7', 'C_M7', 'G_M', 'G_M', 'G_M', 'G_M', 'G_M', 'G_M', 'G_M', 'G_M', 'G_M', 'G_M', 'D_+', 'D_+', 'A_m7', 'A_m7', 'D_m7', 'D_m7', 'D_m7', 'D_m7', 'E_m7', 'E_m7', 'D_M', 'D_M', 'G_M', 'G_M', 'G_M', 'G_M']\n"
     ]
    },
    {
     "name": "stderr",
     "output_type": "stream",
     "text": [
      "100%|██████████| 10/10 [00:04<00:00,  2.35it/s]\n",
      " 44%|████▎     | 3438/7864 [19:38<5:16:23,  4.29s/it, batch=3430, gpu_temp=63, loss={'chord': tensor(1.0419, device='cuda:0', grad_fn=<NllLossBackward0>), 'velocity': tensor(0.5347, device='cuda:0', grad_fn=<NllLossBackward0>), 'polyphony': tensor(0.3602, device='cuda:0', grad_fn=<NllLossBackward0>), 'density': tensor(0.4340, device='cuda:0', grad_fn=<NllLossBackward0>), 'piano_roll': tensor(1.0510, device='cuda:0', grad_fn=<NllLoss2DBackward0>), 'total': tensor(3.4217, device='cuda:0', grad_fn=<AddBackward0>)}]"
     ]
    },
    {
     "name": "stdout",
     "output_type": "stream",
     "text": [
      "Generated:  [{'type': 'pitch', 'value': 39}, {'type': 'velocity', 'value': 17}, {'type': 'pitch', 'value': 51}, {'type': 'velocity', 'value': 15}, {'type': 'pitch', 'value': 55}, {'type': 'velocity', 'value': 20}, 'next_frame', 'next_frame', 'next_frame', 'next_frame']\n",
      "Chords:  ['C_M7', 'C_M7', 'C_M7', 'C_M7', 'A_m7', 'A_m7', 'A_m7', 'A_m7', 'F_M', 'F_M', 'F_M', 'F_M', 'G_M', 'G_M', 'G_M', 'G_M', 'C_M7', 'C_M7', 'C_M7', 'C_M7', 'A_m7', 'A_m7', 'A_m7', 'A_m7', 'A_m7', 'A_m7', 'A_m7', 'A_m7', 'D_m7', 'D_m7', 'D_m7', 'D_m7']\n"
     ]
    },
    {
     "name": "stderr",
     "output_type": "stream",
     "text": [
      "100%|██████████| 16/16 [00:09<00:00,  1.77it/s]t/s, batch=3920, gpu_temp=63, loss={'chord': tensor(1.0354, device='cuda:0', grad_fn=<NllLossBackward0>), 'velocity': tensor(0.5501, device='cuda:0', grad_fn=<NllLossBackward0>), 'polyphony': tensor(0.3963, device='cuda:0', grad_fn=<NllLossBackward0>), 'density': tensor(0.5032, device='cuda:0', grad_fn=<NllLossBackward0>), 'piano_roll': tensor(1.1316, device='cuda:0', grad_fn=<NllLoss2DBackward0>), 'total': tensor(3.6166, device='cuda:0', grad_fn=<AddBackward0>)}]  \n"
     ]
    },
    {
     "name": "stdout",
     "output_type": "stream",
     "text": [
      "Generated:  [{'type': 'pitch', 'value': 24}, {'type': 'velocity', 'value': 18}, {'type': 'pitch', 'value': 39}, {'type': 'velocity', 'value': 19}, {'type': 'pitch', 'value': 43}, {'type': 'velocity', 'value': 19}, {'type': 'pitch', 'value': 46}, {'type': 'velocity', 'value': 20}, 'next_frame', 'next_frame']\n",
      "Chords:  ['A_M7', 'A_M7', 'E_M', 'E_M', 'A_m7', 'A_m7', 'A_m', 'A_m', 'A_m', 'A_m', 'A_m', 'A_m', 'C_M7', 'C_M7', 'C_M7', 'C_M7', 'F_M', 'F_M', 'F_M', 'F_M', 'G_7', 'G_7', 'G_M', 'G_M', 'C_M', 'C_M', 'C_M', 'C_M', 'C_M', 'C_M', 'C_M', 'C_M']\n"
     ]
    },
    {
     "name": "stderr",
     "output_type": "stream",
     "text": [
      "100%|██████████| 10/10 [00:04<00:00,  2.33it/s]\n",
      " 50%|████▉     | 3929/7864 [22:23<4:45:28,  4.35s/it, batch=3920, gpu_temp=63, loss={'chord': tensor(1.0354, device='cuda:0', grad_fn=<NllLossBackward0>), 'velocity': tensor(0.5501, device='cuda:0', grad_fn=<NllLossBackward0>), 'polyphony': tensor(0.3963, device='cuda:0', grad_fn=<NllLossBackward0>), 'density': tensor(0.5032, device='cuda:0', grad_fn=<NllLossBackward0>), 'piano_roll': tensor(1.1316, device='cuda:0', grad_fn=<NllLoss2DBackward0>), 'total': tensor(3.6166, device='cuda:0', grad_fn=<AddBackward0>)}]"
     ]
    },
    {
     "name": "stdout",
     "output_type": "stream",
     "text": [
      "Generated:  [{'type': 'pitch', 'value': 39}, {'type': 'velocity', 'value': 17}, {'type': 'pitch', 'value': 51}, {'type': 'velocity', 'value': 15}, {'type': 'pitch', 'value': 55}, {'type': 'velocity', 'value': 20}, 'next_frame', 'next_frame', 'next_frame', 'next_frame']\n",
      "Chords:  ['C_M7', 'C_M7', 'C_M7', 'C_M7', 'A_m7', 'A_m7', 'A_m7', 'A_m7', 'F_M', 'F_M', 'F_M', 'F_M', 'G_M', 'G_M', 'G_M', 'G_M', 'C_M7', 'C_M7', 'C_M7', 'C_M7', 'A_m7', 'A_m7', 'A_m7', 'A_m7', 'F_M', 'F_M', 'F_M', 'F_M', 'G_M', 'G_M', 'G_M', 'G_M']\n"
     ]
    },
    {
     "name": "stderr",
     "output_type": "stream",
     "text": [
      "100%|██████████| 16/16 [00:09<00:00,  1.61it/s]t/s, batch=4410, gpu_temp=63, loss={'chord': tensor(1.1288, device='cuda:0', grad_fn=<NllLossBackward0>), 'velocity': tensor(0.5869, device='cuda:0', grad_fn=<NllLossBackward0>), 'polyphony': tensor(0.3797, device='cuda:0', grad_fn=<NllLossBackward0>), 'density': tensor(0.4203, device='cuda:0', grad_fn=<NllLossBackward0>), 'piano_roll': tensor(1.1561, device='cuda:0', grad_fn=<NllLoss2DBackward0>), 'total': tensor(3.6717, device='cuda:0', grad_fn=<AddBackward0>)}]  \n"
     ]
    },
    {
     "name": "stdout",
     "output_type": "stream",
     "text": [
      "Generated:  [{'type': 'pitch', 'value': 17}, {'type': 'velocity', 'value': 20}, {'type': 'pitch', 'value': 29}, {'type': 'velocity', 'value': 20}, {'type': 'pitch', 'value': 41}, {'type': 'velocity', 'value': 20}, {'type': 'pitch', 'value': 48}, {'type': 'velocity', 'value': 20}, {'type': 'pitch', 'value': 53}, {'type': 'velocity', 'value': 19}]\n",
      "Chords:  ['E_M', 'E_M', 'E_M', 'E_M', 'E_M', 'E_M', 'E_M', 'E_M', 'A_M', 'A_M', 'A_m', 'A_m', 'F_M', 'F_M', 'F_M', 'F_M', 'F_M', 'F_M', 'F_M', 'F_M', 'C_M', 'C_M', 'C_M', 'C_M', 'A_sus2', 'A_sus2', 'A_sus2', 'A_sus2', 'A_m', 'A_m', 'A_m', 'A_m']\n"
     ]
    },
    {
     "name": "stderr",
     "output_type": "stream",
     "text": [
      "100%|██████████| 10/10 [00:04<00:00,  2.40it/s]\n",
      " 56%|█████▌    | 4420/7864 [25:09<4:24:19,  4.61s/it, batch=4410, gpu_temp=63, loss={'chord': tensor(1.1288, device='cuda:0', grad_fn=<NllLossBackward0>), 'velocity': tensor(0.5869, device='cuda:0', grad_fn=<NllLossBackward0>), 'polyphony': tensor(0.3797, device='cuda:0', grad_fn=<NllLossBackward0>), 'density': tensor(0.4203, device='cuda:0', grad_fn=<NllLossBackward0>), 'piano_roll': tensor(1.1561, device='cuda:0', grad_fn=<NllLoss2DBackward0>), 'total': tensor(3.6717, device='cuda:0', grad_fn=<AddBackward0>)}]"
     ]
    },
    {
     "name": "stdout",
     "output_type": "stream",
     "text": [
      "Generated:  [{'type': 'pitch', 'value': 39}, {'type': 'velocity', 'value': 17}, {'type': 'pitch', 'value': 51}, {'type': 'velocity', 'value': 15}, {'type': 'pitch', 'value': 55}, {'type': 'velocity', 'value': 20}, 'next_frame', 'next_frame', 'next_frame', 'next_frame']\n",
      "Chords:  ['C_M7', 'C_M7', 'C_M7', 'C_M7', 'A_m7', 'A_m7', 'A_m7', 'A_m7', 'F_M', 'F_M', 'F_M', 'F_M', 'G_M', 'G_M', 'G_M', 'G_M', 'C_M7', 'C_M7', 'C_M7', 'C_M7', 'A_m7', 'A_m7', 'A_m7', 'A_m7', 'A_m7', 'A_m7', 'A_m7', 'A_m7', 'F_M7', 'F_M7', 'F_M', 'F_M']\n"
     ]
    },
    {
     "name": "stderr",
     "output_type": "stream",
     "text": [
      "100%|██████████| 16/16 [00:09<00:00,  1.66it/s]t/s, batch=4910, gpu_temp=60, loss={'chord': tensor(0.9370, device='cuda:0', grad_fn=<NllLossBackward0>), 'velocity': tensor(0.5201, device='cuda:0', grad_fn=<NllLossBackward0>), 'polyphony': tensor(0.3462, device='cuda:0', grad_fn=<NllLossBackward0>), 'density': tensor(0.4097, device='cuda:0', grad_fn=<NllLossBackward0>), 'piano_roll': tensor(1.0423, device='cuda:0', grad_fn=<NllLoss2DBackward0>), 'total': tensor(3.2552, device='cuda:0', grad_fn=<AddBackward0>)}]  \n"
     ]
    },
    {
     "name": "stdout",
     "output_type": "stream",
     "text": [
      "Generated:  [{'type': 'pitch', 'value': 20}, {'type': 'velocity', 'value': 19}, {'type': 'pitch', 'value': 51}, {'type': 'velocity', 'value': 20}, {'type': 'pitch', 'value': 60}, {'type': 'velocity', 'value': 22}, 'next_frame', 'next_frame', 'next_frame', 'next_frame']\n",
      "Chords:  ['A_m', 'A_m', 'A_m7', 'A_m7', 'A_m', 'A_m', 'G_M', 'G_M', 'F_M', 'F_M', 'F_M7', 'F_M7', 'D_m', 'D_m', 'F_M7', 'F_M7', 'E_m', 'E_m', 'G_M', 'G_M', 'E_sus4', 'E_sus4', 'A_m', 'A_m', 'A_m', 'A_m', 'F_M7', 'F_M7', 'A_m7', 'A_m7', 'G_M', 'G_M']\n"
     ]
    },
    {
     "name": "stderr",
     "output_type": "stream",
     "text": [
      "100%|██████████| 10/10 [00:03<00:00,  2.65it/s]\n",
      " 62%|██████▏   | 4911/7864 [27:50<3:34:48,  4.36s/it, batch=4910, gpu_temp=60, loss={'chord': tensor(0.9370, device='cuda:0', grad_fn=<NllLossBackward0>), 'velocity': tensor(0.5201, device='cuda:0', grad_fn=<NllLossBackward0>), 'polyphony': tensor(0.3462, device='cuda:0', grad_fn=<NllLossBackward0>), 'density': tensor(0.4097, device='cuda:0', grad_fn=<NllLossBackward0>), 'piano_roll': tensor(1.0423, device='cuda:0', grad_fn=<NllLoss2DBackward0>), 'total': tensor(3.2552, device='cuda:0', grad_fn=<AddBackward0>)}]"
     ]
    },
    {
     "name": "stdout",
     "output_type": "stream",
     "text": [
      "Generated:  [{'type': 'pitch', 'value': 39}, {'type': 'velocity', 'value': 17}, {'type': 'pitch', 'value': 51}, {'type': 'velocity', 'value': 15}, {'type': 'pitch', 'value': 55}, {'type': 'velocity', 'value': 20}, 'next_frame', 'next_frame', 'next_frame', 'next_frame']\n",
      "Chords:  ['C_M7', 'C_M7', 'C_M7', 'C_M7', 'A_m7', 'A_m7', 'A_m7', 'A_m7', 'F_M', 'F_M', 'F_M', 'F_M', 'G_M', 'G_M', 'G_M', 'G_M', 'C_M7', 'C_M7', 'C_M7', 'C_M7', 'A_m7', 'A_m7', 'A_m7', 'A_m7', 'A_m7', 'A_m7', 'A_m7', 'A_m7', 'A_m7', 'A_m7', 'A_m7', 'A_m7']\n"
     ]
    },
    {
     "name": "stderr",
     "output_type": "stream",
     "text": [
      "100%|██████████| 16/16 [00:13<00:00,  1.22it/s]t/s, batch=5400, gpu_temp=63, loss={'chord': tensor(1.0175, device='cuda:0', grad_fn=<NllLossBackward0>), 'velocity': tensor(0.5073, device='cuda:0', grad_fn=<NllLossBackward0>), 'polyphony': tensor(0.3707, device='cuda:0', grad_fn=<NllLossBackward0>), 'density': tensor(0.5185, device='cuda:0', grad_fn=<NllLossBackward0>), 'piano_roll': tensor(1.1465, device='cuda:0', grad_fn=<NllLoss2DBackward0>), 'total': tensor(3.5606, device='cuda:0', grad_fn=<AddBackward0>)}]  \n"
     ]
    },
    {
     "name": "stdout",
     "output_type": "stream",
     "text": [
      "Generated:  [{'type': 'pitch', 'value': 12}, {'type': 'velocity', 'value': 19}, {'type': 'pitch', 'value': 24}, {'type': 'velocity', 'value': 21}, {'type': 'pitch', 'value': 43}, {'type': 'velocity', 'value': 20}, {'type': 'pitch', 'value': 51}, {'type': 'velocity', 'value': 22}, 'next_frame', 'next_frame']\n",
      "Chords:  ['G_7', 'G_7', 'D_m7', 'C_M', 'E_m7', 'E_m7', 'D_m7', 'D_m7', 'C_M', 'C_M', 'D_m7', 'D_m7', 'C_M', 'C_M', 'C_M', 'C_M', 'F_M', 'F_M', 'D_m7', 'D_m7', 'G_7', 'G_7', 'G_7', 'G_7', 'E_M', 'E_M', 'E_M', 'E_M', 'A_m7', 'A_m7', 'A_m', 'D_m7']\n"
     ]
    },
    {
     "name": "stderr",
     "output_type": "stream",
     "text": [
      "100%|██████████| 10/10 [00:03<00:00,  2.67it/s]\n",
      " 69%|██████▊   | 5402/7864 [30:35<3:41:53,  5.41s/it, batch=5400, gpu_temp=63, loss={'chord': tensor(1.0175, device='cuda:0', grad_fn=<NllLossBackward0>), 'velocity': tensor(0.5073, device='cuda:0', grad_fn=<NllLossBackward0>), 'polyphony': tensor(0.3707, device='cuda:0', grad_fn=<NllLossBackward0>), 'density': tensor(0.5185, device='cuda:0', grad_fn=<NllLossBackward0>), 'piano_roll': tensor(1.1465, device='cuda:0', grad_fn=<NllLoss2DBackward0>), 'total': tensor(3.5606, device='cuda:0', grad_fn=<AddBackward0>)}]"
     ]
    },
    {
     "name": "stdout",
     "output_type": "stream",
     "text": [
      "Generated:  [{'type': 'pitch', 'value': 39}, {'type': 'velocity', 'value': 17}, {'type': 'pitch', 'value': 51}, {'type': 'velocity', 'value': 15}, {'type': 'pitch', 'value': 55}, {'type': 'velocity', 'value': 20}, 'next_frame', 'next_frame', 'next_frame', 'next_frame']\n",
      "Chords:  ['C_M7', 'C_M7', 'C_M7', 'C_M7', 'A_m7', 'A_m7', 'A_m7', 'A_m7', 'F_M', 'F_M', 'F_M', 'F_M', 'G_M', 'G_M', 'G_M', 'G_M', 'C_M7', 'C_M7', 'C_M7', 'C_M7', 'A_m7', 'A_m7', 'A_m7', 'A_m7', 'A_m7', 'A_m7', 'A_m7', 'A_m7', 'D_m7', 'D_m7', 'D_m7', 'D_m7']\n"
     ]
    },
    {
     "name": "stderr",
     "output_type": "stream",
     "text": [
      "100%|██████████| 16/16 [00:08<00:00,  1.85it/s]t/s, batch=5890, gpu_temp=62, loss={'chord': tensor(1.0466, device='cuda:0', grad_fn=<NllLossBackward0>), 'velocity': tensor(0.5568, device='cuda:0', grad_fn=<NllLossBackward0>), 'polyphony': tensor(0.3902, device='cuda:0', grad_fn=<NllLossBackward0>), 'density': tensor(0.5115, device='cuda:0', grad_fn=<NllLossBackward0>), 'piano_roll': tensor(1.0191, device='cuda:0', grad_fn=<NllLoss2DBackward0>), 'total': tensor(3.5241, device='cuda:0', grad_fn=<AddBackward0>)}]  \n"
     ]
    },
    {
     "name": "stdout",
     "output_type": "stream",
     "text": [
      "Generated:  [{'type': 'pitch', 'value': 19}, {'type': 'velocity', 'value': 18}, {'type': 'pitch', 'value': 31}, {'type': 'velocity', 'value': 18}, {'type': 'pitch', 'value': 39}, {'type': 'velocity', 'value': 17}, {'type': 'pitch', 'value': 43}, {'type': 'velocity', 'value': 17}, {'type': 'pitch', 'value': 46}, {'type': 'velocity', 'value': 20}]\n",
      "Chords:  ['C_M7', 'C_M7', 'F_M', 'F_M', 'C_M7', 'C_M7', 'F_M7', 'F_M7', 'C_M', 'C_M', 'C_M', 'C_M', 'C_M', 'C_M', 'C_M', 'C_M', 'C_M', 'C_M', 'C_M', 'C_M', 'F_M7', 'F_M7', 'F_M7', 'F_M7', 'F_M7', 'F_M7', 'F_M7', 'F_M7', 'E_m', 'E_m', 'E_m', 'G_sus2']\n"
     ]
    },
    {
     "name": "stderr",
     "output_type": "stream",
     "text": [
      "100%|██████████| 10/10 [00:04<00:00,  2.27it/s]\n",
      " 75%|███████▍  | 5893/7864 [33:15<2:19:38,  4.25s/it, batch=5890, gpu_temp=62, loss={'chord': tensor(1.0466, device='cuda:0', grad_fn=<NllLossBackward0>), 'velocity': tensor(0.5568, device='cuda:0', grad_fn=<NllLossBackward0>), 'polyphony': tensor(0.3902, device='cuda:0', grad_fn=<NllLossBackward0>), 'density': tensor(0.5115, device='cuda:0', grad_fn=<NllLossBackward0>), 'piano_roll': tensor(1.0191, device='cuda:0', grad_fn=<NllLoss2DBackward0>), 'total': tensor(3.5241, device='cuda:0', grad_fn=<AddBackward0>)}]"
     ]
    },
    {
     "name": "stdout",
     "output_type": "stream",
     "text": [
      "Generated:  [{'type': 'pitch', 'value': 39}, {'type': 'velocity', 'value': 17}, {'type': 'pitch', 'value': 51}, {'type': 'velocity', 'value': 15}, {'type': 'pitch', 'value': 55}, {'type': 'velocity', 'value': 20}, 'next_frame', 'next_frame', 'next_frame', 'next_frame']\n",
      "Chords:  ['C_M7', 'C_M7', 'C_M7', 'C_M7', 'A_m7', 'A_m7', 'A_m7', 'A_m7', 'F_M', 'F_M', 'F_M', 'F_M', 'G_M', 'G_M', 'G_M', 'G_M', 'C_M7', 'C_M7', 'C_M7', 'C_M7', 'A_m7', 'A_m7', 'A_m7', 'A_m7', 'G_+', 'G_+', 'A_m7', 'A_m7', 'A_m7', 'A_m7', 'A_m7', 'A_m7']\n"
     ]
    },
    {
     "name": "stderr",
     "output_type": "stream",
     "text": [
      "100%|██████████| 16/16 [00:09<00:00,  1.68it/s]t/s, batch=6380, gpu_temp=63, loss={'chord': tensor(0.9819, device='cuda:0', grad_fn=<NllLossBackward0>), 'velocity': tensor(0.5338, device='cuda:0', grad_fn=<NllLossBackward0>), 'polyphony': tensor(0.3770, device='cuda:0', grad_fn=<NllLossBackward0>), 'density': tensor(0.4016, device='cuda:0', grad_fn=<NllLossBackward0>), 'piano_roll': tensor(1.0523, device='cuda:0', grad_fn=<NllLoss2DBackward0>), 'total': tensor(3.3467, device='cuda:0', grad_fn=<AddBackward0>)}]  \n"
     ]
    },
    {
     "name": "stdout",
     "output_type": "stream",
     "text": [
      "Generated:  [{'type': 'pitch', 'value': 13}, {'type': 'velocity', 'value': 22}, {'type': 'pitch', 'value': 25}, {'type': 'velocity', 'value': 23}, {'type': 'pitch', 'value': 49}, {'type': 'velocity', 'value': 22}, {'type': 'pitch', 'value': 61}, {'type': 'velocity', 'value': 23}, 'next_frame', 'next_frame']\n",
      "Chords:  ['D#_M', 'D#_M', 'D#_M', 'D#_M', 'A#_m7', 'A#_m7', 'C#_M7', 'C#_M7', 'A#_sus4', 'A#_sus4', 'D#_M', 'D#_M', 'G#_M', 'G#_M', 'A#_M', 'A#_M', 'C_M', 'C_M', 'C_m7', 'C_m7', 'F_m', 'F_m', 'F_m', 'F_m', 'D#_M', 'D#_M', 'D#_M', 'D#_M', 'C_M', 'C_M', 'C_M', 'C_M']\n"
     ]
    },
    {
     "name": "stderr",
     "output_type": "stream",
     "text": [
      "100%|██████████| 10/10 [00:04<00:00,  2.40it/s]\n",
      " 81%|████████  | 6384/7864 [35:56<1:49:27,  4.44s/it, batch=6380, gpu_temp=63, loss={'chord': tensor(0.9819, device='cuda:0', grad_fn=<NllLossBackward0>), 'velocity': tensor(0.5338, device='cuda:0', grad_fn=<NllLossBackward0>), 'polyphony': tensor(0.3770, device='cuda:0', grad_fn=<NllLossBackward0>), 'density': tensor(0.4016, device='cuda:0', grad_fn=<NllLossBackward0>), 'piano_roll': tensor(1.0523, device='cuda:0', grad_fn=<NllLoss2DBackward0>), 'total': tensor(3.3467, device='cuda:0', grad_fn=<AddBackward0>)}]"
     ]
    },
    {
     "name": "stdout",
     "output_type": "stream",
     "text": [
      "Generated:  [{'type': 'pitch', 'value': 39}, {'type': 'velocity', 'value': 17}, {'type': 'pitch', 'value': 51}, {'type': 'velocity', 'value': 15}, {'type': 'pitch', 'value': 55}, {'type': 'velocity', 'value': 20}, 'next_frame', 'next_frame', 'next_frame', 'next_frame']\n",
      "Chords:  ['C_M7', 'C_M7', 'C_M7', 'C_M7', 'A_m7', 'A_m7', 'A_m7', 'A_m7', 'F_M', 'F_M', 'F_M', 'F_M', 'G_M', 'G_M', 'G_M', 'G_M', 'C_M7', 'C_M7', 'C_M7', 'C_M7', 'A_m7', 'A_m7', 'A_m7', 'A_m7', 'A_m7', 'A_m7', 'A_m7', 'A_m7', 'F_M', 'F_M', 'F_M', 'F_M']\n"
     ]
    },
    {
     "name": "stderr",
     "output_type": "stream",
     "text": [
      "100%|██████████| 16/16 [00:10<00:00,  1.60it/s]t/s, batch=6870, gpu_temp=62, loss={'chord': tensor(1.0676, device='cuda:0', grad_fn=<NllLossBackward0>), 'velocity': tensor(0.4886, device='cuda:0', grad_fn=<NllLossBackward0>), 'polyphony': tensor(0.3819, device='cuda:0', grad_fn=<NllLossBackward0>), 'density': tensor(0.4203, device='cuda:0', grad_fn=<NllLossBackward0>), 'piano_roll': tensor(1.0963, device='cuda:0', grad_fn=<NllLoss2DBackward0>), 'total': tensor(3.4547, device='cuda:0', grad_fn=<AddBackward0>)}]  \n"
     ]
    },
    {
     "name": "stdout",
     "output_type": "stream",
     "text": [
      "Generated:  [{'type': 'pitch', 'value': 22}, {'type': 'velocity', 'value': 19}, {'type': 'pitch', 'value': 34}, {'type': 'velocity', 'value': 22}, {'type': 'pitch', 'value': 50}, {'type': 'velocity', 'value': 23}, 'next_frame', 'next_frame', 'next_frame', 'next_frame']\n",
      "Chords:  ['A_M', 'A_M', 'A_M', 'A_M', 'F_M', 'F_M', 'F_M7', 'F_M7', 'A_m', 'A_m', 'A_m', 'A_m', 'E_7', 'E_7', 'E_7', 'E_7', 'A_m', 'A_m', 'A_m', 'A_m', 'A#_M', 'A#_M', 'A#_M', 'A#_M', 'A#_M', 'A#_M', 'A#_M', 'A#_M', 'E_m7', 'E_m7', 'E_m7', 'E_m7']\n"
     ]
    },
    {
     "name": "stderr",
     "output_type": "stream",
     "text": [
      "100%|██████████| 10/10 [00:04<00:00,  2.37it/s]\n",
      " 87%|████████▋ | 6875/7864 [38:37<1:15:45,  4.60s/it, batch=6870, gpu_temp=62, loss={'chord': tensor(1.0676, device='cuda:0', grad_fn=<NllLossBackward0>), 'velocity': tensor(0.4886, device='cuda:0', grad_fn=<NllLossBackward0>), 'polyphony': tensor(0.3819, device='cuda:0', grad_fn=<NllLossBackward0>), 'density': tensor(0.4203, device='cuda:0', grad_fn=<NllLossBackward0>), 'piano_roll': tensor(1.0963, device='cuda:0', grad_fn=<NllLoss2DBackward0>), 'total': tensor(3.4547, device='cuda:0', grad_fn=<AddBackward0>)}]"
     ]
    },
    {
     "name": "stdout",
     "output_type": "stream",
     "text": [
      "Generated:  [{'type': 'pitch', 'value': 39}, {'type': 'velocity', 'value': 17}, {'type': 'pitch', 'value': 51}, {'type': 'velocity', 'value': 15}, {'type': 'pitch', 'value': 55}, {'type': 'velocity', 'value': 20}, 'next_frame', 'next_frame', 'next_frame', 'next_frame']\n",
      "Chords:  ['C_M7', 'C_M7', 'C_M7', 'C_M7', 'A_m7', 'A_m7', 'A_m7', 'A_m7', 'F_M', 'F_M', 'F_M', 'F_M', 'G_M', 'G_M', 'G_M', 'G_M', 'C_M7', 'C_M7', 'C_M7', 'C_M7', 'A_m7', 'A_m7', 'A_m7', 'A_m7', 'F_M7', 'F_M7', 'F_M7', 'F_M7', 'G_7', 'G_7', 'G_M', 'G_M']\n"
     ]
    },
    {
     "name": "stderr",
     "output_type": "stream",
     "text": [
      "100%|██████████| 16/16 [00:08<00:00,  2.00it/s]t/s, batch=7360, gpu_temp=63, loss={'chord': tensor(1.0214, device='cuda:0', grad_fn=<NllLossBackward0>), 'velocity': tensor(0.5330, device='cuda:0', grad_fn=<NllLossBackward0>), 'polyphony': tensor(0.3166, device='cuda:0', grad_fn=<NllLossBackward0>), 'density': tensor(0.4055, device='cuda:0', grad_fn=<NllLossBackward0>), 'piano_roll': tensor(1.0983, device='cuda:0', grad_fn=<NllLoss2DBackward0>), 'total': tensor(3.3747, device='cuda:0', grad_fn=<AddBackward0>)}]  \n"
     ]
    },
    {
     "name": "stdout",
     "output_type": "stream",
     "text": [
      "Generated:  [{'type': 'pitch', 'value': 12}, {'type': 'velocity', 'value': 21}, {'type': 'pitch', 'value': 24}, {'type': 'velocity', 'value': 23}, {'type': 'pitch', 'value': 36}, {'type': 'velocity', 'value': 22}, 'next_frame', 'next_frame', 'next_frame', 'next_frame']\n",
      "Chords:  ['F_M', 'F_M', 'F_M', 'F_M', 'C_M', 'C_M', 'C_M', 'C_M', 'G_M', 'G_M', 'G_M', 'G_M', 'A_m7', 'A_m7', 'A_m7', 'A_m7', 'F_M', 'F_M', 'F_M', 'F_M', 'C_M', 'C_M', 'C_M', 'C_M', 'G_M', 'G_M', 'G_M', 'G_M', 'A_m', 'A_m', 'A_m', 'A_m']\n"
     ]
    },
    {
     "name": "stderr",
     "output_type": "stream",
     "text": [
      "100%|██████████| 10/10 [00:03<00:00,  2.53it/s]\n",
      " 94%|█████████▎| 7366/7864 [41:16<32:21,  3.90s/it, batch=7360, gpu_temp=63, loss={'chord': tensor(1.0214, device='cuda:0', grad_fn=<NllLossBackward0>), 'velocity': tensor(0.5330, device='cuda:0', grad_fn=<NllLossBackward0>), 'polyphony': tensor(0.3166, device='cuda:0', grad_fn=<NllLossBackward0>), 'density': tensor(0.4055, device='cuda:0', grad_fn=<NllLossBackward0>), 'piano_roll': tensor(1.0983, device='cuda:0', grad_fn=<NllLoss2DBackward0>), 'total': tensor(3.3747, device='cuda:0', grad_fn=<AddBackward0>)}]"
     ]
    },
    {
     "name": "stdout",
     "output_type": "stream",
     "text": [
      "Generated:  [{'type': 'pitch', 'value': 39}, {'type': 'velocity', 'value': 17}, {'type': 'pitch', 'value': 51}, {'type': 'velocity', 'value': 15}, {'type': 'pitch', 'value': 55}, {'type': 'velocity', 'value': 20}, 'next_frame', 'next_frame', 'next_frame', 'next_frame']\n",
      "Chords:  ['C_M7', 'C_M7', 'C_M7', 'C_M7', 'A_m7', 'A_m7', 'A_m7', 'A_m7', 'F_M', 'F_M', 'F_M', 'F_M', 'G_M', 'G_M', 'G_M', 'G_M', 'C_M7', 'C_M7', 'C_M7', 'C_M7', 'A_m7', 'A_m7', 'A_m7', 'A_m7', 'G_+', 'G_+', 'G_M', 'G_M', 'A_m7', 'A_m7', 'A_m7', 'A_m7']\n"
     ]
    },
    {
     "name": "stderr",
     "output_type": "stream",
     "text": [
      "100%|██████████| 16/16 [00:08<00:00,  1.84it/s]t/s, batch=7850, gpu_temp=63, loss={'chord': tensor(0.9235, device='cuda:0', grad_fn=<NllLossBackward0>), 'velocity': tensor(0.5121, device='cuda:0', grad_fn=<NllLossBackward0>), 'polyphony': tensor(0.3218, device='cuda:0', grad_fn=<NllLossBackward0>), 'density': tensor(0.3501, device='cuda:0', grad_fn=<NllLossBackward0>), 'piano_roll': tensor(1.0909, device='cuda:0', grad_fn=<NllLoss2DBackward0>), 'total': tensor(3.1984, device='cuda:0', grad_fn=<AddBackward0>)}]\n"
     ]
    },
    {
     "name": "stdout",
     "output_type": "stream",
     "text": [
      "Generated:  ['next_frame', 'next_frame', 'next_frame', 'next_frame', {'type': 'pitch', 'value': 22}, {'type': 'velocity', 'value': 20}, {'type': 'pitch', 'value': 50}, {'type': 'velocity', 'value': 23}, 'next_frame', 'next_frame']\n",
      "Chords:  ['G_M', 'G_M', 'G_7', 'G_7', 'A_m7', 'A_m7', 'A_m7', 'A_m7', 'E_m7', 'E_m7', 'E_m7', 'E_m7', 'F_M', 'F_M', 'F_M7', 'F_M7', 'G_M', 'G_M', 'G_M', 'G_M', 'C_M7', 'C_M7', 'C_M7', 'C_M7', 'C_M', 'C_M', 'C_M', 'C_M', 'C_M', 'C_M', 'C_M', 'C_M']\n"
     ]
    },
    {
     "name": "stderr",
     "output_type": "stream",
     "text": [
      "100%|██████████| 10/10 [00:03<00:00,  2.57it/s]\n",
      "100%|█████████▉| 7857/7864 [43:57<00:28,  4.12s/it, batch=7850, gpu_temp=63, loss={'chord': tensor(0.9235, device='cuda:0', grad_fn=<NllLossBackward0>), 'velocity': tensor(0.5121, device='cuda:0', grad_fn=<NllLossBackward0>), 'polyphony': tensor(0.3218, device='cuda:0', grad_fn=<NllLossBackward0>), 'density': tensor(0.3501, device='cuda:0', grad_fn=<NllLossBackward0>), 'piano_roll': tensor(1.0909, device='cuda:0', grad_fn=<NllLoss2DBackward0>), 'total': tensor(3.1984, device='cuda:0', grad_fn=<AddBackward0>)}]"
     ]
    },
    {
     "name": "stdout",
     "output_type": "stream",
     "text": [
      "Generated:  [{'type': 'pitch', 'value': 39}, {'type': 'velocity', 'value': 17}, {'type': 'pitch', 'value': 51}, {'type': 'velocity', 'value': 15}, {'type': 'pitch', 'value': 55}, {'type': 'velocity', 'value': 20}, 'next_frame', 'next_frame', 'next_frame', 'next_frame']\n",
      "Chords:  ['C_M7', 'C_M7', 'C_M7', 'C_M7', 'A_m7', 'A_m7', 'A_m7', 'A_m7', 'F_M', 'F_M', 'F_M', 'F_M', 'G_M', 'G_M', 'G_M', 'G_M', 'C_M7', 'C_M7', 'C_M7', 'C_M7', 'A_m7', 'A_m7', 'A_m7', 'A_m7', 'F_M', 'F_M', 'F_M', 'F_M', 'C_M7', 'C_M7', 'G_M', 'G_M']\n"
     ]
    },
    {
     "name": "stderr",
     "output_type": "stream",
     "text": [
      "100%|██████████| 7864/7864 [43:59<00:00,  2.98it/s, batch=7860, gpu_temp=59, loss={'chord': tensor(1.1044, device='cuda:0', grad_fn=<NllLossBackward0>), 'velocity': tensor(0.4853, device='cuda:0', grad_fn=<NllLossBackward0>), 'polyphony': tensor(0.3768, device='cuda:0', grad_fn=<NllLossBackward0>), 'density': tensor(0.3922, device='cuda:0', grad_fn=<NllLossBackward0>), 'piano_roll': tensor(1.0526, device='cuda:0', grad_fn=<NllLoss2DBackward0>), 'total': tensor(3.4114, device='cuda:0', grad_fn=<AddBackward0>)}]\n",
      "100%|██████████| 16/16 [00:08<00:00,  1.88it/s]/s, batch=490, gpu_temp=56, loss={'chord': tensor(1.0750, device='cuda:0', grad_fn=<NllLossBackward0>), 'velocity': tensor(0.4551, device='cuda:0', grad_fn=<NllLossBackward0>), 'polyphony': tensor(0.3293, device='cuda:0', grad_fn=<NllLossBackward0>), 'density': tensor(0.3743, device='cuda:0', grad_fn=<NllLossBackward0>), 'piano_roll': tensor(1.1050, device='cuda:0', grad_fn=<NllLoss2DBackward0>), 'total': tensor(3.3387, device='cuda:0', grad_fn=<AddBackward0>)}]\n"
     ]
    },
    {
     "name": "stdout",
     "output_type": "stream",
     "text": [
      "Generated:  [{'type': 'pitch', 'value': 26}, {'type': 'velocity', 'value': 20}, {'type': 'pitch', 'value': 41}, {'type': 'velocity', 'value': 22}, 'next_frame', 'next_frame', 'next_frame', 'next_frame', {'type': 'pitch', 'value': 34}, {'type': 'velocity', 'value': 18}]\n",
      "Chords:  ['A_m7', 'A_m7', 'F_M7', 'F_M7', 'G_M', 'G_M', 'C_M', 'C_M', 'F_M', 'F_M', 'G_M', 'G_M', 'C_M', 'C_M', 'C_M7', 'C_M7', 'G_M', 'G_M', 'E_m7', 'E_m7', 'A_m', 'A_m', 'C_M7', 'C_M7', 'F_M', 'F_M', 'C_M', 'C_M', 'G_M', 'G_M', 'C_M', 'C_M']\n"
     ]
    },
    {
     "name": "stderr",
     "output_type": "stream",
     "text": [
      "100%|██████████| 10/10 [00:03<00:00,  2.57it/s]\n",
      "  6%|▋         | 492/7864 [02:52<8:21:51,  4.08s/it, batch=490, gpu_temp=56, loss={'chord': tensor(1.0750, device='cuda:0', grad_fn=<NllLossBackward0>), 'velocity': tensor(0.4551, device='cuda:0', grad_fn=<NllLossBackward0>), 'polyphony': tensor(0.3293, device='cuda:0', grad_fn=<NllLossBackward0>), 'density': tensor(0.3743, device='cuda:0', grad_fn=<NllLossBackward0>), 'piano_roll': tensor(1.1050, device='cuda:0', grad_fn=<NllLoss2DBackward0>), 'total': tensor(3.3387, device='cuda:0', grad_fn=<AddBackward0>)}]"
     ]
    },
    {
     "name": "stdout",
     "output_type": "stream",
     "text": [
      "Generated:  [{'type': 'pitch', 'value': 39}, {'type': 'velocity', 'value': 17}, {'type': 'pitch', 'value': 51}, {'type': 'velocity', 'value': 15}, {'type': 'pitch', 'value': 55}, {'type': 'velocity', 'value': 20}, 'next_frame', 'next_frame', 'next_frame', 'next_frame']\n",
      "Chords:  ['C_M7', 'C_M7', 'C_M7', 'C_M7', 'A_m7', 'A_m7', 'A_m7', 'A_m7', 'F_M', 'F_M', 'F_M', 'F_M', 'G_M', 'G_M', 'G_M', 'G_M', 'C_M7', 'C_M7', 'C_M7', 'C_M7', 'A_m7', 'A_m7', 'A_m7', 'A_m7', 'F_M7', 'F_M7', 'F_M7', 'F_M7', 'F_M7', 'F_M7', 'F_M7', 'F_M7']\n"
     ]
    },
    {
     "name": "stderr",
     "output_type": "stream",
     "text": [
      "100%|██████████| 16/16 [00:09<00:00,  1.76it/s]/s, batch=980, gpu_temp=56, loss={'chord': tensor(0.9924, device='cuda:0', grad_fn=<NllLossBackward0>), 'velocity': tensor(0.4854, device='cuda:0', grad_fn=<NllLossBackward0>), 'polyphony': tensor(0.3100, device='cuda:0', grad_fn=<NllLossBackward0>), 'density': tensor(0.4234, device='cuda:0', grad_fn=<NllLossBackward0>), 'piano_roll': tensor(1.1264, device='cuda:0', grad_fn=<NllLoss2DBackward0>), 'total': tensor(3.3376, device='cuda:0', grad_fn=<AddBackward0>)}]  \n"
     ]
    },
    {
     "name": "stdout",
     "output_type": "stream",
     "text": [
      "Generated:  [{'type': 'pitch', 'value': 48}, {'type': 'velocity', 'value': 18}, {'type': 'pitch', 'value': 53}, {'type': 'velocity', 'value': 20}, {'type': 'pitch', 'value': 57}, {'type': 'velocity', 'value': 22}, {'type': 'pitch', 'value': 60}, {'type': 'velocity', 'value': 24}, 'next_frame', 'next_frame']\n",
      "Chords:  ['A_m7', 'A_m7', 'A_m7', 'A_m7', 'C_M', 'C_M', 'C_M', 'C_M', 'F_M7', 'F_M7', 'F_M7', 'F_M7', 'A_m', 'A_m', 'A_m', 'A_m', 'C_M', 'C_M', 'C_M', 'C_M', 'F_M7', 'F_M7', 'F_M7', 'F_M7', 'A_m7', 'A_m7', 'A_m7', 'A_m7', 'A_m', 'A_m', 'A_m', 'A_m']\n"
     ]
    },
    {
     "name": "stderr",
     "output_type": "stream",
     "text": [
      "100%|██████████| 10/10 [00:03<00:00,  2.76it/s]\n",
      " 12%|█▎        | 983/7864 [05:33<8:08:08,  4.26s/it, batch=980, gpu_temp=56, loss={'chord': tensor(0.9924, device='cuda:0', grad_fn=<NllLossBackward0>), 'velocity': tensor(0.4854, device='cuda:0', grad_fn=<NllLossBackward0>), 'polyphony': tensor(0.3100, device='cuda:0', grad_fn=<NllLossBackward0>), 'density': tensor(0.4234, device='cuda:0', grad_fn=<NllLossBackward0>), 'piano_roll': tensor(1.1264, device='cuda:0', grad_fn=<NllLoss2DBackward0>), 'total': tensor(3.3376, device='cuda:0', grad_fn=<AddBackward0>)}]"
     ]
    },
    {
     "name": "stdout",
     "output_type": "stream",
     "text": [
      "Generated:  [{'type': 'pitch', 'value': 39}, {'type': 'velocity', 'value': 17}, {'type': 'pitch', 'value': 51}, {'type': 'velocity', 'value': 15}, {'type': 'pitch', 'value': 55}, {'type': 'velocity', 'value': 20}, 'next_frame', 'next_frame', 'next_frame', 'next_frame']\n",
      "Chords:  ['C_M7', 'C_M7', 'C_M7', 'C_M7', 'A_m7', 'A_m7', 'A_m7', 'A_m7', 'F_M', 'F_M', 'F_M', 'F_M', 'G_M', 'G_M', 'G_M', 'G_M', 'C_M7', 'C_M7', 'C_M7', 'C_M7', 'A_m7', 'A_m7', 'A_m7', 'A_m7', 'A_m7', 'A_m7', 'A_m7', 'A_m7', 'F_M7', 'F_M7', 'F_M7', 'F_M7']\n"
     ]
    },
    {
     "name": "stderr",
     "output_type": "stream",
     "text": [
      "100%|██████████| 16/16 [00:09<00:00,  1.67it/s]t/s, batch=1470, gpu_temp=63, loss={'chord': tensor(0.9869, device='cuda:0', grad_fn=<NllLossBackward0>), 'velocity': tensor(0.4932, device='cuda:0', grad_fn=<NllLossBackward0>), 'polyphony': tensor(0.3613, device='cuda:0', grad_fn=<NllLossBackward0>), 'density': tensor(0.4227, device='cuda:0', grad_fn=<NllLossBackward0>), 'piano_roll': tensor(1.1228, device='cuda:0', grad_fn=<NllLoss2DBackward0>), 'total': tensor(3.3869, device='cuda:0', grad_fn=<AddBackward0>)}]\n"
     ]
    },
    {
     "name": "stdout",
     "output_type": "stream",
     "text": [
      "Generated:  [{'type': 'pitch', 'value': 22}, {'type': 'velocity', 'value': 18}, {'type': 'pitch', 'value': 34}, {'type': 'velocity', 'value': 21}, {'type': 'pitch', 'value': 58}, {'type': 'velocity', 'value': 23}, {'type': 'pitch', 'value': 65}, {'type': 'velocity', 'value': 22}, 'next_frame', 'next_frame']\n",
      "Chords:  ['E_M', 'E_M', 'E_sus4', 'E_M', 'A_m', 'A_m', 'A_m', 'A_m', 'E_m', 'E_m', 'E_m', 'E_m', 'F_M7', 'F_M7', 'F_M7', 'F_M7', 'C_M', 'C_M', 'C_M', 'C_M', 'D_m', 'D_m', 'D_m', 'D_m', 'G_7', 'G_7', 'G_7', 'G_7', 'C_M', 'C_M', 'C_M', 'C_M']\n"
     ]
    },
    {
     "name": "stderr",
     "output_type": "stream",
     "text": [
      "100%|██████████| 10/10 [00:03<00:00,  2.64it/s]\n",
      " 19%|█▊        | 1474/7864 [08:13<7:42:46,  4.35s/it, batch=1470, gpu_temp=63, loss={'chord': tensor(0.9869, device='cuda:0', grad_fn=<NllLossBackward0>), 'velocity': tensor(0.4932, device='cuda:0', grad_fn=<NllLossBackward0>), 'polyphony': tensor(0.3613, device='cuda:0', grad_fn=<NllLossBackward0>), 'density': tensor(0.4227, device='cuda:0', grad_fn=<NllLossBackward0>), 'piano_roll': tensor(1.1228, device='cuda:0', grad_fn=<NllLoss2DBackward0>), 'total': tensor(3.3869, device='cuda:0', grad_fn=<AddBackward0>)}]"
     ]
    },
    {
     "name": "stdout",
     "output_type": "stream",
     "text": [
      "Generated:  [{'type': 'pitch', 'value': 39}, {'type': 'velocity', 'value': 17}, {'type': 'pitch', 'value': 51}, {'type': 'velocity', 'value': 15}, {'type': 'pitch', 'value': 55}, {'type': 'velocity', 'value': 20}, 'next_frame', 'next_frame', 'next_frame', 'next_frame']\n",
      "Chords:  ['C_M7', 'C_M7', 'C_M7', 'C_M7', 'A_m7', 'A_m7', 'A_m7', 'A_m7', 'F_M', 'F_M', 'F_M', 'F_M', 'G_M', 'G_M', 'G_M', 'G_M', 'C_M7', 'C_M7', 'C_M7', 'C_M7', 'A_m7', 'A_m7', 'A_m7', 'A_m7', 'A_m7', 'A_m7', 'A_m7', 'A_m7', 'F_M', 'F_M', 'F_M', 'F_M']\n"
     ]
    },
    {
     "name": "stderr",
     "output_type": "stream",
     "text": [
      "100%|██████████| 16/16 [00:12<00:00,  1.29it/s]t/s, batch=1960, gpu_temp=61, loss={'chord': tensor(0.9374, device='cuda:0', grad_fn=<NllLossBackward0>), 'velocity': tensor(0.4577, device='cuda:0', grad_fn=<NllLossBackward0>), 'polyphony': tensor(0.2962, device='cuda:0', grad_fn=<NllLossBackward0>), 'density': tensor(0.4138, device='cuda:0', grad_fn=<NllLossBackward0>), 'piano_roll': tensor(1.0266, device='cuda:0', grad_fn=<NllLoss2DBackward0>), 'total': tensor(3.1317, device='cuda:0', grad_fn=<AddBackward0>)}]  \n"
     ]
    },
    {
     "name": "stdout",
     "output_type": "stream",
     "text": [
      "Generated:  [{'type': 'pitch', 'value': 32}, {'type': 'velocity', 'value': 19}, {'type': 'pitch', 'value': 55}, {'type': 'velocity', 'value': 22}, 'next_frame', 'next_frame', 'next_frame', 'next_frame', {'type': 'pitch', 'value': 39}, {'type': 'velocity', 'value': 18}]\n",
      "Chords:  ['F_M', 'F_M', 'F_M7', 'F_M7', 'C_M', 'C_M', 'C_M', 'C_M', 'E_m7', 'E_m7', 'E_m7', 'E_m7', 'E_m7', 'E_m7', 'E_m7', 'E_m7', 'E_m7', 'E_m7', 'E_m7', 'E_m7', 'A_m', 'A_m', 'A_m', 'A_m', 'F_M7', 'F_M7', 'F_M7', 'F_M7', 'F_M', 'F_M', 'F_M7', 'F_M7']\n"
     ]
    },
    {
     "name": "stderr",
     "output_type": "stream",
     "text": [
      "100%|██████████| 10/10 [00:04<00:00,  2.24it/s]\n",
      " 25%|██▍       | 1965/7864 [10:57<8:52:18,  5.41s/it, batch=1960, gpu_temp=61, loss={'chord': tensor(0.9374, device='cuda:0', grad_fn=<NllLossBackward0>), 'velocity': tensor(0.4577, device='cuda:0', grad_fn=<NllLossBackward0>), 'polyphony': tensor(0.2962, device='cuda:0', grad_fn=<NllLossBackward0>), 'density': tensor(0.4138, device='cuda:0', grad_fn=<NllLossBackward0>), 'piano_roll': tensor(1.0266, device='cuda:0', grad_fn=<NllLoss2DBackward0>), 'total': tensor(3.1317, device='cuda:0', grad_fn=<AddBackward0>)}]"
     ]
    },
    {
     "name": "stdout",
     "output_type": "stream",
     "text": [
      "Generated:  [{'type': 'pitch', 'value': 39}, {'type': 'velocity', 'value': 17}, {'type': 'pitch', 'value': 51}, {'type': 'velocity', 'value': 15}, {'type': 'pitch', 'value': 55}, {'type': 'velocity', 'value': 20}, 'next_frame', 'next_frame', 'next_frame', 'next_frame']\n",
      "Chords:  ['C_M7', 'C_M7', 'C_M7', 'C_M7', 'A_m7', 'A_m7', 'A_m7', 'A_m7', 'F_M', 'F_M', 'F_M', 'F_M', 'G_M', 'G_M', 'G_M', 'G_M', 'C_M7', 'C_M7', 'C_M7', 'C_M7', 'A_m7', 'A_m7', 'A_m7', 'A_m7', 'C_M7', 'C_M7', 'C_M7', 'C_M7', 'C_M7', 'C_M7', 'C_M', 'C_M']\n"
     ]
    },
    {
     "name": "stderr",
     "output_type": "stream",
     "text": [
      "100%|██████████| 16/16 [00:08<00:00,  1.83it/s]t/s, batch=2450, gpu_temp=56, loss={'chord': tensor(1.0058, device='cuda:0', grad_fn=<NllLossBackward0>), 'velocity': tensor(0.4229, device='cuda:0', grad_fn=<NllLossBackward0>), 'polyphony': tensor(0.3356, device='cuda:0', grad_fn=<NllLossBackward0>), 'density': tensor(0.4388, device='cuda:0', grad_fn=<NllLossBackward0>), 'piano_roll': tensor(1.0383, device='cuda:0', grad_fn=<NllLoss2DBackward0>), 'total': tensor(3.2414, device='cuda:0', grad_fn=<AddBackward0>)}]  \n"
     ]
    },
    {
     "name": "stdout",
     "output_type": "stream",
     "text": [
      "Generated:  [{'type': 'pitch', 'value': 34}, {'type': 'velocity', 'value': 20}, {'type': 'pitch', 'value': 46}, {'type': 'velocity', 'value': 20}, {'type': 'pitch', 'value': 53}, {'type': 'velocity', 'value': 20}, 'next_frame', 'next_frame', 'next_frame', 'next_frame']\n",
      "Chords:  ['A_m7', 'A_m7', 'A_m7', 'A_m7', 'A_m7', 'A_m7', 'A_m7', 'A_m7', 'G_M', 'G_M', 'G_M', 'G_M', 'F_M7', 'F_M7', 'F_M', 'F_M', 'C_M', 'C_M', 'C_M7', 'C_M7', 'A_m', 'A_m', 'A_m', 'A_m', 'A_m', 'A_m', 'A_m', 'A_m', 'A_m7', 'A_m7', 'A_m7', 'A_m7']\n"
     ]
    },
    {
     "name": "stderr",
     "output_type": "stream",
     "text": [
      "100%|██████████| 10/10 [00:04<00:00,  2.43it/s]\n",
      " 31%|███       | 2456/7864 [13:36<6:22:16,  4.24s/it, batch=2450, gpu_temp=56, loss={'chord': tensor(1.0058, device='cuda:0', grad_fn=<NllLossBackward0>), 'velocity': tensor(0.4229, device='cuda:0', grad_fn=<NllLossBackward0>), 'polyphony': tensor(0.3356, device='cuda:0', grad_fn=<NllLossBackward0>), 'density': tensor(0.4388, device='cuda:0', grad_fn=<NllLossBackward0>), 'piano_roll': tensor(1.0383, device='cuda:0', grad_fn=<NllLoss2DBackward0>), 'total': tensor(3.2414, device='cuda:0', grad_fn=<AddBackward0>)}]"
     ]
    },
    {
     "name": "stdout",
     "output_type": "stream",
     "text": [
      "Generated:  [{'type': 'pitch', 'value': 39}, {'type': 'velocity', 'value': 17}, {'type': 'pitch', 'value': 51}, {'type': 'velocity', 'value': 15}, {'type': 'pitch', 'value': 55}, {'type': 'velocity', 'value': 20}, 'next_frame', 'next_frame', 'next_frame', 'next_frame']\n",
      "Chords:  ['C_M7', 'C_M7', 'C_M7', 'C_M7', 'A_m7', 'A_m7', 'A_m7', 'A_m7', 'F_M', 'F_M', 'F_M', 'F_M', 'G_M', 'G_M', 'G_M', 'G_M', 'C_M7', 'C_M7', 'C_M7', 'C_M7', 'A_m7', 'A_m7', 'A_m7', 'A_m7', 'C_M7', 'C_M7', 'C_M7', 'C_M7', 'C_M7', 'C_M7', 'C_M7', 'C_M7']\n"
     ]
    },
    {
     "name": "stderr",
     "output_type": "stream",
     "text": [
      "100%|██████████| 16/16 [00:10<00:00,  1.53it/s]t/s, batch=2940, gpu_temp=56, loss={'chord': tensor(0.9897, device='cuda:0', grad_fn=<NllLossBackward0>), 'velocity': tensor(0.5059, device='cuda:0', grad_fn=<NllLossBackward0>), 'polyphony': tensor(0.3160, device='cuda:0', grad_fn=<NllLossBackward0>), 'density': tensor(0.4709, device='cuda:0', grad_fn=<NllLossBackward0>), 'piano_roll': tensor(1.0728, device='cuda:0', grad_fn=<NllLoss2DBackward0>), 'total': tensor(3.3554, device='cuda:0', grad_fn=<AddBackward0>)}]  \n"
     ]
    },
    {
     "name": "stdout",
     "output_type": "stream",
     "text": [
      "Generated:  [{'type': 'pitch', 'value': 27}, {'type': 'velocity', 'value': 18}, {'type': 'pitch', 'value': 34}, {'type': 'velocity', 'value': 18}, {'type': 'pitch', 'value': 39}, {'type': 'velocity', 'value': 17}, {'type': 'pitch', 'value': 43}, {'type': 'velocity', 'value': 20}, 'next_frame', 'next_frame']\n",
      "Chords:  ['D_m7', 'D_m7', 'D_m7', 'D_m7', 'E_m', 'E_m', 'E_m', 'E_m', 'A_M', 'A_M', 'A_M', 'A_M', 'D_m', 'D_m', 'D_m7', 'D_m7', 'E_M', 'E_M', 'E_m', 'E_m', 'A_sus2', 'A_sus2', 'A_M', 'A_M', 'A_M', 'A_M', 'A_M', 'A_M', 'D_m', 'D_m', 'D_m', 'D_m']\n"
     ]
    },
    {
     "name": "stderr",
     "output_type": "stream",
     "text": [
      "100%|██████████| 10/10 [00:04<00:00,  2.48it/s]\n",
      " 37%|███▋      | 2947/7864 [16:19<6:22:43,  4.67s/it, batch=2940, gpu_temp=56, loss={'chord': tensor(0.9897, device='cuda:0', grad_fn=<NllLossBackward0>), 'velocity': tensor(0.5059, device='cuda:0', grad_fn=<NllLossBackward0>), 'polyphony': tensor(0.3160, device='cuda:0', grad_fn=<NllLossBackward0>), 'density': tensor(0.4709, device='cuda:0', grad_fn=<NllLossBackward0>), 'piano_roll': tensor(1.0728, device='cuda:0', grad_fn=<NllLoss2DBackward0>), 'total': tensor(3.3554, device='cuda:0', grad_fn=<AddBackward0>)}]"
     ]
    },
    {
     "name": "stdout",
     "output_type": "stream",
     "text": [
      "Generated:  [{'type': 'pitch', 'value': 39}, {'type': 'velocity', 'value': 17}, {'type': 'pitch', 'value': 51}, {'type': 'velocity', 'value': 15}, {'type': 'pitch', 'value': 55}, {'type': 'velocity', 'value': 20}, 'next_frame', 'next_frame', 'next_frame', 'next_frame']\n",
      "Chords:  ['C_M7', 'C_M7', 'C_M7', 'C_M7', 'A_m7', 'A_m7', 'A_m7', 'A_m7', 'F_M', 'F_M', 'F_M', 'F_M', 'G_M', 'G_M', 'G_M', 'G_M', 'C_M7', 'C_M7', 'C_M7', 'C_M7', 'A_m7', 'A_m7', 'A_m7', 'A_m7', 'A_m7', 'A_m7', 'A_m7', 'A_m7', 'F_M7', 'F_M7', 'F_M', 'F_M']\n"
     ]
    },
    {
     "name": "stderr",
     "output_type": "stream",
     "text": [
      "100%|██████████| 16/16 [00:09<00:00,  1.76it/s]t/s, batch=3430, gpu_temp=62, loss={'chord': tensor(0.9442, device='cuda:0', grad_fn=<NllLossBackward0>), 'velocity': tensor(0.4110, device='cuda:0', grad_fn=<NllLossBackward0>), 'polyphony': tensor(0.3620, device='cuda:0', grad_fn=<NllLossBackward0>), 'density': tensor(0.4191, device='cuda:0', grad_fn=<NllLossBackward0>), 'piano_roll': tensor(1.0372, device='cuda:0', grad_fn=<NllLoss2DBackward0>), 'total': tensor(3.1735, device='cuda:0', grad_fn=<AddBackward0>)}]  \n"
     ]
    },
    {
     "name": "stdout",
     "output_type": "stream",
     "text": [
      "Generated:  [{'type': 'pitch', 'value': 24}, {'type': 'velocity', 'value': 20}, {'type': 'pitch', 'value': 51}, {'type': 'velocity', 'value': 21}, {'type': 'pitch', 'value': 55}, {'type': 'velocity', 'value': 20}, {'type': 'pitch', 'value': 58}, {'type': 'velocity', 'value': 23}, 'next_frame', 'next_frame']\n",
      "Chords:  ['C_M', 'C_M', 'C_M', 'C_M', 'G_M', 'G_M', 'G_M', 'G_M', 'A_m', 'A_m', 'A_m', 'A_m', 'F_M7', 'F_M7', 'F_M7', 'F_M7', 'C_M', 'C_M', 'C_M', 'C_M', 'G_M', 'G_M', 'G_M', 'G_M', 'A_m', 'A_m', 'A_m7', 'A_m7', 'F_M7', 'F_M7', 'F_M7', 'F_M7']\n"
     ]
    },
    {
     "name": "stderr",
     "output_type": "stream",
     "text": [
      "100%|██████████| 10/10 [00:03<00:00,  2.77it/s]\n",
      " 44%|████▎     | 3438/7864 [18:59<5:08:39,  4.18s/it, batch=3430, gpu_temp=62, loss={'chord': tensor(0.9442, device='cuda:0', grad_fn=<NllLossBackward0>), 'velocity': tensor(0.4110, device='cuda:0', grad_fn=<NllLossBackward0>), 'polyphony': tensor(0.3620, device='cuda:0', grad_fn=<NllLossBackward0>), 'density': tensor(0.4191, device='cuda:0', grad_fn=<NllLossBackward0>), 'piano_roll': tensor(1.0372, device='cuda:0', grad_fn=<NllLoss2DBackward0>), 'total': tensor(3.1735, device='cuda:0', grad_fn=<AddBackward0>)}]"
     ]
    },
    {
     "name": "stdout",
     "output_type": "stream",
     "text": [
      "Generated:  [{'type': 'pitch', 'value': 39}, {'type': 'velocity', 'value': 17}, {'type': 'pitch', 'value': 51}, {'type': 'velocity', 'value': 15}, {'type': 'pitch', 'value': 55}, {'type': 'velocity', 'value': 20}, 'next_frame', 'next_frame', 'next_frame', 'next_frame']\n",
      "Chords:  ['C_M7', 'C_M7', 'C_M7', 'C_M7', 'A_m7', 'A_m7', 'A_m7', 'A_m7', 'F_M', 'F_M', 'F_M', 'F_M', 'G_M', 'G_M', 'G_M', 'G_M', 'C_M7', 'C_M7', 'C_M7', 'C_M7', 'A_m7', 'A_m7', 'A_m7', 'A_m7', 'A_m7', 'A_m7', 'A_m7', 'A_m7', 'F_M7', 'F_M7', 'F_M7', 'F_M7']\n"
     ]
    },
    {
     "name": "stderr",
     "output_type": "stream",
     "text": [
      "100%|██████████| 16/16 [00:07<00:00,  2.05it/s]t/s, batch=3920, gpu_temp=61, loss={'chord': tensor(0.8954, device='cuda:0', grad_fn=<NllLossBackward0>), 'velocity': tensor(0.4928, device='cuda:0', grad_fn=<NllLossBackward0>), 'polyphony': tensor(0.3355, device='cuda:0', grad_fn=<NllLossBackward0>), 'density': tensor(0.3719, device='cuda:0', grad_fn=<NllLossBackward0>), 'piano_roll': tensor(1.1474, device='cuda:0', grad_fn=<NllLoss2DBackward0>), 'total': tensor(3.2430, device='cuda:0', grad_fn=<AddBackward0>)}]  \n"
     ]
    },
    {
     "name": "stdout",
     "output_type": "stream",
     "text": [
      "Generated:  [{'type': 'pitch', 'value': 31}, {'type': 'velocity', 'value': 19}, 'next_frame', 'next_frame', 'next_frame', 'next_frame', {'type': 'pitch', 'value': 34}, {'type': 'velocity', 'value': 18}, {'type': 'pitch', 'value': 51}, {'type': 'velocity', 'value': 21}]\n",
      "Chords:  ['D_M', 'D_M', 'D_M', 'D_M', 'D_M', 'D_M', 'D_M', 'D_M', 'F_M', 'F_M', 'F_M7', 'F_M7', 'G_M', 'G_M', 'G_M', 'G_M', 'None', 'None', 'None', 'None', 'None', 'None', 'None', 'None', 'B_m7', 'B_m7', 'B_sus4', 'B_m7', 'B_m', 'B_m', 'B_m7', 'B_m7']\n"
     ]
    },
    {
     "name": "stderr",
     "output_type": "stream",
     "text": [
      "100%|██████████| 10/10 [00:05<00:00,  1.97it/s]\n",
      " 50%|████▉     | 3929/7864 [21:40<4:34:08,  4.18s/it, batch=3920, gpu_temp=61, loss={'chord': tensor(0.8954, device='cuda:0', grad_fn=<NllLossBackward0>), 'velocity': tensor(0.4928, device='cuda:0', grad_fn=<NllLossBackward0>), 'polyphony': tensor(0.3355, device='cuda:0', grad_fn=<NllLossBackward0>), 'density': tensor(0.3719, device='cuda:0', grad_fn=<NllLossBackward0>), 'piano_roll': tensor(1.1474, device='cuda:0', grad_fn=<NllLoss2DBackward0>), 'total': tensor(3.2430, device='cuda:0', grad_fn=<AddBackward0>)}]"
     ]
    },
    {
     "name": "stdout",
     "output_type": "stream",
     "text": [
      "Generated:  [{'type': 'pitch', 'value': 39}, {'type': 'velocity', 'value': 17}, {'type': 'pitch', 'value': 51}, {'type': 'velocity', 'value': 15}, {'type': 'pitch', 'value': 55}, {'type': 'velocity', 'value': 20}, 'next_frame', 'next_frame', 'next_frame', 'next_frame']\n",
      "Chords:  ['C_M7', 'C_M7', 'C_M7', 'C_M7', 'A_m7', 'A_m7', 'A_m7', 'A_m7', 'F_M', 'F_M', 'F_M', 'F_M', 'G_M', 'G_M', 'G_M', 'G_M', 'C_M7', 'C_M7', 'C_M7', 'C_M7', 'A_m7', 'A_m7', 'A_m7', 'A_m7', 'C_M7', 'C_M7', 'C_M7', 'C_M7', 'B_o', 'B_o', 'B_o', 'B_o']\n"
     ]
    },
    {
     "name": "stderr",
     "output_type": "stream",
     "text": [
      "100%|██████████| 16/16 [00:09<00:00,  1.77it/s]t/s, batch=4410, gpu_temp=56, loss={'chord': tensor(0.9023, device='cuda:0', grad_fn=<NllLossBackward0>), 'velocity': tensor(0.4768, device='cuda:0', grad_fn=<NllLossBackward0>), 'polyphony': tensor(0.2907, device='cuda:0', grad_fn=<NllLossBackward0>), 'density': tensor(0.4220, device='cuda:0', grad_fn=<NllLossBackward0>), 'piano_roll': tensor(1.0942, device='cuda:0', grad_fn=<NllLoss2DBackward0>), 'total': tensor(3.1860, device='cuda:0', grad_fn=<AddBackward0>)}]  \n"
     ]
    },
    {
     "name": "stdout",
     "output_type": "stream",
     "text": [
      "Generated:  [{'type': 'pitch', 'value': 17}, {'type': 'velocity', 'value': 20}, {'type': 'pitch', 'value': 29}, {'type': 'velocity', 'value': 22}, {'type': 'pitch', 'value': 53}, {'type': 'velocity', 'value': 21}, {'type': 'pitch', 'value': 57}, {'type': 'velocity', 'value': 22}, {'type': 'pitch', 'value': 63}, {'type': 'velocity', 'value': 23}]\n",
      "Chords:  ['A_m', 'A_m', 'E_m7', 'E_m7', 'F_M7', 'F_M7', 'C_M7', 'C_M7', 'D_m7', 'D_m7', 'G_M', 'G_M', 'C_M', 'C_M', 'C_+', 'C_+', 'A_m', 'A_m', 'G_M', 'G_M', 'F_M7', 'F_M7', 'C_M', 'C_M', 'D_m7', 'D_m7', 'G_M', 'G_M', 'C_M', 'C_M', 'G_M', 'G_M']\n"
     ]
    },
    {
     "name": "stderr",
     "output_type": "stream",
     "text": [
      "100%|██████████| 10/10 [00:03<00:00,  2.66it/s]\n",
      " 56%|█████▌    | 4420/7864 [24:21<3:59:20,  4.17s/it, batch=4410, gpu_temp=56, loss={'chord': tensor(0.9023, device='cuda:0', grad_fn=<NllLossBackward0>), 'velocity': tensor(0.4768, device='cuda:0', grad_fn=<NllLossBackward0>), 'polyphony': tensor(0.2907, device='cuda:0', grad_fn=<NllLossBackward0>), 'density': tensor(0.4220, device='cuda:0', grad_fn=<NllLossBackward0>), 'piano_roll': tensor(1.0942, device='cuda:0', grad_fn=<NllLoss2DBackward0>), 'total': tensor(3.1860, device='cuda:0', grad_fn=<AddBackward0>)}]"
     ]
    },
    {
     "name": "stdout",
     "output_type": "stream",
     "text": [
      "Generated:  [{'type': 'pitch', 'value': 39}, {'type': 'velocity', 'value': 17}, {'type': 'pitch', 'value': 51}, {'type': 'velocity', 'value': 15}, {'type': 'pitch', 'value': 55}, {'type': 'velocity', 'value': 20}, 'next_frame', 'next_frame', 'next_frame', 'next_frame']\n",
      "Chords:  ['C_M7', 'C_M7', 'C_M7', 'C_M7', 'A_m7', 'A_m7', 'A_m7', 'A_m7', 'F_M', 'F_M', 'F_M', 'F_M', 'G_M', 'G_M', 'G_M', 'G_M', 'C_M7', 'C_M7', 'C_M7', 'C_M7', 'A_m7', 'A_m7', 'A_m7', 'A_m7', 'C_M7', 'C_M7', 'C_M7', 'C_M7', 'G_M', 'G_M', 'G_M', 'G_M']\n"
     ]
    },
    {
     "name": "stderr",
     "output_type": "stream",
     "text": [
      "100%|██████████| 16/16 [00:08<00:00,  1.89it/s]t/s, batch=4910, gpu_temp=63, loss={'chord': tensor(1.0503, device='cuda:0', grad_fn=<NllLossBackward0>), 'velocity': tensor(0.4684, device='cuda:0', grad_fn=<NllLossBackward0>), 'polyphony': tensor(0.3314, device='cuda:0', grad_fn=<NllLossBackward0>), 'density': tensor(0.3978, device='cuda:0', grad_fn=<NllLossBackward0>), 'piano_roll': tensor(1.0190, device='cuda:0', grad_fn=<NllLoss2DBackward0>), 'total': tensor(3.2669, device='cuda:0', grad_fn=<AddBackward0>)}]  \n"
     ]
    },
    {
     "name": "stdout",
     "output_type": "stream",
     "text": [
      "Generated:  [{'type': 'pitch', 'value': 19}, {'type': 'velocity', 'value': 20}, {'type': 'pitch', 'value': 31}, {'type': 'velocity', 'value': 21}, {'type': 'pitch', 'value': 43}, {'type': 'velocity', 'value': 20}, {'type': 'pitch', 'value': 47}, {'type': 'velocity', 'value': 20}, {'type': 'pitch', 'value': 53}, {'type': 'velocity', 'value': 22}]\n",
      "Chords:  ['F_M', 'F_M', 'F_M', 'F_M', 'G_M', 'G_M', 'G_sus4', 'G_sus4', 'G_M', 'G_M', 'G_M', 'G_M', 'G_7', 'G_7', 'G_7', 'G_7', 'C_M', 'C_M', 'C_M', 'C_M', 'F_M', 'F_M', 'F_M7', 'F_M7', 'C_M', 'C_M', 'C_M', 'C_M', 'C_M', 'C_M', 'C_M', 'C_M']\n"
     ]
    },
    {
     "name": "stderr",
     "output_type": "stream",
     "text": [
      "100%|██████████| 10/10 [00:03<00:00,  2.65it/s]\n",
      " 62%|██████▏   | 4911/7864 [27:03<3:15:36,  3.97s/it, batch=4910, gpu_temp=63, loss={'chord': tensor(1.0503, device='cuda:0', grad_fn=<NllLossBackward0>), 'velocity': tensor(0.4684, device='cuda:0', grad_fn=<NllLossBackward0>), 'polyphony': tensor(0.3314, device='cuda:0', grad_fn=<NllLossBackward0>), 'density': tensor(0.3978, device='cuda:0', grad_fn=<NllLossBackward0>), 'piano_roll': tensor(1.0190, device='cuda:0', grad_fn=<NllLoss2DBackward0>), 'total': tensor(3.2669, device='cuda:0', grad_fn=<AddBackward0>)}]"
     ]
    },
    {
     "name": "stdout",
     "output_type": "stream",
     "text": [
      "Generated:  [{'type': 'pitch', 'value': 39}, {'type': 'velocity', 'value': 17}, {'type': 'pitch', 'value': 51}, {'type': 'velocity', 'value': 15}, {'type': 'pitch', 'value': 55}, {'type': 'velocity', 'value': 20}, 'next_frame', 'next_frame', 'next_frame', 'next_frame']\n",
      "Chords:  ['C_M7', 'C_M7', 'C_M7', 'C_M7', 'A_m7', 'A_m7', 'A_m7', 'A_m7', 'F_M', 'F_M', 'F_M', 'F_M', 'G_M', 'G_M', 'G_M', 'G_M', 'C_M7', 'C_M7', 'C_M7', 'C_M7', 'A_m7', 'A_m7', 'A_m7', 'A_m7', 'F_M7', 'F_M7', 'F_M7', 'F_M7', 'G_sus4', 'G_sus4', 'G_M', 'G_M']\n"
     ]
    },
    {
     "name": "stderr",
     "output_type": "stream",
     "text": [
      "100%|██████████| 16/16 [00:09<00:00,  1.69it/s]t/s, batch=5400, gpu_temp=56, loss={'chord': tensor(0.9989, device='cuda:0', grad_fn=<NllLossBackward0>), 'velocity': tensor(0.5050, device='cuda:0', grad_fn=<NllLossBackward0>), 'polyphony': tensor(0.3382, device='cuda:0', grad_fn=<NllLossBackward0>), 'density': tensor(0.4291, device='cuda:0', grad_fn=<NllLossBackward0>), 'piano_roll': tensor(1.1219, device='cuda:0', grad_fn=<NllLoss2DBackward0>), 'total': tensor(3.3930, device='cuda:0', grad_fn=<AddBackward0>)}]  \n"
     ]
    },
    {
     "name": "stdout",
     "output_type": "stream",
     "text": [
      "Generated:  [{'type': 'pitch', 'value': 20}, {'type': 'velocity', 'value': 20}, {'type': 'pitch', 'value': 32}, {'type': 'velocity', 'value': 22}, 'next_frame', 'next_frame', 'next_frame', 'next_frame', {'type': 'pitch', 'value': 27}, {'type': 'velocity', 'value': 20}]\n",
      "Chords:  ['A_M', 'A_M', 'F_M7', 'F_M7', 'C_M', 'C_M', 'C_M7', 'C_M7', 'A_m', 'A_m', 'F_M7', 'F_M7', 'C_M', 'C_M', 'C_M7', 'C_M7', 'G_M', 'G_M', 'A_M', 'A_M', 'D_m7', 'D_m7', 'D_m7', 'D_m7', 'C_M', 'C_M', 'C_M', 'C_M', 'G_M', 'G_M', 'C_M', 'C_M']\n"
     ]
    },
    {
     "name": "stderr",
     "output_type": "stream",
     "text": [
      "100%|██████████| 10/10 [00:04<00:00,  2.45it/s]\n",
      " 69%|██████▊   | 5402/7864 [29:47<3:01:17,  4.42s/it, batch=5400, gpu_temp=56, loss={'chord': tensor(0.9989, device='cuda:0', grad_fn=<NllLossBackward0>), 'velocity': tensor(0.5050, device='cuda:0', grad_fn=<NllLossBackward0>), 'polyphony': tensor(0.3382, device='cuda:0', grad_fn=<NllLossBackward0>), 'density': tensor(0.4291, device='cuda:0', grad_fn=<NllLossBackward0>), 'piano_roll': tensor(1.1219, device='cuda:0', grad_fn=<NllLoss2DBackward0>), 'total': tensor(3.3930, device='cuda:0', grad_fn=<AddBackward0>)}]"
     ]
    },
    {
     "name": "stdout",
     "output_type": "stream",
     "text": [
      "Generated:  [{'type': 'pitch', 'value': 39}, {'type': 'velocity', 'value': 17}, {'type': 'pitch', 'value': 51}, {'type': 'velocity', 'value': 15}, {'type': 'pitch', 'value': 55}, {'type': 'velocity', 'value': 20}, 'next_frame', 'next_frame', 'next_frame', 'next_frame']\n",
      "Chords:  ['C_M7', 'C_M7', 'C_M7', 'C_M7', 'A_m7', 'A_m7', 'A_m7', 'A_m7', 'F_M', 'F_M', 'F_M', 'F_M', 'G_M', 'G_M', 'G_M', 'G_M', 'C_M7', 'C_M7', 'C_M7', 'C_M7', 'A_m7', 'A_m7', 'A_m7', 'A_m7', 'C_M7', 'C_M7', 'C_M7', 'C_M7', 'G_M', 'G_M', 'G_M', 'G_M']\n"
     ]
    },
    {
     "name": "stderr",
     "output_type": "stream",
     "text": [
      "100%|██████████| 16/16 [00:09<00:00,  1.73it/s]t/s, batch=5890, gpu_temp=63, loss={'chord': tensor(0.9480, device='cuda:0', grad_fn=<NllLossBackward0>), 'velocity': tensor(0.4508, device='cuda:0', grad_fn=<NllLossBackward0>), 'polyphony': tensor(0.3436, device='cuda:0', grad_fn=<NllLossBackward0>), 'density': tensor(0.3604, device='cuda:0', grad_fn=<NllLossBackward0>), 'piano_roll': tensor(1.0106, device='cuda:0', grad_fn=<NllLoss2DBackward0>), 'total': tensor(3.1135, device='cuda:0', grad_fn=<AddBackward0>)}]  \n"
     ]
    },
    {
     "name": "stdout",
     "output_type": "stream",
     "text": [
      "Generated:  [{'type': 'pitch', 'value': 8}, {'type': 'velocity', 'value': 20}, {'type': 'pitch', 'value': 20}, {'type': 'velocity', 'value': 21}, {'type': 'pitch', 'value': 43}, {'type': 'velocity', 'value': 22}, {'type': 'pitch', 'value': 51}, {'type': 'velocity', 'value': 20}, {'type': 'pitch', 'value': 55}, {'type': 'velocity', 'value': 23}]\n",
      "Chords:  ['C_M', 'C_M', 'F_M7', 'F_M7', 'E_m7', 'E_m7', 'A_m', 'A_m', 'F_M7', 'F_M7', 'G_M', 'G_M', 'C_M', 'C_M', 'C_M7', 'C_M7', 'G_M', 'G_M', 'G_M', 'G_M', 'A_m', 'A_m', 'A_m', 'A_m', 'E_m', 'E_m', 'E_m', 'E_m', 'F_M', 'F_M', 'F_M7', 'F_M7']\n"
     ]
    },
    {
     "name": "stderr",
     "output_type": "stream",
     "text": [
      "100%|██████████| 10/10 [00:04<00:00,  2.39it/s]\n",
      " 75%|███████▍  | 5893/7864 [32:30<2:23:26,  4.37s/it, batch=5890, gpu_temp=63, loss={'chord': tensor(0.9480, device='cuda:0', grad_fn=<NllLossBackward0>), 'velocity': tensor(0.4508, device='cuda:0', grad_fn=<NllLossBackward0>), 'polyphony': tensor(0.3436, device='cuda:0', grad_fn=<NllLossBackward0>), 'density': tensor(0.3604, device='cuda:0', grad_fn=<NllLossBackward0>), 'piano_roll': tensor(1.0106, device='cuda:0', grad_fn=<NllLoss2DBackward0>), 'total': tensor(3.1135, device='cuda:0', grad_fn=<AddBackward0>)}]"
     ]
    },
    {
     "name": "stdout",
     "output_type": "stream",
     "text": [
      "Generated:  [{'type': 'pitch', 'value': 39}, {'type': 'velocity', 'value': 17}, {'type': 'pitch', 'value': 51}, {'type': 'velocity', 'value': 15}, {'type': 'pitch', 'value': 55}, {'type': 'velocity', 'value': 20}, 'next_frame', 'next_frame', 'next_frame', 'next_frame']\n",
      "Chords:  ['C_M7', 'C_M7', 'C_M7', 'C_M7', 'A_m7', 'A_m7', 'A_m7', 'A_m7', 'F_M', 'F_M', 'F_M', 'F_M', 'G_M', 'G_M', 'G_M', 'G_M', 'C_M7', 'C_M7', 'C_M7', 'C_M7', 'A_m7', 'A_m7', 'A_m7', 'A_m7', 'A_m7', 'A_m7', 'A_m7', 'A_m7', 'C_M7', 'C_M7', 'C_M7', 'C_M7']\n"
     ]
    },
    {
     "name": "stderr",
     "output_type": "stream",
     "text": [
      "100%|██████████| 16/16 [00:08<00:00,  1.78it/s]t/s, batch=6380, gpu_temp=63, loss={'chord': tensor(0.9682, device='cuda:0', grad_fn=<NllLossBackward0>), 'velocity': tensor(0.4365, device='cuda:0', grad_fn=<NllLossBackward0>), 'polyphony': tensor(0.3101, device='cuda:0', grad_fn=<NllLossBackward0>), 'density': tensor(0.4114, device='cuda:0', grad_fn=<NllLossBackward0>), 'piano_roll': tensor(1.0239, device='cuda:0', grad_fn=<NllLoss2DBackward0>), 'total': tensor(3.1500, device='cuda:0', grad_fn=<AddBackward0>)}]  \n"
     ]
    },
    {
     "name": "stdout",
     "output_type": "stream",
     "text": [
      "Generated:  [{'type': 'pitch', 'value': 7}, {'type': 'velocity', 'value': 20}, {'type': 'pitch', 'value': 19}, {'type': 'velocity', 'value': 23}, {'type': 'pitch', 'value': 41}, {'type': 'velocity', 'value': 20}, 'next_frame', 'next_frame', 'next_frame', 'next_frame']\n",
      "Chords:  ['D_m7', 'D_m7', 'C_M', 'C_M', 'F_M', 'F_M', 'G_M', 'C_M7', 'C_M7', 'C_M7', 'G_M', 'G_M', 'F_M', 'F_M', 'A_m7', 'A_m7', 'D_m', 'D_m', 'C_M', 'C_M', 'C_M', 'C_M', 'A_m7', 'A_m7', 'D_m', 'D_m', 'C_M7', 'C_M7', 'C_M', 'C_M', 'A_m7', 'A_m7']\n"
     ]
    },
    {
     "name": "stderr",
     "output_type": "stream",
     "text": [
      "100%|██████████| 10/10 [00:03<00:00,  2.66it/s]\n",
      " 81%|████████  | 6384/7864 [35:12<1:42:20,  4.15s/it, batch=6380, gpu_temp=63, loss={'chord': tensor(0.9682, device='cuda:0', grad_fn=<NllLossBackward0>), 'velocity': tensor(0.4365, device='cuda:0', grad_fn=<NllLossBackward0>), 'polyphony': tensor(0.3101, device='cuda:0', grad_fn=<NllLossBackward0>), 'density': tensor(0.4114, device='cuda:0', grad_fn=<NllLossBackward0>), 'piano_roll': tensor(1.0239, device='cuda:0', grad_fn=<NllLoss2DBackward0>), 'total': tensor(3.1500, device='cuda:0', grad_fn=<AddBackward0>)}]"
     ]
    },
    {
     "name": "stdout",
     "output_type": "stream",
     "text": [
      "Generated:  [{'type': 'pitch', 'value': 39}, {'type': 'velocity', 'value': 17}, {'type': 'pitch', 'value': 51}, {'type': 'velocity', 'value': 15}, {'type': 'pitch', 'value': 55}, {'type': 'velocity', 'value': 20}, 'next_frame', 'next_frame', 'next_frame', 'next_frame']\n",
      "Chords:  ['C_M7', 'C_M7', 'C_M7', 'C_M7', 'A_m7', 'A_m7', 'A_m7', 'A_m7', 'F_M', 'F_M', 'F_M', 'F_M', 'G_M', 'G_M', 'G_M', 'G_M', 'C_M7', 'C_M7', 'C_M7', 'C_M7', 'A_m7', 'A_m7', 'A_m7', 'A_m7', 'F_M7', 'F_M7', 'F_M7', 'F_M7', 'G_7', 'G_7', 'G_M', 'G_M']\n"
     ]
    },
    {
     "name": "stderr",
     "output_type": "stream",
     "text": [
      "100%|██████████| 16/16 [00:08<00:00,  1.93it/s]t/s, batch=6870, gpu_temp=63, loss={'chord': tensor(0.9636, device='cuda:0', grad_fn=<NllLossBackward0>), 'velocity': tensor(0.4569, device='cuda:0', grad_fn=<NllLossBackward0>), 'polyphony': tensor(0.2942, device='cuda:0', grad_fn=<NllLossBackward0>), 'density': tensor(0.3760, device='cuda:0', grad_fn=<NllLossBackward0>), 'piano_roll': tensor(1.1012, device='cuda:0', grad_fn=<NllLoss2DBackward0>), 'total': tensor(3.1919, device='cuda:0', grad_fn=<AddBackward0>)}]  \n"
     ]
    },
    {
     "name": "stdout",
     "output_type": "stream",
     "text": [
      "Generated:  [{'type': 'pitch', 'value': 17}, {'type': 'velocity', 'value': 20}, {'type': 'pitch', 'value': 29}, {'type': 'velocity', 'value': 20}, {'type': 'pitch', 'value': 44}, {'type': 'velocity', 'value': 20}, {'type': 'pitch', 'value': 48}, {'type': 'velocity', 'value': 17}, {'type': 'pitch', 'value': 55}, {'type': 'velocity', 'value': 22}]\n",
      "Chords:  ['A_m', 'A_m', 'A_m', 'A_m', 'A_m7', 'A_m7', 'F_M7', 'F_M7', 'F_M7', 'F_M7', 'D_m7', 'D_m7', 'A_m', 'A_m', 'A_m7', 'A_m7', 'C_M', 'C_M', 'C_M', 'C_M', 'C_M', 'C_M', 'F_sus2', 'F_sus2', 'F_sus2', 'F_sus2', 'F_M', 'F_M', 'F_M', 'F_M', 'F_M7', 'F_M7']\n"
     ]
    },
    {
     "name": "stderr",
     "output_type": "stream",
     "text": [
      "100%|██████████| 10/10 [00:04<00:00,  2.08it/s]\n",
      " 87%|████████▋ | 6875/7864 [37:55<1:10:05,  4.25s/it, batch=6870, gpu_temp=63, loss={'chord': tensor(0.9636, device='cuda:0', grad_fn=<NllLossBackward0>), 'velocity': tensor(0.4569, device='cuda:0', grad_fn=<NllLossBackward0>), 'polyphony': tensor(0.2942, device='cuda:0', grad_fn=<NllLossBackward0>), 'density': tensor(0.3760, device='cuda:0', grad_fn=<NllLossBackward0>), 'piano_roll': tensor(1.1012, device='cuda:0', grad_fn=<NllLoss2DBackward0>), 'total': tensor(3.1919, device='cuda:0', grad_fn=<AddBackward0>)}]"
     ]
    },
    {
     "name": "stdout",
     "output_type": "stream",
     "text": [
      "Generated:  [{'type': 'pitch', 'value': 39}, {'type': 'velocity', 'value': 17}, {'type': 'pitch', 'value': 51}, {'type': 'velocity', 'value': 15}, {'type': 'pitch', 'value': 55}, {'type': 'velocity', 'value': 20}, 'next_frame', 'next_frame', 'next_frame', 'next_frame']\n",
      "Chords:  ['C_M7', 'C_M7', 'C_M7', 'C_M7', 'A_m7', 'A_m7', 'A_m7', 'A_m7', 'F_M', 'F_M', 'F_M', 'F_M', 'G_M', 'G_M', 'G_M', 'G_M', 'C_M7', 'C_M7', 'C_M7', 'C_M7', 'A_m7', 'A_m7', 'A_m7', 'A_m7', 'A_m7', 'A_m7', 'A_m7', 'A_m7', 'F_M', 'F_M', 'F_M', 'F_M']\n"
     ]
    },
    {
     "name": "stderr",
     "output_type": "stream",
     "text": [
      "100%|██████████| 16/16 [00:09<00:00,  1.70it/s]t/s, batch=7360, gpu_temp=56, loss={'chord': tensor(0.9485, device='cuda:0', grad_fn=<NllLossBackward0>), 'velocity': tensor(0.5382, device='cuda:0', grad_fn=<NllLossBackward0>), 'polyphony': tensor(0.3449, device='cuda:0', grad_fn=<NllLossBackward0>), 'density': tensor(0.3989, device='cuda:0', grad_fn=<NllLossBackward0>), 'piano_roll': tensor(1.0798, device='cuda:0', grad_fn=<NllLoss2DBackward0>), 'total': tensor(3.3103, device='cuda:0', grad_fn=<AddBackward0>)}]  \n"
     ]
    },
    {
     "name": "stdout",
     "output_type": "stream",
     "text": [
      "Generated:  [{'type': 'pitch', 'value': 15}, {'type': 'velocity', 'value': 17}, {'type': 'pitch', 'value': 39}, {'type': 'velocity', 'value': 21}, {'type': 'pitch', 'value': 51}, {'type': 'velocity', 'value': 23}, 'next_frame', 'next_frame', 'next_frame', 'next_frame']\n",
      "Chords:  ['G_M', 'G_M', 'A_m7', 'A_m7', 'E_m', 'E_m', 'F_M7', 'F_M7', 'G_M', 'G_M', 'F_M', 'F_M', 'E_m', 'E_m', 'D_m', 'D_m', 'C_M', 'C_M', 'F_M', 'B_o', 'A_m', 'A_m', 'F_M', 'F_M', 'C_M', 'C_M', 'C_M', 'G_M', 'A_m', 'A_m', 'F_M', 'F_M']\n"
     ]
    },
    {
     "name": "stderr",
     "output_type": "stream",
     "text": [
      "100%|██████████| 10/10 [00:04<00:00,  2.37it/s]\n",
      " 94%|█████████▎| 7366/7864 [40:40<38:22,  4.62s/it, batch=7360, gpu_temp=56, loss={'chord': tensor(0.9485, device='cuda:0', grad_fn=<NllLossBackward0>), 'velocity': tensor(0.5382, device='cuda:0', grad_fn=<NllLossBackward0>), 'polyphony': tensor(0.3449, device='cuda:0', grad_fn=<NllLossBackward0>), 'density': tensor(0.3989, device='cuda:0', grad_fn=<NllLossBackward0>), 'piano_roll': tensor(1.0798, device='cuda:0', grad_fn=<NllLoss2DBackward0>), 'total': tensor(3.3103, device='cuda:0', grad_fn=<AddBackward0>)}]"
     ]
    },
    {
     "name": "stdout",
     "output_type": "stream",
     "text": [
      "Generated:  [{'type': 'pitch', 'value': 39}, {'type': 'velocity', 'value': 17}, {'type': 'pitch', 'value': 51}, {'type': 'velocity', 'value': 15}, {'type': 'pitch', 'value': 55}, {'type': 'velocity', 'value': 20}, 'next_frame', 'next_frame', 'next_frame', 'next_frame']\n",
      "Chords:  ['C_M7', 'C_M7', 'C_M7', 'C_M7', 'A_m7', 'A_m7', 'A_m7', 'A_m7', 'F_M', 'F_M', 'F_M', 'F_M', 'G_M', 'G_M', 'G_M', 'G_M', 'C_M7', 'C_M7', 'C_M7', 'C_M7', 'A_m7', 'A_m7', 'A_m7', 'A_m7', 'C_M7', 'C_M7', 'C_M7', 'C_M7', 'F_M', 'F_M', 'F_M', 'F_M']\n"
     ]
    },
    {
     "name": "stderr",
     "output_type": "stream",
     "text": [
      "100%|██████████| 16/16 [00:08<00:00,  1.98it/s]t/s, batch=7850, gpu_temp=61, loss={'chord': tensor(0.8703, device='cuda:0', grad_fn=<NllLossBackward0>), 'velocity': tensor(0.5171, device='cuda:0', grad_fn=<NllLossBackward0>), 'polyphony': tensor(0.3423, device='cuda:0', grad_fn=<NllLossBackward0>), 'density': tensor(0.3978, device='cuda:0', grad_fn=<NllLossBackward0>), 'piano_roll': tensor(1.1117, device='cuda:0', grad_fn=<NllLoss2DBackward0>), 'total': tensor(3.2391, device='cuda:0', grad_fn=<AddBackward0>)}]\n"
     ]
    },
    {
     "name": "stdout",
     "output_type": "stream",
     "text": [
      "Generated:  [{'type': 'pitch', 'value': 24}, {'type': 'velocity', 'value': 21}, {'type': 'pitch', 'value': 36}, {'type': 'velocity', 'value': 21}, {'type': 'pitch', 'value': 43}, {'type': 'velocity', 'value': 21}, {'type': 'pitch', 'value': 46}, {'type': 'velocity', 'value': 19}, {'type': 'pitch', 'value': 51}, {'type': 'velocity', 'value': 22}]\n",
      "Chords:  ['A_m7', 'A_m7', 'E_m7', 'E_m7', 'A_m7', 'A_m7', 'C_M7', 'C_M7', 'F_M7', 'F_M7', 'F_M7', 'F_M7', 'G_7', 'G_7', 'G_7', 'G_7', 'E_m7', 'E_m7', 'E_7', 'E_7', 'A_m', 'A_m', 'A_m', 'A_m', 'A_m7', 'A_m7', 'A_m7', 'A_m7', 'F_M7', 'F_M7', 'F_M7', 'F_M7']\n"
     ]
    },
    {
     "name": "stderr",
     "output_type": "stream",
     "text": [
      "100%|██████████| 10/10 [00:04<00:00,  2.33it/s]\n",
      "100%|█████████▉| 7857/7864 [43:21<00:28,  4.06s/it, batch=7850, gpu_temp=61, loss={'chord': tensor(0.8703, device='cuda:0', grad_fn=<NllLossBackward0>), 'velocity': tensor(0.5171, device='cuda:0', grad_fn=<NllLossBackward0>), 'polyphony': tensor(0.3423, device='cuda:0', grad_fn=<NllLossBackward0>), 'density': tensor(0.3978, device='cuda:0', grad_fn=<NllLossBackward0>), 'piano_roll': tensor(1.1117, device='cuda:0', grad_fn=<NllLoss2DBackward0>), 'total': tensor(3.2391, device='cuda:0', grad_fn=<AddBackward0>)}]"
     ]
    },
    {
     "name": "stdout",
     "output_type": "stream",
     "text": [
      "Generated:  [{'type': 'pitch', 'value': 39}, {'type': 'velocity', 'value': 17}, {'type': 'pitch', 'value': 51}, {'type': 'velocity', 'value': 15}, {'type': 'pitch', 'value': 55}, {'type': 'velocity', 'value': 20}, 'next_frame', 'next_frame', 'next_frame', 'next_frame']\n",
      "Chords:  ['C_M7', 'C_M7', 'C_M7', 'C_M7', 'A_m7', 'A_m7', 'A_m7', 'A_m7', 'F_M', 'F_M', 'F_M', 'F_M', 'G_M', 'G_M', 'G_M', 'G_M', 'C_M7', 'C_M7', 'C_M7', 'C_M7', 'A_m7', 'A_m7', 'A_m7', 'A_m7', 'F_M', 'F_M', 'F_M7', 'F_M7', 'G_M', 'G_M', 'G_M', 'G_M']\n"
     ]
    },
    {
     "name": "stderr",
     "output_type": "stream",
     "text": [
      "100%|██████████| 7864/7864 [43:23<00:00,  3.02it/s, batch=7860, gpu_temp=59, loss={'chord': tensor(1.0119, device='cuda:0', grad_fn=<NllLossBackward0>), 'velocity': tensor(0.4770, device='cuda:0', grad_fn=<NllLossBackward0>), 'polyphony': tensor(0.3530, device='cuda:0', grad_fn=<NllLossBackward0>), 'density': tensor(0.4002, device='cuda:0', grad_fn=<NllLossBackward0>), 'piano_roll': tensor(1.0373, device='cuda:0', grad_fn=<NllLoss2DBackward0>), 'total': tensor(3.2794, device='cuda:0', grad_fn=<AddBackward0>)}]\n",
      "100%|██████████| 16/16 [00:12<00:00,  1.32it/s]/s, batch=490, gpu_temp=56, loss={'chord': tensor(0.8935, device='cuda:0', grad_fn=<NllLossBackward0>), 'velocity': tensor(0.5343, device='cuda:0', grad_fn=<NllLossBackward0>), 'polyphony': tensor(0.3400, device='cuda:0', grad_fn=<NllLossBackward0>), 'density': tensor(0.3781, device='cuda:0', grad_fn=<NllLossBackward0>), 'piano_roll': tensor(0.9847, device='cuda:0', grad_fn=<NllLoss2DBackward0>), 'total': tensor(3.1306, device='cuda:0', grad_fn=<AddBackward0>)}]\n"
     ]
    },
    {
     "name": "stdout",
     "output_type": "stream",
     "text": [
      "Generated:  [{'type': 'pitch', 'value': 20}, {'type': 'velocity', 'value': 20}, {'type': 'pitch', 'value': 32}, {'type': 'velocity', 'value': 22}, {'type': 'pitch', 'value': 58}, {'type': 'velocity', 'value': 24}, 'next_frame', 'next_frame', 'next_frame', 'next_frame']\n",
      "Chords:  ['A_m7', 'A_m7', 'C_M7', 'C_M7', 'G_M', 'G_M', 'G_M', 'G_M', 'G_M', 'G_M', 'E_m', 'A_m7', 'F_M7', 'F_M7', 'G_M', 'G_M', 'A_m', 'A_m', 'G_M', 'G_M', 'F_M7', 'F_M7', 'G_M', 'G_M', 'A_m', 'A_m', 'G_M', 'G_M', 'F_M', 'F_M', 'G_M', 'G_M']\n"
     ]
    },
    {
     "name": "stderr",
     "output_type": "stream",
     "text": [
      "100%|██████████| 10/10 [00:03<00:00,  2.80it/s]\n",
      "  6%|▋         | 492/7864 [02:56<10:23:53,  5.08s/it, batch=490, gpu_temp=56, loss={'chord': tensor(0.8935, device='cuda:0', grad_fn=<NllLossBackward0>), 'velocity': tensor(0.5343, device='cuda:0', grad_fn=<NllLossBackward0>), 'polyphony': tensor(0.3400, device='cuda:0', grad_fn=<NllLossBackward0>), 'density': tensor(0.3781, device='cuda:0', grad_fn=<NllLossBackward0>), 'piano_roll': tensor(0.9847, device='cuda:0', grad_fn=<NllLoss2DBackward0>), 'total': tensor(3.1306, device='cuda:0', grad_fn=<AddBackward0>)}]"
     ]
    },
    {
     "name": "stdout",
     "output_type": "stream",
     "text": [
      "Generated:  [{'type': 'pitch', 'value': 39}, {'type': 'velocity', 'value': 17}, {'type': 'pitch', 'value': 51}, {'type': 'velocity', 'value': 15}, {'type': 'pitch', 'value': 55}, {'type': 'velocity', 'value': 20}, 'next_frame', 'next_frame', 'next_frame', 'next_frame']\n",
      "Chords:  ['C_M7', 'C_M7', 'C_M7', 'C_M7', 'A_m7', 'A_m7', 'A_m7', 'A_m7', 'F_M', 'F_M', 'F_M', 'F_M', 'G_M', 'G_M', 'G_M', 'G_M', 'C_M7', 'C_M7', 'C_M7', 'C_M7', 'A_m7', 'A_m7', 'A_m7', 'A_m7', 'C_M7', 'C_M7', 'C_M7', 'C_M7', 'F_M7', 'F_M7', 'F_M7', 'F_M7']\n"
     ]
    },
    {
     "name": "stderr",
     "output_type": "stream",
     "text": [
      "100%|██████████| 16/16 [00:09<00:00,  1.64it/s]/s, batch=980, gpu_temp=61, loss={'chord': tensor(1.0161, device='cuda:0', grad_fn=<NllLossBackward0>), 'velocity': tensor(0.4922, device='cuda:0', grad_fn=<NllLossBackward0>), 'polyphony': tensor(0.3139, device='cuda:0', grad_fn=<NllLossBackward0>), 'density': tensor(0.3355, device='cuda:0', grad_fn=<NllLossBackward0>), 'piano_roll': tensor(1.0952, device='cuda:0', grad_fn=<NllLoss2DBackward0>), 'total': tensor(3.2530, device='cuda:0', grad_fn=<AddBackward0>)}]   \n"
     ]
    },
    {
     "name": "stdout",
     "output_type": "stream",
     "text": [
      "Generated:  [{'type': 'pitch', 'value': 22}, {'type': 'velocity', 'value': 19}, {'type': 'pitch', 'value': 38}, {'type': 'velocity', 'value': 20}, {'type': 'pitch', 'value': 46}, {'type': 'velocity', 'value': 22}, 'next_frame', 'next_frame', 'next_frame', 'next_frame']\n",
      "Chords:  ['F_M7', 'F_M7', 'D_m7', 'D_m7', 'C_+', 'C_+', 'E_7', 'E_7', 'A_m7', 'A_m7', 'A_m7', 'A_m7', 'G_m7', 'G_m7', 'C_7', 'C_7', 'F_M7', 'F_M7', 'F_M7', 'F_M7', 'E_7', 'E_7', 'E_7', 'E_7', 'E_7', 'E_7', 'E_7', 'E_7', 'A_m7', 'A_m7', 'A_m7', 'A_m7']\n"
     ]
    },
    {
     "name": "stderr",
     "output_type": "stream",
     "text": [
      "100%|██████████| 10/10 [00:04<00:00,  2.31it/s]\n",
      " 12%|█▎        | 983/7864 [05:37<8:38:51,  4.52s/it, batch=980, gpu_temp=61, loss={'chord': tensor(1.0161, device='cuda:0', grad_fn=<NllLossBackward0>), 'velocity': tensor(0.4922, device='cuda:0', grad_fn=<NllLossBackward0>), 'polyphony': tensor(0.3139, device='cuda:0', grad_fn=<NllLossBackward0>), 'density': tensor(0.3355, device='cuda:0', grad_fn=<NllLossBackward0>), 'piano_roll': tensor(1.0952, device='cuda:0', grad_fn=<NllLoss2DBackward0>), 'total': tensor(3.2530, device='cuda:0', grad_fn=<AddBackward0>)}]"
     ]
    },
    {
     "name": "stdout",
     "output_type": "stream",
     "text": [
      "Generated:  [{'type': 'pitch', 'value': 39}, {'type': 'velocity', 'value': 17}, {'type': 'pitch', 'value': 51}, {'type': 'velocity', 'value': 15}, {'type': 'pitch', 'value': 55}, {'type': 'velocity', 'value': 20}, 'next_frame', 'next_frame', 'next_frame', 'next_frame']\n",
      "Chords:  ['C_M7', 'C_M7', 'C_M7', 'C_M7', 'A_m7', 'A_m7', 'A_m7', 'A_m7', 'F_M', 'F_M', 'F_M', 'F_M', 'G_M', 'G_M', 'G_M', 'G_M', 'C_M7', 'C_M7', 'C_M7', 'C_M7', 'A_m7', 'A_m7', 'A_m7', 'A_m7', 'B_o', 'B_o', 'D_m7', 'D_m7', 'G_M', 'G_M', 'G_M', 'G_M']\n"
     ]
    },
    {
     "name": "stderr",
     "output_type": "stream",
     "text": [
      "100%|██████████| 16/16 [00:08<00:00,  1.95it/s]t/s, batch=1470, gpu_temp=63, loss={'chord': tensor(0.9457, device='cuda:0', grad_fn=<NllLossBackward0>), 'velocity': tensor(0.5389, device='cuda:0', grad_fn=<NllLossBackward0>), 'polyphony': tensor(0.3683, device='cuda:0', grad_fn=<NllLossBackward0>), 'density': tensor(0.4007, device='cuda:0', grad_fn=<NllLossBackward0>), 'piano_roll': tensor(1.0579, device='cuda:0', grad_fn=<NllLoss2DBackward0>), 'total': tensor(3.3115, device='cuda:0', grad_fn=<AddBackward0>)}]\n"
     ]
    },
    {
     "name": "stdout",
     "output_type": "stream",
     "text": [
      "Generated:  ['next_frame', {'type': 'pitch', 'value': 24}, {'type': 'velocity', 'value': 19}, {'type': 'pitch', 'value': 36}, {'type': 'velocity', 'value': 19}, {'type': 'pitch', 'value': 48}, {'type': 'velocity', 'value': 20}, {'type': 'pitch', 'value': 60}, {'type': 'velocity', 'value': 24}, 'next_frame']\n",
      "Chords:  ['C_M', 'C_M', 'C_M', 'C_M', 'A_m', 'A_m', 'A_m', 'A_m', 'E_m', 'E_m', 'E_m', 'E_m', 'A_m', 'A_m', 'A_m', 'A_m', 'A_m', 'A_m', 'A_m', 'A_m', 'F_M', 'F_M', 'F_M', 'F_M', 'G_7', 'G_7', 'G_7', 'G_7', 'G_M', 'G_M', 'G_M', 'G_M']\n"
     ]
    },
    {
     "name": "stderr",
     "output_type": "stream",
     "text": [
      "100%|██████████| 10/10 [00:03<00:00,  2.66it/s]\n",
      " 19%|█▊        | 1474/7864 [08:17<6:57:30,  3.92s/it, batch=1470, gpu_temp=63, loss={'chord': tensor(0.9457, device='cuda:0', grad_fn=<NllLossBackward0>), 'velocity': tensor(0.5389, device='cuda:0', grad_fn=<NllLossBackward0>), 'polyphony': tensor(0.3683, device='cuda:0', grad_fn=<NllLossBackward0>), 'density': tensor(0.4007, device='cuda:0', grad_fn=<NllLossBackward0>), 'piano_roll': tensor(1.0579, device='cuda:0', grad_fn=<NllLoss2DBackward0>), 'total': tensor(3.3115, device='cuda:0', grad_fn=<AddBackward0>)}]"
     ]
    },
    {
     "name": "stdout",
     "output_type": "stream",
     "text": [
      "Generated:  [{'type': 'pitch', 'value': 39}, {'type': 'velocity', 'value': 17}, {'type': 'pitch', 'value': 51}, {'type': 'velocity', 'value': 15}, {'type': 'pitch', 'value': 55}, {'type': 'velocity', 'value': 20}, 'next_frame', 'next_frame', 'next_frame', 'next_frame']\n",
      "Chords:  ['C_M7', 'C_M7', 'C_M7', 'C_M7', 'A_m7', 'A_m7', 'A_m7', 'A_m7', 'F_M', 'F_M', 'F_M', 'F_M', 'G_M', 'G_M', 'G_M', 'G_M', 'C_M7', 'C_M7', 'C_M7', 'C_M7', 'A_m7', 'A_m7', 'A_m7', 'A_m7', 'A_m7', 'A_m7', 'A_m7', 'A_m7', 'A_m7', 'A_m7', 'A_m7', 'A_m7']\n"
     ]
    },
    {
     "name": "stderr",
     "output_type": "stream",
     "text": [
      "100%|██████████| 16/16 [00:09<00:00,  1.72it/s]t/s, batch=1960, gpu_temp=63, loss={'chord': tensor(0.8939, device='cuda:0', grad_fn=<NllLossBackward0>), 'velocity': tensor(0.4052, device='cuda:0', grad_fn=<NllLossBackward0>), 'polyphony': tensor(0.3529, device='cuda:0', grad_fn=<NllLossBackward0>), 'density': tensor(0.3607, device='cuda:0', grad_fn=<NllLossBackward0>), 'piano_roll': tensor(1.0235, device='cuda:0', grad_fn=<NllLoss2DBackward0>), 'total': tensor(3.0362, device='cuda:0', grad_fn=<AddBackward0>)}]  \n"
     ]
    },
    {
     "name": "stdout",
     "output_type": "stream",
     "text": [
      "Generated:  [{'type': 'pitch', 'value': 12}, {'type': 'velocity', 'value': 19}, {'type': 'pitch', 'value': 24}, {'type': 'velocity', 'value': 22}, {'type': 'pitch', 'value': 55}, {'type': 'velocity', 'value': 23}, {'type': 'pitch', 'value': 67}, {'type': 'velocity', 'value': 23}, 'next_frame', 'next_frame']\n",
      "Chords:  ['C_M', 'C_M', 'C_M', 'C_M', 'A_m7', 'A_m7', 'A_m7', 'A_m7', 'F_M7', 'F_M7', 'D_m7', 'D_m7', 'D_m', 'D_m', 'B_o', 'B_o', 'F_M', 'F_M', 'F_M7', 'F_M7', 'C_M', 'C_M', 'C_M', 'C_M', 'C_M7', 'C_M7', 'C_M7', 'C_M7', 'E_7', 'E_7', 'E_7', 'E_7']\n"
     ]
    },
    {
     "name": "stderr",
     "output_type": "stream",
     "text": [
      "100%|██████████| 10/10 [00:03<00:00,  2.66it/s]\n",
      " 25%|██▍       | 1965/7864 [10:59<7:06:57,  4.34s/it, batch=1960, gpu_temp=63, loss={'chord': tensor(0.8939, device='cuda:0', grad_fn=<NllLossBackward0>), 'velocity': tensor(0.4052, device='cuda:0', grad_fn=<NllLossBackward0>), 'polyphony': tensor(0.3529, device='cuda:0', grad_fn=<NllLossBackward0>), 'density': tensor(0.3607, device='cuda:0', grad_fn=<NllLossBackward0>), 'piano_roll': tensor(1.0235, device='cuda:0', grad_fn=<NllLoss2DBackward0>), 'total': tensor(3.0362, device='cuda:0', grad_fn=<AddBackward0>)}]"
     ]
    },
    {
     "name": "stdout",
     "output_type": "stream",
     "text": [
      "Generated:  [{'type': 'pitch', 'value': 39}, {'type': 'velocity', 'value': 17}, {'type': 'pitch', 'value': 51}, {'type': 'velocity', 'value': 15}, {'type': 'pitch', 'value': 55}, {'type': 'velocity', 'value': 20}, 'next_frame', 'next_frame', 'next_frame', 'next_frame']\n",
      "Chords:  ['C_M7', 'C_M7', 'C_M7', 'C_M7', 'A_m7', 'A_m7', 'A_m7', 'A_m7', 'F_M', 'F_M', 'F_M', 'F_M', 'G_M', 'G_M', 'G_M', 'G_M', 'C_M7', 'C_M7', 'C_M7', 'C_M7', 'A_m7', 'A_m7', 'A_m7', 'A_m7', 'A_m7', 'A_m7', 'A_m7', 'A_m7', 'F_M7', 'F_M7', 'F_M', 'F_M']\n"
     ]
    },
    {
     "name": "stderr",
     "output_type": "stream",
     "text": [
      "100%|██████████| 16/16 [00:08<00:00,  1.91it/s]t/s, batch=2450, gpu_temp=63, loss={'chord': tensor(0.8440, device='cuda:0', grad_fn=<NllLossBackward0>), 'velocity': tensor(0.4375, device='cuda:0', grad_fn=<NllLossBackward0>), 'polyphony': tensor(0.3223, device='cuda:0', grad_fn=<NllLossBackward0>), 'density': tensor(0.4125, device='cuda:0', grad_fn=<NllLossBackward0>), 'piano_roll': tensor(1.0496, device='cuda:0', grad_fn=<NllLoss2DBackward0>), 'total': tensor(3.0659, device='cuda:0', grad_fn=<AddBackward0>)}]  \n"
     ]
    },
    {
     "name": "stdout",
     "output_type": "stream",
     "text": [
      "Generated:  [{'type': 'pitch', 'value': 3}, {'type': 'velocity', 'value': 17}, {'type': 'pitch', 'value': 15}, {'type': 'velocity', 'value': 19}, {'type': 'pitch', 'value': 39}, {'type': 'velocity', 'value': 18}, {'type': 'pitch', 'value': 43}, {'type': 'velocity', 'value': 20}, {'type': 'pitch', 'value': 46}, {'type': 'velocity', 'value': 21}]\n",
      "Chords:  ['None', 'None', 'C_M7', 'C_M7', 'G_M', 'G_M', 'A_m', 'A_m', 'C_M7', 'C_M7', 'F_M7', 'F_M7', 'F_M', 'F_M', 'F_M7', 'F_M7', 'G_M', 'G_M', 'G_M', 'G_M', 'G_M', 'G_M', 'G_M', 'E_m7', 'E_m7', 'E_m7', 'E_m7', 'E_m7', 'A_m', 'A_m', 'A_m7', 'A_m7']\n"
     ]
    },
    {
     "name": "stderr",
     "output_type": "stream",
     "text": [
      "100%|██████████| 10/10 [00:03<00:00,  2.65it/s]\n",
      " 31%|███       | 2456/7864 [13:38<5:56:41,  3.96s/it, batch=2450, gpu_temp=63, loss={'chord': tensor(0.8440, device='cuda:0', grad_fn=<NllLossBackward0>), 'velocity': tensor(0.4375, device='cuda:0', grad_fn=<NllLossBackward0>), 'polyphony': tensor(0.3223, device='cuda:0', grad_fn=<NllLossBackward0>), 'density': tensor(0.4125, device='cuda:0', grad_fn=<NllLossBackward0>), 'piano_roll': tensor(1.0496, device='cuda:0', grad_fn=<NllLoss2DBackward0>), 'total': tensor(3.0659, device='cuda:0', grad_fn=<AddBackward0>)}]"
     ]
    },
    {
     "name": "stdout",
     "output_type": "stream",
     "text": [
      "Generated:  [{'type': 'pitch', 'value': 39}, {'type': 'velocity', 'value': 17}, {'type': 'pitch', 'value': 51}, {'type': 'velocity', 'value': 15}, {'type': 'pitch', 'value': 55}, {'type': 'velocity', 'value': 20}, 'next_frame', 'next_frame', 'next_frame', 'next_frame']\n",
      "Chords:  ['C_M7', 'C_M7', 'C_M7', 'C_M7', 'A_m7', 'A_m7', 'A_m7', 'A_m7', 'F_M', 'F_M', 'F_M', 'F_M', 'G_M', 'G_M', 'G_M', 'G_M', 'C_M7', 'C_M7', 'C_M7', 'C_M7', 'A_m7', 'A_m7', 'A_m7', 'A_m7', 'A_m7', 'A_m7', 'A_m7', 'A_m7', 'F_M', 'F_M', 'F_M', 'F_M']\n"
     ]
    },
    {
     "name": "stderr",
     "output_type": "stream",
     "text": [
      "100%|██████████| 16/16 [00:08<00:00,  1.90it/s]t/s, batch=2940, gpu_temp=56, loss={'chord': tensor(0.8977, device='cuda:0', grad_fn=<NllLossBackward0>), 'velocity': tensor(0.4308, device='cuda:0', grad_fn=<NllLossBackward0>), 'polyphony': tensor(0.2914, device='cuda:0', grad_fn=<NllLossBackward0>), 'density': tensor(0.3267, device='cuda:0', grad_fn=<NllLossBackward0>), 'piano_roll': tensor(1.0326, device='cuda:0', grad_fn=<NllLoss2DBackward0>), 'total': tensor(2.9793, device='cuda:0', grad_fn=<AddBackward0>)}]  \n"
     ]
    },
    {
     "name": "stdout",
     "output_type": "stream",
     "text": [
      "Generated:  [{'type': 'pitch', 'value': 20}, {'type': 'velocity', 'value': 21}, {'type': 'pitch', 'value': 32}, {'type': 'velocity', 'value': 21}, 'next_frame', 'next_frame', 'next_frame', 'next_frame', {'type': 'pitch', 'value': 27}, {'type': 'velocity', 'value': 21}]\n",
      "Chords:  ['F_m', 'F_m', 'F_m', 'F_m', 'C_M7', 'C_M7', 'E_m7', 'G#_m', 'A_m', 'A_m', 'D_m7', 'D_m7', 'C_M7', 'C_M7', 'E_7', 'E_7', 'A_m', 'A_m', 'F_M', 'F_M', 'E_m7', 'E_m7', 'E_7', 'E_7', 'A_m', 'A_m', 'D_m7', 'D_m7', 'G_7', 'G_7', 'E_7', 'E_7']\n"
     ]
    },
    {
     "name": "stderr",
     "output_type": "stream",
     "text": [
      "100%|██████████| 10/10 [00:04<00:00,  2.49it/s]\n",
      " 37%|███▋      | 2947/7864 [16:19<5:34:54,  4.09s/it, batch=2940, gpu_temp=56, loss={'chord': tensor(0.8977, device='cuda:0', grad_fn=<NllLossBackward0>), 'velocity': tensor(0.4308, device='cuda:0', grad_fn=<NllLossBackward0>), 'polyphony': tensor(0.2914, device='cuda:0', grad_fn=<NllLossBackward0>), 'density': tensor(0.3267, device='cuda:0', grad_fn=<NllLossBackward0>), 'piano_roll': tensor(1.0326, device='cuda:0', grad_fn=<NllLoss2DBackward0>), 'total': tensor(2.9793, device='cuda:0', grad_fn=<AddBackward0>)}]"
     ]
    },
    {
     "name": "stdout",
     "output_type": "stream",
     "text": [
      "Generated:  [{'type': 'pitch', 'value': 39}, {'type': 'velocity', 'value': 17}, {'type': 'pitch', 'value': 51}, {'type': 'velocity', 'value': 15}, {'type': 'pitch', 'value': 55}, {'type': 'velocity', 'value': 20}, 'next_frame', 'next_frame', 'next_frame', 'next_frame']\n",
      "Chords:  ['C_M7', 'C_M7', 'C_M7', 'C_M7', 'A_m7', 'A_m7', 'A_m7', 'A_m7', 'F_M', 'F_M', 'F_M', 'F_M', 'G_M', 'G_M', 'G_M', 'G_M', 'C_M7', 'C_M7', 'C_M7', 'C_M7', 'A_m7', 'A_m7', 'A_m7', 'A_m7', 'A_m7', 'A_m7', 'A_m7', 'A_m7', 'F_M7', 'F_M7', 'F_M7', 'F_M7']\n"
     ]
    },
    {
     "name": "stderr",
     "output_type": "stream",
     "text": [
      "100%|██████████| 16/16 [00:10<00:00,  1.50it/s]t/s, batch=3430, gpu_temp=63, loss={'chord': tensor(1.0107, device='cuda:0', grad_fn=<NllLossBackward0>), 'velocity': tensor(0.5141, device='cuda:0', grad_fn=<NllLossBackward0>), 'polyphony': tensor(0.3368, device='cuda:0', grad_fn=<NllLossBackward0>), 'density': tensor(0.4963, device='cuda:0', grad_fn=<NllLossBackward0>), 'piano_roll': tensor(1.1497, device='cuda:0', grad_fn=<NllLoss2DBackward0>), 'total': tensor(3.5077, device='cuda:0', grad_fn=<AddBackward0>)}]  \n"
     ]
    },
    {
     "name": "stdout",
     "output_type": "stream",
     "text": [
      "Generated:  ['next_frame', 'next_frame', 'next_frame', 'next_frame', 'next_frame', {'type': 'pitch', 'value': 46}, {'type': 'velocity', 'value': 17}, 'next_frame', 'next_frame', 'next_frame']\n",
      "Chords:  ['E_7', 'E_7', 'G#_o', 'G#_o', 'A_m7', 'A_m7', 'F_M7', 'F_M7', 'C_M', 'C_M', 'F_M7', 'C_+', 'C_M7', 'C_M7', 'D_m7', 'D_m7', 'D_m7', 'D_m7', 'G_M', 'G_M', 'A_m7', 'A_m7', 'G_sus2', 'G_sus2', 'C_M', 'C_M', 'D_m7', 'D_m7', 'D_m7', 'D_m7', 'G_M', 'G_M']\n"
     ]
    },
    {
     "name": "stderr",
     "output_type": "stream",
     "text": [
      "100%|██████████| 10/10 [00:03<00:00,  2.92it/s]\n",
      " 44%|████▎     | 3438/7864 [19:00<5:39:14,  4.60s/it, batch=3430, gpu_temp=63, loss={'chord': tensor(1.0107, device='cuda:0', grad_fn=<NllLossBackward0>), 'velocity': tensor(0.5141, device='cuda:0', grad_fn=<NllLossBackward0>), 'polyphony': tensor(0.3368, device='cuda:0', grad_fn=<NllLossBackward0>), 'density': tensor(0.4963, device='cuda:0', grad_fn=<NllLossBackward0>), 'piano_roll': tensor(1.1497, device='cuda:0', grad_fn=<NllLoss2DBackward0>), 'total': tensor(3.5077, device='cuda:0', grad_fn=<AddBackward0>)}]"
     ]
    },
    {
     "name": "stdout",
     "output_type": "stream",
     "text": [
      "Generated:  [{'type': 'pitch', 'value': 39}, {'type': 'velocity', 'value': 17}, {'type': 'pitch', 'value': 51}, {'type': 'velocity', 'value': 15}, {'type': 'pitch', 'value': 55}, {'type': 'velocity', 'value': 20}, 'next_frame', 'next_frame', 'next_frame', 'next_frame']\n",
      "Chords:  ['C_M7', 'C_M7', 'C_M7', 'C_M7', 'A_m7', 'A_m7', 'A_m7', 'A_m7', 'F_M', 'F_M', 'F_M', 'F_M', 'G_M', 'G_M', 'G_M', 'G_M', 'C_M7', 'C_M7', 'C_M7', 'C_M7', 'A_m7', 'A_m7', 'A_m7', 'A_m7', 'G_+', 'G_+', 'G_+', 'G_+', 'G_M', 'G_M', 'G_M', 'G_M']\n"
     ]
    },
    {
     "name": "stderr",
     "output_type": "stream",
     "text": [
      "100%|██████████| 16/16 [00:08<00:00,  1.85it/s]t/s, batch=3920, gpu_temp=63, loss={'chord': tensor(0.9505, device='cuda:0', grad_fn=<NllLossBackward0>), 'velocity': tensor(0.4492, device='cuda:0', grad_fn=<NllLossBackward0>), 'polyphony': tensor(0.3498, device='cuda:0', grad_fn=<NllLossBackward0>), 'density': tensor(0.4031, device='cuda:0', grad_fn=<NllLossBackward0>), 'piano_roll': tensor(1.0518, device='cuda:0', grad_fn=<NllLoss2DBackward0>), 'total': tensor(3.2044, device='cuda:0', grad_fn=<AddBackward0>)}]  \n"
     ]
    },
    {
     "name": "stdout",
     "output_type": "stream",
     "text": [
      "Generated:  [{'type': 'pitch', 'value': 14}, {'type': 'velocity', 'value': 19}, {'type': 'pitch', 'value': 26}, {'type': 'velocity', 'value': 20}, {'type': 'pitch', 'value': 48}, {'type': 'velocity', 'value': 21}, {'type': 'pitch', 'value': 53}, {'type': 'velocity', 'value': 21}, {'type': 'pitch', 'value': 57}, {'type': 'velocity', 'value': 22}]\n",
      "Chords:  ['D_M', 'A_m', 'A_m', 'A_m', 'A_m', 'A_m', 'A_m', 'A_m', 'A_m', 'A_m', 'A_m', 'A_m', 'A_m', 'A_m', 'A_m', 'A_m', 'A_m', 'A_m', 'D_m7', 'D_m7', 'D_m', 'D_m', 'E_7', 'E_7', 'E_M', 'E_M', 'E_7', 'E_7', 'E_7', 'E_7', 'E_7', 'E_7']\n"
     ]
    },
    {
     "name": "stderr",
     "output_type": "stream",
     "text": [
      "100%|██████████| 10/10 [00:03<00:00,  2.95it/s]\n",
      " 50%|████▉     | 3929/7864 [21:40<4:17:45,  3.93s/it, batch=3920, gpu_temp=63, loss={'chord': tensor(0.9505, device='cuda:0', grad_fn=<NllLossBackward0>), 'velocity': tensor(0.4492, device='cuda:0', grad_fn=<NllLossBackward0>), 'polyphony': tensor(0.3498, device='cuda:0', grad_fn=<NllLossBackward0>), 'density': tensor(0.4031, device='cuda:0', grad_fn=<NllLossBackward0>), 'piano_roll': tensor(1.0518, device='cuda:0', grad_fn=<NllLoss2DBackward0>), 'total': tensor(3.2044, device='cuda:0', grad_fn=<AddBackward0>)}]"
     ]
    },
    {
     "name": "stdout",
     "output_type": "stream",
     "text": [
      "Generated:  [{'type': 'pitch', 'value': 39}, {'type': 'velocity', 'value': 17}, {'type': 'pitch', 'value': 51}, {'type': 'velocity', 'value': 15}, {'type': 'pitch', 'value': 55}, {'type': 'velocity', 'value': 20}, 'next_frame', 'next_frame', 'next_frame', 'next_frame']\n",
      "Chords:  ['C_M7', 'C_M7', 'C_M7', 'C_M7', 'A_m7', 'A_m7', 'A_m7', 'A_m7', 'F_M', 'F_M', 'F_M', 'F_M', 'G_M', 'G_M', 'G_M', 'G_M', 'C_M7', 'C_M7', 'C_M7', 'C_M7', 'A_m7', 'A_m7', 'A_m7', 'A_m7', 'A_m7', 'A_m7', 'A_m7', 'A_m7', 'F_M7', 'F_M7', 'F_M7', 'F_M7']\n"
     ]
    },
    {
     "name": "stderr",
     "output_type": "stream",
     "text": [
      "100%|██████████| 16/16 [00:09<00:00,  1.61it/s]t/s, batch=4410, gpu_temp=61, loss={'chord': tensor(0.9492, device='cuda:0', grad_fn=<NllLossBackward0>), 'velocity': tensor(0.5127, device='cuda:0', grad_fn=<NllLossBackward0>), 'polyphony': tensor(0.3447, device='cuda:0', grad_fn=<NllLossBackward0>), 'density': tensor(0.4101, device='cuda:0', grad_fn=<NllLossBackward0>), 'piano_roll': tensor(1.0290, device='cuda:0', grad_fn=<NllLoss2DBackward0>), 'total': tensor(3.2457, device='cuda:0', grad_fn=<AddBackward0>)}]  \n"
     ]
    },
    {
     "name": "stdout",
     "output_type": "stream",
     "text": [
      "Generated:  [{'type': 'pitch', 'value': 17}, {'type': 'velocity', 'value': 19}, {'type': 'pitch', 'value': 29}, {'type': 'velocity', 'value': 19}, {'type': 'pitch', 'value': 56}, {'type': 'velocity', 'value': 21}, 'next_frame', 'next_frame', 'next_frame', 'next_frame']\n",
      "Chords:  ['C_M7', 'C_M7', 'C_M7', 'C_M7', 'G_7', 'G_7', 'A_m7', 'A_m7', 'C_M', 'C_M', 'C_M', 'C_M', 'F_M7', 'F_M7', 'A_m7', 'C_M', 'G_sus4', 'G_sus4', 'C_M', 'C_M', 'F_M', 'F_M', 'F_M', 'F_M', 'C_M', 'C_M', 'C_M', 'C_M', 'C_M', 'C_M', 'C_M', 'C_M']\n"
     ]
    },
    {
     "name": "stderr",
     "output_type": "stream",
     "text": [
      "100%|██████████| 10/10 [00:03<00:00,  2.50it/s]\n",
      " 56%|█████▌    | 4420/7864 [24:20<4:16:32,  4.47s/it, batch=4410, gpu_temp=61, loss={'chord': tensor(0.9492, device='cuda:0', grad_fn=<NllLossBackward0>), 'velocity': tensor(0.5127, device='cuda:0', grad_fn=<NllLossBackward0>), 'polyphony': tensor(0.3447, device='cuda:0', grad_fn=<NllLossBackward0>), 'density': tensor(0.4101, device='cuda:0', grad_fn=<NllLossBackward0>), 'piano_roll': tensor(1.0290, device='cuda:0', grad_fn=<NllLoss2DBackward0>), 'total': tensor(3.2457, device='cuda:0', grad_fn=<AddBackward0>)}]"
     ]
    },
    {
     "name": "stdout",
     "output_type": "stream",
     "text": [
      "Generated:  [{'type': 'pitch', 'value': 39}, {'type': 'velocity', 'value': 17}, {'type': 'pitch', 'value': 51}, {'type': 'velocity', 'value': 15}, {'type': 'pitch', 'value': 55}, {'type': 'velocity', 'value': 20}, 'next_frame', 'next_frame', 'next_frame', 'next_frame']\n",
      "Chords:  ['C_M7', 'C_M7', 'C_M7', 'C_M7', 'A_m7', 'A_m7', 'A_m7', 'A_m7', 'F_M', 'F_M', 'F_M', 'F_M', 'G_M', 'G_M', 'G_M', 'G_M', 'C_M7', 'C_M7', 'C_M7', 'C_M7', 'A_m7', 'A_m7', 'A_m7', 'A_m7', 'A_m7', 'A_m7', 'A_m7', 'A_m7', 'D_m7', 'D_m7', 'D_m7', 'D_m7']\n"
     ]
    },
    {
     "name": "stderr",
     "output_type": "stream",
     "text": [
      "100%|██████████| 16/16 [00:08<00:00,  1.78it/s]t/s, batch=4910, gpu_temp=56, loss={'chord': tensor(0.9571, device='cuda:0', grad_fn=<NllLossBackward0>), 'velocity': tensor(0.4667, device='cuda:0', grad_fn=<NllLossBackward0>), 'polyphony': tensor(0.3324, device='cuda:0', grad_fn=<NllLossBackward0>), 'density': tensor(0.3924, device='cuda:0', grad_fn=<NllLossBackward0>), 'piano_roll': tensor(1.0736, device='cuda:0', grad_fn=<NllLoss2DBackward0>), 'total': tensor(3.2221, device='cuda:0', grad_fn=<AddBackward0>)}]  \n"
     ]
    },
    {
     "name": "stdout",
     "output_type": "stream",
     "text": [
      "Generated:  [{'type': 'pitch', 'value': 19}, {'type': 'velocity', 'value': 20}, 'next_frame', 'next_frame', 'next_frame', 'next_frame', {'type': 'pitch', 'value': 26}, {'type': 'velocity', 'value': 17}, 'next_frame', 'next_frame']\n",
      "Chords:  ['E_m7', 'E_m7', 'None', 'None', 'D_m7', 'D_m7', 'None', 'None', 'C_M', 'C_M', 'None', 'None', 'A_m', 'A_m', 'None', 'None', 'F_M7', 'F_M7', 'None', 'None', 'A_m', 'A_m', 'A_m', 'A_m', 'F_M7', 'F_M7', 'A_m', 'A_m', 'A_m', 'A_m', 'A_m', 'A_m']\n"
     ]
    },
    {
     "name": "stderr",
     "output_type": "stream",
     "text": [
      "100%|██████████| 10/10 [00:04<00:00,  2.26it/s]\n",
      " 62%|██████▏   | 4911/7864 [27:01<3:37:47,  4.43s/it, batch=4910, gpu_temp=56, loss={'chord': tensor(0.9571, device='cuda:0', grad_fn=<NllLossBackward0>), 'velocity': tensor(0.4667, device='cuda:0', grad_fn=<NllLossBackward0>), 'polyphony': tensor(0.3324, device='cuda:0', grad_fn=<NllLossBackward0>), 'density': tensor(0.3924, device='cuda:0', grad_fn=<NllLossBackward0>), 'piano_roll': tensor(1.0736, device='cuda:0', grad_fn=<NllLoss2DBackward0>), 'total': tensor(3.2221, device='cuda:0', grad_fn=<AddBackward0>)}]"
     ]
    },
    {
     "name": "stdout",
     "output_type": "stream",
     "text": [
      "Generated:  [{'type': 'pitch', 'value': 39}, {'type': 'velocity', 'value': 17}, {'type': 'pitch', 'value': 51}, {'type': 'velocity', 'value': 15}, {'type': 'pitch', 'value': 55}, {'type': 'velocity', 'value': 20}, 'next_frame', 'next_frame', 'next_frame', 'next_frame']\n",
      "Chords:  ['C_M7', 'C_M7', 'C_M7', 'C_M7', 'A_m7', 'A_m7', 'A_m7', 'A_m7', 'F_M', 'F_M', 'F_M', 'F_M', 'G_M', 'G_M', 'G_M', 'G_M', 'C_M7', 'C_M7', 'C_M7', 'C_M7', 'A_m7', 'A_m7', 'A_m7', 'A_m7', 'F_M7', 'F_M7', 'F_M', 'F_M', 'G_M', 'G_M', 'G_M', 'G_M']\n"
     ]
    },
    {
     "name": "stderr",
     "output_type": "stream",
     "text": [
      "100%|██████████| 16/16 [00:08<00:00,  1.84it/s]t/s, batch=5400, gpu_temp=56, loss={'chord': tensor(0.9482, device='cuda:0', grad_fn=<NllLossBackward0>), 'velocity': tensor(0.4263, device='cuda:0', grad_fn=<NllLossBackward0>), 'polyphony': tensor(0.3375, device='cuda:0', grad_fn=<NllLossBackward0>), 'density': tensor(0.3485, device='cuda:0', grad_fn=<NllLossBackward0>), 'piano_roll': tensor(1.0397, device='cuda:0', grad_fn=<NllLoss2DBackward0>), 'total': tensor(3.1002, device='cuda:0', grad_fn=<AddBackward0>)}]  \n"
     ]
    },
    {
     "name": "stdout",
     "output_type": "stream",
     "text": [
      "Generated:  ['next_frame', 'next_frame', 'next_frame', 'next_frame', 'next_frame', 'next_frame', 'next_frame', 'next_frame', {'type': 'pitch', 'value': 36}, {'type': 'velocity', 'value': 20}]\n",
      "Chords:  ['A_m7', 'A_m7', 'C_M7', 'C_M7', 'F_M', 'F_M', 'F_M7', 'F_M7', 'C_M', 'C_M', 'C_M7', 'C_M7', 'G_M', 'G_M', 'G_M', 'G_M', 'A_m', 'A_m', 'A_m', 'A_m', 'F_M', 'F_M', 'F_M7', 'F_M7', 'C_M', 'C_M', 'C_M7', 'C_M7', 'G_M', 'G_M', 'G_M', 'G_M']\n"
     ]
    },
    {
     "name": "stderr",
     "output_type": "stream",
     "text": [
      "100%|██████████| 10/10 [00:03<00:00,  2.54it/s]\n",
      " 69%|██████▊   | 5402/7864 [29:41<2:50:28,  4.15s/it, batch=5400, gpu_temp=56, loss={'chord': tensor(0.9482, device='cuda:0', grad_fn=<NllLossBackward0>), 'velocity': tensor(0.4263, device='cuda:0', grad_fn=<NllLossBackward0>), 'polyphony': tensor(0.3375, device='cuda:0', grad_fn=<NllLossBackward0>), 'density': tensor(0.3485, device='cuda:0', grad_fn=<NllLossBackward0>), 'piano_roll': tensor(1.0397, device='cuda:0', grad_fn=<NllLoss2DBackward0>), 'total': tensor(3.1002, device='cuda:0', grad_fn=<AddBackward0>)}]"
     ]
    },
    {
     "name": "stdout",
     "output_type": "stream",
     "text": [
      "Generated:  [{'type': 'pitch', 'value': 39}, {'type': 'velocity', 'value': 17}, {'type': 'pitch', 'value': 51}, {'type': 'velocity', 'value': 15}, {'type': 'pitch', 'value': 55}, {'type': 'velocity', 'value': 20}, 'next_frame', 'next_frame', 'next_frame', 'next_frame']\n",
      "Chords:  ['C_M7', 'C_M7', 'C_M7', 'C_M7', 'A_m7', 'A_m7', 'A_m7', 'A_m7', 'F_M', 'F_M', 'F_M', 'F_M', 'G_M', 'G_M', 'G_M', 'G_M', 'C_M7', 'C_M7', 'C_M7', 'C_M7', 'A_m7', 'A_m7', 'A_m7', 'A_m7', 'A_m7', 'A_m7', 'A_m7', 'A_m7', 'A_m7', 'A_m7', 'A_m7', 'A_m7']\n"
     ]
    },
    {
     "name": "stderr",
     "output_type": "stream",
     "text": [
      "100%|██████████| 16/16 [00:10<00:00,  1.55it/s]t/s, batch=5890, gpu_temp=61, loss={'chord': tensor(0.8546, device='cuda:0', grad_fn=<NllLossBackward0>), 'velocity': tensor(0.4020, device='cuda:0', grad_fn=<NllLossBackward0>), 'polyphony': tensor(0.3598, device='cuda:0', grad_fn=<NllLossBackward0>), 'density': tensor(0.3322, device='cuda:0', grad_fn=<NllLossBackward0>), 'piano_roll': tensor(1.0442, device='cuda:0', grad_fn=<NllLoss2DBackward0>), 'total': tensor(2.9927, device='cuda:0', grad_fn=<AddBackward0>)}]  \n"
     ]
    },
    {
     "name": "stdout",
     "output_type": "stream",
     "text": [
      "Generated:  [{'type': 'pitch', 'value': 24}, {'type': 'velocity', 'value': 18}, {'type': 'pitch', 'value': 51}, {'type': 'velocity', 'value': 20}, {'type': 'pitch', 'value': 55}, {'type': 'velocity', 'value': 20}, {'type': 'pitch', 'value': 60}, {'type': 'velocity', 'value': 21}, 'next_frame', 'next_frame']\n",
      "Chords:  ['None', 'None', 'None', 'None', 'D_m7', 'D_m7', 'D_m7', 'D_m7', 'E_m7', 'E_m7', 'E_m7', 'E_m7', 'A_m', 'A_m', 'A_m7', 'A_m7', 'D_m7', 'D_m7', 'D_m7', 'D_m7', 'G_7', 'G_7', 'G_7', 'G_7', 'C_M7', 'C_M7', 'C_M7', 'C_M7', 'B_o', 'B_/o7', 'B_/o7', 'B_/o7']\n"
     ]
    },
    {
     "name": "stderr",
     "output_type": "stream",
     "text": [
      "100%|██████████| 10/10 [00:04<00:00,  2.19it/s]\n",
      " 75%|███████▍  | 5893/7864 [32:23<2:37:04,  4.78s/it, batch=5890, gpu_temp=61, loss={'chord': tensor(0.8546, device='cuda:0', grad_fn=<NllLossBackward0>), 'velocity': tensor(0.4020, device='cuda:0', grad_fn=<NllLossBackward0>), 'polyphony': tensor(0.3598, device='cuda:0', grad_fn=<NllLossBackward0>), 'density': tensor(0.3322, device='cuda:0', grad_fn=<NllLossBackward0>), 'piano_roll': tensor(1.0442, device='cuda:0', grad_fn=<NllLoss2DBackward0>), 'total': tensor(2.9927, device='cuda:0', grad_fn=<AddBackward0>)}]"
     ]
    },
    {
     "name": "stdout",
     "output_type": "stream",
     "text": [
      "Generated:  [{'type': 'pitch', 'value': 39}, {'type': 'velocity', 'value': 17}, {'type': 'pitch', 'value': 51}, {'type': 'velocity', 'value': 15}, {'type': 'pitch', 'value': 55}, {'type': 'velocity', 'value': 20}, 'next_frame', 'next_frame', 'next_frame', 'next_frame']\n",
      "Chords:  ['C_M7', 'C_M7', 'C_M7', 'C_M7', 'A_m7', 'A_m7', 'A_m7', 'A_m7', 'F_M', 'F_M', 'F_M', 'F_M', 'G_M', 'G_M', 'G_M', 'G_M', 'C_M7', 'C_M7', 'C_M7', 'C_M7', 'A_m7', 'A_m7', 'A_m7', 'A_m7', 'F_M', 'F_M', 'F_M', 'F_M', 'G_7', 'G_7', 'G_7', 'G_7']\n"
     ]
    },
    {
     "name": "stderr",
     "output_type": "stream",
     "text": [
      "100%|██████████| 16/16 [00:09<00:00,  1.60it/s]t/s, batch=6380, gpu_temp=56, loss={'chord': tensor(0.9026, device='cuda:0', grad_fn=<NllLossBackward0>), 'velocity': tensor(0.5062, device='cuda:0', grad_fn=<NllLossBackward0>), 'polyphony': tensor(0.3107, device='cuda:0', grad_fn=<NllLossBackward0>), 'density': tensor(0.4010, device='cuda:0', grad_fn=<NllLossBackward0>), 'piano_roll': tensor(1.0427, device='cuda:0', grad_fn=<NllLoss2DBackward0>), 'total': tensor(3.1633, device='cuda:0', grad_fn=<AddBackward0>)}]  \n"
     ]
    },
    {
     "name": "stdout",
     "output_type": "stream",
     "text": [
      "Generated:  [{'type': 'pitch', 'value': 34}, {'type': 'velocity', 'value': 14}, {'type': 'pitch', 'value': 53}, {'type': 'velocity', 'value': 19}, {'type': 'pitch', 'value': 61}, {'type': 'velocity', 'value': 17}, 'next_frame', 'next_frame', 'next_frame', 'next_frame']\n",
      "Chords:  ['E_7', 'E_7', 'E_7', 'E_7', 'A_m', 'A_m', 'A_m', 'A_m', 'D_m7', 'D_m7', 'D_m7', 'D_m7', 'G_M', 'G_M', 'G_7', 'G_7', 'C_M', 'C_M', 'C_M', 'C_M', 'B_o', 'B_o', 'E_7', 'E_7', 'A_m', 'A_m', 'A_m', 'A_m', 'G_7', 'G_7', 'G_7', 'G_7']\n"
     ]
    },
    {
     "name": "stderr",
     "output_type": "stream",
     "text": [
      "100%|██████████| 10/10 [00:04<00:00,  2.19it/s]\n",
      " 81%|████████  | 6384/7864 [35:06<1:55:57,  4.70s/it, batch=6380, gpu_temp=56, loss={'chord': tensor(0.9026, device='cuda:0', grad_fn=<NllLossBackward0>), 'velocity': tensor(0.5062, device='cuda:0', grad_fn=<NllLossBackward0>), 'polyphony': tensor(0.3107, device='cuda:0', grad_fn=<NllLossBackward0>), 'density': tensor(0.4010, device='cuda:0', grad_fn=<NllLossBackward0>), 'piano_roll': tensor(1.0427, device='cuda:0', grad_fn=<NllLoss2DBackward0>), 'total': tensor(3.1633, device='cuda:0', grad_fn=<AddBackward0>)}]"
     ]
    },
    {
     "name": "stdout",
     "output_type": "stream",
     "text": [
      "Generated:  [{'type': 'pitch', 'value': 39}, {'type': 'velocity', 'value': 17}, {'type': 'pitch', 'value': 51}, {'type': 'velocity', 'value': 15}, {'type': 'pitch', 'value': 55}, {'type': 'velocity', 'value': 20}, 'next_frame', 'next_frame', 'next_frame', 'next_frame']\n",
      "Chords:  ['C_M7', 'C_M7', 'C_M7', 'C_M7', 'A_m7', 'A_m7', 'A_m7', 'A_m7', 'F_M', 'F_M', 'F_M', 'F_M', 'G_M', 'G_M', 'G_M', 'G_M', 'C_M7', 'C_M7', 'C_M7', 'C_M7', 'A_m7', 'A_m7', 'A_m7', 'A_m7', 'C_M7', 'C_M7', 'C_M7', 'C_M7', 'C_M7', 'C_M7', 'C_M7', 'C_M7']\n"
     ]
    },
    {
     "name": "stderr",
     "output_type": "stream",
     "text": [
      "100%|██████████| 16/16 [00:08<00:00,  1.79it/s]t/s, batch=6870, gpu_temp=63, loss={'chord': tensor(0.8705, device='cuda:0', grad_fn=<NllLossBackward0>), 'velocity': tensor(0.4199, device='cuda:0', grad_fn=<NllLossBackward0>), 'polyphony': tensor(0.3252, device='cuda:0', grad_fn=<NllLossBackward0>), 'density': tensor(0.3965, device='cuda:0', grad_fn=<NllLossBackward0>), 'piano_roll': tensor(1.0744, device='cuda:0', grad_fn=<NllLoss2DBackward0>), 'total': tensor(3.0865, device='cuda:0', grad_fn=<AddBackward0>)}]  \n"
     ]
    },
    {
     "name": "stdout",
     "output_type": "stream",
     "text": [
      "Generated:  [{'type': 'pitch', 'value': 22}, {'type': 'velocity', 'value': 19}, {'type': 'pitch', 'value': 29}, {'type': 'velocity', 'value': 18}, {'type': 'pitch', 'value': 32}, {'type': 'velocity', 'value': 21}, {'type': 'pitch', 'value': 53}, {'type': 'velocity', 'value': 23}, 'next_frame', 'next_frame']\n",
      "Chords:  ['A_M', 'A_M', 'D_m7', 'D_m7', 'A_M', 'A_M', 'A_m', 'A_m', 'E_o', 'E_o', 'D_m7', 'D_m7', 'A_m7', 'A_m7', 'C_M', 'C_M', 'D_sus4', 'D_sus4', 'D_m', 'D_m', 'E_M', 'D_sus2', 'A_m', 'A_m', 'A_m', 'A_m', 'A_m', 'A_m', 'F_M7', 'F_M7', 'D_m7', 'D_m7']\n"
     ]
    },
    {
     "name": "stderr",
     "output_type": "stream",
     "text": [
      "100%|██████████| 10/10 [00:03<00:00,  2.55it/s]\n",
      " 87%|████████▋ | 6875/7864 [37:45<1:08:52,  4.18s/it, batch=6870, gpu_temp=63, loss={'chord': tensor(0.8705, device='cuda:0', grad_fn=<NllLossBackward0>), 'velocity': tensor(0.4199, device='cuda:0', grad_fn=<NllLossBackward0>), 'polyphony': tensor(0.3252, device='cuda:0', grad_fn=<NllLossBackward0>), 'density': tensor(0.3965, device='cuda:0', grad_fn=<NllLossBackward0>), 'piano_roll': tensor(1.0744, device='cuda:0', grad_fn=<NllLoss2DBackward0>), 'total': tensor(3.0865, device='cuda:0', grad_fn=<AddBackward0>)}]"
     ]
    },
    {
     "name": "stdout",
     "output_type": "stream",
     "text": [
      "Generated:  [{'type': 'pitch', 'value': 39}, {'type': 'velocity', 'value': 17}, {'type': 'pitch', 'value': 51}, {'type': 'velocity', 'value': 15}, {'type': 'pitch', 'value': 55}, {'type': 'velocity', 'value': 20}, 'next_frame', 'next_frame', 'next_frame', 'next_frame']\n",
      "Chords:  ['C_M7', 'C_M7', 'C_M7', 'C_M7', 'A_m7', 'A_m7', 'A_m7', 'A_m7', 'F_M', 'F_M', 'F_M', 'F_M', 'G_M', 'G_M', 'G_M', 'G_M', 'C_M7', 'C_M7', 'C_M7', 'C_M7', 'A_m7', 'A_m7', 'A_m7', 'A_m7', 'A_m7', 'A_m7', 'A_m7', 'A_m7', 'D_m7', 'D_m7', 'D_m7', 'D_m7']\n"
     ]
    },
    {
     "name": "stderr",
     "output_type": "stream",
     "text": [
      "100%|██████████| 16/16 [00:07<00:00,  2.11it/s]t/s, batch=7360, gpu_temp=56, loss={'chord': tensor(0.9076, device='cuda:0', grad_fn=<NllLossBackward0>), 'velocity': tensor(0.4128, device='cuda:0', grad_fn=<NllLossBackward0>), 'polyphony': tensor(0.2815, device='cuda:0', grad_fn=<NllLossBackward0>), 'density': tensor(0.3730, device='cuda:0', grad_fn=<NllLossBackward0>), 'piano_roll': tensor(1.0600, device='cuda:0', grad_fn=<NllLoss2DBackward0>), 'total': tensor(3.0349, device='cuda:0', grad_fn=<AddBackward0>)}]  \n"
     ]
    },
    {
     "name": "stdout",
     "output_type": "stream",
     "text": [
      "Generated:  [{'type': 'pitch', 'value': 19}, {'type': 'velocity', 'value': 19}, {'type': 'pitch', 'value': 31}, {'type': 'velocity', 'value': 20}, 'next_frame', 'next_frame', 'next_frame', 'next_frame', {'type': 'pitch', 'value': 50}, {'type': 'velocity', 'value': 22}]\n",
      "Chords:  ['G_M', 'G_M', 'E_m7', 'E_m7', 'F_M', 'F_M', 'F_M', 'F_M', 'C_M7', 'C_M7', 'A_m', 'A_m', 'D_m7', 'D_m7', 'D_m7', 'D_m7', 'G_M', 'G_M', 'G_M', 'G_M', 'C_M', 'C_M', 'C_M', 'C_M', 'E_m', 'E_m', 'E_m', 'E_m', 'F_M', 'F_M', 'F_M', 'F_M']\n"
     ]
    },
    {
     "name": "stderr",
     "output_type": "stream",
     "text": [
      "100%|██████████| 10/10 [00:03<00:00,  2.90it/s]\n",
      " 94%|█████████▎| 7366/7864 [40:24<30:04,  3.62s/it, batch=7360, gpu_temp=56, loss={'chord': tensor(0.9076, device='cuda:0', grad_fn=<NllLossBackward0>), 'velocity': tensor(0.4128, device='cuda:0', grad_fn=<NllLossBackward0>), 'polyphony': tensor(0.2815, device='cuda:0', grad_fn=<NllLossBackward0>), 'density': tensor(0.3730, device='cuda:0', grad_fn=<NllLossBackward0>), 'piano_roll': tensor(1.0600, device='cuda:0', grad_fn=<NllLoss2DBackward0>), 'total': tensor(3.0349, device='cuda:0', grad_fn=<AddBackward0>)}]"
     ]
    },
    {
     "name": "stdout",
     "output_type": "stream",
     "text": [
      "Generated:  [{'type': 'pitch', 'value': 39}, {'type': 'velocity', 'value': 17}, {'type': 'pitch', 'value': 51}, {'type': 'velocity', 'value': 15}, {'type': 'pitch', 'value': 55}, {'type': 'velocity', 'value': 20}, 'next_frame', 'next_frame', 'next_frame', 'next_frame']\n",
      "Chords:  ['C_M7', 'C_M7', 'C_M7', 'C_M7', 'A_m7', 'A_m7', 'A_m7', 'A_m7', 'F_M', 'F_M', 'F_M', 'F_M', 'G_M', 'G_M', 'G_M', 'G_M', 'C_M7', 'C_M7', 'C_M7', 'C_M7', 'A_m7', 'A_m7', 'A_m7', 'A_m7', 'A_m7', 'A_m7', 'A_m7', 'A_m7', 'F_M7', 'F_M7', 'F_M7', 'F_M7']\n"
     ]
    },
    {
     "name": "stderr",
     "output_type": "stream",
     "text": [
      "100%|██████████| 16/16 [00:07<00:00,  2.17it/s]t/s, batch=7850, gpu_temp=63, loss={'chord': tensor(0.8914, device='cuda:0', grad_fn=<NllLossBackward0>), 'velocity': tensor(0.4509, device='cuda:0', grad_fn=<NllLossBackward0>), 'polyphony': tensor(0.3514, device='cuda:0', grad_fn=<NllLossBackward0>), 'density': tensor(0.3513, device='cuda:0', grad_fn=<NllLossBackward0>), 'piano_roll': tensor(1.0346, device='cuda:0', grad_fn=<NllLoss2DBackward0>), 'total': tensor(3.0797, device='cuda:0', grad_fn=<AddBackward0>)}]\n"
     ]
    },
    {
     "name": "stdout",
     "output_type": "stream",
     "text": [
      "Generated:  ['next_frame', {'type': 'pitch', 'value': 15}, {'type': 'velocity', 'value': 21}, {'type': 'pitch', 'value': 43}, {'type': 'velocity', 'value': 22}, {'type': 'pitch', 'value': 46}, {'type': 'velocity', 'value': 21}, {'type': 'pitch', 'value': 51}, {'type': 'velocity', 'value': 22}, 'next_frame']\n",
      "Chords:  ['A_m', 'A_m', 'A_m', 'A_m', 'A_m', 'A_m', 'A_m', 'A_m', 'F_M7', 'F_M7', 'F_M7', 'F_M7', 'A_m7', 'A_m7', 'A_m', 'A_m', 'C_M', 'C_M', 'C_M', 'C_M', 'D_m7', 'D_m7', 'D_m7', 'D_m7', 'G_M', 'G_M', 'G_M', 'G_M', 'C_M7', 'C_M7', 'C_M', 'C_M']\n"
     ]
    },
    {
     "name": "stderr",
     "output_type": "stream",
     "text": [
      "100%|██████████| 10/10 [00:03<00:00,  2.65it/s]\n",
      "100%|█████████▉| 7857/7864 [43:04<00:25,  3.69s/it, batch=7850, gpu_temp=63, loss={'chord': tensor(0.8914, device='cuda:0', grad_fn=<NllLossBackward0>), 'velocity': tensor(0.4509, device='cuda:0', grad_fn=<NllLossBackward0>), 'polyphony': tensor(0.3514, device='cuda:0', grad_fn=<NllLossBackward0>), 'density': tensor(0.3513, device='cuda:0', grad_fn=<NllLossBackward0>), 'piano_roll': tensor(1.0346, device='cuda:0', grad_fn=<NllLoss2DBackward0>), 'total': tensor(3.0797, device='cuda:0', grad_fn=<AddBackward0>)}]"
     ]
    },
    {
     "name": "stdout",
     "output_type": "stream",
     "text": [
      "Generated:  [{'type': 'pitch', 'value': 39}, {'type': 'velocity', 'value': 17}, {'type': 'pitch', 'value': 51}, {'type': 'velocity', 'value': 15}, {'type': 'pitch', 'value': 55}, {'type': 'velocity', 'value': 20}, 'next_frame', 'next_frame', 'next_frame', 'next_frame']\n",
      "Chords:  ['C_M7', 'C_M7', 'C_M7', 'C_M7', 'A_m7', 'A_m7', 'A_m7', 'A_m7', 'F_M', 'F_M', 'F_M', 'F_M', 'G_M', 'G_M', 'G_M', 'G_M', 'C_M7', 'C_M7', 'C_M7', 'C_M7', 'A_m7', 'A_m7', 'A_m7', 'A_m7', 'A_m7', 'A_m7', 'C_M7', 'C_M7', 'A_m7', 'A_m7', 'A_m7', 'A_m7']\n"
     ]
    },
    {
     "name": "stderr",
     "output_type": "stream",
     "text": [
      "100%|██████████| 7864/7864 [43:06<00:00,  3.04it/s, batch=7860, gpu_temp=59, loss={'chord': tensor(0.8829, device='cuda:0', grad_fn=<NllLossBackward0>), 'velocity': tensor(0.4187, device='cuda:0', grad_fn=<NllLossBackward0>), 'polyphony': tensor(0.3110, device='cuda:0', grad_fn=<NllLossBackward0>), 'density': tensor(0.3732, device='cuda:0', grad_fn=<NllLossBackward0>), 'piano_roll': tensor(1.1105, device='cuda:0', grad_fn=<NllLoss2DBackward0>), 'total': tensor(3.0962, device='cuda:0', grad_fn=<AddBackward0>)}]\n",
      "100%|██████████| 16/16 [00:08<00:00,  1.82it/s]/s, batch=490, gpu_temp=63, loss={'chord': tensor(0.9864, device='cuda:0', grad_fn=<NllLossBackward0>), 'velocity': tensor(0.4133, device='cuda:0', grad_fn=<NllLossBackward0>), 'polyphony': tensor(0.3698, device='cuda:0', grad_fn=<NllLossBackward0>), 'density': tensor(0.3584, device='cuda:0', grad_fn=<NllLossBackward0>), 'piano_roll': tensor(1.0915, device='cuda:0', grad_fn=<NllLoss2DBackward0>), 'total': tensor(3.2194, device='cuda:0', grad_fn=<AddBackward0>)}]\n"
     ]
    },
    {
     "name": "stdout",
     "output_type": "stream",
     "text": [
      "Generated:  [{'type': 'pitch', 'value': 17}, {'type': 'velocity', 'value': 22}, {'type': 'pitch', 'value': 29}, {'type': 'velocity', 'value': 23}, {'type': 'pitch', 'value': 41}, {'type': 'velocity', 'value': 22}, {'type': 'pitch', 'value': 46}, {'type': 'velocity', 'value': 21}, 'next_frame', 'next_frame']\n",
      "Chords:  ['F_M', 'F_M', 'F_M7', 'F_M7', 'C_M', 'C_M', 'C_M7', 'C_M7', 'C_7', 'C_7', 'C_7', 'C_7', 'F_M', 'F_M', 'F_M', 'F_M', 'B_o', 'B_o', 'B_o', 'B_o', 'E_m', 'E_m', 'E_m7', 'E_m7', 'A_m', 'A_m', 'A_m', 'A_m', 'D_m', 'D_m', 'D_m7', 'D_m7']\n"
     ]
    },
    {
     "name": "stderr",
     "output_type": "stream",
     "text": [
      "100%|██████████| 10/10 [00:03<00:00,  2.58it/s]\n",
      "  6%|▋         | 492/7864 [02:55<8:30:22,  4.15s/it, batch=490, gpu_temp=63, loss={'chord': tensor(0.9864, device='cuda:0', grad_fn=<NllLossBackward0>), 'velocity': tensor(0.4133, device='cuda:0', grad_fn=<NllLossBackward0>), 'polyphony': tensor(0.3698, device='cuda:0', grad_fn=<NllLossBackward0>), 'density': tensor(0.3584, device='cuda:0', grad_fn=<NllLossBackward0>), 'piano_roll': tensor(1.0915, device='cuda:0', grad_fn=<NllLoss2DBackward0>), 'total': tensor(3.2194, device='cuda:0', grad_fn=<AddBackward0>)}]"
     ]
    },
    {
     "name": "stdout",
     "output_type": "stream",
     "text": [
      "Generated:  [{'type': 'pitch', 'value': 39}, {'type': 'velocity', 'value': 17}, {'type': 'pitch', 'value': 51}, {'type': 'velocity', 'value': 15}, {'type': 'pitch', 'value': 55}, {'type': 'velocity', 'value': 20}, 'next_frame', 'next_frame', 'next_frame', 'next_frame']\n",
      "Chords:  ['C_M7', 'C_M7', 'C_M7', 'C_M7', 'A_m7', 'A_m7', 'A_m7', 'A_m7', 'F_M', 'F_M', 'F_M', 'F_M', 'G_M', 'G_M', 'G_M', 'G_M', 'C_M7', 'C_M7', 'C_M7', 'C_M7', 'A_m7', 'A_m7', 'A_m7', 'A_m7', 'F_M', 'F_M', 'F_M', 'F_M', 'G_7', 'G_7', 'G_M', 'G_M']\n"
     ]
    },
    {
     "name": "stderr",
     "output_type": "stream",
     "text": [
      "100%|██████████| 16/16 [00:10<00:00,  1.53it/s]/s, batch=980, gpu_temp=63, loss={'chord': tensor(0.8633, device='cuda:0', grad_fn=<NllLossBackward0>), 'velocity': tensor(0.4481, device='cuda:0', grad_fn=<NllLossBackward0>), 'polyphony': tensor(0.3182, device='cuda:0', grad_fn=<NllLossBackward0>), 'density': tensor(0.3566, device='cuda:0', grad_fn=<NllLossBackward0>), 'piano_roll': tensor(1.0398, device='cuda:0', grad_fn=<NllLoss2DBackward0>), 'total': tensor(3.0260, device='cuda:0', grad_fn=<AddBackward0>)}]  \n"
     ]
    },
    {
     "name": "stdout",
     "output_type": "stream",
     "text": [
      "Generated:  [{'type': 'pitch', 'value': 22}, {'type': 'velocity', 'value': 20}, {'type': 'pitch', 'value': 34}, {'type': 'velocity', 'value': 22}, {'type': 'pitch', 'value': 58}, {'type': 'velocity', 'value': 23}, 'next_frame', 'next_frame', 'next_frame', 'next_frame']\n",
      "Chords:  ['C_M', 'C_M', 'C_M', 'C_M', 'G_M', 'G_M', 'G_M', 'G_M', 'A_m7', 'A_m7', 'A_m', 'A_m', 'F_M', 'F_M', 'F_M7', 'F_M7', 'C_M', 'C_M', 'C_M', 'C_M', 'C_M', 'C_M', 'C_M7', 'C_M7', 'C_M', 'C_M', 'C_M', 'C_M', 'C_M', 'C_M', 'C_M7', 'C_M7']\n"
     ]
    },
    {
     "name": "stderr",
     "output_type": "stream",
     "text": [
      "100%|██████████| 10/10 [00:03<00:00,  2.69it/s]\n",
      " 12%|█▎        | 983/7864 [05:37<8:47:53,  4.60s/it, batch=980, gpu_temp=63, loss={'chord': tensor(0.8633, device='cuda:0', grad_fn=<NllLossBackward0>), 'velocity': tensor(0.4481, device='cuda:0', grad_fn=<NllLossBackward0>), 'polyphony': tensor(0.3182, device='cuda:0', grad_fn=<NllLossBackward0>), 'density': tensor(0.3566, device='cuda:0', grad_fn=<NllLossBackward0>), 'piano_roll': tensor(1.0398, device='cuda:0', grad_fn=<NllLoss2DBackward0>), 'total': tensor(3.0260, device='cuda:0', grad_fn=<AddBackward0>)}]"
     ]
    },
    {
     "name": "stdout",
     "output_type": "stream",
     "text": [
      "Generated:  [{'type': 'pitch', 'value': 39}, {'type': 'velocity', 'value': 17}, {'type': 'pitch', 'value': 51}, {'type': 'velocity', 'value': 15}, {'type': 'pitch', 'value': 55}, {'type': 'velocity', 'value': 20}, 'next_frame', 'next_frame', 'next_frame', 'next_frame']\n",
      "Chords:  ['C_M7', 'C_M7', 'C_M7', 'C_M7', 'A_m7', 'A_m7', 'A_m7', 'A_m7', 'F_M', 'F_M', 'F_M', 'F_M', 'G_M', 'G_M', 'G_M', 'G_M', 'C_M7', 'C_M7', 'C_M7', 'C_M7', 'A_m7', 'A_m7', 'A_m7', 'A_m7', 'C_M7', 'C_M7', 'C_M7', 'C_M7', 'C_M7', 'C_M7', 'C_M7', 'C_M7']\n"
     ]
    },
    {
     "name": "stderr",
     "output_type": "stream",
     "text": [
      "100%|██████████| 16/16 [00:08<00:00,  1.93it/s]t/s, batch=1470, gpu_temp=56, loss={'chord': tensor(0.8973, device='cuda:0', grad_fn=<NllLossBackward0>), 'velocity': tensor(0.4397, device='cuda:0', grad_fn=<NllLossBackward0>), 'polyphony': tensor(0.3316, device='cuda:0', grad_fn=<NllLossBackward0>), 'density': tensor(0.3287, device='cuda:0', grad_fn=<NllLossBackward0>), 'piano_roll': tensor(1.1048, device='cuda:0', grad_fn=<NllLoss2DBackward0>), 'total': tensor(3.1021, device='cuda:0', grad_fn=<AddBackward0>)}]\n"
     ]
    },
    {
     "name": "stdout",
     "output_type": "stream",
     "text": [
      "Generated:  [{'type': 'pitch', 'value': 12}, {'type': 'velocity', 'value': 19}, {'type': 'pitch', 'value': 24}, {'type': 'velocity', 'value': 21}, 'next_frame', 'next_frame', 'next_frame', 'next_frame', {'type': 'pitch', 'value': 12}, {'type': 'velocity', 'value': 18}]\n",
      "Chords:  ['C_M', 'C_M', 'D_m7', 'D_m7', 'G_7', 'G_7', 'G_7', 'G_7', 'C_M7', 'C_M7', 'C_M', 'C_M', 'F_M', 'F_M', 'D_m7', 'C_M', 'C_M', 'C_M', 'C_M', 'C_M', 'F_M7', 'F_M7', 'F_M7', 'F_M7', 'F_M7', 'F_M7', 'F_M7', 'F_M7', 'F_M7', 'F_M7', 'F_M7', 'F_M7']\n"
     ]
    },
    {
     "name": "stderr",
     "output_type": "stream",
     "text": [
      "100%|██████████| 10/10 [00:04<00:00,  2.45it/s]\n",
      " 19%|█▊        | 1474/7864 [08:16<7:11:07,  4.05s/it, batch=1470, gpu_temp=56, loss={'chord': tensor(0.8973, device='cuda:0', grad_fn=<NllLossBackward0>), 'velocity': tensor(0.4397, device='cuda:0', grad_fn=<NllLossBackward0>), 'polyphony': tensor(0.3316, device='cuda:0', grad_fn=<NllLossBackward0>), 'density': tensor(0.3287, device='cuda:0', grad_fn=<NllLossBackward0>), 'piano_roll': tensor(1.1048, device='cuda:0', grad_fn=<NllLoss2DBackward0>), 'total': tensor(3.1021, device='cuda:0', grad_fn=<AddBackward0>)}]"
     ]
    },
    {
     "name": "stdout",
     "output_type": "stream",
     "text": [
      "Generated:  [{'type': 'pitch', 'value': 39}, {'type': 'velocity', 'value': 17}, {'type': 'pitch', 'value': 51}, {'type': 'velocity', 'value': 15}, {'type': 'pitch', 'value': 55}, {'type': 'velocity', 'value': 20}, 'next_frame', 'next_frame', 'next_frame', 'next_frame']\n",
      "Chords:  ['C_M7', 'C_M7', 'C_M7', 'C_M7', 'A_m7', 'A_m7', 'A_m7', 'A_m7', 'F_M', 'F_M', 'F_M', 'F_M', 'G_M', 'G_M', 'G_M', 'G_M', 'C_M7', 'C_M7', 'C_M7', 'C_M7', 'A_m7', 'A_m7', 'A_m7', 'A_m7', 'F_M', 'F_M', 'F_M', 'F_M', 'F_M', 'C_M', 'C_M', 'C_M']\n"
     ]
    },
    {
     "name": "stderr",
     "output_type": "stream",
     "text": [
      "100%|██████████| 16/16 [00:09<00:00,  1.74it/s]t/s, batch=1960, gpu_temp=63, loss={'chord': tensor(0.8634, device='cuda:0', grad_fn=<NllLossBackward0>), 'velocity': tensor(0.4013, device='cuda:0', grad_fn=<NllLossBackward0>), 'polyphony': tensor(0.2676, device='cuda:0', grad_fn=<NllLossBackward0>), 'density': tensor(0.3972, device='cuda:0', grad_fn=<NllLossBackward0>), 'piano_roll': tensor(1.1157, device='cuda:0', grad_fn=<NllLoss2DBackward0>), 'total': tensor(3.0451, device='cuda:0', grad_fn=<AddBackward0>)}]  \n"
     ]
    },
    {
     "name": "stdout",
     "output_type": "stream",
     "text": [
      "Generated:  [{'type': 'pitch', 'value': 22}, {'type': 'velocity', 'value': 17}, {'type': 'pitch', 'value': 41}, {'type': 'velocity', 'value': 20}, {'type': 'pitch', 'value': 46}, {'type': 'velocity', 'value': 20}, 'next_frame', 'next_frame', 'next_frame', 'next_frame']\n",
      "Chords:  ['G_sus4', 'G_sus4', 'G_M', 'G_M', 'A_m7', 'A_m7', 'A_m7', 'A_m7', 'A_m7', 'A_m7', 'A_m7', 'A_m7', 'F_M7', 'F_M7', 'F_M7', 'F_M7', 'G_M', 'G_M', 'G_M', 'G_M', 'A_m7', 'A_m7', 'A_m7', 'A_m7', 'A_m', 'A_m', 'A_m', 'A_m', 'D_m', 'D_m', 'D_m', 'D_m']\n"
     ]
    },
    {
     "name": "stderr",
     "output_type": "stream",
     "text": [
      "100%|██████████| 10/10 [00:03<00:00,  2.55it/s]\n",
      " 25%|██▍       | 1965/7864 [10:59<6:58:29,  4.26s/it, batch=1960, gpu_temp=63, loss={'chord': tensor(0.8634, device='cuda:0', grad_fn=<NllLossBackward0>), 'velocity': tensor(0.4013, device='cuda:0', grad_fn=<NllLossBackward0>), 'polyphony': tensor(0.2676, device='cuda:0', grad_fn=<NllLossBackward0>), 'density': tensor(0.3972, device='cuda:0', grad_fn=<NllLossBackward0>), 'piano_roll': tensor(1.1157, device='cuda:0', grad_fn=<NllLoss2DBackward0>), 'total': tensor(3.0451, device='cuda:0', grad_fn=<AddBackward0>)}]"
     ]
    },
    {
     "name": "stdout",
     "output_type": "stream",
     "text": [
      "Generated:  [{'type': 'pitch', 'value': 39}, {'type': 'velocity', 'value': 17}, {'type': 'pitch', 'value': 51}, {'type': 'velocity', 'value': 15}, {'type': 'pitch', 'value': 55}, {'type': 'velocity', 'value': 20}, 'next_frame', 'next_frame', 'next_frame', 'next_frame']\n",
      "Chords:  ['C_M7', 'C_M7', 'C_M7', 'C_M7', 'A_m7', 'A_m7', 'A_m7', 'A_m7', 'F_M', 'F_M', 'F_M', 'F_M', 'G_M', 'G_M', 'G_M', 'G_M', 'C_M7', 'C_M7', 'C_M7', 'C_M7', 'A_m7', 'A_m7', 'A_m7', 'A_m7', 'C_M7', 'C_M7', 'C_M7', 'C_M7', 'F_M7', 'F_M7', 'F_M7', 'F_M7']\n"
     ]
    },
    {
     "name": "stderr",
     "output_type": "stream",
     "text": [
      "100%|██████████| 16/16 [00:08<00:00,  1.91it/s]t/s, batch=2450, gpu_temp=63, loss={'chord': tensor(0.8572, device='cuda:0', grad_fn=<NllLossBackward0>), 'velocity': tensor(0.4617, device='cuda:0', grad_fn=<NllLossBackward0>), 'polyphony': tensor(0.2850, device='cuda:0', grad_fn=<NllLossBackward0>), 'density': tensor(0.3638, device='cuda:0', grad_fn=<NllLossBackward0>), 'piano_roll': tensor(1.0125, device='cuda:0', grad_fn=<NllLoss2DBackward0>), 'total': tensor(2.9802, device='cuda:0', grad_fn=<AddBackward0>)}]  \n"
     ]
    },
    {
     "name": "stdout",
     "output_type": "stream",
     "text": [
      "Generated:  [{'type': 'pitch', 'value': 15}, {'type': 'velocity', 'value': 20}, {'type': 'pitch', 'value': 46}, {'type': 'velocity', 'value': 19}, {'type': 'pitch', 'value': 53}, {'type': 'velocity', 'value': 22}, 'next_frame', 'next_frame', 'next_frame', 'next_frame']\n",
      "Chords:  ['D_m7', 'D_m7', 'B_o', 'B_o', 'E_m', 'E_m', 'E_m7', 'E_m7', 'A_m', 'A_m', 'A_m7', 'A_m7', 'D_m7', 'D_m7', 'D_m7', 'D_m7', 'G#_m7', 'G#_m7', 'E_M7', 'E_M7', 'B_o', 'B_o', 'G#_o', 'G#_o', 'A_m7', 'A_m7', 'F_M', 'F_M', 'E_m7', 'E_m7', 'C_M', 'G_M']\n"
     ]
    },
    {
     "name": "stderr",
     "output_type": "stream",
     "text": [
      "100%|██████████| 10/10 [00:03<00:00,  2.76it/s]\n",
      " 31%|███       | 2456/7864 [13:38<5:53:08,  3.92s/it, batch=2450, gpu_temp=63, loss={'chord': tensor(0.8572, device='cuda:0', grad_fn=<NllLossBackward0>), 'velocity': tensor(0.4617, device='cuda:0', grad_fn=<NllLossBackward0>), 'polyphony': tensor(0.2850, device='cuda:0', grad_fn=<NllLossBackward0>), 'density': tensor(0.3638, device='cuda:0', grad_fn=<NllLossBackward0>), 'piano_roll': tensor(1.0125, device='cuda:0', grad_fn=<NllLoss2DBackward0>), 'total': tensor(2.9802, device='cuda:0', grad_fn=<AddBackward0>)}]"
     ]
    },
    {
     "name": "stdout",
     "output_type": "stream",
     "text": [
      "Generated:  [{'type': 'pitch', 'value': 39}, {'type': 'velocity', 'value': 17}, {'type': 'pitch', 'value': 51}, {'type': 'velocity', 'value': 15}, {'type': 'pitch', 'value': 55}, {'type': 'velocity', 'value': 20}, 'next_frame', 'next_frame', 'next_frame', 'next_frame']\n",
      "Chords:  ['C_M7', 'C_M7', 'C_M7', 'C_M7', 'A_m7', 'A_m7', 'A_m7', 'A_m7', 'F_M', 'F_M', 'F_M', 'F_M', 'G_M', 'G_M', 'G_M', 'G_M', 'C_M7', 'C_M7', 'C_M7', 'C_M7', 'A_m7', 'A_m7', 'A_m7', 'A_m7', 'F_M', 'F_M', 'F_M', 'F_M', 'G_7', 'G_7', 'G_M', 'G_M']\n"
     ]
    },
    {
     "name": "stderr",
     "output_type": "stream",
     "text": [
      "100%|██████████| 16/16 [00:09<00:00,  1.63it/s]t/s, batch=2940, gpu_temp=56, loss={'chord': tensor(0.9088, device='cuda:0', grad_fn=<NllLossBackward0>), 'velocity': tensor(0.4437, device='cuda:0', grad_fn=<NllLossBackward0>), 'polyphony': tensor(0.2731, device='cuda:0', grad_fn=<NllLossBackward0>), 'density': tensor(0.3959, device='cuda:0', grad_fn=<NllLossBackward0>), 'piano_roll': tensor(1.0752, device='cuda:0', grad_fn=<NllLoss2DBackward0>), 'total': tensor(3.0966, device='cuda:0', grad_fn=<AddBackward0>)}]  \n"
     ]
    },
    {
     "name": "stdout",
     "output_type": "stream",
     "text": [
      "Generated:  [{'type': 'pitch', 'value': 38}, {'type': 'velocity', 'value': 18}, {'type': 'pitch', 'value': 41}, {'type': 'velocity', 'value': 17}, 'next_frame', 'next_frame', 'next_frame', 'next_frame', 'next_frame', 'next_frame']\n",
      "Chords:  ['F_M', 'F_M', 'F_M', 'F_M', 'G_M', 'G_M', 'G_M', 'G_M', 'C_M', 'C_M', 'G_M', 'G_M', 'A_m7', 'A_m7', 'A_m7', 'A_m7', 'F_M', 'F_M', 'F_M7', 'F_M7', 'C_M', 'C_M', 'C_M', 'C_M', 'D_m7', 'D_m7', 'D_m7', 'D_m7', 'C_M7', 'C_M7', 'G_M', 'G_M']\n"
     ]
    },
    {
     "name": "stderr",
     "output_type": "stream",
     "text": [
      "100%|██████████| 10/10 [00:03<00:00,  2.61it/s]\n",
      " 37%|███▋      | 2947/7864 [16:21<6:09:18,  4.51s/it, batch=2940, gpu_temp=56, loss={'chord': tensor(0.9088, device='cuda:0', grad_fn=<NllLossBackward0>), 'velocity': tensor(0.4437, device='cuda:0', grad_fn=<NllLossBackward0>), 'polyphony': tensor(0.2731, device='cuda:0', grad_fn=<NllLossBackward0>), 'density': tensor(0.3959, device='cuda:0', grad_fn=<NllLossBackward0>), 'piano_roll': tensor(1.0752, device='cuda:0', grad_fn=<NllLoss2DBackward0>), 'total': tensor(3.0966, device='cuda:0', grad_fn=<AddBackward0>)}]"
     ]
    },
    {
     "name": "stdout",
     "output_type": "stream",
     "text": [
      "Generated:  [{'type': 'pitch', 'value': 39}, {'type': 'velocity', 'value': 17}, {'type': 'pitch', 'value': 51}, {'type': 'velocity', 'value': 15}, {'type': 'pitch', 'value': 55}, {'type': 'velocity', 'value': 20}, 'next_frame', 'next_frame', 'next_frame', 'next_frame']\n",
      "Chords:  ['C_M7', 'C_M7', 'C_M7', 'C_M7', 'A_m7', 'A_m7', 'A_m7', 'A_m7', 'F_M', 'F_M', 'F_M', 'F_M', 'G_M', 'G_M', 'G_M', 'G_M', 'C_M7', 'C_M7', 'C_M7', 'C_M7', 'A_m7', 'A_m7', 'A_m7', 'A_m7', 'C_M7', 'C_M7', 'C_M7', 'C_M7', 'F_M7', 'F_M7', 'F_M7', 'F_M7']\n"
     ]
    },
    {
     "name": "stderr",
     "output_type": "stream",
     "text": [
      "100%|██████████| 16/16 [00:09<00:00,  1.62it/s]t/s, batch=3430, gpu_temp=56, loss={'chord': tensor(0.8416, device='cuda:0', grad_fn=<NllLossBackward0>), 'velocity': tensor(0.4229, device='cuda:0', grad_fn=<NllLossBackward0>), 'polyphony': tensor(0.3031, device='cuda:0', grad_fn=<NllLossBackward0>), 'density': tensor(0.3442, device='cuda:0', grad_fn=<NllLossBackward0>), 'piano_roll': tensor(1.0324, device='cuda:0', grad_fn=<NllLoss2DBackward0>), 'total': tensor(2.9442, device='cuda:0', grad_fn=<AddBackward0>)}]  \n"
     ]
    },
    {
     "name": "stdout",
     "output_type": "stream",
     "text": [
      "Generated:  [{'type': 'pitch', 'value': 8}, {'type': 'velocity', 'value': 20}, {'type': 'pitch', 'value': 20}, {'type': 'velocity', 'value': 23}, {'type': 'pitch', 'value': 48}, {'type': 'velocity', 'value': 22}, 'next_frame', 'next_frame', 'next_frame', 'next_frame']\n",
      "Chords:  ['C_M7', 'C_M7', 'C_M7', 'C_M7', 'F_M', 'F_M', 'F_M7', 'F_M7', 'C_M', 'C_M', 'C_M', 'C_M', 'E_m7', 'E_m7', 'G_M', 'G_M', 'A_m', 'A_m', 'A_m', 'A_m', 'D_m7', 'D_m7', 'D_m7', 'D_m7', 'G_M', 'G_M', 'G_M', 'G_M', 'C_M', 'C_M', 'C_M', 'C_M']\n"
     ]
    },
    {
     "name": "stderr",
     "output_type": "stream",
     "text": [
      "100%|██████████| 10/10 [00:03<00:00,  2.77it/s]\n",
      " 44%|████▎     | 3438/7864 [19:02<5:20:38,  4.35s/it, batch=3430, gpu_temp=56, loss={'chord': tensor(0.8416, device='cuda:0', grad_fn=<NllLossBackward0>), 'velocity': tensor(0.4229, device='cuda:0', grad_fn=<NllLossBackward0>), 'polyphony': tensor(0.3031, device='cuda:0', grad_fn=<NllLossBackward0>), 'density': tensor(0.3442, device='cuda:0', grad_fn=<NllLossBackward0>), 'piano_roll': tensor(1.0324, device='cuda:0', grad_fn=<NllLoss2DBackward0>), 'total': tensor(2.9442, device='cuda:0', grad_fn=<AddBackward0>)}]"
     ]
    },
    {
     "name": "stdout",
     "output_type": "stream",
     "text": [
      "Generated:  [{'type': 'pitch', 'value': 39}, {'type': 'velocity', 'value': 17}, {'type': 'pitch', 'value': 51}, {'type': 'velocity', 'value': 15}, {'type': 'pitch', 'value': 55}, {'type': 'velocity', 'value': 20}, 'next_frame', 'next_frame', 'next_frame', 'next_frame']\n",
      "Chords:  ['C_M7', 'C_M7', 'C_M7', 'C_M7', 'A_m7', 'A_m7', 'A_m7', 'A_m7', 'F_M', 'F_M', 'F_M', 'F_M', 'G_M', 'G_M', 'G_M', 'G_M', 'C_M7', 'C_M7', 'C_M7', 'C_M7', 'A_m7', 'A_m7', 'A_m7', 'A_m7', 'F_M', 'F_M', 'F_M', 'F_M', 'C_M', 'C_M', 'C_M', 'C_M']\n"
     ]
    },
    {
     "name": "stderr",
     "output_type": "stream",
     "text": [
      "100%|██████████| 16/16 [00:08<00:00,  1.84it/s]t/s, batch=3920, gpu_temp=56, loss={'chord': tensor(0.8259, device='cuda:0', grad_fn=<NllLossBackward0>), 'velocity': tensor(0.4091, device='cuda:0', grad_fn=<NllLossBackward0>), 'polyphony': tensor(0.3133, device='cuda:0', grad_fn=<NllLossBackward0>), 'density': tensor(0.3763, device='cuda:0', grad_fn=<NllLossBackward0>), 'piano_roll': tensor(1.0805, device='cuda:0', grad_fn=<NllLoss2DBackward0>), 'total': tensor(3.0052, device='cuda:0', grad_fn=<AddBackward0>)}]  \n"
     ]
    },
    {
     "name": "stdout",
     "output_type": "stream",
     "text": [
      "Generated:  ['next_frame', 'next_frame', 'next_frame', 'next_frame', {'type': 'pitch', 'value': 46}, {'type': 'velocity', 'value': 21}, {'type': 'pitch', 'value': 58}, {'type': 'velocity', 'value': 22}, 'next_frame', 'next_frame']\n",
      "Chords:  ['F_M7', 'F_M7', 'C_M', 'C_M', 'D_m', 'C_M', 'C_M', 'C_M', 'F_M7', 'F_M7', 'G_M', 'G_M', 'C_sus2', 'C_sus2', 'C_M', 'C_M', 'D_m7', 'D_m7', 'C_M', 'C_M', 'C_M', 'C_M', 'A_m7', 'A_m7', 'F_M7', 'F_M7', 'C_M', 'C_M', 'A_m', 'A_m', 'A_m', 'A_m']\n"
     ]
    },
    {
     "name": "stderr",
     "output_type": "stream",
     "text": [
      "100%|██████████| 10/10 [00:03<00:00,  2.98it/s]\n",
      " 50%|████▉     | 3929/7864 [21:41<4:19:50,  3.96s/it, batch=3920, gpu_temp=56, loss={'chord': tensor(0.8259, device='cuda:0', grad_fn=<NllLossBackward0>), 'velocity': tensor(0.4091, device='cuda:0', grad_fn=<NllLossBackward0>), 'polyphony': tensor(0.3133, device='cuda:0', grad_fn=<NllLossBackward0>), 'density': tensor(0.3763, device='cuda:0', grad_fn=<NllLossBackward0>), 'piano_roll': tensor(1.0805, device='cuda:0', grad_fn=<NllLoss2DBackward0>), 'total': tensor(3.0052, device='cuda:0', grad_fn=<AddBackward0>)}]"
     ]
    },
    {
     "name": "stdout",
     "output_type": "stream",
     "text": [
      "Generated:  [{'type': 'pitch', 'value': 39}, {'type': 'velocity', 'value': 17}, {'type': 'pitch', 'value': 51}, {'type': 'velocity', 'value': 15}, {'type': 'pitch', 'value': 55}, {'type': 'velocity', 'value': 20}, 'next_frame', 'next_frame', 'next_frame', 'next_frame']\n",
      "Chords:  ['C_M7', 'C_M7', 'C_M7', 'C_M7', 'A_m7', 'A_m7', 'A_m7', 'A_m7', 'F_M', 'F_M', 'F_M', 'F_M', 'G_M', 'G_M', 'G_M', 'G_M', 'C_M7', 'C_M7', 'C_M7', 'C_M7', 'A_m7', 'A_m7', 'A_m7', 'A_m7', 'A_m7', 'A_m7', 'A_m7', 'A_m7', 'F_M', 'F_M', 'F_M', 'F_M']\n"
     ]
    },
    {
     "name": "stderr",
     "output_type": "stream",
     "text": [
      "100%|██████████| 16/16 [00:09<00:00,  1.67it/s]t/s, batch=4410, gpu_temp=63, loss={'chord': tensor(0.8521, device='cuda:0', grad_fn=<NllLossBackward0>), 'velocity': tensor(0.4219, device='cuda:0', grad_fn=<NllLossBackward0>), 'polyphony': tensor(0.2998, device='cuda:0', grad_fn=<NllLossBackward0>), 'density': tensor(0.3884, device='cuda:0', grad_fn=<NllLossBackward0>), 'piano_roll': tensor(1.0560, device='cuda:0', grad_fn=<NllLoss2DBackward0>), 'total': tensor(3.0183, device='cuda:0', grad_fn=<AddBackward0>)}]  \n"
     ]
    },
    {
     "name": "stdout",
     "output_type": "stream",
     "text": [
      "Generated:  [{'type': 'pitch', 'value': 27}, {'type': 'velocity', 'value': 20}, {'type': 'pitch', 'value': 50}, {'type': 'velocity', 'value': 21}, 'next_frame', 'next_frame', 'next_frame', 'next_frame', {'type': 'pitch', 'value': 34}, {'type': 'velocity', 'value': 18}]\n",
      "Chords:  ['C_M', 'C_M', 'C_M', 'C_M', 'G_M', 'G_M', 'G_M', 'G_M', 'A_m7', 'A_m7', 'A_m7', 'A_m7', 'E_m', 'E_m', 'C_M7', 'C_M7', 'F_M', 'F_M', 'F_M', 'F_M', 'C_M', 'C_M', 'C_M', 'C_M', 'D_m7', 'D_m7', 'D_m7', 'D_m7', 'G_M', 'G_M', 'G_M', 'G_M']\n"
     ]
    },
    {
     "name": "stderr",
     "output_type": "stream",
     "text": [
      "100%|██████████| 10/10 [00:03<00:00,  2.67it/s]\n",
      " 56%|█████▌    | 4420/7864 [24:22<4:08:22,  4.33s/it, batch=4410, gpu_temp=63, loss={'chord': tensor(0.8521, device='cuda:0', grad_fn=<NllLossBackward0>), 'velocity': tensor(0.4219, device='cuda:0', grad_fn=<NllLossBackward0>), 'polyphony': tensor(0.2998, device='cuda:0', grad_fn=<NllLossBackward0>), 'density': tensor(0.3884, device='cuda:0', grad_fn=<NllLossBackward0>), 'piano_roll': tensor(1.0560, device='cuda:0', grad_fn=<NllLoss2DBackward0>), 'total': tensor(3.0183, device='cuda:0', grad_fn=<AddBackward0>)}]"
     ]
    },
    {
     "name": "stdout",
     "output_type": "stream",
     "text": [
      "Generated:  [{'type': 'pitch', 'value': 39}, {'type': 'velocity', 'value': 17}, {'type': 'pitch', 'value': 51}, {'type': 'velocity', 'value': 15}, {'type': 'pitch', 'value': 55}, {'type': 'velocity', 'value': 20}, 'next_frame', 'next_frame', 'next_frame', 'next_frame']\n",
      "Chords:  ['C_M7', 'C_M7', 'C_M7', 'C_M7', 'A_m7', 'A_m7', 'A_m7', 'A_m7', 'F_M', 'F_M', 'F_M', 'F_M', 'G_M', 'G_M', 'G_M', 'G_M', 'C_M7', 'C_M7', 'C_M7', 'C_M7', 'A_m7', 'A_m7', 'A_m7', 'A_m7', 'A_m7', 'A_m7', 'A_m7', 'A_m7', 'F_M', 'F_M', 'F_M', 'F_M']\n"
     ]
    },
    {
     "name": "stderr",
     "output_type": "stream",
     "text": [
      "100%|██████████| 16/16 [00:09<00:00,  1.74it/s]t/s, batch=4910, gpu_temp=62, loss={'chord': tensor(0.7951, device='cuda:0', grad_fn=<NllLossBackward0>), 'velocity': tensor(0.4665, device='cuda:0', grad_fn=<NllLossBackward0>), 'polyphony': tensor(0.3547, device='cuda:0', grad_fn=<NllLossBackward0>), 'density': tensor(0.3842, device='cuda:0', grad_fn=<NllLossBackward0>), 'piano_roll': tensor(1.0546, device='cuda:0', grad_fn=<NllLoss2DBackward0>), 'total': tensor(3.0552, device='cuda:0', grad_fn=<AddBackward0>)}]  \n"
     ]
    },
    {
     "name": "stdout",
     "output_type": "stream",
     "text": [
      "Generated:  [{'type': 'pitch', 'value': 21}, {'type': 'velocity', 'value': 20}, 'next_frame', 'next_frame', 'next_frame', 'next_frame', {'type': 'pitch', 'value': 29}, {'type': 'velocity', 'value': 19}, 'next_frame', 'next_frame']\n",
      "Chords:  ['A_M', 'A_M', 'D_m', 'D_m', 'F_M', 'F_M', 'A_m', 'A_m', 'A_M', 'A_M', 'A_m', 'A_m', 'A_m', 'A_m', 'A_m', 'A_m', 'F_M7', 'F_M7', 'F_M7', 'F_M7', 'A_M', 'A_M', 'G_sus2', 'G_sus2', 'F_M', 'F_M', 'F_M7', 'F_M7', 'A_M', 'A_M', 'A_m', 'A_m']\n"
     ]
    },
    {
     "name": "stderr",
     "output_type": "stream",
     "text": [
      "100%|██████████| 10/10 [00:03<00:00,  2.79it/s]\n",
      " 62%|██████▏   | 4911/7864 [27:04<3:24:04,  4.15s/it, batch=4910, gpu_temp=62, loss={'chord': tensor(0.7951, device='cuda:0', grad_fn=<NllLossBackward0>), 'velocity': tensor(0.4665, device='cuda:0', grad_fn=<NllLossBackward0>), 'polyphony': tensor(0.3547, device='cuda:0', grad_fn=<NllLossBackward0>), 'density': tensor(0.3842, device='cuda:0', grad_fn=<NllLossBackward0>), 'piano_roll': tensor(1.0546, device='cuda:0', grad_fn=<NllLoss2DBackward0>), 'total': tensor(3.0552, device='cuda:0', grad_fn=<AddBackward0>)}]"
     ]
    },
    {
     "name": "stdout",
     "output_type": "stream",
     "text": [
      "Generated:  [{'type': 'pitch', 'value': 39}, {'type': 'velocity', 'value': 17}, {'type': 'pitch', 'value': 51}, {'type': 'velocity', 'value': 15}, {'type': 'pitch', 'value': 55}, {'type': 'velocity', 'value': 20}, 'next_frame', 'next_frame', 'next_frame', 'next_frame']\n",
      "Chords:  ['C_M7', 'C_M7', 'C_M7', 'C_M7', 'A_m7', 'A_m7', 'A_m7', 'A_m7', 'F_M', 'F_M', 'F_M', 'F_M', 'G_M', 'G_M', 'G_M', 'G_M', 'C_M7', 'C_M7', 'C_M7', 'C_M7', 'A_m7', 'A_m7', 'A_m7', 'A_m7', 'C_M7', 'C_M7', 'C_M7', 'C_M7', 'F_M7', 'F_M7', 'F_M7', 'F_M7']\n"
     ]
    },
    {
     "name": "stderr",
     "output_type": "stream",
     "text": [
      "100%|██████████| 16/16 [00:10<00:00,  1.53it/s]t/s, batch=5400, gpu_temp=56, loss={'chord': tensor(0.8468, device='cuda:0', grad_fn=<NllLossBackward0>), 'velocity': tensor(0.4904, device='cuda:0', grad_fn=<NllLossBackward0>), 'polyphony': tensor(0.2918, device='cuda:0', grad_fn=<NllLossBackward0>), 'density': tensor(0.3164, device='cuda:0', grad_fn=<NllLossBackward0>), 'piano_roll': tensor(0.9661, device='cuda:0', grad_fn=<NllLoss2DBackward0>), 'total': tensor(2.9116, device='cuda:0', grad_fn=<AddBackward0>)}]  \n"
     ]
    },
    {
     "name": "stdout",
     "output_type": "stream",
     "text": [
      "Generated:  [{'type': 'pitch', 'value': 22}, {'type': 'velocity', 'value': 19}, {'type': 'pitch', 'value': 29}, {'type': 'velocity', 'value': 18}, {'type': 'pitch', 'value': 38}, {'type': 'velocity', 'value': 23}, 'next_frame', 'next_frame', {'type': 'pitch', 'value': 39}, {'type': 'velocity', 'value': 23}]\n",
      "Chords:  ['A_m7', 'A_m7', 'A_m', 'A_m', 'E_m7', 'E_m7', 'G_M', 'G_M', 'G_M', 'G_M', 'G_M', 'G_M', 'F_M', 'F_M', 'F_M', 'F_M', 'E_m7', 'E_m7', 'E_m7', 'E_m7', 'A_m7', 'A_m7', 'A_m7', 'A_m7', 'F_M', 'F_M', 'F_M', 'F_M', 'G_M', 'G_M', 'G_M', 'G_M']\n"
     ]
    },
    {
     "name": "stderr",
     "output_type": "stream",
     "text": [
      "100%|██████████| 10/10 [00:04<00:00,  2.08it/s]\n",
      " 69%|██████▊   | 5402/7864 [29:48<3:22:57,  4.95s/it, batch=5400, gpu_temp=56, loss={'chord': tensor(0.8468, device='cuda:0', grad_fn=<NllLossBackward0>), 'velocity': tensor(0.4904, device='cuda:0', grad_fn=<NllLossBackward0>), 'polyphony': tensor(0.2918, device='cuda:0', grad_fn=<NllLossBackward0>), 'density': tensor(0.3164, device='cuda:0', grad_fn=<NllLossBackward0>), 'piano_roll': tensor(0.9661, device='cuda:0', grad_fn=<NllLoss2DBackward0>), 'total': tensor(2.9116, device='cuda:0', grad_fn=<AddBackward0>)}]"
     ]
    },
    {
     "name": "stdout",
     "output_type": "stream",
     "text": [
      "Generated:  [{'type': 'pitch', 'value': 39}, {'type': 'velocity', 'value': 17}, {'type': 'pitch', 'value': 51}, {'type': 'velocity', 'value': 15}, {'type': 'pitch', 'value': 55}, {'type': 'velocity', 'value': 20}, 'next_frame', 'next_frame', 'next_frame', 'next_frame']\n",
      "Chords:  ['C_M7', 'C_M7', 'C_M7', 'C_M7', 'A_m7', 'A_m7', 'A_m7', 'A_m7', 'F_M', 'F_M', 'F_M', 'F_M', 'G_M', 'G_M', 'G_M', 'G_M', 'C_M7', 'C_M7', 'C_M7', 'C_M7', 'A_m7', 'A_m7', 'A_m7', 'A_m7', 'F_M', 'F_M', 'F_M', 'F_M', 'G_7', 'G_7', 'G_M', 'G_M']\n"
     ]
    },
    {
     "name": "stderr",
     "output_type": "stream",
     "text": [
      "100%|██████████| 16/16 [00:10<00:00,  1.48it/s]t/s, batch=5890, gpu_temp=63, loss={'chord': tensor(0.9061, device='cuda:0', grad_fn=<NllLossBackward0>), 'velocity': tensor(0.4618, device='cuda:0', grad_fn=<NllLossBackward0>), 'polyphony': tensor(0.2908, device='cuda:0', grad_fn=<NllLossBackward0>), 'density': tensor(0.3554, device='cuda:0', grad_fn=<NllLossBackward0>), 'piano_roll': tensor(1.0620, device='cuda:0', grad_fn=<NllLoss2DBackward0>), 'total': tensor(3.0762, device='cuda:0', grad_fn=<AddBackward0>)}]  \n"
     ]
    },
    {
     "name": "stdout",
     "output_type": "stream",
     "text": [
      "Generated:  [{'type': 'pitch', 'value': 24}, {'type': 'velocity', 'value': 17}, {'type': 'pitch', 'value': 31}, {'type': 'velocity', 'value': 17}, {'type': 'pitch', 'value': 34}, {'type': 'velocity', 'value': 19}, {'type': 'pitch', 'value': 46}, {'type': 'velocity', 'value': 19}, {'type': 'pitch', 'value': 51}, {'type': 'velocity', 'value': 18}]\n",
      "Chords:  ['D_M', 'D_M', 'D_M', 'D_M', 'F#_m7', 'F#_m7', 'F#_m', 'F#_m', 'B_M', 'B_M', 'C#_m7', 'C#_m7', 'C#_M', 'C#_M', 'C#_7', 'C#_7', 'A#_7', 'A#_7', 'A#_7', 'A#_7', 'E_+', 'E_+', 'E_M', 'E_M', 'E_M', 'E_M', 'E_M', 'E_M', 'A_m', 'A_m', 'F_M7', 'F_M7']\n"
     ]
    },
    {
     "name": "stderr",
     "output_type": "stream",
     "text": [
      "100%|██████████| 10/10 [00:03<00:00,  2.58it/s]\n",
      " 75%|███████▍  | 5893/7864 [32:31<2:36:34,  4.77s/it, batch=5890, gpu_temp=63, loss={'chord': tensor(0.9061, device='cuda:0', grad_fn=<NllLossBackward0>), 'velocity': tensor(0.4618, device='cuda:0', grad_fn=<NllLossBackward0>), 'polyphony': tensor(0.2908, device='cuda:0', grad_fn=<NllLossBackward0>), 'density': tensor(0.3554, device='cuda:0', grad_fn=<NllLossBackward0>), 'piano_roll': tensor(1.0620, device='cuda:0', grad_fn=<NllLoss2DBackward0>), 'total': tensor(3.0762, device='cuda:0', grad_fn=<AddBackward0>)}]"
     ]
    },
    {
     "name": "stdout",
     "output_type": "stream",
     "text": [
      "Generated:  [{'type': 'pitch', 'value': 39}, {'type': 'velocity', 'value': 17}, {'type': 'pitch', 'value': 51}, {'type': 'velocity', 'value': 15}, {'type': 'pitch', 'value': 55}, {'type': 'velocity', 'value': 20}, 'next_frame', 'next_frame', 'next_frame', 'next_frame']\n",
      "Chords:  ['C_M7', 'C_M7', 'C_M7', 'C_M7', 'A_m7', 'A_m7', 'A_m7', 'A_m7', 'F_M', 'F_M', 'F_M', 'F_M', 'G_M', 'G_M', 'G_M', 'G_M', 'C_M7', 'C_M7', 'C_M7', 'C_M7', 'A_m7', 'A_m7', 'A_m7', 'A_m7', 'F_M7', 'F_M7', 'F_M', 'F_M', 'G_M', 'G_M', 'G_M', 'G_M']\n"
     ]
    },
    {
     "name": "stderr",
     "output_type": "stream",
     "text": [
      "100%|██████████| 16/16 [00:07<00:00,  2.03it/s]t/s, batch=6380, gpu_temp=63, loss={'chord': tensor(0.8265, device='cuda:0', grad_fn=<NllLossBackward0>), 'velocity': tensor(0.4317, device='cuda:0', grad_fn=<NllLossBackward0>), 'polyphony': tensor(0.3453, device='cuda:0', grad_fn=<NllLossBackward0>), 'density': tensor(0.3432, device='cuda:0', grad_fn=<NllLossBackward0>), 'piano_roll': tensor(0.9867, device='cuda:0', grad_fn=<NllLoss2DBackward0>), 'total': tensor(2.9334, device='cuda:0', grad_fn=<AddBackward0>)}]  \n"
     ]
    },
    {
     "name": "stdout",
     "output_type": "stream",
     "text": [
      "Generated:  [{'type': 'pitch', 'value': 24}, {'type': 'velocity', 'value': 20}, {'type': 'pitch', 'value': 36}, {'type': 'velocity', 'value': 20}, {'type': 'pitch', 'value': 53}, {'type': 'velocity', 'value': 22}, {'type': 'pitch', 'value': 65}, {'type': 'velocity', 'value': 22}, 'next_frame', 'next_frame']\n",
      "Chords:  ['D_M', 'D_M', 'D_sus2', 'D_sus2', 'C_M', 'C_M', 'C_M', 'C_M', 'F_M', 'F_M', 'F_M', 'F_M', 'C_+', 'C_+', 'C_+', 'C_+', 'D_M', 'D_M', 'A_m', 'A_m', 'C_sus2', 'C_sus2', 'C_M', 'C_M', 'F_M', 'F_M', 'F_M', 'F_M', 'E_M', 'E_M', 'C_M', 'C_M']\n"
     ]
    },
    {
     "name": "stderr",
     "output_type": "stream",
     "text": [
      "100%|██████████| 10/10 [00:03<00:00,  2.74it/s]\n",
      " 81%|████████  | 6384/7864 [35:10<1:33:21,  3.78s/it, batch=6380, gpu_temp=63, loss={'chord': tensor(0.8265, device='cuda:0', grad_fn=<NllLossBackward0>), 'velocity': tensor(0.4317, device='cuda:0', grad_fn=<NllLossBackward0>), 'polyphony': tensor(0.3453, device='cuda:0', grad_fn=<NllLossBackward0>), 'density': tensor(0.3432, device='cuda:0', grad_fn=<NllLossBackward0>), 'piano_roll': tensor(0.9867, device='cuda:0', grad_fn=<NllLoss2DBackward0>), 'total': tensor(2.9334, device='cuda:0', grad_fn=<AddBackward0>)}]"
     ]
    },
    {
     "name": "stdout",
     "output_type": "stream",
     "text": [
      "Generated:  [{'type': 'pitch', 'value': 39}, {'type': 'velocity', 'value': 17}, {'type': 'pitch', 'value': 51}, {'type': 'velocity', 'value': 15}, {'type': 'pitch', 'value': 55}, {'type': 'velocity', 'value': 20}, 'next_frame', 'next_frame', 'next_frame', 'next_frame']\n",
      "Chords:  ['C_M7', 'C_M7', 'C_M7', 'C_M7', 'A_m7', 'A_m7', 'A_m7', 'A_m7', 'F_M', 'F_M', 'F_M', 'F_M', 'G_M', 'G_M', 'G_M', 'G_M', 'C_M7', 'C_M7', 'C_M7', 'C_M7', 'A_m7', 'A_m7', 'A_m7', 'A_m7', 'A_m7', 'A_m7', 'C_M7', 'C_M7', 'F_M7', 'F_M7', 'F_M7', 'F_M7']\n"
     ]
    },
    {
     "name": "stderr",
     "output_type": "stream",
     "text": [
      "100%|██████████| 16/16 [00:09<00:00,  1.75it/s]t/s, batch=6870, gpu_temp=56, loss={'chord': tensor(0.9015, device='cuda:0', grad_fn=<NllLossBackward0>), 'velocity': tensor(0.3808, device='cuda:0', grad_fn=<NllLossBackward0>), 'polyphony': tensor(0.2721, device='cuda:0', grad_fn=<NllLossBackward0>), 'density': tensor(0.3878, device='cuda:0', grad_fn=<NllLossBackward0>), 'piano_roll': tensor(1.0692, device='cuda:0', grad_fn=<NllLoss2DBackward0>), 'total': tensor(3.0113, device='cuda:0', grad_fn=<AddBackward0>)}]  \n"
     ]
    },
    {
     "name": "stdout",
     "output_type": "stream",
     "text": [
      "Generated:  [{'type': 'pitch', 'value': 20}, {'type': 'velocity', 'value': 17}, 'next_frame', 'next_frame', 'next_frame', 'next_frame', {'type': 'pitch', 'value': 27}, {'type': 'velocity', 'value': 16}, {'type': 'pitch', 'value': 43}, {'type': 'velocity', 'value': 17}]\n",
      "Chords:  ['G_M', 'G_M', 'G_M', 'G_M', 'C_M', 'C_M', 'C_M', 'C_M', 'G_M', 'G_M', 'G_M', 'G_M', 'A_m', 'A_m', 'A_m', 'A_m', 'E_m', 'E_m', 'E_m', 'E_m', 'F_M7', 'F_M7', 'F_M7', 'F_M7', 'C_M', 'C_M', 'C_M', 'C_M', 'D_m7', 'D_m7', 'D_m', 'D_m']\n"
     ]
    },
    {
     "name": "stderr",
     "output_type": "stream",
     "text": [
      "100%|██████████| 10/10 [00:04<00:00,  2.24it/s]\n",
      " 87%|████████▋ | 6875/7864 [37:52<1:14:23,  4.51s/it, batch=6870, gpu_temp=56, loss={'chord': tensor(0.9015, device='cuda:0', grad_fn=<NllLossBackward0>), 'velocity': tensor(0.3808, device='cuda:0', grad_fn=<NllLossBackward0>), 'polyphony': tensor(0.2721, device='cuda:0', grad_fn=<NllLossBackward0>), 'density': tensor(0.3878, device='cuda:0', grad_fn=<NllLossBackward0>), 'piano_roll': tensor(1.0692, device='cuda:0', grad_fn=<NllLoss2DBackward0>), 'total': tensor(3.0113, device='cuda:0', grad_fn=<AddBackward0>)}]"
     ]
    },
    {
     "name": "stdout",
     "output_type": "stream",
     "text": [
      "Generated:  [{'type': 'pitch', 'value': 39}, {'type': 'velocity', 'value': 17}, {'type': 'pitch', 'value': 51}, {'type': 'velocity', 'value': 15}, {'type': 'pitch', 'value': 55}, {'type': 'velocity', 'value': 20}, 'next_frame', 'next_frame', 'next_frame', 'next_frame']\n",
      "Chords:  ['C_M7', 'C_M7', 'C_M7', 'C_M7', 'A_m7', 'A_m7', 'A_m7', 'A_m7', 'F_M', 'F_M', 'F_M', 'F_M', 'G_M', 'G_M', 'G_M', 'G_M', 'C_M7', 'C_M7', 'C_M7', 'C_M7', 'A_m7', 'A_m7', 'A_m7', 'A_m7', 'C_M7', 'C_M7', 'C_M7', 'C_M7', 'G_M', 'G_M', 'G_M', 'G_M']\n"
     ]
    },
    {
     "name": "stderr",
     "output_type": "stream",
     "text": [
      "100%|██████████| 16/16 [00:08<00:00,  1.81it/s]t/s, batch=7360, gpu_temp=63, loss={'chord': tensor(0.7931, device='cuda:0', grad_fn=<NllLossBackward0>), 'velocity': tensor(0.4058, device='cuda:0', grad_fn=<NllLossBackward0>), 'polyphony': tensor(0.2730, device='cuda:0', grad_fn=<NllLossBackward0>), 'density': tensor(0.3063, device='cuda:0', grad_fn=<NllLossBackward0>), 'piano_roll': tensor(1.0731, device='cuda:0', grad_fn=<NllLoss2DBackward0>), 'total': tensor(2.8513, device='cuda:0', grad_fn=<AddBackward0>)}]  \n"
     ]
    },
    {
     "name": "stdout",
     "output_type": "stream",
     "text": [
      "Generated:  [{'type': 'pitch', 'value': 22}, {'type': 'velocity', 'value': 17}, {'type': 'pitch', 'value': 34}, {'type': 'velocity', 'value': 18}, {'type': 'pitch', 'value': 39}, {'type': 'velocity', 'value': 19}, 'next_frame', 'next_frame', 'next_frame', 'next_frame']\n",
      "Chords:  ['A_M', 'A_M', 'A_M', 'A_M', 'E_M', 'E_M', 'E_M', 'E_M', 'A_M', 'A_M', 'A_M', 'A_M', 'A_M', 'A_M', 'A_M', 'A_M', 'E_M', 'E_M', 'E_M', 'E_M', 'A_M', 'A_M', 'A_M', 'A_M', 'E_M', 'E_M', 'E_M', 'E_M', 'A_M', 'A_M', 'A_M', 'A_M']\n"
     ]
    },
    {
     "name": "stderr",
     "output_type": "stream",
     "text": [
      "100%|██████████| 10/10 [00:03<00:00,  2.81it/s]\n",
      " 94%|█████████▎| 7366/7864 [40:33<34:05,  4.11s/it, batch=7360, gpu_temp=63, loss={'chord': tensor(0.7931, device='cuda:0', grad_fn=<NllLossBackward0>), 'velocity': tensor(0.4058, device='cuda:0', grad_fn=<NllLossBackward0>), 'polyphony': tensor(0.2730, device='cuda:0', grad_fn=<NllLossBackward0>), 'density': tensor(0.3063, device='cuda:0', grad_fn=<NllLossBackward0>), 'piano_roll': tensor(1.0731, device='cuda:0', grad_fn=<NllLoss2DBackward0>), 'total': tensor(2.8513, device='cuda:0', grad_fn=<AddBackward0>)}]"
     ]
    },
    {
     "name": "stdout",
     "output_type": "stream",
     "text": [
      "Generated:  [{'type': 'pitch', 'value': 39}, {'type': 'velocity', 'value': 17}, {'type': 'pitch', 'value': 51}, {'type': 'velocity', 'value': 15}, {'type': 'pitch', 'value': 55}, {'type': 'velocity', 'value': 20}, 'next_frame', 'next_frame', 'next_frame', 'next_frame']\n",
      "Chords:  ['C_M7', 'C_M7', 'C_M7', 'C_M7', 'A_m7', 'A_m7', 'A_m7', 'A_m7', 'F_M', 'F_M', 'F_M', 'F_M', 'G_M', 'G_M', 'G_M', 'G_M', 'C_M7', 'C_M7', 'C_M7', 'C_M7', 'A_m7', 'A_m7', 'A_m7', 'A_m7', 'F_M7', 'F_M7', 'F_M', 'F_M', 'G_M', 'G_M', 'G_M', 'G_M']\n"
     ]
    },
    {
     "name": "stderr",
     "output_type": "stream",
     "text": [
      "100%|██████████| 16/16 [00:09<00:00,  1.67it/s]t/s, batch=7850, gpu_temp=63, loss={'chord': tensor(0.9797, device='cuda:0', grad_fn=<NllLossBackward0>), 'velocity': tensor(0.4036, device='cuda:0', grad_fn=<NllLossBackward0>), 'polyphony': tensor(0.2827, device='cuda:0', grad_fn=<NllLossBackward0>), 'density': tensor(0.3372, device='cuda:0', grad_fn=<NllLossBackward0>), 'piano_roll': tensor(1.1225, device='cuda:0', grad_fn=<NllLoss2DBackward0>), 'total': tensor(3.1257, device='cuda:0', grad_fn=<AddBackward0>)}]\n"
     ]
    },
    {
     "name": "stdout",
     "output_type": "stream",
     "text": [
      "Generated:  [{'type': 'pitch', 'value': 19}, {'type': 'velocity', 'value': 23}, 'next_frame', 'next_frame', 'next_frame', 'next_frame', {'type': 'pitch', 'value': 43}, {'type': 'velocity', 'value': 20}, {'type': 'pitch', 'value': 55}, {'type': 'velocity', 'value': 22}]\n",
      "Chords:  ['A_m', 'A_m', 'C_M7', 'C_M7', 'F_M7', 'F_M7', 'C_M7', 'C_M7', 'F_M', 'F_M', 'F_M', 'F_M', 'G_sus4', 'G_sus4', 'G_M', 'G_M', 'A_m7', 'A_m7', 'A_m', 'A_m', 'G_M', 'G_M', 'G_M', 'G_M', 'F_M', 'F_M', 'F_M', 'F_M', 'G_M', 'G_M', 'G_M', 'G_M']\n"
     ]
    },
    {
     "name": "stderr",
     "output_type": "stream",
     "text": [
      "100%|██████████| 10/10 [00:04<00:00,  2.01it/s]\n",
      "100%|█████████▉| 7857/7864 [43:16<00:33,  4.77s/it, batch=7850, gpu_temp=63, loss={'chord': tensor(0.9797, device='cuda:0', grad_fn=<NllLossBackward0>), 'velocity': tensor(0.4036, device='cuda:0', grad_fn=<NllLossBackward0>), 'polyphony': tensor(0.2827, device='cuda:0', grad_fn=<NllLossBackward0>), 'density': tensor(0.3372, device='cuda:0', grad_fn=<NllLossBackward0>), 'piano_roll': tensor(1.1225, device='cuda:0', grad_fn=<NllLoss2DBackward0>), 'total': tensor(3.1257, device='cuda:0', grad_fn=<AddBackward0>)}]"
     ]
    },
    {
     "name": "stdout",
     "output_type": "stream",
     "text": [
      "Generated:  [{'type': 'pitch', 'value': 39}, {'type': 'velocity', 'value': 17}, {'type': 'pitch', 'value': 51}, {'type': 'velocity', 'value': 15}, {'type': 'pitch', 'value': 55}, {'type': 'velocity', 'value': 20}, 'next_frame', 'next_frame', 'next_frame', 'next_frame']\n",
      "Chords:  ['C_M7', 'C_M7', 'C_M7', 'C_M7', 'A_m7', 'A_m7', 'A_m7', 'A_m7', 'F_M', 'F_M', 'F_M', 'F_M', 'G_M', 'G_M', 'G_M', 'G_M', 'C_M7', 'C_M7', 'C_M7', 'C_M7', 'A_m7', 'A_m7', 'A_m7', 'A_m7', 'F_M', 'F_M', 'F_M', 'F_M', 'G_M', 'G_M', 'G_M', 'G_M']\n"
     ]
    },
    {
     "name": "stderr",
     "output_type": "stream",
     "text": [
      "100%|██████████| 7864/7864 [43:18<00:00,  3.03it/s, batch=7860, gpu_temp=59, loss={'chord': tensor(0.7906, device='cuda:0', grad_fn=<NllLossBackward0>), 'velocity': tensor(0.4315, device='cuda:0', grad_fn=<NllLossBackward0>), 'polyphony': tensor(0.3485, device='cuda:0', grad_fn=<NllLossBackward0>), 'density': tensor(0.4047, device='cuda:0', grad_fn=<NllLossBackward0>), 'piano_roll': tensor(1.0086, device='cuda:0', grad_fn=<NllLoss2DBackward0>), 'total': tensor(2.9840, device='cuda:0', grad_fn=<AddBackward0>)}]\n",
      "100%|██████████| 16/16 [00:08<00:00,  1.96it/s]/s, batch=490, gpu_temp=63, loss={'chord': tensor(0.8416, device='cuda:0', grad_fn=<NllLossBackward0>), 'velocity': tensor(0.4086, device='cuda:0', grad_fn=<NllLossBackward0>), 'polyphony': tensor(0.3312, device='cuda:0', grad_fn=<NllLossBackward0>), 'density': tensor(0.3857, device='cuda:0', grad_fn=<NllLossBackward0>), 'piano_roll': tensor(1.1057, device='cuda:0', grad_fn=<NllLoss2DBackward0>), 'total': tensor(3.0727, device='cuda:0', grad_fn=<AddBackward0>)}]\n"
     ]
    },
    {
     "name": "stdout",
     "output_type": "stream",
     "text": [
      "Generated:  [{'type': 'pitch', 'value': 8}, {'type': 'velocity', 'value': 16}, {'type': 'pitch', 'value': 20}, {'type': 'velocity', 'value': 19}, {'type': 'pitch', 'value': 46}, {'type': 'velocity', 'value': 23}, {'type': 'pitch', 'value': 58}, {'type': 'velocity', 'value': 23}, 'next_frame', 'next_frame']\n",
      "Chords:  ['A_m7', 'A_m7', 'A_m7', 'A_m7', 'A_M', 'A_M', 'A_m7', 'A_m7', 'D_M', 'A_m7', 'A_m7', 'A_m7', 'G_sus2', 'G_sus2', 'A_o', 'A_o', 'D_M', 'D_M', 'D_M', 'D_M', 'C_M', 'C_M', 'E_o', 'E_o', 'A_m7', 'G_+', 'F_M', 'E_M', 'A_sus2', 'A_sus2', 'D_o', 'G_m7']\n"
     ]
    },
    {
     "name": "stderr",
     "output_type": "stream",
     "text": [
      "100%|██████████| 10/10 [00:04<00:00,  2.11it/s]\n",
      "  6%|▋         | 492/7864 [02:51<8:41:20,  4.24s/it, batch=490, gpu_temp=63, loss={'chord': tensor(0.8416, device='cuda:0', grad_fn=<NllLossBackward0>), 'velocity': tensor(0.4086, device='cuda:0', grad_fn=<NllLossBackward0>), 'polyphony': tensor(0.3312, device='cuda:0', grad_fn=<NllLossBackward0>), 'density': tensor(0.3857, device='cuda:0', grad_fn=<NllLossBackward0>), 'piano_roll': tensor(1.1057, device='cuda:0', grad_fn=<NllLoss2DBackward0>), 'total': tensor(3.0727, device='cuda:0', grad_fn=<AddBackward0>)}]"
     ]
    },
    {
     "name": "stdout",
     "output_type": "stream",
     "text": [
      "Generated:  [{'type': 'pitch', 'value': 39}, {'type': 'velocity', 'value': 17}, {'type': 'pitch', 'value': 51}, {'type': 'velocity', 'value': 15}, {'type': 'pitch', 'value': 55}, {'type': 'velocity', 'value': 20}, 'next_frame', 'next_frame', 'next_frame', 'next_frame']\n",
      "Chords:  ['C_M7', 'C_M7', 'C_M7', 'C_M7', 'A_m7', 'A_m7', 'A_m7', 'A_m7', 'F_M', 'F_M', 'F_M', 'F_M', 'G_M', 'G_M', 'G_M', 'G_M', 'C_M7', 'C_M7', 'C_M7', 'C_M7', 'A_m7', 'A_m7', 'A_m7', 'A_m7', 'D_m7', 'D_m7', 'D_m7', 'D_m7', 'D_m7', 'D_m7', 'D_m7', 'D_m7']\n"
     ]
    },
    {
     "name": "stderr",
     "output_type": "stream",
     "text": [
      "100%|██████████| 16/16 [00:09<00:00,  1.62it/s]/s, batch=980, gpu_temp=61, loss={'chord': tensor(0.8996, device='cuda:0', grad_fn=<NllLossBackward0>), 'velocity': tensor(0.3976, device='cuda:0', grad_fn=<NllLossBackward0>), 'polyphony': tensor(0.2734, device='cuda:0', grad_fn=<NllLossBackward0>), 'density': tensor(0.3199, device='cuda:0', grad_fn=<NllLossBackward0>), 'piano_roll': tensor(1.0586, device='cuda:0', grad_fn=<NllLoss2DBackward0>), 'total': tensor(2.9492, device='cuda:0', grad_fn=<AddBackward0>)}]  \n"
     ]
    },
    {
     "name": "stdout",
     "output_type": "stream",
     "text": [
      "Generated:  [{'type': 'pitch', 'value': 24}, {'type': 'velocity', 'value': 21}, {'type': 'pitch', 'value': 51}, {'type': 'velocity', 'value': 24}, {'type': 'pitch', 'value': 63}, {'type': 'velocity', 'value': 23}, 'next_frame', 'next_frame', 'next_frame', 'next_frame']\n",
      "Chords:  ['A_M', 'A_M', 'A_M', 'A_M', 'F_M7', 'F_M7', 'F_M7', 'F_M7', 'D_m7', 'D_m7', 'D_m7', 'D_m7', 'E_M', 'E_M', 'E_M', 'E_M', 'E_M', 'E_M', 'E_M', 'E_M', 'E_M', 'E_M', 'E_M', 'E_M', 'C_M7', 'C_M7', 'C_M', 'C_M', 'D_m7', 'D_m7', 'D_m7', 'D_m7']\n"
     ]
    },
    {
     "name": "stderr",
     "output_type": "stream",
     "text": [
      "100%|██████████| 10/10 [00:03<00:00,  2.60it/s]\n",
      " 12%|█▎        | 983/7864 [05:33<8:27:44,  4.43s/it, batch=980, gpu_temp=61, loss={'chord': tensor(0.8996, device='cuda:0', grad_fn=<NllLossBackward0>), 'velocity': tensor(0.3976, device='cuda:0', grad_fn=<NllLossBackward0>), 'polyphony': tensor(0.2734, device='cuda:0', grad_fn=<NllLossBackward0>), 'density': tensor(0.3199, device='cuda:0', grad_fn=<NllLossBackward0>), 'piano_roll': tensor(1.0586, device='cuda:0', grad_fn=<NllLoss2DBackward0>), 'total': tensor(2.9492, device='cuda:0', grad_fn=<AddBackward0>)}]"
     ]
    },
    {
     "name": "stdout",
     "output_type": "stream",
     "text": [
      "Generated:  [{'type': 'pitch', 'value': 39}, {'type': 'velocity', 'value': 17}, {'type': 'pitch', 'value': 51}, {'type': 'velocity', 'value': 15}, {'type': 'pitch', 'value': 55}, {'type': 'velocity', 'value': 20}, 'next_frame', 'next_frame', 'next_frame', 'next_frame']\n",
      "Chords:  ['C_M7', 'C_M7', 'C_M7', 'C_M7', 'A_m7', 'A_m7', 'A_m7', 'A_m7', 'F_M', 'F_M', 'F_M', 'F_M', 'G_M', 'G_M', 'G_M', 'G_M', 'C_M7', 'C_M7', 'C_M7', 'C_M7', 'A_m7', 'A_m7', 'A_m7', 'A_m7', 'F_M7', 'F_M7', 'F_M', 'F_M', 'C_M', 'C_M', 'C_M', 'C_M']\n"
     ]
    },
    {
     "name": "stderr",
     "output_type": "stream",
     "text": [
      "100%|██████████| 16/16 [00:07<00:00,  2.09it/s]t/s, batch=1470, gpu_temp=61, loss={'chord': tensor(0.8368, device='cuda:0', grad_fn=<NllLossBackward0>), 'velocity': tensor(0.3773, device='cuda:0', grad_fn=<NllLossBackward0>), 'polyphony': tensor(0.3010, device='cuda:0', grad_fn=<NllLossBackward0>), 'density': tensor(0.3498, device='cuda:0', grad_fn=<NllLossBackward0>), 'piano_roll': tensor(1.0882, device='cuda:0', grad_fn=<NllLoss2DBackward0>), 'total': tensor(2.9530, device='cuda:0', grad_fn=<AddBackward0>)}]\n"
     ]
    },
    {
     "name": "stdout",
     "output_type": "stream",
     "text": [
      "Generated:  [{'type': 'pitch', 'value': 13}, {'type': 'velocity', 'value': 16}, {'type': 'pitch', 'value': 25}, {'type': 'velocity', 'value': 16}, {'type': 'pitch', 'value': 37}, {'type': 'velocity', 'value': 19}, {'type': 'pitch', 'value': 41}, {'type': 'velocity', 'value': 16}, {'type': 'pitch', 'value': 44}, {'type': 'velocity', 'value': 21}]\n",
      "Chords:  ['A_m', 'A_m', 'A_m', 'A_m', 'G_M', 'G_M', 'G_7', 'G_7', 'C_M', 'C_M', 'F_M', 'F_M', 'G_M', 'G_M', 'C_+', 'C_+', 'A_m7', 'A_m7', 'F_M7', 'F_M7', 'G_M', 'G_M', 'C_M7', 'C_M7', 'A_m7', 'A_m7', 'F_M7', 'F_M7', 'G_M', 'G_M', 'C_M7', 'C_M7']\n"
     ]
    },
    {
     "name": "stderr",
     "output_type": "stream",
     "text": [
      "100%|██████████| 10/10 [00:04<00:00,  2.42it/s]\n",
      " 19%|█▊        | 1474/7864 [08:12<6:49:54,  3.85s/it, batch=1470, gpu_temp=61, loss={'chord': tensor(0.8368, device='cuda:0', grad_fn=<NllLossBackward0>), 'velocity': tensor(0.3773, device='cuda:0', grad_fn=<NllLossBackward0>), 'polyphony': tensor(0.3010, device='cuda:0', grad_fn=<NllLossBackward0>), 'density': tensor(0.3498, device='cuda:0', grad_fn=<NllLossBackward0>), 'piano_roll': tensor(1.0882, device='cuda:0', grad_fn=<NllLoss2DBackward0>), 'total': tensor(2.9530, device='cuda:0', grad_fn=<AddBackward0>)}]"
     ]
    },
    {
     "name": "stdout",
     "output_type": "stream",
     "text": [
      "Generated:  [{'type': 'pitch', 'value': 39}, {'type': 'velocity', 'value': 17}, {'type': 'pitch', 'value': 51}, {'type': 'velocity', 'value': 15}, {'type': 'pitch', 'value': 55}, {'type': 'velocity', 'value': 20}, 'next_frame', 'next_frame', 'next_frame', 'next_frame']\n",
      "Chords:  ['C_M7', 'C_M7', 'C_M7', 'C_M7', 'A_m7', 'A_m7', 'A_m7', 'A_m7', 'F_M', 'F_M', 'F_M', 'F_M', 'G_M', 'G_M', 'G_M', 'G_M', 'C_M7', 'C_M7', 'C_M7', 'C_M7', 'A_m7', 'A_m7', 'A_m7', 'A_m7', 'C_M7', 'C_M7', 'C_M7', 'C_M7', 'G_7', 'G_7', 'D_m7', 'D_m7']\n"
     ]
    },
    {
     "name": "stderr",
     "output_type": "stream",
     "text": [
      "100%|██████████| 16/16 [00:08<00:00,  1.90it/s]t/s, batch=1960, gpu_temp=62, loss={'chord': tensor(0.8427, device='cuda:0', grad_fn=<NllLossBackward0>), 'velocity': tensor(0.4196, device='cuda:0', grad_fn=<NllLossBackward0>), 'polyphony': tensor(0.3023, device='cuda:0', grad_fn=<NllLossBackward0>), 'density': tensor(0.3972, device='cuda:0', grad_fn=<NllLossBackward0>), 'piano_roll': tensor(1.0152, device='cuda:0', grad_fn=<NllLoss2DBackward0>), 'total': tensor(2.9769, device='cuda:0', grad_fn=<AddBackward0>)}]  \n"
     ]
    },
    {
     "name": "stdout",
     "output_type": "stream",
     "text": [
      "Generated:  [{'type': 'pitch', 'value': 27}, {'type': 'velocity', 'value': 17}, 'next_frame', 'next_frame', {'type': 'pitch', 'value': 32}, {'type': 'velocity', 'value': 17}, {'type': 'pitch', 'value': 53}, {'type': 'velocity', 'value': 20}, 'next_frame', 'next_frame']\n",
      "Chords:  ['G_M', 'G_M', 'A_m7', 'A_m7', 'F_M7', 'F_M7', 'C_M', 'C_M', 'G_M', 'G_M', 'G_M', 'G_M', 'F_M7', 'F_M7', 'C_M', 'C_M', 'G_M', 'G_M', 'G_M', 'G_M', 'D_m7', 'D_m7', 'C_M', 'C_M', 'G_7', 'G_7', 'G_M', 'G_M', 'F_M7', 'F_M7', 'C_M7', 'C_M7']\n"
     ]
    },
    {
     "name": "stderr",
     "output_type": "stream",
     "text": [
      "100%|██████████| 10/10 [00:03<00:00,  2.83it/s]\n",
      " 25%|██▍       | 1965/7864 [10:53<6:34:30,  4.01s/it, batch=1960, gpu_temp=62, loss={'chord': tensor(0.8427, device='cuda:0', grad_fn=<NllLossBackward0>), 'velocity': tensor(0.4196, device='cuda:0', grad_fn=<NllLossBackward0>), 'polyphony': tensor(0.3023, device='cuda:0', grad_fn=<NllLossBackward0>), 'density': tensor(0.3972, device='cuda:0', grad_fn=<NllLossBackward0>), 'piano_roll': tensor(1.0152, device='cuda:0', grad_fn=<NllLoss2DBackward0>), 'total': tensor(2.9769, device='cuda:0', grad_fn=<AddBackward0>)}]"
     ]
    },
    {
     "name": "stdout",
     "output_type": "stream",
     "text": [
      "Generated:  [{'type': 'pitch', 'value': 39}, {'type': 'velocity', 'value': 17}, {'type': 'pitch', 'value': 51}, {'type': 'velocity', 'value': 15}, {'type': 'pitch', 'value': 55}, {'type': 'velocity', 'value': 20}, 'next_frame', 'next_frame', 'next_frame', 'next_frame']\n",
      "Chords:  ['C_M7', 'C_M7', 'C_M7', 'C_M7', 'A_m7', 'A_m7', 'A_m7', 'A_m7', 'F_M', 'F_M', 'F_M', 'F_M', 'G_M', 'G_M', 'G_M', 'G_M', 'C_M7', 'C_M7', 'C_M7', 'C_M7', 'A_m7', 'A_m7', 'A_m7', 'A_m7', 'G_M', 'G_M', 'G_M', 'G_M', 'C_M7', 'C_M7', 'C_M7', 'C_M7']\n"
     ]
    },
    {
     "name": "stderr",
     "output_type": "stream",
     "text": [
      "100%|██████████| 16/16 [00:08<00:00,  1.85it/s]t/s, batch=2450, gpu_temp=56, loss={'chord': tensor(0.7873, device='cuda:0', grad_fn=<NllLossBackward0>), 'velocity': tensor(0.4476, device='cuda:0', grad_fn=<NllLossBackward0>), 'polyphony': tensor(0.3325, device='cuda:0', grad_fn=<NllLossBackward0>), 'density': tensor(0.3940, device='cuda:0', grad_fn=<NllLossBackward0>), 'piano_roll': tensor(1.0644, device='cuda:0', grad_fn=<NllLoss2DBackward0>), 'total': tensor(3.0259, device='cuda:0', grad_fn=<AddBackward0>)}]  \n"
     ]
    },
    {
     "name": "stdout",
     "output_type": "stream",
     "text": [
      "Generated:  [{'type': 'pitch', 'value': 39}, {'type': 'velocity', 'value': 17}, {'type': 'pitch', 'value': 43}, {'type': 'velocity', 'value': 17}, {'type': 'pitch', 'value': 46}, {'type': 'velocity', 'value': 18}, {'type': 'pitch', 'value': 53}, {'type': 'velocity', 'value': 21}, 'next_frame', 'next_frame']\n",
      "Chords:  ['G_sus2', 'G_sus2', 'G_M', 'G_M', 'A_m7', 'A_m7', 'A_m7', 'A_m7', 'A_m7', 'A_m7', 'A_m', 'A_m', 'A_m', 'A_m', 'A_m7', 'A_m7', 'C_M', 'C_M', 'C_M7', 'C_M7', 'G_M', 'G_M', 'G_M', 'G_M', 'A_m7', 'A_m7', 'A_m7', 'A_m7', 'G_M', 'G_M', 'G_M', 'G_M']\n"
     ]
    },
    {
     "name": "stderr",
     "output_type": "stream",
     "text": [
      "100%|██████████| 10/10 [00:04<00:00,  2.42it/s]\n",
      " 31%|███       | 2456/7864 [13:34<6:20:26,  4.22s/it, batch=2450, gpu_temp=56, loss={'chord': tensor(0.7873, device='cuda:0', grad_fn=<NllLossBackward0>), 'velocity': tensor(0.4476, device='cuda:0', grad_fn=<NllLossBackward0>), 'polyphony': tensor(0.3325, device='cuda:0', grad_fn=<NllLossBackward0>), 'density': tensor(0.3940, device='cuda:0', grad_fn=<NllLossBackward0>), 'piano_roll': tensor(1.0644, device='cuda:0', grad_fn=<NllLoss2DBackward0>), 'total': tensor(3.0259, device='cuda:0', grad_fn=<AddBackward0>)}]"
     ]
    },
    {
     "name": "stdout",
     "output_type": "stream",
     "text": [
      "Generated:  [{'type': 'pitch', 'value': 39}, {'type': 'velocity', 'value': 17}, {'type': 'pitch', 'value': 51}, {'type': 'velocity', 'value': 15}, {'type': 'pitch', 'value': 55}, {'type': 'velocity', 'value': 20}, 'next_frame', 'next_frame', 'next_frame', 'next_frame']\n",
      "Chords:  ['C_M7', 'C_M7', 'C_M7', 'C_M7', 'A_m7', 'A_m7', 'A_m7', 'A_m7', 'F_M', 'F_M', 'F_M', 'F_M', 'G_M', 'G_M', 'G_M', 'G_M', 'C_M7', 'C_M7', 'C_M7', 'C_M7', 'A_m7', 'A_m7', 'A_m7', 'A_m7', 'C_M7', 'C_M7', 'C_M7', 'C_M7', 'F_M7', 'F_M7', 'F_M7', 'F_M7']\n"
     ]
    },
    {
     "name": "stderr",
     "output_type": "stream",
     "text": [
      "100%|██████████| 16/16 [00:08<00:00,  1.87it/s]t/s, batch=2940, gpu_temp=63, loss={'chord': tensor(0.8594, device='cuda:0', grad_fn=<NllLossBackward0>), 'velocity': tensor(0.4631, device='cuda:0', grad_fn=<NllLossBackward0>), 'polyphony': tensor(0.3305, device='cuda:0', grad_fn=<NllLossBackward0>), 'density': tensor(0.3591, device='cuda:0', grad_fn=<NllLossBackward0>), 'piano_roll': tensor(1.0938, device='cuda:0', grad_fn=<NllLoss2DBackward0>), 'total': tensor(3.1059, device='cuda:0', grad_fn=<AddBackward0>)}]  \n"
     ]
    },
    {
     "name": "stdout",
     "output_type": "stream",
     "text": [
      "Generated:  [{'type': 'pitch', 'value': 24}, {'type': 'velocity', 'value': 19}, {'type': 'pitch', 'value': 43}, {'type': 'velocity', 'value': 20}, {'type': 'pitch', 'value': 46}, {'type': 'velocity', 'value': 20}, {'type': 'pitch', 'value': 51}, {'type': 'velocity', 'value': 21}, 'next_frame', 'next_frame']\n",
      "Chords:  ['F_M7', 'F_M7', 'F_M7', 'F_M7', 'F_M7', 'F_M7', 'C_M', 'C_M', 'F_M7', 'F_M7', 'G_M', 'G_M', 'A_m7', 'A_m7', 'A_m7', 'A_m7', 'F_M7', 'F_M7', 'G_M', 'G_M', 'F_M7', 'F_M7', 'F_M7', 'F_M7', 'D_o', 'D_o', 'G_m7', 'G_m7', 'A_m', 'A_m', 'A_m', 'A_m']\n"
     ]
    },
    {
     "name": "stderr",
     "output_type": "stream",
     "text": [
      "100%|██████████| 10/10 [00:03<00:00,  2.95it/s]\n",
      " 37%|███▋      | 2947/7864 [16:14<5:22:30,  3.94s/it, batch=2940, gpu_temp=63, loss={'chord': tensor(0.8594, device='cuda:0', grad_fn=<NllLossBackward0>), 'velocity': tensor(0.4631, device='cuda:0', grad_fn=<NllLossBackward0>), 'polyphony': tensor(0.3305, device='cuda:0', grad_fn=<NllLossBackward0>), 'density': tensor(0.3591, device='cuda:0', grad_fn=<NllLossBackward0>), 'piano_roll': tensor(1.0938, device='cuda:0', grad_fn=<NllLoss2DBackward0>), 'total': tensor(3.1059, device='cuda:0', grad_fn=<AddBackward0>)}]"
     ]
    },
    {
     "name": "stdout",
     "output_type": "stream",
     "text": [
      "Generated:  [{'type': 'pitch', 'value': 39}, {'type': 'velocity', 'value': 17}, {'type': 'pitch', 'value': 51}, {'type': 'velocity', 'value': 15}, {'type': 'pitch', 'value': 55}, {'type': 'velocity', 'value': 20}, 'next_frame', 'next_frame', 'next_frame', 'next_frame']\n",
      "Chords:  ['C_M7', 'C_M7', 'C_M7', 'C_M7', 'A_m7', 'A_m7', 'A_m7', 'A_m7', 'F_M', 'F_M', 'F_M', 'F_M', 'G_M', 'G_M', 'G_M', 'G_M', 'C_M7', 'C_M7', 'C_M7', 'C_M7', 'A_m7', 'A_m7', 'A_m7', 'A_m7', 'C_M7', 'C_M7', 'C_M7', 'C_M7', 'C_M7', 'C_M7', 'C_M7', 'C_M7']\n"
     ]
    },
    {
     "name": "stderr",
     "output_type": "stream",
     "text": [
      "100%|██████████| 16/16 [00:08<00:00,  1.87it/s]t/s, batch=3430, gpu_temp=61, loss={'chord': tensor(0.8689, device='cuda:0', grad_fn=<NllLossBackward0>), 'velocity': tensor(0.3818, device='cuda:0', grad_fn=<NllLossBackward0>), 'polyphony': tensor(0.3160, device='cuda:0', grad_fn=<NllLossBackward0>), 'density': tensor(0.3871, device='cuda:0', grad_fn=<NllLossBackward0>), 'piano_roll': tensor(1.0524, device='cuda:0', grad_fn=<NllLoss2DBackward0>), 'total': tensor(3.0061, device='cuda:0', grad_fn=<AddBackward0>)}]  \n"
     ]
    },
    {
     "name": "stdout",
     "output_type": "stream",
     "text": [
      "Generated:  [{'type': 'pitch', 'value': 27}, {'type': 'velocity', 'value': 15}, {'type': 'pitch', 'value': 38}, {'type': 'velocity', 'value': 19}, {'type': 'pitch', 'value': 50}, {'type': 'velocity', 'value': 17}, {'type': 'pitch', 'value': 55}, {'type': 'velocity', 'value': 21}, 'next_frame', 'next_frame']\n",
      "Chords:  ['F_M', 'F_M', 'G_M', 'G_M', 'A_m', 'A_m', 'A_m7', 'A_m7', 'F_M', 'F_M', 'G_M', 'G_M', 'G_sus2', 'G_sus2', 'A_m7', 'A_m7', 'F_M', 'F_M', 'G_sus2', 'G_sus2', 'A_M', 'G_sus2', 'A_sus4', 'A_sus4', 'F_M7', 'F_M7', 'G_M', 'G_M', 'G_sus2', 'G_sus2', 'A_m', 'A_m']\n"
     ]
    },
    {
     "name": "stderr",
     "output_type": "stream",
     "text": [
      "100%|██████████| 10/10 [00:03<00:00,  2.60it/s]\n",
      " 44%|████▎     | 3438/7864 [18:54<5:02:32,  4.10s/it, batch=3430, gpu_temp=61, loss={'chord': tensor(0.8689, device='cuda:0', grad_fn=<NllLossBackward0>), 'velocity': tensor(0.3818, device='cuda:0', grad_fn=<NllLossBackward0>), 'polyphony': tensor(0.3160, device='cuda:0', grad_fn=<NllLossBackward0>), 'density': tensor(0.3871, device='cuda:0', grad_fn=<NllLossBackward0>), 'piano_roll': tensor(1.0524, device='cuda:0', grad_fn=<NllLoss2DBackward0>), 'total': tensor(3.0061, device='cuda:0', grad_fn=<AddBackward0>)}]"
     ]
    },
    {
     "name": "stdout",
     "output_type": "stream",
     "text": [
      "Generated:  [{'type': 'pitch', 'value': 39}, {'type': 'velocity', 'value': 17}, {'type': 'pitch', 'value': 51}, {'type': 'velocity', 'value': 15}, {'type': 'pitch', 'value': 55}, {'type': 'velocity', 'value': 20}, 'next_frame', 'next_frame', 'next_frame', 'next_frame']\n",
      "Chords:  ['C_M7', 'C_M7', 'C_M7', 'C_M7', 'A_m7', 'A_m7', 'A_m7', 'A_m7', 'F_M', 'F_M', 'F_M', 'F_M', 'G_M', 'G_M', 'G_M', 'G_M', 'C_M7', 'C_M7', 'C_M7', 'C_M7', 'A_m7', 'A_m7', 'A_m7', 'A_m7', 'A_m7', 'A_m7', 'A_m7', 'A_m7', 'D_m7', 'D_m7', 'D_m7', 'D_m7']\n"
     ]
    },
    {
     "name": "stderr",
     "output_type": "stream",
     "text": [
      "100%|██████████| 16/16 [00:08<00:00,  1.83it/s]t/s, batch=3920, gpu_temp=61, loss={'chord': tensor(0.8087, device='cuda:0', grad_fn=<NllLossBackward0>), 'velocity': tensor(0.4118, device='cuda:0', grad_fn=<NllLossBackward0>), 'polyphony': tensor(0.2438, device='cuda:0', grad_fn=<NllLossBackward0>), 'density': tensor(0.3429, device='cuda:0', grad_fn=<NllLossBackward0>), 'piano_roll': tensor(1.0567, device='cuda:0', grad_fn=<NllLoss2DBackward0>), 'total': tensor(2.8638, device='cuda:0', grad_fn=<AddBackward0>)}]  \n"
     ]
    },
    {
     "name": "stdout",
     "output_type": "stream",
     "text": [
      "Generated:  [{'type': 'pitch', 'value': 19}, {'type': 'velocity', 'value': 19}, {'type': 'pitch', 'value': 31}, {'type': 'velocity', 'value': 20}, {'type': 'pitch', 'value': 38}, {'type': 'velocity', 'value': 20}, {'type': 'pitch', 'value': 43}, {'type': 'velocity', 'value': 21}, 'next_frame', 'next_frame']\n",
      "Chords:  ['G_M', 'G_M', 'G_M', 'G_M', 'C_M', 'C_M', 'C_M', 'C_M', 'C_M7', 'C_M7', 'C_+', 'C_+', 'A_m', 'A_m', 'A_m', 'A_m', 'D_m7', 'D_m7', 'D_m7', 'D_m7', 'D_m', 'D_m', 'B_o', 'B_o', 'C_M', 'C_M', 'C_M', 'C_M', 'C_M', 'C_M', 'C_M7', 'C_M7']\n"
     ]
    },
    {
     "name": "stderr",
     "output_type": "stream",
     "text": [
      "100%|██████████| 10/10 [00:03<00:00,  2.54it/s]\n",
      " 50%|████▉     | 3929/7864 [21:37<4:30:17,  4.12s/it, batch=3920, gpu_temp=61, loss={'chord': tensor(0.8087, device='cuda:0', grad_fn=<NllLossBackward0>), 'velocity': tensor(0.4118, device='cuda:0', grad_fn=<NllLossBackward0>), 'polyphony': tensor(0.2438, device='cuda:0', grad_fn=<NllLossBackward0>), 'density': tensor(0.3429, device='cuda:0', grad_fn=<NllLossBackward0>), 'piano_roll': tensor(1.0567, device='cuda:0', grad_fn=<NllLoss2DBackward0>), 'total': tensor(2.8638, device='cuda:0', grad_fn=<AddBackward0>)}]"
     ]
    },
    {
     "name": "stdout",
     "output_type": "stream",
     "text": [
      "Generated:  [{'type': 'pitch', 'value': 39}, {'type': 'velocity', 'value': 17}, {'type': 'pitch', 'value': 51}, {'type': 'velocity', 'value': 15}, {'type': 'pitch', 'value': 55}, {'type': 'velocity', 'value': 20}, 'next_frame', 'next_frame', 'next_frame', 'next_frame']\n",
      "Chords:  ['C_M7', 'C_M7', 'C_M7', 'C_M7', 'A_m7', 'A_m7', 'A_m7', 'A_m7', 'F_M', 'F_M', 'F_M', 'F_M', 'G_M', 'G_M', 'G_M', 'G_M', 'C_M7', 'C_M7', 'C_M7', 'C_M7', 'A_m7', 'A_m7', 'A_m7', 'A_m7', 'F_M', 'F_M', 'F_M', 'F_M', 'G_7', 'G_7', 'G_M', 'G_M']\n"
     ]
    },
    {
     "name": "stderr",
     "output_type": "stream",
     "text": [
      "100%|██████████| 16/16 [00:07<00:00,  2.12it/s]t/s, batch=4410, gpu_temp=56, loss={'chord': tensor(0.8586, device='cuda:0', grad_fn=<NllLossBackward0>), 'velocity': tensor(0.3846, device='cuda:0', grad_fn=<NllLossBackward0>), 'polyphony': tensor(0.2804, device='cuda:0', grad_fn=<NllLossBackward0>), 'density': tensor(0.3734, device='cuda:0', grad_fn=<NllLossBackward0>), 'piano_roll': tensor(0.9808, device='cuda:0', grad_fn=<NllLoss2DBackward0>), 'total': tensor(2.8778, device='cuda:0', grad_fn=<AddBackward0>)}]  \n"
     ]
    },
    {
     "name": "stdout",
     "output_type": "stream",
     "text": [
      "Generated:  [{'type': 'pitch', 'value': 8}, {'type': 'velocity', 'value': 21}, {'type': 'pitch', 'value': 20}, {'type': 'velocity', 'value': 22}, {'type': 'pitch', 'value': 39}, {'type': 'velocity', 'value': 22}, {'type': 'pitch', 'value': 44}, {'type': 'velocity', 'value': 22}, {'type': 'pitch', 'value': 51}, {'type': 'velocity', 'value': 23}]\n",
      "Chords:  ['C_M', 'C_M', 'C_M', 'C_M', 'D_m7', 'D_m7', 'D_m7', 'D_m7', 'A#_M7', 'A#_M7', 'A#_M', 'A#_M', 'C_M', 'C_M', 'C_M', 'C_M', 'G_M', 'G_M', 'G_M', 'G_M', 'A_m7', 'A_m7', 'A_m7', 'A_m7', 'F_M', 'F_M', 'F_M7', 'F_M7', 'C_M', 'C_M', 'C_M', 'C_M']\n"
     ]
    },
    {
     "name": "stderr",
     "output_type": "stream",
     "text": [
      "100%|██████████| 10/10 [00:04<00:00,  2.49it/s]\n",
      " 56%|█████▌    | 4420/7864 [24:16<3:42:08,  3.87s/it, batch=4410, gpu_temp=56, loss={'chord': tensor(0.8586, device='cuda:0', grad_fn=<NllLossBackward0>), 'velocity': tensor(0.3846, device='cuda:0', grad_fn=<NllLossBackward0>), 'polyphony': tensor(0.2804, device='cuda:0', grad_fn=<NllLossBackward0>), 'density': tensor(0.3734, device='cuda:0', grad_fn=<NllLossBackward0>), 'piano_roll': tensor(0.9808, device='cuda:0', grad_fn=<NllLoss2DBackward0>), 'total': tensor(2.8778, device='cuda:0', grad_fn=<AddBackward0>)}]"
     ]
    },
    {
     "name": "stdout",
     "output_type": "stream",
     "text": [
      "Generated:  [{'type': 'pitch', 'value': 39}, {'type': 'velocity', 'value': 17}, {'type': 'pitch', 'value': 51}, {'type': 'velocity', 'value': 15}, {'type': 'pitch', 'value': 55}, {'type': 'velocity', 'value': 20}, 'next_frame', 'next_frame', 'next_frame', 'next_frame']\n",
      "Chords:  ['C_M7', 'C_M7', 'C_M7', 'C_M7', 'A_m7', 'A_m7', 'A_m7', 'A_m7', 'F_M', 'F_M', 'F_M', 'F_M', 'G_M', 'G_M', 'G_M', 'G_M', 'C_M7', 'C_M7', 'C_M7', 'C_M7', 'A_m7', 'A_m7', 'A_m7', 'A_m7', 'C_M', 'C_M', 'C_M', 'C_M', 'G_sus4', 'G_sus4', 'C_M', 'C_M']\n"
     ]
    },
    {
     "name": "stderr",
     "output_type": "stream",
     "text": [
      "100%|██████████| 16/16 [00:07<00:00,  2.00it/s]t/s, batch=4910, gpu_temp=61, loss={'chord': tensor(0.8146, device='cuda:0', grad_fn=<NllLossBackward0>), 'velocity': tensor(0.3527, device='cuda:0', grad_fn=<NllLossBackward0>), 'polyphony': tensor(0.2833, device='cuda:0', grad_fn=<NllLossBackward0>), 'density': tensor(0.3135, device='cuda:0', grad_fn=<NllLossBackward0>), 'piano_roll': tensor(0.9456, device='cuda:0', grad_fn=<NllLoss2DBackward0>), 'total': tensor(2.7097, device='cuda:0', grad_fn=<AddBackward0>)}]  \n"
     ]
    },
    {
     "name": "stdout",
     "output_type": "stream",
     "text": [
      "Generated:  [{'type': 'pitch', 'value': 32}, {'type': 'velocity', 'value': 20}, {'type': 'pitch', 'value': 39}, {'type': 'velocity', 'value': 21}, {'type': 'pitch', 'value': 44}, {'type': 'velocity', 'value': 19}, {'type': 'pitch', 'value': 51}, {'type': 'velocity', 'value': 22}, 'next_frame', 'next_frame']\n",
      "Chords:  ['E_M', 'E_M', 'A_m7', 'A_m7', 'C_M7', 'C_M7', 'C_M7', 'C_M7', 'E_m', 'E_m', 'E_m', 'E_m', 'C_M', 'C_M', 'C_M', 'C_M', 'G_M', 'G_M', 'G_M', 'G_M', 'A_m', 'A_m', 'A_m', 'A_m', 'F_M7', 'F_M7', 'C_M7', 'C_M7', 'C_M7', 'C_M7', 'C_M', 'C_M']\n"
     ]
    },
    {
     "name": "stderr",
     "output_type": "stream",
     "text": [
      "100%|██████████| 10/10 [00:04<00:00,  2.19it/s]\n",
      " 62%|██████▏   | 4911/7864 [26:58<3:22:34,  4.12s/it, batch=4910, gpu_temp=61, loss={'chord': tensor(0.8146, device='cuda:0', grad_fn=<NllLossBackward0>), 'velocity': tensor(0.3527, device='cuda:0', grad_fn=<NllLossBackward0>), 'polyphony': tensor(0.2833, device='cuda:0', grad_fn=<NllLossBackward0>), 'density': tensor(0.3135, device='cuda:0', grad_fn=<NllLossBackward0>), 'piano_roll': tensor(0.9456, device='cuda:0', grad_fn=<NllLoss2DBackward0>), 'total': tensor(2.7097, device='cuda:0', grad_fn=<AddBackward0>)}]"
     ]
    },
    {
     "name": "stdout",
     "output_type": "stream",
     "text": [
      "Generated:  [{'type': 'pitch', 'value': 39}, {'type': 'velocity', 'value': 17}, {'type': 'pitch', 'value': 51}, {'type': 'velocity', 'value': 15}, {'type': 'pitch', 'value': 55}, {'type': 'velocity', 'value': 20}, 'next_frame', 'next_frame', 'next_frame', 'next_frame']\n",
      "Chords:  ['C_M7', 'C_M7', 'C_M7', 'C_M7', 'A_m7', 'A_m7', 'A_m7', 'A_m7', 'F_M', 'F_M', 'F_M', 'F_M', 'G_M', 'G_M', 'G_M', 'G_M', 'C_M7', 'C_M7', 'C_M7', 'C_M7', 'A_m7', 'A_m7', 'A_m7', 'A_m7', 'C_M7', 'C_M7', 'C_M7', 'C_M7', 'C_M7', 'C_M7', 'C_M7', 'C_M7']\n"
     ]
    },
    {
     "name": "stderr",
     "output_type": "stream",
     "text": [
      "100%|██████████| 16/16 [00:09<00:00,  1.75it/s]t/s, batch=5400, gpu_temp=56, loss={'chord': tensor(0.9812, device='cuda:0', grad_fn=<NllLossBackward0>), 'velocity': tensor(0.4270, device='cuda:0', grad_fn=<NllLossBackward0>), 'polyphony': tensor(0.3021, device='cuda:0', grad_fn=<NllLossBackward0>), 'density': tensor(0.3646, device='cuda:0', grad_fn=<NllLossBackward0>), 'piano_roll': tensor(1.0950, device='cuda:0', grad_fn=<NllLoss2DBackward0>), 'total': tensor(3.1698, device='cuda:0', grad_fn=<AddBackward0>)}]  \n"
     ]
    },
    {
     "name": "stdout",
     "output_type": "stream",
     "text": [
      "Generated:  [{'type': 'pitch', 'value': 17}, {'type': 'velocity', 'value': 20}, {'type': 'pitch', 'value': 29}, {'type': 'velocity', 'value': 22}, {'type': 'pitch', 'value': 53}, {'type': 'velocity', 'value': 21}, 'next_frame', 'next_frame', 'next_frame', 'next_frame']\n",
      "Chords:  ['C_M7', 'C_M7', 'E_m7', 'E_m7', 'B_o', 'B_o', 'E_7', 'E_7', 'A_m', 'E_m7', 'E_m', 'E_m', 'B_o', 'B_o', 'E_m7', 'E_m7', 'F_sus2', 'F_sus2', 'F_sus2', 'F_sus2', 'E_m', 'E_m', 'E_m', 'F_sus2', 'E_m', 'E_m', 'E_m7', 'E_m7', 'A_m7', 'A_m7', 'A_m7', 'A_m7']\n"
     ]
    },
    {
     "name": "stderr",
     "output_type": "stream",
     "text": [
      "100%|██████████| 10/10 [00:05<00:00,  1.76it/s]\n",
      " 69%|██████▊   | 5402/7864 [29:41<3:18:04,  4.83s/it, batch=5400, gpu_temp=56, loss={'chord': tensor(0.9812, device='cuda:0', grad_fn=<NllLossBackward0>), 'velocity': tensor(0.4270, device='cuda:0', grad_fn=<NllLossBackward0>), 'polyphony': tensor(0.3021, device='cuda:0', grad_fn=<NllLossBackward0>), 'density': tensor(0.3646, device='cuda:0', grad_fn=<NllLossBackward0>), 'piano_roll': tensor(1.0950, device='cuda:0', grad_fn=<NllLoss2DBackward0>), 'total': tensor(3.1698, device='cuda:0', grad_fn=<AddBackward0>)}]"
     ]
    },
    {
     "name": "stdout",
     "output_type": "stream",
     "text": [
      "Generated:  [{'type': 'pitch', 'value': 39}, {'type': 'velocity', 'value': 17}, {'type': 'pitch', 'value': 51}, {'type': 'velocity', 'value': 15}, {'type': 'pitch', 'value': 55}, {'type': 'velocity', 'value': 20}, 'next_frame', 'next_frame', 'next_frame', 'next_frame']\n",
      "Chords:  ['C_M7', 'C_M7', 'C_M7', 'C_M7', 'A_m7', 'A_m7', 'A_m7', 'A_m7', 'F_M', 'F_M', 'F_M', 'F_M', 'G_M', 'G_M', 'G_M', 'G_M', 'C_M7', 'C_M7', 'C_M7', 'C_M7', 'A_m7', 'A_m7', 'A_m7', 'A_m7', 'C_M7', 'C_M7', 'C_M7', 'C_M7', 'A_m7', 'A_m7', 'A_m7', 'A_m7']\n"
     ]
    },
    {
     "name": "stderr",
     "output_type": "stream",
     "text": [
      "100%|██████████| 16/16 [00:08<00:00,  1.95it/s]t/s, batch=5890, gpu_temp=56, loss={'chord': tensor(0.8259, device='cuda:0', grad_fn=<NllLossBackward0>), 'velocity': tensor(0.3638, device='cuda:0', grad_fn=<NllLossBackward0>), 'polyphony': tensor(0.2777, device='cuda:0', grad_fn=<NllLossBackward0>), 'density': tensor(0.3558, device='cuda:0', grad_fn=<NllLossBackward0>), 'piano_roll': tensor(1.0178, device='cuda:0', grad_fn=<NllLoss2DBackward0>), 'total': tensor(2.8411, device='cuda:0', grad_fn=<AddBackward0>)}]  \n"
     ]
    },
    {
     "name": "stdout",
     "output_type": "stream",
     "text": [
      "Generated:  [{'type': 'pitch', 'value': 15}, {'type': 'velocity', 'value': 20}, {'type': 'pitch', 'value': 27}, {'type': 'velocity', 'value': 23}, 'next_frame', 'next_frame', 'next_frame', 'next_frame', 'next_frame', 'next_frame']\n",
      "Chords:  ['F_M', 'F_M', 'C_M', 'C_M', 'A_+', 'A_+', 'C_M', 'C_M', 'F_M', 'F_M', 'G_M', 'G_M', 'A_M', 'A_M', 'A_m', 'A_m', 'D_M', 'D_M', 'A_sus2', 'A_sus2', 'A_sus2', 'A_sus2', 'G_sus2', 'G_sus2', 'D_M', 'D_M', 'A_M', 'A_M', 'A_sus2', 'A_sus2', 'A_sus2', 'A_sus2']\n"
     ]
    },
    {
     "name": "stderr",
     "output_type": "stream",
     "text": [
      "100%|██████████| 10/10 [00:03<00:00,  2.62it/s]\n",
      " 75%|███████▍  | 5893/7864 [32:21<2:09:16,  3.94s/it, batch=5890, gpu_temp=56, loss={'chord': tensor(0.8259, device='cuda:0', grad_fn=<NllLossBackward0>), 'velocity': tensor(0.3638, device='cuda:0', grad_fn=<NllLossBackward0>), 'polyphony': tensor(0.2777, device='cuda:0', grad_fn=<NllLossBackward0>), 'density': tensor(0.3558, device='cuda:0', grad_fn=<NllLossBackward0>), 'piano_roll': tensor(1.0178, device='cuda:0', grad_fn=<NllLoss2DBackward0>), 'total': tensor(2.8411, device='cuda:0', grad_fn=<AddBackward0>)}]"
     ]
    },
    {
     "name": "stdout",
     "output_type": "stream",
     "text": [
      "Generated:  [{'type': 'pitch', 'value': 39}, {'type': 'velocity', 'value': 17}, {'type': 'pitch', 'value': 51}, {'type': 'velocity', 'value': 15}, {'type': 'pitch', 'value': 55}, {'type': 'velocity', 'value': 20}, 'next_frame', 'next_frame', 'next_frame', 'next_frame']\n",
      "Chords:  ['C_M7', 'C_M7', 'C_M7', 'C_M7', 'A_m7', 'A_m7', 'A_m7', 'A_m7', 'F_M', 'F_M', 'F_M', 'F_M', 'G_M', 'G_M', 'G_M', 'G_M', 'C_M7', 'C_M7', 'C_M7', 'C_M7', 'A_m7', 'A_m7', 'A_m7', 'A_m7', 'C_M7', 'C_M7', 'C_M7', 'C_M7', 'A_m7', 'A_m7', 'A_m7', 'A_m7']\n"
     ]
    },
    {
     "name": "stderr",
     "output_type": "stream",
     "text": [
      "100%|██████████| 16/16 [00:08<00:00,  1.81it/s]t/s, batch=6380, gpu_temp=56, loss={'chord': tensor(0.9012, device='cuda:0', grad_fn=<NllLossBackward0>), 'velocity': tensor(0.3583, device='cuda:0', grad_fn=<NllLossBackward0>), 'polyphony': tensor(0.2964, device='cuda:0', grad_fn=<NllLossBackward0>), 'density': tensor(0.3195, device='cuda:0', grad_fn=<NllLossBackward0>), 'piano_roll': tensor(1.0342, device='cuda:0', grad_fn=<NllLoss2DBackward0>), 'total': tensor(2.9096, device='cuda:0', grad_fn=<AddBackward0>)}]  \n"
     ]
    },
    {
     "name": "stdout",
     "output_type": "stream",
     "text": [
      "Generated:  [{'type': 'pitch', 'value': 20}, {'type': 'velocity', 'value': 19}, {'type': 'pitch', 'value': 53}, {'type': 'velocity', 'value': 22}, 'next_frame', 'next_frame', 'next_frame', 'next_frame', {'type': 'pitch', 'value': 26}, {'type': 'velocity', 'value': 19}]\n",
      "Chords:  ['F_M7', 'F_M7', 'F_M7', 'F_M7', 'E_m7', 'E_m7', 'A_m7', 'A_m7', 'D_m7', 'D_m7', 'D_m7', 'D_m7', 'C_M7', 'C_M7', 'G_7', 'G_7', 'C_M', 'C_M', 'C_M7', 'C_M7', 'A#_M', 'A#_M', 'A#_M', 'A#_M', 'A#_M', 'A#_M', 'A#_M', 'A#_M', 'A#_M', 'A#_M', 'G_M', 'G_M']\n"
     ]
    },
    {
     "name": "stderr",
     "output_type": "stream",
     "text": [
      "100%|██████████| 10/10 [00:03<00:00,  2.62it/s]\n",
      " 81%|████████  | 6384/7864 [35:03<1:43:30,  4.20s/it, batch=6380, gpu_temp=56, loss={'chord': tensor(0.9012, device='cuda:0', grad_fn=<NllLossBackward0>), 'velocity': tensor(0.3583, device='cuda:0', grad_fn=<NllLossBackward0>), 'polyphony': tensor(0.2964, device='cuda:0', grad_fn=<NllLossBackward0>), 'density': tensor(0.3195, device='cuda:0', grad_fn=<NllLossBackward0>), 'piano_roll': tensor(1.0342, device='cuda:0', grad_fn=<NllLoss2DBackward0>), 'total': tensor(2.9096, device='cuda:0', grad_fn=<AddBackward0>)}]"
     ]
    },
    {
     "name": "stdout",
     "output_type": "stream",
     "text": [
      "Generated:  [{'type': 'pitch', 'value': 39}, {'type': 'velocity', 'value': 17}, {'type': 'pitch', 'value': 51}, {'type': 'velocity', 'value': 15}, {'type': 'pitch', 'value': 55}, {'type': 'velocity', 'value': 20}, 'next_frame', 'next_frame', 'next_frame', 'next_frame']\n",
      "Chords:  ['C_M7', 'C_M7', 'C_M7', 'C_M7', 'A_m7', 'A_m7', 'A_m7', 'A_m7', 'F_M', 'F_M', 'F_M', 'F_M', 'G_M', 'G_M', 'G_M', 'G_M', 'C_M7', 'C_M7', 'C_M7', 'C_M7', 'A_m7', 'A_m7', 'A_m7', 'A_m7', 'F_M', 'F_M', 'F_M', 'F_M', 'C_M', 'C_M', 'C_M', 'C_M']\n"
     ]
    },
    {
     "name": "stderr",
     "output_type": "stream",
     "text": [
      "100%|██████████| 16/16 [00:08<00:00,  1.90it/s]t/s, batch=6870, gpu_temp=61, loss={'chord': tensor(0.8309, device='cuda:0', grad_fn=<NllLossBackward0>), 'velocity': tensor(0.3387, device='cuda:0', grad_fn=<NllLossBackward0>), 'polyphony': tensor(0.2865, device='cuda:0', grad_fn=<NllLossBackward0>), 'density': tensor(0.3005, device='cuda:0', grad_fn=<NllLossBackward0>), 'piano_roll': tensor(1.0337, device='cuda:0', grad_fn=<NllLoss2DBackward0>), 'total': tensor(2.7904, device='cuda:0', grad_fn=<AddBackward0>)}]  \n"
     ]
    },
    {
     "name": "stdout",
     "output_type": "stream",
     "text": [
      "Generated:  [{'type': 'pitch', 'value': 12}, {'type': 'velocity', 'value': 19}, {'type': 'pitch', 'value': 24}, {'type': 'velocity', 'value': 21}, 'next_frame', 'next_frame', 'next_frame', 'next_frame', {'type': 'pitch', 'value': 31}, {'type': 'velocity', 'value': 18}]\n",
      "Chords:  ['F_M7', 'F_M7', 'F_M7', 'F_M7', 'C_M', 'C_M', 'C_M7', 'C_M7', 'D_m7', 'D_m7', 'G_7', 'G_7', 'C_M', 'C_M', 'C_M', 'C_M', 'F_M7', 'F_M7', 'F_M7', 'F_M7', 'F_m', 'F_m', 'F_m', 'F_m', 'C_M', 'C_M', 'C_M', 'C_M', 'None', 'None', 'None', 'None']\n"
     ]
    },
    {
     "name": "stderr",
     "output_type": "stream",
     "text": [
      "100%|██████████| 10/10 [00:03<00:00,  2.63it/s]\n",
      " 87%|████████▋ | 6875/7864 [37:44<1:06:12,  4.02s/it, batch=6870, gpu_temp=61, loss={'chord': tensor(0.8309, device='cuda:0', grad_fn=<NllLossBackward0>), 'velocity': tensor(0.3387, device='cuda:0', grad_fn=<NllLossBackward0>), 'polyphony': tensor(0.2865, device='cuda:0', grad_fn=<NllLossBackward0>), 'density': tensor(0.3005, device='cuda:0', grad_fn=<NllLossBackward0>), 'piano_roll': tensor(1.0337, device='cuda:0', grad_fn=<NllLoss2DBackward0>), 'total': tensor(2.7904, device='cuda:0', grad_fn=<AddBackward0>)}]"
     ]
    },
    {
     "name": "stdout",
     "output_type": "stream",
     "text": [
      "Generated:  [{'type': 'pitch', 'value': 39}, {'type': 'velocity', 'value': 17}, {'type': 'pitch', 'value': 51}, {'type': 'velocity', 'value': 15}, {'type': 'pitch', 'value': 55}, {'type': 'velocity', 'value': 20}, 'next_frame', 'next_frame', 'next_frame', 'next_frame']\n",
      "Chords:  ['C_M7', 'C_M7', 'C_M7', 'C_M7', 'A_m7', 'A_m7', 'A_m7', 'A_m7', 'F_M', 'F_M', 'F_M', 'F_M', 'G_M', 'G_M', 'G_M', 'G_M', 'C_M7', 'C_M7', 'C_M7', 'C_M7', 'A_m7', 'A_m7', 'A_m7', 'A_m7', 'F_M', 'F_M', 'F_M', 'F_M', 'G_7', 'G_7', 'G_M', 'G_M']\n"
     ]
    },
    {
     "name": "stderr",
     "output_type": "stream",
     "text": [
      "100%|██████████| 16/16 [00:08<00:00,  1.96it/s]t/s, batch=7360, gpu_temp=63, loss={'chord': tensor(0.8354, device='cuda:0', grad_fn=<NllLossBackward0>), 'velocity': tensor(0.4120, device='cuda:0', grad_fn=<NllLossBackward0>), 'polyphony': tensor(0.2901, device='cuda:0', grad_fn=<NllLossBackward0>), 'density': tensor(0.2955, device='cuda:0', grad_fn=<NllLossBackward0>), 'piano_roll': tensor(1.1027, device='cuda:0', grad_fn=<NllLoss2DBackward0>), 'total': tensor(2.9358, device='cuda:0', grad_fn=<AddBackward0>)}]  \n"
     ]
    },
    {
     "name": "stdout",
     "output_type": "stream",
     "text": [
      "Generated:  [{'type': 'pitch', 'value': 3}, {'type': 'velocity', 'value': 20}, {'type': 'pitch', 'value': 15}, {'type': 'velocity', 'value': 19}, {'type': 'pitch', 'value': 43}, {'type': 'velocity', 'value': 23}, {'type': 'pitch', 'value': 55}, {'type': 'velocity', 'value': 23}, 'next_frame', 'next_frame']\n",
      "Chords:  ['D_m7', 'D_m7', 'G_M', 'G_M', 'C_M', 'C_M', 'C_M', 'C_M', 'F_M', 'F_M', 'G_M', 'G_M', 'C_M', 'C_M', 'C_M', 'C_M', 'F_M', 'F_M', 'G_M', 'G_M', 'G_M', 'A_m7', 'A_m7', 'A_m7', 'F_M7', 'F_M7', 'G_7', 'G_7', 'C_M', 'C_M', 'C_M', 'C_M']\n"
     ]
    },
    {
     "name": "stderr",
     "output_type": "stream",
     "text": [
      "100%|██████████| 10/10 [00:03<00:00,  2.59it/s]\n",
      " 94%|█████████▎| 7366/7864 [40:25<33:05,  3.99s/it, batch=7360, gpu_temp=63, loss={'chord': tensor(0.8354, device='cuda:0', grad_fn=<NllLossBackward0>), 'velocity': tensor(0.4120, device='cuda:0', grad_fn=<NllLossBackward0>), 'polyphony': tensor(0.2901, device='cuda:0', grad_fn=<NllLossBackward0>), 'density': tensor(0.2955, device='cuda:0', grad_fn=<NllLossBackward0>), 'piano_roll': tensor(1.1027, device='cuda:0', grad_fn=<NllLoss2DBackward0>), 'total': tensor(2.9358, device='cuda:0', grad_fn=<AddBackward0>)}]"
     ]
    },
    {
     "name": "stdout",
     "output_type": "stream",
     "text": [
      "Generated:  [{'type': 'pitch', 'value': 39}, {'type': 'velocity', 'value': 17}, {'type': 'pitch', 'value': 51}, {'type': 'velocity', 'value': 15}, {'type': 'pitch', 'value': 55}, {'type': 'velocity', 'value': 20}, 'next_frame', 'next_frame', 'next_frame', 'next_frame']\n",
      "Chords:  ['C_M7', 'C_M7', 'C_M7', 'C_M7', 'A_m7', 'A_m7', 'A_m7', 'A_m7', 'F_M', 'F_M', 'F_M', 'F_M', 'G_M', 'G_M', 'G_M', 'G_M', 'C_M7', 'C_M7', 'C_M7', 'C_M7', 'A_m7', 'A_m7', 'A_m7', 'A_m7', 'C_M7', 'C_M7', 'C_M7', 'C_M7', 'C_M7', 'C_M7', 'C_M7', 'C_M7']\n"
     ]
    },
    {
     "name": "stderr",
     "output_type": "stream",
     "text": [
      "100%|██████████| 16/16 [00:07<00:00,  2.05it/s]t/s, batch=7850, gpu_temp=63, loss={'chord': tensor(0.8510, device='cuda:0', grad_fn=<NllLossBackward0>), 'velocity': tensor(0.4022, device='cuda:0', grad_fn=<NllLossBackward0>), 'polyphony': tensor(0.3050, device='cuda:0', grad_fn=<NllLossBackward0>), 'density': tensor(0.3515, device='cuda:0', grad_fn=<NllLossBackward0>), 'piano_roll': tensor(0.9938, device='cuda:0', grad_fn=<NllLoss2DBackward0>), 'total': tensor(2.9035, device='cuda:0', grad_fn=<AddBackward0>)}]\n"
     ]
    },
    {
     "name": "stdout",
     "output_type": "stream",
     "text": [
      "Generated:  [{'type': 'pitch', 'value': 5}, {'type': 'velocity', 'value': 19}, {'type': 'pitch', 'value': 17}, {'type': 'velocity', 'value': 21}, {'type': 'pitch', 'value': 36}, {'type': 'velocity', 'value': 19}, {'type': 'pitch', 'value': 41}, {'type': 'velocity', 'value': 22}, 'next_frame', 'next_frame']\n",
      "Chords:  ['G_7', 'G_7', 'B_o', 'B_o', 'E_m', 'E_m', 'F_M7', 'F_M7', 'C_M7', 'C_M7', 'B_o', 'B_o', 'A_m7', 'A_m7', 'G_7', 'G_7', 'F_M7', 'F_M7', 'F_M', 'F_M', 'G_7', 'G_7', 'G_7', 'G_7', 'C_M7', 'C_M7', 'C_M', 'C_M', 'C_M', 'C_M', 'C_M', 'C_M']\n"
     ]
    },
    {
     "name": "stderr",
     "output_type": "stream",
     "text": [
      "100%|██████████| 10/10 [00:03<00:00,  2.57it/s]\n",
      "100%|█████████▉| 7857/7864 [43:05<00:26,  3.85s/it, batch=7850, gpu_temp=63, loss={'chord': tensor(0.8510, device='cuda:0', grad_fn=<NllLossBackward0>), 'velocity': tensor(0.4022, device='cuda:0', grad_fn=<NllLossBackward0>), 'polyphony': tensor(0.3050, device='cuda:0', grad_fn=<NllLossBackward0>), 'density': tensor(0.3515, device='cuda:0', grad_fn=<NllLossBackward0>), 'piano_roll': tensor(0.9938, device='cuda:0', grad_fn=<NllLoss2DBackward0>), 'total': tensor(2.9035, device='cuda:0', grad_fn=<AddBackward0>)}]"
     ]
    },
    {
     "name": "stdout",
     "output_type": "stream",
     "text": [
      "Generated:  [{'type': 'pitch', 'value': 39}, {'type': 'velocity', 'value': 17}, {'type': 'pitch', 'value': 51}, {'type': 'velocity', 'value': 15}, {'type': 'pitch', 'value': 55}, {'type': 'velocity', 'value': 20}, 'next_frame', 'next_frame', 'next_frame', 'next_frame']\n",
      "Chords:  ['C_M7', 'C_M7', 'C_M7', 'C_M7', 'A_m7', 'A_m7', 'A_m7', 'A_m7', 'F_M', 'F_M', 'F_M', 'F_M', 'G_M', 'G_M', 'G_M', 'G_M', 'C_M7', 'C_M7', 'C_M7', 'C_M7', 'A_m7', 'A_m7', 'A_m7', 'A_m7', 'C_M7', 'C_M7', 'C_M7', 'C_M7', 'G_M', 'G_M', 'G_M', 'G_M']\n"
     ]
    },
    {
     "name": "stderr",
     "output_type": "stream",
     "text": [
      "100%|██████████| 7864/7864 [43:08<00:00,  3.04it/s, batch=7860, gpu_temp=59, loss={'chord': tensor(0.9330, device='cuda:0', grad_fn=<NllLossBackward0>), 'velocity': tensor(0.3796, device='cuda:0', grad_fn=<NllLossBackward0>), 'polyphony': tensor(0.2655, device='cuda:0', grad_fn=<NllLossBackward0>), 'density': tensor(0.3394, device='cuda:0', grad_fn=<NllLossBackward0>), 'piano_roll': tensor(1.1193, device='cuda:0', grad_fn=<NllLoss2DBackward0>), 'total': tensor(3.0368, device='cuda:0', grad_fn=<AddBackward0>)}]\n",
      "100%|██████████| 16/16 [00:09<00:00,  1.69it/s]/s, batch=490, gpu_temp=63, loss={'chord': tensor(0.6973, device='cuda:0', grad_fn=<NllLossBackward0>), 'velocity': tensor(0.3418, device='cuda:0', grad_fn=<NllLossBackward0>), 'polyphony': tensor(0.2320, device='cuda:0', grad_fn=<NllLossBackward0>), 'density': tensor(0.2914, device='cuda:0', grad_fn=<NllLossBackward0>), 'piano_roll': tensor(0.9660, device='cuda:0', grad_fn=<NllLoss2DBackward0>), 'total': tensor(2.5285, device='cuda:0', grad_fn=<AddBackward0>)}]\n"
     ]
    },
    {
     "name": "stdout",
     "output_type": "stream",
     "text": [
      "Generated:  [{'type': 'pitch', 'value': 39}, {'type': 'velocity', 'value': 17}, 'next_frame', 'next_frame', 'next_frame', 'next_frame', {'type': 'pitch', 'value': 41}, {'type': 'velocity', 'value': 19}, 'next_frame', 'next_frame']\n",
      "Chords:  ['G_M', 'G_M', 'G_M', 'G_M', 'C_M', 'C_M', 'C_M', 'C_M', 'F_M', 'F_M', 'F_M7', 'F_M7', 'G_M', 'G_M', 'G_M', 'G_M', 'A_m', 'A_m', 'A_m', 'A_m', 'A_m', 'A_m', 'A_m7', 'A_m7', 'F_M', 'F_M', 'F_M', 'F_M', 'C_M', 'C_M', 'C_M', 'C_M']\n"
     ]
    },
    {
     "name": "stderr",
     "output_type": "stream",
     "text": [
      "100%|██████████| 10/10 [00:03<00:00,  2.94it/s]\n",
      "  6%|▋         | 492/7864 [02:54<8:39:19,  4.23s/it, batch=490, gpu_temp=63, loss={'chord': tensor(0.6973, device='cuda:0', grad_fn=<NllLossBackward0>), 'velocity': tensor(0.3418, device='cuda:0', grad_fn=<NllLossBackward0>), 'polyphony': tensor(0.2320, device='cuda:0', grad_fn=<NllLossBackward0>), 'density': tensor(0.2914, device='cuda:0', grad_fn=<NllLossBackward0>), 'piano_roll': tensor(0.9660, device='cuda:0', grad_fn=<NllLoss2DBackward0>), 'total': tensor(2.5285, device='cuda:0', grad_fn=<AddBackward0>)}]"
     ]
    },
    {
     "name": "stdout",
     "output_type": "stream",
     "text": [
      "Generated:  [{'type': 'pitch', 'value': 39}, {'type': 'velocity', 'value': 17}, {'type': 'pitch', 'value': 51}, {'type': 'velocity', 'value': 15}, {'type': 'pitch', 'value': 55}, {'type': 'velocity', 'value': 20}, 'next_frame', 'next_frame', 'next_frame', 'next_frame']\n",
      "Chords:  ['C_M7', 'C_M7', 'C_M7', 'C_M7', 'A_m7', 'A_m7', 'A_m7', 'A_m7', 'F_M', 'F_M', 'F_M', 'F_M', 'G_M', 'G_M', 'G_M', 'G_M', 'C_M7', 'C_M7', 'C_M7', 'C_M7', 'A_m7', 'A_m7', 'A_m7', 'A_m7', 'F_M', 'F_M', 'F_M', 'F_M', 'G_7', 'G_7', 'G_7', 'G_7']\n"
     ]
    },
    {
     "name": "stderr",
     "output_type": "stream",
     "text": [
      "100%|██████████| 16/16 [00:07<00:00,  2.05it/s]/s, batch=980, gpu_temp=56, loss={'chord': tensor(0.8450, device='cuda:0', grad_fn=<NllLossBackward0>), 'velocity': tensor(0.3621, device='cuda:0', grad_fn=<NllLossBackward0>), 'polyphony': tensor(0.2637, device='cuda:0', grad_fn=<NllLossBackward0>), 'density': tensor(0.3074, device='cuda:0', grad_fn=<NllLossBackward0>), 'piano_roll': tensor(1.0372, device='cuda:0', grad_fn=<NllLoss2DBackward0>), 'total': tensor(2.8154, device='cuda:0', grad_fn=<AddBackward0>)}]  \n"
     ]
    },
    {
     "name": "stdout",
     "output_type": "stream",
     "text": [
      "Generated:  [{'type': 'pitch', 'value': 34}, {'type': 'velocity', 'value': 19}, {'type': 'pitch', 'value': 53}, {'type': 'velocity', 'value': 21}, {'type': 'pitch', 'value': 62}, {'type': 'velocity', 'value': 23}, 'next_frame', 'next_frame', 'next_frame', 'next_frame']\n",
      "Chords:  ['D_m7', 'D_m7', 'D_m7', 'D_m7', 'G_M', 'G_M', 'G_M', 'G_M', 'C_M', 'C_M', 'A_m7', 'A_m7', 'A_m', 'A_m', 'A_m7', 'A_m7', 'F_M', 'F_M', 'F_M', 'F_M', 'G_M', 'G_M', 'G_M', 'G_M', 'C_M', 'C_M', 'C_M', 'C_M', 'A_m', 'A_m', 'A_m', 'A_m']\n"
     ]
    },
    {
     "name": "stderr",
     "output_type": "stream",
     "text": [
      "100%|██████████| 10/10 [00:04<00:00,  2.33it/s]\n",
      " 12%|█▎        | 983/7864 [05:36<7:47:42,  4.08s/it, batch=980, gpu_temp=56, loss={'chord': tensor(0.8450, device='cuda:0', grad_fn=<NllLossBackward0>), 'velocity': tensor(0.3621, device='cuda:0', grad_fn=<NllLossBackward0>), 'polyphony': tensor(0.2637, device='cuda:0', grad_fn=<NllLossBackward0>), 'density': tensor(0.3074, device='cuda:0', grad_fn=<NllLossBackward0>), 'piano_roll': tensor(1.0372, device='cuda:0', grad_fn=<NllLoss2DBackward0>), 'total': tensor(2.8154, device='cuda:0', grad_fn=<AddBackward0>)}]"
     ]
    },
    {
     "name": "stdout",
     "output_type": "stream",
     "text": [
      "Generated:  [{'type': 'pitch', 'value': 39}, {'type': 'velocity', 'value': 17}, {'type': 'pitch', 'value': 51}, {'type': 'velocity', 'value': 15}, {'type': 'pitch', 'value': 55}, {'type': 'velocity', 'value': 20}, 'next_frame', 'next_frame', 'next_frame', 'next_frame']\n",
      "Chords:  ['C_M7', 'C_M7', 'C_M7', 'C_M7', 'A_m7', 'A_m7', 'A_m7', 'A_m7', 'F_M', 'F_M', 'F_M', 'F_M', 'G_M', 'G_M', 'G_M', 'G_M', 'C_M7', 'C_M7', 'C_M7', 'C_M7', 'A_m7', 'A_m7', 'A_m7', 'A_m7', 'C_M7', 'C_M7', 'C_M7', 'C_M7', 'C_M7', 'C_M7', 'C_M7', 'C_M7']\n"
     ]
    },
    {
     "name": "stderr",
     "output_type": "stream",
     "text": [
      "100%|██████████| 16/16 [00:09<00:00,  1.68it/s]t/s, batch=1470, gpu_temp=63, loss={'chord': tensor(0.8125, device='cuda:0', grad_fn=<NllLossBackward0>), 'velocity': tensor(0.4016, device='cuda:0', grad_fn=<NllLossBackward0>), 'polyphony': tensor(0.3259, device='cuda:0', grad_fn=<NllLossBackward0>), 'density': tensor(0.3206, device='cuda:0', grad_fn=<NllLossBackward0>), 'piano_roll': tensor(1.0388, device='cuda:0', grad_fn=<NllLoss2DBackward0>), 'total': tensor(2.8993, device='cuda:0', grad_fn=<AddBackward0>)}]\n"
     ]
    },
    {
     "name": "stdout",
     "output_type": "stream",
     "text": [
      "Generated:  [{'type': 'pitch', 'value': 17}, {'type': 'velocity', 'value': 19}, {'type': 'pitch', 'value': 29}, {'type': 'velocity', 'value': 21}, {'type': 'pitch', 'value': 44}, {'type': 'velocity', 'value': 20}, {'type': 'pitch', 'value': 48}, {'type': 'velocity', 'value': 18}, {'type': 'pitch', 'value': 53}, {'type': 'velocity', 'value': 21}]\n",
      "Chords:  ['G_M', 'G_M', 'G_M', 'G_M', 'A_m', 'A_m', 'A_m', 'A_m', 'A_m', 'A_m', 'A_sus2', 'A_sus2', 'D_m', 'D_m', 'E_m7', 'E_m7', 'A_m7', 'A_m7', 'A_m7', 'A_m7', 'F_M', 'F_M', 'F_M', 'F_M', 'G_sus2', 'G_sus2', 'G_M', 'G_M', 'G_M', 'G_M', 'G_M', 'G_M']\n"
     ]
    },
    {
     "name": "stderr",
     "output_type": "stream",
     "text": [
      "100%|██████████| 10/10 [00:03<00:00,  2.64it/s]\n",
      " 19%|█▊        | 1474/7864 [08:18<7:41:00,  4.33s/it, batch=1470, gpu_temp=63, loss={'chord': tensor(0.8125, device='cuda:0', grad_fn=<NllLossBackward0>), 'velocity': tensor(0.4016, device='cuda:0', grad_fn=<NllLossBackward0>), 'polyphony': tensor(0.3259, device='cuda:0', grad_fn=<NllLossBackward0>), 'density': tensor(0.3206, device='cuda:0', grad_fn=<NllLossBackward0>), 'piano_roll': tensor(1.0388, device='cuda:0', grad_fn=<NllLoss2DBackward0>), 'total': tensor(2.8993, device='cuda:0', grad_fn=<AddBackward0>)}]"
     ]
    },
    {
     "name": "stdout",
     "output_type": "stream",
     "text": [
      "Generated:  [{'type': 'pitch', 'value': 39}, {'type': 'velocity', 'value': 17}, {'type': 'pitch', 'value': 51}, {'type': 'velocity', 'value': 15}, {'type': 'pitch', 'value': 55}, {'type': 'velocity', 'value': 20}, 'next_frame', 'next_frame', 'next_frame', 'next_frame']\n",
      "Chords:  ['C_M7', 'C_M7', 'C_M7', 'C_M7', 'A_m7', 'A_m7', 'A_m7', 'A_m7', 'F_M', 'F_M', 'F_M', 'F_M', 'G_M', 'G_M', 'G_M', 'G_M', 'C_M7', 'C_M7', 'C_M7', 'C_M7', 'A_m7', 'A_m7', 'A_m7', 'A_m7', 'D_m7', 'D_m7', 'D_m7', 'D_m7', 'G_M', 'G_M', 'G_M', 'G_M']\n"
     ]
    },
    {
     "name": "stderr",
     "output_type": "stream",
     "text": [
      "100%|██████████| 16/16 [00:10<00:00,  1.56it/s]t/s, batch=1960, gpu_temp=61, loss={'chord': tensor(0.8158, device='cuda:0', grad_fn=<NllLossBackward0>), 'velocity': tensor(0.4236, device='cuda:0', grad_fn=<NllLossBackward0>), 'polyphony': tensor(0.3034, device='cuda:0', grad_fn=<NllLossBackward0>), 'density': tensor(0.3700, device='cuda:0', grad_fn=<NllLossBackward0>), 'piano_roll': tensor(0.9758, device='cuda:0', grad_fn=<NllLoss2DBackward0>), 'total': tensor(2.8886, device='cuda:0', grad_fn=<AddBackward0>)}]  \n"
     ]
    },
    {
     "name": "stdout",
     "output_type": "stream",
     "text": [
      "Generated:  [{'type': 'pitch', 'value': 19}, {'type': 'velocity', 'value': 18}, {'type': 'pitch', 'value': 26}, {'type': 'velocity', 'value': 17}, {'type': 'pitch', 'value': 29}, {'type': 'velocity', 'value': 18}, {'type': 'pitch', 'value': 34}, {'type': 'velocity', 'value': 19}, {'type': 'pitch', 'value': 38}, {'type': 'velocity', 'value': 19}]\n",
      "Chords:  ['E_M', 'E_M', 'E_M', 'E_M', 'E_M', 'E_M', 'E_M', 'E_M', 'E_M', 'E_M', 'E_M', 'E_M', 'E_M', 'E_M', 'E_M', 'E_M', 'E_M', 'E_M', 'E_M', 'E_M', 'E_M', 'E_M', 'E_M', 'E_M', 'E_M', 'E_M', 'E_M', 'E_M', 'E_M', 'E_M', 'E_M', 'E_M']\n"
     ]
    },
    {
     "name": "stderr",
     "output_type": "stream",
     "text": [
      "100%|██████████| 10/10 [00:04<00:00,  2.31it/s]\n",
      " 25%|██▍       | 1965/7864 [11:01<7:49:29,  4.78s/it, batch=1960, gpu_temp=61, loss={'chord': tensor(0.8158, device='cuda:0', grad_fn=<NllLossBackward0>), 'velocity': tensor(0.4236, device='cuda:0', grad_fn=<NllLossBackward0>), 'polyphony': tensor(0.3034, device='cuda:0', grad_fn=<NllLossBackward0>), 'density': tensor(0.3700, device='cuda:0', grad_fn=<NllLossBackward0>), 'piano_roll': tensor(0.9758, device='cuda:0', grad_fn=<NllLoss2DBackward0>), 'total': tensor(2.8886, device='cuda:0', grad_fn=<AddBackward0>)}]"
     ]
    },
    {
     "name": "stdout",
     "output_type": "stream",
     "text": [
      "Generated:  [{'type': 'pitch', 'value': 39}, {'type': 'velocity', 'value': 17}, {'type': 'pitch', 'value': 51}, {'type': 'velocity', 'value': 15}, {'type': 'pitch', 'value': 55}, {'type': 'velocity', 'value': 20}, 'next_frame', 'next_frame', 'next_frame', 'next_frame']\n",
      "Chords:  ['C_M7', 'C_M7', 'C_M7', 'C_M7', 'A_m7', 'A_m7', 'A_m7', 'A_m7', 'F_M', 'F_M', 'F_M', 'F_M', 'G_M', 'G_M', 'G_M', 'G_M', 'C_M7', 'C_M7', 'C_M7', 'C_M7', 'A_m7', 'A_m7', 'A_m7', 'A_m7', 'A_m7', 'A_m7', 'A_m7', 'A_m7', 'C_M', 'C_M', 'C_M', 'C_M']\n"
     ]
    },
    {
     "name": "stderr",
     "output_type": "stream",
     "text": [
      "100%|██████████| 16/16 [00:09<00:00,  1.65it/s]t/s, batch=2450, gpu_temp=56, loss={'chord': tensor(0.7302, device='cuda:0', grad_fn=<NllLossBackward0>), 'velocity': tensor(0.4418, device='cuda:0', grad_fn=<NllLossBackward0>), 'polyphony': tensor(0.2920, device='cuda:0', grad_fn=<NllLossBackward0>), 'density': tensor(0.2853, device='cuda:0', grad_fn=<NllLossBackward0>), 'piano_roll': tensor(1.0488, device='cuda:0', grad_fn=<NllLoss2DBackward0>), 'total': tensor(2.7980, device='cuda:0', grad_fn=<AddBackward0>)}]  \n"
     ]
    },
    {
     "name": "stdout",
     "output_type": "stream",
     "text": [
      "Generated:  [{'type': 'pitch', 'value': 38}, {'type': 'velocity', 'value': 17}, {'type': 'pitch', 'value': 46}, {'type': 'velocity', 'value': 18}, {'type': 'pitch', 'value': 50}, {'type': 'velocity', 'value': 19}, {'type': 'pitch', 'value': 55}, {'type': 'velocity', 'value': 22}, 'next_frame', 'next_frame']\n",
      "Chords:  ['D_m7', 'D_m7', 'G_sus4', 'G_sus4', 'C_M', 'C_M', 'G_M', 'G_M', 'A_m', 'A_m', 'G_M', 'G_M', 'F_M', 'F_M', 'G_M', 'G_M', 'C_M', 'C_M', 'G_M', 'G_M', 'C_M', 'C_M', 'C_+', 'C_+', 'A_m', 'A_m', 'G_M', 'G_M', 'F_M', 'F_M', 'C_M', 'C_M']\n"
     ]
    },
    {
     "name": "stderr",
     "output_type": "stream",
     "text": [
      "100%|██████████| 10/10 [00:04<00:00,  2.42it/s]\n",
      " 31%|███       | 2456/7864 [13:41<6:52:05,  4.57s/it, batch=2450, gpu_temp=56, loss={'chord': tensor(0.7302, device='cuda:0', grad_fn=<NllLossBackward0>), 'velocity': tensor(0.4418, device='cuda:0', grad_fn=<NllLossBackward0>), 'polyphony': tensor(0.2920, device='cuda:0', grad_fn=<NllLossBackward0>), 'density': tensor(0.2853, device='cuda:0', grad_fn=<NllLossBackward0>), 'piano_roll': tensor(1.0488, device='cuda:0', grad_fn=<NllLoss2DBackward0>), 'total': tensor(2.7980, device='cuda:0', grad_fn=<AddBackward0>)}]"
     ]
    },
    {
     "name": "stdout",
     "output_type": "stream",
     "text": [
      "Generated:  [{'type': 'pitch', 'value': 39}, {'type': 'velocity', 'value': 17}, {'type': 'pitch', 'value': 51}, {'type': 'velocity', 'value': 15}, {'type': 'pitch', 'value': 55}, {'type': 'velocity', 'value': 20}, 'next_frame', 'next_frame', 'next_frame', 'next_frame']\n",
      "Chords:  ['C_M7', 'C_M7', 'C_M7', 'C_M7', 'A_m7', 'A_m7', 'A_m7', 'A_m7', 'F_M', 'F_M', 'F_M', 'F_M', 'G_M', 'G_M', 'G_M', 'G_M', 'C_M7', 'C_M7', 'C_M7', 'C_M7', 'A_m7', 'A_m7', 'A_m7', 'A_m7', 'A_m7', 'A_m7', 'A_m7', 'A_m7', 'C_M7', 'C_M7', 'C_M7', 'C_M7']\n"
     ]
    },
    {
     "name": "stderr",
     "output_type": "stream",
     "text": [
      "100%|██████████| 16/16 [00:08<00:00,  1.84it/s]t/s, batch=2940, gpu_temp=63, loss={'chord': tensor(0.8128, device='cuda:0', grad_fn=<NllLossBackward0>), 'velocity': tensor(0.3458, device='cuda:0', grad_fn=<NllLossBackward0>), 'polyphony': tensor(0.2693, device='cuda:0', grad_fn=<NllLossBackward0>), 'density': tensor(0.3301, device='cuda:0', grad_fn=<NllLossBackward0>), 'piano_roll': tensor(1.0158, device='cuda:0', grad_fn=<NllLoss2DBackward0>), 'total': tensor(2.7737, device='cuda:0', grad_fn=<AddBackward0>)}]  \n"
     ]
    },
    {
     "name": "stdout",
     "output_type": "stream",
     "text": [
      "Generated:  [{'type': 'pitch', 'value': 24}, {'type': 'velocity', 'value': 16}, {'type': 'pitch', 'value': 41}, {'type': 'velocity', 'value': 16}, {'type': 'pitch', 'value': 43}, {'type': 'velocity', 'value': 18}, {'type': 'pitch', 'value': 46}, {'type': 'velocity', 'value': 18}, {'type': 'pitch', 'value': 53}, {'type': 'velocity', 'value': 20}]\n",
      "Chords:  ['E_m7', 'E_m7', 'E_m7', 'E_m7', 'A_m7', 'A_m7', 'A_m7', 'A_m7', 'A_m', 'A_m', 'A_m', 'A_m', 'F_M7', 'F_M7', 'F_M7', 'F_M7', 'D_m7', 'D_m7', 'F_M7', 'F_M7', 'F_M7', 'F_M7', 'F_M7', 'F_M7', 'D_m7', 'D_m7', 'F_M7', 'F_M7', 'G_M', 'G_M', 'G_M', 'G_M']\n"
     ]
    },
    {
     "name": "stderr",
     "output_type": "stream",
     "text": [
      "100%|██████████| 10/10 [00:03<00:00,  2.62it/s]\n",
      " 37%|███▋      | 2947/7864 [16:22<5:36:29,  4.11s/it, batch=2940, gpu_temp=63, loss={'chord': tensor(0.8128, device='cuda:0', grad_fn=<NllLossBackward0>), 'velocity': tensor(0.3458, device='cuda:0', grad_fn=<NllLossBackward0>), 'polyphony': tensor(0.2693, device='cuda:0', grad_fn=<NllLossBackward0>), 'density': tensor(0.3301, device='cuda:0', grad_fn=<NllLossBackward0>), 'piano_roll': tensor(1.0158, device='cuda:0', grad_fn=<NllLoss2DBackward0>), 'total': tensor(2.7737, device='cuda:0', grad_fn=<AddBackward0>)}]"
     ]
    },
    {
     "name": "stdout",
     "output_type": "stream",
     "text": [
      "Generated:  [{'type': 'pitch', 'value': 39}, {'type': 'velocity', 'value': 17}, {'type': 'pitch', 'value': 51}, {'type': 'velocity', 'value': 15}, {'type': 'pitch', 'value': 55}, {'type': 'velocity', 'value': 20}, 'next_frame', 'next_frame', 'next_frame', 'next_frame']\n",
      "Chords:  ['C_M7', 'C_M7', 'C_M7', 'C_M7', 'A_m7', 'A_m7', 'A_m7', 'A_m7', 'F_M', 'F_M', 'F_M', 'F_M', 'G_M', 'G_M', 'G_M', 'G_M', 'C_M7', 'C_M7', 'C_M7', 'C_M7', 'A_m7', 'A_m7', 'A_m7', 'A_m7', 'F_M', 'F_M', 'F_M', 'F_M', 'F_M', 'F_M', 'F_M7', 'F_M7']\n"
     ]
    },
    {
     "name": "stderr",
     "output_type": "stream",
     "text": [
      "100%|██████████| 16/16 [00:08<00:00,  1.79it/s]t/s, batch=3430, gpu_temp=62, loss={'chord': tensor(0.7728, device='cuda:0', grad_fn=<NllLossBackward0>), 'velocity': tensor(0.4299, device='cuda:0', grad_fn=<NllLossBackward0>), 'polyphony': tensor(0.2426, device='cuda:0', grad_fn=<NllLossBackward0>), 'density': tensor(0.3441, device='cuda:0', grad_fn=<NllLossBackward0>), 'piano_roll': tensor(1.0316, device='cuda:0', grad_fn=<NllLoss2DBackward0>), 'total': tensor(2.8210, device='cuda:0', grad_fn=<AddBackward0>)}]  \n"
     ]
    },
    {
     "name": "stdout",
     "output_type": "stream",
     "text": [
      "Generated:  [{'type': 'pitch', 'value': 24}, {'type': 'velocity', 'value': 20}, {'type': 'pitch', 'value': 36}, {'type': 'velocity', 'value': 21}, {'type': 'pitch', 'value': 41}, {'type': 'velocity', 'value': 22}, {'type': 'pitch', 'value': 45}, {'type': 'velocity', 'value': 21}, {'type': 'pitch', 'value': 48}, {'type': 'velocity', 'value': 22}]\n",
      "Chords:  ['G_M7', 'G_M7', 'G_M7', 'G_M7', 'E_m7', 'E_m7', 'G_7', 'G_7', 'F_M7', 'F_M7', 'A_m7', 'A_m7', 'A_m7', 'A_m7', 'F_M7', 'F_M7', 'F_M7', 'F_M7', 'F_M7', 'F_M7', 'F_M7', 'F_M7', 'A_m7', 'A_m7', 'C_M', 'C_M', 'C_M', 'C_M', 'G_7', 'G_7', 'G_M', 'G_M']\n"
     ]
    },
    {
     "name": "stderr",
     "output_type": "stream",
     "text": [
      "100%|██████████| 10/10 [00:04<00:00,  2.37it/s]\n",
      " 44%|████▎     | 3438/7864 [19:02<5:16:45,  4.29s/it, batch=3430, gpu_temp=62, loss={'chord': tensor(0.7728, device='cuda:0', grad_fn=<NllLossBackward0>), 'velocity': tensor(0.4299, device='cuda:0', grad_fn=<NllLossBackward0>), 'polyphony': tensor(0.2426, device='cuda:0', grad_fn=<NllLossBackward0>), 'density': tensor(0.3441, device='cuda:0', grad_fn=<NllLossBackward0>), 'piano_roll': tensor(1.0316, device='cuda:0', grad_fn=<NllLoss2DBackward0>), 'total': tensor(2.8210, device='cuda:0', grad_fn=<AddBackward0>)}]"
     ]
    },
    {
     "name": "stdout",
     "output_type": "stream",
     "text": [
      "Generated:  [{'type': 'pitch', 'value': 39}, {'type': 'velocity', 'value': 17}, {'type': 'pitch', 'value': 51}, {'type': 'velocity', 'value': 15}, {'type': 'pitch', 'value': 55}, {'type': 'velocity', 'value': 20}, 'next_frame', 'next_frame', 'next_frame', 'next_frame']\n",
      "Chords:  ['C_M7', 'C_M7', 'C_M7', 'C_M7', 'A_m7', 'A_m7', 'A_m7', 'A_m7', 'F_M', 'F_M', 'F_M', 'F_M', 'G_M', 'G_M', 'G_M', 'G_M', 'C_M7', 'C_M7', 'C_M7', 'C_M7', 'A_m7', 'A_m7', 'A_m7', 'A_m7', 'C_M7', 'C_M7', 'C_M7', 'C_M7', 'A_m7', 'A_m7', 'A_m7', 'A_m7']\n"
     ]
    },
    {
     "name": "stderr",
     "output_type": "stream",
     "text": [
      "100%|██████████| 16/16 [00:09<00:00,  1.65it/s]t/s, batch=3920, gpu_temp=60, loss={'chord': tensor(0.8277, device='cuda:0', grad_fn=<NllLossBackward0>), 'velocity': tensor(0.4131, device='cuda:0', grad_fn=<NllLossBackward0>), 'polyphony': tensor(0.2758, device='cuda:0', grad_fn=<NllLossBackward0>), 'density': tensor(0.3599, device='cuda:0', grad_fn=<NllLossBackward0>), 'piano_roll': tensor(1.0348, device='cuda:0', grad_fn=<NllLoss2DBackward0>), 'total': tensor(2.9114, device='cuda:0', grad_fn=<AddBackward0>)}]  \n"
     ]
    },
    {
     "name": "stdout",
     "output_type": "stream",
     "text": [
      "Generated:  [{'type': 'pitch', 'value': 17}, {'type': 'velocity', 'value': 17}, {'type': 'pitch', 'value': 29}, {'type': 'velocity', 'value': 18}, {'type': 'pitch', 'value': 41}, {'type': 'velocity', 'value': 21}, 'next_frame', 'next_frame', 'next_frame', 'next_frame']\n",
      "Chords:  ['C_M', 'C_M', 'G_M', 'G_M', 'A_m', 'A_m', 'A_m', 'A_m', 'E_m7', 'E_m7', 'E_m7', 'E_m7', 'F_M7', 'F_M7', 'F_M7', 'F_M7', 'E_m7', 'E_m7', 'G_M', 'E_m7', 'A_m', 'A_m', 'A_m', 'A_m', 'F_M7', 'F_M7', 'F_M7', 'F_M7', 'G_M', 'G_M', 'G_M', 'G_M']\n"
     ]
    },
    {
     "name": "stderr",
     "output_type": "stream",
     "text": [
      "100%|██████████| 10/10 [00:04<00:00,  2.22it/s]\n",
      " 50%|████▉     | 3929/7864 [21:44<5:01:37,  4.60s/it, batch=3920, gpu_temp=60, loss={'chord': tensor(0.8277, device='cuda:0', grad_fn=<NllLossBackward0>), 'velocity': tensor(0.4131, device='cuda:0', grad_fn=<NllLossBackward0>), 'polyphony': tensor(0.2758, device='cuda:0', grad_fn=<NllLossBackward0>), 'density': tensor(0.3599, device='cuda:0', grad_fn=<NllLossBackward0>), 'piano_roll': tensor(1.0348, device='cuda:0', grad_fn=<NllLoss2DBackward0>), 'total': tensor(2.9114, device='cuda:0', grad_fn=<AddBackward0>)}]"
     ]
    },
    {
     "name": "stdout",
     "output_type": "stream",
     "text": [
      "Generated:  [{'type': 'pitch', 'value': 39}, {'type': 'velocity', 'value': 17}, {'type': 'pitch', 'value': 51}, {'type': 'velocity', 'value': 15}, {'type': 'pitch', 'value': 55}, {'type': 'velocity', 'value': 20}, 'next_frame', 'next_frame', 'next_frame', 'next_frame']\n",
      "Chords:  ['C_M7', 'C_M7', 'C_M7', 'C_M7', 'A_m7', 'A_m7', 'A_m7', 'A_m7', 'F_M', 'F_M', 'F_M', 'F_M', 'G_M', 'G_M', 'G_M', 'G_M', 'C_M7', 'C_M7', 'C_M7', 'C_M7', 'A_m7', 'A_m7', 'A_m7', 'A_m7', 'F_M7', 'F_M7', 'F_M', 'F_M', 'G_7', 'G_7', 'G_M', 'G_M']\n"
     ]
    },
    {
     "name": "stderr",
     "output_type": "stream",
     "text": [
      "100%|██████████| 16/16 [00:10<00:00,  1.52it/s]t/s, batch=4410, gpu_temp=60, loss={'chord': tensor(0.7762, device='cuda:0', grad_fn=<NllLossBackward0>), 'velocity': tensor(0.3951, device='cuda:0', grad_fn=<NllLossBackward0>), 'polyphony': tensor(0.2751, device='cuda:0', grad_fn=<NllLossBackward0>), 'density': tensor(0.3367, device='cuda:0', grad_fn=<NllLossBackward0>), 'piano_roll': tensor(1.0685, device='cuda:0', grad_fn=<NllLoss2DBackward0>), 'total': tensor(2.8516, device='cuda:0', grad_fn=<AddBackward0>)}]  \n"
     ]
    },
    {
     "name": "stdout",
     "output_type": "stream",
     "text": [
      "Generated:  [{'type': 'pitch', 'value': 19}, {'type': 'velocity', 'value': 18}, {'type': 'pitch', 'value': 31}, {'type': 'velocity', 'value': 19}, {'type': 'pitch', 'value': 50}, {'type': 'velocity', 'value': 22}, {'type': 'pitch', 'value': 62}, {'type': 'velocity', 'value': 23}, 'next_frame', 'next_frame']\n",
      "Chords:  ['G_m7', 'G_m7', 'E_m7', 'A_m7', 'F_M7', 'F_M7', 'F_M7', 'F_M7', 'G_7', 'G_7', 'E_m7', 'E_m7', 'E_m', 'E_m', 'E_m7', 'E_m7', 'A_m', 'A_m', 'A_m7', 'A_m7', 'D_m7', 'D_m7', 'D_m7', 'D_m7', 'G_7', 'G_7', 'G_7', 'G_7', 'C_M', 'C_M', 'C_M', 'C_M']\n"
     ]
    },
    {
     "name": "stderr",
     "output_type": "stream",
     "text": [
      "100%|██████████| 10/10 [00:04<00:00,  2.07it/s]\n",
      " 56%|█████▌    | 4420/7864 [24:25<4:42:11,  4.92s/it, batch=4410, gpu_temp=60, loss={'chord': tensor(0.7762, device='cuda:0', grad_fn=<NllLossBackward0>), 'velocity': tensor(0.3951, device='cuda:0', grad_fn=<NllLossBackward0>), 'polyphony': tensor(0.2751, device='cuda:0', grad_fn=<NllLossBackward0>), 'density': tensor(0.3367, device='cuda:0', grad_fn=<NllLossBackward0>), 'piano_roll': tensor(1.0685, device='cuda:0', grad_fn=<NllLoss2DBackward0>), 'total': tensor(2.8516, device='cuda:0', grad_fn=<AddBackward0>)}]"
     ]
    },
    {
     "name": "stdout",
     "output_type": "stream",
     "text": [
      "Generated:  [{'type': 'pitch', 'value': 39}, {'type': 'velocity', 'value': 17}, {'type': 'pitch', 'value': 51}, {'type': 'velocity', 'value': 15}, {'type': 'pitch', 'value': 55}, {'type': 'velocity', 'value': 20}, 'next_frame', 'next_frame', 'next_frame', 'next_frame']\n",
      "Chords:  ['C_M7', 'C_M7', 'C_M7', 'C_M7', 'A_m7', 'A_m7', 'A_m7', 'A_m7', 'F_M', 'F_M', 'F_M', 'F_M', 'G_M', 'G_M', 'G_M', 'G_M', 'C_M7', 'C_M7', 'C_M7', 'C_M7', 'A_m7', 'A_m7', 'A_m7', 'A_m7', 'F_M', 'F_M', 'F_M7', 'F_M7', 'D_m7', 'D_m7', 'F_M7', 'F_M7']\n"
     ]
    },
    {
     "name": "stderr",
     "output_type": "stream",
     "text": [
      "100%|██████████| 16/16 [00:09<00:00,  1.65it/s]t/s, batch=4910, gpu_temp=61, loss={'chord': tensor(0.8841, device='cuda:0', grad_fn=<NllLossBackward0>), 'velocity': tensor(0.3356, device='cuda:0', grad_fn=<NllLossBackward0>), 'polyphony': tensor(0.2294, device='cuda:0', grad_fn=<NllLossBackward0>), 'density': tensor(0.3107, device='cuda:0', grad_fn=<NllLossBackward0>), 'piano_roll': tensor(1.0732, device='cuda:0', grad_fn=<NllLoss2DBackward0>), 'total': tensor(2.8330, device='cuda:0', grad_fn=<AddBackward0>)}]  \n"
     ]
    },
    {
     "name": "stdout",
     "output_type": "stream",
     "text": [
      "Generated:  [{'type': 'pitch', 'value': 22}, {'type': 'velocity', 'value': 19}, {'type': 'pitch', 'value': 34}, {'type': 'velocity', 'value': 20}, {'type': 'pitch', 'value': 46}, {'type': 'velocity', 'value': 18}, {'type': 'pitch', 'value': 50}, {'type': 'velocity', 'value': 18}, {'type': 'pitch', 'value': 55}, {'type': 'velocity', 'value': 20}]\n",
      "Chords:  ['F_M7', 'F_M7', 'F_M', 'F_M', 'E_m7', 'E_m7', 'E_m7', 'E_m7', 'A_m', 'A_m', 'A_m7', 'A_m7', 'E_m7', 'E_m7', 'E_m7', 'E_m7', 'F_M', 'F_M', 'F_M', 'F_M', 'E_7', 'E_7', 'E_7', 'E_7', 'A_m', 'A_m', 'A_m7', 'A_m7', 'G_M', 'G_M', 'G_M', 'G_M']\n"
     ]
    },
    {
     "name": "stderr",
     "output_type": "stream",
     "text": [
      "100%|██████████| 10/10 [00:04<00:00,  2.04it/s]\n",
      " 62%|██████▏   | 4911/7864 [27:09<3:52:44,  4.73s/it, batch=4910, gpu_temp=61, loss={'chord': tensor(0.8841, device='cuda:0', grad_fn=<NllLossBackward0>), 'velocity': tensor(0.3356, device='cuda:0', grad_fn=<NllLossBackward0>), 'polyphony': tensor(0.2294, device='cuda:0', grad_fn=<NllLossBackward0>), 'density': tensor(0.3107, device='cuda:0', grad_fn=<NllLossBackward0>), 'piano_roll': tensor(1.0732, device='cuda:0', grad_fn=<NllLoss2DBackward0>), 'total': tensor(2.8330, device='cuda:0', grad_fn=<AddBackward0>)}]"
     ]
    },
    {
     "name": "stdout",
     "output_type": "stream",
     "text": [
      "Generated:  [{'type': 'pitch', 'value': 39}, {'type': 'velocity', 'value': 17}, {'type': 'pitch', 'value': 51}, {'type': 'velocity', 'value': 15}, {'type': 'pitch', 'value': 55}, {'type': 'velocity', 'value': 20}, 'next_frame', 'next_frame', 'next_frame', 'next_frame']\n",
      "Chords:  ['C_M7', 'C_M7', 'C_M7', 'C_M7', 'A_m7', 'A_m7', 'A_m7', 'A_m7', 'F_M', 'F_M', 'F_M', 'F_M', 'G_M', 'G_M', 'G_M', 'G_M', 'C_M7', 'C_M7', 'C_M7', 'C_M7', 'A_m7', 'A_m7', 'A_m7', 'A_m7', 'F_M', 'F_M', 'F_M7', 'F_M7', 'C_M', 'C_M', 'C_M', 'C_M']\n"
     ]
    },
    {
     "name": "stderr",
     "output_type": "stream",
     "text": [
      "100%|██████████| 16/16 [00:11<00:00,  1.42it/s]t/s, batch=5400, gpu_temp=63, loss={'chord': tensor(0.8598, device='cuda:0', grad_fn=<NllLossBackward0>), 'velocity': tensor(0.4031, device='cuda:0', grad_fn=<NllLossBackward0>), 'polyphony': tensor(0.2836, device='cuda:0', grad_fn=<NllLossBackward0>), 'density': tensor(0.3116, device='cuda:0', grad_fn=<NllLossBackward0>), 'piano_roll': tensor(0.9812, device='cuda:0', grad_fn=<NllLoss2DBackward0>), 'total': tensor(2.8393, device='cuda:0', grad_fn=<AddBackward0>)}]  \n"
     ]
    },
    {
     "name": "stdout",
     "output_type": "stream",
     "text": [
      "Generated:  [{'type': 'pitch', 'value': 10}, {'type': 'velocity', 'value': 20}, {'type': 'pitch', 'value': 22}, {'type': 'velocity', 'value': 20}, {'type': 'pitch', 'value': 46}, {'type': 'velocity', 'value': 22}, {'type': 'pitch', 'value': 50}, {'type': 'velocity', 'value': 23}, {'type': 'pitch', 'value': 53}, {'type': 'velocity', 'value': 23}]\n",
      "Chords:  ['C_M', 'C_M', 'C_sus2', 'F_M', 'G_M', 'G_M', 'G_M', 'G_M', 'B_o', 'B_o', 'F_M7', 'F_M7', 'C_M', 'C_M', 'C_M', 'C_M', 'D_m7', 'F_M7', 'B_o', 'B_o', 'E_m7', 'E_m7', 'E_m7', 'E_m7', 'D_m', 'D_m', 'D_m7', 'D_m7', 'G_7', 'G_7', 'G_7', 'G_7']\n"
     ]
    },
    {
     "name": "stderr",
     "output_type": "stream",
     "text": [
      "100%|██████████| 10/10 [00:06<00:00,  1.55it/s]\n",
      " 69%|██████▊   | 5402/7864 [29:52<3:53:43,  5.70s/it, batch=5400, gpu_temp=63, loss={'chord': tensor(0.8598, device='cuda:0', grad_fn=<NllLossBackward0>), 'velocity': tensor(0.4031, device='cuda:0', grad_fn=<NllLossBackward0>), 'polyphony': tensor(0.2836, device='cuda:0', grad_fn=<NllLossBackward0>), 'density': tensor(0.3116, device='cuda:0', grad_fn=<NllLossBackward0>), 'piano_roll': tensor(0.9812, device='cuda:0', grad_fn=<NllLoss2DBackward0>), 'total': tensor(2.8393, device='cuda:0', grad_fn=<AddBackward0>)}]"
     ]
    },
    {
     "name": "stdout",
     "output_type": "stream",
     "text": [
      "Generated:  [{'type': 'pitch', 'value': 39}, {'type': 'velocity', 'value': 17}, {'type': 'pitch', 'value': 51}, {'type': 'velocity', 'value': 15}, {'type': 'pitch', 'value': 55}, {'type': 'velocity', 'value': 20}, 'next_frame', 'next_frame', 'next_frame', 'next_frame']\n",
      "Chords:  ['C_M7', 'C_M7', 'C_M7', 'C_M7', 'A_m7', 'A_m7', 'A_m7', 'A_m7', 'F_M', 'F_M', 'F_M', 'F_M', 'G_M', 'G_M', 'G_M', 'G_M', 'C_M7', 'C_M7', 'C_M7', 'C_M7', 'A_m7', 'A_m7', 'A_m7', 'A_m7', 'C_M7', 'C_M7', 'C_M7', 'C_M7', 'C_M7', 'C_M7', 'E_m7', 'E_m7']\n"
     ]
    },
    {
     "name": "stderr",
     "output_type": "stream",
     "text": [
      "100%|██████████| 16/16 [00:12<00:00,  1.33it/s]t/s, batch=5890, gpu_temp=63, loss={'chord': tensor(0.8596, device='cuda:0', grad_fn=<NllLossBackward0>), 'velocity': tensor(0.4054, device='cuda:0', grad_fn=<NllLossBackward0>), 'polyphony': tensor(0.3090, device='cuda:0', grad_fn=<NllLossBackward0>), 'density': tensor(0.3380, device='cuda:0', grad_fn=<NllLossBackward0>), 'piano_roll': tensor(1.0834, device='cuda:0', grad_fn=<NllLoss2DBackward0>), 'total': tensor(2.9954, device='cuda:0', grad_fn=<AddBackward0>)}]  \n"
     ]
    },
    {
     "name": "stdout",
     "output_type": "stream",
     "text": [
      "Generated:  [{'type': 'pitch', 'value': 26}, {'type': 'velocity', 'value': 20}, 'next_frame', 'next_frame', 'next_frame', 'next_frame', {'type': 'pitch', 'value': 33}, {'type': 'velocity', 'value': 16}, {'type': 'pitch', 'value': 38}, {'type': 'velocity', 'value': 20}]\n",
      "Chords:  ['C_M', 'C_M', 'C_M', 'C_M', 'G_M', 'G_M', 'G_M', 'G_M', 'A_m7', 'A_m7', 'A_m7', 'A_m7', 'E_m7', 'E_m7', 'E_m7', 'E_m7', 'F_M', 'F_M', 'G_M', 'G_M', 'C_M', 'C_M', 'C_M', 'C_M', 'D_m', 'D_m', 'A_7', 'A_7', 'D_m7', 'D_m7', 'F_M', 'F_M']\n"
     ]
    },
    {
     "name": "stderr",
     "output_type": "stream",
     "text": [
      "100%|██████████| 10/10 [00:06<00:00,  1.66it/s]\n",
      " 75%|███████▍  | 5893/7864 [32:34<3:09:54,  5.78s/it, batch=5890, gpu_temp=63, loss={'chord': tensor(0.8596, device='cuda:0', grad_fn=<NllLossBackward0>), 'velocity': tensor(0.4054, device='cuda:0', grad_fn=<NllLossBackward0>), 'polyphony': tensor(0.3090, device='cuda:0', grad_fn=<NllLossBackward0>), 'density': tensor(0.3380, device='cuda:0', grad_fn=<NllLossBackward0>), 'piano_roll': tensor(1.0834, device='cuda:0', grad_fn=<NllLoss2DBackward0>), 'total': tensor(2.9954, device='cuda:0', grad_fn=<AddBackward0>)}]"
     ]
    },
    {
     "name": "stdout",
     "output_type": "stream",
     "text": [
      "Generated:  [{'type': 'pitch', 'value': 39}, {'type': 'velocity', 'value': 17}, {'type': 'pitch', 'value': 51}, {'type': 'velocity', 'value': 15}, {'type': 'pitch', 'value': 55}, {'type': 'velocity', 'value': 20}, 'next_frame', 'next_frame', 'next_frame', 'next_frame']\n",
      "Chords:  ['C_M7', 'C_M7', 'C_M7', 'C_M7', 'A_m7', 'A_m7', 'A_m7', 'A_m7', 'F_M', 'F_M', 'F_M', 'F_M', 'G_M', 'G_M', 'G_M', 'G_M', 'C_M7', 'C_M7', 'C_M7', 'C_M7', 'A_m7', 'A_m7', 'A_m7', 'A_m7', 'F_M', 'F_M', 'F_M7', 'F_M7', 'C_M7', 'C_M7', 'C_M7', 'C_M7']\n"
     ]
    },
    {
     "name": "stderr",
     "output_type": "stream",
     "text": [
      "100%|██████████| 16/16 [00:13<00:00,  1.18it/s]t/s, batch=6380, gpu_temp=62, loss={'chord': tensor(0.7428, device='cuda:0', grad_fn=<NllLossBackward0>), 'velocity': tensor(0.3702, device='cuda:0', grad_fn=<NllLossBackward0>), 'polyphony': tensor(0.2735, device='cuda:0', grad_fn=<NllLossBackward0>), 'density': tensor(0.2971, device='cuda:0', grad_fn=<NllLossBackward0>), 'piano_roll': tensor(1.0040, device='cuda:0', grad_fn=<NllLoss2DBackward0>), 'total': tensor(2.6875, device='cuda:0', grad_fn=<AddBackward0>)}]  \n"
     ]
    },
    {
     "name": "stdout",
     "output_type": "stream",
     "text": [
      "Generated:  [{'type': 'pitch', 'value': 27}, {'type': 'velocity', 'value': 18}, 'next_frame', 'next_frame', 'next_frame', 'next_frame', {'type': 'pitch', 'value': 34}, {'type': 'velocity', 'value': 16}, {'type': 'pitch', 'value': 46}, {'type': 'velocity', 'value': 19}]\n",
      "Chords:  ['D_m7', 'D_m7', 'E_m7', 'E_m7', 'C_M', 'C_M', 'A_m', 'C_+', 'D_m7', 'A_m', 'D_m7', 'D_m7', 'C_M', 'C_M', 'C_M', 'C_M', 'A_m', 'A_m', 'F_M', 'F_M', 'C_M', 'C_M', 'G_M', 'G_M', 'A_m', 'A_m', 'F_M', 'F_M', 'C_M', 'C_M', 'G_M', 'G_M']\n"
     ]
    },
    {
     "name": "stderr",
     "output_type": "stream",
     "text": [
      "100%|██████████| 10/10 [00:05<00:00,  1.84it/s]\n",
      " 81%|████████  | 6384/7864 [35:21<2:29:14,  6.05s/it, batch=6380, gpu_temp=62, loss={'chord': tensor(0.7428, device='cuda:0', grad_fn=<NllLossBackward0>), 'velocity': tensor(0.3702, device='cuda:0', grad_fn=<NllLossBackward0>), 'polyphony': tensor(0.2735, device='cuda:0', grad_fn=<NllLossBackward0>), 'density': tensor(0.2971, device='cuda:0', grad_fn=<NllLossBackward0>), 'piano_roll': tensor(1.0040, device='cuda:0', grad_fn=<NllLoss2DBackward0>), 'total': tensor(2.6875, device='cuda:0', grad_fn=<AddBackward0>)}]"
     ]
    },
    {
     "name": "stdout",
     "output_type": "stream",
     "text": [
      "Generated:  [{'type': 'pitch', 'value': 39}, {'type': 'velocity', 'value': 17}, {'type': 'pitch', 'value': 51}, {'type': 'velocity', 'value': 15}, {'type': 'pitch', 'value': 55}, {'type': 'velocity', 'value': 20}, 'next_frame', 'next_frame', 'next_frame', 'next_frame']\n",
      "Chords:  ['C_M7', 'C_M7', 'C_M7', 'C_M7', 'A_m7', 'A_m7', 'A_m7', 'A_m7', 'F_M', 'F_M', 'F_M', 'F_M', 'G_M', 'G_M', 'G_M', 'G_M', 'C_M7', 'C_M7', 'C_M7', 'C_M7', 'A_m7', 'A_m7', 'A_m7', 'A_m7', 'F_M', 'F_M', 'F_M7', 'F_M7', 'G_M', 'G_M', 'G_M', 'G_M']\n"
     ]
    },
    {
     "name": "stderr",
     "output_type": "stream",
     "text": [
      "100%|██████████| 16/16 [00:10<00:00,  1.58it/s]t/s, batch=6870, gpu_temp=61, loss={'chord': tensor(0.8078, device='cuda:0', grad_fn=<NllLossBackward0>), 'velocity': tensor(0.3885, device='cuda:0', grad_fn=<NllLossBackward0>), 'polyphony': tensor(0.2930, device='cuda:0', grad_fn=<NllLossBackward0>), 'density': tensor(0.3068, device='cuda:0', grad_fn=<NllLossBackward0>), 'piano_roll': tensor(1.0988, device='cuda:0', grad_fn=<NllLoss2DBackward0>), 'total': tensor(2.8950, device='cuda:0', grad_fn=<AddBackward0>)}]  \n"
     ]
    },
    {
     "name": "stdout",
     "output_type": "stream",
     "text": [
      "Generated:  [{'type': 'pitch', 'value': 24}, {'type': 'velocity', 'value': 20}, 'next_frame', 'next_frame', 'next_frame', 'next_frame', {'type': 'pitch', 'value': 31}, {'type': 'velocity', 'value': 18}, 'next_frame', 'next_frame']\n",
      "Chords:  ['C_M', 'C_M', 'C_M', 'C_M', 'G_m', 'G_m', 'C_7', 'C_7', 'F_M7', 'F_M7', 'F_M7', 'F_M7', 'B_o', 'B_o', 'B_o', 'B_o', 'E_m7', 'E_m7', 'E_m7', 'E_m7', 'A_m', 'A_m', 'A_m7', 'A_m7', 'D_m7', 'D_m7', 'D_m7', 'D_m7', 'G_M', 'G_M', 'G_M', 'G_M']\n"
     ]
    },
    {
     "name": "stderr",
     "output_type": "stream",
     "text": [
      "100%|██████████| 10/10 [00:04<00:00,  2.04it/s]\n",
      " 87%|████████▋ | 6875/7864 [38:07<1:20:20,  4.87s/it, batch=6870, gpu_temp=61, loss={'chord': tensor(0.8078, device='cuda:0', grad_fn=<NllLossBackward0>), 'velocity': tensor(0.3885, device='cuda:0', grad_fn=<NllLossBackward0>), 'polyphony': tensor(0.2930, device='cuda:0', grad_fn=<NllLossBackward0>), 'density': tensor(0.3068, device='cuda:0', grad_fn=<NllLossBackward0>), 'piano_roll': tensor(1.0988, device='cuda:0', grad_fn=<NllLoss2DBackward0>), 'total': tensor(2.8950, device='cuda:0', grad_fn=<AddBackward0>)}]"
     ]
    },
    {
     "name": "stdout",
     "output_type": "stream",
     "text": [
      "Generated:  [{'type': 'pitch', 'value': 39}, {'type': 'velocity', 'value': 17}, {'type': 'pitch', 'value': 51}, {'type': 'velocity', 'value': 15}, {'type': 'pitch', 'value': 55}, {'type': 'velocity', 'value': 20}, 'next_frame', 'next_frame', 'next_frame', 'next_frame']\n",
      "Chords:  ['C_M7', 'C_M7', 'C_M7', 'C_M7', 'A_m7', 'A_m7', 'A_m7', 'A_m7', 'F_M', 'F_M', 'F_M', 'F_M', 'G_M', 'G_M', 'G_M', 'G_M', 'C_M7', 'C_M7', 'C_M7', 'C_M7', 'A_m7', 'A_m7', 'A_m7', 'A_m7', 'F_M', 'F_M', 'F_M', 'F_M', 'C_M', 'C_M', 'C_M', 'C_M']\n"
     ]
    },
    {
     "name": "stderr",
     "output_type": "stream",
     "text": [
      "100%|██████████| 16/16 [00:11<00:00,  1.34it/s]t/s, batch=7360, gpu_temp=61, loss={'chord': tensor(0.8356, device='cuda:0', grad_fn=<NllLossBackward0>), 'velocity': tensor(0.3835, device='cuda:0', grad_fn=<NllLossBackward0>), 'polyphony': tensor(0.2608, device='cuda:0', grad_fn=<NllLossBackward0>), 'density': tensor(0.3768, device='cuda:0', grad_fn=<NllLossBackward0>), 'piano_roll': tensor(1.0615, device='cuda:0', grad_fn=<NllLoss2DBackward0>), 'total': tensor(2.9182, device='cuda:0', grad_fn=<AddBackward0>)}]  \n"
     ]
    },
    {
     "name": "stdout",
     "output_type": "stream",
     "text": [
      "Generated:  [{'type': 'pitch', 'value': 8}, {'type': 'velocity', 'value': 20}, {'type': 'pitch', 'value': 20}, {'type': 'velocity', 'value': 22}, {'type': 'pitch', 'value': 32}, {'type': 'velocity', 'value': 20}, {'type': 'pitch', 'value': 36}, {'type': 'velocity', 'value': 22}, 'next_frame', 'next_frame']\n",
      "Chords:  ['F_M7', 'F_M7', 'F_M7', 'F_M7', 'C_M', 'C_M', 'C_M', 'C_M', 'C_M', 'C_M', 'C_M', 'C_M7', 'E_m7', 'E_m7', 'G_M', 'G_M', 'A_m', 'A_m', 'A_m7', 'A_m7', 'D_m7', 'D_m7', 'D_m7', 'D_m7', 'G_M', 'G_M', 'E_m7', 'E_m7', 'F_M7', 'F_M7', 'F_M7', 'F_M7']\n"
     ]
    },
    {
     "name": "stderr",
     "output_type": "stream",
     "text": [
      "100%|██████████| 10/10 [00:05<00:00,  1.78it/s]\n",
      " 94%|█████████▎| 7366/7864 [40:56<46:24,  5.59s/it, batch=7360, gpu_temp=61, loss={'chord': tensor(0.8356, device='cuda:0', grad_fn=<NllLossBackward0>), 'velocity': tensor(0.3835, device='cuda:0', grad_fn=<NllLossBackward0>), 'polyphony': tensor(0.2608, device='cuda:0', grad_fn=<NllLossBackward0>), 'density': tensor(0.3768, device='cuda:0', grad_fn=<NllLossBackward0>), 'piano_roll': tensor(1.0615, device='cuda:0', grad_fn=<NllLoss2DBackward0>), 'total': tensor(2.9182, device='cuda:0', grad_fn=<AddBackward0>)}]"
     ]
    },
    {
     "name": "stdout",
     "output_type": "stream",
     "text": [
      "Generated:  [{'type': 'pitch', 'value': 39}, {'type': 'velocity', 'value': 17}, {'type': 'pitch', 'value': 51}, {'type': 'velocity', 'value': 15}, {'type': 'pitch', 'value': 55}, {'type': 'velocity', 'value': 20}, 'next_frame', 'next_frame', 'next_frame', 'next_frame']\n",
      "Chords:  ['C_M7', 'C_M7', 'C_M7', 'C_M7', 'A_m7', 'A_m7', 'A_m7', 'A_m7', 'F_M', 'F_M', 'F_M', 'F_M', 'G_M', 'G_M', 'G_M', 'G_M', 'C_M7', 'C_M7', 'C_M7', 'C_M7', 'A_m7', 'A_m7', 'A_m7', 'A_m7', 'A_m7', 'A_m7', 'A_m7', 'A_m7', 'F_M', 'F_M', 'F_M', 'F_M']\n"
     ]
    },
    {
     "name": "stderr",
     "output_type": "stream",
     "text": [
      "100%|██████████| 16/16 [00:12<00:00,  1.24it/s]t/s, batch=7850, gpu_temp=61, loss={'chord': tensor(0.8764, device='cuda:0', grad_fn=<NllLossBackward0>), 'velocity': tensor(0.3707, device='cuda:0', grad_fn=<NllLossBackward0>), 'polyphony': tensor(0.2573, device='cuda:0', grad_fn=<NllLossBackward0>), 'density': tensor(0.2736, device='cuda:0', grad_fn=<NllLossBackward0>), 'piano_roll': tensor(1.0616, device='cuda:0', grad_fn=<NllLoss2DBackward0>), 'total': tensor(2.8396, device='cuda:0', grad_fn=<AddBackward0>)}]\n"
     ]
    },
    {
     "name": "stdout",
     "output_type": "stream",
     "text": [
      "Generated:  [{'type': 'pitch', 'value': 8}, {'type': 'velocity', 'value': 22}, {'type': 'pitch', 'value': 20}, {'type': 'velocity', 'value': 23}, 'next_frame', 'next_frame', 'next_frame', 'next_frame', {'type': 'pitch', 'value': 20}, {'type': 'velocity', 'value': 19}]\n",
      "Chords:  ['G_m', 'G_m', 'F_M7', 'F_M7', 'D_m', 'D_m', 'A#_M7', 'A#_M7', 'D#_M', 'D#_M', 'D#_M7', 'D#_M7', 'C_M', 'C_M', 'G_m', 'G_m', 'G_m', 'G_m', 'C_M', 'C_M', 'A#_M7', 'A#_M7', 'F_M7', 'F_M7', 'G_M', 'G_M', 'G_M', 'G_M', 'C_M', 'C_M', 'G_M', 'G_M']\n"
     ]
    },
    {
     "name": "stderr",
     "output_type": "stream",
     "text": [
      "100%|██████████| 10/10 [00:04<00:00,  2.07it/s]\n",
      "100%|█████████▉| 7857/7864 [43:40<00:39,  5.63s/it, batch=7850, gpu_temp=61, loss={'chord': tensor(0.8764, device='cuda:0', grad_fn=<NllLossBackward0>), 'velocity': tensor(0.3707, device='cuda:0', grad_fn=<NllLossBackward0>), 'polyphony': tensor(0.2573, device='cuda:0', grad_fn=<NllLossBackward0>), 'density': tensor(0.2736, device='cuda:0', grad_fn=<NllLossBackward0>), 'piano_roll': tensor(1.0616, device='cuda:0', grad_fn=<NllLoss2DBackward0>), 'total': tensor(2.8396, device='cuda:0', grad_fn=<AddBackward0>)}]"
     ]
    },
    {
     "name": "stdout",
     "output_type": "stream",
     "text": [
      "Generated:  [{'type': 'pitch', 'value': 39}, {'type': 'velocity', 'value': 17}, {'type': 'pitch', 'value': 51}, {'type': 'velocity', 'value': 15}, {'type': 'pitch', 'value': 55}, {'type': 'velocity', 'value': 20}, 'next_frame', 'next_frame', 'next_frame', 'next_frame']\n",
      "Chords:  ['C_M7', 'C_M7', 'C_M7', 'C_M7', 'A_m7', 'A_m7', 'A_m7', 'A_m7', 'F_M', 'F_M', 'F_M', 'F_M', 'G_M', 'G_M', 'G_M', 'G_M', 'C_M7', 'C_M7', 'C_M7', 'C_M7', 'A_m7', 'A_m7', 'A_m7', 'A_m7', 'F_M', 'F_M', 'F_M', 'F_M', 'F_M7', 'F_M7', 'F_M7', 'F_M7']\n"
     ]
    },
    {
     "name": "stderr",
     "output_type": "stream",
     "text": [
      "100%|██████████| 7864/7864 [43:43<00:00,  3.00it/s, batch=7860, gpu_temp=58, loss={'chord': tensor(0.7745, device='cuda:0', grad_fn=<NllLossBackward0>), 'velocity': tensor(0.3732, device='cuda:0', grad_fn=<NllLossBackward0>), 'polyphony': tensor(0.2679, device='cuda:0', grad_fn=<NllLossBackward0>), 'density': tensor(0.3226, device='cuda:0', grad_fn=<NllLossBackward0>), 'piano_roll': tensor(1.0053, device='cuda:0', grad_fn=<NllLoss2DBackward0>), 'total': tensor(2.7434, device='cuda:0', grad_fn=<AddBackward0>)}]\n",
      "100%|██████████| 16/16 [00:09<00:00,  1.75it/s]/s, batch=490, gpu_temp=62, loss={'chord': tensor(0.8155, device='cuda:0', grad_fn=<NllLossBackward0>), 'velocity': tensor(0.4382, device='cuda:0', grad_fn=<NllLossBackward0>), 'polyphony': tensor(0.2480, device='cuda:0', grad_fn=<NllLossBackward0>), 'density': tensor(0.2714, device='cuda:0', grad_fn=<NllLossBackward0>), 'piano_roll': tensor(1.0444, device='cuda:0', grad_fn=<NllLoss2DBackward0>), 'total': tensor(2.8175, device='cuda:0', grad_fn=<AddBackward0>)}]\n"
     ]
    },
    {
     "name": "stdout",
     "output_type": "stream",
     "text": [
      "Generated:  [{'type': 'pitch', 'value': 15}, {'type': 'velocity', 'value': 17}, {'type': 'pitch', 'value': 43}, {'type': 'velocity', 'value': 23}, 'next_frame', 'next_frame', 'next_frame', 'next_frame', {'type': 'pitch', 'value': 22}, {'type': 'velocity', 'value': 15}]\n",
      "Chords:  ['F_M', 'F_M', 'G_7', 'G_7', 'E_m7', 'E_m7', 'A_m7', 'A_m7', 'D_m7', 'D_m7', 'F_M7', 'F_M7', 'G_M', 'G_M', 'G_7', 'G_7', 'C_sus4', 'C_sus4', 'C_M7', 'C_M7', 'C_M', 'C_M', 'C_M', 'C_M', 'E_m7', 'E_m7', 'G_M', 'G_M', 'G_M', 'G_M', 'G_7', 'G_7']\n"
     ]
    },
    {
     "name": "stderr",
     "output_type": "stream",
     "text": [
      "100%|██████████| 10/10 [00:05<00:00,  1.76it/s]\n",
      "  6%|▋         | 492/7864 [02:56<9:51:22,  4.81s/it, batch=490, gpu_temp=62, loss={'chord': tensor(0.8155, device='cuda:0', grad_fn=<NllLossBackward0>), 'velocity': tensor(0.4382, device='cuda:0', grad_fn=<NllLossBackward0>), 'polyphony': tensor(0.2480, device='cuda:0', grad_fn=<NllLossBackward0>), 'density': tensor(0.2714, device='cuda:0', grad_fn=<NllLossBackward0>), 'piano_roll': tensor(1.0444, device='cuda:0', grad_fn=<NllLoss2DBackward0>), 'total': tensor(2.8175, device='cuda:0', grad_fn=<AddBackward0>)}]"
     ]
    },
    {
     "name": "stdout",
     "output_type": "stream",
     "text": [
      "Generated:  [{'type': 'pitch', 'value': 39}, {'type': 'velocity', 'value': 17}, {'type': 'pitch', 'value': 51}, {'type': 'velocity', 'value': 15}, {'type': 'pitch', 'value': 55}, {'type': 'velocity', 'value': 20}, 'next_frame', 'next_frame', 'next_frame', 'next_frame']\n",
      "Chords:  ['C_M7', 'C_M7', 'C_M7', 'C_M7', 'A_m7', 'A_m7', 'A_m7', 'A_m7', 'F_M', 'F_M', 'F_M', 'F_M', 'G_M', 'G_M', 'G_M', 'G_M', 'C_M7', 'C_M7', 'C_M7', 'C_M7', 'A_m7', 'A_m7', 'A_m7', 'A_m7', 'A_m7', 'A_m7', 'C_M7', 'C_M7', 'F_M', 'F_M', 'F_M', 'F_M']\n"
     ]
    },
    {
     "name": "stderr",
     "output_type": "stream",
     "text": [
      "100%|██████████| 16/16 [00:15<00:00,  1.04it/s]/s, batch=980, gpu_temp=61, loss={'chord': tensor(0.7841, device='cuda:0', grad_fn=<NllLossBackward0>), 'velocity': tensor(0.3688, device='cuda:0', grad_fn=<NllLossBackward0>), 'polyphony': tensor(0.2742, device='cuda:0', grad_fn=<NllLossBackward0>), 'density': tensor(0.3218, device='cuda:0', grad_fn=<NllLossBackward0>), 'piano_roll': tensor(1.1122, device='cuda:0', grad_fn=<NllLoss2DBackward0>), 'total': tensor(2.8611, device='cuda:0', grad_fn=<AddBackward0>)}]  \n"
     ]
    },
    {
     "name": "stdout",
     "output_type": "stream",
     "text": [
      "Generated:  [{'type': 'pitch', 'value': 7}, {'type': 'velocity', 'value': 22}, {'type': 'pitch', 'value': 19}, {'type': 'velocity', 'value': 21}, {'type': 'pitch', 'value': 50}, {'type': 'velocity', 'value': 23}, {'type': 'pitch', 'value': 55}, {'type': 'velocity', 'value': 22}, {'type': 'pitch', 'value': 59}, {'type': 'velocity', 'value': 24}]\n",
      "Chords:  ['F_M', 'F_M', 'F_M', 'F_M', 'E_m7', 'E_m7', 'G_M', 'G_M', 'C_sus2', 'C_sus2', 'C_M', 'C_M', 'B_o', 'B_o', 'E_M', 'E_M', 'F_M', 'F_M', 'F_M', 'F_M', 'G_M', 'G_M', 'G_M', 'G_M', 'C_M', 'C_M', 'C_M7', 'C_M7', 'F_M', 'F_M', 'F_M', 'F_M']\n"
     ]
    },
    {
     "name": "stderr",
     "output_type": "stream",
     "text": [
      "100%|██████████| 10/10 [00:04<00:00,  2.09it/s]\n",
      " 12%|█▎        | 983/7864 [05:46<12:11:36,  6.38s/it, batch=980, gpu_temp=61, loss={'chord': tensor(0.7841, device='cuda:0', grad_fn=<NllLossBackward0>), 'velocity': tensor(0.3688, device='cuda:0', grad_fn=<NllLossBackward0>), 'polyphony': tensor(0.2742, device='cuda:0', grad_fn=<NllLossBackward0>), 'density': tensor(0.3218, device='cuda:0', grad_fn=<NllLossBackward0>), 'piano_roll': tensor(1.1122, device='cuda:0', grad_fn=<NllLoss2DBackward0>), 'total': tensor(2.8611, device='cuda:0', grad_fn=<AddBackward0>)}]"
     ]
    },
    {
     "name": "stdout",
     "output_type": "stream",
     "text": [
      "Generated:  [{'type': 'pitch', 'value': 39}, {'type': 'velocity', 'value': 17}, {'type': 'pitch', 'value': 51}, {'type': 'velocity', 'value': 15}, {'type': 'pitch', 'value': 55}, {'type': 'velocity', 'value': 20}, 'next_frame', 'next_frame', 'next_frame', 'next_frame']\n",
      "Chords:  ['C_M7', 'C_M7', 'C_M7', 'C_M7', 'A_m7', 'A_m7', 'A_m7', 'A_m7', 'F_M', 'F_M', 'F_M', 'F_M', 'G_M', 'G_M', 'G_M', 'G_M', 'C_M7', 'C_M7', 'C_M7', 'C_M7', 'A_m7', 'A_m7', 'A_m7', 'A_m7', 'A_m7', 'A_m7', 'A_m7', 'A_m7', 'D_m7', 'D_m7', 'F_M', 'F_M']\n"
     ]
    },
    {
     "name": "stderr",
     "output_type": "stream",
     "text": [
      "100%|██████████| 16/16 [00:12<00:00,  1.27it/s]t/s, batch=1470, gpu_temp=60, loss={'chord': tensor(0.7348, device='cuda:0', grad_fn=<NllLossBackward0>), 'velocity': tensor(0.4233, device='cuda:0', grad_fn=<NllLossBackward0>), 'polyphony': tensor(0.3569, device='cuda:0', grad_fn=<NllLossBackward0>), 'density': tensor(0.3281, device='cuda:0', grad_fn=<NllLossBackward0>), 'piano_roll': tensor(1.0304, device='cuda:0', grad_fn=<NllLoss2DBackward0>), 'total': tensor(2.8735, device='cuda:0', grad_fn=<AddBackward0>)}] \n"
     ]
    },
    {
     "name": "stdout",
     "output_type": "stream",
     "text": [
      "Generated:  [{'type': 'pitch', 'value': 5}, {'type': 'velocity', 'value': 19}, {'type': 'pitch', 'value': 17}, {'type': 'velocity', 'value': 22}, {'type': 'pitch', 'value': 48}, {'type': 'velocity', 'value': 23}, 'next_frame', 'next_frame', 'next_frame', 'next_frame']\n",
      "Chords:  ['None', 'None', 'F_M', 'F_M', 'F_M', 'F_M', 'G_7', 'G_7', 'A_M', 'A_M', 'A_m', 'A_m', 'F_M', 'F_M', 'F_M', 'F_M', 'None', 'None', 'E_m', 'E_m', 'A_m', 'A_m', 'A_m', 'A_m', 'None', 'None', 'E_m', 'E_m', 'C_M', 'C_M', 'C_M7', 'C_M7']\n"
     ]
    },
    {
     "name": "stderr",
     "output_type": "stream",
     "text": [
      "100%|██████████| 10/10 [00:05<00:00,  1.96it/s]\n",
      " 19%|█▊        | 1474/7864 [08:32<10:10:58,  5.74s/it, batch=1470, gpu_temp=60, loss={'chord': tensor(0.7348, device='cuda:0', grad_fn=<NllLossBackward0>), 'velocity': tensor(0.4233, device='cuda:0', grad_fn=<NllLossBackward0>), 'polyphony': tensor(0.3569, device='cuda:0', grad_fn=<NllLossBackward0>), 'density': tensor(0.3281, device='cuda:0', grad_fn=<NllLossBackward0>), 'piano_roll': tensor(1.0304, device='cuda:0', grad_fn=<NllLoss2DBackward0>), 'total': tensor(2.8735, device='cuda:0', grad_fn=<AddBackward0>)}]"
     ]
    },
    {
     "name": "stdout",
     "output_type": "stream",
     "text": [
      "Generated:  [{'type': 'pitch', 'value': 39}, {'type': 'velocity', 'value': 17}, {'type': 'pitch', 'value': 51}, {'type': 'velocity', 'value': 15}, {'type': 'pitch', 'value': 55}, {'type': 'velocity', 'value': 20}, 'next_frame', 'next_frame', 'next_frame', 'next_frame']\n",
      "Chords:  ['C_M7', 'C_M7', 'C_M7', 'C_M7', 'A_m7', 'A_m7', 'A_m7', 'A_m7', 'F_M', 'F_M', 'F_M', 'F_M', 'G_M', 'G_M', 'G_M', 'G_M', 'C_M7', 'C_M7', 'C_M7', 'C_M7', 'A_m7', 'A_m7', 'A_m7', 'A_m7', 'F_M', 'F_M', 'F_M', 'F_M', 'G_7', 'G_7', 'G_M', 'G_M']\n"
     ]
    },
    {
     "name": "stderr",
     "output_type": "stream",
     "text": [
      "100%|██████████| 16/16 [00:12<00:00,  1.32it/s]t/s, batch=1960, gpu_temp=56, loss={'chord': tensor(0.7725, device='cuda:0', grad_fn=<NllLossBackward0>), 'velocity': tensor(0.3997, device='cuda:0', grad_fn=<NllLossBackward0>), 'polyphony': tensor(0.2207, device='cuda:0', grad_fn=<NllLossBackward0>), 'density': tensor(0.3313, device='cuda:0', grad_fn=<NllLossBackward0>), 'piano_roll': tensor(1.0208, device='cuda:0', grad_fn=<NllLoss2DBackward0>), 'total': tensor(2.7449, device='cuda:0', grad_fn=<AddBackward0>)}]   \n"
     ]
    },
    {
     "name": "stdout",
     "output_type": "stream",
     "text": [
      "Generated:  ['next_frame', 'next_frame', 'next_frame', 'next_frame', 'next_frame', 'next_frame', 'next_frame', 'next_frame', 'next_frame', 'next_frame']\n",
      "Chords:  ['E_m7', 'E_m7', 'C_M7', 'C_M7', 'G_7', 'G_7', 'G_M', 'G_M', 'F_M', 'F_M', 'F_M7', 'F_M7', 'C_M', 'C_M', 'C_M7', 'C_M7', 'B_o', 'B_o', 'B_o', 'B_o', 'A_M7', 'A_M7', 'E_M', 'E_M', 'A_sus2', 'A_sus2', 'A_m7', 'A_m7', 'A_m', 'A_m', 'A_m7', 'A_m7']\n"
     ]
    },
    {
     "name": "stderr",
     "output_type": "stream",
     "text": [
      "100%|██████████| 10/10 [00:05<00:00,  1.97it/s]\n",
      " 25%|██▍       | 1965/7864 [11:22<9:01:25,  5.51s/it, batch=1960, gpu_temp=56, loss={'chord': tensor(0.7725, device='cuda:0', grad_fn=<NllLossBackward0>), 'velocity': tensor(0.3997, device='cuda:0', grad_fn=<NllLossBackward0>), 'polyphony': tensor(0.2207, device='cuda:0', grad_fn=<NllLossBackward0>), 'density': tensor(0.3313, device='cuda:0', grad_fn=<NllLossBackward0>), 'piano_roll': tensor(1.0208, device='cuda:0', grad_fn=<NllLoss2DBackward0>), 'total': tensor(2.7449, device='cuda:0', grad_fn=<AddBackward0>)}]"
     ]
    },
    {
     "name": "stdout",
     "output_type": "stream",
     "text": [
      "Generated:  [{'type': 'pitch', 'value': 39}, {'type': 'velocity', 'value': 17}, {'type': 'pitch', 'value': 51}, {'type': 'velocity', 'value': 15}, {'type': 'pitch', 'value': 55}, {'type': 'velocity', 'value': 20}, 'next_frame', 'next_frame', 'next_frame', 'next_frame']\n",
      "Chords:  ['C_M7', 'C_M7', 'C_M7', 'C_M7', 'A_m7', 'A_m7', 'A_m7', 'A_m7', 'F_M', 'F_M', 'F_M', 'F_M', 'G_M', 'G_M', 'G_M', 'G_M', 'C_M7', 'C_M7', 'C_M7', 'C_M7', 'A_m7', 'A_m7', 'A_m7', 'A_m7', 'A_m7', 'A_m7', 'C_M7', 'C_M7', 'F_M7', 'F_M7', 'F_M', 'F_M']\n"
     ]
    },
    {
     "name": "stderr",
     "output_type": "stream",
     "text": [
      "100%|██████████| 16/16 [00:11<00:00,  1.42it/s]t/s, batch=2450, gpu_temp=61, loss={'chord': tensor(0.8286, device='cuda:0', grad_fn=<NllLossBackward0>), 'velocity': tensor(0.3690, device='cuda:0', grad_fn=<NllLossBackward0>), 'polyphony': tensor(0.2711, device='cuda:0', grad_fn=<NllLossBackward0>), 'density': tensor(0.3256, device='cuda:0', grad_fn=<NllLossBackward0>), 'piano_roll': tensor(1.0309, device='cuda:0', grad_fn=<NllLoss2DBackward0>), 'total': tensor(2.8252, device='cuda:0', grad_fn=<AddBackward0>)}]  \n"
     ]
    },
    {
     "name": "stdout",
     "output_type": "stream",
     "text": [
      "Generated:  [{'type': 'pitch', 'value': 19}, {'type': 'velocity', 'value': 19}, {'type': 'pitch', 'value': 46}, {'type': 'velocity', 'value': 21}, {'type': 'pitch', 'value': 50}, {'type': 'velocity', 'value': 22}, {'type': 'pitch', 'value': 58}, {'type': 'velocity', 'value': 23}, 'next_frame', 'next_frame']\n",
      "Chords:  ['A_m7', 'A_m7', 'C_M7', 'C_M7', 'F_M7', 'F_M7', 'F_M7', 'F_M7', 'F_M7', 'F_M7', 'E_7', 'E_7', 'A_m', 'A_m', 'A_m', 'A_m', 'D_m7', 'D_m7', 'D_m7', 'D_m7', 'C_M7', 'C_M7', 'C_M7', 'C_M7', 'F_M7', 'F_M7', 'F_M7', 'F_M7', 'A_m', 'A_m', 'A_m', 'A_m']\n"
     ]
    },
    {
     "name": "stderr",
     "output_type": "stream",
     "text": [
      "100%|██████████| 10/10 [00:04<00:00,  2.11it/s]\n",
      " 31%|███       | 2456/7864 [14:08<7:45:32,  5.17s/it, batch=2450, gpu_temp=61, loss={'chord': tensor(0.8286, device='cuda:0', grad_fn=<NllLossBackward0>), 'velocity': tensor(0.3690, device='cuda:0', grad_fn=<NllLossBackward0>), 'polyphony': tensor(0.2711, device='cuda:0', grad_fn=<NllLossBackward0>), 'density': tensor(0.3256, device='cuda:0', grad_fn=<NllLossBackward0>), 'piano_roll': tensor(1.0309, device='cuda:0', grad_fn=<NllLoss2DBackward0>), 'total': tensor(2.8252, device='cuda:0', grad_fn=<AddBackward0>)}]"
     ]
    },
    {
     "name": "stdout",
     "output_type": "stream",
     "text": [
      "Generated:  [{'type': 'pitch', 'value': 39}, {'type': 'velocity', 'value': 17}, {'type': 'pitch', 'value': 51}, {'type': 'velocity', 'value': 15}, {'type': 'pitch', 'value': 55}, {'type': 'velocity', 'value': 20}, 'next_frame', 'next_frame', 'next_frame', 'next_frame']\n",
      "Chords:  ['C_M7', 'C_M7', 'C_M7', 'C_M7', 'A_m7', 'A_m7', 'A_m7', 'A_m7', 'F_M', 'F_M', 'F_M', 'F_M', 'G_M', 'G_M', 'G_M', 'G_M', 'C_M7', 'C_M7', 'C_M7', 'C_M7', 'A_m7', 'A_m7', 'A_m7', 'A_m7', 'C_M7', 'C_M7', 'C_M7', 'C_M7', 'C_M7', 'C_M7', 'C_M7', 'C_M7']\n"
     ]
    },
    {
     "name": "stderr",
     "output_type": "stream",
     "text": [
      "100%|██████████| 16/16 [00:11<00:00,  1.36it/s]t/s, batch=2940, gpu_temp=61, loss={'chord': tensor(0.7965, device='cuda:0', grad_fn=<NllLossBackward0>), 'velocity': tensor(0.3913, device='cuda:0', grad_fn=<NllLossBackward0>), 'polyphony': tensor(0.2746, device='cuda:0', grad_fn=<NllLossBackward0>), 'density': tensor(0.3296, device='cuda:0', grad_fn=<NllLossBackward0>), 'piano_roll': tensor(1.1214, device='cuda:0', grad_fn=<NllLoss2DBackward0>), 'total': tensor(2.9135, device='cuda:0', grad_fn=<AddBackward0>)}]  \n"
     ]
    },
    {
     "name": "stdout",
     "output_type": "stream",
     "text": [
      "Generated:  [{'type': 'pitch', 'value': 12}, {'type': 'velocity', 'value': 20}, {'type': 'pitch', 'value': 24}, {'type': 'velocity', 'value': 21}, {'type': 'pitch', 'value': 48}, {'type': 'velocity', 'value': 23}, {'type': 'pitch', 'value': 55}, {'type': 'velocity', 'value': 24}, 'next_frame', 'next_frame']\n",
      "Chords:  ['E_m7', 'E_m7', 'E_m', 'E_m', 'A_m7', 'A_m7', 'F_M7', 'F_M7', 'C_M', 'C_M', 'C_M', 'C_M', 'C_M', 'C_M', 'C_M', 'C_M', 'D_m', 'D_m', 'F_M7', 'F_M7', 'G_M', 'G_M', 'G_M', 'G_M', 'C_M', 'C_M', 'C_M', 'C_M', 'G_M', 'G_M', 'G_M', 'G_M']\n"
     ]
    },
    {
     "name": "stderr",
     "output_type": "stream",
     "text": [
      "100%|██████████| 10/10 [00:04<00:00,  2.09it/s]\n",
      " 37%|███▋      | 2947/7864 [16:53<7:14:48,  5.31s/it, batch=2940, gpu_temp=61, loss={'chord': tensor(0.7965, device='cuda:0', grad_fn=<NllLossBackward0>), 'velocity': tensor(0.3913, device='cuda:0', grad_fn=<NllLossBackward0>), 'polyphony': tensor(0.2746, device='cuda:0', grad_fn=<NllLossBackward0>), 'density': tensor(0.3296, device='cuda:0', grad_fn=<NllLossBackward0>), 'piano_roll': tensor(1.1214, device='cuda:0', grad_fn=<NllLoss2DBackward0>), 'total': tensor(2.9135, device='cuda:0', grad_fn=<AddBackward0>)}]"
     ]
    },
    {
     "name": "stdout",
     "output_type": "stream",
     "text": [
      "Generated:  [{'type': 'pitch', 'value': 39}, {'type': 'velocity', 'value': 17}, {'type': 'pitch', 'value': 51}, {'type': 'velocity', 'value': 15}, {'type': 'pitch', 'value': 55}, {'type': 'velocity', 'value': 20}, 'next_frame', 'next_frame', 'next_frame', 'next_frame']\n",
      "Chords:  ['C_M7', 'C_M7', 'C_M7', 'C_M7', 'A_m7', 'A_m7', 'A_m7', 'A_m7', 'F_M', 'F_M', 'F_M', 'F_M', 'G_M', 'G_M', 'G_M', 'G_M', 'C_M7', 'C_M7', 'C_M7', 'C_M7', 'A_m7', 'A_m7', 'A_m7', 'A_m7', 'F_M', 'F_M', 'F_M', 'F_M', 'F_M', 'F_M', 'F_M7', 'F_M7']\n"
     ]
    },
    {
     "name": "stderr",
     "output_type": "stream",
     "text": [
      "100%|██████████| 16/16 [00:11<00:00,  1.36it/s]t/s, batch=3430, gpu_temp=62, loss={'chord': tensor(0.7591, device='cuda:0', grad_fn=<NllLossBackward0>), 'velocity': tensor(0.3762, device='cuda:0', grad_fn=<NllLossBackward0>), 'polyphony': tensor(0.2868, device='cuda:0', grad_fn=<NllLossBackward0>), 'density': tensor(0.3434, device='cuda:0', grad_fn=<NllLossBackward0>), 'piano_roll': tensor(1.0755, device='cuda:0', grad_fn=<NllLoss2DBackward0>), 'total': tensor(2.8410, device='cuda:0', grad_fn=<AddBackward0>)}]  \n"
     ]
    },
    {
     "name": "stdout",
     "output_type": "stream",
     "text": [
      "Generated:  [{'type': 'pitch', 'value': 10}, {'type': 'velocity', 'value': 20}, {'type': 'pitch', 'value': 22}, {'type': 'velocity', 'value': 20}, {'type': 'pitch', 'value': 41}, {'type': 'velocity', 'value': 22}, {'type': 'pitch', 'value': 46}, {'type': 'velocity', 'value': 22}, {'type': 'pitch', 'value': 53}, {'type': 'velocity', 'value': 23}]\n",
      "Chords:  ['A_o', 'A_o', 'A_o', 'A_o', 'G_M', 'G_M', 'G_M', 'G_M', 'C_M7', 'C_M7', 'A_m7', 'A_m7', 'F_M7', 'F_M7', 'G_M', 'G_M', 'A_m', 'A_m', 'A_m7', 'A_m7', 'C_M', 'C_M', 'C_M7', 'C_M7', 'C_M7', 'C_M7', 'C_M7', 'C_M7', 'F_M', 'F_M', 'F_M7', 'F_M7']\n"
     ]
    },
    {
     "name": "stderr",
     "output_type": "stream",
     "text": [
      "100%|██████████| 10/10 [00:05<00:00,  1.83it/s]\n",
      " 44%|████▎     | 3438/7864 [19:39<6:46:17,  5.51s/it, batch=3430, gpu_temp=62, loss={'chord': tensor(0.7591, device='cuda:0', grad_fn=<NllLossBackward0>), 'velocity': tensor(0.3762, device='cuda:0', grad_fn=<NllLossBackward0>), 'polyphony': tensor(0.2868, device='cuda:0', grad_fn=<NllLossBackward0>), 'density': tensor(0.3434, device='cuda:0', grad_fn=<NllLossBackward0>), 'piano_roll': tensor(1.0755, device='cuda:0', grad_fn=<NllLoss2DBackward0>), 'total': tensor(2.8410, device='cuda:0', grad_fn=<AddBackward0>)}]"
     ]
    },
    {
     "name": "stdout",
     "output_type": "stream",
     "text": [
      "Generated:  [{'type': 'pitch', 'value': 39}, {'type': 'velocity', 'value': 17}, {'type': 'pitch', 'value': 51}, {'type': 'velocity', 'value': 15}, {'type': 'pitch', 'value': 55}, {'type': 'velocity', 'value': 20}, 'next_frame', 'next_frame', 'next_frame', 'next_frame']\n",
      "Chords:  ['C_M7', 'C_M7', 'C_M7', 'C_M7', 'A_m7', 'A_m7', 'A_m7', 'A_m7', 'F_M', 'F_M', 'F_M', 'F_M', 'G_M', 'G_M', 'G_M', 'G_M', 'C_M7', 'C_M7', 'C_M7', 'C_M7', 'A_m7', 'A_m7', 'A_m7', 'A_m7', 'G_+', 'G_+', 'C_M7', 'C_M7', 'C_M7', 'C_M7', 'C_M7', 'C_M7']\n"
     ]
    },
    {
     "name": "stderr",
     "output_type": "stream",
     "text": [
      "100%|██████████| 16/16 [00:14<00:00,  1.13it/s]t/s, batch=3920, gpu_temp=62, loss={'chord': tensor(0.8161, device='cuda:0', grad_fn=<NllLossBackward0>), 'velocity': tensor(0.3620, device='cuda:0', grad_fn=<NllLossBackward0>), 'polyphony': tensor(0.2743, device='cuda:0', grad_fn=<NllLossBackward0>), 'density': tensor(0.3113, device='cuda:0', grad_fn=<NllLossBackward0>), 'piano_roll': tensor(1.0569, device='cuda:0', grad_fn=<NllLoss2DBackward0>), 'total': tensor(2.8207, device='cuda:0', grad_fn=<AddBackward0>)}]  \n"
     ]
    },
    {
     "name": "stdout",
     "output_type": "stream",
     "text": [
      "Generated:  [{'type': 'pitch', 'value': 20}, {'type': 'velocity', 'value': 21}, 'next_frame', 'next_frame', 'next_frame', 'next_frame', 'next_frame', 'next_frame', {'type': 'pitch', 'value': 27}, {'type': 'velocity', 'value': 19}]\n",
      "Chords:  ['G#_M', 'G#_M', 'G#_M', 'G#_M', 'C#_M7', 'C#_M7', 'C#_M', 'C#_M', 'D#_7', 'D#_7', 'D#_M', 'D#_M', 'C_m', 'C_m', 'C_m7', 'C_m7', 'C_m', 'C_m', 'G#_M7', 'F_m7', 'B_+', 'B_+', 'G_7', 'G_7', 'C_m', 'C_m', 'A_o', 'A_o', 'D_m7', 'D_m7', 'G_M', 'G_M']\n"
     ]
    },
    {
     "name": "stderr",
     "output_type": "stream",
     "text": [
      "100%|██████████| 10/10 [00:04<00:00,  2.30it/s]\n",
      " 50%|████▉     | 3929/7864 [22:29<6:26:22,  5.89s/it, batch=3920, gpu_temp=62, loss={'chord': tensor(0.8161, device='cuda:0', grad_fn=<NllLossBackward0>), 'velocity': tensor(0.3620, device='cuda:0', grad_fn=<NllLossBackward0>), 'polyphony': tensor(0.2743, device='cuda:0', grad_fn=<NllLossBackward0>), 'density': tensor(0.3113, device='cuda:0', grad_fn=<NllLossBackward0>), 'piano_roll': tensor(1.0569, device='cuda:0', grad_fn=<NllLoss2DBackward0>), 'total': tensor(2.8207, device='cuda:0', grad_fn=<AddBackward0>)}]"
     ]
    },
    {
     "name": "stdout",
     "output_type": "stream",
     "text": [
      "Generated:  [{'type': 'pitch', 'value': 39}, {'type': 'velocity', 'value': 17}, {'type': 'pitch', 'value': 51}, {'type': 'velocity', 'value': 15}, {'type': 'pitch', 'value': 55}, {'type': 'velocity', 'value': 20}, 'next_frame', 'next_frame', 'next_frame', 'next_frame']\n",
      "Chords:  ['C_M7', 'C_M7', 'C_M7', 'C_M7', 'A_m7', 'A_m7', 'A_m7', 'A_m7', 'F_M', 'F_M', 'F_M', 'F_M', 'G_M', 'G_M', 'G_M', 'G_M', 'C_M7', 'C_M7', 'C_M7', 'C_M7', 'A_m7', 'A_m7', 'A_m7', 'A_m7', 'F_M7', 'F_M7', 'F_M', 'F_M', 'F_M', 'F_M', 'F_M7', 'F_M7']\n"
     ]
    },
    {
     "name": "stderr",
     "output_type": "stream",
     "text": [
      "100%|██████████| 16/16 [00:11<00:00,  1.36it/s]t/s, batch=4410, gpu_temp=61, loss={'chord': tensor(0.7414, device='cuda:0', grad_fn=<NllLossBackward0>), 'velocity': tensor(0.3401, device='cuda:0', grad_fn=<NllLossBackward0>), 'polyphony': tensor(0.2593, device='cuda:0', grad_fn=<NllLossBackward0>), 'density': tensor(0.3446, device='cuda:0', grad_fn=<NllLossBackward0>), 'piano_roll': tensor(0.9752, device='cuda:0', grad_fn=<NllLoss2DBackward0>), 'total': tensor(2.6607, device='cuda:0', grad_fn=<AddBackward0>)}]  \n"
     ]
    },
    {
     "name": "stdout",
     "output_type": "stream",
     "text": [
      "Generated:  [{'type': 'pitch', 'value': 20}, {'type': 'velocity', 'value': 20}, {'type': 'pitch', 'value': 51}, {'type': 'velocity', 'value': 23}, {'type': 'pitch', 'value': 63}, {'type': 'velocity', 'value': 24}, 'next_frame', 'next_frame', 'next_frame', 'next_frame']\n",
      "Chords:  ['C_+', 'C_+', 'C_M7', 'C_M7', 'A_m7', 'A_m7', 'C_M', 'C_M', 'D_sus2', 'C_+', 'C_M', 'C_M', 'C_M', 'C_M', 'C_M7', 'C_M7', 'A_m7', 'A_m7', 'A_m7', 'A_m7', 'E_M', 'E_M', 'C_+', 'C_+', 'A_m7', 'A_m7', 'A_m7', 'A_m7', 'C_+', 'C_+', 'C_+', 'C_+']\n"
     ]
    },
    {
     "name": "stderr",
     "output_type": "stream",
     "text": [
      "100%|██████████| 10/10 [00:04<00:00,  2.16it/s]\n",
      " 56%|█████▌    | 4420/7864 [25:15<5:02:17,  5.27s/it, batch=4410, gpu_temp=61, loss={'chord': tensor(0.7414, device='cuda:0', grad_fn=<NllLossBackward0>), 'velocity': tensor(0.3401, device='cuda:0', grad_fn=<NllLossBackward0>), 'polyphony': tensor(0.2593, device='cuda:0', grad_fn=<NllLossBackward0>), 'density': tensor(0.3446, device='cuda:0', grad_fn=<NllLossBackward0>), 'piano_roll': tensor(0.9752, device='cuda:0', grad_fn=<NllLoss2DBackward0>), 'total': tensor(2.6607, device='cuda:0', grad_fn=<AddBackward0>)}]"
     ]
    },
    {
     "name": "stdout",
     "output_type": "stream",
     "text": [
      "Generated:  [{'type': 'pitch', 'value': 39}, {'type': 'velocity', 'value': 17}, {'type': 'pitch', 'value': 51}, {'type': 'velocity', 'value': 15}, {'type': 'pitch', 'value': 55}, {'type': 'velocity', 'value': 20}, 'next_frame', 'next_frame', 'next_frame', 'next_frame']\n",
      "Chords:  ['C_M7', 'C_M7', 'C_M7', 'C_M7', 'A_m7', 'A_m7', 'A_m7', 'A_m7', 'F_M', 'F_M', 'F_M', 'F_M', 'G_M', 'G_M', 'G_M', 'G_M', 'C_M7', 'C_M7', 'C_M7', 'C_M7', 'A_m7', 'A_m7', 'A_m7', 'A_m7', 'F_M', 'F_M', 'F_M', 'F_M', 'D_m7', 'D_m7', 'G_7', 'G_7']\n"
     ]
    },
    {
     "name": "stderr",
     "output_type": "stream",
     "text": [
      "100%|██████████| 16/16 [00:12<00:00,  1.27it/s]t/s, batch=4910, gpu_temp=54, loss={'chord': tensor(0.8173, device='cuda:0', grad_fn=<NllLossBackward0>), 'velocity': tensor(0.3919, device='cuda:0', grad_fn=<NllLossBackward0>), 'polyphony': tensor(0.2378, device='cuda:0', grad_fn=<NllLossBackward0>), 'density': tensor(0.3053, device='cuda:0', grad_fn=<NllLossBackward0>), 'piano_roll': tensor(1.0406, device='cuda:0', grad_fn=<NllLoss2DBackward0>), 'total': tensor(2.7929, device='cuda:0', grad_fn=<AddBackward0>)}]  \n"
     ]
    },
    {
     "name": "stdout",
     "output_type": "stream",
     "text": [
      "Generated:  [{'type': 'pitch', 'value': 12}, {'type': 'velocity', 'value': 20}, {'type': 'pitch', 'value': 24}, {'type': 'velocity', 'value': 21}, 'next_frame', 'next_frame', 'next_frame', 'next_frame', {'type': 'pitch', 'value': 43}, {'type': 'velocity', 'value': 20}]\n",
      "Chords:  ['B_o', 'B_o', 'C_M7', 'C_M7', 'G_M', 'G_M', 'C_M7', 'C_M7', 'D_m7', 'D_m7', 'F_M7', 'F_M7', 'G_M', 'G_M', 'G_M', 'G_M', 'C_M7', 'C_M7', 'C_M7', 'C_M7', 'G_M', 'G_M', 'G_M', 'C_M7', 'D_m7', 'D_m7', 'D_m7', 'D_m7', 'C_M', 'C_M', 'C_M7', 'C_M7']\n"
     ]
    },
    {
     "name": "stderr",
     "output_type": "stream",
     "text": [
      "100%|██████████| 10/10 [00:04<00:00,  2.07it/s]\n",
      " 62%|██████▏   | 4911/7864 [28:10<4:39:44,  5.68s/it, batch=4910, gpu_temp=54, loss={'chord': tensor(0.8173, device='cuda:0', grad_fn=<NllLossBackward0>), 'velocity': tensor(0.3919, device='cuda:0', grad_fn=<NllLossBackward0>), 'polyphony': tensor(0.2378, device='cuda:0', grad_fn=<NllLossBackward0>), 'density': tensor(0.3053, device='cuda:0', grad_fn=<NllLossBackward0>), 'piano_roll': tensor(1.0406, device='cuda:0', grad_fn=<NllLoss2DBackward0>), 'total': tensor(2.7929, device='cuda:0', grad_fn=<AddBackward0>)}]"
     ]
    },
    {
     "name": "stdout",
     "output_type": "stream",
     "text": [
      "Generated:  [{'type': 'pitch', 'value': 39}, {'type': 'velocity', 'value': 17}, {'type': 'pitch', 'value': 51}, {'type': 'velocity', 'value': 15}, {'type': 'pitch', 'value': 55}, {'type': 'velocity', 'value': 20}, 'next_frame', 'next_frame', 'next_frame', 'next_frame']\n",
      "Chords:  ['C_M7', 'C_M7', 'C_M7', 'C_M7', 'A_m7', 'A_m7', 'A_m7', 'A_m7', 'F_M', 'F_M', 'F_M', 'F_M', 'G_M', 'G_M', 'G_M', 'G_M', 'C_M7', 'C_M7', 'C_M7', 'C_M7', 'A_m7', 'A_m7', 'A_m7', 'A_m7', 'C_M7', 'C_M7', 'C_M7', 'C_M7', 'G_M', 'G_M', 'G_M', 'G_M']\n"
     ]
    },
    {
     "name": "stderr",
     "output_type": "stream",
     "text": [
      "100%|██████████| 16/16 [00:10<00:00,  1.48it/s]t/s, batch=5400, gpu_temp=61, loss={'chord': tensor(0.7799, device='cuda:0', grad_fn=<NllLossBackward0>), 'velocity': tensor(0.4178, device='cuda:0', grad_fn=<NllLossBackward0>), 'polyphony': tensor(0.2614, device='cuda:0', grad_fn=<NllLossBackward0>), 'density': tensor(0.3079, device='cuda:0', grad_fn=<NllLossBackward0>), 'piano_roll': tensor(1.0616, device='cuda:0', grad_fn=<NllLoss2DBackward0>), 'total': tensor(2.8286, device='cuda:0', grad_fn=<AddBackward0>)}]  \n"
     ]
    },
    {
     "name": "stdout",
     "output_type": "stream",
     "text": [
      "Generated:  [{'type': 'pitch', 'value': 19}, {'type': 'velocity', 'value': 20}, {'type': 'pitch', 'value': 31}, {'type': 'velocity', 'value': 21}, {'type': 'pitch', 'value': 50}, {'type': 'velocity', 'value': 21}, {'type': 'pitch', 'value': 58}, {'type': 'velocity', 'value': 23}, 'next_frame', 'next_frame']\n",
      "Chords:  ['F_M7', 'F_M7', 'C_M7', 'C_M7', 'D_m', 'G_7', 'G_M', 'G_M', 'C_M', 'C_M', 'C_M', 'C_M7', 'A_m', 'A_m', 'G_M', 'G_M', 'F_M', 'F_M', 'C_M', 'C_M', 'D_m7', 'D_m7', 'G_M', 'G_M', 'C_M', 'C_M', 'G_M', 'G_M', 'A_m', 'A_m', 'G_M', 'G_M']\n"
     ]
    },
    {
     "name": "stderr",
     "output_type": "stream",
     "text": [
      "100%|██████████| 10/10 [00:05<00:00,  1.88it/s]\n",
      " 69%|██████▊   | 5402/7864 [30:55<3:32:00,  5.17s/it, batch=5400, gpu_temp=61, loss={'chord': tensor(0.7799, device='cuda:0', grad_fn=<NllLossBackward0>), 'velocity': tensor(0.4178, device='cuda:0', grad_fn=<NllLossBackward0>), 'polyphony': tensor(0.2614, device='cuda:0', grad_fn=<NllLossBackward0>), 'density': tensor(0.3079, device='cuda:0', grad_fn=<NllLossBackward0>), 'piano_roll': tensor(1.0616, device='cuda:0', grad_fn=<NllLoss2DBackward0>), 'total': tensor(2.8286, device='cuda:0', grad_fn=<AddBackward0>)}]"
     ]
    },
    {
     "name": "stdout",
     "output_type": "stream",
     "text": [
      "Generated:  [{'type': 'pitch', 'value': 39}, {'type': 'velocity', 'value': 17}, {'type': 'pitch', 'value': 51}, {'type': 'velocity', 'value': 15}, {'type': 'pitch', 'value': 55}, {'type': 'velocity', 'value': 20}, 'next_frame', 'next_frame', 'next_frame', 'next_frame']\n",
      "Chords:  ['C_M7', 'C_M7', 'C_M7', 'C_M7', 'A_m7', 'A_m7', 'A_m7', 'A_m7', 'F_M', 'F_M', 'F_M', 'F_M', 'G_M', 'G_M', 'G_M', 'G_M', 'C_M7', 'C_M7', 'C_M7', 'C_M7', 'A_m7', 'A_m7', 'A_m7', 'A_m7', 'A_m7', 'A_m7', 'C_M7', 'C_M7', 'F_M', 'F_M', 'F_M', 'F_M']\n"
     ]
    },
    {
     "name": "stderr",
     "output_type": "stream",
     "text": [
      "100%|██████████| 16/16 [00:11<00:00,  1.33it/s]t/s, batch=5890, gpu_temp=56, loss={'chord': tensor(0.8319, device='cuda:0', grad_fn=<NllLossBackward0>), 'velocity': tensor(0.3511, device='cuda:0', grad_fn=<NllLossBackward0>), 'polyphony': tensor(0.2780, device='cuda:0', grad_fn=<NllLossBackward0>), 'density': tensor(0.3375, device='cuda:0', grad_fn=<NllLossBackward0>), 'piano_roll': tensor(1.1110, device='cuda:0', grad_fn=<NllLoss2DBackward0>), 'total': tensor(2.9095, device='cuda:0', grad_fn=<AddBackward0>)}]  \n"
     ]
    },
    {
     "name": "stdout",
     "output_type": "stream",
     "text": [
      "Generated:  [{'type': 'pitch', 'value': 20}, {'type': 'velocity', 'value': 19}, {'type': 'pitch', 'value': 39}, {'type': 'velocity', 'value': 20}, {'type': 'pitch', 'value': 44}, {'type': 'velocity', 'value': 20}, 'next_frame', 'next_frame', 'next_frame', 'next_frame']\n",
      "Chords:  ['F_M7', 'F_M7', 'F_M7', 'F_M7', 'G_7', 'G_7', 'G_M', 'G_M', 'E_m7', 'E_m7', 'E_m7', 'E_m7', 'A_m7', 'A_m7', 'A_m7', 'A_m7', 'D_m7', 'D_m7', 'D_m7', 'D_m7', 'F_M', 'F_M', 'F_M7', 'F_M7', 'G_m7', 'G_m7', 'G_7', 'G_7', 'C_M', 'C_M', 'C_M', 'C_M']\n"
     ]
    },
    {
     "name": "stderr",
     "output_type": "stream",
     "text": [
      "100%|██████████| 10/10 [00:05<00:00,  1.70it/s]\n",
      " 75%|███████▍  | 5893/7864 [33:45<3:08:45,  5.75s/it, batch=5890, gpu_temp=56, loss={'chord': tensor(0.8319, device='cuda:0', grad_fn=<NllLossBackward0>), 'velocity': tensor(0.3511, device='cuda:0', grad_fn=<NllLossBackward0>), 'polyphony': tensor(0.2780, device='cuda:0', grad_fn=<NllLossBackward0>), 'density': tensor(0.3375, device='cuda:0', grad_fn=<NllLossBackward0>), 'piano_roll': tensor(1.1110, device='cuda:0', grad_fn=<NllLoss2DBackward0>), 'total': tensor(2.9095, device='cuda:0', grad_fn=<AddBackward0>)}]"
     ]
    },
    {
     "name": "stdout",
     "output_type": "stream",
     "text": [
      "Generated:  [{'type': 'pitch', 'value': 39}, {'type': 'velocity', 'value': 17}, {'type': 'pitch', 'value': 51}, {'type': 'velocity', 'value': 15}, {'type': 'pitch', 'value': 55}, {'type': 'velocity', 'value': 20}, 'next_frame', 'next_frame', 'next_frame', 'next_frame']\n",
      "Chords:  ['C_M7', 'C_M7', 'C_M7', 'C_M7', 'A_m7', 'A_m7', 'A_m7', 'A_m7', 'F_M', 'F_M', 'F_M', 'F_M', 'G_M', 'G_M', 'G_M', 'G_M', 'C_M7', 'C_M7', 'C_M7', 'C_M7', 'A_m7', 'A_m7', 'A_m7', 'A_m7', 'C_M7', 'C_M7', 'C_M7', 'C_M7', 'F_M', 'F_M', 'F_M', 'F_M']\n"
     ]
    },
    {
     "name": "stderr",
     "output_type": "stream",
     "text": [
      "100%|██████████| 16/16 [00:10<00:00,  1.48it/s]t/s, batch=6380, gpu_temp=60, loss={'chord': tensor(0.7222, device='cuda:0', grad_fn=<NllLossBackward0>), 'velocity': tensor(0.3541, device='cuda:0', grad_fn=<NllLossBackward0>), 'polyphony': tensor(0.2730, device='cuda:0', grad_fn=<NllLossBackward0>), 'density': tensor(0.3508, device='cuda:0', grad_fn=<NllLossBackward0>), 'piano_roll': tensor(1.0295, device='cuda:0', grad_fn=<NllLoss2DBackward0>), 'total': tensor(2.7297, device='cuda:0', grad_fn=<AddBackward0>)}]  \n"
     ]
    },
    {
     "name": "stdout",
     "output_type": "stream",
     "text": [
      "Generated:  [{'type': 'pitch', 'value': 26}, {'type': 'velocity', 'value': 21}, {'type': 'pitch', 'value': 46}, {'type': 'velocity', 'value': 21}, {'type': 'pitch', 'value': 50}, {'type': 'velocity', 'value': 19}, {'type': 'pitch', 'value': 55}, {'type': 'velocity', 'value': 22}, 'next_frame', 'next_frame']\n",
      "Chords:  ['A_m', 'A_m', 'A_m7', 'A_m7', 'A_m', 'A_m', 'F_M7', 'A_m7', 'A_m7', 'A_m7', 'A_m7', 'A_m7', 'F_M', 'F_M', 'F_M', 'F_M', 'F_M', 'F_M', 'F_M', 'F_M', 'F_M', 'F_M', 'F_M', 'F_M', 'F_M', 'F_M', 'F_M7', 'F_M7', 'A_m7', 'A_m7', 'A_m7', 'A_m7']\n"
     ]
    },
    {
     "name": "stderr",
     "output_type": "stream",
     "text": [
      "100%|██████████| 10/10 [00:04<00:00,  2.01it/s]\n",
      " 81%|████████  | 6384/7864 [36:33<2:06:07,  5.11s/it, batch=6380, gpu_temp=60, loss={'chord': tensor(0.7222, device='cuda:0', grad_fn=<NllLossBackward0>), 'velocity': tensor(0.3541, device='cuda:0', grad_fn=<NllLossBackward0>), 'polyphony': tensor(0.2730, device='cuda:0', grad_fn=<NllLossBackward0>), 'density': tensor(0.3508, device='cuda:0', grad_fn=<NllLossBackward0>), 'piano_roll': tensor(1.0295, device='cuda:0', grad_fn=<NllLoss2DBackward0>), 'total': tensor(2.7297, device='cuda:0', grad_fn=<AddBackward0>)}]"
     ]
    },
    {
     "name": "stdout",
     "output_type": "stream",
     "text": [
      "Generated:  [{'type': 'pitch', 'value': 39}, {'type': 'velocity', 'value': 17}, {'type': 'pitch', 'value': 51}, {'type': 'velocity', 'value': 15}, {'type': 'pitch', 'value': 55}, {'type': 'velocity', 'value': 20}, 'next_frame', 'next_frame', 'next_frame', 'next_frame']\n",
      "Chords:  ['C_M7', 'C_M7', 'C_M7', 'C_M7', 'A_m7', 'A_m7', 'A_m7', 'A_m7', 'F_M', 'F_M', 'F_M', 'F_M', 'G_M', 'G_M', 'G_M', 'G_M', 'C_M7', 'C_M7', 'C_M7', 'C_M7', 'A_m7', 'A_m7', 'A_m7', 'A_m7', 'E_m', 'E_m', 'E_m', 'E_m', 'F_M7', 'F_M7', 'F_M7', 'F_M7']\n"
     ]
    },
    {
     "name": "stderr",
     "output_type": "stream",
     "text": [
      "100%|██████████| 16/16 [00:14<00:00,  1.09it/s]t/s, batch=6870, gpu_temp=60, loss={'chord': tensor(0.7573, device='cuda:0', grad_fn=<NllLossBackward0>), 'velocity': tensor(0.4192, device='cuda:0', grad_fn=<NllLossBackward0>), 'polyphony': tensor(0.3092, device='cuda:0', grad_fn=<NllLossBackward0>), 'density': tensor(0.3449, device='cuda:0', grad_fn=<NllLossBackward0>), 'piano_roll': tensor(1.0355, device='cuda:0', grad_fn=<NllLoss2DBackward0>), 'total': tensor(2.8661, device='cuda:0', grad_fn=<AddBackward0>)}]  \n"
     ]
    },
    {
     "name": "stdout",
     "output_type": "stream",
     "text": [
      "Generated:  [{'type': 'pitch', 'value': 3}, {'type': 'velocity', 'value': 20}, {'type': 'pitch', 'value': 15}, {'type': 'velocity', 'value': 20}, {'type': 'pitch', 'value': 39}, {'type': 'velocity', 'value': 22}, {'type': 'pitch', 'value': 46}, {'type': 'velocity', 'value': 22}, {'type': 'pitch', 'value': 51}, {'type': 'velocity', 'value': 22}]\n",
      "Chords:  ['F_M7', 'F_M7', 'E_7', 'E_7', 'A_m7', 'A_m7', 'A_m7', 'A_m7', 'F_M', 'F_M', 'E_7', 'E_7', 'A_m7', 'A_m7', 'C_7', 'C_7', 'F_M', 'F_M', 'G_M', 'G_M', 'E_m7', 'E_m7', 'A_m', 'A_m', 'D_m7', 'D_m7', 'E_M', 'E_M', 'C_M', 'C_M', 'C_M', 'C_M']\n"
     ]
    },
    {
     "name": "stderr",
     "output_type": "stream",
     "text": [
      "100%|██████████| 10/10 [00:04<00:00,  2.03it/s]\n",
      " 87%|████████▋ | 6875/7864 [39:23<1:42:03,  6.19s/it, batch=6870, gpu_temp=60, loss={'chord': tensor(0.7573, device='cuda:0', grad_fn=<NllLossBackward0>), 'velocity': tensor(0.4192, device='cuda:0', grad_fn=<NllLossBackward0>), 'polyphony': tensor(0.3092, device='cuda:0', grad_fn=<NllLossBackward0>), 'density': tensor(0.3449, device='cuda:0', grad_fn=<NllLossBackward0>), 'piano_roll': tensor(1.0355, device='cuda:0', grad_fn=<NllLoss2DBackward0>), 'total': tensor(2.8661, device='cuda:0', grad_fn=<AddBackward0>)}]"
     ]
    },
    {
     "name": "stdout",
     "output_type": "stream",
     "text": [
      "Generated:  [{'type': 'pitch', 'value': 39}, {'type': 'velocity', 'value': 17}, {'type': 'pitch', 'value': 51}, {'type': 'velocity', 'value': 15}, {'type': 'pitch', 'value': 55}, {'type': 'velocity', 'value': 20}, 'next_frame', 'next_frame', 'next_frame', 'next_frame']\n",
      "Chords:  ['C_M7', 'C_M7', 'C_M7', 'C_M7', 'A_m7', 'A_m7', 'A_m7', 'A_m7', 'F_M', 'F_M', 'F_M', 'F_M', 'G_M', 'G_M', 'G_M', 'G_M', 'C_M7', 'C_M7', 'C_M7', 'C_M7', 'A_m7', 'A_m7', 'A_m7', 'A_m7', 'F_M', 'F_M', 'F_M', 'F_M', 'D_m7', 'D_m7', 'D_m7', 'D_m7']\n"
     ]
    },
    {
     "name": "stderr",
     "output_type": "stream",
     "text": [
      "100%|██████████| 16/16 [00:12<00:00,  1.32it/s]t/s, batch=7360, gpu_temp=60, loss={'chord': tensor(0.7194, device='cuda:0', grad_fn=<NllLossBackward0>), 'velocity': tensor(0.3651, device='cuda:0', grad_fn=<NllLossBackward0>), 'polyphony': tensor(0.2772, device='cuda:0', grad_fn=<NllLossBackward0>), 'density': tensor(0.3161, device='cuda:0', grad_fn=<NllLossBackward0>), 'piano_roll': tensor(1.0168, device='cuda:0', grad_fn=<NllLoss2DBackward0>), 'total': tensor(2.6945, device='cuda:0', grad_fn=<AddBackward0>)}]  \n"
     ]
    },
    {
     "name": "stdout",
     "output_type": "stream",
     "text": [
      "Generated:  [{'type': 'pitch', 'value': 12}, {'type': 'velocity', 'value': 19}, {'type': 'pitch', 'value': 24}, {'type': 'velocity', 'value': 21}, 'next_frame', 'next_frame', 'next_frame', 'next_frame', 'next_frame', 'next_frame']\n",
      "Chords:  ['F_M', 'F_M', 'C_M7', 'C_M7', 'D_m7', 'D_m7', 'D_m7', 'D_m7', 'E_7', 'E_7', 'E_7', 'E_7', 'A_m', 'A_m', 'A_m', 'A_m', 'D_M', 'D_M', 'D_7', 'D_7', 'G_M', 'G_M', 'G_M', 'G_M', 'C_M', 'C_M', 'C_M', 'C_M', 'G_M', 'G_M', 'G_M', 'G_M']\n"
     ]
    },
    {
     "name": "stderr",
     "output_type": "stream",
     "text": [
      "100%|██████████| 10/10 [00:05<00:00,  1.89it/s]\n",
      " 94%|█████████▎| 7366/7864 [42:13<46:40,  5.62s/it, batch=7360, gpu_temp=60, loss={'chord': tensor(0.7194, device='cuda:0', grad_fn=<NllLossBackward0>), 'velocity': tensor(0.3651, device='cuda:0', grad_fn=<NllLossBackward0>), 'polyphony': tensor(0.2772, device='cuda:0', grad_fn=<NllLossBackward0>), 'density': tensor(0.3161, device='cuda:0', grad_fn=<NllLossBackward0>), 'piano_roll': tensor(1.0168, device='cuda:0', grad_fn=<NllLoss2DBackward0>), 'total': tensor(2.6945, device='cuda:0', grad_fn=<AddBackward0>)}]"
     ]
    },
    {
     "name": "stdout",
     "output_type": "stream",
     "text": [
      "Generated:  [{'type': 'pitch', 'value': 39}, {'type': 'velocity', 'value': 17}, {'type': 'pitch', 'value': 51}, {'type': 'velocity', 'value': 15}, {'type': 'pitch', 'value': 55}, {'type': 'velocity', 'value': 20}, 'next_frame', 'next_frame', 'next_frame', 'next_frame']\n",
      "Chords:  ['C_M7', 'C_M7', 'C_M7', 'C_M7', 'A_m7', 'A_m7', 'A_m7', 'A_m7', 'F_M', 'F_M', 'F_M', 'F_M', 'G_M', 'G_M', 'G_M', 'G_M', 'C_M7', 'C_M7', 'C_M7', 'C_M7', 'A_m7', 'A_m7', 'A_m7', 'A_m7', 'C_M7', 'C_M7', 'C_M7', 'C_M7', 'D_m7', 'D_m7', 'D_m7', 'D_m7']\n"
     ]
    },
    {
     "name": "stderr",
     "output_type": "stream",
     "text": [
      "100%|██████████| 16/16 [00:12<00:00,  1.25it/s]t/s, batch=7850, gpu_temp=56, loss={'chord': tensor(0.7758, device='cuda:0', grad_fn=<NllLossBackward0>), 'velocity': tensor(0.3577, device='cuda:0', grad_fn=<NllLossBackward0>), 'polyphony': tensor(0.2221, device='cuda:0', grad_fn=<NllLossBackward0>), 'density': tensor(0.3027, device='cuda:0', grad_fn=<NllLossBackward0>), 'piano_roll': tensor(1.1207, device='cuda:0', grad_fn=<NllLoss2DBackward0>), 'total': tensor(2.7790, device='cuda:0', grad_fn=<AddBackward0>)}]\n"
     ]
    },
    {
     "name": "stdout",
     "output_type": "stream",
     "text": [
      "Generated:  [{'type': 'pitch', 'value': 27}, {'type': 'velocity', 'value': 19}, 'next_frame', 'next_frame', 'next_frame', 'next_frame', {'type': 'pitch', 'value': 34}, {'type': 'velocity', 'value': 19}, 'next_frame', 'next_frame']\n",
      "Chords:  ['D_m7', 'D_m7', 'A_m', 'A_m', 'A_m7', 'A_m7', 'A_m', 'A_m', 'C_M', 'C_M', 'A_m', 'A_m', 'C_M', 'C_M', 'A_m', 'A_m', 'F_M7', 'F_M7', 'G_M', 'G_M', 'C_M', 'C_M', 'A_m', 'A_m', 'D_m7', 'D_m7', 'G_M', 'G_M', 'C_M', 'C_M', 'A_m', 'A_m']\n"
     ]
    },
    {
     "name": "stderr",
     "output_type": "stream",
     "text": [
      "100%|██████████| 10/10 [00:05<00:00,  1.96it/s]\n",
      "100%|█████████▉| 7857/7864 [45:03<00:39,  5.69s/it, batch=7850, gpu_temp=56, loss={'chord': tensor(0.7758, device='cuda:0', grad_fn=<NllLossBackward0>), 'velocity': tensor(0.3577, device='cuda:0', grad_fn=<NllLossBackward0>), 'polyphony': tensor(0.2221, device='cuda:0', grad_fn=<NllLossBackward0>), 'density': tensor(0.3027, device='cuda:0', grad_fn=<NllLossBackward0>), 'piano_roll': tensor(1.1207, device='cuda:0', grad_fn=<NllLoss2DBackward0>), 'total': tensor(2.7790, device='cuda:0', grad_fn=<AddBackward0>)}]"
     ]
    },
    {
     "name": "stdout",
     "output_type": "stream",
     "text": [
      "Generated:  [{'type': 'pitch', 'value': 39}, {'type': 'velocity', 'value': 17}, {'type': 'pitch', 'value': 51}, {'type': 'velocity', 'value': 15}, {'type': 'pitch', 'value': 55}, {'type': 'velocity', 'value': 20}, 'next_frame', 'next_frame', 'next_frame', 'next_frame']\n",
      "Chords:  ['C_M7', 'C_M7', 'C_M7', 'C_M7', 'A_m7', 'A_m7', 'A_m7', 'A_m7', 'F_M', 'F_M', 'F_M', 'F_M', 'G_M', 'G_M', 'G_M', 'G_M', 'C_M7', 'C_M7', 'C_M7', 'C_M7', 'A_m7', 'A_m7', 'A_m7', 'A_m7', 'F_M', 'F_M', 'F_M7', 'F_M7', 'C_M7', 'C_M7', 'C_M7', 'C_M7']\n"
     ]
    },
    {
     "name": "stderr",
     "output_type": "stream",
     "text": [
      "100%|██████████| 7864/7864 [45:06<00:00,  2.91it/s, batch=7860, gpu_temp=57, loss={'chord': tensor(0.8332, device='cuda:0', grad_fn=<NllLossBackward0>), 'velocity': tensor(0.4481, device='cuda:0', grad_fn=<NllLossBackward0>), 'polyphony': tensor(0.2639, device='cuda:0', grad_fn=<NllLossBackward0>), 'density': tensor(0.3276, device='cuda:0', grad_fn=<NllLossBackward0>), 'piano_roll': tensor(1.1599, device='cuda:0', grad_fn=<NllLoss2DBackward0>), 'total': tensor(3.0327, device='cuda:0', grad_fn=<AddBackward0>)}]\n",
      "100%|██████████| 16/16 [00:14<00:00,  1.08it/s]/s, batch=490, gpu_temp=56, loss={'chord': tensor(0.7104, device='cuda:0', grad_fn=<NllLossBackward0>), 'velocity': tensor(0.3868, device='cuda:0', grad_fn=<NllLossBackward0>), 'polyphony': tensor(0.2593, device='cuda:0', grad_fn=<NllLossBackward0>), 'density': tensor(0.3196, device='cuda:0', grad_fn=<NllLossBackward0>), 'piano_roll': tensor(1.0756, device='cuda:0', grad_fn=<NllLoss2DBackward0>), 'total': tensor(2.7518, device='cuda:0', grad_fn=<AddBackward0>)}]\n"
     ]
    },
    {
     "name": "stdout",
     "output_type": "stream",
     "text": [
      "Generated:  [{'type': 'pitch', 'value': 27}, {'type': 'velocity', 'value': 19}, {'type': 'pitch', 'value': 39}, {'type': 'velocity', 'value': 21}, {'type': 'pitch', 'value': 51}, {'type': 'velocity', 'value': 21}, {'type': 'pitch', 'value': 55}, {'type': 'velocity', 'value': 21}, 'next_frame', 'next_frame']\n",
      "Chords:  ['C_M', 'C_M', 'C_M', 'C_M', 'C_M', 'C_M', 'C_M', 'C_M', 'A_m', 'A_m', 'A_m', 'A_m', 'A_m', 'A_m', 'A_m', 'A_m', 'A_m', 'A_m', 'A_m7', 'A_m7', 'F_M', 'F_M', 'F_M', 'F_M', 'G_M', 'G_M', 'G_M', 'G_M', 'A_M', 'A_M', 'A_m', 'A_m']\n"
     ]
    },
    {
     "name": "stderr",
     "output_type": "stream",
     "text": [
      "100%|██████████| 10/10 [00:04<00:00,  2.11it/s]\n",
      "  6%|▋         | 492/7864 [03:05<12:45:58,  6.23s/it, batch=490, gpu_temp=56, loss={'chord': tensor(0.7104, device='cuda:0', grad_fn=<NllLossBackward0>), 'velocity': tensor(0.3868, device='cuda:0', grad_fn=<NllLossBackward0>), 'polyphony': tensor(0.2593, device='cuda:0', grad_fn=<NllLossBackward0>), 'density': tensor(0.3196, device='cuda:0', grad_fn=<NllLossBackward0>), 'piano_roll': tensor(1.0756, device='cuda:0', grad_fn=<NllLoss2DBackward0>), 'total': tensor(2.7518, device='cuda:0', grad_fn=<AddBackward0>)}]"
     ]
    },
    {
     "name": "stdout",
     "output_type": "stream",
     "text": [
      "Generated:  [{'type': 'pitch', 'value': 39}, {'type': 'velocity', 'value': 17}, {'type': 'pitch', 'value': 51}, {'type': 'velocity', 'value': 15}, {'type': 'pitch', 'value': 55}, {'type': 'velocity', 'value': 20}, 'next_frame', 'next_frame', 'next_frame', 'next_frame']\n",
      "Chords:  ['C_M7', 'C_M7', 'C_M7', 'C_M7', 'A_m7', 'A_m7', 'A_m7', 'A_m7', 'F_M', 'F_M', 'F_M', 'F_M', 'G_M', 'G_M', 'G_M', 'G_M', 'C_M7', 'C_M7', 'C_M7', 'C_M7', 'A_m7', 'A_m7', 'A_m7', 'A_m7', 'A_m7', 'A_m7', 'A_m7', 'A_m7', 'F_M', 'F_M', 'F_M', 'F_M']\n"
     ]
    },
    {
     "name": "stderr",
     "output_type": "stream",
     "text": [
      "100%|██████████| 16/16 [00:11<00:00,  1.36it/s]/s, batch=980, gpu_temp=60, loss={'chord': tensor(0.7632, device='cuda:0', grad_fn=<NllLossBackward0>), 'velocity': tensor(0.3496, device='cuda:0', grad_fn=<NllLossBackward0>), 'polyphony': tensor(0.2681, device='cuda:0', grad_fn=<NllLossBackward0>), 'density': tensor(0.2829, device='cuda:0', grad_fn=<NllLossBackward0>), 'piano_roll': tensor(1.0281, device='cuda:0', grad_fn=<NllLoss2DBackward0>), 'total': tensor(2.6918, device='cuda:0', grad_fn=<AddBackward0>)}]   \n"
     ]
    },
    {
     "name": "stdout",
     "output_type": "stream",
     "text": [
      "Generated:  [{'type': 'pitch', 'value': 12}, {'type': 'velocity', 'value': 21}, {'type': 'pitch', 'value': 24}, {'type': 'velocity', 'value': 22}, {'type': 'pitch', 'value': 43}, {'type': 'velocity', 'value': 20}, {'type': 'pitch', 'value': 50}, {'type': 'velocity', 'value': 21}, 'next_frame', 'next_frame']\n",
      "Chords:  ['A_m7', 'A_m7', 'A_m7', 'A_m7', 'D_m7', 'D_m7', 'F_M7', 'F_M7', 'G_M', 'G_M', 'G_M', 'G_M', 'C_M7', 'C_M7', 'C_M7', 'G_M', 'C_M', 'C_M', 'C_M', 'C_M', 'C_M', 'C_M', 'C_M7', 'G_M', 'C_M7', 'C_M7', 'C_M', 'C_M', 'C_M', 'C_M', 'C_M', 'C_M']\n"
     ]
    },
    {
     "name": "stderr",
     "output_type": "stream",
     "text": [
      "100%|██████████| 10/10 [00:05<00:00,  1.92it/s]\n",
      " 12%|█▎        | 983/7864 [05:54<10:22:51,  5.43s/it, batch=980, gpu_temp=60, loss={'chord': tensor(0.7632, device='cuda:0', grad_fn=<NllLossBackward0>), 'velocity': tensor(0.3496, device='cuda:0', grad_fn=<NllLossBackward0>), 'polyphony': tensor(0.2681, device='cuda:0', grad_fn=<NllLossBackward0>), 'density': tensor(0.2829, device='cuda:0', grad_fn=<NllLossBackward0>), 'piano_roll': tensor(1.0281, device='cuda:0', grad_fn=<NllLoss2DBackward0>), 'total': tensor(2.6918, device='cuda:0', grad_fn=<AddBackward0>)}]"
     ]
    },
    {
     "name": "stdout",
     "output_type": "stream",
     "text": [
      "Generated:  [{'type': 'pitch', 'value': 39}, {'type': 'velocity', 'value': 17}, {'type': 'pitch', 'value': 51}, {'type': 'velocity', 'value': 15}, {'type': 'pitch', 'value': 55}, {'type': 'velocity', 'value': 20}, 'next_frame', 'next_frame', 'next_frame', 'next_frame']\n",
      "Chords:  ['C_M7', 'C_M7', 'C_M7', 'C_M7', 'A_m7', 'A_m7', 'A_m7', 'A_m7', 'F_M', 'F_M', 'F_M', 'F_M', 'G_M', 'G_M', 'G_M', 'G_M', 'C_M7', 'C_M7', 'C_M7', 'C_M7', 'A_m7', 'A_m7', 'A_m7', 'A_m7', 'F_M', 'F_M', 'F_M', 'F_M', 'C_+', 'C_+', 'C_M', 'C_M']\n"
     ]
    },
    {
     "name": "stderr",
     "output_type": "stream",
     "text": [
      "100%|██████████| 16/16 [00:10<00:00,  1.50it/s]t/s, batch=1470, gpu_temp=56, loss={'chord': tensor(0.7841, device='cuda:0', grad_fn=<NllLossBackward0>), 'velocity': tensor(0.3469, device='cuda:0', grad_fn=<NllLossBackward0>), 'polyphony': tensor(0.2842, device='cuda:0', grad_fn=<NllLossBackward0>), 'density': tensor(0.3344, device='cuda:0', grad_fn=<NllLossBackward0>), 'piano_roll': tensor(1.0251, device='cuda:0', grad_fn=<NllLoss2DBackward0>), 'total': tensor(2.7747, device='cuda:0', grad_fn=<AddBackward0>)}]  \n"
     ]
    },
    {
     "name": "stdout",
     "output_type": "stream",
     "text": [
      "Generated:  [{'type': 'pitch', 'value': 12}, {'type': 'velocity', 'value': 21}, {'type': 'pitch', 'value': 24}, {'type': 'velocity', 'value': 22}, 'next_frame', 'next_frame', 'next_frame', 'next_frame', {'type': 'pitch', 'value': 43}, {'type': 'velocity', 'value': 20}]\n",
      "Chords:  ['C_M', 'C_M', 'C_M7', 'C_M7', 'None', 'None', 'A_m', 'A_m', 'None', 'None', 'F_M', 'F_M', 'F_M', 'F_M', 'F_M7', 'F_M7', 'F_M', 'F_M', 'F_M7', 'F_M7', 'F_M7', 'F_M7', 'F_M7', 'F_M7', 'C_M', 'C_M', 'C_M', 'C_M', 'C_M', 'C_M', 'C_sus2', 'C_sus2']\n"
     ]
    },
    {
     "name": "stderr",
     "output_type": "stream",
     "text": [
      "100%|██████████| 10/10 [00:05<00:00,  1.99it/s]\n",
      " 19%|█▊        | 1474/7864 [08:46<9:01:47,  5.09s/it, batch=1470, gpu_temp=56, loss={'chord': tensor(0.7841, device='cuda:0', grad_fn=<NllLossBackward0>), 'velocity': tensor(0.3469, device='cuda:0', grad_fn=<NllLossBackward0>), 'polyphony': tensor(0.2842, device='cuda:0', grad_fn=<NllLossBackward0>), 'density': tensor(0.3344, device='cuda:0', grad_fn=<NllLossBackward0>), 'piano_roll': tensor(1.0251, device='cuda:0', grad_fn=<NllLoss2DBackward0>), 'total': tensor(2.7747, device='cuda:0', grad_fn=<AddBackward0>)}]"
     ]
    },
    {
     "name": "stdout",
     "output_type": "stream",
     "text": [
      "Generated:  [{'type': 'pitch', 'value': 39}, {'type': 'velocity', 'value': 17}, {'type': 'pitch', 'value': 51}, {'type': 'velocity', 'value': 15}, {'type': 'pitch', 'value': 55}, {'type': 'velocity', 'value': 20}, 'next_frame', 'next_frame', 'next_frame', 'next_frame']\n",
      "Chords:  ['C_M7', 'C_M7', 'C_M7', 'C_M7', 'A_m7', 'A_m7', 'A_m7', 'A_m7', 'F_M', 'F_M', 'F_M', 'F_M', 'G_M', 'G_M', 'G_M', 'G_M', 'C_M7', 'C_M7', 'C_M7', 'C_M7', 'A_m7', 'A_m7', 'A_m7', 'A_m7', 'F_M7', 'F_M7', 'F_M', 'F_M', 'G_7', 'G_7', 'G_M', 'G_M']\n"
     ]
    },
    {
     "name": "stderr",
     "output_type": "stream",
     "text": [
      "100%|██████████| 16/16 [00:11<00:00,  1.34it/s]t/s, batch=1960, gpu_temp=60, loss={'chord': tensor(0.6707, device='cuda:0', grad_fn=<NllLossBackward0>), 'velocity': tensor(0.3152, device='cuda:0', grad_fn=<NllLossBackward0>), 'polyphony': tensor(0.2804, device='cuda:0', grad_fn=<NllLossBackward0>), 'density': tensor(0.3141, device='cuda:0', grad_fn=<NllLossBackward0>), 'piano_roll': tensor(1.0001, device='cuda:0', grad_fn=<NllLoss2DBackward0>), 'total': tensor(2.5806, device='cuda:0', grad_fn=<AddBackward0>)}]  \n"
     ]
    },
    {
     "name": "stdout",
     "output_type": "stream",
     "text": [
      "Generated:  [{'type': 'pitch', 'value': 15}, {'type': 'velocity', 'value': 20}, {'type': 'pitch', 'value': 48}, {'type': 'velocity', 'value': 23}, {'type': 'pitch', 'value': 60}, {'type': 'velocity', 'value': 23}, 'next_frame', 'next_frame', 'next_frame', 'next_frame']\n",
      "Chords:  ['A_m', 'A_m', 'A_m', 'A_m', 'A_m', 'A_m', 'A_o', 'G_M', 'F_M', 'F_M', 'F_M7', 'F_M7', 'A_m7', 'A_m7', 'A_M', 'A_M', 'A_M', 'A_M', 'A_m', 'A_m', 'A_m', 'C_M', 'C_M', 'C_M', 'F_M7', 'F_M7', 'F_M7', 'F_M7', 'D_m7', 'D_m7', 'D_sus2', 'D_sus2']\n"
     ]
    },
    {
     "name": "stderr",
     "output_type": "stream",
     "text": [
      "100%|██████████| 10/10 [00:04<00:00,  2.03it/s]\n",
      " 25%|██▍       | 1965/7864 [11:32<8:48:12,  5.37s/it, batch=1960, gpu_temp=60, loss={'chord': tensor(0.6707, device='cuda:0', grad_fn=<NllLossBackward0>), 'velocity': tensor(0.3152, device='cuda:0', grad_fn=<NllLossBackward0>), 'polyphony': tensor(0.2804, device='cuda:0', grad_fn=<NllLossBackward0>), 'density': tensor(0.3141, device='cuda:0', grad_fn=<NllLossBackward0>), 'piano_roll': tensor(1.0001, device='cuda:0', grad_fn=<NllLoss2DBackward0>), 'total': tensor(2.5806, device='cuda:0', grad_fn=<AddBackward0>)}]"
     ]
    },
    {
     "name": "stdout",
     "output_type": "stream",
     "text": [
      "Generated:  [{'type': 'pitch', 'value': 39}, {'type': 'velocity', 'value': 17}, {'type': 'pitch', 'value': 51}, {'type': 'velocity', 'value': 15}, {'type': 'pitch', 'value': 55}, {'type': 'velocity', 'value': 20}, 'next_frame', 'next_frame', 'next_frame', 'next_frame']\n",
      "Chords:  ['C_M7', 'C_M7', 'C_M7', 'C_M7', 'A_m7', 'A_m7', 'A_m7', 'A_m7', 'F_M', 'F_M', 'F_M', 'F_M', 'G_M', 'G_M', 'G_M', 'G_M', 'C_M7', 'C_M7', 'C_M7', 'C_M7', 'A_m7', 'A_m7', 'A_m7', 'A_m7', 'F_M', 'F_M', 'F_M', 'F_M', 'G_7', 'G_7', 'G_M', 'G_M']\n"
     ]
    },
    {
     "name": "stderr",
     "output_type": "stream",
     "text": [
      "100%|██████████| 16/16 [00:11<00:00,  1.44it/s]t/s, batch=2450, gpu_temp=56, loss={'chord': tensor(0.7014, device='cuda:0', grad_fn=<NllLossBackward0>), 'velocity': tensor(0.3641, device='cuda:0', grad_fn=<NllLossBackward0>), 'polyphony': tensor(0.2754, device='cuda:0', grad_fn=<NllLossBackward0>), 'density': tensor(0.3583, device='cuda:0', grad_fn=<NllLossBackward0>), 'piano_roll': tensor(1.0555, device='cuda:0', grad_fn=<NllLoss2DBackward0>), 'total': tensor(2.7547, device='cuda:0', grad_fn=<AddBackward0>)}]  \n"
     ]
    },
    {
     "name": "stdout",
     "output_type": "stream",
     "text": [
      "Generated:  [{'type': 'pitch', 'value': 8}, {'type': 'velocity', 'value': 17}, {'type': 'pitch', 'value': 20}, {'type': 'velocity', 'value': 19}, 'next_frame', 'next_frame', 'next_frame', 'next_frame', {'type': 'pitch', 'value': 8}, {'type': 'velocity', 'value': 17}]\n",
      "Chords:  ['D_o', 'D_o', 'G_7', 'G_7', 'A_m7', 'A_m7', 'A_m', 'A_m', 'D_m7', 'D_m7', 'G_7', 'G_7', 'C_M7', 'C_M7', 'C_M', 'C_M', 'C_M', 'C_M', 'G_M', 'G_M', 'A_m', 'A_m', 'A_m7', 'A_m7', 'D_m7', 'D_m7', 'G_M', 'G_M', 'C_M', 'C_M', 'C_M', 'C_M']\n"
     ]
    },
    {
     "name": "stderr",
     "output_type": "stream",
     "text": [
      "100%|██████████| 10/10 [00:05<00:00,  2.00it/s]\n",
      " 31%|███       | 2456/7864 [14:21<7:51:53,  5.24s/it, batch=2450, gpu_temp=56, loss={'chord': tensor(0.7014, device='cuda:0', grad_fn=<NllLossBackward0>), 'velocity': tensor(0.3641, device='cuda:0', grad_fn=<NllLossBackward0>), 'polyphony': tensor(0.2754, device='cuda:0', grad_fn=<NllLossBackward0>), 'density': tensor(0.3583, device='cuda:0', grad_fn=<NllLossBackward0>), 'piano_roll': tensor(1.0555, device='cuda:0', grad_fn=<NllLoss2DBackward0>), 'total': tensor(2.7547, device='cuda:0', grad_fn=<AddBackward0>)}]"
     ]
    },
    {
     "name": "stdout",
     "output_type": "stream",
     "text": [
      "Generated:  [{'type': 'pitch', 'value': 39}, {'type': 'velocity', 'value': 17}, {'type': 'pitch', 'value': 51}, {'type': 'velocity', 'value': 15}, {'type': 'pitch', 'value': 55}, {'type': 'velocity', 'value': 20}, 'next_frame', 'next_frame', 'next_frame', 'next_frame']\n",
      "Chords:  ['C_M7', 'C_M7', 'C_M7', 'C_M7', 'A_m7', 'A_m7', 'A_m7', 'A_m7', 'F_M', 'F_M', 'F_M', 'F_M', 'G_M', 'G_M', 'G_M', 'G_M', 'C_M7', 'C_M7', 'C_M7', 'C_M7', 'A_m7', 'A_m7', 'A_m7', 'A_m7', 'F_M7', 'F_M7', 'F_M7', 'F_M7', 'G_7', 'G_7', 'G_M', 'G_M']\n"
     ]
    },
    {
     "name": "stderr",
     "output_type": "stream",
     "text": [
      "100%|██████████| 16/16 [00:10<00:00,  1.55it/s]t/s, batch=2940, gpu_temp=61, loss={'chord': tensor(0.7706, device='cuda:0', grad_fn=<NllLossBackward0>), 'velocity': tensor(0.3788, device='cuda:0', grad_fn=<NllLossBackward0>), 'polyphony': tensor(0.2696, device='cuda:0', grad_fn=<NllLossBackward0>), 'density': tensor(0.2870, device='cuda:0', grad_fn=<NllLossBackward0>), 'piano_roll': tensor(0.9804, device='cuda:0', grad_fn=<NllLoss2DBackward0>), 'total': tensor(2.6864, device='cuda:0', grad_fn=<AddBackward0>)}]  \n"
     ]
    },
    {
     "name": "stdout",
     "output_type": "stream",
     "text": [
      "Generated:  [{'type': 'pitch', 'value': 22}, {'type': 'velocity', 'value': 17}, {'type': 'pitch', 'value': 29}, {'type': 'velocity', 'value': 18}, {'type': 'pitch', 'value': 34}, {'type': 'velocity', 'value': 19}, {'type': 'pitch', 'value': 46}, {'type': 'velocity', 'value': 21}, {'type': 'pitch', 'value': 58}, {'type': 'velocity', 'value': 21}]\n",
      "Chords:  ['A_m7', 'A_m7', 'E_m7', 'E_m7', 'F_M', 'F_M', 'F_M', 'F_M', 'E_m7', 'E_m7', 'G_7', 'G_7', 'C_M7', 'C_M7', 'C_M7', 'C_M7', 'C_M', 'C_M', 'C_M7', 'C_M7', 'F_M', 'F_M', 'F_M', 'F_M', 'D_m7', 'D_m7', 'D_m7', 'D_m7', 'E_M', 'E_M', 'E_M', 'E_M']\n"
     ]
    },
    {
     "name": "stderr",
     "output_type": "stream",
     "text": [
      "100%|██████████| 10/10 [00:04<00:00,  2.07it/s]\n",
      " 37%|███▋      | 2947/7864 [17:12<6:38:43,  4.87s/it, batch=2940, gpu_temp=61, loss={'chord': tensor(0.7706, device='cuda:0', grad_fn=<NllLossBackward0>), 'velocity': tensor(0.3788, device='cuda:0', grad_fn=<NllLossBackward0>), 'polyphony': tensor(0.2696, device='cuda:0', grad_fn=<NllLossBackward0>), 'density': tensor(0.2870, device='cuda:0', grad_fn=<NllLossBackward0>), 'piano_roll': tensor(0.9804, device='cuda:0', grad_fn=<NllLoss2DBackward0>), 'total': tensor(2.6864, device='cuda:0', grad_fn=<AddBackward0>)}]"
     ]
    },
    {
     "name": "stdout",
     "output_type": "stream",
     "text": [
      "Generated:  [{'type': 'pitch', 'value': 39}, {'type': 'velocity', 'value': 17}, {'type': 'pitch', 'value': 51}, {'type': 'velocity', 'value': 15}, {'type': 'pitch', 'value': 55}, {'type': 'velocity', 'value': 20}, 'next_frame', 'next_frame', 'next_frame', 'next_frame']\n",
      "Chords:  ['C_M7', 'C_M7', 'C_M7', 'C_M7', 'A_m7', 'A_m7', 'A_m7', 'A_m7', 'F_M', 'F_M', 'F_M', 'F_M', 'G_M', 'G_M', 'G_M', 'G_M', 'C_M7', 'C_M7', 'C_M7', 'C_M7', 'A_m7', 'A_m7', 'A_m7', 'A_m7', 'F_M', 'F_M', 'F_M', 'F_M', 'G_sus4', 'G_sus4', 'G_M', 'G_M']\n"
     ]
    },
    {
     "name": "stderr",
     "output_type": "stream",
     "text": [
      "100%|██████████| 16/16 [00:12<00:00,  1.31it/s]t/s, batch=3430, gpu_temp=61, loss={'chord': tensor(0.7136, device='cuda:0', grad_fn=<NllLossBackward0>), 'velocity': tensor(0.3258, device='cuda:0', grad_fn=<NllLossBackward0>), 'polyphony': tensor(0.2371, device='cuda:0', grad_fn=<NllLossBackward0>), 'density': tensor(0.3265, device='cuda:0', grad_fn=<NllLossBackward0>), 'piano_roll': tensor(0.9976, device='cuda:0', grad_fn=<NllLoss2DBackward0>), 'total': tensor(2.6006, device='cuda:0', grad_fn=<AddBackward0>)}]  \n"
     ]
    },
    {
     "name": "stdout",
     "output_type": "stream",
     "text": [
      "Generated:  [{'type': 'pitch', 'value': 15}, {'type': 'velocity', 'value': 21}, {'type': 'pitch', 'value': 27}, {'type': 'velocity', 'value': 23}, {'type': 'pitch', 'value': 43}, {'type': 'velocity', 'value': 22}, {'type': 'pitch', 'value': 46}, {'type': 'velocity', 'value': 20}, {'type': 'pitch', 'value': 53}, {'type': 'velocity', 'value': 23}]\n",
      "Chords:  ['G_M', 'G_M', 'G_M', 'G_M', 'E_m7', 'E_m7', 'E_m7', 'E_m7', 'A_m7', 'A_m7', 'A_m7', 'A_m7', 'D_o', 'D_o', 'D_m7', 'D_m7', 'G_sus4', 'G_sus4', 'G_sus4', 'G_sus4', 'C_M', 'C_M', 'C_sus4', 'C_sus4', 'C_M', 'C_M', 'C_M', 'C_M', 'C_7', 'C_7', 'C_M', 'C_M']\n"
     ]
    },
    {
     "name": "stderr",
     "output_type": "stream",
     "text": [
      "100%|██████████| 10/10 [00:05<00:00,  1.94it/s]\n",
      " 44%|████▎     | 3438/7864 [20:08<6:50:45,  5.57s/it, batch=3430, gpu_temp=61, loss={'chord': tensor(0.7136, device='cuda:0', grad_fn=<NllLossBackward0>), 'velocity': tensor(0.3258, device='cuda:0', grad_fn=<NllLossBackward0>), 'polyphony': tensor(0.2371, device='cuda:0', grad_fn=<NllLossBackward0>), 'density': tensor(0.3265, device='cuda:0', grad_fn=<NllLossBackward0>), 'piano_roll': tensor(0.9976, device='cuda:0', grad_fn=<NllLoss2DBackward0>), 'total': tensor(2.6006, device='cuda:0', grad_fn=<AddBackward0>)}]"
     ]
    },
    {
     "name": "stdout",
     "output_type": "stream",
     "text": [
      "Generated:  [{'type': 'pitch', 'value': 39}, {'type': 'velocity', 'value': 17}, {'type': 'pitch', 'value': 51}, {'type': 'velocity', 'value': 15}, {'type': 'pitch', 'value': 55}, {'type': 'velocity', 'value': 20}, 'next_frame', 'next_frame', 'next_frame', 'next_frame']\n",
      "Chords:  ['C_M7', 'C_M7', 'C_M7', 'C_M7', 'A_m7', 'A_m7', 'A_m7', 'A_m7', 'F_M', 'F_M', 'F_M', 'F_M', 'G_M', 'G_M', 'G_M', 'G_M', 'C_M7', 'C_M7', 'C_M7', 'C_M7', 'A_m7', 'A_m7', 'A_m7', 'A_m7', 'F_M', 'F_M', 'F_M', 'F_M', 'F_M7', 'F_M7', 'F_M7', 'F_M7']\n"
     ]
    },
    {
     "name": "stderr",
     "output_type": "stream",
     "text": [
      "100%|██████████| 16/16 [00:10<00:00,  1.49it/s]t/s, batch=3920, gpu_temp=64, loss={'chord': tensor(0.7674, device='cuda:0', grad_fn=<NllLossBackward0>), 'velocity': tensor(0.3648, device='cuda:0', grad_fn=<NllLossBackward0>), 'polyphony': tensor(0.2050, device='cuda:0', grad_fn=<NllLossBackward0>), 'density': tensor(0.2810, device='cuda:0', grad_fn=<NllLossBackward0>), 'piano_roll': tensor(1.0358, device='cuda:0', grad_fn=<NllLoss2DBackward0>), 'total': tensor(2.6539, device='cuda:0', grad_fn=<AddBackward0>)}]  \n"
     ]
    },
    {
     "name": "stdout",
     "output_type": "stream",
     "text": [
      "Generated:  [{'type': 'pitch', 'value': 19}, {'type': 'velocity', 'value': 19}, {'type': 'pitch', 'value': 51}, {'type': 'velocity', 'value': 23}, {'type': 'pitch', 'value': 63}, {'type': 'velocity', 'value': 23}, 'next_frame', 'next_frame', 'next_frame', 'next_frame']\n",
      "Chords:  ['G_M', 'G_M', 'C_M7', 'C_M7', 'D_m', 'D_m', 'E_7', 'E_7', 'A_m', 'A_m', 'A_m', 'A_m', 'D_m7', 'D_m7', 'G_M', 'G_M', 'C_M', 'C_M', 'C_M', 'C_M', 'G_M', 'G_M', 'G_M', 'C_+', 'A_m', 'A_m', 'A_m', 'A_m', 'G_M', 'G_M', 'C_M', 'C_M']\n"
     ]
    },
    {
     "name": "stderr",
     "output_type": "stream",
     "text": [
      "100%|██████████| 10/10 [00:04<00:00,  2.12it/s]\n",
      " 50%|████▉     | 3929/7864 [22:59<5:28:17,  5.01s/it, batch=3920, gpu_temp=64, loss={'chord': tensor(0.7674, device='cuda:0', grad_fn=<NllLossBackward0>), 'velocity': tensor(0.3648, device='cuda:0', grad_fn=<NllLossBackward0>), 'polyphony': tensor(0.2050, device='cuda:0', grad_fn=<NllLossBackward0>), 'density': tensor(0.2810, device='cuda:0', grad_fn=<NllLossBackward0>), 'piano_roll': tensor(1.0358, device='cuda:0', grad_fn=<NllLoss2DBackward0>), 'total': tensor(2.6539, device='cuda:0', grad_fn=<AddBackward0>)}]"
     ]
    },
    {
     "name": "stdout",
     "output_type": "stream",
     "text": [
      "Generated:  [{'type': 'pitch', 'value': 39}, {'type': 'velocity', 'value': 17}, {'type': 'pitch', 'value': 51}, {'type': 'velocity', 'value': 15}, {'type': 'pitch', 'value': 55}, {'type': 'velocity', 'value': 20}, 'next_frame', 'next_frame', 'next_frame', 'next_frame']\n",
      "Chords:  ['C_M7', 'C_M7', 'C_M7', 'C_M7', 'A_m7', 'A_m7', 'A_m7', 'A_m7', 'F_M', 'F_M', 'F_M', 'F_M', 'G_M', 'G_M', 'G_M', 'G_M', 'C_M7', 'C_M7', 'C_M7', 'C_M7', 'A_m7', 'A_m7', 'A_m7', 'A_m7', 'F_M', 'F_M', 'F_M', 'F_M', 'F_M7', 'C_M', 'C_M', 'C_M']\n"
     ]
    },
    {
     "name": "stderr",
     "output_type": "stream",
     "text": [
      "100%|██████████| 16/16 [00:15<00:00,  1.04it/s]t/s, batch=4410, gpu_temp=56, loss={'chord': tensor(0.7185, device='cuda:0', grad_fn=<NllLossBackward0>), 'velocity': tensor(0.3008, device='cuda:0', grad_fn=<NllLossBackward0>), 'polyphony': tensor(0.2655, device='cuda:0', grad_fn=<NllLossBackward0>), 'density': tensor(0.3027, device='cuda:0', grad_fn=<NllLossBackward0>), 'piano_roll': tensor(1.1236, device='cuda:0', grad_fn=<NllLoss2DBackward0>), 'total': tensor(2.7110, device='cuda:0', grad_fn=<AddBackward0>)}]  \n"
     ]
    },
    {
     "name": "stdout",
     "output_type": "stream",
     "text": [
      "Generated:  [{'type': 'pitch', 'value': 20}, {'type': 'velocity', 'value': 20}, {'type': 'pitch', 'value': 32}, {'type': 'velocity', 'value': 21}, {'type': 'pitch', 'value': 51}, {'type': 'velocity', 'value': 22}, 'next_frame', 'next_frame', 'next_frame', 'next_frame']\n",
      "Chords:  ['E_M', 'E_M', 'E_m7', 'E_m7', 'E_M', 'E_M', 'F_M', 'F_M', 'E_M', 'E_M', 'F_M', 'F_M', 'E_M', 'E_M', 'F_M', 'F_M', 'E_M', 'E_M', 'F_M', 'F_M', 'E_M', 'E_M', 'F_M', 'F_M', 'E_M', 'E_M', 'F_M', 'F_M', 'E_M', 'E_M', 'F_M', 'F_M']\n"
     ]
    },
    {
     "name": "stderr",
     "output_type": "stream",
     "text": [
      "100%|██████████| 10/10 [00:04<00:00,  2.03it/s]\n",
      " 56%|█████▌    | 4420/7864 [25:53<6:08:37,  6.42s/it, batch=4410, gpu_temp=56, loss={'chord': tensor(0.7185, device='cuda:0', grad_fn=<NllLossBackward0>), 'velocity': tensor(0.3008, device='cuda:0', grad_fn=<NllLossBackward0>), 'polyphony': tensor(0.2655, device='cuda:0', grad_fn=<NllLossBackward0>), 'density': tensor(0.3027, device='cuda:0', grad_fn=<NllLossBackward0>), 'piano_roll': tensor(1.1236, device='cuda:0', grad_fn=<NllLoss2DBackward0>), 'total': tensor(2.7110, device='cuda:0', grad_fn=<AddBackward0>)}]"
     ]
    },
    {
     "name": "stdout",
     "output_type": "stream",
     "text": [
      "Generated:  [{'type': 'pitch', 'value': 39}, {'type': 'velocity', 'value': 17}, {'type': 'pitch', 'value': 51}, {'type': 'velocity', 'value': 15}, {'type': 'pitch', 'value': 55}, {'type': 'velocity', 'value': 20}, 'next_frame', 'next_frame', 'next_frame', 'next_frame']\n",
      "Chords:  ['C_M7', 'C_M7', 'C_M7', 'C_M7', 'A_m7', 'A_m7', 'A_m7', 'A_m7', 'F_M', 'F_M', 'F_M', 'F_M', 'G_M', 'G_M', 'G_M', 'G_M', 'C_M7', 'C_M7', 'C_M7', 'C_M7', 'A_m7', 'A_m7', 'A_m7', 'A_m7', 'F_M7', 'F_M7', 'F_M7', 'F_M7', 'C_M7', 'C_M7', 'C_M7', 'C_M7']\n"
     ]
    },
    {
     "name": "stderr",
     "output_type": "stream",
     "text": [
      "100%|██████████| 16/16 [00:13<00:00,  1.18it/s]t/s, batch=4910, gpu_temp=56, loss={'chord': tensor(0.7580, device='cuda:0', grad_fn=<NllLossBackward0>), 'velocity': tensor(0.3452, device='cuda:0', grad_fn=<NllLossBackward0>), 'polyphony': tensor(0.2999, device='cuda:0', grad_fn=<NllLossBackward0>), 'density': tensor(0.3297, device='cuda:0', grad_fn=<NllLossBackward0>), 'piano_roll': tensor(1.0438, device='cuda:0', grad_fn=<NllLoss2DBackward0>), 'total': tensor(2.7766, device='cuda:0', grad_fn=<AddBackward0>)}]  \n"
     ]
    },
    {
     "name": "stdout",
     "output_type": "stream",
     "text": [
      "Generated:  [{'type': 'pitch', 'value': 20}, {'type': 'velocity', 'value': 19}, {'type': 'pitch', 'value': 44}, {'type': 'velocity', 'value': 20}, {'type': 'pitch', 'value': 48}, {'type': 'velocity', 'value': 21}, 'next_frame', 'next_frame', 'next_frame', 'next_frame']\n",
      "Chords:  ['G_M', 'G_M', 'G_M', 'G_M', 'C_M', 'C_M', 'C_M', 'C_M', 'G_M', 'G_M', 'G_M', 'G_M', 'A_m', 'A_m', 'A_m', 'A_m', 'E_m7', 'E_m7', 'G_M', 'G_M', 'E_m7', 'E_m7', 'C_M7', 'C_M7', 'A_m7', 'A_m7', 'A_m', 'A_m', 'F_M7', 'F_M7', 'D_m7', 'D_m7']\n"
     ]
    },
    {
     "name": "stderr",
     "output_type": "stream",
     "text": [
      "100%|██████████| 10/10 [00:04<00:00,  2.01it/s]\n",
      " 62%|██████▏   | 4911/7864 [28:40<4:53:10,  5.96s/it, batch=4910, gpu_temp=56, loss={'chord': tensor(0.7580, device='cuda:0', grad_fn=<NllLossBackward0>), 'velocity': tensor(0.3452, device='cuda:0', grad_fn=<NllLossBackward0>), 'polyphony': tensor(0.2999, device='cuda:0', grad_fn=<NllLossBackward0>), 'density': tensor(0.3297, device='cuda:0', grad_fn=<NllLossBackward0>), 'piano_roll': tensor(1.0438, device='cuda:0', grad_fn=<NllLoss2DBackward0>), 'total': tensor(2.7766, device='cuda:0', grad_fn=<AddBackward0>)}]"
     ]
    },
    {
     "name": "stdout",
     "output_type": "stream",
     "text": [
      "Generated:  [{'type': 'pitch', 'value': 39}, {'type': 'velocity', 'value': 17}, {'type': 'pitch', 'value': 51}, {'type': 'velocity', 'value': 15}, {'type': 'pitch', 'value': 55}, {'type': 'velocity', 'value': 20}, 'next_frame', 'next_frame', 'next_frame', 'next_frame']\n",
      "Chords:  ['C_M7', 'C_M7', 'C_M7', 'C_M7', 'A_m7', 'A_m7', 'A_m7', 'A_m7', 'F_M', 'F_M', 'F_M', 'F_M', 'G_M', 'G_M', 'G_M', 'G_M', 'C_M7', 'C_M7', 'C_M7', 'C_M7', 'A_m7', 'A_m7', 'A_m7', 'A_m7', 'C_M7', 'C_M7', 'C_M7', 'C_M7', 'C_M7', 'C_M7', 'C_M7', 'C_M7']\n"
     ]
    },
    {
     "name": "stderr",
     "output_type": "stream",
     "text": [
      "100%|██████████| 16/16 [00:11<00:00,  1.41it/s]t/s, batch=5400, gpu_temp=61, loss={'chord': tensor(0.8205, device='cuda:0', grad_fn=<NllLossBackward0>), 'velocity': tensor(0.4913, device='cuda:0', grad_fn=<NllLossBackward0>), 'polyphony': tensor(0.2672, device='cuda:0', grad_fn=<NllLossBackward0>), 'density': tensor(0.3196, device='cuda:0', grad_fn=<NllLossBackward0>), 'piano_roll': tensor(0.9939, device='cuda:0', grad_fn=<NllLoss2DBackward0>), 'total': tensor(2.8925, device='cuda:0', grad_fn=<AddBackward0>)}]  \n"
     ]
    },
    {
     "name": "stdout",
     "output_type": "stream",
     "text": [
      "Generated:  [{'type': 'pitch', 'value': 24}, {'type': 'velocity', 'value': 19}, {'type': 'pitch', 'value': 48}, {'type': 'velocity', 'value': 22}, 'next_frame', 'next_frame', 'next_frame', 'next_frame', 'next_frame', 'next_frame']\n",
      "Chords:  ['C_M', 'C_M', 'C_M', 'C_M', 'G_M', 'G_M', 'G_M', 'G_M', 'A_m', 'A_m', 'A_m', 'A_m', 'E_m', 'E_m', 'E_m7', 'E_m7', 'F_M7', 'F_M7', 'F_M7', 'F_M7', 'G_M', 'G_M', 'G_M', 'G_M', 'C_M', 'C_M', 'C_M', 'C_M', 'A_M', 'A_M', 'A_m7', 'A_m7']\n"
     ]
    },
    {
     "name": "stderr",
     "output_type": "stream",
     "text": [
      "100%|██████████| 10/10 [00:04<00:00,  2.12it/s]\n",
      " 69%|██████▊   | 5402/7864 [31:26<3:31:04,  5.14s/it, batch=5400, gpu_temp=61, loss={'chord': tensor(0.8205, device='cuda:0', grad_fn=<NllLossBackward0>), 'velocity': tensor(0.4913, device='cuda:0', grad_fn=<NllLossBackward0>), 'polyphony': tensor(0.2672, device='cuda:0', grad_fn=<NllLossBackward0>), 'density': tensor(0.3196, device='cuda:0', grad_fn=<NllLossBackward0>), 'piano_roll': tensor(0.9939, device='cuda:0', grad_fn=<NllLoss2DBackward0>), 'total': tensor(2.8925, device='cuda:0', grad_fn=<AddBackward0>)}]"
     ]
    },
    {
     "name": "stdout",
     "output_type": "stream",
     "text": [
      "Generated:  [{'type': 'pitch', 'value': 39}, {'type': 'velocity', 'value': 17}, {'type': 'pitch', 'value': 51}, {'type': 'velocity', 'value': 15}, {'type': 'pitch', 'value': 55}, {'type': 'velocity', 'value': 20}, 'next_frame', 'next_frame', 'next_frame', 'next_frame']\n",
      "Chords:  ['C_M7', 'C_M7', 'C_M7', 'C_M7', 'A_m7', 'A_m7', 'A_m7', 'A_m7', 'F_M', 'F_M', 'F_M', 'F_M', 'G_M', 'G_M', 'G_M', 'G_M', 'C_M7', 'C_M7', 'C_M7', 'C_M7', 'A_m7', 'A_m7', 'A_m7', 'A_m7', 'F_M', 'F_M', 'F_M', 'F_M', 'C_M7', 'C_M7', 'C_M7', 'C_M7']\n"
     ]
    },
    {
     "name": "stderr",
     "output_type": "stream",
     "text": [
      "100%|██████████| 16/16 [00:13<00:00,  1.21it/s]t/s, batch=5890, gpu_temp=56, loss={'chord': tensor(0.7695, device='cuda:0', grad_fn=<NllLossBackward0>), 'velocity': tensor(0.3393, device='cuda:0', grad_fn=<NllLossBackward0>), 'polyphony': tensor(0.2624, device='cuda:0', grad_fn=<NllLossBackward0>), 'density': tensor(0.3078, device='cuda:0', grad_fn=<NllLossBackward0>), 'piano_roll': tensor(1.0871, device='cuda:0', grad_fn=<NllLoss2DBackward0>), 'total': tensor(2.7662, device='cuda:0', grad_fn=<AddBackward0>)}]  \n"
     ]
    },
    {
     "name": "stdout",
     "output_type": "stream",
     "text": [
      "Generated:  [{'type': 'pitch', 'value': 12}, {'type': 'velocity', 'value': 18}, 'next_frame', 'next_frame', 'next_frame', 'next_frame', {'type': 'pitch', 'value': 19}, {'type': 'velocity', 'value': 19}, {'type': 'pitch', 'value': 43}, {'type': 'velocity', 'value': 21}]\n",
      "Chords:  ['F_M7', 'F_M7', 'F_M7', 'F_M7', 'C_M', 'C_M', 'C_M', 'C_M', 'G_M', 'G_M', 'G_M', 'G_M', 'G_M', 'G_M', 'G_m7', 'C_M', 'F_M7', 'F_M7', 'F_M7', 'F_M7', 'C_M', 'C_M', 'C_M7', 'C_M7', 'G_M', 'G_M', 'E_m7', 'E_m7', 'F_M7', 'F_M7', 'F_M7', 'F_M7']\n"
     ]
    },
    {
     "name": "stderr",
     "output_type": "stream",
     "text": [
      "100%|██████████| 10/10 [00:05<00:00,  1.68it/s]\n",
      " 75%|███████▍  | 5893/7864 [34:19<3:21:22,  6.13s/it, batch=5890, gpu_temp=56, loss={'chord': tensor(0.7695, device='cuda:0', grad_fn=<NllLossBackward0>), 'velocity': tensor(0.3393, device='cuda:0', grad_fn=<NllLossBackward0>), 'polyphony': tensor(0.2624, device='cuda:0', grad_fn=<NllLossBackward0>), 'density': tensor(0.3078, device='cuda:0', grad_fn=<NllLossBackward0>), 'piano_roll': tensor(1.0871, device='cuda:0', grad_fn=<NllLoss2DBackward0>), 'total': tensor(2.7662, device='cuda:0', grad_fn=<AddBackward0>)}]"
     ]
    },
    {
     "name": "stdout",
     "output_type": "stream",
     "text": [
      "Generated:  [{'type': 'pitch', 'value': 39}, {'type': 'velocity', 'value': 17}, {'type': 'pitch', 'value': 51}, {'type': 'velocity', 'value': 15}, {'type': 'pitch', 'value': 55}, {'type': 'velocity', 'value': 20}, 'next_frame', 'next_frame', 'next_frame', 'next_frame']\n",
      "Chords:  ['C_M7', 'C_M7', 'C_M7', 'C_M7', 'A_m7', 'A_m7', 'A_m7', 'A_m7', 'F_M', 'F_M', 'F_M', 'F_M', 'G_M', 'G_M', 'G_M', 'G_M', 'C_M7', 'C_M7', 'C_M7', 'C_M7', 'A_m7', 'A_m7', 'A_m7', 'A_m7', 'F_M', 'F_M', 'F_M', 'F_M', 'G_7', 'G_7', 'G_M', 'G_M']\n"
     ]
    },
    {
     "name": "stderr",
     "output_type": "stream",
     "text": [
      "100%|██████████| 16/16 [00:11<00:00,  1.44it/s]t/s, batch=6380, gpu_temp=61, loss={'chord': tensor(0.7541, device='cuda:0', grad_fn=<NllLossBackward0>), 'velocity': tensor(0.3446, device='cuda:0', grad_fn=<NllLossBackward0>), 'polyphony': tensor(0.2791, device='cuda:0', grad_fn=<NllLossBackward0>), 'density': tensor(0.3329, device='cuda:0', grad_fn=<NllLossBackward0>), 'piano_roll': tensor(1.0142, device='cuda:0', grad_fn=<NllLoss2DBackward0>), 'total': tensor(2.7249, device='cuda:0', grad_fn=<AddBackward0>)}]  \n"
     ]
    },
    {
     "name": "stdout",
     "output_type": "stream",
     "text": [
      "Generated:  [{'type': 'pitch', 'value': 20}, {'type': 'velocity', 'value': 19}, 'next_frame', 'next_frame', 'next_frame', 'next_frame', {'type': 'pitch', 'value': 27}, {'type': 'velocity', 'value': 17}, {'type': 'pitch', 'value': 39}, {'type': 'velocity', 'value': 17}]\n",
      "Chords:  ['E_o', 'E_o', 'D_m7', 'D_m7', 'A_m7', 'A_m7', 'A_m7', 'A_m7', 'A_m7', 'A_m7', 'A_m7', 'A_m7', 'E_m', 'E_m7', 'C_M', 'C_M', 'G_M', 'G_M', 'G_M', 'G_M', 'G_M', 'G_M', 'C_M', 'D_m7', 'D_m7', 'D_m7', 'F_M7', 'F_M7', 'A_M', 'A_M', 'A_sus4', 'A_sus4']\n"
     ]
    },
    {
     "name": "stderr",
     "output_type": "stream",
     "text": [
      "100%|██████████| 10/10 [00:05<00:00,  1.67it/s]\n",
      " 81%|████████  | 6384/7864 [37:12<2:14:13,  5.44s/it, batch=6380, gpu_temp=61, loss={'chord': tensor(0.7541, device='cuda:0', grad_fn=<NllLossBackward0>), 'velocity': tensor(0.3446, device='cuda:0', grad_fn=<NllLossBackward0>), 'polyphony': tensor(0.2791, device='cuda:0', grad_fn=<NllLossBackward0>), 'density': tensor(0.3329, device='cuda:0', grad_fn=<NllLossBackward0>), 'piano_roll': tensor(1.0142, device='cuda:0', grad_fn=<NllLoss2DBackward0>), 'total': tensor(2.7249, device='cuda:0', grad_fn=<AddBackward0>)}]"
     ]
    },
    {
     "name": "stdout",
     "output_type": "stream",
     "text": [
      "Generated:  [{'type': 'pitch', 'value': 39}, {'type': 'velocity', 'value': 17}, {'type': 'pitch', 'value': 51}, {'type': 'velocity', 'value': 15}, {'type': 'pitch', 'value': 55}, {'type': 'velocity', 'value': 20}, 'next_frame', 'next_frame', 'next_frame', 'next_frame']\n",
      "Chords:  ['C_M7', 'C_M7', 'C_M7', 'C_M7', 'A_m7', 'A_m7', 'A_m7', 'A_m7', 'F_M', 'F_M', 'F_M', 'F_M', 'G_M', 'G_M', 'G_M', 'G_M', 'C_M7', 'C_M7', 'C_M7', 'C_M7', 'A_m7', 'A_m7', 'A_m7', 'A_m7', 'B_o', 'B_o', 'D_m7', 'D_m7', 'D_m7', 'D_m7', 'G_7', 'G_7']\n"
     ]
    },
    {
     "name": "stderr",
     "output_type": "stream",
     "text": [
      "100%|██████████| 16/16 [00:12<00:00,  1.26it/s]t/s, batch=6870, gpu_temp=61, loss={'chord': tensor(0.8032, device='cuda:0', grad_fn=<NllLossBackward0>), 'velocity': tensor(0.3726, device='cuda:0', grad_fn=<NllLossBackward0>), 'polyphony': tensor(0.2955, device='cuda:0', grad_fn=<NllLossBackward0>), 'density': tensor(0.3273, device='cuda:0', grad_fn=<NllLossBackward0>), 'piano_roll': tensor(1.0551, device='cuda:0', grad_fn=<NllLoss2DBackward0>), 'total': tensor(2.8537, device='cuda:0', grad_fn=<AddBackward0>)}]  \n"
     ]
    },
    {
     "name": "stdout",
     "output_type": "stream",
     "text": [
      "Generated:  [{'type': 'pitch', 'value': 12}, {'type': 'velocity', 'value': 20}, {'type': 'pitch', 'value': 24}, {'type': 'velocity', 'value': 20}, 'next_frame', 'next_frame', 'next_frame', 'next_frame', 'next_frame', 'next_frame']\n",
      "Chords:  ['A_m7', 'A_m7', 'E_m7', 'E_m7', 'F_M7', 'F_M7', 'C_M', 'C_M', 'D_m7', 'D_m7', 'G_7', 'G_7', 'C_M7', 'C_M7', 'G_+', 'G_+', 'D_m7', 'D_m7', 'G_7', 'G_7', 'A_m', 'A_m', 'A_m7', 'A_m7', 'D_m7', 'D_m7', 'G_7', 'G_7', 'A_m7', 'A_m7', 'A_m7', 'A_m7']\n"
     ]
    },
    {
     "name": "stderr",
     "output_type": "stream",
     "text": [
      "100%|██████████| 10/10 [00:05<00:00,  1.80it/s]\n",
      " 87%|████████▋ | 6875/7864 [40:02<1:35:57,  5.82s/it, batch=6870, gpu_temp=61, loss={'chord': tensor(0.8032, device='cuda:0', grad_fn=<NllLossBackward0>), 'velocity': tensor(0.3726, device='cuda:0', grad_fn=<NllLossBackward0>), 'polyphony': tensor(0.2955, device='cuda:0', grad_fn=<NllLossBackward0>), 'density': tensor(0.3273, device='cuda:0', grad_fn=<NllLossBackward0>), 'piano_roll': tensor(1.0551, device='cuda:0', grad_fn=<NllLoss2DBackward0>), 'total': tensor(2.8537, device='cuda:0', grad_fn=<AddBackward0>)}]"
     ]
    },
    {
     "name": "stdout",
     "output_type": "stream",
     "text": [
      "Generated:  [{'type': 'pitch', 'value': 39}, {'type': 'velocity', 'value': 17}, {'type': 'pitch', 'value': 51}, {'type': 'velocity', 'value': 15}, {'type': 'pitch', 'value': 55}, {'type': 'velocity', 'value': 20}, 'next_frame', 'next_frame', 'next_frame', 'next_frame']\n",
      "Chords:  ['C_M7', 'C_M7', 'C_M7', 'C_M7', 'A_m7', 'A_m7', 'A_m7', 'A_m7', 'F_M', 'F_M', 'F_M', 'F_M', 'G_M', 'G_M', 'G_M', 'G_M', 'C_M7', 'C_M7', 'C_M7', 'C_M7', 'A_m7', 'A_m7', 'A_m7', 'A_m7', 'F_M', 'F_M', 'F_M', 'F_M', 'C_M', 'C_M', 'C_M', 'C_M']\n"
     ]
    },
    {
     "name": "stderr",
     "output_type": "stream",
     "text": [
      "100%|██████████| 16/16 [00:12<00:00,  1.25it/s]t/s, batch=7360, gpu_temp=62, loss={'chord': tensor(0.7954, device='cuda:0', grad_fn=<NllLossBackward0>), 'velocity': tensor(0.3962, device='cuda:0', grad_fn=<NllLossBackward0>), 'polyphony': tensor(0.2973, device='cuda:0', grad_fn=<NllLossBackward0>), 'density': tensor(0.3129, device='cuda:0', grad_fn=<NllLossBackward0>), 'piano_roll': tensor(1.0647, device='cuda:0', grad_fn=<NllLoss2DBackward0>), 'total': tensor(2.8665, device='cuda:0', grad_fn=<AddBackward0>)}]  \n"
     ]
    },
    {
     "name": "stdout",
     "output_type": "stream",
     "text": [
      "Generated:  [{'type': 'pitch', 'value': 32}, {'type': 'velocity', 'value': 20}, {'type': 'pitch', 'value': 55}, {'type': 'velocity', 'value': 23}, 'next_frame', 'next_frame', 'next_frame', 'next_frame', {'type': 'pitch', 'value': 39}, {'type': 'velocity', 'value': 16}]\n",
      "Chords:  ['D_m', 'D_m', 'D_m', 'D_m', 'G_M', 'G_M', 'G_M', 'G_M', 'C_M', 'C_M', 'C_M', 'C_M', 'E_m7', 'E_m7', 'E_m7', 'E_m7', 'A_m', 'A_m', 'A_m', 'A_m', 'D_m7', 'D_m7', 'D_m7', 'D_m7', 'G_M', 'G_M', 'G_M', 'G_M', 'G_M', 'G_M', 'G_M', 'G_M']\n"
     ]
    },
    {
     "name": "stderr",
     "output_type": "stream",
     "text": [
      "100%|██████████| 10/10 [00:05<00:00,  1.79it/s]\n",
      " 94%|█████████▎| 7366/7864 [42:51<48:41,  5.87s/it, batch=7360, gpu_temp=62, loss={'chord': tensor(0.7954, device='cuda:0', grad_fn=<NllLossBackward0>), 'velocity': tensor(0.3962, device='cuda:0', grad_fn=<NllLossBackward0>), 'polyphony': tensor(0.2973, device='cuda:0', grad_fn=<NllLossBackward0>), 'density': tensor(0.3129, device='cuda:0', grad_fn=<NllLossBackward0>), 'piano_roll': tensor(1.0647, device='cuda:0', grad_fn=<NllLoss2DBackward0>), 'total': tensor(2.8665, device='cuda:0', grad_fn=<AddBackward0>)}]"
     ]
    },
    {
     "name": "stdout",
     "output_type": "stream",
     "text": [
      "Generated:  [{'type': 'pitch', 'value': 39}, {'type': 'velocity', 'value': 17}, {'type': 'pitch', 'value': 51}, {'type': 'velocity', 'value': 15}, {'type': 'pitch', 'value': 55}, {'type': 'velocity', 'value': 20}, 'next_frame', 'next_frame', 'next_frame', 'next_frame']\n",
      "Chords:  ['C_M7', 'C_M7', 'C_M7', 'C_M7', 'A_m7', 'A_m7', 'A_m7', 'A_m7', 'F_M', 'F_M', 'F_M', 'F_M', 'G_M', 'G_M', 'G_M', 'G_M', 'C_M7', 'C_M7', 'C_M7', 'C_M7', 'A_m7', 'A_m7', 'A_m7', 'A_m7', 'F_M', 'F_M', 'F_M7', 'F_M7', 'C_M', 'C_M', 'C_M', 'C_M']\n"
     ]
    },
    {
     "name": "stderr",
     "output_type": "stream",
     "text": [
      "100%|██████████| 16/16 [00:11<00:00,  1.43it/s]t/s, batch=7850, gpu_temp=61, loss={'chord': tensor(0.7460, device='cuda:0', grad_fn=<NllLossBackward0>), 'velocity': tensor(0.3702, device='cuda:0', grad_fn=<NllLossBackward0>), 'polyphony': tensor(0.2868, device='cuda:0', grad_fn=<NllLossBackward0>), 'density': tensor(0.3410, device='cuda:0', grad_fn=<NllLossBackward0>), 'piano_roll': tensor(1.1042, device='cuda:0', grad_fn=<NllLoss2DBackward0>), 'total': tensor(2.8483, device='cuda:0', grad_fn=<AddBackward0>)}]\n"
     ]
    },
    {
     "name": "stdout",
     "output_type": "stream",
     "text": [
      "Generated:  [{'type': 'pitch', 'value': 24}, {'type': 'velocity', 'value': 18}, {'type': 'pitch', 'value': 56}, {'type': 'velocity', 'value': 24}, {'type': 'pitch', 'value': 68}, {'type': 'velocity', 'value': 25}, 'next_frame', 'next_frame', 'next_frame', 'next_frame']\n",
      "Chords:  ['D_m', 'D_m', 'D_m7', 'D_m7', 'G_M', 'G_M', 'G_7', 'G_7', 'G_7', 'G_7', 'E_m7', 'E_m7', 'A_m', 'A_m', 'A_m', 'A_m', 'C_M', 'C_M', 'C_M', 'C_M', 'F_M', 'F_M', 'F_M', 'F_M', 'D_o', 'D_o', 'G_7', 'G_7', 'G_M', 'G_M', 'G_M', 'G_M']\n"
     ]
    },
    {
     "name": "stderr",
     "output_type": "stream",
     "text": [
      "100%|██████████| 10/10 [00:04<00:00,  2.02it/s]\n",
      "100%|█████████▉| 7857/7864 [45:40<00:36,  5.26s/it, batch=7850, gpu_temp=61, loss={'chord': tensor(0.7460, device='cuda:0', grad_fn=<NllLossBackward0>), 'velocity': tensor(0.3702, device='cuda:0', grad_fn=<NllLossBackward0>), 'polyphony': tensor(0.2868, device='cuda:0', grad_fn=<NllLossBackward0>), 'density': tensor(0.3410, device='cuda:0', grad_fn=<NllLossBackward0>), 'piano_roll': tensor(1.1042, device='cuda:0', grad_fn=<NllLoss2DBackward0>), 'total': tensor(2.8483, device='cuda:0', grad_fn=<AddBackward0>)}]"
     ]
    },
    {
     "name": "stdout",
     "output_type": "stream",
     "text": [
      "Generated:  [{'type': 'pitch', 'value': 39}, {'type': 'velocity', 'value': 17}, {'type': 'pitch', 'value': 51}, {'type': 'velocity', 'value': 15}, {'type': 'pitch', 'value': 55}, {'type': 'velocity', 'value': 20}, 'next_frame', 'next_frame', 'next_frame', 'next_frame']\n",
      "Chords:  ['C_M7', 'C_M7', 'C_M7', 'C_M7', 'A_m7', 'A_m7', 'A_m7', 'A_m7', 'F_M', 'F_M', 'F_M', 'F_M', 'G_M', 'G_M', 'G_M', 'G_M', 'C_M7', 'C_M7', 'C_M7', 'C_M7', 'A_m7', 'A_m7', 'A_m7', 'A_m7', 'F_M', 'F_M', 'F_M', 'F_M', 'C_M7', 'C_M7', 'C_M7', 'C_M7']\n"
     ]
    },
    {
     "name": "stderr",
     "output_type": "stream",
     "text": [
      "100%|██████████| 7864/7864 [45:43<00:00,  2.87it/s, batch=7860, gpu_temp=58, loss={'chord': tensor(0.7336, device='cuda:0', grad_fn=<NllLossBackward0>), 'velocity': tensor(0.3529, device='cuda:0', grad_fn=<NllLossBackward0>), 'polyphony': tensor(0.2610, device='cuda:0', grad_fn=<NllLossBackward0>), 'density': tensor(0.3302, device='cuda:0', grad_fn=<NllLossBackward0>), 'piano_roll': tensor(1.0694, device='cuda:0', grad_fn=<NllLoss2DBackward0>), 'total': tensor(2.7472, device='cuda:0', grad_fn=<AddBackward0>)}]\n",
      "100%|██████████| 16/16 [00:11<00:00,  1.35it/s]/s, batch=490, gpu_temp=57, loss={'chord': tensor(0.6883, device='cuda:0', grad_fn=<NllLossBackward0>), 'velocity': tensor(0.4079, device='cuda:0', grad_fn=<NllLossBackward0>), 'polyphony': tensor(0.2602, device='cuda:0', grad_fn=<NllLossBackward0>), 'density': tensor(0.3115, device='cuda:0', grad_fn=<NllLossBackward0>), 'piano_roll': tensor(1.0542, device='cuda:0', grad_fn=<NllLoss2DBackward0>), 'total': tensor(2.7222, device='cuda:0', grad_fn=<AddBackward0>)}]\n"
     ]
    },
    {
     "name": "stdout",
     "output_type": "stream",
     "text": [
      "Generated:  [{'type': 'pitch', 'value': 20}, {'type': 'velocity', 'value': 18}, 'next_frame', 'next_frame', 'next_frame', 'next_frame', {'type': 'pitch', 'value': 27}, {'type': 'velocity', 'value': 19}, 'next_frame', 'next_frame']\n",
      "Chords:  ['D_m7', 'D_m7', 'A_m', 'A_m', 'A_m', 'A_m', 'E_M', 'E_M', 'A_m', 'A_m', 'A_m7', 'A_m7', 'A_m', 'A_m', 'A_m7', 'A_m7', 'D_m', 'D_m', 'E_M', 'E_m7', 'A_M', 'A_M', 'A_m', 'A_m', 'D_m7', 'D_m7', 'B_m7', 'B_m7', 'A_M', 'A_M', 'A_m', 'A_m']\n"
     ]
    },
    {
     "name": "stderr",
     "output_type": "stream",
     "text": [
      "100%|██████████| 10/10 [00:05<00:00,  1.70it/s]\n",
      "  6%|▋         | 492/7864 [03:02<11:39:47,  5.70s/it, batch=490, gpu_temp=57, loss={'chord': tensor(0.6883, device='cuda:0', grad_fn=<NllLossBackward0>), 'velocity': tensor(0.4079, device='cuda:0', grad_fn=<NllLossBackward0>), 'polyphony': tensor(0.2602, device='cuda:0', grad_fn=<NllLossBackward0>), 'density': tensor(0.3115, device='cuda:0', grad_fn=<NllLossBackward0>), 'piano_roll': tensor(1.0542, device='cuda:0', grad_fn=<NllLoss2DBackward0>), 'total': tensor(2.7222, device='cuda:0', grad_fn=<AddBackward0>)}]"
     ]
    },
    {
     "name": "stdout",
     "output_type": "stream",
     "text": [
      "Generated:  [{'type': 'pitch', 'value': 39}, {'type': 'velocity', 'value': 17}, {'type': 'pitch', 'value': 51}, {'type': 'velocity', 'value': 15}, {'type': 'pitch', 'value': 55}, {'type': 'velocity', 'value': 20}, 'next_frame', 'next_frame', 'next_frame', 'next_frame']\n",
      "Chords:  ['C_M7', 'C_M7', 'C_M7', 'C_M7', 'A_m7', 'A_m7', 'A_m7', 'A_m7', 'F_M', 'F_M', 'F_M', 'F_M', 'G_M', 'G_M', 'G_M', 'G_M', 'C_M7', 'C_M7', 'C_M7', 'C_M7', 'A_m7', 'A_m7', 'A_m7', 'A_m7', 'F_M7', 'F_M7', 'F_M7', 'F_M7', 'G_7', 'G_7', 'G_M', 'G_M']\n"
     ]
    },
    {
     "name": "stderr",
     "output_type": "stream",
     "text": [
      "100%|██████████| 16/16 [00:11<00:00,  1.42it/s]/s, batch=980, gpu_temp=57, loss={'chord': tensor(0.6451, device='cuda:0', grad_fn=<NllLossBackward0>), 'velocity': tensor(0.3199, device='cuda:0', grad_fn=<NllLossBackward0>), 'polyphony': tensor(0.2667, device='cuda:0', grad_fn=<NllLossBackward0>), 'density': tensor(0.3116, device='cuda:0', grad_fn=<NllLossBackward0>), 'piano_roll': tensor(1.0143, device='cuda:0', grad_fn=<NllLoss2DBackward0>), 'total': tensor(2.5577, device='cuda:0', grad_fn=<AddBackward0>)}]   \n"
     ]
    },
    {
     "name": "stdout",
     "output_type": "stream",
     "text": [
      "Generated:  [{'type': 'pitch', 'value': 17}, {'type': 'velocity', 'value': 19}, {'type': 'pitch', 'value': 29}, {'type': 'velocity', 'value': 21}, {'type': 'pitch', 'value': 53}, {'type': 'velocity', 'value': 21}, {'type': 'pitch', 'value': 56}, {'type': 'velocity', 'value': 20}, {'type': 'pitch', 'value': 63}, {'type': 'velocity', 'value': 24}]\n",
      "Chords:  ['E_m', 'E_m', 'E_m', 'E_m', 'F_M7', 'F_M7', 'D_m7', 'D_m7', 'F_M7', 'F_M7', 'D_m7', 'D_m7', 'A_m', 'A_m', 'A_m', 'A_m', 'E_m7', 'E_m7', 'E_m7', 'E_m7', 'F_M', 'F_M', 'F_M', 'F_M', 'F_M7', 'F_M7', 'F_M7', 'F_M7', 'A_m', 'A_m', 'A_m7', 'A_m7']\n"
     ]
    },
    {
     "name": "stderr",
     "output_type": "stream",
     "text": [
      "100%|██████████| 10/10 [00:04<00:00,  2.16it/s]\n",
      " 12%|█▎        | 983/7864 [05:47<9:51:59,  5.16s/it, batch=980, gpu_temp=57, loss={'chord': tensor(0.6451, device='cuda:0', grad_fn=<NllLossBackward0>), 'velocity': tensor(0.3199, device='cuda:0', grad_fn=<NllLossBackward0>), 'polyphony': tensor(0.2667, device='cuda:0', grad_fn=<NllLossBackward0>), 'density': tensor(0.3116, device='cuda:0', grad_fn=<NllLossBackward0>), 'piano_roll': tensor(1.0143, device='cuda:0', grad_fn=<NllLoss2DBackward0>), 'total': tensor(2.5577, device='cuda:0', grad_fn=<AddBackward0>)}]"
     ]
    },
    {
     "name": "stdout",
     "output_type": "stream",
     "text": [
      "Generated:  [{'type': 'pitch', 'value': 39}, {'type': 'velocity', 'value': 17}, {'type': 'pitch', 'value': 51}, {'type': 'velocity', 'value': 15}, {'type': 'pitch', 'value': 55}, {'type': 'velocity', 'value': 20}, 'next_frame', 'next_frame', 'next_frame', 'next_frame']\n",
      "Chords:  ['C_M7', 'C_M7', 'C_M7', 'C_M7', 'A_m7', 'A_m7', 'A_m7', 'A_m7', 'F_M', 'F_M', 'F_M', 'F_M', 'G_M', 'G_M', 'G_M', 'G_M', 'C_M7', 'C_M7', 'C_M7', 'C_M7', 'A_m7', 'A_m7', 'A_m7', 'A_m7', 'F_M', 'F_M', 'F_M7', 'F_M7', 'F_M7', 'C_M', 'C_M', 'C_M']\n"
     ]
    },
    {
     "name": "stderr",
     "output_type": "stream",
     "text": [
      "100%|██████████| 16/16 [00:11<00:00,  1.34it/s]t/s, batch=1470, gpu_temp=61, loss={'chord': tensor(0.7165, device='cuda:0', grad_fn=<NllLossBackward0>), 'velocity': tensor(0.3654, device='cuda:0', grad_fn=<NllLossBackward0>), 'polyphony': tensor(0.2752, device='cuda:0', grad_fn=<NllLossBackward0>), 'density': tensor(0.2894, device='cuda:0', grad_fn=<NllLossBackward0>), 'piano_roll': tensor(1.1260, device='cuda:0', grad_fn=<NllLoss2DBackward0>), 'total': tensor(2.7726, device='cuda:0', grad_fn=<AddBackward0>)}]  \n"
     ]
    },
    {
     "name": "stdout",
     "output_type": "stream",
     "text": [
      "Generated:  ['next_frame', {'type': 'pitch', 'value': 35}, {'type': 'velocity', 'value': 15}, 'next_frame', 'next_frame', {'type': 'pitch', 'value': 38}, {'type': 'velocity', 'value': 17}, 'next_frame', 'next_frame', {'type': 'pitch', 'value': 43}]\n",
      "Chords:  ['G_M', 'G_M', 'G_M', 'G_M', 'D_M', 'D_M', 'D_m', 'D_m', 'D_M', 'D_M', 'D_7', 'D_7', 'D_o', 'D_o', 'F_M', 'F_M', 'C_M', 'C_M', 'G_M', 'G_M', 'A_m7', 'A_m7', 'A_m7', 'A_m7', 'D_m7', 'D_m7', 'F_M7', 'F_M7', 'G_M', 'G_M', 'G_M', 'G_M']\n"
     ]
    },
    {
     "name": "stderr",
     "output_type": "stream",
     "text": [
      "100%|██████████| 10/10 [00:04<00:00,  2.04it/s]\n",
      " 19%|█▊        | 1474/7864 [08:34<9:31:09,  5.36s/it, batch=1470, gpu_temp=61, loss={'chord': tensor(0.7165, device='cuda:0', grad_fn=<NllLossBackward0>), 'velocity': tensor(0.3654, device='cuda:0', grad_fn=<NllLossBackward0>), 'polyphony': tensor(0.2752, device='cuda:0', grad_fn=<NllLossBackward0>), 'density': tensor(0.2894, device='cuda:0', grad_fn=<NllLossBackward0>), 'piano_roll': tensor(1.1260, device='cuda:0', grad_fn=<NllLoss2DBackward0>), 'total': tensor(2.7726, device='cuda:0', grad_fn=<AddBackward0>)}]"
     ]
    },
    {
     "name": "stdout",
     "output_type": "stream",
     "text": [
      "Generated:  [{'type': 'pitch', 'value': 39}, {'type': 'velocity', 'value': 17}, {'type': 'pitch', 'value': 51}, {'type': 'velocity', 'value': 15}, {'type': 'pitch', 'value': 55}, {'type': 'velocity', 'value': 20}, 'next_frame', 'next_frame', 'next_frame', 'next_frame']\n",
      "Chords:  ['C_M7', 'C_M7', 'C_M7', 'C_M7', 'A_m7', 'A_m7', 'A_m7', 'A_m7', 'F_M', 'F_M', 'F_M', 'F_M', 'G_M', 'G_M', 'G_M', 'G_M', 'C_M7', 'C_M7', 'C_M7', 'C_M7', 'A_m7', 'A_m7', 'A_m7', 'A_m7', 'F_M', 'F_M', 'F_M', 'F_M', 'G_7', 'G_7', 'G_7', 'G_7']\n"
     ]
    },
    {
     "name": "stderr",
     "output_type": "stream",
     "text": [
      "100%|██████████| 16/16 [00:11<00:00,  1.36it/s]t/s, batch=1960, gpu_temp=60, loss={'chord': tensor(0.7637, device='cuda:0', grad_fn=<NllLossBackward0>), 'velocity': tensor(0.3555, device='cuda:0', grad_fn=<NllLossBackward0>), 'polyphony': tensor(0.2387, device='cuda:0', grad_fn=<NllLossBackward0>), 'density': tensor(0.3078, device='cuda:0', grad_fn=<NllLossBackward0>), 'piano_roll': tensor(1.0725, device='cuda:0', grad_fn=<NllLoss2DBackward0>), 'total': tensor(2.7382, device='cuda:0', grad_fn=<AddBackward0>)}]  \n"
     ]
    },
    {
     "name": "stdout",
     "output_type": "stream",
     "text": [
      "Generated:  [{'type': 'pitch', 'value': 24}, {'type': 'velocity', 'value': 19}, {'type': 'pitch', 'value': 36}, {'type': 'velocity', 'value': 21}, {'type': 'pitch', 'value': 48}, {'type': 'velocity', 'value': 20}, {'type': 'pitch', 'value': 55}, {'type': 'velocity', 'value': 22}, 'next_frame', 'next_frame']\n",
      "Chords:  ['C_M7', 'C_M7', 'G_7', 'G_7', 'A_m7', 'A_m7', 'A_m7', 'A_m7', 'F_M7', 'F_M7', 'F_M', 'F_M', 'C_M7', 'C_M7', 'G_M', 'G_M', 'C_M7', 'C_M7', 'G_M', 'G_M', 'C_M7', 'C_M7', 'G_7', 'G_7', 'C_M7', 'C_M7', 'G_M', 'G_M', 'A_m7', 'A_m7', 'A_m7', 'A_m7']\n"
     ]
    },
    {
     "name": "stderr",
     "output_type": "stream",
     "text": [
      "100%|██████████| 10/10 [00:05<00:00,  1.97it/s]\n",
      " 25%|██▍       | 1965/7864 [11:28<8:49:36,  5.39s/it, batch=1960, gpu_temp=60, loss={'chord': tensor(0.7637, device='cuda:0', grad_fn=<NllLossBackward0>), 'velocity': tensor(0.3555, device='cuda:0', grad_fn=<NllLossBackward0>), 'polyphony': tensor(0.2387, device='cuda:0', grad_fn=<NllLossBackward0>), 'density': tensor(0.3078, device='cuda:0', grad_fn=<NllLossBackward0>), 'piano_roll': tensor(1.0725, device='cuda:0', grad_fn=<NllLoss2DBackward0>), 'total': tensor(2.7382, device='cuda:0', grad_fn=<AddBackward0>)}]"
     ]
    },
    {
     "name": "stdout",
     "output_type": "stream",
     "text": [
      "Generated:  [{'type': 'pitch', 'value': 39}, {'type': 'velocity', 'value': 17}, {'type': 'pitch', 'value': 51}, {'type': 'velocity', 'value': 15}, {'type': 'pitch', 'value': 55}, {'type': 'velocity', 'value': 20}, 'next_frame', 'next_frame', 'next_frame', 'next_frame']\n",
      "Chords:  ['C_M7', 'C_M7', 'C_M7', 'C_M7', 'A_m7', 'A_m7', 'A_m7', 'A_m7', 'F_M', 'F_M', 'F_M', 'F_M', 'G_M', 'G_M', 'G_M', 'G_M', 'C_M7', 'C_M7', 'C_M7', 'C_M7', 'A_m7', 'A_m7', 'A_m7', 'A_m7', 'F_M', 'F_M', 'F_M', 'F_M', 'F_M', 'G_7', 'G_M', 'G_M']\n"
     ]
    },
    {
     "name": "stderr",
     "output_type": "stream",
     "text": [
      "100%|██████████| 16/16 [00:12<00:00,  1.30it/s]t/s, batch=2450, gpu_temp=57, loss={'chord': tensor(0.7503, device='cuda:0', grad_fn=<NllLossBackward0>), 'velocity': tensor(0.3811, device='cuda:0', grad_fn=<NllLossBackward0>), 'polyphony': tensor(0.2569, device='cuda:0', grad_fn=<NllLossBackward0>), 'density': tensor(0.3325, device='cuda:0', grad_fn=<NllLossBackward0>), 'piano_roll': tensor(1.0911, device='cuda:0', grad_fn=<NllLoss2DBackward0>), 'total': tensor(2.8119, device='cuda:0', grad_fn=<AddBackward0>)}]  \n"
     ]
    },
    {
     "name": "stdout",
     "output_type": "stream",
     "text": [
      "Generated:  [{'type': 'pitch', 'value': 24}, {'type': 'velocity', 'value': 19}, {'type': 'pitch', 'value': 48}, {'type': 'velocity', 'value': 21}, 'next_frame', 'next_frame', 'next_frame', 'next_frame', {'type': 'pitch', 'value': 31}, {'type': 'velocity', 'value': 19}]\n",
      "Chords:  ['D_m7', 'D_m7', 'G_7', 'G_7', 'C_M7', 'C_M7', 'C_M7', 'C_M7', 'A_m7', 'A_m7', 'A_m7', 'A_m7', 'E_m7', 'E_m7', 'E_m7', 'E_m7', 'F_M', 'F_M', 'B_o', 'B_o', 'E_m7', 'E_m7', 'A_m', 'A_m', 'D_m7', 'D_m7', 'D_m7', 'D_m7', 'G_M', 'G_M', 'G_M', 'G_M']\n"
     ]
    },
    {
     "name": "stderr",
     "output_type": "stream",
     "text": [
      "100%|██████████| 10/10 [00:06<00:00,  1.65it/s]\n",
      " 31%|███       | 2456/7864 [14:14<8:46:06,  5.84s/it, batch=2450, gpu_temp=57, loss={'chord': tensor(0.7503, device='cuda:0', grad_fn=<NllLossBackward0>), 'velocity': tensor(0.3811, device='cuda:0', grad_fn=<NllLossBackward0>), 'polyphony': tensor(0.2569, device='cuda:0', grad_fn=<NllLossBackward0>), 'density': tensor(0.3325, device='cuda:0', grad_fn=<NllLossBackward0>), 'piano_roll': tensor(1.0911, device='cuda:0', grad_fn=<NllLoss2DBackward0>), 'total': tensor(2.8119, device='cuda:0', grad_fn=<AddBackward0>)}]"
     ]
    },
    {
     "name": "stdout",
     "output_type": "stream",
     "text": [
      "Generated:  [{'type': 'pitch', 'value': 39}, {'type': 'velocity', 'value': 17}, {'type': 'pitch', 'value': 51}, {'type': 'velocity', 'value': 15}, {'type': 'pitch', 'value': 55}, {'type': 'velocity', 'value': 20}, 'next_frame', 'next_frame', 'next_frame', 'next_frame']\n",
      "Chords:  ['C_M7', 'C_M7', 'C_M7', 'C_M7', 'A_m7', 'A_m7', 'A_m7', 'A_m7', 'F_M', 'F_M', 'F_M', 'F_M', 'G_M', 'G_M', 'G_M', 'G_M', 'C_M7', 'C_M7', 'C_M7', 'C_M7', 'A_m7', 'A_m7', 'A_m7', 'A_m7', 'F_M', 'F_M', 'F_M', 'F_M', 'C_M', 'C_M', 'C_M', 'C_M']\n"
     ]
    },
    {
     "name": "stderr",
     "output_type": "stream",
     "text": [
      "100%|██████████| 16/16 [00:09<00:00,  1.69it/s]t/s, batch=2940, gpu_temp=61, loss={'chord': tensor(0.6852, device='cuda:0', grad_fn=<NllLossBackward0>), 'velocity': tensor(0.3175, device='cuda:0', grad_fn=<NllLossBackward0>), 'polyphony': tensor(0.2234, device='cuda:0', grad_fn=<NllLossBackward0>), 'density': tensor(0.2884, device='cuda:0', grad_fn=<NllLossBackward0>), 'piano_roll': tensor(0.9769, device='cuda:0', grad_fn=<NllLoss2DBackward0>), 'total': tensor(2.4914, device='cuda:0', grad_fn=<AddBackward0>)}]  \n"
     ]
    },
    {
     "name": "stdout",
     "output_type": "stream",
     "text": [
      "Generated:  [{'type': 'pitch', 'value': 22}, {'type': 'velocity', 'value': 16}, {'type': 'pitch', 'value': 46}, {'type': 'velocity', 'value': 18}, {'type': 'pitch', 'value': 51}, {'type': 'velocity', 'value': 22}, 'next_frame', 'next_frame', 'next_frame', 'next_frame']\n",
      "Chords:  ['A_M7', 'A_M7', 'E_M', 'E_M', 'F#_M', 'F#_M', 'F#_M', 'F#_M', 'F#_M', 'F#_M', 'D#_m7', 'D#_m7', 'C#_sus2', 'C#_sus2', 'C#_M', 'C#_M', 'D#_m7', 'D#_m7', 'D#_m7', 'D#_m7', 'D#_m7', 'D#_m7', 'A#_o', 'A#_o', 'C#_sus4', 'C#_sus4', 'C#_M', 'C#_M', 'C#_M', 'C#_M', 'C#_M', 'C#_M']\n"
     ]
    },
    {
     "name": "stderr",
     "output_type": "stream",
     "text": [
      "100%|██████████| 10/10 [00:05<00:00,  1.86it/s]\n",
      " 37%|███▋      | 2947/7864 [16:59<6:32:16,  4.79s/it, batch=2940, gpu_temp=61, loss={'chord': tensor(0.6852, device='cuda:0', grad_fn=<NllLossBackward0>), 'velocity': tensor(0.3175, device='cuda:0', grad_fn=<NllLossBackward0>), 'polyphony': tensor(0.2234, device='cuda:0', grad_fn=<NllLossBackward0>), 'density': tensor(0.2884, device='cuda:0', grad_fn=<NllLossBackward0>), 'piano_roll': tensor(0.9769, device='cuda:0', grad_fn=<NllLoss2DBackward0>), 'total': tensor(2.4914, device='cuda:0', grad_fn=<AddBackward0>)}]"
     ]
    },
    {
     "name": "stdout",
     "output_type": "stream",
     "text": [
      "Generated:  [{'type': 'pitch', 'value': 39}, {'type': 'velocity', 'value': 17}, {'type': 'pitch', 'value': 51}, {'type': 'velocity', 'value': 15}, {'type': 'pitch', 'value': 55}, {'type': 'velocity', 'value': 20}, 'next_frame', 'next_frame', 'next_frame', 'next_frame']\n",
      "Chords:  ['C_M7', 'C_M7', 'C_M7', 'C_M7', 'A_m7', 'A_m7', 'A_m7', 'A_m7', 'F_M', 'F_M', 'F_M', 'F_M', 'G_M', 'G_M', 'G_M', 'G_M', 'C_M7', 'C_M7', 'C_M7', 'C_M7', 'A_m7', 'A_m7', 'A_m7', 'A_m7', 'B_o', 'B_o', 'F_M', 'F_M', 'G_m7', 'G_m7', 'G_M', 'G_M']\n"
     ]
    },
    {
     "name": "stderr",
     "output_type": "stream",
     "text": [
      "100%|██████████| 16/16 [00:11<00:00,  1.43it/s]t/s, batch=3430, gpu_temp=61, loss={'chord': tensor(0.7185, device='cuda:0', grad_fn=<NllLossBackward0>), 'velocity': tensor(0.3242, device='cuda:0', grad_fn=<NllLossBackward0>), 'polyphony': tensor(0.2502, device='cuda:0', grad_fn=<NllLossBackward0>), 'density': tensor(0.3082, device='cuda:0', grad_fn=<NllLossBackward0>), 'piano_roll': tensor(1.0161, device='cuda:0', grad_fn=<NllLoss2DBackward0>), 'total': tensor(2.6172, device='cuda:0', grad_fn=<AddBackward0>)}]  \n"
     ]
    },
    {
     "name": "stdout",
     "output_type": "stream",
     "text": [
      "Generated:  [{'type': 'pitch', 'value': 14}, {'type': 'velocity', 'value': 21}, {'type': 'pitch', 'value': 26}, {'type': 'velocity', 'value': 22}, 'next_frame', 'next_frame', 'next_frame', 'next_frame', {'type': 'pitch', 'value': 31}, {'type': 'velocity', 'value': 17}]\n",
      "Chords:  ['A_m7', 'A_m7', 'A_m7', 'A_m7', 'C_M', 'C_M', 'C_M', 'C_M', 'F_M7', 'F_M7', 'F_M7', 'F_M7', 'E_m7', 'E_m7', 'G_M', 'C_M', 'C_+', 'C_+', 'C_+', 'C_+', 'A_m', 'A_m', 'A_m', 'A_m', 'A_m', 'A_m', 'D_m7', 'D_m7', 'F_M7', 'F_M7', 'F_M7', 'F_M7']\n"
     ]
    },
    {
     "name": "stderr",
     "output_type": "stream",
     "text": [
      "100%|██████████| 10/10 [00:05<00:00,  1.91it/s]\n",
      " 44%|████▎     | 3438/7864 [19:49<6:36:00,  5.37s/it, batch=3430, gpu_temp=61, loss={'chord': tensor(0.7185, device='cuda:0', grad_fn=<NllLossBackward0>), 'velocity': tensor(0.3242, device='cuda:0', grad_fn=<NllLossBackward0>), 'polyphony': tensor(0.2502, device='cuda:0', grad_fn=<NllLossBackward0>), 'density': tensor(0.3082, device='cuda:0', grad_fn=<NllLossBackward0>), 'piano_roll': tensor(1.0161, device='cuda:0', grad_fn=<NllLoss2DBackward0>), 'total': tensor(2.6172, device='cuda:0', grad_fn=<AddBackward0>)}]"
     ]
    },
    {
     "name": "stdout",
     "output_type": "stream",
     "text": [
      "Generated:  [{'type': 'pitch', 'value': 39}, {'type': 'velocity', 'value': 17}, {'type': 'pitch', 'value': 51}, {'type': 'velocity', 'value': 15}, {'type': 'pitch', 'value': 55}, {'type': 'velocity', 'value': 20}, 'next_frame', 'next_frame', 'next_frame', 'next_frame']\n",
      "Chords:  ['C_M7', 'C_M7', 'C_M7', 'C_M7', 'A_m7', 'A_m7', 'A_m7', 'A_m7', 'F_M', 'F_M', 'F_M', 'F_M', 'G_M', 'G_M', 'G_M', 'G_M', 'C_M7', 'C_M7', 'C_M7', 'C_M7', 'A_m7', 'A_m7', 'A_m7', 'A_m7', 'C_M7', 'C_M7', 'C_M7', 'C_M7', 'G_M', 'G_M', 'F_M7', 'F_M7']\n"
     ]
    },
    {
     "name": "stderr",
     "output_type": "stream",
     "text": [
      "100%|██████████| 16/16 [00:10<00:00,  1.46it/s]t/s, batch=3920, gpu_temp=57, loss={'chord': tensor(0.7644, device='cuda:0', grad_fn=<NllLossBackward0>), 'velocity': tensor(0.3711, device='cuda:0', grad_fn=<NllLossBackward0>), 'polyphony': tensor(0.2584, device='cuda:0', grad_fn=<NllLossBackward0>), 'density': tensor(0.3357, device='cuda:0', grad_fn=<NllLossBackward0>), 'piano_roll': tensor(1.0586, device='cuda:0', grad_fn=<NllLoss2DBackward0>), 'total': tensor(2.7883, device='cuda:0', grad_fn=<AddBackward0>)}]  \n"
     ]
    },
    {
     "name": "stdout",
     "output_type": "stream",
     "text": [
      "Generated:  [{'type': 'pitch', 'value': 15}, {'type': 'velocity', 'value': 18}, {'type': 'pitch', 'value': 27}, {'type': 'velocity', 'value': 20}, {'type': 'pitch', 'value': 46}, {'type': 'velocity', 'value': 22}, {'type': 'pitch', 'value': 54}, {'type': 'velocity', 'value': 21}, {'type': 'pitch', 'value': 58}, {'type': 'velocity', 'value': 23}]\n",
      "Chords:  ['A_m7', 'A_m7', 'A_m7', 'A_m7', 'C_M', 'C_M', 'C_M', 'C_M', 'D_m7', 'D_m7', 'D_m7', 'D_m7', 'G_M', 'G_M', 'G_M', 'G_M', 'G_7', 'G_7', 'G_M', 'G_M', 'G_M', 'G_M', 'G_7', 'G_7', 'F_M', 'F_M', 'F_M', 'F_M', 'G_M', 'G_M', 'G_M', 'G_M']\n"
     ]
    },
    {
     "name": "stderr",
     "output_type": "stream",
     "text": [
      "100%|██████████| 10/10 [00:05<00:00,  1.82it/s]\n",
      " 50%|████▉     | 3929/7864 [22:36<5:45:09,  5.26s/it, batch=3920, gpu_temp=57, loss={'chord': tensor(0.7644, device='cuda:0', grad_fn=<NllLossBackward0>), 'velocity': tensor(0.3711, device='cuda:0', grad_fn=<NllLossBackward0>), 'polyphony': tensor(0.2584, device='cuda:0', grad_fn=<NllLossBackward0>), 'density': tensor(0.3357, device='cuda:0', grad_fn=<NllLossBackward0>), 'piano_roll': tensor(1.0586, device='cuda:0', grad_fn=<NllLoss2DBackward0>), 'total': tensor(2.7883, device='cuda:0', grad_fn=<AddBackward0>)}]"
     ]
    },
    {
     "name": "stdout",
     "output_type": "stream",
     "text": [
      "Generated:  [{'type': 'pitch', 'value': 39}, {'type': 'velocity', 'value': 17}, {'type': 'pitch', 'value': 51}, {'type': 'velocity', 'value': 15}, {'type': 'pitch', 'value': 55}, {'type': 'velocity', 'value': 20}, 'next_frame', 'next_frame', 'next_frame', 'next_frame']\n",
      "Chords:  ['C_M7', 'C_M7', 'C_M7', 'C_M7', 'A_m7', 'A_m7', 'A_m7', 'A_m7', 'F_M', 'F_M', 'F_M', 'F_M', 'G_M', 'G_M', 'G_M', 'G_M', 'C_M7', 'C_M7', 'C_M7', 'C_M7', 'A_m7', 'A_m7', 'A_m7', 'A_m7', 'G_+', 'G_+', 'C_M7', 'C_M7', 'A_m7', 'A_m7', 'A_m7', 'A_m7']\n"
     ]
    },
    {
     "name": "stderr",
     "output_type": "stream",
     "text": [
      "100%|██████████| 16/16 [00:11<00:00,  1.40it/s]t/s, batch=4410, gpu_temp=56, loss={'chord': tensor(0.7308, device='cuda:0', grad_fn=<NllLossBackward0>), 'velocity': tensor(0.3918, device='cuda:0', grad_fn=<NllLossBackward0>), 'polyphony': tensor(0.2420, device='cuda:0', grad_fn=<NllLossBackward0>), 'density': tensor(0.2712, device='cuda:0', grad_fn=<NllLossBackward0>), 'piano_roll': tensor(1.1292, device='cuda:0', grad_fn=<NllLoss2DBackward0>), 'total': tensor(2.7650, device='cuda:0', grad_fn=<AddBackward0>)}]  \n"
     ]
    },
    {
     "name": "stdout",
     "output_type": "stream",
     "text": [
      "Generated:  [{'type': 'pitch', 'value': 12}, {'type': 'velocity', 'value': 20}, {'type': 'pitch', 'value': 24}, {'type': 'velocity', 'value': 21}, {'type': 'pitch', 'value': 43}, {'type': 'velocity', 'value': 21}, {'type': 'pitch', 'value': 53}, {'type': 'velocity', 'value': 23}, 'next_frame', 'next_frame']\n",
      "Chords:  ['E_m', 'E_m', 'C_M', 'C_M', 'G_M', 'G_M', 'G_M', 'G_M', 'A_M', 'A_M', 'A_m7', 'A_m7', 'F_o', 'F_o', 'F_M', 'F_M', 'G_M', 'G_M', 'G_M', 'G_M', 'G_M', 'G_M', 'D_M7', 'D_M7', 'A_m7', 'A_m7', 'A_m', 'A_m', 'F_M7', 'F_M7', 'D_m7', 'F_M']\n"
     ]
    },
    {
     "name": "stderr",
     "output_type": "stream",
     "text": [
      "100%|██████████| 10/10 [00:04<00:00,  2.17it/s]\n",
      " 56%|█████▌    | 4420/7864 [25:22<4:56:22,  5.16s/it, batch=4410, gpu_temp=56, loss={'chord': tensor(0.7308, device='cuda:0', grad_fn=<NllLossBackward0>), 'velocity': tensor(0.3918, device='cuda:0', grad_fn=<NllLossBackward0>), 'polyphony': tensor(0.2420, device='cuda:0', grad_fn=<NllLossBackward0>), 'density': tensor(0.2712, device='cuda:0', grad_fn=<NllLossBackward0>), 'piano_roll': tensor(1.1292, device='cuda:0', grad_fn=<NllLoss2DBackward0>), 'total': tensor(2.7650, device='cuda:0', grad_fn=<AddBackward0>)}]"
     ]
    },
    {
     "name": "stdout",
     "output_type": "stream",
     "text": [
      "Generated:  [{'type': 'pitch', 'value': 39}, {'type': 'velocity', 'value': 17}, {'type': 'pitch', 'value': 51}, {'type': 'velocity', 'value': 15}, {'type': 'pitch', 'value': 55}, {'type': 'velocity', 'value': 20}, 'next_frame', 'next_frame', 'next_frame', 'next_frame']\n",
      "Chords:  ['C_M7', 'C_M7', 'C_M7', 'C_M7', 'A_m7', 'A_m7', 'A_m7', 'A_m7', 'F_M', 'F_M', 'F_M', 'F_M', 'G_M', 'G_M', 'G_M', 'G_M', 'C_M7', 'C_M7', 'C_M7', 'C_M7', 'A_m7', 'A_m7', 'A_m7', 'A_m7', 'C_M7', 'C_M7', 'C_M7', 'C_M7', 'F_M7', 'F_M7', 'F_M', 'F_M']\n"
     ]
    },
    {
     "name": "stderr",
     "output_type": "stream",
     "text": [
      "100%|██████████| 16/16 [00:10<00:00,  1.49it/s]t/s, batch=4910, gpu_temp=61, loss={'chord': tensor(0.7575, device='cuda:0', grad_fn=<NllLossBackward0>), 'velocity': tensor(0.3893, device='cuda:0', grad_fn=<NllLossBackward0>), 'polyphony': tensor(0.2329, device='cuda:0', grad_fn=<NllLossBackward0>), 'density': tensor(0.2865, device='cuda:0', grad_fn=<NllLossBackward0>), 'piano_roll': tensor(1.0164, device='cuda:0', grad_fn=<NllLoss2DBackward0>), 'total': tensor(2.6826, device='cuda:0', grad_fn=<AddBackward0>)}]  \n"
     ]
    },
    {
     "name": "stdout",
     "output_type": "stream",
     "text": [
      "Generated:  [{'type': 'pitch', 'value': 12}, {'type': 'velocity', 'value': 23}, {'type': 'pitch', 'value': 24}, {'type': 'velocity', 'value': 24}, 'next_frame', 'next_frame', 'next_frame', 'next_frame', {'type': 'pitch', 'value': 48}, {'type': 'velocity', 'value': 23}]\n",
      "Chords:  ['A_m', 'A_m', 'A_m7', 'A_m7', 'A_m7', 'A_m7', 'F_M7', 'F_M7', 'C_M', 'C_M', 'C_M7', 'C_M7', 'A_m', 'A_m', 'F_M7', 'F_M7', 'C_M', 'C_M', 'G_M', 'G_M', 'A_m', 'A_m', 'F_M7', 'F_M7', 'C_M', 'C_M', 'C_M7', 'C_M7', 'A_m7', 'A_m7', 'F_M7', 'F_M7']\n"
     ]
    },
    {
     "name": "stderr",
     "output_type": "stream",
     "text": [
      "100%|██████████| 10/10 [00:04<00:00,  2.07it/s]\n",
      " 62%|██████▏   | 4911/7864 [28:09<4:05:51,  5.00s/it, batch=4910, gpu_temp=61, loss={'chord': tensor(0.7575, device='cuda:0', grad_fn=<NllLossBackward0>), 'velocity': tensor(0.3893, device='cuda:0', grad_fn=<NllLossBackward0>), 'polyphony': tensor(0.2329, device='cuda:0', grad_fn=<NllLossBackward0>), 'density': tensor(0.2865, device='cuda:0', grad_fn=<NllLossBackward0>), 'piano_roll': tensor(1.0164, device='cuda:0', grad_fn=<NllLoss2DBackward0>), 'total': tensor(2.6826, device='cuda:0', grad_fn=<AddBackward0>)}]"
     ]
    },
    {
     "name": "stdout",
     "output_type": "stream",
     "text": [
      "Generated:  [{'type': 'pitch', 'value': 39}, {'type': 'velocity', 'value': 17}, {'type': 'pitch', 'value': 51}, {'type': 'velocity', 'value': 15}, {'type': 'pitch', 'value': 55}, {'type': 'velocity', 'value': 20}, 'next_frame', 'next_frame', 'next_frame', 'next_frame']\n",
      "Chords:  ['C_M7', 'C_M7', 'C_M7', 'C_M7', 'A_m7', 'A_m7', 'A_m7', 'A_m7', 'F_M', 'F_M', 'F_M', 'F_M', 'G_M', 'G_M', 'G_M', 'G_M', 'C_M7', 'C_M7', 'C_M7', 'C_M7', 'A_m7', 'A_m7', 'A_m7', 'A_m7', 'C_M7', 'C_M7', 'C_M7', 'C_M7', 'G_M', 'G_M', 'G_M', 'G_M']\n"
     ]
    },
    {
     "name": "stderr",
     "output_type": "stream",
     "text": [
      "100%|██████████| 16/16 [00:09<00:00,  1.69it/s]t/s, batch=5400, gpu_temp=54, loss={'chord': tensor(0.6285, device='cuda:0', grad_fn=<NllLossBackward0>), 'velocity': tensor(0.3594, device='cuda:0', grad_fn=<NllLossBackward0>), 'polyphony': tensor(0.2407, device='cuda:0', grad_fn=<NllLossBackward0>), 'density': tensor(0.2657, device='cuda:0', grad_fn=<NllLossBackward0>), 'piano_roll': tensor(0.9934, device='cuda:0', grad_fn=<NllLoss2DBackward0>), 'total': tensor(2.4876, device='cuda:0', grad_fn=<AddBackward0>)}]  \n"
     ]
    },
    {
     "name": "stdout",
     "output_type": "stream",
     "text": [
      "Generated:  [{'type': 'pitch', 'value': 12}, {'type': 'velocity', 'value': 22}, {'type': 'pitch', 'value': 24}, {'type': 'velocity', 'value': 22}, {'type': 'pitch', 'value': 48}, {'type': 'velocity', 'value': 22}, {'type': 'pitch', 'value': 53}, {'type': 'velocity', 'value': 23}, 'next_frame', 'next_frame']\n",
      "Chords:  ['A_m', 'A_m', 'None', 'None', 'F_M7', 'F_M7', 'F_M7', 'F_M7', 'C_M', 'C_M', 'C_M', 'C_M', 'A_m', 'A_m', 'A_m7', 'A_m7', 'None', 'None', 'None', 'None', 'F_M7', 'F_M7', 'C_M', 'C_M', 'C_M', 'C_M', 'C_M', 'C_M', 'F_M', 'F_M', 'F_M', 'F_M']\n"
     ]
    },
    {
     "name": "stderr",
     "output_type": "stream",
     "text": [
      "100%|██████████| 10/10 [00:05<00:00,  1.68it/s]\n",
      " 69%|██████▊   | 5402/7864 [31:03<3:28:22,  5.08s/it, batch=5400, gpu_temp=54, loss={'chord': tensor(0.6285, device='cuda:0', grad_fn=<NllLossBackward0>), 'velocity': tensor(0.3594, device='cuda:0', grad_fn=<NllLossBackward0>), 'polyphony': tensor(0.2407, device='cuda:0', grad_fn=<NllLossBackward0>), 'density': tensor(0.2657, device='cuda:0', grad_fn=<NllLossBackward0>), 'piano_roll': tensor(0.9934, device='cuda:0', grad_fn=<NllLoss2DBackward0>), 'total': tensor(2.4876, device='cuda:0', grad_fn=<AddBackward0>)}]"
     ]
    },
    {
     "name": "stdout",
     "output_type": "stream",
     "text": [
      "Generated:  [{'type': 'pitch', 'value': 39}, {'type': 'velocity', 'value': 17}, {'type': 'pitch', 'value': 51}, {'type': 'velocity', 'value': 15}, {'type': 'pitch', 'value': 55}, {'type': 'velocity', 'value': 20}, 'next_frame', 'next_frame', 'next_frame', 'next_frame']\n",
      "Chords:  ['C_M7', 'C_M7', 'C_M7', 'C_M7', 'A_m7', 'A_m7', 'A_m7', 'A_m7', 'F_M', 'F_M', 'F_M', 'F_M', 'G_M', 'G_M', 'G_M', 'G_M', 'C_M7', 'C_M7', 'C_M7', 'C_M7', 'A_m7', 'A_m7', 'A_m7', 'A_m7', 'F_M7', 'F_M7', 'F_M7', 'F_M7', 'G_M', 'G_M', 'G_M', 'G_M']\n"
     ]
    },
    {
     "name": "stderr",
     "output_type": "stream",
     "text": [
      "100%|██████████| 16/16 [00:11<00:00,  1.38it/s]t/s, batch=5890, gpu_temp=63, loss={'chord': tensor(0.7229, device='cuda:0', grad_fn=<NllLossBackward0>), 'velocity': tensor(0.3697, device='cuda:0', grad_fn=<NllLossBackward0>), 'polyphony': tensor(0.2845, device='cuda:0', grad_fn=<NllLossBackward0>), 'density': tensor(0.2877, device='cuda:0', grad_fn=<NllLossBackward0>), 'piano_roll': tensor(0.9601, device='cuda:0', grad_fn=<NllLoss2DBackward0>), 'total': tensor(2.6249, device='cuda:0', grad_fn=<AddBackward0>)}]  \n"
     ]
    },
    {
     "name": "stdout",
     "output_type": "stream",
     "text": [
      "Generated:  ['next_frame', 'next_frame', 'next_frame', {'type': 'pitch', 'value': 20}, {'type': 'velocity', 'value': 17}, {'type': 'pitch', 'value': 27}, {'type': 'velocity', 'value': 19}, {'type': 'pitch', 'value': 32}, {'type': 'velocity', 'value': 19}, 'next_frame']\n",
      "Chords:  ['F#_m7', 'F#_m7', 'B_m7', 'B_m7', 'G_M7', 'G_M7', 'D_M7', 'D_M7', 'C#_o', 'C#_o', 'B_m7', 'B_m7', 'B_M', 'B_M', 'B_7', 'B_7', 'A_m', 'A_m', 'A_m', 'A_m', 'A_m', 'A_m', 'A_m', 'A_m', 'E_m', 'E_m', 'E_m7', 'E_m7', 'A_m', 'A_m', 'A_m', 'A_m']\n"
     ]
    },
    {
     "name": "stderr",
     "output_type": "stream",
     "text": [
      "100%|██████████| 10/10 [00:05<00:00,  1.98it/s]\n",
      " 75%|███████▍  | 5893/7864 [33:50<2:58:43,  5.44s/it, batch=5890, gpu_temp=63, loss={'chord': tensor(0.7229, device='cuda:0', grad_fn=<NllLossBackward0>), 'velocity': tensor(0.3697, device='cuda:0', grad_fn=<NllLossBackward0>), 'polyphony': tensor(0.2845, device='cuda:0', grad_fn=<NllLossBackward0>), 'density': tensor(0.2877, device='cuda:0', grad_fn=<NllLossBackward0>), 'piano_roll': tensor(0.9601, device='cuda:0', grad_fn=<NllLoss2DBackward0>), 'total': tensor(2.6249, device='cuda:0', grad_fn=<AddBackward0>)}]"
     ]
    },
    {
     "name": "stdout",
     "output_type": "stream",
     "text": [
      "Generated:  [{'type': 'pitch', 'value': 39}, {'type': 'velocity', 'value': 17}, {'type': 'pitch', 'value': 51}, {'type': 'velocity', 'value': 15}, {'type': 'pitch', 'value': 55}, {'type': 'velocity', 'value': 20}, 'next_frame', 'next_frame', 'next_frame', 'next_frame']\n",
      "Chords:  ['C_M7', 'C_M7', 'C_M7', 'C_M7', 'A_m7', 'A_m7', 'A_m7', 'A_m7', 'F_M', 'F_M', 'F_M', 'F_M', 'G_M', 'G_M', 'G_M', 'G_M', 'C_M7', 'C_M7', 'C_M7', 'C_M7', 'A_m7', 'A_m7', 'A_m7', 'A_m7', 'F_M', 'F_M', 'F_M', 'F_M', 'F_M7', 'F_M7', 'F_M7', 'F_M7']\n"
     ]
    },
    {
     "name": "stderr",
     "output_type": "stream",
     "text": [
      "100%|██████████| 16/16 [00:11<00:00,  1.44it/s]t/s, batch=6380, gpu_temp=62, loss={'chord': tensor(0.7739, device='cuda:0', grad_fn=<NllLossBackward0>), 'velocity': tensor(0.3619, device='cuda:0', grad_fn=<NllLossBackward0>), 'polyphony': tensor(0.2928, device='cuda:0', grad_fn=<NllLossBackward0>), 'density': tensor(0.2876, device='cuda:0', grad_fn=<NllLossBackward0>), 'piano_roll': tensor(1.0711, device='cuda:0', grad_fn=<NllLoss2DBackward0>), 'total': tensor(2.7872, device='cuda:0', grad_fn=<AddBackward0>)}]  \n"
     ]
    },
    {
     "name": "stdout",
     "output_type": "stream",
     "text": [
      "Generated:  [{'type': 'pitch', 'value': 27}, {'type': 'velocity', 'value': 17}, {'type': 'pitch', 'value': 53}, {'type': 'velocity', 'value': 20}, 'next_frame', 'next_frame', 'next_frame', 'next_frame', {'type': 'pitch', 'value': 34}, {'type': 'velocity', 'value': 16}]\n",
      "Chords:  ['B_m7', 'B_m7', 'B_o', 'B_o', 'E_m7', 'E_m7', 'E_m7', 'E_m7', 'F_M', 'F_M', 'F_M', 'F_M', 'G_7', 'G_7', 'G_7', 'G_7', 'F_M', 'F_M', 'F_M', 'F_M', 'G_M', 'G_M', 'G_M', 'G_M', 'A_m7', 'A_m7', 'A_m7', 'A_m7', 'E_m7', 'E_m7', 'E_m7', 'E_m7']\n"
     ]
    },
    {
     "name": "stderr",
     "output_type": "stream",
     "text": [
      "100%|██████████| 10/10 [00:04<00:00,  2.31it/s]\n",
      " 81%|████████  | 6384/7864 [36:43<2:03:04,  4.99s/it, batch=6380, gpu_temp=62, loss={'chord': tensor(0.7739, device='cuda:0', grad_fn=<NllLossBackward0>), 'velocity': tensor(0.3619, device='cuda:0', grad_fn=<NllLossBackward0>), 'polyphony': tensor(0.2928, device='cuda:0', grad_fn=<NllLossBackward0>), 'density': tensor(0.2876, device='cuda:0', grad_fn=<NllLossBackward0>), 'piano_roll': tensor(1.0711, device='cuda:0', grad_fn=<NllLoss2DBackward0>), 'total': tensor(2.7872, device='cuda:0', grad_fn=<AddBackward0>)}]"
     ]
    },
    {
     "name": "stdout",
     "output_type": "stream",
     "text": [
      "Generated:  [{'type': 'pitch', 'value': 39}, {'type': 'velocity', 'value': 17}, {'type': 'pitch', 'value': 51}, {'type': 'velocity', 'value': 15}, {'type': 'pitch', 'value': 55}, {'type': 'velocity', 'value': 20}, 'next_frame', 'next_frame', 'next_frame', 'next_frame']\n",
      "Chords:  ['C_M7', 'C_M7', 'C_M7', 'C_M7', 'A_m7', 'A_m7', 'A_m7', 'A_m7', 'F_M', 'F_M', 'F_M', 'F_M', 'G_M', 'G_M', 'G_M', 'G_M', 'C_M7', 'C_M7', 'C_M7', 'C_M7', 'A_m7', 'A_m7', 'A_m7', 'A_m7', 'F_M', 'F_M', 'F_M', 'F_M7', 'F_M7', 'C_M', 'C_M', 'C_M']\n"
     ]
    },
    {
     "name": "stderr",
     "output_type": "stream",
     "text": [
      "100%|██████████| 16/16 [00:10<00:00,  1.50it/s]t/s, batch=6870, gpu_temp=56, loss={'chord': tensor(0.6465, device='cuda:0', grad_fn=<NllLossBackward0>), 'velocity': tensor(0.3472, device='cuda:0', grad_fn=<NllLossBackward0>), 'polyphony': tensor(0.2401, device='cuda:0', grad_fn=<NllLossBackward0>), 'density': tensor(0.2527, device='cuda:0', grad_fn=<NllLossBackward0>), 'piano_roll': tensor(0.9682, device='cuda:0', grad_fn=<NllLoss2DBackward0>), 'total': tensor(2.4547, device='cuda:0', grad_fn=<AddBackward0>)}]  \n"
     ]
    },
    {
     "name": "stdout",
     "output_type": "stream",
     "text": [
      "Generated:  [{'type': 'pitch', 'value': 15}, {'type': 'velocity', 'value': 19}, 'next_frame', 'next_frame', 'next_frame', 'next_frame', {'type': 'pitch', 'value': 22}, {'type': 'velocity', 'value': 18}, {'type': 'pitch', 'value': 46}, {'type': 'velocity', 'value': 20}]\n",
      "Chords:  ['A_m7', 'A_m7', 'C_M7', 'C_M7', 'G_M', 'G_M', 'G_M', 'G_M', 'A_m7', 'A_m7', 'A_m7', 'A_m7', 'C_M7', 'C_M7', 'C_M7', 'C_M7', 'G_M', 'G_M', 'G_M', 'G_M', 'A_m7', 'A_m7', 'A_m7', 'A_m7', 'C_M', 'C_M', 'C_M7', 'C_M7', 'G_M', 'G_M', 'G_M', 'G_M']\n"
     ]
    },
    {
     "name": "stderr",
     "output_type": "stream",
     "text": [
      "100%|██████████| 10/10 [00:05<00:00,  1.83it/s]\n",
      " 87%|████████▋ | 6875/7864 [39:31<1:25:27,  5.18s/it, batch=6870, gpu_temp=56, loss={'chord': tensor(0.6465, device='cuda:0', grad_fn=<NllLossBackward0>), 'velocity': tensor(0.3472, device='cuda:0', grad_fn=<NllLossBackward0>), 'polyphony': tensor(0.2401, device='cuda:0', grad_fn=<NllLossBackward0>), 'density': tensor(0.2527, device='cuda:0', grad_fn=<NllLossBackward0>), 'piano_roll': tensor(0.9682, device='cuda:0', grad_fn=<NllLoss2DBackward0>), 'total': tensor(2.4547, device='cuda:0', grad_fn=<AddBackward0>)}]"
     ]
    },
    {
     "name": "stdout",
     "output_type": "stream",
     "text": [
      "Generated:  [{'type': 'pitch', 'value': 39}, {'type': 'velocity', 'value': 17}, {'type': 'pitch', 'value': 51}, {'type': 'velocity', 'value': 15}, {'type': 'pitch', 'value': 55}, {'type': 'velocity', 'value': 20}, 'next_frame', 'next_frame', 'next_frame', 'next_frame']\n",
      "Chords:  ['C_M7', 'C_M7', 'C_M7', 'C_M7', 'A_m7', 'A_m7', 'A_m7', 'A_m7', 'F_M', 'F_M', 'F_M', 'F_M', 'G_M', 'G_M', 'G_M', 'G_M', 'C_M7', 'C_M7', 'C_M7', 'C_M7', 'A_m7', 'A_m7', 'A_m7', 'A_m7', 'C_M7', 'C_M7', 'C_M7', 'C_M7', 'A_m7', 'A_m7', 'A_m7', 'A_m7']\n"
     ]
    },
    {
     "name": "stderr",
     "output_type": "stream",
     "text": [
      "100%|██████████| 16/16 [00:15<00:00,  1.06it/s]t/s, batch=7360, gpu_temp=56, loss={'chord': tensor(0.7010, device='cuda:0', grad_fn=<NllLossBackward0>), 'velocity': tensor(0.3511, device='cuda:0', grad_fn=<NllLossBackward0>), 'polyphony': tensor(0.2819, device='cuda:0', grad_fn=<NllLossBackward0>), 'density': tensor(0.2699, device='cuda:0', grad_fn=<NllLossBackward0>), 'piano_roll': tensor(1.0342, device='cuda:0', grad_fn=<NllLoss2DBackward0>), 'total': tensor(2.6380, device='cuda:0', grad_fn=<AddBackward0>)}]  \n"
     ]
    },
    {
     "name": "stdout",
     "output_type": "stream",
     "text": [
      "Generated:  [{'type': 'pitch', 'value': 39}, {'type': 'velocity', 'value': 19}, 'next_frame', 'next_frame', 'next_frame', 'next_frame', {'type': 'pitch', 'value': 27}, {'type': 'velocity', 'value': 16}, {'type': 'pitch', 'value': 46}, {'type': 'velocity', 'value': 19}]\n",
      "Chords:  ['None', 'None', 'A_m', 'A_m', 'C_M', 'C_M', 'C_M7', 'C_M7', 'E_m', 'E_m', 'E_m7', 'E_m7', 'A_m7', 'A_m7', 'A_m7', 'A_m7', 'D_m', 'D_m', 'D_m7', 'D_m7', 'C_M', 'C_M', 'C_M', 'C_M', 'F_M7', 'F_M7', 'F_M7', 'F_M7', 'C_M', 'C_M', 'C_M', 'C_M']\n"
     ]
    },
    {
     "name": "stderr",
     "output_type": "stream",
     "text": [
      "100%|██████████| 10/10 [00:05<00:00,  1.85it/s]\n",
      " 94%|█████████▎| 7366/7864 [42:25<53:54,  6.49s/it, batch=7360, gpu_temp=56, loss={'chord': tensor(0.7010, device='cuda:0', grad_fn=<NllLossBackward0>), 'velocity': tensor(0.3511, device='cuda:0', grad_fn=<NllLossBackward0>), 'polyphony': tensor(0.2819, device='cuda:0', grad_fn=<NllLossBackward0>), 'density': tensor(0.2699, device='cuda:0', grad_fn=<NllLossBackward0>), 'piano_roll': tensor(1.0342, device='cuda:0', grad_fn=<NllLoss2DBackward0>), 'total': tensor(2.6380, device='cuda:0', grad_fn=<AddBackward0>)}]"
     ]
    },
    {
     "name": "stdout",
     "output_type": "stream",
     "text": [
      "Generated:  [{'type': 'pitch', 'value': 39}, {'type': 'velocity', 'value': 17}, {'type': 'pitch', 'value': 51}, {'type': 'velocity', 'value': 15}, {'type': 'pitch', 'value': 55}, {'type': 'velocity', 'value': 20}, 'next_frame', 'next_frame', 'next_frame', 'next_frame']\n",
      "Chords:  ['C_M7', 'C_M7', 'C_M7', 'C_M7', 'A_m7', 'A_m7', 'A_m7', 'A_m7', 'F_M', 'F_M', 'F_M', 'F_M', 'G_M', 'G_M', 'G_M', 'G_M', 'C_M7', 'C_M7', 'C_M7', 'C_M7', 'A_m7', 'A_m7', 'A_m7', 'A_m7', 'A_m7', 'A_m7', 'A_m7', 'A_m7', 'F_M', 'F_M', 'F_M', 'F_M7']\n"
     ]
    },
    {
     "name": "stderr",
     "output_type": "stream",
     "text": [
      "100%|██████████| 16/16 [00:11<00:00,  1.35it/s]t/s, batch=7850, gpu_temp=60, loss={'chord': tensor(0.7138, device='cuda:0', grad_fn=<NllLossBackward0>), 'velocity': tensor(0.4424, device='cuda:0', grad_fn=<NllLossBackward0>), 'polyphony': tensor(0.2346, device='cuda:0', grad_fn=<NllLossBackward0>), 'density': tensor(0.2796, device='cuda:0', grad_fn=<NllLossBackward0>), 'piano_roll': tensor(1.0368, device='cuda:0', grad_fn=<NllLoss2DBackward0>), 'total': tensor(2.7072, device='cuda:0', grad_fn=<AddBackward0>)}]\n"
     ]
    },
    {
     "name": "stdout",
     "output_type": "stream",
     "text": [
      "Generated:  [{'type': 'pitch', 'value': 8}, {'type': 'velocity', 'value': 20}, {'type': 'pitch', 'value': 20}, {'type': 'velocity', 'value': 21}, {'type': 'pitch', 'value': 39}, {'type': 'velocity', 'value': 20}, {'type': 'pitch', 'value': 51}, {'type': 'velocity', 'value': 22}, 'next_frame', 'next_frame']\n",
      "Chords:  ['E_m7', 'E_m7', 'C_M', 'C_M', 'G_M', 'G_M', 'G_M', 'G_M', 'F_M', 'F_M', 'F_M', 'F_M', 'G_M', 'G_M', 'G_7', 'G_7', 'D_m7', 'D_m7', 'F_M', 'F_M', 'C_M7', 'C_M7', 'G_M', 'G_M', 'A_sus2', 'A_m', 'A_m', 'A_m', 'F_M', 'F_M', 'F_M', 'F_M']\n"
     ]
    },
    {
     "name": "stderr",
     "output_type": "stream",
     "text": [
      "100%|██████████| 10/10 [00:04<00:00,  2.04it/s]\n",
      "100%|█████████▉| 7857/7864 [45:16<00:37,  5.32s/it, batch=7850, gpu_temp=60, loss={'chord': tensor(0.7138, device='cuda:0', grad_fn=<NllLossBackward0>), 'velocity': tensor(0.4424, device='cuda:0', grad_fn=<NllLossBackward0>), 'polyphony': tensor(0.2346, device='cuda:0', grad_fn=<NllLossBackward0>), 'density': tensor(0.2796, device='cuda:0', grad_fn=<NllLossBackward0>), 'piano_roll': tensor(1.0368, device='cuda:0', grad_fn=<NllLoss2DBackward0>), 'total': tensor(2.7072, device='cuda:0', grad_fn=<AddBackward0>)}]"
     ]
    },
    {
     "name": "stdout",
     "output_type": "stream",
     "text": [
      "Generated:  [{'type': 'pitch', 'value': 39}, {'type': 'velocity', 'value': 17}, {'type': 'pitch', 'value': 51}, {'type': 'velocity', 'value': 15}, {'type': 'pitch', 'value': 55}, {'type': 'velocity', 'value': 20}, 'next_frame', 'next_frame', 'next_frame', 'next_frame']\n",
      "Chords:  ['C_M7', 'C_M7', 'C_M7', 'C_M7', 'A_m7', 'A_m7', 'A_m7', 'A_m7', 'F_M', 'F_M', 'F_M', 'F_M', 'G_M', 'G_M', 'G_M', 'G_M', 'C_M7', 'C_M7', 'C_M7', 'C_M7', 'A_m7', 'A_m7', 'A_m7', 'A_m7', 'F_M', 'F_M', 'F_M', 'F_M', 'G_M', 'G_M', 'G_M', 'G_M']\n"
     ]
    },
    {
     "name": "stderr",
     "output_type": "stream",
     "text": [
      "100%|██████████| 7864/7864 [45:19<00:00,  2.89it/s, batch=7860, gpu_temp=58, loss={'chord': tensor(0.6654, device='cuda:0', grad_fn=<NllLossBackward0>), 'velocity': tensor(0.3867, device='cuda:0', grad_fn=<NllLossBackward0>), 'polyphony': tensor(0.2901, device='cuda:0', grad_fn=<NllLossBackward0>), 'density': tensor(0.3000, device='cuda:0', grad_fn=<NllLossBackward0>), 'piano_roll': tensor(1.0289, device='cuda:0', grad_fn=<NllLoss2DBackward0>), 'total': tensor(2.6710, device='cuda:0', grad_fn=<AddBackward0>)}]\n",
      "100%|██████████| 16/16 [00:12<00:00,  1.26it/s]/s, batch=490, gpu_temp=61, loss={'chord': tensor(0.7360, device='cuda:0', grad_fn=<NllLossBackward0>), 'velocity': tensor(0.3238, device='cuda:0', grad_fn=<NllLossBackward0>), 'polyphony': tensor(0.2617, device='cuda:0', grad_fn=<NllLossBackward0>), 'density': tensor(0.3025, device='cuda:0', grad_fn=<NllLossBackward0>), 'piano_roll': tensor(0.9863, device='cuda:0', grad_fn=<NllLoss2DBackward0>), 'total': tensor(2.6103, device='cuda:0', grad_fn=<AddBackward0>)}]\n"
     ]
    },
    {
     "name": "stdout",
     "output_type": "stream",
     "text": [
      "Generated:  [{'type': 'pitch', 'value': 24}, {'type': 'velocity', 'value': 21}, {'type': 'pitch', 'value': 36}, {'type': 'velocity', 'value': 23}, 'next_frame', 'next_frame', 'next_frame', 'next_frame', {'type': 'pitch', 'value': 36}, {'type': 'velocity', 'value': 20}]\n",
      "Chords:  ['G_sus2', 'G_sus2', 'F_M', 'F_M', 'F_M', 'F_M', 'F_M7', 'F_M7', 'A_m7', 'A_m7', 'A_m7', 'A_m7', 'D_m7', 'D_m7', 'F_M', 'F_M', 'F_M', 'F_M', 'C_+', 'C_+', 'A_m7', 'A_m7', 'A_m7', 'A_m7', 'A_m7', 'A_m7', 'A_m', 'A_m', 'F_sus2', 'F_sus2', 'F_M', 'F_M']\n"
     ]
    },
    {
     "name": "stderr",
     "output_type": "stream",
     "text": [
      "100%|██████████| 10/10 [00:05<00:00,  1.79it/s]\n",
      "  6%|▋         | 492/7864 [03:01<11:52:54,  5.80s/it, batch=490, gpu_temp=61, loss={'chord': tensor(0.7360, device='cuda:0', grad_fn=<NllLossBackward0>), 'velocity': tensor(0.3238, device='cuda:0', grad_fn=<NllLossBackward0>), 'polyphony': tensor(0.2617, device='cuda:0', grad_fn=<NllLossBackward0>), 'density': tensor(0.3025, device='cuda:0', grad_fn=<NllLossBackward0>), 'piano_roll': tensor(0.9863, device='cuda:0', grad_fn=<NllLoss2DBackward0>), 'total': tensor(2.6103, device='cuda:0', grad_fn=<AddBackward0>)}]"
     ]
    },
    {
     "name": "stdout",
     "output_type": "stream",
     "text": [
      "Generated:  [{'type': 'pitch', 'value': 39}, {'type': 'velocity', 'value': 17}, {'type': 'pitch', 'value': 51}, {'type': 'velocity', 'value': 15}, {'type': 'pitch', 'value': 55}, {'type': 'velocity', 'value': 20}, 'next_frame', 'next_frame', 'next_frame', 'next_frame']\n",
      "Chords:  ['C_M7', 'C_M7', 'C_M7', 'C_M7', 'A_m7', 'A_m7', 'A_m7', 'A_m7', 'F_M', 'F_M', 'F_M', 'F_M', 'G_M', 'G_M', 'G_M', 'G_M', 'C_M7', 'C_M7', 'C_M7', 'C_M7', 'A_m7', 'A_m7', 'A_m7', 'A_m7', 'F_M7', 'F_M7', 'A_m7', 'A_m7', 'G_sus4', 'G_sus4', 'G_M', 'D_m7']\n"
     ]
    },
    {
     "name": "stderr",
     "output_type": "stream",
     "text": [
      "100%|██████████| 16/16 [00:13<00:00,  1.15it/s]s/it, batch=980, gpu_temp=57, loss={'chord': tensor(0.7339, device='cuda:0', grad_fn=<NllLossBackward0>), 'velocity': tensor(0.3137, device='cuda:0', grad_fn=<NllLossBackward0>), 'polyphony': tensor(0.2660, device='cuda:0', grad_fn=<NllLossBackward0>), 'density': tensor(0.2956, device='cuda:0', grad_fn=<NllLossBackward0>), 'piano_roll': tensor(0.9890, device='cuda:0', grad_fn=<NllLoss2DBackward0>), 'total': tensor(2.5982, device='cuda:0', grad_fn=<AddBackward0>)}] \n"
     ]
    },
    {
     "name": "stdout",
     "output_type": "stream",
     "text": [
      "Generated:  [{'type': 'pitch', 'value': 10}, {'type': 'velocity', 'value': 18}, {'type': 'pitch', 'value': 22}, {'type': 'velocity', 'value': 18}, {'type': 'pitch', 'value': 34}, {'type': 'velocity', 'value': 16}, 'next_frame', 'next_frame', 'next_frame', 'next_frame']\n",
      "Chords:  ['C_m', 'C_m', 'G#_M7', 'G#_M7', 'G#_M', 'G#_M', 'G#_M', 'G#_M', 'G_m7', 'G_m7', 'C_m7', 'C_m7', 'D_o', 'D_o', 'D_o', 'G_m', 'G_7', 'G_7', 'G_M', 'G_M', 'C_M7', 'C_M7', 'A_m7', 'A_m7', 'E_m7', 'E_m7', 'E_m7', 'E_m7', 'D_sus2', 'D_M', 'D_m7', 'D_m7']\n"
     ]
    },
    {
     "name": "stderr",
     "output_type": "stream",
     "text": [
      "100%|██████████| 10/10 [00:05<00:00,  1.89it/s]\n",
      " 12%|█▎        | 983/7864 [05:55<12:42:46,  6.65s/it, batch=980, gpu_temp=57, loss={'chord': tensor(0.7339, device='cuda:0', grad_fn=<NllLossBackward0>), 'velocity': tensor(0.3137, device='cuda:0', grad_fn=<NllLossBackward0>), 'polyphony': tensor(0.2660, device='cuda:0', grad_fn=<NllLossBackward0>), 'density': tensor(0.2956, device='cuda:0', grad_fn=<NllLossBackward0>), 'piano_roll': tensor(0.9890, device='cuda:0', grad_fn=<NllLoss2DBackward0>), 'total': tensor(2.5982, device='cuda:0', grad_fn=<AddBackward0>)}]"
     ]
    },
    {
     "name": "stdout",
     "output_type": "stream",
     "text": [
      "Generated:  [{'type': 'pitch', 'value': 39}, {'type': 'velocity', 'value': 17}, {'type': 'pitch', 'value': 51}, {'type': 'velocity', 'value': 15}, {'type': 'pitch', 'value': 55}, {'type': 'velocity', 'value': 20}, 'next_frame', 'next_frame', 'next_frame', 'next_frame']\n",
      "Chords:  ['C_M7', 'C_M7', 'C_M7', 'C_M7', 'A_m7', 'A_m7', 'A_m7', 'A_m7', 'F_M', 'F_M', 'F_M', 'F_M', 'G_M', 'G_M', 'G_M', 'G_M', 'C_M7', 'C_M7', 'C_M7', 'C_M7', 'A_m7', 'A_m7', 'A_m7', 'A_m7', 'F_M', 'F_M', 'F_M', 'F_M', 'C_sus2', 'C_sus2', 'G_7', 'G_7']\n"
     ]
    },
    {
     "name": "stderr",
     "output_type": "stream",
     "text": [
      "100%|██████████| 16/16 [00:13<00:00,  1.22it/s]t/s, batch=1470, gpu_temp=63, loss={'chord': tensor(0.6952, device='cuda:0', grad_fn=<NllLossBackward0>), 'velocity': tensor(0.3659, device='cuda:0', grad_fn=<NllLossBackward0>), 'polyphony': tensor(0.2331, device='cuda:0', grad_fn=<NllLossBackward0>), 'density': tensor(0.3760, device='cuda:0', grad_fn=<NllLossBackward0>), 'piano_roll': tensor(0.9951, device='cuda:0', grad_fn=<NllLoss2DBackward0>), 'total': tensor(2.6653, device='cuda:0', grad_fn=<AddBackward0>)}]  \n"
     ]
    },
    {
     "name": "stdout",
     "output_type": "stream",
     "text": [
      "Generated:  [{'type': 'pitch', 'value': 24}, {'type': 'velocity', 'value': 20}, {'type': 'pitch', 'value': 48}, {'type': 'velocity', 'value': 20}, {'type': 'pitch', 'value': 55}, {'type': 'velocity', 'value': 23}, 'next_frame', 'next_frame', 'next_frame', 'next_frame']\n",
      "Chords:  ['A_m7', 'A_m7', 'F_M7', 'F_M7', 'A_m7', 'A_m7', 'A_m7', 'A_m7', 'A_m7', 'A_m7', 'A_m7', 'A_m7', 'D_m7', 'D_m7', 'F_M7', 'F_M7', 'F_M7', 'F_M7', 'F_M7', 'F_M7', 'C_M', 'C_M', 'C_M7', 'C_M7', 'E_m7', 'E_m7', 'E_m7', 'E_m7', 'A_m7', 'A_m7', 'A_m7', 'A_m7']\n"
     ]
    },
    {
     "name": "stderr",
     "output_type": "stream",
     "text": [
      "100%|██████████| 10/10 [00:05<00:00,  1.96it/s]\n",
      " 19%|█▊        | 1474/7864 [08:46<10:19:39,  5.82s/it, batch=1470, gpu_temp=63, loss={'chord': tensor(0.6952, device='cuda:0', grad_fn=<NllLossBackward0>), 'velocity': tensor(0.3659, device='cuda:0', grad_fn=<NllLossBackward0>), 'polyphony': tensor(0.2331, device='cuda:0', grad_fn=<NllLossBackward0>), 'density': tensor(0.3760, device='cuda:0', grad_fn=<NllLossBackward0>), 'piano_roll': tensor(0.9951, device='cuda:0', grad_fn=<NllLoss2DBackward0>), 'total': tensor(2.6653, device='cuda:0', grad_fn=<AddBackward0>)}]"
     ]
    },
    {
     "name": "stdout",
     "output_type": "stream",
     "text": [
      "Generated:  [{'type': 'pitch', 'value': 39}, {'type': 'velocity', 'value': 17}, {'type': 'pitch', 'value': 51}, {'type': 'velocity', 'value': 15}, {'type': 'pitch', 'value': 55}, {'type': 'velocity', 'value': 20}, 'next_frame', 'next_frame', 'next_frame', 'next_frame']\n",
      "Chords:  ['C_M7', 'C_M7', 'C_M7', 'C_M7', 'A_m7', 'A_m7', 'A_m7', 'A_m7', 'F_M', 'F_M', 'F_M', 'F_M', 'G_M', 'G_M', 'G_M', 'G_M', 'C_M7', 'C_M7', 'C_M7', 'C_M7', 'A_m7', 'A_m7', 'A_m7', 'A_m7', 'C_M7', 'C_M7', 'C_M7', 'C_M7', 'C_M', 'C_M', 'C_M7', 'C_M7']\n"
     ]
    },
    {
     "name": "stderr",
     "output_type": "stream",
     "text": [
      "100%|██████████| 16/16 [00:13<00:00,  1.23it/s]t/s, batch=1960, gpu_temp=56, loss={'chord': tensor(0.6885, device='cuda:0', grad_fn=<NllLossBackward0>), 'velocity': tensor(0.3617, device='cuda:0', grad_fn=<NllLossBackward0>), 'polyphony': tensor(0.2463, device='cuda:0', grad_fn=<NllLossBackward0>), 'density': tensor(0.3233, device='cuda:0', grad_fn=<NllLossBackward0>), 'piano_roll': tensor(1.0253, device='cuda:0', grad_fn=<NllLoss2DBackward0>), 'total': tensor(2.6450, device='cuda:0', grad_fn=<AddBackward0>)}]   \n"
     ]
    },
    {
     "name": "stdout",
     "output_type": "stream",
     "text": [
      "Generated:  [{'type': 'pitch', 'value': 20}, {'type': 'velocity', 'value': 22}, {'type': 'pitch', 'value': 32}, {'type': 'velocity', 'value': 21}, 'next_frame', 'next_frame', 'next_frame', 'next_frame', {'type': 'pitch', 'value': 51}, {'type': 'velocity', 'value': 21}]\n",
      "Chords:  ['A_M', 'A_M', 'A_M', 'A_M', 'A_m', 'A_m', 'A_m', 'A_m', 'A_m', 'A_m', 'A_m', 'A_m', 'G_m7', 'G_m7', 'C_M', 'C_M', 'F_M7', 'F_M7', 'F_M7', 'F_M7', 'E_m', 'E_m', 'A_m', 'A_m', 'D_m7', 'D_m7', 'D_m7', 'D_m7', 'G_m7', 'G_m7', 'C_M', 'C_M']\n"
     ]
    },
    {
     "name": "stderr",
     "output_type": "stream",
     "text": [
      "100%|██████████| 10/10 [00:05<00:00,  1.83it/s]\n",
      " 25%|██▍       | 1965/7864 [11:40<9:40:01,  5.90s/it, batch=1960, gpu_temp=56, loss={'chord': tensor(0.6885, device='cuda:0', grad_fn=<NllLossBackward0>), 'velocity': tensor(0.3617, device='cuda:0', grad_fn=<NllLossBackward0>), 'polyphony': tensor(0.2463, device='cuda:0', grad_fn=<NllLossBackward0>), 'density': tensor(0.3233, device='cuda:0', grad_fn=<NllLossBackward0>), 'piano_roll': tensor(1.0253, device='cuda:0', grad_fn=<NllLoss2DBackward0>), 'total': tensor(2.6450, device='cuda:0', grad_fn=<AddBackward0>)}]"
     ]
    },
    {
     "name": "stdout",
     "output_type": "stream",
     "text": [
      "Generated:  [{'type': 'pitch', 'value': 39}, {'type': 'velocity', 'value': 17}, {'type': 'pitch', 'value': 51}, {'type': 'velocity', 'value': 15}, {'type': 'pitch', 'value': 55}, {'type': 'velocity', 'value': 20}, 'next_frame', 'next_frame', 'next_frame', 'next_frame']\n",
      "Chords:  ['C_M7', 'C_M7', 'C_M7', 'C_M7', 'A_m7', 'A_m7', 'A_m7', 'A_m7', 'F_M', 'F_M', 'F_M', 'F_M', 'G_M', 'G_M', 'G_M', 'G_M', 'C_M7', 'C_M7', 'C_M7', 'C_M7', 'A_m7', 'A_m7', 'A_m7', 'A_m7', 'F_M', 'F_M', 'F_M', 'F_M', 'G_7', 'G_7', 'G_7', 'G_7']\n"
     ]
    },
    {
     "name": "stderr",
     "output_type": "stream",
     "text": [
      "100%|██████████| 16/16 [00:10<00:00,  1.50it/s]t/s, batch=2450, gpu_temp=61, loss={'chord': tensor(0.7348, device='cuda:0', grad_fn=<NllLossBackward0>), 'velocity': tensor(0.3445, device='cuda:0', grad_fn=<NllLossBackward0>), 'polyphony': tensor(0.2360, device='cuda:0', grad_fn=<NllLossBackward0>), 'density': tensor(0.2599, device='cuda:0', grad_fn=<NllLossBackward0>), 'piano_roll': tensor(0.9840, device='cuda:0', grad_fn=<NllLoss2DBackward0>), 'total': tensor(2.5593, device='cuda:0', grad_fn=<AddBackward0>)}]  \n"
     ]
    },
    {
     "name": "stdout",
     "output_type": "stream",
     "text": [
      "Generated:  [{'type': 'pitch', 'value': 19}, {'type': 'velocity', 'value': 18}, {'type': 'pitch', 'value': 31}, {'type': 'velocity', 'value': 18}, {'type': 'pitch', 'value': 47}, {'type': 'velocity', 'value': 20}, {'type': 'pitch', 'value': 53}, {'type': 'velocity', 'value': 21}, 'next_frame', 'next_frame']\n",
      "Chords:  ['A_m7', 'A_m7', 'A_m7', 'A_m7', 'A_m7', 'A_m7', 'A_m7', 'A_m7', 'A_m7', 'A_m7', 'A_m7', 'A_m7', 'F_M7', 'F_M7', 'F_M7', 'F_M7', 'E_m7', 'E_m7', 'G_M', 'G_M', 'A_m', 'A_m', 'A_m7', 'A_m7', 'None', 'None', 'None', 'None', 'None', 'None', 'None', 'None']\n"
     ]
    },
    {
     "name": "stderr",
     "output_type": "stream",
     "text": [
      "100%|██████████| 10/10 [00:05<00:00,  1.78it/s]\n",
      " 31%|███       | 2456/7864 [14:25<7:56:15,  5.28s/it, batch=2450, gpu_temp=61, loss={'chord': tensor(0.7348, device='cuda:0', grad_fn=<NllLossBackward0>), 'velocity': tensor(0.3445, device='cuda:0', grad_fn=<NllLossBackward0>), 'polyphony': tensor(0.2360, device='cuda:0', grad_fn=<NllLossBackward0>), 'density': tensor(0.2599, device='cuda:0', grad_fn=<NllLossBackward0>), 'piano_roll': tensor(0.9840, device='cuda:0', grad_fn=<NllLoss2DBackward0>), 'total': tensor(2.5593, device='cuda:0', grad_fn=<AddBackward0>)}]"
     ]
    },
    {
     "name": "stdout",
     "output_type": "stream",
     "text": [
      "Generated:  [{'type': 'pitch', 'value': 39}, {'type': 'velocity', 'value': 17}, {'type': 'pitch', 'value': 51}, {'type': 'velocity', 'value': 15}, {'type': 'pitch', 'value': 55}, {'type': 'velocity', 'value': 20}, 'next_frame', 'next_frame', 'next_frame', 'next_frame']\n",
      "Chords:  ['C_M7', 'C_M7', 'C_M7', 'C_M7', 'A_m7', 'A_m7', 'A_m7', 'A_m7', 'F_M', 'F_M', 'F_M', 'F_M', 'G_M', 'G_M', 'G_M', 'G_M', 'C_M7', 'C_M7', 'C_M7', 'C_M7', 'A_m7', 'A_m7', 'A_m7', 'A_m7', 'C_M7', 'C_M7', 'C_M7', 'C_M7', 'F_M', 'F_M', 'F_M', 'F_M']\n"
     ]
    },
    {
     "name": "stderr",
     "output_type": "stream",
     "text": [
      "100%|██████████| 16/16 [00:11<00:00,  1.40it/s]t/s, batch=2940, gpu_temp=61, loss={'chord': tensor(0.7599, device='cuda:0', grad_fn=<NllLossBackward0>), 'velocity': tensor(0.3421, device='cuda:0', grad_fn=<NllLossBackward0>), 'polyphony': tensor(0.2318, device='cuda:0', grad_fn=<NllLossBackward0>), 'density': tensor(0.3098, device='cuda:0', grad_fn=<NllLossBackward0>), 'piano_roll': tensor(1.0613, device='cuda:0', grad_fn=<NllLoss2DBackward0>), 'total': tensor(2.7048, device='cuda:0', grad_fn=<AddBackward0>)}]  \n"
     ]
    },
    {
     "name": "stdout",
     "output_type": "stream",
     "text": [
      "Generated:  [{'type': 'pitch', 'value': 23}, {'type': 'velocity', 'value': 21}, {'type': 'pitch', 'value': 35}, {'type': 'velocity', 'value': 21}, {'type': 'pitch', 'value': 55}, {'type': 'velocity', 'value': 22}, 'next_frame', 'next_frame', 'next_frame', 'next_frame']\n",
      "Chords:  ['D_m7', 'D_m7', 'D_m7', 'D_m7', 'C_M7', 'C_M7', 'C_M7', 'C_M7', 'F_M', 'F_M', 'F_M', 'F_M7', 'D_m7', 'D_m7', 'D_m7', 'D_m7', 'D_m7', 'D_m7', 'D_m7', 'D_m7', 'E_m7', 'E_m7', 'G_M', 'G_M', 'C_M', 'C_M', 'C_M7', 'C_M7', 'None', 'None', 'E_M', 'E_M']\n"
     ]
    },
    {
     "name": "stderr",
     "output_type": "stream",
     "text": [
      "100%|██████████| 10/10 [00:05<00:00,  1.94it/s]\n",
      " 37%|███▋      | 2947/7864 [17:19<7:15:05,  5.31s/it, batch=2940, gpu_temp=61, loss={'chord': tensor(0.7599, device='cuda:0', grad_fn=<NllLossBackward0>), 'velocity': tensor(0.3421, device='cuda:0', grad_fn=<NllLossBackward0>), 'polyphony': tensor(0.2318, device='cuda:0', grad_fn=<NllLossBackward0>), 'density': tensor(0.3098, device='cuda:0', grad_fn=<NllLossBackward0>), 'piano_roll': tensor(1.0613, device='cuda:0', grad_fn=<NllLoss2DBackward0>), 'total': tensor(2.7048, device='cuda:0', grad_fn=<AddBackward0>)}]"
     ]
    },
    {
     "name": "stdout",
     "output_type": "stream",
     "text": [
      "Generated:  [{'type': 'pitch', 'value': 39}, {'type': 'velocity', 'value': 17}, {'type': 'pitch', 'value': 51}, {'type': 'velocity', 'value': 15}, {'type': 'pitch', 'value': 55}, {'type': 'velocity', 'value': 20}, 'next_frame', 'next_frame', 'next_frame', 'next_frame']\n",
      "Chords:  ['C_M7', 'C_M7', 'C_M7', 'C_M7', 'A_m7', 'A_m7', 'A_m7', 'A_m7', 'F_M', 'F_M', 'F_M', 'F_M', 'G_M', 'G_M', 'G_M', 'G_M', 'C_M7', 'C_M7', 'C_M7', 'C_M7', 'A_m7', 'A_m7', 'A_m7', 'A_m7', 'A_m7', 'A_m7', 'A_m7', 'A_m7', 'D_m7', 'D_m7', 'F_M', 'F_M']\n"
     ]
    },
    {
     "name": "stderr",
     "output_type": "stream",
     "text": [
      "100%|██████████| 16/16 [00:12<00:00,  1.32it/s]t/s, batch=3430, gpu_temp=62, loss={'chord': tensor(0.7419, device='cuda:0', grad_fn=<NllLossBackward0>), 'velocity': tensor(0.3554, device='cuda:0', grad_fn=<NllLossBackward0>), 'polyphony': tensor(0.2517, device='cuda:0', grad_fn=<NllLossBackward0>), 'density': tensor(0.3142, device='cuda:0', grad_fn=<NllLossBackward0>), 'piano_roll': tensor(1.0547, device='cuda:0', grad_fn=<NllLoss2DBackward0>), 'total': tensor(2.7178, device='cuda:0', grad_fn=<AddBackward0>)}]  \n"
     ]
    },
    {
     "name": "stdout",
     "output_type": "stream",
     "text": [
      "Generated:  [{'type': 'pitch', 'value': 24}, {'type': 'velocity', 'value': 19}, {'type': 'pitch', 'value': 36}, {'type': 'velocity', 'value': 22}, {'type': 'pitch', 'value': 48}, {'type': 'velocity', 'value': 22}, 'next_frame', 'next_frame', 'next_frame', 'next_frame']\n",
      "Chords:  ['C_M7', 'C_M7', 'None', 'None', 'C_M', 'C_M', 'C_M', 'C_M', 'C_M', 'C_M', 'C_M', 'C_M7', 'A_m7', 'A_m7', 'A_m7', 'A_m7', 'F_M7', 'F_M7', 'F_M', 'F_M', 'F_M', 'F_M', 'F_M', 'F_M', 'C_M', 'C_M', 'C_M', 'C_M', 'F_M7', 'F_M7', 'F_M7', 'F_M7']\n"
     ]
    },
    {
     "name": "stderr",
     "output_type": "stream",
     "text": [
      "100%|██████████| 10/10 [00:04<00:00,  2.06it/s]\n",
      " 44%|████▎     | 3438/7864 [20:08<6:43:25,  5.47s/it, batch=3430, gpu_temp=62, loss={'chord': tensor(0.7419, device='cuda:0', grad_fn=<NllLossBackward0>), 'velocity': tensor(0.3554, device='cuda:0', grad_fn=<NllLossBackward0>), 'polyphony': tensor(0.2517, device='cuda:0', grad_fn=<NllLossBackward0>), 'density': tensor(0.3142, device='cuda:0', grad_fn=<NllLossBackward0>), 'piano_roll': tensor(1.0547, device='cuda:0', grad_fn=<NllLoss2DBackward0>), 'total': tensor(2.7178, device='cuda:0', grad_fn=<AddBackward0>)}]"
     ]
    },
    {
     "name": "stdout",
     "output_type": "stream",
     "text": [
      "Generated:  [{'type': 'pitch', 'value': 39}, {'type': 'velocity', 'value': 17}, {'type': 'pitch', 'value': 51}, {'type': 'velocity', 'value': 15}, {'type': 'pitch', 'value': 55}, {'type': 'velocity', 'value': 20}, 'next_frame', 'next_frame', 'next_frame', 'next_frame']\n",
      "Chords:  ['C_M7', 'C_M7', 'C_M7', 'C_M7', 'A_m7', 'A_m7', 'A_m7', 'A_m7', 'F_M', 'F_M', 'F_M', 'F_M', 'G_M', 'G_M', 'G_M', 'G_M', 'C_M7', 'C_M7', 'C_M7', 'C_M7', 'A_m7', 'A_m7', 'A_m7', 'A_m7', 'C_M7', 'C_M7', 'C_M7', 'C_M7', 'C_M', 'C_M', 'C_M', 'C_M']\n"
     ]
    },
    {
     "name": "stderr",
     "output_type": "stream",
     "text": [
      "100%|██████████| 16/16 [00:10<00:00,  1.57it/s]t/s, batch=3920, gpu_temp=61, loss={'chord': tensor(0.6609, device='cuda:0', grad_fn=<NllLossBackward0>), 'velocity': tensor(0.3339, device='cuda:0', grad_fn=<NllLossBackward0>), 'polyphony': tensor(0.2344, device='cuda:0', grad_fn=<NllLossBackward0>), 'density': tensor(0.2662, device='cuda:0', grad_fn=<NllLossBackward0>), 'piano_roll': tensor(0.9938, device='cuda:0', grad_fn=<NllLoss2DBackward0>), 'total': tensor(2.4892, device='cuda:0', grad_fn=<AddBackward0>)}]  \n"
     ]
    },
    {
     "name": "stdout",
     "output_type": "stream",
     "text": [
      "Generated:  [{'type': 'pitch', 'value': 39}, {'type': 'velocity', 'value': 13}, {'type': 'pitch', 'value': 46}, {'type': 'velocity', 'value': 13}, {'type': 'pitch', 'value': 51}, {'type': 'velocity', 'value': 15}, {'type': 'pitch', 'value': 55}, {'type': 'velocity', 'value': 14}, {'type': 'pitch', 'value': 58}, {'type': 'velocity', 'value': 16}]\n",
      "Chords:  ['C_M', 'C_M', 'C_M7', 'C_M7', 'F_M', 'F_M', 'F_M', 'F_M', 'C_M', 'C_M', 'C_M7', 'C_M7', 'E_7', 'E_7', 'E_7', 'E_7', 'A_m', 'A_m', 'A_m', 'A_m', 'G_M', 'D_m', 'D_m', 'G_M', 'F_M', 'F_M', 'F_M', 'F_M', 'C_M', 'C_M', 'C_M', 'C_M']\n"
     ]
    },
    {
     "name": "stderr",
     "output_type": "stream",
     "text": [
      "100%|██████████| 10/10 [00:05<00:00,  1.85it/s]\n",
      " 50%|████▉     | 3929/7864 [23:01<5:26:53,  4.98s/it, batch=3920, gpu_temp=61, loss={'chord': tensor(0.6609, device='cuda:0', grad_fn=<NllLossBackward0>), 'velocity': tensor(0.3339, device='cuda:0', grad_fn=<NllLossBackward0>), 'polyphony': tensor(0.2344, device='cuda:0', grad_fn=<NllLossBackward0>), 'density': tensor(0.2662, device='cuda:0', grad_fn=<NllLossBackward0>), 'piano_roll': tensor(0.9938, device='cuda:0', grad_fn=<NllLoss2DBackward0>), 'total': tensor(2.4892, device='cuda:0', grad_fn=<AddBackward0>)}]"
     ]
    },
    {
     "name": "stdout",
     "output_type": "stream",
     "text": [
      "Generated:  [{'type': 'pitch', 'value': 39}, {'type': 'velocity', 'value': 17}, {'type': 'pitch', 'value': 51}, {'type': 'velocity', 'value': 15}, {'type': 'pitch', 'value': 55}, {'type': 'velocity', 'value': 20}, 'next_frame', 'next_frame', 'next_frame', 'next_frame']\n",
      "Chords:  ['C_M7', 'C_M7', 'C_M7', 'C_M7', 'A_m7', 'A_m7', 'A_m7', 'A_m7', 'F_M', 'F_M', 'F_M', 'F_M', 'G_M', 'G_M', 'G_M', 'G_M', 'C_M7', 'C_M7', 'C_M7', 'C_M7', 'A_m7', 'A_m7', 'A_m7', 'A_m7', 'A_m7', 'A_m7', 'A_m7', 'A_m7', 'F_M7', 'F_M7', 'F_M7', 'F_M7']\n"
     ]
    },
    {
     "name": "stderr",
     "output_type": "stream",
     "text": [
      "100%|██████████| 16/16 [00:11<00:00,  1.37it/s]t/s, batch=4410, gpu_temp=61, loss={'chord': tensor(0.7092, device='cuda:0', grad_fn=<NllLossBackward0>), 'velocity': tensor(0.3481, device='cuda:0', grad_fn=<NllLossBackward0>), 'polyphony': tensor(0.2790, device='cuda:0', grad_fn=<NllLossBackward0>), 'density': tensor(0.3461, device='cuda:0', grad_fn=<NllLossBackward0>), 'piano_roll': tensor(1.0832, device='cuda:0', grad_fn=<NllLoss2DBackward0>), 'total': tensor(2.7656, device='cuda:0', grad_fn=<AddBackward0>)}]  \n"
     ]
    },
    {
     "name": "stdout",
     "output_type": "stream",
     "text": [
      "Generated:  [{'type': 'pitch', 'value': 22}, {'type': 'velocity', 'value': 17}, {'type': 'pitch', 'value': 41}, {'type': 'velocity', 'value': 18}, {'type': 'pitch', 'value': 46}, {'type': 'velocity', 'value': 18}, {'type': 'pitch', 'value': 51}, {'type': 'velocity', 'value': 21}, 'next_frame', 'next_frame']\n",
      "Chords:  ['E_m', 'E_m', 'E_m', 'E_m', 'D_m', 'D_m', 'D_m7', 'D_m7', 'C_M', 'C_M', 'C_M', 'C_M', 'F_M7', 'F_M7', 'F_M7', 'F_M7', 'G_M', 'G_M', 'G_M', 'G_M', 'A_m', 'A_m', 'A_m', 'A_m', 'E_m7', 'E_m7', 'E_m7', 'E_m7', 'F_M', 'F_M', 'G_M', 'G_M']\n"
     ]
    },
    {
     "name": "stderr",
     "output_type": "stream",
     "text": [
      "100%|██████████| 10/10 [00:05<00:00,  1.87it/s]\n",
      " 56%|█████▌    | 4420/7864 [25:55<5:12:12,  5.44s/it, batch=4410, gpu_temp=61, loss={'chord': tensor(0.7092, device='cuda:0', grad_fn=<NllLossBackward0>), 'velocity': tensor(0.3481, device='cuda:0', grad_fn=<NllLossBackward0>), 'polyphony': tensor(0.2790, device='cuda:0', grad_fn=<NllLossBackward0>), 'density': tensor(0.3461, device='cuda:0', grad_fn=<NllLossBackward0>), 'piano_roll': tensor(1.0832, device='cuda:0', grad_fn=<NllLoss2DBackward0>), 'total': tensor(2.7656, device='cuda:0', grad_fn=<AddBackward0>)}]"
     ]
    },
    {
     "name": "stdout",
     "output_type": "stream",
     "text": [
      "Generated:  [{'type': 'pitch', 'value': 39}, {'type': 'velocity', 'value': 17}, {'type': 'pitch', 'value': 51}, {'type': 'velocity', 'value': 15}, {'type': 'pitch', 'value': 55}, {'type': 'velocity', 'value': 20}, 'next_frame', 'next_frame', 'next_frame', 'next_frame']\n",
      "Chords:  ['C_M7', 'C_M7', 'C_M7', 'C_M7', 'A_m7', 'A_m7', 'A_m7', 'A_m7', 'F_M', 'F_M', 'F_M', 'F_M', 'G_M', 'G_M', 'G_M', 'G_M', 'C_M7', 'C_M7', 'C_M7', 'C_M7', 'A_m7', 'A_m7', 'A_m7', 'A_m7', 'F_M7', 'F_M7', 'F_M7', 'F_M7', 'C_M7', 'C_M7', 'C_M7', 'C_M7']\n"
     ]
    },
    {
     "name": "stderr",
     "output_type": "stream",
     "text": [
      "100%|██████████| 16/16 [00:14<00:00,  1.10it/s]t/s, batch=4910, gpu_temp=57, loss={'chord': tensor(0.7587, device='cuda:0', grad_fn=<NllLossBackward0>), 'velocity': tensor(0.3969, device='cuda:0', grad_fn=<NllLossBackward0>), 'polyphony': tensor(0.2566, device='cuda:0', grad_fn=<NllLossBackward0>), 'density': tensor(0.3567, device='cuda:0', grad_fn=<NllLossBackward0>), 'piano_roll': tensor(1.0820, device='cuda:0', grad_fn=<NllLoss2DBackward0>), 'total': tensor(2.8510, device='cuda:0', grad_fn=<AddBackward0>)}]  \n"
     ]
    },
    {
     "name": "stdout",
     "output_type": "stream",
     "text": [
      "Generated:  [{'type': 'pitch', 'value': 15}, {'type': 'velocity', 'value': 20}, {'type': 'pitch', 'value': 27}, {'type': 'velocity', 'value': 21}, {'type': 'pitch', 'value': 51}, {'type': 'velocity', 'value': 24}, 'next_frame', 'next_frame', 'next_frame', 'next_frame']\n",
      "Chords:  ['D_m7', 'D_m7', 'C_M', 'C_M', 'A_m', 'A_m', 'A_m', 'A_m', 'F_M', 'F_M', 'C_M', 'C_M', 'D_m', 'D_m', 'C_M', 'C_M', 'G_M', 'G_M', 'A_m', 'A_m', 'A_m7', 'A_m7', 'F_sus2', 'F_sus2', 'G_+', 'G_+', 'C_M7', 'C_M7', 'A_m7', 'A_m7', 'A_m7', 'A_m7']\n"
     ]
    },
    {
     "name": "stderr",
     "output_type": "stream",
     "text": [
      "100%|██████████| 10/10 [00:05<00:00,  1.79it/s]\n",
      " 62%|██████▏   | 4911/7864 [28:44<5:16:49,  6.44s/it, batch=4910, gpu_temp=57, loss={'chord': tensor(0.7587, device='cuda:0', grad_fn=<NllLossBackward0>), 'velocity': tensor(0.3969, device='cuda:0', grad_fn=<NllLossBackward0>), 'polyphony': tensor(0.2566, device='cuda:0', grad_fn=<NllLossBackward0>), 'density': tensor(0.3567, device='cuda:0', grad_fn=<NllLossBackward0>), 'piano_roll': tensor(1.0820, device='cuda:0', grad_fn=<NllLoss2DBackward0>), 'total': tensor(2.8510, device='cuda:0', grad_fn=<AddBackward0>)}]"
     ]
    },
    {
     "name": "stdout",
     "output_type": "stream",
     "text": [
      "Generated:  [{'type': 'pitch', 'value': 39}, {'type': 'velocity', 'value': 17}, {'type': 'pitch', 'value': 51}, {'type': 'velocity', 'value': 15}, {'type': 'pitch', 'value': 55}, {'type': 'velocity', 'value': 20}, 'next_frame', 'next_frame', 'next_frame', 'next_frame']\n",
      "Chords:  ['C_M7', 'C_M7', 'C_M7', 'C_M7', 'A_m7', 'A_m7', 'A_m7', 'A_m7', 'F_M', 'F_M', 'F_M', 'F_M', 'G_M', 'G_M', 'G_M', 'G_M', 'C_M7', 'C_M7', 'C_M7', 'C_M7', 'A_m7', 'A_m7', 'A_m7', 'A_m7', 'F_M7', 'F_M7', 'F_M7', 'F_M7', 'F_M7', 'F_M7', 'F_M7', 'F_M7']\n"
     ]
    },
    {
     "name": "stderr",
     "output_type": "stream",
     "text": [
      "100%|██████████| 16/16 [00:13<00:00,  1.17it/s]t/s, batch=5400, gpu_temp=60, loss={'chord': tensor(0.6594, device='cuda:0', grad_fn=<NllLossBackward0>), 'velocity': tensor(0.3831, device='cuda:0', grad_fn=<NllLossBackward0>), 'polyphony': tensor(0.2686, device='cuda:0', grad_fn=<NllLossBackward0>), 'density': tensor(0.2447, device='cuda:0', grad_fn=<NllLossBackward0>), 'piano_roll': tensor(1.0031, device='cuda:0', grad_fn=<NllLoss2DBackward0>), 'total': tensor(2.5589, device='cuda:0', grad_fn=<AddBackward0>)}]  \n"
     ]
    },
    {
     "name": "stdout",
     "output_type": "stream",
     "text": [
      "Generated:  [{'type': 'pitch', 'value': 20}, {'type': 'velocity', 'value': 18}, {'type': 'pitch', 'value': 32}, {'type': 'velocity', 'value': 20}, {'type': 'pitch', 'value': 44}, {'type': 'velocity', 'value': 21}, {'type': 'pitch', 'value': 48}, {'type': 'velocity', 'value': 21}, 'next_frame', 'next_frame']\n",
      "Chords:  ['G_7', 'G_7', 'G_7', 'G_7', 'F_M', 'F_M', 'F_M7', 'F_M7', 'E_m7', 'E_m7', 'C_M7', 'C_M7', 'C_M', 'C_M', 'C_M', 'C_M', 'A_M', 'A_M', 'A_M', 'A_M', 'F_M7', 'F_M7', 'F_M7', 'F_M7', 'C_M', 'C_M', 'C_M', 'C_M', 'G_M', 'G_M', 'G_M', 'G_M']\n"
     ]
    },
    {
     "name": "stderr",
     "output_type": "stream",
     "text": [
      "100%|██████████| 10/10 [00:04<00:00,  2.06it/s]\n",
      " 69%|██████▊   | 5402/7864 [31:37<4:01:43,  5.89s/it, batch=5400, gpu_temp=60, loss={'chord': tensor(0.6594, device='cuda:0', grad_fn=<NllLossBackward0>), 'velocity': tensor(0.3831, device='cuda:0', grad_fn=<NllLossBackward0>), 'polyphony': tensor(0.2686, device='cuda:0', grad_fn=<NllLossBackward0>), 'density': tensor(0.2447, device='cuda:0', grad_fn=<NllLossBackward0>), 'piano_roll': tensor(1.0031, device='cuda:0', grad_fn=<NllLoss2DBackward0>), 'total': tensor(2.5589, device='cuda:0', grad_fn=<AddBackward0>)}]"
     ]
    },
    {
     "name": "stdout",
     "output_type": "stream",
     "text": [
      "Generated:  [{'type': 'pitch', 'value': 39}, {'type': 'velocity', 'value': 17}, {'type': 'pitch', 'value': 51}, {'type': 'velocity', 'value': 15}, {'type': 'pitch', 'value': 55}, {'type': 'velocity', 'value': 20}, 'next_frame', 'next_frame', 'next_frame', 'next_frame']\n",
      "Chords:  ['C_M7', 'C_M7', 'C_M7', 'C_M7', 'A_m7', 'A_m7', 'A_m7', 'A_m7', 'F_M', 'F_M', 'F_M', 'F_M', 'G_M', 'G_M', 'G_M', 'G_M', 'C_M7', 'C_M7', 'C_M7', 'C_M7', 'A_m7', 'A_m7', 'A_m7', 'A_m7', 'C_M7', 'C_M7', 'A_m7', 'A_m7', 'F_M7', 'F_M7', 'F_M7', 'F_M7']\n"
     ]
    },
    {
     "name": "stderr",
     "output_type": "stream",
     "text": [
      "100%|██████████| 16/16 [00:10<00:00,  1.47it/s]t/s, batch=5890, gpu_temp=61, loss={'chord': tensor(0.6291, device='cuda:0', grad_fn=<NllLossBackward0>), 'velocity': tensor(0.3520, device='cuda:0', grad_fn=<NllLossBackward0>), 'polyphony': tensor(0.2071, device='cuda:0', grad_fn=<NllLossBackward0>), 'density': tensor(0.2917, device='cuda:0', grad_fn=<NllLossBackward0>), 'piano_roll': tensor(0.9532, device='cuda:0', grad_fn=<NllLoss2DBackward0>), 'total': tensor(2.4331, device='cuda:0', grad_fn=<AddBackward0>)}]  \n"
     ]
    },
    {
     "name": "stdout",
     "output_type": "stream",
     "text": [
      "Generated:  [{'type': 'pitch', 'value': 19}, {'type': 'velocity', 'value': 20}, {'type': 'pitch', 'value': 31}, {'type': 'velocity', 'value': 21}, {'type': 'pitch', 'value': 47}, {'type': 'velocity', 'value': 22}, {'type': 'pitch', 'value': 50}, {'type': 'velocity', 'value': 20}, {'type': 'pitch', 'value': 55}, {'type': 'velocity', 'value': 22}]\n",
      "Chords:  ['E_m7', 'E_m7', 'E_m7', 'E_m7', 'D_m7', 'D_m7', 'D_m7', 'D_m7', 'None', 'None', 'None', 'None', 'B_o', 'B_o', 'B_o', 'B_o', 'C_M', 'C_M', 'C_M', 'C_M', 'E_m7', 'E_m7', 'E_m7', 'E_m7', 'D_m', 'D_m', 'D_m7', 'D_m7', 'A_m', 'A_m', 'A_m', 'A_m']\n"
     ]
    },
    {
     "name": "stderr",
     "output_type": "stream",
     "text": [
      "100%|██████████| 10/10 [00:05<00:00,  1.77it/s]\n",
      " 75%|███████▍  | 5893/7864 [34:26<2:53:42,  5.29s/it, batch=5890, gpu_temp=61, loss={'chord': tensor(0.6291, device='cuda:0', grad_fn=<NllLossBackward0>), 'velocity': tensor(0.3520, device='cuda:0', grad_fn=<NllLossBackward0>), 'polyphony': tensor(0.2071, device='cuda:0', grad_fn=<NllLossBackward0>), 'density': tensor(0.2917, device='cuda:0', grad_fn=<NllLossBackward0>), 'piano_roll': tensor(0.9532, device='cuda:0', grad_fn=<NllLoss2DBackward0>), 'total': tensor(2.4331, device='cuda:0', grad_fn=<AddBackward0>)}]"
     ]
    },
    {
     "name": "stdout",
     "output_type": "stream",
     "text": [
      "Generated:  [{'type': 'pitch', 'value': 39}, {'type': 'velocity', 'value': 17}, {'type': 'pitch', 'value': 51}, {'type': 'velocity', 'value': 15}, {'type': 'pitch', 'value': 55}, {'type': 'velocity', 'value': 20}, 'next_frame', 'next_frame', 'next_frame', 'next_frame']\n",
      "Chords:  ['C_M7', 'C_M7', 'C_M7', 'C_M7', 'A_m7', 'A_m7', 'A_m7', 'A_m7', 'F_M', 'F_M', 'F_M', 'F_M', 'G_M', 'G_M', 'G_M', 'G_M', 'C_M7', 'C_M7', 'C_M7', 'C_M7', 'A_m7', 'A_m7', 'A_m7', 'A_m7', 'C_M7', 'C_M7', 'C_M7', 'C_M7', 'G_+', 'G_+', 'G_+', 'G_+']\n"
     ]
    },
    {
     "name": "stderr",
     "output_type": "stream",
     "text": [
      "100%|██████████| 16/16 [00:12<00:00,  1.32it/s]t/s, batch=6380, gpu_temp=61, loss={'chord': tensor(0.7572, device='cuda:0', grad_fn=<NllLossBackward0>), 'velocity': tensor(0.4577, device='cuda:0', grad_fn=<NllLossBackward0>), 'polyphony': tensor(0.3006, device='cuda:0', grad_fn=<NllLossBackward0>), 'density': tensor(0.3264, device='cuda:0', grad_fn=<NllLossBackward0>), 'piano_roll': tensor(1.1167, device='cuda:0', grad_fn=<NllLoss2DBackward0>), 'total': tensor(2.9586, device='cuda:0', grad_fn=<AddBackward0>)}]  \n"
     ]
    },
    {
     "name": "stdout",
     "output_type": "stream",
     "text": [
      "Generated:  [{'type': 'pitch', 'value': 19}, {'type': 'velocity', 'value': 21}, {'type': 'pitch', 'value': 31}, {'type': 'velocity', 'value': 23}, 'next_frame', 'next_frame', 'next_frame', 'next_frame', {'type': 'pitch', 'value': 47}, {'type': 'velocity', 'value': 20}]\n",
      "Chords:  ['C_M', 'C_M', 'C_M', 'C_M', 'G_M', 'G_M', 'G_M', 'G_M', 'G_M', 'G_M', 'G_sus4', 'G_sus4', 'C_M', 'C_M', 'C_M', 'C_M', 'F_M7', 'F_M7', 'F_M7', 'F_M7', 'C_M', 'C_M', 'C_M', 'C_M', 'G_M', 'G_M', 'G_M', 'G_M', 'A_m', 'A_m', 'A_m', 'A_m']\n"
     ]
    },
    {
     "name": "stderr",
     "output_type": "stream",
     "text": [
      "100%|██████████| 10/10 [00:05<00:00,  1.91it/s]\n",
      " 81%|████████  | 6384/7864 [37:19<2:16:27,  5.53s/it, batch=6380, gpu_temp=61, loss={'chord': tensor(0.7572, device='cuda:0', grad_fn=<NllLossBackward0>), 'velocity': tensor(0.4577, device='cuda:0', grad_fn=<NllLossBackward0>), 'polyphony': tensor(0.3006, device='cuda:0', grad_fn=<NllLossBackward0>), 'density': tensor(0.3264, device='cuda:0', grad_fn=<NllLossBackward0>), 'piano_roll': tensor(1.1167, device='cuda:0', grad_fn=<NllLoss2DBackward0>), 'total': tensor(2.9586, device='cuda:0', grad_fn=<AddBackward0>)}]"
     ]
    },
    {
     "name": "stdout",
     "output_type": "stream",
     "text": [
      "Generated:  [{'type': 'pitch', 'value': 39}, {'type': 'velocity', 'value': 17}, {'type': 'pitch', 'value': 51}, {'type': 'velocity', 'value': 15}, {'type': 'pitch', 'value': 55}, {'type': 'velocity', 'value': 20}, 'next_frame', 'next_frame', 'next_frame', 'next_frame']\n",
      "Chords:  ['C_M7', 'C_M7', 'C_M7', 'C_M7', 'A_m7', 'A_m7', 'A_m7', 'A_m7', 'F_M', 'F_M', 'F_M', 'F_M', 'G_M', 'G_M', 'G_M', 'G_M', 'C_M7', 'C_M7', 'C_M7', 'C_M7', 'A_m7', 'A_m7', 'A_m7', 'A_m7', 'F_M', 'F_M', 'F_M', 'F_M', 'G_7', 'G_7', 'G_M', 'G_M']\n"
     ]
    },
    {
     "name": "stderr",
     "output_type": "stream",
     "text": [
      "100%|██████████| 16/16 [00:10<00:00,  1.50it/s]t/s, batch=6870, gpu_temp=60, loss={'chord': tensor(0.6039, device='cuda:0', grad_fn=<NllLossBackward0>), 'velocity': tensor(0.3475, device='cuda:0', grad_fn=<NllLossBackward0>), 'polyphony': tensor(0.2470, device='cuda:0', grad_fn=<NllLossBackward0>), 'density': tensor(0.2470, device='cuda:0', grad_fn=<NllLossBackward0>), 'piano_roll': tensor(0.9946, device='cuda:0', grad_fn=<NllLoss2DBackward0>), 'total': tensor(2.4399, device='cuda:0', grad_fn=<AddBackward0>)}]  \n"
     ]
    },
    {
     "name": "stdout",
     "output_type": "stream",
     "text": [
      "Generated:  [{'type': 'pitch', 'value': 20}, {'type': 'velocity', 'value': 18}, 'next_frame', 'next_frame', 'next_frame', 'next_frame', {'type': 'pitch', 'value': 27}, {'type': 'velocity', 'value': 17}, {'type': 'pitch', 'value': 39}, {'type': 'velocity', 'value': 17}]\n",
      "Chords:  ['G_M', 'G_M', 'G_M', 'G_M', 'F_M7', 'F_M7', 'F_M7', 'F_M7', 'C_M', 'C_M', 'C_M7', 'C_M7', 'D_sus4', 'D_sus4', 'D_m7', 'D_m7', 'C_M', 'C_M', 'C_M7', 'C_M7', 'C_M', 'C_M', 'C_M', 'C_M', 'F_M7', 'F_M7', 'E_M', 'E_M', 'A_m', 'A_m', 'C_7', 'C_7']\n"
     ]
    },
    {
     "name": "stderr",
     "output_type": "stream",
     "text": [
      "100%|██████████| 10/10 [00:05<00:00,  1.75it/s]\n",
      " 87%|████████▋ | 6875/7864 [40:09<1:26:21,  5.24s/it, batch=6870, gpu_temp=60, loss={'chord': tensor(0.6039, device='cuda:0', grad_fn=<NllLossBackward0>), 'velocity': tensor(0.3475, device='cuda:0', grad_fn=<NllLossBackward0>), 'polyphony': tensor(0.2470, device='cuda:0', grad_fn=<NllLossBackward0>), 'density': tensor(0.2470, device='cuda:0', grad_fn=<NllLossBackward0>), 'piano_roll': tensor(0.9946, device='cuda:0', grad_fn=<NllLoss2DBackward0>), 'total': tensor(2.4399, device='cuda:0', grad_fn=<AddBackward0>)}]"
     ]
    },
    {
     "name": "stdout",
     "output_type": "stream",
     "text": [
      "Generated:  [{'type': 'pitch', 'value': 39}, {'type': 'velocity', 'value': 17}, {'type': 'pitch', 'value': 51}, {'type': 'velocity', 'value': 15}, {'type': 'pitch', 'value': 55}, {'type': 'velocity', 'value': 20}, 'next_frame', 'next_frame', 'next_frame', 'next_frame']\n",
      "Chords:  ['C_M7', 'C_M7', 'C_M7', 'C_M7', 'A_m7', 'A_m7', 'A_m7', 'A_m7', 'F_M', 'F_M', 'F_M', 'F_M', 'G_M', 'G_M', 'G_M', 'G_M', 'C_M7', 'C_M7', 'C_M7', 'C_M7', 'A_m7', 'A_m7', 'A_m7', 'A_m7', 'F_M7', 'F_M7', 'F_M7', 'F_M7', 'F_M7', 'F_M7', 'F_M7', 'F_M7']\n"
     ]
    },
    {
     "name": "stderr",
     "output_type": "stream",
     "text": [
      "100%|██████████| 16/16 [00:10<00:00,  1.59it/s]t/s, batch=7360, gpu_temp=52, loss={'chord': tensor(0.6914, device='cuda:0', grad_fn=<NllLossBackward0>), 'velocity': tensor(0.3508, device='cuda:0', grad_fn=<NllLossBackward0>), 'polyphony': tensor(0.2401, device='cuda:0', grad_fn=<NllLossBackward0>), 'density': tensor(0.3234, device='cuda:0', grad_fn=<NllLossBackward0>), 'piano_roll': tensor(1.0253, device='cuda:0', grad_fn=<NllLoss2DBackward0>), 'total': tensor(2.6310, device='cuda:0', grad_fn=<AddBackward0>)}]  \n"
     ]
    },
    {
     "name": "stdout",
     "output_type": "stream",
     "text": [
      "Generated:  [{'type': 'pitch', 'value': 10}, {'type': 'velocity', 'value': 20}, {'type': 'pitch', 'value': 22}, {'type': 'velocity', 'value': 22}, {'type': 'pitch', 'value': 34}, {'type': 'velocity', 'value': 23}, {'type': 'pitch', 'value': 41}, {'type': 'velocity', 'value': 22}, 'next_frame', 'next_frame']\n",
      "Chords:  ['B_o', 'B_o', 'A_m', 'A_m', 'A_m', 'A_m', 'D_m7', 'D_m7', 'D_m7', 'D_m7', 'A_m7', 'A_m7', 'A_m', 'A_m', 'D_m7', 'D_m7', 'A_m7', 'A_m7', 'A_m7', 'A_m7', 'A_m', 'A_m', 'F_M7', 'F_M7', 'A_m7', 'A_m7', 'A_m7', 'A_m7', 'A_m', 'A_m', 'F_M7', 'F_M7']\n"
     ]
    },
    {
     "name": "stderr",
     "output_type": "stream",
     "text": [
      "100%|██████████| 10/10 [00:05<00:00,  1.97it/s]\n",
      " 94%|█████████▎| 7366/7864 [43:03<42:30,  5.12s/it, batch=7360, gpu_temp=52, loss={'chord': tensor(0.6914, device='cuda:0', grad_fn=<NllLossBackward0>), 'velocity': tensor(0.3508, device='cuda:0', grad_fn=<NllLossBackward0>), 'polyphony': tensor(0.2401, device='cuda:0', grad_fn=<NllLossBackward0>), 'density': tensor(0.3234, device='cuda:0', grad_fn=<NllLossBackward0>), 'piano_roll': tensor(1.0253, device='cuda:0', grad_fn=<NllLoss2DBackward0>), 'total': tensor(2.6310, device='cuda:0', grad_fn=<AddBackward0>)}]"
     ]
    },
    {
     "name": "stdout",
     "output_type": "stream",
     "text": [
      "Generated:  [{'type': 'pitch', 'value': 39}, {'type': 'velocity', 'value': 17}, {'type': 'pitch', 'value': 51}, {'type': 'velocity', 'value': 15}, {'type': 'pitch', 'value': 55}, {'type': 'velocity', 'value': 20}, 'next_frame', 'next_frame', 'next_frame', 'next_frame']\n",
      "Chords:  ['C_M7', 'C_M7', 'C_M7', 'C_M7', 'A_m7', 'A_m7', 'A_m7', 'A_m7', 'F_M', 'F_M', 'F_M', 'F_M', 'G_M', 'G_M', 'G_M', 'G_M', 'C_M7', 'C_M7', 'C_M7', 'C_M7', 'A_m7', 'A_m7', 'A_m7', 'A_m7', 'F_M', 'F_M', 'F_M7', 'F_M7', 'G_7', 'G_7', 'G_M', 'G_M']\n"
     ]
    },
    {
     "name": "stderr",
     "output_type": "stream",
     "text": [
      "100%|██████████| 16/16 [00:12<00:00,  1.27it/s]t/s, batch=7850, gpu_temp=61, loss={'chord': tensor(0.6494, device='cuda:0', grad_fn=<NllLossBackward0>), 'velocity': tensor(0.3405, device='cuda:0', grad_fn=<NllLossBackward0>), 'polyphony': tensor(0.2968, device='cuda:0', grad_fn=<NllLossBackward0>), 'density': tensor(0.2992, device='cuda:0', grad_fn=<NllLossBackward0>), 'piano_roll': tensor(1.0078, device='cuda:0', grad_fn=<NllLoss2DBackward0>), 'total': tensor(2.5936, device='cuda:0', grad_fn=<AddBackward0>)}]\n"
     ]
    },
    {
     "name": "stdout",
     "output_type": "stream",
     "text": [
      "Generated:  [{'type': 'pitch', 'value': 12}, {'type': 'velocity', 'value': 18}, {'type': 'pitch', 'value': 24}, {'type': 'velocity', 'value': 19}, {'type': 'pitch', 'value': 52}, {'type': 'velocity', 'value': 23}, {'type': 'pitch', 'value': 64}, {'type': 'velocity', 'value': 24}, 'next_frame', 'next_frame']\n",
      "Chords:  ['B_M', 'B_M', 'B_M', 'B_M', 'C#_M', 'C#_M', 'C#_7', 'C#_7', 'G#_M', 'G#_M', 'G#_M', 'G#_M', 'C#_sus2', 'C#_sus2', 'C#_sus2', 'C#_sus2', 'D#_M', 'D#_M', 'D#_7', 'D#_7', 'C#_M', 'C#_M', 'C#_M', 'C#_M', 'G#_m7', 'G#_m7', 'G#_m7', 'G#_m7', 'G#_m7', 'G#_m7', 'G#_m7', 'G#_m7']\n"
     ]
    },
    {
     "name": "stderr",
     "output_type": "stream",
     "text": [
      "100%|██████████| 10/10 [00:05<00:00,  1.93it/s]\n",
      "100%|█████████▉| 7857/7864 [45:57<00:39,  5.66s/it, batch=7850, gpu_temp=61, loss={'chord': tensor(0.6494, device='cuda:0', grad_fn=<NllLossBackward0>), 'velocity': tensor(0.3405, device='cuda:0', grad_fn=<NllLossBackward0>), 'polyphony': tensor(0.2968, device='cuda:0', grad_fn=<NllLossBackward0>), 'density': tensor(0.2992, device='cuda:0', grad_fn=<NllLossBackward0>), 'piano_roll': tensor(1.0078, device='cuda:0', grad_fn=<NllLoss2DBackward0>), 'total': tensor(2.5936, device='cuda:0', grad_fn=<AddBackward0>)}]"
     ]
    },
    {
     "name": "stdout",
     "output_type": "stream",
     "text": [
      "Generated:  [{'type': 'pitch', 'value': 39}, {'type': 'velocity', 'value': 17}, {'type': 'pitch', 'value': 51}, {'type': 'velocity', 'value': 15}, {'type': 'pitch', 'value': 55}, {'type': 'velocity', 'value': 20}, 'next_frame', 'next_frame', 'next_frame', 'next_frame']\n",
      "Chords:  ['C_M7', 'C_M7', 'C_M7', 'C_M7', 'A_m7', 'A_m7', 'A_m7', 'A_m7', 'F_M', 'F_M', 'F_M', 'F_M', 'G_M', 'G_M', 'G_M', 'G_M', 'C_M7', 'C_M7', 'C_M7', 'C_M7', 'A_m7', 'A_m7', 'A_m7', 'A_m7', 'G_+', 'G_+', 'C_M7', 'C_M7', 'F_M7', 'F_M7', 'F_M7', 'F_M7']\n"
     ]
    },
    {
     "name": "stderr",
     "output_type": "stream",
     "text": [
      "100%|██████████| 7864/7864 [46:00<00:00,  2.85it/s, batch=7860, gpu_temp=58, loss={'chord': tensor(0.6938, device='cuda:0', grad_fn=<NllLossBackward0>), 'velocity': tensor(0.3261, device='cuda:0', grad_fn=<NllLossBackward0>), 'polyphony': tensor(0.2226, device='cuda:0', grad_fn=<NllLossBackward0>), 'density': tensor(0.3242, device='cuda:0', grad_fn=<NllLossBackward0>), 'piano_roll': tensor(0.9846, device='cuda:0', grad_fn=<NllLoss2DBackward0>), 'total': tensor(2.5513, device='cuda:0', grad_fn=<AddBackward0>)}]\n",
      "100%|██████████| 16/16 [00:11<00:00,  1.37it/s]/s, batch=490, gpu_temp=63, loss={'chord': tensor(0.6858, device='cuda:0', grad_fn=<NllLossBackward0>), 'velocity': tensor(0.3529, device='cuda:0', grad_fn=<NllLossBackward0>), 'polyphony': tensor(0.2288, device='cuda:0', grad_fn=<NllLossBackward0>), 'density': tensor(0.2890, device='cuda:0', grad_fn=<NllLossBackward0>), 'piano_roll': tensor(1.0070, device='cuda:0', grad_fn=<NllLoss2DBackward0>), 'total': tensor(2.5635, device='cuda:0', grad_fn=<AddBackward0>)}]\n"
     ]
    },
    {
     "name": "stdout",
     "output_type": "stream",
     "text": [
      "Generated:  [{'type': 'pitch', 'value': 36}, {'type': 'velocity', 'value': 17}, {'type': 'pitch', 'value': 39}, {'type': 'velocity', 'value': 16}, {'type': 'pitch', 'value': 43}, {'type': 'velocity', 'value': 17}, {'type': 'pitch', 'value': 63}, {'type': 'velocity', 'value': 23}, 'next_frame', 'next_frame']\n",
      "Chords:  ['A_m7', 'A_m7', 'A_m7', 'A_m7', 'F_M7', 'F_M7', 'F_M', 'F_M', 'C_M', 'C_M', 'C_M', 'C_M', 'D_m7', 'D_m7', 'D_m7', 'D_m7', 'G_M', 'G_M', 'G_M', 'G_M', 'C_M', 'C_M', 'C_M', 'C_M', 'D_m7', 'D_m7', 'D_m7', 'D_m7', 'G_M', 'G_M', 'G_M', 'G_M']\n"
     ]
    },
    {
     "name": "stderr",
     "output_type": "stream",
     "text": [
      "100%|██████████| 10/10 [00:04<00:00,  2.21it/s]\n",
      "  6%|▋         | 492/7864 [03:01<10:43:00,  5.23s/it, batch=490, gpu_temp=63, loss={'chord': tensor(0.6858, device='cuda:0', grad_fn=<NllLossBackward0>), 'velocity': tensor(0.3529, device='cuda:0', grad_fn=<NllLossBackward0>), 'polyphony': tensor(0.2288, device='cuda:0', grad_fn=<NllLossBackward0>), 'density': tensor(0.2890, device='cuda:0', grad_fn=<NllLossBackward0>), 'piano_roll': tensor(1.0070, device='cuda:0', grad_fn=<NllLoss2DBackward0>), 'total': tensor(2.5635, device='cuda:0', grad_fn=<AddBackward0>)}]"
     ]
    },
    {
     "name": "stdout",
     "output_type": "stream",
     "text": [
      "Generated:  [{'type': 'pitch', 'value': 39}, {'type': 'velocity', 'value': 17}, {'type': 'pitch', 'value': 51}, {'type': 'velocity', 'value': 15}, {'type': 'pitch', 'value': 55}, {'type': 'velocity', 'value': 20}, 'next_frame', 'next_frame', 'next_frame', 'next_frame']\n",
      "Chords:  ['C_M7', 'C_M7', 'C_M7', 'C_M7', 'A_m7', 'A_m7', 'A_m7', 'A_m7', 'F_M', 'F_M', 'F_M', 'F_M', 'G_M', 'G_M', 'G_M', 'G_M', 'C_M7', 'C_M7', 'C_M7', 'C_M7', 'A_m7', 'A_m7', 'A_m7', 'A_m7', 'F_M7', 'F_M7', 'F_M7', 'F_M7', 'G_7', 'G_7', 'G_7', 'G_7']\n"
     ]
    },
    {
     "name": "stderr",
     "output_type": "stream",
     "text": [
      "100%|██████████| 16/16 [00:10<00:00,  1.58it/s]/s, batch=980, gpu_temp=61, loss={'chord': tensor(0.6702, device='cuda:0', grad_fn=<NllLossBackward0>), 'velocity': tensor(0.3345, device='cuda:0', grad_fn=<NllLossBackward0>), 'polyphony': tensor(0.2653, device='cuda:0', grad_fn=<NllLossBackward0>), 'density': tensor(0.2317, device='cuda:0', grad_fn=<NllLossBackward0>), 'piano_roll': tensor(1.0043, device='cuda:0', grad_fn=<NllLoss2DBackward0>), 'total': tensor(2.5059, device='cuda:0', grad_fn=<AddBackward0>)}]   \n"
     ]
    },
    {
     "name": "stdout",
     "output_type": "stream",
     "text": [
      "Generated:  [{'type': 'pitch', 'value': 5}, {'type': 'velocity', 'value': 21}, {'type': 'pitch', 'value': 17}, {'type': 'velocity', 'value': 20}, 'next_frame', 'next_frame', 'next_frame', 'next_frame', {'type': 'pitch', 'value': 12}, {'type': 'velocity', 'value': 18}]\n",
      "Chords:  ['F_M7', 'F_M7', 'F_M7', 'F_M7', 'C_M', 'C_M', 'C_M', 'C_M', 'A_m', 'A_m', 'A_m', 'A_m7', 'E_m7', 'E_m7', 'G_M', 'G_M', 'F_M7', 'F_M7', 'F_M7', 'F_M7', 'A_m7', 'A_m7', 'A_m7', 'A_m7', 'C_M', 'C_M', 'E_m7', 'E_m7', 'F_M7', 'F_M7', 'F_M7', 'F_M7']\n"
     ]
    },
    {
     "name": "stderr",
     "output_type": "stream",
     "text": [
      "100%|██████████| 10/10 [00:04<00:00,  2.18it/s]\n",
      " 12%|█▎        | 983/7864 [05:44<9:03:36,  4.74s/it, batch=980, gpu_temp=61, loss={'chord': tensor(0.6702, device='cuda:0', grad_fn=<NllLossBackward0>), 'velocity': tensor(0.3345, device='cuda:0', grad_fn=<NllLossBackward0>), 'polyphony': tensor(0.2653, device='cuda:0', grad_fn=<NllLossBackward0>), 'density': tensor(0.2317, device='cuda:0', grad_fn=<NllLossBackward0>), 'piano_roll': tensor(1.0043, device='cuda:0', grad_fn=<NllLoss2DBackward0>), 'total': tensor(2.5059, device='cuda:0', grad_fn=<AddBackward0>)}]"
     ]
    },
    {
     "name": "stdout",
     "output_type": "stream",
     "text": [
      "Generated:  [{'type': 'pitch', 'value': 39}, {'type': 'velocity', 'value': 17}, {'type': 'pitch', 'value': 51}, {'type': 'velocity', 'value': 15}, {'type': 'pitch', 'value': 55}, {'type': 'velocity', 'value': 20}, 'next_frame', 'next_frame', 'next_frame', 'next_frame']\n",
      "Chords:  ['C_M7', 'C_M7', 'C_M7', 'C_M7', 'A_m7', 'A_m7', 'A_m7', 'A_m7', 'F_M', 'F_M', 'F_M', 'F_M', 'G_M', 'G_M', 'G_M', 'G_M', 'C_M7', 'C_M7', 'C_M7', 'C_M7', 'A_m7', 'A_m7', 'A_m7', 'A_m7', 'A_m7', 'A_m7', 'A_m7', 'A_m7', 'A_m7', 'A_m7', 'A_m7', 'A_m7']\n"
     ]
    },
    {
     "name": "stderr",
     "output_type": "stream",
     "text": [
      "100%|██████████| 16/16 [00:11<00:00,  1.41it/s]t/s, batch=1470, gpu_temp=57, loss={'chord': tensor(0.5891, device='cuda:0', grad_fn=<NllLossBackward0>), 'velocity': tensor(0.3366, device='cuda:0', grad_fn=<NllLossBackward0>), 'polyphony': tensor(0.2513, device='cuda:0', grad_fn=<NllLossBackward0>), 'density': tensor(0.2486, device='cuda:0', grad_fn=<NllLossBackward0>), 'piano_roll': tensor(1.0695, device='cuda:0', grad_fn=<NllLoss2DBackward0>), 'total': tensor(2.4951, device='cuda:0', grad_fn=<AddBackward0>)}]  \n"
     ]
    },
    {
     "name": "stdout",
     "output_type": "stream",
     "text": [
      "Generated:  [{'type': 'pitch', 'value': 20}, {'type': 'velocity', 'value': 21}, {'type': 'pitch', 'value': 44}, {'type': 'velocity', 'value': 22}, {'type': 'pitch', 'value': 48}, {'type': 'velocity', 'value': 23}, 'next_frame', 'next_frame', 'next_frame', 'next_frame']\n",
      "Chords:  ['D_7', 'D_7', 'D_7', 'D_7', 'G_7', 'G_7', 'C_M', 'C_M', 'F_M7', 'F_M7', 'G_M', 'G_M', 'E_m7', 'E_m7', 'A_m', 'A_m', 'F_M7', 'F_M7', 'G_M', 'G_M', 'C_M7', 'C_M7', 'C_M7', 'C_M7', 'F_M7', 'F_M7', 'G_M', 'G_M', 'E_m7', 'E_m7', 'A_m7', 'A_m7']\n"
     ]
    },
    {
     "name": "stderr",
     "output_type": "stream",
     "text": [
      "100%|██████████| 10/10 [00:04<00:00,  2.03it/s]\n",
      " 19%|█▊        | 1474/7864 [08:34<9:20:46,  5.27s/it, batch=1470, gpu_temp=57, loss={'chord': tensor(0.5891, device='cuda:0', grad_fn=<NllLossBackward0>), 'velocity': tensor(0.3366, device='cuda:0', grad_fn=<NllLossBackward0>), 'polyphony': tensor(0.2513, device='cuda:0', grad_fn=<NllLossBackward0>), 'density': tensor(0.2486, device='cuda:0', grad_fn=<NllLossBackward0>), 'piano_roll': tensor(1.0695, device='cuda:0', grad_fn=<NllLoss2DBackward0>), 'total': tensor(2.4951, device='cuda:0', grad_fn=<AddBackward0>)}]"
     ]
    },
    {
     "name": "stdout",
     "output_type": "stream",
     "text": [
      "Generated:  [{'type': 'pitch', 'value': 39}, {'type': 'velocity', 'value': 17}, {'type': 'pitch', 'value': 51}, {'type': 'velocity', 'value': 15}, {'type': 'pitch', 'value': 55}, {'type': 'velocity', 'value': 20}, 'next_frame', 'next_frame', 'next_frame', 'next_frame']\n",
      "Chords:  ['C_M7', 'C_M7', 'C_M7', 'C_M7', 'A_m7', 'A_m7', 'A_m7', 'A_m7', 'F_M', 'F_M', 'F_M', 'F_M', 'G_M', 'G_M', 'G_M', 'G_M', 'C_M7', 'C_M7', 'C_M7', 'C_M7', 'A_m7', 'A_m7', 'A_m7', 'A_m7', 'F_M7', 'F_M7', 'F_M7', 'F_M7', 'G_7', 'G_7', 'G_7', 'G_7']\n"
     ]
    },
    {
     "name": "stderr",
     "output_type": "stream",
     "text": [
      "100%|██████████| 16/16 [00:13<00:00,  1.20it/s]t/s, batch=1960, gpu_temp=62, loss={'chord': tensor(0.7593, device='cuda:0', grad_fn=<NllLossBackward0>), 'velocity': tensor(0.3840, device='cuda:0', grad_fn=<NllLossBackward0>), 'polyphony': tensor(0.2906, device='cuda:0', grad_fn=<NllLossBackward0>), 'density': tensor(0.3387, device='cuda:0', grad_fn=<NllLossBackward0>), 'piano_roll': tensor(1.0685, device='cuda:0', grad_fn=<NllLoss2DBackward0>), 'total': tensor(2.8411, device='cuda:0', grad_fn=<AddBackward0>)}]  \n"
     ]
    },
    {
     "name": "stdout",
     "output_type": "stream",
     "text": [
      "Generated:  [{'type': 'pitch', 'value': 20}, {'type': 'velocity', 'value': 20}, {'type': 'pitch', 'value': 32}, {'type': 'velocity', 'value': 22}, {'type': 'pitch', 'value': 56}, {'type': 'velocity', 'value': 21}, {'type': 'pitch', 'value': 67}, {'type': 'velocity', 'value': 22}, 'next_frame', 'next_frame']\n",
      "Chords:  ['A_m', 'A_m', 'E_m', 'E_m', 'D_m7', 'D_m7', 'D_m7', 'D_m7', 'G_M', 'G_M', 'G_M', 'G_M', 'C_M', 'C_M', 'C_M', 'C_M', 'C_7', 'C_7', 'C_7', 'C_7', 'F_M', 'F_M', 'F_M', 'F_M', 'F_M', 'None', 'None', 'None', 'G_M', 'G_M', 'A_m7', 'A_m7']\n"
     ]
    },
    {
     "name": "stderr",
     "output_type": "stream",
     "text": [
      "100%|██████████| 10/10 [00:05<00:00,  1.80it/s]\n",
      " 25%|██▍       | 1965/7864 [11:25<9:56:25,  6.07s/it, batch=1960, gpu_temp=62, loss={'chord': tensor(0.7593, device='cuda:0', grad_fn=<NllLossBackward0>), 'velocity': tensor(0.3840, device='cuda:0', grad_fn=<NllLossBackward0>), 'polyphony': tensor(0.2906, device='cuda:0', grad_fn=<NllLossBackward0>), 'density': tensor(0.3387, device='cuda:0', grad_fn=<NllLossBackward0>), 'piano_roll': tensor(1.0685, device='cuda:0', grad_fn=<NllLoss2DBackward0>), 'total': tensor(2.8411, device='cuda:0', grad_fn=<AddBackward0>)}]"
     ]
    },
    {
     "name": "stdout",
     "output_type": "stream",
     "text": [
      "Generated:  [{'type': 'pitch', 'value': 39}, {'type': 'velocity', 'value': 17}, {'type': 'pitch', 'value': 51}, {'type': 'velocity', 'value': 15}, {'type': 'pitch', 'value': 55}, {'type': 'velocity', 'value': 20}, 'next_frame', 'next_frame', 'next_frame', 'next_frame']\n",
      "Chords:  ['C_M7', 'C_M7', 'C_M7', 'C_M7', 'A_m7', 'A_m7', 'A_m7', 'A_m7', 'F_M', 'F_M', 'F_M', 'F_M', 'G_M', 'G_M', 'G_M', 'G_M', 'C_M7', 'C_M7', 'C_M7', 'C_M7', 'A_m7', 'A_m7', 'A_m7', 'A_m7', 'F_M', 'F_M', 'F_M7', 'F_M7', 'C_M', 'C_M', 'C_M', 'C_M']\n"
     ]
    },
    {
     "name": "stderr",
     "output_type": "stream",
     "text": [
      "100%|██████████| 16/16 [00:12<00:00,  1.28it/s]t/s, batch=2450, gpu_temp=57, loss={'chord': tensor(0.7048, device='cuda:0', grad_fn=<NllLossBackward0>), 'velocity': tensor(0.3702, device='cuda:0', grad_fn=<NllLossBackward0>), 'polyphony': tensor(0.2770, device='cuda:0', grad_fn=<NllLossBackward0>), 'density': tensor(0.3253, device='cuda:0', grad_fn=<NllLossBackward0>), 'piano_roll': tensor(1.0655, device='cuda:0', grad_fn=<NllLoss2DBackward0>), 'total': tensor(2.7427, device='cuda:0', grad_fn=<AddBackward0>)}]  \n"
     ]
    },
    {
     "name": "stdout",
     "output_type": "stream",
     "text": [
      "Generated:  ['next_frame', 'next_frame', 'next_frame', 'next_frame', 'next_frame', 'next_frame', 'next_frame', 'next_frame', 'next_frame', 'next_frame']\n",
      "Chords:  ['E_M', 'E_M', 'E_M', 'E_M', 'A_m', 'A_m', 'A_m', 'A_m', 'A_m', 'A_m', 'A_m', 'A_m', 'B_M', 'B_M', 'B_M', 'B_M', 'E_M', 'E_M', 'E_M', 'E_M', 'A_m', 'A_m', 'A_m', 'A_m7', 'A_m7', 'A_m7', 'A_m', 'A_m', 'A_m', 'A_m', 'A_m', 'A_m']\n"
     ]
    },
    {
     "name": "stderr",
     "output_type": "stream",
     "text": [
      "100%|██████████| 10/10 [00:05<00:00,  1.86it/s]\n",
      " 31%|███       | 2456/7864 [14:15<8:40:07,  5.77s/it, batch=2450, gpu_temp=57, loss={'chord': tensor(0.7048, device='cuda:0', grad_fn=<NllLossBackward0>), 'velocity': tensor(0.3702, device='cuda:0', grad_fn=<NllLossBackward0>), 'polyphony': tensor(0.2770, device='cuda:0', grad_fn=<NllLossBackward0>), 'density': tensor(0.3253, device='cuda:0', grad_fn=<NllLossBackward0>), 'piano_roll': tensor(1.0655, device='cuda:0', grad_fn=<NllLoss2DBackward0>), 'total': tensor(2.7427, device='cuda:0', grad_fn=<AddBackward0>)}]"
     ]
    },
    {
     "name": "stdout",
     "output_type": "stream",
     "text": [
      "Generated:  [{'type': 'pitch', 'value': 39}, {'type': 'velocity', 'value': 17}, {'type': 'pitch', 'value': 51}, {'type': 'velocity', 'value': 15}, {'type': 'pitch', 'value': 55}, {'type': 'velocity', 'value': 20}, 'next_frame', 'next_frame', 'next_frame', 'next_frame']\n",
      "Chords:  ['C_M7', 'C_M7', 'C_M7', 'C_M7', 'A_m7', 'A_m7', 'A_m7', 'A_m7', 'F_M', 'F_M', 'F_M', 'F_M', 'G_M', 'G_M', 'G_M', 'G_M', 'C_M7', 'C_M7', 'C_M7', 'C_M7', 'A_m7', 'A_m7', 'A_m7', 'A_m7', 'F_M', 'F_M', 'F_M', 'F_M7', 'F_M7', 'C_M', 'C_M', 'C_M']\n"
     ]
    },
    {
     "name": "stderr",
     "output_type": "stream",
     "text": [
      "100%|██████████| 16/16 [00:12<00:00,  1.24it/s]t/s, batch=2940, gpu_temp=57, loss={'chord': tensor(0.6609, device='cuda:0', grad_fn=<NllLossBackward0>), 'velocity': tensor(0.3572, device='cuda:0', grad_fn=<NllLossBackward0>), 'polyphony': tensor(0.2022, device='cuda:0', grad_fn=<NllLossBackward0>), 'density': tensor(0.3044, device='cuda:0', grad_fn=<NllLossBackward0>), 'piano_roll': tensor(0.9703, device='cuda:0', grad_fn=<NllLoss2DBackward0>), 'total': tensor(2.4951, device='cuda:0', grad_fn=<AddBackward0>)}]  \n"
     ]
    },
    {
     "name": "stdout",
     "output_type": "stream",
     "text": [
      "Generated:  [{'type': 'pitch', 'value': 34}, {'type': 'velocity', 'value': 19}, {'type': 'pitch', 'value': 38}, {'type': 'velocity', 'value': 17}, {'type': 'pitch', 'value': 41}, {'type': 'velocity', 'value': 18}, {'type': 'pitch', 'value': 56}, {'type': 'velocity', 'value': 24}, {'type': 'pitch', 'value': 68}, {'type': 'velocity', 'value': 24}]\n",
      "Chords:  ['A_sus4', 'A_sus4', 'A_sus4', 'A_sus4', 'F_M7', 'F_M7', 'C_M', 'C_M', 'D_m7', 'D_m7', 'D_m', 'D_m', 'F_M7', 'F_M7', 'G_7', 'G_7', 'A_m', 'A_m', 'A_m', 'A_m', 'C_M', 'C_M', 'C_M', 'C_M', 'C_M', 'C_M', 'C_M', 'C_M', 'A_m', 'A_m', 'A_m', 'A_m']\n"
     ]
    },
    {
     "name": "stderr",
     "output_type": "stream",
     "text": [
      "100%|██████████| 10/10 [00:05<00:00,  1.80it/s]\n",
      " 37%|███▋      | 2947/7864 [17:05<8:03:40,  5.90s/it, batch=2940, gpu_temp=57, loss={'chord': tensor(0.6609, device='cuda:0', grad_fn=<NllLossBackward0>), 'velocity': tensor(0.3572, device='cuda:0', grad_fn=<NllLossBackward0>), 'polyphony': tensor(0.2022, device='cuda:0', grad_fn=<NllLossBackward0>), 'density': tensor(0.3044, device='cuda:0', grad_fn=<NllLossBackward0>), 'piano_roll': tensor(0.9703, device='cuda:0', grad_fn=<NllLoss2DBackward0>), 'total': tensor(2.4951, device='cuda:0', grad_fn=<AddBackward0>)}]"
     ]
    },
    {
     "name": "stdout",
     "output_type": "stream",
     "text": [
      "Generated:  [{'type': 'pitch', 'value': 39}, {'type': 'velocity', 'value': 17}, {'type': 'pitch', 'value': 51}, {'type': 'velocity', 'value': 15}, {'type': 'pitch', 'value': 55}, {'type': 'velocity', 'value': 20}, 'next_frame', 'next_frame', 'next_frame', 'next_frame']\n",
      "Chords:  ['C_M7', 'C_M7', 'C_M7', 'C_M7', 'A_m7', 'A_m7', 'A_m7', 'A_m7', 'F_M', 'F_M', 'F_M', 'F_M', 'G_M', 'G_M', 'G_M', 'G_M', 'C_M7', 'C_M7', 'C_M7', 'C_M7', 'A_m7', 'A_m7', 'A_m7', 'A_m7', 'G_+', 'C_M7', 'C_M7', 'C_M7', 'F_M7', 'F_M7', 'F_M7', 'F_M7']\n"
     ]
    },
    {
     "name": "stderr",
     "output_type": "stream",
     "text": [
      "100%|██████████| 16/16 [00:12<00:00,  1.26it/s]t/s, batch=3430, gpu_temp=61, loss={'chord': tensor(0.6705, device='cuda:0', grad_fn=<NllLossBackward0>), 'velocity': tensor(0.3324, device='cuda:0', grad_fn=<NllLossBackward0>), 'polyphony': tensor(0.2176, device='cuda:0', grad_fn=<NllLossBackward0>), 'density': tensor(0.3080, device='cuda:0', grad_fn=<NllLossBackward0>), 'piano_roll': tensor(1.0996, device='cuda:0', grad_fn=<NllLoss2DBackward0>), 'total': tensor(2.6280, device='cuda:0', grad_fn=<AddBackward0>)}]  \n"
     ]
    },
    {
     "name": "stdout",
     "output_type": "stream",
     "text": [
      "Generated:  [{'type': 'pitch', 'value': 12}, {'type': 'velocity', 'value': 18}, {'type': 'pitch', 'value': 24}, {'type': 'velocity', 'value': 21}, {'type': 'pitch', 'value': 36}, {'type': 'velocity', 'value': 23}, 'next_frame', 'next_frame', 'next_frame', 'next_frame']\n",
      "Chords:  ['A_m7', 'A_m7', 'A_m', 'A_m', 'F_M7', 'F_M7', 'D_m7', 'D_m7', 'D_m7', 'D_m7', 'D_m7', 'D_m7', 'E_m7', 'E_m7', 'C_M', 'C_M', 'A_m', 'A_m', 'A_m7', 'A_m7', 'C_M', 'C_M', 'C_M', 'C_M', 'D_m7', 'D_m7', 'D_m7', 'D_m7', 'C_M', 'C_M', 'C_M', 'C_M']\n"
     ]
    },
    {
     "name": "stderr",
     "output_type": "stream",
     "text": [
      "100%|██████████| 10/10 [00:05<00:00,  1.73it/s]\n",
      " 44%|████▎     | 3438/7864 [19:57<7:15:05,  5.90s/it, batch=3430, gpu_temp=61, loss={'chord': tensor(0.6705, device='cuda:0', grad_fn=<NllLossBackward0>), 'velocity': tensor(0.3324, device='cuda:0', grad_fn=<NllLossBackward0>), 'polyphony': tensor(0.2176, device='cuda:0', grad_fn=<NllLossBackward0>), 'density': tensor(0.3080, device='cuda:0', grad_fn=<NllLossBackward0>), 'piano_roll': tensor(1.0996, device='cuda:0', grad_fn=<NllLoss2DBackward0>), 'total': tensor(2.6280, device='cuda:0', grad_fn=<AddBackward0>)}]"
     ]
    },
    {
     "name": "stdout",
     "output_type": "stream",
     "text": [
      "Generated:  [{'type': 'pitch', 'value': 39}, {'type': 'velocity', 'value': 17}, {'type': 'pitch', 'value': 51}, {'type': 'velocity', 'value': 15}, {'type': 'pitch', 'value': 55}, {'type': 'velocity', 'value': 20}, 'next_frame', 'next_frame', 'next_frame', 'next_frame']\n",
      "Chords:  ['C_M7', 'C_M7', 'C_M7', 'C_M7', 'A_m7', 'A_m7', 'A_m7', 'A_m7', 'F_M', 'F_M', 'F_M', 'F_M', 'G_M', 'G_M', 'G_M', 'G_M', 'C_M7', 'C_M7', 'C_M7', 'C_M7', 'A_m7', 'A_m7', 'A_m7', 'A_m7', 'F_M', 'F_M', 'F_M7', 'F_M7', 'C_M7', 'C_M7', 'C_M7', 'C_M7']\n"
     ]
    },
    {
     "name": "stderr",
     "output_type": "stream",
     "text": [
      "100%|██████████| 16/16 [00:11<00:00,  1.41it/s]t/s, batch=3920, gpu_temp=61, loss={'chord': tensor(0.6487, device='cuda:0', grad_fn=<NllLossBackward0>), 'velocity': tensor(0.3691, device='cuda:0', grad_fn=<NllLossBackward0>), 'polyphony': tensor(0.2525, device='cuda:0', grad_fn=<NllLossBackward0>), 'density': tensor(0.3182, device='cuda:0', grad_fn=<NllLossBackward0>), 'piano_roll': tensor(1.0065, device='cuda:0', grad_fn=<NllLoss2DBackward0>), 'total': tensor(2.5949, device='cuda:0', grad_fn=<AddBackward0>)}]  \n"
     ]
    },
    {
     "name": "stdout",
     "output_type": "stream",
     "text": [
      "Generated:  [{'type': 'pitch', 'value': 27}, {'type': 'velocity', 'value': 18}, {'type': 'pitch', 'value': 34}, {'type': 'velocity', 'value': 18}, {'type': 'pitch', 'value': 39}, {'type': 'velocity', 'value': 18}, {'type': 'pitch', 'value': 51}, {'type': 'velocity', 'value': 17}, {'type': 'pitch', 'value': 55}, {'type': 'velocity', 'value': 21}]\n",
      "Chords:  ['G_7', 'G_7', 'G_7', 'G_7', 'A_m7', 'A_m7', 'A_m', 'A_m', 'D_m7', 'D_m7', 'D_m7', 'D_m7', 'C_M', 'C_M', 'C_M7', 'C_M7', 'G_M', 'G_M', 'G_7', 'G_7', 'A_m', 'A_m', 'A_m', 'A_m', 'F_M7', 'F_M7', 'F_M7', 'F_M7', 'C_M', 'C_M', 'C_M', 'C_M']\n"
     ]
    },
    {
     "name": "stderr",
     "output_type": "stream",
     "text": [
      "100%|██████████| 10/10 [00:04<00:00,  2.08it/s]\n",
      " 50%|████▉     | 3929/7864 [22:46<5:43:05,  5.23s/it, batch=3920, gpu_temp=61, loss={'chord': tensor(0.6487, device='cuda:0', grad_fn=<NllLossBackward0>), 'velocity': tensor(0.3691, device='cuda:0', grad_fn=<NllLossBackward0>), 'polyphony': tensor(0.2525, device='cuda:0', grad_fn=<NllLossBackward0>), 'density': tensor(0.3182, device='cuda:0', grad_fn=<NllLossBackward0>), 'piano_roll': tensor(1.0065, device='cuda:0', grad_fn=<NllLoss2DBackward0>), 'total': tensor(2.5949, device='cuda:0', grad_fn=<AddBackward0>)}]"
     ]
    },
    {
     "name": "stdout",
     "output_type": "stream",
     "text": [
      "Generated:  [{'type': 'pitch', 'value': 39}, {'type': 'velocity', 'value': 17}, {'type': 'pitch', 'value': 51}, {'type': 'velocity', 'value': 15}, {'type': 'pitch', 'value': 55}, {'type': 'velocity', 'value': 20}, 'next_frame', 'next_frame', 'next_frame', 'next_frame']\n",
      "Chords:  ['C_M7', 'C_M7', 'C_M7', 'C_M7', 'A_m7', 'A_m7', 'A_m7', 'A_m7', 'F_M', 'F_M', 'F_M', 'F_M', 'G_M', 'G_M', 'G_M', 'G_M', 'C_M7', 'C_M7', 'C_M7', 'C_M7', 'A_m7', 'A_m7', 'A_m7', 'A_m7', 'F_M', 'F_M', 'F_M', 'F_M7', 'C_M7', 'C_M7', 'C_M7', 'C_M7']\n"
     ]
    },
    {
     "name": "stderr",
     "output_type": "stream",
     "text": [
      "100%|██████████| 16/16 [00:14<00:00,  1.11it/s]t/s, batch=4410, gpu_temp=59, loss={'chord': tensor(0.6289, device='cuda:0', grad_fn=<NllLossBackward0>), 'velocity': tensor(0.3320, device='cuda:0', grad_fn=<NllLossBackward0>), 'polyphony': tensor(0.2168, device='cuda:0', grad_fn=<NllLossBackward0>), 'density': tensor(0.3036, device='cuda:0', grad_fn=<NllLossBackward0>), 'piano_roll': tensor(1.0333, device='cuda:0', grad_fn=<NllLoss2DBackward0>), 'total': tensor(2.5146, device='cuda:0', grad_fn=<AddBackward0>)}]  \n"
     ]
    },
    {
     "name": "stdout",
     "output_type": "stream",
     "text": [
      "Generated:  [{'type': 'pitch', 'value': 20}, {'type': 'velocity', 'value': 19}, 'next_frame', 'next_frame', 'next_frame', 'next_frame', {'type': 'pitch', 'value': 27}, {'type': 'velocity', 'value': 19}, {'type': 'pitch', 'value': 44}, {'type': 'velocity', 'value': 18}]\n",
      "Chords:  ['A_m', 'A_m', 'F_M', 'F_M', 'C_M', 'C_M', 'G_M', 'G_M', 'A_m7', 'A_m7', 'F_M7', 'F_M7', 'C_M', 'C_M', 'G_M', 'G_M', 'A_m7', 'A_m7', 'F_M7', 'F_M7', 'C_M', 'C_M', 'E_m7', 'E_m7', 'A_m7', 'A_m7', 'F_M7', 'F_M7', 'C_M', 'C_M', 'G_M', 'G_M']\n"
     ]
    },
    {
     "name": "stderr",
     "output_type": "stream",
     "text": [
      "100%|██████████| 10/10 [00:06<00:00,  1.64it/s]\n",
      " 56%|█████▌    | 4420/7864 [25:41<6:11:50,  6.48s/it, batch=4410, gpu_temp=59, loss={'chord': tensor(0.6289, device='cuda:0', grad_fn=<NllLossBackward0>), 'velocity': tensor(0.3320, device='cuda:0', grad_fn=<NllLossBackward0>), 'polyphony': tensor(0.2168, device='cuda:0', grad_fn=<NllLossBackward0>), 'density': tensor(0.3036, device='cuda:0', grad_fn=<NllLossBackward0>), 'piano_roll': tensor(1.0333, device='cuda:0', grad_fn=<NllLoss2DBackward0>), 'total': tensor(2.5146, device='cuda:0', grad_fn=<AddBackward0>)}]"
     ]
    },
    {
     "name": "stdout",
     "output_type": "stream",
     "text": [
      "Generated:  [{'type': 'pitch', 'value': 39}, {'type': 'velocity', 'value': 17}, {'type': 'pitch', 'value': 51}, {'type': 'velocity', 'value': 15}, {'type': 'pitch', 'value': 55}, {'type': 'velocity', 'value': 20}, 'next_frame', 'next_frame', 'next_frame', 'next_frame']\n",
      "Chords:  ['C_M7', 'C_M7', 'C_M7', 'C_M7', 'A_m7', 'A_m7', 'A_m7', 'A_m7', 'F_M', 'F_M', 'F_M', 'F_M', 'G_M', 'G_M', 'G_M', 'G_M', 'C_M7', 'C_M7', 'C_M7', 'C_M7', 'A_m7', 'A_m7', 'A_m7', 'A_m7', 'F_M', 'F_M', 'F_M', 'F_M', 'C_M7', 'C_M7', 'C_M7', 'C_M7']\n"
     ]
    },
    {
     "name": "stderr",
     "output_type": "stream",
     "text": [
      "100%|██████████| 16/16 [00:09<00:00,  1.63it/s]t/s, batch=4910, gpu_temp=63, loss={'chord': tensor(0.6382, device='cuda:0', grad_fn=<NllLossBackward0>), 'velocity': tensor(0.3456, device='cuda:0', grad_fn=<NllLossBackward0>), 'polyphony': tensor(0.2476, device='cuda:0', grad_fn=<NllLossBackward0>), 'density': tensor(0.3546, device='cuda:0', grad_fn=<NllLossBackward0>), 'piano_roll': tensor(0.9826, device='cuda:0', grad_fn=<NllLoss2DBackward0>), 'total': tensor(2.5686, device='cuda:0', grad_fn=<AddBackward0>)}]  \n"
     ]
    },
    {
     "name": "stdout",
     "output_type": "stream",
     "text": [
      "Generated:  ['next_frame', 'next_frame', 'next_frame', 'next_frame', 'next_frame', 'next_frame', 'next_frame', 'next_frame', 'next_frame', 'next_frame']\n",
      "Chords:  ['G_M', 'G_M', 'G_m7', 'G_m7', 'G_M', 'G_M', 'G_M', 'G_M', 'D_M', 'D_sus2', 'D_m', 'D_m', 'D_m', 'D_m', 'D_m', 'D_m', 'D_m', 'D_m', 'D_m', 'D_m', 'A_m', 'A_m', 'A_m', 'A_m', 'A_m', 'A_m', 'A_m7', 'A_m7', 'E_m7', 'E_m7', 'E_m7', 'E_m7']\n"
     ]
    },
    {
     "name": "stderr",
     "output_type": "stream",
     "text": [
      "100%|██████████| 10/10 [00:06<00:00,  1.60it/s]\n",
      " 62%|██████▏   | 4911/7864 [28:23<4:15:10,  5.18s/it, batch=4910, gpu_temp=63, loss={'chord': tensor(0.6382, device='cuda:0', grad_fn=<NllLossBackward0>), 'velocity': tensor(0.3456, device='cuda:0', grad_fn=<NllLossBackward0>), 'polyphony': tensor(0.2476, device='cuda:0', grad_fn=<NllLossBackward0>), 'density': tensor(0.3546, device='cuda:0', grad_fn=<NllLossBackward0>), 'piano_roll': tensor(0.9826, device='cuda:0', grad_fn=<NllLoss2DBackward0>), 'total': tensor(2.5686, device='cuda:0', grad_fn=<AddBackward0>)}]"
     ]
    },
    {
     "name": "stdout",
     "output_type": "stream",
     "text": [
      "Generated:  [{'type': 'pitch', 'value': 39}, {'type': 'velocity', 'value': 17}, {'type': 'pitch', 'value': 51}, {'type': 'velocity', 'value': 15}, {'type': 'pitch', 'value': 55}, {'type': 'velocity', 'value': 20}, 'next_frame', 'next_frame', 'next_frame', 'next_frame']\n",
      "Chords:  ['C_M7', 'C_M7', 'C_M7', 'C_M7', 'A_m7', 'A_m7', 'A_m7', 'A_m7', 'F_M', 'F_M', 'F_M', 'F_M', 'G_M', 'G_M', 'G_M', 'G_M', 'C_M7', 'C_M7', 'C_M7', 'C_M7', 'A_m7', 'A_m7', 'A_m7', 'A_m7', 'C_M7', 'C_M7', 'C_M7', 'C_M7', 'A_m7', 'A_m7', 'C_M', 'C_M']\n"
     ]
    },
    {
     "name": "stderr",
     "output_type": "stream",
     "text": [
      "100%|██████████| 16/16 [00:14<00:00,  1.14it/s]t/s, batch=5400, gpu_temp=63, loss={'chord': tensor(0.6570, device='cuda:0', grad_fn=<NllLossBackward0>), 'velocity': tensor(0.2950, device='cuda:0', grad_fn=<NllLossBackward0>), 'polyphony': tensor(0.2587, device='cuda:0', grad_fn=<NllLossBackward0>), 'density': tensor(0.2432, device='cuda:0', grad_fn=<NllLossBackward0>), 'piano_roll': tensor(1.1454, device='cuda:0', grad_fn=<NllLoss2DBackward0>), 'total': tensor(2.5993, device='cuda:0', grad_fn=<AddBackward0>)}]  \n"
     ]
    },
    {
     "name": "stdout",
     "output_type": "stream",
     "text": [
      "Generated:  [{'type': 'pitch', 'value': 7}, {'type': 'velocity', 'value': 23}, {'type': 'pitch', 'value': 19}, {'type': 'velocity', 'value': 22}, 'next_frame', 'next_frame', 'next_frame', 'next_frame', {'type': 'pitch', 'value': 53}, {'type': 'velocity', 'value': 23}]\n",
      "Chords:  ['E_M', 'E_M', 'E_M', 'E_M', 'A_sus2', 'A_sus2', 'A_sus2', 'A_sus2', 'E_M', 'E_M', 'E_M', 'E_M', 'C_M', 'C_M', 'C_M', 'C_M7', 'A_m', 'A_m', 'A_m', 'A_m', 'A_m', 'A_m', 'A_m', 'A_m', 'A_m', 'A_m', 'A_m7', 'A_m7', 'F_M', 'F_M', 'F_M', 'B_o']\n"
     ]
    },
    {
     "name": "stderr",
     "output_type": "stream",
     "text": [
      "100%|██████████| 10/10 [00:06<00:00,  1.63it/s]\n",
      " 69%|██████▊   | 5402/7864 [31:10<4:25:12,  6.46s/it, batch=5400, gpu_temp=63, loss={'chord': tensor(0.6570, device='cuda:0', grad_fn=<NllLossBackward0>), 'velocity': tensor(0.2950, device='cuda:0', grad_fn=<NllLossBackward0>), 'polyphony': tensor(0.2587, device='cuda:0', grad_fn=<NllLossBackward0>), 'density': tensor(0.2432, device='cuda:0', grad_fn=<NllLossBackward0>), 'piano_roll': tensor(1.1454, device='cuda:0', grad_fn=<NllLoss2DBackward0>), 'total': tensor(2.5993, device='cuda:0', grad_fn=<AddBackward0>)}]"
     ]
    },
    {
     "name": "stdout",
     "output_type": "stream",
     "text": [
      "Generated:  [{'type': 'pitch', 'value': 39}, {'type': 'velocity', 'value': 17}, {'type': 'pitch', 'value': 51}, {'type': 'velocity', 'value': 15}, {'type': 'pitch', 'value': 55}, {'type': 'velocity', 'value': 20}, 'next_frame', 'next_frame', 'next_frame', 'next_frame']\n",
      "Chords:  ['C_M7', 'C_M7', 'C_M7', 'C_M7', 'A_m7', 'A_m7', 'A_m7', 'A_m7', 'F_M', 'F_M', 'F_M', 'F_M', 'G_M', 'G_M', 'G_M', 'G_M', 'C_M7', 'C_M7', 'C_M7', 'C_M7', 'A_m7', 'A_m7', 'A_m7', 'A_m7', 'B_o', 'B_o', 'D_m7', 'D_m7', 'F_M', 'F_M', 'F_M', 'F_M']\n"
     ]
    },
    {
     "name": "stderr",
     "output_type": "stream",
     "text": [
      "100%|██████████| 16/16 [00:12<00:00,  1.28it/s]t/s, batch=5890, gpu_temp=61, loss={'chord': tensor(0.6627, device='cuda:0', grad_fn=<NllLossBackward0>), 'velocity': tensor(0.3409, device='cuda:0', grad_fn=<NllLossBackward0>), 'polyphony': tensor(0.2031, device='cuda:0', grad_fn=<NllLossBackward0>), 'density': tensor(0.3157, device='cuda:0', grad_fn=<NllLossBackward0>), 'piano_roll': tensor(1.0037, device='cuda:0', grad_fn=<NllLoss2DBackward0>), 'total': tensor(2.5262, device='cuda:0', grad_fn=<AddBackward0>)}]  \n"
     ]
    },
    {
     "name": "stdout",
     "output_type": "stream",
     "text": [
      "Generated:  [{'type': 'pitch', 'value': 7}, {'type': 'velocity', 'value': 20}, {'type': 'pitch', 'value': 19}, {'type': 'velocity', 'value': 22}, {'type': 'pitch', 'value': 43}, {'type': 'velocity', 'value': 21}, {'type': 'pitch', 'value': 53}, {'type': 'velocity', 'value': 23}, 'next_frame', 'next_frame']\n",
      "Chords:  ['A_m', 'A_m', 'A_m7', 'A_m7', 'F_M', 'F_M', 'F_M', 'F_M', 'C_M', 'C_M', 'C_M', 'C_M', 'G_M', 'G_M', 'E_m7', 'E_m7', 'A_m', 'A_m', 'A_m', 'A_m', 'A_m', 'A_m', 'A_m', 'A_m', 'F_M', 'F_M', 'F_M7', 'F_M7', 'C_M', 'C_M', 'C_M', 'C_M']\n"
     ]
    },
    {
     "name": "stderr",
     "output_type": "stream",
     "text": [
      "100%|██████████| 10/10 [00:06<00:00,  1.61it/s]\n",
      " 75%|███████▍  | 5893/7864 [33:58<3:16:31,  5.98s/it, batch=5890, gpu_temp=61, loss={'chord': tensor(0.6627, device='cuda:0', grad_fn=<NllLossBackward0>), 'velocity': tensor(0.3409, device='cuda:0', grad_fn=<NllLossBackward0>), 'polyphony': tensor(0.2031, device='cuda:0', grad_fn=<NllLossBackward0>), 'density': tensor(0.3157, device='cuda:0', grad_fn=<NllLossBackward0>), 'piano_roll': tensor(1.0037, device='cuda:0', grad_fn=<NllLoss2DBackward0>), 'total': tensor(2.5262, device='cuda:0', grad_fn=<AddBackward0>)}]"
     ]
    },
    {
     "name": "stdout",
     "output_type": "stream",
     "text": [
      "Generated:  [{'type': 'pitch', 'value': 39}, {'type': 'velocity', 'value': 17}, {'type': 'pitch', 'value': 51}, {'type': 'velocity', 'value': 15}, {'type': 'pitch', 'value': 55}, {'type': 'velocity', 'value': 20}, 'next_frame', 'next_frame', 'next_frame', 'next_frame']\n",
      "Chords:  ['C_M7', 'C_M7', 'C_M7', 'C_M7', 'A_m7', 'A_m7', 'A_m7', 'A_m7', 'F_M', 'F_M', 'F_M', 'F_M', 'G_M', 'G_M', 'G_M', 'G_M', 'C_M7', 'C_M7', 'C_M7', 'C_M7', 'A_m7', 'A_m7', 'A_m7', 'A_m7', 'A_m7', 'A_m7', 'A_m7', 'A_m7', 'C_M7', 'C_M7', 'C_M7', 'C_M7']\n"
     ]
    },
    {
     "name": "stderr",
     "output_type": "stream",
     "text": [
      "100%|██████████| 16/16 [00:10<00:00,  1.59it/s]t/s, batch=6380, gpu_temp=64, loss={'chord': tensor(0.6521, device='cuda:0', grad_fn=<NllLossBackward0>), 'velocity': tensor(0.3542, device='cuda:0', grad_fn=<NllLossBackward0>), 'polyphony': tensor(0.2459, device='cuda:0', grad_fn=<NllLossBackward0>), 'density': tensor(0.3002, device='cuda:0', grad_fn=<NllLossBackward0>), 'piano_roll': tensor(1.0797, device='cuda:0', grad_fn=<NllLoss2DBackward0>), 'total': tensor(2.6321, device='cuda:0', grad_fn=<AddBackward0>)}]  \n"
     ]
    },
    {
     "name": "stdout",
     "output_type": "stream",
     "text": [
      "Generated:  [{'type': 'pitch', 'value': 19}, {'type': 'velocity', 'value': 21}, 'next_frame', 'next_frame', 'next_frame', 'next_frame', {'type': 'pitch', 'value': 26}, {'type': 'velocity', 'value': 19}, {'type': 'pitch', 'value': 58}, {'type': 'velocity', 'value': 21}]\n",
      "Chords:  ['A_m', 'A_m', 'A_m', 'A_m', 'F_M7', 'F_M7', 'F_M7', 'F_M7', 'F_M7', 'F_M7', 'F_M7', 'F_M7', 'C_M', 'C_M', 'C_M', 'C_M', 'G_M', 'G_M', 'G_M', 'G_M', 'A_m', 'A_m', 'A_m', 'A_m', 'F_M7', 'F_M7', 'F_M7', 'F_M7', 'C_M', 'C_M', 'C_M', 'C_M']\n"
     ]
    },
    {
     "name": "stderr",
     "output_type": "stream",
     "text": [
      "100%|██████████| 10/10 [00:06<00:00,  1.61it/s]\n",
      " 81%|████████  | 6384/7864 [36:40<2:09:23,  5.25s/it, batch=6380, gpu_temp=64, loss={'chord': tensor(0.6521, device='cuda:0', grad_fn=<NllLossBackward0>), 'velocity': tensor(0.3542, device='cuda:0', grad_fn=<NllLossBackward0>), 'polyphony': tensor(0.2459, device='cuda:0', grad_fn=<NllLossBackward0>), 'density': tensor(0.3002, device='cuda:0', grad_fn=<NllLossBackward0>), 'piano_roll': tensor(1.0797, device='cuda:0', grad_fn=<NllLoss2DBackward0>), 'total': tensor(2.6321, device='cuda:0', grad_fn=<AddBackward0>)}]"
     ]
    },
    {
     "name": "stdout",
     "output_type": "stream",
     "text": [
      "Generated:  [{'type': 'pitch', 'value': 39}, {'type': 'velocity', 'value': 17}, {'type': 'pitch', 'value': 51}, {'type': 'velocity', 'value': 15}, {'type': 'pitch', 'value': 55}, {'type': 'velocity', 'value': 20}, 'next_frame', 'next_frame', 'next_frame', 'next_frame']\n",
      "Chords:  ['C_M7', 'C_M7', 'C_M7', 'C_M7', 'A_m7', 'A_m7', 'A_m7', 'A_m7', 'F_M', 'F_M', 'F_M', 'F_M', 'G_M', 'G_M', 'G_M', 'G_M', 'C_M7', 'C_M7', 'C_M7', 'C_M7', 'A_m7', 'A_m7', 'A_m7', 'A_m7', 'G_+', 'A_m7', 'A_m7', 'A_m7', 'D_m7', 'D_m7', 'F_M', 'F_M']\n"
     ]
    },
    {
     "name": "stderr",
     "output_type": "stream",
     "text": [
      "100%|██████████| 16/16 [00:16<00:00,  1.03s/it]t/s, batch=6870, gpu_temp=63, loss={'chord': tensor(0.7378, device='cuda:0', grad_fn=<NllLossBackward0>), 'velocity': tensor(0.3435, device='cuda:0', grad_fn=<NllLossBackward0>), 'polyphony': tensor(0.2577, device='cuda:0', grad_fn=<NllLossBackward0>), 'density': tensor(0.2579, device='cuda:0', grad_fn=<NllLossBackward0>), 'piano_roll': tensor(0.9836, device='cuda:0', grad_fn=<NllLoss2DBackward0>), 'total': tensor(2.5804, device='cuda:0', grad_fn=<AddBackward0>)}]  \n"
     ]
    },
    {
     "name": "stdout",
     "output_type": "stream",
     "text": [
      "Generated:  [{'type': 'pitch', 'value': 17}, {'type': 'velocity', 'value': 18}, {'type': 'pitch', 'value': 29}, {'type': 'velocity', 'value': 19}, {'type': 'pitch', 'value': 44}, {'type': 'velocity', 'value': 20}, {'type': 'pitch', 'value': 55}, {'type': 'velocity', 'value': 23}, 'next_frame', 'next_frame']\n",
      "Chords:  ['C_M', 'C_M', 'F_M', 'F_M', 'C_M', 'C_M', 'F_m', 'F_m', 'C_M', 'C_M', 'G_m', 'E_7', 'A_m', 'A_m', 'G_M', 'G_M', 'F_M7', 'F_M7', 'C_M', 'C_M', 'D_m7', 'D_m7', 'G_7', 'G_7', 'C_M', 'C_M', 'B_o', 'B_o', 'C_M', 'C_M', 'B_o', 'B_o']\n"
     ]
    },
    {
     "name": "stderr",
     "output_type": "stream",
     "text": [
      "100%|██████████| 10/10 [00:04<00:00,  2.11it/s]\n",
      " 87%|████████▋ | 6875/7864 [39:28<1:50:35,  6.71s/it, batch=6870, gpu_temp=63, loss={'chord': tensor(0.7378, device='cuda:0', grad_fn=<NllLossBackward0>), 'velocity': tensor(0.3435, device='cuda:0', grad_fn=<NllLossBackward0>), 'polyphony': tensor(0.2577, device='cuda:0', grad_fn=<NllLossBackward0>), 'density': tensor(0.2579, device='cuda:0', grad_fn=<NllLossBackward0>), 'piano_roll': tensor(0.9836, device='cuda:0', grad_fn=<NllLoss2DBackward0>), 'total': tensor(2.5804, device='cuda:0', grad_fn=<AddBackward0>)}]"
     ]
    },
    {
     "name": "stdout",
     "output_type": "stream",
     "text": [
      "Generated:  [{'type': 'pitch', 'value': 39}, {'type': 'velocity', 'value': 17}, {'type': 'pitch', 'value': 51}, {'type': 'velocity', 'value': 15}, {'type': 'pitch', 'value': 55}, {'type': 'velocity', 'value': 20}, 'next_frame', 'next_frame', 'next_frame', 'next_frame']\n",
      "Chords:  ['C_M7', 'C_M7', 'C_M7', 'C_M7', 'A_m7', 'A_m7', 'A_m7', 'A_m7', 'F_M', 'F_M', 'F_M', 'F_M', 'G_M', 'G_M', 'G_M', 'G_M', 'C_M7', 'C_M7', 'C_M7', 'C_M7', 'A_m7', 'A_m7', 'A_m7', 'A_m7', 'C_M7', 'C_M7', 'C_M7', 'C_M7', 'C_M7', 'C_M7', 'C_M7', 'C_M7']\n"
     ]
    },
    {
     "name": "stderr",
     "output_type": "stream",
     "text": [
      "100%|██████████| 16/16 [00:11<00:00,  1.43it/s]t/s, batch=7360, gpu_temp=62, loss={'chord': tensor(0.6743, device='cuda:0', grad_fn=<NllLossBackward0>), 'velocity': tensor(0.3603, device='cuda:0', grad_fn=<NllLossBackward0>), 'polyphony': tensor(0.2616, device='cuda:0', grad_fn=<NllLossBackward0>), 'density': tensor(0.2881, device='cuda:0', grad_fn=<NllLossBackward0>), 'piano_roll': tensor(1.0447, device='cuda:0', grad_fn=<NllLoss2DBackward0>), 'total': tensor(2.6290, device='cuda:0', grad_fn=<AddBackward0>)}]  \n"
     ]
    },
    {
     "name": "stdout",
     "output_type": "stream",
     "text": [
      "Generated:  [{'type': 'pitch', 'value': 24}, {'type': 'velocity', 'value': 20}, {'type': 'pitch', 'value': 46}, {'type': 'velocity', 'value': 23}, {'type': 'pitch', 'value': 51}, {'type': 'velocity', 'value': 21}, {'type': 'pitch', 'value': 58}, {'type': 'velocity', 'value': 23}, 'next_frame', 'next_frame']\n",
      "Chords:  ['G_m', 'G_m', 'G_m', 'G_m', 'D#_M7', 'D#_M7', 'G_m', 'G_m', 'A_m7', 'A_m7', 'A_m7', 'A_m7', 'A_m7', 'A_m7', 'None', 'None', 'None', 'None', 'A_m', 'A_m', 'D_sus2', 'D_sus2', 'A_m', 'A_m', 'A_m', 'A_m', 'A_m', 'A_m', 'A_m', 'A_m', 'A_m', 'A_m']\n"
     ]
    },
    {
     "name": "stderr",
     "output_type": "stream",
     "text": [
      "100%|██████████| 10/10 [00:05<00:00,  1.89it/s]\n",
      " 94%|█████████▎| 7366/7864 [42:09<43:51,  5.28s/it, batch=7360, gpu_temp=62, loss={'chord': tensor(0.6743, device='cuda:0', grad_fn=<NllLossBackward0>), 'velocity': tensor(0.3603, device='cuda:0', grad_fn=<NllLossBackward0>), 'polyphony': tensor(0.2616, device='cuda:0', grad_fn=<NllLossBackward0>), 'density': tensor(0.2881, device='cuda:0', grad_fn=<NllLossBackward0>), 'piano_roll': tensor(1.0447, device='cuda:0', grad_fn=<NllLoss2DBackward0>), 'total': tensor(2.6290, device='cuda:0', grad_fn=<AddBackward0>)}]"
     ]
    },
    {
     "name": "stdout",
     "output_type": "stream",
     "text": [
      "Generated:  [{'type': 'pitch', 'value': 39}, {'type': 'velocity', 'value': 17}, {'type': 'pitch', 'value': 51}, {'type': 'velocity', 'value': 15}, {'type': 'pitch', 'value': 55}, {'type': 'velocity', 'value': 20}, 'next_frame', 'next_frame', 'next_frame', 'next_frame']\n",
      "Chords:  ['C_M7', 'C_M7', 'C_M7', 'C_M7', 'A_m7', 'A_m7', 'A_m7', 'A_m7', 'F_M', 'F_M', 'F_M', 'F_M', 'G_M', 'G_M', 'G_M', 'G_M', 'C_M7', 'C_M7', 'C_M7', 'C_M7', 'A_m7', 'A_m7', 'A_m7', 'A_m7', 'B_o', 'B_o', 'B_o', 'B_o', 'C_M7', 'C_M7', 'C_M7', 'C_M7']\n"
     ]
    },
    {
     "name": "stderr",
     "output_type": "stream",
     "text": [
      "100%|██████████| 16/16 [00:11<00:00,  1.34it/s]t/s, batch=7850, gpu_temp=56, loss={'chord': tensor(0.6517, device='cuda:0', grad_fn=<NllLossBackward0>), 'velocity': tensor(0.3075, device='cuda:0', grad_fn=<NllLossBackward0>), 'polyphony': tensor(0.2887, device='cuda:0', grad_fn=<NllLossBackward0>), 'density': tensor(0.2769, device='cuda:0', grad_fn=<NllLossBackward0>), 'piano_roll': tensor(1.0660, device='cuda:0', grad_fn=<NllLoss2DBackward0>), 'total': tensor(2.5909, device='cuda:0', grad_fn=<AddBackward0>)}]\n"
     ]
    },
    {
     "name": "stdout",
     "output_type": "stream",
     "text": [
      "Generated:  [{'type': 'pitch', 'value': 15}, {'type': 'velocity', 'value': 18}, {'type': 'pitch', 'value': 27}, {'type': 'velocity', 'value': 20}, {'type': 'pitch', 'value': 43}, {'type': 'velocity', 'value': 22}, 'next_frame', 'next_frame', 'next_frame', 'next_frame']\n",
      "Chords:  ['F_M7', 'F_M7', 'G_7', 'G_7', 'C_M', 'C_M', 'C_M', 'C_M', 'D_m', 'D_m', 'D_m7', 'D_m7', 'G_M', 'G_M', 'G_M', 'G_M', 'None', 'None', 'None', 'None', 'C_M', 'C_M', 'C_M7', 'C_M7', 'C_M7', 'C_M7', 'C_M7', 'C_M7', 'C_M7', 'A_m7', 'A_m7', 'A_m7']\n"
     ]
    },
    {
     "name": "stderr",
     "output_type": "stream",
     "text": [
      "100%|██████████| 10/10 [00:04<00:00,  2.02it/s]\n",
      "100%|█████████▉| 7857/7864 [44:52<00:37,  5.38s/it, batch=7850, gpu_temp=56, loss={'chord': tensor(0.6517, device='cuda:0', grad_fn=<NllLossBackward0>), 'velocity': tensor(0.3075, device='cuda:0', grad_fn=<NllLossBackward0>), 'polyphony': tensor(0.2887, device='cuda:0', grad_fn=<NllLossBackward0>), 'density': tensor(0.2769, device='cuda:0', grad_fn=<NllLossBackward0>), 'piano_roll': tensor(1.0660, device='cuda:0', grad_fn=<NllLoss2DBackward0>), 'total': tensor(2.5909, device='cuda:0', grad_fn=<AddBackward0>)}]"
     ]
    },
    {
     "name": "stdout",
     "output_type": "stream",
     "text": [
      "Generated:  [{'type': 'pitch', 'value': 39}, {'type': 'velocity', 'value': 17}, {'type': 'pitch', 'value': 51}, {'type': 'velocity', 'value': 15}, {'type': 'pitch', 'value': 55}, {'type': 'velocity', 'value': 20}, 'next_frame', 'next_frame', 'next_frame', 'next_frame']\n",
      "Chords:  ['C_M7', 'C_M7', 'C_M7', 'C_M7', 'A_m7', 'A_m7', 'A_m7', 'A_m7', 'F_M', 'F_M', 'F_M', 'F_M', 'G_M', 'G_M', 'G_M', 'G_M', 'C_M7', 'C_M7', 'C_M7', 'C_M7', 'A_m7', 'A_m7', 'A_m7', 'A_m7', 'F_M', 'F_M', 'F_M7', 'F_M7', 'A_m7', 'A_m7', 'A_m7', 'A_m7']\n"
     ]
    },
    {
     "name": "stderr",
     "output_type": "stream",
     "text": [
      "100%|██████████| 7864/7864 [44:54<00:00,  2.92it/s, batch=7860, gpu_temp=58, loss={'chord': tensor(0.6071, device='cuda:0', grad_fn=<NllLossBackward0>), 'velocity': tensor(0.3734, device='cuda:0', grad_fn=<NllLossBackward0>), 'polyphony': tensor(0.2283, device='cuda:0', grad_fn=<NllLossBackward0>), 'density': tensor(0.2759, device='cuda:0', grad_fn=<NllLossBackward0>), 'piano_roll': tensor(1.0453, device='cuda:0', grad_fn=<NllLoss2DBackward0>), 'total': tensor(2.5300, device='cuda:0', grad_fn=<AddBackward0>)}]\n",
      "100%|██████████| 16/16 [00:11<00:00,  1.39it/s]/s, batch=490, gpu_temp=61, loss={'chord': tensor(0.6400, device='cuda:0', grad_fn=<NllLossBackward0>), 'velocity': tensor(0.3421, device='cuda:0', grad_fn=<NllLossBackward0>), 'polyphony': tensor(0.2081, device='cuda:0', grad_fn=<NllLossBackward0>), 'density': tensor(0.3381, device='cuda:0', grad_fn=<NllLossBackward0>), 'piano_roll': tensor(1.0672, device='cuda:0', grad_fn=<NllLoss2DBackward0>), 'total': tensor(2.5955, device='cuda:0', grad_fn=<AddBackward0>)}]\n"
     ]
    },
    {
     "name": "stdout",
     "output_type": "stream",
     "text": [
      "Generated:  [{'type': 'pitch', 'value': 19}, {'type': 'velocity', 'value': 22}, 'next_frame', 'next_frame', 'next_frame', 'next_frame', {'type': 'pitch', 'value': 50}, {'type': 'velocity', 'value': 22}, {'type': 'pitch', 'value': 58}, {'type': 'velocity', 'value': 23}]\n",
      "Chords:  ['G_M', 'G_M', 'G_M', 'G_M', 'F_M7', 'F_M7', 'F_M', 'F_M', 'C_M', 'C_M', 'C_M', 'C_M', 'G_M', 'G_M', 'G_M', 'G_M', 'C_M', 'C_M', 'C_M', 'C_M', 'F_M7', 'F_M7', 'F_M7', 'F_M7', 'F_M7', 'F_M7', 'F_M7', 'F_M7', 'C_M', 'C_M', 'C_M', 'C_M']\n"
     ]
    },
    {
     "name": "stderr",
     "output_type": "stream",
     "text": [
      "100%|██████████| 10/10 [00:05<00:00,  1.71it/s]\n",
      "  6%|▋         | 492/7864 [02:57<11:21:14,  5.54s/it, batch=490, gpu_temp=61, loss={'chord': tensor(0.6400, device='cuda:0', grad_fn=<NllLossBackward0>), 'velocity': tensor(0.3421, device='cuda:0', grad_fn=<NllLossBackward0>), 'polyphony': tensor(0.2081, device='cuda:0', grad_fn=<NllLossBackward0>), 'density': tensor(0.3381, device='cuda:0', grad_fn=<NllLossBackward0>), 'piano_roll': tensor(1.0672, device='cuda:0', grad_fn=<NllLoss2DBackward0>), 'total': tensor(2.5955, device='cuda:0', grad_fn=<AddBackward0>)}]"
     ]
    },
    {
     "name": "stdout",
     "output_type": "stream",
     "text": [
      "Generated:  [{'type': 'pitch', 'value': 39}, {'type': 'velocity', 'value': 17}, {'type': 'pitch', 'value': 51}, {'type': 'velocity', 'value': 15}, {'type': 'pitch', 'value': 55}, {'type': 'velocity', 'value': 20}, 'next_frame', 'next_frame', 'next_frame', 'next_frame']\n",
      "Chords:  ['C_M7', 'C_M7', 'C_M7', 'C_M7', 'A_m7', 'A_m7', 'A_m7', 'A_m7', 'F_M', 'F_M', 'F_M', 'F_M', 'G_M', 'G_M', 'G_M', 'G_M', 'C_M7', 'C_M7', 'C_M7', 'C_M7', 'A_m7', 'A_m7', 'A_m7', 'A_m7', 'F_M', 'F_M', 'F_M', 'F_M', 'F_M', 'F_M', 'F_M', 'F_M']\n"
     ]
    },
    {
     "name": "stderr",
     "output_type": "stream",
     "text": [
      "100%|██████████| 16/16 [00:11<00:00,  1.43it/s]/s, batch=980, gpu_temp=61, loss={'chord': tensor(0.6142, device='cuda:0', grad_fn=<NllLossBackward0>), 'velocity': tensor(0.3456, device='cuda:0', grad_fn=<NllLossBackward0>), 'polyphony': tensor(0.2513, device='cuda:0', grad_fn=<NllLossBackward0>), 'density': tensor(0.2495, device='cuda:0', grad_fn=<NllLossBackward0>), 'piano_roll': tensor(1.0358, device='cuda:0', grad_fn=<NllLoss2DBackward0>), 'total': tensor(2.4964, device='cuda:0', grad_fn=<AddBackward0>)}]   \n"
     ]
    },
    {
     "name": "stdout",
     "output_type": "stream",
     "text": [
      "Generated:  [{'type': 'pitch', 'value': 15}, {'type': 'velocity', 'value': 20}, {'type': 'pitch', 'value': 46}, {'type': 'velocity', 'value': 22}, {'type': 'pitch', 'value': 55}, {'type': 'velocity', 'value': 24}, 'next_frame', 'next_frame', 'next_frame', 'next_frame']\n",
      "Chords:  ['C_M7', 'C_M7', 'C_M7', 'C_M7', 'D_m7', 'D_m7', 'F_M', 'F_M7', 'F_M7', 'F_M7', 'F_M7', 'F_M7', 'E_m7', 'E_m7', 'E_m7', 'E_m7', 'E_M', 'E_M', 'E_7', 'E_7', 'E_M', 'E_M', 'E_M', 'E_M', 'E_M', 'E_M', 'E_m7', 'E_m7', 'A_m', 'A_m', 'A_m7', 'A_m7']\n"
     ]
    },
    {
     "name": "stderr",
     "output_type": "stream",
     "text": [
      "100%|██████████| 10/10 [00:05<00:00,  1.96it/s]\n",
      " 12%|█▎        | 983/7864 [05:37<9:56:55,  5.21s/it, batch=980, gpu_temp=61, loss={'chord': tensor(0.6142, device='cuda:0', grad_fn=<NllLossBackward0>), 'velocity': tensor(0.3456, device='cuda:0', grad_fn=<NllLossBackward0>), 'polyphony': tensor(0.2513, device='cuda:0', grad_fn=<NllLossBackward0>), 'density': tensor(0.2495, device='cuda:0', grad_fn=<NllLossBackward0>), 'piano_roll': tensor(1.0358, device='cuda:0', grad_fn=<NllLoss2DBackward0>), 'total': tensor(2.4964, device='cuda:0', grad_fn=<AddBackward0>)}]"
     ]
    },
    {
     "name": "stdout",
     "output_type": "stream",
     "text": [
      "Generated:  [{'type': 'pitch', 'value': 39}, {'type': 'velocity', 'value': 17}, {'type': 'pitch', 'value': 51}, {'type': 'velocity', 'value': 15}, {'type': 'pitch', 'value': 55}, {'type': 'velocity', 'value': 20}, 'next_frame', 'next_frame', 'next_frame', 'next_frame']\n",
      "Chords:  ['C_M7', 'C_M7', 'C_M7', 'C_M7', 'A_m7', 'A_m7', 'A_m7', 'A_m7', 'F_M', 'F_M', 'F_M', 'F_M', 'G_M', 'G_M', 'G_M', 'G_M', 'C_M7', 'C_M7', 'C_M7', 'C_M7', 'A_m7', 'A_m7', 'A_m7', 'A_m7', 'G_M', 'G_M', 'G_M', 'G_M', 'E_m7', 'E_m7', 'E_m7', 'E_m7']\n"
     ]
    },
    {
     "name": "stderr",
     "output_type": "stream",
     "text": [
      "100%|██████████| 16/16 [00:12<00:00,  1.32it/s]t/s, batch=1470, gpu_temp=61, loss={'chord': tensor(0.6874, device='cuda:0', grad_fn=<NllLossBackward0>), 'velocity': tensor(0.3341, device='cuda:0', grad_fn=<NllLossBackward0>), 'polyphony': tensor(0.2526, device='cuda:0', grad_fn=<NllLossBackward0>), 'density': tensor(0.3071, device='cuda:0', grad_fn=<NllLossBackward0>), 'piano_roll': tensor(1.0679, device='cuda:0', grad_fn=<NllLoss2DBackward0>), 'total': tensor(2.6491, device='cuda:0', grad_fn=<AddBackward0>)}]  \n"
     ]
    },
    {
     "name": "stdout",
     "output_type": "stream",
     "text": [
      "Generated:  [{'type': 'pitch', 'value': 12}, {'type': 'velocity', 'value': 18}, 'next_frame', 'next_frame', 'next_frame', 'next_frame', {'type': 'pitch', 'value': 19}, {'type': 'velocity', 'value': 16}, {'type': 'pitch', 'value': 39}, {'type': 'velocity', 'value': 20}]\n",
      "Chords:  ['E_m7', 'E_m7', 'A_m7', 'A_m7', 'D_m7', 'D_m7', 'F_M7', 'F_M7', 'C_M7', 'C_M7', 'C_7', 'C_7', 'F_M', 'F_M', 'F_o', 'F_o', 'E_m', 'E_m', 'C_7', 'C_7', 'D_m7', 'D_m7', 'D_o', 'D_o', 'C_M', 'C_M', 'C_7', 'C_7', 'F_M7', 'F_M7', 'B_o', 'B_o']\n"
     ]
    },
    {
     "name": "stderr",
     "output_type": "stream",
     "text": [
      "100%|██████████| 10/10 [00:04<00:00,  2.01it/s]\n",
      " 19%|█▊        | 1474/7864 [08:24<9:41:17,  5.46s/it, batch=1470, gpu_temp=61, loss={'chord': tensor(0.6874, device='cuda:0', grad_fn=<NllLossBackward0>), 'velocity': tensor(0.3341, device='cuda:0', grad_fn=<NllLossBackward0>), 'polyphony': tensor(0.2526, device='cuda:0', grad_fn=<NllLossBackward0>), 'density': tensor(0.3071, device='cuda:0', grad_fn=<NllLossBackward0>), 'piano_roll': tensor(1.0679, device='cuda:0', grad_fn=<NllLoss2DBackward0>), 'total': tensor(2.6491, device='cuda:0', grad_fn=<AddBackward0>)}]"
     ]
    },
    {
     "name": "stdout",
     "output_type": "stream",
     "text": [
      "Generated:  [{'type': 'pitch', 'value': 39}, {'type': 'velocity', 'value': 17}, {'type': 'pitch', 'value': 51}, {'type': 'velocity', 'value': 15}, {'type': 'pitch', 'value': 55}, {'type': 'velocity', 'value': 20}, 'next_frame', 'next_frame', 'next_frame', 'next_frame']\n",
      "Chords:  ['C_M7', 'C_M7', 'C_M7', 'C_M7', 'A_m7', 'A_m7', 'A_m7', 'A_m7', 'F_M', 'F_M', 'F_M', 'F_M', 'G_M', 'G_M', 'G_M', 'G_M', 'C_M7', 'C_M7', 'C_M7', 'C_M7', 'A_m7', 'A_m7', 'A_m7', 'A_m7', 'A_m7', 'A_m7', 'A_m7', 'A_m7', 'F_M7', 'F_M7', 'F_M7', 'F_M7']\n"
     ]
    },
    {
     "name": "stderr",
     "output_type": "stream",
     "text": [
      "100%|██████████| 16/16 [00:13<00:00,  1.18it/s]t/s, batch=1960, gpu_temp=62, loss={'chord': tensor(0.6497, device='cuda:0', grad_fn=<NllLossBackward0>), 'velocity': tensor(0.3255, device='cuda:0', grad_fn=<NllLossBackward0>), 'polyphony': tensor(0.2630, device='cuda:0', grad_fn=<NllLossBackward0>), 'density': tensor(0.2535, device='cuda:0', grad_fn=<NllLossBackward0>), 'piano_roll': tensor(1.0792, device='cuda:0', grad_fn=<NllLoss2DBackward0>), 'total': tensor(2.5709, device='cuda:0', grad_fn=<AddBackward0>)}]  \n"
     ]
    },
    {
     "name": "stdout",
     "output_type": "stream",
     "text": [
      "Generated:  [{'type': 'pitch', 'value': 10}, {'type': 'velocity', 'value': 16}, {'type': 'pitch', 'value': 22}, {'type': 'velocity', 'value': 17}, {'type': 'pitch', 'value': 56}, {'type': 'velocity', 'value': 23}, 'next_frame', 'next_frame', 'next_frame', 'next_frame']\n",
      "Chords:  ['D_M', 'D_M', 'D_M', 'D_M', 'A_sus4', 'A_sus4', 'D_M', 'D_M', 'B_m', 'B_m', 'B_m', 'B_m', 'A_M7', 'A_M7', 'A_M7', 'A_M7', 'F#_M', 'F#_M', 'F#_m', 'F#_m', 'B_m', 'B_m', 'E_7', 'E_7', 'None', 'None', 'None', 'None', 'E_M', 'E_M', 'E_m7', 'E_m7']\n"
     ]
    },
    {
     "name": "stderr",
     "output_type": "stream",
     "text": [
      "100%|██████████| 10/10 [00:05<00:00,  1.85it/s]\n",
      " 25%|██▍       | 1965/7864 [11:09<9:59:32,  6.10s/it, batch=1960, gpu_temp=62, loss={'chord': tensor(0.6497, device='cuda:0', grad_fn=<NllLossBackward0>), 'velocity': tensor(0.3255, device='cuda:0', grad_fn=<NllLossBackward0>), 'polyphony': tensor(0.2630, device='cuda:0', grad_fn=<NllLossBackward0>), 'density': tensor(0.2535, device='cuda:0', grad_fn=<NllLossBackward0>), 'piano_roll': tensor(1.0792, device='cuda:0', grad_fn=<NllLoss2DBackward0>), 'total': tensor(2.5709, device='cuda:0', grad_fn=<AddBackward0>)}]"
     ]
    },
    {
     "name": "stdout",
     "output_type": "stream",
     "text": [
      "Generated:  [{'type': 'pitch', 'value': 39}, {'type': 'velocity', 'value': 17}, {'type': 'pitch', 'value': 51}, {'type': 'velocity', 'value': 15}, {'type': 'pitch', 'value': 55}, {'type': 'velocity', 'value': 20}, 'next_frame', 'next_frame', 'next_frame', 'next_frame']\n",
      "Chords:  ['C_M7', 'C_M7', 'C_M7', 'C_M7', 'A_m7', 'A_m7', 'A_m7', 'A_m7', 'F_M', 'F_M', 'F_M', 'F_M', 'G_M', 'G_M', 'G_M', 'G_M', 'C_M7', 'C_M7', 'C_M7', 'C_M7', 'A_m7', 'A_m7', 'A_m7', 'A_m7', 'F_M7', 'F_M7', 'F_M7', 'F_M7', 'G_7', 'G_7', 'G_M', 'G_M']\n"
     ]
    },
    {
     "name": "stderr",
     "output_type": "stream",
     "text": [
      "100%|██████████| 16/16 [00:11<00:00,  1.42it/s]t/s, batch=2450, gpu_temp=56, loss={'chord': tensor(0.6461, device='cuda:0', grad_fn=<NllLossBackward0>), 'velocity': tensor(0.3142, device='cuda:0', grad_fn=<NllLossBackward0>), 'polyphony': tensor(0.2324, device='cuda:0', grad_fn=<NllLossBackward0>), 'density': tensor(0.2997, device='cuda:0', grad_fn=<NllLossBackward0>), 'piano_roll': tensor(1.0051, device='cuda:0', grad_fn=<NllLoss2DBackward0>), 'total': tensor(2.4974, device='cuda:0', grad_fn=<AddBackward0>)}]  \n"
     ]
    },
    {
     "name": "stdout",
     "output_type": "stream",
     "text": [
      "Generated:  [{'type': 'pitch', 'value': 24}, {'type': 'velocity', 'value': 20}, {'type': 'pitch', 'value': 36}, {'type': 'velocity', 'value': 22}, {'type': 'pitch', 'value': 51}, {'type': 'velocity', 'value': 22}, {'type': 'pitch', 'value': 55}, {'type': 'velocity', 'value': 21}, {'type': 'pitch', 'value': 60}, {'type': 'velocity', 'value': 21}]\n",
      "Chords:  ['D_m', 'D_m', 'D_m7', 'D_m7', 'E_M', 'E_M', 'A_m', 'A_m', 'C_M7', 'C_M7', 'E_M', 'E_M', 'E_M', 'E_M', 'E_M', 'E_M', 'G_sus2', 'G_sus2', 'G_M', 'G_M', 'D_m', 'D_m', 'F_M', 'F_M', 'None', 'None', 'A_M', 'A_M', 'F_sus2', 'F_sus2', 'G_m7', 'G_m7']\n"
     ]
    },
    {
     "name": "stderr",
     "output_type": "stream",
     "text": [
      "100%|██████████| 10/10 [00:05<00:00,  1.86it/s]\n",
      " 31%|███       | 2456/7864 [13:51<8:04:36,  5.38s/it, batch=2450, gpu_temp=56, loss={'chord': tensor(0.6461, device='cuda:0', grad_fn=<NllLossBackward0>), 'velocity': tensor(0.3142, device='cuda:0', grad_fn=<NllLossBackward0>), 'polyphony': tensor(0.2324, device='cuda:0', grad_fn=<NllLossBackward0>), 'density': tensor(0.2997, device='cuda:0', grad_fn=<NllLossBackward0>), 'piano_roll': tensor(1.0051, device='cuda:0', grad_fn=<NllLoss2DBackward0>), 'total': tensor(2.4974, device='cuda:0', grad_fn=<AddBackward0>)}]"
     ]
    },
    {
     "name": "stdout",
     "output_type": "stream",
     "text": [
      "Generated:  [{'type': 'pitch', 'value': 39}, {'type': 'velocity', 'value': 17}, {'type': 'pitch', 'value': 51}, {'type': 'velocity', 'value': 15}, {'type': 'pitch', 'value': 55}, {'type': 'velocity', 'value': 20}, 'next_frame', 'next_frame', 'next_frame', 'next_frame']\n",
      "Chords:  ['C_M7', 'C_M7', 'C_M7', 'C_M7', 'A_m7', 'A_m7', 'A_m7', 'A_m7', 'F_M', 'F_M', 'F_M', 'F_M', 'G_M', 'G_M', 'G_M', 'G_M', 'C_M7', 'C_M7', 'C_M7', 'C_M7', 'A_m7', 'A_m7', 'A_m7', 'A_m7', 'F_M', 'F_M', 'F_M', 'F_M', 'F_M', 'F_M', 'G_sus4', 'G_sus4']\n"
     ]
    },
    {
     "name": "stderr",
     "output_type": "stream",
     "text": [
      "100%|██████████| 16/16 [00:09<00:00,  1.60it/s]t/s, batch=2940, gpu_temp=61, loss={'chord': tensor(0.7155, device='cuda:0', grad_fn=<NllLossBackward0>), 'velocity': tensor(0.3337, device='cuda:0', grad_fn=<NllLossBackward0>), 'polyphony': tensor(0.2127, device='cuda:0', grad_fn=<NllLossBackward0>), 'density': tensor(0.3355, device='cuda:0', grad_fn=<NllLossBackward0>), 'piano_roll': tensor(1.1544, device='cuda:0', grad_fn=<NllLoss2DBackward0>), 'total': tensor(2.7519, device='cuda:0', grad_fn=<AddBackward0>)}]  \n"
     ]
    },
    {
     "name": "stdout",
     "output_type": "stream",
     "text": [
      "Generated:  [{'type': 'pitch', 'value': 14}, {'type': 'velocity', 'value': 18}, {'type': 'pitch', 'value': 26}, {'type': 'velocity', 'value': 20}, {'type': 'pitch', 'value': 34}, {'type': 'velocity', 'value': 20}, {'type': 'pitch', 'value': 38}, {'type': 'velocity', 'value': 21}, {'type': 'pitch', 'value': 41}, {'type': 'velocity', 'value': 23}]\n",
      "Chords:  ['C_m', 'C_m', 'C_m', 'C_m', 'G_m', 'G_m', 'G_m', 'G_m', 'G_m', 'G_m', 'G_m7', 'G_m7', 'C_M', 'C_M', 'C_m', 'C_m', 'C_M', 'C_M', 'A#_M', 'A#_M', 'G#_M', 'G#_M', 'G#_M', 'G#_M', 'A#_M', 'A#_M', 'A#_M', 'A#_M', 'G_m7', 'G_m7', 'G_sus4', 'G_M']\n"
     ]
    },
    {
     "name": "stderr",
     "output_type": "stream",
     "text": [
      "100%|██████████| 10/10 [00:05<00:00,  1.94it/s]\n",
      " 37%|███▋      | 2947/7864 [16:31<6:39:19,  4.87s/it, batch=2940, gpu_temp=61, loss={'chord': tensor(0.7155, device='cuda:0', grad_fn=<NllLossBackward0>), 'velocity': tensor(0.3337, device='cuda:0', grad_fn=<NllLossBackward0>), 'polyphony': tensor(0.2127, device='cuda:0', grad_fn=<NllLossBackward0>), 'density': tensor(0.3355, device='cuda:0', grad_fn=<NllLossBackward0>), 'piano_roll': tensor(1.1544, device='cuda:0', grad_fn=<NllLoss2DBackward0>), 'total': tensor(2.7519, device='cuda:0', grad_fn=<AddBackward0>)}]"
     ]
    },
    {
     "name": "stdout",
     "output_type": "stream",
     "text": [
      "Generated:  [{'type': 'pitch', 'value': 39}, {'type': 'velocity', 'value': 17}, {'type': 'pitch', 'value': 51}, {'type': 'velocity', 'value': 15}, {'type': 'pitch', 'value': 55}, {'type': 'velocity', 'value': 20}, 'next_frame', 'next_frame', 'next_frame', 'next_frame']\n",
      "Chords:  ['C_M7', 'C_M7', 'C_M7', 'C_M7', 'A_m7', 'A_m7', 'A_m7', 'A_m7', 'F_M', 'F_M', 'F_M', 'F_M', 'G_M', 'G_M', 'G_M', 'G_M', 'C_M7', 'C_M7', 'C_M7', 'C_M7', 'A_m7', 'A_m7', 'A_m7', 'A_m7', 'F_M7', 'F_M7', 'F_M7', 'F_M7', 'G_M', 'G_M', 'G_M', 'G_M']\n"
     ]
    },
    {
     "name": "stderr",
     "output_type": "stream",
     "text": [
      "100%|██████████| 16/16 [00:11<00:00,  1.41it/s]t/s, batch=3430, gpu_temp=61, loss={'chord': tensor(0.6974, device='cuda:0', grad_fn=<NllLossBackward0>), 'velocity': tensor(0.3358, device='cuda:0', grad_fn=<NllLossBackward0>), 'polyphony': tensor(0.2545, device='cuda:0', grad_fn=<NllLossBackward0>), 'density': tensor(0.3165, device='cuda:0', grad_fn=<NllLossBackward0>), 'piano_roll': tensor(1.0498, device='cuda:0', grad_fn=<NllLoss2DBackward0>), 'total': tensor(2.6541, device='cuda:0', grad_fn=<AddBackward0>)}]  \n"
     ]
    },
    {
     "name": "stdout",
     "output_type": "stream",
     "text": [
      "Generated:  [{'type': 'pitch', 'value': 15}, {'type': 'velocity', 'value': 22}, {'type': 'pitch', 'value': 27}, {'type': 'velocity', 'value': 22}, 'next_frame', 'next_frame', 'next_frame', 'next_frame', {'type': 'pitch', 'value': 34}, {'type': 'velocity', 'value': 18}]\n",
      "Chords:  ['C_M', 'C_M', 'C_M', 'C_M', 'C_M', 'C_M', 'C_M7', 'C_M7', 'C_M', 'C_M', 'C_7', 'C_7', 'A_m7', 'A_m7', 'A_m7', 'A_m7', 'A_m7', 'A_m7', 'A_m7', 'A_m7', 'A_m7', 'A_m7', 'A_m7', 'A_m7', 'A_m', 'A_m', 'A_m', 'A_m', 'E_m', 'E_m', 'E_m7', 'E_m7']\n"
     ]
    },
    {
     "name": "stderr",
     "output_type": "stream",
     "text": [
      "100%|██████████| 10/10 [00:04<00:00,  2.13it/s]\n",
      " 44%|████▎     | 3438/7864 [19:14<6:19:08,  5.14s/it, batch=3430, gpu_temp=61, loss={'chord': tensor(0.6974, device='cuda:0', grad_fn=<NllLossBackward0>), 'velocity': tensor(0.3358, device='cuda:0', grad_fn=<NllLossBackward0>), 'polyphony': tensor(0.2545, device='cuda:0', grad_fn=<NllLossBackward0>), 'density': tensor(0.3165, device='cuda:0', grad_fn=<NllLossBackward0>), 'piano_roll': tensor(1.0498, device='cuda:0', grad_fn=<NllLoss2DBackward0>), 'total': tensor(2.6541, device='cuda:0', grad_fn=<AddBackward0>)}]"
     ]
    },
    {
     "name": "stdout",
     "output_type": "stream",
     "text": [
      "Generated:  [{'type': 'pitch', 'value': 39}, {'type': 'velocity', 'value': 17}, {'type': 'pitch', 'value': 51}, {'type': 'velocity', 'value': 15}, {'type': 'pitch', 'value': 55}, {'type': 'velocity', 'value': 20}, 'next_frame', 'next_frame', 'next_frame', 'next_frame']\n",
      "Chords:  ['C_M7', 'C_M7', 'C_M7', 'C_M7', 'A_m7', 'A_m7', 'A_m7', 'A_m7', 'F_M', 'F_M', 'F_M', 'F_M', 'G_M', 'G_M', 'G_M', 'G_M', 'C_M7', 'C_M7', 'C_M7', 'C_M7', 'A_m7', 'A_m7', 'A_m7', 'A_m7', 'F_M7', 'F_M7', 'F_M7', 'F_M7', 'G_7', 'G_7', 'G_M', 'G_M']\n"
     ]
    },
    {
     "name": "stderr",
     "output_type": "stream",
     "text": [
      "100%|██████████| 16/16 [00:09<00:00,  1.62it/s]t/s, batch=3920, gpu_temp=61, loss={'chord': tensor(0.6450, device='cuda:0', grad_fn=<NllLossBackward0>), 'velocity': tensor(0.3635, device='cuda:0', grad_fn=<NllLossBackward0>), 'polyphony': tensor(0.2403, device='cuda:0', grad_fn=<NllLossBackward0>), 'density': tensor(0.3142, device='cuda:0', grad_fn=<NllLossBackward0>), 'piano_roll': tensor(1.0100, device='cuda:0', grad_fn=<NllLoss2DBackward0>), 'total': tensor(2.5730, device='cuda:0', grad_fn=<AddBackward0>)}]  \n"
     ]
    },
    {
     "name": "stdout",
     "output_type": "stream",
     "text": [
      "Generated:  [{'type': 'pitch', 'value': 15}, {'type': 'velocity', 'value': 16}, 'next_frame', 'next_frame', 'next_frame', 'next_frame', {'type': 'pitch', 'value': 22}, {'type': 'velocity', 'value': 18}, 'next_frame', 'next_frame']\n",
      "Chords:  ['F_M7', 'F_M7', 'C_M', 'C_M', 'D_m7', 'D_m7', 'G_sus2', 'G_sus2', 'D_M', 'A_m', 'A_m', 'A_m', 'C_M', 'C_M', 'C_M', 'C_M', 'F_M', 'F_M', 'F_M', 'F_M', 'F_M', 'F_M', 'F_sus2', 'F_sus2', 'F_M', 'F_M', 'F_M', 'F_M', 'D_m7', 'D_m7', 'A_o', 'A_o']\n"
     ]
    },
    {
     "name": "stderr",
     "output_type": "stream",
     "text": [
      "100%|██████████| 10/10 [00:05<00:00,  1.96it/s]\n",
      " 50%|████▉     | 3929/7864 [21:52<5:17:11,  4.84s/it, batch=3920, gpu_temp=61, loss={'chord': tensor(0.6450, device='cuda:0', grad_fn=<NllLossBackward0>), 'velocity': tensor(0.3635, device='cuda:0', grad_fn=<NllLossBackward0>), 'polyphony': tensor(0.2403, device='cuda:0', grad_fn=<NllLossBackward0>), 'density': tensor(0.3142, device='cuda:0', grad_fn=<NllLossBackward0>), 'piano_roll': tensor(1.0100, device='cuda:0', grad_fn=<NllLoss2DBackward0>), 'total': tensor(2.5730, device='cuda:0', grad_fn=<AddBackward0>)}]"
     ]
    },
    {
     "name": "stdout",
     "output_type": "stream",
     "text": [
      "Generated:  [{'type': 'pitch', 'value': 39}, {'type': 'velocity', 'value': 17}, {'type': 'pitch', 'value': 51}, {'type': 'velocity', 'value': 15}, {'type': 'pitch', 'value': 55}, {'type': 'velocity', 'value': 20}, 'next_frame', 'next_frame', 'next_frame', 'next_frame']\n",
      "Chords:  ['C_M7', 'C_M7', 'C_M7', 'C_M7', 'A_m7', 'A_m7', 'A_m7', 'A_m7', 'F_M', 'F_M', 'F_M', 'F_M', 'G_M', 'G_M', 'G_M', 'G_M', 'C_M7', 'C_M7', 'C_M7', 'C_M7', 'A_m7', 'A_m7', 'A_m7', 'A_m7', 'F_M7', 'F_M7', 'F_M7', 'F_M7', 'C_M', 'C_M', 'C_M', 'C_M']\n"
     ]
    },
    {
     "name": "stderr",
     "output_type": "stream",
     "text": [
      "100%|██████████| 16/16 [00:12<00:00,  1.32it/s]t/s, batch=4410, gpu_temp=61, loss={'chord': tensor(0.7554, device='cuda:0', grad_fn=<NllLossBackward0>), 'velocity': tensor(0.3101, device='cuda:0', grad_fn=<NllLossBackward0>), 'polyphony': tensor(0.2532, device='cuda:0', grad_fn=<NllLossBackward0>), 'density': tensor(0.3204, device='cuda:0', grad_fn=<NllLossBackward0>), 'piano_roll': tensor(1.1325, device='cuda:0', grad_fn=<NllLoss2DBackward0>), 'total': tensor(2.7716, device='cuda:0', grad_fn=<AddBackward0>)}]  \n"
     ]
    },
    {
     "name": "stdout",
     "output_type": "stream",
     "text": [
      "Generated:  [{'type': 'pitch', 'value': 10}, {'type': 'velocity', 'value': 19}, {'type': 'pitch', 'value': 22}, {'type': 'velocity', 'value': 21}, {'type': 'pitch', 'value': 60}, {'type': 'velocity', 'value': 24}, 'next_frame', 'next_frame', 'next_frame', 'next_frame']\n",
      "Chords:  ['G_sus2', 'D_M', 'C_M7', 'C_M7', 'D_m', 'D_m', 'F_M7', 'F_M7', 'G_+', 'C_M7', 'C_M7', 'C_M7', 'G#_M7', 'G#_M7', 'G#_M', 'G#_M', 'A#_M', 'A#_M', 'G_M7', 'G_M7', 'G_M', 'G_M', 'G_M7', 'G_M7', 'C_M', 'C_M', 'C_M7', 'C_M7', 'G_M', 'G_M', 'G_M', 'G_M']\n"
     ]
    },
    {
     "name": "stderr",
     "output_type": "stream",
     "text": [
      "100%|██████████| 10/10 [00:05<00:00,  1.67it/s]\n",
      " 56%|█████▌    | 4420/7864 [24:36<5:33:39,  5.81s/it, batch=4410, gpu_temp=61, loss={'chord': tensor(0.7554, device='cuda:0', grad_fn=<NllLossBackward0>), 'velocity': tensor(0.3101, device='cuda:0', grad_fn=<NllLossBackward0>), 'polyphony': tensor(0.2532, device='cuda:0', grad_fn=<NllLossBackward0>), 'density': tensor(0.3204, device='cuda:0', grad_fn=<NllLossBackward0>), 'piano_roll': tensor(1.1325, device='cuda:0', grad_fn=<NllLoss2DBackward0>), 'total': tensor(2.7716, device='cuda:0', grad_fn=<AddBackward0>)}]"
     ]
    },
    {
     "name": "stdout",
     "output_type": "stream",
     "text": [
      "Generated:  [{'type': 'pitch', 'value': 39}, {'type': 'velocity', 'value': 17}, {'type': 'pitch', 'value': 51}, {'type': 'velocity', 'value': 15}, {'type': 'pitch', 'value': 55}, {'type': 'velocity', 'value': 20}, 'next_frame', 'next_frame', 'next_frame', 'next_frame']\n",
      "Chords:  ['C_M7', 'C_M7', 'C_M7', 'C_M7', 'A_m7', 'A_m7', 'A_m7', 'A_m7', 'F_M', 'F_M', 'F_M', 'F_M', 'G_M', 'G_M', 'G_M', 'G_M', 'C_M7', 'C_M7', 'C_M7', 'C_M7', 'A_m7', 'A_m7', 'A_m7', 'A_m7', 'C_M7', 'C_M7', 'C_M7', 'C_M7', 'C_M7', 'C_M7', 'C_M7', 'C_M7']\n"
     ]
    },
    {
     "name": "stderr",
     "output_type": "stream",
     "text": [
      "100%|██████████| 16/16 [00:12<00:00,  1.29it/s]t/s, batch=4910, gpu_temp=56, loss={'chord': tensor(0.6355, device='cuda:0', grad_fn=<NllLossBackward0>), 'velocity': tensor(0.3356, device='cuda:0', grad_fn=<NllLossBackward0>), 'polyphony': tensor(0.2333, device='cuda:0', grad_fn=<NllLossBackward0>), 'density': tensor(0.3083, device='cuda:0', grad_fn=<NllLossBackward0>), 'piano_roll': tensor(0.9875, device='cuda:0', grad_fn=<NllLoss2DBackward0>), 'total': tensor(2.5003, device='cuda:0', grad_fn=<AddBackward0>)}]  \n"
     ]
    },
    {
     "name": "stdout",
     "output_type": "stream",
     "text": [
      "Generated:  [{'type': 'pitch', 'value': 17}, {'type': 'velocity', 'value': 18}, {'type': 'pitch', 'value': 29}, {'type': 'velocity', 'value': 18}, {'type': 'pitch', 'value': 44}, {'type': 'velocity', 'value': 21}, {'type': 'pitch', 'value': 50}, {'type': 'velocity', 'value': 20}, 'next_frame', 'next_frame']\n",
      "Chords:  ['C_M7', 'C_M7', 'C_M7', 'C_M7', 'G_M', 'G_M', 'G_M', 'G_M', 'D_m7', 'D_m7', 'D_m7', 'D_m7', 'G_M', 'G_M', 'G_M', 'G_M', 'C_M7', 'C_M7', 'C_M', 'C_M', 'G_M', 'G_M', 'G_M', 'G_M', 'D_m7', 'D_m7', 'D_m7', 'D_m7', 'E_m7', 'E_m7', 'E_m7', 'E_m7']\n"
     ]
    },
    {
     "name": "stderr",
     "output_type": "stream",
     "text": [
      "100%|██████████| 10/10 [00:05<00:00,  1.84it/s]\n",
      " 62%|██████▏   | 4911/7864 [27:17<4:41:43,  5.72s/it, batch=4910, gpu_temp=56, loss={'chord': tensor(0.6355, device='cuda:0', grad_fn=<NllLossBackward0>), 'velocity': tensor(0.3356, device='cuda:0', grad_fn=<NllLossBackward0>), 'polyphony': tensor(0.2333, device='cuda:0', grad_fn=<NllLossBackward0>), 'density': tensor(0.3083, device='cuda:0', grad_fn=<NllLossBackward0>), 'piano_roll': tensor(0.9875, device='cuda:0', grad_fn=<NllLoss2DBackward0>), 'total': tensor(2.5003, device='cuda:0', grad_fn=<AddBackward0>)}]"
     ]
    },
    {
     "name": "stdout",
     "output_type": "stream",
     "text": [
      "Generated:  [{'type': 'pitch', 'value': 39}, {'type': 'velocity', 'value': 17}, {'type': 'pitch', 'value': 51}, {'type': 'velocity', 'value': 15}, {'type': 'pitch', 'value': 55}, {'type': 'velocity', 'value': 20}, 'next_frame', 'next_frame', 'next_frame', 'next_frame']\n",
      "Chords:  ['C_M7', 'C_M7', 'C_M7', 'C_M7', 'A_m7', 'A_m7', 'A_m7', 'A_m7', 'F_M', 'F_M', 'F_M', 'F_M', 'G_M', 'G_M', 'G_M', 'G_M', 'C_M7', 'C_M7', 'C_M7', 'C_M7', 'A_m7', 'A_m7', 'A_m7', 'A_m7', 'F_M', 'F_M', 'F_M', 'F_M7', 'G_7', 'G_7', 'G_M', 'G_M']\n"
     ]
    },
    {
     "name": "stderr",
     "output_type": "stream",
     "text": [
      "100%|██████████| 16/16 [00:13<00:00,  1.22it/s]t/s, batch=5400, gpu_temp=56, loss={'chord': tensor(0.6445, device='cuda:0', grad_fn=<NllLossBackward0>), 'velocity': tensor(0.3554, device='cuda:0', grad_fn=<NllLossBackward0>), 'polyphony': tensor(0.2246, device='cuda:0', grad_fn=<NllLossBackward0>), 'density': tensor(0.2600, device='cuda:0', grad_fn=<NllLossBackward0>), 'piano_roll': tensor(0.9936, device='cuda:0', grad_fn=<NllLoss2DBackward0>), 'total': tensor(2.4781, device='cuda:0', grad_fn=<AddBackward0>)}]  \n"
     ]
    },
    {
     "name": "stdout",
     "output_type": "stream",
     "text": [
      "Generated:  [{'type': 'pitch', 'value': 7}, {'type': 'velocity', 'value': 21}, {'type': 'pitch', 'value': 19}, {'type': 'velocity', 'value': 23}, {'type': 'pitch', 'value': 50}, {'type': 'velocity', 'value': 23}, {'type': 'pitch', 'value': 55}, {'type': 'velocity', 'value': 20}, {'type': 'pitch', 'value': 58}, {'type': 'velocity', 'value': 24}]\n",
      "Chords:  ['G_7', 'G_7', 'G_M', 'G_M', 'E_m7', 'E_m7', 'C_M7', 'C_M7', 'A_m', 'A_m', 'A_m7', 'A_m7', 'D_m', 'D_m', 'D_m7', 'D_m7', 'G_M', 'G_M', 'G_M', 'G_M', 'C_M', 'C_M', 'C_M', 'C_M', 'C_7', 'C_7', 'C_7', 'C_7', 'F_M', 'F_M', 'F_M', 'F_M']\n"
     ]
    },
    {
     "name": "stderr",
     "output_type": "stream",
     "text": [
      "100%|██████████| 10/10 [00:04<00:00,  2.02it/s]\n",
      " 69%|██████▊   | 5402/7864 [29:59<3:57:45,  5.79s/it, batch=5400, gpu_temp=56, loss={'chord': tensor(0.6445, device='cuda:0', grad_fn=<NllLossBackward0>), 'velocity': tensor(0.3554, device='cuda:0', grad_fn=<NllLossBackward0>), 'polyphony': tensor(0.2246, device='cuda:0', grad_fn=<NllLossBackward0>), 'density': tensor(0.2600, device='cuda:0', grad_fn=<NllLossBackward0>), 'piano_roll': tensor(0.9936, device='cuda:0', grad_fn=<NllLoss2DBackward0>), 'total': tensor(2.4781, device='cuda:0', grad_fn=<AddBackward0>)}]"
     ]
    },
    {
     "name": "stdout",
     "output_type": "stream",
     "text": [
      "Generated:  [{'type': 'pitch', 'value': 39}, {'type': 'velocity', 'value': 17}, {'type': 'pitch', 'value': 51}, {'type': 'velocity', 'value': 15}, {'type': 'pitch', 'value': 55}, {'type': 'velocity', 'value': 20}, 'next_frame', 'next_frame', 'next_frame', 'next_frame']\n",
      "Chords:  ['C_M7', 'C_M7', 'C_M7', 'C_M7', 'A_m7', 'A_m7', 'A_m7', 'A_m7', 'F_M', 'F_M', 'F_M', 'F_M', 'G_M', 'G_M', 'G_M', 'G_M', 'C_M7', 'C_M7', 'C_M7', 'C_M7', 'A_m7', 'A_m7', 'A_m7', 'A_m7', 'F_M7', 'F_M7', 'F_M', 'F_M', 'C_M', 'C_M', 'C_M', 'C_M']\n"
     ]
    },
    {
     "name": "stderr",
     "output_type": "stream",
     "text": [
      " 72%|███████▏  | 5697/7864 [31:25<11:57,  3.02it/s, batch=5690, gpu_temp=63, loss={'chord': tensor(0.7057, device='cuda:0', grad_fn=<NllLossBackward0>), 'velocity': tensor(0.3495, device='cuda:0', grad_fn=<NllLossBackward0>), 'polyphony': tensor(0.2245, device='cuda:0', grad_fn=<NllLossBackward0>), 'density': tensor(0.3281, device='cuda:0', grad_fn=<NllLossBackward0>), 'piano_roll': tensor(1.0053, device='cuda:0', grad_fn=<NllLoss2DBackward0>), 'total': tensor(2.6129, device='cuda:0', grad_fn=<AddBackward0>)}]  \n"
     ]
    },
    {
     "ename": "KeyboardInterrupt",
     "evalue": "",
     "output_type": "error",
     "traceback": [
      "\u001b[1;31m---------------------------------------------------------------------------\u001b[0m",
      "\u001b[1;31mKeyboardInterrupt\u001b[0m                         Traceback (most recent call last)",
      "Cell \u001b[1;32mIn[8], line 19\u001b[0m\n\u001b[0;32m     17\u001b[0m batch \u001b[38;5;241m=\u001b[39m move_to_device(batch)\n\u001b[0;32m     18\u001b[0m \u001b[38;5;28;01massert\u001b[39;00m \u001b[38;5;28misinstance\u001b[39m(batch, \u001b[38;5;28mdict\u001b[39m)\n\u001b[1;32m---> 19\u001b[0m loss \u001b[38;5;241m=\u001b[39m \u001b[43mmodel\u001b[49m\u001b[38;5;241;43m.\u001b[39;49m\u001b[43mcalculate_loss\u001b[49m\u001b[43m(\u001b[49m\u001b[43mbatch\u001b[49m\u001b[43m)\u001b[49m\n\u001b[0;32m     20\u001b[0m loss[\u001b[38;5;124m'\u001b[39m\u001b[38;5;124mtotal\u001b[39m\u001b[38;5;124m'\u001b[39m]\u001b[38;5;241m.\u001b[39mbackward()\n\u001b[0;32m     22\u001b[0m \u001b[38;5;28;01mif\u001b[39;00m (i\u001b[38;5;241m+\u001b[39m\u001b[38;5;241m1\u001b[39m) \u001b[38;5;241m%\u001b[39m gradient_accumulation_steps \u001b[38;5;241m==\u001b[39m \u001b[38;5;241m0\u001b[39m:\n",
      "File \u001b[1;32mw:\\music\\piano-music-gen\\pianogen\\model\\with_feature.py:713\u001b[0m, in \u001b[0;36mCake.calculate_loss\u001b[1;34m(self, gt_feature)\u001b[0m\n\u001b[0;32m    707\u001b[0m \u001b[38;5;28;01mfor\u001b[39;00m feature_name, feature_model \u001b[38;5;129;01min\u001b[39;00m \u001b[38;5;28mself\u001b[39m\u001b[38;5;241m.\u001b[39mfeatures\u001b[38;5;241m.\u001b[39mitems():\n\u001b[0;32m    708\u001b[0m     \u001b[38;5;66;03m# calculate the loss of the feature based on the current conditions\u001b[39;00m\n\u001b[0;32m    709\u001b[0m \n\u001b[0;32m    710\u001b[0m     \u001b[38;5;66;03m# conditions: Dict[str, Tensor]: [B*L, D]\u001b[39;00m\n\u001b[0;32m    711\u001b[0m     \u001b[38;5;66;03m# gt_feature_merged[feature_name]: [B*L, ...] or Dict[str, Tensor]: [B*L, ...]\u001b[39;00m\n\u001b[0;32m    712\u001b[0m     \u001b[38;5;28;01mif\u001b[39;00m \u001b[38;5;28misinstance\u001b[39m(gt_feature_merged[feature_name], \u001b[38;5;28mdict\u001b[39m):\n\u001b[1;32m--> 713\u001b[0m         gt \u001b[38;5;241m=\u001b[39m \u001b[43m{\u001b[49m\u001b[43mkey\u001b[49m\u001b[43m:\u001b[49m\u001b[43m \u001b[49m\u001b[43mvalue\u001b[49m\u001b[43m[\u001b[49m\u001b[43mloss_mask\u001b[49m\u001b[43m]\u001b[49m\u001b[43m \u001b[49m\u001b[38;5;28;43;01mfor\u001b[39;49;00m\u001b[43m \u001b[49m\u001b[43mkey\u001b[49m\u001b[43m,\u001b[49m\u001b[43m \u001b[49m\u001b[43mvalue\u001b[49m\u001b[43m \u001b[49m\u001b[38;5;129;43;01min\u001b[39;49;00m\u001b[43m \u001b[49m\u001b[43mgt_feature_merged\u001b[49m\u001b[43m[\u001b[49m\u001b[43mfeature_name\u001b[49m\u001b[43m]\u001b[49m\u001b[38;5;241;43m.\u001b[39;49m\u001b[43mitems\u001b[49m\u001b[43m(\u001b[49m\u001b[43m)\u001b[49m\u001b[43m}\u001b[49m\n\u001b[0;32m    714\u001b[0m     \u001b[38;5;28;01melse\u001b[39;00m:\n\u001b[0;32m    715\u001b[0m         gt \u001b[38;5;241m=\u001b[39m gt_feature_merged[feature_name][loss_mask]\n",
      "File \u001b[1;32mw:\\music\\piano-music-gen\\pianogen\\model\\with_feature.py:713\u001b[0m, in \u001b[0;36m<dictcomp>\u001b[1;34m(.0)\u001b[0m\n\u001b[0;32m    707\u001b[0m \u001b[38;5;28;01mfor\u001b[39;00m feature_name, feature_model \u001b[38;5;129;01min\u001b[39;00m \u001b[38;5;28mself\u001b[39m\u001b[38;5;241m.\u001b[39mfeatures\u001b[38;5;241m.\u001b[39mitems():\n\u001b[0;32m    708\u001b[0m     \u001b[38;5;66;03m# calculate the loss of the feature based on the current conditions\u001b[39;00m\n\u001b[0;32m    709\u001b[0m \n\u001b[0;32m    710\u001b[0m     \u001b[38;5;66;03m# conditions: Dict[str, Tensor]: [B*L, D]\u001b[39;00m\n\u001b[0;32m    711\u001b[0m     \u001b[38;5;66;03m# gt_feature_merged[feature_name]: [B*L, ...] or Dict[str, Tensor]: [B*L, ...]\u001b[39;00m\n\u001b[0;32m    712\u001b[0m     \u001b[38;5;28;01mif\u001b[39;00m \u001b[38;5;28misinstance\u001b[39m(gt_feature_merged[feature_name], \u001b[38;5;28mdict\u001b[39m):\n\u001b[1;32m--> 713\u001b[0m         gt \u001b[38;5;241m=\u001b[39m {key: value[loss_mask] \u001b[38;5;28;01mfor\u001b[39;00m key, value \u001b[38;5;129;01min\u001b[39;00m gt_feature_merged[feature_name]\u001b[38;5;241m.\u001b[39mitems()}\n\u001b[0;32m    714\u001b[0m     \u001b[38;5;28;01melse\u001b[39;00m:\n\u001b[0;32m    715\u001b[0m         gt \u001b[38;5;241m=\u001b[39m gt_feature_merged[feature_name][loss_mask]\n",
      "\u001b[1;31mKeyboardInterrupt\u001b[0m: "
     ]
    }
   ],
   "source": [
    "# train\n",
    "from pianogen import gpu_temp_control\n",
    "from tqdm import tqdm\n",
    "\n",
    "temp_control = gpu_temp_control.GPUTempControl(64,3)\n",
    "\n",
    "model.to(device)\n",
    "\n",
    "model.train()\n",
    "\n",
    "for epoch in range(from_epoch+1,400): \n",
    "    tq = tqdm(dl)\n",
    "    model.train()\n",
    "    for i, batch in enumerate(tq): \n",
    "        frac_epoch = (epoch-1) + i/len(dl)\n",
    "        steps = (epoch-1) * len(dl) + i\n",
    "        batch = move_to_device(batch)\n",
    "        assert isinstance(batch, dict)\n",
    "        loss = model.calculate_loss(batch)\n",
    "        loss['total'].backward()\n",
    "\n",
    "        if (i+1) % gradient_accumulation_steps == 0:\n",
    "            opt.step()\n",
    "            opt.zero_grad()\n",
    "\n",
    "        temp_control.cooldown()\n",
    "\n",
    "        if i % 10 == 0:\n",
    "            # print the loss to tqdm\n",
    "            tq.set_postfix(batch = i, loss= loss, gpu_temp=temp_control.get_temp())\n",
    "        \n",
    "        if torch.isnan(loss['total']):\n",
    "            raise ValueError(\"Loss is NaN\")\n",
    "\n",
    "        # writer.add_scalar('loss', loss.item(), frac_epoch)\n",
    "        for k,v in loss.items():\n",
    "            writer.add_scalar(f'loss_{k}', v.item(), steps)\n",
    "        writer.add_scalar('gpu_temp', temp_control.get_temp(), steps)\n",
    "\n",
    "        if i in [len(dl)//16*i for i in range(1,17)]:\n",
    "            model.eval()\n",
    "            model.sample_and_save(output_dir/f'{steps}.mid', 16, 4)\n",
    "            model.sample_and_save(output_dir/f'cont_{steps}.mid', 16, 4, test_data[0], 6)\n",
    "            model.train()\n",
    "\n",
    "    if epoch % 1 == 0:\n",
    "        torch.save({'model':model.state_dict(), 'opt':opt.state_dict()}, checkpoint_dir/f'{steps}.pt')\n",
    "    "
   ]
  },
  {
   "cell_type": "code",
   "execution_count": 9,
   "metadata": {},
   "outputs": [
    {
     "name": "stderr",
     "output_type": "stream",
     "text": [
      "100%|██████████| 16/16 [00:12<00:00,  1.33it/s]\n"
     ]
    },
    {
     "name": "stdout",
     "output_type": "stream",
     "text": [
      "Generated:  [{'type': 'pitch', 'value': 12}, {'type': 'velocity', 'value': 18}, {'type': 'pitch', 'value': 24}, {'type': 'velocity', 'value': 17}, {'type': 'pitch', 'value': 51}, {'type': 'velocity', 'value': 22}, 'next_frame', 'next_frame', 'next_frame', 'next_frame']\n",
      "Chords:  ['F#_o', 'F_M', 'F#_o', 'E_M', 'G_7', 'G_7', 'G_7', 'G_7', 'D_M', 'D_M', 'F_M7', 'F_M7', 'A_o', 'A_m7', 'E_m7', 'E_m7', 'A_m', 'A_m', 'A_m', 'A_m', 'D_M7', 'C_M', 'A_M', 'A_M', 'C_M', 'C_M', 'C_M', 'C_M', 'F_M', 'F_M', 'G_M', 'G_M']\n"
     ]
    }
   ],
   "source": [
    "model.eval()\n",
    "tokens = model.sample_and_save(output_dir/'test.mid', 16, 4)"
   ]
  },
  {
   "cell_type": "code",
   "execution_count": 10,
   "metadata": {},
   "outputs": [
    {
     "name": "stderr",
     "output_type": "stream",
     "text": [
      "  0%|          | 0/16 [00:00<?, ?it/s]c:\\Users\\User\\miniconda3\\envs\\gr\\Lib\\site-packages\\torch\\nn\\functional.py:5504: UserWarning: 1Torch was not compiled with flash attention. (Triggered internally at ..\\aten\\src\\ATen\\native\\transformers\\cuda\\sdp_utils.cpp:455.)\n",
      "  attn_output = scaled_dot_product_attention(q, k, v, attn_mask, dropout_p, is_causal)\n",
      "100%|██████████| 16/16 [00:08<00:00,  1.86it/s]\n"
     ]
    },
    {
     "ename": "NameError",
     "evalue": "name 'tokens' is not defined",
     "output_type": "error",
     "traceback": [
      "\u001b[1;31m---------------------------------------------------------------------------\u001b[0m",
      "\u001b[1;31mNameError\u001b[0m                                 Traceback (most recent call last)",
      "Cell \u001b[1;32mIn[10], line 1\u001b[0m\n\u001b[1;32m----> 1\u001b[0m \u001b[43mmodel\u001b[49m\u001b[38;5;241;43m.\u001b[39;49m\u001b[43msample_and_save\u001b[49m\u001b[43m(\u001b[49m\u001b[43moutput_dir\u001b[49m\u001b[38;5;241;43m/\u001b[39;49m\u001b[38;5;124;43m'\u001b[39;49m\u001b[38;5;124;43mtest.mid\u001b[39;49m\u001b[38;5;124;43m'\u001b[39;49m\u001b[43m,\u001b[49m\u001b[43m \u001b[49m\u001b[38;5;241;43m16\u001b[39;49m\u001b[43m,\u001b[49m\u001b[43m \u001b[49m\u001b[38;5;241;43m4\u001b[39;49m\u001b[43m)\u001b[49m\n",
      "File \u001b[1;32mw:\\music\\piano-music-gen\\pianogen\\model\\with_feature.py:813\u001b[0m, in \u001b[0;36mCake.sample_and_save\u001b[1;34m(self, save_path, n_bars, batch_size, prompt, prompt_bars)\u001b[0m\n\u001b[0;32m    809\u001b[0m     pianoroll\u001b[38;5;241m.\u001b[39mto_midi(song_save_path)\n\u001b[0;32m    811\u001b[0m \u001b[38;5;66;03m# print('Generated: ', tokens[:10])\u001b[39;00m\n\u001b[0;32m    812\u001b[0m \u001b[38;5;66;03m# print('Chords: ', self.chord.vocab.indices_to_tokens(generated['chord'].view(B,-1)[0,:32].cpu()))\u001b[39;00m\n\u001b[1;32m--> 813\u001b[0m \u001b[38;5;28;01mreturn\u001b[39;00m \u001b[43mtokens\u001b[49m\n",
      "\u001b[1;31mNameError\u001b[0m: name 'tokens' is not defined"
     ]
    }
   ],
   "source": [
    "model.sample_and_save(output_dir/'test.mid', 16, 4)"
   ]
  },
  {
   "cell_type": "code",
   "execution_count": 15,
   "metadata": {},
   "outputs": [
    {
     "name": "stdout",
     "output_type": "stream",
     "text": [
      "Applying PianoRollProcessor to dataset C:\\Users\\User\\AppData\\Local\\Temp\\music_data_analysis_1_1_1_1\n"
     ]
    },
    {
     "name": "stderr",
     "output_type": "stream",
     "text": [
      "100%|██████████| 1/1 [00:00<00:00, 153.66it/s]\n"
     ]
    },
    {
     "name": "stdout",
     "output_type": "stream",
     "text": [
      "Applying DurationProcessor to dataset C:\\Users\\User\\AppData\\Local\\Temp\\music_data_analysis_1_1_1_1\n"
     ]
    },
    {
     "name": "stderr",
     "output_type": "stream",
     "text": [
      "100%|██████████| 1/1 [00:00<00:00, 500.27it/s]\n"
     ]
    },
    {
     "name": "stdout",
     "output_type": "stream",
     "text": [
      "Applying PitchProcessor to dataset C:\\Users\\User\\AppData\\Local\\Temp\\music_data_analysis_1_1_1_1\n"
     ]
    },
    {
     "name": "stderr",
     "output_type": "stream",
     "text": [
      "100%|██████████| 1/1 [00:00<00:00, 246.19it/s]\n"
     ]
    },
    {
     "name": "stdout",
     "output_type": "stream",
     "text": [
      "Applying NoteDensityProcessor to dataset C:\\Users\\User\\AppData\\Local\\Temp\\music_data_analysis_1_1_1_1\n"
     ]
    },
    {
     "name": "stderr",
     "output_type": "stream",
     "text": [
      "100%|██████████| 1/1 [00:00<00:00, 499.86it/s]\n"
     ]
    },
    {
     "name": "stdout",
     "output_type": "stream",
     "text": [
      "Applying PolyphonyProcessor to dataset C:\\Users\\User\\AppData\\Local\\Temp\\music_data_analysis_1_1_1_1\n"
     ]
    },
    {
     "name": "stderr",
     "output_type": "stream",
     "text": [
      "100%|██████████| 1/1 [00:00<00:00, 943.39it/s]\n"
     ]
    },
    {
     "name": "stdout",
     "output_type": "stream",
     "text": [
      "Applying VelocityProcessor to dataset C:\\Users\\User\\AppData\\Local\\Temp\\music_data_analysis_1_1_1_1\n"
     ]
    },
    {
     "name": "stderr",
     "output_type": "stream",
     "text": [
      "100%|██████████| 1/1 [00:00<00:00, 999.36it/s]\n"
     ]
    },
    {
     "name": "stdout",
     "output_type": "stream",
     "text": [
      "Applying ChordProcessor to dataset C:\\Users\\User\\AppData\\Local\\Temp\\music_data_analysis_1_1_1_1\n"
     ]
    },
    {
     "name": "stderr",
     "output_type": "stream",
     "text": [
      "100%|██████████| 1/1 [00:00<00:00, 45.38it/s]"
     ]
    },
    {
     "name": "stdout",
     "output_type": "stream",
     "text": [
      "Loaded 1 samples from 1 songs\n"
     ]
    },
    {
     "name": "stderr",
     "output_type": "stream",
     "text": [
      "\n"
     ]
    }
   ],
   "source": [
    "model.eval()\n",
    "test_data = FeatureDataset.from_midi(r'W:\\music\\ai_cowork_trim.mid', loaders=model.get_loaders(), max_duration=32*150)"
   ]
  },
  {
   "cell_type": "code",
   "execution_count": 10,
   "metadata": {},
   "outputs": [
    {
     "name": "stderr",
     "output_type": "stream",
     "text": [
      "100%|██████████| 10/10 [00:08<00:00,  1.16it/s]\n"
     ]
    },
    {
     "name": "stdout",
     "output_type": "stream",
     "text": [
      "Generated:  [{'type': 'pitch', 'value': 39}, {'type': 'velocity', 'value': 17}, {'type': 'pitch', 'value': 51}, {'type': 'velocity', 'value': 15}, {'type': 'pitch', 'value': 55}, {'type': 'velocity', 'value': 20}, 'next_frame', 'next_frame', 'next_frame', 'next_frame']\n",
      "Chords:  ['C_M7', 'C_M7', 'C_M7', 'C_M7', 'A_m7', 'A_m7', 'A_m7', 'A_m7', 'F_M', 'F_M', 'F_M', 'F_M', 'G_M', 'G_M', 'G_M', 'G_M', 'C_M7', 'C_M7', 'C_M7', 'C_M7', 'A_m7', 'A_m7', 'A_m7', 'A_m7', 'E_7', 'E_7', 'C_M7', 'C_M7', 'E_M7', 'C_M', 'A_o', 'E_7']\n"
     ]
    },
    {
     "data": {
      "text/plain": [
       "[{'type': 'pitch', 'value': 39},\n",
       " {'type': 'velocity', 'value': 17},\n",
       " {'type': 'pitch', 'value': 51},\n",
       " {'type': 'velocity', 'value': 15},\n",
       " {'type': 'pitch', 'value': 55},\n",
       " {'type': 'velocity', 'value': 20},\n",
       " 'next_frame',\n",
       " 'next_frame',\n",
       " 'next_frame',\n",
       " 'next_frame',\n",
       " {'type': 'pitch', 'value': 46},\n",
       " {'type': 'velocity', 'value': 16},\n",
       " {'type': 'pitch', 'value': 55},\n",
       " {'type': 'velocity', 'value': 20},\n",
       " 'next_frame',\n",
       " 'next_frame',\n",
       " 'next_frame',\n",
       " 'next_frame',\n",
       " {'type': 'pitch', 'value': 51},\n",
       " {'type': 'velocity', 'value': 17},\n",
       " {'type': 'pitch', 'value': 55},\n",
       " {'type': 'velocity', 'value': 19},\n",
       " {'type': 'pitch', 'value': 62},\n",
       " {'type': 'velocity', 'value': 21},\n",
       " 'next_frame',\n",
       " 'next_frame',\n",
       " 'next_frame',\n",
       " 'next_frame',\n",
       " 'next_frame',\n",
       " 'next_frame',\n",
       " 'next_frame',\n",
       " 'next_frame',\n",
       " 'next_frame',\n",
       " 'next_frame',\n",
       " 'next_frame',\n",
       " 'next_frame',\n",
       " 'next_frame',\n",
       " 'next_frame',\n",
       " 'next_frame',\n",
       " 'next_frame',\n",
       " 'next_frame',\n",
       " 'next_frame',\n",
       " 'next_frame',\n",
       " 'next_frame',\n",
       " 'next_frame',\n",
       " 'next_frame',\n",
       " 'next_frame',\n",
       " 'next_frame',\n",
       " 'pad',\n",
       " 'pad',\n",
       " 'pad',\n",
       " 'pad',\n",
       " 'pad',\n",
       " 'pad',\n",
       " 'pad',\n",
       " 'pad',\n",
       " 'pad',\n",
       " 'pad',\n",
       " 'pad',\n",
       " 'pad',\n",
       " 'pad',\n",
       " 'pad',\n",
       " 'pad',\n",
       " 'pad',\n",
       " 'pad',\n",
       " 'pad',\n",
       " 'pad',\n",
       " 'pad',\n",
       " 'pad',\n",
       " 'pad',\n",
       " 'pad',\n",
       " 'pad',\n",
       " 'pad',\n",
       " 'pad',\n",
       " 'pad',\n",
       " 'pad',\n",
       " 'pad',\n",
       " 'pad',\n",
       " 'pad',\n",
       " 'pad',\n",
       " 'pad',\n",
       " 'pad',\n",
       " 'pad',\n",
       " 'pad',\n",
       " 'pad',\n",
       " 'pad',\n",
       " 'pad',\n",
       " 'pad',\n",
       " 'pad',\n",
       " 'pad',\n",
       " 'pad',\n",
       " 'pad',\n",
       " 'pad',\n",
       " 'pad',\n",
       " 'pad',\n",
       " 'pad',\n",
       " 'pad',\n",
       " 'pad',\n",
       " 'pad',\n",
       " 'pad',\n",
       " 'pad',\n",
       " 'pad',\n",
       " 'pad',\n",
       " 'pad',\n",
       " 'pad',\n",
       " 'pad',\n",
       " 'pad',\n",
       " 'pad',\n",
       " 'pad',\n",
       " 'pad',\n",
       " 'pad',\n",
       " 'pad',\n",
       " 'pad',\n",
       " 'pad',\n",
       " 'pad',\n",
       " 'pad',\n",
       " 'pad',\n",
       " 'pad',\n",
       " 'pad',\n",
       " 'pad',\n",
       " 'pad',\n",
       " 'pad',\n",
       " 'pad',\n",
       " 'pad',\n",
       " 'pad',\n",
       " 'pad',\n",
       " 'pad',\n",
       " 'pad',\n",
       " 'pad',\n",
       " 'pad',\n",
       " 'pad',\n",
       " 'pad',\n",
       " 'pad',\n",
       " 'pad',\n",
       " 'pad',\n",
       " 'pad',\n",
       " 'pad',\n",
       " 'pad',\n",
       " 'pad',\n",
       " 'pad',\n",
       " 'pad',\n",
       " 'pad',\n",
       " 'pad',\n",
       " 'pad',\n",
       " 'pad',\n",
       " 'pad',\n",
       " 'pad',\n",
       " 'pad',\n",
       " 'pad',\n",
       " 'pad',\n",
       " {'type': 'pitch', 'value': 36},\n",
       " {'type': 'velocity', 'value': 17},\n",
       " {'type': 'pitch', 'value': 55},\n",
       " {'type': 'velocity', 'value': 18},\n",
       " 'next_frame',\n",
       " 'next_frame',\n",
       " 'next_frame',\n",
       " 'next_frame',\n",
       " {'type': 'pitch', 'value': 43},\n",
       " {'type': 'velocity', 'value': 15},\n",
       " {'type': 'pitch', 'value': 53},\n",
       " {'type': 'velocity', 'value': 19},\n",
       " 'next_frame',\n",
       " 'next_frame',\n",
       " 'next_frame',\n",
       " 'next_frame',\n",
       " {'type': 'pitch', 'value': 46},\n",
       " {'type': 'velocity', 'value': 18},\n",
       " {'type': 'pitch', 'value': 53},\n",
       " {'type': 'velocity', 'value': 19},\n",
       " 'next_frame',\n",
       " 'next_frame',\n",
       " 'next_frame',\n",
       " 'next_frame',\n",
       " {'type': 'pitch', 'value': 51},\n",
       " {'type': 'velocity', 'value': 17},\n",
       " 'next_frame',\n",
       " 'next_frame',\n",
       " 'next_frame',\n",
       " 'next_frame',\n",
       " {'type': 'pitch', 'value': 48},\n",
       " {'type': 'velocity', 'value': 19},\n",
       " {'type': 'pitch', 'value': 51},\n",
       " {'type': 'velocity', 'value': 18},\n",
       " {'type': 'pitch', 'value': 62},\n",
       " {'type': 'velocity', 'value': 21},\n",
       " 'next_frame',\n",
       " 'next_frame',\n",
       " 'next_frame',\n",
       " 'next_frame',\n",
       " {'type': 'pitch', 'value': 63},\n",
       " {'type': 'velocity', 'value': 21},\n",
       " 'next_frame',\n",
       " 'next_frame',\n",
       " 'next_frame',\n",
       " 'next_frame',\n",
       " {'type': 'pitch', 'value': 62},\n",
       " {'type': 'velocity', 'value': 21},\n",
       " 'next_frame',\n",
       " 'next_frame',\n",
       " 'next_frame',\n",
       " 'next_frame',\n",
       " 'next_frame',\n",
       " 'next_frame',\n",
       " 'next_frame',\n",
       " 'next_frame',\n",
       " 'pad',\n",
       " 'pad',\n",
       " 'pad',\n",
       " 'pad',\n",
       " 'pad',\n",
       " 'pad',\n",
       " 'pad',\n",
       " 'pad',\n",
       " 'pad',\n",
       " 'pad',\n",
       " 'pad',\n",
       " 'pad',\n",
       " 'pad',\n",
       " 'pad',\n",
       " 'pad',\n",
       " 'pad',\n",
       " 'pad',\n",
       " 'pad',\n",
       " 'pad',\n",
       " 'pad',\n",
       " 'pad',\n",
       " 'pad',\n",
       " 'pad',\n",
       " 'pad',\n",
       " 'pad',\n",
       " 'pad',\n",
       " 'pad',\n",
       " 'pad',\n",
       " 'pad',\n",
       " 'pad',\n",
       " 'pad',\n",
       " 'pad',\n",
       " 'pad',\n",
       " 'pad',\n",
       " 'pad',\n",
       " 'pad',\n",
       " 'pad',\n",
       " 'pad',\n",
       " 'pad',\n",
       " 'pad',\n",
       " 'pad',\n",
       " 'pad',\n",
       " 'pad',\n",
       " 'pad',\n",
       " 'pad',\n",
       " 'pad',\n",
       " 'pad',\n",
       " 'pad',\n",
       " 'pad',\n",
       " 'pad',\n",
       " 'pad',\n",
       " 'pad',\n",
       " 'pad',\n",
       " 'pad',\n",
       " 'pad',\n",
       " 'pad',\n",
       " 'pad',\n",
       " 'pad',\n",
       " 'pad',\n",
       " 'pad',\n",
       " 'pad',\n",
       " 'pad',\n",
       " 'pad',\n",
       " 'pad',\n",
       " 'pad',\n",
       " 'pad',\n",
       " 'pad',\n",
       " 'pad',\n",
       " 'pad',\n",
       " 'pad',\n",
       " 'pad',\n",
       " 'pad',\n",
       " 'pad',\n",
       " 'pad',\n",
       " 'pad',\n",
       " 'pad',\n",
       " 'pad',\n",
       " 'pad',\n",
       " 'pad',\n",
       " 'pad',\n",
       " 'pad',\n",
       " 'pad',\n",
       " 'pad',\n",
       " 'pad',\n",
       " 'pad',\n",
       " 'pad',\n",
       " 'pad',\n",
       " 'pad',\n",
       " 'pad',\n",
       " 'pad',\n",
       " 'pad',\n",
       " 'pad',\n",
       " 'pad',\n",
       " 'pad',\n",
       " {'type': 'pitch', 'value': 32},\n",
       " {'type': 'velocity', 'value': 18},\n",
       " {'type': 'pitch', 'value': 60},\n",
       " {'type': 'velocity', 'value': 19},\n",
       " 'next_frame',\n",
       " 'next_frame',\n",
       " 'next_frame',\n",
       " 'next_frame',\n",
       " {'type': 'pitch', 'value': 39},\n",
       " {'type': 'velocity', 'value': 17},\n",
       " 'next_frame',\n",
       " 'next_frame',\n",
       " 'next_frame',\n",
       " 'next_frame',\n",
       " {'type': 'pitch', 'value': 44},\n",
       " {'type': 'velocity', 'value': 18},\n",
       " 'next_frame',\n",
       " 'next_frame',\n",
       " 'next_frame',\n",
       " 'next_frame',\n",
       " 'next_frame',\n",
       " 'next_frame',\n",
       " 'next_frame',\n",
       " 'next_frame',\n",
       " {'type': 'pitch', 'value': 48},\n",
       " {'type': 'velocity', 'value': 18},\n",
       " {'type': 'pitch', 'value': 58},\n",
       " {'type': 'velocity', 'value': 19},\n",
       " 'next_frame',\n",
       " 'next_frame',\n",
       " 'next_frame',\n",
       " 'next_frame',\n",
       " 'next_frame',\n",
       " 'next_frame',\n",
       " 'next_frame',\n",
       " 'next_frame',\n",
       " {'type': 'pitch', 'value': 46},\n",
       " {'type': 'velocity', 'value': 17},\n",
       " 'next_frame',\n",
       " 'next_frame',\n",
       " 'next_frame',\n",
       " 'next_frame',\n",
       " 'next_frame',\n",
       " 'next_frame',\n",
       " 'next_frame',\n",
       " 'next_frame',\n",
       " 'pad',\n",
       " 'pad',\n",
       " 'pad',\n",
       " 'pad',\n",
       " 'pad',\n",
       " 'pad',\n",
       " 'pad',\n",
       " 'pad',\n",
       " 'pad',\n",
       " 'pad',\n",
       " 'pad',\n",
       " 'pad',\n",
       " 'pad',\n",
       " 'pad',\n",
       " 'pad',\n",
       " 'pad',\n",
       " 'pad',\n",
       " 'pad',\n",
       " 'pad',\n",
       " 'pad',\n",
       " 'pad',\n",
       " 'pad',\n",
       " 'pad',\n",
       " 'pad',\n",
       " 'pad',\n",
       " 'pad',\n",
       " 'pad',\n",
       " 'pad',\n",
       " 'pad',\n",
       " 'pad',\n",
       " 'pad',\n",
       " 'pad',\n",
       " 'pad',\n",
       " 'pad',\n",
       " 'pad',\n",
       " 'pad',\n",
       " 'pad',\n",
       " 'pad',\n",
       " 'pad',\n",
       " 'pad',\n",
       " 'pad',\n",
       " 'pad',\n",
       " 'pad',\n",
       " 'pad',\n",
       " 'pad',\n",
       " 'pad',\n",
       " 'pad',\n",
       " 'pad',\n",
       " 'pad',\n",
       " 'pad',\n",
       " 'pad',\n",
       " 'pad',\n",
       " 'pad',\n",
       " 'pad',\n",
       " 'pad',\n",
       " 'pad',\n",
       " 'pad',\n",
       " 'pad',\n",
       " 'pad',\n",
       " 'pad',\n",
       " 'pad',\n",
       " 'pad',\n",
       " 'pad',\n",
       " 'pad',\n",
       " 'pad',\n",
       " 'pad',\n",
       " 'pad',\n",
       " 'pad',\n",
       " 'pad',\n",
       " 'pad',\n",
       " 'pad',\n",
       " 'pad',\n",
       " 'pad',\n",
       " 'pad',\n",
       " 'pad',\n",
       " 'pad',\n",
       " 'pad',\n",
       " 'pad',\n",
       " 'pad',\n",
       " 'pad',\n",
       " 'pad',\n",
       " 'pad',\n",
       " 'pad',\n",
       " 'pad',\n",
       " 'pad',\n",
       " 'pad',\n",
       " 'pad',\n",
       " 'pad',\n",
       " 'pad',\n",
       " 'pad',\n",
       " 'pad',\n",
       " 'pad',\n",
       " 'pad',\n",
       " 'pad',\n",
       " 'pad',\n",
       " 'pad',\n",
       " 'pad',\n",
       " 'pad',\n",
       " 'pad',\n",
       " 'pad',\n",
       " 'pad',\n",
       " 'pad',\n",
       " 'pad',\n",
       " 'pad',\n",
       " {'type': 'pitch', 'value': 22},\n",
       " {'type': 'velocity', 'value': 19},\n",
       " {'type': 'pitch', 'value': 53},\n",
       " {'type': 'velocity', 'value': 19},\n",
       " 'next_frame',\n",
       " 'next_frame',\n",
       " 'next_frame',\n",
       " 'next_frame',\n",
       " {'type': 'pitch', 'value': 29},\n",
       " {'type': 'velocity', 'value': 19},\n",
       " 'next_frame',\n",
       " 'next_frame',\n",
       " 'next_frame',\n",
       " 'next_frame',\n",
       " {'type': 'pitch', 'value': 38},\n",
       " {'type': 'velocity', 'value': 19},\n",
       " 'next_frame',\n",
       " 'next_frame',\n",
       " 'next_frame',\n",
       " 'next_frame',\n",
       " 'next_frame',\n",
       " 'next_frame',\n",
       " 'next_frame',\n",
       " 'next_frame',\n",
       " 'next_frame',\n",
       " 'next_frame',\n",
       " 'next_frame',\n",
       " 'next_frame',\n",
       " 'next_frame',\n",
       " 'next_frame',\n",
       " 'next_frame',\n",
       " 'next_frame',\n",
       " 'next_frame',\n",
       " 'next_frame',\n",
       " 'next_frame',\n",
       " 'next_frame',\n",
       " 'next_frame',\n",
       " 'next_frame',\n",
       " 'next_frame',\n",
       " 'next_frame',\n",
       " 'pad',\n",
       " 'pad',\n",
       " 'pad',\n",
       " 'pad',\n",
       " 'pad',\n",
       " 'pad',\n",
       " 'pad',\n",
       " 'pad',\n",
       " 'pad',\n",
       " 'pad',\n",
       " 'pad',\n",
       " 'pad',\n",
       " 'pad',\n",
       " 'pad',\n",
       " 'pad',\n",
       " 'pad',\n",
       " 'pad',\n",
       " 'pad',\n",
       " 'pad',\n",
       " 'pad',\n",
       " 'pad',\n",
       " 'pad',\n",
       " 'pad',\n",
       " 'pad',\n",
       " 'pad',\n",
       " 'pad',\n",
       " 'pad',\n",
       " 'pad',\n",
       " 'pad',\n",
       " 'pad',\n",
       " 'pad',\n",
       " 'pad',\n",
       " 'pad',\n",
       " 'pad',\n",
       " 'pad',\n",
       " 'pad',\n",
       " 'pad',\n",
       " 'pad',\n",
       " 'pad',\n",
       " 'pad',\n",
       " 'pad',\n",
       " 'pad',\n",
       " 'pad',\n",
       " 'pad',\n",
       " 'pad',\n",
       " 'pad',\n",
       " 'pad',\n",
       " 'pad',\n",
       " 'pad',\n",
       " 'pad',\n",
       " 'pad',\n",
       " 'pad',\n",
       " 'pad',\n",
       " 'pad',\n",
       " 'pad',\n",
       " 'pad',\n",
       " 'pad',\n",
       " 'pad',\n",
       " 'pad',\n",
       " 'pad',\n",
       " 'pad',\n",
       " 'pad',\n",
       " 'pad',\n",
       " 'pad',\n",
       " 'pad',\n",
       " 'pad',\n",
       " 'pad',\n",
       " 'pad',\n",
       " 'pad',\n",
       " 'pad',\n",
       " 'pad',\n",
       " 'pad',\n",
       " 'pad',\n",
       " 'pad',\n",
       " 'pad',\n",
       " 'pad',\n",
       " 'pad',\n",
       " 'pad',\n",
       " 'pad',\n",
       " 'pad',\n",
       " 'pad',\n",
       " 'pad',\n",
       " 'pad',\n",
       " 'pad',\n",
       " 'pad',\n",
       " 'pad',\n",
       " 'pad',\n",
       " 'pad',\n",
       " 'pad',\n",
       " 'pad',\n",
       " 'pad',\n",
       " 'pad',\n",
       " 'pad',\n",
       " 'pad',\n",
       " 'pad',\n",
       " 'pad',\n",
       " 'pad',\n",
       " 'pad',\n",
       " 'pad',\n",
       " 'pad',\n",
       " 'pad',\n",
       " 'pad',\n",
       " 'pad',\n",
       " 'pad',\n",
       " 'pad',\n",
       " 'pad',\n",
       " 'pad',\n",
       " 'pad',\n",
       " 'pad',\n",
       " 'pad',\n",
       " {'type': 'pitch', 'value': 39},\n",
       " {'type': 'velocity', 'value': 18},\n",
       " {'type': 'pitch', 'value': 55},\n",
       " {'type': 'velocity', 'value': 21},\n",
       " 'next_frame',\n",
       " 'next_frame',\n",
       " 'next_frame',\n",
       " 'next_frame',\n",
       " {'type': 'pitch', 'value': 46},\n",
       " {'type': 'velocity', 'value': 16},\n",
       " {'type': 'pitch', 'value': 55},\n",
       " {'type': 'velocity', 'value': 20},\n",
       " 'next_frame',\n",
       " 'next_frame',\n",
       " 'next_frame',\n",
       " 'next_frame',\n",
       " {'type': 'pitch', 'value': 51},\n",
       " {'type': 'velocity', 'value': 16},\n",
       " {'type': 'pitch', 'value': 55},\n",
       " {'type': 'velocity', 'value': 19},\n",
       " {'type': 'pitch', 'value': 62},\n",
       " {'type': 'velocity', 'value': 21},\n",
       " 'next_frame',\n",
       " 'next_frame',\n",
       " 'next_frame',\n",
       " 'next_frame',\n",
       " 'next_frame',\n",
       " 'next_frame',\n",
       " 'next_frame',\n",
       " 'next_frame',\n",
       " 'next_frame',\n",
       " 'next_frame',\n",
       " 'next_frame',\n",
       " 'next_frame',\n",
       " 'next_frame',\n",
       " 'next_frame',\n",
       " 'next_frame',\n",
       " 'next_frame',\n",
       " {'type': 'pitch', 'value': 51},\n",
       " {'type': 'velocity', 'value': 16},\n",
       " {'type': 'pitch', 'value': 58},\n",
       " {'type': 'velocity', 'value': 20},\n",
       " 'next_frame',\n",
       " 'next_frame',\n",
       " 'next_frame',\n",
       " 'next_frame',\n",
       " 'next_frame',\n",
       " 'next_frame',\n",
       " 'next_frame',\n",
       " 'next_frame',\n",
       " 'pad',\n",
       " 'pad',\n",
       " 'pad',\n",
       " 'pad',\n",
       " 'pad',\n",
       " 'pad',\n",
       " 'pad',\n",
       " 'pad',\n",
       " 'pad',\n",
       " 'pad',\n",
       " 'pad',\n",
       " 'pad',\n",
       " 'pad',\n",
       " 'pad',\n",
       " 'pad',\n",
       " 'pad',\n",
       " 'pad',\n",
       " 'pad',\n",
       " 'pad',\n",
       " 'pad',\n",
       " 'pad',\n",
       " 'pad',\n",
       " 'pad',\n",
       " 'pad',\n",
       " 'pad',\n",
       " 'pad',\n",
       " 'pad',\n",
       " 'pad',\n",
       " 'pad',\n",
       " 'pad',\n",
       " 'pad',\n",
       " 'pad',\n",
       " 'pad',\n",
       " 'pad',\n",
       " 'pad',\n",
       " 'pad',\n",
       " 'pad',\n",
       " 'pad',\n",
       " 'pad',\n",
       " 'pad',\n",
       " 'pad',\n",
       " 'pad',\n",
       " 'pad',\n",
       " 'pad',\n",
       " 'pad',\n",
       " 'pad',\n",
       " 'pad',\n",
       " 'pad',\n",
       " 'pad',\n",
       " 'pad',\n",
       " 'pad',\n",
       " 'pad',\n",
       " 'pad',\n",
       " 'pad',\n",
       " 'pad',\n",
       " 'pad',\n",
       " 'pad',\n",
       " 'pad',\n",
       " 'pad',\n",
       " 'pad',\n",
       " 'pad',\n",
       " 'pad',\n",
       " 'pad',\n",
       " 'pad',\n",
       " 'pad',\n",
       " 'pad',\n",
       " 'pad',\n",
       " 'pad',\n",
       " 'pad',\n",
       " 'pad',\n",
       " 'pad',\n",
       " 'pad',\n",
       " 'pad',\n",
       " 'pad',\n",
       " 'pad',\n",
       " 'pad',\n",
       " 'pad',\n",
       " 'pad',\n",
       " 'pad',\n",
       " 'pad',\n",
       " 'pad',\n",
       " 'pad',\n",
       " 'pad',\n",
       " 'pad',\n",
       " 'pad',\n",
       " 'pad',\n",
       " 'pad',\n",
       " 'pad',\n",
       " 'pad',\n",
       " 'pad',\n",
       " 'pad',\n",
       " 'pad',\n",
       " 'pad',\n",
       " 'pad',\n",
       " 'pad',\n",
       " 'pad',\n",
       " 'pad',\n",
       " 'pad',\n",
       " 'pad',\n",
       " 'pad',\n",
       " {'type': 'pitch', 'value': 36},\n",
       " {'type': 'velocity', 'value': 19},\n",
       " {'type': 'pitch', 'value': 55},\n",
       " {'type': 'velocity', 'value': 19},\n",
       " {'type': 'pitch', 'value': 60},\n",
       " {'type': 'velocity', 'value': 22},\n",
       " 'next_frame',\n",
       " 'next_frame',\n",
       " 'next_frame',\n",
       " 'next_frame',\n",
       " {'type': 'pitch', 'value': 43},\n",
       " {'type': 'velocity', 'value': 16},\n",
       " 'next_frame',\n",
       " 'next_frame',\n",
       " 'next_frame',\n",
       " 'next_frame',\n",
       " {'type': 'pitch', 'value': 46},\n",
       " {'type': 'velocity', 'value': 18},\n",
       " 'next_frame',\n",
       " 'next_frame',\n",
       " 'next_frame',\n",
       " 'next_frame',\n",
       " {'type': 'pitch', 'value': 58},\n",
       " {'type': 'velocity', 'value': 20},\n",
       " 'next_frame',\n",
       " 'next_frame',\n",
       " 'next_frame',\n",
       " 'next_frame',\n",
       " {'type': 'pitch', 'value': 67},\n",
       " {'type': 'velocity', 'value': 20},\n",
       " 'next_frame',\n",
       " 'next_frame',\n",
       " 'next_frame',\n",
       " 'next_frame',\n",
       " {'type': 'pitch', 'value': 70},\n",
       " {'type': 'velocity', 'value': 20},\n",
       " 'next_frame',\n",
       " 'next_frame',\n",
       " 'next_frame',\n",
       " 'next_frame',\n",
       " {'type': 'pitch', 'value': 74},\n",
       " {'type': 'velocity', 'value': 21},\n",
       " 'next_frame',\n",
       " 'next_frame',\n",
       " 'next_frame',\n",
       " 'next_frame',\n",
       " {'type': 'pitch', 'value': 75},\n",
       " {'type': 'velocity', 'value': 21},\n",
       " 'next_frame',\n",
       " 'next_frame',\n",
       " 'next_frame',\n",
       " 'next_frame',\n",
       " 'pad',\n",
       " 'pad',\n",
       " 'pad',\n",
       " 'pad',\n",
       " 'pad',\n",
       " 'pad',\n",
       " 'pad',\n",
       " 'pad',\n",
       " 'pad',\n",
       " 'pad',\n",
       " 'pad',\n",
       " 'pad',\n",
       " 'pad',\n",
       " 'pad',\n",
       " 'pad',\n",
       " 'pad',\n",
       " 'pad',\n",
       " 'pad',\n",
       " 'pad',\n",
       " 'pad',\n",
       " 'pad',\n",
       " 'pad',\n",
       " 'pad',\n",
       " 'pad',\n",
       " 'pad',\n",
       " 'pad',\n",
       " 'pad',\n",
       " 'pad',\n",
       " 'pad',\n",
       " 'pad',\n",
       " 'pad',\n",
       " 'pad',\n",
       " 'pad',\n",
       " 'pad',\n",
       " 'pad',\n",
       " 'pad',\n",
       " 'pad',\n",
       " 'pad',\n",
       " 'pad',\n",
       " 'pad',\n",
       " 'pad',\n",
       " 'pad',\n",
       " 'pad',\n",
       " 'pad',\n",
       " 'pad',\n",
       " 'pad',\n",
       " 'pad',\n",
       " 'pad',\n",
       " 'pad',\n",
       " 'pad',\n",
       " 'pad',\n",
       " 'pad',\n",
       " 'pad',\n",
       " 'pad',\n",
       " 'pad',\n",
       " 'pad',\n",
       " 'pad',\n",
       " 'pad',\n",
       " 'pad',\n",
       " 'pad',\n",
       " 'pad',\n",
       " 'pad',\n",
       " 'pad',\n",
       " 'pad',\n",
       " 'pad',\n",
       " 'pad',\n",
       " 'pad',\n",
       " 'pad',\n",
       " 'pad',\n",
       " 'pad',\n",
       " 'pad',\n",
       " 'pad',\n",
       " 'pad',\n",
       " 'pad',\n",
       " 'pad',\n",
       " 'pad',\n",
       " 'pad',\n",
       " 'pad',\n",
       " 'pad',\n",
       " 'pad',\n",
       " 'pad',\n",
       " 'pad',\n",
       " 'pad',\n",
       " 'pad',\n",
       " 'pad',\n",
       " 'pad',\n",
       " 'pad',\n",
       " 'pad',\n",
       " 'pad',\n",
       " 'pad',\n",
       " 'pad',\n",
       " 'pad',\n",
       " 'pad',\n",
       " 'pad',\n",
       " 'pad',\n",
       " 'pad',\n",
       " 'pad',\n",
       " 'pad',\n",
       " {'type': 'pitch', 'value': 5},\n",
       " {'type': 'velocity', 'value': 20},\n",
       " {'type': 'pitch', 'value': 17},\n",
       " {'type': 'velocity', 'value': 23},\n",
       " {'type': 'pitch', 'value': 39},\n",
       " {'type': 'velocity', 'value': 23},\n",
       " {'type': 'pitch', 'value': 44},\n",
       " {'type': 'velocity', 'value': 20},\n",
       " {'type': 'pitch', 'value': 48},\n",
       " {'type': 'velocity', 'value': 21},\n",
       " {'type': 'pitch', 'value': 53},\n",
       " {'type': 'velocity', 'value': 22},\n",
       " 'next_frame',\n",
       " 'next_frame',\n",
       " 'next_frame',\n",
       " 'next_frame',\n",
       " 'next_frame',\n",
       " 'next_frame',\n",
       " 'next_frame',\n",
       " 'next_frame',\n",
       " {'type': 'pitch', 'value': 39},\n",
       " {'type': 'velocity', 'value': 22},\n",
       " {'type': 'pitch', 'value': 51},\n",
       " {'type': 'velocity', 'value': 21},\n",
       " 'next_frame',\n",
       " 'next_frame',\n",
       " 'next_frame',\n",
       " 'next_frame',\n",
       " {'type': 'pitch', 'value': 24},\n",
       " {'type': 'velocity', 'value': 20},\n",
       " {'type': 'pitch', 'value': 31},\n",
       " {'type': 'velocity', 'value': 21},\n",
       " {'type': 'pitch', 'value': 36},\n",
       " {'type': 'velocity', 'value': 20},\n",
       " 'next_frame',\n",
       " 'next_frame',\n",
       " 'next_frame',\n",
       " 'next_frame',\n",
       " 'next_frame',\n",
       " 'next_frame',\n",
       " 'next_frame',\n",
       " 'next_frame',\n",
       " 'next_frame',\n",
       " 'next_frame',\n",
       " {'type': 'pitch', 'value': 39},\n",
       " {'type': 'velocity', 'value': 21},\n",
       " {'type': 'pitch', 'value': 43},\n",
       " {'type': 'velocity', 'value': 22},\n",
       " {'type': 'pitch', 'value': 51},\n",
       " {'type': 'velocity', 'value': 23},\n",
       " 'next_frame',\n",
       " 'next_frame',\n",
       " {'type': 'pitch', 'value': 24},\n",
       " {'type': 'velocity', 'value': 20},\n",
       " {'type': 'pitch', 'value': 39},\n",
       " {'type': 'velocity', 'value': 20},\n",
       " {'type': 'pitch', 'value': 43},\n",
       " {'type': 'velocity', 'value': 20},\n",
       " {'type': 'pitch', 'value': 48},\n",
       " {'type': 'velocity', 'value': 22},\n",
       " {'type': 'pitch', 'value': 55},\n",
       " {'type': 'velocity', 'value': 23},\n",
       " 'next_frame',\n",
       " 'next_frame',\n",
       " 'next_frame',\n",
       " 'next_frame',\n",
       " {'type': 'pitch', 'value': 36},\n",
       " {'type': 'velocity', 'value': 21},\n",
       " 'next_frame',\n",
       " 'next_frame',\n",
       " 'next_frame',\n",
       " 'next_frame',\n",
       " 'pad',\n",
       " 'pad',\n",
       " 'pad',\n",
       " 'pad',\n",
       " 'pad',\n",
       " 'pad',\n",
       " 'pad',\n",
       " 'pad',\n",
       " 'pad',\n",
       " 'pad',\n",
       " 'pad',\n",
       " 'pad',\n",
       " 'pad',\n",
       " 'pad',\n",
       " 'pad',\n",
       " 'pad',\n",
       " 'pad',\n",
       " 'pad',\n",
       " 'pad',\n",
       " 'pad',\n",
       " 'pad',\n",
       " 'pad',\n",
       " 'pad',\n",
       " 'pad',\n",
       " 'pad',\n",
       " 'pad',\n",
       " 'pad',\n",
       " 'pad',\n",
       " ...]"
      ]
     },
     "execution_count": 10,
     "metadata": {},
     "output_type": "execute_result"
    }
   ],
   "source": [
    "model.sample_and_save(output_dir/'test.mid', 16, 4, test_data[0], 6)"
   ]
  },
  {
   "cell_type": "code",
   "execution_count": 19,
   "metadata": {},
   "outputs": [
    {
     "data": {
      "text/plain": [
       "tensor([1, 1, 1, 1, 1, 1, 1, 1, 1, 1, 1, 1, 1, 1, 1, 1, 0, 0, 0, 0, 0, 0, 0, 0,\n",
       "        0, 0, 0, 0, 0, 0, 0, 0, 0, 0, 0, 0, 0, 0, 0, 0, 0, 0, 0, 0, 0, 0, 0, 0,\n",
       "        0, 0, 0, 0, 0, 0, 0, 0, 0, 0, 0, 0, 0, 0, 0, 0, 0, 0, 0, 0, 0, 0, 0, 0,\n",
       "        0, 0, 0, 0, 0, 0, 0, 0, 0, 0, 0, 0, 0, 0, 0, 0, 0, 0, 0, 0, 0, 0, 0, 0,\n",
       "        0, 0, 0, 0, 0, 0, 0, 0, 0, 0, 0, 0, 0, 0, 0, 0, 0, 0, 0, 0, 0, 0, 0, 0,\n",
       "        0, 0, 0, 0, 0, 0, 0, 0, 0, 0, 0, 0, 0, 0, 0, 0, 0, 0, 0, 0, 0, 0, 0, 0,\n",
       "        0, 0, 0, 0, 0, 0], dtype=torch.int32)"
      ]
     },
     "execution_count": 19,
     "metadata": {},
     "output_type": "execute_result"
    }
   ],
   "source": [
    "test_data[0]['piano_roll']['playing_mask']"
   ]
  },
  {
   "cell_type": "code",
   "execution_count": 59,
   "metadata": {},
   "outputs": [
    {
     "ename": "IndexError",
     "evalue": "index 8 is out of bounds for dimension 0 with size 8",
     "output_type": "error",
     "traceback": [
      "\u001b[1;31m---------------------------------------------------------------------------\u001b[0m",
      "\u001b[1;31mIndexError\u001b[0m                                Traceback (most recent call last)",
      "Cell \u001b[1;32mIn[59], line 1\u001b[0m\n\u001b[1;32m----> 1\u001b[0m \u001b[43mbatch\u001b[49m\u001b[43m[\u001b[49m\u001b[38;5;124;43m'\u001b[39;49m\u001b[38;5;124;43mpiano_roll\u001b[39;49m\u001b[38;5;124;43m'\u001b[39;49m\u001b[43m]\u001b[49m\u001b[43m[\u001b[49m\u001b[38;5;124;43m'\u001b[39;49m\u001b[38;5;124;43mindices\u001b[39;49m\u001b[38;5;124;43m'\u001b[39;49m\u001b[43m]\u001b[49m\u001b[43m[\u001b[49m\u001b[38;5;241;43m8\u001b[39;49m\u001b[43m,\u001b[49m\u001b[38;5;241;43m0\u001b[39;49m\u001b[43m]\u001b[49m\n",
      "\u001b[1;31mIndexError\u001b[0m: index 8 is out of bounds for dimension 0 with size 8"
     ]
    }
   ],
   "source": [
    "batch['piano_roll']['indices'][8,0]"
   ]
  },
  {
   "cell_type": "code",
   "execution_count": 6,
   "metadata": {},
   "outputs": [
    {
     "data": {
      "text/plain": [
       "600"
      ]
     },
     "execution_count": 6,
     "metadata": {},
     "output_type": "execute_result"
    }
   ],
   "source": [
    "150*4"
   ]
  },
  {
   "cell_type": "code",
   "execution_count": 1,
   "metadata": {},
   "outputs": [
    {
     "ename": "NameError",
     "evalue": "name 'DataLoader' is not defined",
     "output_type": "error",
     "traceback": [
      "\u001b[1;31m---------------------------------------------------------------------------\u001b[0m",
      "\u001b[1;31mNameError\u001b[0m                                 Traceback (most recent call last)",
      "Cell \u001b[1;32mIn[1], line 1\u001b[0m\n\u001b[1;32m----> 1\u001b[0m dl \u001b[38;5;241m=\u001b[39m \u001b[43mDataLoader\u001b[49m(ds,batch_size\u001b[38;5;241m=\u001b[39m\u001b[38;5;241m2\u001b[39m, shuffle\u001b[38;5;241m=\u001b[39m\u001b[38;5;28;01mTrue\u001b[39;00m)\n\u001b[0;32m      2\u001b[0m \u001b[38;5;28mnext\u001b[39m(\u001b[38;5;28miter\u001b[39m(dl))\n",
      "\u001b[1;31mNameError\u001b[0m: name 'DataLoader' is not defined"
     ]
    }
   ],
   "source": [
    "dl = DataLoader(ds,batch_size=2, shuffle=True)\n",
    "next(iter(dl))"
   ]
  },
  {
   "cell_type": "code",
   "execution_count": 1,
   "metadata": {},
   "outputs": [
    {
     "ename": "NameError",
     "evalue": "name 'PianoRollTokenizer' is not defined",
     "output_type": "error",
     "traceback": [
      "\u001b[1;31m---------------------------------------------------------------------------\u001b[0m",
      "\u001b[1;31mNameError\u001b[0m                                 Traceback (most recent call last)",
      "Cell \u001b[1;32mIn[1], line 8\u001b[0m\n\u001b[0;32m      4\u001b[0m \u001b[38;5;28;01mfrom\u001b[39;00m \u001b[38;5;21;01mpianogen\u001b[39;00m\u001b[38;5;21;01m.\u001b[39;00m\u001b[38;5;21;01mgpu_temp_control\u001b[39;00m \u001b[38;5;28;01mimport\u001b[39;00m GPUTempControl\n\u001b[0;32m      6\u001b[0m gpu_control \u001b[38;5;241m=\u001b[39m GPUTempControl(\u001b[38;5;241m64\u001b[39m,\u001b[38;5;241m3\u001b[39m)\n\u001b[1;32m----> 8\u001b[0m tokenizer: \u001b[43mPianoRollTokenizer\u001b[49m\n\u001b[0;32m      9\u001b[0m model: SelectiveAttnTransformer\n\u001b[0;32m     10\u001b[0m \u001b[38;5;28;01mdef\u001b[39;00m \u001b[38;5;21minference\u001b[39m(file_path:\u001b[38;5;28mstr\u001b[39m\u001b[38;5;241m|\u001b[39mPath, length:\u001b[38;5;28mint\u001b[39m\u001b[38;5;241m=\u001b[39m\u001b[38;5;241m512\u001b[39m, prompt:Pianoroll\u001b[38;5;241m|\u001b[39m\u001b[38;5;28;01mNone\u001b[39;00m\u001b[38;5;241m=\u001b[39m\u001b[38;5;28;01mNone\u001b[39;00m, batch_size:\u001b[38;5;28mint\u001b[39m\u001b[38;5;241m|\u001b[39m\u001b[38;5;28;01mNone\u001b[39;00m\u001b[38;5;241m=\u001b[39m\u001b[38;5;28;01mNone\u001b[39;00m,method\u001b[38;5;241m=\u001b[39m\u001b[38;5;124m'\u001b[39m\u001b[38;5;124mnucleus\u001b[39m\u001b[38;5;124m'\u001b[39m, p\u001b[38;5;241m=\u001b[39m\u001b[38;5;241m0.9\u001b[39m, top_k:\u001b[38;5;28mint\u001b[39m\u001b[38;5;241m=\u001b[39m\u001b[38;5;241m15\u001b[39m):\n",
      "\u001b[1;31mNameError\u001b[0m: name 'PianoRollTokenizer' is not defined"
     ]
    }
   ],
   "source": [
    "\n",
    "from pathlib import Path\n",
    "from tqdm import tqdm\n",
    "from music_data_analysis.data import Pianoroll\n",
    "from pianogen.gpu_temp_control import GPUTempControl\n",
    "\n",
    "gpu_control = GPUTempControl(64,3)\n",
    "\n",
    "tokenizer: PianoRollTokenizer\n",
    "model: SelectiveAttnTransformer\n",
    "def inference(file_path:str|Path, length:int=512, prompt:Pianoroll|None=None, batch_size:int|None=None,method='nucleus', p=0.9, top_k:int=15):\n",
    "    model.eval()\n",
    "    if prompt is None:\n",
    "        tokens = [{'type':'start'}]\n",
    "    else:\n",
    "        tokens = ds.tokenizer.tokenize(prompt, pad=False)\n",
    "        print('prompt:', tokens[:10])\n",
    "        print('prompt end:', tokens[-10:])\n",
    "\n",
    "    indices = tokenizer.vocab.tokens_to_indices(tokens)\n",
    "    pos = tokenizer.get_frame_indices(tokens, infer_next_frame=True)\n",
    "    indices = indices.unsqueeze(0).to(device)\n",
    "    pos = pos.unsqueeze(0).to(device)\n",
    "\n",
    "    last_token = tokens[-1]\n",
    "\n",
    "    for _ in tqdm(range(length)):\n",
    "        gpu_control.cooldown()\n",
    "\n",
    "        logits = model(indices,pos).squeeze(0)[-1].detach().cpu()\n",
    "        new_token = tokenizer.sample_from_logits(logits, last_token, method='nucleus', p=0.9)\n",
    "        tokens.append(new_token)\n",
    "        last_token = new_token\n",
    "\n",
    "        # update indices and pos\n",
    "\n",
    "        new_token_idx = tokenizer.vocab.get_idx(new_token)\n",
    "        indices = torch.cat([indices, torch.tensor([[new_token_idx]]).to(device)], dim=-1)\n",
    "        if new_token['type'] == 'next_frame':\n",
    "            new_pos = pos[0,-1] + 1\n",
    "        else:\n",
    "            new_pos = pos[0,-1]\n",
    "        pos = torch.cat([pos, torch.tensor([[new_pos]]).to(device)], dim=-1)\n",
    "\n",
    "        if new_token['type'] == 'end':\n",
    "            break\n",
    "\n",
    "    tokenizer.detokenize(tokens).to_midi(file_path)\n",
    "    print('result:', tokens[:10])\n"
   ]
  },
  {
   "cell_type": "code",
   "execution_count": 1,
   "metadata": {},
   "outputs": [],
   "source": [
    "from pathlib import Path\n",
    "from torch.utils.tensorboard import SummaryWriter\n",
    "\n",
    "\n",
    "exp_name = 'remove_last_relu'\n",
    "\n",
    "output_dir = Path(f'./output/{exp_name}')\n",
    "output_dir.mkdir(parents=True, exist_ok=True)\n",
    "checkpoint_dir = Path(f'./checkpoint/{exp_name}')\n",
    "checkpoint_dir.mkdir(parents=True, exist_ok=True)\n",
    "tensorboard_dir = Path(f'./tensorboard/{exp_name}')\n",
    "\n",
    "\n",
    "writer = SummaryWriter(tensorboard_dir)\n",
    "model = SelectiveAttnTransformer(len(tokenizer.vocab),128,256)\n",
    "crit = nn.CrossEntropyLoss(ignore_index=0)\n",
    "opt = Adam(model.parameters(), lr=1e-3)\n",
    "model.set_downsampled_path_enabled(True)\n",
    "print('number of parameters:', sum(p.numel() for p in model.parameters())/1e6, 'M')"
   ]
  },
  {
   "cell_type": "code",
   "execution_count": 7,
   "metadata": {},
   "outputs": [],
   "source": [
    "from_epoch = 50\n",
    "epoch = from_epoch\n",
    "# load from checkpoint\n",
    "if from_epoch > 0:\n",
    "    checkpoint = torch.load(checkpoint_dir/f'{from_epoch}.pt')\n",
    "    model.load_state_dict(checkpoint['model'])\n",
    "    opt.load_state_dict(checkpoint['opt'])\n",
    "model = model.to(device)"
   ]
  },
  {
   "cell_type": "code",
   "execution_count": 9,
   "metadata": {},
   "outputs": [
    {
     "name": "stderr",
     "output_type": "stream",
     "text": [
      "  0%|          | 0/296 [00:00<?, ?it/s]c:\\Users\\User\\miniconda3\\envs\\gr\\Lib\\site-packages\\torch\\nn\\functional.py:5504: UserWarning: 1Torch was not compiled with flash attention. (Triggered internally at ..\\aten\\src\\ATen\\native\\transformers\\cuda\\sdp_utils.cpp:455.)\n",
      "  attn_output = scaled_dot_product_attention(q, k, v, attn_mask, dropout_p, is_causal)\n",
      "100%|██████████| 296/296 [02:11<00:00,  2.24it/s, batch=290, gpu_temp=62, loss=1.6] \n",
      "100%|██████████| 1023/1023 [00:12<00:00, 80.21it/s]\n"
     ]
    },
    {
     "name": "stdout",
     "output_type": "stream",
     "text": [
      "result: [{'type': 'start'}, {'type': 'next_frame'}, {'type': 'next_frame'}, {'type': 'next_frame'}, {'type': 'next_frame'}, {'type': 'next_frame'}, {'type': 'next_frame'}, {'type': 'next_frame'}, {'type': 'next_frame'}, {'type': 'next_frame'}]\n"
     ]
    },
    {
     "name": "stderr",
     "output_type": "stream",
     "text": [
      "100%|██████████| 296/296 [01:58<00:00,  2.49it/s, batch=290, gpu_temp=62, loss=1.3] \n",
      "100%|██████████| 1023/1023 [00:13<00:00, 75.43it/s]\n"
     ]
    },
    {
     "name": "stdout",
     "output_type": "stream",
     "text": [
      "result: [{'type': 'start'}, {'value': 27, 'type': 'pitch'}, {'value': 13, 'type': 'velocity'}, {'value': 29, 'type': 'pitch'}, {'value': 14, 'type': 'velocity'}, {'value': 31, 'type': 'pitch'}, {'value': 14, 'type': 'velocity'}, {'type': 'next_frame'}, {'type': 'next_frame'}, {'type': 'next_frame'}]\n"
     ]
    },
    {
     "name": "stderr",
     "output_type": "stream",
     "text": [
      "100%|██████████| 296/296 [02:00<00:00,  2.46it/s, batch=290, gpu_temp=57, loss=1.23]\n",
      "100%|██████████| 1023/1023 [00:13<00:00, 75.73it/s]\n"
     ]
    },
    {
     "name": "stdout",
     "output_type": "stream",
     "text": [
      "result: [{'type': 'start'}, {'type': 'next_frame'}, {'type': 'next_frame'}, {'type': 'next_frame'}, {'type': 'next_frame'}, {'type': 'next_frame'}, {'type': 'next_frame'}, {'type': 'next_frame'}, {'type': 'next_frame'}, {'type': 'next_frame'}]\n"
     ]
    },
    {
     "name": "stderr",
     "output_type": "stream",
     "text": [
      "100%|██████████| 296/296 [02:19<00:00,  2.12it/s, batch=290, gpu_temp=63, loss=1.24]\n",
      "100%|██████████| 1023/1023 [00:13<00:00, 74.52it/s]\n"
     ]
    },
    {
     "name": "stdout",
     "output_type": "stream",
     "text": [
      "result: [{'type': 'start'}, {'value': 12, 'type': 'pitch'}, {'value': 14, 'type': 'velocity'}, {'value': 24, 'type': 'pitch'}, {'value': 12, 'type': 'velocity'}, {'value': 34, 'type': 'pitch'}, {'value': 15, 'type': 'velocity'}, {'value': 39, 'type': 'pitch'}, {'value': 13, 'type': 'velocity'}, {'value': 55, 'type': 'pitch'}]\n"
     ]
    },
    {
     "name": "stderr",
     "output_type": "stream",
     "text": [
      "100%|██████████| 296/296 [02:24<00:00,  2.04it/s, batch=290, gpu_temp=62, loss=1.17]\n",
      "100%|██████████| 1023/1023 [00:14<00:00, 72.52it/s]\n"
     ]
    },
    {
     "name": "stdout",
     "output_type": "stream",
     "text": [
      "result: [{'type': 'start'}, {'type': 'next_frame'}, {'type': 'next_frame'}, {'type': 'next_frame'}, {'type': 'next_frame'}, {'type': 'next_frame'}, {'type': 'next_frame'}, {'type': 'next_frame'}, {'type': 'next_frame'}, {'type': 'next_frame'}]\n"
     ]
    },
    {
     "name": "stderr",
     "output_type": "stream",
     "text": [
      "100%|██████████| 296/296 [02:33<00:00,  1.93it/s, batch=290, gpu_temp=54, loss=1.11] \n",
      "100%|██████████| 1023/1023 [00:19<00:00, 52.97it/s]\n"
     ]
    },
    {
     "name": "stdout",
     "output_type": "stream",
     "text": [
      "result: [{'type': 'start'}, {'type': 'next_frame'}, {'type': 'next_frame'}, {'type': 'next_frame'}, {'type': 'next_frame'}, {'type': 'next_frame'}, {'type': 'next_frame'}, {'type': 'next_frame'}, {'type': 'next_frame'}, {'type': 'next_frame'}]\n"
     ]
    },
    {
     "name": "stderr",
     "output_type": "stream",
     "text": [
      "100%|██████████| 296/296 [03:05<00:00,  1.59it/s, batch=290, gpu_temp=58, loss=1.1] \n",
      "100%|██████████| 1023/1023 [00:18<00:00, 54.20it/s]\n"
     ]
    },
    {
     "name": "stdout",
     "output_type": "stream",
     "text": [
      "result: [{'type': 'start'}, {'value': 27, 'type': 'pitch'}, {'value': 12, 'type': 'velocity'}, {'value': 43, 'type': 'pitch'}, {'value': 14, 'type': 'velocity'}, {'value': 46, 'type': 'pitch'}, {'value': 17, 'type': 'velocity'}, {'value': 51, 'type': 'pitch'}, {'value': 15, 'type': 'velocity'}, {'value': 55, 'type': 'pitch'}]\n"
     ]
    },
    {
     "name": "stderr",
     "output_type": "stream",
     "text": [
      "100%|██████████| 296/296 [03:05<00:00,  1.59it/s, batch=290, gpu_temp=58, loss=1.19] \n",
      "100%|██████████| 1023/1023 [00:19<00:00, 52.11it/s]\n"
     ]
    },
    {
     "name": "stdout",
     "output_type": "stream",
     "text": [
      "result: [{'type': 'start'}, {'type': 'next_frame'}, {'type': 'next_frame'}, {'type': 'next_frame'}, {'type': 'next_frame'}, {'type': 'next_frame'}, {'type': 'next_frame'}, {'type': 'next_frame'}, {'type': 'next_frame'}, {'type': 'next_frame'}]\n"
     ]
    },
    {
     "name": "stderr",
     "output_type": "stream",
     "text": [
      "100%|██████████| 296/296 [03:05<00:00,  1.60it/s, batch=290, gpu_temp=58, loss=1.05] \n",
      "100%|██████████| 1023/1023 [00:19<00:00, 52.33it/s]\n"
     ]
    },
    {
     "name": "stdout",
     "output_type": "stream",
     "text": [
      "result: [{'type': 'start'}, {'type': 'next_frame'}, {'type': 'next_frame'}, {'type': 'next_frame'}, {'type': 'next_frame'}, {'type': 'next_frame'}, {'type': 'next_frame'}, {'type': 'next_frame'}, {'type': 'next_frame'}, {'type': 'next_frame'}]\n"
     ]
    },
    {
     "name": "stderr",
     "output_type": "stream",
     "text": [
      "100%|██████████| 296/296 [03:05<00:00,  1.60it/s, batch=290, gpu_temp=56, loss=0.938]\n",
      "100%|██████████| 1023/1023 [00:19<00:00, 51.49it/s]\n"
     ]
    },
    {
     "name": "stdout",
     "output_type": "stream",
     "text": [
      "result: [{'type': 'start'}, {'value': 36, 'type': 'pitch'}, {'value': 13, 'type': 'velocity'}, {'value': 60, 'type': 'pitch'}, {'value': 16, 'type': 'velocity'}, {'type': 'next_frame'}, {'type': 'next_frame'}, {'type': 'next_frame'}, {'type': 'next_frame'}, {'value': 43, 'type': 'pitch'}]\n"
     ]
    },
    {
     "name": "stderr",
     "output_type": "stream",
     "text": [
      "100%|██████████| 296/296 [03:10<00:00,  1.56it/s, batch=290, gpu_temp=57, loss=1.13] \n",
      "100%|██████████| 1023/1023 [00:19<00:00, 51.56it/s]\n"
     ]
    },
    {
     "name": "stdout",
     "output_type": "stream",
     "text": [
      "result: [{'type': 'start'}, {'type': 'next_frame'}, {'type': 'next_frame'}, {'type': 'next_frame'}, {'type': 'next_frame'}, {'type': 'next_frame'}, {'type': 'next_frame'}, {'type': 'next_frame'}, {'type': 'next_frame'}, {'type': 'next_frame'}]\n"
     ]
    },
    {
     "name": "stderr",
     "output_type": "stream",
     "text": [
      "100%|██████████| 296/296 [03:19<00:00,  1.49it/s, batch=290, gpu_temp=57, loss=1.09] \n",
      "100%|██████████| 1023/1023 [00:21<00:00, 47.35it/s]\n"
     ]
    },
    {
     "name": "stdout",
     "output_type": "stream",
     "text": [
      "result: [{'type': 'start'}, {'type': 'next_frame'}, {'type': 'next_frame'}, {'type': 'next_frame'}, {'type': 'next_frame'}, {'type': 'next_frame'}, {'type': 'next_frame'}, {'type': 'next_frame'}, {'type': 'next_frame'}, {'type': 'next_frame'}]\n"
     ]
    },
    {
     "name": "stderr",
     "output_type": "stream",
     "text": [
      "100%|██████████| 296/296 [03:27<00:00,  1.43it/s, batch=290, gpu_temp=56, loss=1.11] \n",
      "100%|██████████| 1023/1023 [00:19<00:00, 51.39it/s]\n"
     ]
    },
    {
     "name": "stdout",
     "output_type": "stream",
     "text": [
      "result: [{'type': 'start'}, {'type': 'next_frame'}, {'type': 'next_frame'}, {'type': 'next_frame'}, {'type': 'next_frame'}, {'type': 'next_frame'}, {'type': 'next_frame'}, {'type': 'next_frame'}, {'type': 'next_frame'}, {'type': 'next_frame'}]\n"
     ]
    },
    {
     "name": "stderr",
     "output_type": "stream",
     "text": [
      "100%|██████████| 296/296 [03:26<00:00,  1.44it/s, batch=290, gpu_temp=56, loss=1.09] \n",
      "100%|██████████| 1023/1023 [00:20<00:00, 50.77it/s]\n"
     ]
    },
    {
     "name": "stdout",
     "output_type": "stream",
     "text": [
      "result: [{'type': 'start'}, {'type': 'next_frame'}, {'type': 'next_frame'}, {'type': 'next_frame'}, {'type': 'next_frame'}, {'type': 'next_frame'}, {'type': 'next_frame'}, {'type': 'next_frame'}, {'type': 'next_frame'}, {'type': 'next_frame'}]\n"
     ]
    },
    {
     "name": "stderr",
     "output_type": "stream",
     "text": [
      "100%|██████████| 296/296 [03:24<00:00,  1.45it/s, batch=290, gpu_temp=49, loss=1.11] \n",
      "100%|██████████| 1023/1023 [00:20<00:00, 50.60it/s]\n"
     ]
    },
    {
     "name": "stdout",
     "output_type": "stream",
     "text": [
      "result: [{'type': 'start'}, {'value': 17, 'type': 'pitch'}, {'value': 18, 'type': 'velocity'}, {'value': 29, 'type': 'pitch'}, {'value': 18, 'type': 'velocity'}, {'value': 36, 'type': 'pitch'}, {'value': 16, 'type': 'velocity'}, {'value': 41, 'type': 'pitch'}, {'value': 19, 'type': 'velocity'}, {'value': 72, 'type': 'pitch'}]\n"
     ]
    },
    {
     "name": "stderr",
     "output_type": "stream",
     "text": [
      "100%|██████████| 296/296 [03:24<00:00,  1.45it/s, batch=290, gpu_temp=55, loss=0.861]\n",
      "100%|██████████| 1023/1023 [00:20<00:00, 50.84it/s]\n"
     ]
    },
    {
     "name": "stdout",
     "output_type": "stream",
     "text": [
      "result: [{'type': 'start'}, {'type': 'next_frame'}, {'type': 'next_frame'}, {'type': 'next_frame'}, {'type': 'next_frame'}, {'type': 'next_frame'}, {'type': 'next_frame'}, {'type': 'next_frame'}, {'type': 'next_frame'}, {'type': 'next_frame'}]\n"
     ]
    },
    {
     "name": "stderr",
     "output_type": "stream",
     "text": [
      "100%|██████████| 296/296 [03:26<00:00,  1.43it/s, batch=290, gpu_temp=57, loss=1.06] \n",
      "100%|██████████| 1023/1023 [00:19<00:00, 51.67it/s]\n"
     ]
    },
    {
     "name": "stdout",
     "output_type": "stream",
     "text": [
      "result: [{'type': 'start'}, {'value': 24, 'type': 'pitch'}, {'value': 15, 'type': 'velocity'}, {'value': 31, 'type': 'pitch'}, {'value': 17, 'type': 'velocity'}, {'value': 39, 'type': 'pitch'}, {'value': 19, 'type': 'velocity'}, {'value': 43, 'type': 'pitch'}, {'value': 17, 'type': 'velocity'}, {'value': 46, 'type': 'pitch'}]\n"
     ]
    },
    {
     "name": "stderr",
     "output_type": "stream",
     "text": [
      "100%|██████████| 296/296 [03:27<00:00,  1.42it/s, batch=290, gpu_temp=58, loss=1.11] \n",
      "100%|██████████| 1023/1023 [00:19<00:00, 51.43it/s]\n"
     ]
    },
    {
     "name": "stdout",
     "output_type": "stream",
     "text": [
      "result: [{'type': 'start'}, {'type': 'next_frame'}, {'type': 'next_frame'}, {'type': 'next_frame'}, {'type': 'next_frame'}, {'type': 'next_frame'}, {'type': 'next_frame'}, {'type': 'next_frame'}, {'type': 'next_frame'}, {'type': 'next_frame'}]\n"
     ]
    },
    {
     "name": "stderr",
     "output_type": "stream",
     "text": [
      "100%|██████████| 296/296 [03:25<00:00,  1.44it/s, batch=290, gpu_temp=55, loss=0.95] \n",
      "100%|██████████| 1023/1023 [00:20<00:00, 51.13it/s]\n"
     ]
    },
    {
     "name": "stdout",
     "output_type": "stream",
     "text": [
      "result: [{'type': 'start'}, {'type': 'next_frame'}, {'type': 'next_frame'}, {'type': 'next_frame'}, {'type': 'next_frame'}, {'type': 'next_frame'}, {'type': 'next_frame'}, {'type': 'next_frame'}, {'type': 'next_frame'}, {'type': 'next_frame'}]\n"
     ]
    },
    {
     "name": "stderr",
     "output_type": "stream",
     "text": [
      "100%|██████████| 296/296 [03:24<00:00,  1.45it/s, batch=290, gpu_temp=55, loss=1.16] \n",
      "100%|██████████| 1023/1023 [00:20<00:00, 51.10it/s]\n"
     ]
    },
    {
     "name": "stdout",
     "output_type": "stream",
     "text": [
      "result: [{'type': 'start'}, {'type': 'next_frame'}, {'type': 'next_frame'}, {'type': 'next_frame'}, {'type': 'next_frame'}, {'type': 'next_frame'}, {'type': 'next_frame'}, {'type': 'next_frame'}, {'type': 'next_frame'}, {'type': 'next_frame'}]\n"
     ]
    },
    {
     "name": "stderr",
     "output_type": "stream",
     "text": [
      "100%|██████████| 296/296 [03:26<00:00,  1.43it/s, batch=290, gpu_temp=56, loss=1.14] \n",
      "100%|██████████| 1023/1023 [00:20<00:00, 50.03it/s]\n"
     ]
    },
    {
     "name": "stdout",
     "output_type": "stream",
     "text": [
      "result: [{'type': 'start'}, {'type': 'next_frame'}, {'type': 'next_frame'}, {'type': 'next_frame'}, {'type': 'next_frame'}, {'type': 'next_frame'}, {'type': 'next_frame'}, {'type': 'next_frame'}, {'type': 'next_frame'}, {'type': 'next_frame'}]\n"
     ]
    },
    {
     "name": "stderr",
     "output_type": "stream",
     "text": [
      "100%|██████████| 296/296 [03:29<00:00,  1.41it/s, batch=290, gpu_temp=53, loss=1.03] \n",
      "100%|██████████| 1023/1023 [00:19<00:00, 51.17it/s]\n"
     ]
    },
    {
     "name": "stdout",
     "output_type": "stream",
     "text": [
      "result: [{'type': 'start'}, {'type': 'next_frame'}, {'type': 'next_frame'}, {'type': 'next_frame'}, {'type': 'next_frame'}, {'type': 'next_frame'}, {'type': 'next_frame'}, {'type': 'next_frame'}, {'type': 'next_frame'}, {'type': 'next_frame'}]\n"
     ]
    },
    {
     "name": "stderr",
     "output_type": "stream",
     "text": [
      "100%|██████████| 296/296 [03:26<00:00,  1.44it/s, batch=290, gpu_temp=55, loss=1.16] \n",
      "100%|██████████| 1023/1023 [00:19<00:00, 51.41it/s]\n"
     ]
    },
    {
     "name": "stdout",
     "output_type": "stream",
     "text": [
      "result: [{'type': 'start'}, {'type': 'next_frame'}, {'type': 'next_frame'}, {'type': 'next_frame'}, {'type': 'next_frame'}, {'type': 'next_frame'}, {'type': 'next_frame'}, {'type': 'next_frame'}, {'type': 'next_frame'}, {'type': 'next_frame'}]\n"
     ]
    },
    {
     "name": "stderr",
     "output_type": "stream",
     "text": [
      "100%|██████████| 296/296 [03:26<00:00,  1.43it/s, batch=290, gpu_temp=56, loss=1.07] \n",
      "100%|██████████| 1023/1023 [00:20<00:00, 50.01it/s]\n"
     ]
    },
    {
     "name": "stdout",
     "output_type": "stream",
     "text": [
      "result: [{'type': 'start'}, {'type': 'next_frame'}, {'type': 'next_frame'}, {'type': 'next_frame'}, {'type': 'next_frame'}, {'type': 'next_frame'}, {'type': 'next_frame'}, {'type': 'next_frame'}, {'type': 'next_frame'}, {'type': 'next_frame'}]\n"
     ]
    },
    {
     "name": "stderr",
     "output_type": "stream",
     "text": [
      "100%|██████████| 296/296 [03:28<00:00,  1.42it/s, batch=290, gpu_temp=56, loss=1.04] \n",
      "100%|██████████| 1023/1023 [00:20<00:00, 50.70it/s]\n"
     ]
    },
    {
     "name": "stdout",
     "output_type": "stream",
     "text": [
      "result: [{'type': 'start'}, {'type': 'next_frame'}, {'type': 'next_frame'}, {'type': 'next_frame'}, {'type': 'next_frame'}, {'type': 'next_frame'}, {'type': 'next_frame'}, {'type': 'next_frame'}, {'type': 'next_frame'}, {'type': 'next_frame'}]\n"
     ]
    },
    {
     "name": "stderr",
     "output_type": "stream",
     "text": [
      "100%|██████████| 296/296 [03:28<00:00,  1.42it/s, batch=290, gpu_temp=55, loss=0.88] \n",
      "100%|██████████| 1023/1023 [00:20<00:00, 49.48it/s]\n"
     ]
    },
    {
     "name": "stdout",
     "output_type": "stream",
     "text": [
      "result: [{'type': 'start'}, {'type': 'next_frame'}, {'type': 'next_frame'}, {'type': 'next_frame'}, {'type': 'next_frame'}, {'type': 'next_frame'}, {'type': 'next_frame'}, {'type': 'next_frame'}, {'type': 'next_frame'}, {'type': 'next_frame'}]\n"
     ]
    },
    {
     "name": "stderr",
     "output_type": "stream",
     "text": [
      "100%|██████████| 296/296 [03:26<00:00,  1.43it/s, batch=290, gpu_temp=56, loss=1.08] \n",
      "100%|██████████| 1023/1023 [00:20<00:00, 49.03it/s]\n"
     ]
    },
    {
     "name": "stdout",
     "output_type": "stream",
     "text": [
      "result: [{'type': 'start'}, {'type': 'next_frame'}, {'type': 'next_frame'}, {'type': 'next_frame'}, {'type': 'next_frame'}, {'type': 'next_frame'}, {'type': 'next_frame'}, {'type': 'next_frame'}, {'type': 'next_frame'}, {'type': 'next_frame'}]\n"
     ]
    },
    {
     "name": "stderr",
     "output_type": "stream",
     "text": [
      "100%|██████████| 296/296 [03:26<00:00,  1.44it/s, batch=290, gpu_temp=57, loss=0.837]\n",
      "100%|██████████| 1023/1023 [00:20<00:00, 50.21it/s]\n"
     ]
    },
    {
     "name": "stdout",
     "output_type": "stream",
     "text": [
      "result: [{'type': 'start'}, {'type': 'next_frame'}, {'type': 'next_frame'}, {'type': 'next_frame'}, {'type': 'next_frame'}, {'type': 'next_frame'}, {'type': 'next_frame'}, {'type': 'next_frame'}, {'type': 'next_frame'}, {'type': 'next_frame'}]\n"
     ]
    },
    {
     "name": "stderr",
     "output_type": "stream",
     "text": [
      "100%|██████████| 296/296 [03:25<00:00,  1.44it/s, batch=290, gpu_temp=56, loss=0.92] \n",
      "100%|██████████| 1023/1023 [00:20<00:00, 50.64it/s]\n"
     ]
    },
    {
     "name": "stdout",
     "output_type": "stream",
     "text": [
      "result: [{'type': 'start'}, {'type': 'next_frame'}, {'type': 'next_frame'}, {'type': 'next_frame'}, {'type': 'next_frame'}, {'type': 'next_frame'}, {'type': 'next_frame'}, {'type': 'next_frame'}, {'type': 'next_frame'}, {'type': 'next_frame'}]\n"
     ]
    },
    {
     "name": "stderr",
     "output_type": "stream",
     "text": [
      "100%|██████████| 296/296 [03:29<00:00,  1.41it/s, batch=290, gpu_temp=55, loss=1.06] \n",
      "100%|██████████| 1023/1023 [00:20<00:00, 49.60it/s]\n"
     ]
    },
    {
     "name": "stdout",
     "output_type": "stream",
     "text": [
      "result: [{'type': 'start'}, {'type': 'next_frame'}, {'type': 'next_frame'}, {'type': 'next_frame'}, {'type': 'next_frame'}, {'type': 'next_frame'}, {'type': 'next_frame'}, {'type': 'next_frame'}, {'type': 'next_frame'}, {'type': 'next_frame'}]\n"
     ]
    },
    {
     "name": "stderr",
     "output_type": "stream",
     "text": [
      "100%|██████████| 296/296 [03:28<00:00,  1.42it/s, batch=290, gpu_temp=56, loss=0.862]\n",
      "100%|██████████| 1023/1023 [00:20<00:00, 49.94it/s]\n"
     ]
    },
    {
     "name": "stdout",
     "output_type": "stream",
     "text": [
      "result: [{'type': 'start'}, {'type': 'next_frame'}, {'type': 'next_frame'}, {'type': 'next_frame'}, {'type': 'next_frame'}, {'type': 'next_frame'}, {'type': 'next_frame'}, {'type': 'next_frame'}, {'type': 'next_frame'}, {'type': 'next_frame'}]\n"
     ]
    },
    {
     "name": "stderr",
     "output_type": "stream",
     "text": [
      "100%|██████████| 296/296 [03:26<00:00,  1.43it/s, batch=290, gpu_temp=57, loss=0.95] \n",
      "100%|██████████| 1023/1023 [00:20<00:00, 50.51it/s]\n"
     ]
    },
    {
     "name": "stdout",
     "output_type": "stream",
     "text": [
      "result: [{'type': 'start'}, {'type': 'next_frame'}, {'type': 'next_frame'}, {'type': 'next_frame'}, {'type': 'next_frame'}, {'type': 'next_frame'}, {'type': 'next_frame'}, {'type': 'next_frame'}, {'type': 'next_frame'}, {'type': 'next_frame'}]\n"
     ]
    },
    {
     "name": "stderr",
     "output_type": "stream",
     "text": [
      "100%|██████████| 296/296 [03:26<00:00,  1.43it/s, batch=290, gpu_temp=57, loss=0.924]\n",
      "100%|██████████| 1023/1023 [00:20<00:00, 49.91it/s]\n"
     ]
    },
    {
     "name": "stdout",
     "output_type": "stream",
     "text": [
      "result: [{'type': 'start'}, {'value': 20, 'type': 'pitch'}, {'value': 17, 'type': 'velocity'}, {'value': 32, 'type': 'pitch'}, {'value': 19, 'type': 'velocity'}, {'value': 44, 'type': 'pitch'}, {'value': 19, 'type': 'velocity'}, {'type': 'next_frame'}, {'type': 'next_frame'}, {'type': 'next_frame'}]\n"
     ]
    },
    {
     "name": "stderr",
     "output_type": "stream",
     "text": [
      "100%|██████████| 296/296 [03:24<00:00,  1.45it/s, batch=290, gpu_temp=56, loss=1.05] \n",
      "100%|██████████| 1023/1023 [00:19<00:00, 51.16it/s]\n"
     ]
    },
    {
     "name": "stdout",
     "output_type": "stream",
     "text": [
      "result: [{'type': 'start'}, {'type': 'next_frame'}, {'type': 'next_frame'}, {'type': 'next_frame'}, {'type': 'next_frame'}, {'type': 'next_frame'}, {'type': 'next_frame'}, {'type': 'next_frame'}, {'type': 'next_frame'}, {'type': 'next_frame'}]\n"
     ]
    },
    {
     "name": "stderr",
     "output_type": "stream",
     "text": [
      "100%|██████████| 296/296 [03:27<00:00,  1.43it/s, batch=290, gpu_temp=55, loss=1.12] \n",
      "100%|██████████| 1023/1023 [00:20<00:00, 50.25it/s]\n"
     ]
    },
    {
     "name": "stdout",
     "output_type": "stream",
     "text": [
      "result: [{'type': 'start'}, {'type': 'next_frame'}, {'type': 'next_frame'}, {'type': 'next_frame'}, {'type': 'next_frame'}, {'type': 'next_frame'}, {'type': 'next_frame'}, {'type': 'next_frame'}, {'type': 'next_frame'}, {'type': 'next_frame'}]\n"
     ]
    },
    {
     "name": "stderr",
     "output_type": "stream",
     "text": [
      "100%|██████████| 296/296 [03:27<00:00,  1.42it/s, batch=290, gpu_temp=55, loss=0.939]\n",
      "100%|██████████| 1023/1023 [00:20<00:00, 50.56it/s]\n"
     ]
    },
    {
     "name": "stdout",
     "output_type": "stream",
     "text": [
      "result: [{'type': 'start'}, {'type': 'next_frame'}, {'type': 'next_frame'}, {'type': 'next_frame'}, {'type': 'next_frame'}, {'type': 'next_frame'}, {'type': 'next_frame'}, {'type': 'next_frame'}, {'type': 'next_frame'}, {'type': 'next_frame'}]\n"
     ]
    },
    {
     "name": "stderr",
     "output_type": "stream",
     "text": [
      "100%|██████████| 296/296 [03:27<00:00,  1.43it/s, batch=290, gpu_temp=57, loss=1.01] \n",
      "100%|██████████| 1023/1023 [00:20<00:00, 49.86it/s]\n"
     ]
    },
    {
     "name": "stdout",
     "output_type": "stream",
     "text": [
      "result: [{'type': 'start'}, {'type': 'next_frame'}, {'type': 'next_frame'}, {'type': 'next_frame'}, {'type': 'next_frame'}, {'type': 'next_frame'}, {'type': 'next_frame'}, {'type': 'next_frame'}, {'type': 'next_frame'}, {'type': 'next_frame'}]\n"
     ]
    },
    {
     "name": "stderr",
     "output_type": "stream",
     "text": [
      "100%|██████████| 296/296 [03:27<00:00,  1.43it/s, batch=290, gpu_temp=57, loss=1.02] \n",
      "100%|██████████| 1023/1023 [00:20<00:00, 50.36it/s]\n"
     ]
    },
    {
     "name": "stdout",
     "output_type": "stream",
     "text": [
      "result: [{'type': 'start'}, {'type': 'next_frame'}, {'type': 'next_frame'}, {'type': 'next_frame'}, {'type': 'next_frame'}, {'type': 'next_frame'}, {'type': 'next_frame'}, {'type': 'next_frame'}, {'type': 'next_frame'}, {'type': 'next_frame'}]\n"
     ]
    },
    {
     "name": "stderr",
     "output_type": "stream",
     "text": [
      "100%|██████████| 296/296 [03:29<00:00,  1.41it/s, batch=290, gpu_temp=56, loss=0.998]\n",
      "100%|██████████| 1023/1023 [00:20<00:00, 50.37it/s]\n"
     ]
    },
    {
     "name": "stdout",
     "output_type": "stream",
     "text": [
      "result: [{'type': 'start'}, {'value': 20, 'type': 'pitch'}, {'value': 7, 'type': 'velocity'}, {'value': 24, 'type': 'pitch'}, {'value': 7, 'type': 'velocity'}, {'value': 27, 'type': 'pitch'}, {'value': 10, 'type': 'velocity'}, {'value': 31, 'type': 'pitch'}, {'value': 12, 'type': 'velocity'}, {'value': 39, 'type': 'pitch'}]\n"
     ]
    },
    {
     "name": "stderr",
     "output_type": "stream",
     "text": [
      "100%|██████████| 296/296 [03:29<00:00,  1.41it/s, batch=290, gpu_temp=51, loss=0.961]\n",
      "100%|██████████| 1023/1023 [00:20<00:00, 50.75it/s]\n"
     ]
    },
    {
     "name": "stdout",
     "output_type": "stream",
     "text": [
      "result: [{'type': 'start'}, {'type': 'next_frame'}, {'type': 'next_frame'}, {'type': 'next_frame'}, {'type': 'next_frame'}, {'type': 'next_frame'}, {'type': 'next_frame'}, {'type': 'next_frame'}, {'type': 'next_frame'}, {'type': 'next_frame'}]\n"
     ]
    },
    {
     "name": "stderr",
     "output_type": "stream",
     "text": [
      "100%|██████████| 296/296 [03:26<00:00,  1.43it/s, batch=290, gpu_temp=56, loss=0.882]\n",
      "100%|██████████| 1023/1023 [00:20<00:00, 50.56it/s]\n"
     ]
    },
    {
     "name": "stdout",
     "output_type": "stream",
     "text": [
      "result: [{'type': 'start'}, {'type': 'next_frame'}, {'type': 'next_frame'}, {'type': 'next_frame'}, {'type': 'next_frame'}, {'type': 'next_frame'}, {'type': 'next_frame'}, {'type': 'next_frame'}, {'type': 'next_frame'}, {'type': 'next_frame'}]\n"
     ]
    },
    {
     "name": "stderr",
     "output_type": "stream",
     "text": [
      "100%|██████████| 296/296 [03:25<00:00,  1.44it/s, batch=290, gpu_temp=58, loss=0.96] \n",
      "100%|██████████| 1023/1023 [00:20<00:00, 50.69it/s]\n"
     ]
    },
    {
     "name": "stdout",
     "output_type": "stream",
     "text": [
      "result: [{'type': 'start'}, {'type': 'next_frame'}, {'type': 'next_frame'}, {'type': 'next_frame'}, {'type': 'next_frame'}, {'type': 'next_frame'}, {'type': 'next_frame'}, {'type': 'next_frame'}, {'type': 'next_frame'}, {'type': 'next_frame'}]\n"
     ]
    },
    {
     "name": "stderr",
     "output_type": "stream",
     "text": [
      "100%|██████████| 296/296 [03:36<00:00,  1.37it/s, batch=290, gpu_temp=52, loss=0.892]\n",
      "100%|██████████| 1023/1023 [00:20<00:00, 49.96it/s]\n"
     ]
    },
    {
     "name": "stdout",
     "output_type": "stream",
     "text": [
      "result: [{'type': 'start'}, {'type': 'next_frame'}, {'type': 'next_frame'}, {'type': 'next_frame'}, {'type': 'next_frame'}, {'type': 'next_frame'}, {'type': 'next_frame'}, {'type': 'next_frame'}, {'type': 'next_frame'}, {'type': 'next_frame'}]\n"
     ]
    },
    {
     "name": "stderr",
     "output_type": "stream",
     "text": [
      "100%|██████████| 296/296 [03:25<00:00,  1.44it/s, batch=290, gpu_temp=54, loss=1.06] \n",
      "100%|██████████| 1023/1023 [00:20<00:00, 51.00it/s]\n"
     ]
    },
    {
     "name": "stdout",
     "output_type": "stream",
     "text": [
      "result: [{'type': 'start'}, {'type': 'next_frame'}, {'type': 'next_frame'}, {'type': 'next_frame'}, {'type': 'next_frame'}, {'type': 'next_frame'}, {'type': 'next_frame'}, {'type': 'next_frame'}, {'type': 'next_frame'}, {'type': 'next_frame'}]\n"
     ]
    },
    {
     "name": "stderr",
     "output_type": "stream",
     "text": [
      "100%|██████████| 296/296 [03:24<00:00,  1.44it/s, batch=290, gpu_temp=55, loss=1.11] \n",
      "100%|██████████| 1023/1023 [00:20<00:00, 50.45it/s]\n"
     ]
    },
    {
     "name": "stdout",
     "output_type": "stream",
     "text": [
      "result: [{'type': 'start'}, {'type': 'next_frame'}, {'type': 'next_frame'}, {'type': 'next_frame'}, {'type': 'next_frame'}, {'type': 'next_frame'}, {'type': 'next_frame'}, {'type': 'next_frame'}, {'type': 'next_frame'}, {'type': 'next_frame'}]\n"
     ]
    },
    {
     "name": "stderr",
     "output_type": "stream",
     "text": [
      "100%|██████████| 296/296 [03:28<00:00,  1.42it/s, batch=290, gpu_temp=55, loss=0.972]\n",
      "100%|██████████| 1023/1023 [00:20<00:00, 49.76it/s]\n"
     ]
    },
    {
     "name": "stdout",
     "output_type": "stream",
     "text": [
      "result: [{'type': 'start'}, {'value': 15, 'type': 'pitch'}, {'value': 21, 'type': 'velocity'}, {'value': 27, 'type': 'pitch'}, {'value': 24, 'type': 'velocity'}, {'value': 43, 'type': 'pitch'}, {'value': 21, 'type': 'velocity'}, {'value': 46, 'type': 'pitch'}, {'value': 22, 'type': 'velocity'}, {'value': 51, 'type': 'pitch'}]\n"
     ]
    },
    {
     "name": "stderr",
     "output_type": "stream",
     "text": [
      "100%|██████████| 296/296 [03:26<00:00,  1.43it/s, batch=290, gpu_temp=56, loss=0.937]\n",
      "100%|██████████| 1023/1023 [00:20<00:00, 49.35it/s]\n"
     ]
    },
    {
     "name": "stdout",
     "output_type": "stream",
     "text": [
      "result: [{'type': 'start'}, {'type': 'next_frame'}, {'type': 'next_frame'}, {'type': 'next_frame'}, {'type': 'next_frame'}, {'type': 'next_frame'}, {'type': 'next_frame'}, {'type': 'next_frame'}, {'type': 'next_frame'}, {'type': 'next_frame'}]\n"
     ]
    },
    {
     "name": "stderr",
     "output_type": "stream",
     "text": [
      "100%|██████████| 296/296 [03:25<00:00,  1.44it/s, batch=290, gpu_temp=57, loss=0.942]\n",
      "100%|██████████| 1023/1023 [00:20<00:00, 48.97it/s]\n"
     ]
    },
    {
     "name": "stdout",
     "output_type": "stream",
     "text": [
      "result: [{'type': 'start'}, {'type': 'next_frame'}, {'type': 'next_frame'}, {'type': 'next_frame'}, {'type': 'next_frame'}, {'type': 'next_frame'}, {'type': 'next_frame'}, {'type': 'next_frame'}, {'type': 'next_frame'}, {'type': 'next_frame'}]\n"
     ]
    },
    {
     "name": "stderr",
     "output_type": "stream",
     "text": [
      "100%|██████████| 296/296 [03:25<00:00,  1.44it/s, batch=290, gpu_temp=57, loss=0.918]\n",
      "100%|██████████| 1023/1023 [00:20<00:00, 49.56it/s]\n"
     ]
    },
    {
     "name": "stdout",
     "output_type": "stream",
     "text": [
      "result: [{'type': 'start'}, {'type': 'next_frame'}, {'type': 'next_frame'}, {'type': 'next_frame'}, {'type': 'next_frame'}, {'type': 'next_frame'}, {'type': 'next_frame'}, {'type': 'next_frame'}, {'type': 'next_frame'}, {'type': 'next_frame'}]\n"
     ]
    },
    {
     "name": "stderr",
     "output_type": "stream",
     "text": [
      "100%|██████████| 296/296 [03:25<00:00,  1.44it/s, batch=290, gpu_temp=56, loss=0.857]\n",
      "100%|██████████| 1023/1023 [00:20<00:00, 49.10it/s]\n"
     ]
    },
    {
     "name": "stdout",
     "output_type": "stream",
     "text": [
      "result: [{'type': 'start'}, {'type': 'next_frame'}, {'type': 'next_frame'}, {'type': 'next_frame'}, {'type': 'next_frame'}, {'type': 'next_frame'}, {'type': 'next_frame'}, {'type': 'next_frame'}, {'type': 'next_frame'}, {'type': 'next_frame'}]\n"
     ]
    },
    {
     "name": "stderr",
     "output_type": "stream",
     "text": [
      "100%|██████████| 296/296 [03:28<00:00,  1.42it/s, batch=290, gpu_temp=58, loss=0.903]\n",
      "100%|██████████| 1023/1023 [00:21<00:00, 48.59it/s]\n"
     ]
    },
    {
     "name": "stdout",
     "output_type": "stream",
     "text": [
      "result: [{'type': 'start'}, {'type': 'next_frame'}, {'type': 'next_frame'}, {'type': 'next_frame'}, {'type': 'next_frame'}, {'type': 'next_frame'}, {'type': 'next_frame'}, {'type': 'next_frame'}, {'type': 'next_frame'}, {'type': 'next_frame'}]\n"
     ]
    },
    {
     "name": "stderr",
     "output_type": "stream",
     "text": [
      "100%|██████████| 296/296 [03:31<00:00,  1.40it/s, batch=290, gpu_temp=56, loss=0.897]\n",
      "100%|██████████| 1023/1023 [00:20<00:00, 49.80it/s]\n"
     ]
    },
    {
     "name": "stdout",
     "output_type": "stream",
     "text": [
      "result: [{'type': 'start'}, {'type': 'next_frame'}, {'type': 'next_frame'}, {'type': 'next_frame'}, {'type': 'next_frame'}, {'type': 'next_frame'}, {'type': 'next_frame'}, {'type': 'next_frame'}, {'type': 'next_frame'}, {'type': 'next_frame'}]\n"
     ]
    },
    {
     "name": "stderr",
     "output_type": "stream",
     "text": [
      "100%|██████████| 296/296 [03:28<00:00,  1.42it/s, batch=290, gpu_temp=56, loss=0.888]\n",
      "100%|██████████| 1023/1023 [00:21<00:00, 48.14it/s]\n"
     ]
    },
    {
     "name": "stdout",
     "output_type": "stream",
     "text": [
      "result: [{'type': 'start'}, {'type': 'next_frame'}, {'type': 'next_frame'}, {'type': 'next_frame'}, {'type': 'next_frame'}, {'type': 'next_frame'}, {'type': 'next_frame'}, {'type': 'next_frame'}, {'type': 'next_frame'}, {'type': 'next_frame'}]\n"
     ]
    },
    {
     "name": "stderr",
     "output_type": "stream",
     "text": [
      "100%|██████████| 296/296 [02:36<00:00,  1.89it/s, batch=290, gpu_temp=61, loss=0.838]\n",
      "100%|██████████| 1023/1023 [00:15<00:00, 67.50it/s]\n"
     ]
    },
    {
     "name": "stdout",
     "output_type": "stream",
     "text": [
      "result: [{'type': 'start'}, {'type': 'next_frame'}, {'type': 'next_frame'}, {'type': 'next_frame'}, {'type': 'next_frame'}, {'type': 'next_frame'}, {'type': 'next_frame'}, {'type': 'next_frame'}, {'type': 'next_frame'}, {'type': 'next_frame'}]\n"
     ]
    },
    {
     "name": "stderr",
     "output_type": "stream",
     "text": [
      "100%|██████████| 296/296 [02:11<00:00,  2.25it/s, batch=290, gpu_temp=57, loss=0.87] \n",
      "100%|██████████| 1023/1023 [00:14<00:00, 69.51it/s]\n"
     ]
    },
    {
     "name": "stdout",
     "output_type": "stream",
     "text": [
      "result: [{'type': 'start'}, {'type': 'next_frame'}, {'type': 'next_frame'}, {'type': 'next_frame'}, {'type': 'next_frame'}, {'type': 'next_frame'}, {'type': 'next_frame'}, {'type': 'next_frame'}, {'type': 'next_frame'}, {'type': 'next_frame'}]\n"
     ]
    },
    {
     "name": "stderr",
     "output_type": "stream",
     "text": [
      "100%|██████████| 296/296 [02:17<00:00,  2.15it/s, batch=290, gpu_temp=62, loss=0.827]\n",
      "100%|██████████| 1023/1023 [00:14<00:00, 70.02it/s]\n"
     ]
    },
    {
     "name": "stdout",
     "output_type": "stream",
     "text": [
      "result: [{'type': 'start'}, {'type': 'next_frame'}, {'type': 'next_frame'}, {'type': 'next_frame'}, {'type': 'next_frame'}, {'type': 'next_frame'}, {'type': 'next_frame'}, {'type': 'next_frame'}, {'type': 'next_frame'}, {'type': 'next_frame'}]\n"
     ]
    },
    {
     "name": "stderr",
     "output_type": "stream",
     "text": [
      "100%|██████████| 296/296 [02:20<00:00,  2.11it/s, batch=290, gpu_temp=62, loss=0.907]\n",
      "100%|██████████| 1023/1023 [00:15<00:00, 66.66it/s]\n"
     ]
    },
    {
     "name": "stdout",
     "output_type": "stream",
     "text": [
      "result: [{'type': 'start'}, {'value': 20, 'type': 'pitch'}, {'value': 9, 'type': 'velocity'}, {'value': 32, 'type': 'pitch'}, {'value': 10, 'type': 'velocity'}, {'value': 51, 'type': 'pitch'}, {'value': 16, 'type': 'velocity'}, {'value': 60, 'type': 'pitch'}, {'value': 18, 'type': 'velocity'}, {'type': 'next_frame'}]\n"
     ]
    },
    {
     "name": "stderr",
     "output_type": "stream",
     "text": [
      "100%|██████████| 296/296 [02:18<00:00,  2.13it/s, batch=290, gpu_temp=62, loss=0.835]\n",
      "100%|██████████| 1023/1023 [00:14<00:00, 72.20it/s]\n"
     ]
    },
    {
     "name": "stdout",
     "output_type": "stream",
     "text": [
      "result: [{'type': 'start'}, {'type': 'next_frame'}, {'type': 'next_frame'}, {'type': 'next_frame'}, {'type': 'next_frame'}, {'type': 'next_frame'}, {'type': 'next_frame'}, {'type': 'next_frame'}, {'type': 'next_frame'}, {'type': 'next_frame'}]\n"
     ]
    },
    {
     "name": "stderr",
     "output_type": "stream",
     "text": [
      "100%|██████████| 296/296 [02:17<00:00,  2.16it/s, batch=290, gpu_temp=61, loss=0.846]\n",
      "100%|██████████| 1023/1023 [00:14<00:00, 71.93it/s]\n"
     ]
    },
    {
     "name": "stdout",
     "output_type": "stream",
     "text": [
      "result: [{'type': 'start'}, {'type': 'next_frame'}, {'type': 'next_frame'}, {'type': 'next_frame'}, {'type': 'next_frame'}, {'type': 'next_frame'}, {'type': 'next_frame'}, {'type': 'next_frame'}, {'type': 'next_frame'}, {'type': 'next_frame'}]\n"
     ]
    },
    {
     "name": "stderr",
     "output_type": "stream",
     "text": [
      "100%|██████████| 296/296 [02:18<00:00,  2.14it/s, batch=290, gpu_temp=61, loss=0.946]\n",
      "100%|██████████| 1023/1023 [00:14<00:00, 71.59it/s]\n"
     ]
    },
    {
     "name": "stdout",
     "output_type": "stream",
     "text": [
      "result: [{'type': 'start'}, {'type': 'next_frame'}, {'type': 'next_frame'}, {'type': 'next_frame'}, {'type': 'next_frame'}, {'type': 'next_frame'}, {'type': 'next_frame'}, {'type': 'next_frame'}, {'type': 'next_frame'}, {'type': 'next_frame'}]\n"
     ]
    },
    {
     "name": "stderr",
     "output_type": "stream",
     "text": [
      "100%|██████████| 296/296 [02:19<00:00,  2.13it/s, batch=290, gpu_temp=61, loss=0.899]\n",
      "100%|██████████| 1023/1023 [00:14<00:00, 69.79it/s]\n"
     ]
    },
    {
     "name": "stdout",
     "output_type": "stream",
     "text": [
      "result: [{'type': 'start'}, {'type': 'next_frame'}, {'type': 'next_frame'}, {'type': 'next_frame'}, {'type': 'next_frame'}, {'type': 'next_frame'}, {'type': 'next_frame'}, {'type': 'next_frame'}, {'type': 'next_frame'}, {'type': 'next_frame'}]\n"
     ]
    },
    {
     "name": "stderr",
     "output_type": "stream",
     "text": [
      "100%|██████████| 296/296 [02:17<00:00,  2.16it/s, batch=290, gpu_temp=57, loss=0.893]\n",
      "100%|██████████| 1023/1023 [00:13<00:00, 77.45it/s]\n"
     ]
    },
    {
     "name": "stdout",
     "output_type": "stream",
     "text": [
      "result: [{'type': 'start'}, {'type': 'next_frame'}, {'type': 'next_frame'}, {'type': 'next_frame'}, {'type': 'next_frame'}, {'type': 'next_frame'}, {'type': 'next_frame'}, {'type': 'next_frame'}, {'type': 'next_frame'}, {'value': 19, 'type': 'pitch'}]\n"
     ]
    },
    {
     "name": "stderr",
     "output_type": "stream",
     "text": [
      "100%|██████████| 296/296 [02:03<00:00,  2.40it/s, batch=290, gpu_temp=57, loss=0.968]\n",
      "100%|██████████| 1023/1023 [00:13<00:00, 76.54it/s]\n"
     ]
    },
    {
     "name": "stdout",
     "output_type": "stream",
     "text": [
      "result: [{'type': 'start'}, {'type': 'next_frame'}, {'type': 'next_frame'}, {'type': 'next_frame'}, {'type': 'next_frame'}, {'type': 'next_frame'}, {'type': 'next_frame'}, {'type': 'next_frame'}, {'type': 'next_frame'}, {'type': 'next_frame'}]\n"
     ]
    },
    {
     "name": "stderr",
     "output_type": "stream",
     "text": [
      "100%|██████████| 296/296 [02:03<00:00,  2.39it/s, batch=290, gpu_temp=57, loss=0.859]\n",
      "100%|██████████| 1023/1023 [00:13<00:00, 75.05it/s]\n"
     ]
    },
    {
     "name": "stdout",
     "output_type": "stream",
     "text": [
      "result: [{'type': 'start'}, {'type': 'next_frame'}, {'type': 'next_frame'}, {'type': 'next_frame'}, {'type': 'next_frame'}, {'type': 'next_frame'}, {'type': 'next_frame'}, {'type': 'next_frame'}, {'type': 'next_frame'}, {'type': 'next_frame'}]\n"
     ]
    },
    {
     "name": "stderr",
     "output_type": "stream",
     "text": [
      "100%|██████████| 296/296 [02:03<00:00,  2.39it/s, batch=290, gpu_temp=62, loss=0.946]\n",
      "100%|██████████| 1023/1023 [00:13<00:00, 75.05it/s]\n"
     ]
    },
    {
     "name": "stdout",
     "output_type": "stream",
     "text": [
      "result: [{'type': 'start'}, {'value': 15, 'type': 'pitch'}, {'value': 19, 'type': 'velocity'}, {'value': 27, 'type': 'pitch'}, {'value': 18, 'type': 'velocity'}, {'value': 34, 'type': 'pitch'}, {'value': 20, 'type': 'velocity'}, {'value': 39, 'type': 'pitch'}, {'value': 17, 'type': 'velocity'}, {'value': 43, 'type': 'pitch'}]\n"
     ]
    },
    {
     "name": "stderr",
     "output_type": "stream",
     "text": [
      "100%|██████████| 296/296 [02:03<00:00,  2.39it/s, batch=290, gpu_temp=57, loss=1.02] \n",
      "100%|██████████| 1023/1023 [00:13<00:00, 78.09it/s]\n"
     ]
    },
    {
     "name": "stdout",
     "output_type": "stream",
     "text": [
      "result: [{'type': 'start'}, {'type': 'next_frame'}, {'type': 'next_frame'}, {'type': 'next_frame'}, {'type': 'next_frame'}, {'type': 'next_frame'}, {'type': 'next_frame'}, {'type': 'next_frame'}, {'type': 'next_frame'}, {'type': 'next_frame'}]\n"
     ]
    },
    {
     "name": "stderr",
     "output_type": "stream",
     "text": [
      "100%|██████████| 296/296 [02:04<00:00,  2.38it/s, batch=290, gpu_temp=57, loss=0.775]\n",
      "100%|██████████| 1023/1023 [00:13<00:00, 74.76it/s]\n"
     ]
    },
    {
     "name": "stdout",
     "output_type": "stream",
     "text": [
      "result: [{'type': 'start'}, {'value': 27, 'type': 'pitch'}, {'value': 17, 'type': 'velocity'}, {'type': 'next_frame'}, {'type': 'next_frame'}, {'type': 'next_frame'}, {'type': 'next_frame'}, {'value': 34, 'type': 'pitch'}, {'value': 16, 'type': 'velocity'}, {'type': 'next_frame'}]\n"
     ]
    },
    {
     "name": "stderr",
     "output_type": "stream",
     "text": [
      "100%|██████████| 296/296 [02:04<00:00,  2.38it/s, batch=290, gpu_temp=59, loss=1.02] \n",
      "100%|██████████| 1023/1023 [00:13<00:00, 76.00it/s]\n"
     ]
    },
    {
     "name": "stdout",
     "output_type": "stream",
     "text": [
      "result: [{'type': 'start'}, {'type': 'next_frame'}, {'type': 'next_frame'}, {'type': 'next_frame'}, {'type': 'next_frame'}, {'type': 'next_frame'}, {'type': 'next_frame'}, {'type': 'next_frame'}, {'type': 'next_frame'}, {'type': 'next_frame'}]\n"
     ]
    },
    {
     "name": "stderr",
     "output_type": "stream",
     "text": [
      "100%|██████████| 296/296 [02:03<00:00,  2.39it/s, batch=290, gpu_temp=57, loss=1.02] \n",
      "100%|██████████| 1023/1023 [00:13<00:00, 74.49it/s]\n"
     ]
    },
    {
     "name": "stdout",
     "output_type": "stream",
     "text": [
      "result: [{'type': 'start'}, {'type': 'next_frame'}, {'type': 'next_frame'}, {'type': 'next_frame'}, {'type': 'next_frame'}, {'type': 'next_frame'}, {'type': 'next_frame'}, {'type': 'next_frame'}, {'type': 'next_frame'}, {'type': 'next_frame'}]\n"
     ]
    },
    {
     "name": "stderr",
     "output_type": "stream",
     "text": [
      "100%|██████████| 296/296 [02:04<00:00,  2.37it/s, batch=290, gpu_temp=62, loss=0.809]\n",
      "100%|██████████| 1023/1023 [00:13<00:00, 75.52it/s]\n"
     ]
    },
    {
     "name": "stdout",
     "output_type": "stream",
     "text": [
      "result: [{'type': 'start'}, {'type': 'next_frame'}, {'type': 'next_frame'}, {'type': 'next_frame'}, {'type': 'next_frame'}, {'type': 'next_frame'}, {'type': 'next_frame'}, {'type': 'next_frame'}, {'type': 'next_frame'}, {'type': 'next_frame'}]\n"
     ]
    },
    {
     "name": "stderr",
     "output_type": "stream",
     "text": [
      "100%|██████████| 296/296 [02:04<00:00,  2.38it/s, batch=290, gpu_temp=63, loss=0.84] \n",
      "100%|██████████| 1023/1023 [00:13<00:00, 75.86it/s]\n"
     ]
    },
    {
     "name": "stdout",
     "output_type": "stream",
     "text": [
      "result: [{'type': 'start'}, {'type': 'next_frame'}, {'type': 'next_frame'}, {'type': 'next_frame'}, {'type': 'next_frame'}, {'type': 'next_frame'}, {'type': 'next_frame'}, {'type': 'next_frame'}, {'type': 'next_frame'}, {'type': 'next_frame'}]\n"
     ]
    },
    {
     "name": "stderr",
     "output_type": "stream",
     "text": [
      "100%|██████████| 296/296 [02:08<00:00,  2.30it/s, batch=290, gpu_temp=61, loss=0.837]\n",
      "100%|██████████| 1023/1023 [00:13<00:00, 78.01it/s]\n"
     ]
    },
    {
     "name": "stdout",
     "output_type": "stream",
     "text": [
      "result: [{'type': 'start'}, {'value': 24, 'type': 'pitch'}, {'value': 18, 'type': 'velocity'}, {'value': 63, 'type': 'pitch'}, {'value': 23, 'type': 'velocity'}, {'type': 'next_frame'}, {'type': 'next_frame'}, {'type': 'next_frame'}, {'type': 'next_frame'}, {'value': 31, 'type': 'pitch'}]\n"
     ]
    },
    {
     "name": "stderr",
     "output_type": "stream",
     "text": [
      "100%|██████████| 296/296 [02:02<00:00,  2.41it/s, batch=290, gpu_temp=57, loss=0.884]\n",
      "100%|██████████| 1023/1023 [00:13<00:00, 76.67it/s]\n"
     ]
    },
    {
     "name": "stdout",
     "output_type": "stream",
     "text": [
      "result: [{'type': 'start'}, {'type': 'next_frame'}, {'type': 'next_frame'}, {'type': 'next_frame'}, {'type': 'next_frame'}, {'type': 'next_frame'}, {'type': 'next_frame'}, {'type': 'next_frame'}, {'type': 'next_frame'}, {'type': 'next_frame'}]\n"
     ]
    },
    {
     "name": "stderr",
     "output_type": "stream",
     "text": [
      "100%|██████████| 296/296 [02:03<00:00,  2.39it/s, batch=290, gpu_temp=64, loss=0.773]\n",
      "100%|██████████| 1023/1023 [00:13<00:00, 75.85it/s]\n"
     ]
    },
    {
     "name": "stdout",
     "output_type": "stream",
     "text": [
      "result: [{'type': 'start'}, {'type': 'next_frame'}, {'type': 'next_frame'}, {'type': 'next_frame'}, {'type': 'next_frame'}, {'type': 'next_frame'}, {'type': 'next_frame'}, {'type': 'next_frame'}, {'type': 'next_frame'}, {'type': 'next_frame'}]\n"
     ]
    },
    {
     "name": "stderr",
     "output_type": "stream",
     "text": [
      "100%|██████████| 296/296 [02:05<00:00,  2.37it/s, batch=290, gpu_temp=63, loss=0.869]\n",
      "100%|██████████| 1023/1023 [00:13<00:00, 75.78it/s]\n"
     ]
    },
    {
     "name": "stdout",
     "output_type": "stream",
     "text": [
      "result: [{'type': 'start'}, {'type': 'next_frame'}, {'type': 'next_frame'}, {'type': 'next_frame'}, {'type': 'next_frame'}, {'type': 'next_frame'}, {'type': 'next_frame'}, {'type': 'next_frame'}, {'type': 'next_frame'}, {'type': 'next_frame'}]\n"
     ]
    },
    {
     "name": "stderr",
     "output_type": "stream",
     "text": [
      "100%|██████████| 296/296 [02:04<00:00,  2.38it/s, batch=290, gpu_temp=57, loss=0.873]\n",
      "100%|██████████| 1023/1023 [00:13<00:00, 75.50it/s]\n"
     ]
    },
    {
     "name": "stdout",
     "output_type": "stream",
     "text": [
      "result: [{'type': 'start'}, {'type': 'next_frame'}, {'type': 'next_frame'}, {'type': 'next_frame'}, {'type': 'next_frame'}, {'type': 'next_frame'}, {'type': 'next_frame'}, {'type': 'next_frame'}, {'type': 'next_frame'}, {'type': 'next_frame'}]\n"
     ]
    },
    {
     "name": "stderr",
     "output_type": "stream",
     "text": [
      "100%|██████████| 296/296 [02:04<00:00,  2.38it/s, batch=290, gpu_temp=63, loss=1.02] \n",
      "100%|██████████| 1023/1023 [00:13<00:00, 74.70it/s]\n"
     ]
    },
    {
     "name": "stdout",
     "output_type": "stream",
     "text": [
      "result: [{'type': 'start'}, {'type': 'next_frame'}, {'type': 'next_frame'}, {'type': 'next_frame'}, {'type': 'next_frame'}, {'type': 'next_frame'}, {'type': 'next_frame'}, {'type': 'next_frame'}, {'type': 'next_frame'}, {'type': 'next_frame'}]\n"
     ]
    },
    {
     "name": "stderr",
     "output_type": "stream",
     "text": [
      "100%|██████████| 296/296 [02:04<00:00,  2.38it/s, batch=290, gpu_temp=62, loss=0.823]\n",
      "100%|██████████| 1023/1023 [00:13<00:00, 74.93it/s]\n"
     ]
    },
    {
     "name": "stdout",
     "output_type": "stream",
     "text": [
      "result: [{'type': 'start'}, {'type': 'next_frame'}, {'type': 'next_frame'}, {'type': 'next_frame'}, {'type': 'next_frame'}, {'type': 'next_frame'}, {'type': 'next_frame'}, {'type': 'next_frame'}, {'type': 'next_frame'}, {'type': 'next_frame'}]\n"
     ]
    },
    {
     "name": "stderr",
     "output_type": "stream",
     "text": [
      "100%|██████████| 296/296 [02:04<00:00,  2.38it/s, batch=290, gpu_temp=58, loss=1.11] \n",
      "100%|██████████| 1023/1023 [00:13<00:00, 73.79it/s]\n"
     ]
    },
    {
     "name": "stdout",
     "output_type": "stream",
     "text": [
      "result: [{'type': 'start'}, {'type': 'next_frame'}, {'type': 'next_frame'}, {'type': 'next_frame'}, {'type': 'next_frame'}, {'type': 'next_frame'}, {'type': 'next_frame'}, {'type': 'next_frame'}, {'type': 'next_frame'}, {'value': 39, 'type': 'pitch'}]\n"
     ]
    },
    {
     "name": "stderr",
     "output_type": "stream",
     "text": [
      "100%|██████████| 296/296 [02:03<00:00,  2.39it/s, batch=290, gpu_temp=58, loss=0.738]\n",
      "100%|██████████| 1023/1023 [00:13<00:00, 73.97it/s]\n"
     ]
    },
    {
     "name": "stdout",
     "output_type": "stream",
     "text": [
      "result: [{'type': 'start'}, {'type': 'next_frame'}, {'type': 'next_frame'}, {'type': 'next_frame'}, {'type': 'next_frame'}, {'type': 'next_frame'}, {'type': 'next_frame'}, {'type': 'next_frame'}, {'type': 'next_frame'}, {'type': 'next_frame'}]\n"
     ]
    },
    {
     "name": "stderr",
     "output_type": "stream",
     "text": [
      "100%|██████████| 296/296 [02:02<00:00,  2.41it/s, batch=290, gpu_temp=57, loss=0.807]\n",
      "100%|██████████| 1023/1023 [00:13<00:00, 73.75it/s]\n"
     ]
    },
    {
     "name": "stdout",
     "output_type": "stream",
     "text": [
      "result: [{'type': 'start'}, {'type': 'next_frame'}, {'type': 'next_frame'}, {'type': 'next_frame'}, {'type': 'next_frame'}, {'type': 'next_frame'}, {'type': 'next_frame'}, {'type': 'next_frame'}, {'type': 'next_frame'}, {'type': 'next_frame'}]\n"
     ]
    },
    {
     "name": "stderr",
     "output_type": "stream",
     "text": [
      "100%|██████████| 296/296 [02:04<00:00,  2.39it/s, batch=290, gpu_temp=58, loss=0.91] \n",
      "100%|██████████| 1023/1023 [00:13<00:00, 75.12it/s]\n"
     ]
    },
    {
     "name": "stdout",
     "output_type": "stream",
     "text": [
      "result: [{'type': 'start'}, {'value': 36, 'type': 'pitch'}, {'value': 6, 'type': 'velocity'}, {'value': 39, 'type': 'pitch'}, {'value': 8, 'type': 'velocity'}, {'value': 50, 'type': 'pitch'}, {'value': 10, 'type': 'velocity'}, {'type': 'next_frame'}, {'type': 'next_frame'}, {'type': 'next_frame'}]\n"
     ]
    },
    {
     "name": "stderr",
     "output_type": "stream",
     "text": [
      "100%|██████████| 296/296 [02:03<00:00,  2.39it/s, batch=290, gpu_temp=62, loss=0.911]\n",
      "100%|██████████| 1023/1023 [00:13<00:00, 75.03it/s]\n"
     ]
    },
    {
     "name": "stdout",
     "output_type": "stream",
     "text": [
      "result: [{'type': 'start'}, {'type': 'next_frame'}, {'type': 'next_frame'}, {'type': 'next_frame'}, {'type': 'next_frame'}, {'type': 'next_frame'}, {'type': 'next_frame'}, {'type': 'next_frame'}, {'type': 'next_frame'}, {'type': 'next_frame'}]\n"
     ]
    },
    {
     "name": "stderr",
     "output_type": "stream",
     "text": [
      "100%|██████████| 296/296 [02:04<00:00,  2.38it/s, batch=290, gpu_temp=63, loss=0.926]\n",
      "100%|██████████| 1023/1023 [00:13<00:00, 75.97it/s]\n"
     ]
    },
    {
     "name": "stdout",
     "output_type": "stream",
     "text": [
      "result: [{'type': 'start'}, {'type': 'next_frame'}, {'type': 'next_frame'}, {'type': 'next_frame'}, {'type': 'next_frame'}, {'type': 'next_frame'}, {'type': 'next_frame'}, {'type': 'next_frame'}, {'type': 'next_frame'}, {'type': 'next_frame'}]\n"
     ]
    },
    {
     "name": "stderr",
     "output_type": "stream",
     "text": [
      "100%|██████████| 296/296 [02:05<00:00,  2.35it/s, batch=290, gpu_temp=57, loss=0.887]\n",
      "100%|██████████| 1023/1023 [00:14<00:00, 72.83it/s]\n"
     ]
    },
    {
     "name": "stdout",
     "output_type": "stream",
     "text": [
      "result: [{'type': 'start'}, {'type': 'next_frame'}, {'type': 'next_frame'}, {'type': 'next_frame'}, {'type': 'next_frame'}, {'type': 'next_frame'}, {'type': 'next_frame'}, {'type': 'next_frame'}, {'type': 'next_frame'}, {'type': 'next_frame'}]\n"
     ]
    },
    {
     "name": "stderr",
     "output_type": "stream",
     "text": [
      "100%|██████████| 296/296 [02:04<00:00,  2.37it/s, batch=290, gpu_temp=57, loss=0.752]\n",
      "100%|██████████| 1023/1023 [00:13<00:00, 74.85it/s]\n"
     ]
    },
    {
     "name": "stdout",
     "output_type": "stream",
     "text": [
      "result: [{'type': 'start'}, {'type': 'next_frame'}, {'type': 'next_frame'}, {'type': 'next_frame'}, {'type': 'next_frame'}, {'type': 'next_frame'}, {'type': 'next_frame'}, {'type': 'next_frame'}, {'type': 'next_frame'}, {'type': 'next_frame'}]\n"
     ]
    },
    {
     "name": "stderr",
     "output_type": "stream",
     "text": [
      "100%|██████████| 296/296 [02:05<00:00,  2.36it/s, batch=290, gpu_temp=62, loss=0.942]\n",
      "100%|██████████| 1023/1023 [00:13<00:00, 73.63it/s]\n"
     ]
    },
    {
     "name": "stdout",
     "output_type": "stream",
     "text": [
      "result: [{'type': 'start'}, {'type': 'next_frame'}, {'type': 'next_frame'}, {'type': 'next_frame'}, {'type': 'next_frame'}, {'type': 'next_frame'}, {'type': 'next_frame'}, {'type': 'next_frame'}, {'type': 'next_frame'}, {'type': 'next_frame'}]\n"
     ]
    },
    {
     "name": "stderr",
     "output_type": "stream",
     "text": [
      "100%|██████████| 296/296 [02:04<00:00,  2.37it/s, batch=290, gpu_temp=57, loss=0.773]\n",
      "100%|██████████| 1023/1023 [00:13<00:00, 75.85it/s]\n"
     ]
    },
    {
     "name": "stdout",
     "output_type": "stream",
     "text": [
      "result: [{'type': 'start'}, {'type': 'next_frame'}, {'type': 'next_frame'}, {'type': 'next_frame'}, {'type': 'next_frame'}, {'type': 'next_frame'}, {'type': 'next_frame'}, {'type': 'next_frame'}, {'type': 'next_frame'}, {'type': 'next_frame'}]\n"
     ]
    },
    {
     "name": "stderr",
     "output_type": "stream",
     "text": [
      "100%|██████████| 296/296 [02:04<00:00,  2.38it/s, batch=290, gpu_temp=57, loss=0.838]\n",
      "100%|██████████| 1023/1023 [00:13<00:00, 73.71it/s]\n"
     ]
    },
    {
     "name": "stdout",
     "output_type": "stream",
     "text": [
      "result: [{'type': 'start'}, {'value': 48, 'type': 'pitch'}, {'value': 12, 'type': 'velocity'}, {'value': 55, 'type': 'pitch'}, {'value': 18, 'type': 'velocity'}, {'value': 63, 'type': 'pitch'}, {'value': 17, 'type': 'velocity'}, {'type': 'next_frame'}, {'type': 'next_frame'}, {'type': 'next_frame'}]\n"
     ]
    },
    {
     "name": "stderr",
     "output_type": "stream",
     "text": [
      "100%|██████████| 296/296 [02:04<00:00,  2.39it/s, batch=290, gpu_temp=57, loss=0.992]\n",
      "100%|██████████| 1023/1023 [00:13<00:00, 74.42it/s]\n"
     ]
    },
    {
     "name": "stdout",
     "output_type": "stream",
     "text": [
      "result: [{'type': 'start'}, {'value': 32, 'type': 'pitch'}, {'value': 14, 'type': 'velocity'}, {'value': 39, 'type': 'pitch'}, {'value': 14, 'type': 'velocity'}, {'value': 44, 'type': 'pitch'}, {'value': 14, 'type': 'velocity'}, {'value': 48, 'type': 'pitch'}, {'value': 16, 'type': 'velocity'}, {'value': 51, 'type': 'pitch'}]\n"
     ]
    },
    {
     "name": "stderr",
     "output_type": "stream",
     "text": [
      "100%|██████████| 296/296 [02:04<00:00,  2.37it/s, batch=290, gpu_temp=57, loss=0.805]\n",
      "100%|██████████| 1023/1023 [00:13<00:00, 73.58it/s]\n"
     ]
    },
    {
     "name": "stdout",
     "output_type": "stream",
     "text": [
      "result: [{'type': 'start'}, {'value': 22, 'type': 'pitch'}, {'value': 14, 'type': 'velocity'}, {'value': 34, 'type': 'pitch'}, {'value': 18, 'type': 'velocity'}, {'value': 38, 'type': 'pitch'}, {'value': 18, 'type': 'velocity'}, {'value': 41, 'type': 'pitch'}, {'value': 17, 'type': 'velocity'}, {'value': 46, 'type': 'pitch'}]\n"
     ]
    },
    {
     "name": "stderr",
     "output_type": "stream",
     "text": [
      "100%|██████████| 296/296 [02:03<00:00,  2.39it/s, batch=290, gpu_temp=57, loss=0.876]\n",
      "100%|██████████| 1023/1023 [00:13<00:00, 73.26it/s]\n"
     ]
    },
    {
     "name": "stdout",
     "output_type": "stream",
     "text": [
      "result: [{'type': 'start'}, {'type': 'next_frame'}, {'type': 'next_frame'}, {'type': 'next_frame'}, {'type': 'next_frame'}, {'type': 'next_frame'}, {'type': 'next_frame'}, {'type': 'next_frame'}, {'type': 'next_frame'}, {'type': 'next_frame'}]\n"
     ]
    },
    {
     "name": "stderr",
     "output_type": "stream",
     "text": [
      "100%|██████████| 296/296 [02:03<00:00,  2.40it/s, batch=290, gpu_temp=57, loss=0.87] \n",
      "100%|██████████| 1023/1023 [00:13<00:00, 75.79it/s]\n"
     ]
    },
    {
     "name": "stdout",
     "output_type": "stream",
     "text": [
      "result: [{'type': 'start'}, {'value': 10, 'type': 'pitch'}, {'value': 13, 'type': 'velocity'}, {'value': 22, 'type': 'pitch'}, {'value': 14, 'type': 'velocity'}, {'value': 44, 'type': 'pitch'}, {'value': 11, 'type': 'velocity'}, {'value': 46, 'type': 'pitch'}, {'value': 13, 'type': 'velocity'}, {'value': 48, 'type': 'pitch'}]\n"
     ]
    },
    {
     "name": "stderr",
     "output_type": "stream",
     "text": [
      "100%|██████████| 296/296 [02:03<00:00,  2.40it/s, batch=290, gpu_temp=57, loss=0.782]\n",
      "100%|██████████| 1023/1023 [00:13<00:00, 74.64it/s]\n"
     ]
    },
    {
     "name": "stdout",
     "output_type": "stream",
     "text": [
      "result: [{'type': 'start'}, {'type': 'next_frame'}, {'type': 'next_frame'}, {'type': 'next_frame'}, {'type': 'next_frame'}, {'type': 'next_frame'}, {'type': 'next_frame'}, {'type': 'next_frame'}, {'type': 'next_frame'}, {'type': 'next_frame'}]\n"
     ]
    },
    {
     "name": "stderr",
     "output_type": "stream",
     "text": [
      "100%|██████████| 296/296 [02:03<00:00,  2.40it/s, batch=290, gpu_temp=57, loss=0.815]\n",
      "100%|██████████| 1023/1023 [00:13<00:00, 76.04it/s]\n"
     ]
    },
    {
     "name": "stdout",
     "output_type": "stream",
     "text": [
      "result: [{'type': 'start'}, {'value': 27, 'type': 'pitch'}, {'value': 17, 'type': 'velocity'}, {'type': 'next_frame'}, {'type': 'next_frame'}, {'type': 'next_frame'}, {'type': 'next_frame'}, {'type': 'next_frame'}, {'type': 'next_frame'}, {'value': 31, 'type': 'pitch'}]\n"
     ]
    },
    {
     "name": "stderr",
     "output_type": "stream",
     "text": [
      "100%|██████████| 296/296 [02:05<00:00,  2.35it/s, batch=290, gpu_temp=57, loss=0.948]\n",
      "100%|██████████| 1023/1023 [00:13<00:00, 75.88it/s]\n"
     ]
    },
    {
     "name": "stdout",
     "output_type": "stream",
     "text": [
      "result: [{'type': 'start'}, {'type': 'next_frame'}, {'type': 'next_frame'}, {'type': 'next_frame'}, {'type': 'next_frame'}, {'type': 'next_frame'}, {'type': 'next_frame'}, {'type': 'next_frame'}, {'type': 'next_frame'}, {'type': 'next_frame'}]\n"
     ]
    },
    {
     "name": "stderr",
     "output_type": "stream",
     "text": [
      "100%|██████████| 296/296 [02:04<00:00,  2.38it/s, batch=290, gpu_temp=57, loss=0.707]\n",
      "100%|██████████| 1023/1023 [00:13<00:00, 76.53it/s]\n"
     ]
    },
    {
     "name": "stdout",
     "output_type": "stream",
     "text": [
      "result: [{'type': 'start'}, {'value': 36, 'type': 'pitch'}, {'value': 15, 'type': 'velocity'}, {'value': 43, 'type': 'pitch'}, {'value': 17, 'type': 'velocity'}, {'value': 48, 'type': 'pitch'}, {'value': 19, 'type': 'velocity'}, {'value': 51, 'type': 'pitch'}, {'value': 17, 'type': 'velocity'}, {'value': 60, 'type': 'pitch'}]\n"
     ]
    },
    {
     "name": "stderr",
     "output_type": "stream",
     "text": [
      "100%|██████████| 296/296 [02:03<00:00,  2.39it/s, batch=290, gpu_temp=57, loss=0.821]\n",
      "100%|██████████| 1023/1023 [00:13<00:00, 75.70it/s]\n"
     ]
    },
    {
     "name": "stdout",
     "output_type": "stream",
     "text": [
      "result: [{'type': 'start'}, {'value': 36, 'type': 'pitch'}, {'value': 12, 'type': 'velocity'}, {'type': 'next_frame'}, {'type': 'next_frame'}, {'type': 'next_frame'}, {'type': 'next_frame'}, {'type': 'next_frame'}, {'type': 'next_frame'}, {'type': 'next_frame'}]\n"
     ]
    },
    {
     "name": "stderr",
     "output_type": "stream",
     "text": [
      "100%|██████████| 296/296 [02:04<00:00,  2.37it/s, batch=290, gpu_temp=63, loss=0.98] \n",
      "100%|██████████| 1023/1023 [00:13<00:00, 75.19it/s]"
     ]
    },
    {
     "name": "stdout",
     "output_type": "stream",
     "text": [
      "result: [{'type': 'start'}, {'type': 'next_frame'}, {'type': 'next_frame'}, {'type': 'next_frame'}, {'type': 'next_frame'}, {'type': 'next_frame'}, {'type': 'next_frame'}, {'type': 'next_frame'}, {'type': 'next_frame'}, {'type': 'next_frame'}]\n"
     ]
    },
    {
     "name": "stderr",
     "output_type": "stream",
     "text": [
      "\n"
     ]
    }
   ],
   "source": [
    "# train\n",
    "from pianogen import gpu_temp_control\n",
    "\n",
    "temp_control = gpu_temp_control.GPUTempControl(64,3)\n",
    "\n",
    "model.to(device)\n",
    "crit.to(device)\n",
    "\n",
    "model.train()\n",
    "\n",
    "for epoch in range(from_epoch+1,100):\n",
    "    tq = tqdm(dl)\n",
    "    for i, batch in enumerate(tq):\n",
    "        batch = {k:v.to(device) if isinstance(v, torch.Tensor) else v for k,v in batch.items()}\n",
    "        opt.zero_grad()\n",
    "        out = model(batch['indices'][:,:-1], batch['pos'])\n",
    "        loss = crit((out+batch['output_mask']).transpose(1,2), batch['indices'][:,1:])\n",
    "        loss.backward()\n",
    "        opt.step()\n",
    "        temp_control.cooldown()\n",
    "        if i % 10 == 0:\n",
    "            # print the loss to tqdm\n",
    "            tq.set_postfix(batch = i, loss= loss.item(), gpu_temp=temp_control.get_temp())\n",
    "                    \n",
    "        if torch.isnan(loss):\n",
    "            raise ValueError(\"Loss is NaN\")\n",
    "\n",
    "        writer.add_scalar('loss', loss.item(), epoch*len(dl)+i)\n",
    "        writer.add_scalar('gpu_temp', temp_control.get_temp(), epoch*len(dl)+i)\n",
    "        if i % 100 == 0:\n",
    "            accuracy = (out.argmax(dim=-1) == batch['indices'][:,1:]).float().mean().item()\n",
    "            writer.add_scalar('accuracy', accuracy, epoch*len(dl)+i)\n",
    "    \n",
    "    inference(output_dir/f'output_{epoch}_{i}.mid', 1024)\n",
    "\n",
    "    if epoch % 10 == 0:\n",
    "        torch.save({'model':model.state_dict(), 'opt':opt.state_dict()}, checkpoint_dir/f'{epoch}.pt')\n",
    "    \n",
    "\n"
   ]
  },
  {
   "cell_type": "code",
   "execution_count": 10,
   "metadata": {},
   "outputs": [
    {
     "name": "stdout",
     "output_type": "stream",
     "text": [
      "None\n",
      "prompt: [{'type': 'start'}, {'type': 'pitch', 'value': 32}, {'type': 'velocity', 'value': 16}, {'type': 'pitch', 'value': 36}, {'type': 'velocity', 'value': 18}, {'type': 'pitch', 'value': 39}, {'type': 'velocity', 'value': 18}, {'type': 'pitch', 'value': 43}, {'type': 'velocity', 'value': 15}, {'type': 'pitch', 'value': 48}]\n",
      "prompt end: [{'type': 'velocity', 'value': 20}, {'type': 'pitch', 'value': 38}, {'type': 'velocity', 'value': 15}, {'type': 'pitch', 'value': 43}, {'type': 'velocity', 'value': 24}, {'type': 'pitch', 'value': 51}, {'type': 'velocity', 'value': 23}, {'type': 'next_frame'}, {'type': 'next_frame'}, {'type': 'next_frame'}]\n"
     ]
    },
    {
     "name": "stderr",
     "output_type": "stream",
     "text": [
      "100%|██████████| 1400/1400 [00:21<00:00, 66.06it/s]\n"
     ]
    },
    {
     "name": "stdout",
     "output_type": "stream",
     "text": [
      "result: [{'type': 'start'}, {'type': 'pitch', 'value': 32}, {'type': 'velocity', 'value': 16}, {'type': 'pitch', 'value': 36}, {'type': 'velocity', 'value': 18}, {'type': 'pitch', 'value': 39}, {'type': 'velocity', 'value': 18}, {'type': 'pitch', 'value': 43}, {'type': 'velocity', 'value': 15}, {'type': 'pitch', 'value': 48}]\n"
     ]
    }
   ],
   "source": [
    "inference(output_dir/f'test_{epoch}.mid', 1400, pr_ds.get_piano_roll(1917).slice(0, 32*50), p=0.8)"
   ]
  },
  {
   "cell_type": "code",
   "execution_count": 21,
   "metadata": {},
   "outputs": [
    {
     "data": {
      "text/plain": [
       "Pianoroll Bar 000 - 002 of 1"
      ]
     },
     "execution_count": 21,
     "metadata": {},
     "output_type": "execute_result"
    }
   ],
   "source": [
    "pr_ds.get_piano_roll(1).slice(0, 64)"
   ]
  },
  {
   "cell_type": "code",
   "execution_count": 67,
   "metadata": {},
   "outputs": [],
   "source": [
    "handle.remove()\n",
    "handle = model.in_local_attention.register_backward_hook(lambda m, g_in, g_out: print('in_local_attention', g_in[0].norm(dim=(0,2))))"
   ]
  },
  {
   "cell_type": "code",
   "execution_count": 11,
   "metadata": {},
   "outputs": [
    {
     "data": {
      "text/plain": [
       "Pianoroll Bar 000 - 050 of 2115"
      ]
     },
     "execution_count": 11,
     "metadata": {},
     "output_type": "execute_result"
    }
   ],
   "source": [
    "pr_ds.get_piano_roll(1917).slice(0, 32*50)"
   ]
  },
  {
   "cell_type": "code",
   "execution_count": 66,
   "metadata": {},
   "outputs": [
    {
     "name": "stdout",
     "output_type": "stream",
     "text": [
      "in_local_attention tensor([ 2.8973,  0.8830,  0.7586,  0.9899,  1.1048,  1.2402,  0.3792,  0.6488,\n",
      "         1.6528,  2.7425,  0.4552,  1.5836,  1.0128,  4.0604,  0.6707,  2.0891,\n",
      "         0.5262,  0.5684,  2.6314,  0.4023,  1.3787,  0.5873,  0.9673,  0.5430,\n",
      "         1.6225,  0.3887,  3.4039,  1.1779,  2.0503,  1.2313,  0.4384,  1.0173,\n",
      "         0.5497,  0.2947,  1.5697,  0.3889,  3.1795,  0.6917,  0.8305,  2.3320,\n",
      "         0.7165,  4.5779,  4.4148,  2.6414,  3.2237,  3.0840,  1.4059,  0.7477,\n",
      "         6.2199,  6.4681, 18.2421,  0.0000,  0.0000,  0.0000,  0.0000,  0.0000,\n",
      "         0.0000,  0.0000,  0.0000,  0.0000,  0.0000,  0.0000,  0.0000,  0.0000,\n",
      "         0.0000,  0.0000,  0.0000,  0.0000,  0.0000,  0.0000,  0.0000,  0.0000,\n",
      "         0.0000,  0.0000,  0.0000,  0.0000,  0.0000,  0.0000,  0.0000,  0.0000,\n",
      "         0.0000,  0.0000,  0.0000,  0.0000,  0.0000,  0.0000,  0.0000,  0.0000,\n",
      "         0.0000,  0.0000,  0.0000,  0.0000,  0.0000,  0.0000,  0.0000,  0.0000,\n",
      "         0.0000,  0.0000,  0.0000,  0.0000,  0.0000,  0.0000,  0.0000,  0.0000,\n",
      "         0.0000,  0.0000,  0.0000,  0.0000,  0.0000,  0.0000,  0.0000,  0.0000,\n",
      "         0.0000,  0.0000,  0.0000,  0.0000,  0.0000,  0.0000,  0.0000,  0.0000,\n",
      "         0.0000,  0.0000,  0.0000,  0.0000,  0.0000,  0.0000,  0.0000,  0.0000,\n",
      "         0.0000,  0.0000,  0.0000,  0.0000,  0.0000,  0.0000,  0.0000,  0.0000,\n",
      "         0.0000,  0.0000,  0.0000,  0.0000,  0.0000,  0.0000,  0.0000,  0.0000,\n",
      "         0.0000,  0.0000,  0.0000,  0.0000,  0.0000,  0.0000,  0.0000,  0.0000,\n",
      "         0.0000,  0.0000,  0.0000,  0.0000,  0.0000,  0.0000,  0.0000,  0.0000,\n",
      "         0.0000,  0.0000,  0.0000,  0.0000,  0.0000,  0.0000,  0.0000,  0.0000,\n",
      "         0.0000,  0.0000,  0.0000,  0.0000,  0.0000,  0.0000,  0.0000,  0.0000,\n",
      "         0.0000,  0.0000,  0.0000,  0.0000,  0.0000,  0.0000,  0.0000,  0.0000,\n",
      "         0.0000,  0.0000,  0.0000,  0.0000,  0.0000,  0.0000,  0.0000,  0.0000,\n",
      "         0.0000,  0.0000,  0.0000,  0.0000,  0.0000,  0.0000,  0.0000,  0.0000,\n",
      "         0.0000,  0.0000,  0.0000,  0.0000,  0.0000,  0.0000,  0.0000,  0.0000,\n",
      "         0.0000,  0.0000,  0.0000,  0.0000,  0.0000,  0.0000,  0.0000,  0.0000,\n",
      "         0.0000,  0.0000,  0.0000,  0.0000], device='cuda:0')\n"
     ]
    }
   ],
   "source": [
    "inp = torch.randint(0,10,(1, 220),dtype=torch.long).to(device)\n",
    "model(inp, torch.arange(220+1).unsqueeze(0).to(device))[0,50].norm().backward()"
   ]
  },
  {
   "cell_type": "code",
   "execution_count": 62,
   "metadata": {},
   "outputs": [
    {
     "data": {
      "text/plain": [
       "130"
      ]
     },
     "execution_count": 62,
     "metadata": {},
     "output_type": "execute_result"
    }
   ],
   "source": [
    "len([ 0.0193,  0.0189,  0.0729,  0.0536,  0.1458,  0.0867,  0.1135,  0.7866,\n",
    "         0.1798,  0.0767,  0.0629,  0.0755,  0.1229,  0.1874,  0.6108,  0.1180,\n",
    "         0.1461,  0.0984,  0.0650,  0.1149,  0.3938,  0.2112,  0.1433,  0.3247,\n",
    "         0.1211,  0.1318,  0.2227,  0.1505,  0.3462,  0.1255,  0.0516,  0.2467,\n",
    "         0.2044,  0.4414,  0.1183,  0.4642,  0.1468,  0.0673,  0.0795,  0.6533,\n",
    "         0.2189,  0.1100,  0.1983,  0.2572,  0.3179,  0.1389,  0.6460,  0.0662,\n",
    "         0.1327,  0.1566,  0.5608,  0.0544,  0.3800,  0.3710,  0.1071,  0.0769,\n",
    "         0.1528,  0.2218,  0.0826,  0.0729,  0.0932,  0.1366,  0.2292,  0.3016,\n",
    "         0.3495,  0.9662,  0.0683,  0.1068,  0.3928,  0.4896,  0.2337,  0.1346,\n",
    "         0.8395,  0.2339,  0.1197,  0.9997,  0.2210,  0.3909,  0.1135,  0.1822,\n",
    "         0.3711,  0.2440,  0.0881,  0.1852,  0.1072,  0.0451,  0.0846,  0.1209,\n",
    "         0.1635,  0.4193,  0.0510,  0.0800,  0.1212,  0.2231,  0.1077,  0.1427,\n",
    "         0.1932,  0.1705,  0.3363,  0.3363,  0.2017,  0.1830,  0.2525,  0.4927,\n",
    "         0.6330,  0.5120,  0.2838,  1.1671,  0.7589,  1.1129,  1.9647,  1.1941,\n",
    "         0.7201,  0.3712,  0.3980,  0.5747,  0.9515,  2.6499,  0.3535,  2.9585,\n",
    "         0.5410,  0.7637,  0.5093,  1.4005,  3.1254,  2.2679,  1.5576,  1.8914,\n",
    "         2.9836, 13.3045])"
   ]
  },
  {
   "cell_type": "code",
   "execution_count": 43,
   "metadata": {},
   "outputs": [
    {
     "name": "stdout",
     "output_type": "stream",
     "text": [
      "None\n",
      "None\n"
     ]
    },
    {
     "data": {
      "text/plain": [
       "<matplotlib.colorbar.Colorbar at 0x195924ec690>"
      ]
     },
     "execution_count": 43,
     "metadata": {},
     "output_type": "execute_result"
    },
    {
     "data": {
      "image/png": "[encoded data removed]",
      "text/plain": [
       "<Figure size 640x480 with 2 Axes>"
      ]
     },
     "metadata": {},
     "output_type": "display_data"
    }
   ],
   "source": [
    "import matplotlib.pyplot as plt\n",
    "song_id = 1\n",
    "model.eval()\n",
    "model.set_downsampled_path_enabled(True)\n",
    "model.eval()\n",
    "jacobian = model.get_jacobian(ds[song_id]['indices'][:400].unsqueeze(0).cuda(),ds[song_id]['pos'][:400+1].unsqueeze(0).cuda(),range(0,400))\n",
    "plt.imshow((jacobian**2).max(dim=2).values.cpu().detach().numpy(),aspect='auto',interpolation='none')\n",
    "plt.colorbar()\n",
    "\n"
   ]
  },
  {
   "cell_type": "code",
   "execution_count": null,
   "metadata": {},
   "outputs": [
    {
     "data": {
      "text/plain": [
       "True"
      ]
     },
     "execution_count": 1,
     "metadata": {},
     "output_type": "execute_result"
    }
   ],
   "source": []
  },
  {
   "cell_type": "code",
   "execution_count": 5,
   "metadata": {},
   "outputs": [
    {
     "data": {
      "text/plain": [
       "ticks per beat: 480\n",
       "max tick: 0\n",
       "tempo changes: 1\n",
       "time sig: 0\n",
       "key sig: 0\n",
       "markers: 0\n",
       "lyrics: False\n",
       "instruments: 1"
      ]
     },
     "execution_count": 5,
     "metadata": {},
     "output_type": "execute_result"
    }
   ],
   "source": [
    "ds.ds.get_piano_roll(10).to_midi('output/test.mid')"
   ]
  },
  {
   "cell_type": "code",
   "execution_count": 37,
   "metadata": {},
   "outputs": [
    {
     "name": "stdout",
     "output_type": "stream",
     "text": [
      "1330\n",
      "1331\n",
      "1332\n",
      "1333\n",
      "1334\n",
      "1335\n",
      "1336\n",
      "1337\n",
      "1338\n",
      "1339\n",
      "1340\n",
      "1341\n",
      "1342\n",
      "1343\n",
      "1344\n",
      "1345\n",
      "1346\n",
      "1347\n",
      "1348\n",
      "1349\n",
      "1350\n",
      "1351\n",
      "1352\n",
      "1353\n",
      "1354\n",
      "1355\n",
      "1356\n",
      "1357\n",
      "1358\n",
      "1359\n",
      "1360\n",
      "1361\n",
      "1362\n",
      "1363\n",
      "1364\n",
      "1365\n",
      "1366\n"
     ]
    }
   ],
   "source": [
    "for i in range(1330,3000):\n",
    "    print(i)\n",
    "    pr = ds.ds.get_piano_roll(i)\n",
    "    l = []\n",
    "    for i in range(5):\n",
    "        l.append(pr.notes[i].pitch)\n",
    "    if len( {36, 48, 52, 55, 62} - set(l)) < 2:\n",
    "        break\n"
   ]
  },
  {
   "cell_type": "code",
   "execution_count": 38,
   "metadata": {},
   "outputs": [
    {
     "data": {
      "text/plain": [
       "[36, 43, 48, 52, 55]"
      ]
     },
     "execution_count": 38,
     "metadata": {},
     "output_type": "execute_result"
    }
   ],
   "source": [
    "l"
   ]
  },
  {
   "cell_type": "code",
   "execution_count": 32,
   "metadata": {},
   "outputs": [
    {
     "data": {
      "text/plain": [
       "ticks per beat: 480\n",
       "max tick: 0\n",
       "tempo changes: 1\n",
       "time sig: 0\n",
       "key sig: 0\n",
       "markers: 0\n",
       "lyrics: False\n",
       "instruments: 1"
      ]
     },
     "execution_count": 32,
     "metadata": {},
     "output_type": "execute_result"
    }
   ],
   "source": [
    "pr.to_midi('output/test.mid')"
   ]
  },
  {
   "cell_type": "code",
   "execution_count": 39,
   "metadata": {},
   "outputs": [
    {
     "data": {
      "text/plain": [
       "'戰旗'"
      ]
     },
     "execution_count": 39,
     "metadata": {},
     "output_type": "execute_result"
    }
   ],
   "source": [
    "import random\n",
    "\n",
    "\n",
    "random.choice(['隨單','戰旗'])"
   ]
  },
  {
   "cell_type": "code",
   "execution_count": 2,
   "metadata": {},
   "outputs": [
    {
     "name": "stderr",
     "output_type": "stream",
     "text": [
      "c:\\Users\\User\\miniconda3\\envs\\gr\\Lib\\site-packages\\torch\\nn\\modules\\transformer.py:306: UserWarning: enable_nested_tensor is True, but self.use_nested_tensor is False because encoder_layer.self_attn.batch_first was not True(use batch_first for better inference performance)\n",
      "  warnings.warn(f\"enable_nested_tensor is True, but self.use_nested_tensor is False because {why_not_sparsity_fast_path}\")\n"
     ]
    },
    {
     "data": {
      "text/plain": [
       "Transformer(\n",
       "  (encoder): TransformerEncoder(\n",
       "    (layers): ModuleList(\n",
       "      (0-5): 6 x TransformerEncoderLayer(\n",
       "        (self_attn): MultiheadAttention(\n",
       "          (out_proj): NonDynamicallyQuantizableLinear(in_features=512, out_features=512, bias=True)\n",
       "        )\n",
       "        (linear1): Linear(in_features=512, out_features=2048, bias=True)\n",
       "        (dropout): Dropout(p=0.1, inplace=False)\n",
       "        (linear2): Linear(in_features=2048, out_features=512, bias=True)\n",
       "        (norm1): LayerNorm((512,), eps=1e-05, elementwise_affine=True)\n",
       "        (norm2): LayerNorm((512,), eps=1e-05, elementwise_affine=True)\n",
       "        (dropout1): Dropout(p=0.1, inplace=False)\n",
       "        (dropout2): Dropout(p=0.1, inplace=False)\n",
       "      )\n",
       "    )\n",
       "    (norm): LayerNorm((512,), eps=1e-05, elementwise_affine=True)\n",
       "  )\n",
       "  (decoder): TransformerDecoder(\n",
       "    (layers): ModuleList(\n",
       "      (0-5): 6 x TransformerDecoderLayer(\n",
       "        (self_attn): MultiheadAttention(\n",
       "          (out_proj): NonDynamicallyQuantizableLinear(in_features=512, out_features=512, bias=True)\n",
       "        )\n",
       "        (multihead_attn): MultiheadAttention(\n",
       "          (out_proj): NonDynamicallyQuantizableLinear(in_features=512, out_features=512, bias=True)\n",
       "        )\n",
       "        (linear1): Linear(in_features=512, out_features=2048, bias=True)\n",
       "        (dropout): Dropout(p=0.1, inplace=False)\n",
       "        (linear2): Linear(in_features=2048, out_features=512, bias=True)\n",
       "        (norm1): LayerNorm((512,), eps=1e-05, elementwise_affine=True)\n",
       "        (norm2): LayerNorm((512,), eps=1e-05, elementwise_affine=True)\n",
       "        (norm3): LayerNorm((512,), eps=1e-05, elementwise_affine=True)\n",
       "        (dropout1): Dropout(p=0.1, inplace=False)\n",
       "        (dropout2): Dropout(p=0.1, inplace=False)\n",
       "        (dropout3): Dropout(p=0.1, inplace=False)\n",
       "      )\n",
       "    )\n",
       "    (norm): LayerNorm((512,), eps=1e-05, elementwise_affine=True)\n",
       "  )\n",
       ")"
      ]
     },
     "execution_count": 2,
     "metadata": {},
     "output_type": "execute_result"
    }
   ],
   "source": [
    "import torch.nn as nn\n",
    "nn.transformerenco()"
   ]
  },
  {
   "cell_type": "code",
   "execution_count": null,
   "metadata": {},
   "outputs": [],
   "source": []
  }
 ],
 "metadata": {
  "kernelspec": {
   "display_name": "gr",
   "language": "python",
   "name": "python3"
  },
  "language_info": {
   "codemirror_mode": {
    "name": "ipython",
    "version": 3
   },
   "file_extension": ".py",
   "mimetype": "text/x-python",
   "name": "python",
   "nbconvert_exporter": "python",
   "pygments_lexer": "ipython3",
   "version": "3.11.9"
  }
 },
 "nbformat": 4,
 "nbformat_minor": 2
}
