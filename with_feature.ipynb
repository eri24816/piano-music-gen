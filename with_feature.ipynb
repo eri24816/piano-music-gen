{
 "cells": [
  {
   "cell_type": "code",
   "execution_count": 1,
   "metadata": {},
   "outputs": [],
   "source": [
    "%load_ext autoreload\n",
    "%autoreload 2\n",
    "\n",
    "import torch\n",
    "\n",
    "from pianogen.model.model import SelectiveAttnTransformer\n",
    "from torch.optim import Adam\n",
    "from torch import nn\n",
    "from pianogen.dataset.with_feature import FeatureDataset\n",
    "from pianogen.tokenizer import PianoRollTokenizer\n",
    "from torch.utils.data import DataLoader\n",
    "from pianogen.model.with_feature import Cake\n",
    "\n",
    "device = 'cuda'\n",
    "\n",
    "def move_to_device(b):\n",
    "    if isinstance(b, torch.Tensor):\n",
    "        return b.to(device)\n",
    "    elif isinstance(b, dict):\n",
    "        return {k:move_to_device(v) for k,v in b.items()}"
   ]
  },
  {
   "cell_type": "code",
   "execution_count": 3,
   "metadata": {},
   "outputs": [
    {
     "name": "stdout",
     "output_type": "stream",
     "text": [
      "Loaded 2374 samples from 2570 songs\n",
      "Applying PianoRollProcessor to dataset C:\\Users\\User\\AppData\\Local\\Temp\\music_data_analysis_1_1_1_1_1\n"
     ]
    },
    {
     "name": "stderr",
     "output_type": "stream",
     "text": [
      "100%|██████████| 1/1 [00:00<00:00, 153.78it/s]\n"
     ]
    },
    {
     "name": "stdout",
     "output_type": "stream",
     "text": [
      "Applying DurationProcessor to dataset C:\\Users\\User\\AppData\\Local\\Temp\\music_data_analysis_1_1_1_1_1\n"
     ]
    },
    {
     "name": "stderr",
     "output_type": "stream",
     "text": [
      "100%|██████████| 1/1 [00:00<00:00, 133.22it/s]\n"
     ]
    },
    {
     "name": "stdout",
     "output_type": "stream",
     "text": [
      "Applying PitchProcessor to dataset C:\\Users\\User\\AppData\\Local\\Temp\\music_data_analysis_1_1_1_1_1\n"
     ]
    },
    {
     "name": "stderr",
     "output_type": "stream",
     "text": [
      "100%|██████████| 1/1 [00:00<00:00, 200.02it/s]\n"
     ]
    },
    {
     "name": "stdout",
     "output_type": "stream",
     "text": [
      "Applying NoteDensityProcessor to dataset C:\\Users\\User\\AppData\\Local\\Temp\\music_data_analysis_1_1_1_1_1\n"
     ]
    },
    {
     "name": "stderr",
     "output_type": "stream",
     "text": [
      "100%|██████████| 1/1 [00:00<00:00, 1061.58it/s]\n"
     ]
    },
    {
     "name": "stdout",
     "output_type": "stream",
     "text": [
      "Applying PolyphonyProcessor to dataset C:\\Users\\User\\AppData\\Local\\Temp\\music_data_analysis_1_1_1_1_1\n"
     ]
    },
    {
     "name": "stderr",
     "output_type": "stream",
     "text": [
      "100%|██████████| 1/1 [00:00<00:00, 333.28it/s]\n"
     ]
    },
    {
     "name": "stdout",
     "output_type": "stream",
     "text": [
      "Applying VelocityProcessor to dataset C:\\Users\\User\\AppData\\Local\\Temp\\music_data_analysis_1_1_1_1_1\n"
     ]
    },
    {
     "name": "stderr",
     "output_type": "stream",
     "text": [
      "100%|██████████| 1/1 [00:00<00:00, 1001.03it/s]\n"
     ]
    },
    {
     "name": "stdout",
     "output_type": "stream",
     "text": [
      "Applying ChordProcessor to dataset C:\\Users\\User\\AppData\\Local\\Temp\\music_data_analysis_1_1_1_1_1\n"
     ]
    },
    {
     "name": "stderr",
     "output_type": "stream",
     "text": [
      "100%|██████████| 1/1 [00:00<00:00, 95.10it/s]"
     ]
    },
    {
     "name": "stdout",
     "output_type": "stream",
     "text": [
      "Loaded 1 samples from 1 songs\n"
     ]
    },
    {
     "name": "stderr",
     "output_type": "stream",
     "text": [
      "\n"
     ]
    }
   ],
   "source": [
    "model = Cake(a0_size=512, max_len=150, dim_model=256, num_layers=6, num_heads=8, dim_feedforward=1024)\n",
    "model = model.to(device).train()\n",
    "\n",
    "# ds = FeatureDataset(r'W:\\music\\music-data-analysis\\data', loaders=model.get_loaders(), max_duration=32*150)\n",
    "# dl = DataLoader(ds,batch_size=3, shuffle=True, num_workers=8)\n",
    "# gradient_accumulation_steps = 3\n",
    "\n",
    "ds = FeatureDataset(r'W:\\music\\music-data-analysis\\data', loaders=model.get_loaders(), max_duration=32*150)\n",
    "dl = DataLoader(ds,batch_size=3, shuffle=True, num_workers=8)\n",
    "gradient_accumulation_steps = 3\n",
    "\n",
    "test_data = FeatureDataset.from_midi(r'W:\\music\\ai_cowork_trim.mid', loaders=model.get_loaders())"
   ]
  },
  {
   "cell_type": "code",
   "execution_count": 4,
   "metadata": {},
   "outputs": [
    {
     "name": "stdout",
     "output_type": "stream",
     "text": [
      "number of parameters: 19.572441 M\n"
     ]
    }
   ],
   "source": [
    "from pathlib import Path\n",
    "from torch.utils.tensorboard.writer import SummaryWriter\n",
    "\n",
    "exp_name = 'feature/bigger_model_grad_accum_3'\n",
    "\n",
    "output_dir = Path(f'./output/{exp_name}')\n",
    "output_dir.mkdir(parents=True, exist_ok=True)\n",
    "checkpoint_dir = Path(f'./checkpoint/{exp_name}')\n",
    "checkpoint_dir.mkdir(parents=True, exist_ok=True)\n",
    "tensorboard_dir = Path(f'./tensorboard/{exp_name}')\n",
    "\n",
    "writer = SummaryWriter(tensorboard_dir)\n",
    "opt = Adam(model.parameters(), lr=2e-4)\n",
    "print('number of parameters:', sum(p.numel() for p in model.parameters())/1e6, 'M')"
   ]
  },
  {
   "cell_type": "code",
   "execution_count": 5,
   "metadata": {},
   "outputs": [],
   "source": [
    "from_epoch = 150\n",
    "epoch = from_epoch\n",
    "# load from checkpoint\n",
    "if from_epoch > 0:\n",
    "    checkpoint = torch.load(checkpoint_dir/f'{from_epoch}.pt')\n",
    "    model.load_state_dict(checkpoint['model'])\n",
    "    opt.load_state_dict(checkpoint['opt'])\n",
    "model = model.to(device)"
   ]
  },
  {
   "cell_type": "code",
   "execution_count": 6,
   "metadata": {},
   "outputs": [
    {
     "name": "stderr",
     "output_type": "stream",
     "text": [
      "  0%|          | 0/792 [00:00<?, ?it/s]c:\\Users\\User\\miniconda3\\envs\\gr\\Lib\\site-packages\\torch\\nn\\functional.py:5504: UserWarning: 1Torch was not compiled with flash attention. (Triggered internally at ..\\aten\\src\\ATen\\native\\transformers\\cuda\\sdp_utils.cpp:455.)\n",
      "  attn_output = scaled_dot_product_attention(q, k, v, attn_mask, dropout_p, is_causal)\n",
      "100%|██████████| 792/792 [02:39<00:00,  4.96it/s, batch=790, gpu_temp=61, loss={'chord': tensor(2.9014, device='cuda:0', grad_fn=<NllLossBackward0>), 'velocity': tensor(2.1869, device='cuda:0', grad_fn=<NllLossBackward0>), 'polyphony': tensor(1.3776, device='cuda:0', grad_fn=<NllLossBackward0>), 'density': tensor(1.6780, device='cuda:0', grad_fn=<NllLossBackward0>), 'piano_roll': tensor(1.5551, device='cuda:0', grad_fn=<NllLoss2DBackward0>), 'total': tensor(9.6991, device='cuda:0', grad_fn=<AddBackward0>)}] \n",
      "100%|██████████| 16/16 [00:09<00:00,  1.66it/s]\n"
     ]
    },
    {
     "name": "stdout",
     "output_type": "stream",
     "text": [
      "Generated:  ['next_frame', 'next_frame', 'next_frame', 'next_frame', 'next_frame', 'next_frame', 'next_frame', 'next_frame', 'next_frame', 'next_frame']\n",
      "Chords:  ['A_m', 'A_m', 'A_M', 'A_m', 'G_m7', 'E_M', 'F_M7', 'F_M7', 'F_M', 'F_M', 'F_M7', 'F_M7', 'E_m', 'E_m', 'D_m7', 'D_m7', 'F_m', 'C_M', 'G_7', 'A_m7', 'D_m', 'D_m', 'D_m', 'D_m', 'D_sus2', 'G_m7', 'A_m', 'A_m', 'E_m7', 'E_7', 'G_M', 'G_M']\n"
     ]
    },
    {
     "name": "stderr",
     "output_type": "stream",
     "text": [
      "100%|██████████| 792/792 [02:51<00:00,  4.61it/s, batch=790, gpu_temp=61, loss={'chord': tensor(2.1478, device='cuda:0', grad_fn=<NllLossBackward0>), 'velocity': tensor(1.9712, device='cuda:0', grad_fn=<NllLossBackward0>), 'polyphony': tensor(1.7476, device='cuda:0', grad_fn=<NllLossBackward0>), 'density': tensor(1.9459, device='cuda:0', grad_fn=<NllLossBackward0>), 'piano_roll': tensor(1.5267, device='cuda:0', grad_fn=<NllLoss2DBackward0>), 'total': tensor(9.3391, device='cuda:0', grad_fn=<AddBackward0>)}] \n",
      "100%|██████████| 16/16 [00:10<00:00,  1.55it/s]\n"
     ]
    },
    {
     "name": "stdout",
     "output_type": "stream",
     "text": [
      "Generated:  [{'type': 'pitch', 'value': 12}, {'type': 'velocity', 'value': 25}, 'next_frame', 'next_frame', 'next_frame', 'next_frame', 'next_frame', 'next_frame', 'next_frame', 'next_frame']\n",
      "Chords:  ['C_M7', 'None', 'C_M', 'C_M', 'A_m7', 'A_m7', 'C_M7', 'C_M7', 'A_sus2', 'A_sus2', 'E_m7', 'E_m7', 'C_M', 'C_M7', 'C_M', 'C_M', 'G_7', 'G_7', 'D_M7', 'G_7', 'G_M', 'G_M', 'G_M', 'G_M', 'A_m', 'A_m', 'A_m7', 'A_m7', 'A_m7', 'A_m7', 'A_m7', 'A_m7']\n"
     ]
    },
    {
     "name": "stderr",
     "output_type": "stream",
     "text": [
      "100%|██████████| 792/792 [02:46<00:00,  4.75it/s, batch=790, gpu_temp=60, loss={'chord': tensor(1.7133, device='cuda:0', grad_fn=<NllLossBackward0>), 'velocity': tensor(2.3864, device='cuda:0', grad_fn=<NllLossBackward0>), 'polyphony': tensor(1.5594, device='cuda:0', grad_fn=<NllLossBackward0>), 'density': tensor(1.9186, device='cuda:0', grad_fn=<NllLossBackward0>), 'piano_roll': tensor(1.2336, device='cuda:0', grad_fn=<NllLoss2DBackward0>), 'total': tensor(8.8112, device='cuda:0', grad_fn=<AddBackward0>)}] \n",
      "100%|██████████| 16/16 [00:09<00:00,  1.69it/s]\n"
     ]
    },
    {
     "name": "stdout",
     "output_type": "stream",
     "text": [
      "Generated:  ['next_frame', 'next_frame', 'next_frame', 'next_frame', 'next_frame', 'next_frame', 'next_frame', 'next_frame', 'next_frame', 'next_frame']\n",
      "Chords:  ['None', 'None', 'None', 'None', 'F_M', 'F_M', 'C_M', 'C_M', 'A_m', 'A_m', 'A_m', 'A_m', 'A_m', 'A_m', 'A_m', 'A_m', 'A_m7', 'A_m7', 'A_m7', 'A_m7', 'D_m7', 'E_m', 'D_m7', 'D_m7', 'D_m', 'D_m', 'A_m7', 'A_m7', 'G_M', 'G_M', 'G_M', 'G_M']\n"
     ]
    },
    {
     "name": "stderr",
     "output_type": "stream",
     "text": [
      "100%|██████████| 792/792 [02:56<00:00,  4.49it/s, batch=790, gpu_temp=55, loss={'chord': tensor(2.3682, device='cuda:0', grad_fn=<NllLossBackward0>), 'velocity': tensor(2.1889, device='cuda:0', grad_fn=<NllLossBackward0>), 'polyphony': tensor(1.5087, device='cuda:0', grad_fn=<NllLossBackward0>), 'density': tensor(2.0140, device='cuda:0', grad_fn=<NllLossBackward0>), 'piano_roll': tensor(1.4379, device='cuda:0', grad_fn=<NllLoss2DBackward0>), 'total': tensor(9.5177, device='cuda:0', grad_fn=<AddBackward0>)}] \n",
      "100%|██████████| 16/16 [00:10<00:00,  1.46it/s]\n"
     ]
    },
    {
     "name": "stdout",
     "output_type": "stream",
     "text": [
      "Generated:  [{'type': 'pitch', 'value': 19}, {'type': 'velocity', 'value': 17}, {'type': 'pitch', 'value': 43}, {'type': 'velocity', 'value': 15}, 'next_frame', 'next_frame', 'next_frame', 'next_frame', 'next_frame', 'next_frame']\n",
      "Chords:  ['A_M', 'A_M', 'G_M', 'G_M', 'C_+', 'C_+', 'F_M7', 'F_M7', 'B_o', 'F_M7', 'C_M', 'B_o', 'A_m7', 'A_m7', 'A_m7', 'A_m7', 'F_M', 'F_M', 'F_M7', 'F_M7', 'A_m7', 'A_m7', 'A_m', 'A_m', 'G_M', 'G_M', 'G_M', 'G_M', 'F_M', 'A_m7', 'F_M', 'F_M']\n"
     ]
    },
    {
     "name": "stderr",
     "output_type": "stream",
     "text": [
      "100%|██████████| 792/792 [02:53<00:00,  4.57it/s, batch=790, gpu_temp=55, loss={'chord': tensor(1.9792, device='cuda:0', grad_fn=<NllLossBackward0>), 'velocity': tensor(2.5984, device='cuda:0', grad_fn=<NllLossBackward0>), 'polyphony': tensor(1.6891, device='cuda:0', grad_fn=<NllLossBackward0>), 'density': tensor(1.7772, device='cuda:0', grad_fn=<NllLossBackward0>), 'piano_roll': tensor(1.4305, device='cuda:0', grad_fn=<NllLoss2DBackward0>), 'total': tensor(9.4744, device='cuda:0', grad_fn=<AddBackward0>)}] \n",
      "100%|██████████| 16/16 [00:10<00:00,  1.56it/s]\n"
     ]
    },
    {
     "name": "stdout",
     "output_type": "stream",
     "text": [
      "Generated:  ['next_frame', 'next_frame', 'next_frame', 'next_frame', 'next_frame', 'next_frame', 'next_frame', 'next_frame', 'next_frame', 'next_frame']\n",
      "Chords:  ['C_sus2', 'None', 'C_sus2', 'C_sus2', 'F_M', 'F_M', 'F_M', 'F_M', 'C_M7', 'C_M7', 'C_M', 'C_M', 'F_M', 'F_M', 'F_M', 'F_M', 'F_M7', 'F_M7', 'F_M7', 'F_M7', 'F_M', 'F_M', 'F_M', 'F_M', 'D_M', 'D_M', 'None', 'None', 'C_+', 'C_+', 'F_M7', 'F_M7']\n"
     ]
    },
    {
     "name": "stderr",
     "output_type": "stream",
     "text": [
      "100%|██████████| 792/792 [02:55<00:00,  4.51it/s, batch=790, gpu_temp=61, loss={'chord': tensor(2.1611, device='cuda:0', grad_fn=<NllLossBackward0>), 'velocity': tensor(3.4084, device='cuda:0', grad_fn=<NllLossBackward0>), 'polyphony': tensor(1.8977, device='cuda:0', grad_fn=<NllLossBackward0>), 'density': tensor(1.9343, device='cuda:0', grad_fn=<NllLossBackward0>), 'piano_roll': tensor(1.4577, device='cuda:0', grad_fn=<NllLoss2DBackward0>), 'total': tensor(10.8591, device='cuda:0', grad_fn=<AddBackward0>)}]\n",
      "100%|██████████| 16/16 [00:08<00:00,  1.83it/s]\n"
     ]
    },
    {
     "name": "stdout",
     "output_type": "stream",
     "text": [
      "Generated:  [{'type': 'pitch', 'value': 12}, {'type': 'velocity', 'value': 18}, {'type': 'pitch', 'value': 24}, {'type': 'velocity', 'value': 20}, 'next_frame', 'next_frame', 'next_frame', 'next_frame', 'next_frame', 'next_frame']\n",
      "Chords:  ['None', 'None', 'None', 'None', 'A_m', 'A_m', 'A_m7', 'A_m7', 'F#_o', 'F#_o', 'D_m7', 'F#_o', 'G_M', 'G_M', 'G_M', 'G_M', 'A_m', 'A_m', 'A_m', 'A_m', 'C_M7', 'C_M7', 'C_M', 'C_M', 'F_sus2', 'F_sus2', 'F_M7', 'F_M7', 'A_m7', 'A_m7', 'A_m', 'A_m']\n"
     ]
    },
    {
     "name": "stderr",
     "output_type": "stream",
     "text": [
      "100%|██████████| 792/792 [02:55<00:00,  4.51it/s, batch=790, gpu_temp=61, loss={'chord': tensor(1.9395, device='cuda:0', grad_fn=<NllLossBackward0>), 'velocity': tensor(2.2841, device='cuda:0', grad_fn=<NllLossBackward0>), 'polyphony': tensor(1.6684, device='cuda:0', grad_fn=<NllLossBackward0>), 'density': tensor(2.2628, device='cuda:0', grad_fn=<NllLossBackward0>), 'piano_roll': tensor(1.4926, device='cuda:0', grad_fn=<NllLoss2DBackward0>), 'total': tensor(9.6474, device='cuda:0', grad_fn=<AddBackward0>)}] \n",
      "100%|██████████| 16/16 [00:08<00:00,  1.84it/s]\n"
     ]
    },
    {
     "name": "stdout",
     "output_type": "stream",
     "text": [
      "Generated:  ['next_frame', 'next_frame', {'type': 'pitch', 'value': 22}, {'type': 'velocity', 'value': 20}, {'type': 'pitch', 'value': 34}, {'type': 'velocity', 'value': 21}, 'next_frame', 'next_frame', 'next_frame', 'next_frame']\n",
      "Chords:  ['None', 'None', 'None', 'None', 'C_M', 'C_M', 'C_M', 'C_M', 'F_M7', 'F_M7', 'C_M', 'C_M', 'G_7', 'G_7', 'G_7', 'G_7', 'A_m', 'A_m', 'A_m', 'A_m', 'A_m7', 'A_m7', 'C_M', 'C_M', 'A_m7', 'A_m7', 'D_M', 'D_M', 'D_m7', 'D_m7', 'D_m7', 'D_m7']\n"
     ]
    },
    {
     "name": "stderr",
     "output_type": "stream",
     "text": [
      "100%|██████████| 792/792 [02:53<00:00,  4.56it/s, batch=790, gpu_temp=61, loss={'chord': tensor(1.5545, device='cuda:0', grad_fn=<NllLossBackward0>), 'velocity': tensor(2.5470, device='cuda:0', grad_fn=<NllLossBackward0>), 'polyphony': tensor(1.5423, device='cuda:0', grad_fn=<NllLossBackward0>), 'density': tensor(1.6974, device='cuda:0', grad_fn=<NllLossBackward0>), 'piano_roll': tensor(1.1696, device='cuda:0', grad_fn=<NllLoss2DBackward0>), 'total': tensor(8.5108, device='cuda:0', grad_fn=<AddBackward0>)}] \n",
      "100%|██████████| 16/16 [00:09<00:00,  1.70it/s]\n"
     ]
    },
    {
     "name": "stdout",
     "output_type": "stream",
     "text": [
      "Generated:  [{'type': 'pitch', 'value': 17}, {'type': 'velocity', 'value': 21}, {'type': 'pitch', 'value': 29}, {'type': 'velocity', 'value': 22}, {'type': 'pitch', 'value': 36}, {'type': 'velocity', 'value': 20}, {'type': 'pitch', 'value': 41}, {'type': 'velocity', 'value': 20}, 'next_frame', 'next_frame']\n",
      "Chords:  ['D_m', 'C_M', 'None', 'None', 'F_M7', 'F_M7', 'E_m7', 'E_m7', 'G_7', 'G_7', 'G_7', 'G_7', 'A_m', 'A_m', 'G_M', 'G_M', 'G_M', 'G_M', 'G_M', 'G_M', 'F_M7', 'F_M7', 'F_M7', 'F_M7', 'E_m', 'E_m', 'G_7', 'G_7', 'D_m', 'D_m', 'D_m', 'D_m']\n"
     ]
    },
    {
     "name": "stderr",
     "output_type": "stream",
     "text": [
      "100%|██████████| 792/792 [02:53<00:00,  4.56it/s, batch=790, gpu_temp=61, loss={'chord': tensor(2.0181, device='cuda:0', grad_fn=<NllLossBackward0>), 'velocity': tensor(2.5869, device='cuda:0', grad_fn=<NllLossBackward0>), 'polyphony': tensor(1.6748, device='cuda:0', grad_fn=<NllLossBackward0>), 'density': tensor(2.4852, device='cuda:0', grad_fn=<NllLossBackward0>), 'piano_roll': tensor(1.4441, device='cuda:0', grad_fn=<NllLoss2DBackward0>), 'total': tensor(10.2091, device='cuda:0', grad_fn=<AddBackward0>)}]\n",
      "100%|██████████| 16/16 [00:09<00:00,  1.65it/s]\n"
     ]
    },
    {
     "name": "stdout",
     "output_type": "stream",
     "text": [
      "Generated:  ['next_frame', 'next_frame', 'next_frame', 'next_frame', 'next_frame', 'next_frame', 'next_frame', 'next_frame', 'next_frame', 'next_frame']\n",
      "Chords:  ['A_m', 'A_m', 'A_m', 'A_m', 'F_M7', 'F_M7', 'F_M7', 'F_M7', 'None', 'None', 'F_M7', 'F_M7', 'A_sus4', 'A_sus4', 'C_M', 'C_M', 'F_M7', 'F_M7', 'G_M', 'G_M', 'C_M', 'C_M', 'C_M7', 'C_M7', 'G_7', 'G_7', 'G_7', 'G_7', 'D_M', 'D_M', 'D_M', 'D_M']\n"
     ]
    },
    {
     "name": "stderr",
     "output_type": "stream",
     "text": [
      "100%|██████████| 792/792 [02:54<00:00,  4.53it/s, batch=790, gpu_temp=60, loss={'chord': tensor(1.6518, device='cuda:0', grad_fn=<NllLossBackward0>), 'velocity': tensor(2.1296, device='cuda:0', grad_fn=<NllLossBackward0>), 'polyphony': tensor(1.6167, device='cuda:0', grad_fn=<NllLossBackward0>), 'density': tensor(1.7729, device='cuda:0', grad_fn=<NllLossBackward0>), 'piano_roll': tensor(1.1910, device='cuda:0', grad_fn=<NllLoss2DBackward0>), 'total': tensor(8.3619, device='cuda:0', grad_fn=<AddBackward0>)}] \n",
      "100%|██████████| 16/16 [00:07<00:00,  2.06it/s]\n"
     ]
    },
    {
     "name": "stdout",
     "output_type": "stream",
     "text": [
      "Generated:  [{'type': 'pitch', 'value': 20}, {'type': 'velocity', 'value': 10}, {'type': 'pitch', 'value': 32}, {'type': 'velocity', 'value': 12}, {'type': 'pitch', 'value': 36}, {'type': 'velocity', 'value': 12}, {'type': 'pitch', 'value': 39}, {'type': 'velocity', 'value': 9}, 'next_frame', 'next_frame']\n",
      "Chords:  ['C_M', 'C_M', 'C_M', 'C_M', 'F_M7', 'F_M7', 'G_7', 'G_7', 'D_m7', 'A_m', 'D_m7', 'D_m7', 'F_M', 'F_M', 'F_M', 'F_M', 'E_M', 'E_M', 'E_M', 'E_M', 'F_M', 'F_M', 'F_M', 'F_M', 'A_m7', 'A_m7', 'A_m7', 'A_m7', 'E_7', 'E_7', 'A_m', 'A_m']\n"
     ]
    },
    {
     "name": "stderr",
     "output_type": "stream",
     "text": [
      "100%|██████████| 792/792 [02:57<00:00,  4.46it/s, batch=790, gpu_temp=55, loss={'chord': tensor(1.8851, device='cuda:0', grad_fn=<NllLossBackward0>), 'velocity': tensor(3.0345, device='cuda:0', grad_fn=<NllLossBackward0>), 'polyphony': tensor(1.5939, device='cuda:0', grad_fn=<NllLossBackward0>), 'density': tensor(2.0127, device='cuda:0', grad_fn=<NllLossBackward0>), 'piano_roll': tensor(1.2183, device='cuda:0', grad_fn=<NllLoss2DBackward0>), 'total': tensor(9.7445, device='cuda:0', grad_fn=<AddBackward0>)}] \n",
      "100%|██████████| 16/16 [00:07<00:00,  2.03it/s]\n"
     ]
    },
    {
     "name": "stdout",
     "output_type": "stream",
     "text": [
      "Generated:  ['next_frame', 'next_frame', 'next_frame', 'next_frame', 'next_frame', 'next_frame', 'next_frame', 'next_frame', 'next_frame', 'next_frame']\n",
      "Chords:  ['A_m7', 'A_m7', 'A_m7', 'A_m7', 'A_m', 'A_m', 'A_m', 'A_m', 'D_m7', 'D_m7', 'A_m7', 'A_m7', 'D_m7', 'D_m7', 'D_m7', 'D_m7', 'G_M', 'G_M', 'A_m', 'A_m', 'C_M', 'C_M', 'C_M', 'C_M', 'G_M', 'G_M', 'G_M', 'G_M', 'A_m7', 'A_m7', 'A_m7', 'A_m7']\n"
     ]
    },
    {
     "name": "stderr",
     "output_type": "stream",
     "text": [
      "100%|██████████| 792/792 [02:52<00:00,  4.59it/s, batch=790, gpu_temp=55, loss={'chord': tensor(2.0704, device='cuda:0', grad_fn=<NllLossBackward0>), 'velocity': tensor(2.4880, device='cuda:0', grad_fn=<NllLossBackward0>), 'polyphony': tensor(1.4268, device='cuda:0', grad_fn=<NllLossBackward0>), 'density': tensor(1.7366, device='cuda:0', grad_fn=<NllLossBackward0>), 'piano_roll': tensor(1.3139, device='cuda:0', grad_fn=<NllLoss2DBackward0>), 'total': tensor(9.0357, device='cuda:0', grad_fn=<AddBackward0>)}] \n",
      "100%|██████████| 16/16 [00:07<00:00,  2.09it/s]\n"
     ]
    },
    {
     "name": "stdout",
     "output_type": "stream",
     "text": [
      "Generated:  ['next_frame', 'next_frame', 'next_frame', 'next_frame', 'next_frame', 'next_frame', 'next_frame', 'next_frame', 'next_frame', 'next_frame']\n",
      "Chords:  ['A_m', 'A_m', 'A_m', 'A_m', 'G_M', 'G_M', 'G_M', 'G_M', 'F_M7', 'F_M7', 'C_M', 'C_M', 'C_M7', 'C_M7', 'C_M', 'C_M', 'A_m', 'A_m', 'A_m7', 'A_m7', 'C_M7', 'C_M7', 'C_M7', 'C_M7', 'A_sus4', 'A_m7', 'G_7', 'G_7', 'G_M', 'G_M', 'G_M', 'G_M']\n"
     ]
    },
    {
     "name": "stderr",
     "output_type": "stream",
     "text": [
      "100%|██████████| 792/792 [02:54<00:00,  4.53it/s, batch=790, gpu_temp=62, loss={'chord': tensor(1.3660, device='cuda:0', grad_fn=<NllLossBackward0>), 'velocity': tensor(2.1894, device='cuda:0', grad_fn=<NllLossBackward0>), 'polyphony': tensor(1.3758, device='cuda:0', grad_fn=<NllLossBackward0>), 'density': tensor(1.9129, device='cuda:0', grad_fn=<NllLossBackward0>), 'piano_roll': tensor(1.3454, device='cuda:0', grad_fn=<NllLoss2DBackward0>), 'total': tensor(8.1894, device='cuda:0', grad_fn=<AddBackward0>)}] \n",
      "100%|██████████| 16/16 [00:08<00:00,  1.97it/s]\n"
     ]
    },
    {
     "name": "stdout",
     "output_type": "stream",
     "text": [
      "Generated:  [{'type': 'pitch', 'value': 24}, {'type': 'velocity', 'value': 19}, {'type': 'pitch', 'value': 36}, {'type': 'velocity', 'value': 19}, {'type': 'pitch', 'value': 60}, {'type': 'velocity', 'value': 23}, 'next_frame', 'next_frame', 'next_frame', 'next_frame']\n",
      "Chords:  ['F_M', 'F_M', 'F_M', 'F_M', 'C_M', 'C_M', 'C_M', 'C_M', 'A_m7', 'A_m7', 'C_M', 'C_M', 'D_m7', 'D_m7', 'E_M', 'E_M', 'C_M', 'C_M', 'C_M7', 'C_M7', 'G_M', 'G_M', 'G_7', 'G_7', 'A_m', 'A_m', 'A_m', 'A_m', 'E_M', 'E_M', 'A_m7', 'A_m7']\n"
     ]
    },
    {
     "name": "stderr",
     "output_type": "stream",
     "text": [
      "100%|██████████| 792/792 [02:56<00:00,  4.48it/s, batch=790, gpu_temp=61, loss={'chord': tensor(1.5507, device='cuda:0', grad_fn=<NllLossBackward0>), 'velocity': tensor(2.6356, device='cuda:0', grad_fn=<NllLossBackward0>), 'polyphony': tensor(1.5138, device='cuda:0', grad_fn=<NllLossBackward0>), 'density': tensor(2.0322, device='cuda:0', grad_fn=<NllLossBackward0>), 'piano_roll': tensor(1.5338, device='cuda:0', grad_fn=<NllLoss2DBackward0>), 'total': tensor(9.2662, device='cuda:0', grad_fn=<AddBackward0>)}] \n",
      "100%|██████████| 16/16 [00:08<00:00,  1.96it/s]\n"
     ]
    },
    {
     "name": "stdout",
     "output_type": "stream",
     "text": [
      "Generated:  ['next_frame', 'next_frame', 'next_frame', 'next_frame', 'next_frame', 'next_frame', 'next_frame', 'next_frame', 'next_frame', 'next_frame']\n",
      "Chords:  ['None', 'None', 'None', 'None', 'A_m', 'A_m', 'A_m', 'A_m', 'A_m', 'A_m', 'A_m7', 'A_m7', 'F#_o', 'F#_o', 'F#_o', 'F#_o', 'A_m', 'A_m', 'A_m', 'A_m', 'A_m7', 'A_m7', 'A_m7', 'A_m7', 'A_m7', 'A_m7', 'A_m7', 'A_m7', 'F_M7', 'F_M7', 'F_M', 'F_M']\n"
     ]
    },
    {
     "name": "stderr",
     "output_type": "stream",
     "text": [
      "100%|██████████| 792/792 [02:53<00:00,  4.57it/s, batch=790, gpu_temp=61, loss={'chord': tensor(1.4207, device='cuda:0', grad_fn=<NllLossBackward0>), 'velocity': tensor(2.3557, device='cuda:0', grad_fn=<NllLossBackward0>), 'polyphony': tensor(1.6218, device='cuda:0', grad_fn=<NllLossBackward0>), 'density': tensor(2.1557, device='cuda:0', grad_fn=<NllLossBackward0>), 'piano_roll': tensor(1.2924, device='cuda:0', grad_fn=<NllLoss2DBackward0>), 'total': tensor(8.8463, device='cuda:0', grad_fn=<AddBackward0>)}] \n",
      "100%|██████████| 16/16 [00:07<00:00,  2.07it/s]\n"
     ]
    },
    {
     "name": "stdout",
     "output_type": "stream",
     "text": [
      "Generated:  [{'type': 'pitch', 'value': 24}, {'type': 'velocity', 'value': 14}, {'type': 'pitch', 'value': 43}, {'type': 'velocity', 'value': 16}, {'type': 'pitch', 'value': 48}, {'type': 'velocity', 'value': 16}, 'next_frame', 'next_frame', 'next_frame', 'next_frame']\n",
      "Chords:  ['C_M', 'C_M', 'F_M7', 'F_M7', 'C_M7', 'C_M7', 'F_M', 'F_M', 'C_M7', 'C_M7', 'E_m7', 'E_m7', 'G_M', 'G_M', 'G_M', 'G_M', 'C_M', 'C_M', 'F_M7', 'F_M7', 'C_M', 'C_M', 'C_M', 'C_M', 'C_sus2', 'C_sus2', 'F_M', 'F_M', 'D_m7', 'D_m7', 'D_m7', 'D_m7']\n"
     ]
    },
    {
     "name": "stderr",
     "output_type": "stream",
     "text": [
      "100%|██████████| 792/792 [02:55<00:00,  4.50it/s, batch=790, gpu_temp=61, loss={'chord': tensor(2.2254, device='cuda:0', grad_fn=<NllLossBackward0>), 'velocity': tensor(2.9707, device='cuda:0', grad_fn=<NllLossBackward0>), 'polyphony': tensor(1.9182, device='cuda:0', grad_fn=<NllLossBackward0>), 'density': tensor(1.8490, device='cuda:0', grad_fn=<NllLossBackward0>), 'piano_roll': tensor(1.5438, device='cuda:0', grad_fn=<NllLoss2DBackward0>), 'total': tensor(10.5071, device='cuda:0', grad_fn=<AddBackward0>)}]\n",
      "100%|██████████| 16/16 [00:09<00:00,  1.77it/s]\n"
     ]
    },
    {
     "name": "stdout",
     "output_type": "stream",
     "text": [
      "Generated:  [{'type': 'pitch', 'value': 36}, {'type': 'velocity', 'value': 18}, 'next_frame', 'next_frame', {'type': 'pitch', 'value': 43}, {'type': 'velocity', 'value': 20}, 'next_frame', 'next_frame', {'type': 'pitch', 'value': 48}, {'type': 'velocity', 'value': 18}]\n",
      "Chords:  ['None', 'None', 'F_M7', 'F_M7', 'C_+', 'C_+', 'E_M', 'E_M', 'G_7', 'G_7', 'C_M7', 'C_M7', 'F_M', 'F_M', 'F_M7', 'F_M7', 'G_M', 'G_M', 'G_M', 'G_M', 'C_M7', 'C_M7', 'C_M7', 'C_M7', 'C_M7', 'C_M7', 'C_M7', 'C_M7', 'C_M', 'C_M', 'C_M', 'C_M']\n"
     ]
    },
    {
     "name": "stderr",
     "output_type": "stream",
     "text": [
      "100%|██████████| 792/792 [02:54<00:00,  4.53it/s, batch=790, gpu_temp=62, loss={'chord': tensor(1.6535, device='cuda:0', grad_fn=<NllLossBackward0>), 'velocity': tensor(2.1887, device='cuda:0', grad_fn=<NllLossBackward0>), 'polyphony': tensor(1.3880, device='cuda:0', grad_fn=<NllLossBackward0>), 'density': tensor(1.9701, device='cuda:0', grad_fn=<NllLossBackward0>), 'piano_roll': tensor(1.2295, device='cuda:0', grad_fn=<NllLoss2DBackward0>), 'total': tensor(8.4298, device='cuda:0', grad_fn=<AddBackward0>)}] \n",
      "100%|██████████| 16/16 [00:08<00:00,  1.81it/s]\n"
     ]
    },
    {
     "name": "stdout",
     "output_type": "stream",
     "text": [
      "Generated:  [{'type': 'pitch', 'value': 27}, {'type': 'velocity', 'value': 11}, {'type': 'pitch', 'value': 39}, {'type': 'velocity', 'value': 14}, {'type': 'pitch', 'value': 43}, {'type': 'velocity', 'value': 15}, {'type': 'pitch', 'value': 46}, {'type': 'velocity', 'value': 17}, 'next_frame', 'next_frame']\n",
      "Chords:  ['None', 'None', 'None', 'None', 'A_M', 'A_M', 'A_M7', 'A_M7', 'F_M7', 'F_M7', 'C_M7', 'C_M7', 'F_M7', 'F_M7', 'C_M7', 'C_M7', 'A_m', 'A_m', 'A_m', 'A_m', 'C_M7', 'C_M7', 'G_M', 'G_M', 'F_M7', 'F_M7', 'G_7', 'G_7', 'A_m', 'A_m', 'A_m', 'A_m']\n"
     ]
    },
    {
     "name": "stderr",
     "output_type": "stream",
     "text": [
      "100%|██████████| 792/792 [02:52<00:00,  4.58it/s, batch=790, gpu_temp=61, loss={'chord': tensor(2.0864, device='cuda:0', grad_fn=<NllLossBackward0>), 'velocity': tensor(1.8181, device='cuda:0', grad_fn=<NllLossBackward0>), 'polyphony': tensor(1.8889, device='cuda:0', grad_fn=<NllLossBackward0>), 'density': tensor(1.8697, device='cuda:0', grad_fn=<NllLossBackward0>), 'piano_roll': tensor(1.3549, device='cuda:0', grad_fn=<NllLoss2DBackward0>), 'total': tensor(9.0179, device='cuda:0', grad_fn=<AddBackward0>)}] \n",
      "100%|██████████| 16/16 [00:08<00:00,  1.88it/s]\n"
     ]
    },
    {
     "name": "stdout",
     "output_type": "stream",
     "text": [
      "Generated:  [{'type': 'pitch', 'value': 22}, {'type': 'velocity', 'value': 15}, {'type': 'pitch', 'value': 29}, {'type': 'velocity', 'value': 15}, {'type': 'pitch', 'value': 34}, {'type': 'velocity', 'value': 16}, 'next_frame', 'next_frame', 'next_frame', 'next_frame']\n",
      "Chords:  ['A_m', 'A_m', 'A_m7', 'A_m7', 'F_sus2', 'F_sus2', 'F_sus2', 'F_sus2', 'G#_M', 'G#_M', 'A#_7', 'A#_7', 'F_M', 'F_M', 'C_M', 'C_M', 'G_M', 'G_M', 'G_M', 'G_M', 'E_m7', 'E_m7', 'E_m7', 'E_m7', 'A_m', 'A_m', 'A_m', 'A_m', 'F_M7', 'F_M7', 'F_M7', 'F_M7']\n"
     ]
    },
    {
     "name": "stderr",
     "output_type": "stream",
     "text": [
      "100%|██████████| 792/792 [02:55<00:00,  4.50it/s, batch=790, gpu_temp=55, loss={'chord': tensor(1.6574, device='cuda:0', grad_fn=<NllLossBackward0>), 'velocity': tensor(2.1013, device='cuda:0', grad_fn=<NllLossBackward0>), 'polyphony': tensor(2.0711, device='cuda:0', grad_fn=<NllLossBackward0>), 'density': tensor(1.8845, device='cuda:0', grad_fn=<NllLossBackward0>), 'piano_roll': tensor(1.3430, device='cuda:0', grad_fn=<NllLoss2DBackward0>), 'total': tensor(9.0573, device='cuda:0', grad_fn=<AddBackward0>)}] \n",
      "100%|██████████| 16/16 [00:08<00:00,  1.98it/s]\n"
     ]
    },
    {
     "name": "stdout",
     "output_type": "stream",
     "text": [
      "Generated:  ['next_frame', 'next_frame', 'next_frame', 'next_frame', 'next_frame', 'next_frame', 'next_frame', 'next_frame', 'next_frame', 'next_frame']\n",
      "Chords:  ['None', 'None', 'None', 'None', 'F_sus2', 'F_sus2', 'F_M7', 'F_M7', 'E_7', 'E_7', 'A_m', 'A_m', 'G_m7', 'G_m7', 'G_M', 'G_M', 'G_M', 'G_M', 'E_m7', 'E_m7', 'A_m7', 'A_m7', 'A_m7', 'A_m7', 'F_M', 'F_M', 'F_M7', 'F_M7', 'C_M', 'C_M', 'C_M', 'C_M']\n"
     ]
    },
    {
     "name": "stderr",
     "output_type": "stream",
     "text": [
      "100%|██████████| 792/792 [02:53<00:00,  4.56it/s, batch=790, gpu_temp=61, loss={'chord': tensor(1.6115, device='cuda:0', grad_fn=<NllLossBackward0>), 'velocity': tensor(2.1166, device='cuda:0', grad_fn=<NllLossBackward0>), 'polyphony': tensor(1.5070, device='cuda:0', grad_fn=<NllLossBackward0>), 'density': tensor(1.7519, device='cuda:0', grad_fn=<NllLossBackward0>), 'piano_roll': tensor(1.2384, device='cuda:0', grad_fn=<NllLoss2DBackward0>), 'total': tensor(8.2254, device='cuda:0', grad_fn=<AddBackward0>)}] \n",
      "100%|██████████| 16/16 [00:07<00:00,  2.02it/s]\n"
     ]
    },
    {
     "name": "stdout",
     "output_type": "stream",
     "text": [
      "Generated:  [{'type': 'pitch', 'value': 15}, {'type': 'velocity', 'value': 19}, {'type': 'pitch', 'value': 27}, {'type': 'velocity', 'value': 20}, 'next_frame', 'next_frame', 'next_frame', 'next_frame', {'type': 'pitch', 'value': 43}, {'type': 'velocity', 'value': 18}]\n",
      "Chords:  ['A_M', 'A_M', 'A_M', 'A_M', 'C_M7', 'C_M7', 'G_7', 'G_7', 'D_m7', 'D_m7', 'D_m7', 'D_m7', 'G_7', 'G_7', 'G_M', 'G_M', 'F_M', 'F_M', 'F_M', 'F_M', 'G_7', 'G_7', 'G_M', 'G_M', 'A_m', 'A_m', 'A_m', 'A_m', 'A_M', 'A_M', 'D_m7', 'D_m7']\n"
     ]
    },
    {
     "name": "stderr",
     "output_type": "stream",
     "text": [
      "100%|██████████| 792/792 [02:54<00:00,  4.53it/s, batch=790, gpu_temp=61, loss={'chord': tensor(1.8553, device='cuda:0', grad_fn=<NllLossBackward0>), 'velocity': tensor(2.2560, device='cuda:0', grad_fn=<NllLossBackward0>), 'polyphony': tensor(1.6063, device='cuda:0', grad_fn=<NllLossBackward0>), 'density': tensor(1.8153, device='cuda:0', grad_fn=<NllLossBackward0>), 'piano_roll': tensor(1.1532, device='cuda:0', grad_fn=<NllLoss2DBackward0>), 'total': tensor(8.6861, device='cuda:0', grad_fn=<AddBackward0>)}] \n",
      "100%|██████████| 16/16 [00:07<00:00,  2.07it/s]\n"
     ]
    },
    {
     "name": "stdout",
     "output_type": "stream",
     "text": [
      "Generated:  ['next_frame', 'next_frame', 'next_frame', 'next_frame', 'next_frame', 'next_frame', 'next_frame', 'next_frame', 'next_frame', 'next_frame']\n",
      "Chords:  ['G_M', 'G_M', 'E_m7', 'E_m7', 'E_m7', 'E_m7', 'E_m7', 'E_m7', 'A_m', 'A_m', 'A_m', 'A_m', 'C_M', 'C_M', 'C_M', 'C_M', 'C_M', 'C_M', 'C_M', 'C_M', 'F_M', 'F_M', 'G_7', 'G_7', 'A_M', 'A_M', 'A_M', 'A_M', 'None', 'None', 'None', 'None']\n"
     ]
    },
    {
     "name": "stderr",
     "output_type": "stream",
     "text": [
      "100%|██████████| 792/792 [02:52<00:00,  4.59it/s, batch=790, gpu_temp=61, loss={'chord': tensor(1.8971, device='cuda:0', grad_fn=<NllLossBackward0>), 'velocity': tensor(1.9996, device='cuda:0', grad_fn=<NllLossBackward0>), 'polyphony': tensor(1.3883, device='cuda:0', grad_fn=<NllLossBackward0>), 'density': tensor(1.6219, device='cuda:0', grad_fn=<NllLossBackward0>), 'piano_roll': tensor(1.0312, device='cuda:0', grad_fn=<NllLoss2DBackward0>), 'total': tensor(7.9382, device='cuda:0', grad_fn=<AddBackward0>)}] \n",
      "100%|██████████| 16/16 [00:07<00:00,  2.09it/s]\n"
     ]
    },
    {
     "name": "stdout",
     "output_type": "stream",
     "text": [
      "Generated:  [{'type': 'pitch', 'value': 39}, {'type': 'velocity', 'value': 14}, {'type': 'pitch', 'value': 46}, {'type': 'velocity', 'value': 13}, 'next_frame', 'next_frame', 'next_frame', 'next_frame', 'next_frame', {'type': 'pitch', 'value': 51}]\n",
      "Chords:  ['None', 'None', 'D_m7', 'D_m7', 'C_M', 'C_M', 'C_M', 'C_M', 'D_m7', 'D_m7', 'G_M', 'G_M', 'F_M', 'F_M', 'A_m7', 'A_m7', 'A_m7', 'A_m7', 'A_m7', 'A_m7', 'A_m', 'A_m', 'A_m7', 'A_m7', 'E_m7', 'E_m7', 'C_M', 'C_M', 'G_M', 'G_M', 'G_M', 'G_M']\n"
     ]
    },
    {
     "name": "stderr",
     "output_type": "stream",
     "text": [
      "100%|██████████| 792/792 [02:54<00:00,  4.54it/s, batch=790, gpu_temp=61, loss={'chord': tensor(1.3769, device='cuda:0', grad_fn=<NllLossBackward0>), 'velocity': tensor(2.3892, device='cuda:0', grad_fn=<NllLossBackward0>), 'polyphony': tensor(1.3951, device='cuda:0', grad_fn=<NllLossBackward0>), 'density': tensor(1.9783, device='cuda:0', grad_fn=<NllLossBackward0>), 'piano_roll': tensor(1.3251, device='cuda:0', grad_fn=<NllLoss2DBackward0>), 'total': tensor(8.4646, device='cuda:0', grad_fn=<AddBackward0>)}] \n",
      "100%|██████████| 16/16 [00:07<00:00,  2.19it/s]\n"
     ]
    },
    {
     "name": "stdout",
     "output_type": "stream",
     "text": [
      "Generated:  ['next_frame', 'next_frame', 'next_frame', 'next_frame', 'next_frame', 'next_frame', 'next_frame', 'next_frame', 'next_frame', 'next_frame']\n",
      "Chords:  ['A_m', 'A_m', 'A_m', 'A_m', 'A_m', 'A_m', 'A_m', 'A_m', 'E_m7', 'E_m7', 'A_m', 'A_m', 'A_m', 'A_m', 'A_m', 'A_m', 'B_o', 'B_o', 'A_m', 'A_m', 'C_M', 'C_M', 'C_M7', 'C_M7', 'C_M7', 'C_M7', 'C_M', 'C_M', 'F_M7', 'F_M7', 'F_M7', 'F_M7']\n"
     ]
    },
    {
     "name": "stderr",
     "output_type": "stream",
     "text": [
      "100%|██████████| 792/792 [02:56<00:00,  4.49it/s, batch=790, gpu_temp=61, loss={'chord': tensor(1.9417, device='cuda:0', grad_fn=<NllLossBackward0>), 'velocity': tensor(2.2427, device='cuda:0', grad_fn=<NllLossBackward0>), 'polyphony': tensor(1.4046, device='cuda:0', grad_fn=<NllLossBackward0>), 'density': tensor(1.8104, device='cuda:0', grad_fn=<NllLossBackward0>), 'piano_roll': tensor(1.3877, device='cuda:0', grad_fn=<NllLoss2DBackward0>), 'total': tensor(8.7871, device='cuda:0', grad_fn=<AddBackward0>)}] \n",
      "100%|██████████| 16/16 [00:07<00:00,  2.04it/s]\n"
     ]
    },
    {
     "name": "stdout",
     "output_type": "stream",
     "text": [
      "Generated:  [{'type': 'pitch', 'value': 19}, {'type': 'velocity', 'value': 12}, {'type': 'pitch', 'value': 26}, {'type': 'velocity', 'value': 12}, {'type': 'pitch', 'value': 31}, {'type': 'velocity', 'value': 11}, {'type': 'pitch', 'value': 35}, {'type': 'velocity', 'value': 13}, 'next_frame', 'next_frame']\n",
      "Chords:  ['None', 'None', 'None', 'None', 'C_M', 'C_M', 'C_M', 'C_M', 'A_m7', 'A_m7', 'C_M', 'C_M', 'D_m7', 'D_m7', 'G_M', 'G_M', 'C_M', 'C_M', 'G_M', 'G_M', 'F_M7', 'F_M7', 'F_M7', 'F_M7', 'G_M', 'G_M', 'G_M', 'G_M', 'G_M', 'G_M', 'G_M', 'G_M']\n"
     ]
    },
    {
     "name": "stderr",
     "output_type": "stream",
     "text": [
      "100%|██████████| 792/792 [02:56<00:00,  4.48it/s, batch=790, gpu_temp=55, loss={'chord': tensor(1.8470, device='cuda:0', grad_fn=<NllLossBackward0>), 'velocity': tensor(1.9344, device='cuda:0', grad_fn=<NllLossBackward0>), 'polyphony': tensor(1.4371, device='cuda:0', grad_fn=<NllLossBackward0>), 'density': tensor(1.8602, device='cuda:0', grad_fn=<NllLossBackward0>), 'piano_roll': tensor(1.1742, device='cuda:0', grad_fn=<NllLoss2DBackward0>), 'total': tensor(8.2529, device='cuda:0', grad_fn=<AddBackward0>)}] \n",
      "100%|██████████| 16/16 [00:07<00:00,  2.24it/s]\n"
     ]
    },
    {
     "name": "stdout",
     "output_type": "stream",
     "text": [
      "Generated:  ['next_frame', 'next_frame', 'next_frame', 'next_frame', 'next_frame', 'next_frame', 'next_frame', 'next_frame', 'next_frame', 'next_frame']\n",
      "Chords:  ['None', 'None', 'None', 'None', 'C_M', 'C_M', 'C_M', 'C_M', 'A_m', 'A_m', 'A_m', 'A_m', 'A_m', 'A_m', 'A_m', 'A_m', 'A_m', 'A_m', 'A_m', 'A_m', 'A_m7', 'A_m7', 'F_M7', 'F_M7', 'F_M', 'F_M', 'G_M', 'G_M', 'C_M', 'C_M', 'C_M7', 'C_M7']\n"
     ]
    },
    {
     "name": "stderr",
     "output_type": "stream",
     "text": [
      "100%|██████████| 792/792 [02:56<00:00,  4.48it/s, batch=790, gpu_temp=60, loss={'chord': tensor(2.1612, device='cuda:0', grad_fn=<NllLossBackward0>), 'velocity': tensor(2.0563, device='cuda:0', grad_fn=<NllLossBackward0>), 'polyphony': tensor(1.3752, device='cuda:0', grad_fn=<NllLossBackward0>), 'density': tensor(1.8185, device='cuda:0', grad_fn=<NllLossBackward0>), 'piano_roll': tensor(1.1382, device='cuda:0', grad_fn=<NllLoss2DBackward0>), 'total': tensor(8.5494, device='cuda:0', grad_fn=<AddBackward0>)}] \n",
      "100%|██████████| 16/16 [00:06<00:00,  2.43it/s]\n"
     ]
    },
    {
     "name": "stdout",
     "output_type": "stream",
     "text": [
      "Generated:  ['next_frame', 'next_frame', 'next_frame', 'next_frame', 'next_frame', 'next_frame', 'next_frame', 'next_frame', 'next_frame', 'next_frame']\n",
      "Chords:  ['C_M', 'C_M', 'C_M7', 'C_M7', 'None', 'None', 'None', 'None', 'A_m7', 'A_m7', 'A_m7', 'A_m7', 'C_M', 'C_M', 'C_M', 'C_M', 'C_M', 'C_M', 'C_M', 'C_M', 'A_m', 'A_m', 'A_m', 'A_m', 'A_m7', 'A_m7', 'A_m7', 'A_m7', 'C_M', 'C_M', 'C_M', 'C_M']\n"
     ]
    },
    {
     "name": "stderr",
     "output_type": "stream",
     "text": [
      "100%|██████████| 792/792 [02:55<00:00,  4.50it/s, batch=790, gpu_temp=60, loss={'chord': tensor(1.6056, device='cuda:0', grad_fn=<NllLossBackward0>), 'velocity': tensor(2.2890, device='cuda:0', grad_fn=<NllLossBackward0>), 'polyphony': tensor(1.6719, device='cuda:0', grad_fn=<NllLossBackward0>), 'density': tensor(1.6460, device='cuda:0', grad_fn=<NllLossBackward0>), 'piano_roll': tensor(1.1421, device='cuda:0', grad_fn=<NllLoss2DBackward0>), 'total': tensor(8.3547, device='cuda:0', grad_fn=<AddBackward0>)}] \n",
      "100%|██████████| 16/16 [00:08<00:00,  1.92it/s]\n"
     ]
    },
    {
     "name": "stdout",
     "output_type": "stream",
     "text": [
      "Generated:  [{'type': 'pitch', 'value': 31}, {'type': 'velocity', 'value': 19}, {'type': 'pitch', 'value': 59}, {'type': 'velocity', 'value': 19}, {'type': 'pitch', 'value': 62}, {'type': 'velocity', 'value': 22}, 'next_frame', 'next_frame', 'next_frame', 'next_frame']\n",
      "Chords:  ['A_M', 'A_M', 'A_M7', 'A_M7', 'A_M', 'A_M', 'A_m', 'A_m', 'F_M', 'F_M', 'F_M7', 'F_M7', 'F_sus2', 'F_sus2', 'F_sus2', 'F_sus2', 'C_M', 'C_M', 'G_M', 'G_M', 'G_M', 'G_M', 'C_M', 'C_M', 'G_7', 'G_7', 'G_M', 'G_M', 'C_M', 'C_M', 'E_m7', 'E_m7']\n"
     ]
    },
    {
     "name": "stderr",
     "output_type": "stream",
     "text": [
      "100%|██████████| 792/792 [02:57<00:00,  4.45it/s, batch=790, gpu_temp=61, loss={'chord': tensor(1.8322, device='cuda:0', grad_fn=<NllLossBackward0>), 'velocity': tensor(2.2238, device='cuda:0', grad_fn=<NllLossBackward0>), 'polyphony': tensor(1.6124, device='cuda:0', grad_fn=<NllLossBackward0>), 'density': tensor(1.9735, device='cuda:0', grad_fn=<NllLossBackward0>), 'piano_roll': tensor(1.1706, device='cuda:0', grad_fn=<NllLoss2DBackward0>), 'total': tensor(8.8125, device='cuda:0', grad_fn=<AddBackward0>)}]\n",
      "100%|██████████| 16/16 [00:07<00:00,  2.17it/s]\n"
     ]
    },
    {
     "name": "stdout",
     "output_type": "stream",
     "text": [
      "Generated:  [{'type': 'pitch', 'value': 20}, {'type': 'velocity', 'value': 13}, {'type': 'pitch', 'value': 39}, {'type': 'velocity', 'value': 14}, {'type': 'pitch', 'value': 46}, {'type': 'velocity', 'value': 15}, {'type': 'pitch', 'value': 48}, {'type': 'velocity', 'value': 15}, 'next_frame', 'next_frame']\n",
      "Chords:  ['None', 'None', 'None', 'None', 'A_m', 'A_m', 'G_M', 'G_M', 'A_m7', 'A_m7', 'A_m', 'A_m', 'F_m', 'F_m', 'F_m', 'F_m', 'F_M7', 'F_M7', 'F_M7', 'F_M7', 'C_M', 'C_M', 'C_M', 'C_M', 'F_M', 'F_M', 'None', 'None', 'D_m', 'D_m', 'D_m7', 'D_m7']\n"
     ]
    },
    {
     "name": "stderr",
     "output_type": "stream",
     "text": [
      "100%|██████████| 792/792 [02:56<00:00,  4.48it/s, batch=790, gpu_temp=55, loss={'chord': tensor(2.2509, device='cuda:0', grad_fn=<NllLossBackward0>), 'velocity': tensor(2.0756, device='cuda:0', grad_fn=<NllLossBackward0>), 'polyphony': tensor(1.7147, device='cuda:0', grad_fn=<NllLossBackward0>), 'density': tensor(2.1201, device='cuda:0', grad_fn=<NllLossBackward0>), 'piano_roll': tensor(1.3880, device='cuda:0', grad_fn=<NllLoss2DBackward0>), 'total': tensor(9.5493, device='cuda:0', grad_fn=<AddBackward0>)}] \n",
      "100%|██████████| 16/16 [00:07<00:00,  2.18it/s]\n"
     ]
    },
    {
     "name": "stdout",
     "output_type": "stream",
     "text": [
      "Generated:  [{'type': 'pitch', 'value': 12}, {'type': 'velocity', 'value': 18}, {'type': 'pitch', 'value': 24}, {'type': 'velocity', 'value': 20}, {'type': 'pitch', 'value': 36}, {'type': 'velocity', 'value': 22}, {'type': 'pitch', 'value': 48}, {'type': 'velocity', 'value': 22}, 'next_frame', 'next_frame']\n",
      "Chords:  ['None', 'None', 'None', 'None', 'A_m7', 'A_m7', 'A_m7', 'A_m7', 'D_m7', 'D_m7', 'D_m7', 'D_m7', 'E_m7', 'E_m7', 'None', 'None', 'None', 'None', 'F_M7', 'F_M7', 'E_M', 'E_M', 'E_7', 'E_7', 'A_m', 'A_m', 'F_M7', 'F_M7', 'G_M', 'G_M', 'G_M', 'G_M']\n"
     ]
    },
    {
     "name": "stderr",
     "output_type": "stream",
     "text": [
      "100%|██████████| 792/792 [02:55<00:00,  4.50it/s, batch=790, gpu_temp=55, loss={'chord': tensor(1.5203, device='cuda:0', grad_fn=<NllLossBackward0>), 'velocity': tensor(2.3609, device='cuda:0', grad_fn=<NllLossBackward0>), 'polyphony': tensor(1.4075, device='cuda:0', grad_fn=<NllLossBackward0>), 'density': tensor(1.6952, device='cuda:0', grad_fn=<NllLossBackward0>), 'piano_roll': tensor(1.0950, device='cuda:0', grad_fn=<NllLoss2DBackward0>), 'total': tensor(8.0790, device='cuda:0', grad_fn=<AddBackward0>)}] \n",
      "100%|██████████| 16/16 [00:07<00:00,  2.08it/s]\n"
     ]
    },
    {
     "name": "stdout",
     "output_type": "stream",
     "text": [
      "Generated:  ['next_frame', 'next_frame', 'next_frame', 'next_frame', 'next_frame', 'next_frame', 'next_frame', 'next_frame', 'next_frame', 'next_frame']\n",
      "Chords:  ['C_M', 'C_M', 'C_M', 'C_M', 'C_M', 'C_M', 'C_M', 'C_M', 'E_7', 'E_7', 'A_m', 'A_m', 'C_M', 'C_M', 'C_M', 'C_M', 'E_M', 'E_M', 'E_M', 'E_M', 'E_m', 'E_m', 'E_m', 'E_m', 'C_M', 'C_M', 'E_m7', 'E_m7', 'C_M', 'C_M', 'C_M', 'C_M']\n"
     ]
    },
    {
     "name": "stderr",
     "output_type": "stream",
     "text": [
      "100%|██████████| 792/792 [02:56<00:00,  4.49it/s, batch=790, gpu_temp=60, loss={'chord': tensor(1.6213, device='cuda:0', grad_fn=<NllLossBackward0>), 'velocity': tensor(2.3476, device='cuda:0', grad_fn=<NllLossBackward0>), 'polyphony': tensor(1.3539, device='cuda:0', grad_fn=<NllLossBackward0>), 'density': tensor(2.0366, device='cuda:0', grad_fn=<NllLossBackward0>), 'piano_roll': tensor(1.2928, device='cuda:0', grad_fn=<NllLoss2DBackward0>), 'total': tensor(8.6522, device='cuda:0', grad_fn=<AddBackward0>)}] \n",
      "100%|██████████| 16/16 [00:06<00:00,  2.38it/s]\n"
     ]
    },
    {
     "name": "stdout",
     "output_type": "stream",
     "text": [
      "Generated:  [{'type': 'pitch', 'value': 12}, {'type': 'velocity', 'value': 19}, {'type': 'pitch', 'value': 24}, {'type': 'velocity', 'value': 20}, {'type': 'pitch', 'value': 36}, {'type': 'velocity', 'value': 18}, {'type': 'pitch', 'value': 39}, {'type': 'velocity', 'value': 19}, {'type': 'pitch', 'value': 43}, {'type': 'velocity', 'value': 20}]\n",
      "Chords:  ['None', 'None', 'A_m', 'A_m', 'F_M7', 'F_M7', 'A_m7', 'A_m7', 'E_o', 'E_o', 'C_M', 'C_M', 'G_sus2', 'G_sus2', 'G_+', 'G_+', 'A_m7', 'A_m7', 'A_m7', 'A_m7', 'D_m', 'D_m', 'D_m7', 'D_m7', 'F_M7', 'F_M7', 'F_M7', 'F_M7', 'F_M', 'F_M', 'G_M', 'G_M']\n"
     ]
    },
    {
     "name": "stderr",
     "output_type": "stream",
     "text": [
      "100%|██████████| 792/792 [02:56<00:00,  4.48it/s, batch=790, gpu_temp=60, loss={'chord': tensor(1.6138, device='cuda:0', grad_fn=<NllLossBackward0>), 'velocity': tensor(2.0418, device='cuda:0', grad_fn=<NllLossBackward0>), 'polyphony': tensor(1.4788, device='cuda:0', grad_fn=<NllLossBackward0>), 'density': tensor(1.7885, device='cuda:0', grad_fn=<NllLossBackward0>), 'piano_roll': tensor(1.2625, device='cuda:0', grad_fn=<NllLoss2DBackward0>), 'total': tensor(8.1854, device='cuda:0', grad_fn=<AddBackward0>)}] \n",
      "100%|██████████| 16/16 [00:07<00:00,  2.10it/s]\n"
     ]
    },
    {
     "name": "stdout",
     "output_type": "stream",
     "text": [
      "Generated:  [{'type': 'pitch', 'value': 24}, {'type': 'velocity', 'value': 15}, {'type': 'pitch', 'value': 31}, {'type': 'velocity', 'value': 13}, {'type': 'pitch', 'value': 36}, {'type': 'velocity', 'value': 14}, {'type': 'pitch', 'value': 39}, {'type': 'velocity', 'value': 15}, {'type': 'pitch', 'value': 43}, {'type': 'velocity', 'value': 14}]\n",
      "Chords:  ['None', 'None', 'E_m7', 'E_m7', 'A_m', 'A_m', 'A_m', 'A_m', 'C_M7', 'C_M7', 'A_m', 'A_m', 'A_m7', 'A_m7', 'D_m7', 'D_m7', 'C_M', 'C_M', 'C_M', 'C_M', 'A_m7', 'A_m7', 'A_m7', 'A_m7', 'F_M', 'F_M', 'F_M', 'F_M', 'D_m7', 'D_m7', 'C_M7', 'C_M7']\n"
     ]
    },
    {
     "name": "stderr",
     "output_type": "stream",
     "text": [
      "100%|██████████| 792/792 [02:57<00:00,  4.46it/s, batch=790, gpu_temp=61, loss={'chord': tensor(1.5162, device='cuda:0', grad_fn=<NllLossBackward0>), 'velocity': tensor(2.5319, device='cuda:0', grad_fn=<NllLossBackward0>), 'polyphony': tensor(1.4182, device='cuda:0', grad_fn=<NllLossBackward0>), 'density': tensor(1.8115, device='cuda:0', grad_fn=<NllLossBackward0>), 'piano_roll': tensor(1.2306, device='cuda:0', grad_fn=<NllLoss2DBackward0>), 'total': tensor(8.5085, device='cuda:0', grad_fn=<AddBackward0>)}] \n",
      "100%|██████████| 16/16 [00:07<00:00,  2.21it/s]\n"
     ]
    },
    {
     "name": "stdout",
     "output_type": "stream",
     "text": [
      "Generated:  ['next_frame', 'next_frame', 'next_frame', 'next_frame', 'next_frame', 'next_frame', 'next_frame', 'next_frame', 'next_frame', 'next_frame']\n",
      "Chords:  ['C_M', 'C_M', 'C_M', 'C_M', 'G_7', 'G_7', 'D_m7', 'D_m7', 'F_M', 'F_M', 'F_M', 'F_M', 'A_sus4', 'A_sus4', 'A_m', 'A_m', 'G_M', 'G_M', 'C_M7', 'C_M7', 'A_m7', 'A_m7', 'A_m7', 'A_m7', 'G_M', 'G_M', 'G_M', 'G_M', 'B_o', 'B_o', 'B_o', 'B_o']\n"
     ]
    },
    {
     "name": "stderr",
     "output_type": "stream",
     "text": [
      "100%|██████████| 792/792 [02:57<00:00,  4.47it/s, batch=790, gpu_temp=60, loss={'chord': tensor(1.9625, device='cuda:0', grad_fn=<NllLossBackward0>), 'velocity': tensor(2.1005, device='cuda:0', grad_fn=<NllLossBackward0>), 'polyphony': tensor(1.3745, device='cuda:0', grad_fn=<NllLossBackward0>), 'density': tensor(1.8409, device='cuda:0', grad_fn=<NllLossBackward0>), 'piano_roll': tensor(1.2601, device='cuda:0', grad_fn=<NllLoss2DBackward0>), 'total': tensor(8.5385, device='cuda:0', grad_fn=<AddBackward0>)}] \n",
      "100%|██████████| 16/16 [00:07<00:00,  2.20it/s]\n"
     ]
    },
    {
     "name": "stdout",
     "output_type": "stream",
     "text": [
      "Generated:  ['next_frame', 'next_frame', 'next_frame', 'next_frame', 'next_frame', 'next_frame', 'next_frame', 'next_frame', 'next_frame', 'next_frame']\n",
      "Chords:  ['None', 'None', 'C_M7', 'C_M7', 'None', 'None', 'None', 'None', 'None', 'None', 'None', 'None', 'E_m7', 'E_m7', 'E_m7', 'E_m7', 'A_M', 'A_M', 'A_M7', 'A_M7', 'A_m', 'A_m', 'C_M7', 'C_M7', 'C_M', 'C_M', 'C_M', 'C_M', 'A#_M', 'A#_M', 'A#_M', 'A#_M']\n"
     ]
    },
    {
     "name": "stderr",
     "output_type": "stream",
     "text": [
      "100%|██████████| 792/792 [02:57<00:00,  4.46it/s, batch=790, gpu_temp=55, loss={'chord': tensor(1.5655, device='cuda:0', grad_fn=<NllLossBackward0>), 'velocity': tensor(1.9646, device='cuda:0', grad_fn=<NllLossBackward0>), 'polyphony': tensor(1.3319, device='cuda:0', grad_fn=<NllLossBackward0>), 'density': tensor(1.7671, device='cuda:0', grad_fn=<NllLossBackward0>), 'piano_roll': tensor(1.2663, device='cuda:0', grad_fn=<NllLoss2DBackward0>), 'total': tensor(7.8953, device='cuda:0', grad_fn=<AddBackward0>)}]\n",
      "100%|██████████| 16/16 [00:07<00:00,  2.20it/s]\n"
     ]
    },
    {
     "name": "stdout",
     "output_type": "stream",
     "text": [
      "Generated:  [{'type': 'pitch', 'value': 36}, {'type': 'velocity', 'value': 19}, {'type': 'pitch', 'value': 48}, {'type': 'velocity', 'value': 19}, 'next_frame', 'next_frame', 'next_frame', 'next_frame', {'type': 'pitch', 'value': 39}, {'type': 'velocity', 'value': 17}]\n",
      "Chords:  ['None', 'None', 'None', 'None', 'E_m7', 'E_m7', 'A_m', 'A_m', 'C_M', 'C_M', 'C_M', 'C_M', 'None', 'None', 'G_7', 'G_7', 'F_M7', 'F_M7', 'C_+', 'C_+', 'F_sus2', 'F_sus2', 'C_M', 'C_M', 'C_M', 'C_M', 'C_M7', 'C_M7', 'C_M', 'C_M', 'C_M', 'C_M']\n"
     ]
    },
    {
     "name": "stderr",
     "output_type": "stream",
     "text": [
      "100%|██████████| 792/792 [02:57<00:00,  4.47it/s, batch=790, gpu_temp=55, loss={'chord': tensor(1.6410, device='cuda:0', grad_fn=<NllLossBackward0>), 'velocity': tensor(2.2543, device='cuda:0', grad_fn=<NllLossBackward0>), 'polyphony': tensor(1.6801, device='cuda:0', grad_fn=<NllLossBackward0>), 'density': tensor(2.3062, device='cuda:0', grad_fn=<NllLossBackward0>), 'piano_roll': tensor(1.3636, device='cuda:0', grad_fn=<NllLoss2DBackward0>), 'total': tensor(9.2451, device='cuda:0', grad_fn=<AddBackward0>)}]\n",
      "100%|██████████| 16/16 [00:07<00:00,  2.24it/s]\n"
     ]
    },
    {
     "name": "stdout",
     "output_type": "stream",
     "text": [
      "Generated:  ['next_frame', 'next_frame', 'next_frame', 'next_frame', 'next_frame', 'next_frame', 'next_frame', 'next_frame', 'next_frame', 'next_frame']\n",
      "Chords:  ['None', 'None', 'C_M7', 'C_M7', 'C_M', 'C_M', 'A_m7', 'A_m7', 'F_M7', 'F_M7', 'C_+', 'C_+', 'E_m7', 'E_m7', 'E_m7', 'E_m7', 'A_m', 'A_m', 'A_m', 'A_m', 'D_M', 'G_M', 'E_m7', 'E_m7', 'E_m', 'E_m', 'E_M', 'E_M', 'A_M', 'A_M', 'A_M', 'A_M']\n"
     ]
    },
    {
     "name": "stderr",
     "output_type": "stream",
     "text": [
      "100%|██████████| 792/792 [02:57<00:00,  4.45it/s, batch=790, gpu_temp=61, loss={'chord': tensor(1.1968, device='cuda:0', grad_fn=<NllLossBackward0>), 'velocity': tensor(3.0527, device='cuda:0', grad_fn=<NllLossBackward0>), 'polyphony': tensor(1.6595, device='cuda:0', grad_fn=<NllLossBackward0>), 'density': tensor(2.4389, device='cuda:0', grad_fn=<NllLossBackward0>), 'piano_roll': tensor(1.2446, device='cuda:0', grad_fn=<NllLoss2DBackward0>), 'total': tensor(9.5926, device='cuda:0', grad_fn=<AddBackward0>)}] \n",
      "100%|██████████| 16/16 [00:07<00:00,  2.27it/s]\n"
     ]
    },
    {
     "name": "stdout",
     "output_type": "stream",
     "text": [
      "Generated:  ['next_frame', 'next_frame', 'next_frame', 'next_frame', 'next_frame', 'next_frame', 'next_frame', 'next_frame', 'next_frame', 'next_frame']\n",
      "Chords:  ['A_m', 'A_m', 'D_m7', 'D_m7', 'A_m7', 'A_m7', 'C_M7', 'C_M7', 'F_M', 'F_M', 'C_M', 'C_M', 'C_M', 'C_M', 'G_M', 'G_M', 'A_m7', 'A_m7', 'G_M', 'G_M', 'F_M', 'F_M', 'C_M7', 'C_M7', 'C_M', 'C_M', 'C_M7', 'C_M7', 'A_m7', 'A_m7', 'A_m7', 'A_m7']\n"
     ]
    },
    {
     "name": "stderr",
     "output_type": "stream",
     "text": [
      "100%|██████████| 792/792 [02:55<00:00,  4.50it/s, batch=790, gpu_temp=55, loss={'chord': tensor(2.2411, device='cuda:0', grad_fn=<NllLossBackward0>), 'velocity': tensor(2.6477, device='cuda:0', grad_fn=<NllLossBackward0>), 'polyphony': tensor(1.3031, device='cuda:0', grad_fn=<NllLossBackward0>), 'density': tensor(1.8747, device='cuda:0', grad_fn=<NllLossBackward0>), 'piano_roll': tensor(1.3170, device='cuda:0', grad_fn=<NllLoss2DBackward0>), 'total': tensor(9.3836, device='cuda:0', grad_fn=<AddBackward0>)}]\n",
      "100%|██████████| 16/16 [00:07<00:00,  2.20it/s]\n"
     ]
    },
    {
     "name": "stdout",
     "output_type": "stream",
     "text": [
      "Generated:  [{'type': 'pitch', 'value': 20}, {'type': 'velocity', 'value': 16}, {'type': 'pitch', 'value': 32}, {'type': 'velocity', 'value': 18}, {'type': 'pitch', 'value': 48}, {'type': 'velocity', 'value': 18}, {'type': 'pitch', 'value': 51}, {'type': 'velocity', 'value': 17}, {'type': 'pitch', 'value': 56}, {'type': 'velocity', 'value': 18}]\n",
      "Chords:  ['F_M7', 'F_M7', 'F_M7', 'F_M7', 'C_M', 'C_M', 'C_M7', 'C_M7', 'D_m7', 'D_m7', 'D_m7', 'D_m7', 'E_M', 'E_M', 'E_M', 'E_M', 'E_m7', 'E_m7', 'E_m7', 'E_m7', 'A_m', 'A_m', 'A_m', 'A_m', 'C_M7', 'C_M7', 'G_7', 'G_7', 'C_M', 'C_M', 'C_M', 'C_M']\n"
     ]
    },
    {
     "name": "stderr",
     "output_type": "stream",
     "text": [
      "100%|██████████| 792/792 [02:57<00:00,  4.45it/s, batch=790, gpu_temp=54, loss={'chord': tensor(1.7810, device='cuda:0', grad_fn=<NllLossBackward0>), 'velocity': tensor(1.8411, device='cuda:0', grad_fn=<NllLossBackward0>), 'polyphony': tensor(1.4531, device='cuda:0', grad_fn=<NllLossBackward0>), 'density': tensor(1.4949, device='cuda:0', grad_fn=<NllLossBackward0>), 'piano_roll': tensor(0.9367, device='cuda:0', grad_fn=<NllLoss2DBackward0>), 'total': tensor(7.5068, device='cuda:0', grad_fn=<AddBackward0>)}] \n",
      "100%|██████████| 16/16 [00:07<00:00,  2.11it/s]\n"
     ]
    },
    {
     "name": "stdout",
     "output_type": "stream",
     "text": [
      "Generated:  [{'type': 'pitch', 'value': 34}, {'type': 'velocity', 'value': 14}, {'type': 'pitch', 'value': 41}, {'type': 'velocity', 'value': 16}, {'type': 'pitch', 'value': 50}, {'type': 'velocity', 'value': 16}, {'type': 'pitch', 'value': 53}, {'type': 'velocity', 'value': 18}, {'type': 'pitch', 'value': 58}, {'type': 'velocity', 'value': 17}]\n",
      "Chords:  ['A_m', 'A_m', 'A_m', 'A_m', 'F_M', 'F_M', 'F_M', 'F_M', 'A_sus4', 'A_sus4', 'A_m7', 'A_m7', 'A_m', 'A_m', 'A_m7', 'A_m7', 'E_7', 'E_7', 'E_7', 'E_7', 'F_M', 'F_M', 'G_M', 'G_M', 'G_M', 'G_M', 'C_M7', 'C_M7', 'F_M7', 'F_M7', 'F_M7', 'F_M7']\n"
     ]
    },
    {
     "name": "stderr",
     "output_type": "stream",
     "text": [
      "100%|██████████| 792/792 [02:55<00:00,  4.50it/s, batch=790, gpu_temp=60, loss={'chord': tensor(1.8128, device='cuda:0', grad_fn=<NllLossBackward0>), 'velocity': tensor(2.5318, device='cuda:0', grad_fn=<NllLossBackward0>), 'polyphony': tensor(1.6772, device='cuda:0', grad_fn=<NllLossBackward0>), 'density': tensor(2.2305, device='cuda:0', grad_fn=<NllLossBackward0>), 'piano_roll': tensor(1.3622, device='cuda:0', grad_fn=<NllLoss2DBackward0>), 'total': tensor(9.6145, device='cuda:0', grad_fn=<AddBackward0>)}] \n",
      "100%|██████████| 16/16 [00:07<00:00,  2.28it/s]\n"
     ]
    },
    {
     "name": "stdout",
     "output_type": "stream",
     "text": [
      "Generated:  [{'type': 'pitch', 'value': 27}, {'type': 'velocity', 'value': 19}, {'type': 'pitch', 'value': 43}, {'type': 'velocity', 'value': 19}, {'type': 'pitch', 'value': 51}, {'type': 'velocity', 'value': 20}, 'next_frame', 'next_frame', 'next_frame', 'next_frame']\n",
      "Chords:  ['E_m7', 'E_m7', 'E_m7', 'E_m7', 'A_m7', 'A_m7', 'A_m', 'A_m', 'C_M7', 'C_M7', 'C_M7', 'C_M7', 'F_M7', 'F_M7', 'F_M7', 'F_M7', 'G_sus2', 'G_sus2', 'G_M', 'G_M', 'C_M', 'C_M', 'E_m7', 'E_m7', 'F_M7', 'F_M7', 'F_M', 'F_M', 'None', 'None', 'None', 'None']\n"
     ]
    },
    {
     "name": "stderr",
     "output_type": "stream",
     "text": [
      "100%|██████████| 792/792 [02:54<00:00,  4.53it/s, batch=790, gpu_temp=55, loss={'chord': tensor(2.0622, device='cuda:0', grad_fn=<NllLossBackward0>), 'velocity': tensor(2.2137, device='cuda:0', grad_fn=<NllLossBackward0>), 'polyphony': tensor(1.6553, device='cuda:0', grad_fn=<NllLossBackward0>), 'density': tensor(1.6396, device='cuda:0', grad_fn=<NllLossBackward0>), 'piano_roll': tensor(1.2946, device='cuda:0', grad_fn=<NllLoss2DBackward0>), 'total': tensor(8.8654, device='cuda:0', grad_fn=<AddBackward0>)}] \n",
      "100%|██████████| 16/16 [00:07<00:00,  2.27it/s]\n"
     ]
    },
    {
     "name": "stdout",
     "output_type": "stream",
     "text": [
      "Generated:  [{'type': 'pitch', 'value': 27}, {'type': 'velocity', 'value': 18}, {'type': 'pitch', 'value': 39}, {'type': 'velocity', 'value': 18}, {'type': 'pitch', 'value': 43}, {'type': 'velocity', 'value': 18}, {'type': 'pitch', 'value': 46}, {'type': 'velocity', 'value': 18}, {'type': 'pitch', 'value': 51}, {'type': 'velocity', 'value': 19}]\n",
      "Chords:  ['C_M', 'C_M', 'C_M', 'C_M', 'C_M', 'C_M', 'C_M7', 'C_M7', 'G_7', 'G_7', 'None', 'None', 'C_M', 'C_M', 'C_M', 'C_M', 'C_M7', 'C_M7', 'C_M', 'C_M', 'A_m', 'A_m', 'A_m', 'A_m', 'None', 'None', 'None', 'None', 'C_M', 'C_M', 'C_M', 'C_M']\n"
     ]
    },
    {
     "name": "stderr",
     "output_type": "stream",
     "text": [
      "100%|██████████| 792/792 [02:56<00:00,  4.49it/s, batch=790, gpu_temp=61, loss={'chord': tensor(1.3505, device='cuda:0', grad_fn=<NllLossBackward0>), 'velocity': tensor(1.8656, device='cuda:0', grad_fn=<NllLossBackward0>), 'polyphony': tensor(1.3003, device='cuda:0', grad_fn=<NllLossBackward0>), 'density': tensor(1.7243, device='cuda:0', grad_fn=<NllLossBackward0>), 'piano_roll': tensor(1.0823, device='cuda:0', grad_fn=<NllLoss2DBackward0>), 'total': tensor(7.3229, device='cuda:0', grad_fn=<AddBackward0>)}]\n",
      "100%|██████████| 16/16 [00:07<00:00,  2.16it/s]\n"
     ]
    },
    {
     "name": "stdout",
     "output_type": "stream",
     "text": [
      "Generated:  ['next_frame', 'next_frame', 'next_frame', 'next_frame', 'next_frame', 'next_frame', 'next_frame', 'next_frame', 'next_frame', 'next_frame']\n",
      "Chords:  ['A_m', 'A_m', 'C_M', 'C_M', 'D_m7', 'D_m7', 'C_M', 'C_M', 'A_m', 'A_m', 'A_m7', 'A_m7', 'G_M', 'G_M', 'G_M', 'G_M', 'C_M', 'C_M', 'C_M', 'C_M', 'F_M7', 'F_M7', 'F_M7', 'F_M7', 'A_m7', 'A_m7', 'F_M7', 'F_M7', 'D_m', 'D_m', 'D_m', 'D_m']\n"
     ]
    },
    {
     "name": "stderr",
     "output_type": "stream",
     "text": [
      "100%|██████████| 792/792 [02:57<00:00,  4.47it/s, batch=790, gpu_temp=62, loss={'chord': tensor(1.5101, device='cuda:0', grad_fn=<NllLossBackward0>), 'velocity': tensor(1.9453, device='cuda:0', grad_fn=<NllLossBackward0>), 'polyphony': tensor(1.8143, device='cuda:0', grad_fn=<NllLossBackward0>), 'density': tensor(2.0385, device='cuda:0', grad_fn=<NllLossBackward0>), 'piano_roll': tensor(1.0548, device='cuda:0', grad_fn=<NllLoss2DBackward0>), 'total': tensor(8.3630, device='cuda:0', grad_fn=<AddBackward0>)}] \n",
      "100%|██████████| 16/16 [00:06<00:00,  2.34it/s]\n"
     ]
    },
    {
     "name": "stdout",
     "output_type": "stream",
     "text": [
      "Generated:  [{'type': 'pitch', 'value': 32}, {'type': 'velocity', 'value': 13}, {'type': 'pitch', 'value': 48}, {'type': 'velocity', 'value': 13}, {'type': 'pitch', 'value': 51}, {'type': 'velocity', 'value': 16}, 'next_frame', 'next_frame', 'next_frame', 'next_frame']\n",
      "Chords:  ['A_m', 'A_m', 'F_M7', 'F_M7', 'E_m7', 'E_m7', 'E_7', 'E_7', 'C_M', 'C_M', 'C_M', 'C_M', 'A_M', 'A_M', 'A_M7', 'A_M7', 'G_M', 'G_M', 'G_M', 'G_M', 'F_M', 'F_M', 'F_M', 'F_M', 'F_M7', 'F_M7', 'F_M7', 'F_M7', 'C_M', 'C_M', 'A_m', 'A_m']\n"
     ]
    },
    {
     "name": "stderr",
     "output_type": "stream",
     "text": [
      "100%|██████████| 792/792 [02:57<00:00,  4.46it/s, batch=790, gpu_temp=61, loss={'chord': tensor(1.4652, device='cuda:0', grad_fn=<NllLossBackward0>), 'velocity': tensor(2.0782, device='cuda:0', grad_fn=<NllLossBackward0>), 'polyphony': tensor(1.6702, device='cuda:0', grad_fn=<NllLossBackward0>), 'density': tensor(1.7292, device='cuda:0', grad_fn=<NllLossBackward0>), 'piano_roll': tensor(1.0698, device='cuda:0', grad_fn=<NllLoss2DBackward0>), 'total': tensor(8.0127, device='cuda:0', grad_fn=<AddBackward0>)}]\n",
      "100%|██████████| 16/16 [00:07<00:00,  2.07it/s]\n"
     ]
    },
    {
     "name": "stdout",
     "output_type": "stream",
     "text": [
      "Generated:  [{'type': 'pitch', 'value': 27}, {'type': 'velocity', 'value': 17}, {'type': 'pitch', 'value': 46}, {'type': 'velocity', 'value': 19}, 'next_frame', 'next_frame', 'next_frame', 'next_frame', {'type': 'pitch', 'value': 34}, {'type': 'velocity', 'value': 15}]\n",
      "Chords:  ['F_M7', 'F_M7', 'A_m7', 'A_m7', 'C_M7', 'C_M7', 'C_M7', 'C_M7', 'F_M7', 'F_M7', 'C_M7', 'C_M7', 'G_M', 'G_M', 'G_M', 'G_M', 'C_M', 'C_M', 'C_M', 'C_M', 'F_M', 'F_M', 'G_M', 'G_M', 'E_M', 'E_M', 'E_M7', 'E_M7', 'C_M', 'C_M', 'F_M7', 'F_M7']\n"
     ]
    },
    {
     "name": "stderr",
     "output_type": "stream",
     "text": [
      "100%|██████████| 792/792 [02:55<00:00,  4.52it/s, batch=790, gpu_temp=60, loss={'chord': tensor(1.4884, device='cuda:0', grad_fn=<NllLossBackward0>), 'velocity': tensor(2.2015, device='cuda:0', grad_fn=<NllLossBackward0>), 'polyphony': tensor(1.5126, device='cuda:0', grad_fn=<NllLossBackward0>), 'density': tensor(1.9328, device='cuda:0', grad_fn=<NllLossBackward0>), 'piano_roll': tensor(1.0915, device='cuda:0', grad_fn=<NllLoss2DBackward0>), 'total': tensor(8.2268, device='cuda:0', grad_fn=<AddBackward0>)}] \n",
      "100%|██████████| 16/16 [00:07<00:00,  2.26it/s]\n"
     ]
    },
    {
     "name": "stdout",
     "output_type": "stream",
     "text": [
      "Generated:  [{'type': 'pitch', 'value': 12}, {'type': 'velocity', 'value': 18}, {'type': 'pitch', 'value': 24}, {'type': 'velocity', 'value': 19}, {'type': 'pitch', 'value': 36}, {'type': 'velocity', 'value': 18}, 'next_frame', 'next_frame', 'next_frame', 'next_frame']\n",
      "Chords:  ['None', 'None', 'None', 'None', 'E_m7', 'E_m7', 'G_7', 'G_7', 'D_m7', 'D_m7', 'D_m7', 'D_m7', 'A_m', 'A_m', 'A_m7', 'A_m7', 'G_M', 'G_M', 'G_M', 'G_M', 'A_m', 'A_m', 'None', 'None', 'A_m', 'A_m', 'E_m', 'E_m', 'F_M7', 'F_M7', 'G_M', 'G_M']\n"
     ]
    },
    {
     "name": "stderr",
     "output_type": "stream",
     "text": [
      "100%|██████████| 792/792 [02:58<00:00,  4.44it/s, batch=790, gpu_temp=55, loss={'chord': tensor(1.6407, device='cuda:0', grad_fn=<NllLossBackward0>), 'velocity': tensor(1.9948, device='cuda:0', grad_fn=<NllLossBackward0>), 'polyphony': tensor(1.3303, device='cuda:0', grad_fn=<NllLossBackward0>), 'density': tensor(1.8299, device='cuda:0', grad_fn=<NllLossBackward0>), 'piano_roll': tensor(0.9373, device='cuda:0', grad_fn=<NllLoss2DBackward0>), 'total': tensor(7.7330, device='cuda:0', grad_fn=<AddBackward0>)}]\n",
      "100%|██████████| 16/16 [00:07<00:00,  2.21it/s]\n"
     ]
    },
    {
     "name": "stdout",
     "output_type": "stream",
     "text": [
      "Generated:  ['next_frame', 'next_frame', 'next_frame', 'next_frame', 'next_frame', 'next_frame', 'next_frame', 'next_frame', 'next_frame', 'next_frame']\n",
      "Chords:  ['A_M', 'A_M', 'F_M7', 'F_M7', 'F_M7', 'F_M7', 'F_M7', 'F_M7', 'A_M', 'A_M', 'A_M', 'A_M', 'None', 'None', 'None', 'None', 'F_M', 'F_M', 'None', 'None', 'A_m', 'A_m', 'A_m', 'A_m', 'E_m7', 'E_m7', 'E_m7', 'E_m7', 'C_M', 'C_M', 'C_M', 'C_M']\n"
     ]
    },
    {
     "name": "stderr",
     "output_type": "stream",
     "text": [
      "100%|██████████| 792/792 [02:59<00:00,  4.41it/s, batch=790, gpu_temp=61, loss={'chord': tensor(1.3731, device='cuda:0', grad_fn=<NllLossBackward0>), 'velocity': tensor(2.3068, device='cuda:0', grad_fn=<NllLossBackward0>), 'polyphony': tensor(1.4160, device='cuda:0', grad_fn=<NllLossBackward0>), 'density': tensor(2.0382, device='cuda:0', grad_fn=<NllLossBackward0>), 'piano_roll': tensor(1.1964, device='cuda:0', grad_fn=<NllLoss2DBackward0>), 'total': tensor(8.3305, device='cuda:0', grad_fn=<AddBackward0>)}] \n",
      "100%|██████████| 16/16 [00:06<00:00,  2.34it/s]\n"
     ]
    },
    {
     "name": "stdout",
     "output_type": "stream",
     "text": [
      "Generated:  ['next_frame', 'next_frame', 'next_frame', 'next_frame', 'next_frame', 'next_frame', 'next_frame', 'next_frame', 'next_frame', 'next_frame']\n",
      "Chords:  ['None', 'None', 'None', 'None', 'A_m7', 'A_m7', 'C_M7', 'C_M7', 'None', 'None', 'None', 'None', 'A_m7', 'A_m7', 'C_M7', 'C_M7', 'C_M7', 'C_M7', 'C_M7', 'C_M7', 'C_M7', 'C_M7', 'C_M7', 'C_M7', 'C_M', 'C_M', 'G_M', 'G_M', 'A_m', 'A_m', 'A_m', 'A_m']\n"
     ]
    },
    {
     "name": "stderr",
     "output_type": "stream",
     "text": [
      "100%|██████████| 792/792 [03:00<00:00,  4.39it/s, batch=790, gpu_temp=61, loss={'chord': tensor(1.6416, device='cuda:0', grad_fn=<NllLossBackward0>), 'velocity': tensor(2.3526, device='cuda:0', grad_fn=<NllLossBackward0>), 'polyphony': tensor(1.4802, device='cuda:0', grad_fn=<NllLossBackward0>), 'density': tensor(1.8904, device='cuda:0', grad_fn=<NllLossBackward0>), 'piano_roll': tensor(1.1929, device='cuda:0', grad_fn=<NllLoss2DBackward0>), 'total': tensor(8.5578, device='cuda:0', grad_fn=<AddBackward0>)}] \n",
      "100%|██████████| 16/16 [00:07<00:00,  2.08it/s]\n"
     ]
    },
    {
     "name": "stdout",
     "output_type": "stream",
     "text": [
      "Generated:  ['next_frame', 'next_frame', 'next_frame', 'next_frame', 'next_frame', 'next_frame', 'next_frame', 'next_frame', 'next_frame', 'next_frame']\n",
      "Chords:  ['A_m7', 'A_m7', 'A_m7', 'A_m7', 'G_M', 'G_M', 'G_M', 'G_M', 'F_M7', 'F_M7', 'G_7', 'G_7', 'F_M', 'F_M', 'F_M', 'F_M', 'C_M', 'C_M', 'C_M7', 'C_M7', 'G_7', 'G_7', 'A_m7', 'A_m7', 'F_M', 'F_M', 'E_m7', 'E_m7', 'F_M', 'F_M', 'D_m7', 'D_m7']\n"
     ]
    },
    {
     "name": "stderr",
     "output_type": "stream",
     "text": [
      "100%|██████████| 792/792 [02:58<00:00,  4.43it/s, batch=790, gpu_temp=55, loss={'chord': tensor(1.3391, device='cuda:0', grad_fn=<NllLossBackward0>), 'velocity': tensor(1.9131, device='cuda:0', grad_fn=<NllLossBackward0>), 'polyphony': tensor(1.5308, device='cuda:0', grad_fn=<NllLossBackward0>), 'density': tensor(2.2502, device='cuda:0', grad_fn=<NllLossBackward0>), 'piano_roll': tensor(1.1498, device='cuda:0', grad_fn=<NllLoss2DBackward0>), 'total': tensor(8.1830, device='cuda:0', grad_fn=<AddBackward0>)}]\n",
      "100%|██████████| 16/16 [00:07<00:00,  2.17it/s]\n"
     ]
    },
    {
     "name": "stdout",
     "output_type": "stream",
     "text": [
      "Generated:  [{'type': 'pitch', 'value': 24}, {'type': 'velocity', 'value': 16}, {'type': 'pitch', 'value': 55}, {'type': 'velocity', 'value': 21}, 'next_frame', 'next_frame', 'next_frame', 'next_frame', {'type': 'pitch', 'value': 31}, {'type': 'velocity', 'value': 16}]\n",
      "Chords:  ['A_m7', 'A_m7', 'F_M7', 'F_M7', 'D_o', 'D_o', 'E_7', 'E_7', 'A_m7', 'A_m7', 'A_m7', 'A_m7', 'A_m7', 'A_m7', 'C_M7', 'C_M7', 'A_m', 'A_m', 'D_m7', 'D_m7', 'F_M', 'F_M', 'C_M7', 'C_M7', 'A_m7', 'A_m7', 'C_M', 'C_M', 'A_m', 'A_m', 'F_M7', 'F_M7']\n"
     ]
    },
    {
     "name": "stderr",
     "output_type": "stream",
     "text": [
      "100%|██████████| 792/792 [03:01<00:00,  4.37it/s, batch=790, gpu_temp=55, loss={'chord': tensor(1.6807, device='cuda:0', grad_fn=<NllLossBackward0>), 'velocity': tensor(2.0859, device='cuda:0', grad_fn=<NllLossBackward0>), 'polyphony': tensor(1.7322, device='cuda:0', grad_fn=<NllLossBackward0>), 'density': tensor(2.3398, device='cuda:0', grad_fn=<NllLossBackward0>), 'piano_roll': tensor(1.3789, device='cuda:0', grad_fn=<NllLoss2DBackward0>), 'total': tensor(9.2175, device='cuda:0', grad_fn=<AddBackward0>)}] \n",
      "100%|██████████| 16/16 [00:07<00:00,  2.04it/s]\n"
     ]
    },
    {
     "name": "stdout",
     "output_type": "stream",
     "text": [
      "Generated:  [{'type': 'pitch', 'value': 36}, {'type': 'velocity', 'value': 16}, {'type': 'pitch', 'value': 55}, {'type': 'velocity', 'value': 20}, 'next_frame', 'next_frame', 'next_frame', 'next_frame', 'next_frame', 'next_frame']\n",
      "Chords:  ['None', 'None', 'None', 'None', 'D_M', 'A_M', 'A_M', 'A_M', 'E_m7', 'E_m7', 'E_m7', 'E_m7', 'C_M7', 'C_M7', 'C_M7', 'C_M7', 'E_m', 'E_m', 'C_M', 'C_M', 'F_M', 'F_M', 'G_M', 'G_M', 'C_M', 'C_M', 'C_M', 'C_M', 'A_m7', 'A_m7', 'D_m7', 'D_m7']\n"
     ]
    },
    {
     "name": "stderr",
     "output_type": "stream",
     "text": [
      "100%|██████████| 792/792 [03:00<00:00,  4.40it/s, batch=790, gpu_temp=55, loss={'chord': tensor(1.7145, device='cuda:0', grad_fn=<NllLossBackward0>), 'velocity': tensor(2.3086, device='cuda:0', grad_fn=<NllLossBackward0>), 'polyphony': tensor(1.4451, device='cuda:0', grad_fn=<NllLossBackward0>), 'density': tensor(2.1029, device='cuda:0', grad_fn=<NllLossBackward0>), 'piano_roll': tensor(1.0736, device='cuda:0', grad_fn=<NllLoss2DBackward0>), 'total': tensor(8.6447, device='cuda:0', grad_fn=<AddBackward0>)}] \n",
      "100%|██████████| 16/16 [00:07<00:00,  2.25it/s]\n"
     ]
    },
    {
     "name": "stdout",
     "output_type": "stream",
     "text": [
      "Generated:  [{'type': 'pitch', 'value': 22}, {'type': 'velocity', 'value': 18}, {'type': 'pitch', 'value': 39}, {'type': 'velocity', 'value': 19}, {'type': 'pitch', 'value': 43}, {'type': 'velocity', 'value': 18}, {'type': 'pitch', 'value': 46}, {'type': 'velocity', 'value': 19}, 'next_frame', 'next_frame']\n",
      "Chords:  ['None', 'None', 'None', 'None', 'None', 'None', 'F_M', 'F_M', 'None', 'None', 'A_M', 'A_M', 'F_M', 'F_M', 'F_M', 'F_M', 'None', 'None', 'None', 'None', 'E_m7', 'E_m7', 'C_+', 'C_+', 'C_M', 'C_M', 'C_M', 'C_M', 'A_m7', 'A_m7', 'A_m7', 'A_m7']\n"
     ]
    },
    {
     "name": "stderr",
     "output_type": "stream",
     "text": [
      "100%|██████████| 792/792 [02:58<00:00,  4.45it/s, batch=790, gpu_temp=60, loss={'chord': tensor(2.0471, device='cuda:0', grad_fn=<NllLossBackward0>), 'velocity': tensor(1.9556, device='cuda:0', grad_fn=<NllLossBackward0>), 'polyphony': tensor(1.7304, device='cuda:0', grad_fn=<NllLossBackward0>), 'density': tensor(2.3532, device='cuda:0', grad_fn=<NllLossBackward0>), 'piano_roll': tensor(1.5583, device='cuda:0', grad_fn=<NllLoss2DBackward0>), 'total': tensor(9.6445, device='cuda:0', grad_fn=<AddBackward0>)}]\n",
      "100%|██████████| 16/16 [00:07<00:00,  2.05it/s]\n"
     ]
    },
    {
     "name": "stdout",
     "output_type": "stream",
     "text": [
      "Generated:  ['next_frame', 'next_frame', 'next_frame', 'next_frame', 'next_frame', 'next_frame', 'next_frame', 'next_frame', 'next_frame', 'next_frame']\n",
      "Chords:  ['None', 'None', 'None', 'None', 'F_M', 'F_M', 'F_M', 'F_M', 'F_M', 'F_M', 'F_M', 'F_M', 'C_M', 'C_M', 'C_M', 'C_M', 'F_M', 'F_M', 'F_M', 'F_M', 'C_M', 'C_M', 'F_M7', 'F_M7', 'F_M', 'F_M', 'C_M', 'G_M', 'D_m7', 'D_m7', 'D_m7', 'D_m7']\n"
     ]
    },
    {
     "name": "stderr",
     "output_type": "stream",
     "text": [
      "100%|██████████| 792/792 [02:58<00:00,  4.45it/s, batch=790, gpu_temp=55, loss={'chord': tensor(1.9588, device='cuda:0', grad_fn=<NllLossBackward0>), 'velocity': tensor(2.0104, device='cuda:0', grad_fn=<NllLossBackward0>), 'polyphony': tensor(1.4793, device='cuda:0', grad_fn=<NllLossBackward0>), 'density': tensor(1.7313, device='cuda:0', grad_fn=<NllLossBackward0>), 'piano_roll': tensor(1.2253, device='cuda:0', grad_fn=<NllLoss2DBackward0>), 'total': tensor(8.4051, device='cuda:0', grad_fn=<AddBackward0>)}] \n",
      "100%|██████████| 16/16 [00:07<00:00,  2.08it/s]\n"
     ]
    },
    {
     "name": "stdout",
     "output_type": "stream",
     "text": [
      "Generated:  [{'type': 'pitch', 'value': 36}, {'type': 'velocity', 'value': 12}, {'type': 'pitch', 'value': 43}, {'type': 'velocity', 'value': 13}, {'type': 'pitch', 'value': 48}, {'type': 'velocity', 'value': 12}, {'type': 'pitch', 'value': 51}, {'type': 'velocity', 'value': 15}, 'next_frame', 'next_frame']\n",
      "Chords:  ['A_m7', 'A_m7', 'None', 'None', 'G_M', 'G_M', 'E_m7', 'E_m7', 'C_M', 'C_M', 'C_M', 'C_M', 'A_M', 'A_M', 'A_M', 'A_M', 'F_M7', 'F_M7', 'F_M7', 'F_M7', 'E_M', 'A_m', 'A_m', 'A_m', 'D_m7', 'D_m7', 'G_7', 'G_7', 'A_m7', 'A_m7', 'A_m7', 'A_m7']\n"
     ]
    },
    {
     "name": "stderr",
     "output_type": "stream",
     "text": [
      "100%|██████████| 792/792 [02:59<00:00,  4.41it/s, batch=790, gpu_temp=55, loss={'chord': tensor(1.6755, device='cuda:0', grad_fn=<NllLossBackward0>), 'velocity': tensor(2.1850, device='cuda:0', grad_fn=<NllLossBackward0>), 'polyphony': tensor(1.4533, device='cuda:0', grad_fn=<NllLossBackward0>), 'density': tensor(1.9016, device='cuda:0', grad_fn=<NllLossBackward0>), 'piano_roll': tensor(1.0168, device='cuda:0', grad_fn=<NllLoss2DBackward0>), 'total': tensor(8.2321, device='cuda:0', grad_fn=<AddBackward0>)}] \n",
      "100%|██████████| 16/16 [00:07<00:00,  2.20it/s]\n"
     ]
    },
    {
     "name": "stdout",
     "output_type": "stream",
     "text": [
      "Generated:  ['next_frame', 'next_frame', 'next_frame', 'next_frame', 'next_frame', 'next_frame', 'next_frame', 'next_frame', 'next_frame', 'next_frame']\n",
      "Chords:  ['A_m', 'A_m', 'D_m7', 'D_m7', 'F_M', 'F_M', 'C_M7', 'C_M7', 'G_7', 'G_7', 'G_7', 'G_7', 'A_m', 'A_m', 'A_m', 'A_m', 'D_m7', 'D_m7', 'E_m7', 'E_m7', 'G_m7', 'C_M', 'A_m', 'A_m', 'G_M', 'G_M', 'G_M', 'G_M', 'E_m', 'E_m', 'A_m', 'A_m']\n"
     ]
    },
    {
     "name": "stderr",
     "output_type": "stream",
     "text": [
      "100%|██████████| 792/792 [02:56<00:00,  4.48it/s, batch=790, gpu_temp=61, loss={'chord': tensor(1.4456, device='cuda:0', grad_fn=<NllLossBackward0>), 'velocity': tensor(2.5473, device='cuda:0', grad_fn=<NllLossBackward0>), 'polyphony': tensor(1.4239, device='cuda:0', grad_fn=<NllLossBackward0>), 'density': tensor(2.2920, device='cuda:0', grad_fn=<NllLossBackward0>), 'piano_roll': tensor(1.1064, device='cuda:0', grad_fn=<NllLoss2DBackward0>), 'total': tensor(8.8152, device='cuda:0', grad_fn=<AddBackward0>)}]\n",
      "100%|██████████| 16/16 [00:06<00:00,  2.31it/s]\n"
     ]
    },
    {
     "name": "stdout",
     "output_type": "stream",
     "text": [
      "Generated:  ['next_frame', 'next_frame', 'next_frame', 'next_frame', 'next_frame', 'next_frame', 'next_frame', 'next_frame', 'next_frame', 'next_frame']\n",
      "Chords:  ['C_M', 'C_M', 'C_M', 'C_M', 'F_M7', 'F_M7', 'F_M7', 'F_M7', 'A_m7', 'A_m7', 'A_m7', 'A_m7', 'F_M', 'F_M', 'E_m', 'E_m', 'A#_M', 'A#_M', 'A#_M', 'A#_M', 'C_M', 'C_M', 'C_M', 'C_M', 'A_m', 'A_m', 'A_m', 'A_m', 'A_m7', 'A_m7', 'A_M', 'A_M']\n"
     ]
    },
    {
     "name": "stderr",
     "output_type": "stream",
     "text": [
      "100%|██████████| 792/792 [02:58<00:00,  4.43it/s, batch=790, gpu_temp=60, loss={'chord': tensor(2.1073, device='cuda:0', grad_fn=<NllLossBackward0>), 'velocity': tensor(1.9764, device='cuda:0', grad_fn=<NllLossBackward0>), 'polyphony': tensor(1.6421, device='cuda:0', grad_fn=<NllLossBackward0>), 'density': tensor(2.0272, device='cuda:0', grad_fn=<NllLossBackward0>), 'piano_roll': tensor(1.4437, device='cuda:0', grad_fn=<NllLoss2DBackward0>), 'total': tensor(9.1967, device='cuda:0', grad_fn=<AddBackward0>)}]\n",
      "100%|██████████| 16/16 [00:07<00:00,  2.19it/s]\n"
     ]
    },
    {
     "name": "stdout",
     "output_type": "stream",
     "text": [
      "Generated:  [{'type': 'pitch', 'value': 15}, {'type': 'velocity', 'value': 19}, {'type': 'pitch', 'value': 27}, {'type': 'velocity', 'value': 20}, {'type': 'pitch', 'value': 46}, {'type': 'velocity', 'value': 21}, 'next_frame', 'next_frame', 'next_frame', 'next_frame']\n",
      "Chords:  ['D_m7', 'D_m7', 'F_M', 'F_M', 'F_M7', 'F_M7', 'F_M7', 'F_M7', 'D_m7', 'D_m7', 'D_m7', 'D_m7', 'D_m', 'D_m', 'D_m', 'D_m', 'B_o', 'B_o', 'D_m7', 'D_m7', 'A_m', 'A_m', 'A_m', 'A_m', 'G_7', 'G_7', 'B_o', 'B_o', 'F_M', 'F_M', 'F_M7', 'F_M7']\n"
     ]
    },
    {
     "name": "stderr",
     "output_type": "stream",
     "text": [
      "100%|██████████| 792/792 [02:54<00:00,  4.54it/s, batch=790, gpu_temp=61, loss={'chord': tensor(1.3320, device='cuda:0', grad_fn=<NllLossBackward0>), 'velocity': tensor(2.2667, device='cuda:0', grad_fn=<NllLossBackward0>), 'polyphony': tensor(1.6045, device='cuda:0', grad_fn=<NllLossBackward0>), 'density': tensor(2.0472, device='cuda:0', grad_fn=<NllLossBackward0>), 'piano_roll': tensor(1.1555, device='cuda:0', grad_fn=<NllLoss2DBackward0>), 'total': tensor(8.4058, device='cuda:0', grad_fn=<AddBackward0>)}] \n",
      "100%|██████████| 16/16 [00:07<00:00,  2.20it/s]\n"
     ]
    },
    {
     "name": "stdout",
     "output_type": "stream",
     "text": [
      "Generated:  [{'type': 'pitch', 'value': 39}, {'type': 'velocity', 'value': 16}, {'type': 'pitch', 'value': 46}, {'type': 'velocity', 'value': 14}, {'type': 'pitch', 'value': 55}, {'type': 'velocity', 'value': 18}, 'next_frame', 'next_frame', 'next_frame', 'next_frame']\n",
      "Chords:  ['F_M', 'F_M', 'F_M', 'F_M', 'D_M', 'D_M', 'D_sus2', 'D_sus2', 'A_m7', 'A_m7', 'A_m7', 'A_m7', 'None', 'None', 'None', 'None', 'A_m7', 'A_m7', 'D_m7', 'D_m7', 'F_M', 'F_M', 'G_7', 'G_7', 'C_M', 'C_M', 'C_M', 'C_M', 'F_M7', 'F_M7', 'F_M', 'F_M']\n"
     ]
    },
    {
     "name": "stderr",
     "output_type": "stream",
     "text": [
      "100%|██████████| 792/792 [02:56<00:00,  4.49it/s, batch=790, gpu_temp=61, loss={'chord': tensor(2.2445, device='cuda:0', grad_fn=<NllLossBackward0>), 'velocity': tensor(2.5349, device='cuda:0', grad_fn=<NllLossBackward0>), 'polyphony': tensor(1.4317, device='cuda:0', grad_fn=<NllLossBackward0>), 'density': tensor(1.5784, device='cuda:0', grad_fn=<NllLossBackward0>), 'piano_roll': tensor(1.3086, device='cuda:0', grad_fn=<NllLoss2DBackward0>), 'total': tensor(9.0980, device='cuda:0', grad_fn=<AddBackward0>)}] \n",
      "100%|██████████| 16/16 [00:07<00:00,  2.15it/s]\n"
     ]
    },
    {
     "name": "stdout",
     "output_type": "stream",
     "text": [
      "Generated:  [{'type': 'pitch', 'value': 20}, {'type': 'velocity', 'value': 18}, 'next_frame', 'next_frame', {'type': 'pitch', 'value': 27}, {'type': 'velocity', 'value': 17}, 'next_frame', 'next_frame', {'type': 'pitch', 'value': 32}, {'type': 'velocity', 'value': 18}]\n",
      "Chords:  ['None', 'None', 'None', 'None', 'F_M', 'F_M', 'F_M', 'F_M', 'E_m7', 'E_m7', 'E_m7', 'E_m7', 'C_M7', 'C_M7', 'A_m7', 'A_m7', 'D_m7', 'D_m7', 'G_M', 'G_M', 'F_M7', 'F_M7', 'A_m', 'A_m', 'C_M', 'C_M', 'C_M', 'C_M', 'C_M', 'C_M', 'C_M7', 'C_M7']\n"
     ]
    },
    {
     "name": "stderr",
     "output_type": "stream",
     "text": [
      "100%|██████████| 792/792 [02:55<00:00,  4.51it/s, batch=790, gpu_temp=56, loss={'chord': tensor(1.7707, device='cuda:0', grad_fn=<NllLossBackward0>), 'velocity': tensor(2.3624, device='cuda:0', grad_fn=<NllLossBackward0>), 'polyphony': tensor(1.4519, device='cuda:0', grad_fn=<NllLossBackward0>), 'density': tensor(2.1421, device='cuda:0', grad_fn=<NllLossBackward0>), 'piano_roll': tensor(1.2408, device='cuda:0', grad_fn=<NllLoss2DBackward0>), 'total': tensor(8.9678, device='cuda:0', grad_fn=<AddBackward0>)}] \n",
      "100%|██████████| 16/16 [00:07<00:00,  2.15it/s]\n"
     ]
    },
    {
     "name": "stdout",
     "output_type": "stream",
     "text": [
      "Generated:  ['next_frame', 'next_frame', 'next_frame', 'next_frame', 'next_frame', 'next_frame', 'next_frame', 'next_frame', 'next_frame', 'next_frame']\n",
      "Chords:  ['C_M', 'C_M', 'C_M7', 'C_M7', 'A_m', 'A_m', 'A_m', 'A_m', 'F_M7', 'F_M7', 'F_M7', 'F_M7', 'F_m', 'F_m', 'F_m7', 'F_m7', 'F_M', 'F_M', 'C_M', 'C_M', 'C_M', 'C_M', 'C_M', 'C_M', 'C_M', 'C_M', 'C_M', 'C_M', 'A_M', 'A_M', 'A_M7', 'A_M7']\n"
     ]
    },
    {
     "name": "stderr",
     "output_type": "stream",
     "text": [
      "100%|██████████| 792/792 [02:57<00:00,  4.46it/s, batch=790, gpu_temp=61, loss={'chord': tensor(1.8092, device='cuda:0', grad_fn=<NllLossBackward0>), 'velocity': tensor(2.3093, device='cuda:0', grad_fn=<NllLossBackward0>), 'polyphony': tensor(1.3923, device='cuda:0', grad_fn=<NllLossBackward0>), 'density': tensor(1.8203, device='cuda:0', grad_fn=<NllLossBackward0>), 'piano_roll': tensor(1.2224, device='cuda:0', grad_fn=<NllLoss2DBackward0>), 'total': tensor(8.5535, device='cuda:0', grad_fn=<AddBackward0>)}]\n",
      "100%|██████████| 16/16 [00:07<00:00,  2.22it/s]\n"
     ]
    },
    {
     "name": "stdout",
     "output_type": "stream",
     "text": [
      "Generated:  ['next_frame', 'next_frame', 'next_frame', 'next_frame', 'next_frame', 'next_frame', 'next_frame', 'next_frame', 'next_frame', 'next_frame']\n",
      "Chords:  ['C_M', 'C_M', 'A_m7', 'A_m7', 'G_M', 'G_M', 'G_M', 'G_M', 'F_M', 'F_M', 'G_M', 'G_M', 'F_M', 'F_M', 'F_M', 'F_M', 'C_M', 'C_M', 'C_M', 'C_M', 'D_m', 'D_m', 'G_7', 'G_7', 'C_M7', 'C_M7', 'C_M7', 'C_M7', 'None', 'None', 'None', 'None']\n"
     ]
    },
    {
     "name": "stderr",
     "output_type": "stream",
     "text": [
      "100%|██████████| 792/792 [02:54<00:00,  4.55it/s, batch=790, gpu_temp=61, loss={'chord': tensor(1.5494, device='cuda:0', grad_fn=<NllLossBackward0>), 'velocity': tensor(2.2841, device='cuda:0', grad_fn=<NllLossBackward0>), 'polyphony': tensor(1.7280, device='cuda:0', grad_fn=<NllLossBackward0>), 'density': tensor(1.9361, device='cuda:0', grad_fn=<NllLossBackward0>), 'piano_roll': tensor(1.3499, device='cuda:0', grad_fn=<NllLoss2DBackward0>), 'total': tensor(8.8475, device='cuda:0', grad_fn=<AddBackward0>)}]\n",
      "100%|██████████| 16/16 [00:07<00:00,  2.08it/s]\n"
     ]
    },
    {
     "name": "stdout",
     "output_type": "stream",
     "text": [
      "Generated:  ['next_frame', 'next_frame', 'next_frame', 'next_frame', 'next_frame', 'next_frame', 'next_frame', 'next_frame', 'next_frame', 'next_frame']\n",
      "Chords:  ['None', 'None', 'None', 'None', 'F_sus2', 'F_sus2', 'F_M', 'F_M', 'F_M', 'F_M', 'F_M', 'F_M', 'C_M', 'C_M', 'C_M', 'C_M', 'E_o', 'E_o', 'C_M', 'C_M', 'A_m', 'A_m', 'A_m', 'A_m', 'C_M', 'C_M', 'C_M', 'C_M', 'A_m', 'A_m', 'A_m7', 'A_m7']\n"
     ]
    },
    {
     "name": "stderr",
     "output_type": "stream",
     "text": [
      "100%|██████████| 792/792 [02:55<00:00,  4.51it/s, batch=790, gpu_temp=60, loss={'chord': tensor(1.4697, device='cuda:0', grad_fn=<NllLossBackward0>), 'velocity': tensor(2.1533, device='cuda:0', grad_fn=<NllLossBackward0>), 'polyphony': tensor(1.3956, device='cuda:0', grad_fn=<NllLossBackward0>), 'density': tensor(2.0001, device='cuda:0', grad_fn=<NllLossBackward0>), 'piano_roll': tensor(1.1119, device='cuda:0', grad_fn=<NllLoss2DBackward0>), 'total': tensor(8.1306, device='cuda:0', grad_fn=<AddBackward0>)}] \n",
      "100%|██████████| 16/16 [00:07<00:00,  2.22it/s]\n"
     ]
    },
    {
     "name": "stdout",
     "output_type": "stream",
     "text": [
      "Generated:  [{'type': 'pitch', 'value': 72}, {'type': 'velocity', 'value': 18}, 'next_frame', 'next_frame', 'next_frame', 'next_frame', {'type': 'pitch', 'value': 48}, {'type': 'velocity', 'value': 12}, 'next_frame', 'next_frame']\n",
      "Chords:  ['F_M', 'F_M', 'F_M', 'F_M', 'C_M', 'C_M', 'D_m7', 'D_m7', 'C_M', 'C_M', 'C_M', 'C_M', 'C_M7', 'C_M7', 'C_M7', 'C_M7', 'D_m', 'D_m', 'D_m', 'D_m', 'A_m7', 'A_m7', 'A_m7', 'A_m7', 'A_m7', 'A_m7', 'A_m', 'A_m', 'D_m7', 'D_m7', 'D_m7', 'D_m7']\n"
     ]
    },
    {
     "name": "stderr",
     "output_type": "stream",
     "text": [
      "100%|██████████| 792/792 [02:51<00:00,  4.61it/s, batch=790, gpu_temp=61, loss={'chord': tensor(1.6846, device='cuda:0', grad_fn=<NllLossBackward0>), 'velocity': tensor(2.2892, device='cuda:0', grad_fn=<NllLossBackward0>), 'polyphony': tensor(1.5833, device='cuda:0', grad_fn=<NllLossBackward0>), 'density': tensor(1.6431, device='cuda:0', grad_fn=<NllLossBackward0>), 'piano_roll': tensor(1.0918, device='cuda:0', grad_fn=<NllLoss2DBackward0>), 'total': tensor(8.2919, device='cuda:0', grad_fn=<AddBackward0>)}]\n",
      "100%|██████████| 16/16 [00:07<00:00,  2.13it/s]\n"
     ]
    },
    {
     "name": "stdout",
     "output_type": "stream",
     "text": [
      "Generated:  [{'type': 'pitch', 'value': 12}, {'type': 'velocity', 'value': 23}, {'type': 'pitch', 'value': 24}, {'type': 'velocity', 'value': 24}, 'next_frame', 'next_frame', 'next_frame', 'next_frame', 'next_frame', 'next_frame']\n",
      "Chords:  ['E_m7', 'E_m7', 'E_m7', 'E_m7', 'A_m7', 'A_m7', 'C_M', 'C_M', 'C_M', 'C_M', 'C_M', 'C_M', 'D_m7', 'D_m7', 'F_M', 'F_M', 'C_M7', 'C_M7', 'C_M7', 'C_M7', 'C_M', 'C_M', 'G_M', 'G_M', 'F_M7', 'F_M7', 'E_m7', 'E_m7', 'F_M7', 'F_M7', 'F_M7', 'F_M7']\n"
     ]
    },
    {
     "name": "stderr",
     "output_type": "stream",
     "text": [
      "100%|██████████| 792/792 [02:54<00:00,  4.54it/s, batch=790, gpu_temp=55, loss={'chord': tensor(1.8527, device='cuda:0', grad_fn=<NllLossBackward0>), 'velocity': tensor(1.8385, device='cuda:0', grad_fn=<NllLossBackward0>), 'polyphony': tensor(1.3797, device='cuda:0', grad_fn=<NllLossBackward0>), 'density': tensor(1.6396, device='cuda:0', grad_fn=<NllLossBackward0>), 'piano_roll': tensor(1.1743, device='cuda:0', grad_fn=<NllLoss2DBackward0>), 'total': tensor(7.8849, device='cuda:0', grad_fn=<AddBackward0>)}] \n",
      "100%|██████████| 16/16 [00:08<00:00,  1.86it/s]\n"
     ]
    },
    {
     "name": "stdout",
     "output_type": "stream",
     "text": [
      "Generated:  [{'type': 'pitch', 'value': 20}, {'type': 'velocity', 'value': 13}, {'type': 'pitch', 'value': 32}, {'type': 'velocity', 'value': 16}, 'next_frame', 'next_frame', 'next_frame', 'next_frame', {'type': 'pitch', 'value': 39}, {'type': 'velocity', 'value': 18}]\n",
      "Chords:  ['None', 'None', 'A_m', 'A_m', 'C_M', 'C_M', 'C_M7', 'C_M7', 'C_M7', 'C_M7', 'C_M7', 'C_M7', 'A_m', 'A_m', 'A_m7', 'A_m7', 'A_m', 'A_m', 'A_m', 'A_m', 'A_M', 'A_M', 'A_m', 'A_m', 'A_m', 'A_m', 'A_m', 'A_m', 'None', 'None', 'None', 'None']\n"
     ]
    },
    {
     "name": "stderr",
     "output_type": "stream",
     "text": [
      "100%|██████████| 792/792 [02:53<00:00,  4.57it/s, batch=790, gpu_temp=61, loss={'chord': tensor(1.7415, device='cuda:0', grad_fn=<NllLossBackward0>), 'velocity': tensor(2.1152, device='cuda:0', grad_fn=<NllLossBackward0>), 'polyphony': tensor(1.2750, device='cuda:0', grad_fn=<NllLossBackward0>), 'density': tensor(1.8630, device='cuda:0', grad_fn=<NllLossBackward0>), 'piano_roll': tensor(1.0937, device='cuda:0', grad_fn=<NllLoss2DBackward0>), 'total': tensor(8.0884, device='cuda:0', grad_fn=<AddBackward0>)}] \n",
      "100%|██████████| 16/16 [00:07<00:00,  2.12it/s]\n"
     ]
    },
    {
     "name": "stdout",
     "output_type": "stream",
     "text": [
      "Generated:  [{'type': 'pitch', 'value': 8}, {'type': 'velocity', 'value': 18}, {'type': 'pitch', 'value': 20}, {'type': 'velocity', 'value': 19}, {'type': 'pitch', 'value': 44}, {'type': 'velocity', 'value': 18}, {'type': 'pitch', 'value': 48}, {'type': 'velocity', 'value': 20}, 'next_frame', 'next_frame']\n",
      "Chords:  ['C_M', 'C_M', 'C_M', 'C_M', 'A_m7', 'A_m7', 'A_m7', 'A_m7', 'E_M', 'E_M', 'E_M', 'E_M', 'None', 'None', 'None', 'None', 'C_M', 'C_M', 'C_M', 'C_M', 'C_7', 'C_7', 'C_7', 'C_7', 'F_M', 'F_M', 'G_M', 'G_M', 'F_M7', 'F_M7', 'C_M', 'C_M']\n"
     ]
    },
    {
     "name": "stderr",
     "output_type": "stream",
     "text": [
      "100%|██████████| 792/792 [02:55<00:00,  4.52it/s, batch=790, gpu_temp=60, loss={'chord': tensor(1.7302, device='cuda:0', grad_fn=<NllLossBackward0>), 'velocity': tensor(2.3960, device='cuda:0', grad_fn=<NllLossBackward0>), 'polyphony': tensor(1.3474, device='cuda:0', grad_fn=<NllLossBackward0>), 'density': tensor(1.6913, device='cuda:0', grad_fn=<NllLossBackward0>), 'piano_roll': tensor(1.0964, device='cuda:0', grad_fn=<NllLoss2DBackward0>), 'total': tensor(8.2612, device='cuda:0', grad_fn=<AddBackward0>)}] \n",
      "100%|██████████| 16/16 [00:07<00:00,  2.10it/s]\n"
     ]
    },
    {
     "name": "stdout",
     "output_type": "stream",
     "text": [
      "Generated:  [{'type': 'pitch', 'value': 12}, {'type': 'velocity', 'value': 17}, {'type': 'pitch', 'value': 43}, {'type': 'velocity', 'value': 20}, {'type': 'pitch', 'value': 51}, {'type': 'velocity', 'value': 21}, 'next_frame', 'next_frame', 'next_frame', 'next_frame']\n",
      "Chords:  ['None', 'None', 'A_m7', 'A_m7', 'G_7', 'G_7', 'C_M7', 'C_M7', 'None', 'None', 'None', 'None', 'G_M', 'G_M', 'G_M', 'G_M', 'A_m7', 'A_m7', 'A_m7', 'A_m7', 'C_M', 'C_M', 'F_M7', 'F_M7', 'C_M', 'C_M', 'C_M', 'C_M', 'A_m', 'A_m', 'A_m', 'A_m']\n"
     ]
    },
    {
     "name": "stderr",
     "output_type": "stream",
     "text": [
      "100%|██████████| 792/792 [02:56<00:00,  4.49it/s, batch=790, gpu_temp=55, loss={'chord': tensor(1.5864, device='cuda:0', grad_fn=<NllLossBackward0>), 'velocity': tensor(2.4541, device='cuda:0', grad_fn=<NllLossBackward0>), 'polyphony': tensor(1.3124, device='cuda:0', grad_fn=<NllLossBackward0>), 'density': tensor(1.7008, device='cuda:0', grad_fn=<NllLossBackward0>), 'piano_roll': tensor(0.9984, device='cuda:0', grad_fn=<NllLoss2DBackward0>), 'total': tensor(8.0520, device='cuda:0', grad_fn=<AddBackward0>)}] \n",
      "100%|██████████| 16/16 [00:07<00:00,  2.23it/s]\n"
     ]
    },
    {
     "name": "stdout",
     "output_type": "stream",
     "text": [
      "Generated:  [{'type': 'pitch', 'value': 12}, {'type': 'velocity', 'value': 18}, {'type': 'pitch', 'value': 24}, {'type': 'velocity', 'value': 19}, {'type': 'pitch', 'value': 43}, {'type': 'velocity', 'value': 18}, {'type': 'pitch', 'value': 48}, {'type': 'velocity', 'value': 17}, {'type': 'pitch', 'value': 51}, {'type': 'velocity', 'value': 22}]\n",
      "Chords:  ['None', 'None', 'None', 'None', 'F_sus2', 'F_sus2', 'E_m7', 'E_m7', 'C_M', 'C_M', 'C_M', 'C_M', 'E_M', 'E_M', 'E_7', 'E_7', 'F_M', 'F_M', 'F_M', 'F_M', 'F_M', 'F_M', 'F_M', 'F_M', 'C_M', 'C_M', 'C_M', 'C_M', 'C_M7', 'C_M7', 'C_M7', 'C_M7']\n"
     ]
    },
    {
     "name": "stderr",
     "output_type": "stream",
     "text": [
      "100%|██████████| 792/792 [02:55<00:00,  4.50it/s, batch=790, gpu_temp=55, loss={'chord': tensor(1.7203, device='cuda:0', grad_fn=<NllLossBackward0>), 'velocity': tensor(1.9922, device='cuda:0', grad_fn=<NllLossBackward0>), 'polyphony': tensor(1.3842, device='cuda:0', grad_fn=<NllLossBackward0>), 'density': tensor(1.8032, device='cuda:0', grad_fn=<NllLossBackward0>), 'piano_roll': tensor(1.1975, device='cuda:0', grad_fn=<NllLoss2DBackward0>), 'total': tensor(8.0974, device='cuda:0', grad_fn=<AddBackward0>)}]\n",
      "100%|██████████| 16/16 [00:07<00:00,  2.19it/s]\n"
     ]
    },
    {
     "name": "stdout",
     "output_type": "stream",
     "text": [
      "Generated:  ['next_frame', 'next_frame', 'next_frame', 'next_frame', 'next_frame', 'next_frame', 'next_frame', 'next_frame', 'next_frame', 'next_frame']\n",
      "Chords:  ['F_M7', 'F_M7', 'F_M7', 'F_M7', 'C_M', 'C_M', 'F_M7', 'F_M7', 'E_m7', 'A_m7', 'A_m7', 'A_m7', 'G_M', 'G_M', 'G_M', 'G_M', 'C_M', 'C_M', 'C_M7', 'C_M7', 'D_m', 'D_m', 'D_m', 'D_m', 'None', 'None', 'None', 'None', 'E_m7', 'E_m7', 'C_M', 'C_M']\n"
     ]
    },
    {
     "name": "stderr",
     "output_type": "stream",
     "text": [
      "100%|██████████| 792/792 [02:56<00:00,  4.49it/s, batch=790, gpu_temp=61, loss={'chord': tensor(1.7555, device='cuda:0', grad_fn=<NllLossBackward0>), 'velocity': tensor(1.8629, device='cuda:0', grad_fn=<NllLossBackward0>), 'polyphony': tensor(1.3820, device='cuda:0', grad_fn=<NllLossBackward0>), 'density': tensor(1.9861, device='cuda:0', grad_fn=<NllLossBackward0>), 'piano_roll': tensor(1.2584, device='cuda:0', grad_fn=<NllLoss2DBackward0>), 'total': tensor(8.2448, device='cuda:0', grad_fn=<AddBackward0>)}]\n",
      "100%|██████████| 16/16 [00:07<00:00,  2.21it/s]\n"
     ]
    },
    {
     "name": "stdout",
     "output_type": "stream",
     "text": [
      "Generated:  ['next_frame', 'next_frame', 'next_frame', 'next_frame', 'next_frame', 'next_frame', 'next_frame', 'next_frame', 'next_frame', 'next_frame']\n",
      "Chords:  ['F_M', 'F_M', 'F_M', 'F_M', 'F_M7', 'F_M7', 'C_M', 'C_M', 'A_m', 'A_m', 'A_m', 'A_m', 'A_m', 'A_m', 'A_m', 'A_m', 'D_m', 'D_m', 'A_m', 'A_m', 'C_M', 'C_M', 'C_M7', 'C_M7', 'None', 'None', 'A_m7', 'A_m7', 'E_m7', 'E_m7', 'E_m7', 'E_m7']\n"
     ]
    },
    {
     "name": "stderr",
     "output_type": "stream",
     "text": [
      "100%|██████████| 792/792 [02:55<00:00,  4.51it/s, batch=790, gpu_temp=55, loss={'chord': tensor(1.6845, device='cuda:0', grad_fn=<NllLossBackward0>), 'velocity': tensor(2.6407, device='cuda:0', grad_fn=<NllLossBackward0>), 'polyphony': tensor(1.5611, device='cuda:0', grad_fn=<NllLossBackward0>), 'density': tensor(1.9561, device='cuda:0', grad_fn=<NllLossBackward0>), 'piano_roll': tensor(1.1731, device='cuda:0', grad_fn=<NllLoss2DBackward0>), 'total': tensor(9.0156, device='cuda:0', grad_fn=<AddBackward0>)}] \n",
      "100%|██████████| 16/16 [00:07<00:00,  2.28it/s]\n"
     ]
    },
    {
     "name": "stdout",
     "output_type": "stream",
     "text": [
      "Generated:  [{'type': 'pitch', 'value': 48}, {'type': 'velocity', 'value': 11}, {'type': 'pitch', 'value': 55}, {'type': 'velocity', 'value': 12}, 'next_frame', 'next_frame', 'next_frame', 'next_frame', 'next_frame', {'type': 'pitch', 'value': 60}]\n",
      "Chords:  ['C_M7', 'C_M7', 'A_m7', 'A_m7', 'None', 'None', 'A_m7', 'A_m7', 'F_M7', 'F_M7', 'F_M', 'F_M', 'A_M7', 'A_M7', 'A_M', 'A_M', 'G_M', 'G_M', 'G_M', 'G_M', 'E_m7', 'E_m7', 'E_m7', 'E_m7', 'A_m7', 'A_m7', 'A_m7', 'A_m7', 'D_m', 'D_m', 'D_m', 'D_m']\n"
     ]
    },
    {
     "name": "stderr",
     "output_type": "stream",
     "text": [
      "100%|██████████| 792/792 [02:56<00:00,  4.50it/s, batch=790, gpu_temp=61, loss={'chord': tensor(1.5218, device='cuda:0', grad_fn=<NllLossBackward0>), 'velocity': tensor(2.4176, device='cuda:0', grad_fn=<NllLossBackward0>), 'polyphony': tensor(1.4779, device='cuda:0', grad_fn=<NllLossBackward0>), 'density': tensor(1.8612, device='cuda:0', grad_fn=<NllLossBackward0>), 'piano_roll': tensor(1.2771, device='cuda:0', grad_fn=<NllLoss2DBackward0>), 'total': tensor(8.5556, device='cuda:0', grad_fn=<AddBackward0>)}]\n",
      "100%|██████████| 16/16 [00:07<00:00,  2.15it/s]\n"
     ]
    },
    {
     "name": "stdout",
     "output_type": "stream",
     "text": [
      "Generated:  [{'type': 'pitch', 'value': 20}, {'type': 'velocity', 'value': 15}, {'type': 'pitch', 'value': 51}, {'type': 'velocity', 'value': 19}, 'next_frame', 'next_frame', 'next_frame', 'next_frame', {'type': 'pitch', 'value': 27}, {'type': 'velocity', 'value': 16}]\n",
      "Chords:  ['None', 'None', 'None', 'None', 'F_m', 'F_m', 'F_m', 'F_m', 'None', 'None', 'F_M7', 'F_M7', 'E_m7', 'E_m7', 'E_m7', 'E_m7', 'G_M', 'G_M', 'G_M', 'G_M', 'F_M7', 'F_M7', 'G_7', 'G_7', 'A_m7', 'A_m7', 'A_m7', 'A_m7', 'A_m', 'A_m', 'A_m', 'A_m']\n"
     ]
    },
    {
     "name": "stderr",
     "output_type": "stream",
     "text": [
      "100%|██████████| 792/792 [02:56<00:00,  4.49it/s, batch=790, gpu_temp=55, loss={'chord': tensor(1.6882, device='cuda:0', grad_fn=<NllLossBackward0>), 'velocity': tensor(2.6165, device='cuda:0', grad_fn=<NllLossBackward0>), 'polyphony': tensor(1.3962, device='cuda:0', grad_fn=<NllLossBackward0>), 'density': tensor(1.8118, device='cuda:0', grad_fn=<NllLossBackward0>), 'piano_roll': tensor(1.2601, device='cuda:0', grad_fn=<NllLoss2DBackward0>), 'total': tensor(8.7729, device='cuda:0', grad_fn=<AddBackward0>)}] \n",
      "100%|██████████| 16/16 [00:07<00:00,  2.25it/s]\n"
     ]
    },
    {
     "name": "stdout",
     "output_type": "stream",
     "text": [
      "Generated:  ['next_frame', 'next_frame', 'next_frame', 'next_frame', 'next_frame', 'next_frame', 'next_frame', 'next_frame', 'next_frame', 'next_frame']\n",
      "Chords:  ['F_M', 'F_M', 'F_M', 'F_M', 'F_M7', 'F_M7', 'F_M', 'F_M', 'F_M7', 'F_M7', 'F_M7', 'F_M7', 'D_m7', 'D_m7', 'F_M7', 'F_M7', 'G_7', 'G_7', 'A_m7', 'A_m7', 'G_7', 'G_7', 'G_M', 'G_M', 'G_sus4', 'G_sus4', 'G_M', 'G_M', 'A_m7', 'A_m7', 'C_M', 'C_M']\n"
     ]
    },
    {
     "name": "stderr",
     "output_type": "stream",
     "text": [
      "100%|██████████| 792/792 [02:55<00:00,  4.51it/s, batch=790, gpu_temp=61, loss={'chord': tensor(1.6654, device='cuda:0', grad_fn=<NllLossBackward0>), 'velocity': tensor(1.8936, device='cuda:0', grad_fn=<NllLossBackward0>), 'polyphony': tensor(1.6941, device='cuda:0', grad_fn=<NllLossBackward0>), 'density': tensor(1.9998, device='cuda:0', grad_fn=<NllLossBackward0>), 'piano_roll': tensor(1.2788, device='cuda:0', grad_fn=<NllLoss2DBackward0>), 'total': tensor(8.5317, device='cuda:0', grad_fn=<AddBackward0>)}]\n",
      "100%|██████████| 16/16 [00:07<00:00,  2.11it/s]\n"
     ]
    },
    {
     "name": "stdout",
     "output_type": "stream",
     "text": [
      "Generated:  [{'type': 'pitch', 'value': 15}, {'type': 'velocity', 'value': 17}, {'type': 'pitch', 'value': 34}, {'type': 'velocity', 'value': 19}, {'type': 'pitch', 'value': 39}, {'type': 'velocity', 'value': 18}, 'next_frame', 'next_frame', 'next_frame', 'next_frame']\n",
      "Chords:  ['C_M', 'C_M', 'C_M', 'C_M', 'F_M', 'F_M', 'F_M', 'F_M', 'A_m7', 'A_m7', 'C_M7', 'C_M7', 'A_m7', 'A_m7', 'A_m7', 'A_m7', 'D_M', 'D_M', 'D_M', 'D_M', 'F_M7', 'F_M7', 'F_M7', 'F_M7', 'C_M7', 'C_M7', 'G_M', 'G_M', 'B_o', 'F_M', 'B_o', 'B_o']\n"
     ]
    },
    {
     "name": "stderr",
     "output_type": "stream",
     "text": [
      "100%|██████████| 792/792 [02:55<00:00,  4.51it/s, batch=790, gpu_temp=55, loss={'chord': tensor(1.5657, device='cuda:0', grad_fn=<NllLossBackward0>), 'velocity': tensor(1.9348, device='cuda:0', grad_fn=<NllLossBackward0>), 'polyphony': tensor(1.4020, device='cuda:0', grad_fn=<NllLossBackward0>), 'density': tensor(1.8959, device='cuda:0', grad_fn=<NllLossBackward0>), 'piano_roll': tensor(1.0448, device='cuda:0', grad_fn=<NllLoss2DBackward0>), 'total': tensor(7.8431, device='cuda:0', grad_fn=<AddBackward0>)}] \n",
      "100%|██████████| 16/16 [00:07<00:00,  2.02it/s]\n"
     ]
    },
    {
     "name": "stdout",
     "output_type": "stream",
     "text": [
      "Generated:  ['next_frame', 'next_frame', 'next_frame', 'next_frame', 'next_frame', 'next_frame', 'next_frame', 'next_frame', 'next_frame', 'next_frame']\n",
      "Chords:  ['C_M', 'C_M', 'C_sus2', 'C_sus2', 'C_M', 'C_M', 'G_M', 'G_M', 'F_M', 'F_M', 'G_M', 'G_M', 'C_M', 'C_M', 'C_M', 'C_M', 'C_M7', 'C_M7', 'A_m7', 'A_m7', 'A_m', 'A_m', 'A_m', 'A_m', 'D_m7', 'D_m7', 'C_M7', 'C_M7', 'A_m', 'A_m', 'A_m7', 'A_m7']\n"
     ]
    },
    {
     "name": "stderr",
     "output_type": "stream",
     "text": [
      "100%|██████████| 792/792 [02:55<00:00,  4.50it/s, batch=790, gpu_temp=55, loss={'chord': tensor(1.4598, device='cuda:0', grad_fn=<NllLossBackward0>), 'velocity': tensor(1.8931, device='cuda:0', grad_fn=<NllLossBackward0>), 'polyphony': tensor(1.5749, device='cuda:0', grad_fn=<NllLossBackward0>), 'density': tensor(1.6999, device='cuda:0', grad_fn=<NllLossBackward0>), 'piano_roll': tensor(0.8249, device='cuda:0', grad_fn=<NllLoss2DBackward0>), 'total': tensor(7.4525, device='cuda:0', grad_fn=<AddBackward0>)}] \n",
      "100%|██████████| 16/16 [00:07<00:00,  2.27it/s]\n"
     ]
    },
    {
     "name": "stdout",
     "output_type": "stream",
     "text": [
      "Generated:  [{'type': 'pitch', 'value': 27}, {'type': 'velocity', 'value': 19}, 'next_frame', 'next_frame', 'next_frame', 'next_frame', {'type': 'pitch', 'value': 34}, {'type': 'velocity', 'value': 16}, {'type': 'pitch', 'value': 51}, {'type': 'velocity', 'value': 18}]\n",
      "Chords:  ['C_M', 'C_M', 'C_M', 'C_M', 'G_M', 'G_M', 'G_M', 'G_M', 'F_M', 'F_M', 'C_M', 'C_M', 'A_m7', 'A_m7', 'C_M7', 'C_M7', 'G_M', 'G_M', 'G_M', 'G_M', 'F_M7', 'F_M7', 'F_M7', 'F_M7', 'A_m7', 'A_m7', 'A_m7', 'A_m7', 'F_M7', 'F_M7', 'C_M7', 'C_M7']\n"
     ]
    },
    {
     "name": "stderr",
     "output_type": "stream",
     "text": [
      "100%|██████████| 792/792 [02:56<00:00,  4.50it/s, batch=790, gpu_temp=55, loss={'chord': tensor(1.2415, device='cuda:0', grad_fn=<NllLossBackward0>), 'velocity': tensor(1.9619, device='cuda:0', grad_fn=<NllLossBackward0>), 'polyphony': tensor(1.6157, device='cuda:0', grad_fn=<NllLossBackward0>), 'density': tensor(1.9930, device='cuda:0', grad_fn=<NllLossBackward0>), 'piano_roll': tensor(0.9366, device='cuda:0', grad_fn=<NllLoss2DBackward0>), 'total': tensor(7.7487, device='cuda:0', grad_fn=<AddBackward0>)}]\n",
      "100%|██████████| 16/16 [00:07<00:00,  2.08it/s]\n"
     ]
    },
    {
     "name": "stdout",
     "output_type": "stream",
     "text": [
      "Generated:  [{'type': 'pitch', 'value': 39}, {'type': 'velocity', 'value': 14}, {'type': 'pitch', 'value': 55}, {'type': 'velocity', 'value': 17}, {'type': 'pitch', 'value': 67}, {'type': 'velocity', 'value': 19}, 'next_frame', 'next_frame', 'next_frame', 'next_frame']\n",
      "Chords:  ['A_m', 'A_m', 'A_m', 'A_m', 'A_m', 'A_m', 'A_m', 'A_m', 'A_m7', 'A_m7', 'E_m7', 'E_m7', 'None', 'None', 'C_M7', 'C_M7', 'A_m7', 'A_m7', 'A_m7', 'A_m7', 'A_m', 'A_m', 'D_m7', 'D_m7', 'E_m7', 'E_m7', 'A_m', 'A_m', 'D_m', 'D_m', 'D_m', 'D_m']\n"
     ]
    },
    {
     "name": "stderr",
     "output_type": "stream",
     "text": [
      "100%|██████████| 792/792 [02:56<00:00,  4.48it/s, batch=790, gpu_temp=61, loss={'chord': tensor(1.4137, device='cuda:0', grad_fn=<NllLossBackward0>), 'velocity': tensor(2.0971, device='cuda:0', grad_fn=<NllLossBackward0>), 'polyphony': tensor(1.2981, device='cuda:0', grad_fn=<NllLossBackward0>), 'density': tensor(1.8318, device='cuda:0', grad_fn=<NllLossBackward0>), 'piano_roll': tensor(1.0387, device='cuda:0', grad_fn=<NllLoss2DBackward0>), 'total': tensor(7.6795, device='cuda:0', grad_fn=<AddBackward0>)}]\n",
      "100%|██████████| 16/16 [00:07<00:00,  2.24it/s]\n"
     ]
    },
    {
     "name": "stdout",
     "output_type": "stream",
     "text": [
      "Generated:  ['next_frame', 'next_frame', 'next_frame', 'next_frame', 'next_frame', 'next_frame', 'next_frame', 'next_frame', 'next_frame', 'next_frame']\n",
      "Chords:  ['A_M', 'A_M', 'A_M', 'A_M', 'C_M7', 'C_M7', 'C_M7', 'C_M7', 'A_m', 'A_m', 'A_m', 'A_m', 'A_m', 'A_m', 'A_m', 'A_m', 'G_M', 'G_M', 'G_M', 'G_M', 'F_M', 'F_M', 'F_M', 'F_M', 'F_M', 'F_M', 'F_M', 'F_M', 'None', 'None', 'A_m', 'A_m']\n"
     ]
    },
    {
     "name": "stderr",
     "output_type": "stream",
     "text": [
      "100%|██████████| 792/792 [02:56<00:00,  4.50it/s, batch=790, gpu_temp=60, loss={'chord': tensor(1.4166, device='cuda:0', grad_fn=<NllLossBackward0>), 'velocity': tensor(2.3978, device='cuda:0', grad_fn=<NllLossBackward0>), 'polyphony': tensor(1.2696, device='cuda:0', grad_fn=<NllLossBackward0>), 'density': tensor(1.7550, device='cuda:0', grad_fn=<NllLossBackward0>), 'piano_roll': tensor(0.9789, device='cuda:0', grad_fn=<NllLoss2DBackward0>), 'total': tensor(7.8179, device='cuda:0', grad_fn=<AddBackward0>)}]\n",
      "100%|██████████| 16/16 [00:07<00:00,  2.07it/s]\n"
     ]
    },
    {
     "name": "stdout",
     "output_type": "stream",
     "text": [
      "Generated:  [{'type': 'pitch', 'value': 27}, {'type': 'velocity', 'value': 20}, 'next_frame', 'next_frame', 'next_frame', 'next_frame', {'type': 'pitch', 'value': 34}, {'type': 'velocity', 'value': 18}, {'type': 'pitch', 'value': 46}, {'type': 'velocity', 'value': 18}]\n",
      "Chords:  ['None', 'None', 'None', 'None', 'E_M', 'E_M', 'None', 'None', 'A_m', 'A_m', 'A_m', 'A_m', 'F_M7', 'F_M7', 'F_M', 'C_M', 'D_m7', 'D_m7', 'D_m', 'D_m', 'C_M', 'C_M', 'C_M', 'C_M', 'None', 'None', 'None', 'None', 'F_M7', 'F_M7', 'F_M7', 'F_M7']\n"
     ]
    },
    {
     "name": "stderr",
     "output_type": "stream",
     "text": [
      "100%|██████████| 792/792 [02:52<00:00,  4.59it/s, batch=790, gpu_temp=55, loss={'chord': tensor(1.7692, device='cuda:0', grad_fn=<NllLossBackward0>), 'velocity': tensor(1.9514, device='cuda:0', grad_fn=<NllLossBackward0>), 'polyphony': tensor(1.3233, device='cuda:0', grad_fn=<NllLossBackward0>), 'density': tensor(1.8325, device='cuda:0', grad_fn=<NllLossBackward0>), 'piano_roll': tensor(1.2528, device='cuda:0', grad_fn=<NllLoss2DBackward0>), 'total': tensor(8.1292, device='cuda:0', grad_fn=<AddBackward0>)}]\n",
      "100%|██████████| 16/16 [00:06<00:00,  2.29it/s]\n"
     ]
    },
    {
     "name": "stdout",
     "output_type": "stream",
     "text": [
      "Generated:  ['next_frame', 'next_frame', 'next_frame', 'next_frame', 'next_frame', 'next_frame', 'next_frame', 'next_frame', {'type': 'pitch', 'value': 24}, {'type': 'velocity', 'value': 17}]\n",
      "Chords:  ['C_M', 'C_M', 'G_M', 'G_M', 'G_M', 'G_M', 'A_m7', 'A_m7', 'E_7', 'E_7', 'E_7', 'E_7', 'D_m7', 'D_m7', 'E_M', 'E_M', 'A_m7', 'A_m7', 'A_m7', 'A_m7', 'None', 'None', 'A_m', 'A_m', 'D_M', 'D_M', 'A_M', 'A_M', 'F_M7', 'F_M7', 'F_M7', 'F_M7']\n"
     ]
    },
    {
     "name": "stderr",
     "output_type": "stream",
     "text": [
      "100%|██████████| 792/792 [02:55<00:00,  4.52it/s, batch=790, gpu_temp=61, loss={'chord': tensor(1.6546, device='cuda:0', grad_fn=<NllLossBackward0>), 'velocity': tensor(2.4023, device='cuda:0', grad_fn=<NllLossBackward0>), 'polyphony': tensor(1.4868, device='cuda:0', grad_fn=<NllLossBackward0>), 'density': tensor(1.9433, device='cuda:0', grad_fn=<NllLossBackward0>), 'piano_roll': tensor(1.0831, device='cuda:0', grad_fn=<NllLoss2DBackward0>), 'total': tensor(8.5700, device='cuda:0', grad_fn=<AddBackward0>)}]\n",
      "100%|██████████| 16/16 [00:07<00:00,  2.16it/s]\n"
     ]
    },
    {
     "name": "stdout",
     "output_type": "stream",
     "text": [
      "Generated:  [{'type': 'pitch', 'value': 12}, {'type': 'velocity', 'value': 14}, {'type': 'pitch', 'value': 39}, {'type': 'velocity', 'value': 16}, {'type': 'pitch', 'value': 43}, {'type': 'velocity', 'value': 19}, 'next_frame', 'next_frame', 'next_frame', 'next_frame']\n",
      "Chords:  ['G_M', 'G_M', 'G_M', 'G_M', 'A_m7', 'A_m7', 'A_m7', 'A_m7', 'D_m7', 'D_m7', 'F_M7', 'F_M7', 'E_M', 'E_M', 'E_M', 'E_M', 'C_M', 'C_M', 'None', 'None', 'G_7', 'G_7', 'G_7', 'G_7', 'C_M7', 'C_M7', 'G_M', 'G_M', 'A_m', 'A_m', 'G_M', 'G_M']\n"
     ]
    },
    {
     "name": "stderr",
     "output_type": "stream",
     "text": [
      "100%|██████████| 792/792 [02:55<00:00,  4.52it/s, batch=790, gpu_temp=61, loss={'chord': tensor(1.5631, device='cuda:0', grad_fn=<NllLossBackward0>), 'velocity': tensor(2.8197, device='cuda:0', grad_fn=<NllLossBackward0>), 'polyphony': tensor(1.5923, device='cuda:0', grad_fn=<NllLossBackward0>), 'density': tensor(1.7597, device='cuda:0', grad_fn=<NllLossBackward0>), 'piano_roll': tensor(1.2732, device='cuda:0', grad_fn=<NllLoss2DBackward0>), 'total': tensor(9.0081, device='cuda:0', grad_fn=<AddBackward0>)}]\n",
      "100%|██████████| 16/16 [00:07<00:00,  2.00it/s]\n"
     ]
    },
    {
     "name": "stdout",
     "output_type": "stream",
     "text": [
      "Generated:  ['next_frame', 'next_frame', 'next_frame', 'next_frame', 'next_frame', 'next_frame', 'next_frame', 'next_frame', 'next_frame', 'next_frame']\n",
      "Chords:  ['C_M', 'C_M', 'C_M', 'C_M', 'C_M', 'C_M', 'C_M7', 'C_M7', 'G_7', 'G_7', 'E_m7', 'E_m7', 'C_M', 'C_M', 'G_M', 'G_M', 'F_M', 'F_M', 'C_M7', 'C_M7', 'C_M7', 'C_M7', 'F_M7', 'F_M7', 'E_m7', 'E_m7', 'E_m7', 'E_m7', 'A_m7', 'A_m7', 'E_m', 'E_m']\n"
     ]
    },
    {
     "name": "stderr",
     "output_type": "stream",
     "text": [
      "100%|██████████| 792/792 [02:55<00:00,  4.50it/s, batch=790, gpu_temp=60, loss={'chord': tensor(1.9286, device='cuda:0', grad_fn=<NllLossBackward0>), 'velocity': tensor(2.3496, device='cuda:0', grad_fn=<NllLossBackward0>), 'polyphony': tensor(1.5007, device='cuda:0', grad_fn=<NllLossBackward0>), 'density': tensor(2.0362, device='cuda:0', grad_fn=<NllLossBackward0>), 'piano_roll': tensor(1.3705, device='cuda:0', grad_fn=<NllLoss2DBackward0>), 'total': tensor(9.1856, device='cuda:0', grad_fn=<AddBackward0>)}]\n",
      "100%|██████████| 16/16 [00:07<00:00,  2.06it/s]\n"
     ]
    },
    {
     "name": "stdout",
     "output_type": "stream",
     "text": [
      "Generated:  ['next_frame', 'next_frame', 'next_frame', 'next_frame', 'next_frame', 'next_frame', 'next_frame', 'next_frame', 'next_frame', 'next_frame']\n",
      "Chords:  ['None', 'None', 'None', 'None', 'None', 'None', 'E_m', 'E_m', 'G_M', 'G_M', 'None', 'None', 'G_M', 'G_M', 'G_M', 'G_M', 'F_M7', 'F_M7', 'D_m7', 'C_M', 'D_m7', 'D_m7', 'B_o', 'B_o', 'C_M', 'C_M', 'C_M', 'C_M', 'E_m', 'E_m', 'C_M7', 'C_M7']\n"
     ]
    },
    {
     "name": "stderr",
     "output_type": "stream",
     "text": [
      "100%|██████████| 792/792 [02:56<00:00,  4.48it/s, batch=790, gpu_temp=55, loss={'chord': tensor(1.8423, device='cuda:0', grad_fn=<NllLossBackward0>), 'velocity': tensor(2.2941, device='cuda:0', grad_fn=<NllLossBackward0>), 'polyphony': tensor(1.4948, device='cuda:0', grad_fn=<NllLossBackward0>), 'density': tensor(2.2213, device='cuda:0', grad_fn=<NllLossBackward0>), 'piano_roll': tensor(1.3471, device='cuda:0', grad_fn=<NllLoss2DBackward0>), 'total': tensor(9.1995, device='cuda:0', grad_fn=<AddBackward0>)}]\n",
      "100%|██████████| 16/16 [00:06<00:00,  2.33it/s]\n"
     ]
    },
    {
     "name": "stdout",
     "output_type": "stream",
     "text": [
      "Generated:  ['next_frame', 'next_frame', 'next_frame', 'next_frame', 'next_frame', 'next_frame', 'next_frame', 'next_frame', 'next_frame', 'next_frame']\n",
      "Chords:  ['C_M', 'C_M', 'C_M', 'C_M', 'F_M', 'F_M', 'F_M7', 'F_M7', 'A_m7', 'A_m7', 'C_M', 'C_M', 'E_m7', 'E_m7', 'A_m', 'A_m', 'A_m7', 'A_m7', 'A_m7', 'A_m7', 'A_M', 'A_M', 'A_M', 'A_M', 'F_M', 'F_M', 'C_M7', 'C_M7', 'C_M', 'C_M', 'C_M7', 'C_M7']\n"
     ]
    },
    {
     "name": "stderr",
     "output_type": "stream",
     "text": [
      "100%|██████████| 792/792 [02:56<00:00,  4.49it/s, batch=790, gpu_temp=61, loss={'chord': tensor(2.1366, device='cuda:0', grad_fn=<NllLossBackward0>), 'velocity': tensor(1.9051, device='cuda:0', grad_fn=<NllLossBackward0>), 'polyphony': tensor(1.4756, device='cuda:0', grad_fn=<NllLossBackward0>), 'density': tensor(1.9347, device='cuda:0', grad_fn=<NllLossBackward0>), 'piano_roll': tensor(1.2102, device='cuda:0', grad_fn=<NllLoss2DBackward0>), 'total': tensor(8.6622, device='cuda:0', grad_fn=<AddBackward0>)}]\n",
      "100%|██████████| 16/16 [00:07<00:00,  2.10it/s]\n"
     ]
    },
    {
     "name": "stdout",
     "output_type": "stream",
     "text": [
      "Generated:  ['next_frame', 'next_frame', 'next_frame', 'next_frame', 'next_frame', 'next_frame', 'next_frame', 'next_frame', 'next_frame', 'next_frame']\n",
      "Chords:  ['A_M', 'A_M', 'A_M', 'A_M', 'F_M7', 'F_M7', 'G_7', 'G_7', 'E_o', 'E_o', 'C_M', 'C_M', 'A_m', 'A_m', 'F_M', 'F_M', 'E_m', 'E_m', 'A_m', 'A_m', 'C_M7', 'C_M7', 'F_M7', 'F_M7', 'A_m7', 'A_m7', 'A_m7', 'A_m7', 'C_M7', 'C_M7', 'C_M7', 'C_M7']\n"
     ]
    },
    {
     "name": "stderr",
     "output_type": "stream",
     "text": [
      "100%|██████████| 792/792 [02:54<00:00,  4.55it/s, batch=790, gpu_temp=60, loss={'chord': tensor(1.5590, device='cuda:0', grad_fn=<NllLossBackward0>), 'velocity': tensor(1.9334, device='cuda:0', grad_fn=<NllLossBackward0>), 'polyphony': tensor(1.3691, device='cuda:0', grad_fn=<NllLossBackward0>), 'density': tensor(1.7250, device='cuda:0', grad_fn=<NllLossBackward0>), 'piano_roll': tensor(1.1235, device='cuda:0', grad_fn=<NllLoss2DBackward0>), 'total': tensor(7.7100, device='cuda:0', grad_fn=<AddBackward0>)}] \n",
      "100%|██████████| 16/16 [00:07<00:00,  2.22it/s]\n"
     ]
    },
    {
     "name": "stdout",
     "output_type": "stream",
     "text": [
      "Generated:  ['next_frame', 'next_frame', 'next_frame', 'next_frame', 'next_frame', 'next_frame', 'next_frame', 'next_frame', 'next_frame', 'next_frame']\n",
      "Chords:  ['E_m', 'E_m', 'A_m7', 'A_m7', 'F_M7', 'F_M7', 'E_m7', 'E_m7', 'C_M7', 'C_M7', 'A_m7', 'A_m7', 'None', 'None', 'F_M', 'F_M', 'F_M7', 'F_M7', 'F_M7', 'F_M7', 'F_M', 'F_M', 'F_M', 'F_M', 'F_M', 'F_M', 'None', 'None', 'C_M7', 'C_M7', 'C_M7', 'C_M7']\n"
     ]
    },
    {
     "name": "stderr",
     "output_type": "stream",
     "text": [
      "100%|██████████| 792/792 [02:55<00:00,  4.52it/s, batch=790, gpu_temp=61, loss={'chord': tensor(1.8981, device='cuda:0', grad_fn=<NllLossBackward0>), 'velocity': tensor(1.8895, device='cuda:0', grad_fn=<NllLossBackward0>), 'polyphony': tensor(1.7255, device='cuda:0', grad_fn=<NllLossBackward0>), 'density': tensor(1.6539, device='cuda:0', grad_fn=<NllLossBackward0>), 'piano_roll': tensor(1.2342, device='cuda:0', grad_fn=<NllLoss2DBackward0>), 'total': tensor(8.4012, device='cuda:0', grad_fn=<AddBackward0>)}]\n",
      "100%|██████████| 16/16 [00:07<00:00,  2.23it/s]\n"
     ]
    },
    {
     "name": "stdout",
     "output_type": "stream",
     "text": [
      "Generated:  ['next_frame', 'next_frame', 'next_frame', 'next_frame', 'next_frame', 'next_frame', 'next_frame', 'next_frame', 'next_frame', 'next_frame']\n",
      "Chords:  ['A_m', 'A_m', 'A_m', 'A_m', 'F_M', 'F_M', 'F_sus2', 'F_sus2', 'F_M', 'F_M', 'F_M7', 'F_M7', 'G_M', 'G_M', 'C_M', 'C_M', 'F_M7', 'F_M7', 'F_M', 'F_M', 'G_M', 'G_M', 'A_m7', 'A_m7', 'G_M', 'G_M', 'G_M', 'G_M', 'C_M', 'C_M', 'C_M', 'C_M']\n"
     ]
    },
    {
     "name": "stderr",
     "output_type": "stream",
     "text": [
      "100%|██████████| 792/792 [02:55<00:00,  4.51it/s, batch=790, gpu_temp=60, loss={'chord': tensor(1.9460, device='cuda:0', grad_fn=<NllLossBackward0>), 'velocity': tensor(2.1779, device='cuda:0', grad_fn=<NllLossBackward0>), 'polyphony': tensor(1.3589, device='cuda:0', grad_fn=<NllLossBackward0>), 'density': tensor(1.8983, device='cuda:0', grad_fn=<NllLossBackward0>), 'piano_roll': tensor(1.2870, device='cuda:0', grad_fn=<NllLoss2DBackward0>), 'total': tensor(8.6682, device='cuda:0', grad_fn=<AddBackward0>)}]\n",
      "100%|██████████| 16/16 [00:07<00:00,  2.19it/s]\n"
     ]
    },
    {
     "name": "stdout",
     "output_type": "stream",
     "text": [
      "Generated:  ['next_frame', 'next_frame', 'next_frame', 'next_frame', 'next_frame', 'next_frame', 'next_frame', 'next_frame', 'next_frame', 'next_frame']\n",
      "Chords:  ['None', 'None', 'None', 'None', 'F_M7', 'F_M7', 'F_M', 'F_M', 'A_M', 'A_M', 'A_m7', 'A_m7', 'G_M', 'G_M', 'G_M', 'G_M', 'A_m', 'A_m', 'A_m7', 'A_m7', 'E_M', 'E_M', 'E_M', 'E_M', 'E_m', 'E_m', 'E_m', 'E_m', 'E_o', 'A_m7', 'E_o', 'E_o']\n"
     ]
    },
    {
     "name": "stderr",
     "output_type": "stream",
     "text": [
      "100%|██████████| 792/792 [02:54<00:00,  4.54it/s, batch=790, gpu_temp=62, loss={'chord': tensor(1.6711, device='cuda:0', grad_fn=<NllLossBackward0>), 'velocity': tensor(2.4426, device='cuda:0', grad_fn=<NllLossBackward0>), 'polyphony': tensor(1.5532, device='cuda:0', grad_fn=<NllLossBackward0>), 'density': tensor(2.0286, device='cuda:0', grad_fn=<NllLossBackward0>), 'piano_roll': tensor(1.1232, device='cuda:0', grad_fn=<NllLoss2DBackward0>), 'total': tensor(8.8186, device='cuda:0', grad_fn=<AddBackward0>)}]\n",
      "100%|██████████| 16/16 [00:07<00:00,  2.09it/s]\n"
     ]
    },
    {
     "name": "stdout",
     "output_type": "stream",
     "text": [
      "Generated:  ['next_frame', 'next_frame', 'next_frame', 'next_frame', 'next_frame', 'next_frame', 'next_frame', 'next_frame', 'next_frame', 'next_frame']\n",
      "Chords:  ['None', 'None', 'None', 'None', 'C_M', 'C_M', 'C_M', 'C_M', 'A_sus2', 'A_sus2', 'A_m', 'A_m', 'D_m7', 'D_m7', 'F_M7', 'F_M7', 'A_m', 'A_m', 'A_m', 'A_m', 'C_M', 'C_M', 'C_M7', 'C_M7', 'G_M', 'G_M', 'G_7', 'G_7', 'G_M', 'G_M', 'G_M', 'G_M']\n"
     ]
    },
    {
     "name": "stderr",
     "output_type": "stream",
     "text": [
      "100%|██████████| 792/792 [02:57<00:00,  4.46it/s, batch=790, gpu_temp=60, loss={'chord': tensor(1.5594, device='cuda:0', grad_fn=<NllLossBackward0>), 'velocity': tensor(2.3009, device='cuda:0', grad_fn=<NllLossBackward0>), 'polyphony': tensor(1.6245, device='cuda:0', grad_fn=<NllLossBackward0>), 'density': tensor(1.8701, device='cuda:0', grad_fn=<NllLossBackward0>), 'piano_roll': tensor(1.1174, device='cuda:0', grad_fn=<NllLoss2DBackward0>), 'total': tensor(8.4724, device='cuda:0', grad_fn=<AddBackward0>)}] \n",
      "100%|██████████| 16/16 [00:07<00:00,  2.01it/s]\n"
     ]
    },
    {
     "name": "stdout",
     "output_type": "stream",
     "text": [
      "Generated:  [{'type': 'pitch', 'value': 20}, {'type': 'velocity', 'value': 18}, {'type': 'pitch', 'value': 32}, {'type': 'velocity', 'value': 18}, {'type': 'pitch', 'value': 36}, {'type': 'velocity', 'value': 18}, {'type': 'pitch', 'value': 39}, {'type': 'velocity', 'value': 17}, 'next_frame', 'next_frame']\n",
      "Chords:  ['A_m', 'A_m', 'F_M7', 'F_M7', 'A_m7', 'A_m7', 'None', 'None', 'C_M', 'C_M', 'C_M', 'C_M', 'G_M', 'G_M', 'G_7', 'G_7', 'A_m', 'A_m', 'None', 'None', 'A_m', 'A_m', 'A_m', 'A_m', 'D_m7', 'D_m7', 'G_M', 'G_M', 'F_M', 'F_M', 'B_o', 'B_o']\n"
     ]
    },
    {
     "name": "stderr",
     "output_type": "stream",
     "text": [
      "100%|██████████| 792/792 [02:56<00:00,  4.49it/s, batch=790, gpu_temp=55, loss={'chord': tensor(1.8435, device='cuda:0', grad_fn=<NllLossBackward0>), 'velocity': tensor(2.0958, device='cuda:0', grad_fn=<NllLossBackward0>), 'polyphony': tensor(1.5221, device='cuda:0', grad_fn=<NllLossBackward0>), 'density': tensor(1.8527, device='cuda:0', grad_fn=<NllLossBackward0>), 'piano_roll': tensor(1.0824, device='cuda:0', grad_fn=<NllLoss2DBackward0>), 'total': tensor(8.3964, device='cuda:0', grad_fn=<AddBackward0>)}]\n",
      "100%|██████████| 16/16 [00:07<00:00,  2.02it/s]\n"
     ]
    },
    {
     "name": "stdout",
     "output_type": "stream",
     "text": [
      "Generated:  [{'type': 'pitch', 'value': 36}, {'type': 'velocity', 'value': 12}, {'type': 'pitch', 'value': 39}, {'type': 'velocity', 'value': 11}, {'type': 'pitch', 'value': 43}, {'type': 'velocity', 'value': 14}, {'type': 'pitch', 'value': 48}, {'type': 'velocity', 'value': 16}, {'type': 'pitch', 'value': 51}, {'type': 'velocity', 'value': 16}]\n",
      "Chords:  ['None', 'None', 'None', 'None', 'None', 'None', 'None', 'None', 'C_M', 'C_M', 'C_M', 'C_M', 'A_M', 'A_M', 'A_m', 'A_m', 'C_+', 'C_+', 'A_m', 'A_m', 'A_m', 'A_m', 'D_m7', 'D_m7', 'F_M', 'F_M', 'C_M', 'C_M', 'C_M', 'C_M', 'C_M', 'C_M']\n"
     ]
    },
    {
     "name": "stderr",
     "output_type": "stream",
     "text": [
      "100%|██████████| 792/792 [02:54<00:00,  4.55it/s, batch=790, gpu_temp=62, loss={'chord': tensor(1.8466, device='cuda:0', grad_fn=<NllLossBackward0>), 'velocity': tensor(2.5543, device='cuda:0', grad_fn=<NllLossBackward0>), 'polyphony': tensor(1.4523, device='cuda:0', grad_fn=<NllLossBackward0>), 'density': tensor(1.8241, device='cuda:0', grad_fn=<NllLossBackward0>), 'piano_roll': tensor(1.2089, device='cuda:0', grad_fn=<NllLoss2DBackward0>), 'total': tensor(8.8864, device='cuda:0', grad_fn=<AddBackward0>)}]\n",
      "100%|██████████| 16/16 [00:07<00:00,  2.15it/s]\n"
     ]
    },
    {
     "name": "stdout",
     "output_type": "stream",
     "text": [
      "Generated:  ['next_frame', 'next_frame', 'next_frame', 'next_frame', 'next_frame', 'next_frame', 'next_frame', 'next_frame', 'next_frame', 'next_frame']\n",
      "Chords:  ['A_m', 'A_m', 'A_m', 'A_m', 'A_M', 'A_M', 'A_M', 'A_M', 'None', 'None', 'None', 'None', 'E_M', 'E_M', 'E_M', 'E_M', 'C_sus2', 'C_sus2', 'C_sus2', 'C_sus2', 'D_M', 'D_M', 'A_M', 'A_M', 'A_m', 'A_m', 'A_m7', 'A_m7', 'F_M7', 'F_M7', 'A_m', 'A_m']\n"
     ]
    },
    {
     "name": "stderr",
     "output_type": "stream",
     "text": [
      "100%|██████████| 792/792 [02:52<00:00,  4.58it/s, batch=790, gpu_temp=61, loss={'chord': tensor(1.5695, device='cuda:0', grad_fn=<NllLossBackward0>), 'velocity': tensor(1.7715, device='cuda:0', grad_fn=<NllLossBackward0>), 'polyphony': tensor(1.7309, device='cuda:0', grad_fn=<NllLossBackward0>), 'density': tensor(2.0080, device='cuda:0', grad_fn=<NllLossBackward0>), 'piano_roll': tensor(1.2700, device='cuda:0', grad_fn=<NllLoss2DBackward0>), 'total': tensor(8.3499, device='cuda:0', grad_fn=<AddBackward0>)}]\n",
      "100%|██████████| 16/16 [00:07<00:00,  2.01it/s]\n"
     ]
    },
    {
     "name": "stdout",
     "output_type": "stream",
     "text": [
      "Generated:  ['next_frame', 'next_frame', 'next_frame', 'next_frame', 'next_frame', 'next_frame', 'next_frame', 'next_frame', 'next_frame', 'next_frame']\n",
      "Chords:  ['C_M', 'C_M', 'C_M', 'C_M', 'C_M', 'C_M', 'C_M', 'C_M', 'A_m7', 'A_m7', 'F_M7', 'F_M7', 'None', 'None', 'None', 'None', 'E_m7', 'E_m7', 'E_m7', 'E_m7', 'None', 'None', 'A_m', 'A_m', 'F_M', 'F_M', 'F_M', 'F_M', 'F_M7', 'F_M7', 'F_M7', 'F_M7']\n"
     ]
    },
    {
     "name": "stderr",
     "output_type": "stream",
     "text": [
      "100%|██████████| 792/792 [02:54<00:00,  4.53it/s, batch=790, gpu_temp=60, loss={'chord': tensor(1.6905, device='cuda:0', grad_fn=<NllLossBackward0>), 'velocity': tensor(1.8959, device='cuda:0', grad_fn=<NllLossBackward0>), 'polyphony': tensor(1.2214, device='cuda:0', grad_fn=<NllLossBackward0>), 'density': tensor(1.5353, device='cuda:0', grad_fn=<NllLossBackward0>), 'piano_roll': tensor(1.0202, device='cuda:0', grad_fn=<NllLoss2DBackward0>), 'total': tensor(7.3633, device='cuda:0', grad_fn=<AddBackward0>)}]\n",
      "100%|██████████| 16/16 [00:07<00:00,  2.01it/s]\n"
     ]
    },
    {
     "name": "stdout",
     "output_type": "stream",
     "text": [
      "Generated:  ['next_frame', 'next_frame', 'next_frame', 'next_frame', 'next_frame', 'next_frame', 'next_frame', 'next_frame', 'next_frame', 'next_frame']\n",
      "Chords:  ['None', 'None', 'None', 'None', 'A_m', 'A_m', 'C_M', 'C_M', 'D_M', 'D_M', 'D_M', 'D_M', 'C_M7', 'C_M7', 'A_m', 'A_m', 'A_m7', 'A_m7', 'A_m7', 'A_m7', 'C_M', 'C_M', 'C_M', 'C_M', 'C_M7', 'C_M7', 'C_M', 'C_M', 'F_M', 'F_M', 'F_M', 'F_M']\n"
     ]
    },
    {
     "name": "stderr",
     "output_type": "stream",
     "text": [
      "100%|██████████| 792/792 [02:54<00:00,  4.53it/s, batch=790, gpu_temp=55, loss={'chord': tensor(1.5905, device='cuda:0', grad_fn=<NllLossBackward0>), 'velocity': tensor(2.4670, device='cuda:0', grad_fn=<NllLossBackward0>), 'polyphony': tensor(1.4349, device='cuda:0', grad_fn=<NllLossBackward0>), 'density': tensor(2.0032, device='cuda:0', grad_fn=<NllLossBackward0>), 'piano_roll': tensor(1.0802, device='cuda:0', grad_fn=<NllLoss2DBackward0>), 'total': tensor(8.5759, device='cuda:0', grad_fn=<AddBackward0>)}]\n",
      "100%|██████████| 16/16 [00:07<00:00,  2.09it/s]\n"
     ]
    },
    {
     "name": "stdout",
     "output_type": "stream",
     "text": [
      "Generated:  [{'type': 'pitch', 'value': 24}, {'type': 'velocity', 'value': 10}, {'type': 'pitch', 'value': 31}, {'type': 'velocity', 'value': 12}, {'type': 'pitch', 'value': 39}, {'type': 'velocity', 'value': 12}, {'type': 'pitch', 'value': 48}, {'type': 'velocity', 'value': 16}, 'next_frame', 'next_frame']\n",
      "Chords:  ['D_m', 'D_m', 'D_m', 'D_m', 'D_M', 'D_M', 'E_M', 'E_M', 'E_m7', 'E_m7', 'E_m7', 'E_m7', 'C_M7', 'C_M7', 'G_7', 'G_7', 'C_M', 'C_M', 'E_m7', 'E_m7', 'None', 'None', 'None', 'None', 'F_M', 'F_M', 'F_M', 'F_M', 'C_M', 'C_M', 'C_M', 'C_M']\n"
     ]
    },
    {
     "name": "stderr",
     "output_type": "stream",
     "text": [
      "100%|██████████| 792/792 [02:54<00:00,  4.53it/s, batch=790, gpu_temp=61, loss={'chord': tensor(2.4144, device='cuda:0', grad_fn=<NllLossBackward0>), 'velocity': tensor(1.8802, device='cuda:0', grad_fn=<NllLossBackward0>), 'polyphony': tensor(1.1973, device='cuda:0', grad_fn=<NllLossBackward0>), 'density': tensor(1.6986, device='cuda:0', grad_fn=<NllLossBackward0>), 'piano_roll': tensor(1.2111, device='cuda:0', grad_fn=<NllLoss2DBackward0>), 'total': tensor(8.4016, device='cuda:0', grad_fn=<AddBackward0>)}] \n",
      "100%|██████████| 16/16 [00:07<00:00,  2.18it/s]\n"
     ]
    },
    {
     "name": "stdout",
     "output_type": "stream",
     "text": [
      "Generated:  ['next_frame', 'next_frame', 'next_frame', 'next_frame', 'next_frame', 'next_frame', 'next_frame', 'next_frame', 'next_frame', 'next_frame']\n",
      "Chords:  ['None', 'None', 'F_M7', 'F_M7', 'A_m', 'A_m', 'A_m', 'A_m', 'E_M', 'E_M', 'E_M', 'E_M', 'F_M', 'F_M', 'A_m7', 'A_m7', 'D_m7', 'D_m7', 'D_m7', 'D_m7', 'C_M', 'C_M', 'G_M', 'G_M', 'A_m7', 'A_m7', 'G_M', 'G_M', 'F_M', 'F_M', 'F_M', 'F_M']\n"
     ]
    },
    {
     "name": "stderr",
     "output_type": "stream",
     "text": [
      "100%|██████████| 792/792 [02:57<00:00,  4.46it/s, batch=790, gpu_temp=61, loss={'chord': tensor(1.8007, device='cuda:0', grad_fn=<NllLossBackward0>), 'velocity': tensor(2.2002, device='cuda:0', grad_fn=<NllLossBackward0>), 'polyphony': tensor(1.2922, device='cuda:0', grad_fn=<NllLossBackward0>), 'density': tensor(1.6634, device='cuda:0', grad_fn=<NllLossBackward0>), 'piano_roll': tensor(1.2393, device='cuda:0', grad_fn=<NllLoss2DBackward0>), 'total': tensor(8.1958, device='cuda:0', grad_fn=<AddBackward0>)}]\n",
      "100%|██████████| 16/16 [00:07<00:00,  2.17it/s]\n"
     ]
    },
    {
     "name": "stdout",
     "output_type": "stream",
     "text": [
      "Generated:  ['next_frame', 'next_frame', 'next_frame', 'next_frame', 'next_frame', 'next_frame', 'next_frame', 'next_frame', 'next_frame', 'next_frame']\n",
      "Chords:  ['A_M', 'A_M', 'A_M', 'A_M', 'G_M', 'G_M', 'G_M', 'G_M', 'A_m', 'A_m', 'A_m', 'A_m', 'F_M7', 'F_M7', 'F_M7', 'F_M7', 'A_M', 'A_M', 'A_M', 'A_M', 'C_M', 'C_M', 'C_M', 'C_M', 'A_m7', 'A_m7', 'A_m7', 'A_m7', 'D_m', 'D_m', 'D_m', 'D_m']\n"
     ]
    },
    {
     "name": "stderr",
     "output_type": "stream",
     "text": [
      "100%|██████████| 792/792 [02:58<00:00,  4.45it/s, batch=790, gpu_temp=61, loss={'chord': tensor(2.1711, device='cuda:0', grad_fn=<NllLossBackward0>), 'velocity': tensor(2.0996, device='cuda:0', grad_fn=<NllLossBackward0>), 'polyphony': tensor(1.3712, device='cuda:0', grad_fn=<NllLossBackward0>), 'density': tensor(1.6438, device='cuda:0', grad_fn=<NllLossBackward0>), 'piano_roll': tensor(1.2752, device='cuda:0', grad_fn=<NllLoss2DBackward0>), 'total': tensor(8.5607, device='cuda:0', grad_fn=<AddBackward0>)}]\n",
      "100%|██████████| 16/16 [00:07<00:00,  2.25it/s]\n"
     ]
    },
    {
     "name": "stdout",
     "output_type": "stream",
     "text": [
      "Generated:  ['next_frame', 'next_frame', 'next_frame', 'next_frame', 'next_frame', 'next_frame', 'next_frame', 'next_frame', 'next_frame', 'next_frame']\n",
      "Chords:  ['None', 'None', 'C_M', 'C_M', 'F_M7', 'F_M7', 'G_7', 'G_7', 'E_m', 'E_m', 'A_m', 'A_m', 'D_M', 'D_M', 'E_m7', 'E_m7', 'C_M', 'C_M', 'C_M', 'C_M', 'G_7', 'G_7', 'G_M', 'G_M', 'E_m', 'E_m', 'E_m', 'E_m', 'A_m7', 'A_m7', 'G_M', 'G_M']\n"
     ]
    },
    {
     "name": "stderr",
     "output_type": "stream",
     "text": [
      "100%|██████████| 792/792 [02:55<00:00,  4.51it/s, batch=790, gpu_temp=55, loss={'chord': tensor(1.6188, device='cuda:0', grad_fn=<NllLossBackward0>), 'velocity': tensor(1.7958, device='cuda:0', grad_fn=<NllLossBackward0>), 'polyphony': tensor(1.3913, device='cuda:0', grad_fn=<NllLossBackward0>), 'density': tensor(1.4790, device='cuda:0', grad_fn=<NllLossBackward0>), 'piano_roll': tensor(0.8889, device='cuda:0', grad_fn=<NllLoss2DBackward0>), 'total': tensor(7.1739, device='cuda:0', grad_fn=<AddBackward0>)}]\n",
      "100%|██████████| 16/16 [00:07<00:00,  2.10it/s]\n"
     ]
    },
    {
     "name": "stdout",
     "output_type": "stream",
     "text": [
      "Generated:  [{'type': 'pitch', 'value': 27}, {'type': 'velocity', 'value': 15}, 'next_frame', 'next_frame', 'next_frame', 'next_frame', {'type': 'pitch', 'value': 34}, {'type': 'velocity', 'value': 17}, 'next_frame', 'next_frame']\n",
      "Chords:  ['F_M7', 'F_M7', 'F_M', 'F_M', 'A_m', 'A_m', 'A_m', 'A_m', 'C_M', 'C_M', 'C_M', 'C_M', 'C_M', 'C_M', 'C_M', 'C_M', 'F_sus2', 'F_sus2', 'E_m7', 'E_m7', 'A_m7', 'A_m7', 'A_m7', 'A_m7', 'E_M', 'E_M', 'C_+', 'C_+', 'F_M', 'F_M', 'F_M', 'F_M']\n"
     ]
    },
    {
     "name": "stderr",
     "output_type": "stream",
     "text": [
      "100%|██████████| 792/792 [02:56<00:00,  4.49it/s, batch=790, gpu_temp=55, loss={'chord': tensor(1.7356, device='cuda:0', grad_fn=<NllLossBackward0>), 'velocity': tensor(1.7865, device='cuda:0', grad_fn=<NllLossBackward0>), 'polyphony': tensor(1.5834, device='cuda:0', grad_fn=<NllLossBackward0>), 'density': tensor(1.9276, device='cuda:0', grad_fn=<NllLossBackward0>), 'piano_roll': tensor(1.0473, device='cuda:0', grad_fn=<NllLoss2DBackward0>), 'total': tensor(8.0804, device='cuda:0', grad_fn=<AddBackward0>)}]\n",
      "100%|██████████| 16/16 [00:07<00:00,  2.02it/s]\n"
     ]
    },
    {
     "name": "stdout",
     "output_type": "stream",
     "text": [
      "Generated:  [{'type': 'pitch', 'value': 20}, {'type': 'velocity', 'value': 17}, {'type': 'pitch', 'value': 32}, {'type': 'velocity', 'value': 17}, {'type': 'pitch', 'value': 48}, {'type': 'velocity', 'value': 16}, {'type': 'pitch', 'value': 51}, {'type': 'velocity', 'value': 17}, {'type': 'pitch', 'value': 55}, {'type': 'velocity', 'value': 21}]\n",
      "Chords:  ['C_M', 'C_M', 'C_M', 'C_M', 'E_m7', 'E_m7', 'C_M', 'C_M', 'C_M7', 'C_M7', 'G_M', 'G_M', 'G_7', 'G_7', 'B_o', 'B_o', 'D_M', 'D_M', 'D_M', 'D_M', 'C_M', 'C_M', 'C_M', 'C_M', 'A_m', 'A_m', 'C_M7', 'C_M7', 'G_M', 'G_M', 'G_M', 'G_M']\n"
     ]
    },
    {
     "name": "stderr",
     "output_type": "stream",
     "text": [
      "100%|██████████| 792/792 [02:54<00:00,  4.55it/s, batch=790, gpu_temp=61, loss={'chord': tensor(1.4202, device='cuda:0', grad_fn=<NllLossBackward0>), 'velocity': tensor(1.9120, device='cuda:0', grad_fn=<NllLossBackward0>), 'polyphony': tensor(1.6573, device='cuda:0', grad_fn=<NllLossBackward0>), 'density': tensor(1.8368, device='cuda:0', grad_fn=<NllLossBackward0>), 'piano_roll': tensor(1.2608, device='cuda:0', grad_fn=<NllLoss2DBackward0>), 'total': tensor(8.0871, device='cuda:0', grad_fn=<AddBackward0>)}]\n",
      "100%|██████████| 16/16 [00:07<00:00,  2.23it/s]\n"
     ]
    },
    {
     "name": "stdout",
     "output_type": "stream",
     "text": [
      "Generated:  [{'type': 'pitch', 'value': 24}, {'type': 'velocity', 'value': 18}, {'type': 'pitch', 'value': 31}, {'type': 'velocity', 'value': 19}, {'type': 'pitch', 'value': 36}, {'type': 'velocity', 'value': 21}, 'next_frame', 'next_frame', 'next_frame', 'next_frame']\n",
      "Chords:  ['None', 'None', 'C_M', 'C_M', 'C_M7', 'C_M7', 'C_M7', 'C_M7', 'A_m', 'A_m', 'A_m', 'A_m', 'C_M', 'C_M', 'G_M', 'G_M', 'G_7', 'G_7', 'D_m7', 'D_m7', 'C_M', 'C_M', 'G_M', 'G_M', 'D_M', 'D_M', 'D_7', 'D_7', 'E_m7', 'E_m7', 'F_M', 'F_M']\n"
     ]
    },
    {
     "name": "stderr",
     "output_type": "stream",
     "text": [
      "100%|██████████| 792/792 [02:54<00:00,  4.54it/s, batch=790, gpu_temp=61, loss={'chord': tensor(1.8190, device='cuda:0', grad_fn=<NllLossBackward0>), 'velocity': tensor(1.9158, device='cuda:0', grad_fn=<NllLossBackward0>), 'polyphony': tensor(1.6317, device='cuda:0', grad_fn=<NllLossBackward0>), 'density': tensor(2.0085, device='cuda:0', grad_fn=<NllLossBackward0>), 'piano_roll': tensor(1.1990, device='cuda:0', grad_fn=<NllLoss2DBackward0>), 'total': tensor(8.5740, device='cuda:0', grad_fn=<AddBackward0>)}] \n",
      "100%|██████████| 16/16 [00:07<00:00,  2.11it/s]\n"
     ]
    },
    {
     "name": "stdout",
     "output_type": "stream",
     "text": [
      "Generated:  ['next_frame', 'next_frame', 'next_frame', 'next_frame', 'next_frame', 'next_frame', 'next_frame', 'next_frame', 'next_frame', 'next_frame']\n",
      "Chords:  ['E_M', 'E_M', 'E_M', 'E_M', 'C_M', 'C_M', 'G_M', 'G_M', 'C_M', 'C_M', 'C_M', 'C_M', 'G_M', 'G_M', 'E_m7', 'E_m7', 'A_m', 'A_m', 'C_M', 'C_M', 'G_M', 'G_M', 'E_m', 'E_m', 'G_7', 'G_7', 'A_m7', 'A_m7', 'F_M7', 'F_M7', 'A_m7', 'A_m7']\n"
     ]
    },
    {
     "name": "stderr",
     "output_type": "stream",
     "text": [
      "100%|██████████| 792/792 [02:57<00:00,  4.47it/s, batch=790, gpu_temp=60, loss={'chord': tensor(1.8709, device='cuda:0', grad_fn=<NllLossBackward0>), 'velocity': tensor(1.8513, device='cuda:0', grad_fn=<NllLossBackward0>), 'polyphony': tensor(1.3118, device='cuda:0', grad_fn=<NllLossBackward0>), 'density': tensor(1.8565, device='cuda:0', grad_fn=<NllLossBackward0>), 'piano_roll': tensor(1.1806, device='cuda:0', grad_fn=<NllLoss2DBackward0>), 'total': tensor(8.0711, device='cuda:0', grad_fn=<AddBackward0>)}]\n",
      "100%|██████████| 16/16 [00:08<00:00,  1.95it/s]\n"
     ]
    },
    {
     "name": "stdout",
     "output_type": "stream",
     "text": [
      "Generated:  ['next_frame', 'next_frame', 'next_frame', 'next_frame', 'next_frame', 'next_frame', 'next_frame', 'next_frame', 'next_frame', 'next_frame']\n",
      "Chords:  ['C_M', 'C_M', 'C_M', 'C_M', 'E_M', 'E_M', 'E_M', 'E_M', 'F_M7', 'F_M7', 'G_7', 'G_7', 'C_M', 'C_M', 'C_M', 'C_M', 'G_7', 'G_7', 'G_M', 'G_M', 'F_M', 'F_M', 'G_M', 'G_M', 'A_m7', 'A_m7', 'F_M7', 'F_M7', 'A_m7', 'A_m7', 'G_M', 'G_M']\n"
     ]
    },
    {
     "name": "stderr",
     "output_type": "stream",
     "text": [
      "100%|██████████| 792/792 [02:58<00:00,  4.45it/s, batch=790, gpu_temp=61, loss={'chord': tensor(1.8076, device='cuda:0', grad_fn=<NllLossBackward0>), 'velocity': tensor(2.5314, device='cuda:0', grad_fn=<NllLossBackward0>), 'polyphony': tensor(2.3913, device='cuda:0', grad_fn=<NllLossBackward0>), 'density': tensor(1.7741, device='cuda:0', grad_fn=<NllLossBackward0>), 'piano_roll': tensor(1.3464, device='cuda:0', grad_fn=<NllLoss2DBackward0>), 'total': tensor(9.8507, device='cuda:0', grad_fn=<AddBackward0>)}] \n",
      "100%|██████████| 16/16 [00:06<00:00,  2.33it/s]\n"
     ]
    },
    {
     "name": "stdout",
     "output_type": "stream",
     "text": [
      "Generated:  [{'type': 'pitch', 'value': 48}, {'type': 'velocity', 'value': 12}, {'type': 'pitch', 'value': 51}, {'type': 'velocity', 'value': 14}, {'type': 'pitch', 'value': 55}, {'type': 'velocity', 'value': 13}, {'type': 'pitch', 'value': 60}, {'type': 'velocity', 'value': 17}, 'next_frame', 'next_frame']\n",
      "Chords:  ['A_M', 'A_M', 'A_M', 'A_M', 'A_m7', 'A_m7', 'A_M', 'A_M', 'E_M', 'E_M', 'E_M', 'E_M', 'F_M7', 'F_M7', 'C_M', 'C_M', 'C_M7', 'C_M7', 'A_m', 'A_m', 'A_m7', 'A_m7', 'C_M7', 'C_M7', 'E_M', 'E_M', 'E_M', 'E_M', 'G_M', 'G_M', 'G_M', 'G_M']\n"
     ]
    },
    {
     "name": "stderr",
     "output_type": "stream",
     "text": [
      "100%|██████████| 792/792 [02:54<00:00,  4.54it/s, batch=790, gpu_temp=61, loss={'chord': tensor(1.3848, device='cuda:0', grad_fn=<NllLossBackward0>), 'velocity': tensor(2.0968, device='cuda:0', grad_fn=<NllLossBackward0>), 'polyphony': tensor(1.4390, device='cuda:0', grad_fn=<NllLossBackward0>), 'density': tensor(1.6089, device='cuda:0', grad_fn=<NllLossBackward0>), 'piano_roll': tensor(1.0882, device='cuda:0', grad_fn=<NllLoss2DBackward0>), 'total': tensor(7.6178, device='cuda:0', grad_fn=<AddBackward0>)}] \n",
      "100%|██████████| 16/16 [00:08<00:00,  1.95it/s]\n"
     ]
    },
    {
     "name": "stdout",
     "output_type": "stream",
     "text": [
      "Generated:  [{'type': 'pitch', 'value': 39}, {'type': 'velocity', 'value': 16}, 'next_frame', 'next_frame', 'next_frame', 'next_frame', {'type': 'pitch', 'value': 46}, {'type': 'velocity', 'value': 13}, 'next_frame', 'next_frame']\n",
      "Chords:  ['None', 'None', 'None', 'None', 'D_M', 'D_M', 'G_M', 'G_M', 'G_M', 'G_M', 'C_M7', 'C_M7', 'C_M', 'C_M', 'C_M7', 'C_M7', 'A_m7', 'A_m7', 'D_m7', 'D_m7', 'C_M7', 'C_M7', 'A_m7', 'A_m7', 'A_m7', 'A_m7', 'E_m', 'E_m', 'F_M7', 'F_M7', 'F_M7', 'F_M7']\n"
     ]
    },
    {
     "name": "stderr",
     "output_type": "stream",
     "text": [
      "100%|██████████| 792/792 [02:55<00:00,  4.50it/s, batch=790, gpu_temp=61, loss={'chord': tensor(1.4323, device='cuda:0', grad_fn=<NllLossBackward0>), 'velocity': tensor(2.3984, device='cuda:0', grad_fn=<NllLossBackward0>), 'polyphony': tensor(1.3999, device='cuda:0', grad_fn=<NllLossBackward0>), 'density': tensor(1.8683, device='cuda:0', grad_fn=<NllLossBackward0>), 'piano_roll': tensor(1.1317, device='cuda:0', grad_fn=<NllLoss2DBackward0>), 'total': tensor(8.2306, device='cuda:0', grad_fn=<AddBackward0>)}]\n",
      "100%|██████████| 16/16 [00:08<00:00,  1.83it/s]\n"
     ]
    },
    {
     "name": "stdout",
     "output_type": "stream",
     "text": [
      "Generated:  [{'type': 'pitch', 'value': 27}, {'type': 'velocity', 'value': 13}, {'type': 'pitch', 'value': 39}, {'type': 'velocity', 'value': 10}, {'type': 'pitch', 'value': 46}, {'type': 'velocity', 'value': 10}, {'type': 'pitch', 'value': 58}, {'type': 'velocity', 'value': 14}, 'next_frame', 'next_frame']\n",
      "Chords:  ['C_M', 'C_M', 'C_M', 'C_M', 'C_M7', 'C_M7', 'G_M', 'G_M', 'D_M', 'D_M', 'A_m7', 'A_m7', 'F_M7', 'F_M7', 'F_M7', 'F_M7', 'A_m', 'A_m', 'A_m', 'A_m', 'A_m', 'A_m', 'F_M', 'F_M', 'F_M7', 'F_M7', 'F_M', 'F_M', 'F_M7', 'F_M7', 'F_M7', 'F_M7']\n"
     ]
    },
    {
     "name": "stderr",
     "output_type": "stream",
     "text": [
      "100%|██████████| 792/792 [02:55<00:00,  4.51it/s, batch=790, gpu_temp=55, loss={'chord': tensor(1.5587, device='cuda:0', grad_fn=<NllLossBackward0>), 'velocity': tensor(2.2291, device='cuda:0', grad_fn=<NllLossBackward0>), 'polyphony': tensor(1.3195, device='cuda:0', grad_fn=<NllLossBackward0>), 'density': tensor(1.7407, device='cuda:0', grad_fn=<NllLossBackward0>), 'piano_roll': tensor(1.1047, device='cuda:0', grad_fn=<NllLoss2DBackward0>), 'total': tensor(7.9528, device='cuda:0', grad_fn=<AddBackward0>)}]\n",
      "100%|██████████| 16/16 [00:07<00:00,  2.11it/s]\n"
     ]
    },
    {
     "name": "stdout",
     "output_type": "stream",
     "text": [
      "Generated:  [{'type': 'pitch', 'value': 24}, {'type': 'velocity', 'value': 17}, {'type': 'pitch', 'value': 31}, {'type': 'velocity', 'value': 18}, {'type': 'pitch', 'value': 39}, {'type': 'velocity', 'value': 19}, {'type': 'pitch', 'value': 43}, {'type': 'velocity', 'value': 21}, 'next_frame', 'next_frame']\n",
      "Chords:  ['None', 'None', 'None', 'None', 'A_m', 'A_m', 'A_m', 'A_m', 'A_m', 'A_m', 'A_m', 'A_m', 'C_M7', 'C_M7', 'C_M7', 'C_M7', 'None', 'None', 'None', 'None', 'D_m', 'D_m', 'D_m', 'D_m', 'F_M', 'F_M', 'F_M7', 'F_M7', 'F_M', 'F_M', 'F_M', 'F_M']\n"
     ]
    },
    {
     "name": "stderr",
     "output_type": "stream",
     "text": [
      "100%|██████████| 792/792 [02:56<00:00,  4.48it/s, batch=790, gpu_temp=55, loss={'chord': tensor(1.5832, device='cuda:0', grad_fn=<NllLossBackward0>), 'velocity': tensor(1.9981, device='cuda:0', grad_fn=<NllLossBackward0>), 'polyphony': tensor(1.4125, device='cuda:0', grad_fn=<NllLossBackward0>), 'density': tensor(2.0158, device='cuda:0', grad_fn=<NllLossBackward0>), 'piano_roll': tensor(1.2124, device='cuda:0', grad_fn=<NllLoss2DBackward0>), 'total': tensor(8.2220, device='cuda:0', grad_fn=<AddBackward0>)}]\n",
      "100%|██████████| 16/16 [00:07<00:00,  2.12it/s]\n"
     ]
    },
    {
     "name": "stdout",
     "output_type": "stream",
     "text": [
      "Generated:  ['next_frame', 'next_frame', 'next_frame', 'next_frame', 'next_frame', 'next_frame', 'next_frame', 'next_frame', 'next_frame', 'next_frame']\n",
      "Chords:  ['A_m7', 'A_m7', 'F_M7', 'F_M7', 'F_M7', 'F_M7', 'F_M', 'F_M', 'G_M', 'G_M', 'A_m7', 'A_m7', 'D_M', 'A_m7', 'A_m7', 'A_m7', 'E_M', 'E_M', 'E_M', 'E_M', 'C_M', 'C_M', 'G_M', 'G_M', 'F_M', 'F_M', 'C_M', 'C_M', 'F_M', 'F_M', 'G_M', 'G_M']\n"
     ]
    },
    {
     "name": "stderr",
     "output_type": "stream",
     "text": [
      "100%|██████████| 792/792 [02:56<00:00,  4.48it/s, batch=790, gpu_temp=61, loss={'chord': tensor(1.3949, device='cuda:0', grad_fn=<NllLossBackward0>), 'velocity': tensor(2.1775, device='cuda:0', grad_fn=<NllLossBackward0>), 'polyphony': tensor(1.2235, device='cuda:0', grad_fn=<NllLossBackward0>), 'density': tensor(1.5190, device='cuda:0', grad_fn=<NllLossBackward0>), 'piano_roll': tensor(0.9430, device='cuda:0', grad_fn=<NllLoss2DBackward0>), 'total': tensor(7.2579, device='cuda:0', grad_fn=<AddBackward0>)}]\n",
      "100%|██████████| 16/16 [00:07<00:00,  2.28it/s]\n"
     ]
    },
    {
     "name": "stdout",
     "output_type": "stream",
     "text": [
      "Generated:  [{'type': 'pitch', 'value': 24}, {'type': 'velocity', 'value': 12}, 'next_frame', {'type': 'pitch', 'value': 31}, {'type': 'velocity', 'value': 11}, 'next_frame', {'type': 'pitch', 'value': 34}, {'type': 'velocity', 'value': 10}, 'next_frame', {'type': 'pitch', 'value': 38}]\n",
      "Chords:  ['A_m', 'A_m', 'A_m', 'A_m', 'F_M7', 'F_M7', 'C_M', 'C_M', 'E_m7', 'E_m7', 'G_M', 'G_M', 'G_7', 'G_7', 'F_M', 'F_M', 'A_m7', 'A_m7', 'E_m7', 'E_m7', 'C_M7', 'C_M7', 'G_M', 'G_M', 'A_sus4', 'A_sus4', 'A_m', 'A_m', 'A_m7', 'A_m7', 'G_M', 'G_M']\n"
     ]
    },
    {
     "name": "stderr",
     "output_type": "stream",
     "text": [
      "100%|██████████| 792/792 [02:56<00:00,  4.48it/s, batch=790, gpu_temp=60, loss={'chord': tensor(1.4965, device='cuda:0', grad_fn=<NllLossBackward0>), 'velocity': tensor(2.4702, device='cuda:0', grad_fn=<NllLossBackward0>), 'polyphony': tensor(1.4442, device='cuda:0', grad_fn=<NllLossBackward0>), 'density': tensor(1.8385, device='cuda:0', grad_fn=<NllLossBackward0>), 'piano_roll': tensor(1.0774, device='cuda:0', grad_fn=<NllLoss2DBackward0>), 'total': tensor(8.3269, device='cuda:0', grad_fn=<AddBackward0>)}]\n",
      "100%|██████████| 16/16 [00:07<00:00,  2.20it/s]\n"
     ]
    },
    {
     "name": "stdout",
     "output_type": "stream",
     "text": [
      "Generated:  ['next_frame', 'next_frame', 'next_frame', 'next_frame', 'next_frame', 'next_frame', 'next_frame', 'next_frame', 'next_frame', 'next_frame']\n",
      "Chords:  ['None', 'None', 'D_m7', 'D_m7', 'F_M7', 'F_M7', 'F_M', 'F_M', 'D_m7', 'D_m7', 'D_m7', 'D_m7', 'A_m7', 'A_m7', 'C_M7', 'C_M7', 'A_m', 'A_m', 'F_M', 'F_M', 'C_M', 'C_M', 'C_M', 'C_M', 'A_m7', 'A_m7', 'G_M', 'G_M', 'C_M', 'C_M', 'C_M', 'C_M']\n"
     ]
    },
    {
     "name": "stderr",
     "output_type": "stream",
     "text": [
      "100%|██████████| 792/792 [02:58<00:00,  4.43it/s, batch=790, gpu_temp=60, loss={'chord': tensor(1.5499, device='cuda:0', grad_fn=<NllLossBackward0>), 'velocity': tensor(1.7342, device='cuda:0', grad_fn=<NllLossBackward0>), 'polyphony': tensor(1.5384, device='cuda:0', grad_fn=<NllLossBackward0>), 'density': tensor(1.5941, device='cuda:0', grad_fn=<NllLossBackward0>), 'piano_roll': tensor(0.8429, device='cuda:0', grad_fn=<NllLoss2DBackward0>), 'total': tensor(7.2596, device='cuda:0', grad_fn=<AddBackward0>)}]\n",
      "100%|██████████| 16/16 [00:07<00:00,  2.19it/s]\n"
     ]
    },
    {
     "name": "stdout",
     "output_type": "stream",
     "text": [
      "Generated:  ['next_frame', 'next_frame', 'next_frame', 'next_frame', 'next_frame', 'next_frame', 'next_frame', 'next_frame', 'next_frame', 'next_frame']\n",
      "Chords:  ['None', 'None', 'E_m7', 'E_m7', 'C_M7', 'C_M7', 'C_M', 'C_M', 'F_M7', 'F_M7', 'F_M7', 'F_M7', 'C_sus2', 'C_sus2', 'C_M7', 'C_M7', 'A_m7', 'A_m7', 'F_M7', 'F_M7', 'A_m', 'A_m', 'C_M', 'C_M', 'F_M7', 'F_M7', 'G_M', 'G_M', 'C_M7', 'C_M7', 'C_M7', 'C_M7']\n"
     ]
    },
    {
     "name": "stderr",
     "output_type": "stream",
     "text": [
      "100%|██████████| 792/792 [02:59<00:00,  4.42it/s, batch=790, gpu_temp=55, loss={'chord': tensor(1.2879, device='cuda:0', grad_fn=<NllLossBackward0>), 'velocity': tensor(1.8619, device='cuda:0', grad_fn=<NllLossBackward0>), 'polyphony': tensor(1.3645, device='cuda:0', grad_fn=<NllLossBackward0>), 'density': tensor(1.6096, device='cuda:0', grad_fn=<NllLossBackward0>), 'piano_roll': tensor(0.9224, device='cuda:0', grad_fn=<NllLoss2DBackward0>), 'total': tensor(7.0463, device='cuda:0', grad_fn=<AddBackward0>)}] \n",
      "100%|██████████| 16/16 [00:07<00:00,  2.23it/s]\n"
     ]
    },
    {
     "name": "stdout",
     "output_type": "stream",
     "text": [
      "Generated:  ['next_frame', 'next_frame', 'next_frame', 'next_frame', 'next_frame', 'next_frame', 'next_frame', 'next_frame', 'next_frame', 'next_frame']\n",
      "Chords:  ['A_M', 'A_M', 'F_M7', 'F_M7', 'F_M7', 'F_M7', 'C_M', 'C_M', 'C_M', 'C_M', 'C_M', 'C_M', 'C_M', 'C_M', 'C_M', 'C_M', 'C_M', 'C_M', 'C_M', 'C_M', 'F_M', 'F_M', 'F_M', 'F_M', 'G_M', 'G_M', 'G_7', 'G_7', 'C_M7', 'C_M7', 'A_m', 'A_m']\n"
     ]
    },
    {
     "name": "stderr",
     "output_type": "stream",
     "text": [
      "100%|██████████| 792/792 [02:58<00:00,  4.43it/s, batch=790, gpu_temp=55, loss={'chord': tensor(1.3798, device='cuda:0', grad_fn=<NllLossBackward0>), 'velocity': tensor(2.0814, device='cuda:0', grad_fn=<NllLossBackward0>), 'polyphony': tensor(1.3847, device='cuda:0', grad_fn=<NllLossBackward0>), 'density': tensor(2.1085, device='cuda:0', grad_fn=<NllLossBackward0>), 'piano_roll': tensor(1.0399, device='cuda:0', grad_fn=<NllLoss2DBackward0>), 'total': tensor(7.9942, device='cuda:0', grad_fn=<AddBackward0>)}] \n",
      "100%|██████████| 16/16 [00:07<00:00,  2.23it/s]\n"
     ]
    },
    {
     "name": "stdout",
     "output_type": "stream",
     "text": [
      "Generated:  [{'type': 'pitch', 'value': 12}, {'type': 'velocity', 'value': 21}, {'type': 'pitch', 'value': 24}, {'type': 'velocity', 'value': 22}, {'type': 'pitch', 'value': 39}, {'type': 'velocity', 'value': 22}, {'type': 'pitch', 'value': 43}, {'type': 'velocity', 'value': 21}, {'type': 'pitch', 'value': 51}, {'type': 'velocity', 'value': 22}]\n",
      "Chords:  ['F_M7', 'F_M7', 'F_M7', 'F_M7', 'E_m', 'E_m', 'E_m', 'E_m', 'C_M', 'C_M', 'C_M', 'C_M', 'C_M', 'C_M', 'F_M', 'F_M', 'None', 'None', 'None', 'None', 'A_M', 'A_M', 'A_M', 'A_M', 'F_M7', 'F_M7', 'F_M7', 'F_M7', 'C_M', 'C_M', 'F_M7', 'F_M7']\n"
     ]
    },
    {
     "name": "stderr",
     "output_type": "stream",
     "text": [
      "100%|██████████| 792/792 [02:58<00:00,  4.43it/s, batch=790, gpu_temp=61, loss={'chord': tensor(1.8770, device='cuda:0', grad_fn=<NllLossBackward0>), 'velocity': tensor(2.4888, device='cuda:0', grad_fn=<NllLossBackward0>), 'polyphony': tensor(1.1670, device='cuda:0', grad_fn=<NllLossBackward0>), 'density': tensor(3.2528, device='cuda:0', grad_fn=<NllLossBackward0>), 'piano_roll': tensor(1.5577, device='cuda:0', grad_fn=<NllLoss2DBackward0>), 'total': tensor(10.3433, device='cuda:0', grad_fn=<AddBackward0>)}]\n",
      "100%|██████████| 16/16 [00:07<00:00,  2.18it/s]\n"
     ]
    },
    {
     "name": "stdout",
     "output_type": "stream",
     "text": [
      "Generated:  ['next_frame', 'next_frame', 'next_frame', 'next_frame', 'next_frame', 'next_frame', 'next_frame', 'next_frame', 'next_frame', 'next_frame']\n",
      "Chords:  ['A_M', 'A_M', 'A_M', 'A_M', 'C_M7', 'C_M7', 'C_M7', 'C_M7', 'D_m7', 'D_m7', 'D_m7', 'D_m7', 'F_M', 'F_M', 'F_M7', 'F_M7', 'A_m', 'A_m', 'A_m', 'A_m', 'A_m', 'A_m', 'G_M', 'G_M', 'D_m', 'F_M', 'F_M7', 'F_M7', 'D_m7', 'D_m7', 'C_M7', 'C_M7']\n"
     ]
    },
    {
     "name": "stderr",
     "output_type": "stream",
     "text": [
      "100%|██████████| 792/792 [02:57<00:00,  4.47it/s, batch=790, gpu_temp=61, loss={'chord': tensor(1.7922, device='cuda:0', grad_fn=<NllLossBackward0>), 'velocity': tensor(1.7978, device='cuda:0', grad_fn=<NllLossBackward0>), 'polyphony': tensor(1.3532, device='cuda:0', grad_fn=<NllLossBackward0>), 'density': tensor(1.7712, device='cuda:0', grad_fn=<NllLossBackward0>), 'piano_roll': tensor(0.9886, device='cuda:0', grad_fn=<NllLoss2DBackward0>), 'total': tensor(7.7030, device='cuda:0', grad_fn=<AddBackward0>)}]\n",
      "100%|██████████| 16/16 [00:08<00:00,  1.99it/s]\n"
     ]
    },
    {
     "name": "stdout",
     "output_type": "stream",
     "text": [
      "Generated:  ['next_frame', 'next_frame', 'next_frame', 'next_frame', 'next_frame', 'next_frame', 'next_frame', 'next_frame', 'next_frame', 'next_frame']\n",
      "Chords:  ['None', 'None', 'None', 'None', 'F_M7', 'F_M7', 'G_7', 'G_7', 'F_M', 'F_M', 'F_M7', 'F_M7', 'A_m', 'A_m', 'A_m', 'A_m', 'G_M', 'G_M', 'G_M', 'G_M', 'F_M', 'F_M', 'E_m7', 'E_m7', 'E_m', 'E_m', 'C_M7', 'C_M7', 'F_M', 'F_M', 'F_M', 'F_M']\n"
     ]
    },
    {
     "name": "stderr",
     "output_type": "stream",
     "text": [
      "100%|██████████| 792/792 [02:56<00:00,  4.49it/s, batch=790, gpu_temp=62, loss={'chord': tensor(1.8290, device='cuda:0', grad_fn=<NllLossBackward0>), 'velocity': tensor(1.8349, device='cuda:0', grad_fn=<NllLossBackward0>), 'polyphony': tensor(1.3622, device='cuda:0', grad_fn=<NllLossBackward0>), 'density': tensor(1.7223, device='cuda:0', grad_fn=<NllLossBackward0>), 'piano_roll': tensor(1.0961, device='cuda:0', grad_fn=<NllLoss2DBackward0>), 'total': tensor(7.8445, device='cuda:0', grad_fn=<AddBackward0>)}] \n",
      "100%|██████████| 16/16 [00:08<00:00,  1.95it/s]\n"
     ]
    },
    {
     "name": "stdout",
     "output_type": "stream",
     "text": [
      "Generated:  [{'type': 'pitch', 'value': 39}, {'type': 'velocity', 'value': 14}, {'type': 'pitch', 'value': 46}, {'type': 'velocity', 'value': 15}, {'type': 'pitch', 'value': 51}, {'type': 'velocity', 'value': 19}, {'type': 'pitch', 'value': 55}, {'type': 'velocity', 'value': 20}, 'next_frame', 'next_frame']\n",
      "Chords:  ['F_M', 'F_M', 'F_M', 'F_M', 'None', 'None', 'None', 'None', 'F_M7', 'F_M7', 'C_M', 'C_M', 'C_sus2', 'C_sus2', 'G_7', 'G_7', 'A_m', 'A_m', 'E_m', 'E_m', 'C_M', 'C_M', 'A_m', 'A_m', 'D_m', 'D_m', 'C_M', 'C_M', 'F_M7', 'F_M7', 'F_M7', 'F_M7']\n"
     ]
    },
    {
     "name": "stderr",
     "output_type": "stream",
     "text": [
      "100%|██████████| 792/792 [02:55<00:00,  4.52it/s, batch=790, gpu_temp=61, loss={'chord': tensor(1.7048, device='cuda:0', grad_fn=<NllLossBackward0>), 'velocity': tensor(2.4232, device='cuda:0', grad_fn=<NllLossBackward0>), 'polyphony': tensor(1.3379, device='cuda:0', grad_fn=<NllLossBackward0>), 'density': tensor(2.3795, device='cuda:0', grad_fn=<NllLossBackward0>), 'piano_roll': tensor(1.3059, device='cuda:0', grad_fn=<NllLoss2DBackward0>), 'total': tensor(9.1512, device='cuda:0', grad_fn=<AddBackward0>)}]\n",
      "100%|██████████| 16/16 [00:07<00:00,  2.03it/s]\n"
     ]
    },
    {
     "name": "stdout",
     "output_type": "stream",
     "text": [
      "Generated:  ['next_frame', 'next_frame', 'next_frame', 'next_frame', 'next_frame', 'next_frame', 'next_frame', 'next_frame', 'next_frame', 'next_frame']\n",
      "Chords:  ['E_m', 'E_m', 'C_M', 'C_M', 'C_M', 'C_M', 'C_M', 'C_M', 'C_M', 'C_M', 'C_M', 'C_M', 'C_M', 'C_M', 'C_M', 'C_M', 'D_m7', 'D_m7', 'E_m7', 'E_m7', 'F_M', 'F_M', 'F_M', 'F_M', 'F_M7', 'F_M7', 'E_m7', 'E_m7', 'A_m', 'A_m', 'A_m', 'A_m']\n"
     ]
    },
    {
     "name": "stderr",
     "output_type": "stream",
     "text": [
      "100%|██████████| 792/792 [02:56<00:00,  4.49it/s, batch=790, gpu_temp=61, loss={'chord': tensor(1.4443, device='cuda:0', grad_fn=<NllLossBackward0>), 'velocity': tensor(2.2797, device='cuda:0', grad_fn=<NllLossBackward0>), 'polyphony': tensor(1.3531, device='cuda:0', grad_fn=<NllLossBackward0>), 'density': tensor(1.6189, device='cuda:0', grad_fn=<NllLossBackward0>), 'piano_roll': tensor(1.0597, device='cuda:0', grad_fn=<NllLoss2DBackward0>), 'total': tensor(7.7557, device='cuda:0', grad_fn=<AddBackward0>)}]\n",
      "100%|██████████| 16/16 [00:07<00:00,  2.13it/s]\n"
     ]
    },
    {
     "name": "stdout",
     "output_type": "stream",
     "text": [
      "Generated:  ['next_frame', 'next_frame', 'next_frame', 'next_frame', 'next_frame', 'next_frame', 'next_frame', 'next_frame', 'next_frame', 'next_frame']\n",
      "Chords:  ['A_m7', 'A_m7', 'A_m7', 'A_m7', 'F_M7', 'F_M7', 'F_M', 'F_M', 'F_M7', 'F_M7', 'F_M7', 'F_M7', 'A_sus2', 'A_sus2', 'A_sus2', 'A_sus2', 'F_M', 'F_M', 'G_M', 'G_M', 'A_m7', 'A_m7', 'A_m', 'A_m', 'None', 'None', 'None', 'None', 'C_M', 'C_M', 'C_M', 'C_M']\n"
     ]
    },
    {
     "name": "stderr",
     "output_type": "stream",
     "text": [
      "100%|██████████| 792/792 [02:55<00:00,  4.51it/s, batch=790, gpu_temp=60, loss={'chord': tensor(1.6640, device='cuda:0', grad_fn=<NllLossBackward0>), 'velocity': tensor(2.0265, device='cuda:0', grad_fn=<NllLossBackward0>), 'polyphony': tensor(1.4320, device='cuda:0', grad_fn=<NllLossBackward0>), 'density': tensor(1.9376, device='cuda:0', grad_fn=<NllLossBackward0>), 'piano_roll': tensor(0.9262, device='cuda:0', grad_fn=<NllLoss2DBackward0>), 'total': tensor(7.9863, device='cuda:0', grad_fn=<AddBackward0>)}]\n",
      "100%|██████████| 16/16 [00:07<00:00,  2.07it/s]\n"
     ]
    },
    {
     "name": "stdout",
     "output_type": "stream",
     "text": [
      "Generated:  [{'type': 'pitch', 'value': 27}, {'type': 'velocity', 'value': 17}, {'type': 'pitch', 'value': 34}, {'type': 'velocity', 'value': 17}, {'type': 'pitch', 'value': 39}, {'type': 'velocity', 'value': 18}, {'type': 'pitch', 'value': 43}, {'type': 'velocity', 'value': 18}, 'next_frame', 'next_frame']\n",
      "Chords:  ['A_M', 'A_M', 'A_M', 'A_M', 'A_m7', 'A_m7', 'A_m7', 'A_m7', 'None', 'None', 'None', 'None', 'C_sus2', 'C_sus2', 'C_M', 'C_M', 'F_m', 'F_m', 'F_m', 'F_m', 'F_M7', 'F_M7', 'F_M7', 'F_M7', 'E_M', 'E_M', 'A_M7', 'A_M7', 'A_m7', 'A_m7', 'F_M7', 'F_M7']\n"
     ]
    },
    {
     "name": "stderr",
     "output_type": "stream",
     "text": [
      "100%|██████████| 792/792 [02:56<00:00,  4.50it/s, batch=790, gpu_temp=61, loss={'chord': tensor(1.6608, device='cuda:0', grad_fn=<NllLossBackward0>), 'velocity': tensor(2.0369, device='cuda:0', grad_fn=<NllLossBackward0>), 'polyphony': tensor(1.3247, device='cuda:0', grad_fn=<NllLossBackward0>), 'density': tensor(1.8314, device='cuda:0', grad_fn=<NllLossBackward0>), 'piano_roll': tensor(0.9808, device='cuda:0', grad_fn=<NllLoss2DBackward0>), 'total': tensor(7.8347, device='cuda:0', grad_fn=<AddBackward0>)}] \n",
      "100%|██████████| 16/16 [00:07<00:00,  2.12it/s]\n"
     ]
    },
    {
     "name": "stdout",
     "output_type": "stream",
     "text": [
      "Generated:  ['next_frame', 'next_frame', 'next_frame', 'next_frame', 'next_frame', 'next_frame', 'next_frame', 'next_frame', 'next_frame', 'next_frame']\n",
      "Chords:  ['A_M', 'A_M', 'A_m', 'A_m', 'A_m', 'A_m', 'D_m7', 'D_m7', 'C_M', 'C_M', 'C_M', 'C_M', 'F_M', 'F_M', 'C_M', 'C_M', 'A_m', 'A_m', 'A_m', 'A_m', 'F_M7', 'F_M7', 'F_M7', 'F_M7', 'C_M', 'C_M', 'G_M', 'G_M', 'F_M', 'F_M', 'F_M7', 'F_M7']\n"
     ]
    },
    {
     "name": "stderr",
     "output_type": "stream",
     "text": [
      "100%|██████████| 792/792 [02:54<00:00,  4.54it/s, batch=790, gpu_temp=62, loss={'chord': tensor(1.8598, device='cuda:0', grad_fn=<NllLossBackward0>), 'velocity': tensor(2.3481, device='cuda:0', grad_fn=<NllLossBackward0>), 'polyphony': tensor(1.3294, device='cuda:0', grad_fn=<NllLossBackward0>), 'density': tensor(1.6171, device='cuda:0', grad_fn=<NllLossBackward0>), 'piano_roll': tensor(1.1763, device='cuda:0', grad_fn=<NllLoss2DBackward0>), 'total': tensor(8.3306, device='cuda:0', grad_fn=<AddBackward0>)}]\n",
      "100%|██████████| 16/16 [00:07<00:00,  2.13it/s]\n"
     ]
    },
    {
     "name": "stdout",
     "output_type": "stream",
     "text": [
      "Generated:  [{'type': 'pitch', 'value': 24}, {'type': 'velocity', 'value': 21}, {'type': 'pitch', 'value': 36}, {'type': 'velocity', 'value': 21}, {'type': 'pitch', 'value': 51}, {'type': 'velocity', 'value': 22}, {'type': 'pitch', 'value': 55}, {'type': 'velocity', 'value': 21}, {'type': 'pitch', 'value': 60}, {'type': 'velocity', 'value': 22}]\n",
      "Chords:  ['A_m7', 'A_m7', 'C_M', 'C_M', 'F_M7', 'F_M7', 'F_M7', 'F_M7', 'G_m7', 'G_m7', 'D_m', 'D_m', 'A_m', 'A_m', 'A_m', 'A_m', 'F_M7', 'F_M7', 'C_+', 'C_+', 'A_M', 'A_M', 'A_M', 'A_M', 'A_m7', 'A_m7', 'F_M', 'F_M', 'C_M7', 'C_M7', 'C_M7', 'C_M7']\n"
     ]
    },
    {
     "name": "stderr",
     "output_type": "stream",
     "text": [
      "100%|██████████| 792/792 [02:56<00:00,  4.48it/s, batch=790, gpu_temp=61, loss={'chord': tensor(1.8904, device='cuda:0', grad_fn=<NllLossBackward0>), 'velocity': tensor(1.9782, device='cuda:0', grad_fn=<NllLossBackward0>), 'polyphony': tensor(1.2948, device='cuda:0', grad_fn=<NllLossBackward0>), 'density': tensor(1.7348, device='cuda:0', grad_fn=<NllLossBackward0>), 'piano_roll': tensor(1.2865, device='cuda:0', grad_fn=<NllLoss2DBackward0>), 'total': tensor(8.1847, device='cuda:0', grad_fn=<AddBackward0>)}]\n",
      "100%|██████████| 16/16 [00:07<00:00,  2.14it/s]\n"
     ]
    },
    {
     "name": "stdout",
     "output_type": "stream",
     "text": [
      "Generated:  [{'type': 'pitch', 'value': 39}, {'type': 'velocity', 'value': 8}, {'type': 'pitch', 'value': 43}, {'type': 'velocity', 'value': 10}, {'type': 'pitch', 'value': 46}, {'type': 'velocity', 'value': 11}, {'type': 'pitch', 'value': 55}, {'type': 'velocity', 'value': 18}, 'next_frame', 'next_frame']\n",
      "Chords:  ['A_m', 'A_m', 'C_M', 'C_M', 'E_m7', 'E_m7', 'E_m7', 'E_m7', 'A_m7', 'A_m7', 'F_M', 'F_M', 'F_M7', 'F_M7', 'F_M7', 'F_M7', 'G_m7', 'F_M7', 'F_M', 'F_M', 'G_7', 'G_7', 'G_M', 'G_M', 'F_M', 'F_M', 'G_7', 'G_7', 'C_M7', 'C_M7', 'C_M7', 'C_M7']\n"
     ]
    },
    {
     "name": "stderr",
     "output_type": "stream",
     "text": [
      "100%|██████████| 792/792 [02:58<00:00,  4.43it/s, batch=790, gpu_temp=61, loss={'chord': tensor(1.3252, device='cuda:0', grad_fn=<NllLossBackward0>), 'velocity': tensor(2.1676, device='cuda:0', grad_fn=<NllLossBackward0>), 'polyphony': tensor(1.5309, device='cuda:0', grad_fn=<NllLossBackward0>), 'density': tensor(1.7440, device='cuda:0', grad_fn=<NllLossBackward0>), 'piano_roll': tensor(1.1194, device='cuda:0', grad_fn=<NllLoss2DBackward0>), 'total': tensor(7.8871, device='cuda:0', grad_fn=<AddBackward0>)}]\n",
      "100%|██████████| 16/16 [00:08<00:00,  1.89it/s]\n"
     ]
    },
    {
     "name": "stdout",
     "output_type": "stream",
     "text": [
      "Generated:  ['next_frame', 'next_frame', 'next_frame', 'next_frame', 'next_frame', 'next_frame', 'next_frame', 'next_frame', 'next_frame', 'next_frame']\n",
      "Chords:  ['A_m', 'A_m', 'A_m', 'A_m', 'A_m', 'A_m', 'A_m', 'A_m', 'C_M', 'C_M', 'C_M', 'C_M', 'D_M', 'D_M', 'D_M', 'D_M', 'G_m7', 'G_m7', 'F_M7', 'F_M7', 'F_M7', 'F_M7', 'F_M7', 'F_M7', 'A_M', 'A_M', 'A_M', 'A_M', 'C_M7', 'C_M7', 'G_M', 'G_M']\n"
     ]
    },
    {
     "name": "stderr",
     "output_type": "stream",
     "text": [
      "100%|██████████| 792/792 [02:56<00:00,  4.49it/s, batch=790, gpu_temp=55, loss={'chord': tensor(1.8479, device='cuda:0', grad_fn=<NllLossBackward0>), 'velocity': tensor(2.2322, device='cuda:0', grad_fn=<NllLossBackward0>), 'polyphony': tensor(1.5495, device='cuda:0', grad_fn=<NllLossBackward0>), 'density': tensor(1.6226, device='cuda:0', grad_fn=<NllLossBackward0>), 'piano_roll': tensor(1.0467, device='cuda:0', grad_fn=<NllLoss2DBackward0>), 'total': tensor(8.2989, device='cuda:0', grad_fn=<AddBackward0>)}]\n",
      "100%|██████████| 16/16 [00:07<00:00,  2.03it/s]\n"
     ]
    },
    {
     "name": "stdout",
     "output_type": "stream",
     "text": [
      "Generated:  [{'type': 'pitch', 'value': 12}, {'type': 'velocity', 'value': 17}, {'type': 'pitch', 'value': 24}, {'type': 'velocity', 'value': 19}, {'type': 'pitch', 'value': 36}, {'type': 'velocity', 'value': 19}, {'type': 'pitch', 'value': 39}, {'type': 'velocity', 'value': 18}, {'type': 'pitch', 'value': 43}, {'type': 'velocity', 'value': 19}]\n",
      "Chords:  ['None', 'None', 'G_M', 'G_M', 'C_M', 'C_M', 'C_M', 'C_M', 'E_m7', 'E_m7', 'E_m7', 'E_m7', 'None', 'None', 'None', 'None', 'A_m7', 'A_m7', 'A_m7', 'A_m7', 'A_m', 'A_m', 'A_m', 'A_m', 'B_o', 'F_M', 'F_M', 'F_M', 'E_M', 'E_M', 'E_M', 'E_M']\n"
     ]
    },
    {
     "name": "stderr",
     "output_type": "stream",
     "text": [
      "100%|██████████| 792/792 [02:55<00:00,  4.52it/s, batch=790, gpu_temp=61, loss={'chord': tensor(1.5773, device='cuda:0', grad_fn=<NllLossBackward0>), 'velocity': tensor(1.9918, device='cuda:0', grad_fn=<NllLossBackward0>), 'polyphony': tensor(1.5207, device='cuda:0', grad_fn=<NllLossBackward0>), 'density': tensor(1.7907, device='cuda:0', grad_fn=<NllLossBackward0>), 'piano_roll': tensor(0.9710, device='cuda:0', grad_fn=<NllLoss2DBackward0>), 'total': tensor(7.8515, device='cuda:0', grad_fn=<AddBackward0>)}] \n",
      "100%|██████████| 16/16 [00:07<00:00,  2.02it/s]\n"
     ]
    },
    {
     "name": "stdout",
     "output_type": "stream",
     "text": [
      "Generated:  ['next_frame', 'next_frame', 'next_frame', 'next_frame', 'next_frame', 'next_frame', 'next_frame', 'next_frame', 'next_frame', 'next_frame']\n",
      "Chords:  ['A_m', 'A_m', 'A_m', 'A_m', 'D_m7', 'D_m7', 'G_M', 'G_M', 'G_M', 'G_M', 'E_m7', 'E_m7', 'F_M7', 'F_M7', 'G_7', 'G_7', 'F_M7', 'F_M7', 'F_M7', 'F_M7', 'G_m7', 'G_m7', 'G_m7', 'G_m7', 'G_M', 'G_M', 'G_M', 'G_M', 'F_M', 'F_M', 'G_M', 'G_M']\n"
     ]
    },
    {
     "name": "stderr",
     "output_type": "stream",
     "text": [
      "100%|██████████| 792/792 [02:57<00:00,  4.47it/s, batch=790, gpu_temp=55, loss={'chord': tensor(1.7173, device='cuda:0', grad_fn=<NllLossBackward0>), 'velocity': tensor(1.8554, device='cuda:0', grad_fn=<NllLossBackward0>), 'polyphony': tensor(1.6231, device='cuda:0', grad_fn=<NllLossBackward0>), 'density': tensor(1.5254, device='cuda:0', grad_fn=<NllLossBackward0>), 'piano_roll': tensor(1.0480, device='cuda:0', grad_fn=<NllLoss2DBackward0>), 'total': tensor(7.7692, device='cuda:0', grad_fn=<AddBackward0>)}]\n",
      "100%|██████████| 16/16 [00:07<00:00,  2.22it/s]\n"
     ]
    },
    {
     "name": "stdout",
     "output_type": "stream",
     "text": [
      "Generated:  [{'type': 'pitch', 'value': 24}, {'type': 'velocity', 'value': 17}, {'type': 'pitch', 'value': 31}, {'type': 'velocity', 'value': 18}, {'type': 'pitch', 'value': 36}, {'type': 'velocity', 'value': 18}, 'next_frame', 'next_frame', 'next_frame', 'next_frame']\n",
      "Chords:  ['None', 'None', 'None', 'None', 'G_M', 'G_M', 'G_M', 'G_M', 'F_sus2', 'F_sus2', 'F_M', 'F_M', 'A_M', 'A_M', 'A_M', 'A_M', 'F_M', 'F_M', 'F_M', 'F_M', 'D_m', 'D_m7', 'B_o', 'B_o', 'F_M', 'F_M', 'G_7', 'G_7', 'C_M', 'C_M', 'C_M', 'C_M']\n"
     ]
    },
    {
     "name": "stderr",
     "output_type": "stream",
     "text": [
      "100%|██████████| 792/792 [02:55<00:00,  4.52it/s, batch=790, gpu_temp=61, loss={'chord': tensor(1.6653, device='cuda:0', grad_fn=<NllLossBackward0>), 'velocity': tensor(2.1751, device='cuda:0', grad_fn=<NllLossBackward0>), 'polyphony': tensor(1.3150, device='cuda:0', grad_fn=<NllLossBackward0>), 'density': tensor(1.8591, device='cuda:0', grad_fn=<NllLossBackward0>), 'piano_roll': tensor(1.2213, device='cuda:0', grad_fn=<NllLoss2DBackward0>), 'total': tensor(8.2358, device='cuda:0', grad_fn=<AddBackward0>)}]\n",
      "100%|██████████| 16/16 [00:07<00:00,  2.25it/s]\n"
     ]
    },
    {
     "name": "stdout",
     "output_type": "stream",
     "text": [
      "Generated:  [{'type': 'pitch', 'value': 34}, {'type': 'velocity', 'value': 10}, {'type': 'pitch', 'value': 39}, {'type': 'velocity', 'value': 9}, {'type': 'pitch', 'value': 43}, {'type': 'velocity', 'value': 9}, {'type': 'pitch', 'value': 46}, {'type': 'velocity', 'value': 11}, 'next_frame', 'next_frame']\n",
      "Chords:  ['None', 'None', 'None', 'None', 'G_7', 'G_7', 'C_M7', 'C_M7', 'F_M7', 'F_M7', 'C_M', 'C_M', 'C_M7', 'C_M7', 'C_M7', 'C_M7', 'C_M7', 'C_M7', 'E_m7', 'E_m7', 'A_m', 'A_m', 'A_m', 'A_m', 'F_M7', 'F_M7', 'F_M7', 'F_M7', 'None', 'None', 'None', 'None']\n"
     ]
    },
    {
     "name": "stderr",
     "output_type": "stream",
     "text": [
      "100%|██████████| 792/792 [02:58<00:00,  4.44it/s, batch=790, gpu_temp=61, loss={'chord': tensor(1.4083, device='cuda:0', grad_fn=<NllLossBackward0>), 'velocity': tensor(2.1269, device='cuda:0', grad_fn=<NllLossBackward0>), 'polyphony': tensor(1.3829, device='cuda:0', grad_fn=<NllLossBackward0>), 'density': tensor(1.8320, device='cuda:0', grad_fn=<NllLossBackward0>), 'piano_roll': tensor(1.1803, device='cuda:0', grad_fn=<NllLoss2DBackward0>), 'total': tensor(7.9304, device='cuda:0', grad_fn=<AddBackward0>)}]\n",
      "100%|██████████| 16/16 [00:07<00:00,  2.10it/s]\n"
     ]
    },
    {
     "name": "stdout",
     "output_type": "stream",
     "text": [
      "Generated:  ['next_frame', 'next_frame', 'next_frame', 'next_frame', 'next_frame', 'next_frame', 'next_frame', 'next_frame', 'next_frame', 'next_frame']\n",
      "Chords:  ['None', 'None', 'None', 'None', 'C_M', 'C_M', 'C_M7', 'C_M7', 'F_M', 'F_M', 'F_M', 'F_M', 'C_M', 'C_M', 'C_M', 'C_M', 'C_M', 'C_M', 'C_M', 'C_M', 'C_M', 'C_M', 'C_M', 'C_M', 'C_M', 'C_M', 'C_M', 'C_M', 'D_m7', 'D_m7', 'D_m7', 'D_m7']\n"
     ]
    },
    {
     "name": "stderr",
     "output_type": "stream",
     "text": [
      "100%|██████████| 792/792 [02:57<00:00,  4.46it/s, batch=790, gpu_temp=61, loss={'chord': tensor(1.8769, device='cuda:0', grad_fn=<NllLossBackward0>), 'velocity': tensor(1.7590, device='cuda:0', grad_fn=<NllLossBackward0>), 'polyphony': tensor(1.2416, device='cuda:0', grad_fn=<NllLossBackward0>), 'density': tensor(1.8556, device='cuda:0', grad_fn=<NllLossBackward0>), 'piano_roll': tensor(1.0673, device='cuda:0', grad_fn=<NllLoss2DBackward0>), 'total': tensor(7.8003, device='cuda:0', grad_fn=<AddBackward0>)}] \n",
      "100%|██████████| 16/16 [00:07<00:00,  2.15it/s]\n"
     ]
    },
    {
     "name": "stdout",
     "output_type": "stream",
     "text": [
      "Generated:  ['next_frame', 'next_frame', 'next_frame', 'next_frame', 'next_frame', 'next_frame', 'next_frame', 'next_frame', 'next_frame', 'next_frame']\n",
      "Chords:  ['G_M', 'G_M', 'G_M7', 'G_M7', 'F_M7', 'F_M7', 'F_M7', 'F_M7', 'G_m7', 'G_m7', 'D_m7', 'D_m7', 'C_M', 'C_M', 'C_M7', 'C_M7', 'C_M', 'C_M', 'G_M', 'G_M', 'D_o', 'D_o', 'D_o', 'D_o', 'E_M7', 'E_M7', 'A_M7', 'A_M7', 'F_M', 'F_M', 'F_M', 'F_M']\n"
     ]
    },
    {
     "name": "stderr",
     "output_type": "stream",
     "text": [
      "100%|██████████| 792/792 [02:58<00:00,  4.44it/s, batch=790, gpu_temp=55, loss={'chord': tensor(1.6944, device='cuda:0', grad_fn=<NllLossBackward0>), 'velocity': tensor(2.0745, device='cuda:0', grad_fn=<NllLossBackward0>), 'polyphony': tensor(1.2920, device='cuda:0', grad_fn=<NllLossBackward0>), 'density': tensor(1.4343, device='cuda:0', grad_fn=<NllLossBackward0>), 'piano_roll': tensor(1.1179, device='cuda:0', grad_fn=<NllLoss2DBackward0>), 'total': tensor(7.6132, device='cuda:0', grad_fn=<AddBackward0>)}] \n",
      "100%|██████████| 16/16 [00:07<00:00,  2.15it/s]\n"
     ]
    },
    {
     "name": "stdout",
     "output_type": "stream",
     "text": [
      "Generated:  ['next_frame', 'next_frame', 'next_frame', 'next_frame', 'next_frame', 'next_frame', 'next_frame', 'next_frame', 'next_frame', 'next_frame']\n",
      "Chords:  ['None', 'None', 'None', 'None', 'A_m', 'A_m', 'A_m', 'A_m', 'A_m', 'A_m', 'F_M7', 'F_M7', 'E_m', 'E_m', 'E_m', 'E_m', 'G_M', 'G_M', 'G_M', 'G_M', 'E_m', 'E_m', 'E_m', 'E_m', 'F_M7', 'F_M7', 'F_M7', 'F_M7', 'E_m7', 'E_m7', 'E_o', 'E_o']\n"
     ]
    },
    {
     "name": "stderr",
     "output_type": "stream",
     "text": [
      "100%|██████████| 792/792 [02:58<00:00,  4.43it/s, batch=790, gpu_temp=55, loss={'chord': tensor(1.6963, device='cuda:0', grad_fn=<NllLossBackward0>), 'velocity': tensor(2.4309, device='cuda:0', grad_fn=<NllLossBackward0>), 'polyphony': tensor(1.2772, device='cuda:0', grad_fn=<NllLossBackward0>), 'density': tensor(1.7791, device='cuda:0', grad_fn=<NllLossBackward0>), 'piano_roll': tensor(1.2159, device='cuda:0', grad_fn=<NllLoss2DBackward0>), 'total': tensor(8.3994, device='cuda:0', grad_fn=<AddBackward0>)}]\n",
      "100%|██████████| 16/16 [00:07<00:00,  2.09it/s]\n"
     ]
    },
    {
     "name": "stdout",
     "output_type": "stream",
     "text": [
      "Generated:  ['next_frame', 'next_frame', 'next_frame', 'next_frame', 'next_frame', 'next_frame', 'next_frame', 'next_frame', 'next_frame', 'next_frame']\n",
      "Chords:  ['None', 'None', 'None', 'None', 'C_M', 'C_M', 'D_m7', 'D_m7', 'A_sus4', 'A_sus4', 'A_m', 'A_m', 'A_m7', 'A_m7', 'D_m7', 'D_m7', 'C_M', 'C_M', 'D_m7', 'D_m7', 'A_m', 'A_m', 'A_m', 'A_m', 'A_m7', 'A_m7', 'A_m', 'A_m', 'C_M', 'C_M', 'C_M', 'C_M']\n"
     ]
    },
    {
     "name": "stderr",
     "output_type": "stream",
     "text": [
      "100%|██████████| 792/792 [02:58<00:00,  4.44it/s, batch=790, gpu_temp=61, loss={'chord': tensor(1.8022, device='cuda:0', grad_fn=<NllLossBackward0>), 'velocity': tensor(1.9891, device='cuda:0', grad_fn=<NllLossBackward0>), 'polyphony': tensor(1.4475, device='cuda:0', grad_fn=<NllLossBackward0>), 'density': tensor(1.9175, device='cuda:0', grad_fn=<NllLossBackward0>), 'piano_roll': tensor(1.0620, device='cuda:0', grad_fn=<NllLoss2DBackward0>), 'total': tensor(8.2184, device='cuda:0', grad_fn=<AddBackward0>)}]\n",
      "100%|██████████| 16/16 [00:07<00:00,  2.07it/s]\n"
     ]
    },
    {
     "name": "stdout",
     "output_type": "stream",
     "text": [
      "Generated:  ['next_frame', 'next_frame', 'next_frame', 'next_frame', 'next_frame', 'next_frame', 'next_frame', 'next_frame', 'next_frame', 'next_frame']\n",
      "Chords:  ['C_M', 'C_M', 'C_M', 'C_M', 'A_m7', 'A_m7', 'F_M7', 'F_M7', 'D_m', 'D_m', 'D_M', 'D_M', 'A_m', 'A_m', 'A_M', 'A_M', 'C_M7', 'C_M7', 'E_m7', 'E_m7', 'A_sus2', 'A_sus2', 'A_sus2', 'A_sus2', 'E_m7', 'E_m7', 'A_m', 'A_m', 'F_M7', 'F_M7', 'F_M7', 'F_M7']\n"
     ]
    },
    {
     "name": "stderr",
     "output_type": "stream",
     "text": [
      "100%|██████████| 792/792 [02:58<00:00,  4.44it/s, batch=790, gpu_temp=60, loss={'chord': tensor(1.6517, device='cuda:0', grad_fn=<NllLossBackward0>), 'velocity': tensor(2.0468, device='cuda:0', grad_fn=<NllLossBackward0>), 'polyphony': tensor(1.3291, device='cuda:0', grad_fn=<NllLossBackward0>), 'density': tensor(2.0515, device='cuda:0', grad_fn=<NllLossBackward0>), 'piano_roll': tensor(1.0855, device='cuda:0', grad_fn=<NllLoss2DBackward0>), 'total': tensor(8.1645, device='cuda:0', grad_fn=<AddBackward0>)}]\n",
      "100%|██████████| 16/16 [00:08<00:00,  1.98it/s]\n"
     ]
    },
    {
     "name": "stdout",
     "output_type": "stream",
     "text": [
      "Generated:  ['next_frame', 'next_frame', 'next_frame', 'next_frame', 'next_frame', 'next_frame', 'next_frame', 'next_frame', 'next_frame', 'next_frame']\n",
      "Chords:  ['None', 'None', 'E_M', 'E_M', 'C_M', 'C_M', 'C_M', 'C_M', 'C_M', 'C_M', 'C_M', 'C_M', 'F_M7', 'F_M7', 'B_o', 'B_o', 'C_M7', 'C_M7', 'C_M7', 'C_M7', 'C_M7', 'C_M7', 'C_M7', 'C_M7', 'G_m7', 'G_m7', 'D#_M7', 'D#_M7', 'G_M', 'G_M', 'E_m7', 'G_M']\n"
     ]
    },
    {
     "name": "stderr",
     "output_type": "stream",
     "text": [
      "100%|██████████| 792/792 [02:58<00:00,  4.45it/s, batch=790, gpu_temp=61, loss={'chord': tensor(1.9427, device='cuda:0', grad_fn=<NllLossBackward0>), 'velocity': tensor(2.1592, device='cuda:0', grad_fn=<NllLossBackward0>), 'polyphony': tensor(1.2437, device='cuda:0', grad_fn=<NllLossBackward0>), 'density': tensor(1.9069, device='cuda:0', grad_fn=<NllLossBackward0>), 'piano_roll': tensor(1.2384, device='cuda:0', grad_fn=<NllLoss2DBackward0>), 'total': tensor(8.4908, device='cuda:0', grad_fn=<AddBackward0>)}]\n",
      "100%|██████████| 16/16 [00:07<00:00,  2.13it/s]\n"
     ]
    },
    {
     "name": "stdout",
     "output_type": "stream",
     "text": [
      "Generated:  [{'type': 'pitch', 'value': 24}, {'type': 'velocity', 'value': 16}, {'type': 'pitch', 'value': 43}, {'type': 'velocity', 'value': 18}, {'type': 'pitch', 'value': 51}, {'type': 'velocity', 'value': 19}, 'next_frame', 'next_frame', 'next_frame', 'next_frame']\n",
      "Chords:  ['F_M', 'F_M', 'F_M', 'F_M', 'E_m', 'E_m', 'E_m', 'E_m', 'C_M', 'C_M', 'C_M', 'C_M', 'A_m', 'A_m', 'None', 'None', 'E_m', 'E_m', 'E_m7', 'E_m7', 'E_o', 'E_o', 'A_m', 'E_o', 'C_M7', 'C_M7', 'C_M7', 'C_M7', 'A_m', 'A_m', 'E_m', 'E_m']\n"
     ]
    },
    {
     "name": "stderr",
     "output_type": "stream",
     "text": [
      "100%|██████████| 792/792 [02:57<00:00,  4.46it/s, batch=790, gpu_temp=61, loss={'chord': tensor(1.5336, device='cuda:0', grad_fn=<NllLossBackward0>), 'velocity': tensor(2.0753, device='cuda:0', grad_fn=<NllLossBackward0>), 'polyphony': tensor(1.4080, device='cuda:0', grad_fn=<NllLossBackward0>), 'density': tensor(1.7081, device='cuda:0', grad_fn=<NllLossBackward0>), 'piano_roll': tensor(1.0035, device='cuda:0', grad_fn=<NllLoss2DBackward0>), 'total': tensor(7.7285, device='cuda:0', grad_fn=<AddBackward0>)}]\n",
      "100%|██████████| 16/16 [00:07<00:00,  2.08it/s]\n"
     ]
    },
    {
     "name": "stdout",
     "output_type": "stream",
     "text": [
      "Generated:  [{'type': 'pitch', 'value': 24}, {'type': 'velocity', 'value': 17}, {'type': 'pitch', 'value': 36}, {'type': 'velocity', 'value': 17}, {'type': 'pitch', 'value': 48}, {'type': 'velocity', 'value': 18}, {'type': 'pitch', 'value': 51}, {'type': 'velocity', 'value': 20}, 'next_frame', 'next_frame']\n",
      "Chords:  ['None', 'None', 'None', 'None', 'B_o', 'B_o', 'D_m7', 'D_m7', 'D_m', 'D_m', 'D_m', 'D_m', 'A_m7', 'A_m7', 'G_M', 'G_M', 'B_o', 'B_o', 'F_M7', 'F_M7', 'C_M7', 'C_M7', 'C_M7', 'C_M7', 'A_M', 'A_M', 'A_m7', 'A_m7', 'A_sus4', 'A_m7', 'E_m7', 'E_m7']\n"
     ]
    },
    {
     "name": "stderr",
     "output_type": "stream",
     "text": [
      "100%|██████████| 792/792 [02:56<00:00,  4.50it/s, batch=790, gpu_temp=61, loss={'chord': tensor(1.6998, device='cuda:0', grad_fn=<NllLossBackward0>), 'velocity': tensor(2.1731, device='cuda:0', grad_fn=<NllLossBackward0>), 'polyphony': tensor(1.4249, device='cuda:0', grad_fn=<NllLossBackward0>), 'density': tensor(1.7963, device='cuda:0', grad_fn=<NllLossBackward0>), 'piano_roll': tensor(1.2679, device='cuda:0', grad_fn=<NllLoss2DBackward0>), 'total': tensor(8.3621, device='cuda:0', grad_fn=<AddBackward0>)}]\n",
      "100%|██████████| 16/16 [00:08<00:00,  1.93it/s]\n"
     ]
    },
    {
     "name": "stdout",
     "output_type": "stream",
     "text": [
      "Generated:  ['next_frame', 'next_frame', 'next_frame', 'next_frame', 'next_frame', 'next_frame', 'next_frame', 'next_frame', 'next_frame', 'next_frame']\n",
      "Chords:  ['F_M', 'F_M', 'G_7', 'G_7', 'F_M', 'F_M', 'F_M', 'F_M7', 'C_M', 'C_M', 'C_M', 'C_M', 'A_m', 'A_m', 'A_m', 'A_m', 'C_M7', 'C_M7', 'F_M7', 'F_M7', 'A_sus4', 'A_sus4', 'A_m', 'A_m', 'A_m7', 'A_m7', 'A_m7', 'A_m7', 'C_M7', 'C_M7', 'C_M7', 'C_M7']\n"
     ]
    },
    {
     "name": "stderr",
     "output_type": "stream",
     "text": [
      "100%|██████████| 792/792 [02:57<00:00,  4.45it/s, batch=790, gpu_temp=60, loss={'chord': tensor(2.3358, device='cuda:0', grad_fn=<NllLossBackward0>), 'velocity': tensor(2.3079, device='cuda:0', grad_fn=<NllLossBackward0>), 'polyphony': tensor(1.2952, device='cuda:0', grad_fn=<NllLossBackward0>), 'density': tensor(1.8283, device='cuda:0', grad_fn=<NllLossBackward0>), 'piano_roll': tensor(1.4750, device='cuda:0', grad_fn=<NllLoss2DBackward0>), 'total': tensor(9.2423, device='cuda:0', grad_fn=<AddBackward0>)}]\n",
      "100%|██████████| 16/16 [00:07<00:00,  2.07it/s]\n"
     ]
    },
    {
     "name": "stdout",
     "output_type": "stream",
     "text": [
      "Generated:  [{'type': 'pitch', 'value': 24}, {'type': 'velocity', 'value': 14}, {'type': 'pitch', 'value': 36}, {'type': 'velocity', 'value': 15}, 'next_frame', 'next_frame', 'next_frame', 'next_frame', 'next_frame', 'next_frame']\n",
      "Chords:  ['F_M', 'F_M', 'F_M', 'F_M', 'E_7', 'E_7', 'E_M', 'E_M', 'D_m', 'D_m', 'D_m7', 'D_m7', 'D_m', 'D_m', 'D_m', 'D_m', 'E_m7', 'E_m7', 'E_m7', 'E_m7', 'F_M', 'F_M', 'F_M7', 'F_M7', 'F_sus2', 'F_sus2', 'F_M7', 'F_M7', 'E_M', 'E_M', 'E_7', 'E_7']\n"
     ]
    },
    {
     "name": "stderr",
     "output_type": "stream",
     "text": [
      "100%|██████████| 792/792 [03:00<00:00,  4.38it/s, batch=790, gpu_temp=55, loss={'chord': tensor(1.4222, device='cuda:0', grad_fn=<NllLossBackward0>), 'velocity': tensor(1.8914, device='cuda:0', grad_fn=<NllLossBackward0>), 'polyphony': tensor(1.4044, device='cuda:0', grad_fn=<NllLossBackward0>), 'density': tensor(1.7240, device='cuda:0', grad_fn=<NllLossBackward0>), 'piano_roll': tensor(0.9592, device='cuda:0', grad_fn=<NllLoss2DBackward0>), 'total': tensor(7.4012, device='cuda:0', grad_fn=<AddBackward0>)}]\n",
      "100%|██████████| 16/16 [00:07<00:00,  2.22it/s]\n"
     ]
    },
    {
     "name": "stdout",
     "output_type": "stream",
     "text": [
      "Generated:  [{'type': 'pitch', 'value': 32}, {'type': 'velocity', 'value': 18}, {'type': 'pitch', 'value': 60}, {'type': 'velocity', 'value': 22}, 'next_frame', 'next_frame', 'next_frame', 'next_frame', {'type': 'pitch', 'value': 39}, {'type': 'velocity', 'value': 20}]\n",
      "Chords:  ['None', 'None', 'C_M', 'C_M', 'F_M', 'F_M', 'G_M', 'G_M', 'F_sus2', 'F_sus2', 'C_M', 'C_M', 'A_m7', 'A_m7', 'A_m7', 'A_m7', 'C_M7', 'C_M7', 'C_M7', 'C_M7', 'A_m7', 'A_m7', 'F_M7', 'F_M7', 'A_M', 'A_M', 'A_m', 'A_m', 'A_m', 'A_m', 'A_m', 'A_m']\n"
     ]
    },
    {
     "name": "stderr",
     "output_type": "stream",
     "text": [
      "100%|██████████| 792/792 [02:58<00:00,  4.43it/s, batch=790, gpu_temp=55, loss={'chord': tensor(1.3264, device='cuda:0', grad_fn=<NllLossBackward0>), 'velocity': tensor(2.0089, device='cuda:0', grad_fn=<NllLossBackward0>), 'polyphony': tensor(1.6254, device='cuda:0', grad_fn=<NllLossBackward0>), 'density': tensor(1.6525, device='cuda:0', grad_fn=<NllLossBackward0>), 'piano_roll': tensor(1.0636, device='cuda:0', grad_fn=<NllLoss2DBackward0>), 'total': tensor(7.6768, device='cuda:0', grad_fn=<AddBackward0>)}]\n",
      "100%|██████████| 16/16 [00:07<00:00,  2.07it/s]\n"
     ]
    },
    {
     "name": "stdout",
     "output_type": "stream",
     "text": [
      "Generated:  ['next_frame', 'next_frame', 'next_frame', 'next_frame', 'next_frame', 'next_frame', 'next_frame', 'next_frame', 'next_frame', 'next_frame']\n",
      "Chords:  ['A_m7', 'A_m7', 'A_m7', 'A_m7', 'F_M', 'F_M', 'None', 'None', 'E_m7', 'E_m7', 'C_M', 'C_M', 'F_M', 'F_M', 'F_M7', 'F_M7', 'None', 'None', 'None', 'None', 'C_M', 'C_M', 'C_M', 'C_M', 'C_M', 'C_M', 'A_m7', 'A_m7', 'C_M', 'C_M', 'C_M', 'C_M']\n"
     ]
    },
    {
     "name": "stderr",
     "output_type": "stream",
     "text": [
      "100%|██████████| 792/792 [02:57<00:00,  4.47it/s, batch=790, gpu_temp=60, loss={'chord': tensor(1.7741, device='cuda:0', grad_fn=<NllLossBackward0>), 'velocity': tensor(2.0473, device='cuda:0', grad_fn=<NllLossBackward0>), 'polyphony': tensor(1.3858, device='cuda:0', grad_fn=<NllLossBackward0>), 'density': tensor(1.5812, device='cuda:0', grad_fn=<NllLossBackward0>), 'piano_roll': tensor(0.9872, device='cuda:0', grad_fn=<NllLoss2DBackward0>), 'total': tensor(7.7756, device='cuda:0', grad_fn=<AddBackward0>)}]\n",
      "100%|██████████| 16/16 [00:07<00:00,  2.06it/s]\n"
     ]
    },
    {
     "name": "stdout",
     "output_type": "stream",
     "text": [
      "Generated:  ['next_frame', 'next_frame', 'next_frame', 'next_frame', 'next_frame', 'next_frame', 'next_frame', 'next_frame', 'next_frame', 'next_frame']\n",
      "Chords:  ['C_M', 'C_M', 'G_M', 'G_M', 'E_m', 'A_m7', 'F_M7', 'F_M7', 'C_M', 'C_M', 'C_M7', 'C_M7', 'A_m', 'A_m', 'E_m7', 'E_m7', 'F_M7', 'F_M7', 'C_M', 'C_M', 'C_M', 'C_M', 'C_M', 'C_M', 'C_M', 'C_M', 'C_M7', 'C_M7', 'C_M', 'C_M', 'C_M', 'C_M']\n"
     ]
    },
    {
     "name": "stderr",
     "output_type": "stream",
     "text": [
      "100%|██████████| 792/792 [02:57<00:00,  4.46it/s, batch=790, gpu_temp=61, loss={'chord': tensor(1.4705, device='cuda:0', grad_fn=<NllLossBackward0>), 'velocity': tensor(2.3856, device='cuda:0', grad_fn=<NllLossBackward0>), 'polyphony': tensor(1.9219, device='cuda:0', grad_fn=<NllLossBackward0>), 'density': tensor(1.8055, device='cuda:0', grad_fn=<NllLossBackward0>), 'piano_roll': tensor(1.3564, device='cuda:0', grad_fn=<NllLoss2DBackward0>), 'total': tensor(8.9400, device='cuda:0', grad_fn=<AddBackward0>)}]\n",
      "100%|██████████| 16/16 [00:07<00:00,  2.11it/s]\n"
     ]
    },
    {
     "name": "stdout",
     "output_type": "stream",
     "text": [
      "Generated:  ['next_frame', 'next_frame', 'next_frame', 'next_frame', 'next_frame', 'next_frame', 'next_frame', 'next_frame', 'next_frame', 'next_frame']\n",
      "Chords:  ['None', 'None', 'G_7', 'G_7', 'C_M', 'C_M', 'C_M', 'C_M', 'D_o', 'D_o', 'A_m', 'A_m', 'D_m', 'D_m', 'E_m7', 'E_m7', 'G_7', 'G_7', 'E_7', 'E_7', 'C_M', 'C_M', 'C_M', 'C_M', 'D_o', 'D_o', 'D_o', 'D_o', 'C_M', 'C_M', 'C_M', 'C_M']\n"
     ]
    },
    {
     "name": "stderr",
     "output_type": "stream",
     "text": [
      "100%|██████████| 792/792 [02:57<00:00,  4.46it/s, batch=790, gpu_temp=62, loss={'chord': tensor(1.7119, device='cuda:0', grad_fn=<NllLossBackward0>), 'velocity': tensor(2.2328, device='cuda:0', grad_fn=<NllLossBackward0>), 'polyphony': tensor(1.5244, device='cuda:0', grad_fn=<NllLossBackward0>), 'density': tensor(1.6806, device='cuda:0', grad_fn=<NllLossBackward0>), 'piano_roll': tensor(1.1352, device='cuda:0', grad_fn=<NllLoss2DBackward0>), 'total': tensor(8.2849, device='cuda:0', grad_fn=<AddBackward0>)}]\n",
      "100%|██████████| 16/16 [00:07<00:00,  2.09it/s]\n"
     ]
    },
    {
     "name": "stdout",
     "output_type": "stream",
     "text": [
      "Generated:  [{'type': 'pitch', 'value': 24}, {'type': 'velocity', 'value': 20}, 'next_frame', 'next_frame', 'next_frame', 'next_frame', {'type': 'pitch', 'value': 31}, {'type': 'velocity', 'value': 18}, {'type': 'pitch', 'value': 58}, {'type': 'velocity', 'value': 22}]\n",
      "Chords:  ['None', 'None', 'None', 'None', 'C_M', 'C_M', 'C_M', 'C_M', 'C_M', 'C_M', 'C_M', 'C_M', 'A_m', 'A_m', 'A_m', 'A_m', 'F_M', 'F_M', 'F_M', 'F_M', 'F_M', 'F_M', 'F_M', 'F_M', 'B_o', 'B_o', 'C_+', 'C_+', 'A_m', 'A_m', 'A_m', 'A_m']\n"
     ]
    },
    {
     "name": "stderr",
     "output_type": "stream",
     "text": [
      "100%|██████████| 792/792 [02:59<00:00,  4.42it/s, batch=790, gpu_temp=61, loss={'chord': tensor(1.7767, device='cuda:0', grad_fn=<NllLossBackward0>), 'velocity': tensor(1.7648, device='cuda:0', grad_fn=<NllLossBackward0>), 'polyphony': tensor(1.3871, device='cuda:0', grad_fn=<NllLossBackward0>), 'density': tensor(1.7376, device='cuda:0', grad_fn=<NllLossBackward0>), 'piano_roll': tensor(1.2499, device='cuda:0', grad_fn=<NllLoss2DBackward0>), 'total': tensor(7.9161, device='cuda:0', grad_fn=<AddBackward0>)}]\n",
      "100%|██████████| 16/16 [00:08<00:00,  1.96it/s]\n"
     ]
    },
    {
     "name": "stdout",
     "output_type": "stream",
     "text": [
      "Generated:  ['next_frame', 'next_frame', 'next_frame', 'next_frame', 'next_frame', 'next_frame', 'next_frame', 'next_frame', 'next_frame', 'next_frame']\n",
      "Chords:  ['C_M', 'C_M', 'C_M', 'C_M', 'F_M', 'F_M', 'G_7', 'G_7', 'C_M7', 'C_M7', 'C_M7', 'C_M7', 'D_m7', 'D_m7', 'D_m7', 'D_m7', 'A_m', 'A_m', 'A_m7', 'A_m7', 'C_M', 'C_M', 'G_M', 'G_M', 'A#_M', 'A#_M', 'A#_M', 'A#_M', 'C_M7', 'C_M7', 'E_m7', 'E_m7']\n"
     ]
    },
    {
     "name": "stderr",
     "output_type": "stream",
     "text": [
      "100%|██████████| 792/792 [02:58<00:00,  4.44it/s, batch=790, gpu_temp=60, loss={'chord': tensor(1.3087, device='cuda:0', grad_fn=<NllLossBackward0>), 'velocity': tensor(2.1375, device='cuda:0', grad_fn=<NllLossBackward0>), 'polyphony': tensor(1.4384, device='cuda:0', grad_fn=<NllLossBackward0>), 'density': tensor(1.9218, device='cuda:0', grad_fn=<NllLossBackward0>), 'piano_roll': tensor(1.0373, device='cuda:0', grad_fn=<NllLoss2DBackward0>), 'total': tensor(7.8436, device='cuda:0', grad_fn=<AddBackward0>)}]\n",
      "100%|██████████| 16/16 [00:07<00:00,  2.06it/s]\n"
     ]
    },
    {
     "name": "stdout",
     "output_type": "stream",
     "text": [
      "Generated:  [{'type': 'pitch', 'value': 24}, {'type': 'velocity', 'value': 18}, 'next_frame', 'next_frame', 'next_frame', 'next_frame', {'type': 'pitch', 'value': 31}, {'type': 'velocity', 'value': 18}, 'next_frame', 'next_frame']\n",
      "Chords:  ['C_M', 'C_M', 'F_M7', 'F_M7', 'C_M', 'C_M', 'C_M', 'C_M', 'D_M', 'D_M', 'D_M', 'D_M', 'G_sus4', 'G_sus4', 'G_sus4', 'G_sus4', 'A_m', 'A_m', 'F_M7', 'F_M7', 'A_m7', 'A_m7', 'A_m7', 'A_m7', 'E_7', 'E_7', 'E_7', 'E_7', 'C_M', 'C_M', 'A_m7', 'A_m7']\n"
     ]
    },
    {
     "name": "stderr",
     "output_type": "stream",
     "text": [
      "100%|██████████| 792/792 [02:59<00:00,  4.42it/s, batch=790, gpu_temp=61, loss={'chord': tensor(1.6072, device='cuda:0', grad_fn=<NllLossBackward0>), 'velocity': tensor(2.2950, device='cuda:0', grad_fn=<NllLossBackward0>), 'polyphony': tensor(1.1737, device='cuda:0', grad_fn=<NllLossBackward0>), 'density': tensor(1.8334, device='cuda:0', grad_fn=<NllLossBackward0>), 'piano_roll': tensor(1.0923, device='cuda:0', grad_fn=<NllLoss2DBackward0>), 'total': tensor(8.0016, device='cuda:0', grad_fn=<AddBackward0>)}]\n",
      "100%|██████████| 16/16 [00:07<00:00,  2.15it/s]\n"
     ]
    },
    {
     "name": "stdout",
     "output_type": "stream",
     "text": [
      "Generated:  ['next_frame', 'next_frame', 'next_frame', 'next_frame', 'next_frame', 'next_frame', 'next_frame', 'next_frame', 'next_frame', 'next_frame']\n",
      "Chords:  ['None', 'None', 'None', 'None', 'A_M', 'A_M', 'A_m', 'A_m', 'A_m', 'A_m', 'A_m', 'A_m', 'C_M', 'C_M', 'C_M', 'C_M', 'C_M', 'C_M', 'F_M', 'F_M', 'A_M', 'A_M', 'F_M7', 'F_M7', 'G_M', 'G_M', 'E_m7', 'E_m7', 'C_M', 'C_M', 'C_M', 'C_M']\n"
     ]
    },
    {
     "name": "stderr",
     "output_type": "stream",
     "text": [
      "100%|██████████| 792/792 [02:57<00:00,  4.46it/s, batch=790, gpu_temp=61, loss={'chord': tensor(1.5592, device='cuda:0', grad_fn=<NllLossBackward0>), 'velocity': tensor(2.6000, device='cuda:0', grad_fn=<NllLossBackward0>), 'polyphony': tensor(1.8705, device='cuda:0', grad_fn=<NllLossBackward0>), 'density': tensor(2.2115, device='cuda:0', grad_fn=<NllLossBackward0>), 'piano_roll': tensor(1.3373, device='cuda:0', grad_fn=<NllLoss2DBackward0>), 'total': tensor(9.5786, device='cuda:0', grad_fn=<AddBackward0>)}]\n",
      "100%|██████████| 16/16 [00:07<00:00,  2.06it/s]\n"
     ]
    },
    {
     "name": "stdout",
     "output_type": "stream",
     "text": [
      "Generated:  ['next_frame', 'next_frame', 'next_frame', 'next_frame', 'next_frame', 'next_frame', 'next_frame', 'next_frame', 'next_frame', 'next_frame']\n",
      "Chords:  ['None', 'None', 'A_M', 'A_M', 'C_M', 'C_M', 'C_M', 'C_M', 'A_m', 'A_m', 'A_m', 'A_m', 'A_m', 'A_m', 'A_m', 'A_m', 'F_M7', 'F_M7', 'G_M', 'G_M', 'A_m', 'A_m', 'A_m7', 'A_m7', 'C_M', 'C_M', 'C_M', 'C_M', 'G_M', 'G_M', 'E_m7', 'E_m7']\n"
     ]
    },
    {
     "name": "stderr",
     "output_type": "stream",
     "text": [
      "100%|██████████| 792/792 [02:58<00:00,  4.45it/s, batch=790, gpu_temp=61, loss={'chord': tensor(1.7854, device='cuda:0', grad_fn=<NllLossBackward0>), 'velocity': tensor(2.9506, device='cuda:0', grad_fn=<NllLossBackward0>), 'polyphony': tensor(1.2391, device='cuda:0', grad_fn=<NllLossBackward0>), 'density': tensor(1.7164, device='cuda:0', grad_fn=<NllLossBackward0>), 'piano_roll': tensor(1.0978, device='cuda:0', grad_fn=<NllLoss2DBackward0>), 'total': tensor(8.7893, device='cuda:0', grad_fn=<AddBackward0>)}]\n",
      "100%|██████████| 16/16 [00:07<00:00,  2.03it/s]\n"
     ]
    },
    {
     "name": "stdout",
     "output_type": "stream",
     "text": [
      "Generated:  [{'type': 'pitch', 'value': 0}, {'type': 'velocity', 'value': 21}, {'type': 'pitch', 'value': 12}, {'type': 'velocity', 'value': 21}, {'type': 'pitch', 'value': 24}, {'type': 'velocity', 'value': 21}, {'type': 'pitch', 'value': 36}, {'type': 'velocity', 'value': 22}, 'next_frame', 'next_frame']\n",
      "Chords:  ['A_m', 'A_m', 'G_M', 'G_M', 'A_m', 'A_m', 'A_m', 'A_m', 'D_m', 'D_m', 'F_M', 'F_M', 'G_7', 'G_7', 'G_M', 'G_M', 'C_M', 'C_M', 'A_m7', 'A_m7', 'C_M', 'C_M', 'C_M', 'C_M', 'A_m7', 'A_m7', 'A_m7', 'A_m7', 'D_m7', 'D_m7', 'C_M7', 'C_M7']\n"
     ]
    },
    {
     "name": "stderr",
     "output_type": "stream",
     "text": [
      "100%|██████████| 792/792 [02:57<00:00,  4.45it/s, batch=790, gpu_temp=55, loss={'chord': tensor(1.5387, device='cuda:0', grad_fn=<NllLossBackward0>), 'velocity': tensor(2.2119, device='cuda:0', grad_fn=<NllLossBackward0>), 'polyphony': tensor(1.3133, device='cuda:0', grad_fn=<NllLossBackward0>), 'density': tensor(1.7434, device='cuda:0', grad_fn=<NllLossBackward0>), 'piano_roll': tensor(1.0020, device='cuda:0', grad_fn=<NllLoss2DBackward0>), 'total': tensor(7.8092, device='cuda:0', grad_fn=<AddBackward0>)}]\n",
      "100%|██████████| 16/16 [00:07<00:00,  2.01it/s]\n"
     ]
    },
    {
     "name": "stdout",
     "output_type": "stream",
     "text": [
      "Generated:  [{'type': 'pitch', 'value': 15}, {'type': 'velocity', 'value': 19}, {'type': 'pitch', 'value': 27}, {'type': 'velocity', 'value': 20}, {'type': 'pitch', 'value': 46}, {'type': 'velocity', 'value': 21}, 'next_frame', 'next_frame', 'next_frame', 'next_frame']\n",
      "Chords:  ['C_M', 'C_M', 'C_M', 'C_M', 'C_M7', 'C_M7', 'A_m7', 'A_m7', 'C_M', 'C_M', 'C_M', 'C_M', 'F_M', 'F_M', 'F_M', 'F_M', 'A_m7', 'A_m7', 'C_M', 'C_M', 'A_m7', 'A_m7', 'E_m7', 'E_m7', 'A_m7', 'A_m7', 'A_m7', 'A_m7', 'F_M7', 'F_M7', 'F_M7', 'F_M7']\n"
     ]
    },
    {
     "name": "stderr",
     "output_type": "stream",
     "text": [
      "100%|██████████| 792/792 [02:58<00:00,  4.44it/s, batch=790, gpu_temp=61, loss={'chord': tensor(1.8577, device='cuda:0', grad_fn=<NllLossBackward0>), 'velocity': tensor(1.6938, device='cuda:0', grad_fn=<NllLossBackward0>), 'polyphony': tensor(1.3385, device='cuda:0', grad_fn=<NllLossBackward0>), 'density': tensor(1.9397, device='cuda:0', grad_fn=<NllLossBackward0>), 'piano_roll': tensor(0.9644, device='cuda:0', grad_fn=<NllLoss2DBackward0>), 'total': tensor(7.7942, device='cuda:0', grad_fn=<AddBackward0>)}]\n",
      "100%|██████████| 16/16 [00:07<00:00,  2.07it/s]\n"
     ]
    },
    {
     "name": "stdout",
     "output_type": "stream",
     "text": [
      "Generated:  ['next_frame', 'next_frame', 'next_frame', 'next_frame', 'next_frame', 'next_frame', 'next_frame', 'next_frame', 'next_frame', 'next_frame']\n",
      "Chords:  ['D_m7', 'D_m7', 'D_m7', 'D_m7', 'None', 'None', 'C_M', 'C_M', 'A_m', 'A_m', 'A_m', 'A_m', 'C_M', 'C_M', 'C_M', 'C_M', 'A_sus4', 'A_sus4', 'A_m7', 'A_m7', 'F_M7', 'F_M7', 'F_M7', 'F_M7', 'A_o', 'A_o', 'A_o', 'A_o', 'E_M', 'E_M', 'E_M', 'E_M']\n"
     ]
    },
    {
     "name": "stderr",
     "output_type": "stream",
     "text": [
      "100%|██████████| 792/792 [02:58<00:00,  4.43it/s, batch=790, gpu_temp=62, loss={'chord': tensor(1.6359, device='cuda:0', grad_fn=<NllLossBackward0>), 'velocity': tensor(1.8095, device='cuda:0', grad_fn=<NllLossBackward0>), 'polyphony': tensor(1.5253, device='cuda:0', grad_fn=<NllLossBackward0>), 'density': tensor(1.5964, device='cuda:0', grad_fn=<NllLossBackward0>), 'piano_roll': tensor(0.7813, device='cuda:0', grad_fn=<NllLoss2DBackward0>), 'total': tensor(7.3484, device='cuda:0', grad_fn=<AddBackward0>)}]\n",
      "100%|██████████| 16/16 [00:07<00:00,  2.12it/s]\n"
     ]
    },
    {
     "name": "stdout",
     "output_type": "stream",
     "text": [
      "Generated:  [{'type': 'pitch', 'value': 27}, {'type': 'velocity', 'value': 14}, {'type': 'pitch', 'value': 39}, {'type': 'velocity', 'value': 15}, {'type': 'pitch', 'value': 43}, {'type': 'velocity', 'value': 14}, {'type': 'pitch', 'value': 46}, {'type': 'velocity', 'value': 12}, 'next_frame', 'next_frame']\n",
      "Chords:  ['A_m7', 'A_m7', 'A_m7', 'A_m7', 'A_m7', 'A_m7', 'E_m7', 'E_m7', 'C_M7', 'C_M7', 'A_m', 'A_m', 'G_sus4', 'G_sus4', 'C_M', 'C_M', 'C_M7', 'C_M7', 'C_M7', 'C_M7', 'F_M7', 'F_M7', 'F_M7', 'F_M7', 'C_M7', 'C_M7', 'A_m', 'A_m', 'A_m', 'A_m', 'A_m', 'A_m']\n"
     ]
    },
    {
     "name": "stderr",
     "output_type": "stream",
     "text": [
      "100%|██████████| 792/792 [02:56<00:00,  4.50it/s, batch=790, gpu_temp=62, loss={'chord': tensor(1.5606, device='cuda:0', grad_fn=<NllLossBackward0>), 'velocity': tensor(2.3697, device='cuda:0', grad_fn=<NllLossBackward0>), 'polyphony': tensor(1.4098, device='cuda:0', grad_fn=<NllLossBackward0>), 'density': tensor(1.8924, device='cuda:0', grad_fn=<NllLossBackward0>), 'piano_roll': tensor(1.0522, device='cuda:0', grad_fn=<NllLoss2DBackward0>), 'total': tensor(8.2847, device='cuda:0', grad_fn=<AddBackward0>)}]\n",
      "100%|██████████| 16/16 [00:07<00:00,  2.09it/s]\n"
     ]
    },
    {
     "name": "stdout",
     "output_type": "stream",
     "text": [
      "Generated:  ['next_frame', 'next_frame', 'next_frame', 'next_frame', 'next_frame', 'next_frame', 'next_frame', 'next_frame', 'next_frame', 'next_frame']\n",
      "Chords:  ['None', 'None', 'E_M', 'E_M', 'D_m', 'D_m', 'C_M', 'C_M', 'F_M', 'F_M', 'F_M7', 'F_M7', 'A_M', 'A_M', 'A_m7', 'A_m7', 'A_m', 'A_m', 'A_m', 'A_m', 'F_M', 'F_M', 'G_7', 'G_7', 'C_M', 'C_M', 'G_7', 'G_7', 'F_M7', 'F_M7', 'F_M7', 'F_M7']\n"
     ]
    },
    {
     "name": "stderr",
     "output_type": "stream",
     "text": [
      "100%|██████████| 792/792 [02:57<00:00,  4.46it/s, batch=790, gpu_temp=55, loss={'chord': tensor(1.8284, device='cuda:0', grad_fn=<NllLossBackward0>), 'velocity': tensor(1.7477, device='cuda:0', grad_fn=<NllLossBackward0>), 'polyphony': tensor(1.3980, device='cuda:0', grad_fn=<NllLossBackward0>), 'density': tensor(1.5999, device='cuda:0', grad_fn=<NllLossBackward0>), 'piano_roll': tensor(1.0114, device='cuda:0', grad_fn=<NllLoss2DBackward0>), 'total': tensor(7.5853, device='cuda:0', grad_fn=<AddBackward0>)}]\n",
      "100%|██████████| 16/16 [00:08<00:00,  1.96it/s]\n"
     ]
    },
    {
     "name": "stdout",
     "output_type": "stream",
     "text": [
      "Generated:  [{'type': 'pitch', 'value': 26}, {'type': 'velocity', 'value': 16}, {'type': 'pitch', 'value': 46}, {'type': 'velocity', 'value': 20}, {'type': 'pitch', 'value': 58}, {'type': 'velocity', 'value': 23}, 'next_frame', 'next_frame', 'next_frame', 'next_frame']\n",
      "Chords:  ['C_M', 'C_M', 'C_M', 'C_M', 'F_M', 'F_M', 'C_M', 'C_M', 'G_M', 'G_M', 'G_M', 'G_M', 'D_m7', 'D_m7', 'D_m7', 'C_M', 'G_sus4', 'G_sus4', 'C_M7', 'C_M7', 'C_M', 'C_M', 'C_M', 'C_M', 'F_M', 'F_M', 'None', 'None', 'None', 'None', 'G_M', 'G_M']\n"
     ]
    },
    {
     "name": "stderr",
     "output_type": "stream",
     "text": [
      "100%|██████████| 792/792 [02:57<00:00,  4.47it/s, batch=790, gpu_temp=55, loss={'chord': tensor(1.6995, device='cuda:0', grad_fn=<NllLossBackward0>), 'velocity': tensor(2.4542, device='cuda:0', grad_fn=<NllLossBackward0>), 'polyphony': tensor(1.3268, device='cuda:0', grad_fn=<NllLossBackward0>), 'density': tensor(2.0231, device='cuda:0', grad_fn=<NllLossBackward0>), 'piano_roll': tensor(1.3142, device='cuda:0', grad_fn=<NllLoss2DBackward0>), 'total': tensor(8.8177, device='cuda:0', grad_fn=<AddBackward0>)}]\n",
      "100%|██████████| 16/16 [00:07<00:00,  2.14it/s]\n"
     ]
    },
    {
     "name": "stdout",
     "output_type": "stream",
     "text": [
      "Generated:  [{'type': 'pitch', 'value': 32}, {'type': 'velocity', 'value': 15}, {'type': 'pitch', 'value': 36}, {'type': 'velocity', 'value': 18}, {'type': 'pitch', 'value': 39}, {'type': 'velocity', 'value': 16}, {'type': 'pitch', 'value': 43}, {'type': 'velocity', 'value': 16}, 'next_frame', 'next_frame']\n",
      "Chords:  ['None', 'None', 'F_M7', 'F_M7', 'C_M', 'C_M', 'C_M', 'C_M', 'C_M', 'C_M', 'C_M', 'C_M', 'A_m7', 'A_m7', 'A_m7', 'A_m7', 'C_M', 'C_M', 'C_M', 'C_M', 'A_m', 'A_m', 'A_m7', 'A_m7', 'A_M', 'A_M', 'A_M', 'A_M', 'C_M7', 'C_M7', 'E_m', 'E_m']\n"
     ]
    },
    {
     "name": "stderr",
     "output_type": "stream",
     "text": [
      "100%|██████████| 792/792 [03:00<00:00,  4.39it/s, batch=790, gpu_temp=55, loss={'chord': tensor(2.1769, device='cuda:0', grad_fn=<NllLossBackward0>), 'velocity': tensor(1.5839, device='cuda:0', grad_fn=<NllLossBackward0>), 'polyphony': tensor(1.2195, device='cuda:0', grad_fn=<NllLossBackward0>), 'density': tensor(1.3173, device='cuda:0', grad_fn=<NllLossBackward0>), 'piano_roll': tensor(0.9761, device='cuda:0', grad_fn=<NllLoss2DBackward0>), 'total': tensor(7.2738, device='cuda:0', grad_fn=<AddBackward0>)}]\n",
      "100%|██████████| 16/16 [00:07<00:00,  2.20it/s]\n"
     ]
    },
    {
     "name": "stdout",
     "output_type": "stream",
     "text": [
      "Generated:  [{'type': 'pitch', 'value': 24}, {'type': 'velocity', 'value': 20}, {'type': 'pitch', 'value': 55}, {'type': 'velocity', 'value': 20}, {'type': 'pitch', 'value': 60}, {'type': 'velocity', 'value': 20}, {'type': 'pitch', 'value': 63}, {'type': 'velocity', 'value': 20}, 'next_frame', 'next_frame']\n",
      "Chords:  ['None', 'None', 'None', 'None', 'F_M7', 'F_M7', 'C_M', 'C_M', 'E_m7', 'E_m7', 'E_m7', 'E_m7', 'A_m', 'A_m', 'A_m', 'A_m', 'None', 'None', 'None', 'None', 'None', 'None', 'F_M', 'F_M', 'F_M7', 'F_M7', 'G_7', 'G_7', 'F_M7', 'F_M7', 'G_7', 'G_7']\n"
     ]
    },
    {
     "name": "stderr",
     "output_type": "stream",
     "text": [
      "100%|██████████| 792/792 [02:56<00:00,  4.49it/s, batch=790, gpu_temp=56, loss={'chord': tensor(1.7522, device='cuda:0', grad_fn=<NllLossBackward0>), 'velocity': tensor(2.2632, device='cuda:0', grad_fn=<NllLossBackward0>), 'polyphony': tensor(1.3188, device='cuda:0', grad_fn=<NllLossBackward0>), 'density': tensor(1.6453, device='cuda:0', grad_fn=<NllLossBackward0>), 'piano_roll': tensor(1.1802, device='cuda:0', grad_fn=<NllLoss2DBackward0>), 'total': tensor(8.1597, device='cuda:0', grad_fn=<AddBackward0>)}] \n",
      "100%|██████████| 16/16 [00:07<00:00,  2.07it/s]\n"
     ]
    },
    {
     "name": "stdout",
     "output_type": "stream",
     "text": [
      "Generated:  [{'type': 'pitch', 'value': 12}, {'type': 'velocity', 'value': 17}, {'type': 'pitch', 'value': 24}, {'type': 'velocity', 'value': 19}, 'next_frame', 'next_frame', 'next_frame', 'next_frame', {'type': 'pitch', 'value': 24}, {'type': 'velocity', 'value': 16}]\n",
      "Chords:  ['A_m7', 'A_m7', 'C_M', 'C_M', 'G_M', 'G_M', 'A_m', 'A_m', 'D_M', 'D_M', 'C_M7', 'A_M', 'None', 'None', 'None', 'None', 'A_m7', 'A_m7', 'A_m7', 'A_m7', 'C_M', 'C_M', 'C_M', 'C_M', 'G_M', 'G_M', 'E_m7', 'E_m7', 'F_M', 'F_M', 'F_M', 'F_M']\n"
     ]
    },
    {
     "name": "stderr",
     "output_type": "stream",
     "text": [
      "100%|██████████| 792/792 [02:57<00:00,  4.46it/s, batch=790, gpu_temp=61, loss={'chord': tensor(1.7753, device='cuda:0', grad_fn=<NllLossBackward0>), 'velocity': tensor(1.8916, device='cuda:0', grad_fn=<NllLossBackward0>), 'polyphony': tensor(1.3324, device='cuda:0', grad_fn=<NllLossBackward0>), 'density': tensor(1.5870, device='cuda:0', grad_fn=<NllLossBackward0>), 'piano_roll': tensor(1.0016, device='cuda:0', grad_fn=<NllLoss2DBackward0>), 'total': tensor(7.5879, device='cuda:0', grad_fn=<AddBackward0>)}]\n",
      "100%|██████████| 16/16 [00:07<00:00,  2.03it/s]\n"
     ]
    },
    {
     "name": "stdout",
     "output_type": "stream",
     "text": [
      "Generated:  ['next_frame', 'next_frame', 'next_frame', 'next_frame', 'next_frame', 'next_frame', 'next_frame', 'next_frame', 'next_frame', 'next_frame']\n",
      "Chords:  ['None', 'None', 'None', 'None', 'A_m', 'A_m', 'F_M', 'F_M', 'D_m', 'D_m', 'D_m', 'D_m', 'C_M', 'C_M', 'C_M', 'C_M', 'G_M', 'G_M', 'G_M', 'G_M', 'C_M', 'C_M', 'C_M', 'C_M', 'A_m', 'A_m', 'A_m', 'A_m', 'G_m7', 'G_m7', 'G_m7', 'G_m7']\n"
     ]
    },
    {
     "name": "stderr",
     "output_type": "stream",
     "text": [
      "100%|██████████| 792/792 [02:57<00:00,  4.45it/s, batch=790, gpu_temp=55, loss={'chord': tensor(1.8354, device='cuda:0', grad_fn=<NllLossBackward0>), 'velocity': tensor(1.9855, device='cuda:0', grad_fn=<NllLossBackward0>), 'polyphony': tensor(1.3565, device='cuda:0', grad_fn=<NllLossBackward0>), 'density': tensor(1.9177, device='cuda:0', grad_fn=<NllLossBackward0>), 'piano_roll': tensor(1.2174, device='cuda:0', grad_fn=<NllLoss2DBackward0>), 'total': tensor(8.3125, device='cuda:0', grad_fn=<AddBackward0>)}]\n",
      "100%|██████████| 16/16 [00:07<00:00,  2.12it/s]\n"
     ]
    },
    {
     "name": "stdout",
     "output_type": "stream",
     "text": [
      "Generated:  [{'type': 'pitch', 'value': 12}, {'type': 'velocity', 'value': 18}, {'type': 'pitch', 'value': 24}, {'type': 'velocity', 'value': 20}, {'type': 'pitch', 'value': 36}, {'type': 'velocity', 'value': 22}, 'next_frame', 'next_frame', 'next_frame', 'next_frame']\n",
      "Chords:  ['C_M', 'C_M', 'G_M', 'G_M', 'A_m', 'A_m', 'C_M', 'C_M', 'F_M7', 'F_M7', 'F_M7', 'F_M7', 'A_m7', 'A_m7', 'C_M7', 'C_M7', 'A_sus2', 'A_sus2', 'A_sus2', 'A_sus2', 'C_M', 'C_M', 'C_M', 'C_M', 'A_m7', 'A_m7', 'A_m7', 'A_m7', 'D_m7', 'D_m7', 'D_m7', 'D_m7']\n"
     ]
    },
    {
     "name": "stderr",
     "output_type": "stream",
     "text": [
      "100%|██████████| 792/792 [02:58<00:00,  4.44it/s, batch=790, gpu_temp=55, loss={'chord': tensor(1.4533, device='cuda:0', grad_fn=<NllLossBackward0>), 'velocity': tensor(1.7947, device='cuda:0', grad_fn=<NllLossBackward0>), 'polyphony': tensor(1.2979, device='cuda:0', grad_fn=<NllLossBackward0>), 'density': tensor(1.6110, device='cuda:0', grad_fn=<NllLossBackward0>), 'piano_roll': tensor(0.9952, device='cuda:0', grad_fn=<NllLoss2DBackward0>), 'total': tensor(7.1522, device='cuda:0', grad_fn=<AddBackward0>)}]\n",
      "100%|██████████| 16/16 [00:08<00:00,  1.98it/s]\n"
     ]
    },
    {
     "name": "stdout",
     "output_type": "stream",
     "text": [
      "Generated:  ['next_frame', 'next_frame', 'next_frame', 'next_frame', 'next_frame', 'next_frame', 'next_frame', 'next_frame', 'next_frame', 'next_frame']\n",
      "Chords:  ['C_M', 'C_M', 'A_m7', 'A_m7', 'C_M', 'C_M', 'C_M', 'C_M', 'F_M7', 'F_M7', 'D_m7', 'D_m7', 'E_m7', 'E_m7', 'E_m7', 'E_m7', 'A_m', 'A_m', 'A_m', 'A_m', 'A_m', 'A_m', 'A_m', 'A_m', 'F_M7', 'F_M7', 'C_M', 'C_M', 'C_M7', 'C_M7', 'C_M7', 'C_M7']\n"
     ]
    },
    {
     "name": "stderr",
     "output_type": "stream",
     "text": [
      "100%|██████████| 792/792 [03:00<00:00,  4.39it/s, batch=790, gpu_temp=62, loss={'chord': tensor(1.8360, device='cuda:0', grad_fn=<NllLossBackward0>), 'velocity': tensor(2.4822, device='cuda:0', grad_fn=<NllLossBackward0>), 'polyphony': tensor(1.3031, device='cuda:0', grad_fn=<NllLossBackward0>), 'density': tensor(1.4574, device='cuda:0', grad_fn=<NllLossBackward0>), 'piano_roll': tensor(1.0755, device='cuda:0', grad_fn=<NllLoss2DBackward0>), 'total': tensor(8.1542, device='cuda:0', grad_fn=<AddBackward0>)}]\n",
      "100%|██████████| 16/16 [00:08<00:00,  1.97it/s]\n"
     ]
    },
    {
     "name": "stdout",
     "output_type": "stream",
     "text": [
      "Generated:  [{'type': 'pitch', 'value': 15}, {'type': 'velocity', 'value': 17}, {'type': 'pitch', 'value': 43}, {'type': 'velocity', 'value': 18}, {'type': 'pitch', 'value': 46}, {'type': 'velocity', 'value': 17}, {'type': 'pitch', 'value': 51}, {'type': 'velocity', 'value': 19}, 'next_frame', 'next_frame']\n",
      "Chords:  ['None', 'None', 'C_M', 'C_M', 'C_M7', 'C_M7', 'C_M7', 'C_M7', 'A_m', 'A_m', 'A_m', 'A_m', 'A_m7', 'A_m7', 'A_m7', 'A_m7', 'E_m7', 'E_m7', 'E_m7', 'E_m7', 'A_M', 'A_M', 'A_M', 'A_M', 'A_m', 'A_m', 'A_m', 'A_m', 'F_M', 'F_M', 'G_M', 'G_M']\n"
     ]
    },
    {
     "name": "stderr",
     "output_type": "stream",
     "text": [
      "100%|██████████| 792/792 [02:59<00:00,  4.41it/s, batch=790, gpu_temp=61, loss={'chord': tensor(1.4596, device='cuda:0', grad_fn=<NllLossBackward0>), 'velocity': tensor(1.8780, device='cuda:0', grad_fn=<NllLossBackward0>), 'polyphony': tensor(1.4140, device='cuda:0', grad_fn=<NllLossBackward0>), 'density': tensor(1.9460, device='cuda:0', grad_fn=<NllLossBackward0>), 'piano_roll': tensor(1.1866, device='cuda:0', grad_fn=<NllLoss2DBackward0>), 'total': tensor(7.8843, device='cuda:0', grad_fn=<AddBackward0>)}]\n",
      "100%|██████████| 16/16 [00:07<00:00,  2.06it/s]\n"
     ]
    },
    {
     "name": "stdout",
     "output_type": "stream",
     "text": [
      "Generated:  ['next_frame', 'next_frame', 'next_frame', 'next_frame', 'next_frame', 'next_frame', 'next_frame', 'next_frame', 'next_frame', 'next_frame']\n",
      "Chords:  ['C_M', 'C_M', 'C_M', 'C_M', 'E_m', 'E_m7', 'G#_o', 'G#_o', 'A_m', 'A_m', 'A_m', 'A_m', 'A_m7', 'A_m7', 'A_m7', 'A_m7', 'C_M', 'C_M', 'E_m7', 'E_m7', 'F_M', 'F_M', 'F_M', 'F_M', 'G_M', 'G_M', 'G_M', 'G_M', 'C_+', 'C_+', 'C_+', 'C_+']\n"
     ]
    },
    {
     "name": "stderr",
     "output_type": "stream",
     "text": [
      "100%|██████████| 792/792 [02:56<00:00,  4.49it/s, batch=790, gpu_temp=55, loss={'chord': tensor(1.7277, device='cuda:0', grad_fn=<NllLossBackward0>), 'velocity': tensor(2.3579, device='cuda:0', grad_fn=<NllLossBackward0>), 'polyphony': tensor(1.4657, device='cuda:0', grad_fn=<NllLossBackward0>), 'density': tensor(1.8169, device='cuda:0', grad_fn=<NllLossBackward0>), 'piano_roll': tensor(1.2897, device='cuda:0', grad_fn=<NllLoss2DBackward0>), 'total': tensor(8.6579, device='cuda:0', grad_fn=<AddBackward0>)}]\n",
      "100%|██████████| 16/16 [00:08<00:00,  2.00it/s]\n"
     ]
    },
    {
     "name": "stdout",
     "output_type": "stream",
     "text": [
      "Generated:  [{'type': 'pitch', 'value': 19}, {'type': 'velocity', 'value': 16}, {'type': 'pitch', 'value': 26}, {'type': 'velocity', 'value': 18}, {'type': 'pitch', 'value': 31}, {'type': 'velocity', 'value': 17}, {'type': 'pitch', 'value': 43}, {'type': 'velocity', 'value': 17}, 'next_frame', 'next_frame']\n",
      "Chords:  ['A_m', 'A_m', 'A_m', 'A_m', 'A_M7', 'A_M7', 'E_7', 'E_7', 'F_M7', 'F_M7', 'F_M7', 'F_M7', 'C_M7', 'C_M7', 'C_M7', 'C_M7', 'G_M', 'G_M', 'E_m7', 'E_m7', 'F_M7', 'F_M7', 'F_M', 'F_M', 'F_M', 'F_M', 'G_7', 'G_7', 'G_M', 'G_M', 'C_M7', 'C_M7']\n"
     ]
    },
    {
     "name": "stderr",
     "output_type": "stream",
     "text": [
      "100%|██████████| 792/792 [02:56<00:00,  4.49it/s, batch=790, gpu_temp=62, loss={'chord': tensor(1.9330, device='cuda:0', grad_fn=<NllLossBackward0>), 'velocity': tensor(1.7951, device='cuda:0', grad_fn=<NllLossBackward0>), 'polyphony': tensor(1.1099, device='cuda:0', grad_fn=<NllLossBackward0>), 'density': tensor(1.6260, device='cuda:0', grad_fn=<NllLossBackward0>), 'piano_roll': tensor(1.0459, device='cuda:0', grad_fn=<NllLoss2DBackward0>), 'total': tensor(7.5098, device='cuda:0', grad_fn=<AddBackward0>)}]\n",
      "100%|██████████| 16/16 [00:08<00:00,  1.98it/s]\n"
     ]
    },
    {
     "name": "stdout",
     "output_type": "stream",
     "text": [
      "Generated:  ['next_frame', 'next_frame', 'next_frame', 'next_frame', 'next_frame', 'next_frame', 'next_frame', 'next_frame', 'next_frame', 'next_frame']\n",
      "Chords:  ['C_M', 'C_M', 'C_M7', 'C_M7', 'None', 'None', 'None', 'None', 'F_M7', 'F_M7', 'C_M', 'C_M', 'None', 'None', 'A_m', 'A_m', 'F_M7', 'F_M7', 'B_o', 'B_o', 'None', 'None', 'E_m7', 'E_m7', 'F_M7', 'F_M7', 'A_m', 'A_m', 'A_m', 'A_m', 'A_m', 'A_m']\n"
     ]
    },
    {
     "name": "stderr",
     "output_type": "stream",
     "text": [
      "100%|██████████| 792/792 [02:57<00:00,  4.46it/s, batch=790, gpu_temp=61, loss={'chord': tensor(1.6062, device='cuda:0', grad_fn=<NllLossBackward0>), 'velocity': tensor(1.8819, device='cuda:0', grad_fn=<NllLossBackward0>), 'polyphony': tensor(1.4025, device='cuda:0', grad_fn=<NllLossBackward0>), 'density': tensor(1.6997, device='cuda:0', grad_fn=<NllLossBackward0>), 'piano_roll': tensor(0.9318, device='cuda:0', grad_fn=<NllLoss2DBackward0>), 'total': tensor(7.5220, device='cuda:0', grad_fn=<AddBackward0>)}]\n",
      "100%|██████████| 16/16 [00:07<00:00,  2.13it/s]\n"
     ]
    },
    {
     "name": "stdout",
     "output_type": "stream",
     "text": [
      "Generated:  ['next_frame', 'next_frame', 'next_frame', 'next_frame', 'next_frame', 'next_frame', 'next_frame', 'next_frame', 'next_frame', 'next_frame']\n",
      "Chords:  ['F_M', 'F_M', 'F_M', 'F_M', 'C_M', 'C_M', 'C_M7', 'C_M7', 'A_M', 'A_M', 'A_M', 'A_M', 'C_M7', 'C_M7', 'G_M', 'G_M', 'D_m7', 'D_m7', 'G_7', 'G_7', 'E_M', 'E_M', 'E_M7', 'E_M7', 'C_M7', 'C_M7', 'C_M', 'C_M', 'E_m7', 'E_m7', 'E_m7', 'E_m7']\n"
     ]
    },
    {
     "name": "stderr",
     "output_type": "stream",
     "text": [
      "100%|██████████| 792/792 [02:58<00:00,  4.45it/s, batch=790, gpu_temp=61, loss={'chord': tensor(1.4603, device='cuda:0', grad_fn=<NllLossBackward0>), 'velocity': tensor(1.9581, device='cuda:0', grad_fn=<NllLossBackward0>), 'polyphony': tensor(1.4043, device='cuda:0', grad_fn=<NllLossBackward0>), 'density': tensor(1.6423, device='cuda:0', grad_fn=<NllLossBackward0>), 'piano_roll': tensor(1.0297, device='cuda:0', grad_fn=<NllLoss2DBackward0>), 'total': tensor(7.4948, device='cuda:0', grad_fn=<AddBackward0>)}]\n",
      "100%|██████████| 16/16 [00:07<00:00,  2.02it/s]\n"
     ]
    },
    {
     "name": "stdout",
     "output_type": "stream",
     "text": [
      "Generated:  [{'type': 'pitch', 'value': 32}, {'type': 'velocity', 'value': 12}, {'type': 'pitch', 'value': 36}, {'type': 'velocity', 'value': 15}, {'type': 'pitch', 'value': 39}, {'type': 'velocity', 'value': 14}, {'type': 'pitch', 'value': 43}, {'type': 'velocity', 'value': 17}, {'type': 'pitch', 'value': 60}, {'type': 'velocity', 'value': 16}]\n",
      "Chords:  ['None', 'None', 'None', 'None', 'F_M', 'F_M', 'F_M7', 'F_M7', 'C_M7', 'C_M7', 'A_m7', 'A_m7', 'A_m', 'A_m', 'E_m', 'E_m', 'A_m7', 'A_m7', 'C_M', 'C_M', 'F_M7', 'F_M7', 'C_+', 'C_+', 'C_M7', 'C_M7', 'C_M7', 'C_M7', 'A_m', 'A_m', 'A_m', 'A_m']\n"
     ]
    },
    {
     "name": "stderr",
     "output_type": "stream",
     "text": [
      "100%|██████████| 792/792 [02:57<00:00,  4.47it/s, batch=790, gpu_temp=55, loss={'chord': tensor(1.3972, device='cuda:0', grad_fn=<NllLossBackward0>), 'velocity': tensor(2.3996, device='cuda:0', grad_fn=<NllLossBackward0>), 'polyphony': tensor(1.3820, device='cuda:0', grad_fn=<NllLossBackward0>), 'density': tensor(1.6796, device='cuda:0', grad_fn=<NllLossBackward0>), 'piano_roll': tensor(1.0703, device='cuda:0', grad_fn=<NllLoss2DBackward0>), 'total': tensor(7.9286, device='cuda:0', grad_fn=<AddBackward0>)}]\n",
      "100%|██████████| 16/16 [00:07<00:00,  2.21it/s]\n"
     ]
    },
    {
     "name": "stdout",
     "output_type": "stream",
     "text": [
      "Generated:  [{'type': 'pitch', 'value': 36}, {'type': 'velocity', 'value': 19}, {'type': 'pitch', 'value': 55}, {'type': 'velocity', 'value': 20}, 'next_frame', 'next_frame', 'next_frame', 'next_frame', 'next_frame', 'next_frame']\n",
      "Chords:  ['C_M', 'C_M', 'G_M', 'G_M', 'C_M7', 'C_M7', 'C_M', 'C_M', 'C_M7', 'C_M7', 'A_m', 'A_m', 'A_m7', 'A_m7', 'F_M7', 'F_M7', 'D_m7', 'D_m7', 'D_m7', 'D_m7', 'C_M', 'C_M', 'C_M', 'C_M', 'G_M', 'G_M', 'G_M', 'G_M', 'None', 'None', 'None', 'None']\n"
     ]
    },
    {
     "name": "stderr",
     "output_type": "stream",
     "text": [
      "100%|██████████| 792/792 [03:00<00:00,  4.39it/s, batch=790, gpu_temp=61, loss={'chord': tensor(1.6883, device='cuda:0', grad_fn=<NllLossBackward0>), 'velocity': tensor(2.3375, device='cuda:0', grad_fn=<NllLossBackward0>), 'polyphony': tensor(1.4021, device='cuda:0', grad_fn=<NllLossBackward0>), 'density': tensor(1.9732, device='cuda:0', grad_fn=<NllLossBackward0>), 'piano_roll': tensor(1.1409, device='cuda:0', grad_fn=<NllLoss2DBackward0>), 'total': tensor(8.5419, device='cuda:0', grad_fn=<AddBackward0>)}]\n",
      "100%|██████████| 16/16 [00:07<00:00,  2.11it/s]\n"
     ]
    },
    {
     "name": "stdout",
     "output_type": "stream",
     "text": [
      "Generated:  [{'type': 'pitch', 'value': 8}, {'type': 'velocity', 'value': 19}, {'type': 'pitch', 'value': 20}, {'type': 'velocity', 'value': 19}, {'type': 'pitch', 'value': 39}, {'type': 'velocity', 'value': 20}, 'next_frame', 'next_frame', 'next_frame', 'next_frame']\n",
      "Chords:  ['None', 'None', 'None', 'None', 'A_m', 'A_m', 'A_m', 'A_m', 'G_M', 'G_M', 'G_M', 'G_M', 'F_M7', 'F_M7', 'F_M', 'F_M', 'C_M', 'C_M', 'A_m7', 'A_m7', 'None', 'None', 'None', 'None', 'None', 'None', 'None', 'None', 'E_m', 'E_m', 'A_m7', 'A_m7']\n"
     ]
    },
    {
     "name": "stderr",
     "output_type": "stream",
     "text": [
      "100%|██████████| 792/792 [02:58<00:00,  4.43it/s, batch=790, gpu_temp=55, loss={'chord': tensor(1.4306, device='cuda:0', grad_fn=<NllLossBackward0>), 'velocity': tensor(2.0131, device='cuda:0', grad_fn=<NllLossBackward0>), 'polyphony': tensor(1.3168, device='cuda:0', grad_fn=<NllLossBackward0>), 'density': tensor(1.6763, device='cuda:0', grad_fn=<NllLossBackward0>), 'piano_roll': tensor(1.0580, device='cuda:0', grad_fn=<NllLoss2DBackward0>), 'total': tensor(7.4947, device='cuda:0', grad_fn=<AddBackward0>)}]\n",
      "100%|██████████| 16/16 [00:07<00:00,  2.12it/s]\n"
     ]
    },
    {
     "name": "stdout",
     "output_type": "stream",
     "text": [
      "Generated:  ['next_frame', 'next_frame', 'next_frame', 'next_frame', 'next_frame', 'next_frame', 'next_frame', 'next_frame', 'next_frame', 'next_frame']\n",
      "Chords:  ['A_m', 'A_m', 'F_M7', 'F_M7', 'D_m7', 'D_m7', 'D_m7', 'D_m7', 'D_o', 'D_o', 'F_m', 'F_m', 'A_m', 'A_m', 'F_M7', 'F_M7', 'A_M', 'A_M', 'A_sus2', 'A_sus2', 'None', 'None', 'None', 'None', 'None', 'None', 'None', 'None', 'A_m', 'A_m', 'A_m', 'A_m']\n"
     ]
    },
    {
     "name": "stderr",
     "output_type": "stream",
     "text": [
      "100%|██████████| 792/792 [03:00<00:00,  4.39it/s, batch=790, gpu_temp=55, loss={'chord': tensor(1.5962, device='cuda:0', grad_fn=<NllLossBackward0>), 'velocity': tensor(1.9489, device='cuda:0', grad_fn=<NllLossBackward0>), 'polyphony': tensor(1.4859, device='cuda:0', grad_fn=<NllLossBackward0>), 'density': tensor(2.0178, device='cuda:0', grad_fn=<NllLossBackward0>), 'piano_roll': tensor(1.1001, device='cuda:0', grad_fn=<NllLoss2DBackward0>), 'total': tensor(8.1490, device='cuda:0', grad_fn=<AddBackward0>)}]\n",
      "100%|██████████| 16/16 [00:07<00:00,  2.18it/s]\n"
     ]
    },
    {
     "name": "stdout",
     "output_type": "stream",
     "text": [
      "Generated:  [{'type': 'pitch', 'value': 12}, {'type': 'velocity', 'value': 19}, {'type': 'pitch', 'value': 24}, {'type': 'velocity', 'value': 19}, {'type': 'pitch', 'value': 43}, {'type': 'velocity', 'value': 21}, 'next_frame', 'next_frame', 'next_frame', 'next_frame']\n",
      "Chords:  ['None', 'None', 'D_m7', 'D_m7', 'C_M', 'C_M', 'C_M7', 'C_M7', 'C_M', 'C_M', 'C_M7', 'C_M7', 'F_M7', 'F_M7', 'F_M7', 'F_M7', 'G_M', 'G_M', 'C_M7', 'C_M7', 'A_m7', 'A_m7', 'A_m7', 'A_m7', 'F_M', 'F_M', 'C_M7', 'C_M7', 'F_M', 'F_M', 'G_M', 'G_M']\n"
     ]
    },
    {
     "name": "stderr",
     "output_type": "stream",
     "text": [
      "100%|██████████| 792/792 [02:59<00:00,  4.42it/s, batch=790, gpu_temp=60, loss={'chord': tensor(1.8681, device='cuda:0', grad_fn=<NllLossBackward0>), 'velocity': tensor(1.6473, device='cuda:0', grad_fn=<NllLossBackward0>), 'polyphony': tensor(1.7834, device='cuda:0', grad_fn=<NllLossBackward0>), 'density': tensor(1.6485, device='cuda:0', grad_fn=<NllLossBackward0>), 'piano_roll': tensor(1.1582, device='cuda:0', grad_fn=<NllLoss2DBackward0>), 'total': tensor(8.1054, device='cuda:0', grad_fn=<AddBackward0>)}]\n",
      "100%|██████████| 16/16 [00:08<00:00,  1.84it/s]\n"
     ]
    },
    {
     "name": "stdout",
     "output_type": "stream",
     "text": [
      "Generated:  ['next_frame', 'next_frame', 'next_frame', 'next_frame', 'next_frame', 'next_frame', 'next_frame', 'next_frame', 'next_frame', 'next_frame']\n",
      "Chords:  ['C_M', 'C_M', 'C_M', 'C_M', 'D_M', 'D_M', 'D_sus2', 'A_m7', 'D_m', 'D_m', 'D_m', 'D_m', 'None', 'None', 'G_M', 'G_M', 'D_m7', 'D_m7', 'E_m7', 'E_m7', 'G_sus2', 'G_sus2', 'F_M', 'F_M', 'A_M', 'A_M', 'A_m', 'A_m', 'F_M7', 'F_M7', 'F_M7', 'F_M7']\n"
     ]
    },
    {
     "name": "stderr",
     "output_type": "stream",
     "text": [
      "100%|██████████| 792/792 [02:57<00:00,  4.47it/s, batch=790, gpu_temp=60, loss={'chord': tensor(1.5981, device='cuda:0', grad_fn=<NllLossBackward0>), 'velocity': tensor(1.9919, device='cuda:0', grad_fn=<NllLossBackward0>), 'polyphony': tensor(1.2613, device='cuda:0', grad_fn=<NllLossBackward0>), 'density': tensor(1.4422, device='cuda:0', grad_fn=<NllLossBackward0>), 'piano_roll': tensor(1.0313, device='cuda:0', grad_fn=<NllLoss2DBackward0>), 'total': tensor(7.3248, device='cuda:0', grad_fn=<AddBackward0>)}]\n",
      "100%|██████████| 16/16 [00:07<00:00,  2.14it/s]\n"
     ]
    },
    {
     "name": "stdout",
     "output_type": "stream",
     "text": [
      "Generated:  ['next_frame', 'next_frame', 'next_frame', 'next_frame', 'next_frame', 'next_frame', 'next_frame', 'next_frame', 'next_frame', 'next_frame']\n",
      "Chords:  ['None', 'None', 'E_m7', 'E_m7', 'C_M', 'C_M', 'C_M', 'C_M', 'C_M7', 'C_M7', 'A_m7', 'A_m7', 'F_M7', 'F_M7', 'F_M7', 'F_M7', 'A_m', 'A_m', 'A_m', 'A_m', 'A_m', 'A_m', 'A_m', 'A_m', 'F_M', 'F_M', 'F_M', 'F_M', 'G_M', 'G_M', 'A_m', 'A_m']\n"
     ]
    },
    {
     "name": "stderr",
     "output_type": "stream",
     "text": [
      " 90%|████████▉ | 712/792 [02:44<00:18,  4.33it/s, batch=710, gpu_temp=61, loss={'chord': tensor(1.9212, device='cuda:0', grad_fn=<NllLossBackward0>), 'velocity': tensor(2.1938, device='cuda:0', grad_fn=<NllLossBackward0>), 'polyphony': tensor(1.2860, device='cuda:0', grad_fn=<NllLossBackward0>), 'density': tensor(1.7426, device='cuda:0', grad_fn=<NllLossBackward0>), 'piano_roll': tensor(1.0558, device='cuda:0', grad_fn=<NllLoss2DBackward0>), 'total': tensor(8.1994, device='cuda:0', grad_fn=<AddBackward0>)}]\n"
     ]
    },
    {
     "ename": "KeyboardInterrupt",
     "evalue": "",
     "output_type": "error",
     "traceback": [
      "\u001b[1;31m---------------------------------------------------------------------------\u001b[0m",
      "\u001b[1;31mKeyboardInterrupt\u001b[0m                         Traceback (most recent call last)",
      "Cell \u001b[1;32mIn[6], line 17\u001b[0m\n\u001b[0;32m     15\u001b[0m batch \u001b[38;5;241m=\u001b[39m move_to_device(batch)\n\u001b[0;32m     16\u001b[0m \u001b[38;5;28;01massert\u001b[39;00m \u001b[38;5;28misinstance\u001b[39m(batch, \u001b[38;5;28mdict\u001b[39m)\n\u001b[1;32m---> 17\u001b[0m loss \u001b[38;5;241m=\u001b[39m \u001b[43mmodel\u001b[49m\u001b[38;5;241;43m.\u001b[39;49m\u001b[43mcalculate_loss\u001b[49m\u001b[43m(\u001b[49m\u001b[43mbatch\u001b[49m\u001b[43m)\u001b[49m\n\u001b[0;32m     18\u001b[0m loss[\u001b[38;5;124m'\u001b[39m\u001b[38;5;124mtotal\u001b[39m\u001b[38;5;124m'\u001b[39m]\u001b[38;5;241m.\u001b[39mbackward()\n\u001b[0;32m     20\u001b[0m \u001b[38;5;28;01mif\u001b[39;00m (i\u001b[38;5;241m+\u001b[39m\u001b[38;5;241m1\u001b[39m) \u001b[38;5;241m%\u001b[39m gradient_accumulation_steps \u001b[38;5;241m==\u001b[39m \u001b[38;5;241m0\u001b[39m:\n",
      "File \u001b[1;32mw:\\music\\piano-music-gen\\pianogen\\model\\with_feature.py:668\u001b[0m, in \u001b[0;36mCake.calculate_loss\u001b[1;34m(self, gt_feature)\u001b[0m\n\u001b[0;32m    664\u001b[0m     gt_feature_merged[feature_name] \u001b[38;5;241m=\u001b[39m feature_data_merged\n\u001b[0;32m    666\u001b[0m     \u001b[38;5;66;03m# feature_data_merged: [B*L, ...] or Dict[str, Tensor]: [B*L, ...]\u001b[39;00m\n\u001b[1;32m--> 668\u001b[0m     all_feature_embeds[feature_name] \u001b[38;5;241m=\u001b[39m \u001b[38;5;28;43mself\u001b[39;49m\u001b[38;5;241;43m.\u001b[39;49m\u001b[43mfeatures\u001b[49m\u001b[43m[\u001b[49m\u001b[43mfeature_name\u001b[49m\u001b[43m]\u001b[49m\u001b[38;5;241;43m.\u001b[39;49m\u001b[43membed\u001b[49m\u001b[43m(\u001b[49m\u001b[43mfeature_data_merged\u001b[49m\u001b[43m)\u001b[49m\u001b[38;5;241m.\u001b[39mview(B, L, \u001b[38;5;241m-\u001b[39m\u001b[38;5;241m1\u001b[39m) \u001b[38;5;66;03m# [B, L, D]\u001b[39;00m\n\u001b[0;32m    670\u001b[0m all_feature_embeds_cat \u001b[38;5;241m=\u001b[39m torch\u001b[38;5;241m.\u001b[39mcat([all_feature_embeds[key] \u001b[38;5;28;01mfor\u001b[39;00m key \u001b[38;5;129;01min\u001b[39;00m all_feature_embeds], dim\u001b[38;5;241m=\u001b[39m\u001b[38;5;241m2\u001b[39m) \u001b[38;5;66;03m# [B, L, D]\u001b[39;00m\n\u001b[0;32m    671\u001b[0m a0 \u001b[38;5;241m=\u001b[39m \u001b[38;5;28mself\u001b[39m\u001b[38;5;241m.\u001b[39mstem(all_feature_embeds_cat) \u001b[38;5;66;03m# [B, L, a0_size]\u001b[39;00m\n",
      "File \u001b[1;32mw:\\music\\piano-music-gen\\pianogen\\model\\with_feature.py:537\u001b[0m, in \u001b[0;36mPianoRollFeature.embed\u001b[1;34m(self, gt)\u001b[0m\n\u001b[0;32m    534\u001b[0m is_out[:,\u001b[38;5;241m0\u001b[39m:\u001b[38;5;241m1\u001b[39m] \u001b[38;5;241m=\u001b[39m \u001b[38;5;241m1\u001b[39m\n\u001b[0;32m    535\u001b[0m x \u001b[38;5;241m=\u001b[39m torch\u001b[38;5;241m.\u001b[39mcat([is_out, x], dim\u001b[38;5;241m=\u001b[39m\u001b[38;5;241m-\u001b[39m\u001b[38;5;241m1\u001b[39m) \u001b[38;5;66;03m# B, L, D\u001b[39;00m\n\u001b[1;32m--> 537\u001b[0m x \u001b[38;5;241m=\u001b[39m \u001b[38;5;28;43mself\u001b[39;49m\u001b[38;5;241;43m.\u001b[39;49m\u001b[43membed_transformer\u001b[49m\u001b[43m(\u001b[49m\u001b[43mx\u001b[49m\u001b[43m)\u001b[49m\n\u001b[0;32m    539\u001b[0m x \u001b[38;5;241m=\u001b[39m \u001b[38;5;28mself\u001b[39m\u001b[38;5;241m.\u001b[39membed_output_layer(x) \u001b[38;5;66;03m# B, L, out\u001b[39;00m\n\u001b[0;32m    541\u001b[0m \u001b[38;5;66;03m# retrieve the first token (the out token)\u001b[39;00m\n",
      "File \u001b[1;32mc:\\Users\\User\\miniconda3\\envs\\gr\\Lib\\site-packages\\torch\\nn\\modules\\module.py:1532\u001b[0m, in \u001b[0;36mModule._wrapped_call_impl\u001b[1;34m(self, *args, **kwargs)\u001b[0m\n\u001b[0;32m   1530\u001b[0m     \u001b[38;5;28;01mreturn\u001b[39;00m \u001b[38;5;28mself\u001b[39m\u001b[38;5;241m.\u001b[39m_compiled_call_impl(\u001b[38;5;241m*\u001b[39margs, \u001b[38;5;241m*\u001b[39m\u001b[38;5;241m*\u001b[39mkwargs)  \u001b[38;5;66;03m# type: ignore[misc]\u001b[39;00m\n\u001b[0;32m   1531\u001b[0m \u001b[38;5;28;01melse\u001b[39;00m:\n\u001b[1;32m-> 1532\u001b[0m     \u001b[38;5;28;01mreturn\u001b[39;00m \u001b[38;5;28;43mself\u001b[39;49m\u001b[38;5;241;43m.\u001b[39;49m\u001b[43m_call_impl\u001b[49m\u001b[43m(\u001b[49m\u001b[38;5;241;43m*\u001b[39;49m\u001b[43margs\u001b[49m\u001b[43m,\u001b[49m\u001b[43m \u001b[49m\u001b[38;5;241;43m*\u001b[39;49m\u001b[38;5;241;43m*\u001b[39;49m\u001b[43mkwargs\u001b[49m\u001b[43m)\u001b[49m\n",
      "File \u001b[1;32mc:\\Users\\User\\miniconda3\\envs\\gr\\Lib\\site-packages\\torch\\nn\\modules\\module.py:1541\u001b[0m, in \u001b[0;36mModule._call_impl\u001b[1;34m(self, *args, **kwargs)\u001b[0m\n\u001b[0;32m   1536\u001b[0m \u001b[38;5;66;03m# If we don't have any hooks, we want to skip the rest of the logic in\u001b[39;00m\n\u001b[0;32m   1537\u001b[0m \u001b[38;5;66;03m# this function, and just call forward.\u001b[39;00m\n\u001b[0;32m   1538\u001b[0m \u001b[38;5;28;01mif\u001b[39;00m \u001b[38;5;129;01mnot\u001b[39;00m (\u001b[38;5;28mself\u001b[39m\u001b[38;5;241m.\u001b[39m_backward_hooks \u001b[38;5;129;01mor\u001b[39;00m \u001b[38;5;28mself\u001b[39m\u001b[38;5;241m.\u001b[39m_backward_pre_hooks \u001b[38;5;129;01mor\u001b[39;00m \u001b[38;5;28mself\u001b[39m\u001b[38;5;241m.\u001b[39m_forward_hooks \u001b[38;5;129;01mor\u001b[39;00m \u001b[38;5;28mself\u001b[39m\u001b[38;5;241m.\u001b[39m_forward_pre_hooks\n\u001b[0;32m   1539\u001b[0m         \u001b[38;5;129;01mor\u001b[39;00m _global_backward_pre_hooks \u001b[38;5;129;01mor\u001b[39;00m _global_backward_hooks\n\u001b[0;32m   1540\u001b[0m         \u001b[38;5;129;01mor\u001b[39;00m _global_forward_hooks \u001b[38;5;129;01mor\u001b[39;00m _global_forward_pre_hooks):\n\u001b[1;32m-> 1541\u001b[0m     \u001b[38;5;28;01mreturn\u001b[39;00m \u001b[43mforward_call\u001b[49m\u001b[43m(\u001b[49m\u001b[38;5;241;43m*\u001b[39;49m\u001b[43margs\u001b[49m\u001b[43m,\u001b[49m\u001b[43m \u001b[49m\u001b[38;5;241;43m*\u001b[39;49m\u001b[38;5;241;43m*\u001b[39;49m\u001b[43mkwargs\u001b[49m\u001b[43m)\u001b[49m\n\u001b[0;32m   1543\u001b[0m \u001b[38;5;28;01mtry\u001b[39;00m:\n\u001b[0;32m   1544\u001b[0m     result \u001b[38;5;241m=\u001b[39m \u001b[38;5;28;01mNone\u001b[39;00m\n",
      "File \u001b[1;32mc:\\Users\\User\\miniconda3\\envs\\gr\\Lib\\site-packages\\torch\\nn\\modules\\transformer.py:415\u001b[0m, in \u001b[0;36mTransformerEncoder.forward\u001b[1;34m(self, src, mask, src_key_padding_mask, is_causal)\u001b[0m\n\u001b[0;32m    412\u001b[0m is_causal \u001b[38;5;241m=\u001b[39m _detect_is_causal_mask(mask, is_causal, seq_len)\n\u001b[0;32m    414\u001b[0m \u001b[38;5;28;01mfor\u001b[39;00m mod \u001b[38;5;129;01min\u001b[39;00m \u001b[38;5;28mself\u001b[39m\u001b[38;5;241m.\u001b[39mlayers:\n\u001b[1;32m--> 415\u001b[0m     output \u001b[38;5;241m=\u001b[39m \u001b[43mmod\u001b[49m\u001b[43m(\u001b[49m\u001b[43moutput\u001b[49m\u001b[43m,\u001b[49m\u001b[43m \u001b[49m\u001b[43msrc_mask\u001b[49m\u001b[38;5;241;43m=\u001b[39;49m\u001b[43mmask\u001b[49m\u001b[43m,\u001b[49m\u001b[43m \u001b[49m\u001b[43mis_causal\u001b[49m\u001b[38;5;241;43m=\u001b[39;49m\u001b[43mis_causal\u001b[49m\u001b[43m,\u001b[49m\u001b[43m \u001b[49m\u001b[43msrc_key_padding_mask\u001b[49m\u001b[38;5;241;43m=\u001b[39;49m\u001b[43msrc_key_padding_mask_for_layers\u001b[49m\u001b[43m)\u001b[49m\n\u001b[0;32m    417\u001b[0m \u001b[38;5;28;01mif\u001b[39;00m convert_to_nested:\n\u001b[0;32m    418\u001b[0m     output \u001b[38;5;241m=\u001b[39m output\u001b[38;5;241m.\u001b[39mto_padded_tensor(\u001b[38;5;241m0.\u001b[39m, src\u001b[38;5;241m.\u001b[39msize())\n",
      "File \u001b[1;32mc:\\Users\\User\\miniconda3\\envs\\gr\\Lib\\site-packages\\torch\\nn\\modules\\module.py:1532\u001b[0m, in \u001b[0;36mModule._wrapped_call_impl\u001b[1;34m(self, *args, **kwargs)\u001b[0m\n\u001b[0;32m   1530\u001b[0m     \u001b[38;5;28;01mreturn\u001b[39;00m \u001b[38;5;28mself\u001b[39m\u001b[38;5;241m.\u001b[39m_compiled_call_impl(\u001b[38;5;241m*\u001b[39margs, \u001b[38;5;241m*\u001b[39m\u001b[38;5;241m*\u001b[39mkwargs)  \u001b[38;5;66;03m# type: ignore[misc]\u001b[39;00m\n\u001b[0;32m   1531\u001b[0m \u001b[38;5;28;01melse\u001b[39;00m:\n\u001b[1;32m-> 1532\u001b[0m     \u001b[38;5;28;01mreturn\u001b[39;00m \u001b[38;5;28;43mself\u001b[39;49m\u001b[38;5;241;43m.\u001b[39;49m\u001b[43m_call_impl\u001b[49m\u001b[43m(\u001b[49m\u001b[38;5;241;43m*\u001b[39;49m\u001b[43margs\u001b[49m\u001b[43m,\u001b[49m\u001b[43m \u001b[49m\u001b[38;5;241;43m*\u001b[39;49m\u001b[38;5;241;43m*\u001b[39;49m\u001b[43mkwargs\u001b[49m\u001b[43m)\u001b[49m\n",
      "File \u001b[1;32mc:\\Users\\User\\miniconda3\\envs\\gr\\Lib\\site-packages\\torch\\nn\\modules\\module.py:1541\u001b[0m, in \u001b[0;36mModule._call_impl\u001b[1;34m(self, *args, **kwargs)\u001b[0m\n\u001b[0;32m   1536\u001b[0m \u001b[38;5;66;03m# If we don't have any hooks, we want to skip the rest of the logic in\u001b[39;00m\n\u001b[0;32m   1537\u001b[0m \u001b[38;5;66;03m# this function, and just call forward.\u001b[39;00m\n\u001b[0;32m   1538\u001b[0m \u001b[38;5;28;01mif\u001b[39;00m \u001b[38;5;129;01mnot\u001b[39;00m (\u001b[38;5;28mself\u001b[39m\u001b[38;5;241m.\u001b[39m_backward_hooks \u001b[38;5;129;01mor\u001b[39;00m \u001b[38;5;28mself\u001b[39m\u001b[38;5;241m.\u001b[39m_backward_pre_hooks \u001b[38;5;129;01mor\u001b[39;00m \u001b[38;5;28mself\u001b[39m\u001b[38;5;241m.\u001b[39m_forward_hooks \u001b[38;5;129;01mor\u001b[39;00m \u001b[38;5;28mself\u001b[39m\u001b[38;5;241m.\u001b[39m_forward_pre_hooks\n\u001b[0;32m   1539\u001b[0m         \u001b[38;5;129;01mor\u001b[39;00m _global_backward_pre_hooks \u001b[38;5;129;01mor\u001b[39;00m _global_backward_hooks\n\u001b[0;32m   1540\u001b[0m         \u001b[38;5;129;01mor\u001b[39;00m _global_forward_hooks \u001b[38;5;129;01mor\u001b[39;00m _global_forward_pre_hooks):\n\u001b[1;32m-> 1541\u001b[0m     \u001b[38;5;28;01mreturn\u001b[39;00m \u001b[43mforward_call\u001b[49m\u001b[43m(\u001b[49m\u001b[38;5;241;43m*\u001b[39;49m\u001b[43margs\u001b[49m\u001b[43m,\u001b[49m\u001b[43m \u001b[49m\u001b[38;5;241;43m*\u001b[39;49m\u001b[38;5;241;43m*\u001b[39;49m\u001b[43mkwargs\u001b[49m\u001b[43m)\u001b[49m\n\u001b[0;32m   1543\u001b[0m \u001b[38;5;28;01mtry\u001b[39;00m:\n\u001b[0;32m   1544\u001b[0m     result \u001b[38;5;241m=\u001b[39m \u001b[38;5;28;01mNone\u001b[39;00m\n",
      "File \u001b[1;32mc:\\Users\\User\\miniconda3\\envs\\gr\\Lib\\site-packages\\torch\\nn\\modules\\transformer.py:749\u001b[0m, in \u001b[0;36mTransformerEncoderLayer.forward\u001b[1;34m(self, src, src_mask, src_key_padding_mask, is_causal)\u001b[0m\n\u001b[0;32m    747\u001b[0m     x \u001b[38;5;241m=\u001b[39m x \u001b[38;5;241m+\u001b[39m \u001b[38;5;28mself\u001b[39m\u001b[38;5;241m.\u001b[39m_ff_block(\u001b[38;5;28mself\u001b[39m\u001b[38;5;241m.\u001b[39mnorm2(x))\n\u001b[0;32m    748\u001b[0m \u001b[38;5;28;01melse\u001b[39;00m:\n\u001b[1;32m--> 749\u001b[0m     x \u001b[38;5;241m=\u001b[39m \u001b[38;5;28mself\u001b[39m\u001b[38;5;241m.\u001b[39mnorm1(x \u001b[38;5;241m+\u001b[39m \u001b[38;5;28;43mself\u001b[39;49m\u001b[38;5;241;43m.\u001b[39;49m\u001b[43m_sa_block\u001b[49m\u001b[43m(\u001b[49m\u001b[43mx\u001b[49m\u001b[43m,\u001b[49m\u001b[43m \u001b[49m\u001b[43msrc_mask\u001b[49m\u001b[43m,\u001b[49m\u001b[43m \u001b[49m\u001b[43msrc_key_padding_mask\u001b[49m\u001b[43m,\u001b[49m\u001b[43m \u001b[49m\u001b[43mis_causal\u001b[49m\u001b[38;5;241;43m=\u001b[39;49m\u001b[43mis_causal\u001b[49m\u001b[43m)\u001b[49m)\n\u001b[0;32m    750\u001b[0m     x \u001b[38;5;241m=\u001b[39m \u001b[38;5;28mself\u001b[39m\u001b[38;5;241m.\u001b[39mnorm2(x \u001b[38;5;241m+\u001b[39m \u001b[38;5;28mself\u001b[39m\u001b[38;5;241m.\u001b[39m_ff_block(x))\n\u001b[0;32m    752\u001b[0m \u001b[38;5;28;01mreturn\u001b[39;00m x\n",
      "File \u001b[1;32mc:\\Users\\User\\miniconda3\\envs\\gr\\Lib\\site-packages\\torch\\nn\\modules\\transformer.py:757\u001b[0m, in \u001b[0;36mTransformerEncoderLayer._sa_block\u001b[1;34m(self, x, attn_mask, key_padding_mask, is_causal)\u001b[0m\n\u001b[0;32m    755\u001b[0m \u001b[38;5;28;01mdef\u001b[39;00m \u001b[38;5;21m_sa_block\u001b[39m(\u001b[38;5;28mself\u001b[39m, x: Tensor,\n\u001b[0;32m    756\u001b[0m               attn_mask: Optional[Tensor], key_padding_mask: Optional[Tensor], is_causal: \u001b[38;5;28mbool\u001b[39m \u001b[38;5;241m=\u001b[39m \u001b[38;5;28;01mFalse\u001b[39;00m) \u001b[38;5;241m-\u001b[39m\u001b[38;5;241m>\u001b[39m Tensor:\n\u001b[1;32m--> 757\u001b[0m     x \u001b[38;5;241m=\u001b[39m \u001b[38;5;28;43mself\u001b[39;49m\u001b[38;5;241;43m.\u001b[39;49m\u001b[43mself_attn\u001b[49m\u001b[43m(\u001b[49m\u001b[43mx\u001b[49m\u001b[43m,\u001b[49m\u001b[43m \u001b[49m\u001b[43mx\u001b[49m\u001b[43m,\u001b[49m\u001b[43m \u001b[49m\u001b[43mx\u001b[49m\u001b[43m,\u001b[49m\n\u001b[0;32m    758\u001b[0m \u001b[43m                       \u001b[49m\u001b[43mattn_mask\u001b[49m\u001b[38;5;241;43m=\u001b[39;49m\u001b[43mattn_mask\u001b[49m\u001b[43m,\u001b[49m\n\u001b[0;32m    759\u001b[0m \u001b[43m                       \u001b[49m\u001b[43mkey_padding_mask\u001b[49m\u001b[38;5;241;43m=\u001b[39;49m\u001b[43mkey_padding_mask\u001b[49m\u001b[43m,\u001b[49m\n\u001b[0;32m    760\u001b[0m \u001b[43m                       \u001b[49m\u001b[43mneed_weights\u001b[49m\u001b[38;5;241;43m=\u001b[39;49m\u001b[38;5;28;43;01mFalse\u001b[39;49;00m\u001b[43m,\u001b[49m\u001b[43m \u001b[49m\u001b[43mis_causal\u001b[49m\u001b[38;5;241;43m=\u001b[39;49m\u001b[43mis_causal\u001b[49m\u001b[43m)\u001b[49m[\u001b[38;5;241m0\u001b[39m]\n\u001b[0;32m    761\u001b[0m     \u001b[38;5;28;01mreturn\u001b[39;00m \u001b[38;5;28mself\u001b[39m\u001b[38;5;241m.\u001b[39mdropout1(x)\n",
      "File \u001b[1;32mc:\\Users\\User\\miniconda3\\envs\\gr\\Lib\\site-packages\\torch\\nn\\modules\\module.py:1532\u001b[0m, in \u001b[0;36mModule._wrapped_call_impl\u001b[1;34m(self, *args, **kwargs)\u001b[0m\n\u001b[0;32m   1530\u001b[0m     \u001b[38;5;28;01mreturn\u001b[39;00m \u001b[38;5;28mself\u001b[39m\u001b[38;5;241m.\u001b[39m_compiled_call_impl(\u001b[38;5;241m*\u001b[39margs, \u001b[38;5;241m*\u001b[39m\u001b[38;5;241m*\u001b[39mkwargs)  \u001b[38;5;66;03m# type: ignore[misc]\u001b[39;00m\n\u001b[0;32m   1531\u001b[0m \u001b[38;5;28;01melse\u001b[39;00m:\n\u001b[1;32m-> 1532\u001b[0m     \u001b[38;5;28;01mreturn\u001b[39;00m \u001b[38;5;28;43mself\u001b[39;49m\u001b[38;5;241;43m.\u001b[39;49m\u001b[43m_call_impl\u001b[49m\u001b[43m(\u001b[49m\u001b[38;5;241;43m*\u001b[39;49m\u001b[43margs\u001b[49m\u001b[43m,\u001b[49m\u001b[43m \u001b[49m\u001b[38;5;241;43m*\u001b[39;49m\u001b[38;5;241;43m*\u001b[39;49m\u001b[43mkwargs\u001b[49m\u001b[43m)\u001b[49m\n",
      "File \u001b[1;32mc:\\Users\\User\\miniconda3\\envs\\gr\\Lib\\site-packages\\torch\\nn\\modules\\module.py:1541\u001b[0m, in \u001b[0;36mModule._call_impl\u001b[1;34m(self, *args, **kwargs)\u001b[0m\n\u001b[0;32m   1536\u001b[0m \u001b[38;5;66;03m# If we don't have any hooks, we want to skip the rest of the logic in\u001b[39;00m\n\u001b[0;32m   1537\u001b[0m \u001b[38;5;66;03m# this function, and just call forward.\u001b[39;00m\n\u001b[0;32m   1538\u001b[0m \u001b[38;5;28;01mif\u001b[39;00m \u001b[38;5;129;01mnot\u001b[39;00m (\u001b[38;5;28mself\u001b[39m\u001b[38;5;241m.\u001b[39m_backward_hooks \u001b[38;5;129;01mor\u001b[39;00m \u001b[38;5;28mself\u001b[39m\u001b[38;5;241m.\u001b[39m_backward_pre_hooks \u001b[38;5;129;01mor\u001b[39;00m \u001b[38;5;28mself\u001b[39m\u001b[38;5;241m.\u001b[39m_forward_hooks \u001b[38;5;129;01mor\u001b[39;00m \u001b[38;5;28mself\u001b[39m\u001b[38;5;241m.\u001b[39m_forward_pre_hooks\n\u001b[0;32m   1539\u001b[0m         \u001b[38;5;129;01mor\u001b[39;00m _global_backward_pre_hooks \u001b[38;5;129;01mor\u001b[39;00m _global_backward_hooks\n\u001b[0;32m   1540\u001b[0m         \u001b[38;5;129;01mor\u001b[39;00m _global_forward_hooks \u001b[38;5;129;01mor\u001b[39;00m _global_forward_pre_hooks):\n\u001b[1;32m-> 1541\u001b[0m     \u001b[38;5;28;01mreturn\u001b[39;00m \u001b[43mforward_call\u001b[49m\u001b[43m(\u001b[49m\u001b[38;5;241;43m*\u001b[39;49m\u001b[43margs\u001b[49m\u001b[43m,\u001b[49m\u001b[43m \u001b[49m\u001b[38;5;241;43m*\u001b[39;49m\u001b[38;5;241;43m*\u001b[39;49m\u001b[43mkwargs\u001b[49m\u001b[43m)\u001b[49m\n\u001b[0;32m   1543\u001b[0m \u001b[38;5;28;01mtry\u001b[39;00m:\n\u001b[0;32m   1544\u001b[0m     result \u001b[38;5;241m=\u001b[39m \u001b[38;5;28;01mNone\u001b[39;00m\n",
      "File \u001b[1;32mc:\\Users\\User\\miniconda3\\envs\\gr\\Lib\\site-packages\\torch\\nn\\modules\\activation.py:1266\u001b[0m, in \u001b[0;36mMultiheadAttention.forward\u001b[1;34m(self, query, key, value, key_padding_mask, need_weights, attn_mask, average_attn_weights, is_causal)\u001b[0m\n\u001b[0;32m   1252\u001b[0m     attn_output, attn_output_weights \u001b[38;5;241m=\u001b[39m F\u001b[38;5;241m.\u001b[39mmulti_head_attention_forward(\n\u001b[0;32m   1253\u001b[0m         query, key, value, \u001b[38;5;28mself\u001b[39m\u001b[38;5;241m.\u001b[39membed_dim, \u001b[38;5;28mself\u001b[39m\u001b[38;5;241m.\u001b[39mnum_heads,\n\u001b[0;32m   1254\u001b[0m         \u001b[38;5;28mself\u001b[39m\u001b[38;5;241m.\u001b[39min_proj_weight, \u001b[38;5;28mself\u001b[39m\u001b[38;5;241m.\u001b[39min_proj_bias,\n\u001b[1;32m   (...)\u001b[0m\n\u001b[0;32m   1263\u001b[0m         average_attn_weights\u001b[38;5;241m=\u001b[39maverage_attn_weights,\n\u001b[0;32m   1264\u001b[0m         is_causal\u001b[38;5;241m=\u001b[39mis_causal)\n\u001b[0;32m   1265\u001b[0m \u001b[38;5;28;01melse\u001b[39;00m:\n\u001b[1;32m-> 1266\u001b[0m     attn_output, attn_output_weights \u001b[38;5;241m=\u001b[39m \u001b[43mF\u001b[49m\u001b[38;5;241;43m.\u001b[39;49m\u001b[43mmulti_head_attention_forward\u001b[49m\u001b[43m(\u001b[49m\n\u001b[0;32m   1267\u001b[0m \u001b[43m        \u001b[49m\u001b[43mquery\u001b[49m\u001b[43m,\u001b[49m\u001b[43m \u001b[49m\u001b[43mkey\u001b[49m\u001b[43m,\u001b[49m\u001b[43m \u001b[49m\u001b[43mvalue\u001b[49m\u001b[43m,\u001b[49m\u001b[43m \u001b[49m\u001b[38;5;28;43mself\u001b[39;49m\u001b[38;5;241;43m.\u001b[39;49m\u001b[43membed_dim\u001b[49m\u001b[43m,\u001b[49m\u001b[43m \u001b[49m\u001b[38;5;28;43mself\u001b[39;49m\u001b[38;5;241;43m.\u001b[39;49m\u001b[43mnum_heads\u001b[49m\u001b[43m,\u001b[49m\n\u001b[0;32m   1268\u001b[0m \u001b[43m        \u001b[49m\u001b[38;5;28;43mself\u001b[39;49m\u001b[38;5;241;43m.\u001b[39;49m\u001b[43min_proj_weight\u001b[49m\u001b[43m,\u001b[49m\u001b[43m \u001b[49m\u001b[38;5;28;43mself\u001b[39;49m\u001b[38;5;241;43m.\u001b[39;49m\u001b[43min_proj_bias\u001b[49m\u001b[43m,\u001b[49m\n\u001b[0;32m   1269\u001b[0m \u001b[43m        \u001b[49m\u001b[38;5;28;43mself\u001b[39;49m\u001b[38;5;241;43m.\u001b[39;49m\u001b[43mbias_k\u001b[49m\u001b[43m,\u001b[49m\u001b[43m \u001b[49m\u001b[38;5;28;43mself\u001b[39;49m\u001b[38;5;241;43m.\u001b[39;49m\u001b[43mbias_v\u001b[49m\u001b[43m,\u001b[49m\u001b[43m \u001b[49m\u001b[38;5;28;43mself\u001b[39;49m\u001b[38;5;241;43m.\u001b[39;49m\u001b[43madd_zero_attn\u001b[49m\u001b[43m,\u001b[49m\n\u001b[0;32m   1270\u001b[0m \u001b[43m        \u001b[49m\u001b[38;5;28;43mself\u001b[39;49m\u001b[38;5;241;43m.\u001b[39;49m\u001b[43mdropout\u001b[49m\u001b[43m,\u001b[49m\u001b[43m \u001b[49m\u001b[38;5;28;43mself\u001b[39;49m\u001b[38;5;241;43m.\u001b[39;49m\u001b[43mout_proj\u001b[49m\u001b[38;5;241;43m.\u001b[39;49m\u001b[43mweight\u001b[49m\u001b[43m,\u001b[49m\u001b[43m \u001b[49m\u001b[38;5;28;43mself\u001b[39;49m\u001b[38;5;241;43m.\u001b[39;49m\u001b[43mout_proj\u001b[49m\u001b[38;5;241;43m.\u001b[39;49m\u001b[43mbias\u001b[49m\u001b[43m,\u001b[49m\n\u001b[0;32m   1271\u001b[0m \u001b[43m        \u001b[49m\u001b[43mtraining\u001b[49m\u001b[38;5;241;43m=\u001b[39;49m\u001b[38;5;28;43mself\u001b[39;49m\u001b[38;5;241;43m.\u001b[39;49m\u001b[43mtraining\u001b[49m\u001b[43m,\u001b[49m\n\u001b[0;32m   1272\u001b[0m \u001b[43m        \u001b[49m\u001b[43mkey_padding_mask\u001b[49m\u001b[38;5;241;43m=\u001b[39;49m\u001b[43mkey_padding_mask\u001b[49m\u001b[43m,\u001b[49m\n\u001b[0;32m   1273\u001b[0m \u001b[43m        \u001b[49m\u001b[43mneed_weights\u001b[49m\u001b[38;5;241;43m=\u001b[39;49m\u001b[43mneed_weights\u001b[49m\u001b[43m,\u001b[49m\n\u001b[0;32m   1274\u001b[0m \u001b[43m        \u001b[49m\u001b[43mattn_mask\u001b[49m\u001b[38;5;241;43m=\u001b[39;49m\u001b[43mattn_mask\u001b[49m\u001b[43m,\u001b[49m\n\u001b[0;32m   1275\u001b[0m \u001b[43m        \u001b[49m\u001b[43maverage_attn_weights\u001b[49m\u001b[38;5;241;43m=\u001b[39;49m\u001b[43maverage_attn_weights\u001b[49m\u001b[43m,\u001b[49m\n\u001b[0;32m   1276\u001b[0m \u001b[43m        \u001b[49m\u001b[43mis_causal\u001b[49m\u001b[38;5;241;43m=\u001b[39;49m\u001b[43mis_causal\u001b[49m\u001b[43m)\u001b[49m\n\u001b[0;32m   1277\u001b[0m \u001b[38;5;28;01mif\u001b[39;00m \u001b[38;5;28mself\u001b[39m\u001b[38;5;241m.\u001b[39mbatch_first \u001b[38;5;129;01mand\u001b[39;00m is_batched:\n\u001b[0;32m   1278\u001b[0m     \u001b[38;5;28;01mreturn\u001b[39;00m attn_output\u001b[38;5;241m.\u001b[39mtranspose(\u001b[38;5;241m1\u001b[39m, \u001b[38;5;241m0\u001b[39m), attn_output_weights\n",
      "File \u001b[1;32mc:\\Users\\User\\miniconda3\\envs\\gr\\Lib\\site-packages\\torch\\nn\\functional.py:5364\u001b[0m, in \u001b[0;36mmulti_head_attention_forward\u001b[1;34m(query, key, value, embed_dim_to_check, num_heads, in_proj_weight, in_proj_bias, bias_k, bias_v, add_zero_attn, dropout_p, out_proj_weight, out_proj_bias, training, key_padding_mask, need_weights, attn_mask, use_separate_proj_weight, q_proj_weight, k_proj_weight, v_proj_weight, static_k, static_v, average_attn_weights, is_causal)\u001b[0m\n\u001b[0;32m   5362\u001b[0m \u001b[38;5;28;01mif\u001b[39;00m \u001b[38;5;129;01mnot\u001b[39;00m use_separate_proj_weight:\n\u001b[0;32m   5363\u001b[0m     \u001b[38;5;28;01massert\u001b[39;00m in_proj_weight \u001b[38;5;129;01mis\u001b[39;00m \u001b[38;5;129;01mnot\u001b[39;00m \u001b[38;5;28;01mNone\u001b[39;00m, \u001b[38;5;124m\"\u001b[39m\u001b[38;5;124muse_separate_proj_weight is False but in_proj_weight is None\u001b[39m\u001b[38;5;124m\"\u001b[39m\n\u001b[1;32m-> 5364\u001b[0m     q, k, v \u001b[38;5;241m=\u001b[39m \u001b[43m_in_projection_packed\u001b[49m\u001b[43m(\u001b[49m\u001b[43mquery\u001b[49m\u001b[43m,\u001b[49m\u001b[43m \u001b[49m\u001b[43mkey\u001b[49m\u001b[43m,\u001b[49m\u001b[43m \u001b[49m\u001b[43mvalue\u001b[49m\u001b[43m,\u001b[49m\u001b[43m \u001b[49m\u001b[43min_proj_weight\u001b[49m\u001b[43m,\u001b[49m\u001b[43m \u001b[49m\u001b[43min_proj_bias\u001b[49m\u001b[43m)\u001b[49m\n\u001b[0;32m   5365\u001b[0m \u001b[38;5;28;01melse\u001b[39;00m:\n\u001b[0;32m   5366\u001b[0m     \u001b[38;5;28;01massert\u001b[39;00m q_proj_weight \u001b[38;5;129;01mis\u001b[39;00m \u001b[38;5;129;01mnot\u001b[39;00m \u001b[38;5;28;01mNone\u001b[39;00m, \u001b[38;5;124m\"\u001b[39m\u001b[38;5;124muse_separate_proj_weight is True but q_proj_weight is None\u001b[39m\u001b[38;5;124m\"\u001b[39m\n",
      "File \u001b[1;32mc:\\Users\\User\\miniconda3\\envs\\gr\\Lib\\site-packages\\torch\\nn\\functional.py:4884\u001b[0m, in \u001b[0;36m_in_projection_packed\u001b[1;34m(q, k, v, w, b)\u001b[0m\n\u001b[0;32m   4881\u001b[0m \u001b[38;5;28;01mif\u001b[39;00m k \u001b[38;5;129;01mis\u001b[39;00m v:\n\u001b[0;32m   4882\u001b[0m     \u001b[38;5;28;01mif\u001b[39;00m q \u001b[38;5;129;01mis\u001b[39;00m k:\n\u001b[0;32m   4883\u001b[0m         \u001b[38;5;66;03m# self-attention\u001b[39;00m\n\u001b[1;32m-> 4884\u001b[0m         proj \u001b[38;5;241m=\u001b[39m \u001b[43mlinear\u001b[49m\u001b[43m(\u001b[49m\u001b[43mq\u001b[49m\u001b[43m,\u001b[49m\u001b[43m \u001b[49m\u001b[43mw\u001b[49m\u001b[43m,\u001b[49m\u001b[43m \u001b[49m\u001b[43mb\u001b[49m\u001b[43m)\u001b[49m\n\u001b[0;32m   4885\u001b[0m         \u001b[38;5;66;03m# reshape to 3, E and not E, 3 is deliberate for better memory coalescing and keeping same order as chunk()\u001b[39;00m\n\u001b[0;32m   4886\u001b[0m         proj \u001b[38;5;241m=\u001b[39m proj\u001b[38;5;241m.\u001b[39munflatten(\u001b[38;5;241m-\u001b[39m\u001b[38;5;241m1\u001b[39m, (\u001b[38;5;241m3\u001b[39m, E))\u001b[38;5;241m.\u001b[39munsqueeze(\u001b[38;5;241m0\u001b[39m)\u001b[38;5;241m.\u001b[39mtranspose(\u001b[38;5;241m0\u001b[39m, \u001b[38;5;241m-\u001b[39m\u001b[38;5;241m2\u001b[39m)\u001b[38;5;241m.\u001b[39msqueeze(\u001b[38;5;241m-\u001b[39m\u001b[38;5;241m2\u001b[39m)\u001b[38;5;241m.\u001b[39mcontiguous()\n",
      "\u001b[1;31mKeyboardInterrupt\u001b[0m: "
     ]
    }
   ],
   "source": [
    "# train\n",
    "from pianogen import gpu_temp_control\n",
    "from tqdm import tqdm\n",
    "\n",
    "temp_control = gpu_temp_control.GPUTempControl(64,3)\n",
    "\n",
    "model.to(device)\n",
    "\n",
    "model.train()\n",
    "\n",
    "for epoch in range(from_epoch+1,400): \n",
    "    tq = tqdm(dl)\n",
    "    model.train()\n",
    "    for i, batch in enumerate(tq):\n",
    "        batch = move_to_device(batch)\n",
    "        assert isinstance(batch, dict)\n",
    "        loss = model.calculate_loss(batch)\n",
    "        loss['total'].backward()\n",
    "\n",
    "        if (i+1) % gradient_accumulation_steps == 0:\n",
    "            opt.step()\n",
    "            opt.zero_grad()\n",
    "\n",
    "        temp_control.cooldown()\n",
    "\n",
    "        if i % 10 == 0:\n",
    "            # print the loss to tqdm\n",
    "            tq.set_postfix(batch = i, loss= loss, gpu_temp=temp_control.get_temp())\n",
    "        \n",
    "        if torch.isnan(loss['total']):\n",
    "            raise ValueError(\"Loss is NaN\")\n",
    "\n",
    "        # writer.add_scalar('loss', loss.item(), epoch*len(dl)+i)\n",
    "        for k,v in loss.items():\n",
    "            writer.add_scalar(f'loss_{k}', v.item(), epoch*len(dl)+i)\n",
    "        writer.add_scalar('gpu_temp', temp_control.get_temp(), epoch*len(dl)+i)\n",
    "\n",
    "    model.eval()\n",
    "    model.sample_and_save(output_dir/f'output_{epoch}_{i}.mid', 16, 4)\n",
    "\n",
    "    if epoch % 10 == 0:\n",
    "        torch.save({'model':model.state_dict(), 'opt':opt.state_dict()}, checkpoint_dir/f'{epoch}.pt')\n",
    "    "
   ]
  },
  {
   "cell_type": "code",
   "execution_count": 7,
   "metadata": {},
   "outputs": [
    {
     "name": "stderr",
     "output_type": "stream",
     "text": [
      "100%|██████████| 150/150 [01:21<00:00,  1.85it/s]\n"
     ]
    },
    {
     "name": "stdout",
     "output_type": "stream",
     "text": [
      "Generated:  [{'type': 'pitch', 'value': 24}, {'type': 'velocity', 'value': 18}, {'type': 'pitch', 'value': 36}, {'type': 'velocity', 'value': 19}, 'next_frame', 'next_frame', 'next_frame', 'next_frame', {'type': 'pitch', 'value': 43}, {'type': 'velocity', 'value': 19}]\n",
      "Chords:  ['None', 'None', 'A_m', 'A_m', 'A_m', 'A_m', 'A_m7', 'A_m7', 'A_m', 'A_m', 'E_m', 'E_m', 'None', 'None', 'None', 'None', 'C_M', 'C_M', 'G_M', 'G_M', 'A_m', 'A_m', 'A_M', 'E_m', 'D_m7', 'D_m7', 'F_M7', 'F_M7', 'E_m', 'E_m', 'E_m', 'E_m']\n"
     ]
    }
   ],
   "source": [
    "model.eval()\n",
    "tokens = model.sample_and_save(output_dir/'test.mid', 150, 4)"
   ]
  },
  {
   "cell_type": "code",
   "execution_count": 15,
   "metadata": {},
   "outputs": [
    {
     "name": "stdout",
     "output_type": "stream",
     "text": [
      "Applying PianoRollProcessor to dataset C:\\Users\\User\\AppData\\Local\\Temp\\music_data_analysis_1_1_1_1\n"
     ]
    },
    {
     "name": "stderr",
     "output_type": "stream",
     "text": [
      "100%|██████████| 1/1 [00:00<00:00, 153.66it/s]\n"
     ]
    },
    {
     "name": "stdout",
     "output_type": "stream",
     "text": [
      "Applying DurationProcessor to dataset C:\\Users\\User\\AppData\\Local\\Temp\\music_data_analysis_1_1_1_1\n"
     ]
    },
    {
     "name": "stderr",
     "output_type": "stream",
     "text": [
      "100%|██████████| 1/1 [00:00<00:00, 500.27it/s]\n"
     ]
    },
    {
     "name": "stdout",
     "output_type": "stream",
     "text": [
      "Applying PitchProcessor to dataset C:\\Users\\User\\AppData\\Local\\Temp\\music_data_analysis_1_1_1_1\n"
     ]
    },
    {
     "name": "stderr",
     "output_type": "stream",
     "text": [
      "100%|██████████| 1/1 [00:00<00:00, 246.19it/s]\n"
     ]
    },
    {
     "name": "stdout",
     "output_type": "stream",
     "text": [
      "Applying NoteDensityProcessor to dataset C:\\Users\\User\\AppData\\Local\\Temp\\music_data_analysis_1_1_1_1\n"
     ]
    },
    {
     "name": "stderr",
     "output_type": "stream",
     "text": [
      "100%|██████████| 1/1 [00:00<00:00, 499.86it/s]\n"
     ]
    },
    {
     "name": "stdout",
     "output_type": "stream",
     "text": [
      "Applying PolyphonyProcessor to dataset C:\\Users\\User\\AppData\\Local\\Temp\\music_data_analysis_1_1_1_1\n"
     ]
    },
    {
     "name": "stderr",
     "output_type": "stream",
     "text": [
      "100%|██████████| 1/1 [00:00<00:00, 943.39it/s]\n"
     ]
    },
    {
     "name": "stdout",
     "output_type": "stream",
     "text": [
      "Applying VelocityProcessor to dataset C:\\Users\\User\\AppData\\Local\\Temp\\music_data_analysis_1_1_1_1\n"
     ]
    },
    {
     "name": "stderr",
     "output_type": "stream",
     "text": [
      "100%|██████████| 1/1 [00:00<00:00, 999.36it/s]\n"
     ]
    },
    {
     "name": "stdout",
     "output_type": "stream",
     "text": [
      "Applying ChordProcessor to dataset C:\\Users\\User\\AppData\\Local\\Temp\\music_data_analysis_1_1_1_1\n"
     ]
    },
    {
     "name": "stderr",
     "output_type": "stream",
     "text": [
      "100%|██████████| 1/1 [00:00<00:00, 45.38it/s]"
     ]
    },
    {
     "name": "stdout",
     "output_type": "stream",
     "text": [
      "Loaded 1 samples from 1 songs\n"
     ]
    },
    {
     "name": "stderr",
     "output_type": "stream",
     "text": [
      "\n"
     ]
    }
   ],
   "source": [
    "model.eval()\n",
    "test_data = FeatureDataset.from_midi(r'W:\\music\\ai_cowork_trim.mid', loaders=model.get_loaders(), max_duration=32*150)"
   ]
  },
  {
   "cell_type": "code",
   "execution_count": 17,
   "metadata": {},
   "outputs": [
    {
     "name": "stderr",
     "output_type": "stream",
     "text": [
      "100%|██████████| 18/18 [00:09<00:00,  2.00it/s]"
     ]
    },
    {
     "name": "stdout",
     "output_type": "stream",
     "text": [
      "Generated:  [{'type': 'pitch', 'value': 39}, {'type': 'velocity', 'value': 17}, {'type': 'pitch', 'value': 51}, {'type': 'velocity', 'value': 15}, {'type': 'pitch', 'value': 55}, {'type': 'velocity', 'value': 20}, 'next_frame', 'next_frame', 'next_frame', 'next_frame']\n",
      "Chords:  ['C_M7', 'C_M7', 'C_M7', 'C_M7', 'A_m7', 'A_m7', 'A_m7', 'A_m7', 'F_M', 'F_M', 'F_M', 'F_M', 'G_M', 'G_M', 'G_M', 'G_M', 'C_M7', 'C_M7', 'C_M7', 'C_M7', 'A_m7', 'A_m7', 'A_m7', 'A_m7', 'F_M', 'F_M', 'F_M', 'F_M', 'G_M', 'G_M', 'G_M', 'G_M']\n"
     ]
    },
    {
     "name": "stderr",
     "output_type": "stream",
     "text": [
      "\n"
     ]
    },
    {
     "data": {
      "text/plain": [
       "[{'type': 'pitch', 'value': 39},\n",
       " {'type': 'velocity', 'value': 17},\n",
       " {'type': 'pitch', 'value': 51},\n",
       " {'type': 'velocity', 'value': 15},\n",
       " {'type': 'pitch', 'value': 55},\n",
       " {'type': 'velocity', 'value': 20},\n",
       " 'next_frame',\n",
       " 'next_frame',\n",
       " 'next_frame',\n",
       " 'next_frame',\n",
       " {'type': 'pitch', 'value': 46},\n",
       " {'type': 'velocity', 'value': 16},\n",
       " {'type': 'pitch', 'value': 55},\n",
       " {'type': 'velocity', 'value': 20},\n",
       " 'next_frame',\n",
       " 'next_frame',\n",
       " 'next_frame',\n",
       " 'next_frame',\n",
       " {'type': 'pitch', 'value': 51},\n",
       " {'type': 'velocity', 'value': 17},\n",
       " {'type': 'pitch', 'value': 55},\n",
       " {'type': 'velocity', 'value': 19},\n",
       " {'type': 'pitch', 'value': 62},\n",
       " {'type': 'velocity', 'value': 21},\n",
       " 'next_frame',\n",
       " 'next_frame',\n",
       " 'next_frame',\n",
       " 'next_frame',\n",
       " 'next_frame',\n",
       " 'next_frame',\n",
       " 'next_frame',\n",
       " 'next_frame',\n",
       " 'next_frame',\n",
       " 'next_frame',\n",
       " 'next_frame',\n",
       " 'next_frame',\n",
       " 'next_frame',\n",
       " 'next_frame',\n",
       " 'next_frame',\n",
       " 'next_frame',\n",
       " 'next_frame',\n",
       " 'next_frame',\n",
       " 'next_frame',\n",
       " 'next_frame',\n",
       " 'next_frame',\n",
       " 'next_frame',\n",
       " 'next_frame',\n",
       " 'next_frame',\n",
       " 'pad',\n",
       " 'pad',\n",
       " 'pad',\n",
       " 'pad',\n",
       " 'pad',\n",
       " 'pad',\n",
       " 'pad',\n",
       " 'pad',\n",
       " 'pad',\n",
       " 'pad',\n",
       " 'pad',\n",
       " 'pad',\n",
       " 'pad',\n",
       " 'pad',\n",
       " 'pad',\n",
       " 'pad',\n",
       " 'pad',\n",
       " 'pad',\n",
       " 'pad',\n",
       " 'pad',\n",
       " 'pad',\n",
       " 'pad',\n",
       " 'pad',\n",
       " 'pad',\n",
       " 'pad',\n",
       " 'pad',\n",
       " 'pad',\n",
       " 'pad',\n",
       " 'pad',\n",
       " 'pad',\n",
       " 'pad',\n",
       " 'pad',\n",
       " 'pad',\n",
       " 'pad',\n",
       " 'pad',\n",
       " 'pad',\n",
       " 'pad',\n",
       " 'pad',\n",
       " 'pad',\n",
       " 'pad',\n",
       " 'pad',\n",
       " 'pad',\n",
       " 'pad',\n",
       " 'pad',\n",
       " 'pad',\n",
       " 'pad',\n",
       " 'pad',\n",
       " 'pad',\n",
       " 'pad',\n",
       " 'pad',\n",
       " 'pad',\n",
       " 'pad',\n",
       " 'pad',\n",
       " 'pad',\n",
       " 'pad',\n",
       " 'pad',\n",
       " 'pad',\n",
       " 'pad',\n",
       " 'pad',\n",
       " 'pad',\n",
       " 'pad',\n",
       " 'pad',\n",
       " 'pad',\n",
       " 'pad',\n",
       " 'pad',\n",
       " 'pad',\n",
       " 'pad',\n",
       " 'pad',\n",
       " 'pad',\n",
       " 'pad',\n",
       " 'pad',\n",
       " 'pad',\n",
       " 'pad',\n",
       " 'pad',\n",
       " 'pad',\n",
       " 'pad',\n",
       " 'pad',\n",
       " 'pad',\n",
       " 'pad',\n",
       " 'pad',\n",
       " 'pad',\n",
       " 'pad',\n",
       " 'pad',\n",
       " 'pad',\n",
       " 'pad',\n",
       " 'pad',\n",
       " 'pad',\n",
       " 'pad',\n",
       " 'pad',\n",
       " 'pad',\n",
       " 'pad',\n",
       " 'pad',\n",
       " 'pad',\n",
       " 'pad',\n",
       " 'pad',\n",
       " 'pad',\n",
       " 'pad',\n",
       " 'pad',\n",
       " 'pad',\n",
       " 'pad',\n",
       " 'pad',\n",
       " 'pad',\n",
       " {'type': 'pitch', 'value': 36},\n",
       " {'type': 'velocity', 'value': 17},\n",
       " {'type': 'pitch', 'value': 55},\n",
       " {'type': 'velocity', 'value': 18},\n",
       " 'next_frame',\n",
       " 'next_frame',\n",
       " 'next_frame',\n",
       " 'next_frame',\n",
       " {'type': 'pitch', 'value': 43},\n",
       " {'type': 'velocity', 'value': 15},\n",
       " {'type': 'pitch', 'value': 53},\n",
       " {'type': 'velocity', 'value': 19},\n",
       " 'next_frame',\n",
       " 'next_frame',\n",
       " 'next_frame',\n",
       " 'next_frame',\n",
       " {'type': 'pitch', 'value': 46},\n",
       " {'type': 'velocity', 'value': 18},\n",
       " {'type': 'pitch', 'value': 53},\n",
       " {'type': 'velocity', 'value': 19},\n",
       " 'next_frame',\n",
       " 'next_frame',\n",
       " 'next_frame',\n",
       " 'next_frame',\n",
       " {'type': 'pitch', 'value': 51},\n",
       " {'type': 'velocity', 'value': 17},\n",
       " 'next_frame',\n",
       " 'next_frame',\n",
       " 'next_frame',\n",
       " 'next_frame',\n",
       " {'type': 'pitch', 'value': 48},\n",
       " {'type': 'velocity', 'value': 19},\n",
       " {'type': 'pitch', 'value': 51},\n",
       " {'type': 'velocity', 'value': 18},\n",
       " {'type': 'pitch', 'value': 62},\n",
       " {'type': 'velocity', 'value': 21},\n",
       " 'next_frame',\n",
       " 'next_frame',\n",
       " 'next_frame',\n",
       " 'next_frame',\n",
       " {'type': 'pitch', 'value': 63},\n",
       " {'type': 'velocity', 'value': 21},\n",
       " 'next_frame',\n",
       " 'next_frame',\n",
       " 'next_frame',\n",
       " 'next_frame',\n",
       " {'type': 'pitch', 'value': 62},\n",
       " {'type': 'velocity', 'value': 21},\n",
       " 'next_frame',\n",
       " 'next_frame',\n",
       " 'next_frame',\n",
       " 'next_frame',\n",
       " 'next_frame',\n",
       " 'next_frame',\n",
       " 'next_frame',\n",
       " 'next_frame',\n",
       " 'pad',\n",
       " 'pad',\n",
       " 'pad',\n",
       " 'pad',\n",
       " 'pad',\n",
       " 'pad',\n",
       " 'pad',\n",
       " 'pad',\n",
       " 'pad',\n",
       " 'pad',\n",
       " 'pad',\n",
       " 'pad',\n",
       " 'pad',\n",
       " 'pad',\n",
       " 'pad',\n",
       " 'pad',\n",
       " 'pad',\n",
       " 'pad',\n",
       " 'pad',\n",
       " 'pad',\n",
       " 'pad',\n",
       " 'pad',\n",
       " 'pad',\n",
       " 'pad',\n",
       " 'pad',\n",
       " 'pad',\n",
       " 'pad',\n",
       " 'pad',\n",
       " 'pad',\n",
       " 'pad',\n",
       " 'pad',\n",
       " 'pad',\n",
       " 'pad',\n",
       " 'pad',\n",
       " 'pad',\n",
       " 'pad',\n",
       " 'pad',\n",
       " 'pad',\n",
       " 'pad',\n",
       " 'pad',\n",
       " 'pad',\n",
       " 'pad',\n",
       " 'pad',\n",
       " 'pad',\n",
       " 'pad',\n",
       " 'pad',\n",
       " 'pad',\n",
       " 'pad',\n",
       " 'pad',\n",
       " 'pad',\n",
       " 'pad',\n",
       " 'pad',\n",
       " 'pad',\n",
       " 'pad',\n",
       " 'pad',\n",
       " 'pad',\n",
       " 'pad',\n",
       " 'pad',\n",
       " 'pad',\n",
       " 'pad',\n",
       " 'pad',\n",
       " 'pad',\n",
       " 'pad',\n",
       " 'pad',\n",
       " 'pad',\n",
       " 'pad',\n",
       " 'pad',\n",
       " 'pad',\n",
       " 'pad',\n",
       " 'pad',\n",
       " 'pad',\n",
       " 'pad',\n",
       " 'pad',\n",
       " 'pad',\n",
       " 'pad',\n",
       " 'pad',\n",
       " 'pad',\n",
       " 'pad',\n",
       " 'pad',\n",
       " 'pad',\n",
       " 'pad',\n",
       " 'pad',\n",
       " 'pad',\n",
       " 'pad',\n",
       " 'pad',\n",
       " 'pad',\n",
       " 'pad',\n",
       " 'pad',\n",
       " 'pad',\n",
       " 'pad',\n",
       " 'pad',\n",
       " 'pad',\n",
       " 'pad',\n",
       " 'pad',\n",
       " {'type': 'pitch', 'value': 32},\n",
       " {'type': 'velocity', 'value': 18},\n",
       " {'type': 'pitch', 'value': 60},\n",
       " {'type': 'velocity', 'value': 19},\n",
       " 'next_frame',\n",
       " 'next_frame',\n",
       " 'next_frame',\n",
       " 'next_frame',\n",
       " {'type': 'pitch', 'value': 39},\n",
       " {'type': 'velocity', 'value': 17},\n",
       " 'next_frame',\n",
       " 'next_frame',\n",
       " 'next_frame',\n",
       " 'next_frame',\n",
       " {'type': 'pitch', 'value': 44},\n",
       " {'type': 'velocity', 'value': 18},\n",
       " 'next_frame',\n",
       " 'next_frame',\n",
       " 'next_frame',\n",
       " 'next_frame',\n",
       " 'next_frame',\n",
       " 'next_frame',\n",
       " 'next_frame',\n",
       " 'next_frame',\n",
       " {'type': 'pitch', 'value': 48},\n",
       " {'type': 'velocity', 'value': 18},\n",
       " {'type': 'pitch', 'value': 58},\n",
       " {'type': 'velocity', 'value': 19},\n",
       " 'next_frame',\n",
       " 'next_frame',\n",
       " 'next_frame',\n",
       " 'next_frame',\n",
       " 'next_frame',\n",
       " 'next_frame',\n",
       " 'next_frame',\n",
       " 'next_frame',\n",
       " {'type': 'pitch', 'value': 46},\n",
       " {'type': 'velocity', 'value': 17},\n",
       " 'next_frame',\n",
       " 'next_frame',\n",
       " 'next_frame',\n",
       " 'next_frame',\n",
       " 'next_frame',\n",
       " 'next_frame',\n",
       " 'next_frame',\n",
       " 'next_frame',\n",
       " 'pad',\n",
       " 'pad',\n",
       " 'pad',\n",
       " 'pad',\n",
       " 'pad',\n",
       " 'pad',\n",
       " 'pad',\n",
       " 'pad',\n",
       " 'pad',\n",
       " 'pad',\n",
       " 'pad',\n",
       " 'pad',\n",
       " 'pad',\n",
       " 'pad',\n",
       " 'pad',\n",
       " 'pad',\n",
       " 'pad',\n",
       " 'pad',\n",
       " 'pad',\n",
       " 'pad',\n",
       " 'pad',\n",
       " 'pad',\n",
       " 'pad',\n",
       " 'pad',\n",
       " 'pad',\n",
       " 'pad',\n",
       " 'pad',\n",
       " 'pad',\n",
       " 'pad',\n",
       " 'pad',\n",
       " 'pad',\n",
       " 'pad',\n",
       " 'pad',\n",
       " 'pad',\n",
       " 'pad',\n",
       " 'pad',\n",
       " 'pad',\n",
       " 'pad',\n",
       " 'pad',\n",
       " 'pad',\n",
       " 'pad',\n",
       " 'pad',\n",
       " 'pad',\n",
       " 'pad',\n",
       " 'pad',\n",
       " 'pad',\n",
       " 'pad',\n",
       " 'pad',\n",
       " 'pad',\n",
       " 'pad',\n",
       " 'pad',\n",
       " 'pad',\n",
       " 'pad',\n",
       " 'pad',\n",
       " 'pad',\n",
       " 'pad',\n",
       " 'pad',\n",
       " 'pad',\n",
       " 'pad',\n",
       " 'pad',\n",
       " 'pad',\n",
       " 'pad',\n",
       " 'pad',\n",
       " 'pad',\n",
       " 'pad',\n",
       " 'pad',\n",
       " 'pad',\n",
       " 'pad',\n",
       " 'pad',\n",
       " 'pad',\n",
       " 'pad',\n",
       " 'pad',\n",
       " 'pad',\n",
       " 'pad',\n",
       " 'pad',\n",
       " 'pad',\n",
       " 'pad',\n",
       " 'pad',\n",
       " 'pad',\n",
       " 'pad',\n",
       " 'pad',\n",
       " 'pad',\n",
       " 'pad',\n",
       " 'pad',\n",
       " 'pad',\n",
       " 'pad',\n",
       " 'pad',\n",
       " 'pad',\n",
       " 'pad',\n",
       " 'pad',\n",
       " 'pad',\n",
       " 'pad',\n",
       " 'pad',\n",
       " 'pad',\n",
       " 'pad',\n",
       " 'pad',\n",
       " 'pad',\n",
       " 'pad',\n",
       " 'pad',\n",
       " 'pad',\n",
       " 'pad',\n",
       " 'pad',\n",
       " 'pad',\n",
       " 'pad',\n",
       " {'type': 'pitch', 'value': 22},\n",
       " {'type': 'velocity', 'value': 19},\n",
       " {'type': 'pitch', 'value': 53},\n",
       " {'type': 'velocity', 'value': 19},\n",
       " 'next_frame',\n",
       " 'next_frame',\n",
       " 'next_frame',\n",
       " 'next_frame',\n",
       " {'type': 'pitch', 'value': 29},\n",
       " {'type': 'velocity', 'value': 19},\n",
       " 'next_frame',\n",
       " 'next_frame',\n",
       " 'next_frame',\n",
       " 'next_frame',\n",
       " {'type': 'pitch', 'value': 38},\n",
       " {'type': 'velocity', 'value': 19},\n",
       " 'next_frame',\n",
       " 'next_frame',\n",
       " 'next_frame',\n",
       " 'next_frame',\n",
       " 'next_frame',\n",
       " 'next_frame',\n",
       " 'next_frame',\n",
       " 'next_frame',\n",
       " 'next_frame',\n",
       " 'next_frame',\n",
       " 'next_frame',\n",
       " 'next_frame',\n",
       " 'next_frame',\n",
       " 'next_frame',\n",
       " 'next_frame',\n",
       " 'next_frame',\n",
       " 'next_frame',\n",
       " 'next_frame',\n",
       " 'next_frame',\n",
       " 'next_frame',\n",
       " 'next_frame',\n",
       " 'next_frame',\n",
       " 'next_frame',\n",
       " 'next_frame',\n",
       " 'pad',\n",
       " 'pad',\n",
       " 'pad',\n",
       " 'pad',\n",
       " 'pad',\n",
       " 'pad',\n",
       " 'pad',\n",
       " 'pad',\n",
       " 'pad',\n",
       " 'pad',\n",
       " 'pad',\n",
       " 'pad',\n",
       " 'pad',\n",
       " 'pad',\n",
       " 'pad',\n",
       " 'pad',\n",
       " 'pad',\n",
       " 'pad',\n",
       " 'pad',\n",
       " 'pad',\n",
       " 'pad',\n",
       " 'pad',\n",
       " 'pad',\n",
       " 'pad',\n",
       " 'pad',\n",
       " 'pad',\n",
       " 'pad',\n",
       " 'pad',\n",
       " 'pad',\n",
       " 'pad',\n",
       " 'pad',\n",
       " 'pad',\n",
       " 'pad',\n",
       " 'pad',\n",
       " 'pad',\n",
       " 'pad',\n",
       " 'pad',\n",
       " 'pad',\n",
       " 'pad',\n",
       " 'pad',\n",
       " 'pad',\n",
       " 'pad',\n",
       " 'pad',\n",
       " 'pad',\n",
       " 'pad',\n",
       " 'pad',\n",
       " 'pad',\n",
       " 'pad',\n",
       " 'pad',\n",
       " 'pad',\n",
       " 'pad',\n",
       " 'pad',\n",
       " 'pad',\n",
       " 'pad',\n",
       " 'pad',\n",
       " 'pad',\n",
       " 'pad',\n",
       " 'pad',\n",
       " 'pad',\n",
       " 'pad',\n",
       " 'pad',\n",
       " 'pad',\n",
       " 'pad',\n",
       " 'pad',\n",
       " 'pad',\n",
       " 'pad',\n",
       " 'pad',\n",
       " 'pad',\n",
       " 'pad',\n",
       " 'pad',\n",
       " 'pad',\n",
       " 'pad',\n",
       " 'pad',\n",
       " 'pad',\n",
       " 'pad',\n",
       " 'pad',\n",
       " 'pad',\n",
       " 'pad',\n",
       " 'pad',\n",
       " 'pad',\n",
       " 'pad',\n",
       " 'pad',\n",
       " 'pad',\n",
       " 'pad',\n",
       " 'pad',\n",
       " 'pad',\n",
       " 'pad',\n",
       " 'pad',\n",
       " 'pad',\n",
       " 'pad',\n",
       " 'pad',\n",
       " 'pad',\n",
       " 'pad',\n",
       " 'pad',\n",
       " 'pad',\n",
       " 'pad',\n",
       " 'pad',\n",
       " 'pad',\n",
       " 'pad',\n",
       " 'pad',\n",
       " 'pad',\n",
       " 'pad',\n",
       " 'pad',\n",
       " 'pad',\n",
       " 'pad',\n",
       " 'pad',\n",
       " 'pad',\n",
       " 'pad',\n",
       " 'pad',\n",
       " 'pad',\n",
       " {'type': 'pitch', 'value': 39},\n",
       " {'type': 'velocity', 'value': 18},\n",
       " {'type': 'pitch', 'value': 55},\n",
       " {'type': 'velocity', 'value': 21},\n",
       " 'next_frame',\n",
       " 'next_frame',\n",
       " 'next_frame',\n",
       " 'next_frame',\n",
       " {'type': 'pitch', 'value': 46},\n",
       " {'type': 'velocity', 'value': 16},\n",
       " {'type': 'pitch', 'value': 55},\n",
       " {'type': 'velocity', 'value': 20},\n",
       " 'next_frame',\n",
       " 'next_frame',\n",
       " 'next_frame',\n",
       " 'next_frame',\n",
       " {'type': 'pitch', 'value': 51},\n",
       " {'type': 'velocity', 'value': 16},\n",
       " {'type': 'pitch', 'value': 55},\n",
       " {'type': 'velocity', 'value': 19},\n",
       " {'type': 'pitch', 'value': 62},\n",
       " {'type': 'velocity', 'value': 21},\n",
       " 'next_frame',\n",
       " 'next_frame',\n",
       " 'next_frame',\n",
       " 'next_frame',\n",
       " 'next_frame',\n",
       " 'next_frame',\n",
       " 'next_frame',\n",
       " 'next_frame',\n",
       " 'next_frame',\n",
       " 'next_frame',\n",
       " 'next_frame',\n",
       " 'next_frame',\n",
       " 'next_frame',\n",
       " 'next_frame',\n",
       " 'next_frame',\n",
       " 'next_frame',\n",
       " {'type': 'pitch', 'value': 51},\n",
       " {'type': 'velocity', 'value': 16},\n",
       " {'type': 'pitch', 'value': 58},\n",
       " {'type': 'velocity', 'value': 20},\n",
       " 'next_frame',\n",
       " 'next_frame',\n",
       " 'next_frame',\n",
       " 'next_frame',\n",
       " 'next_frame',\n",
       " 'next_frame',\n",
       " 'next_frame',\n",
       " 'next_frame',\n",
       " 'pad',\n",
       " 'pad',\n",
       " 'pad',\n",
       " 'pad',\n",
       " 'pad',\n",
       " 'pad',\n",
       " 'pad',\n",
       " 'pad',\n",
       " 'pad',\n",
       " 'pad',\n",
       " 'pad',\n",
       " 'pad',\n",
       " 'pad',\n",
       " 'pad',\n",
       " 'pad',\n",
       " 'pad',\n",
       " 'pad',\n",
       " 'pad',\n",
       " 'pad',\n",
       " 'pad',\n",
       " 'pad',\n",
       " 'pad',\n",
       " 'pad',\n",
       " 'pad',\n",
       " 'pad',\n",
       " 'pad',\n",
       " 'pad',\n",
       " 'pad',\n",
       " 'pad',\n",
       " 'pad',\n",
       " 'pad',\n",
       " 'pad',\n",
       " 'pad',\n",
       " 'pad',\n",
       " 'pad',\n",
       " 'pad',\n",
       " 'pad',\n",
       " 'pad',\n",
       " 'pad',\n",
       " 'pad',\n",
       " 'pad',\n",
       " 'pad',\n",
       " 'pad',\n",
       " 'pad',\n",
       " 'pad',\n",
       " 'pad',\n",
       " 'pad',\n",
       " 'pad',\n",
       " 'pad',\n",
       " 'pad',\n",
       " 'pad',\n",
       " 'pad',\n",
       " 'pad',\n",
       " 'pad',\n",
       " 'pad',\n",
       " 'pad',\n",
       " 'pad',\n",
       " 'pad',\n",
       " 'pad',\n",
       " 'pad',\n",
       " 'pad',\n",
       " 'pad',\n",
       " 'pad',\n",
       " 'pad',\n",
       " 'pad',\n",
       " 'pad',\n",
       " 'pad',\n",
       " 'pad',\n",
       " 'pad',\n",
       " 'pad',\n",
       " 'pad',\n",
       " 'pad',\n",
       " 'pad',\n",
       " 'pad',\n",
       " 'pad',\n",
       " 'pad',\n",
       " 'pad',\n",
       " 'pad',\n",
       " 'pad',\n",
       " 'pad',\n",
       " 'pad',\n",
       " 'pad',\n",
       " 'pad',\n",
       " 'pad',\n",
       " 'pad',\n",
       " 'pad',\n",
       " 'pad',\n",
       " 'pad',\n",
       " 'pad',\n",
       " 'pad',\n",
       " 'pad',\n",
       " 'pad',\n",
       " 'pad',\n",
       " 'pad',\n",
       " 'pad',\n",
       " 'pad',\n",
       " 'pad',\n",
       " 'pad',\n",
       " 'pad',\n",
       " 'pad',\n",
       " {'type': 'pitch', 'value': 36},\n",
       " {'type': 'velocity', 'value': 19},\n",
       " {'type': 'pitch', 'value': 55},\n",
       " {'type': 'velocity', 'value': 19},\n",
       " {'type': 'pitch', 'value': 60},\n",
       " {'type': 'velocity', 'value': 22},\n",
       " 'next_frame',\n",
       " 'next_frame',\n",
       " 'next_frame',\n",
       " 'next_frame',\n",
       " {'type': 'pitch', 'value': 43},\n",
       " {'type': 'velocity', 'value': 16},\n",
       " 'next_frame',\n",
       " 'next_frame',\n",
       " 'next_frame',\n",
       " 'next_frame',\n",
       " {'type': 'pitch', 'value': 46},\n",
       " {'type': 'velocity', 'value': 18},\n",
       " 'next_frame',\n",
       " 'next_frame',\n",
       " 'next_frame',\n",
       " 'next_frame',\n",
       " {'type': 'pitch', 'value': 58},\n",
       " {'type': 'velocity', 'value': 20},\n",
       " 'next_frame',\n",
       " 'next_frame',\n",
       " 'next_frame',\n",
       " 'next_frame',\n",
       " {'type': 'pitch', 'value': 67},\n",
       " {'type': 'velocity', 'value': 20},\n",
       " 'next_frame',\n",
       " 'next_frame',\n",
       " 'next_frame',\n",
       " 'next_frame',\n",
       " {'type': 'pitch', 'value': 70},\n",
       " {'type': 'velocity', 'value': 20},\n",
       " 'next_frame',\n",
       " 'next_frame',\n",
       " 'next_frame',\n",
       " 'next_frame',\n",
       " {'type': 'pitch', 'value': 74},\n",
       " {'type': 'velocity', 'value': 21},\n",
       " 'next_frame',\n",
       " 'next_frame',\n",
       " 'next_frame',\n",
       " 'next_frame',\n",
       " {'type': 'pitch', 'value': 75},\n",
       " {'type': 'velocity', 'value': 21},\n",
       " 'next_frame',\n",
       " 'next_frame',\n",
       " 'next_frame',\n",
       " 'next_frame',\n",
       " 'pad',\n",
       " 'pad',\n",
       " 'pad',\n",
       " 'pad',\n",
       " 'pad',\n",
       " 'pad',\n",
       " 'pad',\n",
       " 'pad',\n",
       " 'pad',\n",
       " 'pad',\n",
       " 'pad',\n",
       " 'pad',\n",
       " 'pad',\n",
       " 'pad',\n",
       " 'pad',\n",
       " 'pad',\n",
       " 'pad',\n",
       " 'pad',\n",
       " 'pad',\n",
       " 'pad',\n",
       " 'pad',\n",
       " 'pad',\n",
       " 'pad',\n",
       " 'pad',\n",
       " 'pad',\n",
       " 'pad',\n",
       " 'pad',\n",
       " 'pad',\n",
       " 'pad',\n",
       " 'pad',\n",
       " 'pad',\n",
       " 'pad',\n",
       " 'pad',\n",
       " 'pad',\n",
       " 'pad',\n",
       " 'pad',\n",
       " 'pad',\n",
       " 'pad',\n",
       " 'pad',\n",
       " 'pad',\n",
       " 'pad',\n",
       " 'pad',\n",
       " 'pad',\n",
       " 'pad',\n",
       " 'pad',\n",
       " 'pad',\n",
       " 'pad',\n",
       " 'pad',\n",
       " 'pad',\n",
       " 'pad',\n",
       " 'pad',\n",
       " 'pad',\n",
       " 'pad',\n",
       " 'pad',\n",
       " 'pad',\n",
       " 'pad',\n",
       " 'pad',\n",
       " 'pad',\n",
       " 'pad',\n",
       " 'pad',\n",
       " 'pad',\n",
       " 'pad',\n",
       " 'pad',\n",
       " 'pad',\n",
       " 'pad',\n",
       " 'pad',\n",
       " 'pad',\n",
       " 'pad',\n",
       " 'pad',\n",
       " 'pad',\n",
       " 'pad',\n",
       " 'pad',\n",
       " 'pad',\n",
       " 'pad',\n",
       " 'pad',\n",
       " 'pad',\n",
       " 'pad',\n",
       " 'pad',\n",
       " 'pad',\n",
       " 'pad',\n",
       " 'pad',\n",
       " 'pad',\n",
       " 'pad',\n",
       " 'pad',\n",
       " 'pad',\n",
       " 'pad',\n",
       " 'pad',\n",
       " 'pad',\n",
       " 'pad',\n",
       " 'pad',\n",
       " 'pad',\n",
       " 'pad',\n",
       " 'pad',\n",
       " 'pad',\n",
       " 'pad',\n",
       " 'pad',\n",
       " 'pad',\n",
       " 'pad',\n",
       " {'type': 'pitch', 'value': 32},\n",
       " {'type': 'velocity', 'value': 19},\n",
       " 'next_frame',\n",
       " 'next_frame',\n",
       " 'next_frame',\n",
       " 'next_frame',\n",
       " {'type': 'pitch', 'value': 39},\n",
       " {'type': 'velocity', 'value': 18},\n",
       " 'next_frame',\n",
       " 'next_frame',\n",
       " 'next_frame',\n",
       " 'next_frame',\n",
       " {'type': 'pitch', 'value': 44},\n",
       " {'type': 'velocity', 'value': 17},\n",
       " {'type': 'pitch', 'value': 51},\n",
       " {'type': 'velocity', 'value': 19},\n",
       " {'type': 'pitch', 'value': 60},\n",
       " {'type': 'velocity', 'value': 21},\n",
       " 'next_frame',\n",
       " 'next_frame',\n",
       " 'next_frame',\n",
       " 'next_frame',\n",
       " 'next_frame',\n",
       " 'next_frame',\n",
       " 'next_frame',\n",
       " 'next_frame',\n",
       " 'next_frame',\n",
       " 'next_frame',\n",
       " 'next_frame',\n",
       " 'next_frame',\n",
       " 'next_frame',\n",
       " 'next_frame',\n",
       " 'next_frame',\n",
       " 'next_frame',\n",
       " {'type': 'pitch', 'value': 51},\n",
       " {'type': 'velocity', 'value': 19},\n",
       " {'type': 'pitch', 'value': 60},\n",
       " {'type': 'velocity', 'value': 21},\n",
       " 'next_frame',\n",
       " 'next_frame',\n",
       " 'next_frame',\n",
       " 'next_frame',\n",
       " 'next_frame',\n",
       " 'next_frame',\n",
       " 'next_frame',\n",
       " 'next_frame',\n",
       " 'pad',\n",
       " 'pad',\n",
       " 'pad',\n",
       " 'pad',\n",
       " 'pad',\n",
       " 'pad',\n",
       " 'pad',\n",
       " 'pad',\n",
       " 'pad',\n",
       " 'pad',\n",
       " 'pad',\n",
       " 'pad',\n",
       " 'pad',\n",
       " 'pad',\n",
       " 'pad',\n",
       " 'pad',\n",
       " 'pad',\n",
       " 'pad',\n",
       " 'pad',\n",
       " 'pad',\n",
       " 'pad',\n",
       " 'pad',\n",
       " 'pad',\n",
       " 'pad',\n",
       " 'pad',\n",
       " 'pad',\n",
       " 'pad',\n",
       " 'pad',\n",
       " 'pad',\n",
       " 'pad',\n",
       " 'pad',\n",
       " 'pad',\n",
       " 'pad',\n",
       " 'pad',\n",
       " 'pad',\n",
       " 'pad',\n",
       " 'pad',\n",
       " 'pad',\n",
       " 'pad',\n",
       " 'pad',\n",
       " 'pad',\n",
       " 'pad',\n",
       " 'pad',\n",
       " 'pad',\n",
       " 'pad',\n",
       " 'pad',\n",
       " 'pad',\n",
       " 'pad',\n",
       " 'pad',\n",
       " 'pad',\n",
       " 'pad',\n",
       " 'pad',\n",
       " 'pad',\n",
       " 'pad',\n",
       " ...]"
      ]
     },
     "execution_count": 17,
     "metadata": {},
     "output_type": "execute_result"
    }
   ],
   "source": [
    "model.sample_and_save(output_dir/'test.mid', 32, 4, test_data[0], 14)"
   ]
  },
  {
   "cell_type": "code",
   "execution_count": 19,
   "metadata": {},
   "outputs": [
    {
     "data": {
      "text/plain": [
       "tensor([1, 1, 1, 1, 1, 1, 1, 1, 1, 1, 1, 1, 1, 1, 1, 1, 0, 0, 0, 0, 0, 0, 0, 0,\n",
       "        0, 0, 0, 0, 0, 0, 0, 0, 0, 0, 0, 0, 0, 0, 0, 0, 0, 0, 0, 0, 0, 0, 0, 0,\n",
       "        0, 0, 0, 0, 0, 0, 0, 0, 0, 0, 0, 0, 0, 0, 0, 0, 0, 0, 0, 0, 0, 0, 0, 0,\n",
       "        0, 0, 0, 0, 0, 0, 0, 0, 0, 0, 0, 0, 0, 0, 0, 0, 0, 0, 0, 0, 0, 0, 0, 0,\n",
       "        0, 0, 0, 0, 0, 0, 0, 0, 0, 0, 0, 0, 0, 0, 0, 0, 0, 0, 0, 0, 0, 0, 0, 0,\n",
       "        0, 0, 0, 0, 0, 0, 0, 0, 0, 0, 0, 0, 0, 0, 0, 0, 0, 0, 0, 0, 0, 0, 0, 0,\n",
       "        0, 0, 0, 0, 0, 0], dtype=torch.int32)"
      ]
     },
     "execution_count": 19,
     "metadata": {},
     "output_type": "execute_result"
    }
   ],
   "source": [
    "test_data[0]['piano_roll']['playing_mask']"
   ]
  },
  {
   "cell_type": "code",
   "execution_count": 59,
   "metadata": {},
   "outputs": [
    {
     "ename": "IndexError",
     "evalue": "index 8 is out of bounds for dimension 0 with size 8",
     "output_type": "error",
     "traceback": [
      "\u001b[1;31m---------------------------------------------------------------------------\u001b[0m",
      "\u001b[1;31mIndexError\u001b[0m                                Traceback (most recent call last)",
      "Cell \u001b[1;32mIn[59], line 1\u001b[0m\n\u001b[1;32m----> 1\u001b[0m \u001b[43mbatch\u001b[49m\u001b[43m[\u001b[49m\u001b[38;5;124;43m'\u001b[39;49m\u001b[38;5;124;43mpiano_roll\u001b[39;49m\u001b[38;5;124;43m'\u001b[39;49m\u001b[43m]\u001b[49m\u001b[43m[\u001b[49m\u001b[38;5;124;43m'\u001b[39;49m\u001b[38;5;124;43mindices\u001b[39;49m\u001b[38;5;124;43m'\u001b[39;49m\u001b[43m]\u001b[49m\u001b[43m[\u001b[49m\u001b[38;5;241;43m8\u001b[39;49m\u001b[43m,\u001b[49m\u001b[38;5;241;43m0\u001b[39;49m\u001b[43m]\u001b[49m\n",
      "\u001b[1;31mIndexError\u001b[0m: index 8 is out of bounds for dimension 0 with size 8"
     ]
    }
   ],
   "source": [
    "batch['piano_roll']['indices'][8,0]"
   ]
  },
  {
   "cell_type": "code",
   "execution_count": 6,
   "metadata": {},
   "outputs": [
    {
     "data": {
      "text/plain": [
       "600"
      ]
     },
     "execution_count": 6,
     "metadata": {},
     "output_type": "execute_result"
    }
   ],
   "source": [
    "150*4"
   ]
  },
  {
   "cell_type": "code",
   "execution_count": 1,
   "metadata": {},
   "outputs": [
    {
     "ename": "NameError",
     "evalue": "name 'DataLoader' is not defined",
     "output_type": "error",
     "traceback": [
      "\u001b[1;31m---------------------------------------------------------------------------\u001b[0m",
      "\u001b[1;31mNameError\u001b[0m                                 Traceback (most recent call last)",
      "Cell \u001b[1;32mIn[1], line 1\u001b[0m\n\u001b[1;32m----> 1\u001b[0m dl \u001b[38;5;241m=\u001b[39m \u001b[43mDataLoader\u001b[49m(ds,batch_size\u001b[38;5;241m=\u001b[39m\u001b[38;5;241m2\u001b[39m, shuffle\u001b[38;5;241m=\u001b[39m\u001b[38;5;28;01mTrue\u001b[39;00m)\n\u001b[0;32m      2\u001b[0m \u001b[38;5;28mnext\u001b[39m(\u001b[38;5;28miter\u001b[39m(dl))\n",
      "\u001b[1;31mNameError\u001b[0m: name 'DataLoader' is not defined"
     ]
    }
   ],
   "source": [
    "dl = DataLoader(ds,batch_size=2, shuffle=True)\n",
    "next(iter(dl))"
   ]
  },
  {
   "cell_type": "code",
   "execution_count": 1,
   "metadata": {},
   "outputs": [
    {
     "ename": "NameError",
     "evalue": "name 'PianoRollTokenizer' is not defined",
     "output_type": "error",
     "traceback": [
      "\u001b[1;31m---------------------------------------------------------------------------\u001b[0m",
      "\u001b[1;31mNameError\u001b[0m                                 Traceback (most recent call last)",
      "Cell \u001b[1;32mIn[1], line 8\u001b[0m\n\u001b[0;32m      4\u001b[0m \u001b[38;5;28;01mfrom\u001b[39;00m \u001b[38;5;21;01mpianogen\u001b[39;00m\u001b[38;5;21;01m.\u001b[39;00m\u001b[38;5;21;01mgpu_temp_control\u001b[39;00m \u001b[38;5;28;01mimport\u001b[39;00m GPUTempControl\n\u001b[0;32m      6\u001b[0m gpu_control \u001b[38;5;241m=\u001b[39m GPUTempControl(\u001b[38;5;241m64\u001b[39m,\u001b[38;5;241m3\u001b[39m)\n\u001b[1;32m----> 8\u001b[0m tokenizer: \u001b[43mPianoRollTokenizer\u001b[49m\n\u001b[0;32m      9\u001b[0m model: SelectiveAttnTransformer\n\u001b[0;32m     10\u001b[0m \u001b[38;5;28;01mdef\u001b[39;00m \u001b[38;5;21minference\u001b[39m(file_path:\u001b[38;5;28mstr\u001b[39m\u001b[38;5;241m|\u001b[39mPath, length:\u001b[38;5;28mint\u001b[39m\u001b[38;5;241m=\u001b[39m\u001b[38;5;241m512\u001b[39m, prompt:Pianoroll\u001b[38;5;241m|\u001b[39m\u001b[38;5;28;01mNone\u001b[39;00m\u001b[38;5;241m=\u001b[39m\u001b[38;5;28;01mNone\u001b[39;00m, batch_size:\u001b[38;5;28mint\u001b[39m\u001b[38;5;241m|\u001b[39m\u001b[38;5;28;01mNone\u001b[39;00m\u001b[38;5;241m=\u001b[39m\u001b[38;5;28;01mNone\u001b[39;00m,method\u001b[38;5;241m=\u001b[39m\u001b[38;5;124m'\u001b[39m\u001b[38;5;124mnucleus\u001b[39m\u001b[38;5;124m'\u001b[39m, p\u001b[38;5;241m=\u001b[39m\u001b[38;5;241m0.9\u001b[39m, top_k:\u001b[38;5;28mint\u001b[39m\u001b[38;5;241m=\u001b[39m\u001b[38;5;241m15\u001b[39m):\n",
      "\u001b[1;31mNameError\u001b[0m: name 'PianoRollTokenizer' is not defined"
     ]
    }
   ],
   "source": [
    "\n",
    "from pathlib import Path\n",
    "from tqdm import tqdm\n",
    "from music_data_analysis.data import Pianoroll\n",
    "from pianogen.gpu_temp_control import GPUTempControl\n",
    "\n",
    "gpu_control = GPUTempControl(64,3)\n",
    "\n",
    "tokenizer: PianoRollTokenizer\n",
    "model: SelectiveAttnTransformer\n",
    "def inference(file_path:str|Path, length:int=512, prompt:Pianoroll|None=None, batch_size:int|None=None,method='nucleus', p=0.9, top_k:int=15):\n",
    "    model.eval()\n",
    "    if prompt is None:\n",
    "        tokens = [{'type':'start'}]\n",
    "    else:\n",
    "        tokens = ds.tokenizer.tokenize(prompt, pad=False)\n",
    "        print('prompt:', tokens[:10])\n",
    "        print('prompt end:', tokens[-10:])\n",
    "\n",
    "    indices = tokenizer.vocab.tokens_to_indices(tokens)\n",
    "    pos = tokenizer.get_frame_indices(tokens, infer_next_frame=True)\n",
    "    indices = indices.unsqueeze(0).to(device)\n",
    "    pos = pos.unsqueeze(0).to(device)\n",
    "\n",
    "    last_token = tokens[-1]\n",
    "\n",
    "    for _ in tqdm(range(length)):\n",
    "        gpu_control.cooldown()\n",
    "\n",
    "        logits = model(indices,pos).squeeze(0)[-1].detach().cpu()\n",
    "        new_token = tokenizer.sample_from_logits(logits, last_token, method='nucleus', p=0.9)\n",
    "        tokens.append(new_token)\n",
    "        last_token = new_token\n",
    "\n",
    "        # update indices and pos\n",
    "\n",
    "        new_token_idx = tokenizer.vocab.get_idx(new_token)\n",
    "        indices = torch.cat([indices, torch.tensor([[new_token_idx]]).to(device)], dim=-1)\n",
    "        if new_token['type'] == 'next_frame':\n",
    "            new_pos = pos[0,-1] + 1\n",
    "        else:\n",
    "            new_pos = pos[0,-1]\n",
    "        pos = torch.cat([pos, torch.tensor([[new_pos]]).to(device)], dim=-1)\n",
    "\n",
    "        if new_token['type'] == 'end':\n",
    "            break\n",
    "\n",
    "    tokenizer.detokenize(tokens).to_midi(file_path)\n",
    "    print('result:', tokens[:10])\n"
   ]
  },
  {
   "cell_type": "code",
   "execution_count": 1,
   "metadata": {},
   "outputs": [],
   "source": [
    "from pathlib import Path\n",
    "from torch.utils.tensorboard import SummaryWriter\n",
    "\n",
    "\n",
    "exp_name = 'remove_last_relu'\n",
    "\n",
    "output_dir = Path(f'./output/{exp_name}')\n",
    "output_dir.mkdir(parents=True, exist_ok=True)\n",
    "checkpoint_dir = Path(f'./checkpoint/{exp_name}')\n",
    "checkpoint_dir.mkdir(parents=True, exist_ok=True)\n",
    "tensorboard_dir = Path(f'./tensorboard/{exp_name}')\n",
    "\n",
    "\n",
    "writer = SummaryWriter(tensorboard_dir)\n",
    "model = SelectiveAttnTransformer(len(tokenizer.vocab),128,256)\n",
    "crit = nn.CrossEntropyLoss(ignore_index=0)\n",
    "opt = Adam(model.parameters(), lr=1e-3)\n",
    "model.set_downsampled_path_enabled(True)\n",
    "print('number of parameters:', sum(p.numel() for p in model.parameters())/1e6, 'M')"
   ]
  },
  {
   "cell_type": "code",
   "execution_count": 7,
   "metadata": {},
   "outputs": [],
   "source": [
    "from_epoch = 50\n",
    "epoch = from_epoch\n",
    "# load from checkpoint\n",
    "if from_epoch > 0:\n",
    "    checkpoint = torch.load(checkpoint_dir/f'{from_epoch}.pt')\n",
    "    model.load_state_dict(checkpoint['model'])\n",
    "    opt.load_state_dict(checkpoint['opt'])\n",
    "model = model.to(device)"
   ]
  },
  {
   "cell_type": "code",
   "execution_count": 9,
   "metadata": {},
   "outputs": [
    {
     "name": "stderr",
     "output_type": "stream",
     "text": [
      "  0%|          | 0/296 [00:00<?, ?it/s]c:\\Users\\User\\miniconda3\\envs\\gr\\Lib\\site-packages\\torch\\nn\\functional.py:5504: UserWarning: 1Torch was not compiled with flash attention. (Triggered internally at ..\\aten\\src\\ATen\\native\\transformers\\cuda\\sdp_utils.cpp:455.)\n",
      "  attn_output = scaled_dot_product_attention(q, k, v, attn_mask, dropout_p, is_causal)\n",
      "100%|██████████| 296/296 [02:11<00:00,  2.24it/s, batch=290, gpu_temp=62, loss=1.6] \n",
      "100%|██████████| 1023/1023 [00:12<00:00, 80.21it/s]\n"
     ]
    },
    {
     "name": "stdout",
     "output_type": "stream",
     "text": [
      "result: [{'type': 'start'}, {'type': 'next_frame'}, {'type': 'next_frame'}, {'type': 'next_frame'}, {'type': 'next_frame'}, {'type': 'next_frame'}, {'type': 'next_frame'}, {'type': 'next_frame'}, {'type': 'next_frame'}, {'type': 'next_frame'}]\n"
     ]
    },
    {
     "name": "stderr",
     "output_type": "stream",
     "text": [
      "100%|██████████| 296/296 [01:58<00:00,  2.49it/s, batch=290, gpu_temp=62, loss=1.3] \n",
      "100%|██████████| 1023/1023 [00:13<00:00, 75.43it/s]\n"
     ]
    },
    {
     "name": "stdout",
     "output_type": "stream",
     "text": [
      "result: [{'type': 'start'}, {'value': 27, 'type': 'pitch'}, {'value': 13, 'type': 'velocity'}, {'value': 29, 'type': 'pitch'}, {'value': 14, 'type': 'velocity'}, {'value': 31, 'type': 'pitch'}, {'value': 14, 'type': 'velocity'}, {'type': 'next_frame'}, {'type': 'next_frame'}, {'type': 'next_frame'}]\n"
     ]
    },
    {
     "name": "stderr",
     "output_type": "stream",
     "text": [
      "100%|██████████| 296/296 [02:00<00:00,  2.46it/s, batch=290, gpu_temp=57, loss=1.23]\n",
      "100%|██████████| 1023/1023 [00:13<00:00, 75.73it/s]\n"
     ]
    },
    {
     "name": "stdout",
     "output_type": "stream",
     "text": [
      "result: [{'type': 'start'}, {'type': 'next_frame'}, {'type': 'next_frame'}, {'type': 'next_frame'}, {'type': 'next_frame'}, {'type': 'next_frame'}, {'type': 'next_frame'}, {'type': 'next_frame'}, {'type': 'next_frame'}, {'type': 'next_frame'}]\n"
     ]
    },
    {
     "name": "stderr",
     "output_type": "stream",
     "text": [
      "100%|██████████| 296/296 [02:19<00:00,  2.12it/s, batch=290, gpu_temp=63, loss=1.24]\n",
      "100%|██████████| 1023/1023 [00:13<00:00, 74.52it/s]\n"
     ]
    },
    {
     "name": "stdout",
     "output_type": "stream",
     "text": [
      "result: [{'type': 'start'}, {'value': 12, 'type': 'pitch'}, {'value': 14, 'type': 'velocity'}, {'value': 24, 'type': 'pitch'}, {'value': 12, 'type': 'velocity'}, {'value': 34, 'type': 'pitch'}, {'value': 15, 'type': 'velocity'}, {'value': 39, 'type': 'pitch'}, {'value': 13, 'type': 'velocity'}, {'value': 55, 'type': 'pitch'}]\n"
     ]
    },
    {
     "name": "stderr",
     "output_type": "stream",
     "text": [
      "100%|██████████| 296/296 [02:24<00:00,  2.04it/s, batch=290, gpu_temp=62, loss=1.17]\n",
      "100%|██████████| 1023/1023 [00:14<00:00, 72.52it/s]\n"
     ]
    },
    {
     "name": "stdout",
     "output_type": "stream",
     "text": [
      "result: [{'type': 'start'}, {'type': 'next_frame'}, {'type': 'next_frame'}, {'type': 'next_frame'}, {'type': 'next_frame'}, {'type': 'next_frame'}, {'type': 'next_frame'}, {'type': 'next_frame'}, {'type': 'next_frame'}, {'type': 'next_frame'}]\n"
     ]
    },
    {
     "name": "stderr",
     "output_type": "stream",
     "text": [
      "100%|██████████| 296/296 [02:33<00:00,  1.93it/s, batch=290, gpu_temp=54, loss=1.11] \n",
      "100%|██████████| 1023/1023 [00:19<00:00, 52.97it/s]\n"
     ]
    },
    {
     "name": "stdout",
     "output_type": "stream",
     "text": [
      "result: [{'type': 'start'}, {'type': 'next_frame'}, {'type': 'next_frame'}, {'type': 'next_frame'}, {'type': 'next_frame'}, {'type': 'next_frame'}, {'type': 'next_frame'}, {'type': 'next_frame'}, {'type': 'next_frame'}, {'type': 'next_frame'}]\n"
     ]
    },
    {
     "name": "stderr",
     "output_type": "stream",
     "text": [
      "100%|██████████| 296/296 [03:05<00:00,  1.59it/s, batch=290, gpu_temp=58, loss=1.1] \n",
      "100%|██████████| 1023/1023 [00:18<00:00, 54.20it/s]\n"
     ]
    },
    {
     "name": "stdout",
     "output_type": "stream",
     "text": [
      "result: [{'type': 'start'}, {'value': 27, 'type': 'pitch'}, {'value': 12, 'type': 'velocity'}, {'value': 43, 'type': 'pitch'}, {'value': 14, 'type': 'velocity'}, {'value': 46, 'type': 'pitch'}, {'value': 17, 'type': 'velocity'}, {'value': 51, 'type': 'pitch'}, {'value': 15, 'type': 'velocity'}, {'value': 55, 'type': 'pitch'}]\n"
     ]
    },
    {
     "name": "stderr",
     "output_type": "stream",
     "text": [
      "100%|██████████| 296/296 [03:05<00:00,  1.59it/s, batch=290, gpu_temp=58, loss=1.19] \n",
      "100%|██████████| 1023/1023 [00:19<00:00, 52.11it/s]\n"
     ]
    },
    {
     "name": "stdout",
     "output_type": "stream",
     "text": [
      "result: [{'type': 'start'}, {'type': 'next_frame'}, {'type': 'next_frame'}, {'type': 'next_frame'}, {'type': 'next_frame'}, {'type': 'next_frame'}, {'type': 'next_frame'}, {'type': 'next_frame'}, {'type': 'next_frame'}, {'type': 'next_frame'}]\n"
     ]
    },
    {
     "name": "stderr",
     "output_type": "stream",
     "text": [
      "100%|██████████| 296/296 [03:05<00:00,  1.60it/s, batch=290, gpu_temp=58, loss=1.05] \n",
      "100%|██████████| 1023/1023 [00:19<00:00, 52.33it/s]\n"
     ]
    },
    {
     "name": "stdout",
     "output_type": "stream",
     "text": [
      "result: [{'type': 'start'}, {'type': 'next_frame'}, {'type': 'next_frame'}, {'type': 'next_frame'}, {'type': 'next_frame'}, {'type': 'next_frame'}, {'type': 'next_frame'}, {'type': 'next_frame'}, {'type': 'next_frame'}, {'type': 'next_frame'}]\n"
     ]
    },
    {
     "name": "stderr",
     "output_type": "stream",
     "text": [
      "100%|██████████| 296/296 [03:05<00:00,  1.60it/s, batch=290, gpu_temp=56, loss=0.938]\n",
      "100%|██████████| 1023/1023 [00:19<00:00, 51.49it/s]\n"
     ]
    },
    {
     "name": "stdout",
     "output_type": "stream",
     "text": [
      "result: [{'type': 'start'}, {'value': 36, 'type': 'pitch'}, {'value': 13, 'type': 'velocity'}, {'value': 60, 'type': 'pitch'}, {'value': 16, 'type': 'velocity'}, {'type': 'next_frame'}, {'type': 'next_frame'}, {'type': 'next_frame'}, {'type': 'next_frame'}, {'value': 43, 'type': 'pitch'}]\n"
     ]
    },
    {
     "name": "stderr",
     "output_type": "stream",
     "text": [
      "100%|██████████| 296/296 [03:10<00:00,  1.56it/s, batch=290, gpu_temp=57, loss=1.13] \n",
      "100%|██████████| 1023/1023 [00:19<00:00, 51.56it/s]\n"
     ]
    },
    {
     "name": "stdout",
     "output_type": "stream",
     "text": [
      "result: [{'type': 'start'}, {'type': 'next_frame'}, {'type': 'next_frame'}, {'type': 'next_frame'}, {'type': 'next_frame'}, {'type': 'next_frame'}, {'type': 'next_frame'}, {'type': 'next_frame'}, {'type': 'next_frame'}, {'type': 'next_frame'}]\n"
     ]
    },
    {
     "name": "stderr",
     "output_type": "stream",
     "text": [
      "100%|██████████| 296/296 [03:19<00:00,  1.49it/s, batch=290, gpu_temp=57, loss=1.09] \n",
      "100%|██████████| 1023/1023 [00:21<00:00, 47.35it/s]\n"
     ]
    },
    {
     "name": "stdout",
     "output_type": "stream",
     "text": [
      "result: [{'type': 'start'}, {'type': 'next_frame'}, {'type': 'next_frame'}, {'type': 'next_frame'}, {'type': 'next_frame'}, {'type': 'next_frame'}, {'type': 'next_frame'}, {'type': 'next_frame'}, {'type': 'next_frame'}, {'type': 'next_frame'}]\n"
     ]
    },
    {
     "name": "stderr",
     "output_type": "stream",
     "text": [
      "100%|██████████| 296/296 [03:27<00:00,  1.43it/s, batch=290, gpu_temp=56, loss=1.11] \n",
      "100%|██████████| 1023/1023 [00:19<00:00, 51.39it/s]\n"
     ]
    },
    {
     "name": "stdout",
     "output_type": "stream",
     "text": [
      "result: [{'type': 'start'}, {'type': 'next_frame'}, {'type': 'next_frame'}, {'type': 'next_frame'}, {'type': 'next_frame'}, {'type': 'next_frame'}, {'type': 'next_frame'}, {'type': 'next_frame'}, {'type': 'next_frame'}, {'type': 'next_frame'}]\n"
     ]
    },
    {
     "name": "stderr",
     "output_type": "stream",
     "text": [
      "100%|██████████| 296/296 [03:26<00:00,  1.44it/s, batch=290, gpu_temp=56, loss=1.09] \n",
      "100%|██████████| 1023/1023 [00:20<00:00, 50.77it/s]\n"
     ]
    },
    {
     "name": "stdout",
     "output_type": "stream",
     "text": [
      "result: [{'type': 'start'}, {'type': 'next_frame'}, {'type': 'next_frame'}, {'type': 'next_frame'}, {'type': 'next_frame'}, {'type': 'next_frame'}, {'type': 'next_frame'}, {'type': 'next_frame'}, {'type': 'next_frame'}, {'type': 'next_frame'}]\n"
     ]
    },
    {
     "name": "stderr",
     "output_type": "stream",
     "text": [
      "100%|██████████| 296/296 [03:24<00:00,  1.45it/s, batch=290, gpu_temp=49, loss=1.11] \n",
      "100%|██████████| 1023/1023 [00:20<00:00, 50.60it/s]\n"
     ]
    },
    {
     "name": "stdout",
     "output_type": "stream",
     "text": [
      "result: [{'type': 'start'}, {'value': 17, 'type': 'pitch'}, {'value': 18, 'type': 'velocity'}, {'value': 29, 'type': 'pitch'}, {'value': 18, 'type': 'velocity'}, {'value': 36, 'type': 'pitch'}, {'value': 16, 'type': 'velocity'}, {'value': 41, 'type': 'pitch'}, {'value': 19, 'type': 'velocity'}, {'value': 72, 'type': 'pitch'}]\n"
     ]
    },
    {
     "name": "stderr",
     "output_type": "stream",
     "text": [
      "100%|██████████| 296/296 [03:24<00:00,  1.45it/s, batch=290, gpu_temp=55, loss=0.861]\n",
      "100%|██████████| 1023/1023 [00:20<00:00, 50.84it/s]\n"
     ]
    },
    {
     "name": "stdout",
     "output_type": "stream",
     "text": [
      "result: [{'type': 'start'}, {'type': 'next_frame'}, {'type': 'next_frame'}, {'type': 'next_frame'}, {'type': 'next_frame'}, {'type': 'next_frame'}, {'type': 'next_frame'}, {'type': 'next_frame'}, {'type': 'next_frame'}, {'type': 'next_frame'}]\n"
     ]
    },
    {
     "name": "stderr",
     "output_type": "stream",
     "text": [
      "100%|██████████| 296/296 [03:26<00:00,  1.43it/s, batch=290, gpu_temp=57, loss=1.06] \n",
      "100%|██████████| 1023/1023 [00:19<00:00, 51.67it/s]\n"
     ]
    },
    {
     "name": "stdout",
     "output_type": "stream",
     "text": [
      "result: [{'type': 'start'}, {'value': 24, 'type': 'pitch'}, {'value': 15, 'type': 'velocity'}, {'value': 31, 'type': 'pitch'}, {'value': 17, 'type': 'velocity'}, {'value': 39, 'type': 'pitch'}, {'value': 19, 'type': 'velocity'}, {'value': 43, 'type': 'pitch'}, {'value': 17, 'type': 'velocity'}, {'value': 46, 'type': 'pitch'}]\n"
     ]
    },
    {
     "name": "stderr",
     "output_type": "stream",
     "text": [
      "100%|██████████| 296/296 [03:27<00:00,  1.42it/s, batch=290, gpu_temp=58, loss=1.11] \n",
      "100%|██████████| 1023/1023 [00:19<00:00, 51.43it/s]\n"
     ]
    },
    {
     "name": "stdout",
     "output_type": "stream",
     "text": [
      "result: [{'type': 'start'}, {'type': 'next_frame'}, {'type': 'next_frame'}, {'type': 'next_frame'}, {'type': 'next_frame'}, {'type': 'next_frame'}, {'type': 'next_frame'}, {'type': 'next_frame'}, {'type': 'next_frame'}, {'type': 'next_frame'}]\n"
     ]
    },
    {
     "name": "stderr",
     "output_type": "stream",
     "text": [
      "100%|██████████| 296/296 [03:25<00:00,  1.44it/s, batch=290, gpu_temp=55, loss=0.95] \n",
      "100%|██████████| 1023/1023 [00:20<00:00, 51.13it/s]\n"
     ]
    },
    {
     "name": "stdout",
     "output_type": "stream",
     "text": [
      "result: [{'type': 'start'}, {'type': 'next_frame'}, {'type': 'next_frame'}, {'type': 'next_frame'}, {'type': 'next_frame'}, {'type': 'next_frame'}, {'type': 'next_frame'}, {'type': 'next_frame'}, {'type': 'next_frame'}, {'type': 'next_frame'}]\n"
     ]
    },
    {
     "name": "stderr",
     "output_type": "stream",
     "text": [
      "100%|██████████| 296/296 [03:24<00:00,  1.45it/s, batch=290, gpu_temp=55, loss=1.16] \n",
      "100%|██████████| 1023/1023 [00:20<00:00, 51.10it/s]\n"
     ]
    },
    {
     "name": "stdout",
     "output_type": "stream",
     "text": [
      "result: [{'type': 'start'}, {'type': 'next_frame'}, {'type': 'next_frame'}, {'type': 'next_frame'}, {'type': 'next_frame'}, {'type': 'next_frame'}, {'type': 'next_frame'}, {'type': 'next_frame'}, {'type': 'next_frame'}, {'type': 'next_frame'}]\n"
     ]
    },
    {
     "name": "stderr",
     "output_type": "stream",
     "text": [
      "100%|██████████| 296/296 [03:26<00:00,  1.43it/s, batch=290, gpu_temp=56, loss=1.14] \n",
      "100%|██████████| 1023/1023 [00:20<00:00, 50.03it/s]\n"
     ]
    },
    {
     "name": "stdout",
     "output_type": "stream",
     "text": [
      "result: [{'type': 'start'}, {'type': 'next_frame'}, {'type': 'next_frame'}, {'type': 'next_frame'}, {'type': 'next_frame'}, {'type': 'next_frame'}, {'type': 'next_frame'}, {'type': 'next_frame'}, {'type': 'next_frame'}, {'type': 'next_frame'}]\n"
     ]
    },
    {
     "name": "stderr",
     "output_type": "stream",
     "text": [
      "100%|██████████| 296/296 [03:29<00:00,  1.41it/s, batch=290, gpu_temp=53, loss=1.03] \n",
      "100%|██████████| 1023/1023 [00:19<00:00, 51.17it/s]\n"
     ]
    },
    {
     "name": "stdout",
     "output_type": "stream",
     "text": [
      "result: [{'type': 'start'}, {'type': 'next_frame'}, {'type': 'next_frame'}, {'type': 'next_frame'}, {'type': 'next_frame'}, {'type': 'next_frame'}, {'type': 'next_frame'}, {'type': 'next_frame'}, {'type': 'next_frame'}, {'type': 'next_frame'}]\n"
     ]
    },
    {
     "name": "stderr",
     "output_type": "stream",
     "text": [
      "100%|██████████| 296/296 [03:26<00:00,  1.44it/s, batch=290, gpu_temp=55, loss=1.16] \n",
      "100%|██████████| 1023/1023 [00:19<00:00, 51.41it/s]\n"
     ]
    },
    {
     "name": "stdout",
     "output_type": "stream",
     "text": [
      "result: [{'type': 'start'}, {'type': 'next_frame'}, {'type': 'next_frame'}, {'type': 'next_frame'}, {'type': 'next_frame'}, {'type': 'next_frame'}, {'type': 'next_frame'}, {'type': 'next_frame'}, {'type': 'next_frame'}, {'type': 'next_frame'}]\n"
     ]
    },
    {
     "name": "stderr",
     "output_type": "stream",
     "text": [
      "100%|██████████| 296/296 [03:26<00:00,  1.43it/s, batch=290, gpu_temp=56, loss=1.07] \n",
      "100%|██████████| 1023/1023 [00:20<00:00, 50.01it/s]\n"
     ]
    },
    {
     "name": "stdout",
     "output_type": "stream",
     "text": [
      "result: [{'type': 'start'}, {'type': 'next_frame'}, {'type': 'next_frame'}, {'type': 'next_frame'}, {'type': 'next_frame'}, {'type': 'next_frame'}, {'type': 'next_frame'}, {'type': 'next_frame'}, {'type': 'next_frame'}, {'type': 'next_frame'}]\n"
     ]
    },
    {
     "name": "stderr",
     "output_type": "stream",
     "text": [
      "100%|██████████| 296/296 [03:28<00:00,  1.42it/s, batch=290, gpu_temp=56, loss=1.04] \n",
      "100%|██████████| 1023/1023 [00:20<00:00, 50.70it/s]\n"
     ]
    },
    {
     "name": "stdout",
     "output_type": "stream",
     "text": [
      "result: [{'type': 'start'}, {'type': 'next_frame'}, {'type': 'next_frame'}, {'type': 'next_frame'}, {'type': 'next_frame'}, {'type': 'next_frame'}, {'type': 'next_frame'}, {'type': 'next_frame'}, {'type': 'next_frame'}, {'type': 'next_frame'}]\n"
     ]
    },
    {
     "name": "stderr",
     "output_type": "stream",
     "text": [
      "100%|██████████| 296/296 [03:28<00:00,  1.42it/s, batch=290, gpu_temp=55, loss=0.88] \n",
      "100%|██████████| 1023/1023 [00:20<00:00, 49.48it/s]\n"
     ]
    },
    {
     "name": "stdout",
     "output_type": "stream",
     "text": [
      "result: [{'type': 'start'}, {'type': 'next_frame'}, {'type': 'next_frame'}, {'type': 'next_frame'}, {'type': 'next_frame'}, {'type': 'next_frame'}, {'type': 'next_frame'}, {'type': 'next_frame'}, {'type': 'next_frame'}, {'type': 'next_frame'}]\n"
     ]
    },
    {
     "name": "stderr",
     "output_type": "stream",
     "text": [
      "100%|██████████| 296/296 [03:26<00:00,  1.43it/s, batch=290, gpu_temp=56, loss=1.08] \n",
      "100%|██████████| 1023/1023 [00:20<00:00, 49.03it/s]\n"
     ]
    },
    {
     "name": "stdout",
     "output_type": "stream",
     "text": [
      "result: [{'type': 'start'}, {'type': 'next_frame'}, {'type': 'next_frame'}, {'type': 'next_frame'}, {'type': 'next_frame'}, {'type': 'next_frame'}, {'type': 'next_frame'}, {'type': 'next_frame'}, {'type': 'next_frame'}, {'type': 'next_frame'}]\n"
     ]
    },
    {
     "name": "stderr",
     "output_type": "stream",
     "text": [
      "100%|██████████| 296/296 [03:26<00:00,  1.44it/s, batch=290, gpu_temp=57, loss=0.837]\n",
      "100%|██████████| 1023/1023 [00:20<00:00, 50.21it/s]\n"
     ]
    },
    {
     "name": "stdout",
     "output_type": "stream",
     "text": [
      "result: [{'type': 'start'}, {'type': 'next_frame'}, {'type': 'next_frame'}, {'type': 'next_frame'}, {'type': 'next_frame'}, {'type': 'next_frame'}, {'type': 'next_frame'}, {'type': 'next_frame'}, {'type': 'next_frame'}, {'type': 'next_frame'}]\n"
     ]
    },
    {
     "name": "stderr",
     "output_type": "stream",
     "text": [
      "100%|██████████| 296/296 [03:25<00:00,  1.44it/s, batch=290, gpu_temp=56, loss=0.92] \n",
      "100%|██████████| 1023/1023 [00:20<00:00, 50.64it/s]\n"
     ]
    },
    {
     "name": "stdout",
     "output_type": "stream",
     "text": [
      "result: [{'type': 'start'}, {'type': 'next_frame'}, {'type': 'next_frame'}, {'type': 'next_frame'}, {'type': 'next_frame'}, {'type': 'next_frame'}, {'type': 'next_frame'}, {'type': 'next_frame'}, {'type': 'next_frame'}, {'type': 'next_frame'}]\n"
     ]
    },
    {
     "name": "stderr",
     "output_type": "stream",
     "text": [
      "100%|██████████| 296/296 [03:29<00:00,  1.41it/s, batch=290, gpu_temp=55, loss=1.06] \n",
      "100%|██████████| 1023/1023 [00:20<00:00, 49.60it/s]\n"
     ]
    },
    {
     "name": "stdout",
     "output_type": "stream",
     "text": [
      "result: [{'type': 'start'}, {'type': 'next_frame'}, {'type': 'next_frame'}, {'type': 'next_frame'}, {'type': 'next_frame'}, {'type': 'next_frame'}, {'type': 'next_frame'}, {'type': 'next_frame'}, {'type': 'next_frame'}, {'type': 'next_frame'}]\n"
     ]
    },
    {
     "name": "stderr",
     "output_type": "stream",
     "text": [
      "100%|██████████| 296/296 [03:28<00:00,  1.42it/s, batch=290, gpu_temp=56, loss=0.862]\n",
      "100%|██████████| 1023/1023 [00:20<00:00, 49.94it/s]\n"
     ]
    },
    {
     "name": "stdout",
     "output_type": "stream",
     "text": [
      "result: [{'type': 'start'}, {'type': 'next_frame'}, {'type': 'next_frame'}, {'type': 'next_frame'}, {'type': 'next_frame'}, {'type': 'next_frame'}, {'type': 'next_frame'}, {'type': 'next_frame'}, {'type': 'next_frame'}, {'type': 'next_frame'}]\n"
     ]
    },
    {
     "name": "stderr",
     "output_type": "stream",
     "text": [
      "100%|██████████| 296/296 [03:26<00:00,  1.43it/s, batch=290, gpu_temp=57, loss=0.95] \n",
      "100%|██████████| 1023/1023 [00:20<00:00, 50.51it/s]\n"
     ]
    },
    {
     "name": "stdout",
     "output_type": "stream",
     "text": [
      "result: [{'type': 'start'}, {'type': 'next_frame'}, {'type': 'next_frame'}, {'type': 'next_frame'}, {'type': 'next_frame'}, {'type': 'next_frame'}, {'type': 'next_frame'}, {'type': 'next_frame'}, {'type': 'next_frame'}, {'type': 'next_frame'}]\n"
     ]
    },
    {
     "name": "stderr",
     "output_type": "stream",
     "text": [
      "100%|██████████| 296/296 [03:26<00:00,  1.43it/s, batch=290, gpu_temp=57, loss=0.924]\n",
      "100%|██████████| 1023/1023 [00:20<00:00, 49.91it/s]\n"
     ]
    },
    {
     "name": "stdout",
     "output_type": "stream",
     "text": [
      "result: [{'type': 'start'}, {'value': 20, 'type': 'pitch'}, {'value': 17, 'type': 'velocity'}, {'value': 32, 'type': 'pitch'}, {'value': 19, 'type': 'velocity'}, {'value': 44, 'type': 'pitch'}, {'value': 19, 'type': 'velocity'}, {'type': 'next_frame'}, {'type': 'next_frame'}, {'type': 'next_frame'}]\n"
     ]
    },
    {
     "name": "stderr",
     "output_type": "stream",
     "text": [
      "100%|██████████| 296/296 [03:24<00:00,  1.45it/s, batch=290, gpu_temp=56, loss=1.05] \n",
      "100%|██████████| 1023/1023 [00:19<00:00, 51.16it/s]\n"
     ]
    },
    {
     "name": "stdout",
     "output_type": "stream",
     "text": [
      "result: [{'type': 'start'}, {'type': 'next_frame'}, {'type': 'next_frame'}, {'type': 'next_frame'}, {'type': 'next_frame'}, {'type': 'next_frame'}, {'type': 'next_frame'}, {'type': 'next_frame'}, {'type': 'next_frame'}, {'type': 'next_frame'}]\n"
     ]
    },
    {
     "name": "stderr",
     "output_type": "stream",
     "text": [
      "100%|██████████| 296/296 [03:27<00:00,  1.43it/s, batch=290, gpu_temp=55, loss=1.12] \n",
      "100%|██████████| 1023/1023 [00:20<00:00, 50.25it/s]\n"
     ]
    },
    {
     "name": "stdout",
     "output_type": "stream",
     "text": [
      "result: [{'type': 'start'}, {'type': 'next_frame'}, {'type': 'next_frame'}, {'type': 'next_frame'}, {'type': 'next_frame'}, {'type': 'next_frame'}, {'type': 'next_frame'}, {'type': 'next_frame'}, {'type': 'next_frame'}, {'type': 'next_frame'}]\n"
     ]
    },
    {
     "name": "stderr",
     "output_type": "stream",
     "text": [
      "100%|██████████| 296/296 [03:27<00:00,  1.42it/s, batch=290, gpu_temp=55, loss=0.939]\n",
      "100%|██████████| 1023/1023 [00:20<00:00, 50.56it/s]\n"
     ]
    },
    {
     "name": "stdout",
     "output_type": "stream",
     "text": [
      "result: [{'type': 'start'}, {'type': 'next_frame'}, {'type': 'next_frame'}, {'type': 'next_frame'}, {'type': 'next_frame'}, {'type': 'next_frame'}, {'type': 'next_frame'}, {'type': 'next_frame'}, {'type': 'next_frame'}, {'type': 'next_frame'}]\n"
     ]
    },
    {
     "name": "stderr",
     "output_type": "stream",
     "text": [
      "100%|██████████| 296/296 [03:27<00:00,  1.43it/s, batch=290, gpu_temp=57, loss=1.01] \n",
      "100%|██████████| 1023/1023 [00:20<00:00, 49.86it/s]\n"
     ]
    },
    {
     "name": "stdout",
     "output_type": "stream",
     "text": [
      "result: [{'type': 'start'}, {'type': 'next_frame'}, {'type': 'next_frame'}, {'type': 'next_frame'}, {'type': 'next_frame'}, {'type': 'next_frame'}, {'type': 'next_frame'}, {'type': 'next_frame'}, {'type': 'next_frame'}, {'type': 'next_frame'}]\n"
     ]
    },
    {
     "name": "stderr",
     "output_type": "stream",
     "text": [
      "100%|██████████| 296/296 [03:27<00:00,  1.43it/s, batch=290, gpu_temp=57, loss=1.02] \n",
      "100%|██████████| 1023/1023 [00:20<00:00, 50.36it/s]\n"
     ]
    },
    {
     "name": "stdout",
     "output_type": "stream",
     "text": [
      "result: [{'type': 'start'}, {'type': 'next_frame'}, {'type': 'next_frame'}, {'type': 'next_frame'}, {'type': 'next_frame'}, {'type': 'next_frame'}, {'type': 'next_frame'}, {'type': 'next_frame'}, {'type': 'next_frame'}, {'type': 'next_frame'}]\n"
     ]
    },
    {
     "name": "stderr",
     "output_type": "stream",
     "text": [
      "100%|██████████| 296/296 [03:29<00:00,  1.41it/s, batch=290, gpu_temp=56, loss=0.998]\n",
      "100%|██████████| 1023/1023 [00:20<00:00, 50.37it/s]\n"
     ]
    },
    {
     "name": "stdout",
     "output_type": "stream",
     "text": [
      "result: [{'type': 'start'}, {'value': 20, 'type': 'pitch'}, {'value': 7, 'type': 'velocity'}, {'value': 24, 'type': 'pitch'}, {'value': 7, 'type': 'velocity'}, {'value': 27, 'type': 'pitch'}, {'value': 10, 'type': 'velocity'}, {'value': 31, 'type': 'pitch'}, {'value': 12, 'type': 'velocity'}, {'value': 39, 'type': 'pitch'}]\n"
     ]
    },
    {
     "name": "stderr",
     "output_type": "stream",
     "text": [
      "100%|██████████| 296/296 [03:29<00:00,  1.41it/s, batch=290, gpu_temp=51, loss=0.961]\n",
      "100%|██████████| 1023/1023 [00:20<00:00, 50.75it/s]\n"
     ]
    },
    {
     "name": "stdout",
     "output_type": "stream",
     "text": [
      "result: [{'type': 'start'}, {'type': 'next_frame'}, {'type': 'next_frame'}, {'type': 'next_frame'}, {'type': 'next_frame'}, {'type': 'next_frame'}, {'type': 'next_frame'}, {'type': 'next_frame'}, {'type': 'next_frame'}, {'type': 'next_frame'}]\n"
     ]
    },
    {
     "name": "stderr",
     "output_type": "stream",
     "text": [
      "100%|██████████| 296/296 [03:26<00:00,  1.43it/s, batch=290, gpu_temp=56, loss=0.882]\n",
      "100%|██████████| 1023/1023 [00:20<00:00, 50.56it/s]\n"
     ]
    },
    {
     "name": "stdout",
     "output_type": "stream",
     "text": [
      "result: [{'type': 'start'}, {'type': 'next_frame'}, {'type': 'next_frame'}, {'type': 'next_frame'}, {'type': 'next_frame'}, {'type': 'next_frame'}, {'type': 'next_frame'}, {'type': 'next_frame'}, {'type': 'next_frame'}, {'type': 'next_frame'}]\n"
     ]
    },
    {
     "name": "stderr",
     "output_type": "stream",
     "text": [
      "100%|██████████| 296/296 [03:25<00:00,  1.44it/s, batch=290, gpu_temp=58, loss=0.96] \n",
      "100%|██████████| 1023/1023 [00:20<00:00, 50.69it/s]\n"
     ]
    },
    {
     "name": "stdout",
     "output_type": "stream",
     "text": [
      "result: [{'type': 'start'}, {'type': 'next_frame'}, {'type': 'next_frame'}, {'type': 'next_frame'}, {'type': 'next_frame'}, {'type': 'next_frame'}, {'type': 'next_frame'}, {'type': 'next_frame'}, {'type': 'next_frame'}, {'type': 'next_frame'}]\n"
     ]
    },
    {
     "name": "stderr",
     "output_type": "stream",
     "text": [
      "100%|██████████| 296/296 [03:36<00:00,  1.37it/s, batch=290, gpu_temp=52, loss=0.892]\n",
      "100%|██████████| 1023/1023 [00:20<00:00, 49.96it/s]\n"
     ]
    },
    {
     "name": "stdout",
     "output_type": "stream",
     "text": [
      "result: [{'type': 'start'}, {'type': 'next_frame'}, {'type': 'next_frame'}, {'type': 'next_frame'}, {'type': 'next_frame'}, {'type': 'next_frame'}, {'type': 'next_frame'}, {'type': 'next_frame'}, {'type': 'next_frame'}, {'type': 'next_frame'}]\n"
     ]
    },
    {
     "name": "stderr",
     "output_type": "stream",
     "text": [
      "100%|██████████| 296/296 [03:25<00:00,  1.44it/s, batch=290, gpu_temp=54, loss=1.06] \n",
      "100%|██████████| 1023/1023 [00:20<00:00, 51.00it/s]\n"
     ]
    },
    {
     "name": "stdout",
     "output_type": "stream",
     "text": [
      "result: [{'type': 'start'}, {'type': 'next_frame'}, {'type': 'next_frame'}, {'type': 'next_frame'}, {'type': 'next_frame'}, {'type': 'next_frame'}, {'type': 'next_frame'}, {'type': 'next_frame'}, {'type': 'next_frame'}, {'type': 'next_frame'}]\n"
     ]
    },
    {
     "name": "stderr",
     "output_type": "stream",
     "text": [
      "100%|██████████| 296/296 [03:24<00:00,  1.44it/s, batch=290, gpu_temp=55, loss=1.11] \n",
      "100%|██████████| 1023/1023 [00:20<00:00, 50.45it/s]\n"
     ]
    },
    {
     "name": "stdout",
     "output_type": "stream",
     "text": [
      "result: [{'type': 'start'}, {'type': 'next_frame'}, {'type': 'next_frame'}, {'type': 'next_frame'}, {'type': 'next_frame'}, {'type': 'next_frame'}, {'type': 'next_frame'}, {'type': 'next_frame'}, {'type': 'next_frame'}, {'type': 'next_frame'}]\n"
     ]
    },
    {
     "name": "stderr",
     "output_type": "stream",
     "text": [
      "100%|██████████| 296/296 [03:28<00:00,  1.42it/s, batch=290, gpu_temp=55, loss=0.972]\n",
      "100%|██████████| 1023/1023 [00:20<00:00, 49.76it/s]\n"
     ]
    },
    {
     "name": "stdout",
     "output_type": "stream",
     "text": [
      "result: [{'type': 'start'}, {'value': 15, 'type': 'pitch'}, {'value': 21, 'type': 'velocity'}, {'value': 27, 'type': 'pitch'}, {'value': 24, 'type': 'velocity'}, {'value': 43, 'type': 'pitch'}, {'value': 21, 'type': 'velocity'}, {'value': 46, 'type': 'pitch'}, {'value': 22, 'type': 'velocity'}, {'value': 51, 'type': 'pitch'}]\n"
     ]
    },
    {
     "name": "stderr",
     "output_type": "stream",
     "text": [
      "100%|██████████| 296/296 [03:26<00:00,  1.43it/s, batch=290, gpu_temp=56, loss=0.937]\n",
      "100%|██████████| 1023/1023 [00:20<00:00, 49.35it/s]\n"
     ]
    },
    {
     "name": "stdout",
     "output_type": "stream",
     "text": [
      "result: [{'type': 'start'}, {'type': 'next_frame'}, {'type': 'next_frame'}, {'type': 'next_frame'}, {'type': 'next_frame'}, {'type': 'next_frame'}, {'type': 'next_frame'}, {'type': 'next_frame'}, {'type': 'next_frame'}, {'type': 'next_frame'}]\n"
     ]
    },
    {
     "name": "stderr",
     "output_type": "stream",
     "text": [
      "100%|██████████| 296/296 [03:25<00:00,  1.44it/s, batch=290, gpu_temp=57, loss=0.942]\n",
      "100%|██████████| 1023/1023 [00:20<00:00, 48.97it/s]\n"
     ]
    },
    {
     "name": "stdout",
     "output_type": "stream",
     "text": [
      "result: [{'type': 'start'}, {'type': 'next_frame'}, {'type': 'next_frame'}, {'type': 'next_frame'}, {'type': 'next_frame'}, {'type': 'next_frame'}, {'type': 'next_frame'}, {'type': 'next_frame'}, {'type': 'next_frame'}, {'type': 'next_frame'}]\n"
     ]
    },
    {
     "name": "stderr",
     "output_type": "stream",
     "text": [
      "100%|██████████| 296/296 [03:25<00:00,  1.44it/s, batch=290, gpu_temp=57, loss=0.918]\n",
      "100%|██████████| 1023/1023 [00:20<00:00, 49.56it/s]\n"
     ]
    },
    {
     "name": "stdout",
     "output_type": "stream",
     "text": [
      "result: [{'type': 'start'}, {'type': 'next_frame'}, {'type': 'next_frame'}, {'type': 'next_frame'}, {'type': 'next_frame'}, {'type': 'next_frame'}, {'type': 'next_frame'}, {'type': 'next_frame'}, {'type': 'next_frame'}, {'type': 'next_frame'}]\n"
     ]
    },
    {
     "name": "stderr",
     "output_type": "stream",
     "text": [
      "100%|██████████| 296/296 [03:25<00:00,  1.44it/s, batch=290, gpu_temp=56, loss=0.857]\n",
      "100%|██████████| 1023/1023 [00:20<00:00, 49.10it/s]\n"
     ]
    },
    {
     "name": "stdout",
     "output_type": "stream",
     "text": [
      "result: [{'type': 'start'}, {'type': 'next_frame'}, {'type': 'next_frame'}, {'type': 'next_frame'}, {'type': 'next_frame'}, {'type': 'next_frame'}, {'type': 'next_frame'}, {'type': 'next_frame'}, {'type': 'next_frame'}, {'type': 'next_frame'}]\n"
     ]
    },
    {
     "name": "stderr",
     "output_type": "stream",
     "text": [
      "100%|██████████| 296/296 [03:28<00:00,  1.42it/s, batch=290, gpu_temp=58, loss=0.903]\n",
      "100%|██████████| 1023/1023 [00:21<00:00, 48.59it/s]\n"
     ]
    },
    {
     "name": "stdout",
     "output_type": "stream",
     "text": [
      "result: [{'type': 'start'}, {'type': 'next_frame'}, {'type': 'next_frame'}, {'type': 'next_frame'}, {'type': 'next_frame'}, {'type': 'next_frame'}, {'type': 'next_frame'}, {'type': 'next_frame'}, {'type': 'next_frame'}, {'type': 'next_frame'}]\n"
     ]
    },
    {
     "name": "stderr",
     "output_type": "stream",
     "text": [
      "100%|██████████| 296/296 [03:31<00:00,  1.40it/s, batch=290, gpu_temp=56, loss=0.897]\n",
      "100%|██████████| 1023/1023 [00:20<00:00, 49.80it/s]\n"
     ]
    },
    {
     "name": "stdout",
     "output_type": "stream",
     "text": [
      "result: [{'type': 'start'}, {'type': 'next_frame'}, {'type': 'next_frame'}, {'type': 'next_frame'}, {'type': 'next_frame'}, {'type': 'next_frame'}, {'type': 'next_frame'}, {'type': 'next_frame'}, {'type': 'next_frame'}, {'type': 'next_frame'}]\n"
     ]
    },
    {
     "name": "stderr",
     "output_type": "stream",
     "text": [
      "100%|██████████| 296/296 [03:28<00:00,  1.42it/s, batch=290, gpu_temp=56, loss=0.888]\n",
      "100%|██████████| 1023/1023 [00:21<00:00, 48.14it/s]\n"
     ]
    },
    {
     "name": "stdout",
     "output_type": "stream",
     "text": [
      "result: [{'type': 'start'}, {'type': 'next_frame'}, {'type': 'next_frame'}, {'type': 'next_frame'}, {'type': 'next_frame'}, {'type': 'next_frame'}, {'type': 'next_frame'}, {'type': 'next_frame'}, {'type': 'next_frame'}, {'type': 'next_frame'}]\n"
     ]
    },
    {
     "name": "stderr",
     "output_type": "stream",
     "text": [
      "100%|██████████| 296/296 [02:36<00:00,  1.89it/s, batch=290, gpu_temp=61, loss=0.838]\n",
      "100%|██████████| 1023/1023 [00:15<00:00, 67.50it/s]\n"
     ]
    },
    {
     "name": "stdout",
     "output_type": "stream",
     "text": [
      "result: [{'type': 'start'}, {'type': 'next_frame'}, {'type': 'next_frame'}, {'type': 'next_frame'}, {'type': 'next_frame'}, {'type': 'next_frame'}, {'type': 'next_frame'}, {'type': 'next_frame'}, {'type': 'next_frame'}, {'type': 'next_frame'}]\n"
     ]
    },
    {
     "name": "stderr",
     "output_type": "stream",
     "text": [
      "100%|██████████| 296/296 [02:11<00:00,  2.25it/s, batch=290, gpu_temp=57, loss=0.87] \n",
      "100%|██████████| 1023/1023 [00:14<00:00, 69.51it/s]\n"
     ]
    },
    {
     "name": "stdout",
     "output_type": "stream",
     "text": [
      "result: [{'type': 'start'}, {'type': 'next_frame'}, {'type': 'next_frame'}, {'type': 'next_frame'}, {'type': 'next_frame'}, {'type': 'next_frame'}, {'type': 'next_frame'}, {'type': 'next_frame'}, {'type': 'next_frame'}, {'type': 'next_frame'}]\n"
     ]
    },
    {
     "name": "stderr",
     "output_type": "stream",
     "text": [
      "100%|██████████| 296/296 [02:17<00:00,  2.15it/s, batch=290, gpu_temp=62, loss=0.827]\n",
      "100%|██████████| 1023/1023 [00:14<00:00, 70.02it/s]\n"
     ]
    },
    {
     "name": "stdout",
     "output_type": "stream",
     "text": [
      "result: [{'type': 'start'}, {'type': 'next_frame'}, {'type': 'next_frame'}, {'type': 'next_frame'}, {'type': 'next_frame'}, {'type': 'next_frame'}, {'type': 'next_frame'}, {'type': 'next_frame'}, {'type': 'next_frame'}, {'type': 'next_frame'}]\n"
     ]
    },
    {
     "name": "stderr",
     "output_type": "stream",
     "text": [
      "100%|██████████| 296/296 [02:20<00:00,  2.11it/s, batch=290, gpu_temp=62, loss=0.907]\n",
      "100%|██████████| 1023/1023 [00:15<00:00, 66.66it/s]\n"
     ]
    },
    {
     "name": "stdout",
     "output_type": "stream",
     "text": [
      "result: [{'type': 'start'}, {'value': 20, 'type': 'pitch'}, {'value': 9, 'type': 'velocity'}, {'value': 32, 'type': 'pitch'}, {'value': 10, 'type': 'velocity'}, {'value': 51, 'type': 'pitch'}, {'value': 16, 'type': 'velocity'}, {'value': 60, 'type': 'pitch'}, {'value': 18, 'type': 'velocity'}, {'type': 'next_frame'}]\n"
     ]
    },
    {
     "name": "stderr",
     "output_type": "stream",
     "text": [
      "100%|██████████| 296/296 [02:18<00:00,  2.13it/s, batch=290, gpu_temp=62, loss=0.835]\n",
      "100%|██████████| 1023/1023 [00:14<00:00, 72.20it/s]\n"
     ]
    },
    {
     "name": "stdout",
     "output_type": "stream",
     "text": [
      "result: [{'type': 'start'}, {'type': 'next_frame'}, {'type': 'next_frame'}, {'type': 'next_frame'}, {'type': 'next_frame'}, {'type': 'next_frame'}, {'type': 'next_frame'}, {'type': 'next_frame'}, {'type': 'next_frame'}, {'type': 'next_frame'}]\n"
     ]
    },
    {
     "name": "stderr",
     "output_type": "stream",
     "text": [
      "100%|██████████| 296/296 [02:17<00:00,  2.16it/s, batch=290, gpu_temp=61, loss=0.846]\n",
      "100%|██████████| 1023/1023 [00:14<00:00, 71.93it/s]\n"
     ]
    },
    {
     "name": "stdout",
     "output_type": "stream",
     "text": [
      "result: [{'type': 'start'}, {'type': 'next_frame'}, {'type': 'next_frame'}, {'type': 'next_frame'}, {'type': 'next_frame'}, {'type': 'next_frame'}, {'type': 'next_frame'}, {'type': 'next_frame'}, {'type': 'next_frame'}, {'type': 'next_frame'}]\n"
     ]
    },
    {
     "name": "stderr",
     "output_type": "stream",
     "text": [
      "100%|██████████| 296/296 [02:18<00:00,  2.14it/s, batch=290, gpu_temp=61, loss=0.946]\n",
      "100%|██████████| 1023/1023 [00:14<00:00, 71.59it/s]\n"
     ]
    },
    {
     "name": "stdout",
     "output_type": "stream",
     "text": [
      "result: [{'type': 'start'}, {'type': 'next_frame'}, {'type': 'next_frame'}, {'type': 'next_frame'}, {'type': 'next_frame'}, {'type': 'next_frame'}, {'type': 'next_frame'}, {'type': 'next_frame'}, {'type': 'next_frame'}, {'type': 'next_frame'}]\n"
     ]
    },
    {
     "name": "stderr",
     "output_type": "stream",
     "text": [
      "100%|██████████| 296/296 [02:19<00:00,  2.13it/s, batch=290, gpu_temp=61, loss=0.899]\n",
      "100%|██████████| 1023/1023 [00:14<00:00, 69.79it/s]\n"
     ]
    },
    {
     "name": "stdout",
     "output_type": "stream",
     "text": [
      "result: [{'type': 'start'}, {'type': 'next_frame'}, {'type': 'next_frame'}, {'type': 'next_frame'}, {'type': 'next_frame'}, {'type': 'next_frame'}, {'type': 'next_frame'}, {'type': 'next_frame'}, {'type': 'next_frame'}, {'type': 'next_frame'}]\n"
     ]
    },
    {
     "name": "stderr",
     "output_type": "stream",
     "text": [
      "100%|██████████| 296/296 [02:17<00:00,  2.16it/s, batch=290, gpu_temp=57, loss=0.893]\n",
      "100%|██████████| 1023/1023 [00:13<00:00, 77.45it/s]\n"
     ]
    },
    {
     "name": "stdout",
     "output_type": "stream",
     "text": [
      "result: [{'type': 'start'}, {'type': 'next_frame'}, {'type': 'next_frame'}, {'type': 'next_frame'}, {'type': 'next_frame'}, {'type': 'next_frame'}, {'type': 'next_frame'}, {'type': 'next_frame'}, {'type': 'next_frame'}, {'value': 19, 'type': 'pitch'}]\n"
     ]
    },
    {
     "name": "stderr",
     "output_type": "stream",
     "text": [
      "100%|██████████| 296/296 [02:03<00:00,  2.40it/s, batch=290, gpu_temp=57, loss=0.968]\n",
      "100%|██████████| 1023/1023 [00:13<00:00, 76.54it/s]\n"
     ]
    },
    {
     "name": "stdout",
     "output_type": "stream",
     "text": [
      "result: [{'type': 'start'}, {'type': 'next_frame'}, {'type': 'next_frame'}, {'type': 'next_frame'}, {'type': 'next_frame'}, {'type': 'next_frame'}, {'type': 'next_frame'}, {'type': 'next_frame'}, {'type': 'next_frame'}, {'type': 'next_frame'}]\n"
     ]
    },
    {
     "name": "stderr",
     "output_type": "stream",
     "text": [
      "100%|██████████| 296/296 [02:03<00:00,  2.39it/s, batch=290, gpu_temp=57, loss=0.859]\n",
      "100%|██████████| 1023/1023 [00:13<00:00, 75.05it/s]\n"
     ]
    },
    {
     "name": "stdout",
     "output_type": "stream",
     "text": [
      "result: [{'type': 'start'}, {'type': 'next_frame'}, {'type': 'next_frame'}, {'type': 'next_frame'}, {'type': 'next_frame'}, {'type': 'next_frame'}, {'type': 'next_frame'}, {'type': 'next_frame'}, {'type': 'next_frame'}, {'type': 'next_frame'}]\n"
     ]
    },
    {
     "name": "stderr",
     "output_type": "stream",
     "text": [
      "100%|██████████| 296/296 [02:03<00:00,  2.39it/s, batch=290, gpu_temp=62, loss=0.946]\n",
      "100%|██████████| 1023/1023 [00:13<00:00, 75.05it/s]\n"
     ]
    },
    {
     "name": "stdout",
     "output_type": "stream",
     "text": [
      "result: [{'type': 'start'}, {'value': 15, 'type': 'pitch'}, {'value': 19, 'type': 'velocity'}, {'value': 27, 'type': 'pitch'}, {'value': 18, 'type': 'velocity'}, {'value': 34, 'type': 'pitch'}, {'value': 20, 'type': 'velocity'}, {'value': 39, 'type': 'pitch'}, {'value': 17, 'type': 'velocity'}, {'value': 43, 'type': 'pitch'}]\n"
     ]
    },
    {
     "name": "stderr",
     "output_type": "stream",
     "text": [
      "100%|██████████| 296/296 [02:03<00:00,  2.39it/s, batch=290, gpu_temp=57, loss=1.02] \n",
      "100%|██████████| 1023/1023 [00:13<00:00, 78.09it/s]\n"
     ]
    },
    {
     "name": "stdout",
     "output_type": "stream",
     "text": [
      "result: [{'type': 'start'}, {'type': 'next_frame'}, {'type': 'next_frame'}, {'type': 'next_frame'}, {'type': 'next_frame'}, {'type': 'next_frame'}, {'type': 'next_frame'}, {'type': 'next_frame'}, {'type': 'next_frame'}, {'type': 'next_frame'}]\n"
     ]
    },
    {
     "name": "stderr",
     "output_type": "stream",
     "text": [
      "100%|██████████| 296/296 [02:04<00:00,  2.38it/s, batch=290, gpu_temp=57, loss=0.775]\n",
      "100%|██████████| 1023/1023 [00:13<00:00, 74.76it/s]\n"
     ]
    },
    {
     "name": "stdout",
     "output_type": "stream",
     "text": [
      "result: [{'type': 'start'}, {'value': 27, 'type': 'pitch'}, {'value': 17, 'type': 'velocity'}, {'type': 'next_frame'}, {'type': 'next_frame'}, {'type': 'next_frame'}, {'type': 'next_frame'}, {'value': 34, 'type': 'pitch'}, {'value': 16, 'type': 'velocity'}, {'type': 'next_frame'}]\n"
     ]
    },
    {
     "name": "stderr",
     "output_type": "stream",
     "text": [
      "100%|██████████| 296/296 [02:04<00:00,  2.38it/s, batch=290, gpu_temp=59, loss=1.02] \n",
      "100%|██████████| 1023/1023 [00:13<00:00, 76.00it/s]\n"
     ]
    },
    {
     "name": "stdout",
     "output_type": "stream",
     "text": [
      "result: [{'type': 'start'}, {'type': 'next_frame'}, {'type': 'next_frame'}, {'type': 'next_frame'}, {'type': 'next_frame'}, {'type': 'next_frame'}, {'type': 'next_frame'}, {'type': 'next_frame'}, {'type': 'next_frame'}, {'type': 'next_frame'}]\n"
     ]
    },
    {
     "name": "stderr",
     "output_type": "stream",
     "text": [
      "100%|██████████| 296/296 [02:03<00:00,  2.39it/s, batch=290, gpu_temp=57, loss=1.02] \n",
      "100%|██████████| 1023/1023 [00:13<00:00, 74.49it/s]\n"
     ]
    },
    {
     "name": "stdout",
     "output_type": "stream",
     "text": [
      "result: [{'type': 'start'}, {'type': 'next_frame'}, {'type': 'next_frame'}, {'type': 'next_frame'}, {'type': 'next_frame'}, {'type': 'next_frame'}, {'type': 'next_frame'}, {'type': 'next_frame'}, {'type': 'next_frame'}, {'type': 'next_frame'}]\n"
     ]
    },
    {
     "name": "stderr",
     "output_type": "stream",
     "text": [
      "100%|██████████| 296/296 [02:04<00:00,  2.37it/s, batch=290, gpu_temp=62, loss=0.809]\n",
      "100%|██████████| 1023/1023 [00:13<00:00, 75.52it/s]\n"
     ]
    },
    {
     "name": "stdout",
     "output_type": "stream",
     "text": [
      "result: [{'type': 'start'}, {'type': 'next_frame'}, {'type': 'next_frame'}, {'type': 'next_frame'}, {'type': 'next_frame'}, {'type': 'next_frame'}, {'type': 'next_frame'}, {'type': 'next_frame'}, {'type': 'next_frame'}, {'type': 'next_frame'}]\n"
     ]
    },
    {
     "name": "stderr",
     "output_type": "stream",
     "text": [
      "100%|██████████| 296/296 [02:04<00:00,  2.38it/s, batch=290, gpu_temp=63, loss=0.84] \n",
      "100%|██████████| 1023/1023 [00:13<00:00, 75.86it/s]\n"
     ]
    },
    {
     "name": "stdout",
     "output_type": "stream",
     "text": [
      "result: [{'type': 'start'}, {'type': 'next_frame'}, {'type': 'next_frame'}, {'type': 'next_frame'}, {'type': 'next_frame'}, {'type': 'next_frame'}, {'type': 'next_frame'}, {'type': 'next_frame'}, {'type': 'next_frame'}, {'type': 'next_frame'}]\n"
     ]
    },
    {
     "name": "stderr",
     "output_type": "stream",
     "text": [
      "100%|██████████| 296/296 [02:08<00:00,  2.30it/s, batch=290, gpu_temp=61, loss=0.837]\n",
      "100%|██████████| 1023/1023 [00:13<00:00, 78.01it/s]\n"
     ]
    },
    {
     "name": "stdout",
     "output_type": "stream",
     "text": [
      "result: [{'type': 'start'}, {'value': 24, 'type': 'pitch'}, {'value': 18, 'type': 'velocity'}, {'value': 63, 'type': 'pitch'}, {'value': 23, 'type': 'velocity'}, {'type': 'next_frame'}, {'type': 'next_frame'}, {'type': 'next_frame'}, {'type': 'next_frame'}, {'value': 31, 'type': 'pitch'}]\n"
     ]
    },
    {
     "name": "stderr",
     "output_type": "stream",
     "text": [
      "100%|██████████| 296/296 [02:02<00:00,  2.41it/s, batch=290, gpu_temp=57, loss=0.884]\n",
      "100%|██████████| 1023/1023 [00:13<00:00, 76.67it/s]\n"
     ]
    },
    {
     "name": "stdout",
     "output_type": "stream",
     "text": [
      "result: [{'type': 'start'}, {'type': 'next_frame'}, {'type': 'next_frame'}, {'type': 'next_frame'}, {'type': 'next_frame'}, {'type': 'next_frame'}, {'type': 'next_frame'}, {'type': 'next_frame'}, {'type': 'next_frame'}, {'type': 'next_frame'}]\n"
     ]
    },
    {
     "name": "stderr",
     "output_type": "stream",
     "text": [
      "100%|██████████| 296/296 [02:03<00:00,  2.39it/s, batch=290, gpu_temp=64, loss=0.773]\n",
      "100%|██████████| 1023/1023 [00:13<00:00, 75.85it/s]\n"
     ]
    },
    {
     "name": "stdout",
     "output_type": "stream",
     "text": [
      "result: [{'type': 'start'}, {'type': 'next_frame'}, {'type': 'next_frame'}, {'type': 'next_frame'}, {'type': 'next_frame'}, {'type': 'next_frame'}, {'type': 'next_frame'}, {'type': 'next_frame'}, {'type': 'next_frame'}, {'type': 'next_frame'}]\n"
     ]
    },
    {
     "name": "stderr",
     "output_type": "stream",
     "text": [
      "100%|██████████| 296/296 [02:05<00:00,  2.37it/s, batch=290, gpu_temp=63, loss=0.869]\n",
      "100%|██████████| 1023/1023 [00:13<00:00, 75.78it/s]\n"
     ]
    },
    {
     "name": "stdout",
     "output_type": "stream",
     "text": [
      "result: [{'type': 'start'}, {'type': 'next_frame'}, {'type': 'next_frame'}, {'type': 'next_frame'}, {'type': 'next_frame'}, {'type': 'next_frame'}, {'type': 'next_frame'}, {'type': 'next_frame'}, {'type': 'next_frame'}, {'type': 'next_frame'}]\n"
     ]
    },
    {
     "name": "stderr",
     "output_type": "stream",
     "text": [
      "100%|██████████| 296/296 [02:04<00:00,  2.38it/s, batch=290, gpu_temp=57, loss=0.873]\n",
      "100%|██████████| 1023/1023 [00:13<00:00, 75.50it/s]\n"
     ]
    },
    {
     "name": "stdout",
     "output_type": "stream",
     "text": [
      "result: [{'type': 'start'}, {'type': 'next_frame'}, {'type': 'next_frame'}, {'type': 'next_frame'}, {'type': 'next_frame'}, {'type': 'next_frame'}, {'type': 'next_frame'}, {'type': 'next_frame'}, {'type': 'next_frame'}, {'type': 'next_frame'}]\n"
     ]
    },
    {
     "name": "stderr",
     "output_type": "stream",
     "text": [
      "100%|██████████| 296/296 [02:04<00:00,  2.38it/s, batch=290, gpu_temp=63, loss=1.02] \n",
      "100%|██████████| 1023/1023 [00:13<00:00, 74.70it/s]\n"
     ]
    },
    {
     "name": "stdout",
     "output_type": "stream",
     "text": [
      "result: [{'type': 'start'}, {'type': 'next_frame'}, {'type': 'next_frame'}, {'type': 'next_frame'}, {'type': 'next_frame'}, {'type': 'next_frame'}, {'type': 'next_frame'}, {'type': 'next_frame'}, {'type': 'next_frame'}, {'type': 'next_frame'}]\n"
     ]
    },
    {
     "name": "stderr",
     "output_type": "stream",
     "text": [
      "100%|██████████| 296/296 [02:04<00:00,  2.38it/s, batch=290, gpu_temp=62, loss=0.823]\n",
      "100%|██████████| 1023/1023 [00:13<00:00, 74.93it/s]\n"
     ]
    },
    {
     "name": "stdout",
     "output_type": "stream",
     "text": [
      "result: [{'type': 'start'}, {'type': 'next_frame'}, {'type': 'next_frame'}, {'type': 'next_frame'}, {'type': 'next_frame'}, {'type': 'next_frame'}, {'type': 'next_frame'}, {'type': 'next_frame'}, {'type': 'next_frame'}, {'type': 'next_frame'}]\n"
     ]
    },
    {
     "name": "stderr",
     "output_type": "stream",
     "text": [
      "100%|██████████| 296/296 [02:04<00:00,  2.38it/s, batch=290, gpu_temp=58, loss=1.11] \n",
      "100%|██████████| 1023/1023 [00:13<00:00, 73.79it/s]\n"
     ]
    },
    {
     "name": "stdout",
     "output_type": "stream",
     "text": [
      "result: [{'type': 'start'}, {'type': 'next_frame'}, {'type': 'next_frame'}, {'type': 'next_frame'}, {'type': 'next_frame'}, {'type': 'next_frame'}, {'type': 'next_frame'}, {'type': 'next_frame'}, {'type': 'next_frame'}, {'value': 39, 'type': 'pitch'}]\n"
     ]
    },
    {
     "name": "stderr",
     "output_type": "stream",
     "text": [
      "100%|██████████| 296/296 [02:03<00:00,  2.39it/s, batch=290, gpu_temp=58, loss=0.738]\n",
      "100%|██████████| 1023/1023 [00:13<00:00, 73.97it/s]\n"
     ]
    },
    {
     "name": "stdout",
     "output_type": "stream",
     "text": [
      "result: [{'type': 'start'}, {'type': 'next_frame'}, {'type': 'next_frame'}, {'type': 'next_frame'}, {'type': 'next_frame'}, {'type': 'next_frame'}, {'type': 'next_frame'}, {'type': 'next_frame'}, {'type': 'next_frame'}, {'type': 'next_frame'}]\n"
     ]
    },
    {
     "name": "stderr",
     "output_type": "stream",
     "text": [
      "100%|██████████| 296/296 [02:02<00:00,  2.41it/s, batch=290, gpu_temp=57, loss=0.807]\n",
      "100%|██████████| 1023/1023 [00:13<00:00, 73.75it/s]\n"
     ]
    },
    {
     "name": "stdout",
     "output_type": "stream",
     "text": [
      "result: [{'type': 'start'}, {'type': 'next_frame'}, {'type': 'next_frame'}, {'type': 'next_frame'}, {'type': 'next_frame'}, {'type': 'next_frame'}, {'type': 'next_frame'}, {'type': 'next_frame'}, {'type': 'next_frame'}, {'type': 'next_frame'}]\n"
     ]
    },
    {
     "name": "stderr",
     "output_type": "stream",
     "text": [
      "100%|██████████| 296/296 [02:04<00:00,  2.39it/s, batch=290, gpu_temp=58, loss=0.91] \n",
      "100%|██████████| 1023/1023 [00:13<00:00, 75.12it/s]\n"
     ]
    },
    {
     "name": "stdout",
     "output_type": "stream",
     "text": [
      "result: [{'type': 'start'}, {'value': 36, 'type': 'pitch'}, {'value': 6, 'type': 'velocity'}, {'value': 39, 'type': 'pitch'}, {'value': 8, 'type': 'velocity'}, {'value': 50, 'type': 'pitch'}, {'value': 10, 'type': 'velocity'}, {'type': 'next_frame'}, {'type': 'next_frame'}, {'type': 'next_frame'}]\n"
     ]
    },
    {
     "name": "stderr",
     "output_type": "stream",
     "text": [
      "100%|██████████| 296/296 [02:03<00:00,  2.39it/s, batch=290, gpu_temp=62, loss=0.911]\n",
      "100%|██████████| 1023/1023 [00:13<00:00, 75.03it/s]\n"
     ]
    },
    {
     "name": "stdout",
     "output_type": "stream",
     "text": [
      "result: [{'type': 'start'}, {'type': 'next_frame'}, {'type': 'next_frame'}, {'type': 'next_frame'}, {'type': 'next_frame'}, {'type': 'next_frame'}, {'type': 'next_frame'}, {'type': 'next_frame'}, {'type': 'next_frame'}, {'type': 'next_frame'}]\n"
     ]
    },
    {
     "name": "stderr",
     "output_type": "stream",
     "text": [
      "100%|██████████| 296/296 [02:04<00:00,  2.38it/s, batch=290, gpu_temp=63, loss=0.926]\n",
      "100%|██████████| 1023/1023 [00:13<00:00, 75.97it/s]\n"
     ]
    },
    {
     "name": "stdout",
     "output_type": "stream",
     "text": [
      "result: [{'type': 'start'}, {'type': 'next_frame'}, {'type': 'next_frame'}, {'type': 'next_frame'}, {'type': 'next_frame'}, {'type': 'next_frame'}, {'type': 'next_frame'}, {'type': 'next_frame'}, {'type': 'next_frame'}, {'type': 'next_frame'}]\n"
     ]
    },
    {
     "name": "stderr",
     "output_type": "stream",
     "text": [
      "100%|██████████| 296/296 [02:05<00:00,  2.35it/s, batch=290, gpu_temp=57, loss=0.887]\n",
      "100%|██████████| 1023/1023 [00:14<00:00, 72.83it/s]\n"
     ]
    },
    {
     "name": "stdout",
     "output_type": "stream",
     "text": [
      "result: [{'type': 'start'}, {'type': 'next_frame'}, {'type': 'next_frame'}, {'type': 'next_frame'}, {'type': 'next_frame'}, {'type': 'next_frame'}, {'type': 'next_frame'}, {'type': 'next_frame'}, {'type': 'next_frame'}, {'type': 'next_frame'}]\n"
     ]
    },
    {
     "name": "stderr",
     "output_type": "stream",
     "text": [
      "100%|██████████| 296/296 [02:04<00:00,  2.37it/s, batch=290, gpu_temp=57, loss=0.752]\n",
      "100%|██████████| 1023/1023 [00:13<00:00, 74.85it/s]\n"
     ]
    },
    {
     "name": "stdout",
     "output_type": "stream",
     "text": [
      "result: [{'type': 'start'}, {'type': 'next_frame'}, {'type': 'next_frame'}, {'type': 'next_frame'}, {'type': 'next_frame'}, {'type': 'next_frame'}, {'type': 'next_frame'}, {'type': 'next_frame'}, {'type': 'next_frame'}, {'type': 'next_frame'}]\n"
     ]
    },
    {
     "name": "stderr",
     "output_type": "stream",
     "text": [
      "100%|██████████| 296/296 [02:05<00:00,  2.36it/s, batch=290, gpu_temp=62, loss=0.942]\n",
      "100%|██████████| 1023/1023 [00:13<00:00, 73.63it/s]\n"
     ]
    },
    {
     "name": "stdout",
     "output_type": "stream",
     "text": [
      "result: [{'type': 'start'}, {'type': 'next_frame'}, {'type': 'next_frame'}, {'type': 'next_frame'}, {'type': 'next_frame'}, {'type': 'next_frame'}, {'type': 'next_frame'}, {'type': 'next_frame'}, {'type': 'next_frame'}, {'type': 'next_frame'}]\n"
     ]
    },
    {
     "name": "stderr",
     "output_type": "stream",
     "text": [
      "100%|██████████| 296/296 [02:04<00:00,  2.37it/s, batch=290, gpu_temp=57, loss=0.773]\n",
      "100%|██████████| 1023/1023 [00:13<00:00, 75.85it/s]\n"
     ]
    },
    {
     "name": "stdout",
     "output_type": "stream",
     "text": [
      "result: [{'type': 'start'}, {'type': 'next_frame'}, {'type': 'next_frame'}, {'type': 'next_frame'}, {'type': 'next_frame'}, {'type': 'next_frame'}, {'type': 'next_frame'}, {'type': 'next_frame'}, {'type': 'next_frame'}, {'type': 'next_frame'}]\n"
     ]
    },
    {
     "name": "stderr",
     "output_type": "stream",
     "text": [
      "100%|██████████| 296/296 [02:04<00:00,  2.38it/s, batch=290, gpu_temp=57, loss=0.838]\n",
      "100%|██████████| 1023/1023 [00:13<00:00, 73.71it/s]\n"
     ]
    },
    {
     "name": "stdout",
     "output_type": "stream",
     "text": [
      "result: [{'type': 'start'}, {'value': 48, 'type': 'pitch'}, {'value': 12, 'type': 'velocity'}, {'value': 55, 'type': 'pitch'}, {'value': 18, 'type': 'velocity'}, {'value': 63, 'type': 'pitch'}, {'value': 17, 'type': 'velocity'}, {'type': 'next_frame'}, {'type': 'next_frame'}, {'type': 'next_frame'}]\n"
     ]
    },
    {
     "name": "stderr",
     "output_type": "stream",
     "text": [
      "100%|██████████| 296/296 [02:04<00:00,  2.39it/s, batch=290, gpu_temp=57, loss=0.992]\n",
      "100%|██████████| 1023/1023 [00:13<00:00, 74.42it/s]\n"
     ]
    },
    {
     "name": "stdout",
     "output_type": "stream",
     "text": [
      "result: [{'type': 'start'}, {'value': 32, 'type': 'pitch'}, {'value': 14, 'type': 'velocity'}, {'value': 39, 'type': 'pitch'}, {'value': 14, 'type': 'velocity'}, {'value': 44, 'type': 'pitch'}, {'value': 14, 'type': 'velocity'}, {'value': 48, 'type': 'pitch'}, {'value': 16, 'type': 'velocity'}, {'value': 51, 'type': 'pitch'}]\n"
     ]
    },
    {
     "name": "stderr",
     "output_type": "stream",
     "text": [
      "100%|██████████| 296/296 [02:04<00:00,  2.37it/s, batch=290, gpu_temp=57, loss=0.805]\n",
      "100%|██████████| 1023/1023 [00:13<00:00, 73.58it/s]\n"
     ]
    },
    {
     "name": "stdout",
     "output_type": "stream",
     "text": [
      "result: [{'type': 'start'}, {'value': 22, 'type': 'pitch'}, {'value': 14, 'type': 'velocity'}, {'value': 34, 'type': 'pitch'}, {'value': 18, 'type': 'velocity'}, {'value': 38, 'type': 'pitch'}, {'value': 18, 'type': 'velocity'}, {'value': 41, 'type': 'pitch'}, {'value': 17, 'type': 'velocity'}, {'value': 46, 'type': 'pitch'}]\n"
     ]
    },
    {
     "name": "stderr",
     "output_type": "stream",
     "text": [
      "100%|██████████| 296/296 [02:03<00:00,  2.39it/s, batch=290, gpu_temp=57, loss=0.876]\n",
      "100%|██████████| 1023/1023 [00:13<00:00, 73.26it/s]\n"
     ]
    },
    {
     "name": "stdout",
     "output_type": "stream",
     "text": [
      "result: [{'type': 'start'}, {'type': 'next_frame'}, {'type': 'next_frame'}, {'type': 'next_frame'}, {'type': 'next_frame'}, {'type': 'next_frame'}, {'type': 'next_frame'}, {'type': 'next_frame'}, {'type': 'next_frame'}, {'type': 'next_frame'}]\n"
     ]
    },
    {
     "name": "stderr",
     "output_type": "stream",
     "text": [
      "100%|██████████| 296/296 [02:03<00:00,  2.40it/s, batch=290, gpu_temp=57, loss=0.87] \n",
      "100%|██████████| 1023/1023 [00:13<00:00, 75.79it/s]\n"
     ]
    },
    {
     "name": "stdout",
     "output_type": "stream",
     "text": [
      "result: [{'type': 'start'}, {'value': 10, 'type': 'pitch'}, {'value': 13, 'type': 'velocity'}, {'value': 22, 'type': 'pitch'}, {'value': 14, 'type': 'velocity'}, {'value': 44, 'type': 'pitch'}, {'value': 11, 'type': 'velocity'}, {'value': 46, 'type': 'pitch'}, {'value': 13, 'type': 'velocity'}, {'value': 48, 'type': 'pitch'}]\n"
     ]
    },
    {
     "name": "stderr",
     "output_type": "stream",
     "text": [
      "100%|██████████| 296/296 [02:03<00:00,  2.40it/s, batch=290, gpu_temp=57, loss=0.782]\n",
      "100%|██████████| 1023/1023 [00:13<00:00, 74.64it/s]\n"
     ]
    },
    {
     "name": "stdout",
     "output_type": "stream",
     "text": [
      "result: [{'type': 'start'}, {'type': 'next_frame'}, {'type': 'next_frame'}, {'type': 'next_frame'}, {'type': 'next_frame'}, {'type': 'next_frame'}, {'type': 'next_frame'}, {'type': 'next_frame'}, {'type': 'next_frame'}, {'type': 'next_frame'}]\n"
     ]
    },
    {
     "name": "stderr",
     "output_type": "stream",
     "text": [
      "100%|██████████| 296/296 [02:03<00:00,  2.40it/s, batch=290, gpu_temp=57, loss=0.815]\n",
      "100%|██████████| 1023/1023 [00:13<00:00, 76.04it/s]\n"
     ]
    },
    {
     "name": "stdout",
     "output_type": "stream",
     "text": [
      "result: [{'type': 'start'}, {'value': 27, 'type': 'pitch'}, {'value': 17, 'type': 'velocity'}, {'type': 'next_frame'}, {'type': 'next_frame'}, {'type': 'next_frame'}, {'type': 'next_frame'}, {'type': 'next_frame'}, {'type': 'next_frame'}, {'value': 31, 'type': 'pitch'}]\n"
     ]
    },
    {
     "name": "stderr",
     "output_type": "stream",
     "text": [
      "100%|██████████| 296/296 [02:05<00:00,  2.35it/s, batch=290, gpu_temp=57, loss=0.948]\n",
      "100%|██████████| 1023/1023 [00:13<00:00, 75.88it/s]\n"
     ]
    },
    {
     "name": "stdout",
     "output_type": "stream",
     "text": [
      "result: [{'type': 'start'}, {'type': 'next_frame'}, {'type': 'next_frame'}, {'type': 'next_frame'}, {'type': 'next_frame'}, {'type': 'next_frame'}, {'type': 'next_frame'}, {'type': 'next_frame'}, {'type': 'next_frame'}, {'type': 'next_frame'}]\n"
     ]
    },
    {
     "name": "stderr",
     "output_type": "stream",
     "text": [
      "100%|██████████| 296/296 [02:04<00:00,  2.38it/s, batch=290, gpu_temp=57, loss=0.707]\n",
      "100%|██████████| 1023/1023 [00:13<00:00, 76.53it/s]\n"
     ]
    },
    {
     "name": "stdout",
     "output_type": "stream",
     "text": [
      "result: [{'type': 'start'}, {'value': 36, 'type': 'pitch'}, {'value': 15, 'type': 'velocity'}, {'value': 43, 'type': 'pitch'}, {'value': 17, 'type': 'velocity'}, {'value': 48, 'type': 'pitch'}, {'value': 19, 'type': 'velocity'}, {'value': 51, 'type': 'pitch'}, {'value': 17, 'type': 'velocity'}, {'value': 60, 'type': 'pitch'}]\n"
     ]
    },
    {
     "name": "stderr",
     "output_type": "stream",
     "text": [
      "100%|██████████| 296/296 [02:03<00:00,  2.39it/s, batch=290, gpu_temp=57, loss=0.821]\n",
      "100%|██████████| 1023/1023 [00:13<00:00, 75.70it/s]\n"
     ]
    },
    {
     "name": "stdout",
     "output_type": "stream",
     "text": [
      "result: [{'type': 'start'}, {'value': 36, 'type': 'pitch'}, {'value': 12, 'type': 'velocity'}, {'type': 'next_frame'}, {'type': 'next_frame'}, {'type': 'next_frame'}, {'type': 'next_frame'}, {'type': 'next_frame'}, {'type': 'next_frame'}, {'type': 'next_frame'}]\n"
     ]
    },
    {
     "name": "stderr",
     "output_type": "stream",
     "text": [
      "100%|██████████| 296/296 [02:04<00:00,  2.37it/s, batch=290, gpu_temp=63, loss=0.98] \n",
      "100%|██████████| 1023/1023 [00:13<00:00, 75.19it/s]"
     ]
    },
    {
     "name": "stdout",
     "output_type": "stream",
     "text": [
      "result: [{'type': 'start'}, {'type': 'next_frame'}, {'type': 'next_frame'}, {'type': 'next_frame'}, {'type': 'next_frame'}, {'type': 'next_frame'}, {'type': 'next_frame'}, {'type': 'next_frame'}, {'type': 'next_frame'}, {'type': 'next_frame'}]\n"
     ]
    },
    {
     "name": "stderr",
     "output_type": "stream",
     "text": [
      "\n"
     ]
    }
   ],
   "source": [
    "# train\n",
    "from pianogen import gpu_temp_control\n",
    "\n",
    "temp_control = gpu_temp_control.GPUTempControl(64,3)\n",
    "\n",
    "model.to(device)\n",
    "crit.to(device)\n",
    "\n",
    "model.train()\n",
    "\n",
    "for epoch in range(from_epoch+1,100):\n",
    "    tq = tqdm(dl)\n",
    "    for i, batch in enumerate(tq):\n",
    "        batch = {k:v.to(device) if isinstance(v, torch.Tensor) else v for k,v in batch.items()}\n",
    "        opt.zero_grad()\n",
    "        out = model(batch['indices'][:,:-1], batch['pos'])\n",
    "        loss = crit((out+batch['output_mask']).transpose(1,2), batch['indices'][:,1:])\n",
    "        loss.backward()\n",
    "        opt.step()\n",
    "        temp_control.cooldown()\n",
    "        if i % 10 == 0:\n",
    "            # print the loss to tqdm\n",
    "            tq.set_postfix(batch = i, loss= loss.item(), gpu_temp=temp_control.get_temp())\n",
    "                    \n",
    "        if torch.isnan(loss):\n",
    "            raise ValueError(\"Loss is NaN\")\n",
    "\n",
    "        writer.add_scalar('loss', loss.item(), epoch*len(dl)+i)\n",
    "        writer.add_scalar('gpu_temp', temp_control.get_temp(), epoch*len(dl)+i)\n",
    "        if i % 100 == 0:\n",
    "            accuracy = (out.argmax(dim=-1) == batch['indices'][:,1:]).float().mean().item()\n",
    "            writer.add_scalar('accuracy', accuracy, epoch*len(dl)+i)\n",
    "    \n",
    "    inference(output_dir/f'output_{epoch}_{i}.mid', 1024)\n",
    "\n",
    "    if epoch % 10 == 0:\n",
    "        torch.save({'model':model.state_dict(), 'opt':opt.state_dict()}, checkpoint_dir/f'{epoch}.pt')\n",
    "    \n",
    "\n"
   ]
  },
  {
   "cell_type": "code",
   "execution_count": 10,
   "metadata": {},
   "outputs": [
    {
     "name": "stdout",
     "output_type": "stream",
     "text": [
      "None\n",
      "prompt: [{'type': 'start'}, {'type': 'pitch', 'value': 32}, {'type': 'velocity', 'value': 16}, {'type': 'pitch', 'value': 36}, {'type': 'velocity', 'value': 18}, {'type': 'pitch', 'value': 39}, {'type': 'velocity', 'value': 18}, {'type': 'pitch', 'value': 43}, {'type': 'velocity', 'value': 15}, {'type': 'pitch', 'value': 48}]\n",
      "prompt end: [{'type': 'velocity', 'value': 20}, {'type': 'pitch', 'value': 38}, {'type': 'velocity', 'value': 15}, {'type': 'pitch', 'value': 43}, {'type': 'velocity', 'value': 24}, {'type': 'pitch', 'value': 51}, {'type': 'velocity', 'value': 23}, {'type': 'next_frame'}, {'type': 'next_frame'}, {'type': 'next_frame'}]\n"
     ]
    },
    {
     "name": "stderr",
     "output_type": "stream",
     "text": [
      "100%|██████████| 1400/1400 [00:21<00:00, 66.06it/s]\n"
     ]
    },
    {
     "name": "stdout",
     "output_type": "stream",
     "text": [
      "result: [{'type': 'start'}, {'type': 'pitch', 'value': 32}, {'type': 'velocity', 'value': 16}, {'type': 'pitch', 'value': 36}, {'type': 'velocity', 'value': 18}, {'type': 'pitch', 'value': 39}, {'type': 'velocity', 'value': 18}, {'type': 'pitch', 'value': 43}, {'type': 'velocity', 'value': 15}, {'type': 'pitch', 'value': 48}]\n"
     ]
    }
   ],
   "source": [
    "inference(output_dir/f'test_{epoch}.mid', 1400, pr_ds.get_piano_roll(1917).slice(0, 32*50), p=0.8)"
   ]
  },
  {
   "cell_type": "code",
   "execution_count": 21,
   "metadata": {},
   "outputs": [
    {
     "data": {
      "text/plain": [
       "Pianoroll Bar 000 - 002 of 1"
      ]
     },
     "execution_count": 21,
     "metadata": {},
     "output_type": "execute_result"
    }
   ],
   "source": [
    "pr_ds.get_piano_roll(1).slice(0, 64)"
   ]
  },
  {
   "cell_type": "code",
   "execution_count": 67,
   "metadata": {},
   "outputs": [],
   "source": [
    "handle.remove()\n",
    "handle = model.in_local_attention.register_backward_hook(lambda m, g_in, g_out: print('in_local_attention', g_in[0].norm(dim=(0,2))))"
   ]
  },
  {
   "cell_type": "code",
   "execution_count": 11,
   "metadata": {},
   "outputs": [
    {
     "data": {
      "text/plain": [
       "Pianoroll Bar 000 - 050 of 2115"
      ]
     },
     "execution_count": 11,
     "metadata": {},
     "output_type": "execute_result"
    }
   ],
   "source": [
    "pr_ds.get_piano_roll(1917).slice(0, 32*50)"
   ]
  },
  {
   "cell_type": "code",
   "execution_count": 66,
   "metadata": {},
   "outputs": [
    {
     "name": "stdout",
     "output_type": "stream",
     "text": [
      "in_local_attention tensor([ 2.8973,  0.8830,  0.7586,  0.9899,  1.1048,  1.2402,  0.3792,  0.6488,\n",
      "         1.6528,  2.7425,  0.4552,  1.5836,  1.0128,  4.0604,  0.6707,  2.0891,\n",
      "         0.5262,  0.5684,  2.6314,  0.4023,  1.3787,  0.5873,  0.9673,  0.5430,\n",
      "         1.6225,  0.3887,  3.4039,  1.1779,  2.0503,  1.2313,  0.4384,  1.0173,\n",
      "         0.5497,  0.2947,  1.5697,  0.3889,  3.1795,  0.6917,  0.8305,  2.3320,\n",
      "         0.7165,  4.5779,  4.4148,  2.6414,  3.2237,  3.0840,  1.4059,  0.7477,\n",
      "         6.2199,  6.4681, 18.2421,  0.0000,  0.0000,  0.0000,  0.0000,  0.0000,\n",
      "         0.0000,  0.0000,  0.0000,  0.0000,  0.0000,  0.0000,  0.0000,  0.0000,\n",
      "         0.0000,  0.0000,  0.0000,  0.0000,  0.0000,  0.0000,  0.0000,  0.0000,\n",
      "         0.0000,  0.0000,  0.0000,  0.0000,  0.0000,  0.0000,  0.0000,  0.0000,\n",
      "         0.0000,  0.0000,  0.0000,  0.0000,  0.0000,  0.0000,  0.0000,  0.0000,\n",
      "         0.0000,  0.0000,  0.0000,  0.0000,  0.0000,  0.0000,  0.0000,  0.0000,\n",
      "         0.0000,  0.0000,  0.0000,  0.0000,  0.0000,  0.0000,  0.0000,  0.0000,\n",
      "         0.0000,  0.0000,  0.0000,  0.0000,  0.0000,  0.0000,  0.0000,  0.0000,\n",
      "         0.0000,  0.0000,  0.0000,  0.0000,  0.0000,  0.0000,  0.0000,  0.0000,\n",
      "         0.0000,  0.0000,  0.0000,  0.0000,  0.0000,  0.0000,  0.0000,  0.0000,\n",
      "         0.0000,  0.0000,  0.0000,  0.0000,  0.0000,  0.0000,  0.0000,  0.0000,\n",
      "         0.0000,  0.0000,  0.0000,  0.0000,  0.0000,  0.0000,  0.0000,  0.0000,\n",
      "         0.0000,  0.0000,  0.0000,  0.0000,  0.0000,  0.0000,  0.0000,  0.0000,\n",
      "         0.0000,  0.0000,  0.0000,  0.0000,  0.0000,  0.0000,  0.0000,  0.0000,\n",
      "         0.0000,  0.0000,  0.0000,  0.0000,  0.0000,  0.0000,  0.0000,  0.0000,\n",
      "         0.0000,  0.0000,  0.0000,  0.0000,  0.0000,  0.0000,  0.0000,  0.0000,\n",
      "         0.0000,  0.0000,  0.0000,  0.0000,  0.0000,  0.0000,  0.0000,  0.0000,\n",
      "         0.0000,  0.0000,  0.0000,  0.0000,  0.0000,  0.0000,  0.0000,  0.0000,\n",
      "         0.0000,  0.0000,  0.0000,  0.0000,  0.0000,  0.0000,  0.0000,  0.0000,\n",
      "         0.0000,  0.0000,  0.0000,  0.0000,  0.0000,  0.0000,  0.0000,  0.0000,\n",
      "         0.0000,  0.0000,  0.0000,  0.0000,  0.0000,  0.0000,  0.0000,  0.0000,\n",
      "         0.0000,  0.0000,  0.0000,  0.0000], device='cuda:0')\n"
     ]
    }
   ],
   "source": [
    "inp = torch.randint(0,10,(1, 220),dtype=torch.long).to(device)\n",
    "model(inp, torch.arange(220+1).unsqueeze(0).to(device))[0,50].norm().backward()"
   ]
  },
  {
   "cell_type": "code",
   "execution_count": 62,
   "metadata": {},
   "outputs": [
    {
     "data": {
      "text/plain": [
       "130"
      ]
     },
     "execution_count": 62,
     "metadata": {},
     "output_type": "execute_result"
    }
   ],
   "source": [
    "len([ 0.0193,  0.0189,  0.0729,  0.0536,  0.1458,  0.0867,  0.1135,  0.7866,\n",
    "         0.1798,  0.0767,  0.0629,  0.0755,  0.1229,  0.1874,  0.6108,  0.1180,\n",
    "         0.1461,  0.0984,  0.0650,  0.1149,  0.3938,  0.2112,  0.1433,  0.3247,\n",
    "         0.1211,  0.1318,  0.2227,  0.1505,  0.3462,  0.1255,  0.0516,  0.2467,\n",
    "         0.2044,  0.4414,  0.1183,  0.4642,  0.1468,  0.0673,  0.0795,  0.6533,\n",
    "         0.2189,  0.1100,  0.1983,  0.2572,  0.3179,  0.1389,  0.6460,  0.0662,\n",
    "         0.1327,  0.1566,  0.5608,  0.0544,  0.3800,  0.3710,  0.1071,  0.0769,\n",
    "         0.1528,  0.2218,  0.0826,  0.0729,  0.0932,  0.1366,  0.2292,  0.3016,\n",
    "         0.3495,  0.9662,  0.0683,  0.1068,  0.3928,  0.4896,  0.2337,  0.1346,\n",
    "         0.8395,  0.2339,  0.1197,  0.9997,  0.2210,  0.3909,  0.1135,  0.1822,\n",
    "         0.3711,  0.2440,  0.0881,  0.1852,  0.1072,  0.0451,  0.0846,  0.1209,\n",
    "         0.1635,  0.4193,  0.0510,  0.0800,  0.1212,  0.2231,  0.1077,  0.1427,\n",
    "         0.1932,  0.1705,  0.3363,  0.3363,  0.2017,  0.1830,  0.2525,  0.4927,\n",
    "         0.6330,  0.5120,  0.2838,  1.1671,  0.7589,  1.1129,  1.9647,  1.1941,\n",
    "         0.7201,  0.3712,  0.3980,  0.5747,  0.9515,  2.6499,  0.3535,  2.9585,\n",
    "         0.5410,  0.7637,  0.5093,  1.4005,  3.1254,  2.2679,  1.5576,  1.8914,\n",
    "         2.9836, 13.3045])"
   ]
  },
  {
   "cell_type": "code",
   "execution_count": 43,
   "metadata": {},
   "outputs": [
    {
     "name": "stdout",
     "output_type": "stream",
     "text": [
      "None\n",
      "None\n"
     ]
    },
    {
     "data": {
      "text/plain": [
       "<matplotlib.colorbar.Colorbar at 0x195924ec690>"
      ]
     },
     "execution_count": 43,
     "metadata": {},
     "output_type": "execute_result"
    },
    {
     "data": {
      "image/png": "[encoded data removed]",
      "text/plain": [
       "<Figure size 640x480 with 2 Axes>"
      ]
     },
     "metadata": {},
     "output_type": "display_data"
    }
   ],
   "source": [
    "import matplotlib.pyplot as plt\n",
    "song_id = 1\n",
    "model.eval()\n",
    "model.set_downsampled_path_enabled(True)\n",
    "model.eval()\n",
    "jacobian = model.get_jacobian(ds[song_id]['indices'][:400].unsqueeze(0).cuda(),ds[song_id]['pos'][:400+1].unsqueeze(0).cuda(),range(0,400))\n",
    "plt.imshow((jacobian**2).max(dim=2).values.cpu().detach().numpy(),aspect='auto',interpolation='none')\n",
    "plt.colorbar()\n",
    "\n"
   ]
  },
  {
   "cell_type": "code",
   "execution_count": null,
   "metadata": {},
   "outputs": [
    {
     "data": {
      "text/plain": [
       "True"
      ]
     },
     "execution_count": 1,
     "metadata": {},
     "output_type": "execute_result"
    }
   ],
   "source": []
  },
  {
   "cell_type": "code",
   "execution_count": 5,
   "metadata": {},
   "outputs": [
    {
     "data": {
      "text/plain": [
       "ticks per beat: 480\n",
       "max tick: 0\n",
       "tempo changes: 1\n",
       "time sig: 0\n",
       "key sig: 0\n",
       "markers: 0\n",
       "lyrics: False\n",
       "instruments: 1"
      ]
     },
     "execution_count": 5,
     "metadata": {},
     "output_type": "execute_result"
    }
   ],
   "source": [
    "ds.ds.get_piano_roll(10).to_midi('output/test.mid')"
   ]
  },
  {
   "cell_type": "code",
   "execution_count": 37,
   "metadata": {},
   "outputs": [
    {
     "name": "stdout",
     "output_type": "stream",
     "text": [
      "1330\n",
      "1331\n",
      "1332\n",
      "1333\n",
      "1334\n",
      "1335\n",
      "1336\n",
      "1337\n",
      "1338\n",
      "1339\n",
      "1340\n",
      "1341\n",
      "1342\n",
      "1343\n",
      "1344\n",
      "1345\n",
      "1346\n",
      "1347\n",
      "1348\n",
      "1349\n",
      "1350\n",
      "1351\n",
      "1352\n",
      "1353\n",
      "1354\n",
      "1355\n",
      "1356\n",
      "1357\n",
      "1358\n",
      "1359\n",
      "1360\n",
      "1361\n",
      "1362\n",
      "1363\n",
      "1364\n",
      "1365\n",
      "1366\n"
     ]
    }
   ],
   "source": [
    "for i in range(1330,3000):\n",
    "    print(i)\n",
    "    pr = ds.ds.get_piano_roll(i)\n",
    "    l = []\n",
    "    for i in range(5):\n",
    "        l.append(pr.notes[i].pitch)\n",
    "    if len( {36, 48, 52, 55, 62} - set(l)) < 2:\n",
    "        break\n"
   ]
  },
  {
   "cell_type": "code",
   "execution_count": 38,
   "metadata": {},
   "outputs": [
    {
     "data": {
      "text/plain": [
       "[36, 43, 48, 52, 55]"
      ]
     },
     "execution_count": 38,
     "metadata": {},
     "output_type": "execute_result"
    }
   ],
   "source": [
    "l"
   ]
  },
  {
   "cell_type": "code",
   "execution_count": 32,
   "metadata": {},
   "outputs": [
    {
     "data": {
      "text/plain": [
       "ticks per beat: 480\n",
       "max tick: 0\n",
       "tempo changes: 1\n",
       "time sig: 0\n",
       "key sig: 0\n",
       "markers: 0\n",
       "lyrics: False\n",
       "instruments: 1"
      ]
     },
     "execution_count": 32,
     "metadata": {},
     "output_type": "execute_result"
    }
   ],
   "source": [
    "pr.to_midi('output/test.mid')"
   ]
  },
  {
   "cell_type": "code",
   "execution_count": 39,
   "metadata": {},
   "outputs": [
    {
     "data": {
      "text/plain": [
       "'戰旗'"
      ]
     },
     "execution_count": 39,
     "metadata": {},
     "output_type": "execute_result"
    }
   ],
   "source": [
    "import random\n",
    "\n",
    "\n",
    "random.choice(['隨單','戰旗'])"
   ]
  },
  {
   "cell_type": "code",
   "execution_count": 2,
   "metadata": {},
   "outputs": [
    {
     "name": "stderr",
     "output_type": "stream",
     "text": [
      "c:\\Users\\User\\miniconda3\\envs\\gr\\Lib\\site-packages\\torch\\nn\\modules\\transformer.py:306: UserWarning: enable_nested_tensor is True, but self.use_nested_tensor is False because encoder_layer.self_attn.batch_first was not True(use batch_first for better inference performance)\n",
      "  warnings.warn(f\"enable_nested_tensor is True, but self.use_nested_tensor is False because {why_not_sparsity_fast_path}\")\n"
     ]
    },
    {
     "data": {
      "text/plain": [
       "Transformer(\n",
       "  (encoder): TransformerEncoder(\n",
       "    (layers): ModuleList(\n",
       "      (0-5): 6 x TransformerEncoderLayer(\n",
       "        (self_attn): MultiheadAttention(\n",
       "          (out_proj): NonDynamicallyQuantizableLinear(in_features=512, out_features=512, bias=True)\n",
       "        )\n",
       "        (linear1): Linear(in_features=512, out_features=2048, bias=True)\n",
       "        (dropout): Dropout(p=0.1, inplace=False)\n",
       "        (linear2): Linear(in_features=2048, out_features=512, bias=True)\n",
       "        (norm1): LayerNorm((512,), eps=1e-05, elementwise_affine=True)\n",
       "        (norm2): LayerNorm((512,), eps=1e-05, elementwise_affine=True)\n",
       "        (dropout1): Dropout(p=0.1, inplace=False)\n",
       "        (dropout2): Dropout(p=0.1, inplace=False)\n",
       "      )\n",
       "    )\n",
       "    (norm): LayerNorm((512,), eps=1e-05, elementwise_affine=True)\n",
       "  )\n",
       "  (decoder): TransformerDecoder(\n",
       "    (layers): ModuleList(\n",
       "      (0-5): 6 x TransformerDecoderLayer(\n",
       "        (self_attn): MultiheadAttention(\n",
       "          (out_proj): NonDynamicallyQuantizableLinear(in_features=512, out_features=512, bias=True)\n",
       "        )\n",
       "        (multihead_attn): MultiheadAttention(\n",
       "          (out_proj): NonDynamicallyQuantizableLinear(in_features=512, out_features=512, bias=True)\n",
       "        )\n",
       "        (linear1): Linear(in_features=512, out_features=2048, bias=True)\n",
       "        (dropout): Dropout(p=0.1, inplace=False)\n",
       "        (linear2): Linear(in_features=2048, out_features=512, bias=True)\n",
       "        (norm1): LayerNorm((512,), eps=1e-05, elementwise_affine=True)\n",
       "        (norm2): LayerNorm((512,), eps=1e-05, elementwise_affine=True)\n",
       "        (norm3): LayerNorm((512,), eps=1e-05, elementwise_affine=True)\n",
       "        (dropout1): Dropout(p=0.1, inplace=False)\n",
       "        (dropout2): Dropout(p=0.1, inplace=False)\n",
       "        (dropout3): Dropout(p=0.1, inplace=False)\n",
       "      )\n",
       "    )\n",
       "    (norm): LayerNorm((512,), eps=1e-05, elementwise_affine=True)\n",
       "  )\n",
       ")"
      ]
     },
     "execution_count": 2,
     "metadata": {},
     "output_type": "execute_result"
    }
   ],
   "source": [
    "import torch.nn as nn\n",
    "nn.transformerenco()"
   ]
  },
  {
   "cell_type": "code",
   "execution_count": null,
   "metadata": {},
   "outputs": [],
   "source": []
  }
 ],
 "metadata": {
  "kernelspec": {
   "display_name": "gr",
   "language": "python",
   "name": "python3"
  },
  "language_info": {
   "codemirror_mode": {
    "name": "ipython",
    "version": 3
   },
   "file_extension": ".py",
   "mimetype": "text/x-python",
   "name": "python",
   "nbconvert_exporter": "python",
   "pygments_lexer": "ipython3",
   "version": "3.11.9"
  }
 },
 "nbformat": 4,
 "nbformat_minor": 2
}
