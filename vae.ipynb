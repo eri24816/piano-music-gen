{
 "cells": [
  {
   "cell_type": "code",
   "execution_count": 1,
   "metadata": {},
   "outputs": [],
   "source": [
    "%load_ext autoreload\n",
    "\n",
    "%autoreload 2\n",
    "\n",
    "device = 'cuda'"
   ]
  },
  {
   "cell_type": "code",
   "execution_count": 2,
   "metadata": {},
   "outputs": [],
   "source": [
    "import torch"
   ]
  },
  {
   "cell_type": "code",
   "execution_count": 3,
   "metadata": {},
   "outputs": [
    {
     "name": "stdout",
     "output_type": "stream",
     "text": [
      "Loaded 253780 samples from 2570 songs\n"
     ]
    }
   ],
   "source": [
    "from pianogen.dataset.pianorolldataset import PianoRollDataset\n",
    "from pianogen.dataset.tokenized import TokenizedPianoRollDataset\n",
    "from pianogen.tokenizer import PianoRollTokenizer\n",
    "from torch.utils.data import DataLoader\n",
    "\n",
    "pr_ds = PianoRollDataset(r'W:\\music\\music-data-analysis\\data', max_duration=32*150, segment_len=32, hop_len=32) # 1 bar\n",
    "tokenizer = PianoRollTokenizer(n_pitch=88, n_velocity=32, token_seq_len=120+1)\n",
    "ds = TokenizedPianoRollDataset(pr_ds, tokenizer)\n",
    "dl = DataLoader(ds,batch_size=32, shuffle=True, num_workers=8)"
   ]
  },
  {
   "cell_type": "markdown",
   "metadata": {},
   "source": [
    "ok so we need a vae, where\n",
    "\n",
    "the encoder is sequence in, embedding out\n",
    "\n",
    "the latent is the embedding\n",
    "\n",
    "the decoder is the embedding in, sequence out"
   ]
  },
  {
   "cell_type": "code",
   "execution_count": 4,
   "metadata": {},
   "outputs": [],
   "source": [
    "import torch.nn as nn\n",
    "\n",
    "from pianogen.model.model import BinaryPositionalEncoding, SinusoidalPositionalEncoding\n",
    "\n",
    "class PositionalEncoding(nn.Module):\n",
    "    def __init__(self, binary_pe_dim, sinusoidal_pe_dim, max_len):\n",
    "        super().__init__()\n",
    "        self.binary_pos_encoding = BinaryPositionalEncoding(binary_pe_dim, max_len)\n",
    "        self.sinusoidal_pos_encoding = SinusoidalPositionalEncoding(sinusoidal_pe_dim, max_len)\n",
    "\n",
    "    def forward(self, x):\n",
    "        return torch.cat([self.binary_pos_encoding(x), self.sinusoidal_pos_encoding(x)*0], dim=-1)\n",
    "\n",
    "class Encoder(nn.Module):\n",
    "    '''\n",
    "    eats a sequence of tokens, and outputs an embedding at the emb token\n",
    "    no masking\n",
    "    '''\n",
    "    def __init__(self, vocab_dim:int, latent_dim:int, feature_dim:int, max_len:int, n_heads:int=8, n_layers:int=6, ff_dim:int=1024):\n",
    "        super().__init__()\n",
    "        self.emb_token_idx = vocab_dim # the last token is the embedding token\n",
    "        self.pe = PositionalEncoding(5, feature_dim//2-5, max_len)\n",
    "        self.emb = nn.Embedding(vocab_dim+1, feature_dim)\n",
    "        self.transformer = nn.TransformerEncoder(nn.TransformerEncoderLayer(feature_dim, n_heads, ff_dim, batch_first=True), n_layers)\n",
    "        self.output_layer = nn.Linear(feature_dim, latent_dim*2)\n",
    "\n",
    "    def forward(self, x: torch.Tensor, pos: torch.Tensor):\n",
    "        #x: B, L\n",
    "        # add emb token\n",
    "        x = torch.cat([x, torch.zeros(x.shape[0], 1, device=x.device, dtype=torch.long)+self.emb_token_idx], dim=1)\n",
    "        # x: B, L+1\n",
    "\n",
    "        # embed\n",
    "        x = self.emb(x)\n",
    "\n",
    "        # add positional encoding\n",
    "        pe = self.pe(pos)\n",
    "        pe = torch.cat([pe, torch.zeros_like(pe[:,0:1,:])], dim=1) # B, L+1, D\n",
    "        x[:,:,:pe.shape[2]] += pe\n",
    "\n",
    "        x = self.transformer(x)\n",
    "        x = x[:,-1] # get the embedding\n",
    "        x = self.output_layer(x)\n",
    "        mean, logvar = x.chunk(2, dim=1)\n",
    "        logvar = logvar - 6 # make var start small for faster learning\n",
    "        return mean, logvar\n",
    "\n",
    "class Decoder(nn.Module):\n",
    "    '''\n",
    "    eats an embedding, and outputs a sequence of tokens autoregressively\n",
    "    '''\n",
    "    def __init__(self, vocab_dim:int, latent_dim:int, feature_dim:int, max_len:int, n_heads:int=8, n_layers:int=6, ff_dim:int=1024):\n",
    "        super().__init__()\n",
    "        self.emb = nn.Embedding(vocab_dim, feature_dim)\n",
    "        self.pe = PositionalEncoding(5, feature_dim//2-5, max_len)\n",
    "        self.input_layer = nn.Linear(feature_dim+latent_dim, feature_dim)\n",
    "        self.transformer = nn.TransformerEncoder(nn.TransformerEncoderLayer(feature_dim, n_heads, ff_dim, batch_first=True), n_layers)\n",
    "        self.output_layer = nn.Linear(feature_dim, vocab_dim)\n",
    "\n",
    "    def forward(self, latent: torch.Tensor, seq: torch.Tensor, pos: torch.Tensor):\n",
    "        #latent: B, D_latent\n",
    "        #seq: B, L\n",
    "        x = self.emb(seq)\n",
    "\n",
    "        # add positional encoding\n",
    "        pe = self.pe(pos)\n",
    "        pe = torch.cat([\n",
    "            pe[:, :-1], # pe of the input tokens\n",
    "            pe[:, 1:]   # pe of the target tokens\n",
    "        ], dim=2) # B, L, D\n",
    "        x = x + pe\n",
    "\n",
    "        # incorporate latent\n",
    "        latent = latent.unsqueeze(1) # B, 1, D\n",
    "        latent = latent.expand(-1, x.shape[1], -1) # B, L, D\n",
    "        x = torch.cat([x, latent], dim=2)\n",
    "        x = self.input_layer(x)\n",
    "\n",
    "        # have to be causal\n",
    "        x = self.transformer.forward(x, mask=nn.Transformer.generate_square_subsequent_mask(x.shape[1]).to(x.device), is_causal=True)\n",
    "        x = self.output_layer(x)\n",
    "        return x\n",
    "\n",
    "\n",
    "class VAE(nn.Module):\n",
    "    def __init__(self, encoder: Encoder, decoder: Decoder):\n",
    "        super().__init__()\n",
    "        self.encoder = encoder\n",
    "        self.decoder = decoder\n",
    "\n",
    "    def forward(self, seq: torch.Tensor, pos: torch.Tensor, return_latent: bool=False):\n",
    "        latent_mean, latent_logvar = self.encoder(seq[:,1:], pos[:,1:])\n",
    "        latent = self.reparameterize(latent_mean, latent_logvar)\n",
    "        #latent = latent_mean\n",
    "        if return_latent:\n",
    "            latent_loss = self.latent_loss(latent_mean, latent_logvar)\n",
    "            return self.decoder(latent, seq[:,:-1], pos), latent, latent_mean, latent_logvar, latent_loss\n",
    "        else:\n",
    "            return self.decoder(latent, seq[:,:-1], pos)\n",
    "        \n",
    "\n",
    "    def reparameterize(self, mean: torch.Tensor, logvar: torch.Tensor):\n",
    "        # mean: B, L\n",
    "        # logvar: B, L\n",
    "        std = torch.exp(0.5 * logvar)\n",
    "        eps = torch.randn_like(std)\n",
    "        return mean + eps * std\n",
    "\n",
    "    def latent_loss(self, mean: torch.Tensor, logvar: torch.Tensor):\n",
    "        return torch.mean(-0.5 * torch.sum(1 + logvar - mean.pow(2) - logvar.exp(), dim=1))"
   ]
  },
  {
   "cell_type": "code",
   "execution_count": 6,
   "metadata": {},
   "outputs": [],
   "source": [
    "\n",
    "from pathlib import Path\n",
    "import random\n",
    "from typing import Literal\n",
    "from tqdm import tqdm\n",
    "from music_data_analysis.data import Pianoroll\n",
    "from pianogen.gpu_temp_control import GPUTempControl\n",
    "\n",
    "gpu_control = GPUTempControl(64,3)\n",
    "\n",
    "tokenizer: PianoRollTokenizer\n",
    "vae: VAE\n",
    "def inference(latent:torch.Tensor, file_path:str|Path|None = None, length:int=120, prompt:Pianoroll|None=None, batch_size:int|None=None,method:Literal['nucleus','top_k']='nucleus', p=0.9, top_k:int=15):\n",
    "    vae.eval()\n",
    "    if prompt is None:\n",
    "        tokens = [{'type':'start'}]\n",
    "    else:\n",
    "        tokens = ds.tokenizer.tokenize(prompt, pad=False)\n",
    "        print('prompt:', tokens[:10])\n",
    "        print('prompt end:', tokens[-10:])\n",
    "\n",
    "    indices = tokenizer.vocab.tokens_to_indices(tokens)\n",
    "    pos = tokenizer.get_frame_indices(tokens, infer_next_frame=True)\n",
    "    indices = indices.unsqueeze(0).to(device)\n",
    "    pos = pos.unsqueeze(0).to(device)\n",
    "\n",
    "    last_token = tokens[-1]\n",
    "\n",
    "    for _ in tqdm(range(length-len(tokens))):\n",
    "        gpu_control.cooldown()\n",
    "\n",
    "        logits = vae.decoder(latent, indices, pos).squeeze(0)[-1].detach().cpu()\n",
    "        new_token = tokenizer.sample_from_logits(logits, last_token, method=method, p=p, top_k=top_k)\n",
    "        tokens.append(new_token)\n",
    "        last_token = new_token\n",
    "\n",
    "        # update indices and pos\n",
    "\n",
    "        new_token_idx = tokenizer.vocab.get_idx(new_token)\n",
    "        indices = torch.cat([indices, torch.tensor([[new_token_idx]]).to(device)], dim=-1)\n",
    "        if new_token['type'] == 'next_frame':\n",
    "            new_pos = pos[0,-1] + 1\n",
    "        else:\n",
    "            new_pos = pos[0,-1]\n",
    "        pos = torch.cat([pos, torch.tensor([[new_pos]]).to(device)], dim=-1)\n",
    "\n",
    "        if new_token['type'] == 'end':\n",
    "            break\n",
    "\n",
    "    pr = tokenizer.detokenize(tokens).slice(0,32)\n",
    "    if file_path is not None:\n",
    "        pr.to_midi(file_path)\n",
    "    print(len(tokens),' tokens :', tokens[:10])\n",
    "    return pr\n",
    "\n",
    "def gaussian_pdf(mean, var, x):\n",
    "    result = torch.exp(-0.5 * (x-mean).pow(2) / var) / torch.sqrt(2 * torch.pi * var)\n",
    "    return result.prod(dim=-1)\n",
    "\n",
    "def log_gaussian_pdf(mean, var, x):\n",
    "    result = torch.exp(-0.5 * (x-mean).pow(2) / var) / torch.sqrt(2 * torch.pi * var)\n",
    "    return result.log().sum(dim=-1)\n",
    "\n",
    "def get_confidence(mean, var):\n",
    "    B = mean.shape[0]\n",
    "    s = 0\n",
    "    n=64\n",
    "    for _ in range(n):\n",
    "        i = random.randint(0,B-1)\n",
    "        j = random.randint(0,B-1)\n",
    "        if i==j:\n",
    "            j = (j+1)%B\n",
    "        log_p1 = log_gaussian_pdf(mean[i], var[i], mean[i])\n",
    "        log_p2 = log_gaussian_pdf(mean[j], var[j], mean[i])\n",
    "        log_p2 -= log_p1\n",
    "        log_p1 -= log_p1\n",
    "        p1 = log_p1.exp()\n",
    "        p2 = log_p2.exp()\n",
    "        s += p1/(p1+p2)\n",
    "    return s/n\n",
    "\n",
    "def beta_annealing(step, period, beta_min=0.05):\n",
    "    step = step%period\n",
    "    step = step/period\n",
    "    if step < 0.5:\n",
    "        return max(beta_min, 2*step)\n",
    "    else:\n",
    "        return 1\n"
   ]
  },
  {
   "cell_type": "code",
   "execution_count": 7,
   "metadata": {},
   "outputs": [
    {
     "name": "stdout",
     "output_type": "stream",
     "text": [
      "number of parameters: 9.687804 M\n"
     ]
    }
   ],
   "source": [
    "from pathlib import Path\n",
    "from torch.utils.tensorboard.writer import SummaryWriter\n",
    "\n",
    "exp_name = 'vae/1002_latent64_beta1e-3_anneal16k_cor1'\n",
    "device = 'cuda'\n",
    "\n",
    "output_dir = Path(f'./output/{exp_name}')\n",
    "output_dir.mkdir(parents=True, exist_ok=True)\n",
    "checkpoint_dir = Path(f'./checkpoint/{exp_name}')\n",
    "checkpoint_dir.mkdir(parents=True, exist_ok=True)\n",
    "tensorboard_dir = Path(f'./tensorboard/{exp_name}')\n",
    "\n",
    "latent_dim = 64\n",
    "\n",
    "encoder = Encoder(vocab_dim=len(tokenizer.vocab), latent_dim=latent_dim, feature_dim=256, max_len=120, n_heads=8, n_layers=6, ff_dim=1024)\n",
    "decoder = Decoder(vocab_dim=len(tokenizer.vocab), latent_dim=latent_dim, feature_dim=256, max_len=120, n_heads=8, n_layers=6, ff_dim=1024)\n",
    "vae = VAE(encoder, decoder)\n",
    "crit = nn.CrossEntropyLoss(ignore_index=0)\n",
    "opt = torch.optim.Adam(vae.parameters(),lr=2e-4)\n",
    "\n",
    "writer = SummaryWriter(tensorboard_dir)\n",
    "\n",
    "print('number of parameters:', sum(p.numel() for p in vae.parameters())/1e6, 'M')"
   ]
  },
  {
   "cell_type": "code",
   "execution_count": 8,
   "metadata": {},
   "outputs": [],
   "source": [
    "epoch = 13\n",
    "# load from checkpoint\n",
    "if epoch > 0:\n",
    "    checkpoint = torch.load(checkpoint_dir/f'{epoch}.pt')\n",
    "    vae.load_state_dict(checkpoint['model'])\n",
    "    opt.load_state_dict(checkpoint['opt'])\n",
    "vae = vae.to(device)"
   ]
  },
  {
   "cell_type": "code",
   "execution_count": 9,
   "metadata": {},
   "outputs": [
    {
     "name": "stderr",
     "output_type": "stream",
     "text": [
      "  0%|          | 0/7931 [00:00<?, ?it/s]c:\\Users\\User\\miniconda3\\envs\\gr\\Lib\\site-packages\\torch\\nn\\functional.py:5504: UserWarning: 1Torch was not compiled with flash attention. (Triggered internally at ..\\aten\\src\\ATen\\native\\transformers\\cuda\\sdp_utils.cpp:455.)\n",
      "  attn_output = scaled_dot_product_attention(q, k, v, attn_mask, dropout_p, is_causal)\n"
     ]
    },
    {
     "name": "stdout",
     "output_type": "stream",
     "text": [
      "warning: Embedding dir exists, did you set global_step for add_embedding()?\n"
     ]
    },
    {
     "name": "stderr",
     "output_type": "stream",
     "text": [
      "100%|██████████| 119/119 [00:00<00:00, 148.03it/s]\n"
     ]
    },
    {
     "name": "stdout",
     "output_type": "stream",
     "text": [
      "120  tokens : [{'type': 'start'}, {'value': 12, 'type': 'pitch'}, {'value': 19, 'type': 'velocity'}, {'value': 24, 'type': 'pitch'}, {'value': 22, 'type': 'velocity'}, {'type': 'next_frame'}, {'type': 'next_frame'}, {'type': 'next_frame'}, {'type': 'next_frame'}, {'value': 32, 'type': 'pitch'}]\n"
     ]
    },
    {
     "name": "stderr",
     "output_type": "stream",
     "text": [
      "100%|██████████| 119/119 [00:00<00:00, 174.95it/s]\n",
      "  0%|          | 3/7931 [00:22<12:36:45,  5.73s/it]"
     ]
    },
    {
     "name": "stdout",
     "output_type": "stream",
     "text": [
      "120  tokens : [{'type': 'start'}, {'value': 23, 'type': 'pitch'}, {'value': 17, 'type': 'velocity'}, {'value': 51, 'type': 'pitch'}, {'value': 21, 'type': 'velocity'}, {'type': 'next_frame'}, {'type': 'next_frame'}, {'type': 'next_frame'}, {'value': 34, 'type': 'pitch'}, {'value': 17, 'type': 'velocity'}]\n"
     ]
    },
    {
     "name": "stderr",
     "output_type": "stream",
     "text": [
      "  6%|▋         | 499/7931 [00:49<06:37, 18.68it/s] "
     ]
    },
    {
     "name": "stdout",
     "output_type": "stream",
     "text": [
      "warning: Embedding dir exists, did you set global_step for add_embedding()?\n"
     ]
    },
    {
     "name": "stderr",
     "output_type": "stream",
     "text": [
      "100%|██████████| 119/119 [00:00<00:00, 142.58it/s]\n"
     ]
    },
    {
     "name": "stdout",
     "output_type": "stream",
     "text": [
      "120  tokens : [{'type': 'start'}, {'value': 44, 'type': 'pitch'}, {'value': 18, 'type': 'velocity'}, {'value': 48, 'type': 'pitch'}, {'value': 19, 'type': 'velocity'}, {'value': 55, 'type': 'pitch'}, {'value': 22, 'type': 'velocity'}, {'type': 'next_frame'}, {'type': 'next_frame'}, {'type': 'next_frame'}]\n"
     ]
    },
    {
     "name": "stderr",
     "output_type": "stream",
     "text": [
      "100%|██████████| 119/119 [00:00<00:00, 131.96it/s]\n",
      "  6%|▋         | 504/7931 [00:52<25:20,  4.89it/s]"
     ]
    },
    {
     "name": "stdout",
     "output_type": "stream",
     "text": [
      "120  tokens : [{'type': 'start'}, {'value': 22, 'type': 'pitch'}, {'value': 23, 'type': 'velocity'}, {'value': 53, 'type': 'pitch'}, {'value': 22, 'type': 'velocity'}, {'value': 58, 'type': 'pitch'}, {'value': 24, 'type': 'velocity'}, {'type': 'next_frame'}, {'type': 'next_frame'}, {'value': 29, 'type': 'pitch'}]\n"
     ]
    },
    {
     "name": "stderr",
     "output_type": "stream",
     "text": [
      " 13%|█▎        | 1000/7931 [01:20<07:55, 14.57it/s]"
     ]
    },
    {
     "name": "stdout",
     "output_type": "stream",
     "text": [
      "warning: Embedding dir exists, did you set global_step for add_embedding()?\n"
     ]
    },
    {
     "name": "stderr",
     "output_type": "stream",
     "text": [
      "100%|██████████| 119/119 [00:00<00:00, 123.90it/s]\n"
     ]
    },
    {
     "name": "stdout",
     "output_type": "stream",
     "text": [
      "120  tokens : [{'type': 'start'}, {'value': 53, 'type': 'pitch'}, {'value': 22, 'type': 'velocity'}, {'type': 'next_frame'}, {'type': 'next_frame'}, {'type': 'next_frame'}, {'value': 51, 'type': 'pitch'}, {'value': 21, 'type': 'velocity'}, {'type': 'next_frame'}, {'type': 'next_frame'}]\n"
     ]
    },
    {
     "name": "stderr",
     "output_type": "stream",
     "text": [
      "100%|██████████| 119/119 [00:00<00:00, 132.24it/s]\n",
      " 13%|█▎        | 1005/7931 [01:23<26:00,  4.44it/s]"
     ]
    },
    {
     "name": "stdout",
     "output_type": "stream",
     "text": [
      "120  tokens : [{'type': 'start'}, {'value': 20, 'type': 'pitch'}, {'value': 18, 'type': 'velocity'}, {'value': 55, 'type': 'pitch'}, {'value': 20, 'type': 'velocity'}, {'value': 63, 'type': 'pitch'}, {'value': 19, 'type': 'velocity'}, {'type': 'next_frame'}, {'type': 'next_frame'}, {'type': 'next_frame'}]\n"
     ]
    },
    {
     "name": "stderr",
     "output_type": "stream",
     "text": [
      " 19%|█▉        | 1499/7931 [01:52<05:49, 18.40it/s]"
     ]
    },
    {
     "name": "stdout",
     "output_type": "stream",
     "text": [
      "warning: Embedding dir exists, did you set global_step for add_embedding()?\n"
     ]
    },
    {
     "name": "stderr",
     "output_type": "stream",
     "text": [
      "100%|██████████| 119/119 [00:01<00:00, 117.44it/s]\n"
     ]
    },
    {
     "name": "stdout",
     "output_type": "stream",
     "text": [
      "120  tokens : [{'type': 'start'}, {'value': 29, 'type': 'pitch'}, {'value': 20, 'type': 'velocity'}, {'value': 43, 'type': 'pitch'}, {'value': 21, 'type': 'velocity'}, {'value': 50, 'type': 'pitch'}, {'value': 27, 'type': 'velocity'}, {'type': 'next_frame'}, {'type': 'next_frame'}, {'type': 'next_frame'}]\n"
     ]
    },
    {
     "name": "stderr",
     "output_type": "stream",
     "text": [
      "100%|██████████| 119/119 [00:00<00:00, 125.56it/s]\n",
      " 19%|█▉        | 1504/7931 [01:55<24:08,  4.44it/s]"
     ]
    },
    {
     "name": "stdout",
     "output_type": "stream",
     "text": [
      "120  tokens : [{'type': 'start'}, {'value': 26, 'type': 'pitch'}, {'value': 21, 'type': 'velocity'}, {'value': 38, 'type': 'pitch'}, {'value': 22, 'type': 'velocity'}, {'value': 58, 'type': 'pitch'}, {'value': 19, 'type': 'velocity'}, {'value': 62, 'type': 'pitch'}, {'value': 22, 'type': 'velocity'}, {'value': 65, 'type': 'pitch'}]\n"
     ]
    },
    {
     "name": "stderr",
     "output_type": "stream",
     "text": [
      " 25%|██▌       | 2000/7931 [02:25<06:02, 16.37it/s]"
     ]
    },
    {
     "name": "stdout",
     "output_type": "stream",
     "text": [
      "warning: Embedding dir exists, did you set global_step for add_embedding()?\n"
     ]
    },
    {
     "name": "stderr",
     "output_type": "stream",
     "text": [
      "100%|██████████| 119/119 [00:00<00:00, 131.85it/s]\n"
     ]
    },
    {
     "name": "stdout",
     "output_type": "stream",
     "text": [
      "120  tokens : [{'type': 'start'}, {'value': 32, 'type': 'pitch'}, {'value': 17, 'type': 'velocity'}, {'value': 39, 'type': 'pitch'}, {'value': 18, 'type': 'velocity'}, {'value': 41, 'type': 'pitch'}, {'value': 19, 'type': 'velocity'}, {'type': 'next_frame'}, {'type': 'next_frame'}, {'value': 41, 'type': 'pitch'}]\n"
     ]
    },
    {
     "name": "stderr",
     "output_type": "stream",
     "text": [
      "100%|██████████| 119/119 [00:00<00:00, 143.00it/s]\n",
      " 25%|██▌       | 2005/7931 [02:27<21:48,  4.53it/s]"
     ]
    },
    {
     "name": "stdout",
     "output_type": "stream",
     "text": [
      "120  tokens : [{'type': 'start'}, {'value': 20, 'type': 'pitch'}, {'value': 22, 'type': 'velocity'}, {'value': 24, 'type': 'pitch'}, {'value': 20, 'type': 'velocity'}, {'value': 27, 'type': 'pitch'}, {'value': 18, 'type': 'velocity'}, {'type': 'next_frame'}, {'type': 'next_frame'}, {'value': 34, 'type': 'pitch'}]\n"
     ]
    },
    {
     "name": "stderr",
     "output_type": "stream",
     "text": [
      " 32%|███▏      | 2499/7931 [02:57<05:38, 16.06it/s]"
     ]
    },
    {
     "name": "stdout",
     "output_type": "stream",
     "text": [
      "warning: Embedding dir exists, did you set global_step for add_embedding()?\n"
     ]
    },
    {
     "name": "stderr",
     "output_type": "stream",
     "text": [
      "100%|██████████| 119/119 [00:00<00:00, 142.59it/s]\n"
     ]
    },
    {
     "name": "stdout",
     "output_type": "stream",
     "text": [
      "120  tokens : [{'type': 'start'}, {'value': 15, 'type': 'pitch'}, {'value': 19, 'type': 'velocity'}, {'value': 60, 'type': 'pitch'}, {'value': 20, 'type': 'velocity'}, {'type': 'next_frame'}, {'type': 'next_frame'}, {'type': 'next_frame'}, {'type': 'next_frame'}, {'value': 27, 'type': 'pitch'}]\n"
     ]
    },
    {
     "name": "stderr",
     "output_type": "stream",
     "text": [
      "100%|██████████| 119/119 [00:00<00:00, 144.27it/s]\n",
      " 32%|███▏      | 2503/7931 [02:59<22:01,  4.11it/s]"
     ]
    },
    {
     "name": "stdout",
     "output_type": "stream",
     "text": [
      "120  tokens : [{'type': 'start'}, {'value': 39, 'type': 'pitch'}, {'value': 20, 'type': 'velocity'}, {'value': 43, 'type': 'pitch'}, {'value': 22, 'type': 'velocity'}, {'value': 46, 'type': 'pitch'}, {'value': 22, 'type': 'velocity'}, {'type': 'next_frame'}, {'type': 'next_frame'}, {'value': 48, 'type': 'pitch'}]\n"
     ]
    },
    {
     "name": "stderr",
     "output_type": "stream",
     "text": [
      " 38%|███▊      | 3000/7931 [03:29<04:40, 17.57it/s]"
     ]
    },
    {
     "name": "stdout",
     "output_type": "stream",
     "text": [
      "warning: Embedding dir exists, did you set global_step for add_embedding()?\n"
     ]
    },
    {
     "name": "stderr",
     "output_type": "stream",
     "text": [
      "100%|██████████| 119/119 [00:00<00:00, 120.68it/s]\n"
     ]
    },
    {
     "name": "stdout",
     "output_type": "stream",
     "text": [
      "120  tokens : [{'type': 'start'}, {'value': 45, 'type': 'pitch'}, {'value': 16, 'type': 'velocity'}, {'type': 'next_frame'}, {'type': 'next_frame'}, {'type': 'next_frame'}, {'type': 'next_frame'}, {'type': 'next_frame'}, {'value': 19, 'type': 'pitch'}, {'value': 19, 'type': 'velocity'}]\n"
     ]
    },
    {
     "name": "stderr",
     "output_type": "stream",
     "text": [
      "100%|██████████| 119/119 [00:00<00:00, 146.79it/s]\n",
      " 38%|███▊      | 3004/7931 [03:31<20:49,  3.94it/s]"
     ]
    },
    {
     "name": "stdout",
     "output_type": "stream",
     "text": [
      "120  tokens : [{'type': 'start'}, {'value': 7, 'type': 'pitch'}, {'value': 24, 'type': 'velocity'}, {'value': 19, 'type': 'pitch'}, {'value': 26, 'type': 'velocity'}, {'value': 55, 'type': 'pitch'}, {'value': 26, 'type': 'velocity'}, {'value': 58, 'type': 'pitch'}, {'value': 24, 'type': 'velocity'}, {'value': 67, 'type': 'pitch'}]\n"
     ]
    },
    {
     "name": "stderr",
     "output_type": "stream",
     "text": [
      " 44%|████▍     | 3499/7931 [04:01<04:14, 17.44it/s]"
     ]
    },
    {
     "name": "stdout",
     "output_type": "stream",
     "text": [
      "warning: Embedding dir exists, did you set global_step for add_embedding()?\n"
     ]
    },
    {
     "name": "stderr",
     "output_type": "stream",
     "text": [
      "100%|██████████| 119/119 [00:00<00:00, 134.47it/s]\n"
     ]
    },
    {
     "name": "stdout",
     "output_type": "stream",
     "text": [
      "120  tokens : [{'type': 'start'}, {'value': 13, 'type': 'pitch'}, {'value': 19, 'type': 'velocity'}, {'value': 25, 'type': 'pitch'}, {'value': 21, 'type': 'velocity'}, {'value': 55, 'type': 'pitch'}, {'value': 23, 'type': 'velocity'}, {'type': 'next_frame'}, {'type': 'next_frame'}, {'type': 'next_frame'}]\n"
     ]
    },
    {
     "name": "stderr",
     "output_type": "stream",
     "text": [
      "100%|██████████| 119/119 [00:00<00:00, 148.70it/s]\n",
      " 44%|████▍     | 3503/7931 [04:03<17:05,  4.32it/s]"
     ]
    },
    {
     "name": "stdout",
     "output_type": "stream",
     "text": [
      "120  tokens : [{'type': 'start'}, {'value': 16, 'type': 'pitch'}, {'value': 23, 'type': 'velocity'}, {'value': 28, 'type': 'pitch'}, {'value': 24, 'type': 'velocity'}, {'value': 50, 'type': 'pitch'}, {'value': 21, 'type': 'velocity'}, {'value': 55, 'type': 'pitch'}, {'value': 23, 'type': 'velocity'}, {'type': 'next_frame'}]\n"
     ]
    },
    {
     "name": "stderr",
     "output_type": "stream",
     "text": [
      " 50%|█████     | 4000/7931 [04:33<03:56, 16.60it/s]"
     ]
    },
    {
     "name": "stdout",
     "output_type": "stream",
     "text": [
      "warning: Embedding dir exists, did you set global_step for add_embedding()?\n"
     ]
    },
    {
     "name": "stderr",
     "output_type": "stream",
     "text": [
      "100%|██████████| 119/119 [00:01<00:00, 115.65it/s]\n"
     ]
    },
    {
     "name": "stdout",
     "output_type": "stream",
     "text": [
      "120  tokens : [{'type': 'start'}, {'value': 11, 'type': 'pitch'}, {'value': 19, 'type': 'velocity'}, {'value': 20, 'type': 'pitch'}, {'value': 18, 'type': 'velocity'}, {'value': 53, 'type': 'pitch'}, {'value': 25, 'type': 'velocity'}, {'value': 56, 'type': 'pitch'}, {'value': 24, 'type': 'velocity'}, {'type': 'next_frame'}]\n"
     ]
    },
    {
     "name": "stderr",
     "output_type": "stream",
     "text": [
      "100%|██████████| 119/119 [00:00<00:00, 120.86it/s]\n",
      " 50%|█████     | 4004/7931 [04:35<18:11,  3.60it/s]"
     ]
    },
    {
     "name": "stdout",
     "output_type": "stream",
     "text": [
      "120  tokens : [{'type': 'start'}, {'value': 24, 'type': 'pitch'}, {'value': 19, 'type': 'velocity'}, {'value': 48, 'type': 'pitch'}, {'value': 21, 'type': 'velocity'}, {'value': 53, 'type': 'pitch'}, {'value': 20, 'type': 'velocity'}, {'value': 60, 'type': 'pitch'}, {'value': 23, 'type': 'velocity'}, {'type': 'next_frame'}]\n"
     ]
    },
    {
     "name": "stderr",
     "output_type": "stream",
     "text": [
      " 57%|█████▋    | 4500/7931 [05:05<03:40, 15.57it/s]"
     ]
    },
    {
     "name": "stdout",
     "output_type": "stream",
     "text": [
      "warning: Embedding dir exists, did you set global_step for add_embedding()?\n"
     ]
    },
    {
     "name": "stderr",
     "output_type": "stream",
     "text": [
      "100%|██████████| 119/119 [00:00<00:00, 124.31it/s]\n"
     ]
    },
    {
     "name": "stdout",
     "output_type": "stream",
     "text": [
      "120  tokens : [{'type': 'start'}, {'value': 36, 'type': 'pitch'}, {'value': 21, 'type': 'velocity'}, {'value': 65, 'type': 'pitch'}, {'value': 21, 'type': 'velocity'}, {'value': 77, 'type': 'pitch'}, {'value': 22, 'type': 'velocity'}, {'type': 'next_frame'}, {'type': 'next_frame'}, {'type': 'next_frame'}]\n"
     ]
    },
    {
     "name": "stderr",
     "output_type": "stream",
     "text": [
      "100%|██████████| 119/119 [00:00<00:00, 138.22it/s]\n",
      " 57%|█████▋    | 4504/7931 [05:07<13:59,  4.08it/s]"
     ]
    },
    {
     "name": "stdout",
     "output_type": "stream",
     "text": [
      "120  tokens : [{'type': 'start'}, {'value': 52, 'type': 'pitch'}, {'value': 14, 'type': 'velocity'}, {'value': 58, 'type': 'pitch'}, {'value': 16, 'type': 'velocity'}, {'value': 60, 'type': 'pitch'}, {'value': 19, 'type': 'velocity'}, {'type': 'next_frame'}, {'value': 25, 'type': 'pitch'}, {'value': 15, 'type': 'velocity'}]\n"
     ]
    },
    {
     "name": "stderr",
     "output_type": "stream",
     "text": [
      " 63%|██████▎   | 5000/7931 [05:36<03:08, 15.52it/s]"
     ]
    },
    {
     "name": "stdout",
     "output_type": "stream",
     "text": [
      "warning: Embedding dir exists, did you set global_step for add_embedding()?\n"
     ]
    },
    {
     "name": "stderr",
     "output_type": "stream",
     "text": [
      "100%|██████████| 119/119 [00:01<00:00, 117.08it/s]\n"
     ]
    },
    {
     "name": "stdout",
     "output_type": "stream",
     "text": [
      "120  tokens : [{'type': 'start'}, {'value': 17, 'type': 'pitch'}, {'value': 21, 'type': 'velocity'}, {'value': 24, 'type': 'pitch'}, {'value': 21, 'type': 'velocity'}, {'value': 32, 'type': 'pitch'}, {'value': 20, 'type': 'velocity'}, {'value': 36, 'type': 'pitch'}, {'value': 23, 'type': 'velocity'}, {'value': 41, 'type': 'pitch'}]\n"
     ]
    },
    {
     "name": "stderr",
     "output_type": "stream",
     "text": [
      "100%|██████████| 119/119 [00:00<00:00, 150.62it/s]\n",
      " 63%|██████▎   | 5002/7931 [05:38<16:51,  2.90it/s]"
     ]
    },
    {
     "name": "stdout",
     "output_type": "stream",
     "text": [
      "120  tokens : [{'type': 'start'}, {'value': 12, 'type': 'pitch'}, {'value': 21, 'type': 'velocity'}, {'value': 24, 'type': 'pitch'}, {'value': 22, 'type': 'velocity'}, {'value': 43, 'type': 'pitch'}, {'value': 24, 'type': 'velocity'}, {'value': 55, 'type': 'pitch'}, {'value': 25, 'type': 'velocity'}, {'type': 'next_frame'}]\n"
     ]
    },
    {
     "name": "stderr",
     "output_type": "stream",
     "text": [
      " 69%|██████▉   | 5499/7931 [06:08<02:28, 16.38it/s]"
     ]
    },
    {
     "name": "stdout",
     "output_type": "stream",
     "text": [
      "warning: Embedding dir exists, did you set global_step for add_embedding()?\n"
     ]
    },
    {
     "name": "stderr",
     "output_type": "stream",
     "text": [
      "100%|██████████| 119/119 [00:00<00:00, 122.89it/s]\n"
     ]
    },
    {
     "name": "stdout",
     "output_type": "stream",
     "text": [
      "120  tokens : [{'type': 'start'}, {'value': 22, 'type': 'pitch'}, {'value': 22, 'type': 'velocity'}, {'type': 'next_frame'}, {'value': 58, 'type': 'pitch'}, {'value': 23, 'type': 'velocity'}, {'value': 67, 'type': 'pitch'}, {'value': 25, 'type': 'velocity'}, {'type': 'next_frame'}, {'type': 'next_frame'}]\n"
     ]
    },
    {
     "name": "stderr",
     "output_type": "stream",
     "text": [
      "100%|██████████| 119/119 [00:00<00:00, 144.85it/s]\n",
      " 69%|██████▉   | 5504/7931 [06:10<09:11,  4.40it/s]"
     ]
    },
    {
     "name": "stdout",
     "output_type": "stream",
     "text": [
      "120  tokens : [{'type': 'start'}, {'value': 15, 'type': 'pitch'}, {'value': 19, 'type': 'velocity'}, {'value': 46, 'type': 'pitch'}, {'value': 20, 'type': 'velocity'}, {'value': 51, 'type': 'pitch'}, {'value': 20, 'type': 'velocity'}, {'type': 'next_frame'}, {'type': 'next_frame'}, {'value': 51, 'type': 'pitch'}]\n"
     ]
    },
    {
     "name": "stderr",
     "output_type": "stream",
     "text": [
      " 76%|███████▌  | 5999/7931 [06:41<01:50, 17.42it/s]"
     ]
    },
    {
     "name": "stdout",
     "output_type": "stream",
     "text": [
      "warning: Embedding dir exists, did you set global_step for add_embedding()?\n"
     ]
    },
    {
     "name": "stderr",
     "output_type": "stream",
     "text": [
      "100%|██████████| 119/119 [00:00<00:00, 122.39it/s]\n"
     ]
    },
    {
     "name": "stdout",
     "output_type": "stream",
     "text": [
      "120  tokens : [{'type': 'start'}, {'value': 22, 'type': 'pitch'}, {'value': 19, 'type': 'velocity'}, {'value': 45, 'type': 'pitch'}, {'value': 21, 'type': 'velocity'}, {'value': 56, 'type': 'pitch'}, {'value': 22, 'type': 'velocity'}, {'type': 'next_frame'}, {'type': 'next_frame'}, {'value': 27, 'type': 'pitch'}]\n"
     ]
    },
    {
     "name": "stderr",
     "output_type": "stream",
     "text": [
      "100%|██████████| 119/119 [00:00<00:00, 136.95it/s]\n",
      " 76%|███████▌  | 6004/7931 [06:43<07:17,  4.40it/s]"
     ]
    },
    {
     "name": "stdout",
     "output_type": "stream",
     "text": [
      "120  tokens : [{'type': 'start'}, {'value': 17, 'type': 'pitch'}, {'value': 19, 'type': 'velocity'}, {'value': 29, 'type': 'pitch'}, {'value': 20, 'type': 'velocity'}, {'value': 44, 'type': 'pitch'}, {'value': 20, 'type': 'velocity'}, {'value': 48, 'type': 'pitch'}, {'value': 19, 'type': 'velocity'}, {'value': 51, 'type': 'pitch'}]\n"
     ]
    },
    {
     "name": "stderr",
     "output_type": "stream",
     "text": [
      " 82%|████████▏ | 6499/7931 [07:13<01:39, 14.46it/s]"
     ]
    },
    {
     "name": "stdout",
     "output_type": "stream",
     "text": [
      "warning: Embedding dir exists, did you set global_step for add_embedding()?\n"
     ]
    },
    {
     "name": "stderr",
     "output_type": "stream",
     "text": [
      "100%|██████████| 119/119 [00:01<00:00, 110.11it/s]\n"
     ]
    },
    {
     "name": "stdout",
     "output_type": "stream",
     "text": [
      "120  tokens : [{'type': 'start'}, {'value': 19, 'type': 'pitch'}, {'value': 19, 'type': 'velocity'}, {'value': 29, 'type': 'pitch'}, {'value': 20, 'type': 'velocity'}, {'type': 'next_frame'}, {'type': 'next_frame'}, {'value': 31, 'type': 'pitch'}, {'value': 18, 'type': 'velocity'}, {'type': 'next_frame'}]\n"
     ]
    },
    {
     "name": "stderr",
     "output_type": "stream",
     "text": [
      "100%|██████████| 119/119 [00:00<00:00, 137.53it/s]\n",
      " 82%|████████▏ | 6503/7931 [07:16<06:28,  3.67it/s]"
     ]
    },
    {
     "name": "stdout",
     "output_type": "stream",
     "text": [
      "120  tokens : [{'type': 'start'}, {'value': 12, 'type': 'pitch'}, {'value': 19, 'type': 'velocity'}, {'value': 24, 'type': 'pitch'}, {'value': 19, 'type': 'velocity'}, {'value': 46, 'type': 'pitch'}, {'value': 22, 'type': 'velocity'}, {'value': 50, 'type': 'pitch'}, {'value': 23, 'type': 'velocity'}, {'type': 'next_frame'}]\n"
     ]
    },
    {
     "name": "stderr",
     "output_type": "stream",
     "text": [
      " 88%|████████▊ | 6999/7931 [07:46<01:04, 14.40it/s]"
     ]
    },
    {
     "name": "stdout",
     "output_type": "stream",
     "text": [
      "warning: Embedding dir exists, did you set global_step for add_embedding()?\n"
     ]
    },
    {
     "name": "stderr",
     "output_type": "stream",
     "text": [
      "100%|██████████| 119/119 [00:01<00:00, 118.48it/s]\n"
     ]
    },
    {
     "name": "stdout",
     "output_type": "stream",
     "text": [
      "120  tokens : [{'type': 'start'}, {'value': 38, 'type': 'pitch'}, {'value': 20, 'type': 'velocity'}, {'type': 'next_frame'}, {'value': 27, 'type': 'pitch'}, {'value': 9, 'type': 'velocity'}, {'type': 'next_frame'}, {'value': 57, 'type': 'pitch'}, {'value': 23, 'type': 'velocity'}, {'value': 61, 'type': 'pitch'}]\n"
     ]
    },
    {
     "name": "stderr",
     "output_type": "stream",
     "text": [
      "100%|██████████| 119/119 [00:00<00:00, 124.30it/s]\n",
      " 88%|████████▊ | 7004/7931 [07:48<03:51,  4.01it/s]"
     ]
    },
    {
     "name": "stdout",
     "output_type": "stream",
     "text": [
      "120  tokens : [{'type': 'start'}, {'value': 24, 'type': 'pitch'}, {'value': 20, 'type': 'velocity'}, {'type': 'next_frame'}, {'type': 'next_frame'}, {'type': 'next_frame'}, {'type': 'next_frame'}, {'value': 31, 'type': 'pitch'}, {'value': 18, 'type': 'velocity'}, {'value': 51, 'type': 'pitch'}]\n"
     ]
    },
    {
     "name": "stderr",
     "output_type": "stream",
     "text": [
      " 95%|█████████▍| 7499/7931 [08:19<00:24, 17.71it/s]"
     ]
    },
    {
     "name": "stdout",
     "output_type": "stream",
     "text": [
      "warning: Embedding dir exists, did you set global_step for add_embedding()?\n"
     ]
    },
    {
     "name": "stderr",
     "output_type": "stream",
     "text": [
      "100%|██████████| 119/119 [00:00<00:00, 131.64it/s]\n"
     ]
    },
    {
     "name": "stdout",
     "output_type": "stream",
     "text": [
      "120  tokens : [{'type': 'start'}, {'value': 22, 'type': 'pitch'}, {'value': 22, 'type': 'velocity'}, {'type': 'next_frame'}, {'type': 'next_frame'}, {'type': 'next_frame'}, {'type': 'next_frame'}, {'value': 27, 'type': 'pitch'}, {'value': 20, 'type': 'velocity'}, {'value': 46, 'type': 'pitch'}]\n"
     ]
    },
    {
     "name": "stderr",
     "output_type": "stream",
     "text": [
      "100%|██████████| 119/119 [00:00<00:00, 137.24it/s]\n",
      " 95%|█████████▍| 7504/7931 [08:21<01:30,  4.72it/s]"
     ]
    },
    {
     "name": "stdout",
     "output_type": "stream",
     "text": [
      "120  tokens : [{'type': 'start'}, {'value': 19, 'type': 'pitch'}, {'value': 20, 'type': 'velocity'}, {'value': 38, 'type': 'pitch'}, {'value': 21, 'type': 'velocity'}, {'type': 'next_frame'}, {'type': 'next_frame'}, {'value': 31, 'type': 'pitch'}, {'value': 20, 'type': 'velocity'}, {'value': 43, 'type': 'pitch'}]\n"
     ]
    },
    {
     "name": "stderr",
     "output_type": "stream",
     "text": [
      " 98%|█████████▊| 7805/7931 [08:41<00:08, 14.98it/s]\n"
     ]
    },
    {
     "ename": "RuntimeError",
     "evalue": "No active exception to reraise",
     "output_type": "error",
     "traceback": [
      "\u001b[1;31m---------------------------------------------------------------------------\u001b[0m",
      "\u001b[1;31mRuntimeError\u001b[0m                              Traceback (most recent call last)",
      "Cell \u001b[1;32mIn[9], line 25\u001b[0m\n\u001b[0;32m     22\u001b[0m loss \u001b[38;5;241m=\u001b[39m reconst_loss \u001b[38;5;241m+\u001b[39m latent_loss\u001b[38;5;241m*\u001b[39m \u001b[38;5;241m1e-3\u001b[39m \u001b[38;5;241m*\u001b[39m beta_annealing(step, \u001b[38;5;241m15844\u001b[39m)\n\u001b[0;32m     24\u001b[0m \u001b[38;5;28;01mif\u001b[39;00m beta_annealing(step, \u001b[38;5;241m15844\u001b[39m) \u001b[38;5;241m<\u001b[39m \u001b[38;5;241m1\u001b[39m:\n\u001b[1;32m---> 25\u001b[0m     \u001b[38;5;28;01mraise\u001b[39;00m\n\u001b[0;32m     28\u001b[0m latent\u001b[38;5;241m.\u001b[39mretain_grad()\n\u001b[0;32m     30\u001b[0m loss\u001b[38;5;241m.\u001b[39mbackward()\n",
      "\u001b[1;31mRuntimeError\u001b[0m: No active exception to reraise"
     ]
    }
   ],
   "source": [
    "# train\n",
    "import random\n",
    "from pianogen import gpu_temp_control\n",
    "from tqdm import tqdm\n",
    "temp_control = gpu_temp_control.GPUTempControl(64,3)\n",
    "\n",
    "vae.to(device)\n",
    "crit.to(device)\n",
    "\n",
    "vae.train()\n",
    "\n",
    "for epoch in range(epoch+1,14):\n",
    "    tq = tqdm(dl)\n",
    "    for i, batch in enumerate(tq):\n",
    "        step = epoch*len(dl)+i\n",
    "        \n",
    "        B = batch['indices'].shape[0]\n",
    "        batch = {k:v.to(device) if isinstance(v, torch.Tensor) else v for k,v in batch.items()}\n",
    "        opt.zero_grad()\n",
    "        reconst, latent, latent_mean, latent_logvar, latent_loss = vae(batch['indices'], batch['pos'], return_latent = True)\n",
    "        reconst_loss = crit((reconst+batch['output_mask']).transpose(1,2), batch['indices'][:,1:])\n",
    "        loss = reconst_loss + latent_loss* 1e-3 * beta_annealing(step, 15844)\n",
    "        \n",
    "        latent.retain_grad()\n",
    "\n",
    "        loss.backward()\n",
    "        opt.step()\n",
    "        temp_control.cooldown()\n",
    "                    \n",
    "        if torch.isnan(loss):\n",
    "            raise ValueError(\"Loss is NaN\")\n",
    "\n",
    "        writer.add_scalar('loss', loss.item(), epoch*len(dl)+i)\n",
    "        writer.add_scalar('latent_loss', latent_loss.item(), step)\n",
    "        writer.add_scalar('reconst_loss', reconst_loss.item(), step)\n",
    "        writer.add_scalar('gpu_temp', temp_control.get_temp(), step)\n",
    "        writer.add_scalar('beta', beta_annealing(step, 15844), step)\n",
    "        writer.add_scalar('epoch', epoch, step)\n",
    "        if i % 100 == 0:\n",
    "            accuracy = ((reconst.argmax(dim=-1) == batch['indices'][:,1:])[batch['indices'][:,1:]>0]).float().mean().item()\n",
    "            writer.add_scalar('accuracy', accuracy, epoch*len(dl)+i)\n",
    "\n",
    "            \n",
    "            writer.add_scalar('latent_grad', latent.grad.norm(1).mean().item(), epoch*len(dl)+i)\n",
    "            writer.add_scalar('confidence', get_confidence(latent_mean, latent_logvar.exp()), epoch*len(dl)+i)\n",
    "            \n",
    "            \n",
    "        if i % 500 == 0:\n",
    "\n",
    "            latent_samples = []\n",
    "            for _ in range(10):\n",
    "                latent_samples.append(vae.reparameterize(latent_mean, latent_logvar))\n",
    "            latent_samples = torch.cat(latent_samples, dim=0) # sample* B, 3\n",
    "            writer.add_embedding(tag='latent_samples',mat=latent_samples, metadata=[i for _ in range(10) for i in range(B) ],global_step=epoch*len(dl)+i)\n",
    "            \n",
    "            \n",
    "            pr = inference(torch.randn(1, latent_dim).to(device), output_dir/f'{epoch}_{i}_random.mid', length=120)\n",
    "            writer.add_image('random', pr.to_tensor(start_time=0,end_time=32,padding=True).transpose(0,1).flip(0)/127, epoch*len(dl)+i,dataformats='HW')\n",
    "            \n",
    "            latent_mean, _ = vae.encoder.forward(batch['indices'][0:1,:-1], batch['pos'][0:1, :-1]) # use one sample from the batch as gt\n",
    "            pr = inference(latent_mean, output_dir/f'{epoch}_{i}_reconstruct.mid', length=120)\n",
    "            gt_pr = tokenizer.detokenize(tokenizer.idx_to_token_seq(batch['indices'][0].cpu().numpy()))\n",
    "            \n",
    "            writer.add_image('reconstruct', torch.cat([\n",
    "                pr.to_tensor(start_time=0,end_time=32,padding=True).transpose(0,1).flip(0)/127,\n",
    "                gt_pr.to_tensor(start_time=0,end_time=32,padding=True).transpose(0,1).flip(0)/127\n",
    "            ], dim=1), epoch*len(dl)+i,dataformats='HW')\n",
    "\n",
    "            \n",
    "            \n",
    "            gt_pr.to_midi(output_dir/f'{epoch}_{i}_gt.mid')\n",
    "\n",
    "\n",
    "    if epoch % 2 == 0:\n",
    "        torch.save({'model':vae.state_dict(), 'opt':opt.state_dict()}, checkpoint_dir/f'{epoch}.pt')\n",
    "    \n",
    "\n"
   ]
  },
  {
   "cell_type": "code",
   "execution_count": 10,
   "metadata": {},
   "outputs": [],
   "source": [
    "torch.save({'model':vae.state_dict(), 'opt':opt.state_dict()}, checkpoint_dir/f'{epoch}.pt')"
   ]
  },
  {
   "cell_type": "code",
   "execution_count": 18,
   "metadata": {},
   "outputs": [
    {
     "name": "stderr",
     "output_type": "stream",
     "text": [
      "  0%|          | 0/119 [00:00<?, ?it/s]\n"
     ]
    },
    {
     "ename": "RuntimeError",
     "evalue": "mat1 and mat2 shapes cannot be multiplied (1x512 and 320x256)",
     "output_type": "error",
     "traceback": [
      "\u001b[1;31m---------------------------------------------------------------------------\u001b[0m",
      "\u001b[1;31mRuntimeError\u001b[0m                              Traceback (most recent call last)",
      "Cell \u001b[1;32mIn[18], line 1\u001b[0m\n\u001b[1;32m----> 1\u001b[0m pr \u001b[38;5;241m=\u001b[39m \u001b[43minference\u001b[49m\u001b[43m(\u001b[49m\u001b[43mtorch\u001b[49m\u001b[38;5;241;43m.\u001b[39;49m\u001b[43mrandn\u001b[49m\u001b[43m(\u001b[49m\u001b[38;5;241;43m1\u001b[39;49m\u001b[43m,\u001b[49m\u001b[43m \u001b[49m\u001b[38;5;241;43m256\u001b[39;49m\u001b[43m)\u001b[49m\u001b[38;5;241;43m.\u001b[39;49m\u001b[43mto\u001b[49m\u001b[43m(\u001b[49m\u001b[43mdevice\u001b[49m\u001b[43m)\u001b[49m\u001b[43m,\u001b[49m\u001b[43m \u001b[49m\u001b[43moutput_dir\u001b[49m\u001b[38;5;241;43m/\u001b[39;49m\u001b[38;5;124;43mf\u001b[39;49m\u001b[38;5;124;43m'\u001b[39;49m\u001b[38;5;132;43;01m{\u001b[39;49;00m\u001b[43mepoch\u001b[49m\u001b[38;5;132;43;01m}\u001b[39;49;00m\u001b[38;5;124;43m_\u001b[39;49m\u001b[38;5;132;43;01m{\u001b[39;49;00m\u001b[43mi\u001b[49m\u001b[38;5;132;43;01m}\u001b[39;49;00m\u001b[38;5;124;43m_random.mid\u001b[39;49m\u001b[38;5;124;43m'\u001b[39;49m\u001b[43m,\u001b[49m\u001b[43m \u001b[49m\u001b[43mlength\u001b[49m\u001b[38;5;241;43m=\u001b[39;49m\u001b[38;5;241;43m120\u001b[39;49m\u001b[43m)\u001b[49m\n\u001b[0;32m      2\u001b[0m writer\u001b[38;5;241m.\u001b[39madd_image(\u001b[38;5;124m'\u001b[39m\u001b[38;5;124mrandom\u001b[39m\u001b[38;5;124m'\u001b[39m, pr\u001b[38;5;241m.\u001b[39mto_tensor(start_time\u001b[38;5;241m=\u001b[39m\u001b[38;5;241m0\u001b[39m,end_time\u001b[38;5;241m=\u001b[39m\u001b[38;5;241m32\u001b[39m,padding\u001b[38;5;241m=\u001b[39m\u001b[38;5;28;01mTrue\u001b[39;00m)\u001b[38;5;241m.\u001b[39mtranspose(\u001b[38;5;241m0\u001b[39m,\u001b[38;5;241m1\u001b[39m)\u001b[38;5;241m.\u001b[39mflip(\u001b[38;5;241m0\u001b[39m)\u001b[38;5;241m/\u001b[39m\u001b[38;5;241m127\u001b[39m, epoch\u001b[38;5;241m*\u001b[39m\u001b[38;5;28mlen\u001b[39m(dl)\u001b[38;5;241m+\u001b[39mi,dataformats\u001b[38;5;241m=\u001b[39m\u001b[38;5;124m'\u001b[39m\u001b[38;5;124mHW\u001b[39m\u001b[38;5;124m'\u001b[39m)\n\u001b[0;32m      4\u001b[0m latent_mean, _ \u001b[38;5;241m=\u001b[39m vae\u001b[38;5;241m.\u001b[39mencoder\u001b[38;5;241m.\u001b[39mforward(batch[\u001b[38;5;124m'\u001b[39m\u001b[38;5;124mindices\u001b[39m\u001b[38;5;124m'\u001b[39m][\u001b[38;5;241m0\u001b[39m:\u001b[38;5;241m1\u001b[39m,:\u001b[38;5;241m-\u001b[39m\u001b[38;5;241m1\u001b[39m], batch[\u001b[38;5;124m'\u001b[39m\u001b[38;5;124mpos\u001b[39m\u001b[38;5;124m'\u001b[39m][\u001b[38;5;241m0\u001b[39m:\u001b[38;5;241m1\u001b[39m]) \u001b[38;5;66;03m# use one sample from the batch as gt\u001b[39;00m\n",
      "Cell \u001b[1;32mIn[14], line 31\u001b[0m, in \u001b[0;36minference\u001b[1;34m(latent, file_path, length, prompt, batch_size, method, p, top_k)\u001b[0m\n\u001b[0;32m     28\u001b[0m \u001b[38;5;28;01mfor\u001b[39;00m _ \u001b[38;5;129;01min\u001b[39;00m tqdm(\u001b[38;5;28mrange\u001b[39m(length\u001b[38;5;241m-\u001b[39m\u001b[38;5;28mlen\u001b[39m(tokens))):\n\u001b[0;32m     29\u001b[0m     gpu_control\u001b[38;5;241m.\u001b[39mcooldown()\n\u001b[1;32m---> 31\u001b[0m     logits \u001b[38;5;241m=\u001b[39m \u001b[43mvae\u001b[49m\u001b[38;5;241;43m.\u001b[39;49m\u001b[43mdecoder\u001b[49m\u001b[43m(\u001b[49m\u001b[43mlatent\u001b[49m\u001b[43m,\u001b[49m\u001b[43m \u001b[49m\u001b[43mindices\u001b[49m\u001b[43m,\u001b[49m\u001b[43m \u001b[49m\u001b[43mpos\u001b[49m\u001b[43m)\u001b[49m\u001b[38;5;241m.\u001b[39msqueeze(\u001b[38;5;241m0\u001b[39m)[\u001b[38;5;241m-\u001b[39m\u001b[38;5;241m1\u001b[39m]\u001b[38;5;241m.\u001b[39mdetach()\u001b[38;5;241m.\u001b[39mcpu()\n\u001b[0;32m     32\u001b[0m     new_token \u001b[38;5;241m=\u001b[39m tokenizer\u001b[38;5;241m.\u001b[39msample_from_logits(logits, last_token, method\u001b[38;5;241m=\u001b[39mmethod, p\u001b[38;5;241m=\u001b[39mp, top_k\u001b[38;5;241m=\u001b[39mtop_k)\n\u001b[0;32m     33\u001b[0m     tokens\u001b[38;5;241m.\u001b[39mappend(new_token)\n",
      "File \u001b[1;32mc:\\Users\\User\\miniconda3\\envs\\gr\\Lib\\site-packages\\torch\\nn\\modules\\module.py:1532\u001b[0m, in \u001b[0;36mModule._wrapped_call_impl\u001b[1;34m(self, *args, **kwargs)\u001b[0m\n\u001b[0;32m   1530\u001b[0m     \u001b[38;5;28;01mreturn\u001b[39;00m \u001b[38;5;28mself\u001b[39m\u001b[38;5;241m.\u001b[39m_compiled_call_impl(\u001b[38;5;241m*\u001b[39margs, \u001b[38;5;241m*\u001b[39m\u001b[38;5;241m*\u001b[39mkwargs)  \u001b[38;5;66;03m# type: ignore[misc]\u001b[39;00m\n\u001b[0;32m   1531\u001b[0m \u001b[38;5;28;01melse\u001b[39;00m:\n\u001b[1;32m-> 1532\u001b[0m     \u001b[38;5;28;01mreturn\u001b[39;00m \u001b[38;5;28;43mself\u001b[39;49m\u001b[38;5;241;43m.\u001b[39;49m\u001b[43m_call_impl\u001b[49m\u001b[43m(\u001b[49m\u001b[38;5;241;43m*\u001b[39;49m\u001b[43margs\u001b[49m\u001b[43m,\u001b[49m\u001b[43m \u001b[49m\u001b[38;5;241;43m*\u001b[39;49m\u001b[38;5;241;43m*\u001b[39;49m\u001b[43mkwargs\u001b[49m\u001b[43m)\u001b[49m\n",
      "File \u001b[1;32mc:\\Users\\User\\miniconda3\\envs\\gr\\Lib\\site-packages\\torch\\nn\\modules\\module.py:1541\u001b[0m, in \u001b[0;36mModule._call_impl\u001b[1;34m(self, *args, **kwargs)\u001b[0m\n\u001b[0;32m   1536\u001b[0m \u001b[38;5;66;03m# If we don't have any hooks, we want to skip the rest of the logic in\u001b[39;00m\n\u001b[0;32m   1537\u001b[0m \u001b[38;5;66;03m# this function, and just call forward.\u001b[39;00m\n\u001b[0;32m   1538\u001b[0m \u001b[38;5;28;01mif\u001b[39;00m \u001b[38;5;129;01mnot\u001b[39;00m (\u001b[38;5;28mself\u001b[39m\u001b[38;5;241m.\u001b[39m_backward_hooks \u001b[38;5;129;01mor\u001b[39;00m \u001b[38;5;28mself\u001b[39m\u001b[38;5;241m.\u001b[39m_backward_pre_hooks \u001b[38;5;129;01mor\u001b[39;00m \u001b[38;5;28mself\u001b[39m\u001b[38;5;241m.\u001b[39m_forward_hooks \u001b[38;5;129;01mor\u001b[39;00m \u001b[38;5;28mself\u001b[39m\u001b[38;5;241m.\u001b[39m_forward_pre_hooks\n\u001b[0;32m   1539\u001b[0m         \u001b[38;5;129;01mor\u001b[39;00m _global_backward_pre_hooks \u001b[38;5;129;01mor\u001b[39;00m _global_backward_hooks\n\u001b[0;32m   1540\u001b[0m         \u001b[38;5;129;01mor\u001b[39;00m _global_forward_hooks \u001b[38;5;129;01mor\u001b[39;00m _global_forward_pre_hooks):\n\u001b[1;32m-> 1541\u001b[0m     \u001b[38;5;28;01mreturn\u001b[39;00m \u001b[43mforward_call\u001b[49m\u001b[43m(\u001b[49m\u001b[38;5;241;43m*\u001b[39;49m\u001b[43margs\u001b[49m\u001b[43m,\u001b[49m\u001b[43m \u001b[49m\u001b[38;5;241;43m*\u001b[39;49m\u001b[38;5;241;43m*\u001b[39;49m\u001b[43mkwargs\u001b[49m\u001b[43m)\u001b[49m\n\u001b[0;32m   1543\u001b[0m \u001b[38;5;28;01mtry\u001b[39;00m:\n\u001b[0;32m   1544\u001b[0m     result \u001b[38;5;241m=\u001b[39m \u001b[38;5;28;01mNone\u001b[39;00m\n",
      "Cell \u001b[1;32mIn[13], line 77\u001b[0m, in \u001b[0;36mDecoder.forward\u001b[1;34m(self, latent, seq, pos)\u001b[0m\n\u001b[0;32m     75\u001b[0m latent \u001b[38;5;241m=\u001b[39m latent\u001b[38;5;241m.\u001b[39mexpand(\u001b[38;5;241m-\u001b[39m\u001b[38;5;241m1\u001b[39m, x\u001b[38;5;241m.\u001b[39mshape[\u001b[38;5;241m1\u001b[39m], \u001b[38;5;241m-\u001b[39m\u001b[38;5;241m1\u001b[39m) \u001b[38;5;66;03m# B, L, D\u001b[39;00m\n\u001b[0;32m     76\u001b[0m x \u001b[38;5;241m=\u001b[39m torch\u001b[38;5;241m.\u001b[39mcat([x, latent], dim\u001b[38;5;241m=\u001b[39m\u001b[38;5;241m2\u001b[39m)\n\u001b[1;32m---> 77\u001b[0m x \u001b[38;5;241m=\u001b[39m \u001b[38;5;28;43mself\u001b[39;49m\u001b[38;5;241;43m.\u001b[39;49m\u001b[43minput_layer\u001b[49m\u001b[43m(\u001b[49m\u001b[43mx\u001b[49m\u001b[43m)\u001b[49m\n\u001b[0;32m     79\u001b[0m \u001b[38;5;66;03m# have to be causal\u001b[39;00m\n\u001b[0;32m     80\u001b[0m x \u001b[38;5;241m=\u001b[39m \u001b[38;5;28mself\u001b[39m\u001b[38;5;241m.\u001b[39mtransformer\u001b[38;5;241m.\u001b[39mforward(x, mask\u001b[38;5;241m=\u001b[39mnn\u001b[38;5;241m.\u001b[39mTransformer\u001b[38;5;241m.\u001b[39mgenerate_square_subsequent_mask(x\u001b[38;5;241m.\u001b[39mshape[\u001b[38;5;241m1\u001b[39m])\u001b[38;5;241m.\u001b[39mto(x\u001b[38;5;241m.\u001b[39mdevice), is_causal\u001b[38;5;241m=\u001b[39m\u001b[38;5;28;01mTrue\u001b[39;00m)\n",
      "File \u001b[1;32mc:\\Users\\User\\miniconda3\\envs\\gr\\Lib\\site-packages\\torch\\nn\\modules\\module.py:1532\u001b[0m, in \u001b[0;36mModule._wrapped_call_impl\u001b[1;34m(self, *args, **kwargs)\u001b[0m\n\u001b[0;32m   1530\u001b[0m     \u001b[38;5;28;01mreturn\u001b[39;00m \u001b[38;5;28mself\u001b[39m\u001b[38;5;241m.\u001b[39m_compiled_call_impl(\u001b[38;5;241m*\u001b[39margs, \u001b[38;5;241m*\u001b[39m\u001b[38;5;241m*\u001b[39mkwargs)  \u001b[38;5;66;03m# type: ignore[misc]\u001b[39;00m\n\u001b[0;32m   1531\u001b[0m \u001b[38;5;28;01melse\u001b[39;00m:\n\u001b[1;32m-> 1532\u001b[0m     \u001b[38;5;28;01mreturn\u001b[39;00m \u001b[38;5;28;43mself\u001b[39;49m\u001b[38;5;241;43m.\u001b[39;49m\u001b[43m_call_impl\u001b[49m\u001b[43m(\u001b[49m\u001b[38;5;241;43m*\u001b[39;49m\u001b[43margs\u001b[49m\u001b[43m,\u001b[49m\u001b[43m \u001b[49m\u001b[38;5;241;43m*\u001b[39;49m\u001b[38;5;241;43m*\u001b[39;49m\u001b[43mkwargs\u001b[49m\u001b[43m)\u001b[49m\n",
      "File \u001b[1;32mc:\\Users\\User\\miniconda3\\envs\\gr\\Lib\\site-packages\\torch\\nn\\modules\\module.py:1541\u001b[0m, in \u001b[0;36mModule._call_impl\u001b[1;34m(self, *args, **kwargs)\u001b[0m\n\u001b[0;32m   1536\u001b[0m \u001b[38;5;66;03m# If we don't have any hooks, we want to skip the rest of the logic in\u001b[39;00m\n\u001b[0;32m   1537\u001b[0m \u001b[38;5;66;03m# this function, and just call forward.\u001b[39;00m\n\u001b[0;32m   1538\u001b[0m \u001b[38;5;28;01mif\u001b[39;00m \u001b[38;5;129;01mnot\u001b[39;00m (\u001b[38;5;28mself\u001b[39m\u001b[38;5;241m.\u001b[39m_backward_hooks \u001b[38;5;129;01mor\u001b[39;00m \u001b[38;5;28mself\u001b[39m\u001b[38;5;241m.\u001b[39m_backward_pre_hooks \u001b[38;5;129;01mor\u001b[39;00m \u001b[38;5;28mself\u001b[39m\u001b[38;5;241m.\u001b[39m_forward_hooks \u001b[38;5;129;01mor\u001b[39;00m \u001b[38;5;28mself\u001b[39m\u001b[38;5;241m.\u001b[39m_forward_pre_hooks\n\u001b[0;32m   1539\u001b[0m         \u001b[38;5;129;01mor\u001b[39;00m _global_backward_pre_hooks \u001b[38;5;129;01mor\u001b[39;00m _global_backward_hooks\n\u001b[0;32m   1540\u001b[0m         \u001b[38;5;129;01mor\u001b[39;00m _global_forward_hooks \u001b[38;5;129;01mor\u001b[39;00m _global_forward_pre_hooks):\n\u001b[1;32m-> 1541\u001b[0m     \u001b[38;5;28;01mreturn\u001b[39;00m \u001b[43mforward_call\u001b[49m\u001b[43m(\u001b[49m\u001b[38;5;241;43m*\u001b[39;49m\u001b[43margs\u001b[49m\u001b[43m,\u001b[49m\u001b[43m \u001b[49m\u001b[38;5;241;43m*\u001b[39;49m\u001b[38;5;241;43m*\u001b[39;49m\u001b[43mkwargs\u001b[49m\u001b[43m)\u001b[49m\n\u001b[0;32m   1543\u001b[0m \u001b[38;5;28;01mtry\u001b[39;00m:\n\u001b[0;32m   1544\u001b[0m     result \u001b[38;5;241m=\u001b[39m \u001b[38;5;28;01mNone\u001b[39;00m\n",
      "File \u001b[1;32mc:\\Users\\User\\miniconda3\\envs\\gr\\Lib\\site-packages\\torch\\nn\\modules\\linear.py:116\u001b[0m, in \u001b[0;36mLinear.forward\u001b[1;34m(self, input)\u001b[0m\n\u001b[0;32m    115\u001b[0m \u001b[38;5;28;01mdef\u001b[39;00m \u001b[38;5;21mforward\u001b[39m(\u001b[38;5;28mself\u001b[39m, \u001b[38;5;28minput\u001b[39m: Tensor) \u001b[38;5;241m-\u001b[39m\u001b[38;5;241m>\u001b[39m Tensor:\n\u001b[1;32m--> 116\u001b[0m     \u001b[38;5;28;01mreturn\u001b[39;00m \u001b[43mF\u001b[49m\u001b[38;5;241;43m.\u001b[39;49m\u001b[43mlinear\u001b[49m\u001b[43m(\u001b[49m\u001b[38;5;28;43minput\u001b[39;49m\u001b[43m,\u001b[49m\u001b[43m \u001b[49m\u001b[38;5;28;43mself\u001b[39;49m\u001b[38;5;241;43m.\u001b[39;49m\u001b[43mweight\u001b[49m\u001b[43m,\u001b[49m\u001b[43m \u001b[49m\u001b[38;5;28;43mself\u001b[39;49m\u001b[38;5;241;43m.\u001b[39;49m\u001b[43mbias\u001b[49m\u001b[43m)\u001b[49m\n",
      "\u001b[1;31mRuntimeError\u001b[0m: mat1 and mat2 shapes cannot be multiplied (1x512 and 320x256)"
     ]
    }
   ],
   "source": [
    "\n",
    "pr = inference(torch.randn(1, 256).to(device), output_dir/f'{epoch}_{i}_random.mid', length=120)\n",
    "writer.add_image('random', pr.to_tensor(start_time=0,end_time=32,padding=True).transpose(0,1).flip(0)/127, epoch*len(dl)+i,dataformats='HW')\n",
    "\n",
    "latent_mean, _ = vae.encoder.forward(batch['indices'][0:1,:-1], batch['pos'][0:1]) # use one sample from the batch as gt\n",
    "pr = inference(latent_mean, output_dir/f'{epoch}_{i}_reconstruct.mid', length=120)\n",
    "gt_pr = tokenizer.detokenize(tokenizer.idx_to_token_seq(batch['indices'][0].cpu().numpy()))\n",
    "\n",
    "writer.add_image('reconstruct', torch.cat([\n",
    "    pr.to_tensor(start_time=0,end_time=32,padding=True).transpose(0,1).flip(0)/127,\n",
    "    gt_pr.to_tensor(start_time=0,end_time=32,padding=True).transpose(0,1).flip(0)/127\n",
    "], dim=1), epoch*len(dl)+i,dataformats='HW')\n",
    "\n",
    "gt_pr.to_midi(output_dir/f'{epoch}_{i}_gt.mid')\n"
   ]
  },
  {
   "cell_type": "code",
   "execution_count": null,
   "metadata": {},
   "outputs": [],
   "source": [
    "latent_samples = []\n",
    "for _ in range(10):\n",
    "    latent_samples.append(vae.reparameterize(latent_mean, latent_logvar))\n",
    "latent_samples = torch.cat(latent_samples, dim=0) # sample* B, 3"
   ]
  },
  {
   "cell_type": "code",
   "execution_count": null,
   "metadata": {},
   "outputs": [],
   "source": [
    "torch.save({'model':vae.state_dict(), 'opt':opt.state_dict()}, checkpoint_dir/f'{epoch}.pt')"
   ]
  },
  {
   "cell_type": "code",
   "execution_count": null,
   "metadata": {},
   "outputs": [
    {
     "data": {
      "text/plain": [
       "<matplotlib.collections.PathCollection at 0x1fd0d338f10>"
      ]
     },
     "execution_count": 44,
     "metadata": {},
     "output_type": "execute_result"
    },
    {
     "data": {
      "image/png": "[encoded data removed]",
      "text/plain": [
       "<Figure size 640x480 with 1 Axes>"
      ]
     },
     "metadata": {},
     "output_type": "display_data"
    }
   ],
   "source": [
    "import matplotlib.pyplot as plt\n",
    "latent_samples = latent_samples.detach().cpu()\n",
    "plt.scatter(latent_samples[2::32,5],latent_samples[2::32,6])\n",
    "plt.scatter(latent_samples[10::32,5],latent_samples[10::32,6])"
   ]
  },
  {
   "cell_type": "code",
   "execution_count": null,
   "metadata": {},
   "outputs": [],
   "source": [
    "latent_samples = []\n",
    "for _ in range(10):\n",
    "    latent_samples.append(vae.reparameterize(latent_mean, latent_logvar))\n",
    "latent_samples = torch.cat(latent_samples, dim=0) # sample* B, 3\n"
   ]
  },
  {
   "cell_type": "code",
   "execution_count": 22,
   "metadata": {},
   "outputs": [
    {
     "name": "stderr",
     "output_type": "stream",
     "text": [
      "100%|██████████| 119/119 [00:00<00:00, 143.36it/s]\n"
     ]
    },
    {
     "name": "stdout",
     "output_type": "stream",
     "text": [
      "120  tokens : [{'type': 'start'}, {'value': 20, 'type': 'pitch'}, {'value': 17, 'type': 'velocity'}, {'value': 39, 'type': 'pitch'}, {'value': 19, 'type': 'velocity'}, {'value': 41, 'type': 'pitch'}, {'value': 19, 'type': 'velocity'}, {'value': 51, 'type': 'pitch'}, {'value': 22, 'type': 'velocity'}, {'value': 53, 'type': 'pitch'}]\n"
     ]
    },
    {
     "name": "stderr",
     "output_type": "stream",
     "text": [
      "100%|██████████| 119/119 [00:00<00:00, 154.54it/s]\n"
     ]
    },
    {
     "name": "stdout",
     "output_type": "stream",
     "text": [
      "120  tokens : [{'type': 'start'}, {'value': 7, 'type': 'pitch'}, {'value': 17, 'type': 'velocity'}, {'value': 39, 'type': 'pitch'}, {'value': 19, 'type': 'velocity'}, {'value': 43, 'type': 'pitch'}, {'value': 19, 'type': 'velocity'}, {'value': 46, 'type': 'pitch'}, {'value': 21, 'type': 'velocity'}, {'value': 51, 'type': 'pitch'}]\n"
     ]
    },
    {
     "name": "stderr",
     "output_type": "stream",
     "text": [
      "100%|██████████| 119/119 [00:00<00:00, 162.88it/s]\n"
     ]
    },
    {
     "name": "stdout",
     "output_type": "stream",
     "text": [
      "120  tokens : [{'type': 'start'}, {'value': 15, 'type': 'pitch'}, {'value': 17, 'type': 'velocity'}, {'value': 39, 'type': 'pitch'}, {'value': 19, 'type': 'velocity'}, {'value': 46, 'type': 'pitch'}, {'value': 15, 'type': 'velocity'}, {'value': 51, 'type': 'pitch'}, {'value': 24, 'type': 'velocity'}, {'type': 'next_frame'}]\n"
     ]
    },
    {
     "name": "stderr",
     "output_type": "stream",
     "text": [
      "100%|██████████| 119/119 [00:00<00:00, 145.49it/s]\n"
     ]
    },
    {
     "name": "stdout",
     "output_type": "stream",
     "text": [
      "120  tokens : [{'type': 'start'}, {'value': 17, 'type': 'pitch'}, {'value': 17, 'type': 'velocity'}, {'value': 29, 'type': 'pitch'}, {'value': 19, 'type': 'velocity'}, {'value': 39, 'type': 'pitch'}, {'value': 19, 'type': 'velocity'}, {'value': 51, 'type': 'pitch'}, {'value': 22, 'type': 'velocity'}, {'type': 'next_frame'}]\n"
     ]
    },
    {
     "name": "stderr",
     "output_type": "stream",
     "text": [
      "100%|██████████| 119/119 [00:00<00:00, 168.50it/s]\n"
     ]
    },
    {
     "name": "stdout",
     "output_type": "stream",
     "text": [
      "120  tokens : [{'type': 'start'}, {'value': 20, 'type': 'pitch'}, {'value': 16, 'type': 'velocity'}, {'value': 41, 'type': 'pitch'}, {'value': 17, 'type': 'velocity'}, {'value': 44, 'type': 'pitch'}, {'value': 15, 'type': 'velocity'}, {'value': 51, 'type': 'pitch'}, {'value': 19, 'type': 'velocity'}, {'value': 53, 'type': 'pitch'}]\n"
     ]
    },
    {
     "name": "stderr",
     "output_type": "stream",
     "text": [
      "100%|██████████| 119/119 [00:00<00:00, 170.60it/s]\n"
     ]
    },
    {
     "name": "stdout",
     "output_type": "stream",
     "text": [
      "120  tokens : [{'type': 'start'}, {'value': 20, 'type': 'pitch'}, {'value': 15, 'type': 'velocity'}, {'value': 39, 'type': 'pitch'}, {'value': 17, 'type': 'velocity'}, {'value': 43, 'type': 'pitch'}, {'value': 16, 'type': 'velocity'}, {'value': 46, 'type': 'pitch'}, {'value': 18, 'type': 'velocity'}, {'value': 51, 'type': 'pitch'}]\n"
     ]
    },
    {
     "name": "stderr",
     "output_type": "stream",
     "text": [
      "100%|██████████| 119/119 [00:00<00:00, 164.78it/s]\n"
     ]
    },
    {
     "name": "stdout",
     "output_type": "stream",
     "text": [
      "120  tokens : [{'type': 'start'}, {'value': 15, 'type': 'pitch'}, {'value': 9, 'type': 'velocity'}, {'value': 27, 'type': 'pitch'}, {'value': 11, 'type': 'velocity'}, {'value': 43, 'type': 'pitch'}, {'value': 14, 'type': 'velocity'}, {'value': 51, 'type': 'pitch'}, {'value': 15, 'type': 'velocity'}, {'type': 'next_frame'}]\n"
     ]
    },
    {
     "name": "stderr",
     "output_type": "stream",
     "text": [
      "100%|██████████| 119/119 [00:00<00:00, 138.84it/s]\n"
     ]
    },
    {
     "name": "stdout",
     "output_type": "stream",
     "text": [
      "120  tokens : [{'type': 'start'}, {'value': 17, 'type': 'pitch'}, {'value': 11, 'type': 'velocity'}, {'value': 29, 'type': 'pitch'}, {'value': 12, 'type': 'velocity'}, {'value': 39, 'type': 'pitch'}, {'value': 10, 'type': 'velocity'}, {'value': 51, 'type': 'pitch'}, {'value': 17, 'type': 'velocity'}, {'type': 'next_frame'}]\n"
     ]
    },
    {
     "name": "stderr",
     "output_type": "stream",
     "text": [
      "100%|██████████| 119/119 [00:00<00:00, 138.20it/s]\n"
     ]
    },
    {
     "name": "stdout",
     "output_type": "stream",
     "text": [
      "120  tokens : [{'type': 'start'}, {'value': 17, 'type': 'pitch'}, {'value': 12, 'type': 'velocity'}, {'value': 29, 'type': 'pitch'}, {'value': 11, 'type': 'velocity'}, {'value': 41, 'type': 'pitch'}, {'value': 10, 'type': 'velocity'}, {'value': 51, 'type': 'pitch'}, {'value': 17, 'type': 'velocity'}, {'type': 'next_frame'}]\n"
     ]
    },
    {
     "name": "stderr",
     "output_type": "stream",
     "text": [
      "100%|██████████| 119/119 [00:00<00:00, 155.57it/s]"
     ]
    },
    {
     "name": "stdout",
     "output_type": "stream",
     "text": [
      "120  tokens : [{'type': 'start'}, {'value': 17, 'type': 'pitch'}, {'value': 9, 'type': 'velocity'}, {'value': 29, 'type': 'pitch'}, {'value': 9, 'type': 'velocity'}, {'value': 45, 'type': 'pitch'}, {'value': 13, 'type': 'velocity'}, {'value': 51, 'type': 'pitch'}, {'value': 11, 'type': 'velocity'}, {'value': 53, 'type': 'pitch'}]\n"
     ]
    },
    {
     "name": "stderr",
     "output_type": "stream",
     "text": [
      "\n"
     ]
    },
    {
     "data": {
      "text/plain": [
       "ticks per beat: 480\n",
       "max tick: 0\n",
       "tempo changes: 1\n",
       "time sig: 0\n",
       "key sig: 0\n",
       "markers: 0\n",
       "lyrics: False\n",
       "instruments: 1"
      ]
     },
     "execution_count": 22,
     "metadata": {},
     "output_type": "execute_result"
    }
   ],
   "source": [
    "vae.eval()\n",
    "a = ds[0]\n",
    "tokenizer.detokenize(tokenizer.idx_to_token_seq(a['indices'].cpu().numpy())).to_midi(output_dir/'interpolate_a.mid')\n",
    "\n",
    "b = ds[4]\n",
    "tokenizer.detokenize(tokenizer.idx_to_token_seq(b['indices'].cpu().numpy())).to_midi(output_dir/'interpolate_b.mid')\n",
    "\n",
    "z_a, _ = vae.encoder(a['indices'].unsqueeze(0).to(device), a['pos'].unsqueeze(0).to(device))\n",
    "z_b, _ = vae.encoder(b['indices'].unsqueeze(0).to(device), b['pos'].unsqueeze(0).to(device))\n",
    "\n",
    "prs: list[Pianoroll] = []\n",
    "for lerp in torch.linspace(0,1,10):\n",
    "    z = z_a*lerp + z_b*(1-lerp)\n",
    "    prs.append(inference(z, length=120))\n",
    "\n",
    "pr_all = prs[0]\n",
    "for i, pr in enumerate(prs[1:]):\n",
    "    pr_all = pr_all | pr\n",
    "\n",
    "pr_all.to_midi(output_dir/'interpolated.mid')\n",
    "\n"
   ]
  },
  {
   "cell_type": "code",
   "execution_count": null,
   "metadata": {},
   "outputs": [
    {
     "name": "stdout",
     "output_type": "stream",
     "text": [
      "PianoRoll Bar 000 - 002 of  PianoRoll Bar 000 - 001 of  PianoRoll Bar 000 - 003 of \n",
      "PianoRoll Bar 000 - 002 of  PianoRoll Bar 000 - 001 of  PianoRoll Bar 000 - 003 of \n",
      "PianoRoll Bar 000 - 002 of  PianoRoll Bar 000 - 001 of  PianoRoll Bar 000 - 003 of \n",
      "PianoRoll Bar 000 - 002 of  PianoRoll Bar 000 - 001 of  PianoRoll Bar 000 - 003 of \n",
      "PianoRoll Bar 000 - 002 of  PianoRoll Bar 000 - 001 of  PianoRoll Bar 000 - 003 of \n",
      "PianoRoll Bar 000 - 002 of  PianoRoll Bar 000 - 001 of  PianoRoll Bar 000 - 003 of \n",
      "PianoRoll Bar 000 - 002 of  PianoRoll Bar 000 - 001 of  PianoRoll Bar 000 - 003 of \n",
      "PianoRoll Bar 000 - 002 of  PianoRoll Bar 000 - 001 of  PianoRoll Bar 000 - 003 of \n",
      "PianoRoll Bar 000 - 002 of  PianoRoll Bar 000 - 001 of  PianoRoll Bar 000 - 003 of \n"
     ]
    }
   ],
   "source": [
    "pr = prs[0]\n",
    "for i, pr in enumerate(prs[1:]):\n",
    "    pr = pr | prs[i]\n",
    "    print(pr, prs[i], pr | prs[i])\n"
   ]
  },
  {
   "cell_type": "code",
   "execution_count": null,
   "metadata": {},
   "outputs": [],
   "source": []
  },
  {
   "cell_type": "code",
   "execution_count": null,
   "metadata": {},
   "outputs": [
    {
     "data": {
      "text/plain": [
       "torch.Size([320, 256])"
      ]
     },
     "execution_count": 21,
     "metadata": {},
     "output_type": "execute_result"
    }
   ],
   "source": [
    "latent_samples[::32,:5]"
   ]
  },
  {
   "cell_type": "code",
   "execution_count": null,
   "metadata": {},
   "outputs": [
    {
     "name": "stderr",
     "output_type": "stream",
     "text": [
      "100%|██████████| 119/119 [00:00<00:00, 142.70it/s]"
     ]
    },
    {
     "name": "stdout",
     "output_type": "stream",
     "text": [
      "result: [{'type': 'start'}, {'value': 8, 'type': 'pitch'}, {'value': 20, 'type': 'velocity'}, {'value': 20, 'type': 'pitch'}, {'value': 21, 'type': 'velocity'}, {'type': 'next_frame'}, {'type': 'next_frame'}, {'type': 'next_frame'}, {'type': 'next_frame'}, {'type': 'next_frame'}]\n"
     ]
    },
    {
     "name": "stderr",
     "output_type": "stream",
     "text": [
      "\n"
     ]
    },
    {
     "data": {
      "text/plain": [
       "<matplotlib.image.AxesImage at 0x2a80b375910>"
      ]
     },
     "execution_count": 20,
     "metadata": {},
     "output_type": "execute_result"
    },
    {
     "data": {
      "image/png": "[encoded data removed]",
      "text/plain": [
       "<Figure size 640x480 with 1 Axes>"
      ]
     },
     "metadata": {},
     "output_type": "display_data"
    }
   ],
   "source": [
    "import matplotlib.pyplot as plt\n",
    "tokens, pr = inference(torch.randn(1, 256).to(device), output_dir/f'{epoch}_{i}_random.mid', length=120)\n",
    "plt.imshow(pr.to_tensor(start_time=0,end_time=32,padding=True).transpose(0,1).flip(0)/127)\n"
   ]
  },
  {
   "cell_type": "code",
   "execution_count": null,
   "metadata": {},
   "outputs": [
    {
     "data": {
      "text/plain": [
       "tensor(0.8808)"
      ]
     },
     "execution_count": 147,
     "metadata": {},
     "output_type": "execute_result"
    }
   ],
   "source": [
    "mean = torch.zeros(2,2000)\n",
    "var = torch.ones(2,2000)\n",
    "mean[0,0] += 2\n",
    "get_confidence(mean, var)"
   ]
  },
  {
   "cell_type": "code",
   "execution_count": null,
   "metadata": {},
   "outputs": [
    {
     "data": {
      "text/plain": [
       "tensor(0.5097, device='cuda:0', grad_fn=<DivBackward0>)"
      ]
     },
     "execution_count": 149,
     "metadata": {},
     "output_type": "execute_result"
    }
   ],
   "source": [
    "get_confidence(latent_mean*500, latent_logvar.exp())"
   ]
  },
  {
   "cell_type": "code",
   "execution_count": 10,
   "metadata": {},
   "outputs": [
    {
     "name": "stdout",
     "output_type": "stream",
     "text": [
      "Loaded 2368 samples from 2570 songs\n"
     ]
    }
   ],
   "source": [
    "fpr_ds = PianoRollDataset(r'W:\\music\\music-data-analysis\\data', max_duration=32*150)"
   ]
  },
  {
   "cell_type": "markdown",
   "metadata": {},
   "source": [
    "Full song"
   ]
  },
  {
   "cell_type": "code",
   "execution_count": 63,
   "metadata": {},
   "outputs": [
    {
     "name": "stderr",
     "output_type": "stream",
     "text": [
      "C:\\Users\\User\\AppData\\Local\\Temp\\ipykernel_49072\\1719682150.py:9: UserWarning: To copy construct from a tensor, it is recommended to use sourceTensor.clone().detach() or sourceTensor.clone().detach().requires_grad_(True), rather than torch.tensor(sourceTensor).\n",
      "  pos = torch.tensor(pos).to(device).unsqueeze(0)\n",
      "100%|██████████| 72/72 [00:00<00:00, 295.02it/s]\n"
     ]
    }
   ],
   "source": [
    "import matplotlib.pyplot as plt\n",
    "vae.eval()\n",
    "pr = fpr_ds.get_piano_roll(9)\n",
    "zs: list[torch.Tensor] = []\n",
    "for i in range(pr.duration//32):\n",
    "    bar = pr.slice(i*32, (i+1)*32)\n",
    "    idx, pos = tokenizer.pr_to_idx(bar, return_pos=True)\n",
    "    idx = torch.tensor(idx).to(device).unsqueeze(0)\n",
    "    pos = torch.tensor(pos).to(device).unsqueeze(0)\n",
    "    z, _ = vae.encoder(idx, pos)\n",
    "    z = z[0]\n",
    "    zs.append(z.detach())\n",
    "\n",
    "#writer.add_embedding(tag='fullsong',mat=torch.cat(zs, dim=0), metadata=[i for i in range(len(zs))],global_step=step)\n",
    "pr.to_midi(output_dir/'fullsong.mid')\n",
    "\n",
    "mean = sum(zs) / len(zs)\n",
    "# similarity matrix\n",
    "dist = torch.zeros(len(zs), len(zs))\n",
    "for i in tqdm(range(len(zs))):\n",
    "    for j in range(i, len(zs)):\n",
    "        dist[i,j] = dist[j,i] = (zs[i]-zs[j]).norm()\n",
    "        # a = zs[i]-mean\n",
    "        # b = zs[j]-mean\n",
    "        # dist[i,j] = dist[j,i] = torch.dot(a,b)/(a.norm()*b.norm())\n",
    "\n"
   ]
  },
  {
   "cell_type": "code",
   "execution_count": 64,
   "metadata": {},
   "outputs": [
    {
     "data": {
      "text/plain": [
       "<matplotlib.colorbar.Colorbar at 0x1c7406e9810>"
      ]
     },
     "execution_count": 64,
     "metadata": {},
     "output_type": "execute_result"
    },
    {
     "data": {
      "image/png": "[encoded data removed]",
      "text/plain": [
       "<Figure size 640x480 with 2 Axes>"
      ]
     },
     "metadata": {},
     "output_type": "display_data"
    }
   ],
   "source": [
    "a = -dist\n",
    "\n",
    "a = a[:90,:90]\n",
    "plt.imshow(a, vmin=-12, vmax=-6)\n",
    "plt.colorbar()\n",
    "\n",
    "# normalize per row\n",
    "# for i in range(len(zs)):\n",
    "#     a[i] = a[i] / a[i][0:max(0,i-1)].mean()\n",
    "# a = a[:80,:80]\n",
    "# plt.imshow(-a, vmin=-1.0, vmax=-0.5)\n",
    "# plt.colorbar()"
   ]
  },
  {
   "cell_type": "code",
   "execution_count": 60,
   "metadata": {},
   "outputs": [
    {
     "data": {
      "text/plain": [
       "<matplotlib.colorbar.Colorbar at 0x1c74a642410>"
      ]
     },
     "execution_count": 60,
     "metadata": {},
     "output_type": "execute_result"
    },
    {
     "data": {
      "image/png": "[encoded data removed]",
      "text/plain": [
       "<Figure size 640x480 with 2 Axes>"
      ]
     },
     "metadata": {},
     "output_type": "display_data"
    }
   ],
   "source": [
    "a = -dist\n",
    "a = a[:100,:100]\n",
    "plt.imshow(a,vmax=-5, vmin=-13)\n",
    "plt.colorbar()"
   ]
  },
  {
   "cell_type": "code",
   "execution_count": 29,
   "metadata": {},
   "outputs": [
    {
     "data": {
      "text/plain": [
       "tensor(8.3803)"
      ]
     },
     "execution_count": 29,
     "metadata": {},
     "output_type": "execute_result"
    }
   ],
   "source": [
    "dist[15,16]"
   ]
  },
  {
   "cell_type": "code",
   "execution_count": 68,
   "metadata": {},
   "outputs": [
    {
     "ename": "RuntimeError",
     "evalue": "The size of tensor a (72) must match the size of tensor b (71) at non-singleton dimension 0",
     "output_type": "error",
     "traceback": [
      "\u001b[1;31m---------------------------------------------------------------------------\u001b[0m",
      "\u001b[1;31mRuntimeError\u001b[0m                              Traceback (most recent call last)",
      "Cell \u001b[1;32mIn[68], line 12\u001b[0m\n\u001b[0;32m      9\u001b[0m     adj_dist\u001b[38;5;241m.\u001b[39mappend(sum_dist)\n\u001b[0;32m     11\u001b[0m adj_dist \u001b[38;5;241m=\u001b[39m torch\u001b[38;5;241m.\u001b[39mtensor(adj_dist)\n\u001b[1;32m---> 12\u001b[0m plt\u001b[38;5;241m.\u001b[39mplot(\u001b[43madj_dist\u001b[49m\u001b[43m[\u001b[49m\u001b[43m:\u001b[49m\u001b[38;5;241;43m80\u001b[39;49m\u001b[43m]\u001b[49m\u001b[38;5;241;43m-\u001b[39;49m\u001b[43madj_dist\u001b[49m\u001b[43m[\u001b[49m\u001b[38;5;241;43m1\u001b[39;49m\u001b[43m:\u001b[49m\u001b[38;5;241;43m81\u001b[39;49m\u001b[43m]\u001b[49m)\n",
      "\u001b[1;31mRuntimeError\u001b[0m: The size of tensor a (72) must match the size of tensor b (71) at non-singleton dimension 0"
     ]
    }
   ],
   "source": [
    "adj_dist = []\n",
    "for i in range(len(zs)):\n",
    "    sum_dist = 0\n",
    "    for p in range(1,8):\n",
    "        j = i + p\n",
    "        if j < len(zs):\n",
    "            sum_dist += dist[i,j]*(0.9**p)\n",
    "\n",
    "    adj_dist.append(sum_dist)\n",
    "    \n",
    "adj_dist = torch.tensor(adj_dist)\n",
    "plt.plot(adj_dist[:80]-adj_dist[1:81])"
   ]
  },
  {
   "cell_type": "code",
   "execution_count": 67,
   "metadata": {},
   "outputs": [
    {
     "name": "stderr",
     "output_type": "stream",
     "text": [
      "100%|██████████| 72/72 [00:00<00:00, 637.15it/s]\n"
     ]
    },
    {
     "data": {
      "text/plain": [
       "<matplotlib.colorbar.Colorbar at 0x1c74a7b6890>"
      ]
     },
     "execution_count": 67,
     "metadata": {},
     "output_type": "execute_result"
    },
    {
     "data": {
      "image/png": "[encoded data removed]",
      "text/plain": [
       "<Figure size 640x480 with 2 Axes>"
      ]
     },
     "metadata": {},
     "output_type": "display_data"
    }
   ],
   "source": [
    "lag = torch.zeros(len(zs), len(zs))\n",
    "for t in tqdm(range(len(zs))):\n",
    "    for l in range(0, t):\n",
    "        lag[l,t] = (zs[t]-zs[t-l]).norm()\n",
    "\n",
    "a = -lag\n",
    "plt.imshow(a, vmin=-12, vmax=-6)\n",
    "plt.colorbar()"
   ]
  },
  {
   "cell_type": "code",
   "execution_count": 56,
   "metadata": {},
   "outputs": [
    {
     "data": {
      "text/plain": [
       "tensor([[ 0.0000,  0.0000,  0.0000,  ...,  0.0000,  0.0000,  0.0000],\n",
       "        [ 0.0000,  0.0000, 13.5998,  ...,  8.6672,  5.7728, 12.5280],\n",
       "        [ 0.0000,  0.0000,  0.0000,  ...,  9.9159,  9.3714, 10.4575],\n",
       "        ...,\n",
       "        [ 0.0000,  0.0000,  0.0000,  ...,  0.0000, 15.0411, 11.2542],\n",
       "        [ 0.0000,  0.0000,  0.0000,  ...,  0.0000,  0.0000, 12.9479],\n",
       "        [ 0.0000,  0.0000,  0.0000,  ...,  0.0000,  0.0000,  0.0000]])"
      ]
     },
     "execution_count": 56,
     "metadata": {},
     "output_type": "execute_result"
    }
   ],
   "source": [
    "lag"
   ]
  },
  {
   "cell_type": "code",
   "execution_count": 23,
   "metadata": {},
   "outputs": [],
   "source": [
    "def get_sim(a:Pianoroll, b:Pianoroll):\n",
    "    pitch_shift_search = [0,-12,12]\n",
    "    num_overlaps_list = []\n",
    "    for pitch_shift in pitch_shift_search:\n",
    "        num_overlaps = get_num_overlaps(a, b, pitch_shift)\n",
    "        num_overlaps_list.append(num_overlaps)\n",
    "    return max(num_overlaps_list)\n",
    "\n",
    "def get_num_overlaps(a:Pianoroll, b:Pianoroll, pitch_shift:int):\n",
    "    num_overlaps = 0\n",
    "    i = 0\n",
    "    j = 0\n",
    "    i_max = len(a.notes)\n",
    "    j_max = len(b.notes)\n",
    "    seen_pitch = [0]*128\n",
    "    denom = 0\n",
    "    while i < i_max and j < j_max:\n",
    "        note_a = a.notes[i]\n",
    "        note_b = b.notes[j]\n",
    "        \n",
    "        if note_a.onset < note_b.onset:\n",
    "            i += 1\n",
    "        elif note_a.onset > note_b.onset:\n",
    "            j += 1\n",
    "        else:\n",
    "            if note_a.pitch == note_b.pitch + pitch_shift and seen_pitch[note_a.pitch] < 2:\n",
    "                num_overlaps += 1\n",
    "            i += 1\n",
    "            j += 1\n",
    "        \n",
    "        if seen_pitch[note_a.pitch] < 2:\n",
    "            denom += 1\n",
    "        if seen_pitch[note_b.pitch] < 2:\n",
    "            denom += 1\n",
    "        seen_pitch[note_a.pitch] += 1\n",
    "        seen_pitch[note_b.pitch] += 1\n",
    "    if denom == 0:\n",
    "        return 0\n",
    "    return num_overlaps / denom * 2\n"
   ]
  },
  {
   "cell_type": "code",
   "execution_count": 24,
   "metadata": {},
   "outputs": [
    {
     "name": "stderr",
     "output_type": "stream",
     "text": [
      "100%|██████████| 148/148 [00:00<00:00, 3929.21it/s]\n",
      "100%|██████████| 148/148 [00:00<00:00, 439.96it/s]\n"
     ]
    },
    {
     "data": {
      "text/plain": [
       "<matplotlib.colorbar.Colorbar at 0x1950b506390>"
      ]
     },
     "execution_count": 24,
     "metadata": {},
     "output_type": "execute_result"
    },
    {
     "data": {
      "image/png": "[encoded data removed]",
      "text/plain": [
       "<Figure size 640x480 with 2 Axes>"
      ]
     },
     "metadata": {},
     "output_type": "display_data"
    }
   ],
   "source": [
    "sim_mat = torch.zeros(len(zs), len(zs))\n",
    "pr_bars = []\n",
    "\n",
    "for i in tqdm(range(len(zs))):\n",
    "    pr_bars.append(pr.slice(i*32, (i+1)*32))\n",
    "for i in tqdm(range(len(zs))):\n",
    "    for j in range(i, len(zs)):\n",
    "        sim_mat[i,j] = sim_mat[j,i] = get_sim(pr_bars[i], pr_bars[j])\n",
    "\n",
    "plt.imshow(sim_mat[:80,:80], vmin=0, vmax=0.5)\n",
    "plt.colorbar()\n"
   ]
  },
  {
   "cell_type": "code",
   "execution_count": 60,
   "metadata": {},
   "outputs": [
    {
     "data": {
      "text/plain": [
       "tensor([15, 26, 36, 34, 19, 12, 22, 14, 35, 16])"
      ]
     },
     "execution_count": 60,
     "metadata": {},
     "output_type": "execute_result"
    }
   ],
   "source": [
    "def get_similar_bars(dist_map: torch.Tensor, query: int, k:int=10):\n",
    "    idx = torch.argsort(dist_map[query])[1:k+1]\n",
    "    return idx\n",
    "\n",
    "def get_similar_bars_prev(dist_map: torch.Tensor, query: int, k:int=10):\n",
    "    idx = torch.argsort(dist_map[query][:query])[:k]\n",
    "    return idx\n",
    "\n",
    "get_similar_bars_prev(dist, 37)\n"
   ]
  },
  {
   "cell_type": "markdown",
   "metadata": {},
   "source": [
    "def get_similar_bars("
   ]
  },
  {
   "cell_type": "code",
   "execution_count": null,
   "metadata": {},
   "outputs": [
    {
     "name": "stderr",
     "output_type": "stream",
     "text": [
      "C:\\Users\\User\\AppData\\Local\\Temp\\ipykernel_27872\\3117660653.py:7: UserWarning: To copy construct from a tensor, it is recommended to use sourceTensor.clone().detach() or sourceTensor.clone().detach().requires_grad_(True), rather than torch.tensor(sourceTensor).\n",
      "  pos = torch.tensor(pos).to(device).unsqueeze(0)\n",
      "C:\\Users\\User\\AppData\\Local\\Temp\\ipykernel_27872\\3117660653.py:17: UserWarning: To copy construct from a tensor, it is recommended to use sourceTensor.clone().detach() or sourceTensor.clone().detach().requires_grad_(True), rather than torch.tensor(sourceTensor).\n",
      "  pos = torch.tensor(pos).to(device).unsqueeze(0)\n"
     ]
    },
    {
     "name": "stdout",
     "output_type": "stream",
     "text": [
      "warning: Embedding dir exists, did you set global_step for add_embedding()?\n"
     ]
    }
   ],
   "source": [
    "pr = fpr_ds.get_piano_roll(6)\n",
    "zs1 = []\n",
    "for i in range(pr.duration//32):\n",
    "    bar = pr.slice(i*32, (i+1)*32)\n",
    "    idx, pos = tokenizer.pr_to_idx(bar, return_pos=True)\n",
    "    idx = torch.tensor(idx).to(device).unsqueeze(0)\n",
    "    pos = torch.tensor(pos).to(device).unsqueeze(0)\n",
    "    z, _ = vae.encoder(idx, pos)\n",
    "    zs1.append(z)\n",
    "\n",
    "pr = fpr_ds.get_piano_roll(7)\n",
    "zs2 = []\n",
    "for i in range(pr.duration//32):\n",
    "    bar = pr.slice(i*32, (i+1)*32)\n",
    "    idx, pos = tokenizer.pr_to_idx(bar, return_pos=True)\n",
    "    idx = torch.tensor(idx).to(device).unsqueeze(0)\n",
    "    pos = torch.tensor(pos).to(device).unsqueeze(0)\n",
    "    z, _ = vae.encoder(idx, pos)\n",
    "    zs2.append(z)\n",
    "\n",
    "writer.add_embedding(tag='fullsong',mat=torch.cat(zs1 + zs2, dim=0), metadata=[0 for _ in range(len(zs1))] + [1 for _ in range(len(zs2))],global_step=1)"
   ]
  },
  {
   "cell_type": "code",
   "execution_count": null,
   "metadata": {},
   "outputs": [
    {
     "data": {
      "text/plain": [
       "ticks per beat: 480\n",
       "max tick: 0\n",
       "tempo changes: 1\n",
       "time sig: 0\n",
       "key sig: 0\n",
       "markers: 0\n",
       "lyrics: False\n",
       "instruments: 1"
      ]
     },
     "execution_count": 66,
     "metadata": {},
     "output_type": "execute_result"
    }
   ],
   "source": [
    "class SongModel(nn.Module):\n",
    "    def __init__(self, latent_dim:int, feature_dim:int, n_category:int=8):\n",
    "        super().__init__()\n",
    "        self.pe = SinusoidalPositionalEncoding(feature_dim//2, 32)\n",
    "        self.stage1 = nn.TransformerEncoder(nn.TransformerEncoderLayer(feature_dim, 8, 1024, batch_first=True), 4)\n",
    "        self.stage2 = nn.Sequential(\n",
    "            nn.Linear(feature_dim, feature_dim),\n",
    "            nn.LeakyReLU(),\n",
    "            nn.Linear(feature_dim, latent_dim)\n",
    "\n"
   ]
  },
  {
   "cell_type": "code",
   "execution_count": null,
   "metadata": {},
   "outputs": [],
   "source": []
  }
 ],
 "metadata": {
  "kernelspec": {
   "display_name": "gr",
   "language": "python",
   "name": "python3"
  },
  "language_info": {
   "codemirror_mode": {
    "name": "ipython",
    "version": 3
   },
   "file_extension": ".py",
   "mimetype": "text/x-python",
   "name": "python",
   "nbconvert_exporter": "python",
   "pygments_lexer": "ipython3",
   "version": "3.11.9"
  }
 },
 "nbformat": 4,
 "nbformat_minor": 2
}
