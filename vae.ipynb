{
 "cells": [
  {
   "cell_type": "code",
   "execution_count": 1,
   "metadata": {},
   "outputs": [],
   "source": [
    "%load_ext autoreload\n",
    "%autoreload 2\n",
    "\n",
    "device = 'cuda'"
   ]
  },
  {
   "cell_type": "code",
   "execution_count": 2,
   "metadata": {},
   "outputs": [],
   "source": [
    "import torch"
   ]
  },
  {
   "cell_type": "code",
   "execution_count": 3,
   "metadata": {},
   "outputs": [
    {
     "name": "stdout",
     "output_type": "stream",
     "text": [
      "Loaded 253780 samples from 2570 songs\n"
     ]
    }
   ],
   "source": [
    "from pianogen.dataset.pianorolldataset import PianoRollDataset\n",
    "from pianogen.dataset.tokenized import TokenizedPianoRollDataset\n",
    "from pianogen.tokenizer import PianoRollTokenizer\n",
    "from torch.utils.data import DataLoader\n",
    "\n",
    "pr_ds = PianoRollDataset(r'W:\\music\\music-data-analysis\\data', max_duration=32*150, segment_len=32, hop_len=32) # 1 bar\n",
    "tokenizer = PianoRollTokenizer(n_pitch=88, n_velocity=32, token_seq_len=120+1)\n",
    "ds = TokenizedPianoRollDataset(pr_ds, tokenizer)\n",
    "dl = DataLoader(ds,batch_size=32, shuffle=True, num_workers=8)"
   ]
  },
  {
   "cell_type": "markdown",
   "metadata": {},
   "source": [
    "ok so we need a vae, where\n",
    "\n",
    "the encoder is sequence in, embedding out\n",
    "\n",
    "the latent is the embedding\n",
    "\n",
    "the decoder is the embedding in, sequence out"
   ]
  },
  {
   "cell_type": "code",
   "execution_count": 4,
   "metadata": {},
   "outputs": [],
   "source": [
    "import torch.nn as nn\n",
    "\n",
    "from pianogen.model.model import BinaryPositionalEncoding, SinusoidalPositionalEncoding\n",
    "\n",
    "class PositionalEncoding(nn.Module):\n",
    "    def __init__(self, binary_pe_dim, sinusoidal_pe_dim, max_len):\n",
    "        super().__init__()\n",
    "        self.binary_pos_encoding = BinaryPositionalEncoding(binary_pe_dim, max_len)\n",
    "        self.sinusoidal_pos_encoding = SinusoidalPositionalEncoding(sinusoidal_pe_dim, max_len)\n",
    "\n",
    "    def forward(self, x):\n",
    "        return torch.cat([self.binary_pos_encoding(x), self.sinusoidal_pos_encoding(x)*0], dim=-1)\n",
    "\n",
    "class Encoder(nn.Module):\n",
    "    '''\n",
    "    eats a sequence of tokens, and outputs an embedding at the emb token\n",
    "    no masking\n",
    "    '''\n",
    "    def __init__(self, input_dim, output_dim, feature_dim, max_len, n_heads=8, n_layers=6, ff_dim=1024):\n",
    "        super().__init__()\n",
    "        self.emb_token_idx = input_dim # the last token is the embedding token\n",
    "        self.pe = PositionalEncoding(5, feature_dim//2-5, max_len)\n",
    "        self.emb = nn.Embedding(input_dim+1, feature_dim)\n",
    "        self.transformer = nn.TransformerEncoder(nn.TransformerEncoderLayer(feature_dim, n_heads, ff_dim, batch_first=True), n_layers)\n",
    "        self.output_layer = nn.Linear(feature_dim, output_dim*2)\n",
    "\n",
    "    def forward(self, x: torch.Tensor, pos: torch.Tensor):\n",
    "        #x: B, L\n",
    "        # add emb token\n",
    "        x = torch.cat([x, torch.zeros(x.shape[0], 1, device=x.device, dtype=torch.long)+self.emb_token_idx], dim=1)\n",
    "        # x: B, L+1\n",
    "\n",
    "        # embed\n",
    "        x = self.emb(x)\n",
    "\n",
    "        # add positional encoding\n",
    "        pe = self.pe(pos)\n",
    "        pe = torch.cat([pe, torch.zeros_like(pe[:,0:1,:])], dim=1) # B, L+1, D\n",
    "        x[:,:,:pe.shape[2]] += pe\n",
    "\n",
    "        x = self.transformer(x)\n",
    "        x = x[:,-1] # get the embedding\n",
    "        x = self.output_layer(x)\n",
    "        mean, logvar = x.chunk(2, dim=1)\n",
    "        logvar = logvar - 6 # make var start small for faster learning\n",
    "        return mean, logvar\n",
    "\n",
    "class Decoder(nn.Module):\n",
    "    '''\n",
    "    eats an embedding, and outputs a sequence of tokens autoregressively\n",
    "    '''\n",
    "    def __init__(self, input_dim:int, output_dim:int, feature_dim:int, max_len:int, n_heads:int=8, n_layers:int=6, ff_dim:int=1024):\n",
    "        super().__init__()\n",
    "        self.emb = nn.Embedding(input_dim, feature_dim)\n",
    "        self.pe = PositionalEncoding(5, feature_dim//2-5, max_len)\n",
    "        self.input_layer = nn.Linear(input_dim*2, feature_dim)\n",
    "        self.transformer = nn.TransformerEncoder(nn.TransformerEncoderLayer(feature_dim, n_heads, ff_dim, batch_first=True), n_layers)\n",
    "        self.output_layer = nn.Linear(feature_dim, output_dim)\n",
    "\n",
    "    def forward(self, latent: torch.Tensor, seq: torch.Tensor, pos: torch.Tensor):\n",
    "        #latent: B, D_latent\n",
    "        #seq: B, L\n",
    "        x = self.emb(seq)\n",
    "\n",
    "        # add positional encoding\n",
    "        pe = self.pe(pos)\n",
    "        pe = torch.cat([\n",
    "            pe[:, :-1], # pe of the input tokens\n",
    "            pe[:, 1:]   # pe of the target tokens\n",
    "        ], dim=2) # B, L, D\n",
    "        x = x + pe\n",
    "\n",
    "        # incorporate latent\n",
    "        latent = latent.unsqueeze(1) # B, 1, D\n",
    "        latent = latent.expand(-1, x.shape[1], -1) # B, L, D\n",
    "        x = torch.cat([x, latent], dim=2)\n",
    "        x = self.input_layer(x)\n",
    "\n",
    "        # have to be causal\n",
    "        x = self.transformer.forward(x, mask=nn.Transformer.generate_square_subsequent_mask(x.shape[1]).to(x.device), is_causal=True)\n",
    "        x = self.output_layer(x)\n",
    "        return x\n",
    "\n",
    "\n",
    "class VAE(nn.Module):\n",
    "    def __init__(self, encoder: Encoder, decoder: Decoder):\n",
    "        super().__init__()\n",
    "        self.encoder = encoder\n",
    "        self.decoder = decoder\n",
    "\n",
    "    def forward(self, seq: torch.Tensor, pos: torch.Tensor, return_latent: bool=False):\n",
    "        latent_mean, latent_logvar = self.encoder(seq[:,1:], pos[:,1:])\n",
    "        latent = self.reparameterize(latent_mean, latent_logvar)\n",
    "        #latent = latent_mean\n",
    "        if return_latent:\n",
    "            latent_loss = self.latent_loss(latent_mean, latent_logvar)\n",
    "            return self.decoder(latent, seq[:,:-1], pos), latent, latent_mean, latent_logvar, latent_loss\n",
    "        else:\n",
    "            return self.decoder(latent, seq[:,:-1], pos)\n",
    "        \n",
    "\n",
    "    def reparameterize(self, mean: torch.Tensor, logvar: torch.Tensor):\n",
    "        # mean: B, L\n",
    "        # logvar: B, L\n",
    "        std = torch.exp(0.5 * logvar)\n",
    "        eps = torch.randn_like(std)\n",
    "        return mean + eps * std\n",
    "\n",
    "    def latent_loss(self, mean: torch.Tensor, logvar: torch.Tensor):\n",
    "        return torch.mean(-0.5 * torch.sum(1 + logvar - mean.pow(2) - logvar.exp(), dim=1))"
   ]
  },
  {
   "cell_type": "code",
   "execution_count": 5,
   "metadata": {},
   "outputs": [],
   "source": [
    "\n",
    "from pathlib import Path\n",
    "import random\n",
    "from typing import Literal\n",
    "from tqdm import tqdm\n",
    "from music_data_analysis.data import Pianoroll\n",
    "from pianogen.gpu_temp_control import GPUTempControl\n",
    "\n",
    "gpu_control = GPUTempControl(64,3)\n",
    "\n",
    "tokenizer: PianoRollTokenizer\n",
    "vae: VAE\n",
    "def inference(latent:torch.Tensor, file_path:str|Path, length:int=120, prompt:Pianoroll|None=None, batch_size:int|None=None,method:Literal['nucleus','top_k']='nucleus', p=0.9, top_k:int=15):\n",
    "    vae.eval()\n",
    "    if prompt is None:\n",
    "        tokens = [{'type':'start'}]\n",
    "    else:\n",
    "        tokens = ds.tokenizer.tokenize(prompt, pad=False)\n",
    "        print('prompt:', tokens[:10])\n",
    "        print('prompt end:', tokens[-10:])\n",
    "\n",
    "    indices = tokenizer.vocab.tokens_to_indices(tokens)\n",
    "    pos = tokenizer.get_frame_indices(tokens, infer_next_frame=True)\n",
    "    indices = indices.unsqueeze(0).to(device)\n",
    "    pos = pos.unsqueeze(0).to(device)\n",
    "\n",
    "    last_token = tokens[-1]\n",
    "\n",
    "    for _ in tqdm(range(length-len(tokens))):\n",
    "        gpu_control.cooldown()\n",
    "\n",
    "        logits = vae.decoder(latent, indices, pos).squeeze(0)[-1].detach().cpu()\n",
    "        new_token = tokenizer.sample_from_logits(logits, last_token, method=method, p=p, top_k=top_k)\n",
    "        tokens.append(new_token)\n",
    "        last_token = new_token\n",
    "\n",
    "        # update indices and pos\n",
    "\n",
    "        new_token_idx = tokenizer.vocab.get_idx(new_token)\n",
    "        indices = torch.cat([indices, torch.tensor([[new_token_idx]]).to(device)], dim=-1)\n",
    "        if new_token['type'] == 'next_frame':\n",
    "            new_pos = pos[0,-1] + 1\n",
    "        else:\n",
    "            new_pos = pos[0,-1]\n",
    "        pos = torch.cat([pos, torch.tensor([[new_pos]]).to(device)], dim=-1)\n",
    "\n",
    "        if new_token['type'] == 'end':\n",
    "            break\n",
    "\n",
    "    pr = tokenizer.detokenize(tokens).slice(0,32)\n",
    "    pr.to_midi(file_path)\n",
    "    print(len(tokens),' tokens :', tokens[:10])\n",
    "    return pr\n",
    "\n",
    "def gaussian_pdf(mean, var, x):\n",
    "    result = torch.exp(-0.5 * (x-mean).pow(2) / var) / torch.sqrt(2 * torch.pi * var)\n",
    "    return result.prod(dim=-1)\n",
    "\n",
    "def log_gaussian_pdf(mean, var, x):\n",
    "    result = torch.exp(-0.5 * (x-mean).pow(2) / var) / torch.sqrt(2 * torch.pi * var)\n",
    "    return result.log().sum(dim=-1)\n",
    "\n",
    "def get_confidence(mean, var):\n",
    "    B = mean.shape[0]\n",
    "    s = 0\n",
    "    n=64\n",
    "    for _ in range(n):\n",
    "        i = random.randint(0,B-1)\n",
    "        j = random.randint(0,B-1)\n",
    "        if i==j:\n",
    "            j = (j+1)%B\n",
    "        log_p1 = log_gaussian_pdf(mean[i], var[i], mean[i])\n",
    "        log_p2 = log_gaussian_pdf(mean[j], var[j], mean[i])\n",
    "        log_p2 -= log_p1\n",
    "        log_p1 -= log_p1\n",
    "        p1 = log_p1.exp()\n",
    "        p2 = log_p2.exp()\n",
    "        s += p1/(p1+p2)\n",
    "    return s/n"
   ]
  },
  {
   "cell_type": "code",
   "execution_count": 6,
   "metadata": {},
   "outputs": [
    {
     "name": "stdout",
     "output_type": "stream",
     "text": [
      "number of parameters: 7.500156 M\n"
     ]
    }
   ],
   "source": [
    "from pathlib import Path\n",
    "from torch.utils.tensorboard.writer import SummaryWriter\n",
    "\n",
    "exp_name = 'vae/1002_latent_loss_1e-4_cor1'\n",
    "device = 'cuda'\n",
    "\n",
    "output_dir = Path(f'./output/{exp_name}')\n",
    "output_dir.mkdir(parents=True, exist_ok=True)\n",
    "checkpoint_dir = Path(f'./checkpoint/{exp_name}')\n",
    "checkpoint_dir.mkdir(parents=True, exist_ok=True)\n",
    "tensorboard_dir = Path(f'./tensorboard/{exp_name}')\n",
    "\n",
    "\n",
    "encoder = Encoder(input_dim=len(tokenizer.vocab), output_dim=256, feature_dim=256, max_len=120, n_heads=8, n_layers=3, ff_dim=1024)\n",
    "decoder = Decoder(input_dim=256, output_dim=len(tokenizer.vocab), feature_dim=256, max_len=120, n_heads=8, n_layers=6, ff_dim=1024)\n",
    "vae = VAE(encoder, decoder)\n",
    "crit = nn.CrossEntropyLoss(ignore_index=0)\n",
    "opt = torch.optim.Adam(vae.parameters(),lr=2e-4)\n",
    "\n",
    "writer = SummaryWriter(tensorboard_dir)\n",
    "\n",
    "print('number of parameters:', sum(p.numel() for p in vae.parameters())/1e6, 'M')"
   ]
  },
  {
   "cell_type": "code",
   "execution_count": 7,
   "metadata": {},
   "outputs": [],
   "source": [
    "from_epoch = 0\n",
    "epoch = from_epoch\n",
    "# load from checkpoint\n",
    "if from_epoch > 0:\n",
    "    checkpoint = torch.load(checkpoint_dir/f'{from_epoch}.pt')\n",
    "    vae.load_state_dict(checkpoint['model'])\n",
    "    opt.load_state_dict(checkpoint['opt'])\n",
    "vae = vae.to(device)"
   ]
  },
  {
   "cell_type": "code",
   "execution_count": 8,
   "metadata": {},
   "outputs": [
    {
     "data": {
      "text/plain": [
       "0"
      ]
     },
     "execution_count": 8,
     "metadata": {},
     "output_type": "execute_result"
    }
   ],
   "source": [
    "epoch"
   ]
  },
  {
   "cell_type": "code",
   "execution_count": 45,
   "metadata": {},
   "outputs": [
    {
     "name": "stderr",
     "output_type": "stream",
     "text": [
      "  0%|          | 0/7931 [00:00<?, ?it/s]"
     ]
    },
    {
     "name": "stdout",
     "output_type": "stream",
     "text": [
      "warning: Embedding dir exists, did you set global_step for add_embedding()?\n"
     ]
    },
    {
     "name": "stderr",
     "output_type": "stream",
     "text": [
      "100%|██████████| 119/119 [00:00<00:00, 143.71it/s]\n"
     ]
    },
    {
     "name": "stdout",
     "output_type": "stream",
     "text": [
      "120  tokens : [{'type': 'start'}, {'value': 20, 'type': 'pitch'}, {'value': 19, 'type': 'velocity'}, {'value': 51, 'type': 'pitch'}, {'value': 21, 'type': 'velocity'}, {'value': 58, 'type': 'pitch'}, {'value': 20, 'type': 'velocity'}, {'type': 'next_frame'}, {'type': 'next_frame'}, {'value': 27, 'type': 'pitch'}]\n"
     ]
    },
    {
     "name": "stderr",
     "output_type": "stream",
     "text": [
      "100%|██████████| 119/119 [00:00<00:00, 132.13it/s]\n",
      "  0%|          | 4/7931 [00:20<8:45:08,  3.97s/it] "
     ]
    },
    {
     "name": "stdout",
     "output_type": "stream",
     "text": [
      "120  tokens : [{'type': 'start'}, {'value': 31, 'type': 'pitch'}, {'value': 18, 'type': 'velocity'}, {'value': 38, 'type': 'pitch'}, {'value': 18, 'type': 'velocity'}, {'value': 41, 'type': 'pitch'}, {'value': 19, 'type': 'velocity'}, {'value': 50, 'type': 'pitch'}, {'value': 20, 'type': 'velocity'}, {'value': 62, 'type': 'pitch'}]\n"
     ]
    },
    {
     "name": "stderr",
     "output_type": "stream",
     "text": [
      "  6%|▋         | 499/7931 [01:16<17:01,  7.28it/s] "
     ]
    },
    {
     "name": "stdout",
     "output_type": "stream",
     "text": [
      "warning: Embedding dir exists, did you set global_step for add_embedding()?\n"
     ]
    },
    {
     "name": "stderr",
     "output_type": "stream",
     "text": [
      "100%|██████████| 119/119 [00:01<00:00, 116.54it/s]\n"
     ]
    },
    {
     "name": "stdout",
     "output_type": "stream",
     "text": [
      "120  tokens : [{'type': 'start'}, {'value': 10, 'type': 'pitch'}, {'value': 22, 'type': 'velocity'}, {'value': 22, 'type': 'pitch'}, {'value': 22, 'type': 'velocity'}, {'value': 46, 'type': 'pitch'}, {'value': 24, 'type': 'velocity'}, {'value': 50, 'type': 'pitch'}, {'value': 23, 'type': 'velocity'}, {'value': 58, 'type': 'pitch'}]\n"
     ]
    },
    {
     "name": "stderr",
     "output_type": "stream",
     "text": [
      "100%|██████████| 119/119 [00:00<00:00, 122.90it/s]\n",
      "  6%|▋         | 503/7931 [01:18<37:22,  3.31it/s]"
     ]
    },
    {
     "name": "stdout",
     "output_type": "stream",
     "text": [
      "120  tokens : [{'type': 'start'}, {'value': 13, 'type': 'pitch'}, {'value': 17, 'type': 'velocity'}, {'value': 25, 'type': 'pitch'}, {'value': 16, 'type': 'velocity'}, {'value': 32, 'type': 'pitch'}, {'value': 16, 'type': 'velocity'}, {'value': 37, 'type': 'pitch'}, {'value': 18, 'type': 'velocity'}, {'value': 40, 'type': 'pitch'}]\n"
     ]
    },
    {
     "name": "stderr",
     "output_type": "stream",
     "text": [
      " 13%|█▎        | 999/7931 [02:19<15:02,  7.68it/s]"
     ]
    },
    {
     "name": "stdout",
     "output_type": "stream",
     "text": [
      "warning: Embedding dir exists, did you set global_step for add_embedding()?\n"
     ]
    },
    {
     "name": "stderr",
     "output_type": "stream",
     "text": [
      "100%|██████████| 119/119 [00:00<00:00, 122.10it/s]\n"
     ]
    },
    {
     "name": "stdout",
     "output_type": "stream",
     "text": [
      "120  tokens : [{'type': 'start'}, {'type': 'next_frame'}, {'type': 'next_frame'}, {'type': 'next_frame'}, {'type': 'next_frame'}, {'value': 36, 'type': 'pitch'}, {'value': 19, 'type': 'velocity'}, {'value': 43, 'type': 'pitch'}, {'value': 19, 'type': 'velocity'}, {'value': 48, 'type': 'pitch'}]\n"
     ]
    },
    {
     "name": "stderr",
     "output_type": "stream",
     "text": [
      "100%|██████████| 119/119 [00:01<00:00, 118.39it/s]\n",
      " 13%|█▎        | 1003/7931 [02:22<38:40,  2.99it/s]"
     ]
    },
    {
     "name": "stdout",
     "output_type": "stream",
     "text": [
      "120  tokens : [{'type': 'start'}, {'value': 7, 'type': 'pitch'}, {'value': 19, 'type': 'velocity'}, {'value': 51, 'type': 'pitch'}, {'value': 22, 'type': 'velocity'}, {'value': 53, 'type': 'pitch'}, {'value': 21, 'type': 'velocity'}, {'value': 60, 'type': 'pitch'}, {'value': 22, 'type': 'velocity'}, {'type': 'next_frame'}]\n"
     ]
    },
    {
     "name": "stderr",
     "output_type": "stream",
     "text": [
      " 19%|█▉        | 1500/7931 [03:23<13:44,  7.80it/s]"
     ]
    },
    {
     "name": "stdout",
     "output_type": "stream",
     "text": [
      "warning: Embedding dir exists, did you set global_step for add_embedding()?\n"
     ]
    },
    {
     "name": "stderr",
     "output_type": "stream",
     "text": [
      "100%|██████████| 119/119 [00:01<00:00, 114.90it/s]\n"
     ]
    },
    {
     "name": "stdout",
     "output_type": "stream",
     "text": [
      "120  tokens : [{'type': 'start'}, {'value': 8, 'type': 'pitch'}, {'value': 19, 'type': 'velocity'}, {'value': 20, 'type': 'pitch'}, {'value': 20, 'type': 'velocity'}, {'value': 46, 'type': 'pitch'}, {'value': 19, 'type': 'velocity'}, {'type': 'next_frame'}, {'type': 'next_frame'}, {'type': 'next_frame'}]\n"
     ]
    },
    {
     "name": "stderr",
     "output_type": "stream",
     "text": [
      "100%|██████████| 119/119 [00:00<00:00, 121.39it/s]\n",
      " 19%|█▉        | 1502/7931 [03:25<40:51,  2.62it/s]"
     ]
    },
    {
     "name": "stdout",
     "output_type": "stream",
     "text": [
      "120  tokens : [{'type': 'start'}, {'value': 43, 'type': 'pitch'}, {'value': 17, 'type': 'velocity'}, {'value': 46, 'type': 'pitch'}, {'value': 13, 'type': 'velocity'}, {'value': 48, 'type': 'pitch'}, {'value': 19, 'type': 'velocity'}, {'value': 51, 'type': 'pitch'}, {'value': 18, 'type': 'velocity'}, {'value': 55, 'type': 'pitch'}]\n"
     ]
    },
    {
     "name": "stderr",
     "output_type": "stream",
     "text": [
      " 25%|██▌       | 1998/7931 [04:25<14:21,  6.89it/s]"
     ]
    },
    {
     "name": "stdout",
     "output_type": "stream",
     "text": [
      "warning: Embedding dir exists, did you set global_step for add_embedding()?\n"
     ]
    },
    {
     "name": "stderr",
     "output_type": "stream",
     "text": [
      "100%|██████████| 119/119 [00:01<00:00, 114.24it/s]\n"
     ]
    },
    {
     "name": "stdout",
     "output_type": "stream",
     "text": [
      "120  tokens : [{'type': 'start'}, {'value': 13, 'type': 'pitch'}, {'value': 20, 'type': 'velocity'}, {'value': 25, 'type': 'pitch'}, {'value': 22, 'type': 'velocity'}, {'value': 35, 'type': 'pitch'}, {'value': 21, 'type': 'velocity'}, {'value': 43, 'type': 'pitch'}, {'value': 24, 'type': 'velocity'}, {'type': 'next_frame'}]\n"
     ]
    },
    {
     "name": "stderr",
     "output_type": "stream",
     "text": [
      "100%|██████████| 119/119 [00:00<00:00, 120.80it/s]\n",
      " 25%|██▌       | 2003/7931 [04:27<28:34,  3.46it/s]"
     ]
    },
    {
     "name": "stdout",
     "output_type": "stream",
     "text": [
      "120  tokens : [{'type': 'start'}, {'value': 12, 'type': 'pitch'}, {'value': 20, 'type': 'velocity'}, {'value': 43, 'type': 'pitch'}, {'value': 22, 'type': 'velocity'}, {'value': 48, 'type': 'pitch'}, {'value': 22, 'type': 'velocity'}, {'value': 51, 'type': 'pitch'}, {'value': 24, 'type': 'velocity'}, {'type': 'next_frame'}]\n"
     ]
    },
    {
     "name": "stderr",
     "output_type": "stream",
     "text": [
      " 31%|███▏      | 2498/7931 [05:25<12:26,  7.27it/s]"
     ]
    },
    {
     "name": "stdout",
     "output_type": "stream",
     "text": [
      "warning: Embedding dir exists, did you set global_step for add_embedding()?\n"
     ]
    },
    {
     "name": "stderr",
     "output_type": "stream",
     "text": [
      "100%|██████████| 119/119 [00:00<00:00, 119.76it/s]\n"
     ]
    },
    {
     "name": "stdout",
     "output_type": "stream",
     "text": [
      "120  tokens : [{'type': 'start'}, {'value': 12, 'type': 'pitch'}, {'value': 18, 'type': 'velocity'}, {'value': 24, 'type': 'pitch'}, {'value': 21, 'type': 'velocity'}, {'type': 'next_frame'}, {'type': 'next_frame'}, {'type': 'next_frame'}, {'type': 'next_frame'}, {'value': 48, 'type': 'pitch'}]\n"
     ]
    },
    {
     "name": "stderr",
     "output_type": "stream",
     "text": [
      "100%|██████████| 119/119 [00:00<00:00, 125.58it/s]\n",
      " 32%|███▏      | 2503/7931 [05:28<25:12,  3.59it/s]"
     ]
    },
    {
     "name": "stdout",
     "output_type": "stream",
     "text": [
      "120  tokens : [{'type': 'start'}, {'value': 10, 'type': 'pitch'}, {'value': 20, 'type': 'velocity'}, {'value': 22, 'type': 'pitch'}, {'value': 20, 'type': 'velocity'}, {'type': 'next_frame'}, {'type': 'next_frame'}, {'type': 'next_frame'}, {'type': 'next_frame'}, {'value': 34, 'type': 'pitch'}]\n"
     ]
    },
    {
     "name": "stderr",
     "output_type": "stream",
     "text": [
      " 38%|███▊      | 2999/7931 [06:26<11:10,  7.35it/s]"
     ]
    },
    {
     "name": "stdout",
     "output_type": "stream",
     "text": [
      "warning: Embedding dir exists, did you set global_step for add_embedding()?\n"
     ]
    },
    {
     "name": "stderr",
     "output_type": "stream",
     "text": [
      "100%|██████████| 119/119 [00:00<00:00, 125.18it/s]\n"
     ]
    },
    {
     "name": "stdout",
     "output_type": "stream",
     "text": [
      "120  tokens : [{'type': 'start'}, {'value': 8, 'type': 'pitch'}, {'value': 20, 'type': 'velocity'}, {'value': 20, 'type': 'pitch'}, {'value': 21, 'type': 'velocity'}, {'value': 51, 'type': 'pitch'}, {'value': 24, 'type': 'velocity'}, {'value': 55, 'type': 'pitch'}, {'value': 22, 'type': 'velocity'}, {'value': 60, 'type': 'pitch'}]\n"
     ]
    },
    {
     "name": "stderr",
     "output_type": "stream",
     "text": [
      "100%|██████████| 119/119 [00:00<00:00, 121.54it/s]\n",
      " 38%|███▊      | 3003/7931 [06:29<28:15,  2.91it/s]"
     ]
    },
    {
     "name": "stdout",
     "output_type": "stream",
     "text": [
      "120  tokens : [{'type': 'start'}, {'value': 8, 'type': 'pitch'}, {'value': 18, 'type': 'velocity'}, {'value': 20, 'type': 'pitch'}, {'value': 18, 'type': 'velocity'}, {'value': 56, 'type': 'pitch'}, {'value': 20, 'type': 'velocity'}, {'type': 'next_frame'}, {'type': 'next_frame'}, {'type': 'next_frame'}]\n"
     ]
    },
    {
     "name": "stderr",
     "output_type": "stream",
     "text": [
      " 44%|████▍     | 3498/7931 [07:27<10:38,  6.95it/s]"
     ]
    },
    {
     "name": "stdout",
     "output_type": "stream",
     "text": [
      "warning: Embedding dir exists, did you set global_step for add_embedding()?\n"
     ]
    },
    {
     "name": "stderr",
     "output_type": "stream",
     "text": [
      "100%|██████████| 119/119 [00:00<00:00, 123.94it/s]\n"
     ]
    },
    {
     "name": "stdout",
     "output_type": "stream",
     "text": [
      "120  tokens : [{'type': 'start'}, {'value': 14, 'type': 'pitch'}, {'value': 12, 'type': 'velocity'}, {'value': 43, 'type': 'pitch'}, {'value': 18, 'type': 'velocity'}, {'type': 'next_frame'}, {'type': 'next_frame'}, {'type': 'next_frame'}, {'type': 'next_frame'}, {'value': 19, 'type': 'pitch'}]\n"
     ]
    },
    {
     "name": "stderr",
     "output_type": "stream",
     "text": [
      "100%|██████████| 119/119 [00:00<00:00, 126.09it/s]\n",
      " 44%|████▍     | 3503/7931 [07:30<20:31,  3.60it/s]"
     ]
    },
    {
     "name": "stdout",
     "output_type": "stream",
     "text": [
      "120  tokens : [{'type': 'start'}, {'value': 0, 'type': 'pitch'}, {'value': 19, 'type': 'velocity'}, {'value': 12, 'type': 'pitch'}, {'value': 19, 'type': 'velocity'}, {'type': 'next_frame'}, {'type': 'next_frame'}, {'type': 'next_frame'}, {'type': 'next_frame'}, {'type': 'next_frame'}]\n"
     ]
    },
    {
     "name": "stderr",
     "output_type": "stream",
     "text": [
      " 50%|█████     | 4000/7931 [08:29<08:48,  7.44it/s]"
     ]
    },
    {
     "name": "stdout",
     "output_type": "stream",
     "text": [
      "warning: Embedding dir exists, did you set global_step for add_embedding()?\n"
     ]
    },
    {
     "name": "stderr",
     "output_type": "stream",
     "text": [
      "100%|██████████| 119/119 [00:01<00:00, 115.24it/s]\n"
     ]
    },
    {
     "name": "stdout",
     "output_type": "stream",
     "text": [
      "120  tokens : [{'type': 'start'}, {'value': 24, 'type': 'pitch'}, {'value': 19, 'type': 'velocity'}, {'value': 39, 'type': 'pitch'}, {'value': 19, 'type': 'velocity'}, {'value': 51, 'type': 'pitch'}, {'value': 21, 'type': 'velocity'}, {'value': 55, 'type': 'pitch'}, {'value': 20, 'type': 'velocity'}, {'type': 'next_frame'}]\n"
     ]
    },
    {
     "name": "stderr",
     "output_type": "stream",
     "text": [
      "100%|██████████| 119/119 [00:00<00:00, 140.32it/s]\n",
      " 50%|█████     | 4005/7931 [08:31<16:42,  3.91it/s]"
     ]
    },
    {
     "name": "stdout",
     "output_type": "stream",
     "text": [
      "120  tokens : [{'type': 'start'}, {'value': 17, 'type': 'pitch'}, {'value': 19, 'type': 'velocity'}, {'type': 'next_frame'}, {'type': 'next_frame'}, {'type': 'next_frame'}, {'type': 'next_frame'}, {'value': 24, 'type': 'pitch'}, {'value': 17, 'type': 'velocity'}, {'value': 41, 'type': 'pitch'}]\n"
     ]
    },
    {
     "name": "stderr",
     "output_type": "stream",
     "text": [
      " 57%|█████▋    | 4499/7931 [09:30<07:55,  7.21it/s]"
     ]
    },
    {
     "name": "stdout",
     "output_type": "stream",
     "text": [
      "warning: Embedding dir exists, did you set global_step for add_embedding()?\n"
     ]
    },
    {
     "name": "stderr",
     "output_type": "stream",
     "text": [
      "100%|██████████| 119/119 [00:00<00:00, 129.82it/s]\n"
     ]
    },
    {
     "name": "stdout",
     "output_type": "stream",
     "text": [
      "120  tokens : [{'type': 'start'}, {'value': 17, 'type': 'pitch'}, {'value': 15, 'type': 'velocity'}, {'type': 'next_frame'}, {'type': 'next_frame'}, {'type': 'next_frame'}, {'type': 'next_frame'}, {'value': 24, 'type': 'pitch'}, {'value': 13, 'type': 'velocity'}, {'value': 27, 'type': 'pitch'}]\n"
     ]
    },
    {
     "name": "stderr",
     "output_type": "stream",
     "text": [
      "100%|██████████| 119/119 [00:00<00:00, 127.73it/s]\n",
      " 57%|█████▋    | 4503/7931 [09:32<16:33,  3.45it/s]"
     ]
    },
    {
     "name": "stdout",
     "output_type": "stream",
     "text": [
      "120  tokens : [{'type': 'start'}, {'value': 24, 'type': 'pitch'}, {'value': 19, 'type': 'velocity'}, {'value': 53, 'type': 'pitch'}, {'value': 20, 'type': 'velocity'}, {'type': 'next_frame'}, {'type': 'next_frame'}, {'type': 'next_frame'}, {'type': 'next_frame'}, {'value': 31, 'type': 'pitch'}]\n"
     ]
    },
    {
     "name": "stderr",
     "output_type": "stream",
     "text": [
      "100%|██████████| 119/119 [00:01<00:00, 114.41it/s]]\n"
     ]
    },
    {
     "name": "stdout",
     "output_type": "stream",
     "text": [
      "120  tokens : [{'type': 'start'}, {'value': 14, 'type': 'pitch'}, {'value': 17, 'type': 'velocity'}, {'type': 'next_frame'}, {'type': 'next_frame'}, {'value': 9, 'type': 'pitch'}, {'value': 16, 'type': 'velocity'}, {'type': 'next_frame'}, {'type': 'next_frame'}, {'value': 19, 'type': 'pitch'}]\n"
     ]
    },
    {
     "name": "stderr",
     "output_type": "stream",
     "text": [
      "100%|██████████| 119/119 [00:00<00:00, 128.56it/s]\n",
      " 63%|██████▎   | 5003/7931 [10:34<14:42,  3.32it/s]"
     ]
    },
    {
     "name": "stdout",
     "output_type": "stream",
     "text": [
      "120  tokens : [{'type': 'start'}, {'value': 5, 'type': 'pitch'}, {'value': 22, 'type': 'velocity'}, {'value': 17, 'type': 'pitch'}, {'value': 23, 'type': 'velocity'}, {'value': 41, 'type': 'pitch'}, {'value': 22, 'type': 'velocity'}, {'value': 44, 'type': 'pitch'}, {'value': 22, 'type': 'velocity'}, {'value': 51, 'type': 'pitch'}]\n"
     ]
    },
    {
     "name": "stderr",
     "output_type": "stream",
     "text": [
      "100%|██████████| 119/119 [00:00<00:00, 134.37it/s]]\n"
     ]
    },
    {
     "name": "stdout",
     "output_type": "stream",
     "text": [
      "120  tokens : [{'type': 'start'}, {'value': 15, 'type': 'pitch'}, {'value': 21, 'type': 'velocity'}, {'value': 27, 'type': 'pitch'}, {'value': 24, 'type': 'velocity'}, {'value': 34, 'type': 'pitch'}, {'value': 19, 'type': 'velocity'}, {'value': 39, 'type': 'pitch'}, {'value': 21, 'type': 'velocity'}, {'value': 43, 'type': 'pitch'}]\n"
     ]
    },
    {
     "name": "stderr",
     "output_type": "stream",
     "text": [
      "100%|██████████| 119/119 [00:00<00:00, 130.97it/s]\n",
      " 69%|██████▉   | 5503/7931 [11:33<10:13,  3.96it/s]"
     ]
    },
    {
     "name": "stdout",
     "output_type": "stream",
     "text": [
      "120  tokens : [{'type': 'start'}, {'value': 51, 'type': 'pitch'}, {'value': 19, 'type': 'velocity'}, {'type': 'next_frame'}, {'type': 'next_frame'}, {'type': 'next_frame'}, {'type': 'next_frame'}, {'type': 'next_frame'}, {'type': 'next_frame'}, {'type': 'next_frame'}]\n"
     ]
    },
    {
     "name": "stderr",
     "output_type": "stream",
     "text": [
      "100%|██████████| 119/119 [00:01<00:00, 113.70it/s]]\n"
     ]
    },
    {
     "name": "stdout",
     "output_type": "stream",
     "text": [
      "120  tokens : [{'type': 'start'}, {'type': 'next_frame'}, {'type': 'next_frame'}, {'type': 'next_frame'}, {'type': 'next_frame'}, {'value': 26, 'type': 'pitch'}, {'value': 19, 'type': 'velocity'}, {'value': 41, 'type': 'pitch'}, {'value': 21, 'type': 'velocity'}, {'value': 46, 'type': 'pitch'}]\n"
     ]
    },
    {
     "name": "stderr",
     "output_type": "stream",
     "text": [
      "100%|██████████| 119/119 [00:01<00:00, 117.75it/s]\n",
      " 76%|███████▌  | 6003/7931 [12:35<09:11,  3.49it/s]"
     ]
    },
    {
     "name": "stdout",
     "output_type": "stream",
     "text": [
      "120  tokens : [{'type': 'start'}, {'value': 12, 'type': 'pitch'}, {'value': 19, 'type': 'velocity'}, {'value': 24, 'type': 'pitch'}, {'value': 21, 'type': 'velocity'}, {'value': 48, 'type': 'pitch'}, {'value': 23, 'type': 'velocity'}, {'value': 60, 'type': 'pitch'}, {'value': 23, 'type': 'velocity'}, {'type': 'next_frame'}]\n"
     ]
    },
    {
     "name": "stderr",
     "output_type": "stream",
     "text": [
      "100%|██████████| 119/119 [00:00<00:00, 120.12it/s]]\n"
     ]
    },
    {
     "name": "stdout",
     "output_type": "stream",
     "text": [
      "120  tokens : [{'type': 'start'}, {'value': 7, 'type': 'pitch'}, {'value': 23, 'type': 'velocity'}, {'value': 19, 'type': 'pitch'}, {'value': 23, 'type': 'velocity'}, {'value': 50, 'type': 'pitch'}, {'value': 22, 'type': 'velocity'}, {'value': 53, 'type': 'pitch'}, {'value': 20, 'type': 'velocity'}, {'value': 58, 'type': 'pitch'}]\n"
     ]
    },
    {
     "name": "stderr",
     "output_type": "stream",
     "text": [
      "100%|██████████| 119/119 [00:00<00:00, 123.23it/s]\n",
      " 82%|████████▏ | 6503/7931 [13:36<07:52,  3.02it/s]"
     ]
    },
    {
     "name": "stdout",
     "output_type": "stream",
     "text": [
      "120  tokens : [{'type': 'start'}, {'value': 27, 'type': 'pitch'}, {'value': 21, 'type': 'velocity'}, {'value': 39, 'type': 'pitch'}, {'value': 21, 'type': 'velocity'}, {'value': 46, 'type': 'pitch'}, {'value': 22, 'type': 'velocity'}, {'value': 51, 'type': 'pitch'}, {'value': 19, 'type': 'velocity'}, {'value': 58, 'type': 'pitch'}]\n"
     ]
    },
    {
     "name": "stderr",
     "output_type": "stream",
     "text": [
      "100%|██████████| 119/119 [00:00<00:00, 124.00it/s]]\n"
     ]
    },
    {
     "name": "stdout",
     "output_type": "stream",
     "text": [
      "120  tokens : [{'type': 'start'}, {'value': 22, 'type': 'pitch'}, {'value': 20, 'type': 'velocity'}, {'value': 33, 'type': 'pitch'}, {'value': 18, 'type': 'velocity'}, {'value': 36, 'type': 'pitch'}, {'value': 20, 'type': 'velocity'}, {'value': 39, 'type': 'pitch'}, {'value': 22, 'type': 'velocity'}, {'type': 'next_frame'}]\n"
     ]
    },
    {
     "name": "stderr",
     "output_type": "stream",
     "text": [
      "100%|██████████| 119/119 [00:00<00:00, 126.18it/s]\n",
      " 88%|████████▊ | 7003/7931 [14:39<05:57,  2.60it/s]"
     ]
    },
    {
     "name": "stdout",
     "output_type": "stream",
     "text": [
      "120  tokens : [{'type': 'start'}, {'value': 15, 'type': 'pitch'}, {'value': 18, 'type': 'velocity'}, {'value': 43, 'type': 'pitch'}, {'value': 22, 'type': 'velocity'}, {'value': 55, 'type': 'pitch'}, {'value': 23, 'type': 'velocity'}, {'type': 'next_frame'}, {'type': 'next_frame'}, {'type': 'next_frame'}]\n"
     ]
    },
    {
     "name": "stderr",
     "output_type": "stream",
     "text": [
      "100%|██████████| 119/119 [00:01<00:00, 111.25it/s]]\n"
     ]
    },
    {
     "name": "stdout",
     "output_type": "stream",
     "text": [
      "120  tokens : [{'type': 'start'}, {'value': 15, 'type': 'pitch'}, {'value': 20, 'type': 'velocity'}, {'type': 'next_frame'}, {'type': 'next_frame'}, {'type': 'next_frame'}, {'type': 'next_frame'}, {'value': 38, 'type': 'pitch'}, {'value': 19, 'type': 'velocity'}, {'value': 41, 'type': 'pitch'}]\n"
     ]
    },
    {
     "name": "stderr",
     "output_type": "stream",
     "text": [
      "100%|██████████| 119/119 [00:00<00:00, 132.87it/s]\n",
      " 95%|█████████▍| 7503/7931 [15:40<02:09,  3.30it/s]"
     ]
    },
    {
     "name": "stdout",
     "output_type": "stream",
     "text": [
      "120  tokens : [{'type': 'start'}, {'value': 27, 'type': 'pitch'}, {'value': 20, 'type': 'velocity'}, {'type': 'next_frame'}, {'type': 'next_frame'}, {'type': 'next_frame'}, {'type': 'next_frame'}, {'value': 34, 'type': 'pitch'}, {'value': 18, 'type': 'velocity'}, {'value': 39, 'type': 'pitch'}]\n"
     ]
    },
    {
     "name": "stderr",
     "output_type": "stream",
     "text": [
      "100%|██████████| 7931/7931 [16:31<00:00,  8.00it/s]\n",
      "100%|██████████| 119/119 [00:00<00:00, 135.67it/s]\n"
     ]
    },
    {
     "name": "stdout",
     "output_type": "stream",
     "text": [
      "120  tokens : [{'type': 'start'}, {'value': 10, 'type': 'pitch'}, {'value': 24, 'type': 'velocity'}, {'value': 22, 'type': 'pitch'}, {'value': 26, 'type': 'velocity'}, {'value': 37, 'type': 'pitch'}, {'value': 22, 'type': 'velocity'}, {'value': 48, 'type': 'pitch'}, {'value': 22, 'type': 'velocity'}, {'value': 52, 'type': 'pitch'}]\n"
     ]
    },
    {
     "name": "stderr",
     "output_type": "stream",
     "text": [
      "100%|██████████| 119/119 [00:00<00:00, 158.55it/s]\n",
      "  0%|          | 5/7931 [00:20<6:45:27,  3.07s/it] "
     ]
    },
    {
     "name": "stdout",
     "output_type": "stream",
     "text": [
      "120  tokens : [{'type': 'start'}, {'value': 22, 'type': 'pitch'}, {'value': 16, 'type': 'velocity'}, {'value': 46, 'type': 'pitch'}, {'value': 17, 'type': 'velocity'}, {'value': 50, 'type': 'pitch'}, {'value': 16, 'type': 'velocity'}, {'value': 53, 'type': 'pitch'}, {'value': 17, 'type': 'velocity'}, {'type': 'next_frame'}]\n"
     ]
    },
    {
     "name": "stderr",
     "output_type": "stream",
     "text": [
      "100%|██████████| 119/119 [00:00<00:00, 125.44it/s] \n"
     ]
    },
    {
     "name": "stdout",
     "output_type": "stream",
     "text": [
      "120  tokens : [{'type': 'start'}, {'value': 32, 'type': 'pitch'}, {'value': 19, 'type': 'velocity'}, {'value': 56, 'type': 'pitch'}, {'value': 21, 'type': 'velocity'}, {'value': 60, 'type': 'pitch'}, {'value': 24, 'type': 'velocity'}, {'type': 'next_frame'}, {'type': 'next_frame'}, {'type': 'next_frame'}]\n"
     ]
    },
    {
     "name": "stderr",
     "output_type": "stream",
     "text": [
      "100%|██████████| 119/119 [00:00<00:00, 128.60it/s]\n",
      "  6%|▋         | 502/7931 [01:18<42:50,  2.89it/s]"
     ]
    },
    {
     "name": "stdout",
     "output_type": "stream",
     "text": [
      "120  tokens : [{'type': 'start'}, {'value': 19, 'type': 'pitch'}, {'value': 19, 'type': 'velocity'}, {'value': 65, 'type': 'pitch'}, {'value': 22, 'type': 'velocity'}, {'type': 'next_frame'}, {'type': 'next_frame'}, {'type': 'next_frame'}, {'type': 'next_frame'}, {'value': 27, 'type': 'pitch'}]\n"
     ]
    },
    {
     "name": "stderr",
     "output_type": "stream",
     "text": [
      "100%|██████████| 119/119 [00:00<00:00, 123.36it/s]]\n"
     ]
    },
    {
     "name": "stdout",
     "output_type": "stream",
     "text": [
      "120  tokens : [{'type': 'start'}, {'value': 12, 'type': 'pitch'}, {'value': 22, 'type': 'velocity'}, {'value': 24, 'type': 'pitch'}, {'value': 21, 'type': 'velocity'}, {'value': 55, 'type': 'pitch'}, {'value': 24, 'type': 'velocity'}, {'value': 60, 'type': 'pitch'}, {'value': 24, 'type': 'velocity'}, {'type': 'next_frame'}]\n"
     ]
    },
    {
     "name": "stderr",
     "output_type": "stream",
     "text": [
      "100%|██████████| 119/119 [00:00<00:00, 129.47it/s]\n",
      " 13%|█▎        | 1003/7931 [02:19<37:22,  3.09it/s]"
     ]
    },
    {
     "name": "stdout",
     "output_type": "stream",
     "text": [
      "120  tokens : [{'type': 'start'}, {'value': 24, 'type': 'pitch'}, {'value': 20, 'type': 'velocity'}, {'value': 36, 'type': 'pitch'}, {'value': 20, 'type': 'velocity'}, {'value': 43, 'type': 'pitch'}, {'value': 20, 'type': 'velocity'}, {'value': 48, 'type': 'pitch'}, {'value': 21, 'type': 'velocity'}, {'value': 51, 'type': 'pitch'}]\n"
     ]
    },
    {
     "name": "stderr",
     "output_type": "stream",
     "text": [
      "100%|██████████| 119/119 [00:00<00:00, 121.10it/s]]\n"
     ]
    },
    {
     "name": "stdout",
     "output_type": "stream",
     "text": [
      "120  tokens : [{'type': 'start'}, {'value': 24, 'type': 'pitch'}, {'value': 19, 'type': 'velocity'}, {'value': 67, 'type': 'pitch'}, {'value': 22, 'type': 'velocity'}, {'type': 'next_frame'}, {'type': 'next_frame'}, {'value': 31, 'type': 'pitch'}, {'value': 13, 'type': 'velocity'}, {'type': 'next_frame'}]\n"
     ]
    },
    {
     "name": "stderr",
     "output_type": "stream",
     "text": [
      "100%|██████████| 119/119 [00:01<00:00, 115.91it/s]\n",
      " 19%|█▉        | 1503/7931 [03:20<29:43,  3.60it/s]"
     ]
    },
    {
     "name": "stdout",
     "output_type": "stream",
     "text": [
      "120  tokens : [{'type': 'start'}, {'value': 20, 'type': 'pitch'}, {'value': 16, 'type': 'velocity'}, {'value': 56, 'type': 'pitch'}, {'value': 22, 'type': 'velocity'}, {'value': 65, 'type': 'pitch'}, {'value': 21, 'type': 'velocity'}, {'type': 'next_frame'}, {'type': 'next_frame'}, {'type': 'next_frame'}]\n"
     ]
    },
    {
     "name": "stderr",
     "output_type": "stream",
     "text": [
      "100%|██████████| 119/119 [00:00<00:00, 124.79it/s]]\n"
     ]
    },
    {
     "name": "stdout",
     "output_type": "stream",
     "text": [
      "120  tokens : [{'type': 'start'}, {'value': 15, 'type': 'pitch'}, {'value': 19, 'type': 'velocity'}, {'value': 31, 'type': 'pitch'}, {'value': 21, 'type': 'velocity'}, {'value': 34, 'type': 'pitch'}, {'value': 20, 'type': 'velocity'}, {'value': 39, 'type': 'pitch'}, {'value': 22, 'type': 'velocity'}, {'type': 'next_frame'}]\n"
     ]
    },
    {
     "name": "stderr",
     "output_type": "stream",
     "text": [
      "100%|██████████| 119/119 [00:01<00:00, 118.63it/s]\n",
      " 25%|██▌       | 2003/7931 [04:21<30:49,  3.21it/s]"
     ]
    },
    {
     "name": "stdout",
     "output_type": "stream",
     "text": [
      "120  tokens : [{'type': 'start'}, {'value': 32, 'type': 'pitch'}, {'value': 22, 'type': 'velocity'}, {'value': 51, 'type': 'pitch'}, {'value': 20, 'type': 'velocity'}, {'value': 56, 'type': 'pitch'}, {'value': 22, 'type': 'velocity'}, {'value': 60, 'type': 'pitch'}, {'value': 22, 'type': 'velocity'}, {'type': 'next_frame'}]\n"
     ]
    },
    {
     "name": "stderr",
     "output_type": "stream",
     "text": [
      "100%|██████████| 119/119 [00:01<00:00, 113.37it/s]]\n"
     ]
    },
    {
     "name": "stdout",
     "output_type": "stream",
     "text": [
      "120  tokens : [{'type': 'start'}, {'value': 12, 'type': 'pitch'}, {'value': 23, 'type': 'velocity'}, {'value': 24, 'type': 'pitch'}, {'value': 23, 'type': 'velocity'}, {'value': 51, 'type': 'pitch'}, {'value': 24, 'type': 'velocity'}, {'value': 60, 'type': 'pitch'}, {'value': 25, 'type': 'velocity'}, {'value': 72, 'type': 'pitch'}]\n"
     ]
    },
    {
     "name": "stderr",
     "output_type": "stream",
     "text": [
      "100%|██████████| 119/119 [00:00<00:00, 139.16it/s]\n",
      " 32%|███▏      | 2502/7931 [05:23<34:43,  2.61it/s]"
     ]
    },
    {
     "name": "stdout",
     "output_type": "stream",
     "text": [
      "120  tokens : [{'type': 'start'}, {'value': 32, 'type': 'pitch'}, {'value': 16, 'type': 'velocity'}, {'value': 53, 'type': 'pitch'}, {'value': 18, 'type': 'velocity'}, {'value': 60, 'type': 'pitch'}, {'value': 18, 'type': 'velocity'}, {'type': 'next_frame'}, {'type': 'next_frame'}, {'value': 34, 'type': 'pitch'}]\n"
     ]
    },
    {
     "name": "stderr",
     "output_type": "stream",
     "text": [
      "100%|██████████| 119/119 [00:00<00:00, 125.18it/s]]\n"
     ]
    },
    {
     "name": "stdout",
     "output_type": "stream",
     "text": [
      "120  tokens : [{'type': 'start'}, {'value': 17, 'type': 'pitch'}, {'value': 19, 'type': 'velocity'}, {'value': 30, 'type': 'pitch'}, {'value': 21, 'type': 'velocity'}, {'value': 54, 'type': 'pitch'}, {'value': 22, 'type': 'velocity'}, {'value': 69, 'type': 'pitch'}, {'value': 24, 'type': 'velocity'}, {'type': 'next_frame'}]\n"
     ]
    },
    {
     "name": "stderr",
     "output_type": "stream",
     "text": [
      "100%|██████████| 119/119 [00:00<00:00, 120.80it/s]\n",
      " 38%|███▊      | 3003/7931 [06:24<24:54,  3.30it/s]"
     ]
    },
    {
     "name": "stdout",
     "output_type": "stream",
     "text": [
      "120  tokens : [{'type': 'start'}, {'value': 17, 'type': 'pitch'}, {'value': 17, 'type': 'velocity'}, {'value': 29, 'type': 'pitch'}, {'value': 18, 'type': 'velocity'}, {'value': 55, 'type': 'pitch'}, {'value': 21, 'type': 'velocity'}, {'type': 'next_frame'}, {'type': 'next_frame'}, {'type': 'next_frame'}]\n"
     ]
    },
    {
     "name": "stderr",
     "output_type": "stream",
     "text": [
      "100%|██████████| 119/119 [00:01<00:00, 116.19it/s]]\n"
     ]
    },
    {
     "name": "stdout",
     "output_type": "stream",
     "text": [
      "120  tokens : [{'type': 'start'}, {'value': 10, 'type': 'pitch'}, {'value': 19, 'type': 'velocity'}, {'value': 22, 'type': 'pitch'}, {'value': 17, 'type': 'velocity'}, {'value': 46, 'type': 'pitch'}, {'value': 22, 'type': 'velocity'}, {'value': 50, 'type': 'pitch'}, {'value': 24, 'type': 'velocity'}, {'value': 55, 'type': 'pitch'}]\n"
     ]
    },
    {
     "name": "stderr",
     "output_type": "stream",
     "text": [
      "100%|██████████| 119/119 [00:00<00:00, 136.37it/s]\n",
      " 44%|████▍     | 3504/7931 [07:25<22:06,  3.34it/s]"
     ]
    },
    {
     "name": "stdout",
     "output_type": "stream",
     "text": [
      "120  tokens : [{'type': 'start'}, {'value': 23, 'type': 'pitch'}, {'value': 24, 'type': 'velocity'}, {'value': 35, 'type': 'pitch'}, {'value': 24, 'type': 'velocity'}, {'value': 51, 'type': 'pitch'}, {'value': 24, 'type': 'velocity'}, {'value': 63, 'type': 'pitch'}, {'value': 24, 'type': 'velocity'}, {'type': 'next_frame'}]\n"
     ]
    },
    {
     "name": "stderr",
     "output_type": "stream",
     "text": [
      "100%|██████████| 119/119 [00:01<00:00, 113.63it/s]]\n"
     ]
    },
    {
     "name": "stdout",
     "output_type": "stream",
     "text": [
      "120  tokens : [{'type': 'start'}, {'value': 15, 'type': 'pitch'}, {'value': 14, 'type': 'velocity'}, {'value': 27, 'type': 'pitch'}, {'value': 21, 'type': 'velocity'}, {'type': 'next_frame'}, {'type': 'next_frame'}, {'type': 'next_frame'}, {'type': 'next_frame'}, {'value': 48, 'type': 'pitch'}]\n"
     ]
    },
    {
     "name": "stderr",
     "output_type": "stream",
     "text": [
      "100%|██████████| 119/119 [00:00<00:00, 127.46it/s]\n",
      " 50%|█████     | 4003/7931 [08:26<22:20,  2.93it/s]"
     ]
    },
    {
     "name": "stdout",
     "output_type": "stream",
     "text": [
      "120  tokens : [{'type': 'start'}, {'value': 17, 'type': 'pitch'}, {'value': 21, 'type': 'velocity'}, {'value': 29, 'type': 'pitch'}, {'value': 22, 'type': 'velocity'}, {'value': 60, 'type': 'pitch'}, {'value': 24, 'type': 'velocity'}, {'type': 'next_frame'}, {'type': 'next_frame'}, {'value': 60, 'type': 'pitch'}]\n"
     ]
    },
    {
     "name": "stderr",
     "output_type": "stream",
     "text": [
      "100%|██████████| 119/119 [00:00<00:00, 121.29it/s]]\n"
     ]
    },
    {
     "name": "stdout",
     "output_type": "stream",
     "text": [
      "120  tokens : [{'type': 'start'}, {'value': 15, 'type': 'pitch'}, {'value': 19, 'type': 'velocity'}, {'value': 22, 'type': 'pitch'}, {'value': 20, 'type': 'velocity'}, {'value': 27, 'type': 'pitch'}, {'value': 24, 'type': 'velocity'}, {'value': 51, 'type': 'pitch'}, {'value': 24, 'type': 'velocity'}, {'value': 55, 'type': 'pitch'}]\n"
     ]
    },
    {
     "name": "stderr",
     "output_type": "stream",
     "text": [
      "100%|██████████| 119/119 [00:01<00:00, 117.92it/s]\n",
      " 57%|█████▋    | 4502/7931 [09:27<27:12,  2.10it/s]"
     ]
    },
    {
     "name": "stdout",
     "output_type": "stream",
     "text": [
      "120  tokens : [{'type': 'start'}, {'value': 22, 'type': 'pitch'}, {'value': 17, 'type': 'velocity'}, {'value': 46, 'type': 'pitch'}, {'value': 20, 'type': 'velocity'}, {'type': 'next_frame'}, {'type': 'next_frame'}, {'value': 29, 'type': 'pitch'}, {'value': 17, 'type': 'velocity'}, {'type': 'next_frame'}]\n"
     ]
    },
    {
     "name": "stderr",
     "output_type": "stream",
     "text": [
      "100%|██████████| 119/119 [00:00<00:00, 124.85it/s]]\n"
     ]
    },
    {
     "name": "stdout",
     "output_type": "stream",
     "text": [
      "120  tokens : [{'type': 'start'}, {'value': 22, 'type': 'pitch'}, {'value': 18, 'type': 'velocity'}, {'value': 34, 'type': 'pitch'}, {'value': 18, 'type': 'velocity'}, {'value': 48, 'type': 'pitch'}, {'value': 21, 'type': 'velocity'}, {'value': 60, 'type': 'pitch'}, {'value': 23, 'type': 'velocity'}, {'type': 'next_frame'}]\n"
     ]
    },
    {
     "name": "stderr",
     "output_type": "stream",
     "text": [
      "100%|██████████| 119/119 [00:01<00:00, 118.63it/s]\n",
      " 63%|██████▎   | 5004/7931 [10:28<16:00,  3.05it/s]"
     ]
    },
    {
     "name": "stdout",
     "output_type": "stream",
     "text": [
      "120  tokens : [{'type': 'start'}, {'value': 8, 'type': 'pitch'}, {'value': 21, 'type': 'velocity'}, {'value': 20, 'type': 'pitch'}, {'value': 23, 'type': 'velocity'}, {'value': 44, 'type': 'pitch'}, {'value': 23, 'type': 'velocity'}, {'value': 48, 'type': 'pitch'}, {'value': 22, 'type': 'velocity'}, {'value': 56, 'type': 'pitch'}]\n"
     ]
    },
    {
     "name": "stderr",
     "output_type": "stream",
     "text": [
      "100%|██████████| 119/119 [00:01<00:00, 112.46it/s]]\n"
     ]
    },
    {
     "name": "stdout",
     "output_type": "stream",
     "text": [
      "120  tokens : [{'type': 'start'}, {'value': 12, 'type': 'pitch'}, {'value': 16, 'type': 'velocity'}, {'value': 24, 'type': 'pitch'}, {'value': 19, 'type': 'velocity'}, {'value': 43, 'type': 'pitch'}, {'value': 15, 'type': 'velocity'}, {'value': 51, 'type': 'pitch'}, {'value': 20, 'type': 'velocity'}, {'type': 'next_frame'}]\n"
     ]
    },
    {
     "name": "stderr",
     "output_type": "stream",
     "text": [
      "100%|██████████| 119/119 [00:01<00:00, 116.82it/s]\n",
      " 69%|██████▉   | 5503/7931 [11:29<11:43,  3.45it/s]"
     ]
    },
    {
     "name": "stdout",
     "output_type": "stream",
     "text": [
      "120  tokens : [{'type': 'start'}, {'value': 24, 'type': 'pitch'}, {'value': 22, 'type': 'velocity'}, {'value': 58, 'type': 'pitch'}, {'value': 24, 'type': 'velocity'}, {'value': 60, 'type': 'pitch'}, {'value': 21, 'type': 'velocity'}, {'value': 67, 'type': 'pitch'}, {'value': 22, 'type': 'velocity'}, {'value': 70, 'type': 'pitch'}]\n"
     ]
    },
    {
     "name": "stderr",
     "output_type": "stream",
     "text": [
      "100%|██████████| 119/119 [00:00<00:00, 120.67it/s]]\n"
     ]
    },
    {
     "name": "stdout",
     "output_type": "stream",
     "text": [
      "120  tokens : [{'type': 'start'}, {'value': 20, 'type': 'pitch'}, {'value': 16, 'type': 'velocity'}, {'value': 36, 'type': 'pitch'}, {'value': 20, 'type': 'velocity'}, {'type': 'next_frame'}, {'type': 'next_frame'}, {'type': 'next_frame'}, {'type': 'next_frame'}, {'value': 48, 'type': 'pitch'}]\n"
     ]
    },
    {
     "name": "stderr",
     "output_type": "stream",
     "text": [
      "100%|██████████| 119/119 [00:00<00:00, 119.64it/s]\n",
      " 76%|███████▌  | 6003/7931 [12:30<10:32,  3.05it/s]"
     ]
    },
    {
     "name": "stdout",
     "output_type": "stream",
     "text": [
      "120  tokens : [{'type': 'start'}, {'value': 43, 'type': 'pitch'}, {'value': 21, 'type': 'velocity'}, {'type': 'next_frame'}, {'type': 'next_frame'}, {'value': 32, 'type': 'pitch'}, {'value': 17, 'type': 'velocity'}, {'value': 43, 'type': 'pitch'}, {'value': 20, 'type': 'velocity'}, {'type': 'next_frame'}]\n"
     ]
    },
    {
     "name": "stderr",
     "output_type": "stream",
     "text": [
      "100%|██████████| 119/119 [00:00<00:00, 125.24it/s]]\n"
     ]
    },
    {
     "name": "stdout",
     "output_type": "stream",
     "text": [
      "120  tokens : [{'type': 'start'}, {'value': 15, 'type': 'pitch'}, {'value': 18, 'type': 'velocity'}, {'value': 27, 'type': 'pitch'}, {'value': 15, 'type': 'velocity'}, {'type': 'next_frame'}, {'value': 24, 'type': 'pitch'}, {'value': 21, 'type': 'velocity'}, {'value': 54, 'type': 'pitch'}, {'value': 23, 'type': 'velocity'}]\n"
     ]
    },
    {
     "name": "stderr",
     "output_type": "stream",
     "text": [
      "100%|██████████| 119/119 [00:01<00:00, 118.33it/s]\n",
      " 82%|████████▏ | 6503/7931 [13:32<07:11,  3.31it/s]"
     ]
    },
    {
     "name": "stdout",
     "output_type": "stream",
     "text": [
      "120  tokens : [{'type': 'start'}, {'value': 34, 'type': 'pitch'}, {'value': 18, 'type': 'velocity'}, {'value': 58, 'type': 'pitch'}, {'value': 20, 'type': 'velocity'}, {'type': 'next_frame'}, {'type': 'next_frame'}, {'type': 'next_frame'}, {'type': 'next_frame'}, {'value': 41, 'type': 'pitch'}]\n"
     ]
    },
    {
     "name": "stderr",
     "output_type": "stream",
     "text": [
      "100%|██████████| 119/119 [00:01<00:00, 112.51it/s]]\n"
     ]
    },
    {
     "name": "stdout",
     "output_type": "stream",
     "text": [
      "120  tokens : [{'type': 'start'}, {'value': 18, 'type': 'pitch'}, {'value': 21, 'type': 'velocity'}, {'value': 41, 'type': 'pitch'}, {'value': 24, 'type': 'velocity'}, {'value': 43, 'type': 'pitch'}, {'value': 23, 'type': 'velocity'}, {'value': 46, 'type': 'pitch'}, {'value': 23, 'type': 'velocity'}, {'type': 'next_frame'}]\n"
     ]
    },
    {
     "name": "stderr",
     "output_type": "stream",
     "text": [
      "100%|██████████| 119/119 [00:01<00:00, 116.36it/s]\n",
      " 88%|████████▊ | 7004/7931 [14:33<04:50,  3.19it/s]"
     ]
    },
    {
     "name": "stdout",
     "output_type": "stream",
     "text": [
      "120  tokens : [{'type': 'start'}, {'value': 27, 'type': 'pitch'}, {'value': 17, 'type': 'velocity'}, {'value': 39, 'type': 'pitch'}, {'value': 18, 'type': 'velocity'}, {'value': 53, 'type': 'pitch'}, {'value': 20, 'type': 'velocity'}, {'value': 56, 'type': 'pitch'}, {'value': 21, 'type': 'velocity'}, {'type': 'next_frame'}]\n"
     ]
    },
    {
     "name": "stderr",
     "output_type": "stream",
     "text": [
      "100%|██████████| 119/119 [00:01<00:00, 116.08it/s]]\n"
     ]
    },
    {
     "name": "stdout",
     "output_type": "stream",
     "text": [
      "120  tokens : [{'type': 'start'}, {'value': 20, 'type': 'pitch'}, {'value': 22, 'type': 'velocity'}, {'value': 63, 'type': 'pitch'}, {'value': 27, 'type': 'velocity'}, {'type': 'next_frame'}, {'type': 'next_frame'}, {'type': 'next_frame'}, {'value': 53, 'type': 'pitch'}, {'value': 24, 'type': 'velocity'}]\n"
     ]
    },
    {
     "name": "stderr",
     "output_type": "stream",
     "text": [
      "100%|██████████| 119/119 [00:01<00:00, 117.34it/s]\n",
      " 95%|█████████▍| 7503/7931 [15:34<02:26,  2.92it/s]"
     ]
    },
    {
     "name": "stdout",
     "output_type": "stream",
     "text": [
      "120  tokens : [{'type': 'start'}, {'value': 32, 'type': 'pitch'}, {'value': 23, 'type': 'velocity'}, {'value': 68, 'type': 'pitch'}, {'value': 23, 'type': 'velocity'}, {'type': 'next_frame'}, {'type': 'next_frame'}, {'type': 'next_frame'}, {'type': 'next_frame'}, {'value': 39, 'type': 'pitch'}]\n"
     ]
    },
    {
     "name": "stderr",
     "output_type": "stream",
     "text": [
      "100%|██████████| 7931/7931 [16:25<00:00,  8.05it/s]\n",
      "100%|██████████| 119/119 [00:00<00:00, 142.91it/s]\n"
     ]
    },
    {
     "name": "stdout",
     "output_type": "stream",
     "text": [
      "120  tokens : [{'type': 'start'}, {'value': 3, 'type': 'pitch'}, {'value': 17, 'type': 'velocity'}, {'value': 15, 'type': 'pitch'}, {'value': 18, 'type': 'velocity'}, {'value': 51, 'type': 'pitch'}, {'value': 24, 'type': 'velocity'}, {'value': 58, 'type': 'pitch'}, {'value': 16, 'type': 'velocity'}, {'value': 63, 'type': 'pitch'}]\n"
     ]
    },
    {
     "name": "stderr",
     "output_type": "stream",
     "text": [
      "100%|██████████| 119/119 [00:00<00:00, 155.08it/s]\n",
      "  0%|          | 3/7931 [00:22<12:47:31,  5.81s/it]"
     ]
    },
    {
     "name": "stdout",
     "output_type": "stream",
     "text": [
      "120  tokens : [{'type': 'start'}, {'value': 20, 'type': 'pitch'}, {'value': 18, 'type': 'velocity'}, {'value': 55, 'type': 'pitch'}, {'value': 22, 'type': 'velocity'}, {'type': 'next_frame'}, {'type': 'next_frame'}, {'type': 'next_frame'}, {'type': 'next_frame'}, {'type': 'next_frame'}]\n"
     ]
    },
    {
     "name": "stderr",
     "output_type": "stream",
     "text": [
      "100%|██████████| 119/119 [00:00<00:00, 122.46it/s] \n"
     ]
    },
    {
     "name": "stdout",
     "output_type": "stream",
     "text": [
      "120  tokens : [{'type': 'start'}, {'value': 7, 'type': 'pitch'}, {'value': 17, 'type': 'velocity'}, {'value': 19, 'type': 'pitch'}, {'value': 21, 'type': 'velocity'}, {'value': 55, 'type': 'pitch'}, {'value': 24, 'type': 'velocity'}, {'type': 'next_frame'}, {'type': 'next_frame'}, {'value': 50, 'type': 'pitch'}]\n"
     ]
    },
    {
     "name": "stderr",
     "output_type": "stream",
     "text": [
      "100%|██████████| 119/119 [00:00<00:00, 119.55it/s]\n",
      "  6%|▋         | 504/7931 [01:21<37:08,  3.33it/s]"
     ]
    },
    {
     "name": "stdout",
     "output_type": "stream",
     "text": [
      "120  tokens : [{'type': 'start'}, {'value': 16, 'type': 'pitch'}, {'value': 20, 'type': 'velocity'}, {'value': 28, 'type': 'pitch'}, {'value': 21, 'type': 'velocity'}, {'value': 47, 'type': 'pitch'}, {'value': 24, 'type': 'velocity'}, {'value': 59, 'type': 'pitch'}, {'value': 24, 'type': 'velocity'}, {'type': 'next_frame'}]\n"
     ]
    },
    {
     "name": "stderr",
     "output_type": "stream",
     "text": [
      "100%|██████████| 119/119 [00:01<00:00, 113.36it/s]\n"
     ]
    },
    {
     "name": "stdout",
     "output_type": "stream",
     "text": [
      "120  tokens : [{'type': 'start'}, {'value': 20, 'type': 'pitch'}, {'value': 14, 'type': 'velocity'}, {'value': 55, 'type': 'pitch'}, {'value': 18, 'type': 'velocity'}, {'value': 60, 'type': 'pitch'}, {'value': 21, 'type': 'velocity'}, {'type': 'next_frame'}, {'type': 'next_frame'}, {'type': 'next_frame'}]\n"
     ]
    },
    {
     "name": "stderr",
     "output_type": "stream",
     "text": [
      "100%|██████████| 119/119 [00:00<00:00, 131.90it/s]\n",
      " 13%|█▎        | 1003/7931 [02:21<35:24,  3.26it/s]"
     ]
    },
    {
     "name": "stdout",
     "output_type": "stream",
     "text": [
      "120  tokens : [{'type': 'start'}, {'value': 62, 'type': 'pitch'}, {'value': 20, 'type': 'velocity'}, {'value': 74, 'type': 'pitch'}, {'value': 24, 'type': 'velocity'}, {'type': 'next_frame'}, {'type': 'next_frame'}, {'type': 'next_frame'}, {'type': 'next_frame'}, {'type': 'next_frame'}]\n"
     ]
    },
    {
     "name": "stderr",
     "output_type": "stream",
     "text": [
      "100%|██████████| 119/119 [00:00<00:00, 132.27it/s]]\n"
     ]
    },
    {
     "name": "stdout",
     "output_type": "stream",
     "text": [
      "120  tokens : [{'type': 'start'}, {'type': 'next_frame'}, {'value': 12, 'type': 'pitch'}, {'value': 20, 'type': 'velocity'}, {'value': 39, 'type': 'pitch'}, {'value': 23, 'type': 'velocity'}, {'value': 51, 'type': 'pitch'}, {'value': 21, 'type': 'velocity'}, {'value': 53, 'type': 'pitch'}, {'value': 24, 'type': 'velocity'}]\n"
     ]
    },
    {
     "name": "stderr",
     "output_type": "stream",
     "text": [
      "100%|██████████| 119/119 [00:01<00:00, 117.04it/s]\n",
      " 19%|█▉        | 1503/7931 [03:22<32:39,  3.28it/s]"
     ]
    },
    {
     "name": "stdout",
     "output_type": "stream",
     "text": [
      "120  tokens : [{'type': 'start'}, {'value': 12, 'type': 'pitch'}, {'value': 21, 'type': 'velocity'}, {'value': 24, 'type': 'pitch'}, {'value': 24, 'type': 'velocity'}, {'value': 55, 'type': 'pitch'}, {'value': 24, 'type': 'velocity'}, {'value': 60, 'type': 'pitch'}, {'value': 23, 'type': 'velocity'}, {'value': 67, 'type': 'pitch'}]\n"
     ]
    },
    {
     "name": "stderr",
     "output_type": "stream",
     "text": [
      "100%|██████████| 119/119 [00:00<00:00, 120.24it/s]]\n"
     ]
    },
    {
     "name": "stdout",
     "output_type": "stream",
     "text": [
      "120  tokens : [{'type': 'start'}, {'value': 10, 'type': 'pitch'}, {'value': 22, 'type': 'velocity'}, {'value': 22, 'type': 'pitch'}, {'value': 23, 'type': 'velocity'}, {'type': 'next_frame'}, {'type': 'next_frame'}, {'type': 'next_frame'}, {'type': 'next_frame'}, {'value': 10, 'type': 'pitch'}]\n"
     ]
    },
    {
     "name": "stderr",
     "output_type": "stream",
     "text": [
      "100%|██████████| 119/119 [00:01<00:00, 110.47it/s]\n",
      " 25%|██▌       | 2003/7931 [04:23<28:38,  3.45it/s]"
     ]
    },
    {
     "name": "stdout",
     "output_type": "stream",
     "text": [
      "120  tokens : [{'type': 'start'}, {'value': 12, 'type': 'pitch'}, {'value': 17, 'type': 'velocity'}, {'value': 24, 'type': 'pitch'}, {'value': 17, 'type': 'velocity'}, {'value': 58, 'type': 'pitch'}, {'value': 20, 'type': 'velocity'}, {'type': 'next_frame'}, {'type': 'next_frame'}, {'value': 60, 'type': 'pitch'}]\n"
     ]
    },
    {
     "name": "stderr",
     "output_type": "stream",
     "text": [
      "100%|██████████| 119/119 [00:00<00:00, 125.23it/s]]\n"
     ]
    },
    {
     "name": "stdout",
     "output_type": "stream",
     "text": [
      "120  tokens : [{'type': 'start'}, {'value': 23, 'type': 'pitch'}, {'value': 20, 'type': 'velocity'}, {'value': 35, 'type': 'pitch'}, {'value': 20, 'type': 'velocity'}, {'type': 'next_frame'}, {'type': 'next_frame'}, {'value': 38, 'type': 'pitch'}, {'value': 17, 'type': 'velocity'}, {'type': 'next_frame'}]\n"
     ]
    },
    {
     "name": "stderr",
     "output_type": "stream",
     "text": [
      "100%|██████████| 119/119 [00:00<00:00, 123.16it/s]\n",
      " 32%|███▏      | 2505/7931 [05:24<24:31,  3.69it/s]"
     ]
    },
    {
     "name": "stdout",
     "output_type": "stream",
     "text": [
      "120  tokens : [{'type': 'start'}, {'value': 12, 'type': 'pitch'}, {'value': 19, 'type': 'velocity'}, {'value': 24, 'type': 'pitch'}, {'value': 23, 'type': 'velocity'}, {'value': 36, 'type': 'pitch'}, {'value': 22, 'type': 'velocity'}, {'type': 'next_frame'}, {'type': 'next_frame'}, {'type': 'next_frame'}]\n"
     ]
    },
    {
     "name": "stderr",
     "output_type": "stream",
     "text": [
      "100%|██████████| 119/119 [00:01<00:00, 108.22it/s]]\n"
     ]
    },
    {
     "name": "stdout",
     "output_type": "stream",
     "text": [
      "120  tokens : [{'type': 'start'}, {'type': 'next_frame'}, {'value': 24, 'type': 'pitch'}, {'value': 19, 'type': 'velocity'}, {'value': 44, 'type': 'pitch'}, {'value': 20, 'type': 'velocity'}, {'value': 48, 'type': 'pitch'}, {'value': 24, 'type': 'velocity'}, {'value': 56, 'type': 'pitch'}, {'value': 13, 'type': 'velocity'}]\n"
     ]
    },
    {
     "name": "stderr",
     "output_type": "stream",
     "text": [
      "100%|██████████| 119/119 [00:01<00:00, 117.86it/s]\n",
      " 38%|███▊      | 3003/7931 [06:24<26:21,  3.12it/s]"
     ]
    },
    {
     "name": "stdout",
     "output_type": "stream",
     "text": [
      "120  tokens : [{'type': 'start'}, {'value': 19, 'type': 'pitch'}, {'value': 18, 'type': 'velocity'}, {'value': 29, 'type': 'pitch'}, {'value': 18, 'type': 'velocity'}, {'value': 31, 'type': 'pitch'}, {'value': 18, 'type': 'velocity'}, {'value': 43, 'type': 'pitch'}, {'value': 20, 'type': 'velocity'}, {'type': 'next_frame'}]\n"
     ]
    },
    {
     "name": "stderr",
     "output_type": "stream",
     "text": [
      "100%|██████████| 119/119 [00:01<00:00, 113.30it/s]]\n"
     ]
    },
    {
     "name": "stdout",
     "output_type": "stream",
     "text": [
      "120  tokens : [{'type': 'start'}, {'value': 24, 'type': 'pitch'}, {'value': 23, 'type': 'velocity'}, {'value': 36, 'type': 'pitch'}, {'value': 24, 'type': 'velocity'}, {'type': 'next_frame'}, {'type': 'next_frame'}, {'type': 'next_frame'}, {'type': 'next_frame'}, {'value': 31, 'type': 'pitch'}]\n"
     ]
    },
    {
     "name": "stderr",
     "output_type": "stream",
     "text": [
      "100%|██████████| 119/119 [00:01<00:00, 118.17it/s]\n",
      " 44%|████▍     | 3503/7931 [07:25<20:51,  3.54it/s]"
     ]
    },
    {
     "name": "stdout",
     "output_type": "stream",
     "text": [
      "120  tokens : [{'type': 'start'}, {'type': 'next_frame'}, {'type': 'next_frame'}, {'type': 'next_frame'}, {'type': 'next_frame'}, {'type': 'next_frame'}, {'type': 'next_frame'}, {'type': 'next_frame'}, {'value': 7, 'type': 'pitch'}, {'value': 14, 'type': 'velocity'}]\n"
     ]
    },
    {
     "name": "stderr",
     "output_type": "stream",
     "text": [
      "100%|██████████| 119/119 [00:01<00:00, 104.00it/s]]\n"
     ]
    },
    {
     "name": "stdout",
     "output_type": "stream",
     "text": [
      "120  tokens : [{'type': 'start'}, {'value': 24, 'type': 'pitch'}, {'value': 23, 'type': 'velocity'}, {'value': 36, 'type': 'pitch'}, {'value': 24, 'type': 'velocity'}, {'value': 52, 'type': 'pitch'}, {'value': 27, 'type': 'velocity'}, {'type': 'next_frame'}, {'type': 'next_frame'}, {'type': 'next_frame'}]\n"
     ]
    },
    {
     "name": "stderr",
     "output_type": "stream",
     "text": [
      "100%|██████████| 119/119 [00:00<00:00, 120.05it/s]\n",
      " 50%|█████     | 4003/7931 [08:27<21:03,  3.11it/s]"
     ]
    },
    {
     "name": "stdout",
     "output_type": "stream",
     "text": [
      "120  tokens : [{'type': 'start'}, {'value': 15, 'type': 'pitch'}, {'value': 21, 'type': 'velocity'}, {'value': 27, 'type': 'pitch'}, {'value': 22, 'type': 'velocity'}, {'value': 51, 'type': 'pitch'}, {'value': 24, 'type': 'velocity'}, {'value': 63, 'type': 'pitch'}, {'value': 25, 'type': 'velocity'}, {'type': 'next_frame'}]\n"
     ]
    },
    {
     "name": "stderr",
     "output_type": "stream",
     "text": [
      "100%|██████████| 119/119 [00:00<00:00, 127.18it/s]]\n"
     ]
    },
    {
     "name": "stdout",
     "output_type": "stream",
     "text": [
      "120  tokens : [{'type': 'start'}, {'value': 20, 'type': 'pitch'}, {'value': 20, 'type': 'velocity'}, {'value': 32, 'type': 'pitch'}, {'value': 21, 'type': 'velocity'}, {'value': 34, 'type': 'pitch'}, {'value': 18, 'type': 'velocity'}, {'value': 48, 'type': 'pitch'}, {'value': 23, 'type': 'velocity'}, {'type': 'next_frame'}]\n"
     ]
    },
    {
     "name": "stderr",
     "output_type": "stream",
     "text": [
      "100%|██████████| 119/119 [00:01<00:00, 107.70it/s]\n",
      " 57%|█████▋    | 4503/7931 [09:27<18:02,  3.17it/s]"
     ]
    },
    {
     "name": "stdout",
     "output_type": "stream",
     "text": [
      "120  tokens : [{'type': 'start'}, {'value': 29, 'type': 'pitch'}, {'value': 19, 'type': 'velocity'}, {'value': 41, 'type': 'pitch'}, {'value': 16, 'type': 'velocity'}, {'type': 'next_frame'}, {'type': 'next_frame'}, {'type': 'next_frame'}, {'type': 'next_frame'}, {'type': 'next_frame'}]\n"
     ]
    },
    {
     "name": "stderr",
     "output_type": "stream",
     "text": [
      "100%|██████████| 119/119 [00:01<00:00, 113.85it/s]]\n"
     ]
    },
    {
     "name": "stdout",
     "output_type": "stream",
     "text": [
      "120  tokens : [{'type': 'start'}, {'value': 53, 'type': 'pitch'}, {'value': 20, 'type': 'velocity'}, {'value': 62, 'type': 'pitch'}, {'value': 20, 'type': 'velocity'}, {'value': 65, 'type': 'pitch'}, {'value': 25, 'type': 'velocity'}, {'type': 'next_frame'}, {'type': 'next_frame'}, {'value': 31, 'type': 'pitch'}]\n"
     ]
    },
    {
     "name": "stderr",
     "output_type": "stream",
     "text": [
      "100%|██████████| 119/119 [00:00<00:00, 125.23it/s]\n",
      " 63%|██████▎   | 5003/7931 [10:28<16:16,  3.00it/s]"
     ]
    },
    {
     "name": "stdout",
     "output_type": "stream",
     "text": [
      "120  tokens : [{'type': 'start'}, {'value': 19, 'type': 'pitch'}, {'value': 21, 'type': 'velocity'}, {'value': 31, 'type': 'pitch'}, {'value': 22, 'type': 'velocity'}, {'value': 47, 'type': 'pitch'}, {'value': 22, 'type': 'velocity'}, {'value': 50, 'type': 'pitch'}, {'value': 21, 'type': 'velocity'}, {'value': 55, 'type': 'pitch'}]\n"
     ]
    },
    {
     "name": "stderr",
     "output_type": "stream",
     "text": [
      "100%|██████████| 119/119 [00:01<00:00, 118.97it/s]]\n"
     ]
    },
    {
     "name": "stdout",
     "output_type": "stream",
     "text": [
      "120  tokens : [{'type': 'start'}, {'value': 22, 'type': 'pitch'}, {'value': 21, 'type': 'velocity'}, {'value': 34, 'type': 'pitch'}, {'value': 22, 'type': 'velocity'}, {'value': 53, 'type': 'pitch'}, {'value': 25, 'type': 'velocity'}, {'value': 58, 'type': 'pitch'}, {'value': 22, 'type': 'velocity'}, {'type': 'next_frame'}]\n"
     ]
    },
    {
     "name": "stderr",
     "output_type": "stream",
     "text": [
      "100%|██████████| 119/119 [00:01<00:00, 117.02it/s]\n",
      " 69%|██████▉   | 5503/7931 [11:29<10:53,  3.72it/s]"
     ]
    },
    {
     "name": "stdout",
     "output_type": "stream",
     "text": [
      "120  tokens : [{'type': 'start'}, {'type': 'next_frame'}, {'type': 'next_frame'}, {'type': 'next_frame'}, {'type': 'next_frame'}, {'type': 'next_frame'}, {'value': 22, 'type': 'pitch'}, {'value': 18, 'type': 'velocity'}, {'value': 29, 'type': 'pitch'}, {'value': 19, 'type': 'velocity'}]\n"
     ]
    },
    {
     "name": "stderr",
     "output_type": "stream",
     "text": [
      "100%|██████████| 119/119 [00:01<00:00, 115.28it/s]]\n"
     ]
    },
    {
     "name": "stdout",
     "output_type": "stream",
     "text": [
      "120  tokens : [{'type': 'start'}, {'value': 5, 'type': 'pitch'}, {'value': 19, 'type': 'velocity'}, {'value': 17, 'type': 'pitch'}, {'value': 24, 'type': 'velocity'}, {'value': 31, 'type': 'pitch'}, {'value': 23, 'type': 'velocity'}, {'value': 36, 'type': 'pitch'}, {'value': 21, 'type': 'velocity'}, {'value': 44, 'type': 'pitch'}]\n"
     ]
    },
    {
     "name": "stderr",
     "output_type": "stream",
     "text": [
      "100%|██████████| 119/119 [00:01<00:00, 116.75it/s]\n",
      " 76%|███████▌  | 6003/7931 [12:30<10:38,  3.02it/s]"
     ]
    },
    {
     "name": "stdout",
     "output_type": "stream",
     "text": [
      "120  tokens : [{'type': 'start'}, {'value': 15, 'type': 'pitch'}, {'value': 21, 'type': 'velocity'}, {'value': 27, 'type': 'pitch'}, {'value': 23, 'type': 'velocity'}, {'value': 46, 'type': 'pitch'}, {'value': 25, 'type': 'velocity'}, {'type': 'next_frame'}, {'type': 'next_frame'}, {'type': 'next_frame'}]\n"
     ]
    },
    {
     "name": "stderr",
     "output_type": "stream",
     "text": [
      "100%|██████████| 119/119 [00:01<00:00, 118.79it/s]]\n"
     ]
    },
    {
     "name": "stdout",
     "output_type": "stream",
     "text": [
      "120  tokens : [{'type': 'start'}, {'value': 17, 'type': 'pitch'}, {'value': 17, 'type': 'velocity'}, {'value': 48, 'type': 'pitch'}, {'value': 18, 'type': 'velocity'}, {'value': 53, 'type': 'pitch'}, {'value': 24, 'type': 'velocity'}, {'type': 'next_frame'}, {'type': 'next_frame'}, {'value': 24, 'type': 'pitch'}]\n"
     ]
    },
    {
     "name": "stderr",
     "output_type": "stream",
     "text": [
      "100%|██████████| 119/119 [00:01<00:00, 114.84it/s]\n",
      " 82%|████████▏ | 6504/7931 [13:31<07:20,  3.24it/s]"
     ]
    },
    {
     "name": "stdout",
     "output_type": "stream",
     "text": [
      "120  tokens : [{'type': 'start'}, {'value': 15, 'type': 'pitch'}, {'value': 20, 'type': 'velocity'}, {'value': 22, 'type': 'pitch'}, {'value': 17, 'type': 'velocity'}, {'value': 41, 'type': 'pitch'}, {'value': 22, 'type': 'velocity'}, {'value': 48, 'type': 'pitch'}, {'value': 23, 'type': 'velocity'}, {'type': 'next_frame'}]\n"
     ]
    },
    {
     "name": "stderr",
     "output_type": "stream",
     "text": [
      "100%|██████████| 119/119 [00:01<00:00, 115.73it/s]]\n"
     ]
    },
    {
     "name": "stdout",
     "output_type": "stream",
     "text": [
      "120  tokens : [{'type': 'start'}, {'type': 'next_frame'}, {'type': 'next_frame'}, {'value': 20, 'type': 'pitch'}, {'value': 20, 'type': 'velocity'}, {'value': 32, 'type': 'pitch'}, {'value': 22, 'type': 'velocity'}, {'type': 'next_frame'}, {'type': 'next_frame'}, {'value': 20, 'type': 'pitch'}]\n"
     ]
    },
    {
     "name": "stderr",
     "output_type": "stream",
     "text": [
      "100%|██████████| 119/119 [00:01<00:00, 111.73it/s]\n",
      " 88%|████████▊ | 7003/7931 [14:31<05:11,  2.98it/s]"
     ]
    },
    {
     "name": "stdout",
     "output_type": "stream",
     "text": [
      "120  tokens : [{'type': 'start'}, {'value': 22, 'type': 'pitch'}, {'value': 22, 'type': 'velocity'}, {'value': 50, 'type': 'pitch'}, {'value': 23, 'type': 'velocity'}, {'value': 53, 'type': 'pitch'}, {'value': 21, 'type': 'velocity'}, {'value': 58, 'type': 'pitch'}, {'value': 21, 'type': 'velocity'}, {'type': 'next_frame'}]\n"
     ]
    },
    {
     "name": "stderr",
     "output_type": "stream",
     "text": [
      "100%|██████████| 119/119 [00:00<00:00, 119.21it/s]]\n"
     ]
    },
    {
     "name": "stdout",
     "output_type": "stream",
     "text": [
      "120  tokens : [{'type': 'start'}, {'value': 53, 'type': 'pitch'}, {'value': 26, 'type': 'velocity'}, {'value': 65, 'type': 'pitch'}, {'value': 21, 'type': 'velocity'}, {'type': 'next_frame'}, {'type': 'next_frame'}, {'type': 'next_frame'}, {'type': 'next_frame'}, {'type': 'next_frame'}]\n"
     ]
    },
    {
     "name": "stderr",
     "output_type": "stream",
     "text": [
      "100%|██████████| 119/119 [00:00<00:00, 129.39it/s]\n",
      " 95%|█████████▍| 7503/7931 [15:32<02:11,  3.27it/s]"
     ]
    },
    {
     "name": "stdout",
     "output_type": "stream",
     "text": [
      "120  tokens : [{'type': 'start'}, {'value': 49, 'type': 'pitch'}, {'value': 12, 'type': 'velocity'}, {'value': 56, 'type': 'pitch'}, {'value': 15, 'type': 'velocity'}, {'value': 69, 'type': 'pitch'}, {'value': 18, 'type': 'velocity'}, {'type': 'next_frame'}, {'type': 'next_frame'}, {'type': 'next_frame'}]\n"
     ]
    },
    {
     "name": "stderr",
     "output_type": "stream",
     "text": [
      "100%|██████████| 7931/7931 [16:23<00:00,  8.06it/s]\n",
      "100%|██████████| 119/119 [00:00<00:00, 130.83it/s]\n"
     ]
    },
    {
     "name": "stdout",
     "output_type": "stream",
     "text": [
      "120  tokens : [{'type': 'start'}, {'value': 12, 'type': 'pitch'}, {'value': 21, 'type': 'velocity'}, {'value': 24, 'type': 'pitch'}, {'value': 23, 'type': 'velocity'}, {'value': 50, 'type': 'pitch'}, {'value': 22, 'type': 'velocity'}, {'type': 'next_frame'}, {'type': 'next_frame'}, {'type': 'next_frame'}]\n"
     ]
    },
    {
     "name": "stderr",
     "output_type": "stream",
     "text": [
      "100%|██████████| 119/119 [00:00<00:00, 143.10it/s]\n",
      "  0%|          | 3/7931 [00:21<12:29:24,  5.67s/it]"
     ]
    },
    {
     "name": "stdout",
     "output_type": "stream",
     "text": [
      "120  tokens : [{'type': 'start'}, {'value': 15, 'type': 'pitch'}, {'value': 22, 'type': 'velocity'}, {'value': 27, 'type': 'pitch'}, {'value': 24, 'type': 'velocity'}, {'value': 41, 'type': 'pitch'}, {'value': 21, 'type': 'velocity'}, {'type': 'next_frame'}, {'type': 'next_frame'}, {'type': 'next_frame'}]\n"
     ]
    },
    {
     "name": "stderr",
     "output_type": "stream",
     "text": [
      "100%|██████████| 119/119 [00:00<00:00, 124.52it/s] \n"
     ]
    },
    {
     "name": "stdout",
     "output_type": "stream",
     "text": [
      "120  tokens : [{'type': 'start'}, {'value': 12, 'type': 'pitch'}, {'value': 20, 'type': 'velocity'}, {'value': 50, 'type': 'pitch'}, {'value': 21, 'type': 'velocity'}, {'value': 65, 'type': 'pitch'}, {'value': 22, 'type': 'velocity'}, {'type': 'next_frame'}, {'type': 'next_frame'}, {'value': 24, 'type': 'pitch'}]\n"
     ]
    },
    {
     "name": "stderr",
     "output_type": "stream",
     "text": [
      "100%|██████████| 119/119 [00:01<00:00, 114.19it/s]\n",
      "  6%|▋         | 503/7931 [01:20<36:09,  3.42it/s]"
     ]
    },
    {
     "name": "stdout",
     "output_type": "stream",
     "text": [
      "120  tokens : [{'type': 'start'}, {'value': 19, 'type': 'pitch'}, {'value': 19, 'type': 'velocity'}, {'value': 31, 'type': 'pitch'}, {'value': 21, 'type': 'velocity'}, {'value': 46, 'type': 'pitch'}, {'value': 19, 'type': 'velocity'}, {'value': 50, 'type': 'pitch'}, {'value': 20, 'type': 'velocity'}, {'type': 'next_frame'}]\n"
     ]
    },
    {
     "name": "stderr",
     "output_type": "stream",
     "text": [
      "100%|██████████| 119/119 [00:01<00:00, 116.99it/s]\n"
     ]
    },
    {
     "name": "stdout",
     "output_type": "stream",
     "text": [
      "120  tokens : [{'type': 'start'}, {'value': 26, 'type': 'pitch'}, {'value': 18, 'type': 'velocity'}, {'value': 36, 'type': 'pitch'}, {'value': 21, 'type': 'velocity'}, {'value': 40, 'type': 'pitch'}, {'value': 20, 'type': 'velocity'}, {'value': 47, 'type': 'pitch'}, {'value': 14, 'type': 'velocity'}, {'value': 48, 'type': 'pitch'}]\n"
     ]
    },
    {
     "name": "stderr",
     "output_type": "stream",
     "text": [
      "100%|██████████| 119/119 [00:00<00:00, 127.06it/s]\n",
      " 13%|█▎        | 1003/7931 [02:22<35:45,  3.23it/s]"
     ]
    },
    {
     "name": "stdout",
     "output_type": "stream",
     "text": [
      "120  tokens : [{'type': 'start'}, {'value': 14, 'type': 'pitch'}, {'value': 23, 'type': 'velocity'}, {'value': 26, 'type': 'pitch'}, {'value': 24, 'type': 'velocity'}, {'value': 56, 'type': 'pitch'}, {'value': 23, 'type': 'velocity'}, {'value': 60, 'type': 'pitch'}, {'value': 17, 'type': 'velocity'}, {'value': 65, 'type': 'pitch'}]\n"
     ]
    },
    {
     "name": "stderr",
     "output_type": "stream",
     "text": [
      "100%|██████████| 119/119 [00:01<00:00, 113.32it/s]]\n"
     ]
    },
    {
     "name": "stdout",
     "output_type": "stream",
     "text": [
      "120  tokens : [{'type': 'start'}, {'value': 24, 'type': 'pitch'}, {'value': 12, 'type': 'velocity'}, {'value': 36, 'type': 'pitch'}, {'value': 11, 'type': 'velocity'}, {'value': 41, 'type': 'pitch'}, {'value': 14, 'type': 'velocity'}, {'value': 46, 'type': 'pitch'}, {'value': 15, 'type': 'velocity'}, {'value': 51, 'type': 'pitch'}]\n"
     ]
    },
    {
     "name": "stderr",
     "output_type": "stream",
     "text": [
      "100%|██████████| 119/119 [00:00<00:00, 125.12it/s]\n",
      " 19%|█▉        | 1504/7931 [03:23<33:42,  3.18it/s]"
     ]
    },
    {
     "name": "stdout",
     "output_type": "stream",
     "text": [
      "120  tokens : [{'type': 'start'}, {'value': 19, 'type': 'pitch'}, {'value': 16, 'type': 'velocity'}, {'value': 31, 'type': 'pitch'}, {'value': 15, 'type': 'velocity'}, {'value': 39, 'type': 'pitch'}, {'value': 18, 'type': 'velocity'}, {'value': 43, 'type': 'pitch'}, {'value': 19, 'type': 'velocity'}, {'type': 'next_frame'}]\n"
     ]
    },
    {
     "name": "stderr",
     "output_type": "stream",
     "text": [
      "100%|██████████| 119/119 [00:00<00:00, 122.41it/s]]\n"
     ]
    },
    {
     "name": "stdout",
     "output_type": "stream",
     "text": [
      "120  tokens : [{'type': 'start'}, {'value': 8, 'type': 'pitch'}, {'value': 22, 'type': 'velocity'}, {'value': 44, 'type': 'pitch'}, {'value': 22, 'type': 'velocity'}, {'value': 55, 'type': 'pitch'}, {'value': 23, 'type': 'velocity'}, {'type': 'next_frame'}, {'type': 'next_frame'}, {'type': 'next_frame'}]\n"
     ]
    },
    {
     "name": "stderr",
     "output_type": "stream",
     "text": [
      "100%|██████████| 119/119 [00:00<00:00, 133.69it/s]\n",
      " 25%|██▌       | 2003/7931 [04:23<29:47,  3.32it/s]"
     ]
    },
    {
     "name": "stdout",
     "output_type": "stream",
     "text": [
      "120  tokens : [{'type': 'start'}, {'value': 8, 'type': 'pitch'}, {'value': 18, 'type': 'velocity'}, {'value': 53, 'type': 'pitch'}, {'value': 21, 'type': 'velocity'}, {'type': 'next_frame'}, {'type': 'next_frame'}, {'type': 'next_frame'}, {'type': 'next_frame'}, {'value': 20, 'type': 'pitch'}]\n"
     ]
    },
    {
     "name": "stderr",
     "output_type": "stream",
     "text": [
      "100%|██████████| 119/119 [00:01<00:00, 113.21it/s]]\n"
     ]
    },
    {
     "name": "stdout",
     "output_type": "stream",
     "text": [
      "120  tokens : [{'type': 'start'}, {'value': 7, 'type': 'pitch'}, {'value': 18, 'type': 'velocity'}, {'value': 19, 'type': 'pitch'}, {'value': 14, 'type': 'velocity'}, {'value': 48, 'type': 'pitch'}, {'value': 23, 'type': 'velocity'}, {'type': 'next_frame'}, {'type': 'next_frame'}, {'type': 'next_frame'}]\n"
     ]
    },
    {
     "name": "stderr",
     "output_type": "stream",
     "text": [
      "100%|██████████| 119/119 [00:00<00:00, 132.28it/s]\n",
      " 32%|███▏      | 2504/7931 [05:26<27:53,  3.24it/s]"
     ]
    },
    {
     "name": "stdout",
     "output_type": "stream",
     "text": [
      "120  tokens : [{'type': 'start'}, {'value': 80, 'type': 'pitch'}, {'value': 28, 'type': 'velocity'}, {'type': 'next_frame'}, {'type': 'next_frame'}, {'type': 'next_frame'}, {'type': 'next_frame'}, {'type': 'next_frame'}, {'type': 'next_frame'}, {'type': 'next_frame'}]\n"
     ]
    },
    {
     "name": "stderr",
     "output_type": "stream",
     "text": [
      "100%|██████████| 119/119 [00:00<00:00, 120.74it/s]]\n"
     ]
    },
    {
     "name": "stdout",
     "output_type": "stream",
     "text": [
      "120  tokens : [{'type': 'start'}, {'value': 42, 'type': 'pitch'}, {'value': 15, 'type': 'velocity'}, {'type': 'next_frame'}, {'type': 'next_frame'}, {'type': 'next_frame'}, {'type': 'next_frame'}, {'value': 21, 'type': 'pitch'}, {'value': 12, 'type': 'velocity'}, {'type': 'next_frame'}]\n"
     ]
    },
    {
     "name": "stderr",
     "output_type": "stream",
     "text": [
      "100%|██████████| 119/119 [00:01<00:00, 115.52it/s]\n",
      " 38%|███▊      | 3005/7931 [06:27<22:05,  3.72it/s]"
     ]
    },
    {
     "name": "stdout",
     "output_type": "stream",
     "text": [
      "120  tokens : [{'type': 'start'}, {'value': 38, 'type': 'pitch'}, {'value': 17, 'type': 'velocity'}, {'value': 57, 'type': 'pitch'}, {'value': 21, 'type': 'velocity'}, {'type': 'next_frame'}, {'type': 'next_frame'}, {'type': 'next_frame'}, {'type': 'next_frame'}, {'value': 45, 'type': 'pitch'}]\n"
     ]
    },
    {
     "name": "stderr",
     "output_type": "stream",
     "text": [
      "100%|██████████| 119/119 [00:00<00:00, 127.46it/s]]\n"
     ]
    },
    {
     "name": "stdout",
     "output_type": "stream",
     "text": [
      "120  tokens : [{'type': 'start'}, {'value': 22, 'type': 'pitch'}, {'value': 14, 'type': 'velocity'}, {'value': 53, 'type': 'pitch'}, {'value': 19, 'type': 'velocity'}, {'value': 55, 'type': 'pitch'}, {'value': 17, 'type': 'velocity'}, {'type': 'next_frame'}, {'type': 'next_frame'}, {'value': 26, 'type': 'pitch'}]\n"
     ]
    },
    {
     "name": "stderr",
     "output_type": "stream",
     "text": [
      "100%|██████████| 119/119 [00:00<00:00, 120.74it/s]\n",
      " 44%|████▍     | 3503/7931 [07:27<21:21,  3.46it/s]"
     ]
    },
    {
     "name": "stdout",
     "output_type": "stream",
     "text": [
      "120  tokens : [{'type': 'start'}, {'value': 22, 'type': 'pitch'}, {'value': 23, 'type': 'velocity'}, {'value': 34, 'type': 'pitch'}, {'value': 25, 'type': 'velocity'}, {'value': 63, 'type': 'pitch'}, {'value': 26, 'type': 'velocity'}, {'value': 65, 'type': 'pitch'}, {'value': 24, 'type': 'velocity'}, {'type': 'next_frame'}]\n"
     ]
    },
    {
     "name": "stderr",
     "output_type": "stream",
     "text": [
      "100%|██████████| 119/119 [00:00<00:00, 121.04it/s]]\n"
     ]
    },
    {
     "name": "stdout",
     "output_type": "stream",
     "text": [
      "120  tokens : [{'type': 'start'}, {'value': 22, 'type': 'pitch'}, {'value': 18, 'type': 'velocity'}, {'value': 45, 'type': 'pitch'}, {'value': 21, 'type': 'velocity'}, {'value': 53, 'type': 'pitch'}, {'value': 23, 'type': 'velocity'}, {'value': 55, 'type': 'pitch'}, {'value': 22, 'type': 'velocity'}, {'type': 'next_frame'}]\n"
     ]
    },
    {
     "name": "stderr",
     "output_type": "stream",
     "text": [
      "100%|██████████| 119/119 [00:01<00:00, 115.69it/s]\n",
      " 50%|█████     | 4002/7931 [08:28<25:49,  2.54it/s]"
     ]
    },
    {
     "name": "stdout",
     "output_type": "stream",
     "text": [
      "120  tokens : [{'type': 'start'}, {'value': 20, 'type': 'pitch'}, {'value': 18, 'type': 'velocity'}, {'value': 32, 'type': 'pitch'}, {'value': 20, 'type': 'velocity'}, {'value': 39, 'type': 'pitch'}, {'value': 19, 'type': 'velocity'}, {'value': 44, 'type': 'pitch'}, {'value': 17, 'type': 'velocity'}, {'value': 48, 'type': 'pitch'}]\n"
     ]
    },
    {
     "name": "stderr",
     "output_type": "stream",
     "text": [
      "100%|██████████| 119/119 [00:00<00:00, 128.42it/s]]\n"
     ]
    },
    {
     "name": "stdout",
     "output_type": "stream",
     "text": [
      "120  tokens : [{'type': 'start'}, {'value': 7, 'type': 'pitch'}, {'value': 21, 'type': 'velocity'}, {'value': 19, 'type': 'pitch'}, {'value': 22, 'type': 'velocity'}, {'value': 48, 'type': 'pitch'}, {'value': 23, 'type': 'velocity'}, {'type': 'next_frame'}, {'type': 'next_frame'}, {'type': 'next_frame'}]\n"
     ]
    },
    {
     "name": "stderr",
     "output_type": "stream",
     "text": [
      "100%|██████████| 119/119 [00:01<00:00, 117.69it/s]\n",
      " 57%|█████▋    | 4503/7931 [09:29<17:15,  3.31it/s]"
     ]
    },
    {
     "name": "stdout",
     "output_type": "stream",
     "text": [
      "120  tokens : [{'type': 'start'}, {'value': 24, 'type': 'pitch'}, {'value': 15, 'type': 'velocity'}, {'value': 31, 'type': 'pitch'}, {'value': 10, 'type': 'velocity'}, {'value': 36, 'type': 'pitch'}, {'value': 16, 'type': 'velocity'}, {'type': 'next_frame'}, {'type': 'next_frame'}, {'type': 'next_frame'}]\n"
     ]
    },
    {
     "name": "stderr",
     "output_type": "stream",
     "text": [
      "100%|██████████| 119/119 [00:00<00:00, 119.40it/s]]\n"
     ]
    },
    {
     "name": "stdout",
     "output_type": "stream",
     "text": [
      "120  tokens : [{'type': 'start'}, {'value': 8, 'type': 'pitch'}, {'value': 17, 'type': 'velocity'}, {'value': 20, 'type': 'pitch'}, {'value': 15, 'type': 'velocity'}, {'value': 46, 'type': 'pitch'}, {'value': 21, 'type': 'velocity'}, {'value': 48, 'type': 'pitch'}, {'value': 22, 'type': 'velocity'}, {'value': 61, 'type': 'pitch'}]\n"
     ]
    },
    {
     "name": "stderr",
     "output_type": "stream",
     "text": [
      "100%|██████████| 119/119 [00:00<00:00, 120.67it/s]\n",
      " 63%|██████▎   | 5004/7931 [10:30<13:46,  3.54it/s]"
     ]
    },
    {
     "name": "stdout",
     "output_type": "stream",
     "text": [
      "120  tokens : [{'type': 'start'}, {'value': 48, 'type': 'pitch'}, {'value': 19, 'type': 'velocity'}, {'type': 'next_frame'}, {'value': 49, 'type': 'pitch'}, {'value': 12, 'type': 'velocity'}, {'type': 'next_frame'}, {'type': 'next_frame'}, {'type': 'next_frame'}, {'value': 48, 'type': 'pitch'}]\n"
     ]
    },
    {
     "name": "stderr",
     "output_type": "stream",
     "text": [
      "100%|██████████| 119/119 [00:00<00:00, 121.47it/s]]\n"
     ]
    },
    {
     "name": "stdout",
     "output_type": "stream",
     "text": [
      "120  tokens : [{'type': 'start'}, {'value': 20, 'type': 'pitch'}, {'value': 19, 'type': 'velocity'}, {'value': 48, 'type': 'pitch'}, {'value': 20, 'type': 'velocity'}, {'type': 'next_frame'}, {'type': 'next_frame'}, {'value': 44, 'type': 'pitch'}, {'value': 18, 'type': 'velocity'}, {'type': 'next_frame'}]\n"
     ]
    },
    {
     "name": "stderr",
     "output_type": "stream",
     "text": [
      "100%|██████████| 119/119 [00:00<00:00, 128.70it/s]\n",
      " 69%|██████▉   | 5504/7931 [11:31<11:08,  3.63it/s]"
     ]
    },
    {
     "name": "stdout",
     "output_type": "stream",
     "text": [
      "120  tokens : [{'type': 'start'}, {'type': 'next_frame'}, {'type': 'next_frame'}, {'value': 12, 'type': 'pitch'}, {'value': 20, 'type': 'velocity'}, {'value': 14, 'type': 'pitch'}, {'value': 19, 'type': 'velocity'}, {'value': 19, 'type': 'pitch'}, {'value': 20, 'type': 'velocity'}, {'value': 24, 'type': 'pitch'}]\n"
     ]
    },
    {
     "name": "stderr",
     "output_type": "stream",
     "text": [
      "100%|██████████| 119/119 [00:01<00:00, 118.75it/s]]\n"
     ]
    },
    {
     "name": "stdout",
     "output_type": "stream",
     "text": [
      "120  tokens : [{'type': 'start'}, {'type': 'next_frame'}, {'type': 'next_frame'}, {'value': 7, 'type': 'pitch'}, {'value': 20, 'type': 'velocity'}, {'value': 19, 'type': 'pitch'}, {'value': 18, 'type': 'velocity'}, {'value': 48, 'type': 'pitch'}, {'value': 23, 'type': 'velocity'}, {'type': 'next_frame'}]\n"
     ]
    },
    {
     "name": "stderr",
     "output_type": "stream",
     "text": [
      "100%|██████████| 119/119 [00:01<00:00, 115.24it/s]\n",
      " 76%|███████▌  | 6003/7931 [12:32<10:17,  3.12it/s]"
     ]
    },
    {
     "name": "stdout",
     "output_type": "stream",
     "text": [
      "120  tokens : [{'type': 'start'}, {'value': 12, 'type': 'pitch'}, {'value': 15, 'type': 'velocity'}, {'value': 44, 'type': 'pitch'}, {'value': 19, 'type': 'velocity'}, {'value': 51, 'type': 'pitch'}, {'value': 20, 'type': 'velocity'}, {'type': 'next_frame'}, {'type': 'next_frame'}, {'type': 'next_frame'}]\n"
     ]
    },
    {
     "name": "stderr",
     "output_type": "stream",
     "text": [
      "100%|██████████| 119/119 [00:01<00:00, 110.32it/s]]\n"
     ]
    },
    {
     "name": "stdout",
     "output_type": "stream",
     "text": [
      "120  tokens : [{'type': 'start'}, {'value': 36, 'type': 'pitch'}, {'value': 16, 'type': 'velocity'}, {'value': 65, 'type': 'pitch'}, {'value': 24, 'type': 'velocity'}, {'value': 73, 'type': 'pitch'}, {'value': 25, 'type': 'velocity'}, {'type': 'next_frame'}, {'type': 'next_frame'}, {'type': 'next_frame'}]\n"
     ]
    },
    {
     "name": "stderr",
     "output_type": "stream",
     "text": [
      "100%|██████████| 119/119 [00:01<00:00, 114.03it/s]\n",
      " 82%|████████▏ | 6503/7931 [13:33<07:49,  3.04it/s]"
     ]
    },
    {
     "name": "stdout",
     "output_type": "stream",
     "text": [
      "120  tokens : [{'type': 'start'}, {'value': 19, 'type': 'pitch'}, {'value': 24, 'type': 'velocity'}, {'value': 48, 'type': 'pitch'}, {'value': 24, 'type': 'velocity'}, {'type': 'next_frame'}, {'type': 'next_frame'}, {'type': 'next_frame'}, {'type': 'next_frame'}, {'value': 62, 'type': 'pitch'}]\n"
     ]
    },
    {
     "name": "stderr",
     "output_type": "stream",
     "text": [
      "100%|██████████| 119/119 [00:00<00:00, 119.82it/s]]\n"
     ]
    },
    {
     "name": "stdout",
     "output_type": "stream",
     "text": [
      "120  tokens : [{'type': 'start'}, {'value': 13, 'type': 'pitch'}, {'value': 14, 'type': 'velocity'}, {'value': 25, 'type': 'pitch'}, {'value': 18, 'type': 'velocity'}, {'value': 44, 'type': 'pitch'}, {'value': 18, 'type': 'velocity'}, {'value': 56, 'type': 'pitch'}, {'value': 22, 'type': 'velocity'}, {'type': 'next_frame'}]\n"
     ]
    },
    {
     "name": "stderr",
     "output_type": "stream",
     "text": [
      "100%|██████████| 119/119 [00:01<00:00, 111.05it/s]\n",
      " 88%|████████▊ | 7002/7931 [14:35<05:26,  2.84it/s]"
     ]
    },
    {
     "name": "stdout",
     "output_type": "stream",
     "text": [
      "120  tokens : [{'type': 'start'}, {'value': 7, 'type': 'pitch'}, {'value': 20, 'type': 'velocity'}, {'value': 19, 'type': 'pitch'}, {'value': 22, 'type': 'velocity'}, {'value': 55, 'type': 'pitch'}, {'value': 24, 'type': 'velocity'}, {'value': 63, 'type': 'pitch'}, {'value': 23, 'type': 'velocity'}, {'type': 'next_frame'}]\n"
     ]
    },
    {
     "name": "stderr",
     "output_type": "stream",
     "text": [
      "100%|██████████| 119/119 [00:00<00:00, 124.01it/s]]\n"
     ]
    },
    {
     "name": "stdout",
     "output_type": "stream",
     "text": [
      "120  tokens : [{'type': 'start'}, {'value': 15, 'type': 'pitch'}, {'value': 15, 'type': 'velocity'}, {'value': 39, 'type': 'pitch'}, {'value': 17, 'type': 'velocity'}, {'value': 46, 'type': 'pitch'}, {'value': 21, 'type': 'velocity'}, {'value': 60, 'type': 'pitch'}, {'value': 19, 'type': 'velocity'}, {'type': 'next_frame'}]\n"
     ]
    },
    {
     "name": "stderr",
     "output_type": "stream",
     "text": [
      "100%|██████████| 119/119 [00:01<00:00, 118.16it/s]\n",
      " 95%|█████████▍| 7503/7931 [15:35<02:08,  3.33it/s]"
     ]
    },
    {
     "name": "stdout",
     "output_type": "stream",
     "text": [
      "120  tokens : [{'type': 'start'}, {'value': 19, 'type': 'pitch'}, {'value': 18, 'type': 'velocity'}, {'value': 31, 'type': 'pitch'}, {'value': 21, 'type': 'velocity'}, {'value': 53, 'type': 'pitch'}, {'value': 22, 'type': 'velocity'}, {'value': 58, 'type': 'pitch'}, {'value': 21, 'type': 'velocity'}, {'value': 62, 'type': 'pitch'}]\n"
     ]
    },
    {
     "name": "stderr",
     "output_type": "stream",
     "text": [
      "100%|██████████| 7931/7931 [16:27<00:00,  8.03it/s]\n",
      "100%|██████████| 119/119 [00:00<00:00, 145.35it/s]\n"
     ]
    },
    {
     "name": "stdout",
     "output_type": "stream",
     "text": [
      "120  tokens : [{'type': 'start'}, {'value': 3, 'type': 'pitch'}, {'value': 20, 'type': 'velocity'}, {'value': 15, 'type': 'pitch'}, {'value': 21, 'type': 'velocity'}, {'value': 43, 'type': 'pitch'}, {'value': 23, 'type': 'velocity'}, {'value': 55, 'type': 'pitch'}, {'value': 22, 'type': 'velocity'}, {'type': 'next_frame'}]\n"
     ]
    },
    {
     "name": "stderr",
     "output_type": "stream",
     "text": [
      "100%|██████████| 119/119 [00:00<00:00, 155.78it/s]\n",
      "  0%|          | 3/7931 [00:21<12:26:22,  5.65s/it]"
     ]
    },
    {
     "name": "stdout",
     "output_type": "stream",
     "text": [
      "120  tokens : [{'type': 'start'}, {'value': 12, 'type': 'pitch'}, {'value': 22, 'type': 'velocity'}, {'value': 19, 'type': 'pitch'}, {'value': 22, 'type': 'velocity'}, {'value': 24, 'type': 'pitch'}, {'value': 24, 'type': 'velocity'}, {'value': 48, 'type': 'pitch'}, {'value': 25, 'type': 'velocity'}, {'value': 51, 'type': 'pitch'}]\n"
     ]
    },
    {
     "name": "stderr",
     "output_type": "stream",
     "text": [
      "100%|██████████| 119/119 [00:00<00:00, 123.93it/s] \n"
     ]
    },
    {
     "name": "stdout",
     "output_type": "stream",
     "text": [
      "120  tokens : [{'type': 'start'}, {'value': 20, 'type': 'pitch'}, {'value': 16, 'type': 'velocity'}, {'value': 59, 'type': 'pitch'}, {'value': 23, 'type': 'velocity'}, {'value': 71, 'type': 'pitch'}, {'value': 24, 'type': 'velocity'}, {'type': 'next_frame'}, {'type': 'next_frame'}, {'value': 24, 'type': 'pitch'}]\n"
     ]
    },
    {
     "name": "stderr",
     "output_type": "stream",
     "text": [
      "100%|██████████| 119/119 [00:01<00:00, 117.16it/s]\n",
      "  6%|▋         | 503/7931 [01:22<43:09,  2.87it/s]  "
     ]
    },
    {
     "name": "stdout",
     "output_type": "stream",
     "text": [
      "120  tokens : [{'type': 'start'}, {'value': 10, 'type': 'pitch'}, {'value': 16, 'type': 'velocity'}, {'value': 22, 'type': 'pitch'}, {'value': 16, 'type': 'velocity'}, {'value': 55, 'type': 'pitch'}, {'value': 23, 'type': 'velocity'}, {'type': 'next_frame'}, {'type': 'next_frame'}, {'type': 'next_frame'}]\n"
     ]
    },
    {
     "name": "stderr",
     "output_type": "stream",
     "text": [
      "100%|██████████| 119/119 [00:00<00:00, 122.59it/s]]\n"
     ]
    },
    {
     "name": "stdout",
     "output_type": "stream",
     "text": [
      "120  tokens : [{'type': 'start'}, {'value': 15, 'type': 'pitch'}, {'value': 19, 'type': 'velocity'}, {'value': 27, 'type': 'pitch'}, {'value': 21, 'type': 'velocity'}, {'value': 48, 'type': 'pitch'}, {'value': 20, 'type': 'velocity'}, {'value': 58, 'type': 'pitch'}, {'value': 22, 'type': 'velocity'}, {'type': 'next_frame'}]\n"
     ]
    },
    {
     "name": "stderr",
     "output_type": "stream",
     "text": [
      "100%|██████████| 119/119 [00:00<00:00, 124.49it/s]\n",
      " 13%|█▎        | 1003/7931 [02:22<37:40,  3.07it/s]"
     ]
    },
    {
     "name": "stdout",
     "output_type": "stream",
     "text": [
      "120  tokens : [{'type': 'start'}, {'value': 41, 'type': 'pitch'}, {'value': 8, 'type': 'velocity'}, {'value': 44, 'type': 'pitch'}, {'value': 8, 'type': 'velocity'}, {'type': 'next_frame'}, {'type': 'next_frame'}, {'value': 48, 'type': 'pitch'}, {'value': 12, 'type': 'velocity'}, {'value': 51, 'type': 'pitch'}]\n"
     ]
    },
    {
     "name": "stderr",
     "output_type": "stream",
     "text": [
      "100%|██████████| 119/119 [00:01<00:00, 113.47it/s]]\n"
     ]
    },
    {
     "name": "stdout",
     "output_type": "stream",
     "text": [
      "120  tokens : [{'type': 'start'}, {'value': 19, 'type': 'pitch'}, {'value': 20, 'type': 'velocity'}, {'value': 31, 'type': 'pitch'}, {'value': 22, 'type': 'velocity'}, {'value': 55, 'type': 'pitch'}, {'value': 23, 'type': 'velocity'}, {'type': 'next_frame'}, {'type': 'next_frame'}, {'value': 58, 'type': 'pitch'}]\n"
     ]
    },
    {
     "name": "stderr",
     "output_type": "stream",
     "text": [
      "100%|██████████| 119/119 [00:00<00:00, 133.95it/s]\n",
      " 19%|█▉        | 1503/7931 [03:23<31:15,  3.43it/s]"
     ]
    },
    {
     "name": "stdout",
     "output_type": "stream",
     "text": [
      "120  tokens : [{'type': 'start'}, {'value': 24, 'type': 'pitch'}, {'value': 22, 'type': 'velocity'}, {'value': 36, 'type': 'pitch'}, {'value': 23, 'type': 'velocity'}, {'type': 'next_frame'}, {'type': 'next_frame'}, {'type': 'next_frame'}, {'type': 'next_frame'}, {'value': 31, 'type': 'pitch'}]\n"
     ]
    },
    {
     "name": "stderr",
     "output_type": "stream",
     "text": [
      "100%|██████████| 119/119 [00:00<00:00, 127.73it/s]]\n"
     ]
    },
    {
     "name": "stdout",
     "output_type": "stream",
     "text": [
      "120  tokens : [{'type': 'start'}, {'value': 8, 'type': 'pitch'}, {'value': 17, 'type': 'velocity'}, {'value': 20, 'type': 'pitch'}, {'value': 21, 'type': 'velocity'}, {'value': 49, 'type': 'pitch'}, {'value': 22, 'type': 'velocity'}, {'value': 60, 'type': 'pitch'}, {'value': 25, 'type': 'velocity'}, {'type': 'next_frame'}]\n"
     ]
    },
    {
     "name": "stderr",
     "output_type": "stream",
     "text": [
      "100%|██████████| 119/119 [00:00<00:00, 121.61it/s]\n",
      " 25%|██▌       | 2004/7931 [04:23<29:06,  3.39it/s]"
     ]
    },
    {
     "name": "stdout",
     "output_type": "stream",
     "text": [
      "120  tokens : [{'type': 'start'}, {'type': 'next_frame'}, {'type': 'next_frame'}, {'value': 15, 'type': 'pitch'}, {'value': 20, 'type': 'velocity'}, {'type': 'next_frame'}, {'value': 63, 'type': 'pitch'}, {'value': 23, 'type': 'velocity'}, {'type': 'next_frame'}, {'type': 'next_frame'}]\n"
     ]
    },
    {
     "name": "stderr",
     "output_type": "stream",
     "text": [
      "100%|██████████| 119/119 [00:00<00:00, 130.81it/s]]\n"
     ]
    },
    {
     "name": "stdout",
     "output_type": "stream",
     "text": [
      "120  tokens : [{'type': 'start'}, {'value': 8, 'type': 'pitch'}, {'value': 20, 'type': 'velocity'}, {'value': 20, 'type': 'pitch'}, {'value': 20, 'type': 'velocity'}, {'value': 59, 'type': 'pitch'}, {'value': 25, 'type': 'velocity'}, {'value': 64, 'type': 'pitch'}, {'value': 24, 'type': 'velocity'}, {'value': 71, 'type': 'pitch'}]\n"
     ]
    },
    {
     "name": "stderr",
     "output_type": "stream",
     "text": [
      "100%|██████████| 119/119 [00:00<00:00, 119.10it/s]\n",
      " 32%|███▏      | 2503/7931 [05:23<26:52,  3.37it/s]"
     ]
    },
    {
     "name": "stdout",
     "output_type": "stream",
     "text": [
      "120  tokens : [{'type': 'start'}, {'value': 27, 'type': 'pitch'}, {'value': 12, 'type': 'velocity'}, {'value': 43, 'type': 'pitch'}, {'value': 11, 'type': 'velocity'}, {'type': 'next_frame'}, {'type': 'next_frame'}, {'type': 'next_frame'}, {'type': 'next_frame'}, {'type': 'next_frame'}]\n"
     ]
    },
    {
     "name": "stderr",
     "output_type": "stream",
     "text": [
      "100%|██████████| 119/119 [00:01<00:00, 117.16it/s]]\n"
     ]
    },
    {
     "name": "stdout",
     "output_type": "stream",
     "text": [
      "120  tokens : [{'type': 'start'}, {'value': 49, 'type': 'pitch'}, {'value': 23, 'type': 'velocity'}, {'value': 55, 'type': 'pitch'}, {'value': 21, 'type': 'velocity'}, {'value': 61, 'type': 'pitch'}, {'value': 24, 'type': 'velocity'}, {'type': 'next_frame'}, {'type': 'next_frame'}, {'type': 'next_frame'}]\n"
     ]
    },
    {
     "name": "stderr",
     "output_type": "stream",
     "text": [
      "100%|██████████| 119/119 [00:00<00:00, 123.55it/s]\n",
      " 38%|███▊      | 3003/7931 [06:24<27:43,  2.96it/s]"
     ]
    },
    {
     "name": "stdout",
     "output_type": "stream",
     "text": [
      "120  tokens : [{'type': 'start'}, {'value': 23, 'type': 'pitch'}, {'value': 19, 'type': 'velocity'}, {'value': 49, 'type': 'pitch'}, {'value': 20, 'type': 'velocity'}, {'value': 52, 'type': 'pitch'}, {'value': 21, 'type': 'velocity'}, {'type': 'next_frame'}, {'type': 'next_frame'}, {'value': 30, 'type': 'pitch'}]\n"
     ]
    },
    {
     "name": "stderr",
     "output_type": "stream",
     "text": [
      "100%|██████████| 119/119 [00:01<00:00, 118.67it/s]]\n"
     ]
    },
    {
     "name": "stdout",
     "output_type": "stream",
     "text": [
      "120  tokens : [{'type': 'start'}, {'value': 58, 'type': 'pitch'}, {'value': 19, 'type': 'velocity'}, {'value': 60, 'type': 'pitch'}, {'value': 22, 'type': 'velocity'}, {'type': 'next_frame'}, {'type': 'next_frame'}, {'value': 20, 'type': 'pitch'}, {'value': 18, 'type': 'velocity'}, {'value': 58, 'type': 'pitch'}]\n"
     ]
    },
    {
     "name": "stderr",
     "output_type": "stream",
     "text": [
      "100%|██████████| 119/119 [00:00<00:00, 120.55it/s]\n",
      " 44%|████▍     | 3503/7931 [07:25<23:25,  3.15it/s]"
     ]
    },
    {
     "name": "stdout",
     "output_type": "stream",
     "text": [
      "120  tokens : [{'type': 'start'}, {'value': 27, 'type': 'pitch'}, {'value': 15, 'type': 'velocity'}, {'value': 41, 'type': 'pitch'}, {'value': 15, 'type': 'velocity'}, {'value': 46, 'type': 'pitch'}, {'value': 18, 'type': 'velocity'}, {'type': 'next_frame'}, {'type': 'next_frame'}, {'value': 34, 'type': 'pitch'}]\n"
     ]
    },
    {
     "name": "stderr",
     "output_type": "stream",
     "text": [
      "100%|██████████| 119/119 [00:01<00:00, 114.78it/s]]\n"
     ]
    },
    {
     "name": "stdout",
     "output_type": "stream",
     "text": [
      "120  tokens : [{'type': 'start'}, {'value': 8, 'type': 'pitch'}, {'value': 18, 'type': 'velocity'}, {'value': 42, 'type': 'pitch'}, {'value': 14, 'type': 'velocity'}, {'type': 'next_frame'}, {'type': 'next_frame'}, {'type': 'next_frame'}, {'type': 'next_frame'}, {'value': 22, 'type': 'pitch'}]\n"
     ]
    },
    {
     "name": "stderr",
     "output_type": "stream",
     "text": [
      "100%|██████████| 119/119 [00:00<00:00, 127.05it/s]\n",
      " 50%|█████     | 4004/7931 [08:27<20:05,  3.26it/s]"
     ]
    },
    {
     "name": "stdout",
     "output_type": "stream",
     "text": [
      "120  tokens : [{'type': 'start'}, {'value': 27, 'type': 'pitch'}, {'value': 19, 'type': 'velocity'}, {'value': 34, 'type': 'pitch'}, {'value': 20, 'type': 'velocity'}, {'value': 46, 'type': 'pitch'}, {'value': 18, 'type': 'velocity'}, {'value': 50, 'type': 'pitch'}, {'value': 20, 'type': 'velocity'}, {'value': 53, 'type': 'pitch'}]\n"
     ]
    },
    {
     "name": "stderr",
     "output_type": "stream",
     "text": [
      "100%|██████████| 119/119 [00:01<00:00, 116.87it/s]]\n"
     ]
    },
    {
     "name": "stdout",
     "output_type": "stream",
     "text": [
      "120  tokens : [{'type': 'start'}, {'value': 14, 'type': 'pitch'}, {'value': 23, 'type': 'velocity'}, {'type': 'next_frame'}, {'type': 'next_frame'}, {'value': 17, 'type': 'pitch'}, {'value': 20, 'type': 'velocity'}, {'value': 48, 'type': 'pitch'}, {'value': 22, 'type': 'velocity'}, {'type': 'next_frame'}]\n"
     ]
    },
    {
     "name": "stderr",
     "output_type": "stream",
     "text": [
      "100%|██████████| 119/119 [00:00<00:00, 126.95it/s]\n",
      " 57%|█████▋    | 4504/7931 [09:28<15:07,  3.78it/s]"
     ]
    },
    {
     "name": "stdout",
     "output_type": "stream",
     "text": [
      "120  tokens : [{'type': 'start'}, {'value': 21, 'type': 'pitch'}, {'value': 21, 'type': 'velocity'}, {'value': 33, 'type': 'pitch'}, {'value': 22, 'type': 'velocity'}, {'type': 'next_frame'}, {'type': 'next_frame'}, {'type': 'next_frame'}, {'type': 'next_frame'}, {'value': 21, 'type': 'pitch'}]\n"
     ]
    },
    {
     "name": "stderr",
     "output_type": "stream",
     "text": [
      "100%|██████████| 119/119 [00:00<00:00, 123.42it/s]]\n"
     ]
    },
    {
     "name": "stdout",
     "output_type": "stream",
     "text": [
      "120  tokens : [{'type': 'start'}, {'value': 12, 'type': 'pitch'}, {'value': 20, 'type': 'velocity'}, {'type': 'next_frame'}, {'type': 'next_frame'}, {'value': 19, 'type': 'pitch'}, {'value': 19, 'type': 'velocity'}, {'type': 'next_frame'}, {'type': 'next_frame'}, {'value': 24, 'type': 'pitch'}]\n"
     ]
    },
    {
     "name": "stderr",
     "output_type": "stream",
     "text": [
      "100%|██████████| 119/119 [00:01<00:00, 113.51it/s]\n",
      " 63%|██████▎   | 5003/7931 [10:29<15:28,  3.15it/s]"
     ]
    },
    {
     "name": "stdout",
     "output_type": "stream",
     "text": [
      "120  tokens : [{'type': 'start'}, {'value': 15, 'type': 'pitch'}, {'value': 13, 'type': 'velocity'}, {'value': 39, 'type': 'pitch'}, {'value': 19, 'type': 'velocity'}, {'value': 46, 'type': 'pitch'}, {'value': 19, 'type': 'velocity'}, {'type': 'next_frame'}, {'type': 'next_frame'}, {'type': 'next_frame'}]\n"
     ]
    },
    {
     "name": "stderr",
     "output_type": "stream",
     "text": [
      "100%|██████████| 119/119 [00:00<00:00, 125.50it/s]]\n"
     ]
    },
    {
     "name": "stdout",
     "output_type": "stream",
     "text": [
      "120  tokens : [{'type': 'start'}, {'value': 17, 'type': 'pitch'}, {'value': 14, 'type': 'velocity'}, {'value': 29, 'type': 'pitch'}, {'value': 11, 'type': 'velocity'}, {'value': 57, 'type': 'pitch'}, {'value': 22, 'type': 'velocity'}, {'type': 'next_frame'}, {'type': 'next_frame'}, {'type': 'next_frame'}]\n"
     ]
    },
    {
     "name": "stderr",
     "output_type": "stream",
     "text": [
      "100%|██████████| 119/119 [00:01<00:00, 112.85it/s]\n",
      " 69%|██████▉   | 5503/7931 [11:31<12:43,  3.18it/s]"
     ]
    },
    {
     "name": "stdout",
     "output_type": "stream",
     "text": [
      "120  tokens : [{'type': 'start'}, {'value': 18, 'type': 'pitch'}, {'value': 19, 'type': 'velocity'}, {'value': 30, 'type': 'pitch'}, {'value': 22, 'type': 'velocity'}, {'value': 45, 'type': 'pitch'}, {'value': 24, 'type': 'velocity'}, {'value': 57, 'type': 'pitch'}, {'value': 20, 'type': 'velocity'}, {'type': 'next_frame'}]\n"
     ]
    },
    {
     "name": "stderr",
     "output_type": "stream",
     "text": [
      "100%|██████████| 119/119 [00:00<00:00, 123.16it/s]]\n"
     ]
    },
    {
     "name": "stdout",
     "output_type": "stream",
     "text": [
      "120  tokens : [{'type': 'start'}, {'value': 12, 'type': 'pitch'}, {'value': 22, 'type': 'velocity'}, {'value': 24, 'type': 'pitch'}, {'value': 25, 'type': 'velocity'}, {'type': 'next_frame'}, {'type': 'next_frame'}, {'type': 'next_frame'}, {'type': 'next_frame'}, {'value': 43, 'type': 'pitch'}]\n"
     ]
    },
    {
     "name": "stderr",
     "output_type": "stream",
     "text": [
      "100%|██████████| 119/119 [00:00<00:00, 121.14it/s]\n",
      " 76%|███████▌  | 6002/7931 [12:31<13:12,  2.43it/s]"
     ]
    },
    {
     "name": "stdout",
     "output_type": "stream",
     "text": [
      "120  tokens : [{'type': 'start'}, {'value': 27, 'type': 'pitch'}, {'value': 19, 'type': 'velocity'}, {'type': 'next_frame'}, {'type': 'next_frame'}, {'type': 'next_frame'}, {'value': 34, 'type': 'pitch'}, {'value': 18, 'type': 'velocity'}, {'type': 'next_frame'}, {'type': 'next_frame'}]\n"
     ]
    },
    {
     "name": "stderr",
     "output_type": "stream",
     "text": [
      "100%|██████████| 119/119 [00:01<00:00, 117.38it/s]]\n"
     ]
    },
    {
     "name": "stdout",
     "output_type": "stream",
     "text": [
      "120  tokens : [{'type': 'start'}, {'value': 19, 'type': 'pitch'}, {'value': 21, 'type': 'velocity'}, {'value': 31, 'type': 'pitch'}, {'value': 22, 'type': 'velocity'}, {'value': 48, 'type': 'pitch'}, {'value': 24, 'type': 'velocity'}, {'value': 53, 'type': 'pitch'}, {'value': 24, 'type': 'velocity'}, {'type': 'next_frame'}]\n"
     ]
    },
    {
     "name": "stderr",
     "output_type": "stream",
     "text": [
      "100%|██████████| 119/119 [00:01<00:00, 116.19it/s]\n",
      " 82%|████████▏ | 6503/7931 [13:32<07:29,  3.18it/s]"
     ]
    },
    {
     "name": "stdout",
     "output_type": "stream",
     "text": [
      "120  tokens : [{'type': 'start'}, {'value': 24, 'type': 'pitch'}, {'value': 17, 'type': 'velocity'}, {'value': 36, 'type': 'pitch'}, {'value': 18, 'type': 'velocity'}, {'value': 48, 'type': 'pitch'}, {'value': 15, 'type': 'velocity'}, {'value': 60, 'type': 'pitch'}, {'value': 18, 'type': 'velocity'}, {'type': 'next_frame'}]\n"
     ]
    },
    {
     "name": "stderr",
     "output_type": "stream",
     "text": [
      "100%|██████████| 119/119 [00:01<00:00, 115.51it/s]]\n"
     ]
    },
    {
     "name": "stdout",
     "output_type": "stream",
     "text": [
      "120  tokens : [{'type': 'start'}, {'value': 8, 'type': 'pitch'}, {'value': 17, 'type': 'velocity'}, {'value': 20, 'type': 'pitch'}, {'value': 18, 'type': 'velocity'}, {'value': 25, 'type': 'pitch'}, {'value': 15, 'type': 'velocity'}, {'value': 29, 'type': 'pitch'}, {'value': 13, 'type': 'velocity'}, {'type': 'next_frame'}]\n"
     ]
    },
    {
     "name": "stderr",
     "output_type": "stream",
     "text": [
      "100%|██████████| 119/119 [00:00<00:00, 125.89it/s]\n",
      " 88%|████████▊ | 7004/7931 [14:33<04:42,  3.28it/s]"
     ]
    },
    {
     "name": "stdout",
     "output_type": "stream",
     "text": [
      "120  tokens : [{'type': 'start'}, {'value': 6, 'type': 'pitch'}, {'value': 20, 'type': 'velocity'}, {'value': 18, 'type': 'pitch'}, {'value': 22, 'type': 'velocity'}, {'value': 54, 'type': 'pitch'}, {'value': 21, 'type': 'velocity'}, {'value': 58, 'type': 'pitch'}, {'value': 24, 'type': 'velocity'}, {'value': 64, 'type': 'pitch'}]\n"
     ]
    },
    {
     "name": "stderr",
     "output_type": "stream",
     "text": [
      "100%|██████████| 119/119 [00:00<00:00, 121.90it/s]]\n"
     ]
    },
    {
     "name": "stdout",
     "output_type": "stream",
     "text": [
      "120  tokens : [{'type': 'start'}, {'value': 20, 'type': 'pitch'}, {'value': 17, 'type': 'velocity'}, {'value': 32, 'type': 'pitch'}, {'value': 16, 'type': 'velocity'}, {'type': 'next_frame'}, {'value': 38, 'type': 'pitch'}, {'value': 19, 'type': 'velocity'}, {'type': 'next_frame'}, {'type': 'next_frame'}]\n"
     ]
    },
    {
     "name": "stderr",
     "output_type": "stream",
     "text": [
      "100%|██████████| 119/119 [00:00<00:00, 124.55it/s]\n",
      " 95%|█████████▍| 7503/7931 [15:34<02:04,  3.45it/s]"
     ]
    },
    {
     "name": "stdout",
     "output_type": "stream",
     "text": [
      "120  tokens : [{'type': 'start'}, {'value': 8, 'type': 'pitch'}, {'value': 25, 'type': 'velocity'}, {'value': 20, 'type': 'pitch'}, {'value': 24, 'type': 'velocity'}, {'value': 39, 'type': 'pitch'}, {'value': 24, 'type': 'velocity'}, {'value': 44, 'type': 'pitch'}, {'value': 21, 'type': 'velocity'}, {'value': 48, 'type': 'pitch'}]\n"
     ]
    },
    {
     "name": "stderr",
     "output_type": "stream",
     "text": [
      "100%|██████████| 7931/7931 [16:24<00:00,  8.06it/s]\n",
      "100%|██████████| 119/119 [00:00<00:00, 138.76it/s]\n"
     ]
    },
    {
     "name": "stdout",
     "output_type": "stream",
     "text": [
      "120  tokens : [{'type': 'start'}, {'value': 15, 'type': 'pitch'}, {'value': 19, 'type': 'velocity'}, {'type': 'next_frame'}, {'value': 43, 'type': 'pitch'}, {'value': 23, 'type': 'velocity'}, {'type': 'next_frame'}, {'type': 'next_frame'}, {'value': 20, 'type': 'pitch'}, {'value': 18, 'type': 'velocity'}]\n"
     ]
    },
    {
     "name": "stderr",
     "output_type": "stream",
     "text": [
      "100%|██████████| 119/119 [00:00<00:00, 154.13it/s]\n",
      "  0%|          | 3/7931 [00:21<12:11:37,  5.54s/it]"
     ]
    },
    {
     "name": "stdout",
     "output_type": "stream",
     "text": [
      "120  tokens : [{'type': 'start'}, {'value': 0, 'type': 'pitch'}, {'value': 26, 'type': 'velocity'}, {'value': 12, 'type': 'pitch'}, {'value': 26, 'type': 'velocity'}, {'value': 43, 'type': 'pitch'}, {'value': 23, 'type': 'velocity'}, {'value': 46, 'type': 'pitch'}, {'value': 25, 'type': 'velocity'}, {'value': 53, 'type': 'pitch'}]\n"
     ]
    },
    {
     "name": "stderr",
     "output_type": "stream",
     "text": [
      "100%|██████████| 119/119 [00:00<00:00, 125.64it/s] \n"
     ]
    },
    {
     "name": "stdout",
     "output_type": "stream",
     "text": [
      "120  tokens : [{'type': 'start'}, {'value': 24, 'type': 'pitch'}, {'value': 22, 'type': 'velocity'}, {'value': 51, 'type': 'pitch'}, {'value': 22, 'type': 'velocity'}, {'value': 63, 'type': 'pitch'}, {'value': 21, 'type': 'velocity'}, {'type': 'next_frame'}, {'type': 'next_frame'}, {'type': 'next_frame'}]\n"
     ]
    },
    {
     "name": "stderr",
     "output_type": "stream",
     "text": [
      "100%|██████████| 119/119 [00:00<00:00, 128.01it/s]\n",
      "  6%|▋         | 502/7931 [01:20<46:27,  2.66it/s]"
     ]
    },
    {
     "name": "stdout",
     "output_type": "stream",
     "text": [
      "120  tokens : [{'type': 'start'}, {'value': 24, 'type': 'pitch'}, {'value': 21, 'type': 'velocity'}, {'value': 43, 'type': 'pitch'}, {'value': 22, 'type': 'velocity'}, {'value': 48, 'type': 'pitch'}, {'value': 21, 'type': 'velocity'}, {'type': 'next_frame'}, {'type': 'next_frame'}, {'type': 'next_frame'}]\n"
     ]
    },
    {
     "name": "stderr",
     "output_type": "stream",
     "text": [
      "100%|██████████| 119/119 [00:01<00:00, 114.24it/s]]\n"
     ]
    },
    {
     "name": "stdout",
     "output_type": "stream",
     "text": [
      "120  tokens : [{'type': 'start'}, {'value': 17, 'type': 'pitch'}, {'value': 15, 'type': 'velocity'}, {'value': 35, 'type': 'pitch'}, {'value': 17, 'type': 'velocity'}, {'value': 39, 'type': 'pitch'}, {'value': 16, 'type': 'velocity'}, {'value': 46, 'type': 'pitch'}, {'value': 19, 'type': 'velocity'}, {'type': 'next_frame'}]\n"
     ]
    },
    {
     "name": "stderr",
     "output_type": "stream",
     "text": [
      "100%|██████████| 119/119 [00:00<00:00, 130.25it/s]\n",
      " 13%|█▎        | 1002/7931 [02:22<48:02,  2.40it/s]"
     ]
    },
    {
     "name": "stdout",
     "output_type": "stream",
     "text": [
      "120  tokens : [{'type': 'start'}, {'value': 15, 'type': 'pitch'}, {'value': 24, 'type': 'velocity'}, {'value': 27, 'type': 'pitch'}, {'value': 26, 'type': 'velocity'}, {'value': 39, 'type': 'pitch'}, {'value': 23, 'type': 'velocity'}, {'value': 63, 'type': 'pitch'}, {'value': 25, 'type': 'velocity'}, {'value': 70, 'type': 'pitch'}]\n"
     ]
    },
    {
     "name": "stderr",
     "output_type": "stream",
     "text": [
      "100%|██████████| 119/119 [00:01<00:00, 112.83it/s]]\n"
     ]
    },
    {
     "name": "stdout",
     "output_type": "stream",
     "text": [
      "120  tokens : [{'type': 'start'}, {'value': 31, 'type': 'pitch'}, {'value': 20, 'type': 'velocity'}, {'value': 43, 'type': 'pitch'}, {'value': 21, 'type': 'velocity'}, {'value': 48, 'type': 'pitch'}, {'value': 22, 'type': 'velocity'}, {'value': 54, 'type': 'pitch'}, {'value': 18, 'type': 'velocity'}, {'type': 'next_frame'}]\n"
     ]
    },
    {
     "name": "stderr",
     "output_type": "stream",
     "text": [
      "100%|██████████| 119/119 [00:00<00:00, 119.64it/s]\n",
      " 19%|█▉        | 1503/7931 [03:23<34:22,  3.12it/s]"
     ]
    },
    {
     "name": "stdout",
     "output_type": "stream",
     "text": [
      "120  tokens : [{'type': 'start'}, {'value': 21, 'type': 'pitch'}, {'value': 10, 'type': 'velocity'}, {'value': 36, 'type': 'pitch'}, {'value': 15, 'type': 'velocity'}, {'type': 'next_frame'}, {'value': 40, 'type': 'pitch'}, {'value': 14, 'type': 'velocity'}, {'type': 'next_frame'}, {'value': 33, 'type': 'pitch'}]\n"
     ]
    },
    {
     "name": "stderr",
     "output_type": "stream",
     "text": [
      "100%|██████████| 119/119 [00:00<00:00, 120.13it/s]]\n"
     ]
    },
    {
     "name": "stdout",
     "output_type": "stream",
     "text": [
      "120  tokens : [{'type': 'start'}, {'value': 12, 'type': 'pitch'}, {'value': 22, 'type': 'velocity'}, {'value': 42, 'type': 'pitch'}, {'value': 23, 'type': 'velocity'}, {'value': 44, 'type': 'pitch'}, {'value': 23, 'type': 'velocity'}, {'value': 48, 'type': 'pitch'}, {'value': 24, 'type': 'velocity'}, {'value': 54, 'type': 'pitch'}]\n"
     ]
    },
    {
     "name": "stderr",
     "output_type": "stream",
     "text": [
      "100%|██████████| 119/119 [00:00<00:00, 120.07it/s]\n",
      " 25%|██▌       | 2004/7931 [04:23<29:50,  3.31it/s]"
     ]
    },
    {
     "name": "stdout",
     "output_type": "stream",
     "text": [
      "120  tokens : [{'type': 'start'}, {'value': 60, 'type': 'pitch'}, {'value': 17, 'type': 'velocity'}, {'type': 'next_frame'}, {'value': 55, 'type': 'pitch'}, {'value': 8, 'type': 'velocity'}, {'type': 'next_frame'}, {'type': 'next_frame'}, {'type': 'next_frame'}, {'type': 'next_frame'}]\n"
     ]
    },
    {
     "name": "stderr",
     "output_type": "stream",
     "text": [
      "100%|██████████| 119/119 [00:00<00:00, 120.43it/s]]\n"
     ]
    },
    {
     "name": "stdout",
     "output_type": "stream",
     "text": [
      "120  tokens : [{'type': 'start'}, {'value': 24, 'type': 'pitch'}, {'value': 17, 'type': 'velocity'}, {'value': 45, 'type': 'pitch'}, {'value': 17, 'type': 'velocity'}, {'value': 49, 'type': 'pitch'}, {'value': 18, 'type': 'velocity'}, {'value': 58, 'type': 'pitch'}, {'value': 20, 'type': 'velocity'}, {'value': 66, 'type': 'pitch'}]\n"
     ]
    },
    {
     "name": "stderr",
     "output_type": "stream",
     "text": [
      "100%|██████████| 119/119 [00:00<00:00, 123.69it/s]\n",
      " 32%|███▏      | 2502/7931 [05:23<35:00,  2.58it/s]"
     ]
    },
    {
     "name": "stdout",
     "output_type": "stream",
     "text": [
      "120  tokens : [{'type': 'start'}, {'value': 8, 'type': 'pitch'}, {'value': 19, 'type': 'velocity'}, {'value': 20, 'type': 'pitch'}, {'value': 19, 'type': 'velocity'}, {'value': 32, 'type': 'pitch'}, {'value': 17, 'type': 'velocity'}, {'type': 'next_frame'}, {'type': 'next_frame'}, {'type': 'next_frame'}]\n"
     ]
    },
    {
     "name": "stderr",
     "output_type": "stream",
     "text": [
      "100%|██████████| 119/119 [00:00<00:00, 125.84it/s]]\n"
     ]
    },
    {
     "name": "stdout",
     "output_type": "stream",
     "text": [
      "120  tokens : [{'type': 'start'}, {'value': 36, 'type': 'pitch'}, {'value': 22, 'type': 'velocity'}, {'type': 'next_frame'}, {'type': 'next_frame'}, {'type': 'next_frame'}, {'type': 'next_frame'}, {'value': 31, 'type': 'pitch'}, {'value': 11, 'type': 'velocity'}, {'type': 'next_frame'}]\n"
     ]
    },
    {
     "name": "stderr",
     "output_type": "stream",
     "text": [
      "100%|██████████| 119/119 [00:01<00:00, 115.13it/s]\n",
      " 38%|███▊      | 3004/7931 [06:23<23:51,  3.44it/s]"
     ]
    },
    {
     "name": "stdout",
     "output_type": "stream",
     "text": [
      "120  tokens : [{'type': 'start'}, {'type': 'next_frame'}, {'type': 'next_frame'}, {'type': 'next_frame'}, {'type': 'next_frame'}, {'type': 'next_frame'}, {'type': 'next_frame'}, {'value': 60, 'type': 'pitch'}, {'value': 25, 'type': 'velocity'}, {'type': 'next_frame'}]\n"
     ]
    },
    {
     "name": "stderr",
     "output_type": "stream",
     "text": [
      "100%|██████████| 119/119 [00:00<00:00, 125.44it/s]]\n"
     ]
    },
    {
     "name": "stdout",
     "output_type": "stream",
     "text": [
      "120  tokens : [{'type': 'start'}, {'value': 14, 'type': 'pitch'}, {'value': 21, 'type': 'velocity'}, {'value': 62, 'type': 'pitch'}, {'value': 25, 'type': 'velocity'}, {'type': 'next_frame'}, {'type': 'next_frame'}, {'type': 'next_frame'}, {'type': 'next_frame'}, {'value': 17, 'type': 'pitch'}]\n"
     ]
    },
    {
     "name": "stderr",
     "output_type": "stream",
     "text": [
      "100%|██████████| 119/119 [00:01<00:00, 118.87it/s]\n",
      " 44%|████▍     | 3503/7931 [07:23<21:35,  3.42it/s]"
     ]
    },
    {
     "name": "stdout",
     "output_type": "stream",
     "text": [
      "120  tokens : [{'type': 'start'}, {'value': 8, 'type': 'pitch'}, {'value': 21, 'type': 'velocity'}, {'value': 20, 'type': 'pitch'}, {'value': 23, 'type': 'velocity'}, {'type': 'next_frame'}, {'type': 'next_frame'}, {'type': 'next_frame'}, {'type': 'next_frame'}, {'value': 51, 'type': 'pitch'}]\n"
     ]
    },
    {
     "name": "stderr",
     "output_type": "stream",
     "text": [
      "100%|██████████| 119/119 [00:00<00:00, 125.97it/s]]\n"
     ]
    },
    {
     "name": "stdout",
     "output_type": "stream",
     "text": [
      "120  tokens : [{'type': 'start'}, {'value': 8, 'type': 'pitch'}, {'value': 16, 'type': 'velocity'}, {'value': 51, 'type': 'pitch'}, {'value': 21, 'type': 'velocity'}, {'type': 'next_frame'}, {'type': 'next_frame'}, {'type': 'next_frame'}, {'type': 'next_frame'}, {'type': 'next_frame'}]\n"
     ]
    },
    {
     "name": "stderr",
     "output_type": "stream",
     "text": [
      "100%|██████████| 119/119 [00:00<00:00, 124.59it/s]\n",
      " 50%|█████     | 4003/7931 [08:25<21:20,  3.07it/s]"
     ]
    },
    {
     "name": "stdout",
     "output_type": "stream",
     "text": [
      "120  tokens : [{'type': 'start'}, {'value': 7, 'type': 'pitch'}, {'value': 21, 'type': 'velocity'}, {'value': 19, 'type': 'pitch'}, {'value': 21, 'type': 'velocity'}, {'value': 50, 'type': 'pitch'}, {'value': 21, 'type': 'velocity'}, {'value': 53, 'type': 'pitch'}, {'value': 19, 'type': 'velocity'}, {'value': 60, 'type': 'pitch'}]\n"
     ]
    },
    {
     "name": "stderr",
     "output_type": "stream",
     "text": [
      "100%|██████████| 119/119 [00:00<00:00, 124.07it/s]]\n"
     ]
    },
    {
     "name": "stdout",
     "output_type": "stream",
     "text": [
      "120  tokens : [{'type': 'start'}, {'value': 13, 'type': 'pitch'}, {'value': 24, 'type': 'velocity'}, {'value': 62, 'type': 'pitch'}, {'value': 26, 'type': 'velocity'}, {'value': 70, 'type': 'pitch'}, {'value': 25, 'type': 'velocity'}, {'type': 'next_frame'}, {'type': 'next_frame'}, {'type': 'next_frame'}]\n"
     ]
    },
    {
     "name": "stderr",
     "output_type": "stream",
     "text": [
      "100%|██████████| 119/119 [00:01<00:00, 113.97it/s]\n",
      " 57%|█████▋    | 4502/7931 [09:26<19:30,  2.93it/s]"
     ]
    },
    {
     "name": "stdout",
     "output_type": "stream",
     "text": [
      "120  tokens : [{'type': 'start'}, {'value': 19, 'type': 'pitch'}, {'value': 21, 'type': 'velocity'}, {'value': 31, 'type': 'pitch'}, {'value': 21, 'type': 'velocity'}, {'type': 'next_frame'}, {'type': 'next_frame'}, {'type': 'next_frame'}, {'type': 'next_frame'}, {'value': 19, 'type': 'pitch'}]\n"
     ]
    },
    {
     "name": "stderr",
     "output_type": "stream",
     "text": [
      "100%|██████████| 119/119 [00:00<00:00, 122.03it/s]]\n"
     ]
    },
    {
     "name": "stdout",
     "output_type": "stream",
     "text": [
      "120  tokens : [{'type': 'start'}, {'value': 27, 'type': 'pitch'}, {'value': 17, 'type': 'velocity'}, {'type': 'next_frame'}, {'type': 'next_frame'}, {'value': 59, 'type': 'pitch'}, {'value': 22, 'type': 'velocity'}, {'value': 71, 'type': 'pitch'}, {'value': 24, 'type': 'velocity'}, {'type': 'next_frame'}]\n"
     ]
    },
    {
     "name": "stderr",
     "output_type": "stream",
     "text": [
      "100%|██████████| 119/119 [00:00<00:00, 121.29it/s]\n",
      " 63%|██████▎   | 5003/7931 [10:27<14:28,  3.37it/s]"
     ]
    },
    {
     "name": "stdout",
     "output_type": "stream",
     "text": [
      "120  tokens : [{'type': 'start'}, {'value': 12, 'type': 'pitch'}, {'value': 22, 'type': 'velocity'}, {'value': 24, 'type': 'pitch'}, {'value': 23, 'type': 'velocity'}, {'value': 51, 'type': 'pitch'}, {'value': 24, 'type': 'velocity'}, {'type': 'next_frame'}, {'type': 'next_frame'}, {'value': 43, 'type': 'pitch'}]\n"
     ]
    },
    {
     "name": "stderr",
     "output_type": "stream",
     "text": [
      "100%|██████████| 119/119 [00:00<00:00, 122.28it/s]]\n"
     ]
    },
    {
     "name": "stdout",
     "output_type": "stream",
     "text": [
      "120  tokens : [{'type': 'start'}, {'value': 20, 'type': 'pitch'}, {'value': 14, 'type': 'velocity'}, {'value': 32, 'type': 'pitch'}, {'value': 14, 'type': 'velocity'}, {'value': 39, 'type': 'pitch'}, {'value': 17, 'type': 'velocity'}, {'value': 41, 'type': 'pitch'}, {'value': 12, 'type': 'velocity'}, {'type': 'next_frame'}]\n"
     ]
    },
    {
     "name": "stderr",
     "output_type": "stream",
     "text": [
      "100%|██████████| 119/119 [00:00<00:00, 124.14it/s]\n",
      " 69%|██████▉   | 5503/7931 [11:28<11:59,  3.37it/s]"
     ]
    },
    {
     "name": "stdout",
     "output_type": "stream",
     "text": [
      "120  tokens : [{'type': 'start'}, {'value': 24, 'type': 'pitch'}, {'value': 23, 'type': 'velocity'}, {'value': 36, 'type': 'pitch'}, {'value': 25, 'type': 'velocity'}, {'value': 51, 'type': 'pitch'}, {'value': 25, 'type': 'velocity'}, {'value': 55, 'type': 'pitch'}, {'value': 23, 'type': 'velocity'}, {'value': 60, 'type': 'pitch'}]\n"
     ]
    },
    {
     "name": "stderr",
     "output_type": "stream",
     "text": [
      "100%|██████████| 119/119 [00:00<00:00, 121.41it/s]]\n"
     ]
    },
    {
     "name": "stdout",
     "output_type": "stream",
     "text": [
      "120  tokens : [{'type': 'start'}, {'value': 24, 'type': 'pitch'}, {'value': 23, 'type': 'velocity'}, {'type': 'next_frame'}, {'type': 'next_frame'}, {'type': 'next_frame'}, {'value': 27, 'type': 'pitch'}, {'value': 21, 'type': 'velocity'}, {'value': 51, 'type': 'pitch'}, {'value': 20, 'type': 'velocity'}]\n"
     ]
    },
    {
     "name": "stderr",
     "output_type": "stream",
     "text": [
      "100%|██████████| 119/119 [00:00<00:00, 119.52it/s]\n",
      " 76%|███████▌  | 6003/7931 [12:28<09:54,  3.24it/s]"
     ]
    },
    {
     "name": "stdout",
     "output_type": "stream",
     "text": [
      "120  tokens : [{'type': 'start'}, {'value': 8, 'type': 'pitch'}, {'value': 19, 'type': 'velocity'}, {'value': 20, 'type': 'pitch'}, {'value': 21, 'type': 'velocity'}, {'value': 51, 'type': 'pitch'}, {'value': 20, 'type': 'velocity'}, {'value': 56, 'type': 'pitch'}, {'value': 23, 'type': 'velocity'}, {'value': 60, 'type': 'pitch'}]\n"
     ]
    },
    {
     "name": "stderr",
     "output_type": "stream",
     "text": [
      "100%|██████████| 119/119 [00:01<00:00, 116.76it/s]]\n"
     ]
    },
    {
     "name": "stdout",
     "output_type": "stream",
     "text": [
      "120  tokens : [{'type': 'start'}, {'value': 7, 'type': 'pitch'}, {'value': 20, 'type': 'velocity'}, {'value': 19, 'type': 'pitch'}, {'value': 22, 'type': 'velocity'}, {'value': 55, 'type': 'pitch'}, {'value': 23, 'type': 'velocity'}, {'value': 65, 'type': 'pitch'}, {'value': 24, 'type': 'velocity'}, {'type': 'next_frame'}]\n"
     ]
    },
    {
     "name": "stderr",
     "output_type": "stream",
     "text": [
      "100%|██████████| 119/119 [00:01<00:00, 113.59it/s]\n",
      " 82%|████████▏ | 6503/7931 [13:29<07:52,  3.02it/s]"
     ]
    },
    {
     "name": "stdout",
     "output_type": "stream",
     "text": [
      "120  tokens : [{'type': 'start'}, {'value': 8, 'type': 'pitch'}, {'value': 23, 'type': 'velocity'}, {'value': 20, 'type': 'pitch'}, {'value': 22, 'type': 'velocity'}, {'value': 63, 'type': 'pitch'}, {'value': 24, 'type': 'velocity'}, {'type': 'next_frame'}, {'type': 'next_frame'}, {'type': 'next_frame'}]\n"
     ]
    },
    {
     "name": "stderr",
     "output_type": "stream",
     "text": [
      "100%|██████████| 119/119 [00:01<00:00, 117.23it/s]]\n"
     ]
    },
    {
     "name": "stdout",
     "output_type": "stream",
     "text": [
      "120  tokens : [{'type': 'start'}, {'value': 12, 'type': 'pitch'}, {'value': 20, 'type': 'velocity'}, {'value': 24, 'type': 'pitch'}, {'value': 21, 'type': 'velocity'}, {'type': 'next_frame'}, {'type': 'next_frame'}, {'type': 'next_frame'}, {'type': 'next_frame'}, {'value': 27, 'type': 'pitch'}]\n"
     ]
    },
    {
     "name": "stderr",
     "output_type": "stream",
     "text": [
      "100%|██████████| 119/119 [00:00<00:00, 135.05it/s]\n",
      " 88%|████████▊ | 7003/7931 [14:30<05:06,  3.02it/s]"
     ]
    },
    {
     "name": "stdout",
     "output_type": "stream",
     "text": [
      "120  tokens : [{'type': 'start'}, {'value': 34, 'type': 'pitch'}, {'value': 18, 'type': 'velocity'}, {'value': 39, 'type': 'pitch'}, {'value': 18, 'type': 'velocity'}, {'value': 46, 'type': 'pitch'}, {'value': 19, 'type': 'velocity'}, {'value': 53, 'type': 'pitch'}, {'value': 21, 'type': 'velocity'}, {'value': 65, 'type': 'pitch'}]\n"
     ]
    },
    {
     "name": "stderr",
     "output_type": "stream",
     "text": [
      "100%|██████████| 119/119 [00:00<00:00, 131.47it/s]]\n"
     ]
    },
    {
     "name": "stdout",
     "output_type": "stream",
     "text": [
      "120  tokens : [{'type': 'start'}, {'value': 12, 'type': 'pitch'}, {'value': 26, 'type': 'velocity'}, {'value': 55, 'type': 'pitch'}, {'value': 25, 'type': 'velocity'}, {'type': 'next_frame'}, {'type': 'next_frame'}, {'type': 'next_frame'}, {'type': 'next_frame'}, {'value': 24, 'type': 'pitch'}]\n"
     ]
    },
    {
     "name": "stderr",
     "output_type": "stream",
     "text": [
      "100%|██████████| 119/119 [00:01<00:00, 118.04it/s]\n",
      " 95%|█████████▍| 7504/7931 [15:30<01:44,  4.10it/s]"
     ]
    },
    {
     "name": "stdout",
     "output_type": "stream",
     "text": [
      "120  tokens : [{'type': 'start'}, {'value': 20, 'type': 'pitch'}, {'value': 15, 'type': 'velocity'}, {'value': 27, 'type': 'pitch'}, {'value': 11, 'type': 'velocity'}, {'type': 'next_frame'}, {'type': 'next_frame'}, {'type': 'next_frame'}, {'type': 'next_frame'}, {'type': 'next_frame'}]\n"
     ]
    },
    {
     "name": "stderr",
     "output_type": "stream",
     "text": [
      "100%|██████████| 7931/7931 [16:21<00:00,  8.08it/s]\n",
      "100%|██████████| 119/119 [00:00<00:00, 143.08it/s]\n"
     ]
    },
    {
     "name": "stdout",
     "output_type": "stream",
     "text": [
      "120  tokens : [{'type': 'start'}, {'value': 15, 'type': 'pitch'}, {'value': 18, 'type': 'velocity'}, {'value': 27, 'type': 'pitch'}, {'value': 17, 'type': 'velocity'}, {'value': 58, 'type': 'pitch'}, {'value': 19, 'type': 'velocity'}, {'value': 60, 'type': 'pitch'}, {'value': 22, 'type': 'velocity'}, {'type': 'next_frame'}]\n"
     ]
    },
    {
     "name": "stderr",
     "output_type": "stream",
     "text": [
      "100%|██████████| 119/119 [00:00<00:00, 134.94it/s]\n",
      "  0%|          | 3/7931 [00:20<11:51:21,  5.38s/it]"
     ]
    },
    {
     "name": "stdout",
     "output_type": "stream",
     "text": [
      "120  tokens : [{'type': 'start'}, {'value': 15, 'type': 'pitch'}, {'value': 18, 'type': 'velocity'}, {'value': 27, 'type': 'pitch'}, {'value': 20, 'type': 'velocity'}, {'value': 39, 'type': 'pitch'}, {'value': 17, 'type': 'velocity'}, {'type': 'next_frame'}, {'type': 'next_frame'}, {'type': 'next_frame'}]\n"
     ]
    },
    {
     "name": "stderr",
     "output_type": "stream",
     "text": [
      "100%|██████████| 119/119 [00:01<00:00, 116.76it/s] \n"
     ]
    },
    {
     "name": "stdout",
     "output_type": "stream",
     "text": [
      "120  tokens : [{'type': 'start'}, {'value': 24, 'type': 'pitch'}, {'value': 20, 'type': 'velocity'}, {'value': 50, 'type': 'pitch'}, {'value': 18, 'type': 'velocity'}, {'value': 51, 'type': 'pitch'}, {'value': 21, 'type': 'velocity'}, {'value': 55, 'type': 'pitch'}, {'value': 22, 'type': 'velocity'}, {'type': 'next_frame'}]\n"
     ]
    },
    {
     "name": "stderr",
     "output_type": "stream",
     "text": [
      "100%|██████████| 119/119 [00:01<00:00, 116.32it/s]\n",
      "  6%|▋         | 503/7931 [01:19<37:05,  3.34it/s]"
     ]
    },
    {
     "name": "stdout",
     "output_type": "stream",
     "text": [
      "120  tokens : [{'type': 'start'}, {'value': 7, 'type': 'pitch'}, {'value': 21, 'type': 'velocity'}, {'value': 19, 'type': 'pitch'}, {'value': 22, 'type': 'velocity'}, {'value': 50, 'type': 'pitch'}, {'value': 23, 'type': 'velocity'}, {'type': 'next_frame'}, {'type': 'next_frame'}, {'type': 'next_frame'}]\n"
     ]
    },
    {
     "name": "stderr",
     "output_type": "stream",
     "text": [
      "100%|██████████| 119/119 [00:01<00:00, 116.97it/s]\n"
     ]
    },
    {
     "name": "stdout",
     "output_type": "stream",
     "text": [
      "120  tokens : [{'type': 'start'}, {'value': 38, 'type': 'pitch'}, {'value': 23, 'type': 'velocity'}, {'value': 46, 'type': 'pitch'}, {'value': 24, 'type': 'velocity'}, {'value': 58, 'type': 'pitch'}, {'value': 22, 'type': 'velocity'}, {'type': 'next_frame'}, {'type': 'next_frame'}, {'type': 'next_frame'}]\n"
     ]
    },
    {
     "name": "stderr",
     "output_type": "stream",
     "text": [
      "100%|██████████| 119/119 [00:01<00:00, 116.92it/s]\n",
      " 13%|█▎        | 1003/7931 [02:20<35:53,  3.22it/s]"
     ]
    },
    {
     "name": "stdout",
     "output_type": "stream",
     "text": [
      "120  tokens : [{'type': 'start'}, {'value': 28, 'type': 'pitch'}, {'value': 10, 'type': 'velocity'}, {'value': 32, 'type': 'pitch'}, {'value': 11, 'type': 'velocity'}, {'value': 35, 'type': 'pitch'}, {'value': 9, 'type': 'velocity'}, {'value': 40, 'type': 'pitch'}, {'value': 10, 'type': 'velocity'}, {'type': 'next_frame'}]\n"
     ]
    },
    {
     "name": "stderr",
     "output_type": "stream",
     "text": [
      "100%|██████████| 119/119 [00:01<00:00, 117.80it/s]]\n"
     ]
    },
    {
     "name": "stdout",
     "output_type": "stream",
     "text": [
      "120  tokens : [{'type': 'start'}, {'value': 22, 'type': 'pitch'}, {'value': 22, 'type': 'velocity'}, {'value': 26, 'type': 'pitch'}, {'value': 21, 'type': 'velocity'}, {'value': 34, 'type': 'pitch'}, {'value': 23, 'type': 'velocity'}, {'value': 55, 'type': 'pitch'}, {'value': 24, 'type': 'velocity'}, {'type': 'next_frame'}]\n"
     ]
    },
    {
     "name": "stderr",
     "output_type": "stream",
     "text": [
      "100%|██████████| 119/119 [00:01<00:00, 117.96it/s]\n",
      " 19%|█▉        | 1503/7931 [03:20<30:33,  3.51it/s]"
     ]
    },
    {
     "name": "stdout",
     "output_type": "stream",
     "text": [
      "120  tokens : [{'type': 'start'}, {'value': 3, 'type': 'pitch'}, {'value': 18, 'type': 'velocity'}, {'value': 46, 'type': 'pitch'}, {'value': 22, 'type': 'velocity'}, {'value': 55, 'type': 'pitch'}, {'value': 24, 'type': 'velocity'}, {'type': 'next_frame'}, {'type': 'next_frame'}, {'type': 'next_frame'}]\n"
     ]
    },
    {
     "name": "stderr",
     "output_type": "stream",
     "text": [
      "100%|██████████| 119/119 [00:00<00:00, 120.06it/s]]\n"
     ]
    },
    {
     "name": "stdout",
     "output_type": "stream",
     "text": [
      "120  tokens : [{'type': 'start'}, {'value': 31, 'type': 'pitch'}, {'value': 17, 'type': 'velocity'}, {'value': 55, 'type': 'pitch'}, {'value': 20, 'type': 'velocity'}, {'type': 'next_frame'}, {'type': 'next_frame'}, {'type': 'next_frame'}, {'type': 'next_frame'}, {'value': 12, 'type': 'pitch'}]\n"
     ]
    },
    {
     "name": "stderr",
     "output_type": "stream",
     "text": [
      "100%|██████████| 119/119 [00:00<00:00, 121.53it/s]\n",
      " 25%|██▌       | 2004/7931 [04:21<30:28,  3.24it/s]"
     ]
    },
    {
     "name": "stdout",
     "output_type": "stream",
     "text": [
      "120  tokens : [{'type': 'start'}, {'type': 'next_frame'}, {'value': 10, 'type': 'pitch'}, {'value': 24, 'type': 'velocity'}, {'value': 22, 'type': 'pitch'}, {'value': 25, 'type': 'velocity'}, {'type': 'next_frame'}, {'value': 22, 'type': 'pitch'}, {'value': 25, 'type': 'velocity'}, {'value': 29, 'type': 'pitch'}]\n"
     ]
    },
    {
     "name": "stderr",
     "output_type": "stream",
     "text": [
      "100%|██████████| 119/119 [00:00<00:00, 122.02it/s]]\n"
     ]
    },
    {
     "name": "stdout",
     "output_type": "stream",
     "text": [
      "120  tokens : [{'type': 'start'}, {'value': 20, 'type': 'pitch'}, {'value': 19, 'type': 'velocity'}, {'value': 65, 'type': 'pitch'}, {'value': 17, 'type': 'velocity'}, {'type': 'next_frame'}, {'type': 'next_frame'}, {'type': 'next_frame'}, {'value': 31, 'type': 'pitch'}, {'value': 18, 'type': 'velocity'}]\n"
     ]
    },
    {
     "name": "stderr",
     "output_type": "stream",
     "text": [
      "100%|██████████| 119/119 [00:01<00:00, 112.67it/s]\n",
      " 32%|███▏      | 2504/7931 [05:21<26:50,  3.37it/s]"
     ]
    },
    {
     "name": "stdout",
     "output_type": "stream",
     "text": [
      "120  tokens : [{'type': 'start'}, {'value': 8, 'type': 'pitch'}, {'value': 21, 'type': 'velocity'}, {'type': 'next_frame'}, {'type': 'next_frame'}, {'type': 'next_frame'}, {'value': 3, 'type': 'pitch'}, {'value': 22, 'type': 'velocity'}, {'value': 15, 'type': 'pitch'}, {'value': 26, 'type': 'velocity'}]\n"
     ]
    },
    {
     "name": "stderr",
     "output_type": "stream",
     "text": [
      "100%|██████████| 119/119 [00:00<00:00, 120.91it/s]]\n"
     ]
    },
    {
     "name": "stdout",
     "output_type": "stream",
     "text": [
      "120  tokens : [{'type': 'start'}, {'value': 15, 'type': 'pitch'}, {'value': 19, 'type': 'velocity'}, {'value': 32, 'type': 'pitch'}, {'value': 27, 'type': 'velocity'}, {'type': 'next_frame'}, {'type': 'next_frame'}, {'type': 'next_frame'}, {'type': 'next_frame'}, {'value': 45, 'type': 'pitch'}]\n"
     ]
    },
    {
     "name": "stderr",
     "output_type": "stream",
     "text": [
      "100%|██████████| 119/119 [00:01<00:00, 112.45it/s]\n",
      " 38%|███▊      | 3002/7931 [06:22<31:42,  2.59it/s]"
     ]
    },
    {
     "name": "stdout",
     "output_type": "stream",
     "text": [
      "120  tokens : [{'type': 'start'}, {'value': 30, 'type': 'pitch'}, {'value': 12, 'type': 'velocity'}, {'value': 54, 'type': 'pitch'}, {'value': 13, 'type': 'velocity'}, {'type': 'next_frame'}, {'value': 22, 'type': 'pitch'}, {'value': 9, 'type': 'velocity'}, {'value': 54, 'type': 'pitch'}, {'value': 15, 'type': 'velocity'}]\n"
     ]
    },
    {
     "name": "stderr",
     "output_type": "stream",
     "text": [
      "100%|██████████| 119/119 [00:01<00:00, 115.67it/s]]\n"
     ]
    },
    {
     "name": "stdout",
     "output_type": "stream",
     "text": [
      "120  tokens : [{'type': 'start'}, {'value': 8, 'type': 'pitch'}, {'value': 18, 'type': 'velocity'}, {'value': 20, 'type': 'pitch'}, {'value': 16, 'type': 'velocity'}, {'value': 62, 'type': 'pitch'}, {'value': 21, 'type': 'velocity'}, {'value': 67, 'type': 'pitch'}, {'value': 25, 'type': 'velocity'}, {'type': 'next_frame'}]\n"
     ]
    },
    {
     "name": "stderr",
     "output_type": "stream",
     "text": [
      "100%|██████████| 119/119 [00:01<00:00, 115.67it/s]\n",
      " 44%|████▍     | 3503/7931 [07:23<21:46,  3.39it/s]"
     ]
    },
    {
     "name": "stdout",
     "output_type": "stream",
     "text": [
      "120  tokens : [{'type': 'start'}, {'value': 12, 'type': 'pitch'}, {'value': 21, 'type': 'velocity'}, {'type': 'next_frame'}, {'value': 24, 'type': 'pitch'}, {'value': 20, 'type': 'velocity'}, {'type': 'next_frame'}, {'type': 'next_frame'}, {'value': 31, 'type': 'pitch'}, {'value': 21, 'type': 'velocity'}]\n"
     ]
    },
    {
     "name": "stderr",
     "output_type": "stream",
     "text": [
      "100%|██████████| 119/119 [00:01<00:00, 115.62it/s]]\n"
     ]
    },
    {
     "name": "stdout",
     "output_type": "stream",
     "text": [
      "120  tokens : [{'type': 'start'}, {'value': 27, 'type': 'pitch'}, {'value': 17, 'type': 'velocity'}, {'value': 51, 'type': 'pitch'}, {'value': 20, 'type': 'velocity'}, {'type': 'next_frame'}, {'type': 'next_frame'}, {'type': 'next_frame'}, {'value': 22, 'type': 'pitch'}, {'value': 18, 'type': 'velocity'}]\n"
     ]
    },
    {
     "name": "stderr",
     "output_type": "stream",
     "text": [
      "100%|██████████| 119/119 [00:01<00:00, 112.22it/s]\n",
      " 50%|█████     | 4002/7931 [08:24<30:53,  2.12it/s]"
     ]
    },
    {
     "name": "stdout",
     "output_type": "stream",
     "text": [
      "120  tokens : [{'type': 'start'}, {'value': 20, 'type': 'pitch'}, {'value': 19, 'type': 'velocity'}, {'value': 32, 'type': 'pitch'}, {'value': 21, 'type': 'velocity'}, {'value': 44, 'type': 'pitch'}, {'value': 21, 'type': 'velocity'}, {'value': 48, 'type': 'pitch'}, {'value': 21, 'type': 'velocity'}, {'type': 'next_frame'}]\n"
     ]
    },
    {
     "name": "stderr",
     "output_type": "stream",
     "text": [
      "100%|██████████| 119/119 [00:01<00:00, 116.19it/s]]\n"
     ]
    },
    {
     "name": "stdout",
     "output_type": "stream",
     "text": [
      "120  tokens : [{'type': 'start'}, {'value': 14, 'type': 'pitch'}, {'value': 20, 'type': 'velocity'}, {'value': 43, 'type': 'pitch'}, {'value': 22, 'type': 'velocity'}, {'value': 53, 'type': 'pitch'}, {'value': 23, 'type': 'velocity'}, {'type': 'next_frame'}, {'type': 'next_frame'}, {'type': 'next_frame'}]\n"
     ]
    },
    {
     "name": "stderr",
     "output_type": "stream",
     "text": [
      "100%|██████████| 119/119 [00:01<00:00, 112.65it/s]\n",
      " 57%|█████▋    | 4504/7931 [09:26<18:18,  3.12it/s]"
     ]
    },
    {
     "name": "stdout",
     "output_type": "stream",
     "text": [
      "120  tokens : [{'type': 'start'}, {'value': 11, 'type': 'pitch'}, {'value': 19, 'type': 'velocity'}, {'type': 'next_frame'}, {'type': 'next_frame'}, {'type': 'next_frame'}, {'type': 'next_frame'}, {'value': 17, 'type': 'pitch'}, {'value': 18, 'type': 'velocity'}, {'value': 27, 'type': 'pitch'}]\n"
     ]
    },
    {
     "name": "stderr",
     "output_type": "stream",
     "text": [
      "100%|██████████| 119/119 [00:01<00:00, 118.26it/s]]\n"
     ]
    },
    {
     "name": "stdout",
     "output_type": "stream",
     "text": [
      "120  tokens : [{'type': 'start'}, {'value': 16, 'type': 'pitch'}, {'value': 18, 'type': 'velocity'}, {'value': 28, 'type': 'pitch'}, {'value': 17, 'type': 'velocity'}, {'value': 33, 'type': 'pitch'}, {'value': 18, 'type': 'velocity'}, {'value': 48, 'type': 'pitch'}, {'value': 20, 'type': 'velocity'}, {'type': 'next_frame'}]\n"
     ]
    },
    {
     "name": "stderr",
     "output_type": "stream",
     "text": [
      "100%|██████████| 119/119 [00:00<00:00, 124.45it/s]\n",
      " 63%|██████▎   | 5003/7931 [10:26<13:51,  3.52it/s]"
     ]
    },
    {
     "name": "stdout",
     "output_type": "stream",
     "text": [
      "120  tokens : [{'type': 'start'}, {'value': 27, 'type': 'pitch'}, {'value': 19, 'type': 'velocity'}, {'value': 53, 'type': 'pitch'}, {'value': 21, 'type': 'velocity'}, {'type': 'next_frame'}, {'type': 'next_frame'}, {'type': 'next_frame'}, {'value': 31, 'type': 'pitch'}, {'value': 15, 'type': 'velocity'}]\n"
     ]
    },
    {
     "name": "stderr",
     "output_type": "stream",
     "text": [
      "100%|██████████| 119/119 [00:01<00:00, 113.04it/s]]\n"
     ]
    },
    {
     "name": "stdout",
     "output_type": "stream",
     "text": [
      "120  tokens : [{'type': 'start'}, {'value': 22, 'type': 'pitch'}, {'value': 10, 'type': 'velocity'}, {'value': 47, 'type': 'pitch'}, {'value': 17, 'type': 'velocity'}, {'value': 59, 'type': 'pitch'}, {'value': 11, 'type': 'velocity'}, {'type': 'next_frame'}, {'type': 'next_frame'}, {'type': 'next_frame'}]\n"
     ]
    },
    {
     "name": "stderr",
     "output_type": "stream",
     "text": [
      "100%|██████████| 119/119 [00:01<00:00, 117.49it/s]\n",
      " 69%|██████▉   | 5502/7931 [11:25<15:53,  2.55it/s]"
     ]
    },
    {
     "name": "stdout",
     "output_type": "stream",
     "text": [
      "120  tokens : [{'type': 'start'}, {'value': 46, 'type': 'pitch'}, {'value': 13, 'type': 'velocity'}, {'value': 53, 'type': 'pitch'}, {'value': 15, 'type': 'velocity'}, {'value': 58, 'type': 'pitch'}, {'value': 17, 'type': 'velocity'}, {'value': 61, 'type': 'pitch'}, {'value': 20, 'type': 'velocity'}, {'type': 'next_frame'}]\n"
     ]
    },
    {
     "name": "stderr",
     "output_type": "stream",
     "text": [
      "100%|██████████| 119/119 [00:00<00:00, 120.18it/s]]\n"
     ]
    },
    {
     "name": "stdout",
     "output_type": "stream",
     "text": [
      "120  tokens : [{'type': 'start'}, {'value': 23, 'type': 'pitch'}, {'value': 17, 'type': 'velocity'}, {'value': 71, 'type': 'pitch'}, {'value': 25, 'type': 'velocity'}, {'value': 78, 'type': 'pitch'}, {'value': 18, 'type': 'velocity'}, {'type': 'next_frame'}, {'type': 'next_frame'}, {'type': 'next_frame'}]\n"
     ]
    },
    {
     "name": "stderr",
     "output_type": "stream",
     "text": [
      "100%|██████████| 119/119 [00:01<00:00, 118.95it/s]\n",
      " 76%|███████▌  | 6003/7931 [12:26<09:17,  3.46it/s]"
     ]
    },
    {
     "name": "stdout",
     "output_type": "stream",
     "text": [
      "120  tokens : [{'type': 'start'}, {'value': 22, 'type': 'pitch'}, {'value': 21, 'type': 'velocity'}, {'value': 34, 'type': 'pitch'}, {'value': 20, 'type': 'velocity'}, {'value': 51, 'type': 'pitch'}, {'value': 19, 'type': 'velocity'}, {'type': 'next_frame'}, {'type': 'next_frame'}, {'type': 'next_frame'}]\n"
     ]
    },
    {
     "name": "stderr",
     "output_type": "stream",
     "text": [
      "100%|██████████| 119/119 [00:00<00:00, 121.70it/s]]\n"
     ]
    },
    {
     "name": "stdout",
     "output_type": "stream",
     "text": [
      "120  tokens : [{'type': 'start'}, {'value': 19, 'type': 'pitch'}, {'value': 18, 'type': 'velocity'}, {'value': 41, 'type': 'pitch'}, {'value': 21, 'type': 'velocity'}, {'value': 47, 'type': 'pitch'}, {'value': 21, 'type': 'velocity'}, {'value': 51, 'type': 'pitch'}, {'value': 22, 'type': 'velocity'}, {'type': 'next_frame'}]\n"
     ]
    },
    {
     "name": "stderr",
     "output_type": "stream",
     "text": [
      "100%|██████████| 119/119 [00:01<00:00, 118.78it/s]\n",
      " 82%|████████▏ | 6503/7931 [13:27<07:30,  3.17it/s]"
     ]
    },
    {
     "name": "stdout",
     "output_type": "stream",
     "text": [
      "120  tokens : [{'type': 'start'}, {'value': 3, 'type': 'pitch'}, {'value': 17, 'type': 'velocity'}, {'value': 15, 'type': 'pitch'}, {'value': 16, 'type': 'velocity'}, {'type': 'next_frame'}, {'type': 'next_frame'}, {'type': 'next_frame'}, {'type': 'next_frame'}, {'value': 56, 'type': 'pitch'}]\n"
     ]
    },
    {
     "name": "stderr",
     "output_type": "stream",
     "text": [
      "100%|██████████| 119/119 [00:00<00:00, 121.12it/s]]\n"
     ]
    },
    {
     "name": "stdout",
     "output_type": "stream",
     "text": [
      "120  tokens : [{'type': 'start'}, {'value': 40, 'type': 'pitch'}, {'value': 18, 'type': 'velocity'}, {'value': 50, 'type': 'pitch'}, {'value': 22, 'type': 'velocity'}, {'value': 62, 'type': 'pitch'}, {'value': 25, 'type': 'velocity'}, {'type': 'next_frame'}, {'type': 'next_frame'}, {'type': 'next_frame'}]\n"
     ]
    },
    {
     "name": "stderr",
     "output_type": "stream",
     "text": [
      "100%|██████████| 119/119 [00:00<00:00, 122.15it/s]\n",
      " 88%|████████▊ | 7003/7931 [14:28<04:51,  3.18it/s]"
     ]
    },
    {
     "name": "stdout",
     "output_type": "stream",
     "text": [
      "120  tokens : [{'type': 'start'}, {'type': 'next_frame'}, {'type': 'next_frame'}, {'type': 'next_frame'}, {'type': 'next_frame'}, {'type': 'next_frame'}, {'value': 34, 'type': 'pitch'}, {'value': 22, 'type': 'velocity'}, {'type': 'next_frame'}, {'type': 'next_frame'}]\n"
     ]
    },
    {
     "name": "stderr",
     "output_type": "stream",
     "text": [
      "100%|██████████| 119/119 [00:01<00:00, 118.38it/s]]\n"
     ]
    },
    {
     "name": "stdout",
     "output_type": "stream",
     "text": [
      "120  tokens : [{'type': 'start'}, {'value': 46, 'type': 'pitch'}, {'value': 20, 'type': 'velocity'}, {'value': 56, 'type': 'pitch'}, {'value': 25, 'type': 'velocity'}, {'type': 'next_frame'}, {'type': 'next_frame'}, {'value': 24, 'type': 'pitch'}, {'value': 21, 'type': 'velocity'}, {'value': 36, 'type': 'pitch'}]\n"
     ]
    },
    {
     "name": "stderr",
     "output_type": "stream",
     "text": [
      "100%|██████████| 119/119 [00:00<00:00, 125.43it/s]\n",
      " 95%|█████████▍| 7503/7931 [15:29<02:16,  3.14it/s]"
     ]
    },
    {
     "name": "stdout",
     "output_type": "stream",
     "text": [
      "120  tokens : [{'type': 'start'}, {'value': 7, 'type': 'pitch'}, {'value': 25, 'type': 'velocity'}, {'value': 19, 'type': 'pitch'}, {'value': 25, 'type': 'velocity'}, {'value': 60, 'type': 'pitch'}, {'value': 20, 'type': 'velocity'}, {'value': 63, 'type': 'pitch'}, {'value': 21, 'type': 'velocity'}, {'type': 'next_frame'}]\n"
     ]
    },
    {
     "name": "stderr",
     "output_type": "stream",
     "text": [
      "100%|██████████| 7931/7931 [16:20<00:00,  8.09it/s]\n",
      "100%|██████████| 119/119 [00:00<00:00, 156.77it/s]\n"
     ]
    },
    {
     "name": "stdout",
     "output_type": "stream",
     "text": [
      "120  tokens : [{'type': 'start'}, {'value': 19, 'type': 'pitch'}, {'value': 20, 'type': 'velocity'}, {'value': 31, 'type': 'pitch'}, {'value': 22, 'type': 'velocity'}, {'value': 54, 'type': 'pitch'}, {'value': 24, 'type': 'velocity'}, {'value': 58, 'type': 'pitch'}, {'value': 23, 'type': 'velocity'}, {'value': 62, 'type': 'pitch'}]\n"
     ]
    },
    {
     "name": "stderr",
     "output_type": "stream",
     "text": [
      "100%|██████████| 119/119 [00:00<00:00, 151.86it/s]\n",
      "  0%|          | 2/7931 [00:20<18:31:38,  8.41s/it]"
     ]
    },
    {
     "name": "stdout",
     "output_type": "stream",
     "text": [
      "120  tokens : [{'type': 'start'}, {'value': 5, 'type': 'pitch'}, {'value': 19, 'type': 'velocity'}, {'type': 'next_frame'}, {'type': 'next_frame'}, {'value': 48, 'type': 'pitch'}, {'value': 23, 'type': 'velocity'}, {'value': 53, 'type': 'pitch'}, {'value': 18, 'type': 'velocity'}, {'value': 56, 'type': 'pitch'}]\n"
     ]
    },
    {
     "name": "stderr",
     "output_type": "stream",
     "text": [
      "100%|██████████| 119/119 [00:01<00:00, 116.20it/s] \n"
     ]
    },
    {
     "name": "stdout",
     "output_type": "stream",
     "text": [
      "120  tokens : [{'type': 'start'}, {'value': 8, 'type': 'pitch'}, {'value': 10, 'type': 'velocity'}, {'value': 51, 'type': 'pitch'}, {'value': 22, 'type': 'velocity'}, {'type': 'next_frame'}, {'type': 'next_frame'}, {'value': 12, 'type': 'pitch'}, {'value': 12, 'type': 'velocity'}, {'type': 'next_frame'}]\n"
     ]
    },
    {
     "name": "stderr",
     "output_type": "stream",
     "text": [
      "100%|██████████| 119/119 [00:00<00:00, 126.58it/s]\n",
      "  6%|▋         | 503/7931 [01:20<42:07,  2.94it/s]"
     ]
    },
    {
     "name": "stdout",
     "output_type": "stream",
     "text": [
      "120  tokens : [{'type': 'start'}, {'value': 7, 'type': 'pitch'}, {'value': 17, 'type': 'velocity'}, {'value': 19, 'type': 'pitch'}, {'value': 18, 'type': 'velocity'}, {'value': 41, 'type': 'pitch'}, {'value': 21, 'type': 'velocity'}, {'value': 50, 'type': 'pitch'}, {'value': 21, 'type': 'velocity'}, {'type': 'next_frame'}]\n"
     ]
    },
    {
     "name": "stderr",
     "output_type": "stream",
     "text": [
      "100%|██████████| 119/119 [00:00<00:00, 133.92it/s]\n"
     ]
    },
    {
     "name": "stdout",
     "output_type": "stream",
     "text": [
      "120  tokens : [{'type': 'start'}, {'value': 24, 'type': 'pitch'}, {'value': 17, 'type': 'velocity'}, {'value': 43, 'type': 'pitch'}, {'value': 19, 'type': 'velocity'}, {'value': 51, 'type': 'pitch'}, {'value': 18, 'type': 'velocity'}, {'value': 48, 'type': 'pitch'}, {'value': 21, 'type': 'velocity'}, {'type': 'next_frame'}]\n"
     ]
    },
    {
     "name": "stderr",
     "output_type": "stream",
     "text": [
      "100%|██████████| 119/119 [00:00<00:00, 130.18it/s]\n",
      " 13%|█▎        | 1003/7931 [02:20<33:59,  3.40it/s]"
     ]
    },
    {
     "name": "stdout",
     "output_type": "stream",
     "text": [
      "120  tokens : [{'type': 'start'}, {'value': 24, 'type': 'pitch'}, {'value': 22, 'type': 'velocity'}, {'type': 'next_frame'}, {'type': 'next_frame'}, {'value': 36, 'type': 'pitch'}, {'value': 20, 'type': 'velocity'}, {'type': 'next_frame'}, {'type': 'next_frame'}, {'value': 43, 'type': 'pitch'}]\n"
     ]
    },
    {
     "name": "stderr",
     "output_type": "stream",
     "text": [
      "100%|██████████| 119/119 [00:00<00:00, 127.05it/s]]\n"
     ]
    },
    {
     "name": "stdout",
     "output_type": "stream",
     "text": [
      "120  tokens : [{'type': 'start'}, {'value': 15, 'type': 'pitch'}, {'value': 19, 'type': 'velocity'}, {'value': 55, 'type': 'pitch'}, {'value': 21, 'type': 'velocity'}, {'type': 'next_frame'}, {'type': 'next_frame'}, {'type': 'next_frame'}, {'type': 'next_frame'}, {'value': 29, 'type': 'pitch'}]\n"
     ]
    },
    {
     "name": "stderr",
     "output_type": "stream",
     "text": [
      "100%|██████████| 119/119 [00:00<00:00, 123.24it/s]\n",
      " 19%|█▉        | 1503/7931 [03:20<31:06,  3.44it/s]"
     ]
    },
    {
     "name": "stdout",
     "output_type": "stream",
     "text": [
      "120  tokens : [{'type': 'start'}, {'type': 'next_frame'}, {'type': 'next_frame'}, {'type': 'next_frame'}, {'type': 'next_frame'}, {'type': 'next_frame'}, {'type': 'next_frame'}, {'type': 'next_frame'}, {'type': 'next_frame'}, {'type': 'next_frame'}]\n"
     ]
    },
    {
     "name": "stderr",
     "output_type": "stream",
     "text": [
      "100%|██████████| 119/119 [00:00<00:00, 125.71it/s]]\n"
     ]
    },
    {
     "name": "stdout",
     "output_type": "stream",
     "text": [
      "120  tokens : [{'type': 'start'}, {'value': 20, 'type': 'pitch'}, {'value': 24, 'type': 'velocity'}, {'value': 48, 'type': 'pitch'}, {'value': 23, 'type': 'velocity'}, {'value': 60, 'type': 'pitch'}, {'value': 21, 'type': 'velocity'}, {'value': 62, 'type': 'pitch'}, {'value': 25, 'type': 'velocity'}, {'value': 55, 'type': 'pitch'}]\n"
     ]
    },
    {
     "name": "stderr",
     "output_type": "stream",
     "text": [
      "100%|██████████| 119/119 [00:00<00:00, 120.73it/s]\n",
      " 25%|██▌       | 2003/7931 [04:21<29:00,  3.41it/s]"
     ]
    },
    {
     "name": "stdout",
     "output_type": "stream",
     "text": [
      "120  tokens : [{'type': 'start'}, {'value': 24, 'type': 'pitch'}, {'value': 20, 'type': 'velocity'}, {'value': 48, 'type': 'pitch'}, {'value': 20, 'type': 'velocity'}, {'type': 'next_frame'}, {'type': 'next_frame'}, {'type': 'next_frame'}, {'type': 'next_frame'}, {'value': 31, 'type': 'pitch'}]\n"
     ]
    },
    {
     "name": "stderr",
     "output_type": "stream",
     "text": [
      "100%|██████████| 119/119 [00:00<00:00, 124.85it/s]]\n"
     ]
    },
    {
     "name": "stdout",
     "output_type": "stream",
     "text": [
      "120  tokens : [{'type': 'start'}, {'value': 14, 'type': 'pitch'}, {'value': 16, 'type': 'velocity'}, {'value': 50, 'type': 'pitch'}, {'value': 21, 'type': 'velocity'}, {'type': 'next_frame'}, {'type': 'next_frame'}, {'type': 'next_frame'}, {'type': 'next_frame'}, {'value': 21, 'type': 'pitch'}]\n"
     ]
    },
    {
     "name": "stderr",
     "output_type": "stream",
     "text": [
      "100%|██████████| 119/119 [00:01<00:00, 117.81it/s]\n",
      " 32%|███▏      | 2503/7931 [05:21<26:08,  3.46it/s]"
     ]
    },
    {
     "name": "stdout",
     "output_type": "stream",
     "text": [
      "120  tokens : [{'type': 'start'}, {'value': 12, 'type': 'pitch'}, {'value': 21, 'type': 'velocity'}, {'value': 24, 'type': 'pitch'}, {'value': 22, 'type': 'velocity'}, {'value': 51, 'type': 'pitch'}, {'value': 22, 'type': 'velocity'}, {'value': 55, 'type': 'pitch'}, {'value': 18, 'type': 'velocity'}, {'value': 58, 'type': 'pitch'}]\n"
     ]
    },
    {
     "name": "stderr",
     "output_type": "stream",
     "text": [
      "100%|██████████| 119/119 [00:00<00:00, 120.55it/s]]\n"
     ]
    },
    {
     "name": "stdout",
     "output_type": "stream",
     "text": [
      "120  tokens : [{'type': 'start'}, {'value': 24, 'type': 'pitch'}, {'value': 18, 'type': 'velocity'}, {'type': 'next_frame'}, {'type': 'next_frame'}, {'type': 'next_frame'}, {'value': 60, 'type': 'pitch'}, {'value': 23, 'type': 'velocity'}, {'value': 72, 'type': 'pitch'}, {'value': 23, 'type': 'velocity'}]\n"
     ]
    },
    {
     "name": "stderr",
     "output_type": "stream",
     "text": [
      "100%|██████████| 119/119 [00:00<00:00, 122.67it/s]\n",
      " 38%|███▊      | 3003/7931 [06:22<26:52,  3.06it/s]"
     ]
    },
    {
     "name": "stdout",
     "output_type": "stream",
     "text": [
      "120  tokens : [{'type': 'start'}, {'type': 'next_frame'}, {'type': 'next_frame'}, {'type': 'next_frame'}, {'type': 'next_frame'}, {'type': 'next_frame'}, {'type': 'next_frame'}, {'type': 'next_frame'}, {'type': 'next_frame'}, {'value': 46, 'type': 'pitch'}]\n"
     ]
    },
    {
     "name": "stderr",
     "output_type": "stream",
     "text": [
      "100%|██████████| 119/119 [00:00<00:00, 126.91it/s]]\n"
     ]
    },
    {
     "name": "stdout",
     "output_type": "stream",
     "text": [
      "120  tokens : [{'type': 'start'}, {'value': 24, 'type': 'pitch'}, {'value': 24, 'type': 'velocity'}, {'value': 54, 'type': 'pitch'}, {'value': 25, 'type': 'velocity'}, {'type': 'next_frame'}, {'type': 'next_frame'}, {'value': 48, 'type': 'pitch'}, {'value': 20, 'type': 'velocity'}, {'type': 'next_frame'}]\n"
     ]
    },
    {
     "name": "stderr",
     "output_type": "stream",
     "text": [
      "100%|██████████| 119/119 [00:00<00:00, 121.85it/s]\n",
      " 44%|████▍     | 3503/7931 [07:22<21:38,  3.41it/s]"
     ]
    },
    {
     "name": "stdout",
     "output_type": "stream",
     "text": [
      "120  tokens : [{'type': 'start'}, {'value': 10, 'type': 'pitch'}, {'value': 18, 'type': 'velocity'}, {'type': 'next_frame'}, {'type': 'next_frame'}, {'type': 'next_frame'}, {'type': 'next_frame'}, {'value': 17, 'type': 'pitch'}, {'value': 17, 'type': 'velocity'}, {'type': 'next_frame'}]\n"
     ]
    },
    {
     "name": "stderr",
     "output_type": "stream",
     "text": [
      "100%|██████████| 119/119 [00:00<00:00, 119.82it/s]]\n"
     ]
    },
    {
     "name": "stdout",
     "output_type": "stream",
     "text": [
      "120  tokens : [{'type': 'start'}, {'value': 19, 'type': 'pitch'}, {'value': 19, 'type': 'velocity'}, {'value': 24, 'type': 'pitch'}, {'value': 18, 'type': 'velocity'}, {'value': 53, 'type': 'pitch'}, {'value': 20, 'type': 'velocity'}, {'value': 59, 'type': 'pitch'}, {'value': 22, 'type': 'velocity'}, {'type': 'next_frame'}]\n"
     ]
    },
    {
     "name": "stderr",
     "output_type": "stream",
     "text": [
      "100%|██████████| 119/119 [00:00<00:00, 124.14it/s]\n",
      " 50%|█████     | 4004/7931 [08:23<20:06,  3.26it/s]"
     ]
    },
    {
     "name": "stdout",
     "output_type": "stream",
     "text": [
      "120  tokens : [{'type': 'start'}, {'value': 19, 'type': 'pitch'}, {'value': 23, 'type': 'velocity'}, {'value': 26, 'type': 'pitch'}, {'value': 23, 'type': 'velocity'}, {'value': 29, 'type': 'pitch'}, {'value': 24, 'type': 'velocity'}, {'value': 41, 'type': 'pitch'}, {'value': 22, 'type': 'velocity'}, {'value': 46, 'type': 'pitch'}]\n"
     ]
    },
    {
     "name": "stderr",
     "output_type": "stream",
     "text": [
      "100%|██████████| 119/119 [00:01<00:00, 110.99it/s]]\n"
     ]
    },
    {
     "name": "stdout",
     "output_type": "stream",
     "text": [
      "120  tokens : [{'type': 'start'}, {'value': 12, 'type': 'pitch'}, {'value': 25, 'type': 'velocity'}, {'type': 'next_frame'}, {'type': 'next_frame'}, {'value': 38, 'type': 'pitch'}, {'value': 16, 'type': 'velocity'}, {'value': 47, 'type': 'pitch'}, {'value': 16, 'type': 'velocity'}, {'value': 55, 'type': 'pitch'}]\n"
     ]
    },
    {
     "name": "stderr",
     "output_type": "stream",
     "text": [
      "100%|██████████| 119/119 [00:00<00:00, 121.35it/s]\n",
      " 57%|█████▋    | 4502/7931 [09:24<24:23,  2.34it/s]"
     ]
    },
    {
     "name": "stdout",
     "output_type": "stream",
     "text": [
      "120  tokens : [{'type': 'start'}, {'value': 19, 'type': 'pitch'}, {'value': 20, 'type': 'velocity'}, {'type': 'next_frame'}, {'type': 'next_frame'}, {'value': 27, 'type': 'pitch'}, {'value': 17, 'type': 'velocity'}, {'type': 'next_frame'}, {'type': 'next_frame'}, {'value': 31, 'type': 'pitch'}]\n"
     ]
    },
    {
     "name": "stderr",
     "output_type": "stream",
     "text": [
      "100%|██████████| 119/119 [00:00<00:00, 124.07it/s]]\n"
     ]
    },
    {
     "name": "stdout",
     "output_type": "stream",
     "text": [
      "120  tokens : [{'type': 'start'}, {'type': 'next_frame'}, {'value': 18, 'type': 'pitch'}, {'value': 16, 'type': 'velocity'}, {'value': 50, 'type': 'pitch'}, {'value': 22, 'type': 'velocity'}, {'value': 55, 'type': 'pitch'}, {'value': 17, 'type': 'velocity'}, {'value': 62, 'type': 'pitch'}, {'value': 24, 'type': 'velocity'}]\n"
     ]
    },
    {
     "name": "stderr",
     "output_type": "stream",
     "text": [
      "100%|██████████| 119/119 [00:01<00:00, 113.86it/s]\n",
      " 63%|██████▎   | 5003/7931 [10:25<14:16,  3.42it/s]"
     ]
    },
    {
     "name": "stdout",
     "output_type": "stream",
     "text": [
      "120  tokens : [{'type': 'start'}, {'value': 12, 'type': 'pitch'}, {'value': 18, 'type': 'velocity'}, {'value': 24, 'type': 'pitch'}, {'value': 19, 'type': 'velocity'}, {'value': 31, 'type': 'pitch'}, {'value': 17, 'type': 'velocity'}, {'value': 36, 'type': 'pitch'}, {'value': 17, 'type': 'velocity'}, {'value': 39, 'type': 'pitch'}]\n"
     ]
    },
    {
     "name": "stderr",
     "output_type": "stream",
     "text": [
      "100%|██████████| 119/119 [00:01<00:00, 116.37it/s]]\n"
     ]
    },
    {
     "name": "stdout",
     "output_type": "stream",
     "text": [
      "120  tokens : [{'type': 'start'}, {'value': 22, 'type': 'pitch'}, {'value': 21, 'type': 'velocity'}, {'value': 34, 'type': 'pitch'}, {'value': 21, 'type': 'velocity'}, {'value': 44, 'type': 'pitch'}, {'value': 22, 'type': 'velocity'}, {'value': 48, 'type': 'pitch'}, {'value': 20, 'type': 'velocity'}, {'value': 51, 'type': 'pitch'}]\n"
     ]
    },
    {
     "name": "stderr",
     "output_type": "stream",
     "text": [
      "100%|██████████| 119/119 [00:00<00:00, 129.83it/s]\n",
      " 69%|██████▉   | 5502/7931 [11:26<16:13,  2.50it/s]"
     ]
    },
    {
     "name": "stdout",
     "output_type": "stream",
     "text": [
      "120  tokens : [{'type': 'start'}, {'value': 17, 'type': 'pitch'}, {'value': 7, 'type': 'velocity'}, {'value': 36, 'type': 'pitch'}, {'value': 7, 'type': 'velocity'}, {'value': 41, 'type': 'pitch'}, {'value': 12, 'type': 'velocity'}, {'value': 45, 'type': 'pitch'}, {'value': 13, 'type': 'velocity'}, {'type': 'next_frame'}]\n"
     ]
    },
    {
     "name": "stderr",
     "output_type": "stream",
     "text": [
      "100%|██████████| 119/119 [00:00<00:00, 121.60it/s]]\n"
     ]
    },
    {
     "name": "stdout",
     "output_type": "stream",
     "text": [
      "120  tokens : [{'type': 'start'}, {'value': 15, 'type': 'pitch'}, {'value': 20, 'type': 'velocity'}, {'value': 27, 'type': 'pitch'}, {'value': 23, 'type': 'velocity'}, {'value': 44, 'type': 'pitch'}, {'value': 26, 'type': 'velocity'}, {'type': 'next_frame'}, {'type': 'next_frame'}, {'type': 'next_frame'}]\n"
     ]
    },
    {
     "name": "stderr",
     "output_type": "stream",
     "text": [
      "100%|██████████| 119/119 [00:00<00:00, 124.66it/s]\n",
      " 76%|███████▌  | 6002/7931 [12:27<12:26,  2.58it/s]"
     ]
    },
    {
     "name": "stdout",
     "output_type": "stream",
     "text": [
      "120  tokens : [{'type': 'start'}, {'value': 62, 'type': 'pitch'}, {'value': 19, 'type': 'velocity'}, {'type': 'next_frame'}, {'type': 'next_frame'}, {'value': 40, 'type': 'pitch'}, {'value': 13, 'type': 'velocity'}, {'type': 'next_frame'}, {'value': 43, 'type': 'pitch'}, {'value': 14, 'type': 'velocity'}]\n"
     ]
    },
    {
     "name": "stderr",
     "output_type": "stream",
     "text": [
      "100%|██████████| 119/119 [00:01<00:00, 118.28it/s]]\n"
     ]
    },
    {
     "name": "stdout",
     "output_type": "stream",
     "text": [
      "120  tokens : [{'type': 'start'}, {'value': 24, 'type': 'pitch'}, {'value': 13, 'type': 'velocity'}, {'value': 55, 'type': 'pitch'}, {'value': 25, 'type': 'velocity'}, {'type': 'next_frame'}, {'type': 'next_frame'}, {'type': 'next_frame'}, {'type': 'next_frame'}, {'value': 36, 'type': 'pitch'}]\n"
     ]
    },
    {
     "name": "stderr",
     "output_type": "stream",
     "text": [
      "100%|██████████| 119/119 [00:01<00:00, 114.41it/s]\n",
      " 82%|████████▏ | 6503/7931 [13:28<07:07,  3.34it/s]"
     ]
    },
    {
     "name": "stdout",
     "output_type": "stream",
     "text": [
      "120  tokens : [{'type': 'start'}, {'type': 'next_frame'}, {'type': 'next_frame'}, {'type': 'next_frame'}, {'value': 22, 'type': 'pitch'}, {'value': 15, 'type': 'velocity'}, {'type': 'next_frame'}, {'value': 77, 'type': 'pitch'}, {'value': 21, 'type': 'velocity'}, {'type': 'next_frame'}]\n"
     ]
    },
    {
     "name": "stderr",
     "output_type": "stream",
     "text": [
      "100%|██████████| 119/119 [00:00<00:00, 120.92it/s]]\n"
     ]
    },
    {
     "name": "stdout",
     "output_type": "stream",
     "text": [
      "120  tokens : [{'type': 'start'}, {'value': 29, 'type': 'pitch'}, {'value': 21, 'type': 'velocity'}, {'value': 44, 'type': 'pitch'}, {'value': 20, 'type': 'velocity'}, {'type': 'next_frame'}, {'type': 'next_frame'}, {'value': 31, 'type': 'pitch'}, {'value': 19, 'type': 'velocity'}, {'value': 65, 'type': 'pitch'}]\n"
     ]
    },
    {
     "name": "stderr",
     "output_type": "stream",
     "text": [
      "100%|██████████| 119/119 [00:00<00:00, 124.46it/s]\n",
      " 88%|████████▊ | 7003/7931 [14:28<04:43,  3.27it/s]"
     ]
    },
    {
     "name": "stdout",
     "output_type": "stream",
     "text": [
      "120  tokens : [{'type': 'start'}, {'value': 19, 'type': 'pitch'}, {'value': 21, 'type': 'velocity'}, {'value': 31, 'type': 'pitch'}, {'value': 22, 'type': 'velocity'}, {'type': 'next_frame'}, {'type': 'next_frame'}, {'type': 'next_frame'}, {'type': 'next_frame'}, {'value': 38, 'type': 'pitch'}]\n"
     ]
    },
    {
     "name": "stderr",
     "output_type": "stream",
     "text": [
      "100%|██████████| 119/119 [00:01<00:00, 118.39it/s]]\n"
     ]
    },
    {
     "name": "stdout",
     "output_type": "stream",
     "text": [
      "120  tokens : [{'type': 'start'}, {'value': 24, 'type': 'pitch'}, {'value': 22, 'type': 'velocity'}, {'type': 'next_frame'}, {'value': 31, 'type': 'pitch'}, {'value': 20, 'type': 'velocity'}, {'value': 55, 'type': 'pitch'}, {'value': 21, 'type': 'velocity'}, {'value': 59, 'type': 'pitch'}, {'value': 19, 'type': 'velocity'}]\n"
     ]
    },
    {
     "name": "stderr",
     "output_type": "stream",
     "text": [
      "100%|██████████| 119/119 [00:00<00:00, 121.18it/s]\n",
      " 95%|█████████▍| 7504/7931 [15:30<02:12,  3.23it/s]"
     ]
    },
    {
     "name": "stdout",
     "output_type": "stream",
     "text": [
      "120  tokens : [{'type': 'start'}, {'value': 36, 'type': 'pitch'}, {'value': 11, 'type': 'velocity'}, {'value': 62, 'type': 'pitch'}, {'value': 17, 'type': 'velocity'}, {'type': 'next_frame'}, {'type': 'next_frame'}, {'type': 'next_frame'}, {'type': 'next_frame'}, {'value': 42, 'type': 'pitch'}]\n"
     ]
    },
    {
     "name": "stderr",
     "output_type": "stream",
     "text": [
      "100%|██████████| 7931/7931 [16:21<00:00,  8.08it/s]\n",
      "100%|██████████| 119/119 [00:00<00:00, 143.71it/s]\n"
     ]
    },
    {
     "name": "stdout",
     "output_type": "stream",
     "text": [
      "120  tokens : [{'type': 'start'}, {'value': 32, 'type': 'pitch'}, {'value': 20, 'type': 'velocity'}, {'value': 36, 'type': 'pitch'}, {'value': 22, 'type': 'velocity'}, {'value': 48, 'type': 'pitch'}, {'value': 22, 'type': 'velocity'}, {'type': 'next_frame'}, {'type': 'next_frame'}, {'type': 'next_frame'}]\n"
     ]
    },
    {
     "name": "stderr",
     "output_type": "stream",
     "text": [
      "100%|██████████| 119/119 [00:00<00:00, 136.85it/s]\n",
      "  0%|          | 2/7931 [00:21<19:11:30,  8.71s/it]"
     ]
    },
    {
     "name": "stdout",
     "output_type": "stream",
     "text": [
      "120  tokens : [{'type': 'start'}, {'value': 24, 'type': 'pitch'}, {'value': 20, 'type': 'velocity'}, {'value': 36, 'type': 'pitch'}, {'value': 21, 'type': 'velocity'}, {'value': 60, 'type': 'pitch'}, {'value': 21, 'type': 'velocity'}, {'type': 'next_frame'}, {'type': 'next_frame'}, {'type': 'next_frame'}]\n"
     ]
    },
    {
     "name": "stderr",
     "output_type": "stream",
     "text": [
      "100%|██████████| 119/119 [00:00<00:00, 121.54it/s] \n"
     ]
    },
    {
     "name": "stdout",
     "output_type": "stream",
     "text": [
      "120  tokens : [{'type': 'start'}, {'value': 5, 'type': 'pitch'}, {'value': 22, 'type': 'velocity'}, {'value': 17, 'type': 'pitch'}, {'value': 21, 'type': 'velocity'}, {'value': 38, 'type': 'pitch'}, {'value': 24, 'type': 'velocity'}, {'type': 'next_frame'}, {'type': 'next_frame'}, {'type': 'next_frame'}]\n"
     ]
    },
    {
     "name": "stderr",
     "output_type": "stream",
     "text": [
      "100%|██████████| 119/119 [00:00<00:00, 130.04it/s]\n",
      "  6%|▋         | 503/7931 [01:20<35:01,  3.53it/s]"
     ]
    },
    {
     "name": "stdout",
     "output_type": "stream",
     "text": [
      "120  tokens : [{'type': 'start'}, {'value': 17, 'type': 'pitch'}, {'value': 22, 'type': 'velocity'}, {'value': 29, 'type': 'pitch'}, {'value': 23, 'type': 'velocity'}, {'value': 53, 'type': 'pitch'}, {'value': 23, 'type': 'velocity'}, {'value': 57, 'type': 'pitch'}, {'value': 25, 'type': 'velocity'}, {'type': 'next_frame'}]\n"
     ]
    },
    {
     "name": "stderr",
     "output_type": "stream",
     "text": [
      "100%|██████████| 119/119 [00:00<00:00, 123.81it/s]\n"
     ]
    },
    {
     "name": "stdout",
     "output_type": "stream",
     "text": [
      "120  tokens : [{'type': 'start'}, {'value': 26, 'type': 'pitch'}, {'value': 11, 'type': 'velocity'}, {'value': 51, 'type': 'pitch'}, {'value': 21, 'type': 'velocity'}, {'value': 63, 'type': 'pitch'}, {'value': 23, 'type': 'velocity'}, {'type': 'next_frame'}, {'type': 'next_frame'}, {'type': 'next_frame'}]\n"
     ]
    },
    {
     "name": "stderr",
     "output_type": "stream",
     "text": [
      "100%|██████████| 119/119 [00:00<00:00, 125.91it/s]\n",
      " 13%|█▎        | 1003/7931 [02:21<32:09,  3.59it/s]"
     ]
    },
    {
     "name": "stdout",
     "output_type": "stream",
     "text": [
      "120  tokens : [{'type': 'start'}, {'value': 27, 'type': 'pitch'}, {'value': 15, 'type': 'velocity'}, {'value': 56, 'type': 'pitch'}, {'value': 22, 'type': 'velocity'}, {'type': 'next_frame'}, {'type': 'next_frame'}, {'type': 'next_frame'}, {'type': 'next_frame'}, {'value': 34, 'type': 'pitch'}]\n"
     ]
    },
    {
     "name": "stderr",
     "output_type": "stream",
     "text": [
      "100%|██████████| 119/119 [00:01<00:00, 112.67it/s]]\n"
     ]
    },
    {
     "name": "stdout",
     "output_type": "stream",
     "text": [
      "120  tokens : [{'type': 'start'}, {'value': 17, 'type': 'pitch'}, {'value': 17, 'type': 'velocity'}, {'value': 55, 'type': 'pitch'}, {'value': 20, 'type': 'velocity'}, {'type': 'next_frame'}, {'type': 'next_frame'}, {'type': 'next_frame'}, {'type': 'next_frame'}, {'value': 41, 'type': 'pitch'}]\n"
     ]
    },
    {
     "name": "stderr",
     "output_type": "stream",
     "text": [
      "100%|██████████| 119/119 [00:00<00:00, 130.18it/s]\n",
      " 19%|█▉        | 1503/7931 [03:21<32:15,  3.32it/s]"
     ]
    },
    {
     "name": "stdout",
     "output_type": "stream",
     "text": [
      "120  tokens : [{'type': 'start'}, {'value': 7, 'type': 'pitch'}, {'value': 16, 'type': 'velocity'}, {'type': 'next_frame'}, {'type': 'next_frame'}, {'type': 'next_frame'}, {'type': 'next_frame'}, {'value': 19, 'type': 'pitch'}, {'value': 20, 'type': 'velocity'}, {'value': 31, 'type': 'pitch'}]\n"
     ]
    },
    {
     "name": "stderr",
     "output_type": "stream",
     "text": [
      "100%|██████████| 119/119 [00:01<00:00, 114.08it/s]]\n"
     ]
    },
    {
     "name": "stdout",
     "output_type": "stream",
     "text": [
      "120  tokens : [{'type': 'start'}, {'value': 63, 'type': 'pitch'}, {'value': 23, 'type': 'velocity'}, {'value': 70, 'type': 'pitch'}, {'value': 24, 'type': 'velocity'}, {'type': 'next_frame'}, {'type': 'next_frame'}, {'value': 60, 'type': 'pitch'}, {'value': 22, 'type': 'velocity'}, {'type': 'next_frame'}]\n"
     ]
    },
    {
     "name": "stderr",
     "output_type": "stream",
     "text": [
      "100%|██████████| 119/119 [00:00<00:00, 126.45it/s]\n",
      " 25%|██▌       | 2004/7931 [04:22<30:14,  3.27it/s]"
     ]
    },
    {
     "name": "stdout",
     "output_type": "stream",
     "text": [
      "120  tokens : [{'type': 'start'}, {'value': 10, 'type': 'pitch'}, {'value': 17, 'type': 'velocity'}, {'value': 22, 'type': 'pitch'}, {'value': 20, 'type': 'velocity'}, {'value': 51, 'type': 'pitch'}, {'value': 23, 'type': 'velocity'}, {'value': 58, 'type': 'pitch'}, {'value': 23, 'type': 'velocity'}, {'type': 'next_frame'}]\n"
     ]
    },
    {
     "name": "stderr",
     "output_type": "stream",
     "text": [
      "100%|██████████| 119/119 [00:00<00:00, 124.27it/s]]\n"
     ]
    },
    {
     "name": "stdout",
     "output_type": "stream",
     "text": [
      "120  tokens : [{'type': 'start'}, {'value': 11, 'type': 'pitch'}, {'value': 19, 'type': 'velocity'}, {'value': 23, 'type': 'pitch'}, {'value': 20, 'type': 'velocity'}, {'type': 'next_frame'}, {'type': 'next_frame'}, {'value': 39, 'type': 'pitch'}, {'value': 21, 'type': 'velocity'}, {'type': 'next_frame'}]\n"
     ]
    },
    {
     "name": "stderr",
     "output_type": "stream",
     "text": [
      "100%|██████████| 119/119 [00:01<00:00, 116.42it/s]\n",
      " 32%|███▏      | 2503/7931 [05:23<24:13,  3.73it/s]"
     ]
    },
    {
     "name": "stdout",
     "output_type": "stream",
     "text": [
      "120  tokens : [{'type': 'start'}, {'value': 12, 'type': 'pitch'}, {'value': 19, 'type': 'velocity'}, {'value': 24, 'type': 'pitch'}, {'value': 21, 'type': 'velocity'}, {'value': 55, 'type': 'pitch'}, {'value': 23, 'type': 'velocity'}, {'value': 67, 'type': 'pitch'}, {'value': 22, 'type': 'velocity'}, {'type': 'next_frame'}]\n"
     ]
    },
    {
     "name": "stderr",
     "output_type": "stream",
     "text": [
      "100%|██████████| 119/119 [00:00<00:00, 129.68it/s]]\n"
     ]
    },
    {
     "name": "stdout",
     "output_type": "stream",
     "text": [
      "120  tokens : [{'type': 'start'}, {'value': 22, 'type': 'pitch'}, {'value': 16, 'type': 'velocity'}, {'value': 27, 'type': 'pitch'}, {'value': 17, 'type': 'velocity'}, {'type': 'next_frame'}, {'type': 'next_frame'}, {'type': 'next_frame'}, {'type': 'next_frame'}, {'value': 39, 'type': 'pitch'}]\n"
     ]
    },
    {
     "name": "stderr",
     "output_type": "stream",
     "text": [
      "100%|██████████| 119/119 [00:01<00:00, 116.42it/s]\n",
      " 38%|███▊      | 3003/7931 [06:24<26:07,  3.14it/s]"
     ]
    },
    {
     "name": "stdout",
     "output_type": "stream",
     "text": [
      "120  tokens : [{'type': 'start'}, {'value': 8, 'type': 'pitch'}, {'value': 21, 'type': 'velocity'}, {'value': 20, 'type': 'pitch'}, {'value': 21, 'type': 'velocity'}, {'value': 32, 'type': 'pitch'}, {'value': 21, 'type': 'velocity'}, {'value': 48, 'type': 'pitch'}, {'value': 24, 'type': 'velocity'}, {'value': 55, 'type': 'pitch'}]\n"
     ]
    },
    {
     "name": "stderr",
     "output_type": "stream",
     "text": [
      "100%|██████████| 119/119 [00:01<00:00, 110.94it/s]]\n"
     ]
    },
    {
     "name": "stdout",
     "output_type": "stream",
     "text": [
      "120  tokens : [{'type': 'start'}, {'value': 7, 'type': 'pitch'}, {'value': 10, 'type': 'velocity'}, {'value': 19, 'type': 'pitch'}, {'value': 12, 'type': 'velocity'}, {'value': 23, 'type': 'pitch'}, {'value': 13, 'type': 'velocity'}, {'type': 'next_frame'}, {'type': 'next_frame'}, {'value': 17, 'type': 'pitch'}]\n"
     ]
    },
    {
     "name": "stderr",
     "output_type": "stream",
     "text": [
      "100%|██████████| 119/119 [00:00<00:00, 145.29it/s]\n",
      " 44%|████▍     | 3503/7931 [07:25<20:03,  3.68it/s]"
     ]
    },
    {
     "name": "stdout",
     "output_type": "stream",
     "text": [
      "120  tokens : [{'type': 'start'}, {'value': 29, 'type': 'pitch'}, {'value': 18, 'type': 'velocity'}, {'value': 58, 'type': 'pitch'}, {'value': 21, 'type': 'velocity'}, {'type': 'next_frame'}, {'type': 'next_frame'}, {'value': 55, 'type': 'pitch'}, {'value': 18, 'type': 'velocity'}, {'type': 'next_frame'}]\n"
     ]
    },
    {
     "name": "stderr",
     "output_type": "stream",
     "text": [
      "100%|██████████| 119/119 [00:00<00:00, 121.04it/s]]\n"
     ]
    },
    {
     "name": "stdout",
     "output_type": "stream",
     "text": [
      "120  tokens : [{'type': 'start'}, {'value': 13, 'type': 'pitch'}, {'value': 21, 'type': 'velocity'}, {'value': 56, 'type': 'pitch'}, {'value': 27, 'type': 'velocity'}, {'type': 'next_frame'}, {'type': 'next_frame'}, {'value': 23, 'type': 'pitch'}, {'value': 16, 'type': 'velocity'}, {'type': 'next_frame'}]\n"
     ]
    },
    {
     "name": "stderr",
     "output_type": "stream",
     "text": [
      "100%|██████████| 119/119 [00:01<00:00, 108.02it/s]\n",
      " 50%|█████     | 4003/7931 [08:26<21:45,  3.01it/s]"
     ]
    },
    {
     "name": "stdout",
     "output_type": "stream",
     "text": [
      "120  tokens : [{'type': 'start'}, {'value': 46, 'type': 'pitch'}, {'value': 18, 'type': 'velocity'}, {'value': 70, 'type': 'pitch'}, {'value': 17, 'type': 'velocity'}, {'value': 82, 'type': 'pitch'}, {'value': 19, 'type': 'velocity'}, {'type': 'next_frame'}, {'type': 'next_frame'}, {'type': 'next_frame'}]\n"
     ]
    },
    {
     "name": "stderr",
     "output_type": "stream",
     "text": [
      "100%|██████████| 119/119 [00:01<00:00, 111.57it/s]]\n"
     ]
    },
    {
     "name": "stdout",
     "output_type": "stream",
     "text": [
      "120  tokens : [{'type': 'start'}, {'value': 24, 'type': 'pitch'}, {'value': 13, 'type': 'velocity'}, {'value': 55, 'type': 'pitch'}, {'value': 20, 'type': 'velocity'}, {'type': 'next_frame'}, {'value': 53, 'type': 'pitch'}, {'value': 21, 'type': 'velocity'}, {'type': 'next_frame'}, {'type': 'next_frame'}]\n"
     ]
    },
    {
     "name": "stderr",
     "output_type": "stream",
     "text": [
      "100%|██████████| 119/119 [00:01<00:00, 118.10it/s]\n",
      " 57%|█████▋    | 4503/7931 [09:26<17:45,  3.22it/s]"
     ]
    },
    {
     "name": "stdout",
     "output_type": "stream",
     "text": [
      "120  tokens : [{'type': 'start'}, {'value': 22, 'type': 'pitch'}, {'value': 16, 'type': 'velocity'}, {'value': 27, 'type': 'pitch'}, {'value': 17, 'type': 'velocity'}, {'value': 29, 'type': 'pitch'}, {'value': 16, 'type': 'velocity'}, {'value': 34, 'type': 'pitch'}, {'value': 17, 'type': 'velocity'}, {'type': 'next_frame'}]\n"
     ]
    },
    {
     "name": "stderr",
     "output_type": "stream",
     "text": [
      "100%|██████████| 119/119 [00:01<00:00, 118.39it/s]]\n"
     ]
    },
    {
     "name": "stdout",
     "output_type": "stream",
     "text": [
      "120  tokens : [{'type': 'start'}, {'value': 19, 'type': 'pitch'}, {'value': 19, 'type': 'velocity'}, {'value': 29, 'type': 'pitch'}, {'value': 17, 'type': 'velocity'}, {'value': 55, 'type': 'pitch'}, {'value': 22, 'type': 'velocity'}, {'value': 57, 'type': 'pitch'}, {'value': 20, 'type': 'velocity'}, {'value': 67, 'type': 'pitch'}]\n"
     ]
    },
    {
     "name": "stderr",
     "output_type": "stream",
     "text": [
      "100%|██████████| 119/119 [00:00<00:00, 122.54it/s]\n",
      " 63%|██████▎   | 5003/7931 [10:26<14:20,  3.40it/s]"
     ]
    },
    {
     "name": "stdout",
     "output_type": "stream",
     "text": [
      "120  tokens : [{'type': 'start'}, {'value': 20, 'type': 'pitch'}, {'value': 20, 'type': 'velocity'}, {'value': 51, 'type': 'pitch'}, {'value': 21, 'type': 'velocity'}, {'value': 60, 'type': 'pitch'}, {'value': 22, 'type': 'velocity'}, {'type': 'next_frame'}, {'type': 'next_frame'}, {'type': 'next_frame'}]\n"
     ]
    },
    {
     "name": "stderr",
     "output_type": "stream",
     "text": [
      "100%|██████████| 119/119 [00:01<00:00, 117.34it/s]]\n"
     ]
    },
    {
     "name": "stdout",
     "output_type": "stream",
     "text": [
      "120  tokens : [{'type': 'start'}, {'value': 53, 'type': 'pitch'}, {'value': 23, 'type': 'velocity'}, {'value': 56, 'type': 'pitch'}, {'value': 17, 'type': 'velocity'}, {'value': 59, 'type': 'pitch'}, {'value': 18, 'type': 'velocity'}, {'type': 'next_frame'}, {'type': 'next_frame'}, {'value': 13, 'type': 'pitch'}]\n"
     ]
    },
    {
     "name": "stderr",
     "output_type": "stream",
     "text": [
      "100%|██████████| 119/119 [00:00<00:00, 123.56it/s]\n",
      " 69%|██████▉   | 5505/7931 [11:26<10:12,  3.96it/s]"
     ]
    },
    {
     "name": "stdout",
     "output_type": "stream",
     "text": [
      "120  tokens : [{'type': 'start'}, {'value': 15, 'type': 'pitch'}, {'value': 18, 'type': 'velocity'}, {'value': 43, 'type': 'pitch'}, {'value': 17, 'type': 'velocity'}, {'value': 46, 'type': 'pitch'}, {'value': 19, 'type': 'velocity'}, {'type': 'next_frame'}, {'type': 'next_frame'}, {'value': 27, 'type': 'pitch'}]\n"
     ]
    },
    {
     "name": "stderr",
     "output_type": "stream",
     "text": [
      "100%|██████████| 119/119 [00:01<00:00, 114.68it/s]]\n"
     ]
    },
    {
     "name": "stdout",
     "output_type": "stream",
     "text": [
      "120  tokens : [{'type': 'start'}, {'value': 7, 'type': 'pitch'}, {'value': 21, 'type': 'velocity'}, {'value': 19, 'type': 'pitch'}, {'value': 22, 'type': 'velocity'}, {'value': 31, 'type': 'pitch'}, {'value': 22, 'type': 'velocity'}, {'value': 43, 'type': 'pitch'}, {'value': 23, 'type': 'velocity'}, {'value': 46, 'type': 'pitch'}]\n"
     ]
    },
    {
     "name": "stderr",
     "output_type": "stream",
     "text": [
      "100%|██████████| 119/119 [00:00<00:00, 127.53it/s]\n",
      " 76%|███████▌  | 6003/7931 [12:27<10:06,  3.18it/s]"
     ]
    },
    {
     "name": "stdout",
     "output_type": "stream",
     "text": [
      "120  tokens : [{'type': 'start'}, {'value': 15, 'type': 'pitch'}, {'value': 22, 'type': 'velocity'}, {'value': 27, 'type': 'pitch'}, {'value': 23, 'type': 'velocity'}, {'value': 46, 'type': 'pitch'}, {'value': 22, 'type': 'velocity'}, {'value': 53, 'type': 'pitch'}, {'value': 22, 'type': 'velocity'}, {'type': 'next_frame'}]\n"
     ]
    },
    {
     "name": "stderr",
     "output_type": "stream",
     "text": [
      "100%|██████████| 119/119 [00:00<00:00, 122.85it/s]]\n"
     ]
    },
    {
     "name": "stdout",
     "output_type": "stream",
     "text": [
      "120  tokens : [{'type': 'start'}, {'value': 29, 'type': 'pitch'}, {'value': 16, 'type': 'velocity'}, {'value': 38, 'type': 'pitch'}, {'value': 23, 'type': 'velocity'}, {'value': 48, 'type': 'pitch'}, {'value': 24, 'type': 'velocity'}, {'type': 'next_frame'}, {'type': 'next_frame'}, {'type': 'next_frame'}]\n"
     ]
    },
    {
     "name": "stderr",
     "output_type": "stream",
     "text": [
      "100%|██████████| 119/119 [00:00<00:00, 131.26it/s]\n",
      " 82%|████████▏ | 6503/7931 [13:29<07:30,  3.17it/s]"
     ]
    },
    {
     "name": "stdout",
     "output_type": "stream",
     "text": [
      "120  tokens : [{'type': 'start'}, {'value': 19, 'type': 'pitch'}, {'value': 21, 'type': 'velocity'}, {'value': 31, 'type': 'pitch'}, {'value': 22, 'type': 'velocity'}, {'value': 43, 'type': 'pitch'}, {'value': 22, 'type': 'velocity'}, {'value': 46, 'type': 'pitch'}, {'value': 22, 'type': 'velocity'}, {'value': 53, 'type': 'pitch'}]\n"
     ]
    },
    {
     "name": "stderr",
     "output_type": "stream",
     "text": [
      "100%|██████████| 119/119 [00:01<00:00, 108.46it/s]]\n"
     ]
    },
    {
     "name": "stdout",
     "output_type": "stream",
     "text": [
      "120  tokens : [{'type': 'start'}, {'value': 8, 'type': 'pitch'}, {'value': 22, 'type': 'velocity'}, {'value': 20, 'type': 'pitch'}, {'value': 24, 'type': 'velocity'}, {'type': 'next_frame'}, {'type': 'next_frame'}, {'type': 'next_frame'}, {'type': 'next_frame'}, {'value': 32, 'type': 'pitch'}]\n"
     ]
    },
    {
     "name": "stderr",
     "output_type": "stream",
     "text": [
      "100%|██████████| 119/119 [00:00<00:00, 129.83it/s]\n",
      " 88%|████████▊ | 7003/7931 [14:31<05:12,  2.97it/s]"
     ]
    },
    {
     "name": "stdout",
     "output_type": "stream",
     "text": [
      "120  tokens : [{'type': 'start'}, {'value': 12, 'type': 'pitch'}, {'value': 17, 'type': 'velocity'}, {'value': 51, 'type': 'pitch'}, {'value': 24, 'type': 'velocity'}, {'value': 60, 'type': 'pitch'}, {'value': 25, 'type': 'velocity'}, {'type': 'next_frame'}, {'type': 'next_frame'}, {'value': 19, 'type': 'pitch'}]\n"
     ]
    },
    {
     "name": "stderr",
     "output_type": "stream",
     "text": [
      "100%|██████████| 119/119 [00:00<00:00, 126.38it/s]]\n"
     ]
    },
    {
     "name": "stdout",
     "output_type": "stream",
     "text": [
      "120  tokens : [{'type': 'start'}, {'value': 9, 'type': 'pitch'}, {'value': 19, 'type': 'velocity'}, {'value': 63, 'type': 'pitch'}, {'value': 22, 'type': 'velocity'}, {'type': 'next_frame'}, {'type': 'next_frame'}, {'value': 21, 'type': 'pitch'}, {'value': 12, 'type': 'velocity'}, {'type': 'next_frame'}]\n"
     ]
    },
    {
     "name": "stderr",
     "output_type": "stream",
     "text": [
      "100%|██████████| 119/119 [00:01<00:00, 117.93it/s]\n",
      " 95%|█████████▍| 7504/7931 [15:31<02:01,  3.52it/s]"
     ]
    },
    {
     "name": "stdout",
     "output_type": "stream",
     "text": [
      "120  tokens : [{'type': 'start'}, {'value': 36, 'type': 'pitch'}, {'value': 14, 'type': 'velocity'}, {'value': 39, 'type': 'pitch'}, {'value': 14, 'type': 'velocity'}, {'value': 43, 'type': 'pitch'}, {'value': 14, 'type': 'velocity'}, {'value': 46, 'type': 'pitch'}, {'value': 16, 'type': 'velocity'}, {'value': 51, 'type': 'pitch'}]\n"
     ]
    },
    {
     "name": "stderr",
     "output_type": "stream",
     "text": [
      "100%|██████████| 7931/7931 [16:22<00:00,  8.07it/s]\n",
      "100%|██████████| 119/119 [00:00<00:00, 138.10it/s]\n"
     ]
    },
    {
     "name": "stdout",
     "output_type": "stream",
     "text": [
      "120  tokens : [{'type': 'start'}, {'value': 24, 'type': 'pitch'}, {'value': 21, 'type': 'velocity'}, {'value': 36, 'type': 'pitch'}, {'value': 21, 'type': 'velocity'}, {'value': 43, 'type': 'pitch'}, {'value': 25, 'type': 'velocity'}, {'value': 45, 'type': 'pitch'}, {'value': 20, 'type': 'velocity'}, {'value': 55, 'type': 'pitch'}]\n"
     ]
    },
    {
     "name": "stderr",
     "output_type": "stream",
     "text": [
      "100%|██████████| 119/119 [00:00<00:00, 169.84it/s]\n",
      "  0%|          | 3/7931 [00:21<12:18:47,  5.59s/it]"
     ]
    },
    {
     "name": "stdout",
     "output_type": "stream",
     "text": [
      "120  tokens : [{'type': 'start'}, {'value': 15, 'type': 'pitch'}, {'value': 21, 'type': 'velocity'}, {'value': 27, 'type': 'pitch'}, {'value': 22, 'type': 'velocity'}, {'value': 53, 'type': 'pitch'}, {'value': 23, 'type': 'velocity'}, {'type': 'next_frame'}, {'type': 'next_frame'}, {'type': 'next_frame'}]\n"
     ]
    },
    {
     "name": "stderr",
     "output_type": "stream",
     "text": [
      "100%|██████████| 119/119 [00:00<00:00, 131.36it/s] \n"
     ]
    },
    {
     "name": "stdout",
     "output_type": "stream",
     "text": [
      "120  tokens : [{'type': 'start'}, {'value': 45, 'type': 'pitch'}, {'value': 17, 'type': 'velocity'}, {'value': 49, 'type': 'pitch'}, {'value': 16, 'type': 'velocity'}, {'type': 'next_frame'}, {'type': 'next_frame'}, {'value': 33, 'type': 'pitch'}, {'value': 21, 'type': 'velocity'}, {'type': 'next_frame'}]\n"
     ]
    },
    {
     "name": "stderr",
     "output_type": "stream",
     "text": [
      "100%|██████████| 119/119 [00:01<00:00, 114.68it/s]\n",
      "  6%|▋         | 504/7931 [01:19<38:08,  3.25it/s]"
     ]
    },
    {
     "name": "stdout",
     "output_type": "stream",
     "text": [
      "120  tokens : [{'type': 'start'}, {'value': 22, 'type': 'pitch'}, {'value': 18, 'type': 'velocity'}, {'value': 53, 'type': 'pitch'}, {'value': 20, 'type': 'velocity'}, {'type': 'next_frame'}, {'value': 50, 'type': 'pitch'}, {'value': 18, 'type': 'velocity'}, {'type': 'next_frame'}, {'value': 46, 'type': 'pitch'}]\n"
     ]
    },
    {
     "name": "stderr",
     "output_type": "stream",
     "text": [
      "100%|██████████| 119/119 [00:00<00:00, 124.07it/s]]\n"
     ]
    },
    {
     "name": "stdout",
     "output_type": "stream",
     "text": [
      "120  tokens : [{'type': 'start'}, {'value': 32, 'type': 'pitch'}, {'value': 18, 'type': 'velocity'}, {'type': 'next_frame'}, {'type': 'next_frame'}, {'type': 'next_frame'}, {'value': 27, 'type': 'pitch'}, {'value': 15, 'type': 'velocity'}, {'value': 60, 'type': 'pitch'}, {'value': 15, 'type': 'velocity'}]\n"
     ]
    },
    {
     "name": "stderr",
     "output_type": "stream",
     "text": [
      "100%|██████████| 119/119 [00:00<00:00, 124.65it/s]\n",
      " 13%|█▎        | 1003/7931 [02:19<38:11,  3.02it/s]"
     ]
    },
    {
     "name": "stdout",
     "output_type": "stream",
     "text": [
      "120  tokens : [{'type': 'start'}, {'value': 22, 'type': 'pitch'}, {'value': 21, 'type': 'velocity'}, {'value': 46, 'type': 'pitch'}, {'value': 19, 'type': 'velocity'}, {'value': 53, 'type': 'pitch'}, {'value': 23, 'type': 'velocity'}, {'type': 'next_frame'}, {'type': 'next_frame'}, {'value': 29, 'type': 'pitch'}]\n"
     ]
    },
    {
     "name": "stderr",
     "output_type": "stream",
     "text": [
      "100%|██████████| 119/119 [00:01<00:00, 116.31it/s]]\n"
     ]
    },
    {
     "name": "stdout",
     "output_type": "stream",
     "text": [
      "120  tokens : [{'type': 'start'}, {'value': 17, 'type': 'pitch'}, {'value': 13, 'type': 'velocity'}, {'value': 20, 'type': 'pitch'}, {'value': 15, 'type': 'velocity'}, {'value': 42, 'type': 'pitch'}, {'value': 20, 'type': 'velocity'}, {'value': 51, 'type': 'pitch'}, {'value': 9, 'type': 'velocity'}, {'value': 53, 'type': 'pitch'}]\n"
     ]
    },
    {
     "name": "stderr",
     "output_type": "stream",
     "text": [
      "100%|██████████| 119/119 [00:00<00:00, 131.29it/s]\n",
      " 19%|█▉        | 1503/7931 [03:19<32:36,  3.29it/s]"
     ]
    },
    {
     "name": "stdout",
     "output_type": "stream",
     "text": [
      "120  tokens : [{'type': 'start'}, {'value': 14, 'type': 'pitch'}, {'value': 20, 'type': 'velocity'}, {'value': 26, 'type': 'pitch'}, {'value': 22, 'type': 'velocity'}, {'value': 50, 'type': 'pitch'}, {'value': 24, 'type': 'velocity'}, {'value': 62, 'type': 'pitch'}, {'value': 23, 'type': 'velocity'}, {'type': 'next_frame'}]\n"
     ]
    },
    {
     "name": "stderr",
     "output_type": "stream",
     "text": [
      "100%|██████████| 119/119 [00:00<00:00, 119.76it/s]]\n"
     ]
    },
    {
     "name": "stdout",
     "output_type": "stream",
     "text": [
      "120  tokens : [{'type': 'start'}, {'value': 55, 'type': 'pitch'}, {'value': 22, 'type': 'velocity'}, {'type': 'next_frame'}, {'value': 27, 'type': 'pitch'}, {'value': 20, 'type': 'velocity'}, {'type': 'next_frame'}, {'value': 65, 'type': 'pitch'}, {'value': 18, 'type': 'velocity'}, {'type': 'next_frame'}]\n"
     ]
    },
    {
     "name": "stderr",
     "output_type": "stream",
     "text": [
      "100%|██████████| 119/119 [00:00<00:00, 124.91it/s]\n",
      " 25%|██▌       | 2003/7931 [04:19<32:33,  3.03it/s]"
     ]
    },
    {
     "name": "stdout",
     "output_type": "stream",
     "text": [
      "120  tokens : [{'type': 'start'}, {'value': 27, 'type': 'pitch'}, {'value': 22, 'type': 'velocity'}, {'value': 51, 'type': 'pitch'}, {'value': 23, 'type': 'velocity'}, {'type': 'next_frame'}, {'type': 'next_frame'}, {'type': 'next_frame'}, {'type': 'next_frame'}, {'value': 34, 'type': 'pitch'}]\n"
     ]
    },
    {
     "name": "stderr",
     "output_type": "stream",
     "text": [
      "100%|██████████| 119/119 [00:01<00:00, 113.81it/s]]\n"
     ]
    },
    {
     "name": "stdout",
     "output_type": "stream",
     "text": [
      "120  tokens : [{'type': 'start'}, {'value': 63, 'type': 'pitch'}, {'value': 17, 'type': 'velocity'}, {'type': 'next_frame'}, {'type': 'next_frame'}, {'type': 'next_frame'}, {'type': 'next_frame'}, {'value': 31, 'type': 'pitch'}, {'value': 14, 'type': 'velocity'}, {'value': 51, 'type': 'pitch'}]\n"
     ]
    },
    {
     "name": "stderr",
     "output_type": "stream",
     "text": [
      "100%|██████████| 119/119 [00:01<00:00, 118.68it/s]\n",
      " 32%|███▏      | 2502/7931 [05:21<34:29,  2.62it/s]"
     ]
    },
    {
     "name": "stdout",
     "output_type": "stream",
     "text": [
      "120  tokens : [{'type': 'start'}, {'type': 'next_frame'}, {'type': 'next_frame'}, {'type': 'next_frame'}, {'type': 'next_frame'}, {'value': 45, 'type': 'pitch'}, {'value': 23, 'type': 'velocity'}, {'type': 'next_frame'}, {'type': 'next_frame'}, {'type': 'next_frame'}]\n"
     ]
    },
    {
     "name": "stderr",
     "output_type": "stream",
     "text": [
      "100%|██████████| 119/119 [00:00<00:00, 127.05it/s]]\n"
     ]
    },
    {
     "name": "stdout",
     "output_type": "stream",
     "text": [
      "120  tokens : [{'type': 'start'}, {'value': 15, 'type': 'pitch'}, {'value': 21, 'type': 'velocity'}, {'value': 73, 'type': 'pitch'}, {'value': 25, 'type': 'velocity'}, {'type': 'next_frame'}, {'type': 'next_frame'}, {'value': 73, 'type': 'pitch'}, {'value': 22, 'type': 'velocity'}, {'type': 'next_frame'}]\n"
     ]
    },
    {
     "name": "stderr",
     "output_type": "stream",
     "text": [
      "100%|██████████| 119/119 [00:01<00:00, 117.86it/s]\n",
      " 38%|███▊      | 3003/7931 [06:22<26:55,  3.05it/s]"
     ]
    },
    {
     "name": "stdout",
     "output_type": "stream",
     "text": [
      "120  tokens : [{'type': 'start'}, {'value': 20, 'type': 'pitch'}, {'value': 15, 'type': 'velocity'}, {'value': 44, 'type': 'pitch'}, {'value': 15, 'type': 'velocity'}, {'value': 50, 'type': 'pitch'}, {'value': 22, 'type': 'velocity'}, {'type': 'next_frame'}, {'type': 'next_frame'}, {'value': 27, 'type': 'pitch'}]\n"
     ]
    },
    {
     "name": "stderr",
     "output_type": "stream",
     "text": [
      "100%|██████████| 119/119 [00:00<00:00, 126.65it/s]]\n"
     ]
    },
    {
     "name": "stdout",
     "output_type": "stream",
     "text": [
      "120  tokens : [{'type': 'start'}, {'value': 15, 'type': 'pitch'}, {'value': 21, 'type': 'velocity'}, {'value': 29, 'type': 'pitch'}, {'value': 23, 'type': 'velocity'}, {'value': 41, 'type': 'pitch'}, {'value': 22, 'type': 'velocity'}, {'value': 44, 'type': 'pitch'}, {'value': 24, 'type': 'velocity'}, {'value': 63, 'type': 'pitch'}]\n"
     ]
    },
    {
     "name": "stderr",
     "output_type": "stream",
     "text": [
      "100%|██████████| 119/119 [00:01<00:00, 116.57it/s]\n",
      " 44%|████▍     | 3503/7931 [07:24<21:45,  3.39it/s]"
     ]
    },
    {
     "name": "stdout",
     "output_type": "stream",
     "text": [
      "120  tokens : [{'type': 'start'}, {'value': 10, 'type': 'pitch'}, {'value': 22, 'type': 'velocity'}, {'type': 'next_frame'}, {'type': 'next_frame'}, {'type': 'next_frame'}, {'type': 'next_frame'}, {'value': 22, 'type': 'pitch'}, {'value': 23, 'type': 'velocity'}, {'type': 'next_frame'}]\n"
     ]
    },
    {
     "name": "stderr",
     "output_type": "stream",
     "text": [
      "100%|██████████| 119/119 [00:01<00:00, 114.18it/s]]\n"
     ]
    },
    {
     "name": "stdout",
     "output_type": "stream",
     "text": [
      "120  tokens : [{'type': 'start'}, {'value': 15, 'type': 'pitch'}, {'value': 16, 'type': 'velocity'}, {'value': 56, 'type': 'pitch'}, {'value': 26, 'type': 'velocity'}, {'value': 68, 'type': 'pitch'}, {'value': 25, 'type': 'velocity'}, {'type': 'next_frame'}, {'type': 'next_frame'}, {'value': 22, 'type': 'pitch'}]\n"
     ]
    },
    {
     "name": "stderr",
     "output_type": "stream",
     "text": [
      "100%|██████████| 119/119 [00:01<00:00, 108.41it/s]\n",
      " 50%|█████     | 4003/7931 [08:24<19:47,  3.31it/s]"
     ]
    },
    {
     "name": "stdout",
     "output_type": "stream",
     "text": [
      "120  tokens : [{'type': 'start'}, {'value': 29, 'type': 'pitch'}, {'value': 17, 'type': 'velocity'}, {'value': 56, 'type': 'pitch'}, {'value': 20, 'type': 'velocity'}, {'type': 'next_frame'}, {'type': 'next_frame'}, {'value': 36, 'type': 'pitch'}, {'value': 18, 'type': 'velocity'}, {'value': 56, 'type': 'pitch'}]\n"
     ]
    },
    {
     "name": "stderr",
     "output_type": "stream",
     "text": [
      "100%|██████████| 119/119 [00:00<00:00, 121.04it/s]]\n"
     ]
    },
    {
     "name": "stdout",
     "output_type": "stream",
     "text": [
      "120  tokens : [{'type': 'start'}, {'value': 14, 'type': 'pitch'}, {'value': 11, 'type': 'velocity'}, {'value': 44, 'type': 'pitch'}, {'value': 17, 'type': 'velocity'}, {'value': 56, 'type': 'pitch'}, {'value': 19, 'type': 'velocity'}, {'type': 'next_frame'}, {'type': 'next_frame'}, {'type': 'next_frame'}]\n"
     ]
    },
    {
     "name": "stderr",
     "output_type": "stream",
     "text": [
      "100%|██████████| 119/119 [00:01<00:00, 113.26it/s]\n",
      " 57%|█████▋    | 4503/7931 [09:25<16:05,  3.55it/s]"
     ]
    },
    {
     "name": "stdout",
     "output_type": "stream",
     "text": [
      "120  tokens : [{'type': 'start'}, {'value': 12, 'type': 'pitch'}, {'value': 20, 'type': 'velocity'}, {'value': 24, 'type': 'pitch'}, {'value': 22, 'type': 'velocity'}, {'value': 55, 'type': 'pitch'}, {'value': 22, 'type': 'velocity'}, {'type': 'next_frame'}, {'type': 'next_frame'}, {'value': 53, 'type': 'pitch'}]\n"
     ]
    },
    {
     "name": "stderr",
     "output_type": "stream",
     "text": [
      "100%|██████████| 119/119 [00:00<00:00, 123.98it/s]]\n"
     ]
    },
    {
     "name": "stdout",
     "output_type": "stream",
     "text": [
      "120  tokens : [{'type': 'start'}, {'value': 24, 'type': 'pitch'}, {'value': 18, 'type': 'velocity'}, {'value': 36, 'type': 'pitch'}, {'value': 17, 'type': 'velocity'}, {'value': 58, 'type': 'pitch'}, {'value': 22, 'type': 'velocity'}, {'value': 70, 'type': 'pitch'}, {'value': 21, 'type': 'velocity'}, {'type': 'next_frame'}]\n"
     ]
    },
    {
     "name": "stderr",
     "output_type": "stream",
     "text": [
      "100%|██████████| 119/119 [00:00<00:00, 124.96it/s]\n",
      " 63%|██████▎   | 5003/7931 [10:25<15:28,  3.15it/s]"
     ]
    },
    {
     "name": "stdout",
     "output_type": "stream",
     "text": [
      "120  tokens : [{'type': 'start'}, {'value': 15, 'type': 'pitch'}, {'value': 15, 'type': 'velocity'}, {'value': 22, 'type': 'pitch'}, {'value': 16, 'type': 'velocity'}, {'value': 27, 'type': 'pitch'}, {'value': 15, 'type': 'velocity'}, {'value': 48, 'type': 'pitch'}, {'value': 21, 'type': 'velocity'}, {'value': 60, 'type': 'pitch'}]\n"
     ]
    },
    {
     "name": "stderr",
     "output_type": "stream",
     "text": [
      "100%|██████████| 119/119 [00:00<00:00, 122.29it/s]]\n"
     ]
    },
    {
     "name": "stdout",
     "output_type": "stream",
     "text": [
      "120  tokens : [{'type': 'start'}, {'value': 24, 'type': 'pitch'}, {'value': 23, 'type': 'velocity'}, {'value': 55, 'type': 'pitch'}, {'value': 24, 'type': 'velocity'}, {'value': 60, 'type': 'pitch'}, {'value': 25, 'type': 'velocity'}, {'value': 63, 'type': 'pitch'}, {'value': 25, 'type': 'velocity'}, {'type': 'next_frame'}]\n"
     ]
    },
    {
     "name": "stderr",
     "output_type": "stream",
     "text": [
      "100%|██████████| 119/119 [00:00<00:00, 121.14it/s]\n",
      " 69%|██████▉   | 5504/7931 [11:26<12:54,  3.13it/s]"
     ]
    },
    {
     "name": "stdout",
     "output_type": "stream",
     "text": [
      "120  tokens : [{'type': 'start'}, {'value': 24, 'type': 'pitch'}, {'value': 20, 'type': 'velocity'}, {'value': 60, 'type': 'pitch'}, {'value': 21, 'type': 'velocity'}, {'value': 62, 'type': 'pitch'}, {'value': 23, 'type': 'velocity'}, {'type': 'next_frame'}, {'type': 'next_frame'}, {'type': 'next_frame'}]\n"
     ]
    },
    {
     "name": "stderr",
     "output_type": "stream",
     "text": [
      "100%|██████████| 119/119 [00:01<00:00, 117.75it/s]]\n"
     ]
    },
    {
     "name": "stdout",
     "output_type": "stream",
     "text": [
      "120  tokens : [{'type': 'start'}, {'value': 15, 'type': 'pitch'}, {'value': 20, 'type': 'velocity'}, {'value': 27, 'type': 'pitch'}, {'value': 22, 'type': 'velocity'}, {'type': 'next_frame'}, {'value': 42, 'type': 'pitch'}, {'value': 23, 'type': 'velocity'}, {'value': 54, 'type': 'pitch'}, {'value': 20, 'type': 'velocity'}]\n"
     ]
    },
    {
     "name": "stderr",
     "output_type": "stream",
     "text": [
      "100%|██████████| 119/119 [00:00<00:00, 133.76it/s]\n",
      " 76%|███████▌  | 6005/7931 [12:28<08:46,  3.66it/s]"
     ]
    },
    {
     "name": "stdout",
     "output_type": "stream",
     "text": [
      "120  tokens : [{'type': 'start'}, {'value': 17, 'type': 'pitch'}, {'value': 20, 'type': 'velocity'}, {'value': 29, 'type': 'pitch'}, {'value': 24, 'type': 'velocity'}, {'value': 51, 'type': 'pitch'}, {'value': 23, 'type': 'velocity'}, {'value': 55, 'type': 'pitch'}, {'value': 21, 'type': 'velocity'}, {'value': 60, 'type': 'pitch'}]\n"
     ]
    },
    {
     "name": "stderr",
     "output_type": "stream",
     "text": [
      "100%|██████████| 119/119 [00:01<00:00, 116.65it/s]]\n"
     ]
    },
    {
     "name": "stdout",
     "output_type": "stream",
     "text": [
      "120  tokens : [{'type': 'start'}, {'value': 12, 'type': 'pitch'}, {'value': 22, 'type': 'velocity'}, {'value': 24, 'type': 'pitch'}, {'value': 23, 'type': 'velocity'}, {'value': 46, 'type': 'pitch'}, {'value': 22, 'type': 'velocity'}, {'type': 'next_frame'}, {'type': 'next_frame'}, {'type': 'next_frame'}]\n"
     ]
    },
    {
     "name": "stderr",
     "output_type": "stream",
     "text": [
      "100%|██████████| 119/119 [00:01<00:00, 117.62it/s]\n",
      " 82%|████████▏ | 6503/7931 [13:29<09:06,  2.61it/s]"
     ]
    },
    {
     "name": "stdout",
     "output_type": "stream",
     "text": [
      "120  tokens : [{'type': 'start'}, {'value': 14, 'type': 'pitch'}, {'value': 20, 'type': 'velocity'}, {'value': 26, 'type': 'pitch'}, {'value': 22, 'type': 'velocity'}, {'value': 45, 'type': 'pitch'}, {'value': 22, 'type': 'velocity'}, {'value': 50, 'type': 'pitch'}, {'value': 21, 'type': 'velocity'}, {'value': 54, 'type': 'pitch'}]\n"
     ]
    },
    {
     "name": "stderr",
     "output_type": "stream",
     "text": [
      "100%|██████████| 119/119 [00:01<00:00, 118.57it/s]]\n"
     ]
    },
    {
     "name": "stdout",
     "output_type": "stream",
     "text": [
      "120  tokens : [{'type': 'start'}, {'value': 59, 'type': 'pitch'}, {'value': 16, 'type': 'velocity'}, {'value': 80, 'type': 'pitch'}, {'value': 23, 'type': 'velocity'}, {'type': 'next_frame'}, {'type': 'next_frame'}, {'type': 'next_frame'}, {'type': 'next_frame'}, {'type': 'next_frame'}]\n"
     ]
    },
    {
     "name": "stderr",
     "output_type": "stream",
     "text": [
      "100%|██████████| 119/119 [00:00<00:00, 121.01it/s]\n",
      " 88%|████████▊ | 7003/7931 [14:29<04:48,  3.22it/s]"
     ]
    },
    {
     "name": "stdout",
     "output_type": "stream",
     "text": [
      "120  tokens : [{'type': 'start'}, {'value': 15, 'type': 'pitch'}, {'value': 21, 'type': 'velocity'}, {'value': 27, 'type': 'pitch'}, {'value': 24, 'type': 'velocity'}, {'value': 41, 'type': 'pitch'}, {'value': 22, 'type': 'velocity'}, {'value': 46, 'type': 'pitch'}, {'value': 22, 'type': 'velocity'}, {'value': 51, 'type': 'pitch'}]\n"
     ]
    },
    {
     "name": "stderr",
     "output_type": "stream",
     "text": [
      "100%|██████████| 119/119 [00:00<00:00, 126.64it/s]]\n"
     ]
    },
    {
     "name": "stdout",
     "output_type": "stream",
     "text": [
      "120  tokens : [{'type': 'start'}, {'value': 12, 'type': 'pitch'}, {'value': 14, 'type': 'velocity'}, {'value': 24, 'type': 'pitch'}, {'value': 13, 'type': 'velocity'}, {'value': 63, 'type': 'pitch'}, {'value': 20, 'type': 'velocity'}, {'type': 'next_frame'}, {'type': 'next_frame'}, {'type': 'next_frame'}]\n"
     ]
    },
    {
     "name": "stderr",
     "output_type": "stream",
     "text": [
      "100%|██████████| 119/119 [00:01<00:00, 117.51it/s]\n",
      " 95%|█████████▍| 7503/7931 [15:31<02:46,  2.57it/s]"
     ]
    },
    {
     "name": "stdout",
     "output_type": "stream",
     "text": [
      "120  tokens : [{'type': 'start'}, {'value': 11, 'type': 'pitch'}, {'value': 20, 'type': 'velocity'}, {'type': 'next_frame'}, {'type': 'next_frame'}, {'type': 'next_frame'}, {'type': 'next_frame'}, {'value': 18, 'type': 'pitch'}, {'value': 19, 'type': 'velocity'}, {'value': 23, 'type': 'pitch'}]\n"
     ]
    },
    {
     "name": "stderr",
     "output_type": "stream",
     "text": [
      "100%|██████████| 7931/7931 [16:21<00:00,  8.08it/s]\n",
      "100%|██████████| 119/119 [00:00<00:00, 147.26it/s]\n"
     ]
    },
    {
     "name": "stdout",
     "output_type": "stream",
     "text": [
      "120  tokens : [{'type': 'start'}, {'value': 46, 'type': 'pitch'}, {'value': 17, 'type': 'velocity'}, {'type': 'next_frame'}, {'type': 'next_frame'}, {'value': 51, 'type': 'pitch'}, {'value': 21, 'type': 'velocity'}, {'value': 70, 'type': 'pitch'}, {'value': 22, 'type': 'velocity'}, {'type': 'next_frame'}]\n"
     ]
    },
    {
     "name": "stderr",
     "output_type": "stream",
     "text": [
      "100%|██████████| 119/119 [00:00<00:00, 139.54it/s]\n",
      "  0%|          | 2/7931 [00:20<18:51:16,  8.56s/it]"
     ]
    },
    {
     "name": "stdout",
     "output_type": "stream",
     "text": [
      "120  tokens : [{'type': 'start'}, {'value': 20, 'type': 'pitch'}, {'value': 18, 'type': 'velocity'}, {'value': 32, 'type': 'pitch'}, {'value': 21, 'type': 'velocity'}, {'type': 'next_frame'}, {'type': 'next_frame'}, {'type': 'next_frame'}, {'type': 'next_frame'}, {'type': 'next_frame'}]\n"
     ]
    },
    {
     "name": "stderr",
     "output_type": "stream",
     "text": [
      "100%|██████████| 119/119 [00:00<00:00, 125.37it/s] \n"
     ]
    },
    {
     "name": "stdout",
     "output_type": "stream",
     "text": [
      "120  tokens : [{'type': 'start'}, {'value': 7, 'type': 'pitch'}, {'value': 22, 'type': 'velocity'}, {'value': 12, 'type': 'pitch'}, {'value': 20, 'type': 'velocity'}, {'value': 19, 'type': 'pitch'}, {'value': 19, 'type': 'velocity'}, {'value': 24, 'type': 'pitch'}, {'value': 21, 'type': 'velocity'}, {'value': 43, 'type': 'pitch'}]\n"
     ]
    },
    {
     "name": "stderr",
     "output_type": "stream",
     "text": [
      "100%|██████████| 119/119 [00:00<00:00, 124.72it/s]\n",
      "  6%|▋         | 504/7931 [01:21<38:39,  3.20it/s]"
     ]
    },
    {
     "name": "stdout",
     "output_type": "stream",
     "text": [
      "120  tokens : [{'type': 'start'}, {'value': 8, 'type': 'pitch'}, {'value': 22, 'type': 'velocity'}, {'value': 56, 'type': 'pitch'}, {'value': 24, 'type': 'velocity'}, {'value': 60, 'type': 'pitch'}, {'value': 23, 'type': 'velocity'}, {'type': 'next_frame'}, {'type': 'next_frame'}, {'type': 'next_frame'}]\n"
     ]
    },
    {
     "name": "stderr",
     "output_type": "stream",
     "text": [
      "100%|██████████| 119/119 [00:00<00:00, 130.82it/s]\n"
     ]
    },
    {
     "name": "stdout",
     "output_type": "stream",
     "text": [
      "120  tokens : [{'type': 'start'}, {'value': 19, 'type': 'pitch'}, {'value': 18, 'type': 'velocity'}, {'value': 48, 'type': 'pitch'}, {'value': 24, 'type': 'velocity'}, {'value': 60, 'type': 'pitch'}, {'value': 23, 'type': 'velocity'}, {'type': 'next_frame'}, {'value': 50, 'type': 'pitch'}, {'value': 11, 'type': 'velocity'}]\n"
     ]
    },
    {
     "name": "stderr",
     "output_type": "stream",
     "text": [
      "100%|██████████| 119/119 [00:01<00:00, 112.04it/s]\n",
      " 13%|█▎        | 1004/7931 [02:21<32:30,  3.55it/s]"
     ]
    },
    {
     "name": "stdout",
     "output_type": "stream",
     "text": [
      "120  tokens : [{'type': 'start'}, {'value': 20, 'type': 'pitch'}, {'value': 17, 'type': 'velocity'}, {'type': 'next_frame'}, {'type': 'next_frame'}, {'type': 'next_frame'}, {'type': 'next_frame'}, {'value': 27, 'type': 'pitch'}, {'value': 17, 'type': 'velocity'}, {'type': 'next_frame'}]\n"
     ]
    },
    {
     "name": "stderr",
     "output_type": "stream",
     "text": [
      "100%|██████████| 119/119 [00:01<00:00, 116.47it/s]]\n"
     ]
    },
    {
     "name": "stdout",
     "output_type": "stream",
     "text": [
      "120  tokens : [{'type': 'start'}, {'value': 17, 'type': 'pitch'}, {'value': 17, 'type': 'velocity'}, {'value': 57, 'type': 'pitch'}, {'value': 21, 'type': 'velocity'}, {'type': 'next_frame'}, {'type': 'next_frame'}, {'type': 'next_frame'}, {'type': 'next_frame'}, {'value': 33, 'type': 'pitch'}]\n"
     ]
    },
    {
     "name": "stderr",
     "output_type": "stream",
     "text": [
      "100%|██████████| 119/119 [00:01<00:00, 106.67it/s]\n",
      " 19%|█▉        | 1502/7931 [03:22<42:26,  2.52it/s]"
     ]
    },
    {
     "name": "stdout",
     "output_type": "stream",
     "text": [
      "120  tokens : [{'type': 'start'}, {'value': 36, 'type': 'pitch'}, {'value': 18, 'type': 'velocity'}, {'value': 63, 'type': 'pitch'}, {'value': 21, 'type': 'velocity'}, {'type': 'next_frame'}, {'type': 'next_frame'}, {'value': 62, 'type': 'pitch'}, {'value': 20, 'type': 'velocity'}, {'type': 'next_frame'}]\n"
     ]
    },
    {
     "name": "stderr",
     "output_type": "stream",
     "text": [
      "100%|██████████| 119/119 [00:01<00:00, 106.76it/s]]\n"
     ]
    },
    {
     "name": "stdout",
     "output_type": "stream",
     "text": [
      "120  tokens : [{'type': 'start'}, {'value': 15, 'type': 'pitch'}, {'value': 17, 'type': 'velocity'}, {'value': 74, 'type': 'pitch'}, {'value': 20, 'type': 'velocity'}, {'type': 'next_frame'}, {'type': 'next_frame'}, {'type': 'next_frame'}, {'value': 79, 'type': 'pitch'}, {'value': 22, 'type': 'velocity'}]\n"
     ]
    },
    {
     "name": "stderr",
     "output_type": "stream",
     "text": [
      "100%|██████████| 119/119 [00:00<00:00, 137.32it/s]\n",
      " 25%|██▌       | 2004/7931 [04:23<29:57,  3.30it/s]"
     ]
    },
    {
     "name": "stdout",
     "output_type": "stream",
     "text": [
      "120  tokens : [{'type': 'start'}, {'value': 24, 'type': 'pitch'}, {'value': 13, 'type': 'velocity'}, {'value': 43, 'type': 'pitch'}, {'value': 13, 'type': 'velocity'}, {'value': 51, 'type': 'pitch'}, {'value': 18, 'type': 'velocity'}, {'type': 'next_frame'}, {'type': 'next_frame'}, {'type': 'next_frame'}]\n"
     ]
    },
    {
     "name": "stderr",
     "output_type": "stream",
     "text": [
      "100%|██████████| 119/119 [00:01<00:00, 115.29it/s]]\n"
     ]
    },
    {
     "name": "stdout",
     "output_type": "stream",
     "text": [
      "120  tokens : [{'type': 'start'}, {'value': 24, 'type': 'pitch'}, {'value': 11, 'type': 'velocity'}, {'value': 28, 'type': 'pitch'}, {'value': 12, 'type': 'velocity'}, {'value': 31, 'type': 'pitch'}, {'value': 13, 'type': 'velocity'}, {'value': 36, 'type': 'pitch'}, {'value': 17, 'type': 'velocity'}, {'type': 'next_frame'}]\n"
     ]
    },
    {
     "name": "stderr",
     "output_type": "stream",
     "text": [
      "100%|██████████| 119/119 [00:00<00:00, 121.41it/s]\n",
      " 32%|███▏      | 2502/7931 [05:23<28:58,  3.12it/s]"
     ]
    },
    {
     "name": "stdout",
     "output_type": "stream",
     "text": [
      "120  tokens : [{'type': 'start'}, {'value': 15, 'type': 'pitch'}, {'value': 23, 'type': 'velocity'}, {'type': 'next_frame'}, {'type': 'next_frame'}, {'type': 'next_frame'}, {'value': 34, 'type': 'pitch'}, {'value': 21, 'type': 'velocity'}, {'type': 'next_frame'}, {'value': 39, 'type': 'pitch'}]\n"
     ]
    },
    {
     "name": "stderr",
     "output_type": "stream",
     "text": [
      "100%|██████████| 119/119 [00:00<00:00, 123.04it/s]]\n"
     ]
    },
    {
     "name": "stdout",
     "output_type": "stream",
     "text": [
      "120  tokens : [{'type': 'start'}, {'value': 34, 'type': 'pitch'}, {'value': 21, 'type': 'velocity'}, {'type': 'next_frame'}, {'type': 'next_frame'}, {'type': 'next_frame'}, {'type': 'next_frame'}, {'value': 17, 'type': 'pitch'}, {'value': 13, 'type': 'velocity'}, {'value': 29, 'type': 'pitch'}]\n"
     ]
    },
    {
     "name": "stderr",
     "output_type": "stream",
     "text": [
      "100%|██████████| 119/119 [00:00<00:00, 123.24it/s]\n",
      " 38%|███▊      | 3004/7931 [06:24<24:57,  3.29it/s]"
     ]
    },
    {
     "name": "stdout",
     "output_type": "stream",
     "text": [
      "120  tokens : [{'type': 'start'}, {'value': 28, 'type': 'pitch'}, {'value': 21, 'type': 'velocity'}, {'value': 40, 'type': 'pitch'}, {'value': 19, 'type': 'velocity'}, {'value': 55, 'type': 'pitch'}, {'value': 22, 'type': 'velocity'}, {'type': 'next_frame'}, {'type': 'next_frame'}, {'value': 36, 'type': 'pitch'}]\n"
     ]
    },
    {
     "name": "stderr",
     "output_type": "stream",
     "text": [
      "100%|██████████| 119/119 [00:00<00:00, 122.91it/s]]\n"
     ]
    },
    {
     "name": "stdout",
     "output_type": "stream",
     "text": [
      "120  tokens : [{'type': 'start'}, {'value': 12, 'type': 'pitch'}, {'value': 17, 'type': 'velocity'}, {'value': 24, 'type': 'pitch'}, {'value': 18, 'type': 'velocity'}, {'value': 62, 'type': 'pitch'}, {'value': 19, 'type': 'velocity'}, {'type': 'next_frame'}, {'type': 'next_frame'}, {'value': 19, 'type': 'pitch'}]\n"
     ]
    },
    {
     "name": "stderr",
     "output_type": "stream",
     "text": [
      "100%|██████████| 119/119 [00:01<00:00, 107.53it/s]\n",
      " 44%|████▍     | 3503/7931 [07:23<21:02,  3.51it/s]"
     ]
    },
    {
     "name": "stdout",
     "output_type": "stream",
     "text": [
      "120  tokens : [{'type': 'start'}, {'type': 'next_frame'}, {'value': 82, 'type': 'pitch'}, {'value': 14, 'type': 'velocity'}, {'type': 'next_frame'}, {'type': 'next_frame'}, {'value': 74, 'type': 'pitch'}, {'value': 15, 'type': 'velocity'}, {'type': 'next_frame'}, {'value': 84, 'type': 'pitch'}]\n"
     ]
    },
    {
     "name": "stderr",
     "output_type": "stream",
     "text": [
      "100%|██████████| 119/119 [00:01<00:00, 114.35it/s]]\n"
     ]
    },
    {
     "name": "stdout",
     "output_type": "stream",
     "text": [
      "120  tokens : [{'type': 'start'}, {'value': 23, 'type': 'pitch'}, {'value': 20, 'type': 'velocity'}, {'value': 35, 'type': 'pitch'}, {'value': 21, 'type': 'velocity'}, {'type': 'next_frame'}, {'type': 'next_frame'}, {'type': 'next_frame'}, {'type': 'next_frame'}, {'value': 24, 'type': 'pitch'}]\n"
     ]
    },
    {
     "name": "stderr",
     "output_type": "stream",
     "text": [
      "100%|██████████| 119/119 [00:00<00:00, 120.10it/s]\n",
      " 50%|█████     | 4002/7931 [08:25<26:15,  2.49it/s]"
     ]
    },
    {
     "name": "stdout",
     "output_type": "stream",
     "text": [
      "120  tokens : [{'type': 'start'}, {'value': 10, 'type': 'pitch'}, {'value': 13, 'type': 'velocity'}, {'value': 22, 'type': 'pitch'}, {'value': 13, 'type': 'velocity'}, {'value': 53, 'type': 'pitch'}, {'value': 20, 'type': 'velocity'}, {'value': 63, 'type': 'pitch'}, {'value': 17, 'type': 'velocity'}, {'value': 65, 'type': 'pitch'}]\n"
     ]
    },
    {
     "name": "stderr",
     "output_type": "stream",
     "text": [
      "100%|██████████| 119/119 [00:01<00:00, 116.53it/s]]\n"
     ]
    },
    {
     "name": "stdout",
     "output_type": "stream",
     "text": [
      "120  tokens : [{'type': 'start'}, {'value': 15, 'type': 'pitch'}, {'value': 22, 'type': 'velocity'}, {'value': 51, 'type': 'pitch'}, {'value': 25, 'type': 'velocity'}, {'type': 'next_frame'}, {'value': 27, 'type': 'pitch'}, {'value': 16, 'type': 'velocity'}, {'type': 'next_frame'}, {'type': 'next_frame'}]\n"
     ]
    },
    {
     "name": "stderr",
     "output_type": "stream",
     "text": [
      "100%|██████████| 119/119 [00:01<00:00, 118.75it/s]\n",
      " 57%|█████▋    | 4501/7931 [09:25<26:17,  2.17it/s]"
     ]
    },
    {
     "name": "stdout",
     "output_type": "stream",
     "text": [
      "120  tokens : [{'type': 'start'}, {'value': 3, 'type': 'pitch'}, {'value': 18, 'type': 'velocity'}, {'value': 8, 'type': 'pitch'}, {'value': 17, 'type': 'velocity'}, {'value': 20, 'type': 'pitch'}, {'value': 18, 'type': 'velocity'}, {'value': 48, 'type': 'pitch'}, {'value': 23, 'type': 'velocity'}, {'value': 51, 'type': 'pitch'}]\n"
     ]
    },
    {
     "name": "stderr",
     "output_type": "stream",
     "text": [
      "100%|██████████| 119/119 [00:01<00:00, 113.91it/s]]\n"
     ]
    },
    {
     "name": "stdout",
     "output_type": "stream",
     "text": [
      "120  tokens : [{'type': 'start'}, {'type': 'next_frame'}, {'type': 'next_frame'}, {'value': 24, 'type': 'pitch'}, {'value': 19, 'type': 'velocity'}, {'value': 32, 'type': 'pitch'}, {'value': 21, 'type': 'velocity'}, {'value': 46, 'type': 'pitch'}, {'value': 23, 'type': 'velocity'}, {'type': 'next_frame'}]\n"
     ]
    },
    {
     "name": "stderr",
     "output_type": "stream",
     "text": [
      "100%|██████████| 119/119 [00:00<00:00, 124.66it/s]\n",
      " 63%|██████▎   | 5004/7931 [10:26<14:59,  3.25it/s]"
     ]
    },
    {
     "name": "stdout",
     "output_type": "stream",
     "text": [
      "120  tokens : [{'type': 'start'}, {'type': 'next_frame'}, {'value': 15, 'type': 'pitch'}, {'value': 21, 'type': 'velocity'}, {'type': 'next_frame'}, {'type': 'next_frame'}, {'value': 3, 'type': 'pitch'}, {'value': 19, 'type': 'velocity'}, {'type': 'next_frame'}, {'type': 'next_frame'}]\n"
     ]
    },
    {
     "name": "stderr",
     "output_type": "stream",
     "text": [
      "100%|██████████| 119/119 [00:00<00:00, 124.71it/s]]\n"
     ]
    },
    {
     "name": "stdout",
     "output_type": "stream",
     "text": [
      "120  tokens : [{'type': 'start'}, {'value': 24, 'type': 'pitch'}, {'value': 19, 'type': 'velocity'}, {'value': 50, 'type': 'pitch'}, {'value': 22, 'type': 'velocity'}, {'value': 58, 'type': 'pitch'}, {'value': 20, 'type': 'velocity'}, {'type': 'next_frame'}, {'type': 'next_frame'}, {'type': 'next_frame'}]\n"
     ]
    },
    {
     "name": "stderr",
     "output_type": "stream",
     "text": [
      "100%|██████████| 119/119 [00:00<00:00, 121.04it/s]\n",
      " 69%|██████▉   | 5503/7931 [11:25<12:06,  3.34it/s]"
     ]
    },
    {
     "name": "stdout",
     "output_type": "stream",
     "text": [
      "120  tokens : [{'type': 'start'}, {'value': 22, 'type': 'pitch'}, {'value': 20, 'type': 'velocity'}, {'value': 58, 'type': 'pitch'}, {'value': 19, 'type': 'velocity'}, {'value': 70, 'type': 'pitch'}, {'value': 20, 'type': 'velocity'}, {'type': 'next_frame'}, {'type': 'next_frame'}, {'value': 29, 'type': 'pitch'}]\n"
     ]
    },
    {
     "name": "stderr",
     "output_type": "stream",
     "text": [
      "100%|██████████| 119/119 [00:01<00:00, 112.35it/s]]\n"
     ]
    },
    {
     "name": "stdout",
     "output_type": "stream",
     "text": [
      "120  tokens : [{'type': 'start'}, {'value': 12, 'type': 'pitch'}, {'value': 23, 'type': 'velocity'}, {'value': 19, 'type': 'pitch'}, {'value': 22, 'type': 'velocity'}, {'type': 'next_frame'}, {'type': 'next_frame'}, {'type': 'next_frame'}, {'type': 'next_frame'}, {'value': 50, 'type': 'pitch'}]\n"
     ]
    },
    {
     "name": "stderr",
     "output_type": "stream",
     "text": [
      "100%|██████████| 119/119 [00:00<00:00, 139.49it/s]\n",
      " 76%|███████▌  | 6005/7931 [12:27<09:07,  3.52it/s]"
     ]
    },
    {
     "name": "stdout",
     "output_type": "stream",
     "text": [
      "120  tokens : [{'type': 'start'}, {'type': 'next_frame'}, {'value': 26, 'type': 'pitch'}, {'value': 20, 'type': 'velocity'}, {'type': 'next_frame'}, {'type': 'next_frame'}, {'value': 33, 'type': 'pitch'}, {'value': 21, 'type': 'velocity'}, {'value': 66, 'type': 'pitch'}, {'value': 21, 'type': 'velocity'}]\n"
     ]
    },
    {
     "name": "stderr",
     "output_type": "stream",
     "text": [
      "100%|██████████| 119/119 [00:00<00:00, 125.77it/s]]\n"
     ]
    },
    {
     "name": "stdout",
     "output_type": "stream",
     "text": [
      "120  tokens : [{'type': 'start'}, {'value': 19, 'type': 'pitch'}, {'value': 17, 'type': 'velocity'}, {'value': 31, 'type': 'pitch'}, {'value': 19, 'type': 'velocity'}, {'value': 58, 'type': 'pitch'}, {'value': 18, 'type': 'velocity'}, {'type': 'next_frame'}, {'type': 'next_frame'}, {'type': 'next_frame'}]\n"
     ]
    },
    {
     "name": "stderr",
     "output_type": "stream",
     "text": [
      "100%|██████████| 119/119 [00:01<00:00, 117.69it/s]\n",
      " 82%|████████▏ | 6503/7931 [13:26<06:15,  3.81it/s]"
     ]
    },
    {
     "name": "stdout",
     "output_type": "stream",
     "text": [
      "120  tokens : [{'type': 'start'}, {'value': 32, 'type': 'pitch'}, {'value': 11, 'type': 'velocity'}, {'value': 35, 'type': 'pitch'}, {'value': 13, 'type': 'velocity'}, {'value': 40, 'type': 'pitch'}, {'value': 12, 'type': 'velocity'}, {'value': 44, 'type': 'pitch'}, {'value': 14, 'type': 'velocity'}, {'type': 'next_frame'}]\n"
     ]
    },
    {
     "name": "stderr",
     "output_type": "stream",
     "text": [
      "100%|██████████| 119/119 [00:00<00:00, 123.94it/s]]\n"
     ]
    },
    {
     "name": "stdout",
     "output_type": "stream",
     "text": [
      "120  tokens : [{'type': 'start'}, {'value': 17, 'type': 'pitch'}, {'value': 20, 'type': 'velocity'}, {'value': 51, 'type': 'pitch'}, {'value': 22, 'type': 'velocity'}, {'value': 63, 'type': 'pitch'}, {'value': 21, 'type': 'velocity'}, {'value': 66, 'type': 'pitch'}, {'value': 21, 'type': 'velocity'}, {'type': 'next_frame'}]\n"
     ]
    },
    {
     "name": "stderr",
     "output_type": "stream",
     "text": [
      "100%|██████████| 119/119 [00:01<00:00, 110.57it/s]\n",
      " 88%|████████▊ | 7003/7931 [14:27<04:38,  3.34it/s]"
     ]
    },
    {
     "name": "stdout",
     "output_type": "stream",
     "text": [
      "120  tokens : [{'type': 'start'}, {'value': 29, 'type': 'pitch'}, {'value': 16, 'type': 'velocity'}, {'value': 41, 'type': 'pitch'}, {'value': 18, 'type': 'velocity'}, {'value': 44, 'type': 'pitch'}, {'value': 16, 'type': 'velocity'}, {'value': 48, 'type': 'pitch'}, {'value': 18, 'type': 'velocity'}, {'value': 55, 'type': 'pitch'}]\n"
     ]
    },
    {
     "name": "stderr",
     "output_type": "stream",
     "text": [
      "100%|██████████| 119/119 [00:00<00:00, 132.42it/s]]\n"
     ]
    },
    {
     "name": "stdout",
     "output_type": "stream",
     "text": [
      "120  tokens : [{'type': 'start'}, {'value': 5, 'type': 'pitch'}, {'value': 21, 'type': 'velocity'}, {'value': 17, 'type': 'pitch'}, {'value': 18, 'type': 'velocity'}, {'value': 52, 'type': 'pitch'}, {'value': 21, 'type': 'velocity'}, {'value': 63, 'type': 'pitch'}, {'value': 21, 'type': 'velocity'}, {'type': 'next_frame'}]\n"
     ]
    },
    {
     "name": "stderr",
     "output_type": "stream",
     "text": [
      "100%|██████████| 119/119 [00:00<00:00, 123.37it/s]\n",
      " 95%|█████████▍| 7504/7931 [15:28<01:53,  3.78it/s]"
     ]
    },
    {
     "name": "stdout",
     "output_type": "stream",
     "text": [
      "120  tokens : [{'type': 'start'}, {'value': 12, 'type': 'pitch'}, {'value': 21, 'type': 'velocity'}, {'value': 24, 'type': 'pitch'}, {'value': 25, 'type': 'velocity'}, {'value': 55, 'type': 'pitch'}, {'value': 23, 'type': 'velocity'}, {'value': 58, 'type': 'pitch'}, {'value': 22, 'type': 'velocity'}, {'value': 60, 'type': 'pitch'}]\n"
     ]
    },
    {
     "name": "stderr",
     "output_type": "stream",
     "text": [
      "100%|██████████| 7931/7931 [16:19<00:00,  8.10it/s]\n"
     ]
    }
   ],
   "source": [
    "# train\n",
    "import random\n",
    "from pianogen import gpu_temp_control\n",
    "from tqdm import tqdm\n",
    "temp_control = gpu_temp_control.GPUTempControl(64,3)\n",
    "\n",
    "vae.to(device)\n",
    "crit.to(device)\n",
    "\n",
    "vae.train()\n",
    "\n",
    "for epoch in range(from_epoch+1,12):\n",
    "    tq = tqdm(dl)\n",
    "    for i, batch in enumerate(tq):\n",
    "        B = batch['indices'].shape[0]\n",
    "        batch = {k:v.to(device) if isinstance(v, torch.Tensor) else v for k,v in batch.items()}\n",
    "        opt.zero_grad()\n",
    "        reconst, latent, latent_mean, latent_logvar, latent_loss = vae(batch['indices'], batch['pos'], return_latent = True)\n",
    "        reconst_loss = crit((reconst+batch['output_mask']).transpose(1,2), batch['indices'][:,1:])\n",
    "        loss = reconst_loss + latent_loss*1e-4\n",
    "\n",
    "        latent.retain_grad()\n",
    "\n",
    "        loss.backward()\n",
    "        opt.step()\n",
    "        temp_control.cooldown()\n",
    "                    \n",
    "        if torch.isnan(loss):\n",
    "            raise ValueError(\"Loss is NaN\")\n",
    "\n",
    "        writer.add_scalar('loss', loss.item(), epoch*len(dl)+i)\n",
    "        writer.add_scalar('latent_loss', latent_loss.item(), epoch*len(dl)+i)\n",
    "        writer.add_scalar('reconst_loss', reconst_loss.item(), epoch*len(dl)+i)\n",
    "        writer.add_scalar('gpu_temp', temp_control.get_temp(), epoch*len(dl)+i)\n",
    "        if i % 100 == 0:\n",
    "            accuracy = ((reconst.argmax(dim=-1) == batch['indices'][:,1:])[batch['indices'][:,1:]>0]).float().mean().item()\n",
    "            writer.add_scalar('accuracy', accuracy, epoch*len(dl)+i)\n",
    "\n",
    "            \n",
    "            writer.add_scalar('latent_grad', latent.grad.norm(1).mean().item(), epoch*len(dl)+i)\n",
    "            writer.add_scalar('confidence', get_confidence(latent_mean, latent_logvar.exp()), epoch*len(dl)+i)\n",
    "            \n",
    "            \n",
    "        if i % 500 == 0:\n",
    "\n",
    "            latent_samples = []\n",
    "            for _ in range(10):\n",
    "                latent_samples.append(vae.reparameterize(latent_mean, latent_logvar))\n",
    "            latent_samples = torch.cat(latent_samples, dim=0) # sample* B, 3\n",
    "            writer.add_embedding(tag='latent_samples',mat=latent_samples, metadata=[i for _ in range(10) for i in range(B) ],global_step=epoch*len(dl)+i)\n",
    "            \n",
    "            \n",
    "            pr = inference(torch.randn(1, 256).to(device), output_dir/f'{epoch}_{i}_random.mid', length=120)\n",
    "            writer.add_image('random', pr.to_tensor(start_time=0,end_time=32,padding=True).transpose(0,1).flip(0)/127, epoch*len(dl)+i,dataformats='HW')\n",
    "            \n",
    "            latent_mean, _ = vae.encoder.forward(batch['indices'][0:1,:-1], batch['pos'][0:1, :-1]) # use one sample from the batch as gt\n",
    "            pr = inference(latent_mean, output_dir/f'{epoch}_{i}_reconstruct.mid', length=120)\n",
    "            gt_pr = tokenizer.detokenize(tokenizer.idx_to_token_seq(batch['indices'][0].cpu().numpy()))\n",
    "            \n",
    "            writer.add_image('reconstruct', torch.cat([\n",
    "                pr.to_tensor(start_time=0,end_time=32,padding=True).transpose(0,1).flip(0)/127,\n",
    "                gt_pr.to_tensor(start_time=0,end_time=32,padding=True).transpose(0,1).flip(0)/127\n",
    "            ], dim=1), epoch*len(dl)+i,dataformats='HW')\n",
    "\n",
    "            \n",
    "            \n",
    "            gt_pr.to_midi(output_dir/f'{epoch}_{i}_gt.mid')\n",
    "\n",
    "\n",
    "    if epoch % 2 == 0:\n",
    "        torch.save({'model':vae.state_dict(), 'opt':opt.state_dict()}, checkpoint_dir/f'{epoch}.pt')\n",
    "    \n",
    "\n"
   ]
  },
  {
   "cell_type": "code",
   "execution_count": null,
   "metadata": {},
   "outputs": [
    {
     "name": "stderr",
     "output_type": "stream",
     "text": [
      "100%|██████████| 119/119 [00:00<00:00, 120.17it/s]\n"
     ]
    },
    {
     "name": "stdout",
     "output_type": "stream",
     "text": [
      "result: [{'type': 'start'}, {'value': 48, 'type': 'pitch'}, {'value': 17, 'type': 'velocity'}, {'value': 50, 'type': 'pitch'}, {'value': 20, 'type': 'velocity'}, {'type': 'next_frame'}, {'type': 'next_frame'}, {'value': 43, 'type': 'pitch'}, {'value': 22, 'type': 'velocity'}, {'type': 'next_frame'}]\n"
     ]
    },
    {
     "name": "stderr",
     "output_type": "stream",
     "text": [
      "100%|██████████| 119/119 [00:00<00:00, 122.15it/s]"
     ]
    },
    {
     "name": "stdout",
     "output_type": "stream",
     "text": [
      "result: [{'type': 'start'}, {'value': 48, 'type': 'pitch'}, {'value': 20, 'type': 'velocity'}, {'type': 'next_frame'}, {'type': 'next_frame'}, {'value': 56, 'type': 'pitch'}, {'value': 22, 'type': 'velocity'}, {'value': 55, 'type': 'pitch'}, {'value': 19, 'type': 'velocity'}, {'type': 'next_frame'}]\n"
     ]
    },
    {
     "name": "stderr",
     "output_type": "stream",
     "text": [
      "\n"
     ]
    },
    {
     "data": {
      "text/plain": [
       "ticks per beat: 480\n",
       "max tick: 0\n",
       "tempo changes: 1\n",
       "time sig: 0\n",
       "key sig: 0\n",
       "markers: 0\n",
       "lyrics: False\n",
       "instruments: 1"
      ]
     },
     "execution_count": 87,
     "metadata": {},
     "output_type": "execute_result"
    }
   ],
   "source": [
    "epoch = 103\n",
    "pr = inference(torch.randn(1, 256).to(device), output_dir/f'{epoch}_{i}_random.mid', length=120)\n",
    "writer.add_image('random', pr.to_tensor(start_time=0,end_time=32,padding=True).transpose(0,1).flip(0)/127, epoch*len(dl)+i,dataformats='HW')\n",
    "\n",
    "latent_mean, _ = vae.encoder.forward(batch['indices'][0:1,:-1], batch['pos'][0:1]) # use one sample from the batch as gt\n",
    "pr = inference(latent_mean, output_dir/f'{epoch}_{i}_reconstruct.mid', length=120)\n",
    "gt_pr = tokenizer.detokenize(tokenizer.idx_to_token_seq(batch['indices'][0].cpu().numpy()))\n",
    "\n",
    "writer.add_image('reconstruct', torch.cat([\n",
    "    pr.to_tensor(start_time=0,end_time=32,padding=True).transpose(0,1).flip(0)/127,\n",
    "    gt_pr.to_tensor(start_time=0,end_time=32,padding=True).transpose(0,1).flip(0)/127\n",
    "], dim=1), epoch*len(dl)+i,dataformats='HW')\n",
    "\n",
    "gt_pr.to_midi(output_dir/f'{epoch}_{i}_gt.mid')\n"
   ]
  },
  {
   "cell_type": "code",
   "execution_count": 40,
   "metadata": {},
   "outputs": [],
   "source": [
    "latent_samples = []\n",
    "for _ in range(10):\n",
    "    latent_samples.append(vae.reparameterize(latent_mean, latent_logvar))\n",
    "latent_samples = torch.cat(latent_samples, dim=0) # sample* B, 3"
   ]
  },
  {
   "cell_type": "code",
   "execution_count": 42,
   "metadata": {},
   "outputs": [
    {
     "data": {
      "text/plain": [
       "tensor([[-1.1917,  0.0366, -1.0714,  0.0948, -0.3487],\n",
       "        [-1.1166,  0.2881, -1.0398,  0.2607, -0.4465],\n",
       "        [-1.1434,  0.5788, -1.1253,  0.1737, -0.5332],\n",
       "        [-1.1688,  0.2292, -0.9887,  0.0315, -0.3839],\n",
       "        [-1.2348,  0.4171, -1.1208,  0.1297, -0.2743],\n",
       "        [-1.2404,  0.0980, -0.9191, -0.0189, -0.5713],\n",
       "        [-1.2087,  0.1900, -1.0677,  0.3634, -0.4844],\n",
       "        [-1.1739,  0.2977, -1.0868,  0.0230, -0.4286],\n",
       "        [-1.1888,  0.5571, -1.1140, -0.0559, -0.3093],\n",
       "        [-1.1917,  0.0499, -1.0520, -0.0226, -0.3615]], device='cuda:0',\n",
       "       grad_fn=<SliceBackward0>)"
      ]
     },
     "execution_count": 42,
     "metadata": {},
     "output_type": "execute_result"
    }
   ],
   "source": [
    "latent_samples[1::32,:5]"
   ]
  },
  {
   "cell_type": "code",
   "execution_count": 44,
   "metadata": {},
   "outputs": [
    {
     "data": {
      "text/plain": [
       "<matplotlib.collections.PathCollection at 0x1fd0d338f10>"
      ]
     },
     "execution_count": 44,
     "metadata": {},
     "output_type": "execute_result"
    },
    {
     "data": {
      "image/png": "[encoded data removed]",
      "text/plain": [
       "<Figure size 640x480 with 1 Axes>"
      ]
     },
     "metadata": {},
     "output_type": "display_data"
    }
   ],
   "source": [
    "import matplotlib.pyplot as plt\n",
    "latent_samples = latent_samples.detach().cpu()\n",
    "plt.scatter(latent_samples[2::32,5],latent_samples[2::32,6])\n",
    "plt.scatter(latent_samples[10::32,5],latent_samples[10::32,6])"
   ]
  },
  {
   "cell_type": "code",
   "execution_count": null,
   "metadata": {},
   "outputs": [],
   "source": [
    "latent_samples = []\n",
    "for _ in range(10):\n",
    "    latent_samples.append(vae.reparameterize(latent_mean, latent_logvar))\n",
    "latent_samples = torch.cat(latent_samples, dim=0) # sample* B, 3\n"
   ]
  },
  {
   "cell_type": "code",
   "execution_count": null,
   "metadata": {},
   "outputs": [
    {
     "data": {
      "text/plain": [
       "torch.Size([320, 256])"
      ]
     },
     "execution_count": 21,
     "metadata": {},
     "output_type": "execute_result"
    }
   ],
   "source": [
    "latent_samples[::32,:5]"
   ]
  },
  {
   "cell_type": "code",
   "execution_count": null,
   "metadata": {},
   "outputs": [
    {
     "name": "stderr",
     "output_type": "stream",
     "text": [
      "100%|██████████| 119/119 [00:00<00:00, 142.70it/s]"
     ]
    },
    {
     "name": "stdout",
     "output_type": "stream",
     "text": [
      "result: [{'type': 'start'}, {'value': 8, 'type': 'pitch'}, {'value': 20, 'type': 'velocity'}, {'value': 20, 'type': 'pitch'}, {'value': 21, 'type': 'velocity'}, {'type': 'next_frame'}, {'type': 'next_frame'}, {'type': 'next_frame'}, {'type': 'next_frame'}, {'type': 'next_frame'}]\n"
     ]
    },
    {
     "name": "stderr",
     "output_type": "stream",
     "text": [
      "\n"
     ]
    },
    {
     "data": {
      "text/plain": [
       "<matplotlib.image.AxesImage at 0x2a80b375910>"
      ]
     },
     "execution_count": 20,
     "metadata": {},
     "output_type": "execute_result"
    },
    {
     "data": {
      "image/png": "[encoded data removed]",
      "text/plain": [
       "<Figure size 640x480 with 1 Axes>"
      ]
     },
     "metadata": {},
     "output_type": "display_data"
    }
   ],
   "source": [
    "import matplotlib.pyplot as plt\n",
    "tokens, pr = inference(torch.randn(1, 256).to(device), output_dir/f'{epoch}_{i}_random.mid', length=120)\n",
    "plt.imshow(pr.to_tensor(start_time=0,end_time=32,padding=True).transpose(0,1).flip(0)/127)\n"
   ]
  },
  {
   "cell_type": "code",
   "execution_count": null,
   "metadata": {},
   "outputs": [
    {
     "data": {
      "text/plain": [
       "[{'type': 'start'},\n",
       " {'value': 27, 'type': 'pitch'},\n",
       " {'value': 15, 'type': 'velocity'},\n",
       " {'value': 39, 'type': 'pitch'},\n",
       " {'value': 19, 'type': 'velocity'},\n",
       " {'value': 46, 'type': 'pitch'},\n",
       " {'value': 17, 'type': 'velocity'},\n",
       " {'value': 51, 'type': 'pitch'},\n",
       " {'value': 21, 'type': 'velocity'},\n",
       " {'type': 'next_frame'},\n",
       " {'type': 'next_frame'},\n",
       " {'type': 'next_frame'},\n",
       " {'type': 'next_frame'},\n",
       " {'value': 34, 'type': 'pitch'},\n",
       " {'value': 15, 'type': 'velocity'},\n",
       " {'value': 51, 'type': 'pitch'},\n",
       " {'value': 22, 'type': 'velocity'},\n",
       " {'type': 'next_frame'},\n",
       " {'type': 'next_frame'},\n",
       " {'type': 'next_frame'},\n",
       " {'type': 'next_frame'},\n",
       " {'value': 39, 'type': 'pitch'},\n",
       " {'value': 16, 'type': 'velocity'},\n",
       " {'type': 'next_frame'},\n",
       " {'type': 'next_frame'},\n",
       " {'type': 'next_frame'},\n",
       " {'type': 'next_frame'},\n",
       " {'value': 27, 'type': 'pitch'},\n",
       " {'value': 13, 'type': 'velocity'},\n",
       " {'type': 'next_frame'},\n",
       " {'type': 'next_frame'},\n",
       " {'type': 'next_frame'},\n",
       " {'type': 'next_frame'},\n",
       " {'value': 31, 'type': 'pitch'},\n",
       " {'value': 15, 'type': 'velocity'},\n",
       " {'type': 'next_frame'},\n",
       " {'type': 'next_frame'},\n",
       " {'type': 'next_frame'},\n",
       " {'type': 'next_frame'},\n",
       " {'value': 27, 'type': 'pitch'},\n",
       " {'value': 12, 'type': 'velocity'},\n",
       " {'value': 31, 'type': 'pitch'},\n",
       " {'value': 16, 'type': 'velocity'},\n",
       " {'type': 'next_frame'},\n",
       " {'type': 'next_frame'},\n",
       " {'type': 'next_frame'},\n",
       " {'type': 'next_frame'},\n",
       " {'value': 39, 'type': 'pitch'},\n",
       " {'value': 20, 'type': 'velocity'},\n",
       " {'value': 51, 'type': 'pitch'},\n",
       " {'value': 20, 'type': 'velocity'},\n",
       " {'type': 'next_frame'},\n",
       " {'type': 'next_frame'},\n",
       " {'type': 'next_frame'},\n",
       " {'type': 'next_frame'},\n",
       " {'value': 27, 'type': 'pitch'},\n",
       " {'value': 14, 'type': 'velocity'},\n",
       " {'type': 'next_frame'},\n",
       " {'type': 'next_frame'},\n",
       " {'type': 'next_frame'},\n",
       " {'type': 'next_frame'},\n",
       " {'value': 31, 'type': 'pitch'},\n",
       " {'value': 12, 'type': 'velocity'},\n",
       " {'type': 'next_frame'},\n",
       " {'type': 'next_frame'},\n",
       " {'type': 'next_frame'},\n",
       " {'type': 'next_frame'},\n",
       " {'value': 34, 'type': 'pitch'},\n",
       " {'value': 15, 'type': 'velocity'},\n",
       " {'type': 'next_frame'},\n",
       " {'type': 'next_frame'},\n",
       " {'type': 'next_frame'},\n",
       " {'type': 'next_frame'},\n",
       " {'value': 39, 'type': 'pitch'},\n",
       " {'value': 20, 'type': 'velocity'},\n",
       " {'value': 50, 'type': 'pitch'},\n",
       " {'value': 20, 'type': 'velocity'},\n",
       " {'type': 'next_frame'},\n",
       " {'type': 'next_frame'},\n",
       " {'type': 'next_frame'},\n",
       " {'type': 'next_frame'},\n",
       " {'value': 27, 'type': 'pitch'},\n",
       " {'value': 17, 'type': 'velocity'},\n",
       " {'value': 51, 'type': 'pitch'},\n",
       " {'value': 23, 'type': 'velocity'},\n",
       " {'type': 'next_frame'},\n",
       " {'type': 'next_frame'},\n",
       " {'type': 'next_frame'},\n",
       " {'type': 'next_frame'},\n",
       " {'value': 27, 'type': 'pitch'},\n",
       " {'value': 13, 'type': 'velocity'},\n",
       " {'value': 43, 'type': 'pitch'},\n",
       " {'value': 18, 'type': 'velocity'},\n",
       " {'type': 'next_frame'},\n",
       " {'type': 'next_frame'},\n",
       " {'type': 'next_frame'},\n",
       " {'type': 'next_frame'},\n",
       " {'value': 26, 'type': 'pitch'},\n",
       " {'value': 15, 'type': 'velocity'},\n",
       " {'value': 31, 'type': 'pitch'},\n",
       " {'value': 15, 'type': 'velocity'},\n",
       " {'type': 'next_frame'},\n",
       " {'type': 'next_frame'},\n",
       " {'type': 'next_frame'},\n",
       " {'type': 'next_frame'},\n",
       " {'value': 19, 'type': 'pitch'},\n",
       " {'value': 14, 'type': 'velocity'},\n",
       " {'type': 'next_frame'},\n",
       " {'type': 'next_frame'},\n",
       " {'type': 'next_frame'},\n",
       " {'type': 'next_frame'},\n",
       " {'value': 31, 'type': 'pitch'},\n",
       " {'value': 17, 'type': 'velocity'},\n",
       " {'type': 'next_frame'},\n",
       " {'type': 'next_frame'},\n",
       " {'type': 'next_frame'},\n",
       " {'type': 'next_frame'},\n",
       " {'value': 36, 'type': 'pitch'},\n",
       " {'value': 16, 'type': 'velocity'},\n",
       " {'value': 51, 'type': 'pitch'}]"
      ]
     },
     "execution_count": 12,
     "metadata": {},
     "output_type": "execute_result"
    }
   ],
   "source": [
    "tokens"
   ]
  },
  {
   "cell_type": "code",
   "execution_count": null,
   "metadata": {},
   "outputs": [
    {
     "data": {
      "text/plain": [
       "tensor(0.8808)"
      ]
     },
     "execution_count": 147,
     "metadata": {},
     "output_type": "execute_result"
    }
   ],
   "source": [
    "mean = torch.zeros(2,2000)\n",
    "var = torch.ones(2,2000)\n",
    "mean[0,0] += 2\n",
    "get_confidence(mean, var)"
   ]
  },
  {
   "cell_type": "code",
   "execution_count": null,
   "metadata": {},
   "outputs": [
    {
     "data": {
      "text/plain": [
       "tensor(0.5097, device='cuda:0', grad_fn=<DivBackward0>)"
      ]
     },
     "execution_count": 149,
     "metadata": {},
     "output_type": "execute_result"
    }
   ],
   "source": [
    "get_confidence(latent_mean*500, latent_logvar.exp())"
   ]
  },
  {
   "cell_type": "code",
   "execution_count": null,
   "metadata": {},
   "outputs": [
    {
     "data": {
      "text/plain": [
       "[{'type': 'start'},\n",
       " {'value': 17, 'type': 'pitch'},\n",
       " {'value': 20, 'type': 'velocity'},\n",
       " {'value': 43, 'type': 'pitch'},\n",
       " {'value': 20, 'type': 'velocity'},\n",
       " {'type': 'next_frame'},\n",
       " {'type': 'next_frame'},\n",
       " {'type': 'next_frame'},\n",
       " {'type': 'next_frame'},\n",
       " {'value': 24, 'type': 'pitch'},\n",
       " {'value': 17, 'type': 'velocity'},\n",
       " {'value': 36, 'type': 'pitch'},\n",
       " {'value': 20, 'type': 'velocity'},\n",
       " {'type': 'next_frame'},\n",
       " {'type': 'next_frame'},\n",
       " {'type': 'next_frame'},\n",
       " {'type': 'next_frame'},\n",
       " {'value': 29, 'type': 'pitch'},\n",
       " {'value': 20, 'type': 'velocity'},\n",
       " {'value': 46, 'type': 'pitch'},\n",
       " {'value': 22, 'type': 'velocity'},\n",
       " {'type': 'next_frame'},\n",
       " {'type': 'next_frame'},\n",
       " {'type': 'next_frame'},\n",
       " {'type': 'next_frame'},\n",
       " {'value': 46, 'type': 'pitch'},\n",
       " {'value': 20, 'type': 'velocity'},\n",
       " {'type': 'next_frame'},\n",
       " {'type': 'next_frame'},\n",
       " {'value': 46, 'type': 'pitch'},\n",
       " {'value': 21, 'type': 'velocity'},\n",
       " {'type': 'next_frame'},\n",
       " {'type': 'next_frame'},\n",
       " {'type': 'next_frame'},\n",
       " {'type': 'next_frame'},\n",
       " {'type': 'next_frame'},\n",
       " {'type': 'next_frame'},\n",
       " {'value': 46, 'type': 'pitch'},\n",
       " {'value': 22, 'type': 'velocity'},\n",
       " {'type': 'next_frame'},\n",
       " {'type': 'next_frame'},\n",
       " {'type': 'next_frame'},\n",
       " {'type': 'next_frame'},\n",
       " {'value': 29, 'type': 'pitch'},\n",
       " {'value': 19, 'type': 'velocity'},\n",
       " {'value': 48, 'type': 'pitch'},\n",
       " {'value': 21, 'type': 'velocity'},\n",
       " {'type': 'next_frame'},\n",
       " {'type': 'next_frame'},\n",
       " {'type': 'next_frame'},\n",
       " {'type': 'next_frame'},\n",
       " {'value': 43, 'type': 'pitch'},\n",
       " {'value': 20, 'type': 'velocity'},\n",
       " {'type': 'next_frame'},\n",
       " {'type': 'next_frame'},\n",
       " {'type': 'next_frame'},\n",
       " {'type': 'next_frame'},\n",
       " {'type': 'pad'},\n",
       " {'type': 'pad'},\n",
       " {'type': 'pad'},\n",
       " {'type': 'pad'},\n",
       " {'type': 'pad'},\n",
       " {'type': 'pad'},\n",
       " {'type': 'pad'},\n",
       " {'type': 'pad'},\n",
       " {'type': 'pad'},\n",
       " {'type': 'pad'},\n",
       " {'type': 'pad'},\n",
       " {'type': 'pad'},\n",
       " {'type': 'pad'},\n",
       " {'type': 'pad'},\n",
       " {'type': 'pad'},\n",
       " {'type': 'pad'},\n",
       " {'type': 'pad'},\n",
       " {'type': 'pad'},\n",
       " {'type': 'pad'},\n",
       " {'type': 'pad'},\n",
       " {'type': 'pad'},\n",
       " {'type': 'pad'},\n",
       " {'type': 'pad'},\n",
       " {'type': 'pad'},\n",
       " {'type': 'pad'},\n",
       " {'type': 'pad'},\n",
       " {'type': 'pad'},\n",
       " {'type': 'pad'},\n",
       " {'type': 'pad'},\n",
       " {'type': 'pad'},\n",
       " {'type': 'pad'},\n",
       " {'type': 'pad'},\n",
       " {'type': 'pad'},\n",
       " {'type': 'pad'},\n",
       " {'type': 'pad'},\n",
       " {'type': 'pad'},\n",
       " {'type': 'pad'},\n",
       " {'type': 'pad'},\n",
       " {'type': 'pad'},\n",
       " {'type': 'pad'},\n",
       " {'type': 'pad'},\n",
       " {'type': 'pad'},\n",
       " {'type': 'pad'},\n",
       " {'type': 'pad'},\n",
       " {'type': 'pad'},\n",
       " {'type': 'pad'},\n",
       " {'type': 'pad'},\n",
       " {'type': 'pad'},\n",
       " {'type': 'pad'},\n",
       " {'type': 'pad'},\n",
       " {'type': 'pad'},\n",
       " {'type': 'pad'},\n",
       " {'type': 'pad'},\n",
       " {'type': 'pad'},\n",
       " {'type': 'pad'},\n",
       " {'type': 'pad'},\n",
       " {'type': 'pad'},\n",
       " {'type': 'pad'},\n",
       " {'type': 'pad'},\n",
       " {'type': 'pad'},\n",
       " {'type': 'pad'},\n",
       " {'type': 'pad'},\n",
       " {'type': 'pad'},\n",
       " {'type': 'pad'}]"
      ]
     },
     "execution_count": 175,
     "metadata": {},
     "output_type": "execute_result"
    }
   ],
   "source": [
    "tokenizer.idx_to_token_seq(batch['indices'][0].cpu().numpy())"
   ]
  },
  {
   "cell_type": "code",
   "execution_count": null,
   "metadata": {},
   "outputs": [],
   "source": []
  }
 ],
 "metadata": {
  "kernelspec": {
   "display_name": "gr",
   "language": "python",
   "name": "python3"
  },
  "language_info": {
   "codemirror_mode": {
    "name": "ipython",
    "version": 3
   },
   "file_extension": ".py",
   "mimetype": "text/x-python",
   "name": "python",
   "nbconvert_exporter": "python",
   "pygments_lexer": "ipython3",
   "version": "3.11.9"
  }
 },
 "nbformat": 4,
 "nbformat_minor": 2
}
